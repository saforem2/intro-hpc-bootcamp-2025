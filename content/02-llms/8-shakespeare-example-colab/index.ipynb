{
  "cells": [
    {
      "cell_type": "markdown",
      "metadata": {
        "id": "dc0e8ad8-a722-405c-a09e-fd25dfe2e2a5"
      },
      "source": [
        "# [`wordplay` 🎮 💬](https://github.com/saforem2/wordplay): Shakespeare\n",
        "\n",
        "✍️\n",
        "\n",
        "[Sam Foreman](https://samforeman.me)\n",
        "(\\[[ALCF](https://alcf.anl.gov/about/people/sam-foreman)\\](<https://alcf.anl.gov/about/people/sam-foreman>))  \n",
        "2025-07-22\n",
        "\n",
        "We will be using the [Shakespeare\n",
        "dataset](https://github.com/saforem2/wordplay/blob/main/data/shakespeare/readme.md)\n",
        "to train a (~ small) 10M param LLM *from scratch*.\n",
        "\n",
        "<img src=\"https://github.com/saforem2/wordplay/blob/main/assets/shakespeare.jpeg?raw=true\" width=\"45%\" align=\"center\" /><br>\n",
        "\n",
        "Image generated from\n",
        "[stabilityai/stable-diffusion](https://huggingface.co/spaces/stabilityai/stable-diffusion)\n",
        "on [🤗 Spaces](https://huggingface.co/spaces).<br>\n",
        "\n",
        "<details closed>\n",
        "\n",
        "<summary>\n",
        "\n",
        "Prompt Details\n",
        "\n",
        "</summary>\n",
        "\n",
        "<ul>\n",
        "\n",
        "<li>\n",
        "\n",
        "Prompt:\n",
        "\n",
        "</li>\n",
        "\n",
        "<t><q> Shakespeare himself, dressed in full Shakespearean garb, writing\n",
        "code at a modern workstation with multiple monitors, hacking away\n",
        "profusely, backlit, high quality for publication </q></t>\n",
        "\n",
        "<li>\n",
        "\n",
        "Negative Prompt:\n",
        "\n",
        "</li>\n",
        "\n",
        "<t><q> low quality, 3d, photorealistic, ugly </q></t>\n",
        "\n",
        "</ul>\n",
        "\n",
        "</details>\n",
        "\n",
        "## Install / Setup\n",
        "\n",
        "<b>Warning!</b><br>\n",
        "\n",
        "**IF YOU ARE EXECUTING ON GOOGLE COLAB**:\n",
        "\n",
        "You will need to restart your runtime (`Runtime` $\\rightarrow\\,$\n",
        "`Restart runtime`)  \n",
        "*after* executing the following cell:"
      ],
      "id": "dc0e8ad8-a722-405c-a09e-fd25dfe2e2a5"
    },
    {
      "cell_type": "code",
      "execution_count": 1,
      "metadata": {
        "quarto-private-1": {
          "key": "jupyter",
          "value": {
            "outputs_hidden": false,
            "source_hidden": false
          }
        },
        "id": "33ae8363",
        "outputId": "a105edc2-42d0-471e-db53-8cb72be32d7b",
        "colab": {
          "base_uri": "https://localhost:8080/"
        }
      },
      "outputs": [
        {
          "output_type": "stream",
          "name": "stdout",
          "text": [
            "/content/wordplay/src/wordplay/__init__.py\n",
            "Has wordplay installed. Nothing to do.\n"
          ]
        }
      ],
      "source": [
        "%%bash\n",
        "\n",
        "python3 -c 'import wordplay; print(wordplay.__file__)' 2> '/dev/null'\n",
        "\n",
        "if [[ $? -eq 0 ]]; then\n",
        "    echo \"Has wordplay installed. Nothing to do.\"\n",
        "else\n",
        "    echo \"Does not have wordplay installed. Installing...\"\n",
        "    git clone 'https://github.com/saforem2/wordplay'\n",
        "    python3 wordplay/data/shakespeare_char/prepare.py\n",
        "    python3 wordplay/data/shakespeare/prepare.py\n",
        "    python3 -m pip install deepspeed\n",
        "    python3 -m pip install -e wordplay\n",
        "fi"
      ],
      "id": "33ae8363"
    },
    {
      "cell_type": "markdown",
      "metadata": {
        "id": "b939e437-864a-4ccc-8ef8-c1780af52f8d"
      },
      "source": [
        "## Post Install\n",
        "\n",
        "If installed correctly, you should be able to:\n",
        "\n",
        "``` python\n",
        ">>> import wordplay\n",
        ">>> wordplay.__file__\n",
        "'/path/to/wordplay/src/wordplay/__init__.py'\n",
        "```"
      ],
      "id": "b939e437-864a-4ccc-8ef8-c1780af52f8d"
    },
    {
      "cell_type": "code",
      "execution_count": 2,
      "metadata": {
        "quarto-private-1": {
          "key": "jupyter",
          "value": {
            "outputs_hidden": false,
            "source_hidden": false
          }
        },
        "id": "f739bcef",
        "outputId": "c5337d8f-be05-4530-c937-3a5135f9d8de",
        "colab": {
          "base_uri": "https://localhost:8080/",
          "height": 68
        }
      },
      "outputs": [
        {
          "output_type": "display_data",
          "data": {
            "text/plain": [
              "[\u001b[2m2025-07-23 \u001b[0m\u001b[2m17:07:07,066155\u001b[0m][\u001b[32mI\u001b[0m][\u001b[3;36mezpz\u001b[0m/\u001b[34m__init__\u001b[0m\u001b[94m:\u001b[0m\u001b[35m265\u001b[0m\u001b[94m:\u001b[0m\u001b[3;92mezpz\u001b[0m]\u001b[37m \u001b[0mSetting logging level to \u001b[32m'INFO'\u001b[0m on \u001b[32m'RANK == 0'\u001b[0m\n"
            ],
            "text/html": [
              "<pre style=\"white-space:pre;overflow-x:auto;line-height:normal;font-family:Menlo,'DejaVu Sans Mono',consolas,'Courier New',monospace\">[<span style=\"color: #7f7f7f; text-decoration-color: #7f7f7f\">2025-07-23 17:07:07,066155</span>][<span style=\"color: #008000; text-decoration-color: #008000\">I</span>][<span style=\"color: #008080; text-decoration-color: #008080; font-style: italic\">ezpz</span>/<span style=\"color: #000080; text-decoration-color: #000080\">__init__</span><span style=\"color: #0000ff; text-decoration-color: #0000ff\">:</span><span style=\"color: #800080; text-decoration-color: #800080\">265</span><span style=\"color: #0000ff; text-decoration-color: #0000ff\">:</span><span style=\"color: #00ff00; text-decoration-color: #00ff00; font-style: italic\">ezpz</span>]<span style=\"color: #c0c0c0; text-decoration-color: #c0c0c0\"> </span>Setting logging level to <span style=\"color: #008000; text-decoration-color: #008000\">'INFO'</span> on <span style=\"color: #008000; text-decoration-color: #008000\">'RANK == 0'</span>\n",
              "</pre>\n"
            ]
          },
          "metadata": {}
        },
        {
          "output_type": "display_data",
          "data": {
            "text/plain": [
              "[\u001b[2m2025-07-23 \u001b[0m\u001b[2m17:07:07,072771\u001b[0m][\u001b[32mI\u001b[0m][\u001b[3;36mezpz\u001b[0m/\u001b[34m__init__\u001b[0m\u001b[94m:\u001b[0m\u001b[35m266\u001b[0m\u001b[94m:\u001b[0m\u001b[3;92mezpz\u001b[0m]\u001b[37m \u001b[0mSetting logging level to \u001b[32m'CRITICAL'\u001b[0m on all others \u001b[32m'RANK != 0'\u001b[0m\n"
            ],
            "text/html": [
              "<pre style=\"white-space:pre;overflow-x:auto;line-height:normal;font-family:Menlo,'DejaVu Sans Mono',consolas,'Courier New',monospace\">[<span style=\"color: #7f7f7f; text-decoration-color: #7f7f7f\">2025-07-23 17:07:07,072771</span>][<span style=\"color: #008000; text-decoration-color: #008000\">I</span>][<span style=\"color: #008080; text-decoration-color: #008080; font-style: italic\">ezpz</span>/<span style=\"color: #000080; text-decoration-color: #000080\">__init__</span><span style=\"color: #0000ff; text-decoration-color: #0000ff\">:</span><span style=\"color: #800080; text-decoration-color: #800080\">266</span><span style=\"color: #0000ff; text-decoration-color: #0000ff\">:</span><span style=\"color: #00ff00; text-decoration-color: #00ff00; font-style: italic\">ezpz</span>]<span style=\"color: #c0c0c0; text-decoration-color: #c0c0c0\"> </span>Setting logging level to <span style=\"color: #008000; text-decoration-color: #008000\">'CRITICAL'</span> on all others <span style=\"color: #008000; text-decoration-color: #008000\">'RANK != 0'</span>\n",
              "</pre>\n"
            ]
          },
          "metadata": {}
        },
        {
          "output_type": "display_data",
          "data": {
            "text/plain": [
              "[\u001b[2m2025-07-23 \u001b[0m\u001b[2m17:07:07,079375\u001b[0m][\u001b[32mI\u001b[0m][\u001b[3;36mtmp\u001b[0m/\u001b[34mipython-input-2-2338663768\u001b[0m\u001b[94m:\u001b[0m\u001b[35m17\u001b[0m\u001b[94m:\u001b[0m\u001b[3;92mezpz.log\u001b[0m]\u001b[37m \u001b[0m\u001b[35m/content/wordplay/src/wordplay/\u001b[0m\u001b[95m__init__.py\u001b[0m\n"
            ],
            "text/html": [
              "<pre style=\"white-space:pre;overflow-x:auto;line-height:normal;font-family:Menlo,'DejaVu Sans Mono',consolas,'Courier New',monospace\">[<span style=\"color: #7f7f7f; text-decoration-color: #7f7f7f\">2025-07-23 17:07:07,079375</span>][<span style=\"color: #008000; text-decoration-color: #008000\">I</span>][<span style=\"color: #008080; text-decoration-color: #008080; font-style: italic\">tmp</span>/<span style=\"color: #000080; text-decoration-color: #000080\">ipython-input-2-2338663768</span><span style=\"color: #0000ff; text-decoration-color: #0000ff\">:</span><span style=\"color: #800080; text-decoration-color: #800080\">17</span><span style=\"color: #0000ff; text-decoration-color: #0000ff\">:</span><span style=\"color: #00ff00; text-decoration-color: #00ff00; font-style: italic\">ezpz.log</span>]<span style=\"color: #c0c0c0; text-decoration-color: #c0c0c0\"> </span><span style=\"color: #800080; text-decoration-color: #800080\">/content/wordplay/src/wordplay/</span><span style=\"color: #ff00ff; text-decoration-color: #ff00ff\">__init__.py</span>\n",
              "</pre>\n"
            ]
          },
          "metadata": {}
        }
      ],
      "source": [
        "%load_ext autoreload\n",
        "%autoreload 2\n",
        "import os\n",
        "import sys\n",
        "import ezpz\n",
        "\n",
        "os.environ['COLORTERM'] = 'truecolor'\n",
        "if sys.platform == 'darwin':\n",
        "    # If running on MacOS:\n",
        "    # os.environ['PYTORCH_ENABLE_MPS_FALLBACK'] = '1'\n",
        "    os.environ['TORCH_DEVICE'] = 'cpu'\n",
        "# -----------------------------------------------\n",
        "\n",
        "logger = ezpz.get_logger()\n",
        "\n",
        "import wordplay\n",
        "logger.info(wordplay.__file__)"
      ],
      "id": "f739bcef"
    },
    {
      "cell_type": "markdown",
      "metadata": {
        "id": "2ef53b8d-f92b-4eeb-95e7-a3b7c30c29c9"
      },
      "source": [
        "## Build Trainer\n",
        "\n",
        "Explicitly, we:\n",
        "\n",
        "1.  `setup_torch(...)`\n",
        "2.  Build `cfg: DictConfig = get_config(...)`\n",
        "3.  Instnatiate `config: ExperimentConfig = instantiate(cfg)`\n",
        "4.  Build `trainer = Trainer(config)`"
      ],
      "id": "2ef53b8d-f92b-4eeb-95e7-a3b7c30c29c9"
    },
    {
      "cell_type": "code",
      "source": [
        "import wordplay\n",
        "print(wordplay.__file__)"
      ],
      "metadata": {
        "id": "L-mKYME1NT9z",
        "outputId": "888dec5b-249a-4757-a063-69d71e203e3d",
        "colab": {
          "base_uri": "https://localhost:8080/"
        }
      },
      "id": "L-mKYME1NT9z",
      "execution_count": 3,
      "outputs": [
        {
          "output_type": "stream",
          "name": "stdout",
          "text": [
            "/content/wordplay/src/wordplay/__init__.py\n"
          ]
        }
      ]
    },
    {
      "cell_type": "code",
      "execution_count": 4,
      "metadata": {
        "quarto-private-1": {
          "key": "jupyter",
          "value": {
            "outputs_hidden": false,
            "source_hidden": false
          }
        },
        "id": "bb9a568c",
        "outputId": "79d2b051-68b3-47e3-f34b-7dce82997618",
        "colab": {
          "base_uri": "https://localhost:8080/",
          "height": 340
        }
      },
      "outputs": [
        {
          "output_type": "display_data",
          "data": {
            "text/plain": [
              "[\u001b[2m2025-07-23 \u001b[0m\u001b[2m17:07:07,409437\u001b[0m][\u001b[32mI\u001b[0m][\u001b[3;36mwordplay\u001b[0m/\u001b[34mconfigs\u001b[0m\u001b[94m:\u001b[0m\u001b[35m81\u001b[0m]\u001b[37m \u001b[0mSetting HF_DATASETS_CACHE to \u001b[35m/content/wordplay/.cache/huggingface/\u001b[0m\u001b[95mdatasets\u001b[0m\n"
            ],
            "text/html": [
              "<pre style=\"white-space:pre;overflow-x:auto;line-height:normal;font-family:Menlo,'DejaVu Sans Mono',consolas,'Courier New',monospace\">[<span style=\"color: #7f7f7f; text-decoration-color: #7f7f7f\">2025-07-23 17:07:07,409437</span>][<span style=\"color: #008000; text-decoration-color: #008000\">I</span>][<span style=\"color: #008080; text-decoration-color: #008080; font-style: italic\">wordplay</span>/<span style=\"color: #000080; text-decoration-color: #000080\">configs</span><span style=\"color: #0000ff; text-decoration-color: #0000ff\">:</span><span style=\"color: #800080; text-decoration-color: #800080\">81</span>]<span style=\"color: #c0c0c0; text-decoration-color: #c0c0c0\"> </span>Setting HF_DATASETS_CACHE to <span style=\"color: #800080; text-decoration-color: #800080\">/content/wordplay/.cache/huggingface/</span><span style=\"color: #ff00ff; text-decoration-color: #ff00ff\">datasets</span>\n",
              "</pre>\n"
            ]
          },
          "metadata": {}
        },
        {
          "output_type": "display_data",
          "data": {
            "text/plain": [
              "[\u001b[2m2025-07-23 \u001b[0m\u001b[2m17:07:07,435593\u001b[0m][\u001b[32mI\u001b[0m][\u001b[3;36mezpz\u001b[0m/\u001b[34mdist\u001b[0m\u001b[94m:\u001b[0m\u001b[35m1159\u001b[0m]\u001b[37m \u001b[0mUsing \u001b[94mfw\u001b[0m=\u001b[32m'ddp'\u001b[0m with torch_\u001b[95m{\u001b[0mdevice,backend\u001b[95m}\u001b[0m= \u001b[95m{\u001b[0mcuda, nccl\u001b[95m}\u001b[0m\n"
            ],
            "text/html": [
              "<pre style=\"white-space:pre;overflow-x:auto;line-height:normal;font-family:Menlo,'DejaVu Sans Mono',consolas,'Courier New',monospace\">[<span style=\"color: #7f7f7f; text-decoration-color: #7f7f7f\">2025-07-23 17:07:07,435593</span>][<span style=\"color: #008000; text-decoration-color: #008000\">I</span>][<span style=\"color: #008080; text-decoration-color: #008080; font-style: italic\">ezpz</span>/<span style=\"color: #000080; text-decoration-color: #000080\">dist</span><span style=\"color: #0000ff; text-decoration-color: #0000ff\">:</span><span style=\"color: #800080; text-decoration-color: #800080\">1159</span>]<span style=\"color: #c0c0c0; text-decoration-color: #c0c0c0\"> </span>Using <span style=\"color: #0000ff; text-decoration-color: #0000ff\">fw</span>=<span style=\"color: #008000; text-decoration-color: #008000\">'ddp'</span> with torch_<span style=\"color: #ff00ff; text-decoration-color: #ff00ff\">{</span>device,backend<span style=\"color: #ff00ff; text-decoration-color: #ff00ff\">}</span>= <span style=\"color: #ff00ff; text-decoration-color: #ff00ff\">{</span>cuda, nccl<span style=\"color: #ff00ff; text-decoration-color: #ff00ff\">}</span>\n",
              "</pre>\n"
            ]
          },
          "metadata": {}
        },
        {
          "output_type": "display_data",
          "data": {
            "text/plain": [
              "[\u001b[2m2025-07-23 \u001b[0m\u001b[2m17:07:07,438150\u001b[0m][\u001b[32mI\u001b[0m][\u001b[3;36mezpz\u001b[0m/\u001b[34mdist\u001b[0m\u001b[94m:\u001b[0m\u001b[35m1026\u001b[0m]\u001b[37m \u001b[0mCaught \u001b[94mMASTER_PORT\u001b[0m=\u001b[1;36m41765\u001b[0m from environment!\n"
            ],
            "text/html": [
              "<pre style=\"white-space:pre;overflow-x:auto;line-height:normal;font-family:Menlo,'DejaVu Sans Mono',consolas,'Courier New',monospace\">[<span style=\"color: #7f7f7f; text-decoration-color: #7f7f7f\">2025-07-23 17:07:07,438150</span>][<span style=\"color: #008000; text-decoration-color: #008000\">I</span>][<span style=\"color: #008080; text-decoration-color: #008080; font-style: italic\">ezpz</span>/<span style=\"color: #000080; text-decoration-color: #000080\">dist</span><span style=\"color: #0000ff; text-decoration-color: #0000ff\">:</span><span style=\"color: #800080; text-decoration-color: #800080\">1026</span>]<span style=\"color: #c0c0c0; text-decoration-color: #c0c0c0\"> </span>Caught <span style=\"color: #0000ff; text-decoration-color: #0000ff\">MASTER_PORT</span>=<span style=\"color: #008080; text-decoration-color: #008080; font-weight: bold\">41765</span> from environment!\n",
              "</pre>\n"
            ]
          },
          "metadata": {}
        },
        {
          "output_type": "display_data",
          "data": {
            "text/plain": [
              "[\u001b[2m2025-07-23 \u001b[0m\u001b[2m17:07:07,440989\u001b[0m][\u001b[32mI\u001b[0m][\u001b[3;36mezpz\u001b[0m/\u001b[34mdist\u001b[0m\u001b[94m:\u001b[0m\u001b[35m1042\u001b[0m]\u001b[37m \u001b[0mUsing torch.distributed.init_process_group with\n",
              "- \u001b[94mmaster_addr\u001b[0m=\u001b[32m'588b3fb1cb70'\u001b[0m\n",
              "- \u001b[94mmaster_port\u001b[0m=\u001b[32m'41765'\u001b[0m\n",
              "- \u001b[94mworld_size\u001b[0m=\u001b[1;36m1\u001b[0m\n",
              "- \u001b[94mrank\u001b[0m=\u001b[1;36m0\u001b[0m\n",
              "- \u001b[94mlocal_rank\u001b[0m=\u001b[1;36m0\u001b[0m\n",
              "- \u001b[94mtimeout\u001b[0m=\u001b[1;35mdatetime\u001b[0m\u001b[1;35m.timedelta\u001b[0m\u001b[95m(\u001b[0m\u001b[94mseconds\u001b[0m=\u001b[1;36m3600\u001b[0m\u001b[95m)\u001b[0m\n",
              "- \u001b[94mbackend\u001b[0m=\u001b[32m'nccl'\u001b[0m\n"
            ],
            "text/html": [
              "<pre style=\"white-space:pre;overflow-x:auto;line-height:normal;font-family:Menlo,'DejaVu Sans Mono',consolas,'Courier New',monospace\">[<span style=\"color: #7f7f7f; text-decoration-color: #7f7f7f\">2025-07-23 17:07:07,440989</span>][<span style=\"color: #008000; text-decoration-color: #008000\">I</span>][<span style=\"color: #008080; text-decoration-color: #008080; font-style: italic\">ezpz</span>/<span style=\"color: #000080; text-decoration-color: #000080\">dist</span><span style=\"color: #0000ff; text-decoration-color: #0000ff\">:</span><span style=\"color: #800080; text-decoration-color: #800080\">1042</span>]<span style=\"color: #c0c0c0; text-decoration-color: #c0c0c0\"> </span>Using torch.distributed.init_process_group with\n",
              "- <span style=\"color: #0000ff; text-decoration-color: #0000ff\">master_addr</span>=<span style=\"color: #008000; text-decoration-color: #008000\">'588b3fb1cb70'</span>\n",
              "- <span style=\"color: #0000ff; text-decoration-color: #0000ff\">master_port</span>=<span style=\"color: #008000; text-decoration-color: #008000\">'41765'</span>\n",
              "- <span style=\"color: #0000ff; text-decoration-color: #0000ff\">world_size</span>=<span style=\"color: #008080; text-decoration-color: #008080; font-weight: bold\">1</span>\n",
              "- <span style=\"color: #0000ff; text-decoration-color: #0000ff\">rank</span>=<span style=\"color: #008080; text-decoration-color: #008080; font-weight: bold\">0</span>\n",
              "- <span style=\"color: #0000ff; text-decoration-color: #0000ff\">local_rank</span>=<span style=\"color: #008080; text-decoration-color: #008080; font-weight: bold\">0</span>\n",
              "- <span style=\"color: #0000ff; text-decoration-color: #0000ff\">timeout</span>=<span style=\"color: #800080; text-decoration-color: #800080; font-weight: bold\">datetime.timedelta</span><span style=\"color: #ff00ff; text-decoration-color: #ff00ff\">(</span><span style=\"color: #0000ff; text-decoration-color: #0000ff\">seconds</span>=<span style=\"color: #008080; text-decoration-color: #008080; font-weight: bold\">3600</span><span style=\"color: #ff00ff; text-decoration-color: #ff00ff\">)</span>\n",
              "- <span style=\"color: #0000ff; text-decoration-color: #0000ff\">backend</span>=<span style=\"color: #008000; text-decoration-color: #008000\">'nccl'</span>\n",
              "</pre>\n"
            ]
          },
          "metadata": {}
        },
        {
          "output_type": "display_data",
          "data": {
            "text/plain": [
              "[\u001b[2m2025-07-23 \u001b[0m\u001b[2m17:07:07,447590\u001b[0m][\u001b[32mI\u001b[0m][\u001b[3;36mezpz\u001b[0m/\u001b[34mdist\u001b[0m\u001b[94m:\u001b[0m\u001b[35m759\u001b[0m]\u001b[37m \u001b[0mCalling torch.distributed.init_process_group_with: \u001b[94mrank\u001b[0m=\u001b[1;36m0\u001b[0m \u001b[94mworld_size\u001b[0m=\u001b[1;36m1\u001b[0m \u001b[94mbackend\u001b[0m=\u001b[35mnccl\u001b[0m\n"
            ],
            "text/html": [
              "<pre style=\"white-space:pre;overflow-x:auto;line-height:normal;font-family:Menlo,'DejaVu Sans Mono',consolas,'Courier New',monospace\">[<span style=\"color: #7f7f7f; text-decoration-color: #7f7f7f\">2025-07-23 17:07:07,447590</span>][<span style=\"color: #008000; text-decoration-color: #008000\">I</span>][<span style=\"color: #008080; text-decoration-color: #008080; font-style: italic\">ezpz</span>/<span style=\"color: #000080; text-decoration-color: #000080\">dist</span><span style=\"color: #0000ff; text-decoration-color: #0000ff\">:</span><span style=\"color: #800080; text-decoration-color: #800080\">759</span>]<span style=\"color: #c0c0c0; text-decoration-color: #c0c0c0\"> </span>Calling torch.distributed.init_process_group_with: <span style=\"color: #0000ff; text-decoration-color: #0000ff\">rank</span>=<span style=\"color: #008080; text-decoration-color: #008080; font-weight: bold\">0</span> <span style=\"color: #0000ff; text-decoration-color: #0000ff\">world_size</span>=<span style=\"color: #008080; text-decoration-color: #008080; font-weight: bold\">1</span> <span style=\"color: #0000ff; text-decoration-color: #0000ff\">backend</span>=<span style=\"color: #800080; text-decoration-color: #800080\">nccl</span>\n",
              "</pre>\n"
            ]
          },
          "metadata": {}
        },
        {
          "output_type": "display_data",
          "data": {
            "text/plain": [
              "[\u001b[2m2025-07-23 \u001b[0m\u001b[2m17:07:07,462711\u001b[0m][\u001b[32mI\u001b[0m][\u001b[3;36mezpz\u001b[0m/\u001b[34mdist\u001b[0m\u001b[94m:\u001b[0m\u001b[35m1377\u001b[0m]\u001b[37m \u001b[0mUsing \u001b[94mdevice\u001b[0m=\u001b[32m'cuda'\u001b[0m with \u001b[94mbackend\u001b[0m=\u001b[32m'nccl'\u001b[0m + \u001b[32m'nccl'\u001b[0m for distributed training.\n"
            ],
            "text/html": [
              "<pre style=\"white-space:pre;overflow-x:auto;line-height:normal;font-family:Menlo,'DejaVu Sans Mono',consolas,'Courier New',monospace\">[<span style=\"color: #7f7f7f; text-decoration-color: #7f7f7f\">2025-07-23 17:07:07,462711</span>][<span style=\"color: #008000; text-decoration-color: #008000\">I</span>][<span style=\"color: #008080; text-decoration-color: #008080; font-style: italic\">ezpz</span>/<span style=\"color: #000080; text-decoration-color: #000080\">dist</span><span style=\"color: #0000ff; text-decoration-color: #0000ff\">:</span><span style=\"color: #800080; text-decoration-color: #800080\">1377</span>]<span style=\"color: #c0c0c0; text-decoration-color: #c0c0c0\"> </span>Using <span style=\"color: #0000ff; text-decoration-color: #0000ff\">device</span>=<span style=\"color: #008000; text-decoration-color: #008000\">'cuda'</span> with <span style=\"color: #0000ff; text-decoration-color: #0000ff\">backend</span>=<span style=\"color: #008000; text-decoration-color: #008000\">'nccl'</span> + <span style=\"color: #008000; text-decoration-color: #008000\">'nccl'</span> for distributed training.\n",
              "</pre>\n"
            ]
          },
          "metadata": {}
        },
        {
          "output_type": "display_data",
          "data": {
            "text/plain": [
              "[\u001b[2m2025-07-23 \u001b[0m\u001b[2m17:07:07,465933\u001b[0m][\u001b[32mI\u001b[0m][\u001b[3;36mezpz\u001b[0m/\u001b[34mdist\u001b[0m\u001b[94m:\u001b[0m\u001b[35m1422\u001b[0m]\u001b[37m \u001b[0m\u001b[95m[\u001b[0m\u001b[32m'588b3fb1cb70'\u001b[0m\u001b[95m]\u001b[0m\u001b[95m[\u001b[0m\u001b[1;36m0\u001b[0m/\u001b[1;36m0\u001b[0m\u001b[95m]\u001b[0m \n"
            ],
            "text/html": [
              "<pre style=\"white-space:pre;overflow-x:auto;line-height:normal;font-family:Menlo,'DejaVu Sans Mono',consolas,'Courier New',monospace\">[<span style=\"color: #7f7f7f; text-decoration-color: #7f7f7f\">2025-07-23 17:07:07,465933</span>][<span style=\"color: #008000; text-decoration-color: #008000\">I</span>][<span style=\"color: #008080; text-decoration-color: #008080; font-style: italic\">ezpz</span>/<span style=\"color: #000080; text-decoration-color: #000080\">dist</span><span style=\"color: #0000ff; text-decoration-color: #0000ff\">:</span><span style=\"color: #800080; text-decoration-color: #800080\">1422</span>]<span style=\"color: #c0c0c0; text-decoration-color: #c0c0c0\"> </span><span style=\"color: #ff00ff; text-decoration-color: #ff00ff\">[</span><span style=\"color: #008000; text-decoration-color: #008000\">'588b3fb1cb70'</span><span style=\"color: #ff00ff; text-decoration-color: #ff00ff\">][</span><span style=\"color: #008080; text-decoration-color: #008080; font-weight: bold\">0</span>/<span style=\"color: #008080; text-decoration-color: #008080; font-weight: bold\">0</span><span style=\"color: #ff00ff; text-decoration-color: #ff00ff\">]</span> \n",
              "</pre>\n"
            ]
          },
          "metadata": {}
        },
        {
          "output_type": "display_data",
          "data": {
            "text/plain": [
              "[\u001b[2m2025-07-23 \u001b[0m\u001b[2m17:07:08,215788\u001b[0m][\u001b[32mI\u001b[0m][\u001b[3;36mwordplay\u001b[0m/\u001b[34mconfigs\u001b[0m\u001b[94m:\u001b[0m\u001b[35m317\u001b[0m]\u001b[37m \u001b[0mLoading val from \u001b[35m/content/wordplay/data/shakespeare_char/\u001b[0m\u001b[95mval.bin\u001b[0m\n"
            ],
            "text/html": [
              "<pre style=\"white-space:pre;overflow-x:auto;line-height:normal;font-family:Menlo,'DejaVu Sans Mono',consolas,'Courier New',monospace\">[<span style=\"color: #7f7f7f; text-decoration-color: #7f7f7f\">2025-07-23 17:07:08,215788</span>][<span style=\"color: #008000; text-decoration-color: #008000\">I</span>][<span style=\"color: #008080; text-decoration-color: #008080; font-style: italic\">wordplay</span>/<span style=\"color: #000080; text-decoration-color: #000080\">configs</span><span style=\"color: #0000ff; text-decoration-color: #0000ff\">:</span><span style=\"color: #800080; text-decoration-color: #800080\">317</span>]<span style=\"color: #c0c0c0; text-decoration-color: #c0c0c0\"> </span>Loading val from <span style=\"color: #800080; text-decoration-color: #800080\">/content/wordplay/data/shakespeare_char/</span><span style=\"color: #ff00ff; text-decoration-color: #ff00ff\">val.bin</span>\n",
              "</pre>\n"
            ]
          },
          "metadata": {}
        },
        {
          "output_type": "display_data",
          "data": {
            "text/plain": [
              "[\u001b[2m2025-07-23 \u001b[0m\u001b[2m17:07:08,221368\u001b[0m][\u001b[32mI\u001b[0m][\u001b[3;36mwordplay\u001b[0m/\u001b[34mconfigs\u001b[0m\u001b[94m:\u001b[0m\u001b[35m317\u001b[0m]\u001b[37m \u001b[0mLoading train from \u001b[35m/content/wordplay/data/shakespeare_char/\u001b[0m\u001b[95mtrain.bin\u001b[0m\n"
            ],
            "text/html": [
              "<pre style=\"white-space:pre;overflow-x:auto;line-height:normal;font-family:Menlo,'DejaVu Sans Mono',consolas,'Courier New',monospace\">[<span style=\"color: #7f7f7f; text-decoration-color: #7f7f7f\">2025-07-23 17:07:08,221368</span>][<span style=\"color: #008000; text-decoration-color: #008000\">I</span>][<span style=\"color: #008080; text-decoration-color: #008080; font-style: italic\">wordplay</span>/<span style=\"color: #000080; text-decoration-color: #000080\">configs</span><span style=\"color: #0000ff; text-decoration-color: #0000ff\">:</span><span style=\"color: #800080; text-decoration-color: #800080\">317</span>]<span style=\"color: #c0c0c0; text-decoration-color: #c0c0c0\"> </span>Loading train from <span style=\"color: #800080; text-decoration-color: #800080\">/content/wordplay/data/shakespeare_char/</span><span style=\"color: #ff00ff; text-decoration-color: #ff00ff\">train.bin</span>\n",
              "</pre>\n"
            ]
          },
          "metadata": {}
        },
        {
          "output_type": "display_data",
          "data": {
            "text/plain": [
              "[\u001b[2m2025-07-23 \u001b[0m\u001b[2m17:07:08,226696\u001b[0m][\u001b[32mI\u001b[0m][\u001b[3;36mwordplay\u001b[0m/\u001b[34mconfigs\u001b[0m\u001b[94m:\u001b[0m\u001b[35m442\u001b[0m]\u001b[37m \u001b[0mTokens per iteration: \u001b[1;36m8\u001b[0m,\u001b[1;36m192\u001b[0m\n"
            ],
            "text/html": [
              "<pre style=\"white-space:pre;overflow-x:auto;line-height:normal;font-family:Menlo,'DejaVu Sans Mono',consolas,'Courier New',monospace\">[<span style=\"color: #7f7f7f; text-decoration-color: #7f7f7f\">2025-07-23 17:07:08,226696</span>][<span style=\"color: #008000; text-decoration-color: #008000\">I</span>][<span style=\"color: #008080; text-decoration-color: #008080; font-style: italic\">wordplay</span>/<span style=\"color: #000080; text-decoration-color: #000080\">configs</span><span style=\"color: #0000ff; text-decoration-color: #0000ff\">:</span><span style=\"color: #800080; text-decoration-color: #800080\">442</span>]<span style=\"color: #c0c0c0; text-decoration-color: #c0c0c0\"> </span>Tokens per iteration: <span style=\"color: #008080; text-decoration-color: #008080; font-weight: bold\">8</span>,<span style=\"color: #008080; text-decoration-color: #008080; font-weight: bold\">192</span>\n",
              "</pre>\n"
            ]
          },
          "metadata": {}
        },
        {
          "output_type": "display_data",
          "data": {
            "text/plain": [
              "[\u001b[2m2025-07-23 \u001b[0m\u001b[2m17:07:08,231221\u001b[0m][\u001b[32mI\u001b[0m][\u001b[3;36mwordplay\u001b[0m/\u001b[34mconfigs\u001b[0m\u001b[94m:\u001b[0m\u001b[35m465\u001b[0m]\u001b[37m \u001b[0mUsing self.\u001b[94mptdtype\u001b[0m=\u001b[35mtorch\u001b[0m.bfloat16 on self.\u001b[94mdevice_type\u001b[0m=\u001b[32m'cuda'\u001b[0m\n"
            ],
            "text/html": [
              "<pre style=\"white-space:pre;overflow-x:auto;line-height:normal;font-family:Menlo,'DejaVu Sans Mono',consolas,'Courier New',monospace\">[<span style=\"color: #7f7f7f; text-decoration-color: #7f7f7f\">2025-07-23 17:07:08,231221</span>][<span style=\"color: #008000; text-decoration-color: #008000\">I</span>][<span style=\"color: #008080; text-decoration-color: #008080; font-style: italic\">wordplay</span>/<span style=\"color: #000080; text-decoration-color: #000080\">configs</span><span style=\"color: #0000ff; text-decoration-color: #0000ff\">:</span><span style=\"color: #800080; text-decoration-color: #800080\">465</span>]<span style=\"color: #c0c0c0; text-decoration-color: #c0c0c0\"> </span>Using self.<span style=\"color: #0000ff; text-decoration-color: #0000ff\">ptdtype</span>=<span style=\"color: #800080; text-decoration-color: #800080\">torch</span>.bfloat16 on self.<span style=\"color: #0000ff; text-decoration-color: #0000ff\">device_type</span>=<span style=\"color: #008000; text-decoration-color: #008000\">'cuda'</span>\n",
              "</pre>\n"
            ]
          },
          "metadata": {}
        },
        {
          "output_type": "display_data",
          "data": {
            "text/plain": [
              "[\u001b[2m2025-07-23 \u001b[0m\u001b[2m17:07:08,234866\u001b[0m][\u001b[32mI\u001b[0m][\u001b[3;36mwordplay\u001b[0m/\u001b[34mconfigs\u001b[0m\u001b[94m:\u001b[0m\u001b[35m471\u001b[0m]\u001b[37m \u001b[0mInitializing a new model from scratch\n"
            ],
            "text/html": [
              "<pre style=\"white-space:pre;overflow-x:auto;line-height:normal;font-family:Menlo,'DejaVu Sans Mono',consolas,'Courier New',monospace\">[<span style=\"color: #7f7f7f; text-decoration-color: #7f7f7f\">2025-07-23 17:07:08,234866</span>][<span style=\"color: #008000; text-decoration-color: #008000\">I</span>][<span style=\"color: #008080; text-decoration-color: #008080; font-style: italic\">wordplay</span>/<span style=\"color: #000080; text-decoration-color: #000080\">configs</span><span style=\"color: #0000ff; text-decoration-color: #0000ff\">:</span><span style=\"color: #800080; text-decoration-color: #800080\">471</span>]<span style=\"color: #c0c0c0; text-decoration-color: #c0c0c0\"> </span>Initializing a new model from scratch\n",
              "</pre>\n"
            ]
          },
          "metadata": {}
        }
      ],
      "source": [
        "import os\n",
        "import numpy as np\n",
        "from ezpz import setup\n",
        "from hydra.utils import instantiate\n",
        "from wordplay.configs import get_config, PROJECT_ROOT\n",
        "from wordplay.trainer import Trainer\n",
        "\n",
        "HF_DATASETS_CACHE = PROJECT_ROOT.joinpath('.cache', 'huggingface')\n",
        "HF_DATASETS_CACHE.mkdir(exist_ok=True, parents=True)\n",
        "\n",
        "os.environ['HF_DATASETS_CACHE'] = HF_DATASETS_CACHE.as_posix()\n",
        "\n",
        "BACKEND = 'DDP'\n",
        "\n",
        "rank = setup(\n",
        "    framework='pytorch',\n",
        "    backend=BACKEND,\n",
        "    seed=1234,\n",
        ")\n",
        "\n",
        "cfg = get_config(\n",
        "    [\n",
        "        'data=shakespeare',\n",
        "        'model=shakespeare',\n",
        "        'model.batch_size=8',\n",
        "        'model.block_size=1024',\n",
        "        'optimizer=shakespeare',\n",
        "        'train=shakespeare',\n",
        "        f'train.backend={BACKEND}',\n",
        "        'train.compile=false',\n",
        "        'train.dtype=bfloat16',\n",
        "        'train.max_iters=1000',\n",
        "        'train.log_interval=10',\n",
        "        'train.eval_interval=100',\n",
        "    ]\n",
        ")\n",
        "config = instantiate(cfg)"
      ],
      "id": "bb9a568c"
    },
    {
      "cell_type": "markdown",
      "metadata": {
        "id": "8bc4629d-254c-4cdc-9c6d-4d4310ccfc50"
      },
      "source": [
        "### Build `Trainer` object"
      ],
      "id": "8bc4629d-254c-4cdc-9c6d-4d4310ccfc50"
    },
    {
      "cell_type": "code",
      "execution_count": 5,
      "metadata": {
        "quarto-private-1": {
          "key": "jupyter",
          "value": {
            "outputs_hidden": false,
            "source_hidden": false
          }
        },
        "id": "ed489145",
        "outputId": "450ba1d2-1823-45af-fbf4-b53537504137",
        "colab": {
          "base_uri": "https://localhost:8080/",
          "height": 1000
        }
      },
      "outputs": [
        {
          "output_type": "display_data",
          "data": {
            "text/plain": [
              "[\u001b[2m2025-07-23 \u001b[0m\u001b[2m17:07:08,315621\u001b[0m][\u001b[32mI\u001b[0m][\u001b[3;36mwordplay\u001b[0m/\u001b[34mtrainer\u001b[0m\u001b[94m:\u001b[0m\u001b[35m248\u001b[0m]\u001b[37m \u001b[0mInitializing a new model from scratch\n"
            ],
            "text/html": [
              "<pre style=\"white-space:pre;overflow-x:auto;line-height:normal;font-family:Menlo,'DejaVu Sans Mono',consolas,'Courier New',monospace\">[<span style=\"color: #7f7f7f; text-decoration-color: #7f7f7f\">2025-07-23 17:07:08,315621</span>][<span style=\"color: #008000; text-decoration-color: #008000\">I</span>][<span style=\"color: #008080; text-decoration-color: #008080; font-style: italic\">wordplay</span>/<span style=\"color: #000080; text-decoration-color: #000080\">trainer</span><span style=\"color: #0000ff; text-decoration-color: #0000ff\">:</span><span style=\"color: #800080; text-decoration-color: #800080\">248</span>]<span style=\"color: #c0c0c0; text-decoration-color: #c0c0c0\"> </span>Initializing a new model from scratch\n",
              "</pre>\n"
            ]
          },
          "metadata": {}
        },
        {
          "output_type": "display_data",
          "data": {
            "text/plain": [
              "[\u001b[2m2025-07-23 \u001b[0m\u001b[2m17:07:08,654618\u001b[0m][\u001b[32mI\u001b[0m][\u001b[3;36mwordplay\u001b[0m/\u001b[34mmodel\u001b[0m\u001b[94m:\u001b[0m\u001b[35m255\u001b[0m]\u001b[37m \u001b[0mnumber of parameters: \u001b[1;36m10.\u001b[0m65M\n"
            ],
            "text/html": [
              "<pre style=\"white-space:pre;overflow-x:auto;line-height:normal;font-family:Menlo,'DejaVu Sans Mono',consolas,'Courier New',monospace\">[<span style=\"color: #7f7f7f; text-decoration-color: #7f7f7f\">2025-07-23 17:07:08,654618</span>][<span style=\"color: #008000; text-decoration-color: #008000\">I</span>][<span style=\"color: #008080; text-decoration-color: #008080; font-style: italic\">wordplay</span>/<span style=\"color: #000080; text-decoration-color: #000080\">model</span><span style=\"color: #0000ff; text-decoration-color: #0000ff\">:</span><span style=\"color: #800080; text-decoration-color: #800080\">255</span>]<span style=\"color: #c0c0c0; text-decoration-color: #c0c0c0\"> </span>number of parameters: <span style=\"color: #008080; text-decoration-color: #008080; font-weight: bold\">10.</span>65M\n",
              "</pre>\n"
            ]
          },
          "metadata": {}
        },
        {
          "output_type": "display_data",
          "data": {
            "text/plain": [
              "[\u001b[2m2025-07-23 \u001b[0m\u001b[2m17:07:08,675995\u001b[0m][\u001b[32mI\u001b[0m][\u001b[3;36mwordplay\u001b[0m/\u001b[34mtrainer\u001b[0m\u001b[94m:\u001b[0m\u001b[35m266\u001b[0m]\u001b[37m \u001b[0mModel size: \u001b[94mnum_params\u001b[0m=\u001b[1;36m10646784\u001b[0m\n"
            ],
            "text/html": [
              "<pre style=\"white-space:pre;overflow-x:auto;line-height:normal;font-family:Menlo,'DejaVu Sans Mono',consolas,'Courier New',monospace\">[<span style=\"color: #7f7f7f; text-decoration-color: #7f7f7f\">2025-07-23 17:07:08,675995</span>][<span style=\"color: #008000; text-decoration-color: #008000\">I</span>][<span style=\"color: #008080; text-decoration-color: #008080; font-style: italic\">wordplay</span>/<span style=\"color: #000080; text-decoration-color: #000080\">trainer</span><span style=\"color: #0000ff; text-decoration-color: #0000ff\">:</span><span style=\"color: #800080; text-decoration-color: #800080\">266</span>]<span style=\"color: #c0c0c0; text-decoration-color: #c0c0c0\"> </span>Model size: <span style=\"color: #0000ff; text-decoration-color: #0000ff\">num_params</span>=<span style=\"color: #008080; text-decoration-color: #008080; font-weight: bold\">10646784</span>\n",
              "</pre>\n"
            ]
          },
          "metadata": {}
        },
        {
          "output_type": "display_data",
          "data": {
            "text/plain": [
              "[\u001b[2m2025-07-23 \u001b[0m\u001b[2m17:07:08,686453\u001b[0m][\u001b[32mI\u001b[0m][\u001b[3;36mwordplay\u001b[0m/\u001b[34mmodel\u001b[0m\u001b[94m:\u001b[0m\u001b[35m445\u001b[0m]\u001b[37m \u001b[0mnum decayed parameter tensors: \u001b[1;36m26\u001b[0m, with \u001b[1;36m11\u001b[0m,\u001b[1;36m035\u001b[0m,\u001b[1;36m008\u001b[0m parameters\n"
            ],
            "text/html": [
              "<pre style=\"white-space:pre;overflow-x:auto;line-height:normal;font-family:Menlo,'DejaVu Sans Mono',consolas,'Courier New',monospace\">[<span style=\"color: #7f7f7f; text-decoration-color: #7f7f7f\">2025-07-23 17:07:08,686453</span>][<span style=\"color: #008000; text-decoration-color: #008000\">I</span>][<span style=\"color: #008080; text-decoration-color: #008080; font-style: italic\">wordplay</span>/<span style=\"color: #000080; text-decoration-color: #000080\">model</span><span style=\"color: #0000ff; text-decoration-color: #0000ff\">:</span><span style=\"color: #800080; text-decoration-color: #800080\">445</span>]<span style=\"color: #c0c0c0; text-decoration-color: #c0c0c0\"> </span>num decayed parameter tensors: <span style=\"color: #008080; text-decoration-color: #008080; font-weight: bold\">26</span>, with <span style=\"color: #008080; text-decoration-color: #008080; font-weight: bold\">11</span>,<span style=\"color: #008080; text-decoration-color: #008080; font-weight: bold\">035</span>,<span style=\"color: #008080; text-decoration-color: #008080; font-weight: bold\">008</span> parameters\n",
              "</pre>\n"
            ]
          },
          "metadata": {}
        },
        {
          "output_type": "display_data",
          "data": {
            "text/plain": [
              "[\u001b[2m2025-07-23 \u001b[0m\u001b[2m17:07:08,690282\u001b[0m][\u001b[32mI\u001b[0m][\u001b[3;36mwordplay\u001b[0m/\u001b[34mmodel\u001b[0m\u001b[94m:\u001b[0m\u001b[35m449\u001b[0m]\u001b[37m \u001b[0mnum non-decayed parameter tensors: \u001b[1;36m13\u001b[0m, with \u001b[1;36m4\u001b[0m,\u001b[1;36m992\u001b[0m parameters\n"
            ],
            "text/html": [
              "<pre style=\"white-space:pre;overflow-x:auto;line-height:normal;font-family:Menlo,'DejaVu Sans Mono',consolas,'Courier New',monospace\">[<span style=\"color: #7f7f7f; text-decoration-color: #7f7f7f\">2025-07-23 17:07:08,690282</span>][<span style=\"color: #008000; text-decoration-color: #008000\">I</span>][<span style=\"color: #008080; text-decoration-color: #008080; font-style: italic\">wordplay</span>/<span style=\"color: #000080; text-decoration-color: #000080\">model</span><span style=\"color: #0000ff; text-decoration-color: #0000ff\">:</span><span style=\"color: #800080; text-decoration-color: #800080\">449</span>]<span style=\"color: #c0c0c0; text-decoration-color: #c0c0c0\"> </span>num non-decayed parameter tensors: <span style=\"color: #008080; text-decoration-color: #008080; font-weight: bold\">13</span>, with <span style=\"color: #008080; text-decoration-color: #008080; font-weight: bold\">4</span>,<span style=\"color: #008080; text-decoration-color: #008080; font-weight: bold\">992</span> parameters\n",
              "</pre>\n"
            ]
          },
          "metadata": {}
        },
        {
          "output_type": "display_data",
          "data": {
            "text/plain": [
              "[\u001b[2m2025-07-23 \u001b[0m\u001b[2m17:07:08,696244\u001b[0m][\u001b[32mI\u001b[0m][\u001b[3;36mwordplay\u001b[0m/\u001b[34mmodel\u001b[0m\u001b[94m:\u001b[0m\u001b[35m465\u001b[0m]\u001b[37m \u001b[0musing fused AdamW: \u001b[3;92mTrue\u001b[0m\n"
            ],
            "text/html": [
              "<pre style=\"white-space:pre;overflow-x:auto;line-height:normal;font-family:Menlo,'DejaVu Sans Mono',consolas,'Courier New',monospace\">[<span style=\"color: #7f7f7f; text-decoration-color: #7f7f7f\">2025-07-23 17:07:08,696244</span>][<span style=\"color: #008000; text-decoration-color: #008000\">I</span>][<span style=\"color: #008080; text-decoration-color: #008080; font-style: italic\">wordplay</span>/<span style=\"color: #000080; text-decoration-color: #000080\">model</span><span style=\"color: #0000ff; text-decoration-color: #0000ff\">:</span><span style=\"color: #800080; text-decoration-color: #800080\">465</span>]<span style=\"color: #c0c0c0; text-decoration-color: #c0c0c0\"> </span>using fused AdamW: <span style=\"color: #00ff00; text-decoration-color: #00ff00; font-style: italic\">True</span>\n",
              "</pre>\n"
            ]
          },
          "metadata": {}
        },
        {
          "output_type": "display_data",
          "data": {
            "text/plain": [
              "[\u001b[2m2025-07-23 \u001b[0m\u001b[2m17:07:08,699647\u001b[0m][\u001b[1;7;91mC\u001b[0m][\u001b[3;36mwordplay\u001b[0m/\u001b[34mtrainer\u001b[0m\u001b[94m:\u001b[0m\u001b[35m318\u001b[0m]\u001b[37m \u001b[0m\u001b[32m\"\u001b[0m\u001b[32mdevid\u001b[0m\u001b[32m='cuda:0'\"\u001b[0m\n"
            ],
            "text/html": [
              "<pre style=\"white-space:pre;overflow-x:auto;line-height:normal;font-family:Menlo,'DejaVu Sans Mono',consolas,'Courier New',monospace\">[<span style=\"color: #7f7f7f; text-decoration-color: #7f7f7f\">2025-07-23 17:07:08,699647</span>][<span style=\"background-color: #ff0000; font-weight: bold\">C</span>][<span style=\"color: #008080; text-decoration-color: #008080; font-style: italic\">wordplay</span>/<span style=\"color: #000080; text-decoration-color: #000080\">trainer</span><span style=\"color: #0000ff; text-decoration-color: #0000ff\">:</span><span style=\"color: #800080; text-decoration-color: #800080\">318</span>]<span style=\"color: #c0c0c0; text-decoration-color: #c0c0c0\"> </span><span style=\"color: #008000; text-decoration-color: #008000\">\"devid='cuda:0'\"</span>\n",
              "</pre>\n"
            ]
          },
          "metadata": {}
        },
        {
          "output_type": "display_data",
          "data": {
            "text/plain": [
              "[\u001b[2m2025-07-23 \u001b[0m\u001b[2m17:07:08,703940\u001b[0m][\u001b[32mI\u001b[0m][\u001b[3;36mwordplay\u001b[0m/\u001b[34mtrainer\u001b[0m\u001b[94m:\u001b[0m\u001b[35m358\u001b[0m]\u001b[37m \u001b[0m• self.\u001b[94mmodel\u001b[0m=\u001b[1;35mGPT\u001b[0m\u001b[95m(\u001b[0m\n",
              "  \u001b[95m(\u001b[0mtransformer\u001b[95m)\u001b[0m: \u001b[1;35mModuleDict\u001b[0m\u001b[95m(\u001b[0m\n",
              "    \u001b[95m(\u001b[0mwte\u001b[95m)\u001b[0m: \u001b[1;35mEmbedding\u001b[0m\u001b[95m(\u001b[0m\u001b[1;36m65\u001b[0m, \u001b[1;36m384\u001b[0m\u001b[95m)\u001b[0m\n",
              "    \u001b[95m(\u001b[0mwpe\u001b[95m)\u001b[0m: \u001b[1;35mEmbedding\u001b[0m\u001b[95m(\u001b[0m\u001b[1;36m1024\u001b[0m, \u001b[1;36m384\u001b[0m\u001b[95m)\u001b[0m\n",
              "    \u001b[95m(\u001b[0mdrop\u001b[95m)\u001b[0m: \u001b[1;35mDropout\u001b[0m\u001b[95m(\u001b[0m\u001b[94mp\u001b[0m=\u001b[1;36m0\u001b[0m\u001b[1;36m.2\u001b[0m, \u001b[94minplace\u001b[0m=\u001b[3;91mFalse\u001b[0m\u001b[95m)\u001b[0m\n",
              "    \u001b[95m(\u001b[0mh\u001b[95m)\u001b[0m: \u001b[1;35mModuleList\u001b[0m\u001b[95m(\u001b[0m\n",
              "      \u001b[95m(\u001b[0m\u001b[1;36m0\u001b[0m-\u001b[1;36m5\u001b[0m\u001b[95m)\u001b[0m: \u001b[1;36m6\u001b[0m x \u001b[1;35mBlock\u001b[0m\u001b[95m(\u001b[0m\n",
              "        \u001b[95m(\u001b[0mln_1\u001b[95m)\u001b[0m: \u001b[1;35mLayerNorm\u001b[0m\u001b[95m(\u001b[0m\u001b[95m)\u001b[0m\n",
              "        \u001b[95m(\u001b[0mattn\u001b[95m)\u001b[0m: \u001b[1;35mCausalSelfAttention\u001b[0m\u001b[95m(\u001b[0m\n",
              "          \u001b[95m(\u001b[0mc_attn\u001b[95m)\u001b[0m: \u001b[1;35mLinear\u001b[0m\u001b[95m(\u001b[0m\u001b[94min_features\u001b[0m=\u001b[1;36m384\u001b[0m, \u001b[94mout_features\u001b[0m=\u001b[1;36m1152\u001b[0m, \u001b[94mbias\u001b[0m=\u001b[3;91mFalse\u001b[0m\u001b[95m)\u001b[0m\n",
              "          \u001b[95m(\u001b[0mc_proj\u001b[95m)\u001b[0m: \u001b[1;35mLinear\u001b[0m\u001b[95m(\u001b[0m\u001b[94min_features\u001b[0m=\u001b[1;36m384\u001b[0m, \u001b[94mout_features\u001b[0m=\u001b[1;36m384\u001b[0m, \u001b[94mbias\u001b[0m=\u001b[3;91mFalse\u001b[0m\u001b[95m)\u001b[0m\n",
              "          \u001b[95m(\u001b[0mattn_dropout\u001b[95m)\u001b[0m: \u001b[1;35mDropout\u001b[0m\u001b[95m(\u001b[0m\u001b[94mp\u001b[0m=\u001b[1;36m0\u001b[0m\u001b[1;36m.2\u001b[0m, \u001b[94minplace\u001b[0m=\u001b[3;91mFalse\u001b[0m\u001b[95m)\u001b[0m\n",
              "          \u001b[95m(\u001b[0mresid_dropout\u001b[95m)\u001b[0m: \u001b[1;35mDropout\u001b[0m\u001b[95m(\u001b[0m\u001b[94mp\u001b[0m=\u001b[1;36m0\u001b[0m\u001b[1;36m.2\u001b[0m, \u001b[94minplace\u001b[0m=\u001b[3;91mFalse\u001b[0m\u001b[95m)\u001b[0m\n",
              "        \u001b[95m)\u001b[0m\n",
              "        \u001b[95m(\u001b[0mln_2\u001b[95m)\u001b[0m: \u001b[1;35mLayerNorm\u001b[0m\u001b[95m(\u001b[0m\u001b[95m)\u001b[0m\n",
              "        \u001b[95m(\u001b[0mmlp\u001b[95m)\u001b[0m: \u001b[1;35mMLP\u001b[0m\u001b[95m(\u001b[0m\n",
              "          \u001b[95m(\u001b[0mc_fc\u001b[95m)\u001b[0m: \u001b[1;35mLinear\u001b[0m\u001b[95m(\u001b[0m\u001b[94min_features\u001b[0m=\u001b[1;36m384\u001b[0m, \u001b[94mout_features\u001b[0m=\u001b[1;36m1536\u001b[0m, \u001b[94mbias\u001b[0m=\u001b[3;91mFalse\u001b[0m\u001b[95m)\u001b[0m\n",
              "          \u001b[95m(\u001b[0mact_fn\u001b[95m)\u001b[0m: \u001b[1;35mGELU\u001b[0m\u001b[95m(\u001b[0m\u001b[94mapproximate\u001b[0m=\u001b[32m'none'\u001b[0m\u001b[95m)\u001b[0m\n",
              "          \u001b[95m(\u001b[0mc_proj\u001b[95m)\u001b[0m: \u001b[1;35mLinear\u001b[0m\u001b[95m(\u001b[0m\u001b[94min_features\u001b[0m=\u001b[1;36m1536\u001b[0m, \u001b[94mout_features\u001b[0m=\u001b[1;36m384\u001b[0m, \u001b[94mbias\u001b[0m=\u001b[3;91mFalse\u001b[0m\u001b[95m)\u001b[0m\n",
              "          \u001b[95m(\u001b[0mdropout\u001b[95m)\u001b[0m: \u001b[1;35mDropout\u001b[0m\u001b[95m(\u001b[0m\u001b[94mp\u001b[0m=\u001b[1;36m0\u001b[0m\u001b[1;36m.2\u001b[0m, \u001b[94minplace\u001b[0m=\u001b[3;91mFalse\u001b[0m\u001b[95m)\u001b[0m\n",
              "        \u001b[95m)\u001b[0m\n",
              "      \u001b[95m)\u001b[0m\n",
              "    \u001b[95m)\u001b[0m\n",
              "    \u001b[95m(\u001b[0mln_f\u001b[95m)\u001b[0m: \u001b[1;35mLayerNorm\u001b[0m\u001b[95m(\u001b[0m\u001b[95m)\u001b[0m\n",
              "  \u001b[95m)\u001b[0m\n",
              "  \u001b[95m(\u001b[0mlm_head\u001b[95m)\u001b[0m: \u001b[1;35mLinear\u001b[0m\u001b[95m(\u001b[0m\u001b[94min_features\u001b[0m=\u001b[1;36m384\u001b[0m, \u001b[94mout_features\u001b[0m=\u001b[1;36m65\u001b[0m, \u001b[94mbias\u001b[0m=\u001b[3;91mFalse\u001b[0m\u001b[95m)\u001b[0m\n",
              "\u001b[95m)\u001b[0m\n"
            ],
            "text/html": [
              "<pre style=\"white-space:pre;overflow-x:auto;line-height:normal;font-family:Menlo,'DejaVu Sans Mono',consolas,'Courier New',monospace\">[<span style=\"color: #7f7f7f; text-decoration-color: #7f7f7f\">2025-07-23 17:07:08,703940</span>][<span style=\"color: #008000; text-decoration-color: #008000\">I</span>][<span style=\"color: #008080; text-decoration-color: #008080; font-style: italic\">wordplay</span>/<span style=\"color: #000080; text-decoration-color: #000080\">trainer</span><span style=\"color: #0000ff; text-decoration-color: #0000ff\">:</span><span style=\"color: #800080; text-decoration-color: #800080\">358</span>]<span style=\"color: #c0c0c0; text-decoration-color: #c0c0c0\"> </span>• self.<span style=\"color: #0000ff; text-decoration-color: #0000ff\">model</span>=<span style=\"color: #800080; text-decoration-color: #800080; font-weight: bold\">GPT</span><span style=\"color: #ff00ff; text-decoration-color: #ff00ff\">(</span>\n",
              "  <span style=\"color: #ff00ff; text-decoration-color: #ff00ff\">(</span>transformer<span style=\"color: #ff00ff; text-decoration-color: #ff00ff\">)</span>: <span style=\"color: #800080; text-decoration-color: #800080; font-weight: bold\">ModuleDict</span><span style=\"color: #ff00ff; text-decoration-color: #ff00ff\">(</span>\n",
              "    <span style=\"color: #ff00ff; text-decoration-color: #ff00ff\">(</span>wte<span style=\"color: #ff00ff; text-decoration-color: #ff00ff\">)</span>: <span style=\"color: #800080; text-decoration-color: #800080; font-weight: bold\">Embedding</span><span style=\"color: #ff00ff; text-decoration-color: #ff00ff\">(</span><span style=\"color: #008080; text-decoration-color: #008080; font-weight: bold\">65</span>, <span style=\"color: #008080; text-decoration-color: #008080; font-weight: bold\">384</span><span style=\"color: #ff00ff; text-decoration-color: #ff00ff\">)</span>\n",
              "    <span style=\"color: #ff00ff; text-decoration-color: #ff00ff\">(</span>wpe<span style=\"color: #ff00ff; text-decoration-color: #ff00ff\">)</span>: <span style=\"color: #800080; text-decoration-color: #800080; font-weight: bold\">Embedding</span><span style=\"color: #ff00ff; text-decoration-color: #ff00ff\">(</span><span style=\"color: #008080; text-decoration-color: #008080; font-weight: bold\">1024</span>, <span style=\"color: #008080; text-decoration-color: #008080; font-weight: bold\">384</span><span style=\"color: #ff00ff; text-decoration-color: #ff00ff\">)</span>\n",
              "    <span style=\"color: #ff00ff; text-decoration-color: #ff00ff\">(</span>drop<span style=\"color: #ff00ff; text-decoration-color: #ff00ff\">)</span>: <span style=\"color: #800080; text-decoration-color: #800080; font-weight: bold\">Dropout</span><span style=\"color: #ff00ff; text-decoration-color: #ff00ff\">(</span><span style=\"color: #0000ff; text-decoration-color: #0000ff\">p</span>=<span style=\"color: #008080; text-decoration-color: #008080; font-weight: bold\">0.2</span>, <span style=\"color: #0000ff; text-decoration-color: #0000ff\">inplace</span>=<span style=\"color: #ff0000; text-decoration-color: #ff0000; font-style: italic\">False</span><span style=\"color: #ff00ff; text-decoration-color: #ff00ff\">)</span>\n",
              "    <span style=\"color: #ff00ff; text-decoration-color: #ff00ff\">(</span>h<span style=\"color: #ff00ff; text-decoration-color: #ff00ff\">)</span>: <span style=\"color: #800080; text-decoration-color: #800080; font-weight: bold\">ModuleList</span><span style=\"color: #ff00ff; text-decoration-color: #ff00ff\">(</span>\n",
              "      <span style=\"color: #ff00ff; text-decoration-color: #ff00ff\">(</span><span style=\"color: #008080; text-decoration-color: #008080; font-weight: bold\">0</span>-<span style=\"color: #008080; text-decoration-color: #008080; font-weight: bold\">5</span><span style=\"color: #ff00ff; text-decoration-color: #ff00ff\">)</span>: <span style=\"color: #008080; text-decoration-color: #008080; font-weight: bold\">6</span> x <span style=\"color: #800080; text-decoration-color: #800080; font-weight: bold\">Block</span><span style=\"color: #ff00ff; text-decoration-color: #ff00ff\">(</span>\n",
              "        <span style=\"color: #ff00ff; text-decoration-color: #ff00ff\">(</span>ln_1<span style=\"color: #ff00ff; text-decoration-color: #ff00ff\">)</span>: <span style=\"color: #800080; text-decoration-color: #800080; font-weight: bold\">LayerNorm</span><span style=\"color: #ff00ff; text-decoration-color: #ff00ff\">()</span>\n",
              "        <span style=\"color: #ff00ff; text-decoration-color: #ff00ff\">(</span>attn<span style=\"color: #ff00ff; text-decoration-color: #ff00ff\">)</span>: <span style=\"color: #800080; text-decoration-color: #800080; font-weight: bold\">CausalSelfAttention</span><span style=\"color: #ff00ff; text-decoration-color: #ff00ff\">(</span>\n",
              "          <span style=\"color: #ff00ff; text-decoration-color: #ff00ff\">(</span>c_attn<span style=\"color: #ff00ff; text-decoration-color: #ff00ff\">)</span>: <span style=\"color: #800080; text-decoration-color: #800080; font-weight: bold\">Linear</span><span style=\"color: #ff00ff; text-decoration-color: #ff00ff\">(</span><span style=\"color: #0000ff; text-decoration-color: #0000ff\">in_features</span>=<span style=\"color: #008080; text-decoration-color: #008080; font-weight: bold\">384</span>, <span style=\"color: #0000ff; text-decoration-color: #0000ff\">out_features</span>=<span style=\"color: #008080; text-decoration-color: #008080; font-weight: bold\">1152</span>, <span style=\"color: #0000ff; text-decoration-color: #0000ff\">bias</span>=<span style=\"color: #ff0000; text-decoration-color: #ff0000; font-style: italic\">False</span><span style=\"color: #ff00ff; text-decoration-color: #ff00ff\">)</span>\n",
              "          <span style=\"color: #ff00ff; text-decoration-color: #ff00ff\">(</span>c_proj<span style=\"color: #ff00ff; text-decoration-color: #ff00ff\">)</span>: <span style=\"color: #800080; text-decoration-color: #800080; font-weight: bold\">Linear</span><span style=\"color: #ff00ff; text-decoration-color: #ff00ff\">(</span><span style=\"color: #0000ff; text-decoration-color: #0000ff\">in_features</span>=<span style=\"color: #008080; text-decoration-color: #008080; font-weight: bold\">384</span>, <span style=\"color: #0000ff; text-decoration-color: #0000ff\">out_features</span>=<span style=\"color: #008080; text-decoration-color: #008080; font-weight: bold\">384</span>, <span style=\"color: #0000ff; text-decoration-color: #0000ff\">bias</span>=<span style=\"color: #ff0000; text-decoration-color: #ff0000; font-style: italic\">False</span><span style=\"color: #ff00ff; text-decoration-color: #ff00ff\">)</span>\n",
              "          <span style=\"color: #ff00ff; text-decoration-color: #ff00ff\">(</span>attn_dropout<span style=\"color: #ff00ff; text-decoration-color: #ff00ff\">)</span>: <span style=\"color: #800080; text-decoration-color: #800080; font-weight: bold\">Dropout</span><span style=\"color: #ff00ff; text-decoration-color: #ff00ff\">(</span><span style=\"color: #0000ff; text-decoration-color: #0000ff\">p</span>=<span style=\"color: #008080; text-decoration-color: #008080; font-weight: bold\">0.2</span>, <span style=\"color: #0000ff; text-decoration-color: #0000ff\">inplace</span>=<span style=\"color: #ff0000; text-decoration-color: #ff0000; font-style: italic\">False</span><span style=\"color: #ff00ff; text-decoration-color: #ff00ff\">)</span>\n",
              "          <span style=\"color: #ff00ff; text-decoration-color: #ff00ff\">(</span>resid_dropout<span style=\"color: #ff00ff; text-decoration-color: #ff00ff\">)</span>: <span style=\"color: #800080; text-decoration-color: #800080; font-weight: bold\">Dropout</span><span style=\"color: #ff00ff; text-decoration-color: #ff00ff\">(</span><span style=\"color: #0000ff; text-decoration-color: #0000ff\">p</span>=<span style=\"color: #008080; text-decoration-color: #008080; font-weight: bold\">0.2</span>, <span style=\"color: #0000ff; text-decoration-color: #0000ff\">inplace</span>=<span style=\"color: #ff0000; text-decoration-color: #ff0000; font-style: italic\">False</span><span style=\"color: #ff00ff; text-decoration-color: #ff00ff\">)</span>\n",
              "        <span style=\"color: #ff00ff; text-decoration-color: #ff00ff\">)</span>\n",
              "        <span style=\"color: #ff00ff; text-decoration-color: #ff00ff\">(</span>ln_2<span style=\"color: #ff00ff; text-decoration-color: #ff00ff\">)</span>: <span style=\"color: #800080; text-decoration-color: #800080; font-weight: bold\">LayerNorm</span><span style=\"color: #ff00ff; text-decoration-color: #ff00ff\">()</span>\n",
              "        <span style=\"color: #ff00ff; text-decoration-color: #ff00ff\">(</span>mlp<span style=\"color: #ff00ff; text-decoration-color: #ff00ff\">)</span>: <span style=\"color: #800080; text-decoration-color: #800080; font-weight: bold\">MLP</span><span style=\"color: #ff00ff; text-decoration-color: #ff00ff\">(</span>\n",
              "          <span style=\"color: #ff00ff; text-decoration-color: #ff00ff\">(</span>c_fc<span style=\"color: #ff00ff; text-decoration-color: #ff00ff\">)</span>: <span style=\"color: #800080; text-decoration-color: #800080; font-weight: bold\">Linear</span><span style=\"color: #ff00ff; text-decoration-color: #ff00ff\">(</span><span style=\"color: #0000ff; text-decoration-color: #0000ff\">in_features</span>=<span style=\"color: #008080; text-decoration-color: #008080; font-weight: bold\">384</span>, <span style=\"color: #0000ff; text-decoration-color: #0000ff\">out_features</span>=<span style=\"color: #008080; text-decoration-color: #008080; font-weight: bold\">1536</span>, <span style=\"color: #0000ff; text-decoration-color: #0000ff\">bias</span>=<span style=\"color: #ff0000; text-decoration-color: #ff0000; font-style: italic\">False</span><span style=\"color: #ff00ff; text-decoration-color: #ff00ff\">)</span>\n",
              "          <span style=\"color: #ff00ff; text-decoration-color: #ff00ff\">(</span>act_fn<span style=\"color: #ff00ff; text-decoration-color: #ff00ff\">)</span>: <span style=\"color: #800080; text-decoration-color: #800080; font-weight: bold\">GELU</span><span style=\"color: #ff00ff; text-decoration-color: #ff00ff\">(</span><span style=\"color: #0000ff; text-decoration-color: #0000ff\">approximate</span>=<span style=\"color: #008000; text-decoration-color: #008000\">'none'</span><span style=\"color: #ff00ff; text-decoration-color: #ff00ff\">)</span>\n",
              "          <span style=\"color: #ff00ff; text-decoration-color: #ff00ff\">(</span>c_proj<span style=\"color: #ff00ff; text-decoration-color: #ff00ff\">)</span>: <span style=\"color: #800080; text-decoration-color: #800080; font-weight: bold\">Linear</span><span style=\"color: #ff00ff; text-decoration-color: #ff00ff\">(</span><span style=\"color: #0000ff; text-decoration-color: #0000ff\">in_features</span>=<span style=\"color: #008080; text-decoration-color: #008080; font-weight: bold\">1536</span>, <span style=\"color: #0000ff; text-decoration-color: #0000ff\">out_features</span>=<span style=\"color: #008080; text-decoration-color: #008080; font-weight: bold\">384</span>, <span style=\"color: #0000ff; text-decoration-color: #0000ff\">bias</span>=<span style=\"color: #ff0000; text-decoration-color: #ff0000; font-style: italic\">False</span><span style=\"color: #ff00ff; text-decoration-color: #ff00ff\">)</span>\n",
              "          <span style=\"color: #ff00ff; text-decoration-color: #ff00ff\">(</span>dropout<span style=\"color: #ff00ff; text-decoration-color: #ff00ff\">)</span>: <span style=\"color: #800080; text-decoration-color: #800080; font-weight: bold\">Dropout</span><span style=\"color: #ff00ff; text-decoration-color: #ff00ff\">(</span><span style=\"color: #0000ff; text-decoration-color: #0000ff\">p</span>=<span style=\"color: #008080; text-decoration-color: #008080; font-weight: bold\">0.2</span>, <span style=\"color: #0000ff; text-decoration-color: #0000ff\">inplace</span>=<span style=\"color: #ff0000; text-decoration-color: #ff0000; font-style: italic\">False</span><span style=\"color: #ff00ff; text-decoration-color: #ff00ff\">)</span>\n",
              "        <span style=\"color: #ff00ff; text-decoration-color: #ff00ff\">)</span>\n",
              "      <span style=\"color: #ff00ff; text-decoration-color: #ff00ff\">)</span>\n",
              "    <span style=\"color: #ff00ff; text-decoration-color: #ff00ff\">)</span>\n",
              "    <span style=\"color: #ff00ff; text-decoration-color: #ff00ff\">(</span>ln_f<span style=\"color: #ff00ff; text-decoration-color: #ff00ff\">)</span>: <span style=\"color: #800080; text-decoration-color: #800080; font-weight: bold\">LayerNorm</span><span style=\"color: #ff00ff; text-decoration-color: #ff00ff\">()</span>\n",
              "  <span style=\"color: #ff00ff; text-decoration-color: #ff00ff\">)</span>\n",
              "  <span style=\"color: #ff00ff; text-decoration-color: #ff00ff\">(</span>lm_head<span style=\"color: #ff00ff; text-decoration-color: #ff00ff\">)</span>: <span style=\"color: #800080; text-decoration-color: #800080; font-weight: bold\">Linear</span><span style=\"color: #ff00ff; text-decoration-color: #ff00ff\">(</span><span style=\"color: #0000ff; text-decoration-color: #0000ff\">in_features</span>=<span style=\"color: #008080; text-decoration-color: #008080; font-weight: bold\">384</span>, <span style=\"color: #0000ff; text-decoration-color: #0000ff\">out_features</span>=<span style=\"color: #008080; text-decoration-color: #008080; font-weight: bold\">65</span>, <span style=\"color: #0000ff; text-decoration-color: #0000ff\">bias</span>=<span style=\"color: #ff0000; text-decoration-color: #ff0000; font-style: italic\">False</span><span style=\"color: #ff00ff; text-decoration-color: #ff00ff\">)</span>\n",
              "<span style=\"color: #ff00ff; text-decoration-color: #ff00ff\">)</span>\n",
              "</pre>\n"
            ]
          },
          "metadata": {}
        },
        {
          "output_type": "display_data",
          "data": {
            "text/plain": [
              "[\u001b[2m2025-07-23 \u001b[0m\u001b[2m17:07:08,731597\u001b[0m][\u001b[32mI\u001b[0m][\u001b[3;36mwordplay\u001b[0m/\u001b[34mtrainer\u001b[0m\u001b[94m:\u001b[0m\u001b[35m359\u001b[0m]\u001b[37m \u001b[0m• self.\u001b[94mgrad_scaler\u001b[0m=\u001b[1m<\u001b[0m\u001b[1;95mtorch.cuda.amp.grad_scaler.GradScaler\u001b[0m\u001b[39m object at \u001b[0m\u001b[1;36m0x7cbd3c9a85d0\u001b[0m\u001b[1m>\u001b[0m\n"
            ],
            "text/html": [
              "<pre style=\"white-space:pre;overflow-x:auto;line-height:normal;font-family:Menlo,'DejaVu Sans Mono',consolas,'Courier New',monospace\">[<span style=\"color: #7f7f7f; text-decoration-color: #7f7f7f\">2025-07-23 17:07:08,731597</span>][<span style=\"color: #008000; text-decoration-color: #008000\">I</span>][<span style=\"color: #008080; text-decoration-color: #008080; font-style: italic\">wordplay</span>/<span style=\"color: #000080; text-decoration-color: #000080\">trainer</span><span style=\"color: #0000ff; text-decoration-color: #0000ff\">:</span><span style=\"color: #800080; text-decoration-color: #800080\">359</span>]<span style=\"color: #c0c0c0; text-decoration-color: #c0c0c0\"> </span>• self.<span style=\"color: #0000ff; text-decoration-color: #0000ff\">grad_scaler</span>=<span style=\"font-weight: bold\">&lt;</span><span style=\"color: #ff00ff; text-decoration-color: #ff00ff; font-weight: bold\">torch.cuda.amp.grad_scaler.GradScaler</span><span style=\"color: #000000; text-decoration-color: #000000\"> object at </span><span style=\"color: #008080; text-decoration-color: #008080; font-weight: bold\">0x7cbd3c9a85d0</span><span style=\"font-weight: bold\">&gt;</span>\n",
              "</pre>\n"
            ]
          },
          "metadata": {}
        },
        {
          "output_type": "display_data",
          "data": {
            "text/plain": [
              "[\u001b[2m2025-07-23 \u001b[0m\u001b[2m17:07:08,737375\u001b[0m][\u001b[32mI\u001b[0m][\u001b[3;36mwordplay\u001b[0m/\u001b[34mtrainer\u001b[0m\u001b[94m:\u001b[0m\u001b[35m360\u001b[0m]\u001b[37m \u001b[0m• self.\u001b[94mmodel_engine\u001b[0m=\u001b[1;35mGPT\u001b[0m\u001b[95m(\u001b[0m\n",
              "  \u001b[95m(\u001b[0mtransformer\u001b[95m)\u001b[0m: \u001b[1;35mModuleDict\u001b[0m\u001b[95m(\u001b[0m\n",
              "    \u001b[95m(\u001b[0mwte\u001b[95m)\u001b[0m: \u001b[1;35mEmbedding\u001b[0m\u001b[95m(\u001b[0m\u001b[1;36m65\u001b[0m, \u001b[1;36m384\u001b[0m\u001b[95m)\u001b[0m\n",
              "    \u001b[95m(\u001b[0mwpe\u001b[95m)\u001b[0m: \u001b[1;35mEmbedding\u001b[0m\u001b[95m(\u001b[0m\u001b[1;36m1024\u001b[0m, \u001b[1;36m384\u001b[0m\u001b[95m)\u001b[0m\n",
              "    \u001b[95m(\u001b[0mdrop\u001b[95m)\u001b[0m: \u001b[1;35mDropout\u001b[0m\u001b[95m(\u001b[0m\u001b[94mp\u001b[0m=\u001b[1;36m0\u001b[0m\u001b[1;36m.2\u001b[0m, \u001b[94minplace\u001b[0m=\u001b[3;91mFalse\u001b[0m\u001b[95m)\u001b[0m\n",
              "    \u001b[95m(\u001b[0mh\u001b[95m)\u001b[0m: \u001b[1;35mModuleList\u001b[0m\u001b[95m(\u001b[0m\n",
              "      \u001b[95m(\u001b[0m\u001b[1;36m0\u001b[0m-\u001b[1;36m5\u001b[0m\u001b[95m)\u001b[0m: \u001b[1;36m6\u001b[0m x \u001b[1;35mBlock\u001b[0m\u001b[95m(\u001b[0m\n",
              "        \u001b[95m(\u001b[0mln_1\u001b[95m)\u001b[0m: \u001b[1;35mLayerNorm\u001b[0m\u001b[95m(\u001b[0m\u001b[95m)\u001b[0m\n",
              "        \u001b[95m(\u001b[0mattn\u001b[95m)\u001b[0m: \u001b[1;35mCausalSelfAttention\u001b[0m\u001b[95m(\u001b[0m\n",
              "          \u001b[95m(\u001b[0mc_attn\u001b[95m)\u001b[0m: \u001b[1;35mLinear\u001b[0m\u001b[95m(\u001b[0m\u001b[94min_features\u001b[0m=\u001b[1;36m384\u001b[0m, \u001b[94mout_features\u001b[0m=\u001b[1;36m1152\u001b[0m, \u001b[94mbias\u001b[0m=\u001b[3;91mFalse\u001b[0m\u001b[95m)\u001b[0m\n",
              "          \u001b[95m(\u001b[0mc_proj\u001b[95m)\u001b[0m: \u001b[1;35mLinear\u001b[0m\u001b[95m(\u001b[0m\u001b[94min_features\u001b[0m=\u001b[1;36m384\u001b[0m, \u001b[94mout_features\u001b[0m=\u001b[1;36m384\u001b[0m, \u001b[94mbias\u001b[0m=\u001b[3;91mFalse\u001b[0m\u001b[95m)\u001b[0m\n",
              "          \u001b[95m(\u001b[0mattn_dropout\u001b[95m)\u001b[0m: \u001b[1;35mDropout\u001b[0m\u001b[95m(\u001b[0m\u001b[94mp\u001b[0m=\u001b[1;36m0\u001b[0m\u001b[1;36m.2\u001b[0m, \u001b[94minplace\u001b[0m=\u001b[3;91mFalse\u001b[0m\u001b[95m)\u001b[0m\n",
              "          \u001b[95m(\u001b[0mresid_dropout\u001b[95m)\u001b[0m: \u001b[1;35mDropout\u001b[0m\u001b[95m(\u001b[0m\u001b[94mp\u001b[0m=\u001b[1;36m0\u001b[0m\u001b[1;36m.2\u001b[0m, \u001b[94minplace\u001b[0m=\u001b[3;91mFalse\u001b[0m\u001b[95m)\u001b[0m\n",
              "        \u001b[95m)\u001b[0m\n",
              "        \u001b[95m(\u001b[0mln_2\u001b[95m)\u001b[0m: \u001b[1;35mLayerNorm\u001b[0m\u001b[95m(\u001b[0m\u001b[95m)\u001b[0m\n",
              "        \u001b[95m(\u001b[0mmlp\u001b[95m)\u001b[0m: \u001b[1;35mMLP\u001b[0m\u001b[95m(\u001b[0m\n",
              "          \u001b[95m(\u001b[0mc_fc\u001b[95m)\u001b[0m: \u001b[1;35mLinear\u001b[0m\u001b[95m(\u001b[0m\u001b[94min_features\u001b[0m=\u001b[1;36m384\u001b[0m, \u001b[94mout_features\u001b[0m=\u001b[1;36m1536\u001b[0m, \u001b[94mbias\u001b[0m=\u001b[3;91mFalse\u001b[0m\u001b[95m)\u001b[0m\n",
              "          \u001b[95m(\u001b[0mact_fn\u001b[95m)\u001b[0m: \u001b[1;35mGELU\u001b[0m\u001b[95m(\u001b[0m\u001b[94mapproximate\u001b[0m=\u001b[32m'none'\u001b[0m\u001b[95m)\u001b[0m\n",
              "          \u001b[95m(\u001b[0mc_proj\u001b[95m)\u001b[0m: \u001b[1;35mLinear\u001b[0m\u001b[95m(\u001b[0m\u001b[94min_features\u001b[0m=\u001b[1;36m1536\u001b[0m, \u001b[94mout_features\u001b[0m=\u001b[1;36m384\u001b[0m, \u001b[94mbias\u001b[0m=\u001b[3;91mFalse\u001b[0m\u001b[95m)\u001b[0m\n",
              "          \u001b[95m(\u001b[0mdropout\u001b[95m)\u001b[0m: \u001b[1;35mDropout\u001b[0m\u001b[95m(\u001b[0m\u001b[94mp\u001b[0m=\u001b[1;36m0\u001b[0m\u001b[1;36m.2\u001b[0m, \u001b[94minplace\u001b[0m=\u001b[3;91mFalse\u001b[0m\u001b[95m)\u001b[0m\n",
              "        \u001b[95m)\u001b[0m\n",
              "      \u001b[95m)\u001b[0m\n",
              "    \u001b[95m)\u001b[0m\n",
              "    \u001b[95m(\u001b[0mln_f\u001b[95m)\u001b[0m: \u001b[1;35mLayerNorm\u001b[0m\u001b[95m(\u001b[0m\u001b[95m)\u001b[0m\n",
              "  \u001b[95m)\u001b[0m\n",
              "  \u001b[95m(\u001b[0mlm_head\u001b[95m)\u001b[0m: \u001b[1;35mLinear\u001b[0m\u001b[95m(\u001b[0m\u001b[94min_features\u001b[0m=\u001b[1;36m384\u001b[0m, \u001b[94mout_features\u001b[0m=\u001b[1;36m65\u001b[0m, \u001b[94mbias\u001b[0m=\u001b[3;91mFalse\u001b[0m\u001b[95m)\u001b[0m\n",
              "\u001b[95m)\u001b[0m\n"
            ],
            "text/html": [
              "<pre style=\"white-space:pre;overflow-x:auto;line-height:normal;font-family:Menlo,'DejaVu Sans Mono',consolas,'Courier New',monospace\">[<span style=\"color: #7f7f7f; text-decoration-color: #7f7f7f\">2025-07-23 17:07:08,737375</span>][<span style=\"color: #008000; text-decoration-color: #008000\">I</span>][<span style=\"color: #008080; text-decoration-color: #008080; font-style: italic\">wordplay</span>/<span style=\"color: #000080; text-decoration-color: #000080\">trainer</span><span style=\"color: #0000ff; text-decoration-color: #0000ff\">:</span><span style=\"color: #800080; text-decoration-color: #800080\">360</span>]<span style=\"color: #c0c0c0; text-decoration-color: #c0c0c0\"> </span>• self.<span style=\"color: #0000ff; text-decoration-color: #0000ff\">model_engine</span>=<span style=\"color: #800080; text-decoration-color: #800080; font-weight: bold\">GPT</span><span style=\"color: #ff00ff; text-decoration-color: #ff00ff\">(</span>\n",
              "  <span style=\"color: #ff00ff; text-decoration-color: #ff00ff\">(</span>transformer<span style=\"color: #ff00ff; text-decoration-color: #ff00ff\">)</span>: <span style=\"color: #800080; text-decoration-color: #800080; font-weight: bold\">ModuleDict</span><span style=\"color: #ff00ff; text-decoration-color: #ff00ff\">(</span>\n",
              "    <span style=\"color: #ff00ff; text-decoration-color: #ff00ff\">(</span>wte<span style=\"color: #ff00ff; text-decoration-color: #ff00ff\">)</span>: <span style=\"color: #800080; text-decoration-color: #800080; font-weight: bold\">Embedding</span><span style=\"color: #ff00ff; text-decoration-color: #ff00ff\">(</span><span style=\"color: #008080; text-decoration-color: #008080; font-weight: bold\">65</span>, <span style=\"color: #008080; text-decoration-color: #008080; font-weight: bold\">384</span><span style=\"color: #ff00ff; text-decoration-color: #ff00ff\">)</span>\n",
              "    <span style=\"color: #ff00ff; text-decoration-color: #ff00ff\">(</span>wpe<span style=\"color: #ff00ff; text-decoration-color: #ff00ff\">)</span>: <span style=\"color: #800080; text-decoration-color: #800080; font-weight: bold\">Embedding</span><span style=\"color: #ff00ff; text-decoration-color: #ff00ff\">(</span><span style=\"color: #008080; text-decoration-color: #008080; font-weight: bold\">1024</span>, <span style=\"color: #008080; text-decoration-color: #008080; font-weight: bold\">384</span><span style=\"color: #ff00ff; text-decoration-color: #ff00ff\">)</span>\n",
              "    <span style=\"color: #ff00ff; text-decoration-color: #ff00ff\">(</span>drop<span style=\"color: #ff00ff; text-decoration-color: #ff00ff\">)</span>: <span style=\"color: #800080; text-decoration-color: #800080; font-weight: bold\">Dropout</span><span style=\"color: #ff00ff; text-decoration-color: #ff00ff\">(</span><span style=\"color: #0000ff; text-decoration-color: #0000ff\">p</span>=<span style=\"color: #008080; text-decoration-color: #008080; font-weight: bold\">0.2</span>, <span style=\"color: #0000ff; text-decoration-color: #0000ff\">inplace</span>=<span style=\"color: #ff0000; text-decoration-color: #ff0000; font-style: italic\">False</span><span style=\"color: #ff00ff; text-decoration-color: #ff00ff\">)</span>\n",
              "    <span style=\"color: #ff00ff; text-decoration-color: #ff00ff\">(</span>h<span style=\"color: #ff00ff; text-decoration-color: #ff00ff\">)</span>: <span style=\"color: #800080; text-decoration-color: #800080; font-weight: bold\">ModuleList</span><span style=\"color: #ff00ff; text-decoration-color: #ff00ff\">(</span>\n",
              "      <span style=\"color: #ff00ff; text-decoration-color: #ff00ff\">(</span><span style=\"color: #008080; text-decoration-color: #008080; font-weight: bold\">0</span>-<span style=\"color: #008080; text-decoration-color: #008080; font-weight: bold\">5</span><span style=\"color: #ff00ff; text-decoration-color: #ff00ff\">)</span>: <span style=\"color: #008080; text-decoration-color: #008080; font-weight: bold\">6</span> x <span style=\"color: #800080; text-decoration-color: #800080; font-weight: bold\">Block</span><span style=\"color: #ff00ff; text-decoration-color: #ff00ff\">(</span>\n",
              "        <span style=\"color: #ff00ff; text-decoration-color: #ff00ff\">(</span>ln_1<span style=\"color: #ff00ff; text-decoration-color: #ff00ff\">)</span>: <span style=\"color: #800080; text-decoration-color: #800080; font-weight: bold\">LayerNorm</span><span style=\"color: #ff00ff; text-decoration-color: #ff00ff\">()</span>\n",
              "        <span style=\"color: #ff00ff; text-decoration-color: #ff00ff\">(</span>attn<span style=\"color: #ff00ff; text-decoration-color: #ff00ff\">)</span>: <span style=\"color: #800080; text-decoration-color: #800080; font-weight: bold\">CausalSelfAttention</span><span style=\"color: #ff00ff; text-decoration-color: #ff00ff\">(</span>\n",
              "          <span style=\"color: #ff00ff; text-decoration-color: #ff00ff\">(</span>c_attn<span style=\"color: #ff00ff; text-decoration-color: #ff00ff\">)</span>: <span style=\"color: #800080; text-decoration-color: #800080; font-weight: bold\">Linear</span><span style=\"color: #ff00ff; text-decoration-color: #ff00ff\">(</span><span style=\"color: #0000ff; text-decoration-color: #0000ff\">in_features</span>=<span style=\"color: #008080; text-decoration-color: #008080; font-weight: bold\">384</span>, <span style=\"color: #0000ff; text-decoration-color: #0000ff\">out_features</span>=<span style=\"color: #008080; text-decoration-color: #008080; font-weight: bold\">1152</span>, <span style=\"color: #0000ff; text-decoration-color: #0000ff\">bias</span>=<span style=\"color: #ff0000; text-decoration-color: #ff0000; font-style: italic\">False</span><span style=\"color: #ff00ff; text-decoration-color: #ff00ff\">)</span>\n",
              "          <span style=\"color: #ff00ff; text-decoration-color: #ff00ff\">(</span>c_proj<span style=\"color: #ff00ff; text-decoration-color: #ff00ff\">)</span>: <span style=\"color: #800080; text-decoration-color: #800080; font-weight: bold\">Linear</span><span style=\"color: #ff00ff; text-decoration-color: #ff00ff\">(</span><span style=\"color: #0000ff; text-decoration-color: #0000ff\">in_features</span>=<span style=\"color: #008080; text-decoration-color: #008080; font-weight: bold\">384</span>, <span style=\"color: #0000ff; text-decoration-color: #0000ff\">out_features</span>=<span style=\"color: #008080; text-decoration-color: #008080; font-weight: bold\">384</span>, <span style=\"color: #0000ff; text-decoration-color: #0000ff\">bias</span>=<span style=\"color: #ff0000; text-decoration-color: #ff0000; font-style: italic\">False</span><span style=\"color: #ff00ff; text-decoration-color: #ff00ff\">)</span>\n",
              "          <span style=\"color: #ff00ff; text-decoration-color: #ff00ff\">(</span>attn_dropout<span style=\"color: #ff00ff; text-decoration-color: #ff00ff\">)</span>: <span style=\"color: #800080; text-decoration-color: #800080; font-weight: bold\">Dropout</span><span style=\"color: #ff00ff; text-decoration-color: #ff00ff\">(</span><span style=\"color: #0000ff; text-decoration-color: #0000ff\">p</span>=<span style=\"color: #008080; text-decoration-color: #008080; font-weight: bold\">0.2</span>, <span style=\"color: #0000ff; text-decoration-color: #0000ff\">inplace</span>=<span style=\"color: #ff0000; text-decoration-color: #ff0000; font-style: italic\">False</span><span style=\"color: #ff00ff; text-decoration-color: #ff00ff\">)</span>\n",
              "          <span style=\"color: #ff00ff; text-decoration-color: #ff00ff\">(</span>resid_dropout<span style=\"color: #ff00ff; text-decoration-color: #ff00ff\">)</span>: <span style=\"color: #800080; text-decoration-color: #800080; font-weight: bold\">Dropout</span><span style=\"color: #ff00ff; text-decoration-color: #ff00ff\">(</span><span style=\"color: #0000ff; text-decoration-color: #0000ff\">p</span>=<span style=\"color: #008080; text-decoration-color: #008080; font-weight: bold\">0.2</span>, <span style=\"color: #0000ff; text-decoration-color: #0000ff\">inplace</span>=<span style=\"color: #ff0000; text-decoration-color: #ff0000; font-style: italic\">False</span><span style=\"color: #ff00ff; text-decoration-color: #ff00ff\">)</span>\n",
              "        <span style=\"color: #ff00ff; text-decoration-color: #ff00ff\">)</span>\n",
              "        <span style=\"color: #ff00ff; text-decoration-color: #ff00ff\">(</span>ln_2<span style=\"color: #ff00ff; text-decoration-color: #ff00ff\">)</span>: <span style=\"color: #800080; text-decoration-color: #800080; font-weight: bold\">LayerNorm</span><span style=\"color: #ff00ff; text-decoration-color: #ff00ff\">()</span>\n",
              "        <span style=\"color: #ff00ff; text-decoration-color: #ff00ff\">(</span>mlp<span style=\"color: #ff00ff; text-decoration-color: #ff00ff\">)</span>: <span style=\"color: #800080; text-decoration-color: #800080; font-weight: bold\">MLP</span><span style=\"color: #ff00ff; text-decoration-color: #ff00ff\">(</span>\n",
              "          <span style=\"color: #ff00ff; text-decoration-color: #ff00ff\">(</span>c_fc<span style=\"color: #ff00ff; text-decoration-color: #ff00ff\">)</span>: <span style=\"color: #800080; text-decoration-color: #800080; font-weight: bold\">Linear</span><span style=\"color: #ff00ff; text-decoration-color: #ff00ff\">(</span><span style=\"color: #0000ff; text-decoration-color: #0000ff\">in_features</span>=<span style=\"color: #008080; text-decoration-color: #008080; font-weight: bold\">384</span>, <span style=\"color: #0000ff; text-decoration-color: #0000ff\">out_features</span>=<span style=\"color: #008080; text-decoration-color: #008080; font-weight: bold\">1536</span>, <span style=\"color: #0000ff; text-decoration-color: #0000ff\">bias</span>=<span style=\"color: #ff0000; text-decoration-color: #ff0000; font-style: italic\">False</span><span style=\"color: #ff00ff; text-decoration-color: #ff00ff\">)</span>\n",
              "          <span style=\"color: #ff00ff; text-decoration-color: #ff00ff\">(</span>act_fn<span style=\"color: #ff00ff; text-decoration-color: #ff00ff\">)</span>: <span style=\"color: #800080; text-decoration-color: #800080; font-weight: bold\">GELU</span><span style=\"color: #ff00ff; text-decoration-color: #ff00ff\">(</span><span style=\"color: #0000ff; text-decoration-color: #0000ff\">approximate</span>=<span style=\"color: #008000; text-decoration-color: #008000\">'none'</span><span style=\"color: #ff00ff; text-decoration-color: #ff00ff\">)</span>\n",
              "          <span style=\"color: #ff00ff; text-decoration-color: #ff00ff\">(</span>c_proj<span style=\"color: #ff00ff; text-decoration-color: #ff00ff\">)</span>: <span style=\"color: #800080; text-decoration-color: #800080; font-weight: bold\">Linear</span><span style=\"color: #ff00ff; text-decoration-color: #ff00ff\">(</span><span style=\"color: #0000ff; text-decoration-color: #0000ff\">in_features</span>=<span style=\"color: #008080; text-decoration-color: #008080; font-weight: bold\">1536</span>, <span style=\"color: #0000ff; text-decoration-color: #0000ff\">out_features</span>=<span style=\"color: #008080; text-decoration-color: #008080; font-weight: bold\">384</span>, <span style=\"color: #0000ff; text-decoration-color: #0000ff\">bias</span>=<span style=\"color: #ff0000; text-decoration-color: #ff0000; font-style: italic\">False</span><span style=\"color: #ff00ff; text-decoration-color: #ff00ff\">)</span>\n",
              "          <span style=\"color: #ff00ff; text-decoration-color: #ff00ff\">(</span>dropout<span style=\"color: #ff00ff; text-decoration-color: #ff00ff\">)</span>: <span style=\"color: #800080; text-decoration-color: #800080; font-weight: bold\">Dropout</span><span style=\"color: #ff00ff; text-decoration-color: #ff00ff\">(</span><span style=\"color: #0000ff; text-decoration-color: #0000ff\">p</span>=<span style=\"color: #008080; text-decoration-color: #008080; font-weight: bold\">0.2</span>, <span style=\"color: #0000ff; text-decoration-color: #0000ff\">inplace</span>=<span style=\"color: #ff0000; text-decoration-color: #ff0000; font-style: italic\">False</span><span style=\"color: #ff00ff; text-decoration-color: #ff00ff\">)</span>\n",
              "        <span style=\"color: #ff00ff; text-decoration-color: #ff00ff\">)</span>\n",
              "      <span style=\"color: #ff00ff; text-decoration-color: #ff00ff\">)</span>\n",
              "    <span style=\"color: #ff00ff; text-decoration-color: #ff00ff\">)</span>\n",
              "    <span style=\"color: #ff00ff; text-decoration-color: #ff00ff\">(</span>ln_f<span style=\"color: #ff00ff; text-decoration-color: #ff00ff\">)</span>: <span style=\"color: #800080; text-decoration-color: #800080; font-weight: bold\">LayerNorm</span><span style=\"color: #ff00ff; text-decoration-color: #ff00ff\">()</span>\n",
              "  <span style=\"color: #ff00ff; text-decoration-color: #ff00ff\">)</span>\n",
              "  <span style=\"color: #ff00ff; text-decoration-color: #ff00ff\">(</span>lm_head<span style=\"color: #ff00ff; text-decoration-color: #ff00ff\">)</span>: <span style=\"color: #800080; text-decoration-color: #800080; font-weight: bold\">Linear</span><span style=\"color: #ff00ff; text-decoration-color: #ff00ff\">(</span><span style=\"color: #0000ff; text-decoration-color: #0000ff\">in_features</span>=<span style=\"color: #008080; text-decoration-color: #008080; font-weight: bold\">384</span>, <span style=\"color: #0000ff; text-decoration-color: #0000ff\">out_features</span>=<span style=\"color: #008080; text-decoration-color: #008080; font-weight: bold\">65</span>, <span style=\"color: #0000ff; text-decoration-color: #0000ff\">bias</span>=<span style=\"color: #ff0000; text-decoration-color: #ff0000; font-style: italic\">False</span><span style=\"color: #ff00ff; text-decoration-color: #ff00ff\">)</span>\n",
              "<span style=\"color: #ff00ff; text-decoration-color: #ff00ff\">)</span>\n",
              "</pre>\n"
            ]
          },
          "metadata": {}
        },
        {
          "output_type": "display_data",
          "data": {
            "text/plain": [
              "[\u001b[2m2025-07-23 \u001b[0m\u001b[2m17:07:08,760469\u001b[0m][\u001b[32mI\u001b[0m][\u001b[3;36mwordplay\u001b[0m/\u001b[34mtrainer\u001b[0m\u001b[94m:\u001b[0m\u001b[35m361\u001b[0m]\u001b[37m \u001b[0m• self.\u001b[94moptimizer\u001b[0m=\u001b[35mAdamW\u001b[0m \u001b[95m(\u001b[0m\n",
              "Parameter Group \u001b[1;36m0\u001b[0m\n",
              "    amsgrad: \u001b[3;91mFalse\u001b[0m\n",
              "    betas: \u001b[95m(\u001b[0m\u001b[1;36m0.9\u001b[0m, \u001b[1;36m0.99\u001b[0m\u001b[95m)\u001b[0m\n",
              "    capturable: \u001b[3;91mFalse\u001b[0m\n",
              "    differentiable: \u001b[3;91mFalse\u001b[0m\n",
              "    eps: \u001b[1;36m1e-08\u001b[0m\n",
              "    foreach: \u001b[3;35mNone\u001b[0m\n",
              "    fused: \u001b[3;92mTrue\u001b[0m\n",
              "    lr: \u001b[1;36m0.001\u001b[0m\n",
              "    maximize: \u001b[3;91mFalse\u001b[0m\n",
              "    weight_decay: \u001b[1;36m0.1\u001b[0m\n",
              "\n",
              "Parameter Group \u001b[1;36m1\u001b[0m\n",
              "    amsgrad: \u001b[3;91mFalse\u001b[0m\n",
              "    betas: \u001b[95m(\u001b[0m\u001b[1;36m0.9\u001b[0m, \u001b[1;36m0.99\u001b[0m\u001b[95m)\u001b[0m\n",
              "    capturable: \u001b[3;91mFalse\u001b[0m\n",
              "    differentiable: \u001b[3;91mFalse\u001b[0m\n",
              "    eps: \u001b[1;36m1e-08\u001b[0m\n",
              "    foreach: \u001b[3;35mNone\u001b[0m\n",
              "    fused: \u001b[3;92mTrue\u001b[0m\n",
              "    lr: \u001b[1;36m0.001\u001b[0m\n",
              "    maximize: \u001b[3;91mFalse\u001b[0m\n",
              "    weight_decay: \u001b[1;36m0.0\u001b[0m\n",
              "\u001b[95m)\u001b[0m\n"
            ],
            "text/html": [
              "<pre style=\"white-space:pre;overflow-x:auto;line-height:normal;font-family:Menlo,'DejaVu Sans Mono',consolas,'Courier New',monospace\">[<span style=\"color: #7f7f7f; text-decoration-color: #7f7f7f\">2025-07-23 17:07:08,760469</span>][<span style=\"color: #008000; text-decoration-color: #008000\">I</span>][<span style=\"color: #008080; text-decoration-color: #008080; font-style: italic\">wordplay</span>/<span style=\"color: #000080; text-decoration-color: #000080\">trainer</span><span style=\"color: #0000ff; text-decoration-color: #0000ff\">:</span><span style=\"color: #800080; text-decoration-color: #800080\">361</span>]<span style=\"color: #c0c0c0; text-decoration-color: #c0c0c0\"> </span>• self.<span style=\"color: #0000ff; text-decoration-color: #0000ff\">optimizer</span>=<span style=\"color: #800080; text-decoration-color: #800080\">AdamW</span> <span style=\"color: #ff00ff; text-decoration-color: #ff00ff\">(</span>\n",
              "Parameter Group <span style=\"color: #008080; text-decoration-color: #008080; font-weight: bold\">0</span>\n",
              "    amsgrad: <span style=\"color: #ff0000; text-decoration-color: #ff0000; font-style: italic\">False</span>\n",
              "    betas: <span style=\"color: #ff00ff; text-decoration-color: #ff00ff\">(</span><span style=\"color: #008080; text-decoration-color: #008080; font-weight: bold\">0.9</span>, <span style=\"color: #008080; text-decoration-color: #008080; font-weight: bold\">0.99</span><span style=\"color: #ff00ff; text-decoration-color: #ff00ff\">)</span>\n",
              "    capturable: <span style=\"color: #ff0000; text-decoration-color: #ff0000; font-style: italic\">False</span>\n",
              "    differentiable: <span style=\"color: #ff0000; text-decoration-color: #ff0000; font-style: italic\">False</span>\n",
              "    eps: <span style=\"color: #008080; text-decoration-color: #008080; font-weight: bold\">1e-08</span>\n",
              "    foreach: <span style=\"color: #800080; text-decoration-color: #800080; font-style: italic\">None</span>\n",
              "    fused: <span style=\"color: #00ff00; text-decoration-color: #00ff00; font-style: italic\">True</span>\n",
              "    lr: <span style=\"color: #008080; text-decoration-color: #008080; font-weight: bold\">0.001</span>\n",
              "    maximize: <span style=\"color: #ff0000; text-decoration-color: #ff0000; font-style: italic\">False</span>\n",
              "    weight_decay: <span style=\"color: #008080; text-decoration-color: #008080; font-weight: bold\">0.1</span>\n",
              "\n",
              "Parameter Group <span style=\"color: #008080; text-decoration-color: #008080; font-weight: bold\">1</span>\n",
              "    amsgrad: <span style=\"color: #ff0000; text-decoration-color: #ff0000; font-style: italic\">False</span>\n",
              "    betas: <span style=\"color: #ff00ff; text-decoration-color: #ff00ff\">(</span><span style=\"color: #008080; text-decoration-color: #008080; font-weight: bold\">0.9</span>, <span style=\"color: #008080; text-decoration-color: #008080; font-weight: bold\">0.99</span><span style=\"color: #ff00ff; text-decoration-color: #ff00ff\">)</span>\n",
              "    capturable: <span style=\"color: #ff0000; text-decoration-color: #ff0000; font-style: italic\">False</span>\n",
              "    differentiable: <span style=\"color: #ff0000; text-decoration-color: #ff0000; font-style: italic\">False</span>\n",
              "    eps: <span style=\"color: #008080; text-decoration-color: #008080; font-weight: bold\">1e-08</span>\n",
              "    foreach: <span style=\"color: #800080; text-decoration-color: #800080; font-style: italic\">None</span>\n",
              "    fused: <span style=\"color: #00ff00; text-decoration-color: #00ff00; font-style: italic\">True</span>\n",
              "    lr: <span style=\"color: #008080; text-decoration-color: #008080; font-weight: bold\">0.001</span>\n",
              "    maximize: <span style=\"color: #ff0000; text-decoration-color: #ff0000; font-style: italic\">False</span>\n",
              "    weight_decay: <span style=\"color: #008080; text-decoration-color: #008080; font-weight: bold\">0.0</span>\n",
              "<span style=\"color: #ff00ff; text-decoration-color: #ff00ff\">)</span>\n",
              "</pre>\n"
            ]
          },
          "metadata": {}
        }
      ],
      "source": [
        "trainer = Trainer(config)"
      ],
      "id": "ed489145"
    },
    {
      "cell_type": "markdown",
      "metadata": {
        "id": "1ec63590-d757-403f-ae9f-c636672e6c32"
      },
      "source": [
        "## Prompt (**prior** to training)"
      ],
      "id": "1ec63590-d757-403f-ae9f-c636672e6c32"
    },
    {
      "cell_type": "code",
      "execution_count": 6,
      "metadata": {
        "quarto-private-1": {
          "key": "jupyter",
          "value": {
            "outputs_hidden": false,
            "source_hidden": false
          }
        },
        "id": "44cd7dbf",
        "outputId": "bc3cf870-0dfe-4e47-b590-907a50790328",
        "colab": {
          "base_uri": "https://localhost:8080/",
          "height": 119
        }
      },
      "outputs": [
        {
          "output_type": "display_data",
          "data": {
            "text/plain": [
              "[\u001b[2m2025-07-23 \u001b[0m\u001b[2m17:07:10,765047\u001b[0m][\u001b[32mI\u001b[0m][\u001b[3;36mtmp\u001b[0m/\u001b[34mipython-input-6-3496000222\u001b[0m\u001b[94m:\u001b[0m\u001b[35m9\u001b[0m\u001b[94m:\u001b[0m\u001b[3;92mezpz.log\u001b[0m]\u001b[37m \u001b[0m\u001b[95m[\u001b[0m\u001b[32m'prompt'\u001b[0m\u001b[95m]\u001b[0m: \u001b[32m'What is an LLM?'\u001b[0m\n"
            ],
            "text/html": [
              "<pre style=\"white-space:pre;overflow-x:auto;line-height:normal;font-family:Menlo,'DejaVu Sans Mono',consolas,'Courier New',monospace\">[<span style=\"color: #7f7f7f; text-decoration-color: #7f7f7f\">2025-07-23 17:07:10,765047</span>][<span style=\"color: #008000; text-decoration-color: #008000\">I</span>][<span style=\"color: #008080; text-decoration-color: #008080; font-style: italic\">tmp</span>/<span style=\"color: #000080; text-decoration-color: #000080\">ipython-input-6-3496000222</span><span style=\"color: #0000ff; text-decoration-color: #0000ff\">:</span><span style=\"color: #800080; text-decoration-color: #800080\">9</span><span style=\"color: #0000ff; text-decoration-color: #0000ff\">:</span><span style=\"color: #00ff00; text-decoration-color: #00ff00; font-style: italic\">ezpz.log</span>]<span style=\"color: #c0c0c0; text-decoration-color: #c0c0c0\"> </span><span style=\"color: #ff00ff; text-decoration-color: #ff00ff\">[</span><span style=\"color: #008000; text-decoration-color: #008000\">'prompt'</span><span style=\"color: #ff00ff; text-decoration-color: #ff00ff\">]</span>: <span style=\"color: #008000; text-decoration-color: #008000\">'What is an LLM?'</span>\n",
              "</pre>\n"
            ]
          },
          "metadata": {}
        },
        {
          "output_type": "display_data",
          "data": {
            "text/plain": [
              "[\u001b[2m2025-07-23 \u001b[0m\u001b[2m17:07:10,767795\u001b[0m][\u001b[32mI\u001b[0m][\u001b[3;36mtmp\u001b[0m/\u001b[34mipython-input-6-3496000222\u001b[0m\u001b[94m:\u001b[0m\u001b[35m10\u001b[0m\u001b[94m:\u001b[0m\u001b[3;92mezpz.log\u001b[0m]\u001b[37m \u001b[0m\u001b[95m[\u001b[0m\u001b[32m'response'\u001b[0m\u001b[95m]\u001b[0m:\n",
              "\n",
              "What is an LLM?ouuu'fU?UUUU-LLlVmoYY;?U$IMwwYDjMYYXSSdIss;I''DPOjHhooooMZtmkoGXjZ\n",
              "BDDddZkydVPcM'MAWILMDDP'\u001b[32m''\u001b[0m!A'Vzl;R\n",
              "dtA$ttoXttJJffobJJ;b-vkwwJJOHHwQFccddlobAGGnM'\u001b[32m''\u001b[0m$kW;kzZlSwZkAoR;wmooo$J-fffoYDd'UBooXYB;JSf?P'MJ..t'hPffID;R.XXo'\u001b[32m''\u001b[0mSPZkXXXe'VS.JoMdkXSffo'\u001b[32m'RHQklK'\u001b[0m'UUUSoMn\n"
            ],
            "text/html": [
              "<pre style=\"white-space:pre;overflow-x:auto;line-height:normal;font-family:Menlo,'DejaVu Sans Mono',consolas,'Courier New',monospace\">[<span style=\"color: #7f7f7f; text-decoration-color: #7f7f7f\">2025-07-23 17:07:10,767795</span>][<span style=\"color: #008000; text-decoration-color: #008000\">I</span>][<span style=\"color: #008080; text-decoration-color: #008080; font-style: italic\">tmp</span>/<span style=\"color: #000080; text-decoration-color: #000080\">ipython-input-6-3496000222</span><span style=\"color: #0000ff; text-decoration-color: #0000ff\">:</span><span style=\"color: #800080; text-decoration-color: #800080\">10</span><span style=\"color: #0000ff; text-decoration-color: #0000ff\">:</span><span style=\"color: #00ff00; text-decoration-color: #00ff00; font-style: italic\">ezpz.log</span>]<span style=\"color: #c0c0c0; text-decoration-color: #c0c0c0\"> </span><span style=\"color: #ff00ff; text-decoration-color: #ff00ff\">[</span><span style=\"color: #008000; text-decoration-color: #008000\">'response'</span><span style=\"color: #ff00ff; text-decoration-color: #ff00ff\">]</span>:\n",
              "\n",
              "What is an LLM?ouuu'fU?UUUU-LLlVmoYY;?U$IMwwYDjMYYXSSdIss;I''DPOjHhooooMZtmkoGXjZ\n",
              "BDDddZkydVPcM'MAWILMDDP'<span style=\"color: #008000; text-decoration-color: #008000\">''</span>!A'Vzl;R\n",
              "dtA$ttoXttJJffobJJ;b-vkwwJJOHHwQFccddlobAGGnM'<span style=\"color: #008000; text-decoration-color: #008000\">''</span>$kW;kzZlSwZkAoR;wmooo$J-fffoYDd'UBooXYB;JSf?P'MJ..t'hPffID;R.XXo'<span style=\"color: #008000; text-decoration-color: #008000\">''</span>SPZkXXXe'VS.JoMdkXSffo'<span style=\"color: #008000; text-decoration-color: #008000\">'RHQklK'</span>'UUUSoMn\n",
              "</pre>\n"
            ]
          },
          "metadata": {}
        }
      ],
      "source": [
        "query = \"What is an LLM?\"\n",
        "outputs = trainer.evaluate(\n",
        "    query,\n",
        "    num_samples=1,\n",
        "    max_new_tokens=256,\n",
        "    top_k=16,\n",
        "    display=False\n",
        ")\n",
        "logger.info(f\"['prompt']: '{query}'\")\n",
        "logger.info(\"['response']:\\n\\n\" + fr\"{outputs['0']['raw']}\")"
      ],
      "id": "44cd7dbf"
    },
    {
      "cell_type": "markdown",
      "metadata": {
        "id": "4ee31aed-0d34-4c73-9c4e-6e46796f2590"
      },
      "source": [
        "## Train Model\n",
        "\n",
        "|  name  |        description         |\n",
        "|:------:|:--------------------------:|\n",
        "| `step` |   Current training step    |\n",
        "| `loss` |         Loss value         |\n",
        "|  `dt`  | Time per step (in **ms**)  |\n",
        "| `sps`  |     Samples per second     |\n",
        "| `mtps` |  (million) Tokens per sec  |\n",
        "| `mfu`  | Model Flops utilization[1] |\n",
        "\n",
        "^legend: #tbl-legend\n",
        "\n",
        "[1] in units of A100 `bfloat16` peak FLOPS"
      ],
      "id": "4ee31aed-0d34-4c73-9c4e-6e46796f2590"
    },
    {
      "cell_type": "code",
      "execution_count": 7,
      "metadata": {
        "quarto-private-1": {
          "key": "jupyter",
          "value": {
            "outputs_hidden": false,
            "source_hidden": false
          }
        },
        "id": "db67bb9c",
        "outputId": "4c4b8c79-28f5-4061-d0a6-f36e1d17908f",
        "colab": {
          "base_uri": "https://localhost:8080/",
          "height": 35
        }
      },
      "outputs": [
        {
          "output_type": "execute_result",
          "data": {
            "text/plain": [
              "'cuda'"
            ],
            "application/vnd.google.colaboratory.intrinsic+json": {
              "type": "string"
            }
          },
          "metadata": {},
          "execution_count": 7
        }
      ],
      "source": [
        "trainer.config.device_type"
      ],
      "id": "db67bb9c"
    },
    {
      "cell_type": "code",
      "execution_count": 8,
      "metadata": {
        "quarto-private-1": {
          "key": "colab",
          "value": {
            "base_uri": "https://localhost:8080/",
            "height": 449
          }
        },
        "id": "de66f9f5",
        "outputId": "501f8ab3-475a-461a-a8a6-61e24c806939",
        "colab": {
          "base_uri": "https://localhost:8080/",
          "height": 476
        }
      },
      "outputs": [
        {
          "output_type": "display_data",
          "data": {
            "text/plain": [
              "\u001b[1;35mGPT\u001b[0m\u001b[1m(\u001b[0m\n",
              "  \u001b[1m(\u001b[0mtransformer\u001b[1m)\u001b[0m: \u001b[1;35mModuleDict\u001b[0m\u001b[1m(\u001b[0m\n",
              "    \u001b[1m(\u001b[0mwte\u001b[1m)\u001b[0m: \u001b[1;35mEmbedding\u001b[0m\u001b[1m(\u001b[0m\u001b[1;36m65\u001b[0m, \u001b[1;36m384\u001b[0m\u001b[1m)\u001b[0m\n",
              "    \u001b[1m(\u001b[0mwpe\u001b[1m)\u001b[0m: \u001b[1;35mEmbedding\u001b[0m\u001b[1m(\u001b[0m\u001b[1;36m1024\u001b[0m, \u001b[1;36m384\u001b[0m\u001b[1m)\u001b[0m\n",
              "    \u001b[1m(\u001b[0mdrop\u001b[1m)\u001b[0m: \u001b[1;35mDropout\u001b[0m\u001b[1m(\u001b[0m\u001b[33mp\u001b[0m=\u001b[1;36m0\u001b[0m\u001b[1;36m.2\u001b[0m, \u001b[33minplace\u001b[0m=\u001b[3;91mFalse\u001b[0m\u001b[1m)\u001b[0m\n",
              "    \u001b[1m(\u001b[0mh\u001b[1m)\u001b[0m: \u001b[1;35mModuleList\u001b[0m\u001b[1m(\u001b[0m\n",
              "      \u001b[1m(\u001b[0m\u001b[1;36m0\u001b[0m-\u001b[1;36m5\u001b[0m\u001b[1m)\u001b[0m: \u001b[1;36m6\u001b[0m x \u001b[1;35mBlock\u001b[0m\u001b[1m(\u001b[0m\n",
              "        \u001b[1m(\u001b[0mln_1\u001b[1m)\u001b[0m: \u001b[1;35mLayerNorm\u001b[0m\u001b[1m(\u001b[0m\u001b[1m)\u001b[0m\n",
              "        \u001b[1m(\u001b[0mattn\u001b[1m)\u001b[0m: \u001b[1;35mCausalSelfAttention\u001b[0m\u001b[1m(\u001b[0m\n",
              "          \u001b[1m(\u001b[0mc_attn\u001b[1m)\u001b[0m: \u001b[1;35mLinear\u001b[0m\u001b[1m(\u001b[0m\u001b[33min_features\u001b[0m=\u001b[1;36m384\u001b[0m, \u001b[33mout_features\u001b[0m=\u001b[1;36m1152\u001b[0m, \u001b[33mbias\u001b[0m=\u001b[3;91mFalse\u001b[0m\u001b[1m)\u001b[0m\n",
              "          \u001b[1m(\u001b[0mc_proj\u001b[1m)\u001b[0m: \u001b[1;35mLinear\u001b[0m\u001b[1m(\u001b[0m\u001b[33min_features\u001b[0m=\u001b[1;36m384\u001b[0m, \u001b[33mout_features\u001b[0m=\u001b[1;36m384\u001b[0m, \u001b[33mbias\u001b[0m=\u001b[3;91mFalse\u001b[0m\u001b[1m)\u001b[0m\n",
              "          \u001b[1m(\u001b[0mattn_dropout\u001b[1m)\u001b[0m: \u001b[1;35mDropout\u001b[0m\u001b[1m(\u001b[0m\u001b[33mp\u001b[0m=\u001b[1;36m0\u001b[0m\u001b[1;36m.2\u001b[0m, \u001b[33minplace\u001b[0m=\u001b[3;91mFalse\u001b[0m\u001b[1m)\u001b[0m\n",
              "          \u001b[1m(\u001b[0mresid_dropout\u001b[1m)\u001b[0m: \u001b[1;35mDropout\u001b[0m\u001b[1m(\u001b[0m\u001b[33mp\u001b[0m=\u001b[1;36m0\u001b[0m\u001b[1;36m.2\u001b[0m, \u001b[33minplace\u001b[0m=\u001b[3;91mFalse\u001b[0m\u001b[1m)\u001b[0m\n",
              "        \u001b[1m)\u001b[0m\n",
              "        \u001b[1m(\u001b[0mln_2\u001b[1m)\u001b[0m: \u001b[1;35mLayerNorm\u001b[0m\u001b[1m(\u001b[0m\u001b[1m)\u001b[0m\n",
              "        \u001b[1m(\u001b[0mmlp\u001b[1m)\u001b[0m: \u001b[1;35mMLP\u001b[0m\u001b[1m(\u001b[0m\n",
              "          \u001b[1m(\u001b[0mc_fc\u001b[1m)\u001b[0m: \u001b[1;35mLinear\u001b[0m\u001b[1m(\u001b[0m\u001b[33min_features\u001b[0m=\u001b[1;36m384\u001b[0m, \u001b[33mout_features\u001b[0m=\u001b[1;36m1536\u001b[0m, \u001b[33mbias\u001b[0m=\u001b[3;91mFalse\u001b[0m\u001b[1m)\u001b[0m\n",
              "          \u001b[1m(\u001b[0mact_fn\u001b[1m)\u001b[0m: \u001b[1;35mGELU\u001b[0m\u001b[1m(\u001b[0m\u001b[33mapproximate\u001b[0m=\u001b[32m'none'\u001b[0m\u001b[1m)\u001b[0m\n",
              "          \u001b[1m(\u001b[0mc_proj\u001b[1m)\u001b[0m: \u001b[1;35mLinear\u001b[0m\u001b[1m(\u001b[0m\u001b[33min_features\u001b[0m=\u001b[1;36m1536\u001b[0m, \u001b[33mout_features\u001b[0m=\u001b[1;36m384\u001b[0m, \u001b[33mbias\u001b[0m=\u001b[3;91mFalse\u001b[0m\u001b[1m)\u001b[0m\n",
              "          \u001b[1m(\u001b[0mdropout\u001b[1m)\u001b[0m: \u001b[1;35mDropout\u001b[0m\u001b[1m(\u001b[0m\u001b[33mp\u001b[0m=\u001b[1;36m0\u001b[0m\u001b[1;36m.2\u001b[0m, \u001b[33minplace\u001b[0m=\u001b[3;91mFalse\u001b[0m\u001b[1m)\u001b[0m\n",
              "        \u001b[1m)\u001b[0m\n",
              "      \u001b[1m)\u001b[0m\n",
              "    \u001b[1m)\u001b[0m\n",
              "    \u001b[1m(\u001b[0mln_f\u001b[1m)\u001b[0m: \u001b[1;35mLayerNorm\u001b[0m\u001b[1m(\u001b[0m\u001b[1m)\u001b[0m\n",
              "  \u001b[1m)\u001b[0m\n",
              "  \u001b[1m(\u001b[0mlm_head\u001b[1m)\u001b[0m: \u001b[1;35mLinear\u001b[0m\u001b[1m(\u001b[0m\u001b[33min_features\u001b[0m=\u001b[1;36m384\u001b[0m, \u001b[33mout_features\u001b[0m=\u001b[1;36m65\u001b[0m, \u001b[33mbias\u001b[0m=\u001b[3;91mFalse\u001b[0m\u001b[1m)\u001b[0m\n",
              "\u001b[1m)\u001b[0m\n"
            ],
            "text/html": [
              "<pre style=\"white-space:pre;overflow-x:auto;line-height:normal;font-family:Menlo,'DejaVu Sans Mono',consolas,'Courier New',monospace\"><span style=\"color: #800080; text-decoration-color: #800080; font-weight: bold\">GPT</span><span style=\"font-weight: bold\">(</span>\n",
              "  <span style=\"font-weight: bold\">(</span>transformer<span style=\"font-weight: bold\">)</span>: <span style=\"color: #800080; text-decoration-color: #800080; font-weight: bold\">ModuleDict</span><span style=\"font-weight: bold\">(</span>\n",
              "    <span style=\"font-weight: bold\">(</span>wte<span style=\"font-weight: bold\">)</span>: <span style=\"color: #800080; text-decoration-color: #800080; font-weight: bold\">Embedding</span><span style=\"font-weight: bold\">(</span><span style=\"color: #008080; text-decoration-color: #008080; font-weight: bold\">65</span>, <span style=\"color: #008080; text-decoration-color: #008080; font-weight: bold\">384</span><span style=\"font-weight: bold\">)</span>\n",
              "    <span style=\"font-weight: bold\">(</span>wpe<span style=\"font-weight: bold\">)</span>: <span style=\"color: #800080; text-decoration-color: #800080; font-weight: bold\">Embedding</span><span style=\"font-weight: bold\">(</span><span style=\"color: #008080; text-decoration-color: #008080; font-weight: bold\">1024</span>, <span style=\"color: #008080; text-decoration-color: #008080; font-weight: bold\">384</span><span style=\"font-weight: bold\">)</span>\n",
              "    <span style=\"font-weight: bold\">(</span>drop<span style=\"font-weight: bold\">)</span>: <span style=\"color: #800080; text-decoration-color: #800080; font-weight: bold\">Dropout</span><span style=\"font-weight: bold\">(</span><span style=\"color: #808000; text-decoration-color: #808000\">p</span>=<span style=\"color: #008080; text-decoration-color: #008080; font-weight: bold\">0.2</span>, <span style=\"color: #808000; text-decoration-color: #808000\">inplace</span>=<span style=\"color: #ff0000; text-decoration-color: #ff0000; font-style: italic\">False</span><span style=\"font-weight: bold\">)</span>\n",
              "    <span style=\"font-weight: bold\">(</span>h<span style=\"font-weight: bold\">)</span>: <span style=\"color: #800080; text-decoration-color: #800080; font-weight: bold\">ModuleList</span><span style=\"font-weight: bold\">(</span>\n",
              "      <span style=\"font-weight: bold\">(</span><span style=\"color: #008080; text-decoration-color: #008080; font-weight: bold\">0</span>-<span style=\"color: #008080; text-decoration-color: #008080; font-weight: bold\">5</span><span style=\"font-weight: bold\">)</span>: <span style=\"color: #008080; text-decoration-color: #008080; font-weight: bold\">6</span> x <span style=\"color: #800080; text-decoration-color: #800080; font-weight: bold\">Block</span><span style=\"font-weight: bold\">(</span>\n",
              "        <span style=\"font-weight: bold\">(</span>ln_1<span style=\"font-weight: bold\">)</span>: <span style=\"color: #800080; text-decoration-color: #800080; font-weight: bold\">LayerNorm</span><span style=\"font-weight: bold\">()</span>\n",
              "        <span style=\"font-weight: bold\">(</span>attn<span style=\"font-weight: bold\">)</span>: <span style=\"color: #800080; text-decoration-color: #800080; font-weight: bold\">CausalSelfAttention</span><span style=\"font-weight: bold\">(</span>\n",
              "          <span style=\"font-weight: bold\">(</span>c_attn<span style=\"font-weight: bold\">)</span>: <span style=\"color: #800080; text-decoration-color: #800080; font-weight: bold\">Linear</span><span style=\"font-weight: bold\">(</span><span style=\"color: #808000; text-decoration-color: #808000\">in_features</span>=<span style=\"color: #008080; text-decoration-color: #008080; font-weight: bold\">384</span>, <span style=\"color: #808000; text-decoration-color: #808000\">out_features</span>=<span style=\"color: #008080; text-decoration-color: #008080; font-weight: bold\">1152</span>, <span style=\"color: #808000; text-decoration-color: #808000\">bias</span>=<span style=\"color: #ff0000; text-decoration-color: #ff0000; font-style: italic\">False</span><span style=\"font-weight: bold\">)</span>\n",
              "          <span style=\"font-weight: bold\">(</span>c_proj<span style=\"font-weight: bold\">)</span>: <span style=\"color: #800080; text-decoration-color: #800080; font-weight: bold\">Linear</span><span style=\"font-weight: bold\">(</span><span style=\"color: #808000; text-decoration-color: #808000\">in_features</span>=<span style=\"color: #008080; text-decoration-color: #008080; font-weight: bold\">384</span>, <span style=\"color: #808000; text-decoration-color: #808000\">out_features</span>=<span style=\"color: #008080; text-decoration-color: #008080; font-weight: bold\">384</span>, <span style=\"color: #808000; text-decoration-color: #808000\">bias</span>=<span style=\"color: #ff0000; text-decoration-color: #ff0000; font-style: italic\">False</span><span style=\"font-weight: bold\">)</span>\n",
              "          <span style=\"font-weight: bold\">(</span>attn_dropout<span style=\"font-weight: bold\">)</span>: <span style=\"color: #800080; text-decoration-color: #800080; font-weight: bold\">Dropout</span><span style=\"font-weight: bold\">(</span><span style=\"color: #808000; text-decoration-color: #808000\">p</span>=<span style=\"color: #008080; text-decoration-color: #008080; font-weight: bold\">0.2</span>, <span style=\"color: #808000; text-decoration-color: #808000\">inplace</span>=<span style=\"color: #ff0000; text-decoration-color: #ff0000; font-style: italic\">False</span><span style=\"font-weight: bold\">)</span>\n",
              "          <span style=\"font-weight: bold\">(</span>resid_dropout<span style=\"font-weight: bold\">)</span>: <span style=\"color: #800080; text-decoration-color: #800080; font-weight: bold\">Dropout</span><span style=\"font-weight: bold\">(</span><span style=\"color: #808000; text-decoration-color: #808000\">p</span>=<span style=\"color: #008080; text-decoration-color: #008080; font-weight: bold\">0.2</span>, <span style=\"color: #808000; text-decoration-color: #808000\">inplace</span>=<span style=\"color: #ff0000; text-decoration-color: #ff0000; font-style: italic\">False</span><span style=\"font-weight: bold\">)</span>\n",
              "        <span style=\"font-weight: bold\">)</span>\n",
              "        <span style=\"font-weight: bold\">(</span>ln_2<span style=\"font-weight: bold\">)</span>: <span style=\"color: #800080; text-decoration-color: #800080; font-weight: bold\">LayerNorm</span><span style=\"font-weight: bold\">()</span>\n",
              "        <span style=\"font-weight: bold\">(</span>mlp<span style=\"font-weight: bold\">)</span>: <span style=\"color: #800080; text-decoration-color: #800080; font-weight: bold\">MLP</span><span style=\"font-weight: bold\">(</span>\n",
              "          <span style=\"font-weight: bold\">(</span>c_fc<span style=\"font-weight: bold\">)</span>: <span style=\"color: #800080; text-decoration-color: #800080; font-weight: bold\">Linear</span><span style=\"font-weight: bold\">(</span><span style=\"color: #808000; text-decoration-color: #808000\">in_features</span>=<span style=\"color: #008080; text-decoration-color: #008080; font-weight: bold\">384</span>, <span style=\"color: #808000; text-decoration-color: #808000\">out_features</span>=<span style=\"color: #008080; text-decoration-color: #008080; font-weight: bold\">1536</span>, <span style=\"color: #808000; text-decoration-color: #808000\">bias</span>=<span style=\"color: #ff0000; text-decoration-color: #ff0000; font-style: italic\">False</span><span style=\"font-weight: bold\">)</span>\n",
              "          <span style=\"font-weight: bold\">(</span>act_fn<span style=\"font-weight: bold\">)</span>: <span style=\"color: #800080; text-decoration-color: #800080; font-weight: bold\">GELU</span><span style=\"font-weight: bold\">(</span><span style=\"color: #808000; text-decoration-color: #808000\">approximate</span>=<span style=\"color: #008000; text-decoration-color: #008000\">'none'</span><span style=\"font-weight: bold\">)</span>\n",
              "          <span style=\"font-weight: bold\">(</span>c_proj<span style=\"font-weight: bold\">)</span>: <span style=\"color: #800080; text-decoration-color: #800080; font-weight: bold\">Linear</span><span style=\"font-weight: bold\">(</span><span style=\"color: #808000; text-decoration-color: #808000\">in_features</span>=<span style=\"color: #008080; text-decoration-color: #008080; font-weight: bold\">1536</span>, <span style=\"color: #808000; text-decoration-color: #808000\">out_features</span>=<span style=\"color: #008080; text-decoration-color: #008080; font-weight: bold\">384</span>, <span style=\"color: #808000; text-decoration-color: #808000\">bias</span>=<span style=\"color: #ff0000; text-decoration-color: #ff0000; font-style: italic\">False</span><span style=\"font-weight: bold\">)</span>\n",
              "          <span style=\"font-weight: bold\">(</span>dropout<span style=\"font-weight: bold\">)</span>: <span style=\"color: #800080; text-decoration-color: #800080; font-weight: bold\">Dropout</span><span style=\"font-weight: bold\">(</span><span style=\"color: #808000; text-decoration-color: #808000\">p</span>=<span style=\"color: #008080; text-decoration-color: #008080; font-weight: bold\">0.2</span>, <span style=\"color: #808000; text-decoration-color: #808000\">inplace</span>=<span style=\"color: #ff0000; text-decoration-color: #ff0000; font-style: italic\">False</span><span style=\"font-weight: bold\">)</span>\n",
              "        <span style=\"font-weight: bold\">)</span>\n",
              "      <span style=\"font-weight: bold\">)</span>\n",
              "    <span style=\"font-weight: bold\">)</span>\n",
              "    <span style=\"font-weight: bold\">(</span>ln_f<span style=\"font-weight: bold\">)</span>: <span style=\"color: #800080; text-decoration-color: #800080; font-weight: bold\">LayerNorm</span><span style=\"font-weight: bold\">()</span>\n",
              "  <span style=\"font-weight: bold\">)</span>\n",
              "  <span style=\"font-weight: bold\">(</span>lm_head<span style=\"font-weight: bold\">)</span>: <span style=\"color: #800080; text-decoration-color: #800080; font-weight: bold\">Linear</span><span style=\"font-weight: bold\">(</span><span style=\"color: #808000; text-decoration-color: #808000\">in_features</span>=<span style=\"color: #008080; text-decoration-color: #008080; font-weight: bold\">384</span>, <span style=\"color: #808000; text-decoration-color: #808000\">out_features</span>=<span style=\"color: #008080; text-decoration-color: #008080; font-weight: bold\">65</span>, <span style=\"color: #808000; text-decoration-color: #808000\">bias</span>=<span style=\"color: #ff0000; text-decoration-color: #ff0000; font-style: italic\">False</span><span style=\"font-weight: bold\">)</span>\n",
              "<span style=\"font-weight: bold\">)</span>\n",
              "</pre>\n"
            ]
          },
          "metadata": {}
        }
      ],
      "source": [
        "from rich import print\n",
        "\n",
        "print(trainer.model)"
      ],
      "id": "de66f9f5"
    },
    {
      "cell_type": "markdown",
      "metadata": {
        "id": "1781f3ff-0838-4476-b067-313f08c13fea"
      },
      "source": [
        "## (partial) Training:\n",
        "\n",
        "We’ll first train for 500 iterations and then evaluate the models\n",
        "performance on the same prompt:\n",
        "\n",
        "> What is an LLM?"
      ],
      "id": "1781f3ff-0838-4476-b067-313f08c13fea"
    },
    {
      "cell_type": "code",
      "execution_count": 9,
      "metadata": {
        "quarto-private-1": {
          "key": "jupyter",
          "value": {
            "outputs_hidden": false,
            "source_hidden": false
          }
        },
        "id": "16d89082",
        "outputId": "0d9f60dd-fb64-424c-dce0-908467101514",
        "colab": {
          "base_uri": "https://localhost:8080/",
          "height": 1000
        }
      },
      "outputs": [
        {
          "output_type": "display_data",
          "data": {
            "text/plain": [
              "\u001b[3m                Training Legend                 \u001b[0m\n",
              "┏━━━━━━━━━━━━━┳━━━━━━━━━━━━━━━━━━━━━━━━━━━━━━━━┓\n",
              "┃\u001b[1m \u001b[0m\u001b[1m       abbr\u001b[0m\u001b[1m \u001b[0m┃\u001b[1m \u001b[0m\u001b[1mdesc                          \u001b[0m\u001b[1m \u001b[0m┃\n",
              "┡━━━━━━━━━━━━━╇━━━━━━━━━━━━━━━━━━━━━━━━━━━━━━━━┩\n",
              "│\u001b[32m \u001b[0m\u001b[32m       step\u001b[0m\u001b[32m \u001b[0m│ Current training iteration     │\n",
              "│\u001b[32m \u001b[0m\u001b[32m       loss\u001b[0m\u001b[32m \u001b[0m│ Loss value                     │\n",
              "│\u001b[32m \u001b[0m\u001b[32m         dt\u001b[0m\u001b[32m \u001b[0m│ Elapsed time per training step │\n",
              "│\u001b[32m \u001b[0m\u001b[32m        dtf\u001b[0m\u001b[32m \u001b[0m│ Elapsed time per forward step  │\n",
              "│\u001b[32m \u001b[0m\u001b[32m        dtb\u001b[0m\u001b[32m \u001b[0m│ Elapsed time per backward step │\n",
              "│\u001b[32m \u001b[0m\u001b[32m        sps\u001b[0m\u001b[32m \u001b[0m│ Samples per second             │\n",
              "│\u001b[32m \u001b[0m\u001b[32msps_per_gpu\u001b[0m\u001b[32m \u001b[0m│ Samples per second (per GPU)   │\n",
              "│\u001b[32m \u001b[0m\u001b[32m        tps\u001b[0m\u001b[32m \u001b[0m│ Tokens per second              │\n",
              "│\u001b[32m \u001b[0m\u001b[32mtps_per_gpu\u001b[0m\u001b[32m \u001b[0m│ Tokens per second (per GPU)    │\n",
              "│\u001b[32m \u001b[0m\u001b[32m        mfu\u001b[0m\u001b[32m \u001b[0m│ Model flops utilization        │\n",
              "└─────────────┴────────────────────────────────┘\n"
            ],
            "text/html": [
              "<pre style=\"white-space:pre;overflow-x:auto;line-height:normal;font-family:Menlo,'DejaVu Sans Mono',consolas,'Courier New',monospace\"><span style=\"font-style: italic\">                Training Legend                 </span>\n",
              "┏━━━━━━━━━━━━━┳━━━━━━━━━━━━━━━━━━━━━━━━━━━━━━━━┓\n",
              "┃<span style=\"font-weight: bold\">        abbr </span>┃<span style=\"font-weight: bold\"> desc                           </span>┃\n",
              "┡━━━━━━━━━━━━━╇━━━━━━━━━━━━━━━━━━━━━━━━━━━━━━━━┩\n",
              "│<span style=\"color: #008000; text-decoration-color: #008000\">        step </span>│ Current training iteration     │\n",
              "│<span style=\"color: #008000; text-decoration-color: #008000\">        loss </span>│ Loss value                     │\n",
              "│<span style=\"color: #008000; text-decoration-color: #008000\">          dt </span>│ Elapsed time per training step │\n",
              "│<span style=\"color: #008000; text-decoration-color: #008000\">         dtf </span>│ Elapsed time per forward step  │\n",
              "│<span style=\"color: #008000; text-decoration-color: #008000\">         dtb </span>│ Elapsed time per backward step │\n",
              "│<span style=\"color: #008000; text-decoration-color: #008000\">         sps </span>│ Samples per second             │\n",
              "│<span style=\"color: #008000; text-decoration-color: #008000\"> sps_per_gpu </span>│ Samples per second (per GPU)   │\n",
              "│<span style=\"color: #008000; text-decoration-color: #008000\">         tps </span>│ Tokens per second              │\n",
              "│<span style=\"color: #008000; text-decoration-color: #008000\"> tps_per_gpu </span>│ Tokens per second (per GPU)    │\n",
              "│<span style=\"color: #008000; text-decoration-color: #008000\">         mfu </span>│ Model flops utilization        │\n",
              "└─────────────┴────────────────────────────────┘\n",
              "</pre>\n"
            ]
          },
          "metadata": {}
        },
        {
          "output_type": "display_data",
          "data": {
            "text/plain": [
              "[\u001b[2m2025-07-23 \u001b[0m\u001b[2m17:07:12,567707\u001b[0m][\u001b[32mI\u001b[0m][\u001b[3;36mwordplay\u001b[0m/\u001b[34mtrainer\u001b[0m\u001b[94m:\u001b[0m\u001b[35m827\u001b[0m]\u001b[37m \u001b[0m\u001b[95m[\u001b[0m\u001b[32m'prompt'\u001b[0m\u001b[95m]\u001b[0m: \u001b[32m'What is an LLM?'\u001b[0m\n"
            ],
            "text/html": [
              "<pre style=\"white-space:pre;overflow-x:auto;line-height:normal;font-family:Menlo,'DejaVu Sans Mono',consolas,'Courier New',monospace\">[<span style=\"color: #7f7f7f; text-decoration-color: #7f7f7f\">2025-07-23 17:07:12,567707</span>][<span style=\"color: #008000; text-decoration-color: #008000\">I</span>][<span style=\"color: #008080; text-decoration-color: #008080; font-style: italic\">wordplay</span>/<span style=\"color: #000080; text-decoration-color: #000080\">trainer</span><span style=\"color: #0000ff; text-decoration-color: #0000ff\">:</span><span style=\"color: #800080; text-decoration-color: #800080\">827</span>]<span style=\"color: #c0c0c0; text-decoration-color: #c0c0c0\"> </span><span style=\"color: #ff00ff; text-decoration-color: #ff00ff\">[</span><span style=\"color: #008000; text-decoration-color: #008000\">'prompt'</span><span style=\"color: #ff00ff; text-decoration-color: #ff00ff\">]</span>: <span style=\"color: #008000; text-decoration-color: #008000\">'What is an LLM?'</span>\n",
              "</pre>\n"
            ]
          },
          "metadata": {}
        },
        {
          "output_type": "display_data",
          "data": {
            "text/plain": [
              "[\u001b[2m2025-07-23 \u001b[0m\u001b[2m17:07:12,572514\u001b[0m][\u001b[32mI\u001b[0m][\u001b[3;36mwordplay\u001b[0m/\u001b[34mtrainer\u001b[0m\u001b[94m:\u001b[0m\u001b[35m831\u001b[0m]\u001b[37m \u001b[0m\u001b[95m[\u001b[0m\u001b[32m'response'\u001b[0m\u001b[95m]\u001b[0m:\n",
              "\n",
              "What is an LLM?ZIoZo-om';-\u001b[32m'MAhB,RcOVP!JJhhkkJnnUzI'\u001b[0m\u001b[32m'&D&jH!ddWJJhfUUVkRhZoZ:MoJRtDjkkhhdMM'\u001b[0mSdd-dbUoXXLSfyXXXRb3ZOS'\u001b[32m'$!o&&jnVJ3MMkjJ'\u001b[0mMffe-cm..J3Oa;'$hooJ3z!jUSDn\n",
              "\u001b[32m'DqBJtHH;!ozZIZokzoooYlMKLJm.DDmkkXRX'\u001b[0mNnhMSccJsH;Ude.tRzDoUtm'JmCd;Jd&j'Qo&\u001b[32m'$$DAJTPPVv&j'\u001b[0mjjtmmtdls;wNNoooJ3$DDJ\n"
            ],
            "text/html": [
              "<pre style=\"white-space:pre;overflow-x:auto;line-height:normal;font-family:Menlo,'DejaVu Sans Mono',consolas,'Courier New',monospace\">[<span style=\"color: #7f7f7f; text-decoration-color: #7f7f7f\">2025-07-23 17:07:12,572514</span>][<span style=\"color: #008000; text-decoration-color: #008000\">I</span>][<span style=\"color: #008080; text-decoration-color: #008080; font-style: italic\">wordplay</span>/<span style=\"color: #000080; text-decoration-color: #000080\">trainer</span><span style=\"color: #0000ff; text-decoration-color: #0000ff\">:</span><span style=\"color: #800080; text-decoration-color: #800080\">831</span>]<span style=\"color: #c0c0c0; text-decoration-color: #c0c0c0\"> </span><span style=\"color: #ff00ff; text-decoration-color: #ff00ff\">[</span><span style=\"color: #008000; text-decoration-color: #008000\">'response'</span><span style=\"color: #ff00ff; text-decoration-color: #ff00ff\">]</span>:\n",
              "\n",
              "What is an LLM?ZIoZo-om';-<span style=\"color: #008000; text-decoration-color: #008000\">'MAhB,RcOVP!JJhhkkJnnUzI''&amp;D&amp;jH!ddWJJhfUUVkRhZoZ:MoJRtDjkkhhdMM'</span>Sdd-dbUoXXLSfyXXXRb3ZOS'<span style=\"color: #008000; text-decoration-color: #008000\">'$!o&amp;&amp;jnVJ3MMkjJ'</span>Mffe-cm..J3Oa;'$hooJ3z!jUSDn\n",
              "<span style=\"color: #008000; text-decoration-color: #008000\">'DqBJtHH;!ozZIZokzoooYlMKLJm.DDmkkXRX'</span>NnhMSccJsH;Ude.tRzDoUtm'JmCd;Jd&amp;j'Qo&amp;<span style=\"color: #008000; text-decoration-color: #008000\">'$$DAJTPPVv&amp;j'</span>jjtmmtdls;wNNoooJ3$DDJ\n",
              "</pre>\n"
            ]
          },
          "metadata": {}
        },
        {
          "output_type": "display_data",
          "data": {
            "text/plain": [
              "[\u001b[2m2025-07-23 \u001b[0m\u001b[2m17:08:14,213943\u001b[0m][\u001b[32mI\u001b[0m][\u001b[3;36mwordplay\u001b[0m/\u001b[34mtrainer\u001b[0m\u001b[94m:\u001b[0m\u001b[35m894\u001b[0m]\u001b[37m \u001b[0m\u001b[94mstep\u001b[0m=\u001b[1;36m10\u001b[0m \u001b[94mloss\u001b[0m=\u001b[1;36m3\u001b[0m\u001b[1;36m.28901\u001b[0m \u001b[94mdt\u001b[0m=\u001b[1;36m0\u001b[0m\u001b[1;36m.388647\u001b[0m \u001b[94mdtf\u001b[0m=\u001b[1;36m0\u001b[0m\u001b[1;36m.0077605\u001b[0m \u001b[94mdtb\u001b[0m=\u001b[1;36m0\u001b[0m\u001b[1;36m.0102481\u001b[0m \u001b[94msps\u001b[0m=\u001b[1;36m2\u001b[0m\u001b[1;36m.57303\u001b[0m \u001b[94msps_per_gpu\u001b[0m=\u001b[1;36m2\u001b[0m\u001b[1;36m.57303\u001b[0m \u001b[94mtps\u001b[0m=\u001b[1;36m21078\u001b[0m\u001b[1;36m.3\u001b[0m \u001b[94mtps_per_gpu\u001b[0m=\u001b[1;36m21078\u001b[0m\u001b[1;36m.3\u001b[0m \u001b[94mmfu\u001b[0m=\u001b[1;36m0\u001b[0m\u001b[1;36m.622837\u001b[0m\n"
            ],
            "text/html": [
              "<pre style=\"white-space:pre;overflow-x:auto;line-height:normal;font-family:Menlo,'DejaVu Sans Mono',consolas,'Courier New',monospace\">[<span style=\"color: #7f7f7f; text-decoration-color: #7f7f7f\">2025-07-23 17:08:14,213943</span>][<span style=\"color: #008000; text-decoration-color: #008000\">I</span>][<span style=\"color: #008080; text-decoration-color: #008080; font-style: italic\">wordplay</span>/<span style=\"color: #000080; text-decoration-color: #000080\">trainer</span><span style=\"color: #0000ff; text-decoration-color: #0000ff\">:</span><span style=\"color: #800080; text-decoration-color: #800080\">894</span>]<span style=\"color: #c0c0c0; text-decoration-color: #c0c0c0\"> </span><span style=\"color: #0000ff; text-decoration-color: #0000ff\">step</span>=<span style=\"color: #008080; text-decoration-color: #008080; font-weight: bold\">10</span> <span style=\"color: #0000ff; text-decoration-color: #0000ff\">loss</span>=<span style=\"color: #008080; text-decoration-color: #008080; font-weight: bold\">3.28901</span> <span style=\"color: #0000ff; text-decoration-color: #0000ff\">dt</span>=<span style=\"color: #008080; text-decoration-color: #008080; font-weight: bold\">0.388647</span> <span style=\"color: #0000ff; text-decoration-color: #0000ff\">dtf</span>=<span style=\"color: #008080; text-decoration-color: #008080; font-weight: bold\">0.0077605</span> <span style=\"color: #0000ff; text-decoration-color: #0000ff\">dtb</span>=<span style=\"color: #008080; text-decoration-color: #008080; font-weight: bold\">0.0102481</span> <span style=\"color: #0000ff; text-decoration-color: #0000ff\">sps</span>=<span style=\"color: #008080; text-decoration-color: #008080; font-weight: bold\">2.57303</span> <span style=\"color: #0000ff; text-decoration-color: #0000ff\">sps_per_gpu</span>=<span style=\"color: #008080; text-decoration-color: #008080; font-weight: bold\">2.57303</span> <span style=\"color: #0000ff; text-decoration-color: #0000ff\">tps</span>=<span style=\"color: #008080; text-decoration-color: #008080; font-weight: bold\">21078.3</span> <span style=\"color: #0000ff; text-decoration-color: #0000ff\">tps_per_gpu</span>=<span style=\"color: #008080; text-decoration-color: #008080; font-weight: bold\">21078.3</span> <span style=\"color: #0000ff; text-decoration-color: #0000ff\">mfu</span>=<span style=\"color: #008080; text-decoration-color: #008080; font-weight: bold\">0.622837</span>\n",
              "</pre>\n"
            ]
          },
          "metadata": {}
        },
        {
          "output_type": "display_data",
          "data": {
            "text/plain": [
              "[\u001b[2m2025-07-23 \u001b[0m\u001b[2m17:08:18,050755\u001b[0m][\u001b[32mI\u001b[0m][\u001b[3;36mwordplay\u001b[0m/\u001b[34mtrainer\u001b[0m\u001b[94m:\u001b[0m\u001b[35m894\u001b[0m]\u001b[37m \u001b[0m\u001b[94mstep\u001b[0m=\u001b[1;36m20\u001b[0m \u001b[94mloss\u001b[0m=\u001b[1;36m2\u001b[0m\u001b[1;36m.82665\u001b[0m \u001b[94mdt\u001b[0m=\u001b[1;36m0\u001b[0m\u001b[1;36m.392386\u001b[0m \u001b[94mdtf\u001b[0m=\u001b[1;36m0\u001b[0m\u001b[1;36m.0123749\u001b[0m \u001b[94mdtb\u001b[0m=\u001b[1;36m0\u001b[0m\u001b[1;36m.0163346\u001b[0m \u001b[94msps\u001b[0m=\u001b[1;36m2\u001b[0m\u001b[1;36m.54851\u001b[0m \u001b[94msps_per_gpu\u001b[0m=\u001b[1;36m2\u001b[0m\u001b[1;36m.54851\u001b[0m \u001b[94mtps\u001b[0m=\u001b[1;36m20877\u001b[0m\u001b[1;36m.4\u001b[0m \u001b[94mtps_per_gpu\u001b[0m=\u001b[1;36m20877\u001b[0m\u001b[1;36m.4\u001b[0m \u001b[94mmfu\u001b[0m=\u001b[1;36m0\u001b[0m\u001b[1;36m.622244\u001b[0m\n"
            ],
            "text/html": [
              "<pre style=\"white-space:pre;overflow-x:auto;line-height:normal;font-family:Menlo,'DejaVu Sans Mono',consolas,'Courier New',monospace\">[<span style=\"color: #7f7f7f; text-decoration-color: #7f7f7f\">2025-07-23 17:08:18,050755</span>][<span style=\"color: #008000; text-decoration-color: #008000\">I</span>][<span style=\"color: #008080; text-decoration-color: #008080; font-style: italic\">wordplay</span>/<span style=\"color: #000080; text-decoration-color: #000080\">trainer</span><span style=\"color: #0000ff; text-decoration-color: #0000ff\">:</span><span style=\"color: #800080; text-decoration-color: #800080\">894</span>]<span style=\"color: #c0c0c0; text-decoration-color: #c0c0c0\"> </span><span style=\"color: #0000ff; text-decoration-color: #0000ff\">step</span>=<span style=\"color: #008080; text-decoration-color: #008080; font-weight: bold\">20</span> <span style=\"color: #0000ff; text-decoration-color: #0000ff\">loss</span>=<span style=\"color: #008080; text-decoration-color: #008080; font-weight: bold\">2.82665</span> <span style=\"color: #0000ff; text-decoration-color: #0000ff\">dt</span>=<span style=\"color: #008080; text-decoration-color: #008080; font-weight: bold\">0.392386</span> <span style=\"color: #0000ff; text-decoration-color: #0000ff\">dtf</span>=<span style=\"color: #008080; text-decoration-color: #008080; font-weight: bold\">0.0123749</span> <span style=\"color: #0000ff; text-decoration-color: #0000ff\">dtb</span>=<span style=\"color: #008080; text-decoration-color: #008080; font-weight: bold\">0.0163346</span> <span style=\"color: #0000ff; text-decoration-color: #0000ff\">sps</span>=<span style=\"color: #008080; text-decoration-color: #008080; font-weight: bold\">2.54851</span> <span style=\"color: #0000ff; text-decoration-color: #0000ff\">sps_per_gpu</span>=<span style=\"color: #008080; text-decoration-color: #008080; font-weight: bold\">2.54851</span> <span style=\"color: #0000ff; text-decoration-color: #0000ff\">tps</span>=<span style=\"color: #008080; text-decoration-color: #008080; font-weight: bold\">20877.4</span> <span style=\"color: #0000ff; text-decoration-color: #0000ff\">tps_per_gpu</span>=<span style=\"color: #008080; text-decoration-color: #008080; font-weight: bold\">20877.4</span> <span style=\"color: #0000ff; text-decoration-color: #0000ff\">mfu</span>=<span style=\"color: #008080; text-decoration-color: #008080; font-weight: bold\">0.622244</span>\n",
              "</pre>\n"
            ]
          },
          "metadata": {}
        },
        {
          "output_type": "display_data",
          "data": {
            "text/plain": [
              "[\u001b[2m2025-07-23 \u001b[0m\u001b[2m17:08:21,869708\u001b[0m][\u001b[32mI\u001b[0m][\u001b[3;36mwordplay\u001b[0m/\u001b[34mtrainer\u001b[0m\u001b[94m:\u001b[0m\u001b[35m894\u001b[0m]\u001b[37m \u001b[0m\u001b[94mstep\u001b[0m=\u001b[1;36m30\u001b[0m \u001b[94mloss\u001b[0m=\u001b[1;36m2\u001b[0m\u001b[1;36m.64874\u001b[0m \u001b[94mdt\u001b[0m=\u001b[1;36m0\u001b[0m\u001b[1;36m.379033\u001b[0m \u001b[94mdtf\u001b[0m=\u001b[1;36m0\u001b[0m\u001b[1;36m.00770909\u001b[0m \u001b[94mdtb\u001b[0m=\u001b[1;36m0\u001b[0m\u001b[1;36m.0103789\u001b[0m \u001b[94msps\u001b[0m=\u001b[1;36m2\u001b[0m\u001b[1;36m.6383\u001b[0m \u001b[94msps_per_gpu\u001b[0m=\u001b[1;36m2\u001b[0m\u001b[1;36m.6383\u001b[0m \u001b[94mtps\u001b[0m=\u001b[1;36m21612\u001b[0m\u001b[1;36m.9\u001b[0m \u001b[94mtps_per_gpu\u001b[0m=\u001b[1;36m21612\u001b[0m\u001b[1;36m.9\u001b[0m \u001b[94mmfu\u001b[0m=\u001b[1;36m0\u001b[0m\u001b[1;36m.623883\u001b[0m\n"
            ],
            "text/html": [
              "<pre style=\"white-space:pre;overflow-x:auto;line-height:normal;font-family:Menlo,'DejaVu Sans Mono',consolas,'Courier New',monospace\">[<span style=\"color: #7f7f7f; text-decoration-color: #7f7f7f\">2025-07-23 17:08:21,869708</span>][<span style=\"color: #008000; text-decoration-color: #008000\">I</span>][<span style=\"color: #008080; text-decoration-color: #008080; font-style: italic\">wordplay</span>/<span style=\"color: #000080; text-decoration-color: #000080\">trainer</span><span style=\"color: #0000ff; text-decoration-color: #0000ff\">:</span><span style=\"color: #800080; text-decoration-color: #800080\">894</span>]<span style=\"color: #c0c0c0; text-decoration-color: #c0c0c0\"> </span><span style=\"color: #0000ff; text-decoration-color: #0000ff\">step</span>=<span style=\"color: #008080; text-decoration-color: #008080; font-weight: bold\">30</span> <span style=\"color: #0000ff; text-decoration-color: #0000ff\">loss</span>=<span style=\"color: #008080; text-decoration-color: #008080; font-weight: bold\">2.64874</span> <span style=\"color: #0000ff; text-decoration-color: #0000ff\">dt</span>=<span style=\"color: #008080; text-decoration-color: #008080; font-weight: bold\">0.379033</span> <span style=\"color: #0000ff; text-decoration-color: #0000ff\">dtf</span>=<span style=\"color: #008080; text-decoration-color: #008080; font-weight: bold\">0.00770909</span> <span style=\"color: #0000ff; text-decoration-color: #0000ff\">dtb</span>=<span style=\"color: #008080; text-decoration-color: #008080; font-weight: bold\">0.0103789</span> <span style=\"color: #0000ff; text-decoration-color: #0000ff\">sps</span>=<span style=\"color: #008080; text-decoration-color: #008080; font-weight: bold\">2.6383</span> <span style=\"color: #0000ff; text-decoration-color: #0000ff\">sps_per_gpu</span>=<span style=\"color: #008080; text-decoration-color: #008080; font-weight: bold\">2.6383</span> <span style=\"color: #0000ff; text-decoration-color: #0000ff\">tps</span>=<span style=\"color: #008080; text-decoration-color: #008080; font-weight: bold\">21612.9</span> <span style=\"color: #0000ff; text-decoration-color: #0000ff\">tps_per_gpu</span>=<span style=\"color: #008080; text-decoration-color: #008080; font-weight: bold\">21612.9</span> <span style=\"color: #0000ff; text-decoration-color: #0000ff\">mfu</span>=<span style=\"color: #008080; text-decoration-color: #008080; font-weight: bold\">0.623883</span>\n",
              "</pre>\n"
            ]
          },
          "metadata": {}
        },
        {
          "output_type": "display_data",
          "data": {
            "text/plain": [
              "[\u001b[2m2025-07-23 \u001b[0m\u001b[2m17:08:25,681515\u001b[0m][\u001b[32mI\u001b[0m][\u001b[3;36mwordplay\u001b[0m/\u001b[34mtrainer\u001b[0m\u001b[94m:\u001b[0m\u001b[35m894\u001b[0m]\u001b[37m \u001b[0m\u001b[94mstep\u001b[0m=\u001b[1;36m40\u001b[0m \u001b[94mloss\u001b[0m=\u001b[1;36m2\u001b[0m\u001b[1;36m.58119\u001b[0m \u001b[94mdt\u001b[0m=\u001b[1;36m0\u001b[0m\u001b[1;36m.375823\u001b[0m \u001b[94mdtf\u001b[0m=\u001b[1;36m0\u001b[0m\u001b[1;36m.00982569\u001b[0m \u001b[94mdtb\u001b[0m=\u001b[1;36m0\u001b[0m\u001b[1;36m.0116637\u001b[0m \u001b[94msps\u001b[0m=\u001b[1;36m2\u001b[0m\u001b[1;36m.66083\u001b[0m \u001b[94msps_per_gpu\u001b[0m=\u001b[1;36m2\u001b[0m\u001b[1;36m.66083\u001b[0m \u001b[94mtps\u001b[0m=\u001b[1;36m21797\u001b[0m\u001b[1;36m.5\u001b[0m \u001b[94mtps_per_gpu\u001b[0m=\u001b[1;36m21797\u001b[0m\u001b[1;36m.5\u001b[0m \u001b[94mmfu\u001b[0m=\u001b[1;36m0\u001b[0m\u001b[1;36m.625904\u001b[0m\n"
            ],
            "text/html": [
              "<pre style=\"white-space:pre;overflow-x:auto;line-height:normal;font-family:Menlo,'DejaVu Sans Mono',consolas,'Courier New',monospace\">[<span style=\"color: #7f7f7f; text-decoration-color: #7f7f7f\">2025-07-23 17:08:25,681515</span>][<span style=\"color: #008000; text-decoration-color: #008000\">I</span>][<span style=\"color: #008080; text-decoration-color: #008080; font-style: italic\">wordplay</span>/<span style=\"color: #000080; text-decoration-color: #000080\">trainer</span><span style=\"color: #0000ff; text-decoration-color: #0000ff\">:</span><span style=\"color: #800080; text-decoration-color: #800080\">894</span>]<span style=\"color: #c0c0c0; text-decoration-color: #c0c0c0\"> </span><span style=\"color: #0000ff; text-decoration-color: #0000ff\">step</span>=<span style=\"color: #008080; text-decoration-color: #008080; font-weight: bold\">40</span> <span style=\"color: #0000ff; text-decoration-color: #0000ff\">loss</span>=<span style=\"color: #008080; text-decoration-color: #008080; font-weight: bold\">2.58119</span> <span style=\"color: #0000ff; text-decoration-color: #0000ff\">dt</span>=<span style=\"color: #008080; text-decoration-color: #008080; font-weight: bold\">0.375823</span> <span style=\"color: #0000ff; text-decoration-color: #0000ff\">dtf</span>=<span style=\"color: #008080; text-decoration-color: #008080; font-weight: bold\">0.00982569</span> <span style=\"color: #0000ff; text-decoration-color: #0000ff\">dtb</span>=<span style=\"color: #008080; text-decoration-color: #008080; font-weight: bold\">0.0116637</span> <span style=\"color: #0000ff; text-decoration-color: #0000ff\">sps</span>=<span style=\"color: #008080; text-decoration-color: #008080; font-weight: bold\">2.66083</span> <span style=\"color: #0000ff; text-decoration-color: #0000ff\">sps_per_gpu</span>=<span style=\"color: #008080; text-decoration-color: #008080; font-weight: bold\">2.66083</span> <span style=\"color: #0000ff; text-decoration-color: #0000ff\">tps</span>=<span style=\"color: #008080; text-decoration-color: #008080; font-weight: bold\">21797.5</span> <span style=\"color: #0000ff; text-decoration-color: #0000ff\">tps_per_gpu</span>=<span style=\"color: #008080; text-decoration-color: #008080; font-weight: bold\">21797.5</span> <span style=\"color: #0000ff; text-decoration-color: #0000ff\">mfu</span>=<span style=\"color: #008080; text-decoration-color: #008080; font-weight: bold\">0.625904</span>\n",
              "</pre>\n"
            ]
          },
          "metadata": {}
        },
        {
          "output_type": "display_data",
          "data": {
            "text/plain": [
              "[\u001b[2m2025-07-23 \u001b[0m\u001b[2m17:08:29,489842\u001b[0m][\u001b[32mI\u001b[0m][\u001b[3;36mwordplay\u001b[0m/\u001b[34mtrainer\u001b[0m\u001b[94m:\u001b[0m\u001b[35m894\u001b[0m]\u001b[37m \u001b[0m\u001b[94mstep\u001b[0m=\u001b[1;36m50\u001b[0m \u001b[94mloss\u001b[0m=\u001b[1;36m2\u001b[0m\u001b[1;36m.5564\u001b[0m \u001b[94mdt\u001b[0m=\u001b[1;36m0\u001b[0m\u001b[1;36m.381329\u001b[0m \u001b[94mdtf\u001b[0m=\u001b[1;36m0\u001b[0m\u001b[1;36m.00818184\u001b[0m \u001b[94mdtb\u001b[0m=\u001b[1;36m0\u001b[0m\u001b[1;36m.0101487\u001b[0m \u001b[94msps\u001b[0m=\u001b[1;36m2\u001b[0m\u001b[1;36m.6224\u001b[0m \u001b[94msps_per_gpu\u001b[0m=\u001b[1;36m2\u001b[0m\u001b[1;36m.6224\u001b[0m \u001b[94mtps\u001b[0m=\u001b[1;36m21482\u001b[0m\u001b[1;36m.7\u001b[0m \u001b[94mtps_per_gpu\u001b[0m=\u001b[1;36m21482\u001b[0m\u001b[1;36m.7\u001b[0m \u001b[94mmfu\u001b[0m=\u001b[1;36m0\u001b[0m\u001b[1;36m.626792\u001b[0m\n"
            ],
            "text/html": [
              "<pre style=\"white-space:pre;overflow-x:auto;line-height:normal;font-family:Menlo,'DejaVu Sans Mono',consolas,'Courier New',monospace\">[<span style=\"color: #7f7f7f; text-decoration-color: #7f7f7f\">2025-07-23 17:08:29,489842</span>][<span style=\"color: #008000; text-decoration-color: #008000\">I</span>][<span style=\"color: #008080; text-decoration-color: #008080; font-style: italic\">wordplay</span>/<span style=\"color: #000080; text-decoration-color: #000080\">trainer</span><span style=\"color: #0000ff; text-decoration-color: #0000ff\">:</span><span style=\"color: #800080; text-decoration-color: #800080\">894</span>]<span style=\"color: #c0c0c0; text-decoration-color: #c0c0c0\"> </span><span style=\"color: #0000ff; text-decoration-color: #0000ff\">step</span>=<span style=\"color: #008080; text-decoration-color: #008080; font-weight: bold\">50</span> <span style=\"color: #0000ff; text-decoration-color: #0000ff\">loss</span>=<span style=\"color: #008080; text-decoration-color: #008080; font-weight: bold\">2.5564</span> <span style=\"color: #0000ff; text-decoration-color: #0000ff\">dt</span>=<span style=\"color: #008080; text-decoration-color: #008080; font-weight: bold\">0.381329</span> <span style=\"color: #0000ff; text-decoration-color: #0000ff\">dtf</span>=<span style=\"color: #008080; text-decoration-color: #008080; font-weight: bold\">0.00818184</span> <span style=\"color: #0000ff; text-decoration-color: #0000ff\">dtb</span>=<span style=\"color: #008080; text-decoration-color: #008080; font-weight: bold\">0.0101487</span> <span style=\"color: #0000ff; text-decoration-color: #0000ff\">sps</span>=<span style=\"color: #008080; text-decoration-color: #008080; font-weight: bold\">2.6224</span> <span style=\"color: #0000ff; text-decoration-color: #0000ff\">sps_per_gpu</span>=<span style=\"color: #008080; text-decoration-color: #008080; font-weight: bold\">2.6224</span> <span style=\"color: #0000ff; text-decoration-color: #0000ff\">tps</span>=<span style=\"color: #008080; text-decoration-color: #008080; font-weight: bold\">21482.7</span> <span style=\"color: #0000ff; text-decoration-color: #0000ff\">tps_per_gpu</span>=<span style=\"color: #008080; text-decoration-color: #008080; font-weight: bold\">21482.7</span> <span style=\"color: #0000ff; text-decoration-color: #0000ff\">mfu</span>=<span style=\"color: #008080; text-decoration-color: #008080; font-weight: bold\">0.626792</span>\n",
              "</pre>\n"
            ]
          },
          "metadata": {}
        },
        {
          "output_type": "display_data",
          "data": {
            "text/plain": [
              "[\u001b[2m2025-07-23 \u001b[0m\u001b[2m17:08:33,295135\u001b[0m][\u001b[32mI\u001b[0m][\u001b[3;36mwordplay\u001b[0m/\u001b[34mtrainer\u001b[0m\u001b[94m:\u001b[0m\u001b[35m894\u001b[0m]\u001b[37m \u001b[0m\u001b[94mstep\u001b[0m=\u001b[1;36m60\u001b[0m \u001b[94mloss\u001b[0m=\u001b[1;36m2\u001b[0m\u001b[1;36m.55377\u001b[0m \u001b[94mdt\u001b[0m=\u001b[1;36m0\u001b[0m\u001b[1;36m.37768\u001b[0m \u001b[94mdtf\u001b[0m=\u001b[1;36m0\u001b[0m\u001b[1;36m.00809329\u001b[0m \u001b[94mdtb\u001b[0m=\u001b[1;36m0\u001b[0m\u001b[1;36m.00990252\u001b[0m \u001b[94msps\u001b[0m=\u001b[1;36m2\u001b[0m\u001b[1;36m.64775\u001b[0m \u001b[94msps_per_gpu\u001b[0m=\u001b[1;36m2\u001b[0m\u001b[1;36m.64775\u001b[0m \u001b[94mtps\u001b[0m=\u001b[1;36m21690\u001b[0m\u001b[1;36m.3\u001b[0m \u001b[94mtps_per_gpu\u001b[0m=\u001b[1;36m21690\u001b[0m\u001b[1;36m.3\u001b[0m \u001b[94mmfu\u001b[0m=\u001b[1;36m0\u001b[0m\u001b[1;36m.628205\u001b[0m\n"
            ],
            "text/html": [
              "<pre style=\"white-space:pre;overflow-x:auto;line-height:normal;font-family:Menlo,'DejaVu Sans Mono',consolas,'Courier New',monospace\">[<span style=\"color: #7f7f7f; text-decoration-color: #7f7f7f\">2025-07-23 17:08:33,295135</span>][<span style=\"color: #008000; text-decoration-color: #008000\">I</span>][<span style=\"color: #008080; text-decoration-color: #008080; font-style: italic\">wordplay</span>/<span style=\"color: #000080; text-decoration-color: #000080\">trainer</span><span style=\"color: #0000ff; text-decoration-color: #0000ff\">:</span><span style=\"color: #800080; text-decoration-color: #800080\">894</span>]<span style=\"color: #c0c0c0; text-decoration-color: #c0c0c0\"> </span><span style=\"color: #0000ff; text-decoration-color: #0000ff\">step</span>=<span style=\"color: #008080; text-decoration-color: #008080; font-weight: bold\">60</span> <span style=\"color: #0000ff; text-decoration-color: #0000ff\">loss</span>=<span style=\"color: #008080; text-decoration-color: #008080; font-weight: bold\">2.55377</span> <span style=\"color: #0000ff; text-decoration-color: #0000ff\">dt</span>=<span style=\"color: #008080; text-decoration-color: #008080; font-weight: bold\">0.37768</span> <span style=\"color: #0000ff; text-decoration-color: #0000ff\">dtf</span>=<span style=\"color: #008080; text-decoration-color: #008080; font-weight: bold\">0.00809329</span> <span style=\"color: #0000ff; text-decoration-color: #0000ff\">dtb</span>=<span style=\"color: #008080; text-decoration-color: #008080; font-weight: bold\">0.00990252</span> <span style=\"color: #0000ff; text-decoration-color: #0000ff\">sps</span>=<span style=\"color: #008080; text-decoration-color: #008080; font-weight: bold\">2.64775</span> <span style=\"color: #0000ff; text-decoration-color: #0000ff\">sps_per_gpu</span>=<span style=\"color: #008080; text-decoration-color: #008080; font-weight: bold\">2.64775</span> <span style=\"color: #0000ff; text-decoration-color: #0000ff\">tps</span>=<span style=\"color: #008080; text-decoration-color: #008080; font-weight: bold\">21690.3</span> <span style=\"color: #0000ff; text-decoration-color: #0000ff\">tps_per_gpu</span>=<span style=\"color: #008080; text-decoration-color: #008080; font-weight: bold\">21690.3</span> <span style=\"color: #0000ff; text-decoration-color: #0000ff\">mfu</span>=<span style=\"color: #008080; text-decoration-color: #008080; font-weight: bold\">0.628205</span>\n",
              "</pre>\n"
            ]
          },
          "metadata": {}
        },
        {
          "output_type": "display_data",
          "data": {
            "text/plain": [
              "[\u001b[2m2025-07-23 \u001b[0m\u001b[2m17:08:37,094848\u001b[0m][\u001b[32mI\u001b[0m][\u001b[3;36mwordplay\u001b[0m/\u001b[34mtrainer\u001b[0m\u001b[94m:\u001b[0m\u001b[35m894\u001b[0m]\u001b[37m \u001b[0m\u001b[94mstep\u001b[0m=\u001b[1;36m70\u001b[0m \u001b[94mloss\u001b[0m=\u001b[1;36m2\u001b[0m\u001b[1;36m.53792\u001b[0m \u001b[94mdt\u001b[0m=\u001b[1;36m0\u001b[0m\u001b[1;36m.37185\u001b[0m \u001b[94mdtf\u001b[0m=\u001b[1;36m0\u001b[0m\u001b[1;36m.00804143\u001b[0m \u001b[94mdtb\u001b[0m=\u001b[1;36m0\u001b[0m\u001b[1;36m.010255\u001b[0m \u001b[94msps\u001b[0m=\u001b[1;36m2\u001b[0m\u001b[1;36m.68926\u001b[0m \u001b[94msps_per_gpu\u001b[0m=\u001b[1;36m2\u001b[0m\u001b[1;36m.68926\u001b[0m \u001b[94mtps\u001b[0m=\u001b[1;36m22030\u001b[0m\u001b[1;36m.4\u001b[0m \u001b[94mtps_per_gpu\u001b[0m=\u001b[1;36m22030\u001b[0m\u001b[1;36m.4\u001b[0m \u001b[94mmfu\u001b[0m=\u001b[1;36m0\u001b[0m\u001b[1;36m.630482\u001b[0m\n"
            ],
            "text/html": [
              "<pre style=\"white-space:pre;overflow-x:auto;line-height:normal;font-family:Menlo,'DejaVu Sans Mono',consolas,'Courier New',monospace\">[<span style=\"color: #7f7f7f; text-decoration-color: #7f7f7f\">2025-07-23 17:08:37,094848</span>][<span style=\"color: #008000; text-decoration-color: #008000\">I</span>][<span style=\"color: #008080; text-decoration-color: #008080; font-style: italic\">wordplay</span>/<span style=\"color: #000080; text-decoration-color: #000080\">trainer</span><span style=\"color: #0000ff; text-decoration-color: #0000ff\">:</span><span style=\"color: #800080; text-decoration-color: #800080\">894</span>]<span style=\"color: #c0c0c0; text-decoration-color: #c0c0c0\"> </span><span style=\"color: #0000ff; text-decoration-color: #0000ff\">step</span>=<span style=\"color: #008080; text-decoration-color: #008080; font-weight: bold\">70</span> <span style=\"color: #0000ff; text-decoration-color: #0000ff\">loss</span>=<span style=\"color: #008080; text-decoration-color: #008080; font-weight: bold\">2.53792</span> <span style=\"color: #0000ff; text-decoration-color: #0000ff\">dt</span>=<span style=\"color: #008080; text-decoration-color: #008080; font-weight: bold\">0.37185</span> <span style=\"color: #0000ff; text-decoration-color: #0000ff\">dtf</span>=<span style=\"color: #008080; text-decoration-color: #008080; font-weight: bold\">0.00804143</span> <span style=\"color: #0000ff; text-decoration-color: #0000ff\">dtb</span>=<span style=\"color: #008080; text-decoration-color: #008080; font-weight: bold\">0.010255</span> <span style=\"color: #0000ff; text-decoration-color: #0000ff\">sps</span>=<span style=\"color: #008080; text-decoration-color: #008080; font-weight: bold\">2.68926</span> <span style=\"color: #0000ff; text-decoration-color: #0000ff\">sps_per_gpu</span>=<span style=\"color: #008080; text-decoration-color: #008080; font-weight: bold\">2.68926</span> <span style=\"color: #0000ff; text-decoration-color: #0000ff\">tps</span>=<span style=\"color: #008080; text-decoration-color: #008080; font-weight: bold\">22030.4</span> <span style=\"color: #0000ff; text-decoration-color: #0000ff\">tps_per_gpu</span>=<span style=\"color: #008080; text-decoration-color: #008080; font-weight: bold\">22030.4</span> <span style=\"color: #0000ff; text-decoration-color: #0000ff\">mfu</span>=<span style=\"color: #008080; text-decoration-color: #008080; font-weight: bold\">0.630482</span>\n",
              "</pre>\n"
            ]
          },
          "metadata": {}
        },
        {
          "output_type": "display_data",
          "data": {
            "text/plain": [
              "[\u001b[2m2025-07-23 \u001b[0m\u001b[2m17:08:40,894946\u001b[0m][\u001b[32mI\u001b[0m][\u001b[3;36mwordplay\u001b[0m/\u001b[34mtrainer\u001b[0m\u001b[94m:\u001b[0m\u001b[35m894\u001b[0m]\u001b[37m \u001b[0m\u001b[94mstep\u001b[0m=\u001b[1;36m80\u001b[0m \u001b[94mloss\u001b[0m=\u001b[1;36m2\u001b[0m\u001b[1;36m.56441\u001b[0m \u001b[94mdt\u001b[0m=\u001b[1;36m0\u001b[0m\u001b[1;36m.380709\u001b[0m \u001b[94mdtf\u001b[0m=\u001b[1;36m0\u001b[0m\u001b[1;36m.00861202\u001b[0m \u001b[94mdtb\u001b[0m=\u001b[1;36m0\u001b[0m\u001b[1;36m.0100984\u001b[0m \u001b[94msps\u001b[0m=\u001b[1;36m2\u001b[0m\u001b[1;36m.62668\u001b[0m \u001b[94msps_per_gpu\u001b[0m=\u001b[1;36m2\u001b[0m\u001b[1;36m.62668\u001b[0m \u001b[94mtps\u001b[0m=\u001b[1;36m21517\u001b[0m\u001b[1;36m.8\u001b[0m \u001b[94mtps_per_gpu\u001b[0m=\u001b[1;36m21517\u001b[0m\u001b[1;36m.8\u001b[0m \u001b[94mmfu\u001b[0m=\u001b[1;36m0\u001b[0m\u001b[1;36m.631016\u001b[0m\n"
            ],
            "text/html": [
              "<pre style=\"white-space:pre;overflow-x:auto;line-height:normal;font-family:Menlo,'DejaVu Sans Mono',consolas,'Courier New',monospace\">[<span style=\"color: #7f7f7f; text-decoration-color: #7f7f7f\">2025-07-23 17:08:40,894946</span>][<span style=\"color: #008000; text-decoration-color: #008000\">I</span>][<span style=\"color: #008080; text-decoration-color: #008080; font-style: italic\">wordplay</span>/<span style=\"color: #000080; text-decoration-color: #000080\">trainer</span><span style=\"color: #0000ff; text-decoration-color: #0000ff\">:</span><span style=\"color: #800080; text-decoration-color: #800080\">894</span>]<span style=\"color: #c0c0c0; text-decoration-color: #c0c0c0\"> </span><span style=\"color: #0000ff; text-decoration-color: #0000ff\">step</span>=<span style=\"color: #008080; text-decoration-color: #008080; font-weight: bold\">80</span> <span style=\"color: #0000ff; text-decoration-color: #0000ff\">loss</span>=<span style=\"color: #008080; text-decoration-color: #008080; font-weight: bold\">2.56441</span> <span style=\"color: #0000ff; text-decoration-color: #0000ff\">dt</span>=<span style=\"color: #008080; text-decoration-color: #008080; font-weight: bold\">0.380709</span> <span style=\"color: #0000ff; text-decoration-color: #0000ff\">dtf</span>=<span style=\"color: #008080; text-decoration-color: #008080; font-weight: bold\">0.00861202</span> <span style=\"color: #0000ff; text-decoration-color: #0000ff\">dtb</span>=<span style=\"color: #008080; text-decoration-color: #008080; font-weight: bold\">0.0100984</span> <span style=\"color: #0000ff; text-decoration-color: #0000ff\">sps</span>=<span style=\"color: #008080; text-decoration-color: #008080; font-weight: bold\">2.62668</span> <span style=\"color: #0000ff; text-decoration-color: #0000ff\">sps_per_gpu</span>=<span style=\"color: #008080; text-decoration-color: #008080; font-weight: bold\">2.62668</span> <span style=\"color: #0000ff; text-decoration-color: #0000ff\">tps</span>=<span style=\"color: #008080; text-decoration-color: #008080; font-weight: bold\">21517.8</span> <span style=\"color: #0000ff; text-decoration-color: #0000ff\">tps_per_gpu</span>=<span style=\"color: #008080; text-decoration-color: #008080; font-weight: bold\">21517.8</span> <span style=\"color: #0000ff; text-decoration-color: #0000ff\">mfu</span>=<span style=\"color: #008080; text-decoration-color: #008080; font-weight: bold\">0.631016</span>\n",
              "</pre>\n"
            ]
          },
          "metadata": {}
        },
        {
          "output_type": "display_data",
          "data": {
            "text/plain": [
              "[\u001b[2m2025-07-23 \u001b[0m\u001b[2m17:08:44,697477\u001b[0m][\u001b[32mI\u001b[0m][\u001b[3;36mwordplay\u001b[0m/\u001b[34mtrainer\u001b[0m\u001b[94m:\u001b[0m\u001b[35m894\u001b[0m]\u001b[37m \u001b[0m\u001b[94mstep\u001b[0m=\u001b[1;36m90\u001b[0m \u001b[94mloss\u001b[0m=\u001b[1;36m2\u001b[0m\u001b[1;36m.5338\u001b[0m \u001b[94mdt\u001b[0m=\u001b[1;36m0\u001b[0m\u001b[1;36m.368932\u001b[0m \u001b[94mdtf\u001b[0m=\u001b[1;36m0\u001b[0m\u001b[1;36m.00809296\u001b[0m \u001b[94mdtb\u001b[0m=\u001b[1;36m0\u001b[0m\u001b[1;36m.00962644\u001b[0m \u001b[94msps\u001b[0m=\u001b[1;36m2\u001b[0m\u001b[1;36m.71053\u001b[0m \u001b[94msps_per_gpu\u001b[0m=\u001b[1;36m2\u001b[0m\u001b[1;36m.71053\u001b[0m \u001b[94mtps\u001b[0m=\u001b[1;36m22204\u001b[0m\u001b[1;36m.6\u001b[0m \u001b[94mtps_per_gpu\u001b[0m=\u001b[1;36m22204\u001b[0m\u001b[1;36m.6\u001b[0m \u001b[94mmfu\u001b[0m=\u001b[1;36m0\u001b[0m\u001b[1;36m.633527\u001b[0m\n"
            ],
            "text/html": [
              "<pre style=\"white-space:pre;overflow-x:auto;line-height:normal;font-family:Menlo,'DejaVu Sans Mono',consolas,'Courier New',monospace\">[<span style=\"color: #7f7f7f; text-decoration-color: #7f7f7f\">2025-07-23 17:08:44,697477</span>][<span style=\"color: #008000; text-decoration-color: #008000\">I</span>][<span style=\"color: #008080; text-decoration-color: #008080; font-style: italic\">wordplay</span>/<span style=\"color: #000080; text-decoration-color: #000080\">trainer</span><span style=\"color: #0000ff; text-decoration-color: #0000ff\">:</span><span style=\"color: #800080; text-decoration-color: #800080\">894</span>]<span style=\"color: #c0c0c0; text-decoration-color: #c0c0c0\"> </span><span style=\"color: #0000ff; text-decoration-color: #0000ff\">step</span>=<span style=\"color: #008080; text-decoration-color: #008080; font-weight: bold\">90</span> <span style=\"color: #0000ff; text-decoration-color: #0000ff\">loss</span>=<span style=\"color: #008080; text-decoration-color: #008080; font-weight: bold\">2.5338</span> <span style=\"color: #0000ff; text-decoration-color: #0000ff\">dt</span>=<span style=\"color: #008080; text-decoration-color: #008080; font-weight: bold\">0.368932</span> <span style=\"color: #0000ff; text-decoration-color: #0000ff\">dtf</span>=<span style=\"color: #008080; text-decoration-color: #008080; font-weight: bold\">0.00809296</span> <span style=\"color: #0000ff; text-decoration-color: #0000ff\">dtb</span>=<span style=\"color: #008080; text-decoration-color: #008080; font-weight: bold\">0.00962644</span> <span style=\"color: #0000ff; text-decoration-color: #0000ff\">sps</span>=<span style=\"color: #008080; text-decoration-color: #008080; font-weight: bold\">2.71053</span> <span style=\"color: #0000ff; text-decoration-color: #0000ff\">sps_per_gpu</span>=<span style=\"color: #008080; text-decoration-color: #008080; font-weight: bold\">2.71053</span> <span style=\"color: #0000ff; text-decoration-color: #0000ff\">tps</span>=<span style=\"color: #008080; text-decoration-color: #008080; font-weight: bold\">22204.6</span> <span style=\"color: #0000ff; text-decoration-color: #0000ff\">tps_per_gpu</span>=<span style=\"color: #008080; text-decoration-color: #008080; font-weight: bold\">22204.6</span> <span style=\"color: #0000ff; text-decoration-color: #0000ff\">mfu</span>=<span style=\"color: #008080; text-decoration-color: #008080; font-weight: bold\">0.633527</span>\n",
              "</pre>\n"
            ]
          },
          "metadata": {}
        },
        {
          "output_type": "display_data",
          "data": {
            "text/plain": [
              "[\u001b[2m2025-07-23 \u001b[0m\u001b[2m17:08:48,500289\u001b[0m][\u001b[32mI\u001b[0m][\u001b[3;36mwordplay\u001b[0m/\u001b[34mtrainer\u001b[0m\u001b[94m:\u001b[0m\u001b[35m894\u001b[0m]\u001b[37m \u001b[0m\u001b[94mstep\u001b[0m=\u001b[1;36m100\u001b[0m \u001b[94mloss\u001b[0m=\u001b[1;36m2\u001b[0m\u001b[1;36m.53127\u001b[0m \u001b[94mdt\u001b[0m=\u001b[1;36m0\u001b[0m\u001b[1;36m.376976\u001b[0m \u001b[94mdtf\u001b[0m=\u001b[1;36m0\u001b[0m\u001b[1;36m.00801782\u001b[0m \u001b[94mdtb\u001b[0m=\u001b[1;36m0\u001b[0m\u001b[1;36m.0100192\u001b[0m \u001b[94msps\u001b[0m=\u001b[1;36m2\u001b[0m\u001b[1;36m.65269\u001b[0m \u001b[94msps_per_gpu\u001b[0m=\u001b[1;36m2\u001b[0m\u001b[1;36m.65269\u001b[0m \u001b[94mtps\u001b[0m=\u001b[1;36m21730\u001b[0m\u001b[1;36m.8\u001b[0m \u001b[94mtps_per_gpu\u001b[0m=\u001b[1;36m21730\u001b[0m\u001b[1;36m.8\u001b[0m \u001b[94mmfu\u001b[0m=\u001b[1;36m0\u001b[0m\u001b[1;36m.634386\u001b[0m\n"
            ],
            "text/html": [
              "<pre style=\"white-space:pre;overflow-x:auto;line-height:normal;font-family:Menlo,'DejaVu Sans Mono',consolas,'Courier New',monospace\">[<span style=\"color: #7f7f7f; text-decoration-color: #7f7f7f\">2025-07-23 17:08:48,500289</span>][<span style=\"color: #008000; text-decoration-color: #008000\">I</span>][<span style=\"color: #008080; text-decoration-color: #008080; font-style: italic\">wordplay</span>/<span style=\"color: #000080; text-decoration-color: #000080\">trainer</span><span style=\"color: #0000ff; text-decoration-color: #0000ff\">:</span><span style=\"color: #800080; text-decoration-color: #800080\">894</span>]<span style=\"color: #c0c0c0; text-decoration-color: #c0c0c0\"> </span><span style=\"color: #0000ff; text-decoration-color: #0000ff\">step</span>=<span style=\"color: #008080; text-decoration-color: #008080; font-weight: bold\">100</span> <span style=\"color: #0000ff; text-decoration-color: #0000ff\">loss</span>=<span style=\"color: #008080; text-decoration-color: #008080; font-weight: bold\">2.53127</span> <span style=\"color: #0000ff; text-decoration-color: #0000ff\">dt</span>=<span style=\"color: #008080; text-decoration-color: #008080; font-weight: bold\">0.376976</span> <span style=\"color: #0000ff; text-decoration-color: #0000ff\">dtf</span>=<span style=\"color: #008080; text-decoration-color: #008080; font-weight: bold\">0.00801782</span> <span style=\"color: #0000ff; text-decoration-color: #0000ff\">dtb</span>=<span style=\"color: #008080; text-decoration-color: #008080; font-weight: bold\">0.0100192</span> <span style=\"color: #0000ff; text-decoration-color: #0000ff\">sps</span>=<span style=\"color: #008080; text-decoration-color: #008080; font-weight: bold\">2.65269</span> <span style=\"color: #0000ff; text-decoration-color: #0000ff\">sps_per_gpu</span>=<span style=\"color: #008080; text-decoration-color: #008080; font-weight: bold\">2.65269</span> <span style=\"color: #0000ff; text-decoration-color: #0000ff\">tps</span>=<span style=\"color: #008080; text-decoration-color: #008080; font-weight: bold\">21730.8</span> <span style=\"color: #0000ff; text-decoration-color: #0000ff\">tps_per_gpu</span>=<span style=\"color: #008080; text-decoration-color: #008080; font-weight: bold\">21730.8</span> <span style=\"color: #0000ff; text-decoration-color: #0000ff\">mfu</span>=<span style=\"color: #008080; text-decoration-color: #008080; font-weight: bold\">0.634386</span>\n",
              "</pre>\n"
            ]
          },
          "metadata": {}
        },
        {
          "output_type": "display_data",
          "data": {
            "text/plain": [
              "[\u001b[2m2025-07-23 \u001b[0m\u001b[2m17:08:49,332883\u001b[0m][\u001b[32mI\u001b[0m][\u001b[3;36mwordplay\u001b[0m/\u001b[34mtrainer\u001b[0m\u001b[94m:\u001b[0m\u001b[35m827\u001b[0m]\u001b[37m \u001b[0m\u001b[95m[\u001b[0m\u001b[32m'prompt'\u001b[0m\u001b[95m]\u001b[0m: \u001b[32m'What is an LLM?'\u001b[0m\n"
            ],
            "text/html": [
              "<pre style=\"white-space:pre;overflow-x:auto;line-height:normal;font-family:Menlo,'DejaVu Sans Mono',consolas,'Courier New',monospace\">[<span style=\"color: #7f7f7f; text-decoration-color: #7f7f7f\">2025-07-23 17:08:49,332883</span>][<span style=\"color: #008000; text-decoration-color: #008000\">I</span>][<span style=\"color: #008080; text-decoration-color: #008080; font-style: italic\">wordplay</span>/<span style=\"color: #000080; text-decoration-color: #000080\">trainer</span><span style=\"color: #0000ff; text-decoration-color: #0000ff\">:</span><span style=\"color: #800080; text-decoration-color: #800080\">827</span>]<span style=\"color: #c0c0c0; text-decoration-color: #c0c0c0\"> </span><span style=\"color: #ff00ff; text-decoration-color: #ff00ff\">[</span><span style=\"color: #008000; text-decoration-color: #008000\">'prompt'</span><span style=\"color: #ff00ff; text-decoration-color: #ff00ff\">]</span>: <span style=\"color: #008000; text-decoration-color: #008000\">'What is an LLM?'</span>\n",
              "</pre>\n"
            ]
          },
          "metadata": {}
        },
        {
          "output_type": "display_data",
          "data": {
            "text/plain": [
              "[\u001b[2m2025-07-23 \u001b[0m\u001b[2m17:08:49,334601\u001b[0m][\u001b[32mI\u001b[0m][\u001b[3;36mwordplay\u001b[0m/\u001b[34mtrainer\u001b[0m\u001b[94m:\u001b[0m\u001b[35m831\u001b[0m]\u001b[37m \u001b[0m\u001b[95m[\u001b[0m\u001b[32m'response'\u001b[0m\u001b[95m]\u001b[0m:\n",
              "\n",
              "What is an LLM?\n",
              "AREThe he anghangatr ho misen fave by the t fe wh w onk pe wns w s did s fithe s.\n",
              "\n",
              "CHather s, t be angenont ofous sts se mathan se.\n",
              "\n",
              "\n",
              "An s tr be the acice pllll is s anontharanonte as wakar s sthe toore sthe towar thag, tin toullon llly my makndheacove t \n"
            ],
            "text/html": [
              "<pre style=\"white-space:pre;overflow-x:auto;line-height:normal;font-family:Menlo,'DejaVu Sans Mono',consolas,'Courier New',monospace\">[<span style=\"color: #7f7f7f; text-decoration-color: #7f7f7f\">2025-07-23 17:08:49,334601</span>][<span style=\"color: #008000; text-decoration-color: #008000\">I</span>][<span style=\"color: #008080; text-decoration-color: #008080; font-style: italic\">wordplay</span>/<span style=\"color: #000080; text-decoration-color: #000080\">trainer</span><span style=\"color: #0000ff; text-decoration-color: #0000ff\">:</span><span style=\"color: #800080; text-decoration-color: #800080\">831</span>]<span style=\"color: #c0c0c0; text-decoration-color: #c0c0c0\"> </span><span style=\"color: #ff00ff; text-decoration-color: #ff00ff\">[</span><span style=\"color: #008000; text-decoration-color: #008000\">'response'</span><span style=\"color: #ff00ff; text-decoration-color: #ff00ff\">]</span>:\n",
              "\n",
              "What is an LLM?\n",
              "AREThe he anghangatr ho misen fave by the t fe wh w onk pe wns w s did s fithe s.\n",
              "\n",
              "CHather s, t be angenont ofous sts se mathan se.\n",
              "\n",
              "\n",
              "An s tr be the acice pllll is s anontharanonte as wakar s sthe toore sthe towar thag, tin toullon llly my makndheacove t \n",
              "</pre>\n"
            ]
          },
          "metadata": {}
        },
        {
          "output_type": "display_data",
          "data": {
            "text/plain": [
              "[\u001b[2m2025-07-23 \u001b[0m\u001b[2m17:09:47,060965\u001b[0m][\u001b[32mI\u001b[0m][\u001b[3;36mwordplay\u001b[0m/\u001b[34mtrainer\u001b[0m\u001b[94m:\u001b[0m\u001b[35m762\u001b[0m]\u001b[37m \u001b[0mSaving checkpoint to: \u001b[35m/\u001b[0m\u001b[95mcontent\u001b[0m\n"
            ],
            "text/html": [
              "<pre style=\"white-space:pre;overflow-x:auto;line-height:normal;font-family:Menlo,'DejaVu Sans Mono',consolas,'Courier New',monospace\">[<span style=\"color: #7f7f7f; text-decoration-color: #7f7f7f\">2025-07-23 17:09:47,060965</span>][<span style=\"color: #008000; text-decoration-color: #008000\">I</span>][<span style=\"color: #008080; text-decoration-color: #008080; font-style: italic\">wordplay</span>/<span style=\"color: #000080; text-decoration-color: #000080\">trainer</span><span style=\"color: #0000ff; text-decoration-color: #0000ff\">:</span><span style=\"color: #800080; text-decoration-color: #800080\">762</span>]<span style=\"color: #c0c0c0; text-decoration-color: #c0c0c0\"> </span>Saving checkpoint to: <span style=\"color: #800080; text-decoration-color: #800080\">/</span><span style=\"color: #ff00ff; text-decoration-color: #ff00ff\">content</span>\n",
              "</pre>\n"
            ]
          },
          "metadata": {}
        },
        {
          "output_type": "display_data",
          "data": {
            "text/plain": [
              "[\u001b[2m2025-07-23 \u001b[0m\u001b[2m17:09:47,063008\u001b[0m][\u001b[32mI\u001b[0m][\u001b[3;36mwordplay\u001b[0m/\u001b[34mtrainer\u001b[0m\u001b[94m:\u001b[0m\u001b[35m763\u001b[0m]\u001b[37m \u001b[0mSaving model to: \u001b[35m/content/\u001b[0m\u001b[95mmodel.pth\u001b[0m\n"
            ],
            "text/html": [
              "<pre style=\"white-space:pre;overflow-x:auto;line-height:normal;font-family:Menlo,'DejaVu Sans Mono',consolas,'Courier New',monospace\">[<span style=\"color: #7f7f7f; text-decoration-color: #7f7f7f\">2025-07-23 17:09:47,063008</span>][<span style=\"color: #008000; text-decoration-color: #008000\">I</span>][<span style=\"color: #008080; text-decoration-color: #008080; font-style: italic\">wordplay</span>/<span style=\"color: #000080; text-decoration-color: #000080\">trainer</span><span style=\"color: #0000ff; text-decoration-color: #0000ff\">:</span><span style=\"color: #800080; text-decoration-color: #800080\">763</span>]<span style=\"color: #c0c0c0; text-decoration-color: #c0c0c0\"> </span>Saving model to: <span style=\"color: #800080; text-decoration-color: #800080\">/content/</span><span style=\"color: #ff00ff; text-decoration-color: #ff00ff\">model.pth</span>\n",
              "</pre>\n"
            ]
          },
          "metadata": {}
        },
        {
          "output_type": "display_data",
          "data": {
            "text/plain": [
              "[\u001b[2m2025-07-23 \u001b[0m\u001b[2m17:09:47,414828\u001b[0m][\u001b[32mI\u001b[0m][\u001b[3;36mwordplay\u001b[0m/\u001b[34mconfigs\u001b[0m\u001b[94m:\u001b[0m\u001b[35m141\u001b[0m]\u001b[37m \u001b[0mAppending \u001b[35m/\u001b[0m\u001b[95mcontent\u001b[0m to \u001b[35m/content/wordplay/src/ckpts/\u001b[0m\u001b[95mcheckpoints.log\u001b[0m\n"
            ],
            "text/html": [
              "<pre style=\"white-space:pre;overflow-x:auto;line-height:normal;font-family:Menlo,'DejaVu Sans Mono',consolas,'Courier New',monospace\">[<span style=\"color: #7f7f7f; text-decoration-color: #7f7f7f\">2025-07-23 17:09:47,414828</span>][<span style=\"color: #008000; text-decoration-color: #008000\">I</span>][<span style=\"color: #008080; text-decoration-color: #008080; font-style: italic\">wordplay</span>/<span style=\"color: #000080; text-decoration-color: #000080\">configs</span><span style=\"color: #0000ff; text-decoration-color: #0000ff\">:</span><span style=\"color: #800080; text-decoration-color: #800080\">141</span>]<span style=\"color: #c0c0c0; text-decoration-color: #c0c0c0\"> </span>Appending <span style=\"color: #800080; text-decoration-color: #800080\">/</span><span style=\"color: #ff00ff; text-decoration-color: #ff00ff\">content</span> to <span style=\"color: #800080; text-decoration-color: #800080\">/content/wordplay/src/ckpts/</span><span style=\"color: #ff00ff; text-decoration-color: #ff00ff\">checkpoints.log</span>\n",
              "</pre>\n"
            ]
          },
          "metadata": {}
        },
        {
          "output_type": "display_data",
          "data": {
            "text/plain": [
              "[\u001b[2m2025-07-23 \u001b[0m\u001b[2m17:09:51,240684\u001b[0m][\u001b[32mI\u001b[0m][\u001b[3;36mwordplay\u001b[0m/\u001b[34mtrainer\u001b[0m\u001b[94m:\u001b[0m\u001b[35m894\u001b[0m]\u001b[37m \u001b[0m\u001b[94mstep\u001b[0m=\u001b[1;36m110\u001b[0m \u001b[94mloss\u001b[0m=\u001b[1;36m2\u001b[0m\u001b[1;36m.50749\u001b[0m \u001b[94mdt\u001b[0m=\u001b[1;36m0\u001b[0m\u001b[1;36m.380784\u001b[0m \u001b[94mdtf\u001b[0m=\u001b[1;36m0\u001b[0m\u001b[1;36m.00766138\u001b[0m \u001b[94mdtb\u001b[0m=\u001b[1;36m0\u001b[0m\u001b[1;36m.0102359\u001b[0m \u001b[94msps\u001b[0m=\u001b[1;36m2\u001b[0m\u001b[1;36m.62616\u001b[0m \u001b[94msps_per_gpu\u001b[0m=\u001b[1;36m2\u001b[0m\u001b[1;36m.62616\u001b[0m \u001b[94mtps\u001b[0m=\u001b[1;36m21513\u001b[0m\u001b[1;36m.5\u001b[0m \u001b[94mtps_per_gpu\u001b[0m=\u001b[1;36m21513\u001b[0m\u001b[1;36m.5\u001b[0m \u001b[94mmfu\u001b[0m=\u001b[1;36m0\u001b[0m\u001b[1;36m.634517\u001b[0m\n"
            ],
            "text/html": [
              "<pre style=\"white-space:pre;overflow-x:auto;line-height:normal;font-family:Menlo,'DejaVu Sans Mono',consolas,'Courier New',monospace\">[<span style=\"color: #7f7f7f; text-decoration-color: #7f7f7f\">2025-07-23 17:09:51,240684</span>][<span style=\"color: #008000; text-decoration-color: #008000\">I</span>][<span style=\"color: #008080; text-decoration-color: #008080; font-style: italic\">wordplay</span>/<span style=\"color: #000080; text-decoration-color: #000080\">trainer</span><span style=\"color: #0000ff; text-decoration-color: #0000ff\">:</span><span style=\"color: #800080; text-decoration-color: #800080\">894</span>]<span style=\"color: #c0c0c0; text-decoration-color: #c0c0c0\"> </span><span style=\"color: #0000ff; text-decoration-color: #0000ff\">step</span>=<span style=\"color: #008080; text-decoration-color: #008080; font-weight: bold\">110</span> <span style=\"color: #0000ff; text-decoration-color: #0000ff\">loss</span>=<span style=\"color: #008080; text-decoration-color: #008080; font-weight: bold\">2.50749</span> <span style=\"color: #0000ff; text-decoration-color: #0000ff\">dt</span>=<span style=\"color: #008080; text-decoration-color: #008080; font-weight: bold\">0.380784</span> <span style=\"color: #0000ff; text-decoration-color: #0000ff\">dtf</span>=<span style=\"color: #008080; text-decoration-color: #008080; font-weight: bold\">0.00766138</span> <span style=\"color: #0000ff; text-decoration-color: #0000ff\">dtb</span>=<span style=\"color: #008080; text-decoration-color: #008080; font-weight: bold\">0.0102359</span> <span style=\"color: #0000ff; text-decoration-color: #0000ff\">sps</span>=<span style=\"color: #008080; text-decoration-color: #008080; font-weight: bold\">2.62616</span> <span style=\"color: #0000ff; text-decoration-color: #0000ff\">sps_per_gpu</span>=<span style=\"color: #008080; text-decoration-color: #008080; font-weight: bold\">2.62616</span> <span style=\"color: #0000ff; text-decoration-color: #0000ff\">tps</span>=<span style=\"color: #008080; text-decoration-color: #008080; font-weight: bold\">21513.5</span> <span style=\"color: #0000ff; text-decoration-color: #0000ff\">tps_per_gpu</span>=<span style=\"color: #008080; text-decoration-color: #008080; font-weight: bold\">21513.5</span> <span style=\"color: #0000ff; text-decoration-color: #0000ff\">mfu</span>=<span style=\"color: #008080; text-decoration-color: #008080; font-weight: bold\">0.634517</span>\n",
              "</pre>\n"
            ]
          },
          "metadata": {}
        },
        {
          "output_type": "display_data",
          "data": {
            "text/plain": [
              "[\u001b[2m2025-07-23 \u001b[0m\u001b[2m17:09:55,063291\u001b[0m][\u001b[32mI\u001b[0m][\u001b[3;36mwordplay\u001b[0m/\u001b[34mtrainer\u001b[0m\u001b[94m:\u001b[0m\u001b[35m894\u001b[0m]\u001b[37m \u001b[0m\u001b[94mstep\u001b[0m=\u001b[1;36m120\u001b[0m \u001b[94mloss\u001b[0m=\u001b[1;36m2\u001b[0m\u001b[1;36m.5274\u001b[0m \u001b[94mdt\u001b[0m=\u001b[1;36m0\u001b[0m\u001b[1;36m.379459\u001b[0m \u001b[94mdtf\u001b[0m=\u001b[1;36m0\u001b[0m\u001b[1;36m.00809937\u001b[0m \u001b[94mdtb\u001b[0m=\u001b[1;36m0\u001b[0m\u001b[1;36m.010612\u001b[0m \u001b[94msps\u001b[0m=\u001b[1;36m2\u001b[0m\u001b[1;36m.63533\u001b[0m \u001b[94msps_per_gpu\u001b[0m=\u001b[1;36m2\u001b[0m\u001b[1;36m.63533\u001b[0m \u001b[94mtps\u001b[0m=\u001b[1;36m21588\u001b[0m\u001b[1;36m.7\u001b[0m \u001b[94mtps_per_gpu\u001b[0m=\u001b[1;36m21588\u001b[0m\u001b[1;36m.7\u001b[0m \u001b[94mmfu\u001b[0m=\u001b[1;36m0\u001b[0m\u001b[1;36m.634857\u001b[0m\n"
            ],
            "text/html": [
              "<pre style=\"white-space:pre;overflow-x:auto;line-height:normal;font-family:Menlo,'DejaVu Sans Mono',consolas,'Courier New',monospace\">[<span style=\"color: #7f7f7f; text-decoration-color: #7f7f7f\">2025-07-23 17:09:55,063291</span>][<span style=\"color: #008000; text-decoration-color: #008000\">I</span>][<span style=\"color: #008080; text-decoration-color: #008080; font-style: italic\">wordplay</span>/<span style=\"color: #000080; text-decoration-color: #000080\">trainer</span><span style=\"color: #0000ff; text-decoration-color: #0000ff\">:</span><span style=\"color: #800080; text-decoration-color: #800080\">894</span>]<span style=\"color: #c0c0c0; text-decoration-color: #c0c0c0\"> </span><span style=\"color: #0000ff; text-decoration-color: #0000ff\">step</span>=<span style=\"color: #008080; text-decoration-color: #008080; font-weight: bold\">120</span> <span style=\"color: #0000ff; text-decoration-color: #0000ff\">loss</span>=<span style=\"color: #008080; text-decoration-color: #008080; font-weight: bold\">2.5274</span> <span style=\"color: #0000ff; text-decoration-color: #0000ff\">dt</span>=<span style=\"color: #008080; text-decoration-color: #008080; font-weight: bold\">0.379459</span> <span style=\"color: #0000ff; text-decoration-color: #0000ff\">dtf</span>=<span style=\"color: #008080; text-decoration-color: #008080; font-weight: bold\">0.00809937</span> <span style=\"color: #0000ff; text-decoration-color: #0000ff\">dtb</span>=<span style=\"color: #008080; text-decoration-color: #008080; font-weight: bold\">0.010612</span> <span style=\"color: #0000ff; text-decoration-color: #0000ff\">sps</span>=<span style=\"color: #008080; text-decoration-color: #008080; font-weight: bold\">2.63533</span> <span style=\"color: #0000ff; text-decoration-color: #0000ff\">sps_per_gpu</span>=<span style=\"color: #008080; text-decoration-color: #008080; font-weight: bold\">2.63533</span> <span style=\"color: #0000ff; text-decoration-color: #0000ff\">tps</span>=<span style=\"color: #008080; text-decoration-color: #008080; font-weight: bold\">21588.7</span> <span style=\"color: #0000ff; text-decoration-color: #0000ff\">tps_per_gpu</span>=<span style=\"color: #008080; text-decoration-color: #008080; font-weight: bold\">21588.7</span> <span style=\"color: #0000ff; text-decoration-color: #0000ff\">mfu</span>=<span style=\"color: #008080; text-decoration-color: #008080; font-weight: bold\">0.634857</span>\n",
              "</pre>\n"
            ]
          },
          "metadata": {}
        },
        {
          "output_type": "display_data",
          "data": {
            "text/plain": [
              "[\u001b[2m2025-07-23 \u001b[0m\u001b[2m17:09:58,886616\u001b[0m][\u001b[32mI\u001b[0m][\u001b[3;36mwordplay\u001b[0m/\u001b[34mtrainer\u001b[0m\u001b[94m:\u001b[0m\u001b[35m894\u001b[0m]\u001b[37m \u001b[0m\u001b[94mstep\u001b[0m=\u001b[1;36m130\u001b[0m \u001b[94mloss\u001b[0m=\u001b[1;36m2\u001b[0m\u001b[1;36m.54362\u001b[0m \u001b[94mdt\u001b[0m=\u001b[1;36m0\u001b[0m\u001b[1;36m.380395\u001b[0m \u001b[94mdtf\u001b[0m=\u001b[1;36m0\u001b[0m\u001b[1;36m.00779761\u001b[0m \u001b[94mdtb\u001b[0m=\u001b[1;36m0\u001b[0m\u001b[1;36m.00998153\u001b[0m \u001b[94msps\u001b[0m=\u001b[1;36m2\u001b[0m\u001b[1;36m.62885\u001b[0m \u001b[94msps_per_gpu\u001b[0m=\u001b[1;36m2\u001b[0m\u001b[1;36m.62885\u001b[0m \u001b[94mtps\u001b[0m=\u001b[1;36m21535\u001b[0m\u001b[1;36m.5\u001b[0m \u001b[94mtps_per_gpu\u001b[0m=\u001b[1;36m21535\u001b[0m\u001b[1;36m.5\u001b[0m \u001b[94mmfu\u001b[0m=\u001b[1;36m0\u001b[0m\u001b[1;36m.635006\u001b[0m\n"
            ],
            "text/html": [
              "<pre style=\"white-space:pre;overflow-x:auto;line-height:normal;font-family:Menlo,'DejaVu Sans Mono',consolas,'Courier New',monospace\">[<span style=\"color: #7f7f7f; text-decoration-color: #7f7f7f\">2025-07-23 17:09:58,886616</span>][<span style=\"color: #008000; text-decoration-color: #008000\">I</span>][<span style=\"color: #008080; text-decoration-color: #008080; font-style: italic\">wordplay</span>/<span style=\"color: #000080; text-decoration-color: #000080\">trainer</span><span style=\"color: #0000ff; text-decoration-color: #0000ff\">:</span><span style=\"color: #800080; text-decoration-color: #800080\">894</span>]<span style=\"color: #c0c0c0; text-decoration-color: #c0c0c0\"> </span><span style=\"color: #0000ff; text-decoration-color: #0000ff\">step</span>=<span style=\"color: #008080; text-decoration-color: #008080; font-weight: bold\">130</span> <span style=\"color: #0000ff; text-decoration-color: #0000ff\">loss</span>=<span style=\"color: #008080; text-decoration-color: #008080; font-weight: bold\">2.54362</span> <span style=\"color: #0000ff; text-decoration-color: #0000ff\">dt</span>=<span style=\"color: #008080; text-decoration-color: #008080; font-weight: bold\">0.380395</span> <span style=\"color: #0000ff; text-decoration-color: #0000ff\">dtf</span>=<span style=\"color: #008080; text-decoration-color: #008080; font-weight: bold\">0.00779761</span> <span style=\"color: #0000ff; text-decoration-color: #0000ff\">dtb</span>=<span style=\"color: #008080; text-decoration-color: #008080; font-weight: bold\">0.00998153</span> <span style=\"color: #0000ff; text-decoration-color: #0000ff\">sps</span>=<span style=\"color: #008080; text-decoration-color: #008080; font-weight: bold\">2.62885</span> <span style=\"color: #0000ff; text-decoration-color: #0000ff\">sps_per_gpu</span>=<span style=\"color: #008080; text-decoration-color: #008080; font-weight: bold\">2.62885</span> <span style=\"color: #0000ff; text-decoration-color: #0000ff\">tps</span>=<span style=\"color: #008080; text-decoration-color: #008080; font-weight: bold\">21535.5</span> <span style=\"color: #0000ff; text-decoration-color: #0000ff\">tps_per_gpu</span>=<span style=\"color: #008080; text-decoration-color: #008080; font-weight: bold\">21535.5</span> <span style=\"color: #0000ff; text-decoration-color: #0000ff\">mfu</span>=<span style=\"color: #008080; text-decoration-color: #008080; font-weight: bold\">0.635006</span>\n",
              "</pre>\n"
            ]
          },
          "metadata": {}
        },
        {
          "output_type": "display_data",
          "data": {
            "text/plain": [
              "[\u001b[2m2025-07-23 \u001b[0m\u001b[2m17:10:02,708605\u001b[0m][\u001b[32mI\u001b[0m][\u001b[3;36mwordplay\u001b[0m/\u001b[34mtrainer\u001b[0m\u001b[94m:\u001b[0m\u001b[35m894\u001b[0m]\u001b[37m \u001b[0m\u001b[94mstep\u001b[0m=\u001b[1;36m140\u001b[0m \u001b[94mloss\u001b[0m=\u001b[1;36m2\u001b[0m\u001b[1;36m.50172\u001b[0m \u001b[94mdt\u001b[0m=\u001b[1;36m0\u001b[0m\u001b[1;36m.381295\u001b[0m \u001b[94mdtf\u001b[0m=\u001b[1;36m0\u001b[0m\u001b[1;36m.00778436\u001b[0m \u001b[94mdtb\u001b[0m=\u001b[1;36m0\u001b[0m\u001b[1;36m.0100367\u001b[0m \u001b[94msps\u001b[0m=\u001b[1;36m2\u001b[0m\u001b[1;36m.62264\u001b[0m \u001b[94msps_per_gpu\u001b[0m=\u001b[1;36m2\u001b[0m\u001b[1;36m.62264\u001b[0m \u001b[94mtps\u001b[0m=\u001b[1;36m21484\u001b[0m\u001b[1;36m.7\u001b[0m \u001b[94mtps_per_gpu\u001b[0m=\u001b[1;36m21484\u001b[0m\u001b[1;36m.7\u001b[0m \u001b[94mmfu\u001b[0m=\u001b[1;36m0\u001b[0m\u001b[1;36m.63499\u001b[0m\n"
            ],
            "text/html": [
              "<pre style=\"white-space:pre;overflow-x:auto;line-height:normal;font-family:Menlo,'DejaVu Sans Mono',consolas,'Courier New',monospace\">[<span style=\"color: #7f7f7f; text-decoration-color: #7f7f7f\">2025-07-23 17:10:02,708605</span>][<span style=\"color: #008000; text-decoration-color: #008000\">I</span>][<span style=\"color: #008080; text-decoration-color: #008080; font-style: italic\">wordplay</span>/<span style=\"color: #000080; text-decoration-color: #000080\">trainer</span><span style=\"color: #0000ff; text-decoration-color: #0000ff\">:</span><span style=\"color: #800080; text-decoration-color: #800080\">894</span>]<span style=\"color: #c0c0c0; text-decoration-color: #c0c0c0\"> </span><span style=\"color: #0000ff; text-decoration-color: #0000ff\">step</span>=<span style=\"color: #008080; text-decoration-color: #008080; font-weight: bold\">140</span> <span style=\"color: #0000ff; text-decoration-color: #0000ff\">loss</span>=<span style=\"color: #008080; text-decoration-color: #008080; font-weight: bold\">2.50172</span> <span style=\"color: #0000ff; text-decoration-color: #0000ff\">dt</span>=<span style=\"color: #008080; text-decoration-color: #008080; font-weight: bold\">0.381295</span> <span style=\"color: #0000ff; text-decoration-color: #0000ff\">dtf</span>=<span style=\"color: #008080; text-decoration-color: #008080; font-weight: bold\">0.00778436</span> <span style=\"color: #0000ff; text-decoration-color: #0000ff\">dtb</span>=<span style=\"color: #008080; text-decoration-color: #008080; font-weight: bold\">0.0100367</span> <span style=\"color: #0000ff; text-decoration-color: #0000ff\">sps</span>=<span style=\"color: #008080; text-decoration-color: #008080; font-weight: bold\">2.62264</span> <span style=\"color: #0000ff; text-decoration-color: #0000ff\">sps_per_gpu</span>=<span style=\"color: #008080; text-decoration-color: #008080; font-weight: bold\">2.62264</span> <span style=\"color: #0000ff; text-decoration-color: #0000ff\">tps</span>=<span style=\"color: #008080; text-decoration-color: #008080; font-weight: bold\">21484.7</span> <span style=\"color: #0000ff; text-decoration-color: #0000ff\">tps_per_gpu</span>=<span style=\"color: #008080; text-decoration-color: #008080; font-weight: bold\">21484.7</span> <span style=\"color: #0000ff; text-decoration-color: #0000ff\">mfu</span>=<span style=\"color: #008080; text-decoration-color: #008080; font-weight: bold\">0.63499</span>\n",
              "</pre>\n"
            ]
          },
          "metadata": {}
        },
        {
          "output_type": "display_data",
          "data": {
            "text/plain": [
              "[\u001b[2m2025-07-23 \u001b[0m\u001b[2m17:10:06,528915\u001b[0m][\u001b[32mI\u001b[0m][\u001b[3;36mwordplay\u001b[0m/\u001b[34mtrainer\u001b[0m\u001b[94m:\u001b[0m\u001b[35m894\u001b[0m]\u001b[37m \u001b[0m\u001b[94mstep\u001b[0m=\u001b[1;36m150\u001b[0m \u001b[94mloss\u001b[0m=\u001b[1;36m2\u001b[0m\u001b[1;36m.50335\u001b[0m \u001b[94mdt\u001b[0m=\u001b[1;36m0\u001b[0m\u001b[1;36m.373231\u001b[0m \u001b[94mdtf\u001b[0m=\u001b[1;36m0\u001b[0m\u001b[1;36m.0079468\u001b[0m \u001b[94mdtb\u001b[0m=\u001b[1;36m0\u001b[0m\u001b[1;36m.0108304\u001b[0m \u001b[94msps\u001b[0m=\u001b[1;36m2\u001b[0m\u001b[1;36m.67931\u001b[0m \u001b[94msps_per_gpu\u001b[0m=\u001b[1;36m2\u001b[0m\u001b[1;36m.67931\u001b[0m \u001b[94mtps\u001b[0m=\u001b[1;36m21948\u001b[0m\u001b[1;36m.9\u001b[0m \u001b[94mtps_per_gpu\u001b[0m=\u001b[1;36m21948\u001b[0m\u001b[1;36m.9\u001b[0m \u001b[94mmfu\u001b[0m=\u001b[1;36m0\u001b[0m\u001b[1;36m.636348\u001b[0m\n"
            ],
            "text/html": [
              "<pre style=\"white-space:pre;overflow-x:auto;line-height:normal;font-family:Menlo,'DejaVu Sans Mono',consolas,'Courier New',monospace\">[<span style=\"color: #7f7f7f; text-decoration-color: #7f7f7f\">2025-07-23 17:10:06,528915</span>][<span style=\"color: #008000; text-decoration-color: #008000\">I</span>][<span style=\"color: #008080; text-decoration-color: #008080; font-style: italic\">wordplay</span>/<span style=\"color: #000080; text-decoration-color: #000080\">trainer</span><span style=\"color: #0000ff; text-decoration-color: #0000ff\">:</span><span style=\"color: #800080; text-decoration-color: #800080\">894</span>]<span style=\"color: #c0c0c0; text-decoration-color: #c0c0c0\"> </span><span style=\"color: #0000ff; text-decoration-color: #0000ff\">step</span>=<span style=\"color: #008080; text-decoration-color: #008080; font-weight: bold\">150</span> <span style=\"color: #0000ff; text-decoration-color: #0000ff\">loss</span>=<span style=\"color: #008080; text-decoration-color: #008080; font-weight: bold\">2.50335</span> <span style=\"color: #0000ff; text-decoration-color: #0000ff\">dt</span>=<span style=\"color: #008080; text-decoration-color: #008080; font-weight: bold\">0.373231</span> <span style=\"color: #0000ff; text-decoration-color: #0000ff\">dtf</span>=<span style=\"color: #008080; text-decoration-color: #008080; font-weight: bold\">0.0079468</span> <span style=\"color: #0000ff; text-decoration-color: #0000ff\">dtb</span>=<span style=\"color: #008080; text-decoration-color: #008080; font-weight: bold\">0.0108304</span> <span style=\"color: #0000ff; text-decoration-color: #0000ff\">sps</span>=<span style=\"color: #008080; text-decoration-color: #008080; font-weight: bold\">2.67931</span> <span style=\"color: #0000ff; text-decoration-color: #0000ff\">sps_per_gpu</span>=<span style=\"color: #008080; text-decoration-color: #008080; font-weight: bold\">2.67931</span> <span style=\"color: #0000ff; text-decoration-color: #0000ff\">tps</span>=<span style=\"color: #008080; text-decoration-color: #008080; font-weight: bold\">21948.9</span> <span style=\"color: #0000ff; text-decoration-color: #0000ff\">tps_per_gpu</span>=<span style=\"color: #008080; text-decoration-color: #008080; font-weight: bold\">21948.9</span> <span style=\"color: #0000ff; text-decoration-color: #0000ff\">mfu</span>=<span style=\"color: #008080; text-decoration-color: #008080; font-weight: bold\">0.636348</span>\n",
              "</pre>\n"
            ]
          },
          "metadata": {}
        },
        {
          "output_type": "display_data",
          "data": {
            "text/plain": [
              "[\u001b[2m2025-07-23 \u001b[0m\u001b[2m17:10:10,344712\u001b[0m][\u001b[32mI\u001b[0m][\u001b[3;36mwordplay\u001b[0m/\u001b[34mtrainer\u001b[0m\u001b[94m:\u001b[0m\u001b[35m894\u001b[0m]\u001b[37m \u001b[0m\u001b[94mstep\u001b[0m=\u001b[1;36m160\u001b[0m \u001b[94mloss\u001b[0m=\u001b[1;36m2\u001b[0m\u001b[1;36m.48674\u001b[0m \u001b[94mdt\u001b[0m=\u001b[1;36m0\u001b[0m\u001b[1;36m.372652\u001b[0m \u001b[94mdtf\u001b[0m=\u001b[1;36m0\u001b[0m\u001b[1;36m.0117069\u001b[0m \u001b[94mdtb\u001b[0m=\u001b[1;36m0\u001b[0m\u001b[1;36m.0104974\u001b[0m \u001b[94msps\u001b[0m=\u001b[1;36m2\u001b[0m\u001b[1;36m.68347\u001b[0m \u001b[94msps_per_gpu\u001b[0m=\u001b[1;36m2\u001b[0m\u001b[1;36m.68347\u001b[0m \u001b[94mtps\u001b[0m=\u001b[1;36m21983\u001b[0m \u001b[94mtps_per_gpu\u001b[0m=\u001b[1;36m21983\u001b[0m \u001b[94mmfu\u001b[0m=\u001b[1;36m0\u001b[0m\u001b[1;36m.63767\u001b[0m\n"
            ],
            "text/html": [
              "<pre style=\"white-space:pre;overflow-x:auto;line-height:normal;font-family:Menlo,'DejaVu Sans Mono',consolas,'Courier New',monospace\">[<span style=\"color: #7f7f7f; text-decoration-color: #7f7f7f\">2025-07-23 17:10:10,344712</span>][<span style=\"color: #008000; text-decoration-color: #008000\">I</span>][<span style=\"color: #008080; text-decoration-color: #008080; font-style: italic\">wordplay</span>/<span style=\"color: #000080; text-decoration-color: #000080\">trainer</span><span style=\"color: #0000ff; text-decoration-color: #0000ff\">:</span><span style=\"color: #800080; text-decoration-color: #800080\">894</span>]<span style=\"color: #c0c0c0; text-decoration-color: #c0c0c0\"> </span><span style=\"color: #0000ff; text-decoration-color: #0000ff\">step</span>=<span style=\"color: #008080; text-decoration-color: #008080; font-weight: bold\">160</span> <span style=\"color: #0000ff; text-decoration-color: #0000ff\">loss</span>=<span style=\"color: #008080; text-decoration-color: #008080; font-weight: bold\">2.48674</span> <span style=\"color: #0000ff; text-decoration-color: #0000ff\">dt</span>=<span style=\"color: #008080; text-decoration-color: #008080; font-weight: bold\">0.372652</span> <span style=\"color: #0000ff; text-decoration-color: #0000ff\">dtf</span>=<span style=\"color: #008080; text-decoration-color: #008080; font-weight: bold\">0.0117069</span> <span style=\"color: #0000ff; text-decoration-color: #0000ff\">dtb</span>=<span style=\"color: #008080; text-decoration-color: #008080; font-weight: bold\">0.0104974</span> <span style=\"color: #0000ff; text-decoration-color: #0000ff\">sps</span>=<span style=\"color: #008080; text-decoration-color: #008080; font-weight: bold\">2.68347</span> <span style=\"color: #0000ff; text-decoration-color: #0000ff\">sps_per_gpu</span>=<span style=\"color: #008080; text-decoration-color: #008080; font-weight: bold\">2.68347</span> <span style=\"color: #0000ff; text-decoration-color: #0000ff\">tps</span>=<span style=\"color: #008080; text-decoration-color: #008080; font-weight: bold\">21983</span> <span style=\"color: #0000ff; text-decoration-color: #0000ff\">tps_per_gpu</span>=<span style=\"color: #008080; text-decoration-color: #008080; font-weight: bold\">21983</span> <span style=\"color: #0000ff; text-decoration-color: #0000ff\">mfu</span>=<span style=\"color: #008080; text-decoration-color: #008080; font-weight: bold\">0.63767</span>\n",
              "</pre>\n"
            ]
          },
          "metadata": {}
        },
        {
          "output_type": "display_data",
          "data": {
            "text/plain": [
              "[\u001b[2m2025-07-23 \u001b[0m\u001b[2m17:10:14,168118\u001b[0m][\u001b[32mI\u001b[0m][\u001b[3;36mwordplay\u001b[0m/\u001b[34mtrainer\u001b[0m\u001b[94m:\u001b[0m\u001b[35m894\u001b[0m]\u001b[37m \u001b[0m\u001b[94mstep\u001b[0m=\u001b[1;36m170\u001b[0m \u001b[94mloss\u001b[0m=\u001b[1;36m2\u001b[0m\u001b[1;36m.47736\u001b[0m \u001b[94mdt\u001b[0m=\u001b[1;36m0\u001b[0m\u001b[1;36m.380656\u001b[0m \u001b[94mdtf\u001b[0m=\u001b[1;36m0\u001b[0m\u001b[1;36m.00807191\u001b[0m \u001b[94mdtb\u001b[0m=\u001b[1;36m0\u001b[0m\u001b[1;36m.0106655\u001b[0m \u001b[94msps\u001b[0m=\u001b[1;36m2\u001b[0m\u001b[1;36m.62705\u001b[0m \u001b[94msps_per_gpu\u001b[0m=\u001b[1;36m2\u001b[0m\u001b[1;36m.62705\u001b[0m \u001b[94mtps\u001b[0m=\u001b[1;36m21520\u001b[0m\u001b[1;36m.8\u001b[0m \u001b[94mtps_per_gpu\u001b[0m=\u001b[1;36m21520\u001b[0m\u001b[1;36m.8\u001b[0m \u001b[94mmfu\u001b[0m=\u001b[1;36m0\u001b[0m\u001b[1;36m.637494\u001b[0m\n"
            ],
            "text/html": [
              "<pre style=\"white-space:pre;overflow-x:auto;line-height:normal;font-family:Menlo,'DejaVu Sans Mono',consolas,'Courier New',monospace\">[<span style=\"color: #7f7f7f; text-decoration-color: #7f7f7f\">2025-07-23 17:10:14,168118</span>][<span style=\"color: #008000; text-decoration-color: #008000\">I</span>][<span style=\"color: #008080; text-decoration-color: #008080; font-style: italic\">wordplay</span>/<span style=\"color: #000080; text-decoration-color: #000080\">trainer</span><span style=\"color: #0000ff; text-decoration-color: #0000ff\">:</span><span style=\"color: #800080; text-decoration-color: #800080\">894</span>]<span style=\"color: #c0c0c0; text-decoration-color: #c0c0c0\"> </span><span style=\"color: #0000ff; text-decoration-color: #0000ff\">step</span>=<span style=\"color: #008080; text-decoration-color: #008080; font-weight: bold\">170</span> <span style=\"color: #0000ff; text-decoration-color: #0000ff\">loss</span>=<span style=\"color: #008080; text-decoration-color: #008080; font-weight: bold\">2.47736</span> <span style=\"color: #0000ff; text-decoration-color: #0000ff\">dt</span>=<span style=\"color: #008080; text-decoration-color: #008080; font-weight: bold\">0.380656</span> <span style=\"color: #0000ff; text-decoration-color: #0000ff\">dtf</span>=<span style=\"color: #008080; text-decoration-color: #008080; font-weight: bold\">0.00807191</span> <span style=\"color: #0000ff; text-decoration-color: #0000ff\">dtb</span>=<span style=\"color: #008080; text-decoration-color: #008080; font-weight: bold\">0.0106655</span> <span style=\"color: #0000ff; text-decoration-color: #0000ff\">sps</span>=<span style=\"color: #008080; text-decoration-color: #008080; font-weight: bold\">2.62705</span> <span style=\"color: #0000ff; text-decoration-color: #0000ff\">sps_per_gpu</span>=<span style=\"color: #008080; text-decoration-color: #008080; font-weight: bold\">2.62705</span> <span style=\"color: #0000ff; text-decoration-color: #0000ff\">tps</span>=<span style=\"color: #008080; text-decoration-color: #008080; font-weight: bold\">21520.8</span> <span style=\"color: #0000ff; text-decoration-color: #0000ff\">tps_per_gpu</span>=<span style=\"color: #008080; text-decoration-color: #008080; font-weight: bold\">21520.8</span> <span style=\"color: #0000ff; text-decoration-color: #0000ff\">mfu</span>=<span style=\"color: #008080; text-decoration-color: #008080; font-weight: bold\">0.637494</span>\n",
              "</pre>\n"
            ]
          },
          "metadata": {}
        },
        {
          "output_type": "display_data",
          "data": {
            "text/plain": [
              "[\u001b[2m2025-07-23 \u001b[0m\u001b[2m17:10:17,988492\u001b[0m][\u001b[32mI\u001b[0m][\u001b[3;36mwordplay\u001b[0m/\u001b[34mtrainer\u001b[0m\u001b[94m:\u001b[0m\u001b[35m894\u001b[0m]\u001b[37m \u001b[0m\u001b[94mstep\u001b[0m=\u001b[1;36m180\u001b[0m \u001b[94mloss\u001b[0m=\u001b[1;36m2\u001b[0m\u001b[1;36m.46811\u001b[0m \u001b[94mdt\u001b[0m=\u001b[1;36m0\u001b[0m\u001b[1;36m.380603\u001b[0m \u001b[94mdtf\u001b[0m=\u001b[1;36m0\u001b[0m\u001b[1;36m.0078251\u001b[0m \u001b[94mdtb\u001b[0m=\u001b[1;36m0\u001b[0m\u001b[1;36m.0103172\u001b[0m \u001b[94msps\u001b[0m=\u001b[1;36m2\u001b[0m\u001b[1;36m.62741\u001b[0m \u001b[94msps_per_gpu\u001b[0m=\u001b[1;36m2\u001b[0m\u001b[1;36m.62741\u001b[0m \u001b[94mtps\u001b[0m=\u001b[1;36m21523\u001b[0m\u001b[1;36m.8\u001b[0m \u001b[94mtps_per_gpu\u001b[0m=\u001b[1;36m21523\u001b[0m\u001b[1;36m.8\u001b[0m \u001b[94mmfu\u001b[0m=\u001b[1;36m0\u001b[0m\u001b[1;36m.637345\u001b[0m\n"
            ],
            "text/html": [
              "<pre style=\"white-space:pre;overflow-x:auto;line-height:normal;font-family:Menlo,'DejaVu Sans Mono',consolas,'Courier New',monospace\">[<span style=\"color: #7f7f7f; text-decoration-color: #7f7f7f\">2025-07-23 17:10:17,988492</span>][<span style=\"color: #008000; text-decoration-color: #008000\">I</span>][<span style=\"color: #008080; text-decoration-color: #008080; font-style: italic\">wordplay</span>/<span style=\"color: #000080; text-decoration-color: #000080\">trainer</span><span style=\"color: #0000ff; text-decoration-color: #0000ff\">:</span><span style=\"color: #800080; text-decoration-color: #800080\">894</span>]<span style=\"color: #c0c0c0; text-decoration-color: #c0c0c0\"> </span><span style=\"color: #0000ff; text-decoration-color: #0000ff\">step</span>=<span style=\"color: #008080; text-decoration-color: #008080; font-weight: bold\">180</span> <span style=\"color: #0000ff; text-decoration-color: #0000ff\">loss</span>=<span style=\"color: #008080; text-decoration-color: #008080; font-weight: bold\">2.46811</span> <span style=\"color: #0000ff; text-decoration-color: #0000ff\">dt</span>=<span style=\"color: #008080; text-decoration-color: #008080; font-weight: bold\">0.380603</span> <span style=\"color: #0000ff; text-decoration-color: #0000ff\">dtf</span>=<span style=\"color: #008080; text-decoration-color: #008080; font-weight: bold\">0.0078251</span> <span style=\"color: #0000ff; text-decoration-color: #0000ff\">dtb</span>=<span style=\"color: #008080; text-decoration-color: #008080; font-weight: bold\">0.0103172</span> <span style=\"color: #0000ff; text-decoration-color: #0000ff\">sps</span>=<span style=\"color: #008080; text-decoration-color: #008080; font-weight: bold\">2.62741</span> <span style=\"color: #0000ff; text-decoration-color: #0000ff\">sps_per_gpu</span>=<span style=\"color: #008080; text-decoration-color: #008080; font-weight: bold\">2.62741</span> <span style=\"color: #0000ff; text-decoration-color: #0000ff\">tps</span>=<span style=\"color: #008080; text-decoration-color: #008080; font-weight: bold\">21523.8</span> <span style=\"color: #0000ff; text-decoration-color: #0000ff\">tps_per_gpu</span>=<span style=\"color: #008080; text-decoration-color: #008080; font-weight: bold\">21523.8</span> <span style=\"color: #0000ff; text-decoration-color: #0000ff\">mfu</span>=<span style=\"color: #008080; text-decoration-color: #008080; font-weight: bold\">0.637345</span>\n",
              "</pre>\n"
            ]
          },
          "metadata": {}
        },
        {
          "output_type": "display_data",
          "data": {
            "text/plain": [
              "[\u001b[2m2025-07-23 \u001b[0m\u001b[2m17:10:21,810169\u001b[0m][\u001b[32mI\u001b[0m][\u001b[3;36mwordplay\u001b[0m/\u001b[34mtrainer\u001b[0m\u001b[94m:\u001b[0m\u001b[35m894\u001b[0m]\u001b[37m \u001b[0m\u001b[94mstep\u001b[0m=\u001b[1;36m190\u001b[0m \u001b[94mloss\u001b[0m=\u001b[1;36m2\u001b[0m\u001b[1;36m.45376\u001b[0m \u001b[94mdt\u001b[0m=\u001b[1;36m0\u001b[0m\u001b[1;36m.381434\u001b[0m \u001b[94mdtf\u001b[0m=\u001b[1;36m0\u001b[0m\u001b[1;36m.013805\u001b[0m \u001b[94mdtb\u001b[0m=\u001b[1;36m0\u001b[0m\u001b[1;36m.0137897\u001b[0m \u001b[94msps\u001b[0m=\u001b[1;36m2\u001b[0m\u001b[1;36m.62169\u001b[0m \u001b[94msps_per_gpu\u001b[0m=\u001b[1;36m2\u001b[0m\u001b[1;36m.62169\u001b[0m \u001b[94mtps\u001b[0m=\u001b[1;36m21476\u001b[0m\u001b[1;36m.9\u001b[0m \u001b[94mtps_per_gpu\u001b[0m=\u001b[1;36m21476\u001b[0m\u001b[1;36m.9\u001b[0m \u001b[94mmfu\u001b[0m=\u001b[1;36m0\u001b[0m\u001b[1;36m.637072\u001b[0m\n"
            ],
            "text/html": [
              "<pre style=\"white-space:pre;overflow-x:auto;line-height:normal;font-family:Menlo,'DejaVu Sans Mono',consolas,'Courier New',monospace\">[<span style=\"color: #7f7f7f; text-decoration-color: #7f7f7f\">2025-07-23 17:10:21,810169</span>][<span style=\"color: #008000; text-decoration-color: #008000\">I</span>][<span style=\"color: #008080; text-decoration-color: #008080; font-style: italic\">wordplay</span>/<span style=\"color: #000080; text-decoration-color: #000080\">trainer</span><span style=\"color: #0000ff; text-decoration-color: #0000ff\">:</span><span style=\"color: #800080; text-decoration-color: #800080\">894</span>]<span style=\"color: #c0c0c0; text-decoration-color: #c0c0c0\"> </span><span style=\"color: #0000ff; text-decoration-color: #0000ff\">step</span>=<span style=\"color: #008080; text-decoration-color: #008080; font-weight: bold\">190</span> <span style=\"color: #0000ff; text-decoration-color: #0000ff\">loss</span>=<span style=\"color: #008080; text-decoration-color: #008080; font-weight: bold\">2.45376</span> <span style=\"color: #0000ff; text-decoration-color: #0000ff\">dt</span>=<span style=\"color: #008080; text-decoration-color: #008080; font-weight: bold\">0.381434</span> <span style=\"color: #0000ff; text-decoration-color: #0000ff\">dtf</span>=<span style=\"color: #008080; text-decoration-color: #008080; font-weight: bold\">0.013805</span> <span style=\"color: #0000ff; text-decoration-color: #0000ff\">dtb</span>=<span style=\"color: #008080; text-decoration-color: #008080; font-weight: bold\">0.0137897</span> <span style=\"color: #0000ff; text-decoration-color: #0000ff\">sps</span>=<span style=\"color: #008080; text-decoration-color: #008080; font-weight: bold\">2.62169</span> <span style=\"color: #0000ff; text-decoration-color: #0000ff\">sps_per_gpu</span>=<span style=\"color: #008080; text-decoration-color: #008080; font-weight: bold\">2.62169</span> <span style=\"color: #0000ff; text-decoration-color: #0000ff\">tps</span>=<span style=\"color: #008080; text-decoration-color: #008080; font-weight: bold\">21476.9</span> <span style=\"color: #0000ff; text-decoration-color: #0000ff\">tps_per_gpu</span>=<span style=\"color: #008080; text-decoration-color: #008080; font-weight: bold\">21476.9</span> <span style=\"color: #0000ff; text-decoration-color: #0000ff\">mfu</span>=<span style=\"color: #008080; text-decoration-color: #008080; font-weight: bold\">0.637072</span>\n",
              "</pre>\n"
            ]
          },
          "metadata": {}
        },
        {
          "output_type": "display_data",
          "data": {
            "text/plain": [
              "[\u001b[2m2025-07-23 \u001b[0m\u001b[2m17:10:25,634107\u001b[0m][\u001b[32mI\u001b[0m][\u001b[3;36mwordplay\u001b[0m/\u001b[34mtrainer\u001b[0m\u001b[94m:\u001b[0m\u001b[35m894\u001b[0m]\u001b[37m \u001b[0m\u001b[94mstep\u001b[0m=\u001b[1;36m200\u001b[0m \u001b[94mloss\u001b[0m=\u001b[1;36m2\u001b[0m\u001b[1;36m.47938\u001b[0m \u001b[94mdt\u001b[0m=\u001b[1;36m0\u001b[0m\u001b[1;36m.383512\u001b[0m \u001b[94mdtf\u001b[0m=\u001b[1;36m0\u001b[0m\u001b[1;36m.00936293\u001b[0m \u001b[94mdtb\u001b[0m=\u001b[1;36m0\u001b[0m\u001b[1;36m.0101239\u001b[0m \u001b[94msps\u001b[0m=\u001b[1;36m2\u001b[0m\u001b[1;36m.60748\u001b[0m \u001b[94msps_per_gpu\u001b[0m=\u001b[1;36m2\u001b[0m\u001b[1;36m.60748\u001b[0m \u001b[94mtps\u001b[0m=\u001b[1;36m21360\u001b[0m\u001b[1;36m.5\u001b[0m \u001b[94mtps_per_gpu\u001b[0m=\u001b[1;36m21360\u001b[0m\u001b[1;36m.5\u001b[0m \u001b[94mmfu\u001b[0m=\u001b[1;36m0\u001b[0m\u001b[1;36m.636483\u001b[0m\n"
            ],
            "text/html": [
              "<pre style=\"white-space:pre;overflow-x:auto;line-height:normal;font-family:Menlo,'DejaVu Sans Mono',consolas,'Courier New',monospace\">[<span style=\"color: #7f7f7f; text-decoration-color: #7f7f7f\">2025-07-23 17:10:25,634107</span>][<span style=\"color: #008000; text-decoration-color: #008000\">I</span>][<span style=\"color: #008080; text-decoration-color: #008080; font-style: italic\">wordplay</span>/<span style=\"color: #000080; text-decoration-color: #000080\">trainer</span><span style=\"color: #0000ff; text-decoration-color: #0000ff\">:</span><span style=\"color: #800080; text-decoration-color: #800080\">894</span>]<span style=\"color: #c0c0c0; text-decoration-color: #c0c0c0\"> </span><span style=\"color: #0000ff; text-decoration-color: #0000ff\">step</span>=<span style=\"color: #008080; text-decoration-color: #008080; font-weight: bold\">200</span> <span style=\"color: #0000ff; text-decoration-color: #0000ff\">loss</span>=<span style=\"color: #008080; text-decoration-color: #008080; font-weight: bold\">2.47938</span> <span style=\"color: #0000ff; text-decoration-color: #0000ff\">dt</span>=<span style=\"color: #008080; text-decoration-color: #008080; font-weight: bold\">0.383512</span> <span style=\"color: #0000ff; text-decoration-color: #0000ff\">dtf</span>=<span style=\"color: #008080; text-decoration-color: #008080; font-weight: bold\">0.00936293</span> <span style=\"color: #0000ff; text-decoration-color: #0000ff\">dtb</span>=<span style=\"color: #008080; text-decoration-color: #008080; font-weight: bold\">0.0101239</span> <span style=\"color: #0000ff; text-decoration-color: #0000ff\">sps</span>=<span style=\"color: #008080; text-decoration-color: #008080; font-weight: bold\">2.60748</span> <span style=\"color: #0000ff; text-decoration-color: #0000ff\">sps_per_gpu</span>=<span style=\"color: #008080; text-decoration-color: #008080; font-weight: bold\">2.60748</span> <span style=\"color: #0000ff; text-decoration-color: #0000ff\">tps</span>=<span style=\"color: #008080; text-decoration-color: #008080; font-weight: bold\">21360.5</span> <span style=\"color: #0000ff; text-decoration-color: #0000ff\">tps_per_gpu</span>=<span style=\"color: #008080; text-decoration-color: #008080; font-weight: bold\">21360.5</span> <span style=\"color: #0000ff; text-decoration-color: #0000ff\">mfu</span>=<span style=\"color: #008080; text-decoration-color: #008080; font-weight: bold\">0.636483</span>\n",
              "</pre>\n"
            ]
          },
          "metadata": {}
        },
        {
          "output_type": "display_data",
          "data": {
            "text/plain": [
              "[\u001b[2m2025-07-23 \u001b[0m\u001b[2m17:10:26,457547\u001b[0m][\u001b[32mI\u001b[0m][\u001b[3;36mwordplay\u001b[0m/\u001b[34mtrainer\u001b[0m\u001b[94m:\u001b[0m\u001b[35m827\u001b[0m]\u001b[37m \u001b[0m\u001b[95m[\u001b[0m\u001b[32m'prompt'\u001b[0m\u001b[95m]\u001b[0m: \u001b[32m'What is an LLM?'\u001b[0m\n"
            ],
            "text/html": [
              "<pre style=\"white-space:pre;overflow-x:auto;line-height:normal;font-family:Menlo,'DejaVu Sans Mono',consolas,'Courier New',monospace\">[<span style=\"color: #7f7f7f; text-decoration-color: #7f7f7f\">2025-07-23 17:10:26,457547</span>][<span style=\"color: #008000; text-decoration-color: #008000\">I</span>][<span style=\"color: #008080; text-decoration-color: #008080; font-style: italic\">wordplay</span>/<span style=\"color: #000080; text-decoration-color: #000080\">trainer</span><span style=\"color: #0000ff; text-decoration-color: #0000ff\">:</span><span style=\"color: #800080; text-decoration-color: #800080\">827</span>]<span style=\"color: #c0c0c0; text-decoration-color: #c0c0c0\"> </span><span style=\"color: #ff00ff; text-decoration-color: #ff00ff\">[</span><span style=\"color: #008000; text-decoration-color: #008000\">'prompt'</span><span style=\"color: #ff00ff; text-decoration-color: #ff00ff\">]</span>: <span style=\"color: #008000; text-decoration-color: #008000\">'What is an LLM?'</span>\n",
              "</pre>\n"
            ]
          },
          "metadata": {}
        },
        {
          "output_type": "display_data",
          "data": {
            "text/plain": [
              "[\u001b[2m2025-07-23 \u001b[0m\u001b[2m17:10:26,459401\u001b[0m][\u001b[32mI\u001b[0m][\u001b[3;36mwordplay\u001b[0m/\u001b[34mtrainer\u001b[0m\u001b[94m:\u001b[0m\u001b[35m831\u001b[0m]\u001b[37m \u001b[0m\u001b[95m[\u001b[0m\u001b[32m'response'\u001b[0m\u001b[95m]\u001b[0m:\n",
              "\n",
              "What is an LLM?\n",
              "HLUS:\n",
              "LII hethin.\n",
              "TE: hast seatisurindo wiretyo benin tige, manens, br athetir hyors, blireriarond te me and, f llfes thes thor ists a m thives me windou,\n",
              "\n",
              "\n",
              "\n",
              "HA oulince s muce oll sse s avelo the rurd p as aver themes l neas:\n",
              "Heratho w ts the o w. thane r\n"
            ],
            "text/html": [
              "<pre style=\"white-space:pre;overflow-x:auto;line-height:normal;font-family:Menlo,'DejaVu Sans Mono',consolas,'Courier New',monospace\">[<span style=\"color: #7f7f7f; text-decoration-color: #7f7f7f\">2025-07-23 17:10:26,459401</span>][<span style=\"color: #008000; text-decoration-color: #008000\">I</span>][<span style=\"color: #008080; text-decoration-color: #008080; font-style: italic\">wordplay</span>/<span style=\"color: #000080; text-decoration-color: #000080\">trainer</span><span style=\"color: #0000ff; text-decoration-color: #0000ff\">:</span><span style=\"color: #800080; text-decoration-color: #800080\">831</span>]<span style=\"color: #c0c0c0; text-decoration-color: #c0c0c0\"> </span><span style=\"color: #ff00ff; text-decoration-color: #ff00ff\">[</span><span style=\"color: #008000; text-decoration-color: #008000\">'response'</span><span style=\"color: #ff00ff; text-decoration-color: #ff00ff\">]</span>:\n",
              "\n",
              "What is an LLM?\n",
              "HLUS:\n",
              "LII hethin.\n",
              "TE: hast seatisurindo wiretyo benin tige, manens, br athetir hyors, blireriarond te me and, f llfes thes thor ists a m thives me windou,\n",
              "\n",
              "\n",
              "\n",
              "HA oulince s muce oll sse s avelo the rurd p as aver themes l neas:\n",
              "Heratho w ts the o w. thane r\n",
              "</pre>\n"
            ]
          },
          "metadata": {}
        },
        {
          "output_type": "display_data",
          "data": {
            "text/plain": [
              "[\u001b[2m2025-07-23 \u001b[0m\u001b[2m17:11:24,182085\u001b[0m][\u001b[32mI\u001b[0m][\u001b[3;36mwordplay\u001b[0m/\u001b[34mtrainer\u001b[0m\u001b[94m:\u001b[0m\u001b[35m762\u001b[0m]\u001b[37m \u001b[0mSaving checkpoint to: \u001b[35m/\u001b[0m\u001b[95mcontent\u001b[0m\n"
            ],
            "text/html": [
              "<pre style=\"white-space:pre;overflow-x:auto;line-height:normal;font-family:Menlo,'DejaVu Sans Mono',consolas,'Courier New',monospace\">[<span style=\"color: #7f7f7f; text-decoration-color: #7f7f7f\">2025-07-23 17:11:24,182085</span>][<span style=\"color: #008000; text-decoration-color: #008000\">I</span>][<span style=\"color: #008080; text-decoration-color: #008080; font-style: italic\">wordplay</span>/<span style=\"color: #000080; text-decoration-color: #000080\">trainer</span><span style=\"color: #0000ff; text-decoration-color: #0000ff\">:</span><span style=\"color: #800080; text-decoration-color: #800080\">762</span>]<span style=\"color: #c0c0c0; text-decoration-color: #c0c0c0\"> </span>Saving checkpoint to: <span style=\"color: #800080; text-decoration-color: #800080\">/</span><span style=\"color: #ff00ff; text-decoration-color: #ff00ff\">content</span>\n",
              "</pre>\n"
            ]
          },
          "metadata": {}
        },
        {
          "output_type": "display_data",
          "data": {
            "text/plain": [
              "[\u001b[2m2025-07-23 \u001b[0m\u001b[2m17:11:24,184071\u001b[0m][\u001b[32mI\u001b[0m][\u001b[3;36mwordplay\u001b[0m/\u001b[34mtrainer\u001b[0m\u001b[94m:\u001b[0m\u001b[35m763\u001b[0m]\u001b[37m \u001b[0mSaving model to: \u001b[35m/content/\u001b[0m\u001b[95mmodel.pth\u001b[0m\n"
            ],
            "text/html": [
              "<pre style=\"white-space:pre;overflow-x:auto;line-height:normal;font-family:Menlo,'DejaVu Sans Mono',consolas,'Courier New',monospace\">[<span style=\"color: #7f7f7f; text-decoration-color: #7f7f7f\">2025-07-23 17:11:24,184071</span>][<span style=\"color: #008000; text-decoration-color: #008000\">I</span>][<span style=\"color: #008080; text-decoration-color: #008080; font-style: italic\">wordplay</span>/<span style=\"color: #000080; text-decoration-color: #000080\">trainer</span><span style=\"color: #0000ff; text-decoration-color: #0000ff\">:</span><span style=\"color: #800080; text-decoration-color: #800080\">763</span>]<span style=\"color: #c0c0c0; text-decoration-color: #c0c0c0\"> </span>Saving model to: <span style=\"color: #800080; text-decoration-color: #800080\">/content/</span><span style=\"color: #ff00ff; text-decoration-color: #ff00ff\">model.pth</span>\n",
              "</pre>\n"
            ]
          },
          "metadata": {}
        },
        {
          "output_type": "display_data",
          "data": {
            "text/plain": [
              "[\u001b[2m2025-07-23 \u001b[0m\u001b[2m17:11:24,514195\u001b[0m][\u001b[32mI\u001b[0m][\u001b[3;36mwordplay\u001b[0m/\u001b[34mconfigs\u001b[0m\u001b[94m:\u001b[0m\u001b[35m141\u001b[0m]\u001b[37m \u001b[0mAppending \u001b[35m/\u001b[0m\u001b[95mcontent\u001b[0m to \u001b[35m/content/wordplay/src/ckpts/\u001b[0m\u001b[95mcheckpoints.log\u001b[0m\n"
            ],
            "text/html": [
              "<pre style=\"white-space:pre;overflow-x:auto;line-height:normal;font-family:Menlo,'DejaVu Sans Mono',consolas,'Courier New',monospace\">[<span style=\"color: #7f7f7f; text-decoration-color: #7f7f7f\">2025-07-23 17:11:24,514195</span>][<span style=\"color: #008000; text-decoration-color: #008000\">I</span>][<span style=\"color: #008080; text-decoration-color: #008080; font-style: italic\">wordplay</span>/<span style=\"color: #000080; text-decoration-color: #000080\">configs</span><span style=\"color: #0000ff; text-decoration-color: #0000ff\">:</span><span style=\"color: #800080; text-decoration-color: #800080\">141</span>]<span style=\"color: #c0c0c0; text-decoration-color: #c0c0c0\"> </span>Appending <span style=\"color: #800080; text-decoration-color: #800080\">/</span><span style=\"color: #ff00ff; text-decoration-color: #ff00ff\">content</span> to <span style=\"color: #800080; text-decoration-color: #800080\">/content/wordplay/src/ckpts/</span><span style=\"color: #ff00ff; text-decoration-color: #ff00ff\">checkpoints.log</span>\n",
              "</pre>\n"
            ]
          },
          "metadata": {}
        },
        {
          "output_type": "display_data",
          "data": {
            "text/plain": [
              "[\u001b[2m2025-07-23 \u001b[0m\u001b[2m17:11:28,333182\u001b[0m][\u001b[32mI\u001b[0m][\u001b[3;36mwordplay\u001b[0m/\u001b[34mtrainer\u001b[0m\u001b[94m:\u001b[0m\u001b[35m894\u001b[0m]\u001b[37m \u001b[0m\u001b[94mstep\u001b[0m=\u001b[1;36m210\u001b[0m \u001b[94mloss\u001b[0m=\u001b[1;36m2\u001b[0m\u001b[1;36m.45724\u001b[0m \u001b[94mdt\u001b[0m=\u001b[1;36m0\u001b[0m\u001b[1;36m.380321\u001b[0m \u001b[94mdtf\u001b[0m=\u001b[1;36m0\u001b[0m\u001b[1;36m.00789146\u001b[0m \u001b[94mdtb\u001b[0m=\u001b[1;36m0\u001b[0m\u001b[1;36m.00988756\u001b[0m \u001b[94msps\u001b[0m=\u001b[1;36m2\u001b[0m\u001b[1;36m.62936\u001b[0m \u001b[94msps_per_gpu\u001b[0m=\u001b[1;36m2\u001b[0m\u001b[1;36m.62936\u001b[0m \u001b[94mtps\u001b[0m=\u001b[1;36m21539\u001b[0m\u001b[1;36m.7\u001b[0m \u001b[94mtps_per_gpu\u001b[0m=\u001b[1;36m21539\u001b[0m\u001b[1;36m.7\u001b[0m \u001b[94mmfu\u001b[0m=\u001b[1;36m0\u001b[0m\u001b[1;36m.636482\u001b[0m\n"
            ],
            "text/html": [
              "<pre style=\"white-space:pre;overflow-x:auto;line-height:normal;font-family:Menlo,'DejaVu Sans Mono',consolas,'Courier New',monospace\">[<span style=\"color: #7f7f7f; text-decoration-color: #7f7f7f\">2025-07-23 17:11:28,333182</span>][<span style=\"color: #008000; text-decoration-color: #008000\">I</span>][<span style=\"color: #008080; text-decoration-color: #008080; font-style: italic\">wordplay</span>/<span style=\"color: #000080; text-decoration-color: #000080\">trainer</span><span style=\"color: #0000ff; text-decoration-color: #0000ff\">:</span><span style=\"color: #800080; text-decoration-color: #800080\">894</span>]<span style=\"color: #c0c0c0; text-decoration-color: #c0c0c0\"> </span><span style=\"color: #0000ff; text-decoration-color: #0000ff\">step</span>=<span style=\"color: #008080; text-decoration-color: #008080; font-weight: bold\">210</span> <span style=\"color: #0000ff; text-decoration-color: #0000ff\">loss</span>=<span style=\"color: #008080; text-decoration-color: #008080; font-weight: bold\">2.45724</span> <span style=\"color: #0000ff; text-decoration-color: #0000ff\">dt</span>=<span style=\"color: #008080; text-decoration-color: #008080; font-weight: bold\">0.380321</span> <span style=\"color: #0000ff; text-decoration-color: #0000ff\">dtf</span>=<span style=\"color: #008080; text-decoration-color: #008080; font-weight: bold\">0.00789146</span> <span style=\"color: #0000ff; text-decoration-color: #0000ff\">dtb</span>=<span style=\"color: #008080; text-decoration-color: #008080; font-weight: bold\">0.00988756</span> <span style=\"color: #0000ff; text-decoration-color: #0000ff\">sps</span>=<span style=\"color: #008080; text-decoration-color: #008080; font-weight: bold\">2.62936</span> <span style=\"color: #0000ff; text-decoration-color: #0000ff\">sps_per_gpu</span>=<span style=\"color: #008080; text-decoration-color: #008080; font-weight: bold\">2.62936</span> <span style=\"color: #0000ff; text-decoration-color: #0000ff\">tps</span>=<span style=\"color: #008080; text-decoration-color: #008080; font-weight: bold\">21539.7</span> <span style=\"color: #0000ff; text-decoration-color: #0000ff\">tps_per_gpu</span>=<span style=\"color: #008080; text-decoration-color: #008080; font-weight: bold\">21539.7</span> <span style=\"color: #0000ff; text-decoration-color: #0000ff\">mfu</span>=<span style=\"color: #008080; text-decoration-color: #008080; font-weight: bold\">0.636482</span>\n",
              "</pre>\n"
            ]
          },
          "metadata": {}
        },
        {
          "output_type": "display_data",
          "data": {
            "text/plain": [
              "[\u001b[2m2025-07-23 \u001b[0m\u001b[2m17:11:32,159664\u001b[0m][\u001b[32mI\u001b[0m][\u001b[3;36mwordplay\u001b[0m/\u001b[34mtrainer\u001b[0m\u001b[94m:\u001b[0m\u001b[35m894\u001b[0m]\u001b[37m \u001b[0m\u001b[94mstep\u001b[0m=\u001b[1;36m220\u001b[0m \u001b[94mloss\u001b[0m=\u001b[1;36m2\u001b[0m\u001b[1;36m.48242\u001b[0m \u001b[94mdt\u001b[0m=\u001b[1;36m0\u001b[0m\u001b[1;36m.383149\u001b[0m \u001b[94mdtf\u001b[0m=\u001b[1;36m0\u001b[0m\u001b[1;36m.00807603\u001b[0m \u001b[94mdtb\u001b[0m=\u001b[1;36m0\u001b[0m\u001b[1;36m.0101043\u001b[0m \u001b[94msps\u001b[0m=\u001b[1;36m2\u001b[0m\u001b[1;36m.60995\u001b[0m \u001b[94msps_per_gpu\u001b[0m=\u001b[1;36m2\u001b[0m\u001b[1;36m.60995\u001b[0m \u001b[94mtps\u001b[0m=\u001b[1;36m21380\u001b[0m\u001b[1;36m.7\u001b[0m \u001b[94mtps_per_gpu\u001b[0m=\u001b[1;36m21380\u001b[0m\u001b[1;36m.7\u001b[0m \u001b[94mmfu\u001b[0m=\u001b[1;36m0\u001b[0m\u001b[1;36m.636011\u001b[0m\n"
            ],
            "text/html": [
              "<pre style=\"white-space:pre;overflow-x:auto;line-height:normal;font-family:Menlo,'DejaVu Sans Mono',consolas,'Courier New',monospace\">[<span style=\"color: #7f7f7f; text-decoration-color: #7f7f7f\">2025-07-23 17:11:32,159664</span>][<span style=\"color: #008000; text-decoration-color: #008000\">I</span>][<span style=\"color: #008080; text-decoration-color: #008080; font-style: italic\">wordplay</span>/<span style=\"color: #000080; text-decoration-color: #000080\">trainer</span><span style=\"color: #0000ff; text-decoration-color: #0000ff\">:</span><span style=\"color: #800080; text-decoration-color: #800080\">894</span>]<span style=\"color: #c0c0c0; text-decoration-color: #c0c0c0\"> </span><span style=\"color: #0000ff; text-decoration-color: #0000ff\">step</span>=<span style=\"color: #008080; text-decoration-color: #008080; font-weight: bold\">220</span> <span style=\"color: #0000ff; text-decoration-color: #0000ff\">loss</span>=<span style=\"color: #008080; text-decoration-color: #008080; font-weight: bold\">2.48242</span> <span style=\"color: #0000ff; text-decoration-color: #0000ff\">dt</span>=<span style=\"color: #008080; text-decoration-color: #008080; font-weight: bold\">0.383149</span> <span style=\"color: #0000ff; text-decoration-color: #0000ff\">dtf</span>=<span style=\"color: #008080; text-decoration-color: #008080; font-weight: bold\">0.00807603</span> <span style=\"color: #0000ff; text-decoration-color: #0000ff\">dtb</span>=<span style=\"color: #008080; text-decoration-color: #008080; font-weight: bold\">0.0101043</span> <span style=\"color: #0000ff; text-decoration-color: #0000ff\">sps</span>=<span style=\"color: #008080; text-decoration-color: #008080; font-weight: bold\">2.60995</span> <span style=\"color: #0000ff; text-decoration-color: #0000ff\">sps_per_gpu</span>=<span style=\"color: #008080; text-decoration-color: #008080; font-weight: bold\">2.60995</span> <span style=\"color: #0000ff; text-decoration-color: #0000ff\">tps</span>=<span style=\"color: #008080; text-decoration-color: #008080; font-weight: bold\">21380.7</span> <span style=\"color: #0000ff; text-decoration-color: #0000ff\">tps_per_gpu</span>=<span style=\"color: #008080; text-decoration-color: #008080; font-weight: bold\">21380.7</span> <span style=\"color: #0000ff; text-decoration-color: #0000ff\">mfu</span>=<span style=\"color: #008080; text-decoration-color: #008080; font-weight: bold\">0.636011</span>\n",
              "</pre>\n"
            ]
          },
          "metadata": {}
        },
        {
          "output_type": "display_data",
          "data": {
            "text/plain": [
              "[\u001b[2m2025-07-23 \u001b[0m\u001b[2m17:11:35,989095\u001b[0m][\u001b[32mI\u001b[0m][\u001b[3;36mwordplay\u001b[0m/\u001b[34mtrainer\u001b[0m\u001b[94m:\u001b[0m\u001b[35m894\u001b[0m]\u001b[37m \u001b[0m\u001b[94mstep\u001b[0m=\u001b[1;36m230\u001b[0m \u001b[94mloss\u001b[0m=\u001b[1;36m2\u001b[0m\u001b[1;36m.48992\u001b[0m \u001b[94mdt\u001b[0m=\u001b[1;36m0\u001b[0m\u001b[1;36m.381508\u001b[0m \u001b[94mdtf\u001b[0m=\u001b[1;36m0\u001b[0m\u001b[1;36m.00775943\u001b[0m \u001b[94mdtb\u001b[0m=\u001b[1;36m0\u001b[0m\u001b[1;36m.00976974\u001b[0m \u001b[94msps\u001b[0m=\u001b[1;36m2\u001b[0m\u001b[1;36m.62117\u001b[0m \u001b[94msps_per_gpu\u001b[0m=\u001b[1;36m2\u001b[0m\u001b[1;36m.62117\u001b[0m \u001b[94mtps\u001b[0m=\u001b[1;36m21472\u001b[0m\u001b[1;36m.7\u001b[0m \u001b[94mtps_per_gpu\u001b[0m=\u001b[1;36m21472\u001b[0m\u001b[1;36m.7\u001b[0m \u001b[94mmfu\u001b[0m=\u001b[1;36m0\u001b[0m\u001b[1;36m.635859\u001b[0m\n"
            ],
            "text/html": [
              "<pre style=\"white-space:pre;overflow-x:auto;line-height:normal;font-family:Menlo,'DejaVu Sans Mono',consolas,'Courier New',monospace\">[<span style=\"color: #7f7f7f; text-decoration-color: #7f7f7f\">2025-07-23 17:11:35,989095</span>][<span style=\"color: #008000; text-decoration-color: #008000\">I</span>][<span style=\"color: #008080; text-decoration-color: #008080; font-style: italic\">wordplay</span>/<span style=\"color: #000080; text-decoration-color: #000080\">trainer</span><span style=\"color: #0000ff; text-decoration-color: #0000ff\">:</span><span style=\"color: #800080; text-decoration-color: #800080\">894</span>]<span style=\"color: #c0c0c0; text-decoration-color: #c0c0c0\"> </span><span style=\"color: #0000ff; text-decoration-color: #0000ff\">step</span>=<span style=\"color: #008080; text-decoration-color: #008080; font-weight: bold\">230</span> <span style=\"color: #0000ff; text-decoration-color: #0000ff\">loss</span>=<span style=\"color: #008080; text-decoration-color: #008080; font-weight: bold\">2.48992</span> <span style=\"color: #0000ff; text-decoration-color: #0000ff\">dt</span>=<span style=\"color: #008080; text-decoration-color: #008080; font-weight: bold\">0.381508</span> <span style=\"color: #0000ff; text-decoration-color: #0000ff\">dtf</span>=<span style=\"color: #008080; text-decoration-color: #008080; font-weight: bold\">0.00775943</span> <span style=\"color: #0000ff; text-decoration-color: #0000ff\">dtb</span>=<span style=\"color: #008080; text-decoration-color: #008080; font-weight: bold\">0.00976974</span> <span style=\"color: #0000ff; text-decoration-color: #0000ff\">sps</span>=<span style=\"color: #008080; text-decoration-color: #008080; font-weight: bold\">2.62117</span> <span style=\"color: #0000ff; text-decoration-color: #0000ff\">sps_per_gpu</span>=<span style=\"color: #008080; text-decoration-color: #008080; font-weight: bold\">2.62117</span> <span style=\"color: #0000ff; text-decoration-color: #0000ff\">tps</span>=<span style=\"color: #008080; text-decoration-color: #008080; font-weight: bold\">21472.7</span> <span style=\"color: #0000ff; text-decoration-color: #0000ff\">tps_per_gpu</span>=<span style=\"color: #008080; text-decoration-color: #008080; font-weight: bold\">21472.7</span> <span style=\"color: #0000ff; text-decoration-color: #0000ff\">mfu</span>=<span style=\"color: #008080; text-decoration-color: #008080; font-weight: bold\">0.635859</span>\n",
              "</pre>\n"
            ]
          },
          "metadata": {}
        },
        {
          "output_type": "display_data",
          "data": {
            "text/plain": [
              "[\u001b[2m2025-07-23 \u001b[0m\u001b[2m17:11:39,818287\u001b[0m][\u001b[32mI\u001b[0m][\u001b[3;36mwordplay\u001b[0m/\u001b[34mtrainer\u001b[0m\u001b[94m:\u001b[0m\u001b[35m894\u001b[0m]\u001b[37m \u001b[0m\u001b[94mstep\u001b[0m=\u001b[1;36m240\u001b[0m \u001b[94mloss\u001b[0m=\u001b[1;36m2\u001b[0m\u001b[1;36m.45306\u001b[0m \u001b[94mdt\u001b[0m=\u001b[1;36m0\u001b[0m\u001b[1;36m.382383\u001b[0m \u001b[94mdtf\u001b[0m=\u001b[1;36m0\u001b[0m\u001b[1;36m.00783342\u001b[0m \u001b[94mdtb\u001b[0m=\u001b[1;36m0\u001b[0m\u001b[1;36m.0103981\u001b[0m \u001b[94msps\u001b[0m=\u001b[1;36m2\u001b[0m\u001b[1;36m.61518\u001b[0m \u001b[94msps_per_gpu\u001b[0m=\u001b[1;36m2\u001b[0m\u001b[1;36m.61518\u001b[0m \u001b[94mtps\u001b[0m=\u001b[1;36m21423\u001b[0m\u001b[1;36m.5\u001b[0m \u001b[94mtps_per_gpu\u001b[0m=\u001b[1;36m21423\u001b[0m\u001b[1;36m.5\u001b[0m \u001b[94mmfu\u001b[0m=\u001b[1;36m0\u001b[0m\u001b[1;36m.635577\u001b[0m\n"
            ],
            "text/html": [
              "<pre style=\"white-space:pre;overflow-x:auto;line-height:normal;font-family:Menlo,'DejaVu Sans Mono',consolas,'Courier New',monospace\">[<span style=\"color: #7f7f7f; text-decoration-color: #7f7f7f\">2025-07-23 17:11:39,818287</span>][<span style=\"color: #008000; text-decoration-color: #008000\">I</span>][<span style=\"color: #008080; text-decoration-color: #008080; font-style: italic\">wordplay</span>/<span style=\"color: #000080; text-decoration-color: #000080\">trainer</span><span style=\"color: #0000ff; text-decoration-color: #0000ff\">:</span><span style=\"color: #800080; text-decoration-color: #800080\">894</span>]<span style=\"color: #c0c0c0; text-decoration-color: #c0c0c0\"> </span><span style=\"color: #0000ff; text-decoration-color: #0000ff\">step</span>=<span style=\"color: #008080; text-decoration-color: #008080; font-weight: bold\">240</span> <span style=\"color: #0000ff; text-decoration-color: #0000ff\">loss</span>=<span style=\"color: #008080; text-decoration-color: #008080; font-weight: bold\">2.45306</span> <span style=\"color: #0000ff; text-decoration-color: #0000ff\">dt</span>=<span style=\"color: #008080; text-decoration-color: #008080; font-weight: bold\">0.382383</span> <span style=\"color: #0000ff; text-decoration-color: #0000ff\">dtf</span>=<span style=\"color: #008080; text-decoration-color: #008080; font-weight: bold\">0.00783342</span> <span style=\"color: #0000ff; text-decoration-color: #0000ff\">dtb</span>=<span style=\"color: #008080; text-decoration-color: #008080; font-weight: bold\">0.0103981</span> <span style=\"color: #0000ff; text-decoration-color: #0000ff\">sps</span>=<span style=\"color: #008080; text-decoration-color: #008080; font-weight: bold\">2.61518</span> <span style=\"color: #0000ff; text-decoration-color: #0000ff\">sps_per_gpu</span>=<span style=\"color: #008080; text-decoration-color: #008080; font-weight: bold\">2.61518</span> <span style=\"color: #0000ff; text-decoration-color: #0000ff\">tps</span>=<span style=\"color: #008080; text-decoration-color: #008080; font-weight: bold\">21423.5</span> <span style=\"color: #0000ff; text-decoration-color: #0000ff\">tps_per_gpu</span>=<span style=\"color: #008080; text-decoration-color: #008080; font-weight: bold\">21423.5</span> <span style=\"color: #0000ff; text-decoration-color: #0000ff\">mfu</span>=<span style=\"color: #008080; text-decoration-color: #008080; font-weight: bold\">0.635577</span>\n",
              "</pre>\n"
            ]
          },
          "metadata": {}
        },
        {
          "output_type": "display_data",
          "data": {
            "text/plain": [
              "[\u001b[2m2025-07-23 \u001b[0m\u001b[2m17:11:43,651793\u001b[0m][\u001b[32mI\u001b[0m][\u001b[3;36mwordplay\u001b[0m/\u001b[34mtrainer\u001b[0m\u001b[94m:\u001b[0m\u001b[35m894\u001b[0m]\u001b[37m \u001b[0m\u001b[94mstep\u001b[0m=\u001b[1;36m250\u001b[0m \u001b[94mloss\u001b[0m=\u001b[1;36m2\u001b[0m\u001b[1;36m.48512\u001b[0m \u001b[94mdt\u001b[0m=\u001b[1;36m0\u001b[0m\u001b[1;36m.381244\u001b[0m \u001b[94mdtf\u001b[0m=\u001b[1;36m0\u001b[0m\u001b[1;36m.00790653\u001b[0m \u001b[94mdtb\u001b[0m=\u001b[1;36m0\u001b[0m\u001b[1;36m.00995927\u001b[0m \u001b[94msps\u001b[0m=\u001b[1;36m2\u001b[0m\u001b[1;36m.623\u001b[0m \u001b[94msps_per_gpu\u001b[0m=\u001b[1;36m2\u001b[0m\u001b[1;36m.623\u001b[0m \u001b[94mtps\u001b[0m=\u001b[1;36m21487\u001b[0m\u001b[1;36m.6\u001b[0m \u001b[94mtps_per_gpu\u001b[0m=\u001b[1;36m21487\u001b[0m\u001b[1;36m.6\u001b[0m \u001b[94mmfu\u001b[0m=\u001b[1;36m0\u001b[0m\u001b[1;36m.635512\u001b[0m\n"
            ],
            "text/html": [
              "<pre style=\"white-space:pre;overflow-x:auto;line-height:normal;font-family:Menlo,'DejaVu Sans Mono',consolas,'Courier New',monospace\">[<span style=\"color: #7f7f7f; text-decoration-color: #7f7f7f\">2025-07-23 17:11:43,651793</span>][<span style=\"color: #008000; text-decoration-color: #008000\">I</span>][<span style=\"color: #008080; text-decoration-color: #008080; font-style: italic\">wordplay</span>/<span style=\"color: #000080; text-decoration-color: #000080\">trainer</span><span style=\"color: #0000ff; text-decoration-color: #0000ff\">:</span><span style=\"color: #800080; text-decoration-color: #800080\">894</span>]<span style=\"color: #c0c0c0; text-decoration-color: #c0c0c0\"> </span><span style=\"color: #0000ff; text-decoration-color: #0000ff\">step</span>=<span style=\"color: #008080; text-decoration-color: #008080; font-weight: bold\">250</span> <span style=\"color: #0000ff; text-decoration-color: #0000ff\">loss</span>=<span style=\"color: #008080; text-decoration-color: #008080; font-weight: bold\">2.48512</span> <span style=\"color: #0000ff; text-decoration-color: #0000ff\">dt</span>=<span style=\"color: #008080; text-decoration-color: #008080; font-weight: bold\">0.381244</span> <span style=\"color: #0000ff; text-decoration-color: #0000ff\">dtf</span>=<span style=\"color: #008080; text-decoration-color: #008080; font-weight: bold\">0.00790653</span> <span style=\"color: #0000ff; text-decoration-color: #0000ff\">dtb</span>=<span style=\"color: #008080; text-decoration-color: #008080; font-weight: bold\">0.00995927</span> <span style=\"color: #0000ff; text-decoration-color: #0000ff\">sps</span>=<span style=\"color: #008080; text-decoration-color: #008080; font-weight: bold\">2.623</span> <span style=\"color: #0000ff; text-decoration-color: #0000ff\">sps_per_gpu</span>=<span style=\"color: #008080; text-decoration-color: #008080; font-weight: bold\">2.623</span> <span style=\"color: #0000ff; text-decoration-color: #0000ff\">tps</span>=<span style=\"color: #008080; text-decoration-color: #008080; font-weight: bold\">21487.6</span> <span style=\"color: #0000ff; text-decoration-color: #0000ff\">tps_per_gpu</span>=<span style=\"color: #008080; text-decoration-color: #008080; font-weight: bold\">21487.6</span> <span style=\"color: #0000ff; text-decoration-color: #0000ff\">mfu</span>=<span style=\"color: #008080; text-decoration-color: #008080; font-weight: bold\">0.635512</span>\n",
              "</pre>\n"
            ]
          },
          "metadata": {}
        },
        {
          "output_type": "display_data",
          "data": {
            "text/plain": [
              "[\u001b[2m2025-07-23 \u001b[0m\u001b[2m17:11:47,488905\u001b[0m][\u001b[32mI\u001b[0m][\u001b[3;36mwordplay\u001b[0m/\u001b[34mtrainer\u001b[0m\u001b[94m:\u001b[0m\u001b[35m894\u001b[0m]\u001b[37m \u001b[0m\u001b[94mstep\u001b[0m=\u001b[1;36m260\u001b[0m \u001b[94mloss\u001b[0m=\u001b[1;36m2\u001b[0m\u001b[1;36m.45921\u001b[0m \u001b[94mdt\u001b[0m=\u001b[1;36m0\u001b[0m\u001b[1;36m.375016\u001b[0m \u001b[94mdtf\u001b[0m=\u001b[1;36m0\u001b[0m\u001b[1;36m.0110469\u001b[0m \u001b[94mdtb\u001b[0m=\u001b[1;36m0\u001b[0m\u001b[1;36m.0137554\u001b[0m \u001b[94msps\u001b[0m=\u001b[1;36m2\u001b[0m\u001b[1;36m.66655\u001b[0m \u001b[94msps_per_gpu\u001b[0m=\u001b[1;36m2\u001b[0m\u001b[1;36m.66655\u001b[0m \u001b[94mtps\u001b[0m=\u001b[1;36m21844\u001b[0m\u001b[1;36m.4\u001b[0m \u001b[94mtps_per_gpu\u001b[0m=\u001b[1;36m21844\u001b[0m\u001b[1;36m.4\u001b[0m \u001b[94mmfu\u001b[0m=\u001b[1;36m0\u001b[0m\u001b[1;36m.636509\u001b[0m\n"
            ],
            "text/html": [
              "<pre style=\"white-space:pre;overflow-x:auto;line-height:normal;font-family:Menlo,'DejaVu Sans Mono',consolas,'Courier New',monospace\">[<span style=\"color: #7f7f7f; text-decoration-color: #7f7f7f\">2025-07-23 17:11:47,488905</span>][<span style=\"color: #008000; text-decoration-color: #008000\">I</span>][<span style=\"color: #008080; text-decoration-color: #008080; font-style: italic\">wordplay</span>/<span style=\"color: #000080; text-decoration-color: #000080\">trainer</span><span style=\"color: #0000ff; text-decoration-color: #0000ff\">:</span><span style=\"color: #800080; text-decoration-color: #800080\">894</span>]<span style=\"color: #c0c0c0; text-decoration-color: #c0c0c0\"> </span><span style=\"color: #0000ff; text-decoration-color: #0000ff\">step</span>=<span style=\"color: #008080; text-decoration-color: #008080; font-weight: bold\">260</span> <span style=\"color: #0000ff; text-decoration-color: #0000ff\">loss</span>=<span style=\"color: #008080; text-decoration-color: #008080; font-weight: bold\">2.45921</span> <span style=\"color: #0000ff; text-decoration-color: #0000ff\">dt</span>=<span style=\"color: #008080; text-decoration-color: #008080; font-weight: bold\">0.375016</span> <span style=\"color: #0000ff; text-decoration-color: #0000ff\">dtf</span>=<span style=\"color: #008080; text-decoration-color: #008080; font-weight: bold\">0.0110469</span> <span style=\"color: #0000ff; text-decoration-color: #0000ff\">dtb</span>=<span style=\"color: #008080; text-decoration-color: #008080; font-weight: bold\">0.0137554</span> <span style=\"color: #0000ff; text-decoration-color: #0000ff\">sps</span>=<span style=\"color: #008080; text-decoration-color: #008080; font-weight: bold\">2.66655</span> <span style=\"color: #0000ff; text-decoration-color: #0000ff\">sps_per_gpu</span>=<span style=\"color: #008080; text-decoration-color: #008080; font-weight: bold\">2.66655</span> <span style=\"color: #0000ff; text-decoration-color: #0000ff\">tps</span>=<span style=\"color: #008080; text-decoration-color: #008080; font-weight: bold\">21844.4</span> <span style=\"color: #0000ff; text-decoration-color: #0000ff\">tps_per_gpu</span>=<span style=\"color: #008080; text-decoration-color: #008080; font-weight: bold\">21844.4</span> <span style=\"color: #0000ff; text-decoration-color: #0000ff\">mfu</span>=<span style=\"color: #008080; text-decoration-color: #008080; font-weight: bold\">0.636509</span>\n",
              "</pre>\n"
            ]
          },
          "metadata": {}
        },
        {
          "output_type": "display_data",
          "data": {
            "text/plain": [
              "[\u001b[2m2025-07-23 \u001b[0m\u001b[2m17:11:51,323856\u001b[0m][\u001b[32mI\u001b[0m][\u001b[3;36mwordplay\u001b[0m/\u001b[34mtrainer\u001b[0m\u001b[94m:\u001b[0m\u001b[35m894\u001b[0m]\u001b[37m \u001b[0m\u001b[94mstep\u001b[0m=\u001b[1;36m270\u001b[0m \u001b[94mloss\u001b[0m=\u001b[1;36m2\u001b[0m\u001b[1;36m.46985\u001b[0m \u001b[94mdt\u001b[0m=\u001b[1;36m0\u001b[0m\u001b[1;36m.38433\u001b[0m \u001b[94mdtf\u001b[0m=\u001b[1;36m0\u001b[0m\u001b[1;36m.00785675\u001b[0m \u001b[94mdtb\u001b[0m=\u001b[1;36m0\u001b[0m\u001b[1;36m.0111291\u001b[0m \u001b[94msps\u001b[0m=\u001b[1;36m2\u001b[0m\u001b[1;36m.60193\u001b[0m \u001b[94msps_per_gpu\u001b[0m=\u001b[1;36m2\u001b[0m\u001b[1;36m.60193\u001b[0m \u001b[94mtps\u001b[0m=\u001b[1;36m21315\u001b[0m \u001b[94mtps_per_gpu\u001b[0m=\u001b[1;36m21315\u001b[0m \u001b[94mmfu\u001b[0m=\u001b[1;36m0\u001b[0m\u001b[1;36m.635841\u001b[0m\n"
            ],
            "text/html": [
              "<pre style=\"white-space:pre;overflow-x:auto;line-height:normal;font-family:Menlo,'DejaVu Sans Mono',consolas,'Courier New',monospace\">[<span style=\"color: #7f7f7f; text-decoration-color: #7f7f7f\">2025-07-23 17:11:51,323856</span>][<span style=\"color: #008000; text-decoration-color: #008000\">I</span>][<span style=\"color: #008080; text-decoration-color: #008080; font-style: italic\">wordplay</span>/<span style=\"color: #000080; text-decoration-color: #000080\">trainer</span><span style=\"color: #0000ff; text-decoration-color: #0000ff\">:</span><span style=\"color: #800080; text-decoration-color: #800080\">894</span>]<span style=\"color: #c0c0c0; text-decoration-color: #c0c0c0\"> </span><span style=\"color: #0000ff; text-decoration-color: #0000ff\">step</span>=<span style=\"color: #008080; text-decoration-color: #008080; font-weight: bold\">270</span> <span style=\"color: #0000ff; text-decoration-color: #0000ff\">loss</span>=<span style=\"color: #008080; text-decoration-color: #008080; font-weight: bold\">2.46985</span> <span style=\"color: #0000ff; text-decoration-color: #0000ff\">dt</span>=<span style=\"color: #008080; text-decoration-color: #008080; font-weight: bold\">0.38433</span> <span style=\"color: #0000ff; text-decoration-color: #0000ff\">dtf</span>=<span style=\"color: #008080; text-decoration-color: #008080; font-weight: bold\">0.00785675</span> <span style=\"color: #0000ff; text-decoration-color: #0000ff\">dtb</span>=<span style=\"color: #008080; text-decoration-color: #008080; font-weight: bold\">0.0111291</span> <span style=\"color: #0000ff; text-decoration-color: #0000ff\">sps</span>=<span style=\"color: #008080; text-decoration-color: #008080; font-weight: bold\">2.60193</span> <span style=\"color: #0000ff; text-decoration-color: #0000ff\">sps_per_gpu</span>=<span style=\"color: #008080; text-decoration-color: #008080; font-weight: bold\">2.60193</span> <span style=\"color: #0000ff; text-decoration-color: #0000ff\">tps</span>=<span style=\"color: #008080; text-decoration-color: #008080; font-weight: bold\">21315</span> <span style=\"color: #0000ff; text-decoration-color: #0000ff\">tps_per_gpu</span>=<span style=\"color: #008080; text-decoration-color: #008080; font-weight: bold\">21315</span> <span style=\"color: #0000ff; text-decoration-color: #0000ff\">mfu</span>=<span style=\"color: #008080; text-decoration-color: #008080; font-weight: bold\">0.635841</span>\n",
              "</pre>\n"
            ]
          },
          "metadata": {}
        },
        {
          "output_type": "display_data",
          "data": {
            "text/plain": [
              "[\u001b[2m2025-07-23 \u001b[0m\u001b[2m17:11:55,157805\u001b[0m][\u001b[32mI\u001b[0m][\u001b[3;36mwordplay\u001b[0m/\u001b[34mtrainer\u001b[0m\u001b[94m:\u001b[0m\u001b[35m894\u001b[0m]\u001b[37m \u001b[0m\u001b[94mstep\u001b[0m=\u001b[1;36m280\u001b[0m \u001b[94mloss\u001b[0m=\u001b[1;36m2\u001b[0m\u001b[1;36m.47304\u001b[0m \u001b[94mdt\u001b[0m=\u001b[1;36m0\u001b[0m\u001b[1;36m.38265\u001b[0m \u001b[94mdtf\u001b[0m=\u001b[1;36m0\u001b[0m\u001b[1;36m.00785524\u001b[0m \u001b[94mdtb\u001b[0m=\u001b[1;36m0\u001b[0m\u001b[1;36m.010542\u001b[0m \u001b[94msps\u001b[0m=\u001b[1;36m2\u001b[0m\u001b[1;36m.61336\u001b[0m \u001b[94msps_per_gpu\u001b[0m=\u001b[1;36m2\u001b[0m\u001b[1;36m.61336\u001b[0m \u001b[94mtps\u001b[0m=\u001b[1;36m21408\u001b[0m\u001b[1;36m.6\u001b[0m \u001b[94mtps_per_gpu\u001b[0m=\u001b[1;36m21408\u001b[0m\u001b[1;36m.6\u001b[0m \u001b[94mmfu\u001b[0m=\u001b[1;36m0\u001b[0m\u001b[1;36m.635517\u001b[0m\n"
            ],
            "text/html": [
              "<pre style=\"white-space:pre;overflow-x:auto;line-height:normal;font-family:Menlo,'DejaVu Sans Mono',consolas,'Courier New',monospace\">[<span style=\"color: #7f7f7f; text-decoration-color: #7f7f7f\">2025-07-23 17:11:55,157805</span>][<span style=\"color: #008000; text-decoration-color: #008000\">I</span>][<span style=\"color: #008080; text-decoration-color: #008080; font-style: italic\">wordplay</span>/<span style=\"color: #000080; text-decoration-color: #000080\">trainer</span><span style=\"color: #0000ff; text-decoration-color: #0000ff\">:</span><span style=\"color: #800080; text-decoration-color: #800080\">894</span>]<span style=\"color: #c0c0c0; text-decoration-color: #c0c0c0\"> </span><span style=\"color: #0000ff; text-decoration-color: #0000ff\">step</span>=<span style=\"color: #008080; text-decoration-color: #008080; font-weight: bold\">280</span> <span style=\"color: #0000ff; text-decoration-color: #0000ff\">loss</span>=<span style=\"color: #008080; text-decoration-color: #008080; font-weight: bold\">2.47304</span> <span style=\"color: #0000ff; text-decoration-color: #0000ff\">dt</span>=<span style=\"color: #008080; text-decoration-color: #008080; font-weight: bold\">0.38265</span> <span style=\"color: #0000ff; text-decoration-color: #0000ff\">dtf</span>=<span style=\"color: #008080; text-decoration-color: #008080; font-weight: bold\">0.00785524</span> <span style=\"color: #0000ff; text-decoration-color: #0000ff\">dtb</span>=<span style=\"color: #008080; text-decoration-color: #008080; font-weight: bold\">0.010542</span> <span style=\"color: #0000ff; text-decoration-color: #0000ff\">sps</span>=<span style=\"color: #008080; text-decoration-color: #008080; font-weight: bold\">2.61336</span> <span style=\"color: #0000ff; text-decoration-color: #0000ff\">sps_per_gpu</span>=<span style=\"color: #008080; text-decoration-color: #008080; font-weight: bold\">2.61336</span> <span style=\"color: #0000ff; text-decoration-color: #0000ff\">tps</span>=<span style=\"color: #008080; text-decoration-color: #008080; font-weight: bold\">21408.6</span> <span style=\"color: #0000ff; text-decoration-color: #0000ff\">tps_per_gpu</span>=<span style=\"color: #008080; text-decoration-color: #008080; font-weight: bold\">21408.6</span> <span style=\"color: #0000ff; text-decoration-color: #0000ff\">mfu</span>=<span style=\"color: #008080; text-decoration-color: #008080; font-weight: bold\">0.635517</span>\n",
              "</pre>\n"
            ]
          },
          "metadata": {}
        },
        {
          "output_type": "display_data",
          "data": {
            "text/plain": [
              "[\u001b[2m2025-07-23 \u001b[0m\u001b[2m17:11:58,985311\u001b[0m][\u001b[32mI\u001b[0m][\u001b[3;36mwordplay\u001b[0m/\u001b[34mtrainer\u001b[0m\u001b[94m:\u001b[0m\u001b[35m894\u001b[0m]\u001b[37m \u001b[0m\u001b[94mstep\u001b[0m=\u001b[1;36m290\u001b[0m \u001b[94mloss\u001b[0m=\u001b[1;36m2\u001b[0m\u001b[1;36m.4519\u001b[0m \u001b[94mdt\u001b[0m=\u001b[1;36m0\u001b[0m\u001b[1;36m.38073\u001b[0m \u001b[94mdtf\u001b[0m=\u001b[1;36m0\u001b[0m\u001b[1;36m.0100743\u001b[0m \u001b[94mdtb\u001b[0m=\u001b[1;36m0\u001b[0m\u001b[1;36m.0128665\u001b[0m \u001b[94msps\u001b[0m=\u001b[1;36m2\u001b[0m\u001b[1;36m.62653\u001b[0m \u001b[94msps_per_gpu\u001b[0m=\u001b[1;36m2\u001b[0m\u001b[1;36m.62653\u001b[0m \u001b[94mtps\u001b[0m=\u001b[1;36m21516\u001b[0m\u001b[1;36m.5\u001b[0m \u001b[94mtps_per_gpu\u001b[0m=\u001b[1;36m21516\u001b[0m\u001b[1;36m.5\u001b[0m \u001b[94mmfu\u001b[0m=\u001b[1;36m0\u001b[0m\u001b[1;36m.635544\u001b[0m\n"
            ],
            "text/html": [
              "<pre style=\"white-space:pre;overflow-x:auto;line-height:normal;font-family:Menlo,'DejaVu Sans Mono',consolas,'Courier New',monospace\">[<span style=\"color: #7f7f7f; text-decoration-color: #7f7f7f\">2025-07-23 17:11:58,985311</span>][<span style=\"color: #008000; text-decoration-color: #008000\">I</span>][<span style=\"color: #008080; text-decoration-color: #008080; font-style: italic\">wordplay</span>/<span style=\"color: #000080; text-decoration-color: #000080\">trainer</span><span style=\"color: #0000ff; text-decoration-color: #0000ff\">:</span><span style=\"color: #800080; text-decoration-color: #800080\">894</span>]<span style=\"color: #c0c0c0; text-decoration-color: #c0c0c0\"> </span><span style=\"color: #0000ff; text-decoration-color: #0000ff\">step</span>=<span style=\"color: #008080; text-decoration-color: #008080; font-weight: bold\">290</span> <span style=\"color: #0000ff; text-decoration-color: #0000ff\">loss</span>=<span style=\"color: #008080; text-decoration-color: #008080; font-weight: bold\">2.4519</span> <span style=\"color: #0000ff; text-decoration-color: #0000ff\">dt</span>=<span style=\"color: #008080; text-decoration-color: #008080; font-weight: bold\">0.38073</span> <span style=\"color: #0000ff; text-decoration-color: #0000ff\">dtf</span>=<span style=\"color: #008080; text-decoration-color: #008080; font-weight: bold\">0.0100743</span> <span style=\"color: #0000ff; text-decoration-color: #0000ff\">dtb</span>=<span style=\"color: #008080; text-decoration-color: #008080; font-weight: bold\">0.0128665</span> <span style=\"color: #0000ff; text-decoration-color: #0000ff\">sps</span>=<span style=\"color: #008080; text-decoration-color: #008080; font-weight: bold\">2.62653</span> <span style=\"color: #0000ff; text-decoration-color: #0000ff\">sps_per_gpu</span>=<span style=\"color: #008080; text-decoration-color: #008080; font-weight: bold\">2.62653</span> <span style=\"color: #0000ff; text-decoration-color: #0000ff\">tps</span>=<span style=\"color: #008080; text-decoration-color: #008080; font-weight: bold\">21516.5</span> <span style=\"color: #0000ff; text-decoration-color: #0000ff\">tps_per_gpu</span>=<span style=\"color: #008080; text-decoration-color: #008080; font-weight: bold\">21516.5</span> <span style=\"color: #0000ff; text-decoration-color: #0000ff\">mfu</span>=<span style=\"color: #008080; text-decoration-color: #008080; font-weight: bold\">0.635544</span>\n",
              "</pre>\n"
            ]
          },
          "metadata": {}
        },
        {
          "output_type": "display_data",
          "data": {
            "text/plain": [
              "[\u001b[2m2025-07-23 \u001b[0m\u001b[2m17:12:02,814627\u001b[0m][\u001b[32mI\u001b[0m][\u001b[3;36mwordplay\u001b[0m/\u001b[34mtrainer\u001b[0m\u001b[94m:\u001b[0m\u001b[35m894\u001b[0m]\u001b[37m \u001b[0m\u001b[94mstep\u001b[0m=\u001b[1;36m300\u001b[0m \u001b[94mloss\u001b[0m=\u001b[1;36m2\u001b[0m\u001b[1;36m.44979\u001b[0m \u001b[94mdt\u001b[0m=\u001b[1;36m0\u001b[0m\u001b[1;36m.383147\u001b[0m \u001b[94mdtf\u001b[0m=\u001b[1;36m0\u001b[0m\u001b[1;36m.00804455\u001b[0m \u001b[94mdtb\u001b[0m=\u001b[1;36m0\u001b[0m\u001b[1;36m.0103887\u001b[0m \u001b[94msps\u001b[0m=\u001b[1;36m2\u001b[0m\u001b[1;36m.60996\u001b[0m \u001b[94msps_per_gpu\u001b[0m=\u001b[1;36m2\u001b[0m\u001b[1;36m.60996\u001b[0m \u001b[94mtps\u001b[0m=\u001b[1;36m21380\u001b[0m\u001b[1;36m.8\u001b[0m \u001b[94mtps_per_gpu\u001b[0m=\u001b[1;36m21380\u001b[0m\u001b[1;36m.8\u001b[0m \u001b[94mmfu\u001b[0m=\u001b[1;36m0\u001b[0m\u001b[1;36m.635167\u001b[0m\n"
            ],
            "text/html": [
              "<pre style=\"white-space:pre;overflow-x:auto;line-height:normal;font-family:Menlo,'DejaVu Sans Mono',consolas,'Courier New',monospace\">[<span style=\"color: #7f7f7f; text-decoration-color: #7f7f7f\">2025-07-23 17:12:02,814627</span>][<span style=\"color: #008000; text-decoration-color: #008000\">I</span>][<span style=\"color: #008080; text-decoration-color: #008080; font-style: italic\">wordplay</span>/<span style=\"color: #000080; text-decoration-color: #000080\">trainer</span><span style=\"color: #0000ff; text-decoration-color: #0000ff\">:</span><span style=\"color: #800080; text-decoration-color: #800080\">894</span>]<span style=\"color: #c0c0c0; text-decoration-color: #c0c0c0\"> </span><span style=\"color: #0000ff; text-decoration-color: #0000ff\">step</span>=<span style=\"color: #008080; text-decoration-color: #008080; font-weight: bold\">300</span> <span style=\"color: #0000ff; text-decoration-color: #0000ff\">loss</span>=<span style=\"color: #008080; text-decoration-color: #008080; font-weight: bold\">2.44979</span> <span style=\"color: #0000ff; text-decoration-color: #0000ff\">dt</span>=<span style=\"color: #008080; text-decoration-color: #008080; font-weight: bold\">0.383147</span> <span style=\"color: #0000ff; text-decoration-color: #0000ff\">dtf</span>=<span style=\"color: #008080; text-decoration-color: #008080; font-weight: bold\">0.00804455</span> <span style=\"color: #0000ff; text-decoration-color: #0000ff\">dtb</span>=<span style=\"color: #008080; text-decoration-color: #008080; font-weight: bold\">0.0103887</span> <span style=\"color: #0000ff; text-decoration-color: #0000ff\">sps</span>=<span style=\"color: #008080; text-decoration-color: #008080; font-weight: bold\">2.60996</span> <span style=\"color: #0000ff; text-decoration-color: #0000ff\">sps_per_gpu</span>=<span style=\"color: #008080; text-decoration-color: #008080; font-weight: bold\">2.60996</span> <span style=\"color: #0000ff; text-decoration-color: #0000ff\">tps</span>=<span style=\"color: #008080; text-decoration-color: #008080; font-weight: bold\">21380.8</span> <span style=\"color: #0000ff; text-decoration-color: #0000ff\">tps_per_gpu</span>=<span style=\"color: #008080; text-decoration-color: #008080; font-weight: bold\">21380.8</span> <span style=\"color: #0000ff; text-decoration-color: #0000ff\">mfu</span>=<span style=\"color: #008080; text-decoration-color: #008080; font-weight: bold\">0.635167</span>\n",
              "</pre>\n"
            ]
          },
          "metadata": {}
        },
        {
          "output_type": "display_data",
          "data": {
            "text/plain": [
              "[\u001b[2m2025-07-23 \u001b[0m\u001b[2m17:12:03,628924\u001b[0m][\u001b[32mI\u001b[0m][\u001b[3;36mwordplay\u001b[0m/\u001b[34mtrainer\u001b[0m\u001b[94m:\u001b[0m\u001b[35m827\u001b[0m]\u001b[37m \u001b[0m\u001b[95m[\u001b[0m\u001b[32m'prompt'\u001b[0m\u001b[95m]\u001b[0m: \u001b[32m'What is an LLM?'\u001b[0m\n"
            ],
            "text/html": [
              "<pre style=\"white-space:pre;overflow-x:auto;line-height:normal;font-family:Menlo,'DejaVu Sans Mono',consolas,'Courier New',monospace\">[<span style=\"color: #7f7f7f; text-decoration-color: #7f7f7f\">2025-07-23 17:12:03,628924</span>][<span style=\"color: #008000; text-decoration-color: #008000\">I</span>][<span style=\"color: #008080; text-decoration-color: #008080; font-style: italic\">wordplay</span>/<span style=\"color: #000080; text-decoration-color: #000080\">trainer</span><span style=\"color: #0000ff; text-decoration-color: #0000ff\">:</span><span style=\"color: #800080; text-decoration-color: #800080\">827</span>]<span style=\"color: #c0c0c0; text-decoration-color: #c0c0c0\"> </span><span style=\"color: #ff00ff; text-decoration-color: #ff00ff\">[</span><span style=\"color: #008000; text-decoration-color: #008000\">'prompt'</span><span style=\"color: #ff00ff; text-decoration-color: #ff00ff\">]</span>: <span style=\"color: #008000; text-decoration-color: #008000\">'What is an LLM?'</span>\n",
              "</pre>\n"
            ]
          },
          "metadata": {}
        },
        {
          "output_type": "display_data",
          "data": {
            "text/plain": [
              "[\u001b[2m2025-07-23 \u001b[0m\u001b[2m17:12:03,630654\u001b[0m][\u001b[32mI\u001b[0m][\u001b[3;36mwordplay\u001b[0m/\u001b[34mtrainer\u001b[0m\u001b[94m:\u001b[0m\u001b[35m831\u001b[0m]\u001b[37m \u001b[0m\u001b[95m[\u001b[0m\u001b[32m'response'\u001b[0m\u001b[95m]\u001b[0m:\n",
              "\n",
              "What is an LLM? muroursee aril icalis\n",
              "\n",
              "We lal pl mal.\n",
              "CIO:\n",
              "\n",
              "LESTerthe coprideve, y wingrenget mir bue powin ithe an w\n",
              "AN:\n",
              "INI heshas be, intaly ws avevethay aiourofourthelin wous ans ay ber IUS:\n",
              "Wh f y have s n t.\n",
              "IOLONThaventer the t at tho, I win thounepancke and find \n"
            ],
            "text/html": [
              "<pre style=\"white-space:pre;overflow-x:auto;line-height:normal;font-family:Menlo,'DejaVu Sans Mono',consolas,'Courier New',monospace\">[<span style=\"color: #7f7f7f; text-decoration-color: #7f7f7f\">2025-07-23 17:12:03,630654</span>][<span style=\"color: #008000; text-decoration-color: #008000\">I</span>][<span style=\"color: #008080; text-decoration-color: #008080; font-style: italic\">wordplay</span>/<span style=\"color: #000080; text-decoration-color: #000080\">trainer</span><span style=\"color: #0000ff; text-decoration-color: #0000ff\">:</span><span style=\"color: #800080; text-decoration-color: #800080\">831</span>]<span style=\"color: #c0c0c0; text-decoration-color: #c0c0c0\"> </span><span style=\"color: #ff00ff; text-decoration-color: #ff00ff\">[</span><span style=\"color: #008000; text-decoration-color: #008000\">'response'</span><span style=\"color: #ff00ff; text-decoration-color: #ff00ff\">]</span>:\n",
              "\n",
              "What is an LLM? muroursee aril icalis\n",
              "\n",
              "We lal pl mal.\n",
              "CIO:\n",
              "\n",
              "LESTerthe coprideve, y wingrenget mir bue powin ithe an w\n",
              "AN:\n",
              "INI heshas be, intaly ws avevethay aiourofourthelin wous ans ay ber IUS:\n",
              "Wh f y have s n t.\n",
              "IOLONThaventer the t at tho, I win thounepancke and find \n",
              "</pre>\n"
            ]
          },
          "metadata": {}
        },
        {
          "output_type": "display_data",
          "data": {
            "text/plain": [
              "[\u001b[2m2025-07-23 \u001b[0m\u001b[2m17:13:01,480227\u001b[0m][\u001b[32mI\u001b[0m][\u001b[3;36mwordplay\u001b[0m/\u001b[34mtrainer\u001b[0m\u001b[94m:\u001b[0m\u001b[35m762\u001b[0m]\u001b[37m \u001b[0mSaving checkpoint to: \u001b[35m/\u001b[0m\u001b[95mcontent\u001b[0m\n"
            ],
            "text/html": [
              "<pre style=\"white-space:pre;overflow-x:auto;line-height:normal;font-family:Menlo,'DejaVu Sans Mono',consolas,'Courier New',monospace\">[<span style=\"color: #7f7f7f; text-decoration-color: #7f7f7f\">2025-07-23 17:13:01,480227</span>][<span style=\"color: #008000; text-decoration-color: #008000\">I</span>][<span style=\"color: #008080; text-decoration-color: #008080; font-style: italic\">wordplay</span>/<span style=\"color: #000080; text-decoration-color: #000080\">trainer</span><span style=\"color: #0000ff; text-decoration-color: #0000ff\">:</span><span style=\"color: #800080; text-decoration-color: #800080\">762</span>]<span style=\"color: #c0c0c0; text-decoration-color: #c0c0c0\"> </span>Saving checkpoint to: <span style=\"color: #800080; text-decoration-color: #800080\">/</span><span style=\"color: #ff00ff; text-decoration-color: #ff00ff\">content</span>\n",
              "</pre>\n"
            ]
          },
          "metadata": {}
        },
        {
          "output_type": "display_data",
          "data": {
            "text/plain": [
              "[\u001b[2m2025-07-23 \u001b[0m\u001b[2m17:13:01,482159\u001b[0m][\u001b[32mI\u001b[0m][\u001b[3;36mwordplay\u001b[0m/\u001b[34mtrainer\u001b[0m\u001b[94m:\u001b[0m\u001b[35m763\u001b[0m]\u001b[37m \u001b[0mSaving model to: \u001b[35m/content/\u001b[0m\u001b[95mmodel.pth\u001b[0m\n"
            ],
            "text/html": [
              "<pre style=\"white-space:pre;overflow-x:auto;line-height:normal;font-family:Menlo,'DejaVu Sans Mono',consolas,'Courier New',monospace\">[<span style=\"color: #7f7f7f; text-decoration-color: #7f7f7f\">2025-07-23 17:13:01,482159</span>][<span style=\"color: #008000; text-decoration-color: #008000\">I</span>][<span style=\"color: #008080; text-decoration-color: #008080; font-style: italic\">wordplay</span>/<span style=\"color: #000080; text-decoration-color: #000080\">trainer</span><span style=\"color: #0000ff; text-decoration-color: #0000ff\">:</span><span style=\"color: #800080; text-decoration-color: #800080\">763</span>]<span style=\"color: #c0c0c0; text-decoration-color: #c0c0c0\"> </span>Saving model to: <span style=\"color: #800080; text-decoration-color: #800080\">/content/</span><span style=\"color: #ff00ff; text-decoration-color: #ff00ff\">model.pth</span>\n",
              "</pre>\n"
            ]
          },
          "metadata": {}
        },
        {
          "output_type": "display_data",
          "data": {
            "text/plain": [
              "[\u001b[2m2025-07-23 \u001b[0m\u001b[2m17:13:01,816991\u001b[0m][\u001b[32mI\u001b[0m][\u001b[3;36mwordplay\u001b[0m/\u001b[34mconfigs\u001b[0m\u001b[94m:\u001b[0m\u001b[35m141\u001b[0m]\u001b[37m \u001b[0mAppending \u001b[35m/\u001b[0m\u001b[95mcontent\u001b[0m to \u001b[35m/content/wordplay/src/ckpts/\u001b[0m\u001b[95mcheckpoints.log\u001b[0m\n"
            ],
            "text/html": [
              "<pre style=\"white-space:pre;overflow-x:auto;line-height:normal;font-family:Menlo,'DejaVu Sans Mono',consolas,'Courier New',monospace\">[<span style=\"color: #7f7f7f; text-decoration-color: #7f7f7f\">2025-07-23 17:13:01,816991</span>][<span style=\"color: #008000; text-decoration-color: #008000\">I</span>][<span style=\"color: #008080; text-decoration-color: #008080; font-style: italic\">wordplay</span>/<span style=\"color: #000080; text-decoration-color: #000080\">configs</span><span style=\"color: #0000ff; text-decoration-color: #0000ff\">:</span><span style=\"color: #800080; text-decoration-color: #800080\">141</span>]<span style=\"color: #c0c0c0; text-decoration-color: #c0c0c0\"> </span>Appending <span style=\"color: #800080; text-decoration-color: #800080\">/</span><span style=\"color: #ff00ff; text-decoration-color: #ff00ff\">content</span> to <span style=\"color: #800080; text-decoration-color: #800080\">/content/wordplay/src/ckpts/</span><span style=\"color: #ff00ff; text-decoration-color: #ff00ff\">checkpoints.log</span>\n",
              "</pre>\n"
            ]
          },
          "metadata": {}
        },
        {
          "output_type": "display_data",
          "data": {
            "text/plain": [
              "[\u001b[2m2025-07-23 \u001b[0m\u001b[2m17:13:05,641415\u001b[0m][\u001b[32mI\u001b[0m][\u001b[3;36mwordplay\u001b[0m/\u001b[34mtrainer\u001b[0m\u001b[94m:\u001b[0m\u001b[35m894\u001b[0m]\u001b[37m \u001b[0m\u001b[94mstep\u001b[0m=\u001b[1;36m310\u001b[0m \u001b[94mloss\u001b[0m=\u001b[1;36m2\u001b[0m\u001b[1;36m.45647\u001b[0m \u001b[94mdt\u001b[0m=\u001b[1;36m0\u001b[0m\u001b[1;36m.383054\u001b[0m \u001b[94mdtf\u001b[0m=\u001b[1;36m0\u001b[0m\u001b[1;36m.00785093\u001b[0m \u001b[94mdtb\u001b[0m=\u001b[1;36m0\u001b[0m\u001b[1;36m.00992947\u001b[0m \u001b[94msps\u001b[0m=\u001b[1;36m2\u001b[0m\u001b[1;36m.6106\u001b[0m \u001b[94msps_per_gpu\u001b[0m=\u001b[1;36m2\u001b[0m\u001b[1;36m.6106\u001b[0m \u001b[94mtps\u001b[0m=\u001b[1;36m21386\u001b[0m \u001b[94mtps_per_gpu\u001b[0m=\u001b[1;36m21386\u001b[0m \u001b[94mmfu\u001b[0m=\u001b[1;36m0\u001b[0m\u001b[1;36m.634844\u001b[0m\n"
            ],
            "text/html": [
              "<pre style=\"white-space:pre;overflow-x:auto;line-height:normal;font-family:Menlo,'DejaVu Sans Mono',consolas,'Courier New',monospace\">[<span style=\"color: #7f7f7f; text-decoration-color: #7f7f7f\">2025-07-23 17:13:05,641415</span>][<span style=\"color: #008000; text-decoration-color: #008000\">I</span>][<span style=\"color: #008080; text-decoration-color: #008080; font-style: italic\">wordplay</span>/<span style=\"color: #000080; text-decoration-color: #000080\">trainer</span><span style=\"color: #0000ff; text-decoration-color: #0000ff\">:</span><span style=\"color: #800080; text-decoration-color: #800080\">894</span>]<span style=\"color: #c0c0c0; text-decoration-color: #c0c0c0\"> </span><span style=\"color: #0000ff; text-decoration-color: #0000ff\">step</span>=<span style=\"color: #008080; text-decoration-color: #008080; font-weight: bold\">310</span> <span style=\"color: #0000ff; text-decoration-color: #0000ff\">loss</span>=<span style=\"color: #008080; text-decoration-color: #008080; font-weight: bold\">2.45647</span> <span style=\"color: #0000ff; text-decoration-color: #0000ff\">dt</span>=<span style=\"color: #008080; text-decoration-color: #008080; font-weight: bold\">0.383054</span> <span style=\"color: #0000ff; text-decoration-color: #0000ff\">dtf</span>=<span style=\"color: #008080; text-decoration-color: #008080; font-weight: bold\">0.00785093</span> <span style=\"color: #0000ff; text-decoration-color: #0000ff\">dtb</span>=<span style=\"color: #008080; text-decoration-color: #008080; font-weight: bold\">0.00992947</span> <span style=\"color: #0000ff; text-decoration-color: #0000ff\">sps</span>=<span style=\"color: #008080; text-decoration-color: #008080; font-weight: bold\">2.6106</span> <span style=\"color: #0000ff; text-decoration-color: #0000ff\">sps_per_gpu</span>=<span style=\"color: #008080; text-decoration-color: #008080; font-weight: bold\">2.6106</span> <span style=\"color: #0000ff; text-decoration-color: #0000ff\">tps</span>=<span style=\"color: #008080; text-decoration-color: #008080; font-weight: bold\">21386</span> <span style=\"color: #0000ff; text-decoration-color: #0000ff\">tps_per_gpu</span>=<span style=\"color: #008080; text-decoration-color: #008080; font-weight: bold\">21386</span> <span style=\"color: #0000ff; text-decoration-color: #0000ff\">mfu</span>=<span style=\"color: #008080; text-decoration-color: #008080; font-weight: bold\">0.634844</span>\n",
              "</pre>\n"
            ]
          },
          "metadata": {}
        },
        {
          "output_type": "display_data",
          "data": {
            "text/plain": [
              "[\u001b[2m2025-07-23 \u001b[0m\u001b[2m17:13:09,467371\u001b[0m][\u001b[32mI\u001b[0m][\u001b[3;36mwordplay\u001b[0m/\u001b[34mtrainer\u001b[0m\u001b[94m:\u001b[0m\u001b[35m894\u001b[0m]\u001b[37m \u001b[0m\u001b[94mstep\u001b[0m=\u001b[1;36m320\u001b[0m \u001b[94mloss\u001b[0m=\u001b[1;36m2\u001b[0m\u001b[1;36m.45905\u001b[0m \u001b[94mdt\u001b[0m=\u001b[1;36m0\u001b[0m\u001b[1;36m.382875\u001b[0m \u001b[94mdtf\u001b[0m=\u001b[1;36m0\u001b[0m\u001b[1;36m.0081\u001b[0m \u001b[94mdtb\u001b[0m=\u001b[1;36m0\u001b[0m\u001b[1;36m.010746\u001b[0m \u001b[94msps\u001b[0m=\u001b[1;36m2\u001b[0m\u001b[1;36m.61182\u001b[0m \u001b[94msps_per_gpu\u001b[0m=\u001b[1;36m2\u001b[0m\u001b[1;36m.61182\u001b[0m \u001b[94mtps\u001b[0m=\u001b[1;36m21396\u001b[0m \u001b[94mtps_per_gpu\u001b[0m=\u001b[1;36m21396\u001b[0m \u001b[94mmfu\u001b[0m=\u001b[1;36m0\u001b[0m\u001b[1;36m.634582\u001b[0m\n"
            ],
            "text/html": [
              "<pre style=\"white-space:pre;overflow-x:auto;line-height:normal;font-family:Menlo,'DejaVu Sans Mono',consolas,'Courier New',monospace\">[<span style=\"color: #7f7f7f; text-decoration-color: #7f7f7f\">2025-07-23 17:13:09,467371</span>][<span style=\"color: #008000; text-decoration-color: #008000\">I</span>][<span style=\"color: #008080; text-decoration-color: #008080; font-style: italic\">wordplay</span>/<span style=\"color: #000080; text-decoration-color: #000080\">trainer</span><span style=\"color: #0000ff; text-decoration-color: #0000ff\">:</span><span style=\"color: #800080; text-decoration-color: #800080\">894</span>]<span style=\"color: #c0c0c0; text-decoration-color: #c0c0c0\"> </span><span style=\"color: #0000ff; text-decoration-color: #0000ff\">step</span>=<span style=\"color: #008080; text-decoration-color: #008080; font-weight: bold\">320</span> <span style=\"color: #0000ff; text-decoration-color: #0000ff\">loss</span>=<span style=\"color: #008080; text-decoration-color: #008080; font-weight: bold\">2.45905</span> <span style=\"color: #0000ff; text-decoration-color: #0000ff\">dt</span>=<span style=\"color: #008080; text-decoration-color: #008080; font-weight: bold\">0.382875</span> <span style=\"color: #0000ff; text-decoration-color: #0000ff\">dtf</span>=<span style=\"color: #008080; text-decoration-color: #008080; font-weight: bold\">0.0081</span> <span style=\"color: #0000ff; text-decoration-color: #0000ff\">dtb</span>=<span style=\"color: #008080; text-decoration-color: #008080; font-weight: bold\">0.010746</span> <span style=\"color: #0000ff; text-decoration-color: #0000ff\">sps</span>=<span style=\"color: #008080; text-decoration-color: #008080; font-weight: bold\">2.61182</span> <span style=\"color: #0000ff; text-decoration-color: #0000ff\">sps_per_gpu</span>=<span style=\"color: #008080; text-decoration-color: #008080; font-weight: bold\">2.61182</span> <span style=\"color: #0000ff; text-decoration-color: #0000ff\">tps</span>=<span style=\"color: #008080; text-decoration-color: #008080; font-weight: bold\">21396</span> <span style=\"color: #0000ff; text-decoration-color: #0000ff\">tps_per_gpu</span>=<span style=\"color: #008080; text-decoration-color: #008080; font-weight: bold\">21396</span> <span style=\"color: #0000ff; text-decoration-color: #0000ff\">mfu</span>=<span style=\"color: #008080; text-decoration-color: #008080; font-weight: bold\">0.634582</span>\n",
              "</pre>\n"
            ]
          },
          "metadata": {}
        },
        {
          "output_type": "display_data",
          "data": {
            "text/plain": [
              "[\u001b[2m2025-07-23 \u001b[0m\u001b[2m17:13:13,297667\u001b[0m][\u001b[32mI\u001b[0m][\u001b[3;36mwordplay\u001b[0m/\u001b[34mtrainer\u001b[0m\u001b[94m:\u001b[0m\u001b[35m894\u001b[0m]\u001b[37m \u001b[0m\u001b[94mstep\u001b[0m=\u001b[1;36m330\u001b[0m \u001b[94mloss\u001b[0m=\u001b[1;36m2\u001b[0m\u001b[1;36m.4555\u001b[0m \u001b[94mdt\u001b[0m=\u001b[1;36m0\u001b[0m\u001b[1;36m.38572\u001b[0m \u001b[94mdtf\u001b[0m=\u001b[1;36m0\u001b[0m\u001b[1;36m.0108775\u001b[0m \u001b[94mdtb\u001b[0m=\u001b[1;36m0\u001b[0m\u001b[1;36m.0128777\u001b[0m \u001b[94msps\u001b[0m=\u001b[1;36m2\u001b[0m\u001b[1;36m.59256\u001b[0m \u001b[94msps_per_gpu\u001b[0m=\u001b[1;36m2\u001b[0m\u001b[1;36m.59256\u001b[0m \u001b[94mtps\u001b[0m=\u001b[1;36m21238\u001b[0m\u001b[1;36m.2\u001b[0m \u001b[94mtps_per_gpu\u001b[0m=\u001b[1;36m21238\u001b[0m\u001b[1;36m.2\u001b[0m \u001b[94mmfu\u001b[0m=\u001b[1;36m0\u001b[0m\u001b[1;36m.63388\u001b[0m\n"
            ],
            "text/html": [
              "<pre style=\"white-space:pre;overflow-x:auto;line-height:normal;font-family:Menlo,'DejaVu Sans Mono',consolas,'Courier New',monospace\">[<span style=\"color: #7f7f7f; text-decoration-color: #7f7f7f\">2025-07-23 17:13:13,297667</span>][<span style=\"color: #008000; text-decoration-color: #008000\">I</span>][<span style=\"color: #008080; text-decoration-color: #008080; font-style: italic\">wordplay</span>/<span style=\"color: #000080; text-decoration-color: #000080\">trainer</span><span style=\"color: #0000ff; text-decoration-color: #0000ff\">:</span><span style=\"color: #800080; text-decoration-color: #800080\">894</span>]<span style=\"color: #c0c0c0; text-decoration-color: #c0c0c0\"> </span><span style=\"color: #0000ff; text-decoration-color: #0000ff\">step</span>=<span style=\"color: #008080; text-decoration-color: #008080; font-weight: bold\">330</span> <span style=\"color: #0000ff; text-decoration-color: #0000ff\">loss</span>=<span style=\"color: #008080; text-decoration-color: #008080; font-weight: bold\">2.4555</span> <span style=\"color: #0000ff; text-decoration-color: #0000ff\">dt</span>=<span style=\"color: #008080; text-decoration-color: #008080; font-weight: bold\">0.38572</span> <span style=\"color: #0000ff; text-decoration-color: #0000ff\">dtf</span>=<span style=\"color: #008080; text-decoration-color: #008080; font-weight: bold\">0.0108775</span> <span style=\"color: #0000ff; text-decoration-color: #0000ff\">dtb</span>=<span style=\"color: #008080; text-decoration-color: #008080; font-weight: bold\">0.0128777</span> <span style=\"color: #0000ff; text-decoration-color: #0000ff\">sps</span>=<span style=\"color: #008080; text-decoration-color: #008080; font-weight: bold\">2.59256</span> <span style=\"color: #0000ff; text-decoration-color: #0000ff\">sps_per_gpu</span>=<span style=\"color: #008080; text-decoration-color: #008080; font-weight: bold\">2.59256</span> <span style=\"color: #0000ff; text-decoration-color: #0000ff\">tps</span>=<span style=\"color: #008080; text-decoration-color: #008080; font-weight: bold\">21238.2</span> <span style=\"color: #0000ff; text-decoration-color: #0000ff\">tps_per_gpu</span>=<span style=\"color: #008080; text-decoration-color: #008080; font-weight: bold\">21238.2</span> <span style=\"color: #0000ff; text-decoration-color: #0000ff\">mfu</span>=<span style=\"color: #008080; text-decoration-color: #008080; font-weight: bold\">0.63388</span>\n",
              "</pre>\n"
            ]
          },
          "metadata": {}
        },
        {
          "output_type": "display_data",
          "data": {
            "text/plain": [
              "[\u001b[2m2025-07-23 \u001b[0m\u001b[2m17:13:17,131895\u001b[0m][\u001b[32mI\u001b[0m][\u001b[3;36mwordplay\u001b[0m/\u001b[34mtrainer\u001b[0m\u001b[94m:\u001b[0m\u001b[35m894\u001b[0m]\u001b[37m \u001b[0m\u001b[94mstep\u001b[0m=\u001b[1;36m340\u001b[0m \u001b[94mloss\u001b[0m=\u001b[1;36m2\u001b[0m\u001b[1;36m.4634\u001b[0m \u001b[94mdt\u001b[0m=\u001b[1;36m0\u001b[0m\u001b[1;36m.384959\u001b[0m \u001b[94mdtf\u001b[0m=\u001b[1;36m0\u001b[0m\u001b[1;36m.00957926\u001b[0m \u001b[94mdtb\u001b[0m=\u001b[1;36m0\u001b[0m\u001b[1;36m.010189\u001b[0m \u001b[94msps\u001b[0m=\u001b[1;36m2\u001b[0m\u001b[1;36m.59768\u001b[0m \u001b[94msps_per_gpu\u001b[0m=\u001b[1;36m2\u001b[0m\u001b[1;36m.59768\u001b[0m \u001b[94mtps\u001b[0m=\u001b[1;36m21280\u001b[0m\u001b[1;36m.2\u001b[0m \u001b[94mtps_per_gpu\u001b[0m=\u001b[1;36m21280\u001b[0m\u001b[1;36m.2\u001b[0m \u001b[94mmfu\u001b[0m=\u001b[1;36m0\u001b[0m\u001b[1;36m.633373\u001b[0m\n"
            ],
            "text/html": [
              "<pre style=\"white-space:pre;overflow-x:auto;line-height:normal;font-family:Menlo,'DejaVu Sans Mono',consolas,'Courier New',monospace\">[<span style=\"color: #7f7f7f; text-decoration-color: #7f7f7f\">2025-07-23 17:13:17,131895</span>][<span style=\"color: #008000; text-decoration-color: #008000\">I</span>][<span style=\"color: #008080; text-decoration-color: #008080; font-style: italic\">wordplay</span>/<span style=\"color: #000080; text-decoration-color: #000080\">trainer</span><span style=\"color: #0000ff; text-decoration-color: #0000ff\">:</span><span style=\"color: #800080; text-decoration-color: #800080\">894</span>]<span style=\"color: #c0c0c0; text-decoration-color: #c0c0c0\"> </span><span style=\"color: #0000ff; text-decoration-color: #0000ff\">step</span>=<span style=\"color: #008080; text-decoration-color: #008080; font-weight: bold\">340</span> <span style=\"color: #0000ff; text-decoration-color: #0000ff\">loss</span>=<span style=\"color: #008080; text-decoration-color: #008080; font-weight: bold\">2.4634</span> <span style=\"color: #0000ff; text-decoration-color: #0000ff\">dt</span>=<span style=\"color: #008080; text-decoration-color: #008080; font-weight: bold\">0.384959</span> <span style=\"color: #0000ff; text-decoration-color: #0000ff\">dtf</span>=<span style=\"color: #008080; text-decoration-color: #008080; font-weight: bold\">0.00957926</span> <span style=\"color: #0000ff; text-decoration-color: #0000ff\">dtb</span>=<span style=\"color: #008080; text-decoration-color: #008080; font-weight: bold\">0.010189</span> <span style=\"color: #0000ff; text-decoration-color: #0000ff\">sps</span>=<span style=\"color: #008080; text-decoration-color: #008080; font-weight: bold\">2.59768</span> <span style=\"color: #0000ff; text-decoration-color: #0000ff\">sps_per_gpu</span>=<span style=\"color: #008080; text-decoration-color: #008080; font-weight: bold\">2.59768</span> <span style=\"color: #0000ff; text-decoration-color: #0000ff\">tps</span>=<span style=\"color: #008080; text-decoration-color: #008080; font-weight: bold\">21280.2</span> <span style=\"color: #0000ff; text-decoration-color: #0000ff\">tps_per_gpu</span>=<span style=\"color: #008080; text-decoration-color: #008080; font-weight: bold\">21280.2</span> <span style=\"color: #0000ff; text-decoration-color: #0000ff\">mfu</span>=<span style=\"color: #008080; text-decoration-color: #008080; font-weight: bold\">0.633373</span>\n",
              "</pre>\n"
            ]
          },
          "metadata": {}
        },
        {
          "output_type": "display_data",
          "data": {
            "text/plain": [
              "[\u001b[2m2025-07-23 \u001b[0m\u001b[2m17:13:20,957109\u001b[0m][\u001b[32mI\u001b[0m][\u001b[3;36mwordplay\u001b[0m/\u001b[34mtrainer\u001b[0m\u001b[94m:\u001b[0m\u001b[35m894\u001b[0m]\u001b[37m \u001b[0m\u001b[94mstep\u001b[0m=\u001b[1;36m350\u001b[0m \u001b[94mloss\u001b[0m=\u001b[1;36m2\u001b[0m\u001b[1;36m.49212\u001b[0m \u001b[94mdt\u001b[0m=\u001b[1;36m0\u001b[0m\u001b[1;36m.38072\u001b[0m \u001b[94mdtf\u001b[0m=\u001b[1;36m0\u001b[0m\u001b[1;36m.00796532\u001b[0m \u001b[94mdtb\u001b[0m=\u001b[1;36m0\u001b[0m\u001b[1;36m.0103618\u001b[0m \u001b[94msps\u001b[0m=\u001b[1;36m2\u001b[0m\u001b[1;36m.6266\u001b[0m \u001b[94msps_per_gpu\u001b[0m=\u001b[1;36m2\u001b[0m\u001b[1;36m.6266\u001b[0m \u001b[94mtps\u001b[0m=\u001b[1;36m21517\u001b[0m\u001b[1;36m.1\u001b[0m \u001b[94mtps_per_gpu\u001b[0m=\u001b[1;36m21517\u001b[0m\u001b[1;36m.1\u001b[0m \u001b[94mmfu\u001b[0m=\u001b[1;36m0\u001b[0m\u001b[1;36m.633616\u001b[0m\n"
            ],
            "text/html": [
              "<pre style=\"white-space:pre;overflow-x:auto;line-height:normal;font-family:Menlo,'DejaVu Sans Mono',consolas,'Courier New',monospace\">[<span style=\"color: #7f7f7f; text-decoration-color: #7f7f7f\">2025-07-23 17:13:20,957109</span>][<span style=\"color: #008000; text-decoration-color: #008000\">I</span>][<span style=\"color: #008080; text-decoration-color: #008080; font-style: italic\">wordplay</span>/<span style=\"color: #000080; text-decoration-color: #000080\">trainer</span><span style=\"color: #0000ff; text-decoration-color: #0000ff\">:</span><span style=\"color: #800080; text-decoration-color: #800080\">894</span>]<span style=\"color: #c0c0c0; text-decoration-color: #c0c0c0\"> </span><span style=\"color: #0000ff; text-decoration-color: #0000ff\">step</span>=<span style=\"color: #008080; text-decoration-color: #008080; font-weight: bold\">350</span> <span style=\"color: #0000ff; text-decoration-color: #0000ff\">loss</span>=<span style=\"color: #008080; text-decoration-color: #008080; font-weight: bold\">2.49212</span> <span style=\"color: #0000ff; text-decoration-color: #0000ff\">dt</span>=<span style=\"color: #008080; text-decoration-color: #008080; font-weight: bold\">0.38072</span> <span style=\"color: #0000ff; text-decoration-color: #0000ff\">dtf</span>=<span style=\"color: #008080; text-decoration-color: #008080; font-weight: bold\">0.00796532</span> <span style=\"color: #0000ff; text-decoration-color: #0000ff\">dtb</span>=<span style=\"color: #008080; text-decoration-color: #008080; font-weight: bold\">0.0103618</span> <span style=\"color: #0000ff; text-decoration-color: #0000ff\">sps</span>=<span style=\"color: #008080; text-decoration-color: #008080; font-weight: bold\">2.6266</span> <span style=\"color: #0000ff; text-decoration-color: #0000ff\">sps_per_gpu</span>=<span style=\"color: #008080; text-decoration-color: #008080; font-weight: bold\">2.6266</span> <span style=\"color: #0000ff; text-decoration-color: #0000ff\">tps</span>=<span style=\"color: #008080; text-decoration-color: #008080; font-weight: bold\">21517.1</span> <span style=\"color: #0000ff; text-decoration-color: #0000ff\">tps_per_gpu</span>=<span style=\"color: #008080; text-decoration-color: #008080; font-weight: bold\">21517.1</span> <span style=\"color: #0000ff; text-decoration-color: #0000ff\">mfu</span>=<span style=\"color: #008080; text-decoration-color: #008080; font-weight: bold\">0.633616</span>\n",
              "</pre>\n"
            ]
          },
          "metadata": {}
        },
        {
          "output_type": "display_data",
          "data": {
            "text/plain": [
              "[\u001b[2m2025-07-23 \u001b[0m\u001b[2m17:13:24,791303\u001b[0m][\u001b[32mI\u001b[0m][\u001b[3;36mwordplay\u001b[0m/\u001b[34mtrainer\u001b[0m\u001b[94m:\u001b[0m\u001b[35m894\u001b[0m]\u001b[37m \u001b[0m\u001b[94mstep\u001b[0m=\u001b[1;36m360\u001b[0m \u001b[94mloss\u001b[0m=\u001b[1;36m2\u001b[0m\u001b[1;36m.42521\u001b[0m \u001b[94mdt\u001b[0m=\u001b[1;36m0\u001b[0m\u001b[1;36m.380351\u001b[0m \u001b[94mdtf\u001b[0m=\u001b[1;36m0\u001b[0m\u001b[1;36m.00941999\u001b[0m \u001b[94mdtb\u001b[0m=\u001b[1;36m0\u001b[0m\u001b[1;36m.0131558\u001b[0m \u001b[94msps\u001b[0m=\u001b[1;36m2\u001b[0m\u001b[1;36m.62915\u001b[0m \u001b[94msps_per_gpu\u001b[0m=\u001b[1;36m2\u001b[0m\u001b[1;36m.62915\u001b[0m \u001b[94mtps\u001b[0m=\u001b[1;36m21538\u001b[0m \u001b[94mtps_per_gpu\u001b[0m=\u001b[1;36m21538\u001b[0m \u001b[94mmfu\u001b[0m=\u001b[1;36m0\u001b[0m\u001b[1;36m.633897\u001b[0m\n"
            ],
            "text/html": [
              "<pre style=\"white-space:pre;overflow-x:auto;line-height:normal;font-family:Menlo,'DejaVu Sans Mono',consolas,'Courier New',monospace\">[<span style=\"color: #7f7f7f; text-decoration-color: #7f7f7f\">2025-07-23 17:13:24,791303</span>][<span style=\"color: #008000; text-decoration-color: #008000\">I</span>][<span style=\"color: #008080; text-decoration-color: #008080; font-style: italic\">wordplay</span>/<span style=\"color: #000080; text-decoration-color: #000080\">trainer</span><span style=\"color: #0000ff; text-decoration-color: #0000ff\">:</span><span style=\"color: #800080; text-decoration-color: #800080\">894</span>]<span style=\"color: #c0c0c0; text-decoration-color: #c0c0c0\"> </span><span style=\"color: #0000ff; text-decoration-color: #0000ff\">step</span>=<span style=\"color: #008080; text-decoration-color: #008080; font-weight: bold\">360</span> <span style=\"color: #0000ff; text-decoration-color: #0000ff\">loss</span>=<span style=\"color: #008080; text-decoration-color: #008080; font-weight: bold\">2.42521</span> <span style=\"color: #0000ff; text-decoration-color: #0000ff\">dt</span>=<span style=\"color: #008080; text-decoration-color: #008080; font-weight: bold\">0.380351</span> <span style=\"color: #0000ff; text-decoration-color: #0000ff\">dtf</span>=<span style=\"color: #008080; text-decoration-color: #008080; font-weight: bold\">0.00941999</span> <span style=\"color: #0000ff; text-decoration-color: #0000ff\">dtb</span>=<span style=\"color: #008080; text-decoration-color: #008080; font-weight: bold\">0.0131558</span> <span style=\"color: #0000ff; text-decoration-color: #0000ff\">sps</span>=<span style=\"color: #008080; text-decoration-color: #008080; font-weight: bold\">2.62915</span> <span style=\"color: #0000ff; text-decoration-color: #0000ff\">sps_per_gpu</span>=<span style=\"color: #008080; text-decoration-color: #008080; font-weight: bold\">2.62915</span> <span style=\"color: #0000ff; text-decoration-color: #0000ff\">tps</span>=<span style=\"color: #008080; text-decoration-color: #008080; font-weight: bold\">21538</span> <span style=\"color: #0000ff; text-decoration-color: #0000ff\">tps_per_gpu</span>=<span style=\"color: #008080; text-decoration-color: #008080; font-weight: bold\">21538</span> <span style=\"color: #0000ff; text-decoration-color: #0000ff\">mfu</span>=<span style=\"color: #008080; text-decoration-color: #008080; font-weight: bold\">0.633897</span>\n",
              "</pre>\n"
            ]
          },
          "metadata": {}
        },
        {
          "output_type": "display_data",
          "data": {
            "text/plain": [
              "[\u001b[2m2025-07-23 \u001b[0m\u001b[2m17:13:28,625122\u001b[0m][\u001b[32mI\u001b[0m][\u001b[3;36mwordplay\u001b[0m/\u001b[34mtrainer\u001b[0m\u001b[94m:\u001b[0m\u001b[35m894\u001b[0m]\u001b[37m \u001b[0m\u001b[94mstep\u001b[0m=\u001b[1;36m370\u001b[0m \u001b[94mloss\u001b[0m=\u001b[1;36m2\u001b[0m\u001b[1;36m.46779\u001b[0m \u001b[94mdt\u001b[0m=\u001b[1;36m0\u001b[0m\u001b[1;36m.383116\u001b[0m \u001b[94mdtf\u001b[0m=\u001b[1;36m0\u001b[0m\u001b[1;36m.00759078\u001b[0m \u001b[94mdtb\u001b[0m=\u001b[1;36m0\u001b[0m\u001b[1;36m.0105659\u001b[0m \u001b[94msps\u001b[0m=\u001b[1;36m2\u001b[0m\u001b[1;36m.61017\u001b[0m \u001b[94msps_per_gpu\u001b[0m=\u001b[1;36m2\u001b[0m\u001b[1;36m.61017\u001b[0m \u001b[94mtps\u001b[0m=\u001b[1;36m21382\u001b[0m\u001b[1;36m.5\u001b[0m \u001b[94mtps_per_gpu\u001b[0m=\u001b[1;36m21382\u001b[0m\u001b[1;36m.5\u001b[0m \u001b[94mmfu\u001b[0m=\u001b[1;36m0\u001b[0m\u001b[1;36m.63369\u001b[0m\n"
            ],
            "text/html": [
              "<pre style=\"white-space:pre;overflow-x:auto;line-height:normal;font-family:Menlo,'DejaVu Sans Mono',consolas,'Courier New',monospace\">[<span style=\"color: #7f7f7f; text-decoration-color: #7f7f7f\">2025-07-23 17:13:28,625122</span>][<span style=\"color: #008000; text-decoration-color: #008000\">I</span>][<span style=\"color: #008080; text-decoration-color: #008080; font-style: italic\">wordplay</span>/<span style=\"color: #000080; text-decoration-color: #000080\">trainer</span><span style=\"color: #0000ff; text-decoration-color: #0000ff\">:</span><span style=\"color: #800080; text-decoration-color: #800080\">894</span>]<span style=\"color: #c0c0c0; text-decoration-color: #c0c0c0\"> </span><span style=\"color: #0000ff; text-decoration-color: #0000ff\">step</span>=<span style=\"color: #008080; text-decoration-color: #008080; font-weight: bold\">370</span> <span style=\"color: #0000ff; text-decoration-color: #0000ff\">loss</span>=<span style=\"color: #008080; text-decoration-color: #008080; font-weight: bold\">2.46779</span> <span style=\"color: #0000ff; text-decoration-color: #0000ff\">dt</span>=<span style=\"color: #008080; text-decoration-color: #008080; font-weight: bold\">0.383116</span> <span style=\"color: #0000ff; text-decoration-color: #0000ff\">dtf</span>=<span style=\"color: #008080; text-decoration-color: #008080; font-weight: bold\">0.00759078</span> <span style=\"color: #0000ff; text-decoration-color: #0000ff\">dtb</span>=<span style=\"color: #008080; text-decoration-color: #008080; font-weight: bold\">0.0105659</span> <span style=\"color: #0000ff; text-decoration-color: #0000ff\">sps</span>=<span style=\"color: #008080; text-decoration-color: #008080; font-weight: bold\">2.61017</span> <span style=\"color: #0000ff; text-decoration-color: #0000ff\">sps_per_gpu</span>=<span style=\"color: #008080; text-decoration-color: #008080; font-weight: bold\">2.61017</span> <span style=\"color: #0000ff; text-decoration-color: #0000ff\">tps</span>=<span style=\"color: #008080; text-decoration-color: #008080; font-weight: bold\">21382.5</span> <span style=\"color: #0000ff; text-decoration-color: #0000ff\">tps_per_gpu</span>=<span style=\"color: #008080; text-decoration-color: #008080; font-weight: bold\">21382.5</span> <span style=\"color: #0000ff; text-decoration-color: #0000ff\">mfu</span>=<span style=\"color: #008080; text-decoration-color: #008080; font-weight: bold\">0.63369</span>\n",
              "</pre>\n"
            ]
          },
          "metadata": {}
        },
        {
          "output_type": "display_data",
          "data": {
            "text/plain": [
              "[\u001b[2m2025-07-23 \u001b[0m\u001b[2m17:13:32,456066\u001b[0m][\u001b[32mI\u001b[0m][\u001b[3;36mwordplay\u001b[0m/\u001b[34mtrainer\u001b[0m\u001b[94m:\u001b[0m\u001b[35m894\u001b[0m]\u001b[37m \u001b[0m\u001b[94mstep\u001b[0m=\u001b[1;36m380\u001b[0m \u001b[94mloss\u001b[0m=\u001b[1;36m2\u001b[0m\u001b[1;36m.46751\u001b[0m \u001b[94mdt\u001b[0m=\u001b[1;36m0\u001b[0m\u001b[1;36m.384732\u001b[0m \u001b[94mdtf\u001b[0m=\u001b[1;36m0\u001b[0m\u001b[1;36m.00849637\u001b[0m \u001b[94mdtb\u001b[0m=\u001b[1;36m0\u001b[0m\u001b[1;36m.0100098\u001b[0m \u001b[94msps\u001b[0m=\u001b[1;36m2\u001b[0m\u001b[1;36m.59921\u001b[0m \u001b[94msps_per_gpu\u001b[0m=\u001b[1;36m2\u001b[0m\u001b[1;36m.59921\u001b[0m \u001b[94mtps\u001b[0m=\u001b[1;36m21292\u001b[0m\u001b[1;36m.8\u001b[0m \u001b[94mtps_per_gpu\u001b[0m=\u001b[1;36m21292\u001b[0m\u001b[1;36m.8\u001b[0m \u001b[94mmfu\u001b[0m=\u001b[1;36m0\u001b[0m\u001b[1;36m.633238\u001b[0m\n"
            ],
            "text/html": [
              "<pre style=\"white-space:pre;overflow-x:auto;line-height:normal;font-family:Menlo,'DejaVu Sans Mono',consolas,'Courier New',monospace\">[<span style=\"color: #7f7f7f; text-decoration-color: #7f7f7f\">2025-07-23 17:13:32,456066</span>][<span style=\"color: #008000; text-decoration-color: #008000\">I</span>][<span style=\"color: #008080; text-decoration-color: #008080; font-style: italic\">wordplay</span>/<span style=\"color: #000080; text-decoration-color: #000080\">trainer</span><span style=\"color: #0000ff; text-decoration-color: #0000ff\">:</span><span style=\"color: #800080; text-decoration-color: #800080\">894</span>]<span style=\"color: #c0c0c0; text-decoration-color: #c0c0c0\"> </span><span style=\"color: #0000ff; text-decoration-color: #0000ff\">step</span>=<span style=\"color: #008080; text-decoration-color: #008080; font-weight: bold\">380</span> <span style=\"color: #0000ff; text-decoration-color: #0000ff\">loss</span>=<span style=\"color: #008080; text-decoration-color: #008080; font-weight: bold\">2.46751</span> <span style=\"color: #0000ff; text-decoration-color: #0000ff\">dt</span>=<span style=\"color: #008080; text-decoration-color: #008080; font-weight: bold\">0.384732</span> <span style=\"color: #0000ff; text-decoration-color: #0000ff\">dtf</span>=<span style=\"color: #008080; text-decoration-color: #008080; font-weight: bold\">0.00849637</span> <span style=\"color: #0000ff; text-decoration-color: #0000ff\">dtb</span>=<span style=\"color: #008080; text-decoration-color: #008080; font-weight: bold\">0.0100098</span> <span style=\"color: #0000ff; text-decoration-color: #0000ff\">sps</span>=<span style=\"color: #008080; text-decoration-color: #008080; font-weight: bold\">2.59921</span> <span style=\"color: #0000ff; text-decoration-color: #0000ff\">sps_per_gpu</span>=<span style=\"color: #008080; text-decoration-color: #008080; font-weight: bold\">2.59921</span> <span style=\"color: #0000ff; text-decoration-color: #0000ff\">tps</span>=<span style=\"color: #008080; text-decoration-color: #008080; font-weight: bold\">21292.8</span> <span style=\"color: #0000ff; text-decoration-color: #0000ff\">tps_per_gpu</span>=<span style=\"color: #008080; text-decoration-color: #008080; font-weight: bold\">21292.8</span> <span style=\"color: #0000ff; text-decoration-color: #0000ff\">mfu</span>=<span style=\"color: #008080; text-decoration-color: #008080; font-weight: bold\">0.633238</span>\n",
              "</pre>\n"
            ]
          },
          "metadata": {}
        },
        {
          "output_type": "display_data",
          "data": {
            "text/plain": [
              "[\u001b[2m2025-07-23 \u001b[0m\u001b[2m17:13:36,284446\u001b[0m][\u001b[32mI\u001b[0m][\u001b[3;36mwordplay\u001b[0m/\u001b[34mtrainer\u001b[0m\u001b[94m:\u001b[0m\u001b[35m894\u001b[0m]\u001b[37m \u001b[0m\u001b[94mstep\u001b[0m=\u001b[1;36m390\u001b[0m \u001b[94mloss\u001b[0m=\u001b[1;36m2\u001b[0m\u001b[1;36m.47132\u001b[0m \u001b[94mdt\u001b[0m=\u001b[1;36m0\u001b[0m\u001b[1;36m.390981\u001b[0m \u001b[94mdtf\u001b[0m=\u001b[1;36m0\u001b[0m\u001b[1;36m.0104592\u001b[0m \u001b[94mdtb\u001b[0m=\u001b[1;36m0\u001b[0m\u001b[1;36m.0141359\u001b[0m \u001b[94msps\u001b[0m=\u001b[1;36m2\u001b[0m\u001b[1;36m.55767\u001b[0m \u001b[94msps_per_gpu\u001b[0m=\u001b[1;36m2\u001b[0m\u001b[1;36m.55767\u001b[0m \u001b[94mtps\u001b[0m=\u001b[1;36m20952\u001b[0m\u001b[1;36m.4\u001b[0m \u001b[94mtps_per_gpu\u001b[0m=\u001b[1;36m20952\u001b[0m\u001b[1;36m.4\u001b[0m \u001b[94mmfu\u001b[0m=\u001b[1;36m0\u001b[0m\u001b[1;36m.631826\u001b[0m\n"
            ],
            "text/html": [
              "<pre style=\"white-space:pre;overflow-x:auto;line-height:normal;font-family:Menlo,'DejaVu Sans Mono',consolas,'Courier New',monospace\">[<span style=\"color: #7f7f7f; text-decoration-color: #7f7f7f\">2025-07-23 17:13:36,284446</span>][<span style=\"color: #008000; text-decoration-color: #008000\">I</span>][<span style=\"color: #008080; text-decoration-color: #008080; font-style: italic\">wordplay</span>/<span style=\"color: #000080; text-decoration-color: #000080\">trainer</span><span style=\"color: #0000ff; text-decoration-color: #0000ff\">:</span><span style=\"color: #800080; text-decoration-color: #800080\">894</span>]<span style=\"color: #c0c0c0; text-decoration-color: #c0c0c0\"> </span><span style=\"color: #0000ff; text-decoration-color: #0000ff\">step</span>=<span style=\"color: #008080; text-decoration-color: #008080; font-weight: bold\">390</span> <span style=\"color: #0000ff; text-decoration-color: #0000ff\">loss</span>=<span style=\"color: #008080; text-decoration-color: #008080; font-weight: bold\">2.47132</span> <span style=\"color: #0000ff; text-decoration-color: #0000ff\">dt</span>=<span style=\"color: #008080; text-decoration-color: #008080; font-weight: bold\">0.390981</span> <span style=\"color: #0000ff; text-decoration-color: #0000ff\">dtf</span>=<span style=\"color: #008080; text-decoration-color: #008080; font-weight: bold\">0.0104592</span> <span style=\"color: #0000ff; text-decoration-color: #0000ff\">dtb</span>=<span style=\"color: #008080; text-decoration-color: #008080; font-weight: bold\">0.0141359</span> <span style=\"color: #0000ff; text-decoration-color: #0000ff\">sps</span>=<span style=\"color: #008080; text-decoration-color: #008080; font-weight: bold\">2.55767</span> <span style=\"color: #0000ff; text-decoration-color: #0000ff\">sps_per_gpu</span>=<span style=\"color: #008080; text-decoration-color: #008080; font-weight: bold\">2.55767</span> <span style=\"color: #0000ff; text-decoration-color: #0000ff\">tps</span>=<span style=\"color: #008080; text-decoration-color: #008080; font-weight: bold\">20952.4</span> <span style=\"color: #0000ff; text-decoration-color: #0000ff\">tps_per_gpu</span>=<span style=\"color: #008080; text-decoration-color: #008080; font-weight: bold\">20952.4</span> <span style=\"color: #0000ff; text-decoration-color: #0000ff\">mfu</span>=<span style=\"color: #008080; text-decoration-color: #008080; font-weight: bold\">0.631826</span>\n",
              "</pre>\n"
            ]
          },
          "metadata": {}
        },
        {
          "output_type": "display_data",
          "data": {
            "text/plain": [
              "[\u001b[2m2025-07-23 \u001b[0m\u001b[2m17:13:40,120231\u001b[0m][\u001b[32mI\u001b[0m][\u001b[3;36mwordplay\u001b[0m/\u001b[34mtrainer\u001b[0m\u001b[94m:\u001b[0m\u001b[35m894\u001b[0m]\u001b[37m \u001b[0m\u001b[94mstep\u001b[0m=\u001b[1;36m400\u001b[0m \u001b[94mloss\u001b[0m=\u001b[1;36m2\u001b[0m\u001b[1;36m.50043\u001b[0m \u001b[94mdt\u001b[0m=\u001b[1;36m0\u001b[0m\u001b[1;36m.382461\u001b[0m \u001b[94mdtf\u001b[0m=\u001b[1;36m0\u001b[0m\u001b[1;36m.00788739\u001b[0m \u001b[94mdtb\u001b[0m=\u001b[1;36m0\u001b[0m\u001b[1;36m.011582\u001b[0m \u001b[94msps\u001b[0m=\u001b[1;36m2\u001b[0m\u001b[1;36m.61465\u001b[0m \u001b[94msps_per_gpu\u001b[0m=\u001b[1;36m2\u001b[0m\u001b[1;36m.61465\u001b[0m \u001b[94mtps\u001b[0m=\u001b[1;36m21419\u001b[0m\u001b[1;36m.2\u001b[0m \u001b[94mtps_per_gpu\u001b[0m=\u001b[1;36m21419\u001b[0m\u001b[1;36m.2\u001b[0m \u001b[94mmfu\u001b[0m=\u001b[1;36m0\u001b[0m\u001b[1;36m.631935\u001b[0m\n"
            ],
            "text/html": [
              "<pre style=\"white-space:pre;overflow-x:auto;line-height:normal;font-family:Menlo,'DejaVu Sans Mono',consolas,'Courier New',monospace\">[<span style=\"color: #7f7f7f; text-decoration-color: #7f7f7f\">2025-07-23 17:13:40,120231</span>][<span style=\"color: #008000; text-decoration-color: #008000\">I</span>][<span style=\"color: #008080; text-decoration-color: #008080; font-style: italic\">wordplay</span>/<span style=\"color: #000080; text-decoration-color: #000080\">trainer</span><span style=\"color: #0000ff; text-decoration-color: #0000ff\">:</span><span style=\"color: #800080; text-decoration-color: #800080\">894</span>]<span style=\"color: #c0c0c0; text-decoration-color: #c0c0c0\"> </span><span style=\"color: #0000ff; text-decoration-color: #0000ff\">step</span>=<span style=\"color: #008080; text-decoration-color: #008080; font-weight: bold\">400</span> <span style=\"color: #0000ff; text-decoration-color: #0000ff\">loss</span>=<span style=\"color: #008080; text-decoration-color: #008080; font-weight: bold\">2.50043</span> <span style=\"color: #0000ff; text-decoration-color: #0000ff\">dt</span>=<span style=\"color: #008080; text-decoration-color: #008080; font-weight: bold\">0.382461</span> <span style=\"color: #0000ff; text-decoration-color: #0000ff\">dtf</span>=<span style=\"color: #008080; text-decoration-color: #008080; font-weight: bold\">0.00788739</span> <span style=\"color: #0000ff; text-decoration-color: #0000ff\">dtb</span>=<span style=\"color: #008080; text-decoration-color: #008080; font-weight: bold\">0.011582</span> <span style=\"color: #0000ff; text-decoration-color: #0000ff\">sps</span>=<span style=\"color: #008080; text-decoration-color: #008080; font-weight: bold\">2.61465</span> <span style=\"color: #0000ff; text-decoration-color: #0000ff\">sps_per_gpu</span>=<span style=\"color: #008080; text-decoration-color: #008080; font-weight: bold\">2.61465</span> <span style=\"color: #0000ff; text-decoration-color: #0000ff\">tps</span>=<span style=\"color: #008080; text-decoration-color: #008080; font-weight: bold\">21419.2</span> <span style=\"color: #0000ff; text-decoration-color: #0000ff\">tps_per_gpu</span>=<span style=\"color: #008080; text-decoration-color: #008080; font-weight: bold\">21419.2</span> <span style=\"color: #0000ff; text-decoration-color: #0000ff\">mfu</span>=<span style=\"color: #008080; text-decoration-color: #008080; font-weight: bold\">0.631935</span>\n",
              "</pre>\n"
            ]
          },
          "metadata": {}
        },
        {
          "output_type": "display_data",
          "data": {
            "text/plain": [
              "[\u001b[2m2025-07-23 \u001b[0m\u001b[2m17:13:40,955053\u001b[0m][\u001b[32mI\u001b[0m][\u001b[3;36mwordplay\u001b[0m/\u001b[34mtrainer\u001b[0m\u001b[94m:\u001b[0m\u001b[35m827\u001b[0m]\u001b[37m \u001b[0m\u001b[95m[\u001b[0m\u001b[32m'prompt'\u001b[0m\u001b[95m]\u001b[0m: \u001b[32m'What is an LLM?'\u001b[0m\n"
            ],
            "text/html": [
              "<pre style=\"white-space:pre;overflow-x:auto;line-height:normal;font-family:Menlo,'DejaVu Sans Mono',consolas,'Courier New',monospace\">[<span style=\"color: #7f7f7f; text-decoration-color: #7f7f7f\">2025-07-23 17:13:40,955053</span>][<span style=\"color: #008000; text-decoration-color: #008000\">I</span>][<span style=\"color: #008080; text-decoration-color: #008080; font-style: italic\">wordplay</span>/<span style=\"color: #000080; text-decoration-color: #000080\">trainer</span><span style=\"color: #0000ff; text-decoration-color: #0000ff\">:</span><span style=\"color: #800080; text-decoration-color: #800080\">827</span>]<span style=\"color: #c0c0c0; text-decoration-color: #c0c0c0\"> </span><span style=\"color: #ff00ff; text-decoration-color: #ff00ff\">[</span><span style=\"color: #008000; text-decoration-color: #008000\">'prompt'</span><span style=\"color: #ff00ff; text-decoration-color: #ff00ff\">]</span>: <span style=\"color: #008000; text-decoration-color: #008000\">'What is an LLM?'</span>\n",
              "</pre>\n"
            ]
          },
          "metadata": {}
        },
        {
          "output_type": "display_data",
          "data": {
            "text/plain": [
              "[\u001b[2m2025-07-23 \u001b[0m\u001b[2m17:13:40,956742\u001b[0m][\u001b[32mI\u001b[0m][\u001b[3;36mwordplay\u001b[0m/\u001b[34mtrainer\u001b[0m\u001b[94m:\u001b[0m\u001b[35m831\u001b[0m]\u001b[37m \u001b[0m\u001b[95m[\u001b[0m\u001b[32m'response'\u001b[0m\u001b[95m]\u001b[0m:\n",
              "\n",
              "What is an LLM?\n",
              "HUSUS:\n",
              "Wingens thent ndd the se thof heare oupeed s te ase harot anes hant wisthe het clor m at t somy th br his s he, thanononoun heco he bong were asesonor t wearesp\n",
              "\n",
              "\n",
              "\n",
              "NUS: th ber d, ay sh thout wo pavavond ay touch the hastrd omer hes ias may perengor\n"
            ],
            "text/html": [
              "<pre style=\"white-space:pre;overflow-x:auto;line-height:normal;font-family:Menlo,'DejaVu Sans Mono',consolas,'Courier New',monospace\">[<span style=\"color: #7f7f7f; text-decoration-color: #7f7f7f\">2025-07-23 17:13:40,956742</span>][<span style=\"color: #008000; text-decoration-color: #008000\">I</span>][<span style=\"color: #008080; text-decoration-color: #008080; font-style: italic\">wordplay</span>/<span style=\"color: #000080; text-decoration-color: #000080\">trainer</span><span style=\"color: #0000ff; text-decoration-color: #0000ff\">:</span><span style=\"color: #800080; text-decoration-color: #800080\">831</span>]<span style=\"color: #c0c0c0; text-decoration-color: #c0c0c0\"> </span><span style=\"color: #ff00ff; text-decoration-color: #ff00ff\">[</span><span style=\"color: #008000; text-decoration-color: #008000\">'response'</span><span style=\"color: #ff00ff; text-decoration-color: #ff00ff\">]</span>:\n",
              "\n",
              "What is an LLM?\n",
              "HUSUS:\n",
              "Wingens thent ndd the se thof heare oupeed s te ase harot anes hant wisthe het clor m at t somy th br his s he, thanononoun heco he bong were asesonor t wearesp\n",
              "\n",
              "\n",
              "\n",
              "NUS: th ber d, ay sh thout wo pavavond ay touch the hastrd omer hes ias may perengor\n",
              "</pre>\n"
            ]
          },
          "metadata": {}
        },
        {
          "output_type": "display_data",
          "data": {
            "text/plain": [
              "[\u001b[2m2025-07-23 \u001b[0m\u001b[2m17:14:38,666483\u001b[0m][\u001b[32mI\u001b[0m][\u001b[3;36mwordplay\u001b[0m/\u001b[34mtrainer\u001b[0m\u001b[94m:\u001b[0m\u001b[35m762\u001b[0m]\u001b[37m \u001b[0mSaving checkpoint to: \u001b[35m/\u001b[0m\u001b[95mcontent\u001b[0m\n"
            ],
            "text/html": [
              "<pre style=\"white-space:pre;overflow-x:auto;line-height:normal;font-family:Menlo,'DejaVu Sans Mono',consolas,'Courier New',monospace\">[<span style=\"color: #7f7f7f; text-decoration-color: #7f7f7f\">2025-07-23 17:14:38,666483</span>][<span style=\"color: #008000; text-decoration-color: #008000\">I</span>][<span style=\"color: #008080; text-decoration-color: #008080; font-style: italic\">wordplay</span>/<span style=\"color: #000080; text-decoration-color: #000080\">trainer</span><span style=\"color: #0000ff; text-decoration-color: #0000ff\">:</span><span style=\"color: #800080; text-decoration-color: #800080\">762</span>]<span style=\"color: #c0c0c0; text-decoration-color: #c0c0c0\"> </span>Saving checkpoint to: <span style=\"color: #800080; text-decoration-color: #800080\">/</span><span style=\"color: #ff00ff; text-decoration-color: #ff00ff\">content</span>\n",
              "</pre>\n"
            ]
          },
          "metadata": {}
        },
        {
          "output_type": "display_data",
          "data": {
            "text/plain": [
              "[\u001b[2m2025-07-23 \u001b[0m\u001b[2m17:14:38,673966\u001b[0m][\u001b[32mI\u001b[0m][\u001b[3;36mwordplay\u001b[0m/\u001b[34mtrainer\u001b[0m\u001b[94m:\u001b[0m\u001b[35m763\u001b[0m]\u001b[37m \u001b[0mSaving model to: \u001b[35m/content/\u001b[0m\u001b[95mmodel.pth\u001b[0m\n"
            ],
            "text/html": [
              "<pre style=\"white-space:pre;overflow-x:auto;line-height:normal;font-family:Menlo,'DejaVu Sans Mono',consolas,'Courier New',monospace\">[<span style=\"color: #7f7f7f; text-decoration-color: #7f7f7f\">2025-07-23 17:14:38,673966</span>][<span style=\"color: #008000; text-decoration-color: #008000\">I</span>][<span style=\"color: #008080; text-decoration-color: #008080; font-style: italic\">wordplay</span>/<span style=\"color: #000080; text-decoration-color: #000080\">trainer</span><span style=\"color: #0000ff; text-decoration-color: #0000ff\">:</span><span style=\"color: #800080; text-decoration-color: #800080\">763</span>]<span style=\"color: #c0c0c0; text-decoration-color: #c0c0c0\"> </span>Saving model to: <span style=\"color: #800080; text-decoration-color: #800080\">/content/</span><span style=\"color: #ff00ff; text-decoration-color: #ff00ff\">model.pth</span>\n",
              "</pre>\n"
            ]
          },
          "metadata": {}
        },
        {
          "output_type": "display_data",
          "data": {
            "text/plain": [
              "[\u001b[2m2025-07-23 \u001b[0m\u001b[2m17:14:39,050214\u001b[0m][\u001b[32mI\u001b[0m][\u001b[3;36mwordplay\u001b[0m/\u001b[34mconfigs\u001b[0m\u001b[94m:\u001b[0m\u001b[35m141\u001b[0m]\u001b[37m \u001b[0mAppending \u001b[35m/\u001b[0m\u001b[95mcontent\u001b[0m to \u001b[35m/content/wordplay/src/ckpts/\u001b[0m\u001b[95mcheckpoints.log\u001b[0m\n"
            ],
            "text/html": [
              "<pre style=\"white-space:pre;overflow-x:auto;line-height:normal;font-family:Menlo,'DejaVu Sans Mono',consolas,'Courier New',monospace\">[<span style=\"color: #7f7f7f; text-decoration-color: #7f7f7f\">2025-07-23 17:14:39,050214</span>][<span style=\"color: #008000; text-decoration-color: #008000\">I</span>][<span style=\"color: #008080; text-decoration-color: #008080; font-style: italic\">wordplay</span>/<span style=\"color: #000080; text-decoration-color: #000080\">configs</span><span style=\"color: #0000ff; text-decoration-color: #0000ff\">:</span><span style=\"color: #800080; text-decoration-color: #800080\">141</span>]<span style=\"color: #c0c0c0; text-decoration-color: #c0c0c0\"> </span>Appending <span style=\"color: #800080; text-decoration-color: #800080\">/</span><span style=\"color: #ff00ff; text-decoration-color: #ff00ff\">content</span> to <span style=\"color: #800080; text-decoration-color: #800080\">/content/wordplay/src/ckpts/</span><span style=\"color: #ff00ff; text-decoration-color: #ff00ff\">checkpoints.log</span>\n",
              "</pre>\n"
            ]
          },
          "metadata": {}
        },
        {
          "output_type": "display_data",
          "data": {
            "text/plain": [
              "[\u001b[2m2025-07-23 \u001b[0m\u001b[2m17:14:42,870655\u001b[0m][\u001b[32mI\u001b[0m][\u001b[3;36mwordplay\u001b[0m/\u001b[34mtrainer\u001b[0m\u001b[94m:\u001b[0m\u001b[35m894\u001b[0m]\u001b[37m \u001b[0m\u001b[94mstep\u001b[0m=\u001b[1;36m410\u001b[0m \u001b[94mloss\u001b[0m=\u001b[1;36m2\u001b[0m\u001b[1;36m.48579\u001b[0m \u001b[94mdt\u001b[0m=\u001b[1;36m0\u001b[0m\u001b[1;36m.380458\u001b[0m \u001b[94mdtf\u001b[0m=\u001b[1;36m0\u001b[0m\u001b[1;36m.00763788\u001b[0m \u001b[94mdtb\u001b[0m=\u001b[1;36m0\u001b[0m\u001b[1;36m.00967759\u001b[0m \u001b[94msps\u001b[0m=\u001b[1;36m2\u001b[0m\u001b[1;36m.62841\u001b[0m \u001b[94msps_per_gpu\u001b[0m=\u001b[1;36m2\u001b[0m\u001b[1;36m.62841\u001b[0m \u001b[94mtps\u001b[0m=\u001b[1;36m21531\u001b[0m\u001b[1;36m.9\u001b[0m \u001b[94mtps_per_gpu\u001b[0m=\u001b[1;36m21531\u001b[0m\u001b[1;36m.9\u001b[0m \u001b[94mmfu\u001b[0m=\u001b[1;36m0\u001b[0m\u001b[1;36m.632366\u001b[0m\n"
            ],
            "text/html": [
              "<pre style=\"white-space:pre;overflow-x:auto;line-height:normal;font-family:Menlo,'DejaVu Sans Mono',consolas,'Courier New',monospace\">[<span style=\"color: #7f7f7f; text-decoration-color: #7f7f7f\">2025-07-23 17:14:42,870655</span>][<span style=\"color: #008000; text-decoration-color: #008000\">I</span>][<span style=\"color: #008080; text-decoration-color: #008080; font-style: italic\">wordplay</span>/<span style=\"color: #000080; text-decoration-color: #000080\">trainer</span><span style=\"color: #0000ff; text-decoration-color: #0000ff\">:</span><span style=\"color: #800080; text-decoration-color: #800080\">894</span>]<span style=\"color: #c0c0c0; text-decoration-color: #c0c0c0\"> </span><span style=\"color: #0000ff; text-decoration-color: #0000ff\">step</span>=<span style=\"color: #008080; text-decoration-color: #008080; font-weight: bold\">410</span> <span style=\"color: #0000ff; text-decoration-color: #0000ff\">loss</span>=<span style=\"color: #008080; text-decoration-color: #008080; font-weight: bold\">2.48579</span> <span style=\"color: #0000ff; text-decoration-color: #0000ff\">dt</span>=<span style=\"color: #008080; text-decoration-color: #008080; font-weight: bold\">0.380458</span> <span style=\"color: #0000ff; text-decoration-color: #0000ff\">dtf</span>=<span style=\"color: #008080; text-decoration-color: #008080; font-weight: bold\">0.00763788</span> <span style=\"color: #0000ff; text-decoration-color: #0000ff\">dtb</span>=<span style=\"color: #008080; text-decoration-color: #008080; font-weight: bold\">0.00967759</span> <span style=\"color: #0000ff; text-decoration-color: #0000ff\">sps</span>=<span style=\"color: #008080; text-decoration-color: #008080; font-weight: bold\">2.62841</span> <span style=\"color: #0000ff; text-decoration-color: #0000ff\">sps_per_gpu</span>=<span style=\"color: #008080; text-decoration-color: #008080; font-weight: bold\">2.62841</span> <span style=\"color: #0000ff; text-decoration-color: #0000ff\">tps</span>=<span style=\"color: #008080; text-decoration-color: #008080; font-weight: bold\">21531.9</span> <span style=\"color: #0000ff; text-decoration-color: #0000ff\">tps_per_gpu</span>=<span style=\"color: #008080; text-decoration-color: #008080; font-weight: bold\">21531.9</span> <span style=\"color: #0000ff; text-decoration-color: #0000ff\">mfu</span>=<span style=\"color: #008080; text-decoration-color: #008080; font-weight: bold\">0.632366</span>\n",
              "</pre>\n"
            ]
          },
          "metadata": {}
        },
        {
          "output_type": "display_data",
          "data": {
            "text/plain": [
              "[\u001b[2m2025-07-23 \u001b[0m\u001b[2m17:14:46,696620\u001b[0m][\u001b[32mI\u001b[0m][\u001b[3;36mwordplay\u001b[0m/\u001b[34mtrainer\u001b[0m\u001b[94m:\u001b[0m\u001b[35m894\u001b[0m]\u001b[37m \u001b[0m\u001b[94mstep\u001b[0m=\u001b[1;36m420\u001b[0m \u001b[94mloss\u001b[0m=\u001b[1;36m2\u001b[0m\u001b[1;36m.44756\u001b[0m \u001b[94mdt\u001b[0m=\u001b[1;36m0\u001b[0m\u001b[1;36m.389089\u001b[0m \u001b[94mdtf\u001b[0m=\u001b[1;36m0\u001b[0m\u001b[1;36m.0143081\u001b[0m \u001b[94mdtb\u001b[0m=\u001b[1;36m0\u001b[0m\u001b[1;36m.0108978\u001b[0m \u001b[94msps\u001b[0m=\u001b[1;36m2\u001b[0m\u001b[1;36m.57011\u001b[0m \u001b[94msps_per_gpu\u001b[0m=\u001b[1;36m2\u001b[0m\u001b[1;36m.57011\u001b[0m \u001b[94mtps\u001b[0m=\u001b[1;36m21054\u001b[0m\u001b[1;36m.3\u001b[0m \u001b[94mtps_per_gpu\u001b[0m=\u001b[1;36m21054\u001b[0m\u001b[1;36m.3\u001b[0m \u001b[94mmfu\u001b[0m=\u001b[1;36m0\u001b[0m\u001b[1;36m.631342\u001b[0m\n"
            ],
            "text/html": [
              "<pre style=\"white-space:pre;overflow-x:auto;line-height:normal;font-family:Menlo,'DejaVu Sans Mono',consolas,'Courier New',monospace\">[<span style=\"color: #7f7f7f; text-decoration-color: #7f7f7f\">2025-07-23 17:14:46,696620</span>][<span style=\"color: #008000; text-decoration-color: #008000\">I</span>][<span style=\"color: #008080; text-decoration-color: #008080; font-style: italic\">wordplay</span>/<span style=\"color: #000080; text-decoration-color: #000080\">trainer</span><span style=\"color: #0000ff; text-decoration-color: #0000ff\">:</span><span style=\"color: #800080; text-decoration-color: #800080\">894</span>]<span style=\"color: #c0c0c0; text-decoration-color: #c0c0c0\"> </span><span style=\"color: #0000ff; text-decoration-color: #0000ff\">step</span>=<span style=\"color: #008080; text-decoration-color: #008080; font-weight: bold\">420</span> <span style=\"color: #0000ff; text-decoration-color: #0000ff\">loss</span>=<span style=\"color: #008080; text-decoration-color: #008080; font-weight: bold\">2.44756</span> <span style=\"color: #0000ff; text-decoration-color: #0000ff\">dt</span>=<span style=\"color: #008080; text-decoration-color: #008080; font-weight: bold\">0.389089</span> <span style=\"color: #0000ff; text-decoration-color: #0000ff\">dtf</span>=<span style=\"color: #008080; text-decoration-color: #008080; font-weight: bold\">0.0143081</span> <span style=\"color: #0000ff; text-decoration-color: #0000ff\">dtb</span>=<span style=\"color: #008080; text-decoration-color: #008080; font-weight: bold\">0.0108978</span> <span style=\"color: #0000ff; text-decoration-color: #0000ff\">sps</span>=<span style=\"color: #008080; text-decoration-color: #008080; font-weight: bold\">2.57011</span> <span style=\"color: #0000ff; text-decoration-color: #0000ff\">sps_per_gpu</span>=<span style=\"color: #008080; text-decoration-color: #008080; font-weight: bold\">2.57011</span> <span style=\"color: #0000ff; text-decoration-color: #0000ff\">tps</span>=<span style=\"color: #008080; text-decoration-color: #008080; font-weight: bold\">21054.3</span> <span style=\"color: #0000ff; text-decoration-color: #0000ff\">tps_per_gpu</span>=<span style=\"color: #008080; text-decoration-color: #008080; font-weight: bold\">21054.3</span> <span style=\"color: #0000ff; text-decoration-color: #0000ff\">mfu</span>=<span style=\"color: #008080; text-decoration-color: #008080; font-weight: bold\">0.631342</span>\n",
              "</pre>\n"
            ]
          },
          "metadata": {}
        },
        {
          "output_type": "display_data",
          "data": {
            "text/plain": [
              "[\u001b[2m2025-07-23 \u001b[0m\u001b[2m17:14:50,528406\u001b[0m][\u001b[32mI\u001b[0m][\u001b[3;36mwordplay\u001b[0m/\u001b[34mtrainer\u001b[0m\u001b[94m:\u001b[0m\u001b[35m894\u001b[0m]\u001b[37m \u001b[0m\u001b[94mstep\u001b[0m=\u001b[1;36m430\u001b[0m \u001b[94mloss\u001b[0m=\u001b[1;36m2\u001b[0m\u001b[1;36m.46498\u001b[0m \u001b[94mdt\u001b[0m=\u001b[1;36m0\u001b[0m\u001b[1;36m.383404\u001b[0m \u001b[94mdtf\u001b[0m=\u001b[1;36m0\u001b[0m\u001b[1;36m.0097532\u001b[0m \u001b[94mdtb\u001b[0m=\u001b[1;36m0\u001b[0m\u001b[1;36m.0132017\u001b[0m \u001b[94msps\u001b[0m=\u001b[1;36m2\u001b[0m\u001b[1;36m.60821\u001b[0m \u001b[94msps_per_gpu\u001b[0m=\u001b[1;36m2\u001b[0m\u001b[1;36m.60821\u001b[0m \u001b[94mtps\u001b[0m=\u001b[1;36m21366\u001b[0m\u001b[1;36m.5\u001b[0m \u001b[94mtps_per_gpu\u001b[0m=\u001b[1;36m21366\u001b[0m\u001b[1;36m.5\u001b[0m \u001b[94mmfu\u001b[0m=\u001b[1;36m0\u001b[0m\u001b[1;36m.631343\u001b[0m\n"
            ],
            "text/html": [
              "<pre style=\"white-space:pre;overflow-x:auto;line-height:normal;font-family:Menlo,'DejaVu Sans Mono',consolas,'Courier New',monospace\">[<span style=\"color: #7f7f7f; text-decoration-color: #7f7f7f\">2025-07-23 17:14:50,528406</span>][<span style=\"color: #008000; text-decoration-color: #008000\">I</span>][<span style=\"color: #008080; text-decoration-color: #008080; font-style: italic\">wordplay</span>/<span style=\"color: #000080; text-decoration-color: #000080\">trainer</span><span style=\"color: #0000ff; text-decoration-color: #0000ff\">:</span><span style=\"color: #800080; text-decoration-color: #800080\">894</span>]<span style=\"color: #c0c0c0; text-decoration-color: #c0c0c0\"> </span><span style=\"color: #0000ff; text-decoration-color: #0000ff\">step</span>=<span style=\"color: #008080; text-decoration-color: #008080; font-weight: bold\">430</span> <span style=\"color: #0000ff; text-decoration-color: #0000ff\">loss</span>=<span style=\"color: #008080; text-decoration-color: #008080; font-weight: bold\">2.46498</span> <span style=\"color: #0000ff; text-decoration-color: #0000ff\">dt</span>=<span style=\"color: #008080; text-decoration-color: #008080; font-weight: bold\">0.383404</span> <span style=\"color: #0000ff; text-decoration-color: #0000ff\">dtf</span>=<span style=\"color: #008080; text-decoration-color: #008080; font-weight: bold\">0.0097532</span> <span style=\"color: #0000ff; text-decoration-color: #0000ff\">dtb</span>=<span style=\"color: #008080; text-decoration-color: #008080; font-weight: bold\">0.0132017</span> <span style=\"color: #0000ff; text-decoration-color: #0000ff\">sps</span>=<span style=\"color: #008080; text-decoration-color: #008080; font-weight: bold\">2.60821</span> <span style=\"color: #0000ff; text-decoration-color: #0000ff\">sps_per_gpu</span>=<span style=\"color: #008080; text-decoration-color: #008080; font-weight: bold\">2.60821</span> <span style=\"color: #0000ff; text-decoration-color: #0000ff\">tps</span>=<span style=\"color: #008080; text-decoration-color: #008080; font-weight: bold\">21366.5</span> <span style=\"color: #0000ff; text-decoration-color: #0000ff\">tps_per_gpu</span>=<span style=\"color: #008080; text-decoration-color: #008080; font-weight: bold\">21366.5</span> <span style=\"color: #0000ff; text-decoration-color: #0000ff\">mfu</span>=<span style=\"color: #008080; text-decoration-color: #008080; font-weight: bold\">0.631343</span>\n",
              "</pre>\n"
            ]
          },
          "metadata": {}
        },
        {
          "output_type": "display_data",
          "data": {
            "text/plain": [
              "[\u001b[2m2025-07-23 \u001b[0m\u001b[2m17:14:54,360775\u001b[0m][\u001b[32mI\u001b[0m][\u001b[3;36mwordplay\u001b[0m/\u001b[34mtrainer\u001b[0m\u001b[94m:\u001b[0m\u001b[35m894\u001b[0m]\u001b[37m \u001b[0m\u001b[94mstep\u001b[0m=\u001b[1;36m440\u001b[0m \u001b[94mloss\u001b[0m=\u001b[1;36m2\u001b[0m\u001b[1;36m.46993\u001b[0m \u001b[94mdt\u001b[0m=\u001b[1;36m0\u001b[0m\u001b[1;36m.384899\u001b[0m \u001b[94mdtf\u001b[0m=\u001b[1;36m0\u001b[0m\u001b[1;36m.00866323\u001b[0m \u001b[94mdtb\u001b[0m=\u001b[1;36m0\u001b[0m\u001b[1;36m.0128457\u001b[0m \u001b[94msps\u001b[0m=\u001b[1;36m2\u001b[0m\u001b[1;36m.59808\u001b[0m \u001b[94msps_per_gpu\u001b[0m=\u001b[1;36m2\u001b[0m\u001b[1;36m.59808\u001b[0m \u001b[94mtps\u001b[0m=\u001b[1;36m21283\u001b[0m\u001b[1;36m.5\u001b[0m \u001b[94mtps_per_gpu\u001b[0m=\u001b[1;36m21283\u001b[0m\u001b[1;36m.5\u001b[0m \u001b[94mmfu\u001b[0m=\u001b[1;36m0\u001b[0m\u001b[1;36m.631099\u001b[0m\n"
            ],
            "text/html": [
              "<pre style=\"white-space:pre;overflow-x:auto;line-height:normal;font-family:Menlo,'DejaVu Sans Mono',consolas,'Courier New',monospace\">[<span style=\"color: #7f7f7f; text-decoration-color: #7f7f7f\">2025-07-23 17:14:54,360775</span>][<span style=\"color: #008000; text-decoration-color: #008000\">I</span>][<span style=\"color: #008080; text-decoration-color: #008080; font-style: italic\">wordplay</span>/<span style=\"color: #000080; text-decoration-color: #000080\">trainer</span><span style=\"color: #0000ff; text-decoration-color: #0000ff\">:</span><span style=\"color: #800080; text-decoration-color: #800080\">894</span>]<span style=\"color: #c0c0c0; text-decoration-color: #c0c0c0\"> </span><span style=\"color: #0000ff; text-decoration-color: #0000ff\">step</span>=<span style=\"color: #008080; text-decoration-color: #008080; font-weight: bold\">440</span> <span style=\"color: #0000ff; text-decoration-color: #0000ff\">loss</span>=<span style=\"color: #008080; text-decoration-color: #008080; font-weight: bold\">2.46993</span> <span style=\"color: #0000ff; text-decoration-color: #0000ff\">dt</span>=<span style=\"color: #008080; text-decoration-color: #008080; font-weight: bold\">0.384899</span> <span style=\"color: #0000ff; text-decoration-color: #0000ff\">dtf</span>=<span style=\"color: #008080; text-decoration-color: #008080; font-weight: bold\">0.00866323</span> <span style=\"color: #0000ff; text-decoration-color: #0000ff\">dtb</span>=<span style=\"color: #008080; text-decoration-color: #008080; font-weight: bold\">0.0128457</span> <span style=\"color: #0000ff; text-decoration-color: #0000ff\">sps</span>=<span style=\"color: #008080; text-decoration-color: #008080; font-weight: bold\">2.59808</span> <span style=\"color: #0000ff; text-decoration-color: #0000ff\">sps_per_gpu</span>=<span style=\"color: #008080; text-decoration-color: #008080; font-weight: bold\">2.59808</span> <span style=\"color: #0000ff; text-decoration-color: #0000ff\">tps</span>=<span style=\"color: #008080; text-decoration-color: #008080; font-weight: bold\">21283.5</span> <span style=\"color: #0000ff; text-decoration-color: #0000ff\">tps_per_gpu</span>=<span style=\"color: #008080; text-decoration-color: #008080; font-weight: bold\">21283.5</span> <span style=\"color: #0000ff; text-decoration-color: #0000ff\">mfu</span>=<span style=\"color: #008080; text-decoration-color: #008080; font-weight: bold\">0.631099</span>\n",
              "</pre>\n"
            ]
          },
          "metadata": {}
        },
        {
          "output_type": "display_data",
          "data": {
            "text/plain": [
              "[\u001b[2m2025-07-23 \u001b[0m\u001b[2m17:14:58,197581\u001b[0m][\u001b[32mI\u001b[0m][\u001b[3;36mwordplay\u001b[0m/\u001b[34mtrainer\u001b[0m\u001b[94m:\u001b[0m\u001b[35m894\u001b[0m]\u001b[37m \u001b[0m\u001b[94mstep\u001b[0m=\u001b[1;36m450\u001b[0m \u001b[94mloss\u001b[0m=\u001b[1;36m2\u001b[0m\u001b[1;36m.45371\u001b[0m \u001b[94mdt\u001b[0m=\u001b[1;36m0\u001b[0m\u001b[1;36m.383754\u001b[0m \u001b[94mdtf\u001b[0m=\u001b[1;36m0\u001b[0m\u001b[1;36m.00799181\u001b[0m \u001b[94mdtb\u001b[0m=\u001b[1;36m0\u001b[0m\u001b[1;36m.0108706\u001b[0m \u001b[94msps\u001b[0m=\u001b[1;36m2\u001b[0m\u001b[1;36m.60584\u001b[0m \u001b[94msps_per_gpu\u001b[0m=\u001b[1;36m2\u001b[0m\u001b[1;36m.60584\u001b[0m \u001b[94mtps\u001b[0m=\u001b[1;36m21347\u001b[0m \u001b[94mtps_per_gpu\u001b[0m=\u001b[1;36m21347\u001b[0m \u001b[94mmfu\u001b[0m=\u001b[1;36m0\u001b[0m\u001b[1;36m.631067\u001b[0m\n"
            ],
            "text/html": [
              "<pre style=\"white-space:pre;overflow-x:auto;line-height:normal;font-family:Menlo,'DejaVu Sans Mono',consolas,'Courier New',monospace\">[<span style=\"color: #7f7f7f; text-decoration-color: #7f7f7f\">2025-07-23 17:14:58,197581</span>][<span style=\"color: #008000; text-decoration-color: #008000\">I</span>][<span style=\"color: #008080; text-decoration-color: #008080; font-style: italic\">wordplay</span>/<span style=\"color: #000080; text-decoration-color: #000080\">trainer</span><span style=\"color: #0000ff; text-decoration-color: #0000ff\">:</span><span style=\"color: #800080; text-decoration-color: #800080\">894</span>]<span style=\"color: #c0c0c0; text-decoration-color: #c0c0c0\"> </span><span style=\"color: #0000ff; text-decoration-color: #0000ff\">step</span>=<span style=\"color: #008080; text-decoration-color: #008080; font-weight: bold\">450</span> <span style=\"color: #0000ff; text-decoration-color: #0000ff\">loss</span>=<span style=\"color: #008080; text-decoration-color: #008080; font-weight: bold\">2.45371</span> <span style=\"color: #0000ff; text-decoration-color: #0000ff\">dt</span>=<span style=\"color: #008080; text-decoration-color: #008080; font-weight: bold\">0.383754</span> <span style=\"color: #0000ff; text-decoration-color: #0000ff\">dtf</span>=<span style=\"color: #008080; text-decoration-color: #008080; font-weight: bold\">0.00799181</span> <span style=\"color: #0000ff; text-decoration-color: #0000ff\">dtb</span>=<span style=\"color: #008080; text-decoration-color: #008080; font-weight: bold\">0.0108706</span> <span style=\"color: #0000ff; text-decoration-color: #0000ff\">sps</span>=<span style=\"color: #008080; text-decoration-color: #008080; font-weight: bold\">2.60584</span> <span style=\"color: #0000ff; text-decoration-color: #0000ff\">sps_per_gpu</span>=<span style=\"color: #008080; text-decoration-color: #008080; font-weight: bold\">2.60584</span> <span style=\"color: #0000ff; text-decoration-color: #0000ff\">tps</span>=<span style=\"color: #008080; text-decoration-color: #008080; font-weight: bold\">21347</span> <span style=\"color: #0000ff; text-decoration-color: #0000ff\">tps_per_gpu</span>=<span style=\"color: #008080; text-decoration-color: #008080; font-weight: bold\">21347</span> <span style=\"color: #0000ff; text-decoration-color: #0000ff\">mfu</span>=<span style=\"color: #008080; text-decoration-color: #008080; font-weight: bold\">0.631067</span>\n",
              "</pre>\n"
            ]
          },
          "metadata": {}
        },
        {
          "output_type": "display_data",
          "data": {
            "text/plain": [
              "[\u001b[2m2025-07-23 \u001b[0m\u001b[2m17:15:02,033033\u001b[0m][\u001b[32mI\u001b[0m][\u001b[3;36mwordplay\u001b[0m/\u001b[34mtrainer\u001b[0m\u001b[94m:\u001b[0m\u001b[35m894\u001b[0m]\u001b[37m \u001b[0m\u001b[94mstep\u001b[0m=\u001b[1;36m460\u001b[0m \u001b[94mloss\u001b[0m=\u001b[1;36m2\u001b[0m\u001b[1;36m.43378\u001b[0m \u001b[94mdt\u001b[0m=\u001b[1;36m0\u001b[0m\u001b[1;36m.379863\u001b[0m \u001b[94mdtf\u001b[0m=\u001b[1;36m0\u001b[0m\u001b[1;36m.0110734\u001b[0m \u001b[94mdtb\u001b[0m=\u001b[1;36m0\u001b[0m\u001b[1;36m.0147297\u001b[0m \u001b[94msps\u001b[0m=\u001b[1;36m2\u001b[0m\u001b[1;36m.63253\u001b[0m \u001b[94msps_per_gpu\u001b[0m=\u001b[1;36m2\u001b[0m\u001b[1;36m.63253\u001b[0m \u001b[94mtps\u001b[0m=\u001b[1;36m21565\u001b[0m\u001b[1;36m.6\u001b[0m \u001b[94mtps_per_gpu\u001b[0m=\u001b[1;36m21565\u001b[0m\u001b[1;36m.6\u001b[0m \u001b[94mmfu\u001b[0m=\u001b[1;36m0\u001b[0m\u001b[1;36m.631684\u001b[0m\n"
            ],
            "text/html": [
              "<pre style=\"white-space:pre;overflow-x:auto;line-height:normal;font-family:Menlo,'DejaVu Sans Mono',consolas,'Courier New',monospace\">[<span style=\"color: #7f7f7f; text-decoration-color: #7f7f7f\">2025-07-23 17:15:02,033033</span>][<span style=\"color: #008000; text-decoration-color: #008000\">I</span>][<span style=\"color: #008080; text-decoration-color: #008080; font-style: italic\">wordplay</span>/<span style=\"color: #000080; text-decoration-color: #000080\">trainer</span><span style=\"color: #0000ff; text-decoration-color: #0000ff\">:</span><span style=\"color: #800080; text-decoration-color: #800080\">894</span>]<span style=\"color: #c0c0c0; text-decoration-color: #c0c0c0\"> </span><span style=\"color: #0000ff; text-decoration-color: #0000ff\">step</span>=<span style=\"color: #008080; text-decoration-color: #008080; font-weight: bold\">460</span> <span style=\"color: #0000ff; text-decoration-color: #0000ff\">loss</span>=<span style=\"color: #008080; text-decoration-color: #008080; font-weight: bold\">2.43378</span> <span style=\"color: #0000ff; text-decoration-color: #0000ff\">dt</span>=<span style=\"color: #008080; text-decoration-color: #008080; font-weight: bold\">0.379863</span> <span style=\"color: #0000ff; text-decoration-color: #0000ff\">dtf</span>=<span style=\"color: #008080; text-decoration-color: #008080; font-weight: bold\">0.0110734</span> <span style=\"color: #0000ff; text-decoration-color: #0000ff\">dtb</span>=<span style=\"color: #008080; text-decoration-color: #008080; font-weight: bold\">0.0147297</span> <span style=\"color: #0000ff; text-decoration-color: #0000ff\">sps</span>=<span style=\"color: #008080; text-decoration-color: #008080; font-weight: bold\">2.63253</span> <span style=\"color: #0000ff; text-decoration-color: #0000ff\">sps_per_gpu</span>=<span style=\"color: #008080; text-decoration-color: #008080; font-weight: bold\">2.63253</span> <span style=\"color: #0000ff; text-decoration-color: #0000ff\">tps</span>=<span style=\"color: #008080; text-decoration-color: #008080; font-weight: bold\">21565.6</span> <span style=\"color: #0000ff; text-decoration-color: #0000ff\">tps_per_gpu</span>=<span style=\"color: #008080; text-decoration-color: #008080; font-weight: bold\">21565.6</span> <span style=\"color: #0000ff; text-decoration-color: #0000ff\">mfu</span>=<span style=\"color: #008080; text-decoration-color: #008080; font-weight: bold\">0.631684</span>\n",
              "</pre>\n"
            ]
          },
          "metadata": {}
        },
        {
          "output_type": "display_data",
          "data": {
            "text/plain": [
              "[\u001b[2m2025-07-23 \u001b[0m\u001b[2m17:15:05,868916\u001b[0m][\u001b[32mI\u001b[0m][\u001b[3;36mwordplay\u001b[0m/\u001b[34mtrainer\u001b[0m\u001b[94m:\u001b[0m\u001b[35m894\u001b[0m]\u001b[37m \u001b[0m\u001b[94mstep\u001b[0m=\u001b[1;36m470\u001b[0m \u001b[94mloss\u001b[0m=\u001b[1;36m2\u001b[0m\u001b[1;36m.41934\u001b[0m \u001b[94mdt\u001b[0m=\u001b[1;36m0\u001b[0m\u001b[1;36m.378727\u001b[0m \u001b[94mdtf\u001b[0m=\u001b[1;36m0\u001b[0m\u001b[1;36m.00844342\u001b[0m \u001b[94mdtb\u001b[0m=\u001b[1;36m0\u001b[0m\u001b[1;36m.0111405\u001b[0m \u001b[94msps\u001b[0m=\u001b[1;36m2\u001b[0m\u001b[1;36m.64043\u001b[0m \u001b[94msps_per_gpu\u001b[0m=\u001b[1;36m2\u001b[0m\u001b[1;36m.64043\u001b[0m \u001b[94mtps\u001b[0m=\u001b[1;36m21630\u001b[0m\u001b[1;36m.4\u001b[0m \u001b[94mtps_per_gpu\u001b[0m=\u001b[1;36m21630\u001b[0m\u001b[1;36m.4\u001b[0m \u001b[94mmfu\u001b[0m=\u001b[1;36m0\u001b[0m\u001b[1;36m.632431\u001b[0m\n"
            ],
            "text/html": [
              "<pre style=\"white-space:pre;overflow-x:auto;line-height:normal;font-family:Menlo,'DejaVu Sans Mono',consolas,'Courier New',monospace\">[<span style=\"color: #7f7f7f; text-decoration-color: #7f7f7f\">2025-07-23 17:15:05,868916</span>][<span style=\"color: #008000; text-decoration-color: #008000\">I</span>][<span style=\"color: #008080; text-decoration-color: #008080; font-style: italic\">wordplay</span>/<span style=\"color: #000080; text-decoration-color: #000080\">trainer</span><span style=\"color: #0000ff; text-decoration-color: #0000ff\">:</span><span style=\"color: #800080; text-decoration-color: #800080\">894</span>]<span style=\"color: #c0c0c0; text-decoration-color: #c0c0c0\"> </span><span style=\"color: #0000ff; text-decoration-color: #0000ff\">step</span>=<span style=\"color: #008080; text-decoration-color: #008080; font-weight: bold\">470</span> <span style=\"color: #0000ff; text-decoration-color: #0000ff\">loss</span>=<span style=\"color: #008080; text-decoration-color: #008080; font-weight: bold\">2.41934</span> <span style=\"color: #0000ff; text-decoration-color: #0000ff\">dt</span>=<span style=\"color: #008080; text-decoration-color: #008080; font-weight: bold\">0.378727</span> <span style=\"color: #0000ff; text-decoration-color: #0000ff\">dtf</span>=<span style=\"color: #008080; text-decoration-color: #008080; font-weight: bold\">0.00844342</span> <span style=\"color: #0000ff; text-decoration-color: #0000ff\">dtb</span>=<span style=\"color: #008080; text-decoration-color: #008080; font-weight: bold\">0.0111405</span> <span style=\"color: #0000ff; text-decoration-color: #0000ff\">sps</span>=<span style=\"color: #008080; text-decoration-color: #008080; font-weight: bold\">2.64043</span> <span style=\"color: #0000ff; text-decoration-color: #0000ff\">sps_per_gpu</span>=<span style=\"color: #008080; text-decoration-color: #008080; font-weight: bold\">2.64043</span> <span style=\"color: #0000ff; text-decoration-color: #0000ff\">tps</span>=<span style=\"color: #008080; text-decoration-color: #008080; font-weight: bold\">21630.4</span> <span style=\"color: #0000ff; text-decoration-color: #0000ff\">tps_per_gpu</span>=<span style=\"color: #008080; text-decoration-color: #008080; font-weight: bold\">21630.4</span> <span style=\"color: #0000ff; text-decoration-color: #0000ff\">mfu</span>=<span style=\"color: #008080; text-decoration-color: #008080; font-weight: bold\">0.632431</span>\n",
              "</pre>\n"
            ]
          },
          "metadata": {}
        },
        {
          "output_type": "display_data",
          "data": {
            "text/plain": [
              "[\u001b[2m2025-07-23 \u001b[0m\u001b[2m17:15:09,703796\u001b[0m][\u001b[32mI\u001b[0m][\u001b[3;36mwordplay\u001b[0m/\u001b[34mtrainer\u001b[0m\u001b[94m:\u001b[0m\u001b[35m894\u001b[0m]\u001b[37m \u001b[0m\u001b[94mstep\u001b[0m=\u001b[1;36m480\u001b[0m \u001b[94mloss\u001b[0m=\u001b[1;36m2\u001b[0m\u001b[1;36m.45929\u001b[0m \u001b[94mdt\u001b[0m=\u001b[1;36m0\u001b[0m\u001b[1;36m.382927\u001b[0m \u001b[94mdtf\u001b[0m=\u001b[1;36m0\u001b[0m\u001b[1;36m.00844033\u001b[0m \u001b[94mdtb\u001b[0m=\u001b[1;36m0\u001b[0m\u001b[1;36m.0114589\u001b[0m \u001b[94msps\u001b[0m=\u001b[1;36m2\u001b[0m\u001b[1;36m.61146\u001b[0m \u001b[94msps_per_gpu\u001b[0m=\u001b[1;36m2\u001b[0m\u001b[1;36m.61146\u001b[0m \u001b[94mtps\u001b[0m=\u001b[1;36m21393\u001b[0m\u001b[1;36m.1\u001b[0m \u001b[94mtps_per_gpu\u001b[0m=\u001b[1;36m21393\u001b[0m\u001b[1;36m.1\u001b[0m \u001b[94mmfu\u001b[0m=\u001b[1;36m0\u001b[0m\u001b[1;36m.632402\u001b[0m\n"
            ],
            "text/html": [
              "<pre style=\"white-space:pre;overflow-x:auto;line-height:normal;font-family:Menlo,'DejaVu Sans Mono',consolas,'Courier New',monospace\">[<span style=\"color: #7f7f7f; text-decoration-color: #7f7f7f\">2025-07-23 17:15:09,703796</span>][<span style=\"color: #008000; text-decoration-color: #008000\">I</span>][<span style=\"color: #008080; text-decoration-color: #008080; font-style: italic\">wordplay</span>/<span style=\"color: #000080; text-decoration-color: #000080\">trainer</span><span style=\"color: #0000ff; text-decoration-color: #0000ff\">:</span><span style=\"color: #800080; text-decoration-color: #800080\">894</span>]<span style=\"color: #c0c0c0; text-decoration-color: #c0c0c0\"> </span><span style=\"color: #0000ff; text-decoration-color: #0000ff\">step</span>=<span style=\"color: #008080; text-decoration-color: #008080; font-weight: bold\">480</span> <span style=\"color: #0000ff; text-decoration-color: #0000ff\">loss</span>=<span style=\"color: #008080; text-decoration-color: #008080; font-weight: bold\">2.45929</span> <span style=\"color: #0000ff; text-decoration-color: #0000ff\">dt</span>=<span style=\"color: #008080; text-decoration-color: #008080; font-weight: bold\">0.382927</span> <span style=\"color: #0000ff; text-decoration-color: #0000ff\">dtf</span>=<span style=\"color: #008080; text-decoration-color: #008080; font-weight: bold\">0.00844033</span> <span style=\"color: #0000ff; text-decoration-color: #0000ff\">dtb</span>=<span style=\"color: #008080; text-decoration-color: #008080; font-weight: bold\">0.0114589</span> <span style=\"color: #0000ff; text-decoration-color: #0000ff\">sps</span>=<span style=\"color: #008080; text-decoration-color: #008080; font-weight: bold\">2.61146</span> <span style=\"color: #0000ff; text-decoration-color: #0000ff\">sps_per_gpu</span>=<span style=\"color: #008080; text-decoration-color: #008080; font-weight: bold\">2.61146</span> <span style=\"color: #0000ff; text-decoration-color: #0000ff\">tps</span>=<span style=\"color: #008080; text-decoration-color: #008080; font-weight: bold\">21393.1</span> <span style=\"color: #0000ff; text-decoration-color: #0000ff\">tps_per_gpu</span>=<span style=\"color: #008080; text-decoration-color: #008080; font-weight: bold\">21393.1</span> <span style=\"color: #0000ff; text-decoration-color: #0000ff\">mfu</span>=<span style=\"color: #008080; text-decoration-color: #008080; font-weight: bold\">0.632402</span>\n",
              "</pre>\n"
            ]
          },
          "metadata": {}
        },
        {
          "output_type": "display_data",
          "data": {
            "text/plain": [
              "[\u001b[2m2025-07-23 \u001b[0m\u001b[2m17:15:13,538234\u001b[0m][\u001b[32mI\u001b[0m][\u001b[3;36mwordplay\u001b[0m/\u001b[34mtrainer\u001b[0m\u001b[94m:\u001b[0m\u001b[35m894\u001b[0m]\u001b[37m \u001b[0m\u001b[94mstep\u001b[0m=\u001b[1;36m490\u001b[0m \u001b[94mloss\u001b[0m=\u001b[1;36m2\u001b[0m\u001b[1;36m.4835\u001b[0m \u001b[94mdt\u001b[0m=\u001b[1;36m0\u001b[0m\u001b[1;36m.383195\u001b[0m \u001b[94mdtf\u001b[0m=\u001b[1;36m0\u001b[0m\u001b[1;36m.0079397\u001b[0m \u001b[94mdtb\u001b[0m=\u001b[1;36m0\u001b[0m\u001b[1;36m.0104966\u001b[0m \u001b[94msps\u001b[0m=\u001b[1;36m2\u001b[0m\u001b[1;36m.60964\u001b[0m \u001b[94msps_per_gpu\u001b[0m=\u001b[1;36m2\u001b[0m\u001b[1;36m.60964\u001b[0m \u001b[94mtps\u001b[0m=\u001b[1;36m21378\u001b[0m\u001b[1;36m.1\u001b[0m \u001b[94mtps_per_gpu\u001b[0m=\u001b[1;36m21378\u001b[0m\u001b[1;36m.1\u001b[0m \u001b[94mmfu\u001b[0m=\u001b[1;36m0\u001b[0m\u001b[1;36m.632332\u001b[0m\n"
            ],
            "text/html": [
              "<pre style=\"white-space:pre;overflow-x:auto;line-height:normal;font-family:Menlo,'DejaVu Sans Mono',consolas,'Courier New',monospace\">[<span style=\"color: #7f7f7f; text-decoration-color: #7f7f7f\">2025-07-23 17:15:13,538234</span>][<span style=\"color: #008000; text-decoration-color: #008000\">I</span>][<span style=\"color: #008080; text-decoration-color: #008080; font-style: italic\">wordplay</span>/<span style=\"color: #000080; text-decoration-color: #000080\">trainer</span><span style=\"color: #0000ff; text-decoration-color: #0000ff\">:</span><span style=\"color: #800080; text-decoration-color: #800080\">894</span>]<span style=\"color: #c0c0c0; text-decoration-color: #c0c0c0\"> </span><span style=\"color: #0000ff; text-decoration-color: #0000ff\">step</span>=<span style=\"color: #008080; text-decoration-color: #008080; font-weight: bold\">490</span> <span style=\"color: #0000ff; text-decoration-color: #0000ff\">loss</span>=<span style=\"color: #008080; text-decoration-color: #008080; font-weight: bold\">2.4835</span> <span style=\"color: #0000ff; text-decoration-color: #0000ff\">dt</span>=<span style=\"color: #008080; text-decoration-color: #008080; font-weight: bold\">0.383195</span> <span style=\"color: #0000ff; text-decoration-color: #0000ff\">dtf</span>=<span style=\"color: #008080; text-decoration-color: #008080; font-weight: bold\">0.0079397</span> <span style=\"color: #0000ff; text-decoration-color: #0000ff\">dtb</span>=<span style=\"color: #008080; text-decoration-color: #008080; font-weight: bold\">0.0104966</span> <span style=\"color: #0000ff; text-decoration-color: #0000ff\">sps</span>=<span style=\"color: #008080; text-decoration-color: #008080; font-weight: bold\">2.60964</span> <span style=\"color: #0000ff; text-decoration-color: #0000ff\">sps_per_gpu</span>=<span style=\"color: #008080; text-decoration-color: #008080; font-weight: bold\">2.60964</span> <span style=\"color: #0000ff; text-decoration-color: #0000ff\">tps</span>=<span style=\"color: #008080; text-decoration-color: #008080; font-weight: bold\">21378.1</span> <span style=\"color: #0000ff; text-decoration-color: #0000ff\">tps_per_gpu</span>=<span style=\"color: #008080; text-decoration-color: #008080; font-weight: bold\">21378.1</span> <span style=\"color: #0000ff; text-decoration-color: #0000ff\">mfu</span>=<span style=\"color: #008080; text-decoration-color: #008080; font-weight: bold\">0.632332</span>\n",
              "</pre>\n"
            ]
          },
          "metadata": {}
        },
        {
          "output_type": "display_data",
          "data": {
            "text/plain": [
              "[\u001b[2m2025-07-23 \u001b[0m\u001b[2m17:15:17,374316\u001b[0m][\u001b[32mI\u001b[0m][\u001b[3;36mwordplay\u001b[0m/\u001b[34mtrainer\u001b[0m\u001b[94m:\u001b[0m\u001b[35m894\u001b[0m]\u001b[37m \u001b[0m\u001b[94mstep\u001b[0m=\u001b[1;36m500\u001b[0m \u001b[94mloss\u001b[0m=\u001b[1;36m2\u001b[0m\u001b[1;36m.43789\u001b[0m \u001b[94mdt\u001b[0m=\u001b[1;36m0\u001b[0m\u001b[1;36m.382541\u001b[0m \u001b[94mdtf\u001b[0m=\u001b[1;36m0\u001b[0m\u001b[1;36m.00727845\u001b[0m \u001b[94mdtb\u001b[0m=\u001b[1;36m0\u001b[0m\u001b[1;36m.0100782\u001b[0m \u001b[94msps\u001b[0m=\u001b[1;36m2\u001b[0m\u001b[1;36m.6141\u001b[0m \u001b[94msps_per_gpu\u001b[0m=\u001b[1;36m2\u001b[0m\u001b[1;36m.6141\u001b[0m \u001b[94mtps\u001b[0m=\u001b[1;36m21414\u001b[0m\u001b[1;36m.7\u001b[0m \u001b[94mtps_per_gpu\u001b[0m=\u001b[1;36m21414\u001b[0m\u001b[1;36m.7\u001b[0m \u001b[94mmfu\u001b[0m=\u001b[1;36m0\u001b[0m\u001b[1;36m.632376\u001b[0m\n"
            ],
            "text/html": [
              "<pre style=\"white-space:pre;overflow-x:auto;line-height:normal;font-family:Menlo,'DejaVu Sans Mono',consolas,'Courier New',monospace\">[<span style=\"color: #7f7f7f; text-decoration-color: #7f7f7f\">2025-07-23 17:15:17,374316</span>][<span style=\"color: #008000; text-decoration-color: #008000\">I</span>][<span style=\"color: #008080; text-decoration-color: #008080; font-style: italic\">wordplay</span>/<span style=\"color: #000080; text-decoration-color: #000080\">trainer</span><span style=\"color: #0000ff; text-decoration-color: #0000ff\">:</span><span style=\"color: #800080; text-decoration-color: #800080\">894</span>]<span style=\"color: #c0c0c0; text-decoration-color: #c0c0c0\"> </span><span style=\"color: #0000ff; text-decoration-color: #0000ff\">step</span>=<span style=\"color: #008080; text-decoration-color: #008080; font-weight: bold\">500</span> <span style=\"color: #0000ff; text-decoration-color: #0000ff\">loss</span>=<span style=\"color: #008080; text-decoration-color: #008080; font-weight: bold\">2.43789</span> <span style=\"color: #0000ff; text-decoration-color: #0000ff\">dt</span>=<span style=\"color: #008080; text-decoration-color: #008080; font-weight: bold\">0.382541</span> <span style=\"color: #0000ff; text-decoration-color: #0000ff\">dtf</span>=<span style=\"color: #008080; text-decoration-color: #008080; font-weight: bold\">0.00727845</span> <span style=\"color: #0000ff; text-decoration-color: #0000ff\">dtb</span>=<span style=\"color: #008080; text-decoration-color: #008080; font-weight: bold\">0.0100782</span> <span style=\"color: #0000ff; text-decoration-color: #0000ff\">sps</span>=<span style=\"color: #008080; text-decoration-color: #008080; font-weight: bold\">2.6141</span> <span style=\"color: #0000ff; text-decoration-color: #0000ff\">sps_per_gpu</span>=<span style=\"color: #008080; text-decoration-color: #008080; font-weight: bold\">2.6141</span> <span style=\"color: #0000ff; text-decoration-color: #0000ff\">tps</span>=<span style=\"color: #008080; text-decoration-color: #008080; font-weight: bold\">21414.7</span> <span style=\"color: #0000ff; text-decoration-color: #0000ff\">tps_per_gpu</span>=<span style=\"color: #008080; text-decoration-color: #008080; font-weight: bold\">21414.7</span> <span style=\"color: #0000ff; text-decoration-color: #0000ff\">mfu</span>=<span style=\"color: #008080; text-decoration-color: #008080; font-weight: bold\">0.632376</span>\n",
              "</pre>\n"
            ]
          },
          "metadata": {}
        }
      ],
      "source": [
        "trainer.train(train_iters=500)"
      ],
      "id": "16d89082"
    },
    {
      "cell_type": "code",
      "execution_count": 10,
      "metadata": {
        "quarto-private-1": {
          "key": "colab",
          "value": {
            "base_uri": "https://localhost:8080/",
            "height": 321
          }
        },
        "id": "382c81b1",
        "outputId": "f68a5872-e9ce-4bf3-a5c8-ffc4aa4705a0",
        "colab": {
          "base_uri": "https://localhost:8080/",
          "height": 221
        }
      },
      "outputs": [
        {
          "output_type": "display_data",
          "data": {
            "text/plain": [
              "[\u001b[2m2025-07-23 \u001b[0m\u001b[2m17:15:18,240721\u001b[0m][\u001b[32mI\u001b[0m][\u001b[3;36mtmp\u001b[0m/\u001b[34mipython-input-10-1425179755\u001b[0m\u001b[94m:\u001b[0m\u001b[35m12\u001b[0m\u001b[94m:\u001b[0m\u001b[3;92mezpz.log\u001b[0m]\u001b[37m \u001b[0mtook: \u001b[1;36m0.\u001b[0m8133s\n"
            ],
            "text/html": [
              "<pre style=\"white-space:pre;overflow-x:auto;line-height:normal;font-family:Menlo,'DejaVu Sans Mono',consolas,'Courier New',monospace\">[<span style=\"color: #7f7f7f; text-decoration-color: #7f7f7f\">2025-07-23 17:15:18,240721</span>][<span style=\"color: #008000; text-decoration-color: #008000\">I</span>][<span style=\"color: #008080; text-decoration-color: #008080; font-style: italic\">tmp</span>/<span style=\"color: #000080; text-decoration-color: #000080\">ipython-input-10-1425179755</span><span style=\"color: #0000ff; text-decoration-color: #0000ff\">:</span><span style=\"color: #800080; text-decoration-color: #800080\">12</span><span style=\"color: #0000ff; text-decoration-color: #0000ff\">:</span><span style=\"color: #00ff00; text-decoration-color: #00ff00; font-style: italic\">ezpz.log</span>]<span style=\"color: #c0c0c0; text-decoration-color: #c0c0c0\"> </span>took: <span style=\"color: #008080; text-decoration-color: #008080; font-weight: bold\">0.</span>8133s\n",
              "</pre>\n"
            ]
          },
          "metadata": {}
        },
        {
          "output_type": "display_data",
          "data": {
            "text/plain": [
              "[\u001b[2m2025-07-23 \u001b[0m\u001b[2m17:15:18,242822\u001b[0m][\u001b[32mI\u001b[0m][\u001b[3;36mtmp\u001b[0m/\u001b[34mipython-input-10-1425179755\u001b[0m\u001b[94m:\u001b[0m\u001b[35m13\u001b[0m\u001b[94m:\u001b[0m\u001b[3;92mezpz.log\u001b[0m]\u001b[37m \u001b[0m\u001b[95m[\u001b[0m\u001b[32m'prompt'\u001b[0m\u001b[95m]\u001b[0m: \u001b[32m'What is an LLM?'\u001b[0m\n"
            ],
            "text/html": [
              "<pre style=\"white-space:pre;overflow-x:auto;line-height:normal;font-family:Menlo,'DejaVu Sans Mono',consolas,'Courier New',monospace\">[<span style=\"color: #7f7f7f; text-decoration-color: #7f7f7f\">2025-07-23 17:15:18,242822</span>][<span style=\"color: #008000; text-decoration-color: #008000\">I</span>][<span style=\"color: #008080; text-decoration-color: #008080; font-style: italic\">tmp</span>/<span style=\"color: #000080; text-decoration-color: #000080\">ipython-input-10-1425179755</span><span style=\"color: #0000ff; text-decoration-color: #0000ff\">:</span><span style=\"color: #800080; text-decoration-color: #800080\">13</span><span style=\"color: #0000ff; text-decoration-color: #0000ff\">:</span><span style=\"color: #00ff00; text-decoration-color: #00ff00; font-style: italic\">ezpz.log</span>]<span style=\"color: #c0c0c0; text-decoration-color: #c0c0c0\"> </span><span style=\"color: #ff00ff; text-decoration-color: #ff00ff\">[</span><span style=\"color: #008000; text-decoration-color: #008000\">'prompt'</span><span style=\"color: #ff00ff; text-decoration-color: #ff00ff\">]</span>: <span style=\"color: #008000; text-decoration-color: #008000\">'What is an LLM?'</span>\n",
              "</pre>\n"
            ]
          },
          "metadata": {}
        },
        {
          "output_type": "display_data",
          "data": {
            "text/plain": [
              "[\u001b[2m2025-07-23 \u001b[0m\u001b[2m17:15:18,245933\u001b[0m][\u001b[32mI\u001b[0m][\u001b[3;36mtmp\u001b[0m/\u001b[34mipython-input-10-1425179755\u001b[0m\u001b[94m:\u001b[0m\u001b[35m14\u001b[0m\u001b[94m:\u001b[0m\u001b[3;92mezpz.log\u001b[0m]\u001b[37m \u001b[0m\u001b[95m[\u001b[0m\u001b[32m'response'\u001b[0m\u001b[95m]\u001b[0m:\n",
              "\n",
              "What is an LLM? burthilio s in o th twiser mbalilis ar sis alincore tt t mes mpresofo m whe hary ht ourighothast omy pomithe d?\n",
              "\n",
              "\n",
              "\n",
              "\n",
              "Bu le wie IUTore ll ishath tes d fr irme nco s f maksere,\n",
              "IAn he ise wicouss s, areatath meangre the, my hare wis pay toth laut athe s,\n",
              "Ano\n"
            ],
            "text/html": [
              "<pre style=\"white-space:pre;overflow-x:auto;line-height:normal;font-family:Menlo,'DejaVu Sans Mono',consolas,'Courier New',monospace\">[<span style=\"color: #7f7f7f; text-decoration-color: #7f7f7f\">2025-07-23 17:15:18,245933</span>][<span style=\"color: #008000; text-decoration-color: #008000\">I</span>][<span style=\"color: #008080; text-decoration-color: #008080; font-style: italic\">tmp</span>/<span style=\"color: #000080; text-decoration-color: #000080\">ipython-input-10-1425179755</span><span style=\"color: #0000ff; text-decoration-color: #0000ff\">:</span><span style=\"color: #800080; text-decoration-color: #800080\">14</span><span style=\"color: #0000ff; text-decoration-color: #0000ff\">:</span><span style=\"color: #00ff00; text-decoration-color: #00ff00; font-style: italic\">ezpz.log</span>]<span style=\"color: #c0c0c0; text-decoration-color: #c0c0c0\"> </span><span style=\"color: #ff00ff; text-decoration-color: #ff00ff\">[</span><span style=\"color: #008000; text-decoration-color: #008000\">'response'</span><span style=\"color: #ff00ff; text-decoration-color: #ff00ff\">]</span>:\n",
              "\n",
              "What is an LLM? burthilio s in o th twiser mbalilis ar sis alincore tt t mes mpresofo m whe hary ht ourighothast omy pomithe d?\n",
              "\n",
              "\n",
              "\n",
              "\n",
              "Bu le wie IUTore ll ishath tes d fr irme nco s f maksere,\n",
              "IAn he ise wicouss s, areatath meangre the, my hare wis pay toth laut athe s,\n",
              "Ano\n",
              "</pre>\n"
            ]
          },
          "metadata": {}
        }
      ],
      "source": [
        "import time\n",
        "\n",
        "query = \"What is an LLM?\"\n",
        "t0 = time.perf_counter()\n",
        "outputs = trainer.evaluate(\n",
        "    query,\n",
        "    num_samples=1,\n",
        "    max_new_tokens=256,\n",
        "    top_k=16,\n",
        "    display=False\n",
        ")\n",
        "logger.info(f'took: {time.perf_counter() - t0:.4f}s')\n",
        "logger.info(f\"['prompt']: '{query}'\")\n",
        "logger.info(\"['response']:\\n\\n\" + fr\"{outputs['0']['raw']}\")"
      ],
      "id": "382c81b1"
    },
    {
      "cell_type": "markdown",
      "metadata": {
        "id": "02920905-7146-426b-aed7-fa9453d727e1"
      },
      "source": [
        "## Resume Training…"
      ],
      "id": "02920905-7146-426b-aed7-fa9453d727e1"
    },
    {
      "cell_type": "code",
      "execution_count": 11,
      "metadata": {
        "quarto-private-1": {
          "key": "colab",
          "value": {
            "base_uri": "https://localhost:8080/",
            "height": 832
          }
        },
        "id": "d28ce9bf",
        "outputId": "dbbc1339-9673-4c62-abee-07f02a9c0b0a",
        "colab": {
          "base_uri": "https://localhost:8080/",
          "height": 1000
        }
      },
      "outputs": [
        {
          "output_type": "display_data",
          "data": {
            "text/plain": [
              "[\u001b[2m2025-07-23 \u001b[0m\u001b[2m17:15:19,128023\u001b[0m][\u001b[32mI\u001b[0m][\u001b[3;36mwordplay\u001b[0m/\u001b[34mtrainer\u001b[0m\u001b[94m:\u001b[0m\u001b[35m827\u001b[0m]\u001b[37m \u001b[0m\u001b[95m[\u001b[0m\u001b[32m'prompt'\u001b[0m\u001b[95m]\u001b[0m: \u001b[32m'What is an LLM?'\u001b[0m\n"
            ],
            "text/html": [
              "<pre style=\"white-space:pre;overflow-x:auto;line-height:normal;font-family:Menlo,'DejaVu Sans Mono',consolas,'Courier New',monospace\">[<span style=\"color: #7f7f7f; text-decoration-color: #7f7f7f\">2025-07-23 17:15:19,128023</span>][<span style=\"color: #008000; text-decoration-color: #008000\">I</span>][<span style=\"color: #008080; text-decoration-color: #008080; font-style: italic\">wordplay</span>/<span style=\"color: #000080; text-decoration-color: #000080\">trainer</span><span style=\"color: #0000ff; text-decoration-color: #0000ff\">:</span><span style=\"color: #800080; text-decoration-color: #800080\">827</span>]<span style=\"color: #c0c0c0; text-decoration-color: #c0c0c0\"> </span><span style=\"color: #ff00ff; text-decoration-color: #ff00ff\">[</span><span style=\"color: #008000; text-decoration-color: #008000\">'prompt'</span><span style=\"color: #ff00ff; text-decoration-color: #ff00ff\">]</span>: <span style=\"color: #008000; text-decoration-color: #008000\">'What is an LLM?'</span>\n",
              "</pre>\n"
            ]
          },
          "metadata": {}
        },
        {
          "output_type": "display_data",
          "data": {
            "text/plain": [
              "[\u001b[2m2025-07-23 \u001b[0m\u001b[2m17:15:19,129812\u001b[0m][\u001b[32mI\u001b[0m][\u001b[3;36mwordplay\u001b[0m/\u001b[34mtrainer\u001b[0m\u001b[94m:\u001b[0m\u001b[35m831\u001b[0m]\u001b[37m \u001b[0m\u001b[95m[\u001b[0m\u001b[32m'response'\u001b[0m\u001b[95m]\u001b[0m:\n",
              "\n",
              "What is an LLM?\n",
              "\n",
              "POOSTOLENETES:\n",
              "INIONEO: oft ffan yo pe hous tor ce me s here serste buthe he ase he\n",
              "\n",
              "\n",
              "NENIO:\n",
              "Whe arallin hatithofoull the, fousencay yont paris.\n",
              "PENTER:\n",
              "An o, that s f lllle ishan be be acer se war tha pe iopre is ore nckat, me my?\n",
              "\n",
              "WI tofifre he llly po\n"
            ],
            "text/html": [
              "<pre style=\"white-space:pre;overflow-x:auto;line-height:normal;font-family:Menlo,'DejaVu Sans Mono',consolas,'Courier New',monospace\">[<span style=\"color: #7f7f7f; text-decoration-color: #7f7f7f\">2025-07-23 17:15:19,129812</span>][<span style=\"color: #008000; text-decoration-color: #008000\">I</span>][<span style=\"color: #008080; text-decoration-color: #008080; font-style: italic\">wordplay</span>/<span style=\"color: #000080; text-decoration-color: #000080\">trainer</span><span style=\"color: #0000ff; text-decoration-color: #0000ff\">:</span><span style=\"color: #800080; text-decoration-color: #800080\">831</span>]<span style=\"color: #c0c0c0; text-decoration-color: #c0c0c0\"> </span><span style=\"color: #ff00ff; text-decoration-color: #ff00ff\">[</span><span style=\"color: #008000; text-decoration-color: #008000\">'response'</span><span style=\"color: #ff00ff; text-decoration-color: #ff00ff\">]</span>:\n",
              "\n",
              "What is an LLM?\n",
              "\n",
              "POOSTOLENETES:\n",
              "INIONEO: oft ffan yo pe hous tor ce me s here serste buthe he ase he\n",
              "\n",
              "\n",
              "NENIO:\n",
              "Whe arallin hatithofoull the, fousencay yont paris.\n",
              "PENTER:\n",
              "An o, that s f lllle ishan be be acer se war tha pe iopre is ore nckat, me my?\n",
              "\n",
              "WI tofifre he llly po\n",
              "</pre>\n"
            ]
          },
          "metadata": {}
        },
        {
          "output_type": "display_data",
          "data": {
            "text/plain": [
              "[\u001b[2m2025-07-23 \u001b[0m\u001b[2m17:16:16,858986\u001b[0m][\u001b[32mI\u001b[0m][\u001b[3;36mwordplay\u001b[0m/\u001b[34mtrainer\u001b[0m\u001b[94m:\u001b[0m\u001b[35m762\u001b[0m]\u001b[37m \u001b[0mSaving checkpoint to: \u001b[35m/\u001b[0m\u001b[95mcontent\u001b[0m\n"
            ],
            "text/html": [
              "<pre style=\"white-space:pre;overflow-x:auto;line-height:normal;font-family:Menlo,'DejaVu Sans Mono',consolas,'Courier New',monospace\">[<span style=\"color: #7f7f7f; text-decoration-color: #7f7f7f\">2025-07-23 17:16:16,858986</span>][<span style=\"color: #008000; text-decoration-color: #008000\">I</span>][<span style=\"color: #008080; text-decoration-color: #008080; font-style: italic\">wordplay</span>/<span style=\"color: #000080; text-decoration-color: #000080\">trainer</span><span style=\"color: #0000ff; text-decoration-color: #0000ff\">:</span><span style=\"color: #800080; text-decoration-color: #800080\">762</span>]<span style=\"color: #c0c0c0; text-decoration-color: #c0c0c0\"> </span>Saving checkpoint to: <span style=\"color: #800080; text-decoration-color: #800080\">/</span><span style=\"color: #ff00ff; text-decoration-color: #ff00ff\">content</span>\n",
              "</pre>\n"
            ]
          },
          "metadata": {}
        },
        {
          "output_type": "display_data",
          "data": {
            "text/plain": [
              "[\u001b[2m2025-07-23 \u001b[0m\u001b[2m17:16:16,861272\u001b[0m][\u001b[32mI\u001b[0m][\u001b[3;36mwordplay\u001b[0m/\u001b[34mtrainer\u001b[0m\u001b[94m:\u001b[0m\u001b[35m763\u001b[0m]\u001b[37m \u001b[0mSaving model to: \u001b[35m/content/\u001b[0m\u001b[95mmodel.pth\u001b[0m\n"
            ],
            "text/html": [
              "<pre style=\"white-space:pre;overflow-x:auto;line-height:normal;font-family:Menlo,'DejaVu Sans Mono',consolas,'Courier New',monospace\">[<span style=\"color: #7f7f7f; text-decoration-color: #7f7f7f\">2025-07-23 17:16:16,861272</span>][<span style=\"color: #008000; text-decoration-color: #008000\">I</span>][<span style=\"color: #008080; text-decoration-color: #008080; font-style: italic\">wordplay</span>/<span style=\"color: #000080; text-decoration-color: #000080\">trainer</span><span style=\"color: #0000ff; text-decoration-color: #0000ff\">:</span><span style=\"color: #800080; text-decoration-color: #800080\">763</span>]<span style=\"color: #c0c0c0; text-decoration-color: #c0c0c0\"> </span>Saving model to: <span style=\"color: #800080; text-decoration-color: #800080\">/content/</span><span style=\"color: #ff00ff; text-decoration-color: #ff00ff\">model.pth</span>\n",
              "</pre>\n"
            ]
          },
          "metadata": {}
        },
        {
          "output_type": "display_data",
          "data": {
            "text/plain": [
              "[\u001b[2m2025-07-23 \u001b[0m\u001b[2m17:16:17,190207\u001b[0m][\u001b[32mI\u001b[0m][\u001b[3;36mwordplay\u001b[0m/\u001b[34mconfigs\u001b[0m\u001b[94m:\u001b[0m\u001b[35m141\u001b[0m]\u001b[37m \u001b[0mAppending \u001b[35m/\u001b[0m\u001b[95mcontent\u001b[0m to \u001b[35m/content/wordplay/src/ckpts/\u001b[0m\u001b[95mcheckpoints.log\u001b[0m\n"
            ],
            "text/html": [
              "<pre style=\"white-space:pre;overflow-x:auto;line-height:normal;font-family:Menlo,'DejaVu Sans Mono',consolas,'Courier New',monospace\">[<span style=\"color: #7f7f7f; text-decoration-color: #7f7f7f\">2025-07-23 17:16:17,190207</span>][<span style=\"color: #008000; text-decoration-color: #008000\">I</span>][<span style=\"color: #008080; text-decoration-color: #008080; font-style: italic\">wordplay</span>/<span style=\"color: #000080; text-decoration-color: #000080\">configs</span><span style=\"color: #0000ff; text-decoration-color: #0000ff\">:</span><span style=\"color: #800080; text-decoration-color: #800080\">141</span>]<span style=\"color: #c0c0c0; text-decoration-color: #c0c0c0\"> </span>Appending <span style=\"color: #800080; text-decoration-color: #800080\">/</span><span style=\"color: #ff00ff; text-decoration-color: #ff00ff\">content</span> to <span style=\"color: #800080; text-decoration-color: #800080\">/content/wordplay/src/ckpts/</span><span style=\"color: #ff00ff; text-decoration-color: #ff00ff\">checkpoints.log</span>\n",
              "</pre>\n"
            ]
          },
          "metadata": {}
        },
        {
          "output_type": "display_data",
          "data": {
            "text/plain": [
              "[\u001b[2m2025-07-23 \u001b[0m\u001b[2m17:16:21,016363\u001b[0m][\u001b[32mI\u001b[0m][\u001b[3;36mwordplay\u001b[0m/\u001b[34mtrainer\u001b[0m\u001b[94m:\u001b[0m\u001b[35m894\u001b[0m]\u001b[37m \u001b[0m\u001b[94mstep\u001b[0m=\u001b[1;36m510\u001b[0m \u001b[94mloss\u001b[0m=\u001b[1;36m2\u001b[0m\u001b[1;36m.46165\u001b[0m \u001b[94mdt\u001b[0m=\u001b[1;36m0\u001b[0m\u001b[1;36m.380989\u001b[0m \u001b[94mdtf\u001b[0m=\u001b[1;36m0\u001b[0m\u001b[1;36m.00765307\u001b[0m \u001b[94mdtb\u001b[0m=\u001b[1;36m0\u001b[0m\u001b[1;36m.0102919\u001b[0m \u001b[94msps\u001b[0m=\u001b[1;36m2\u001b[0m\u001b[1;36m.62475\u001b[0m \u001b[94msps_per_gpu\u001b[0m=\u001b[1;36m2\u001b[0m\u001b[1;36m.62475\u001b[0m \u001b[94mtps\u001b[0m=\u001b[1;36m21502\u001b[0m \u001b[94mtps_per_gpu\u001b[0m=\u001b[1;36m21502\u001b[0m \u001b[94mmfu\u001b[0m=\u001b[1;36m0\u001b[0m\u001b[1;36m.635357\u001b[0m\n"
            ],
            "text/html": [
              "<pre style=\"white-space:pre;overflow-x:auto;line-height:normal;font-family:Menlo,'DejaVu Sans Mono',consolas,'Courier New',monospace\">[<span style=\"color: #7f7f7f; text-decoration-color: #7f7f7f\">2025-07-23 17:16:21,016363</span>][<span style=\"color: #008000; text-decoration-color: #008000\">I</span>][<span style=\"color: #008080; text-decoration-color: #008080; font-style: italic\">wordplay</span>/<span style=\"color: #000080; text-decoration-color: #000080\">trainer</span><span style=\"color: #0000ff; text-decoration-color: #0000ff\">:</span><span style=\"color: #800080; text-decoration-color: #800080\">894</span>]<span style=\"color: #c0c0c0; text-decoration-color: #c0c0c0\"> </span><span style=\"color: #0000ff; text-decoration-color: #0000ff\">step</span>=<span style=\"color: #008080; text-decoration-color: #008080; font-weight: bold\">510</span> <span style=\"color: #0000ff; text-decoration-color: #0000ff\">loss</span>=<span style=\"color: #008080; text-decoration-color: #008080; font-weight: bold\">2.46165</span> <span style=\"color: #0000ff; text-decoration-color: #0000ff\">dt</span>=<span style=\"color: #008080; text-decoration-color: #008080; font-weight: bold\">0.380989</span> <span style=\"color: #0000ff; text-decoration-color: #0000ff\">dtf</span>=<span style=\"color: #008080; text-decoration-color: #008080; font-weight: bold\">0.00765307</span> <span style=\"color: #0000ff; text-decoration-color: #0000ff\">dtb</span>=<span style=\"color: #008080; text-decoration-color: #008080; font-weight: bold\">0.0102919</span> <span style=\"color: #0000ff; text-decoration-color: #0000ff\">sps</span>=<span style=\"color: #008080; text-decoration-color: #008080; font-weight: bold\">2.62475</span> <span style=\"color: #0000ff; text-decoration-color: #0000ff\">sps_per_gpu</span>=<span style=\"color: #008080; text-decoration-color: #008080; font-weight: bold\">2.62475</span> <span style=\"color: #0000ff; text-decoration-color: #0000ff\">tps</span>=<span style=\"color: #008080; text-decoration-color: #008080; font-weight: bold\">21502</span> <span style=\"color: #0000ff; text-decoration-color: #0000ff\">tps_per_gpu</span>=<span style=\"color: #008080; text-decoration-color: #008080; font-weight: bold\">21502</span> <span style=\"color: #0000ff; text-decoration-color: #0000ff\">mfu</span>=<span style=\"color: #008080; text-decoration-color: #008080; font-weight: bold\">0.635357</span>\n",
              "</pre>\n"
            ]
          },
          "metadata": {}
        },
        {
          "output_type": "display_data",
          "data": {
            "text/plain": [
              "[\u001b[2m2025-07-23 \u001b[0m\u001b[2m17:16:24,851610\u001b[0m][\u001b[32mI\u001b[0m][\u001b[3;36mwordplay\u001b[0m/\u001b[34mtrainer\u001b[0m\u001b[94m:\u001b[0m\u001b[35m894\u001b[0m]\u001b[37m \u001b[0m\u001b[94mstep\u001b[0m=\u001b[1;36m520\u001b[0m \u001b[94mloss\u001b[0m=\u001b[1;36m2\u001b[0m\u001b[1;36m.44981\u001b[0m \u001b[94mdt\u001b[0m=\u001b[1;36m0\u001b[0m\u001b[1;36m.383659\u001b[0m \u001b[94mdtf\u001b[0m=\u001b[1;36m0\u001b[0m\u001b[1;36m.00791765\u001b[0m \u001b[94mdtb\u001b[0m=\u001b[1;36m0\u001b[0m\u001b[1;36m.0103253\u001b[0m \u001b[94msps\u001b[0m=\u001b[1;36m2\u001b[0m\u001b[1;36m.60648\u001b[0m \u001b[94msps_per_gpu\u001b[0m=\u001b[1;36m2\u001b[0m\u001b[1;36m.60648\u001b[0m \u001b[94mtps\u001b[0m=\u001b[1;36m21352\u001b[0m\u001b[1;36m.3\u001b[0m \u001b[94mtps_per_gpu\u001b[0m=\u001b[1;36m21352\u001b[0m\u001b[1;36m.3\u001b[0m \u001b[94mmfu\u001b[0m=\u001b[1;36m0\u001b[0m\u001b[1;36m.634915\u001b[0m\n"
            ],
            "text/html": [
              "<pre style=\"white-space:pre;overflow-x:auto;line-height:normal;font-family:Menlo,'DejaVu Sans Mono',consolas,'Courier New',monospace\">[<span style=\"color: #7f7f7f; text-decoration-color: #7f7f7f\">2025-07-23 17:16:24,851610</span>][<span style=\"color: #008000; text-decoration-color: #008000\">I</span>][<span style=\"color: #008080; text-decoration-color: #008080; font-style: italic\">wordplay</span>/<span style=\"color: #000080; text-decoration-color: #000080\">trainer</span><span style=\"color: #0000ff; text-decoration-color: #0000ff\">:</span><span style=\"color: #800080; text-decoration-color: #800080\">894</span>]<span style=\"color: #c0c0c0; text-decoration-color: #c0c0c0\"> </span><span style=\"color: #0000ff; text-decoration-color: #0000ff\">step</span>=<span style=\"color: #008080; text-decoration-color: #008080; font-weight: bold\">520</span> <span style=\"color: #0000ff; text-decoration-color: #0000ff\">loss</span>=<span style=\"color: #008080; text-decoration-color: #008080; font-weight: bold\">2.44981</span> <span style=\"color: #0000ff; text-decoration-color: #0000ff\">dt</span>=<span style=\"color: #008080; text-decoration-color: #008080; font-weight: bold\">0.383659</span> <span style=\"color: #0000ff; text-decoration-color: #0000ff\">dtf</span>=<span style=\"color: #008080; text-decoration-color: #008080; font-weight: bold\">0.00791765</span> <span style=\"color: #0000ff; text-decoration-color: #0000ff\">dtb</span>=<span style=\"color: #008080; text-decoration-color: #008080; font-weight: bold\">0.0103253</span> <span style=\"color: #0000ff; text-decoration-color: #0000ff\">sps</span>=<span style=\"color: #008080; text-decoration-color: #008080; font-weight: bold\">2.60648</span> <span style=\"color: #0000ff; text-decoration-color: #0000ff\">sps_per_gpu</span>=<span style=\"color: #008080; text-decoration-color: #008080; font-weight: bold\">2.60648</span> <span style=\"color: #0000ff; text-decoration-color: #0000ff\">tps</span>=<span style=\"color: #008080; text-decoration-color: #008080; font-weight: bold\">21352.3</span> <span style=\"color: #0000ff; text-decoration-color: #0000ff\">tps_per_gpu</span>=<span style=\"color: #008080; text-decoration-color: #008080; font-weight: bold\">21352.3</span> <span style=\"color: #0000ff; text-decoration-color: #0000ff\">mfu</span>=<span style=\"color: #008080; text-decoration-color: #008080; font-weight: bold\">0.634915</span>\n",
              "</pre>\n"
            ]
          },
          "metadata": {}
        },
        {
          "output_type": "display_data",
          "data": {
            "text/plain": [
              "[\u001b[2m2025-07-23 \u001b[0m\u001b[2m17:16:28,687465\u001b[0m][\u001b[32mI\u001b[0m][\u001b[3;36mwordplay\u001b[0m/\u001b[34mtrainer\u001b[0m\u001b[94m:\u001b[0m\u001b[35m894\u001b[0m]\u001b[37m \u001b[0m\u001b[94mstep\u001b[0m=\u001b[1;36m530\u001b[0m \u001b[94mloss\u001b[0m=\u001b[1;36m2\u001b[0m\u001b[1;36m.45632\u001b[0m \u001b[94mdt\u001b[0m=\u001b[1;36m0\u001b[0m\u001b[1;36m.388874\u001b[0m \u001b[94mdtf\u001b[0m=\u001b[1;36m0\u001b[0m\u001b[1;36m.01204\u001b[0m \u001b[94mdtb\u001b[0m=\u001b[1;36m0\u001b[0m\u001b[1;36m.0159266\u001b[0m \u001b[94msps\u001b[0m=\u001b[1;36m2\u001b[0m\u001b[1;36m.57153\u001b[0m \u001b[94msps_per_gpu\u001b[0m=\u001b[1;36m2\u001b[0m\u001b[1;36m.57153\u001b[0m \u001b[94mtps\u001b[0m=\u001b[1;36m21066\u001b[0m \u001b[94mtps_per_gpu\u001b[0m=\u001b[1;36m21066\u001b[0m \u001b[94mmfu\u001b[0m=\u001b[1;36m0\u001b[0m\u001b[1;36m.633671\u001b[0m\n"
            ],
            "text/html": [
              "<pre style=\"white-space:pre;overflow-x:auto;line-height:normal;font-family:Menlo,'DejaVu Sans Mono',consolas,'Courier New',monospace\">[<span style=\"color: #7f7f7f; text-decoration-color: #7f7f7f\">2025-07-23 17:16:28,687465</span>][<span style=\"color: #008000; text-decoration-color: #008000\">I</span>][<span style=\"color: #008080; text-decoration-color: #008080; font-style: italic\">wordplay</span>/<span style=\"color: #000080; text-decoration-color: #000080\">trainer</span><span style=\"color: #0000ff; text-decoration-color: #0000ff\">:</span><span style=\"color: #800080; text-decoration-color: #800080\">894</span>]<span style=\"color: #c0c0c0; text-decoration-color: #c0c0c0\"> </span><span style=\"color: #0000ff; text-decoration-color: #0000ff\">step</span>=<span style=\"color: #008080; text-decoration-color: #008080; font-weight: bold\">530</span> <span style=\"color: #0000ff; text-decoration-color: #0000ff\">loss</span>=<span style=\"color: #008080; text-decoration-color: #008080; font-weight: bold\">2.45632</span> <span style=\"color: #0000ff; text-decoration-color: #0000ff\">dt</span>=<span style=\"color: #008080; text-decoration-color: #008080; font-weight: bold\">0.388874</span> <span style=\"color: #0000ff; text-decoration-color: #0000ff\">dtf</span>=<span style=\"color: #008080; text-decoration-color: #008080; font-weight: bold\">0.01204</span> <span style=\"color: #0000ff; text-decoration-color: #0000ff\">dtb</span>=<span style=\"color: #008080; text-decoration-color: #008080; font-weight: bold\">0.0159266</span> <span style=\"color: #0000ff; text-decoration-color: #0000ff\">sps</span>=<span style=\"color: #008080; text-decoration-color: #008080; font-weight: bold\">2.57153</span> <span style=\"color: #0000ff; text-decoration-color: #0000ff\">sps_per_gpu</span>=<span style=\"color: #008080; text-decoration-color: #008080; font-weight: bold\">2.57153</span> <span style=\"color: #0000ff; text-decoration-color: #0000ff\">tps</span>=<span style=\"color: #008080; text-decoration-color: #008080; font-weight: bold\">21066</span> <span style=\"color: #0000ff; text-decoration-color: #0000ff\">tps_per_gpu</span>=<span style=\"color: #008080; text-decoration-color: #008080; font-weight: bold\">21066</span> <span style=\"color: #0000ff; text-decoration-color: #0000ff\">mfu</span>=<span style=\"color: #008080; text-decoration-color: #008080; font-weight: bold\">0.633671</span>\n",
              "</pre>\n"
            ]
          },
          "metadata": {}
        },
        {
          "output_type": "display_data",
          "data": {
            "text/plain": [
              "[\u001b[2m2025-07-23 \u001b[0m\u001b[2m17:16:32,526883\u001b[0m][\u001b[32mI\u001b[0m][\u001b[3;36mwordplay\u001b[0m/\u001b[34mtrainer\u001b[0m\u001b[94m:\u001b[0m\u001b[35m894\u001b[0m]\u001b[37m \u001b[0m\u001b[94mstep\u001b[0m=\u001b[1;36m540\u001b[0m \u001b[94mloss\u001b[0m=\u001b[1;36m2\u001b[0m\u001b[1;36m.45869\u001b[0m \u001b[94mdt\u001b[0m=\u001b[1;36m0\u001b[0m\u001b[1;36m.38549\u001b[0m \u001b[94mdtf\u001b[0m=\u001b[1;36m0\u001b[0m\u001b[1;36m.00823117\u001b[0m \u001b[94mdtb\u001b[0m=\u001b[1;36m0\u001b[0m\u001b[1;36m.0103854\u001b[0m \u001b[94msps\u001b[0m=\u001b[1;36m2\u001b[0m\u001b[1;36m.5941\u001b[0m \u001b[94msps_per_gpu\u001b[0m=\u001b[1;36m2\u001b[0m\u001b[1;36m.5941\u001b[0m \u001b[94mtps\u001b[0m=\u001b[1;36m21250\u001b[0m\u001b[1;36m.9\u001b[0m \u001b[94mtps_per_gpu\u001b[0m=\u001b[1;36m21250\u001b[0m\u001b[1;36m.9\u001b[0m \u001b[94mmfu\u001b[0m=\u001b[1;36m0\u001b[0m\u001b[1;36m.633098\u001b[0m\n"
            ],
            "text/html": [
              "<pre style=\"white-space:pre;overflow-x:auto;line-height:normal;font-family:Menlo,'DejaVu Sans Mono',consolas,'Courier New',monospace\">[<span style=\"color: #7f7f7f; text-decoration-color: #7f7f7f\">2025-07-23 17:16:32,526883</span>][<span style=\"color: #008000; text-decoration-color: #008000\">I</span>][<span style=\"color: #008080; text-decoration-color: #008080; font-style: italic\">wordplay</span>/<span style=\"color: #000080; text-decoration-color: #000080\">trainer</span><span style=\"color: #0000ff; text-decoration-color: #0000ff\">:</span><span style=\"color: #800080; text-decoration-color: #800080\">894</span>]<span style=\"color: #c0c0c0; text-decoration-color: #c0c0c0\"> </span><span style=\"color: #0000ff; text-decoration-color: #0000ff\">step</span>=<span style=\"color: #008080; text-decoration-color: #008080; font-weight: bold\">540</span> <span style=\"color: #0000ff; text-decoration-color: #0000ff\">loss</span>=<span style=\"color: #008080; text-decoration-color: #008080; font-weight: bold\">2.45869</span> <span style=\"color: #0000ff; text-decoration-color: #0000ff\">dt</span>=<span style=\"color: #008080; text-decoration-color: #008080; font-weight: bold\">0.38549</span> <span style=\"color: #0000ff; text-decoration-color: #0000ff\">dtf</span>=<span style=\"color: #008080; text-decoration-color: #008080; font-weight: bold\">0.00823117</span> <span style=\"color: #0000ff; text-decoration-color: #0000ff\">dtb</span>=<span style=\"color: #008080; text-decoration-color: #008080; font-weight: bold\">0.0103854</span> <span style=\"color: #0000ff; text-decoration-color: #0000ff\">sps</span>=<span style=\"color: #008080; text-decoration-color: #008080; font-weight: bold\">2.5941</span> <span style=\"color: #0000ff; text-decoration-color: #0000ff\">sps_per_gpu</span>=<span style=\"color: #008080; text-decoration-color: #008080; font-weight: bold\">2.5941</span> <span style=\"color: #0000ff; text-decoration-color: #0000ff\">tps</span>=<span style=\"color: #008080; text-decoration-color: #008080; font-weight: bold\">21250.9</span> <span style=\"color: #0000ff; text-decoration-color: #0000ff\">tps_per_gpu</span>=<span style=\"color: #008080; text-decoration-color: #008080; font-weight: bold\">21250.9</span> <span style=\"color: #0000ff; text-decoration-color: #0000ff\">mfu</span>=<span style=\"color: #008080; text-decoration-color: #008080; font-weight: bold\">0.633098</span>\n",
              "</pre>\n"
            ]
          },
          "metadata": {}
        },
        {
          "output_type": "display_data",
          "data": {
            "text/plain": [
              "[\u001b[2m2025-07-23 \u001b[0m\u001b[2m17:16:36,360809\u001b[0m][\u001b[32mI\u001b[0m][\u001b[3;36mwordplay\u001b[0m/\u001b[34mtrainer\u001b[0m\u001b[94m:\u001b[0m\u001b[35m894\u001b[0m]\u001b[37m \u001b[0m\u001b[94mstep\u001b[0m=\u001b[1;36m550\u001b[0m \u001b[94mloss\u001b[0m=\u001b[1;36m2\u001b[0m\u001b[1;36m.44677\u001b[0m \u001b[94mdt\u001b[0m=\u001b[1;36m0\u001b[0m\u001b[1;36m.385398\u001b[0m \u001b[94mdtf\u001b[0m=\u001b[1;36m0\u001b[0m\u001b[1;36m.00789234\u001b[0m \u001b[94mdtb\u001b[0m=\u001b[1;36m0\u001b[0m\u001b[1;36m.0121862\u001b[0m \u001b[94msps\u001b[0m=\u001b[1;36m2\u001b[0m\u001b[1;36m.59472\u001b[0m \u001b[94msps_per_gpu\u001b[0m=\u001b[1;36m2\u001b[0m\u001b[1;36m.59472\u001b[0m \u001b[94mtps\u001b[0m=\u001b[1;36m21256\u001b[0m \u001b[94mtps_per_gpu\u001b[0m=\u001b[1;36m21256\u001b[0m \u001b[94mmfu\u001b[0m=\u001b[1;36m0\u001b[0m\u001b[1;36m.632597\u001b[0m\n"
            ],
            "text/html": [
              "<pre style=\"white-space:pre;overflow-x:auto;line-height:normal;font-family:Menlo,'DejaVu Sans Mono',consolas,'Courier New',monospace\">[<span style=\"color: #7f7f7f; text-decoration-color: #7f7f7f\">2025-07-23 17:16:36,360809</span>][<span style=\"color: #008000; text-decoration-color: #008000\">I</span>][<span style=\"color: #008080; text-decoration-color: #008080; font-style: italic\">wordplay</span>/<span style=\"color: #000080; text-decoration-color: #000080\">trainer</span><span style=\"color: #0000ff; text-decoration-color: #0000ff\">:</span><span style=\"color: #800080; text-decoration-color: #800080\">894</span>]<span style=\"color: #c0c0c0; text-decoration-color: #c0c0c0\"> </span><span style=\"color: #0000ff; text-decoration-color: #0000ff\">step</span>=<span style=\"color: #008080; text-decoration-color: #008080; font-weight: bold\">550</span> <span style=\"color: #0000ff; text-decoration-color: #0000ff\">loss</span>=<span style=\"color: #008080; text-decoration-color: #008080; font-weight: bold\">2.44677</span> <span style=\"color: #0000ff; text-decoration-color: #0000ff\">dt</span>=<span style=\"color: #008080; text-decoration-color: #008080; font-weight: bold\">0.385398</span> <span style=\"color: #0000ff; text-decoration-color: #0000ff\">dtf</span>=<span style=\"color: #008080; text-decoration-color: #008080; font-weight: bold\">0.00789234</span> <span style=\"color: #0000ff; text-decoration-color: #0000ff\">dtb</span>=<span style=\"color: #008080; text-decoration-color: #008080; font-weight: bold\">0.0121862</span> <span style=\"color: #0000ff; text-decoration-color: #0000ff\">sps</span>=<span style=\"color: #008080; text-decoration-color: #008080; font-weight: bold\">2.59472</span> <span style=\"color: #0000ff; text-decoration-color: #0000ff\">sps_per_gpu</span>=<span style=\"color: #008080; text-decoration-color: #008080; font-weight: bold\">2.59472</span> <span style=\"color: #0000ff; text-decoration-color: #0000ff\">tps</span>=<span style=\"color: #008080; text-decoration-color: #008080; font-weight: bold\">21256</span> <span style=\"color: #0000ff; text-decoration-color: #0000ff\">tps_per_gpu</span>=<span style=\"color: #008080; text-decoration-color: #008080; font-weight: bold\">21256</span> <span style=\"color: #0000ff; text-decoration-color: #0000ff\">mfu</span>=<span style=\"color: #008080; text-decoration-color: #008080; font-weight: bold\">0.632597</span>\n",
              "</pre>\n"
            ]
          },
          "metadata": {}
        },
        {
          "output_type": "display_data",
          "data": {
            "text/plain": [
              "[\u001b[2m2025-07-23 \u001b[0m\u001b[2m17:16:40,195560\u001b[0m][\u001b[32mI\u001b[0m][\u001b[3;36mwordplay\u001b[0m/\u001b[34mtrainer\u001b[0m\u001b[94m:\u001b[0m\u001b[35m894\u001b[0m]\u001b[37m \u001b[0m\u001b[94mstep\u001b[0m=\u001b[1;36m560\u001b[0m \u001b[94mloss\u001b[0m=\u001b[1;36m2\u001b[0m\u001b[1;36m.43464\u001b[0m \u001b[94mdt\u001b[0m=\u001b[1;36m0\u001b[0m\u001b[1;36m.385434\u001b[0m \u001b[94mdtf\u001b[0m=\u001b[1;36m0\u001b[0m\u001b[1;36m.0106042\u001b[0m \u001b[94mdtb\u001b[0m=\u001b[1;36m0\u001b[0m\u001b[1;36m.0129227\u001b[0m \u001b[94msps\u001b[0m=\u001b[1;36m2\u001b[0m\u001b[1;36m.59448\u001b[0m \u001b[94msps_per_gpu\u001b[0m=\u001b[1;36m2\u001b[0m\u001b[1;36m.59448\u001b[0m \u001b[94mtps\u001b[0m=\u001b[1;36m21254\u001b[0m \u001b[94mtps_per_gpu\u001b[0m=\u001b[1;36m21254\u001b[0m \u001b[94mmfu\u001b[0m=\u001b[1;36m0\u001b[0m\u001b[1;36m.63214\u001b[0m\n"
            ],
            "text/html": [
              "<pre style=\"white-space:pre;overflow-x:auto;line-height:normal;font-family:Menlo,'DejaVu Sans Mono',consolas,'Courier New',monospace\">[<span style=\"color: #7f7f7f; text-decoration-color: #7f7f7f\">2025-07-23 17:16:40,195560</span>][<span style=\"color: #008000; text-decoration-color: #008000\">I</span>][<span style=\"color: #008080; text-decoration-color: #008080; font-style: italic\">wordplay</span>/<span style=\"color: #000080; text-decoration-color: #000080\">trainer</span><span style=\"color: #0000ff; text-decoration-color: #0000ff\">:</span><span style=\"color: #800080; text-decoration-color: #800080\">894</span>]<span style=\"color: #c0c0c0; text-decoration-color: #c0c0c0\"> </span><span style=\"color: #0000ff; text-decoration-color: #0000ff\">step</span>=<span style=\"color: #008080; text-decoration-color: #008080; font-weight: bold\">560</span> <span style=\"color: #0000ff; text-decoration-color: #0000ff\">loss</span>=<span style=\"color: #008080; text-decoration-color: #008080; font-weight: bold\">2.43464</span> <span style=\"color: #0000ff; text-decoration-color: #0000ff\">dt</span>=<span style=\"color: #008080; text-decoration-color: #008080; font-weight: bold\">0.385434</span> <span style=\"color: #0000ff; text-decoration-color: #0000ff\">dtf</span>=<span style=\"color: #008080; text-decoration-color: #008080; font-weight: bold\">0.0106042</span> <span style=\"color: #0000ff; text-decoration-color: #0000ff\">dtb</span>=<span style=\"color: #008080; text-decoration-color: #008080; font-weight: bold\">0.0129227</span> <span style=\"color: #0000ff; text-decoration-color: #0000ff\">sps</span>=<span style=\"color: #008080; text-decoration-color: #008080; font-weight: bold\">2.59448</span> <span style=\"color: #0000ff; text-decoration-color: #0000ff\">sps_per_gpu</span>=<span style=\"color: #008080; text-decoration-color: #008080; font-weight: bold\">2.59448</span> <span style=\"color: #0000ff; text-decoration-color: #0000ff\">tps</span>=<span style=\"color: #008080; text-decoration-color: #008080; font-weight: bold\">21254</span> <span style=\"color: #0000ff; text-decoration-color: #0000ff\">tps_per_gpu</span>=<span style=\"color: #008080; text-decoration-color: #008080; font-weight: bold\">21254</span> <span style=\"color: #0000ff; text-decoration-color: #0000ff\">mfu</span>=<span style=\"color: #008080; text-decoration-color: #008080; font-weight: bold\">0.63214</span>\n",
              "</pre>\n"
            ]
          },
          "metadata": {}
        },
        {
          "output_type": "display_data",
          "data": {
            "text/plain": [
              "[\u001b[2m2025-07-23 \u001b[0m\u001b[2m17:16:44,032374\u001b[0m][\u001b[32mI\u001b[0m][\u001b[3;36mwordplay\u001b[0m/\u001b[34mtrainer\u001b[0m\u001b[94m:\u001b[0m\u001b[35m894\u001b[0m]\u001b[37m \u001b[0m\u001b[94mstep\u001b[0m=\u001b[1;36m570\u001b[0m \u001b[94mloss\u001b[0m=\u001b[1;36m2\u001b[0m\u001b[1;36m.45685\u001b[0m \u001b[94mdt\u001b[0m=\u001b[1;36m0\u001b[0m\u001b[1;36m.382214\u001b[0m \u001b[94mdtf\u001b[0m=\u001b[1;36m0\u001b[0m\u001b[1;36m.00815606\u001b[0m \u001b[94mdtb\u001b[0m=\u001b[1;36m0\u001b[0m\u001b[1;36m.0103625\u001b[0m \u001b[94msps\u001b[0m=\u001b[1;36m2\u001b[0m\u001b[1;36m.61633\u001b[0m \u001b[94msps_per_gpu\u001b[0m=\u001b[1;36m2\u001b[0m\u001b[1;36m.61633\u001b[0m \u001b[94mtps\u001b[0m=\u001b[1;36m21433\u001b[0m \u001b[94mtps_per_gpu\u001b[0m=\u001b[1;36m21433\u001b[0m \u001b[94mmfu\u001b[0m=\u001b[1;36m0\u001b[0m\u001b[1;36m.632258\u001b[0m\n"
            ],
            "text/html": [
              "<pre style=\"white-space:pre;overflow-x:auto;line-height:normal;font-family:Menlo,'DejaVu Sans Mono',consolas,'Courier New',monospace\">[<span style=\"color: #7f7f7f; text-decoration-color: #7f7f7f\">2025-07-23 17:16:44,032374</span>][<span style=\"color: #008000; text-decoration-color: #008000\">I</span>][<span style=\"color: #008080; text-decoration-color: #008080; font-style: italic\">wordplay</span>/<span style=\"color: #000080; text-decoration-color: #000080\">trainer</span><span style=\"color: #0000ff; text-decoration-color: #0000ff\">:</span><span style=\"color: #800080; text-decoration-color: #800080\">894</span>]<span style=\"color: #c0c0c0; text-decoration-color: #c0c0c0\"> </span><span style=\"color: #0000ff; text-decoration-color: #0000ff\">step</span>=<span style=\"color: #008080; text-decoration-color: #008080; font-weight: bold\">570</span> <span style=\"color: #0000ff; text-decoration-color: #0000ff\">loss</span>=<span style=\"color: #008080; text-decoration-color: #008080; font-weight: bold\">2.45685</span> <span style=\"color: #0000ff; text-decoration-color: #0000ff\">dt</span>=<span style=\"color: #008080; text-decoration-color: #008080; font-weight: bold\">0.382214</span> <span style=\"color: #0000ff; text-decoration-color: #0000ff\">dtf</span>=<span style=\"color: #008080; text-decoration-color: #008080; font-weight: bold\">0.00815606</span> <span style=\"color: #0000ff; text-decoration-color: #0000ff\">dtb</span>=<span style=\"color: #008080; text-decoration-color: #008080; font-weight: bold\">0.0103625</span> <span style=\"color: #0000ff; text-decoration-color: #0000ff\">sps</span>=<span style=\"color: #008080; text-decoration-color: #008080; font-weight: bold\">2.61633</span> <span style=\"color: #0000ff; text-decoration-color: #0000ff\">sps_per_gpu</span>=<span style=\"color: #008080; text-decoration-color: #008080; font-weight: bold\">2.61633</span> <span style=\"color: #0000ff; text-decoration-color: #0000ff\">tps</span>=<span style=\"color: #008080; text-decoration-color: #008080; font-weight: bold\">21433</span> <span style=\"color: #0000ff; text-decoration-color: #0000ff\">tps_per_gpu</span>=<span style=\"color: #008080; text-decoration-color: #008080; font-weight: bold\">21433</span> <span style=\"color: #0000ff; text-decoration-color: #0000ff\">mfu</span>=<span style=\"color: #008080; text-decoration-color: #008080; font-weight: bold\">0.632258</span>\n",
              "</pre>\n"
            ]
          },
          "metadata": {}
        },
        {
          "output_type": "display_data",
          "data": {
            "text/plain": [
              "[\u001b[2m2025-07-23 \u001b[0m\u001b[2m17:16:47,866282\u001b[0m][\u001b[32mI\u001b[0m][\u001b[3;36mwordplay\u001b[0m/\u001b[34mtrainer\u001b[0m\u001b[94m:\u001b[0m\u001b[35m894\u001b[0m]\u001b[37m \u001b[0m\u001b[94mstep\u001b[0m=\u001b[1;36m580\u001b[0m \u001b[94mloss\u001b[0m=\u001b[1;36m2\u001b[0m\u001b[1;36m.42042\u001b[0m \u001b[94mdt\u001b[0m=\u001b[1;36m0\u001b[0m\u001b[1;36m.383891\u001b[0m \u001b[94mdtf\u001b[0m=\u001b[1;36m0\u001b[0m\u001b[1;36m.00803656\u001b[0m \u001b[94mdtb\u001b[0m=\u001b[1;36m0\u001b[0m\u001b[1;36m.010343\u001b[0m \u001b[94msps\u001b[0m=\u001b[1;36m2\u001b[0m\u001b[1;36m.60491\u001b[0m \u001b[94msps_per_gpu\u001b[0m=\u001b[1;36m2\u001b[0m\u001b[1;36m.60491\u001b[0m \u001b[94mtps\u001b[0m=\u001b[1;36m21339\u001b[0m\u001b[1;36m.4\u001b[0m \u001b[94mtps_per_gpu\u001b[0m=\u001b[1;36m21339\u001b[0m\u001b[1;36m.4\u001b[0m \u001b[94mmfu\u001b[0m=\u001b[1;36m0\u001b[0m\u001b[1;36m.632087\u001b[0m\n"
            ],
            "text/html": [
              "<pre style=\"white-space:pre;overflow-x:auto;line-height:normal;font-family:Menlo,'DejaVu Sans Mono',consolas,'Courier New',monospace\">[<span style=\"color: #7f7f7f; text-decoration-color: #7f7f7f\">2025-07-23 17:16:47,866282</span>][<span style=\"color: #008000; text-decoration-color: #008000\">I</span>][<span style=\"color: #008080; text-decoration-color: #008080; font-style: italic\">wordplay</span>/<span style=\"color: #000080; text-decoration-color: #000080\">trainer</span><span style=\"color: #0000ff; text-decoration-color: #0000ff\">:</span><span style=\"color: #800080; text-decoration-color: #800080\">894</span>]<span style=\"color: #c0c0c0; text-decoration-color: #c0c0c0\"> </span><span style=\"color: #0000ff; text-decoration-color: #0000ff\">step</span>=<span style=\"color: #008080; text-decoration-color: #008080; font-weight: bold\">580</span> <span style=\"color: #0000ff; text-decoration-color: #0000ff\">loss</span>=<span style=\"color: #008080; text-decoration-color: #008080; font-weight: bold\">2.42042</span> <span style=\"color: #0000ff; text-decoration-color: #0000ff\">dt</span>=<span style=\"color: #008080; text-decoration-color: #008080; font-weight: bold\">0.383891</span> <span style=\"color: #0000ff; text-decoration-color: #0000ff\">dtf</span>=<span style=\"color: #008080; text-decoration-color: #008080; font-weight: bold\">0.00803656</span> <span style=\"color: #0000ff; text-decoration-color: #0000ff\">dtb</span>=<span style=\"color: #008080; text-decoration-color: #008080; font-weight: bold\">0.010343</span> <span style=\"color: #0000ff; text-decoration-color: #0000ff\">sps</span>=<span style=\"color: #008080; text-decoration-color: #008080; font-weight: bold\">2.60491</span> <span style=\"color: #0000ff; text-decoration-color: #0000ff\">sps_per_gpu</span>=<span style=\"color: #008080; text-decoration-color: #008080; font-weight: bold\">2.60491</span> <span style=\"color: #0000ff; text-decoration-color: #0000ff\">tps</span>=<span style=\"color: #008080; text-decoration-color: #008080; font-weight: bold\">21339.4</span> <span style=\"color: #0000ff; text-decoration-color: #0000ff\">tps_per_gpu</span>=<span style=\"color: #008080; text-decoration-color: #008080; font-weight: bold\">21339.4</span> <span style=\"color: #0000ff; text-decoration-color: #0000ff\">mfu</span>=<span style=\"color: #008080; text-decoration-color: #008080; font-weight: bold\">0.632087</span>\n",
              "</pre>\n"
            ]
          },
          "metadata": {}
        },
        {
          "output_type": "display_data",
          "data": {
            "text/plain": [
              "[\u001b[2m2025-07-23 \u001b[0m\u001b[2m17:16:51,705365\u001b[0m][\u001b[32mI\u001b[0m][\u001b[3;36mwordplay\u001b[0m/\u001b[34mtrainer\u001b[0m\u001b[94m:\u001b[0m\u001b[35m894\u001b[0m]\u001b[37m \u001b[0m\u001b[94mstep\u001b[0m=\u001b[1;36m590\u001b[0m \u001b[94mloss\u001b[0m=\u001b[1;36m2\u001b[0m\u001b[1;36m.45867\u001b[0m \u001b[94mdt\u001b[0m=\u001b[1;36m0\u001b[0m\u001b[1;36m.381508\u001b[0m \u001b[94mdtf\u001b[0m=\u001b[1;36m0\u001b[0m\u001b[1;36m.0139744\u001b[0m \u001b[94mdtb\u001b[0m=\u001b[1;36m0\u001b[0m\u001b[1;36m.0143725\u001b[0m \u001b[94msps\u001b[0m=\u001b[1;36m2\u001b[0m\u001b[1;36m.62118\u001b[0m \u001b[94msps_per_gpu\u001b[0m=\u001b[1;36m2\u001b[0m\u001b[1;36m.62118\u001b[0m \u001b[94mtps\u001b[0m=\u001b[1;36m21472\u001b[0m\u001b[1;36m.7\u001b[0m \u001b[94mtps_per_gpu\u001b[0m=\u001b[1;36m21472\u001b[0m\u001b[1;36m.7\u001b[0m \u001b[94mmfu\u001b[0m=\u001b[1;36m0\u001b[0m\u001b[1;36m.632328\u001b[0m\n"
            ],
            "text/html": [
              "<pre style=\"white-space:pre;overflow-x:auto;line-height:normal;font-family:Menlo,'DejaVu Sans Mono',consolas,'Courier New',monospace\">[<span style=\"color: #7f7f7f; text-decoration-color: #7f7f7f\">2025-07-23 17:16:51,705365</span>][<span style=\"color: #008000; text-decoration-color: #008000\">I</span>][<span style=\"color: #008080; text-decoration-color: #008080; font-style: italic\">wordplay</span>/<span style=\"color: #000080; text-decoration-color: #000080\">trainer</span><span style=\"color: #0000ff; text-decoration-color: #0000ff\">:</span><span style=\"color: #800080; text-decoration-color: #800080\">894</span>]<span style=\"color: #c0c0c0; text-decoration-color: #c0c0c0\"> </span><span style=\"color: #0000ff; text-decoration-color: #0000ff\">step</span>=<span style=\"color: #008080; text-decoration-color: #008080; font-weight: bold\">590</span> <span style=\"color: #0000ff; text-decoration-color: #0000ff\">loss</span>=<span style=\"color: #008080; text-decoration-color: #008080; font-weight: bold\">2.45867</span> <span style=\"color: #0000ff; text-decoration-color: #0000ff\">dt</span>=<span style=\"color: #008080; text-decoration-color: #008080; font-weight: bold\">0.381508</span> <span style=\"color: #0000ff; text-decoration-color: #0000ff\">dtf</span>=<span style=\"color: #008080; text-decoration-color: #008080; font-weight: bold\">0.0139744</span> <span style=\"color: #0000ff; text-decoration-color: #0000ff\">dtb</span>=<span style=\"color: #008080; text-decoration-color: #008080; font-weight: bold\">0.0143725</span> <span style=\"color: #0000ff; text-decoration-color: #0000ff\">sps</span>=<span style=\"color: #008080; text-decoration-color: #008080; font-weight: bold\">2.62118</span> <span style=\"color: #0000ff; text-decoration-color: #0000ff\">sps_per_gpu</span>=<span style=\"color: #008080; text-decoration-color: #008080; font-weight: bold\">2.62118</span> <span style=\"color: #0000ff; text-decoration-color: #0000ff\">tps</span>=<span style=\"color: #008080; text-decoration-color: #008080; font-weight: bold\">21472.7</span> <span style=\"color: #0000ff; text-decoration-color: #0000ff\">tps_per_gpu</span>=<span style=\"color: #008080; text-decoration-color: #008080; font-weight: bold\">21472.7</span> <span style=\"color: #0000ff; text-decoration-color: #0000ff\">mfu</span>=<span style=\"color: #008080; text-decoration-color: #008080; font-weight: bold\">0.632328</span>\n",
              "</pre>\n"
            ]
          },
          "metadata": {}
        },
        {
          "output_type": "display_data",
          "data": {
            "text/plain": [
              "[\u001b[2m2025-07-23 \u001b[0m\u001b[2m17:16:55,543539\u001b[0m][\u001b[32mI\u001b[0m][\u001b[3;36mwordplay\u001b[0m/\u001b[34mtrainer\u001b[0m\u001b[94m:\u001b[0m\u001b[35m894\u001b[0m]\u001b[37m \u001b[0m\u001b[94mstep\u001b[0m=\u001b[1;36m600\u001b[0m \u001b[94mloss\u001b[0m=\u001b[1;36m2\u001b[0m\u001b[1;36m.42416\u001b[0m \u001b[94mdt\u001b[0m=\u001b[1;36m0\u001b[0m\u001b[1;36m.391623\u001b[0m \u001b[94mdtf\u001b[0m=\u001b[1;36m0\u001b[0m\u001b[1;36m.0130454\u001b[0m \u001b[94mdtb\u001b[0m=\u001b[1;36m0\u001b[0m\u001b[1;36m.0146926\u001b[0m \u001b[94msps\u001b[0m=\u001b[1;36m2\u001b[0m\u001b[1;36m.55347\u001b[0m \u001b[94msps_per_gpu\u001b[0m=\u001b[1;36m2\u001b[0m\u001b[1;36m.55347\u001b[0m \u001b[94mtps\u001b[0m=\u001b[1;36m20918\u001b[0m\u001b[1;36m.1\u001b[0m \u001b[94mtps_per_gpu\u001b[0m=\u001b[1;36m20918\u001b[0m\u001b[1;36m.1\u001b[0m \u001b[94mmfu\u001b[0m=\u001b[1;36m0\u001b[0m\u001b[1;36m.630905\u001b[0m\n"
            ],
            "text/html": [
              "<pre style=\"white-space:pre;overflow-x:auto;line-height:normal;font-family:Menlo,'DejaVu Sans Mono',consolas,'Courier New',monospace\">[<span style=\"color: #7f7f7f; text-decoration-color: #7f7f7f\">2025-07-23 17:16:55,543539</span>][<span style=\"color: #008000; text-decoration-color: #008000\">I</span>][<span style=\"color: #008080; text-decoration-color: #008080; font-style: italic\">wordplay</span>/<span style=\"color: #000080; text-decoration-color: #000080\">trainer</span><span style=\"color: #0000ff; text-decoration-color: #0000ff\">:</span><span style=\"color: #800080; text-decoration-color: #800080\">894</span>]<span style=\"color: #c0c0c0; text-decoration-color: #c0c0c0\"> </span><span style=\"color: #0000ff; text-decoration-color: #0000ff\">step</span>=<span style=\"color: #008080; text-decoration-color: #008080; font-weight: bold\">600</span> <span style=\"color: #0000ff; text-decoration-color: #0000ff\">loss</span>=<span style=\"color: #008080; text-decoration-color: #008080; font-weight: bold\">2.42416</span> <span style=\"color: #0000ff; text-decoration-color: #0000ff\">dt</span>=<span style=\"color: #008080; text-decoration-color: #008080; font-weight: bold\">0.391623</span> <span style=\"color: #0000ff; text-decoration-color: #0000ff\">dtf</span>=<span style=\"color: #008080; text-decoration-color: #008080; font-weight: bold\">0.0130454</span> <span style=\"color: #0000ff; text-decoration-color: #0000ff\">dtb</span>=<span style=\"color: #008080; text-decoration-color: #008080; font-weight: bold\">0.0146926</span> <span style=\"color: #0000ff; text-decoration-color: #0000ff\">sps</span>=<span style=\"color: #008080; text-decoration-color: #008080; font-weight: bold\">2.55347</span> <span style=\"color: #0000ff; text-decoration-color: #0000ff\">sps_per_gpu</span>=<span style=\"color: #008080; text-decoration-color: #008080; font-weight: bold\">2.55347</span> <span style=\"color: #0000ff; text-decoration-color: #0000ff\">tps</span>=<span style=\"color: #008080; text-decoration-color: #008080; font-weight: bold\">20918.1</span> <span style=\"color: #0000ff; text-decoration-color: #0000ff\">tps_per_gpu</span>=<span style=\"color: #008080; text-decoration-color: #008080; font-weight: bold\">20918.1</span> <span style=\"color: #0000ff; text-decoration-color: #0000ff\">mfu</span>=<span style=\"color: #008080; text-decoration-color: #008080; font-weight: bold\">0.630905</span>\n",
              "</pre>\n"
            ]
          },
          "metadata": {}
        },
        {
          "output_type": "display_data",
          "data": {
            "text/plain": [
              "[\u001b[2m2025-07-23 \u001b[0m\u001b[2m17:16:56,372045\u001b[0m][\u001b[32mI\u001b[0m][\u001b[3;36mwordplay\u001b[0m/\u001b[34mtrainer\u001b[0m\u001b[94m:\u001b[0m\u001b[35m827\u001b[0m]\u001b[37m \u001b[0m\u001b[95m[\u001b[0m\u001b[32m'prompt'\u001b[0m\u001b[95m]\u001b[0m: \u001b[32m'What is an LLM?'\u001b[0m\n"
            ],
            "text/html": [
              "<pre style=\"white-space:pre;overflow-x:auto;line-height:normal;font-family:Menlo,'DejaVu Sans Mono',consolas,'Courier New',monospace\">[<span style=\"color: #7f7f7f; text-decoration-color: #7f7f7f\">2025-07-23 17:16:56,372045</span>][<span style=\"color: #008000; text-decoration-color: #008000\">I</span>][<span style=\"color: #008080; text-decoration-color: #008080; font-style: italic\">wordplay</span>/<span style=\"color: #000080; text-decoration-color: #000080\">trainer</span><span style=\"color: #0000ff; text-decoration-color: #0000ff\">:</span><span style=\"color: #800080; text-decoration-color: #800080\">827</span>]<span style=\"color: #c0c0c0; text-decoration-color: #c0c0c0\"> </span><span style=\"color: #ff00ff; text-decoration-color: #ff00ff\">[</span><span style=\"color: #008000; text-decoration-color: #008000\">'prompt'</span><span style=\"color: #ff00ff; text-decoration-color: #ff00ff\">]</span>: <span style=\"color: #008000; text-decoration-color: #008000\">'What is an LLM?'</span>\n",
              "</pre>\n"
            ]
          },
          "metadata": {}
        },
        {
          "output_type": "display_data",
          "data": {
            "text/plain": [
              "[\u001b[2m2025-07-23 \u001b[0m\u001b[2m17:16:56,373698\u001b[0m][\u001b[32mI\u001b[0m][\u001b[3;36mwordplay\u001b[0m/\u001b[34mtrainer\u001b[0m\u001b[94m:\u001b[0m\u001b[35m831\u001b[0m]\u001b[37m \u001b[0m\u001b[95m[\u001b[0m\u001b[32m'response'\u001b[0m\u001b[95m]\u001b[0m:\n",
              "\n",
              "What is an LLM?\n",
              "\n",
              "\n",
              "\n",
              "KILINGSBRK:\n",
              "Ye oinot ath lord nous cke, iat ckin and;\n",
              "Yor te, wad caco aver h\n",
              "Tow, tom harrds, wer ow coon nalilllll th m thol s s heree, an sus alleris malatetoung ty nd mimarssin myeayelof f my bungrentind's bee and oulodo oter hendin ndind at\n",
              "Ifowar\n"
            ],
            "text/html": [
              "<pre style=\"white-space:pre;overflow-x:auto;line-height:normal;font-family:Menlo,'DejaVu Sans Mono',consolas,'Courier New',monospace\">[<span style=\"color: #7f7f7f; text-decoration-color: #7f7f7f\">2025-07-23 17:16:56,373698</span>][<span style=\"color: #008000; text-decoration-color: #008000\">I</span>][<span style=\"color: #008080; text-decoration-color: #008080; font-style: italic\">wordplay</span>/<span style=\"color: #000080; text-decoration-color: #000080\">trainer</span><span style=\"color: #0000ff; text-decoration-color: #0000ff\">:</span><span style=\"color: #800080; text-decoration-color: #800080\">831</span>]<span style=\"color: #c0c0c0; text-decoration-color: #c0c0c0\"> </span><span style=\"color: #ff00ff; text-decoration-color: #ff00ff\">[</span><span style=\"color: #008000; text-decoration-color: #008000\">'response'</span><span style=\"color: #ff00ff; text-decoration-color: #ff00ff\">]</span>:\n",
              "\n",
              "What is an LLM?\n",
              "\n",
              "\n",
              "\n",
              "KILINGSBRK:\n",
              "Ye oinot ath lord nous cke, iat ckin and;\n",
              "Yor te, wad caco aver h\n",
              "Tow, tom harrds, wer ow coon nalilllll th m thol s s heree, an sus alleris malatetoung ty nd mimarssin myeayelof f my bungrentind's bee and oulodo oter hendin ndind at\n",
              "Ifowar\n",
              "</pre>\n"
            ]
          },
          "metadata": {}
        },
        {
          "output_type": "display_data",
          "data": {
            "text/plain": [
              "[\u001b[2m2025-07-23 \u001b[0m\u001b[2m17:17:54,112942\u001b[0m][\u001b[32mI\u001b[0m][\u001b[3;36mwordplay\u001b[0m/\u001b[34mtrainer\u001b[0m\u001b[94m:\u001b[0m\u001b[35m762\u001b[0m]\u001b[37m \u001b[0mSaving checkpoint to: \u001b[35m/\u001b[0m\u001b[95mcontent\u001b[0m\n"
            ],
            "text/html": [
              "<pre style=\"white-space:pre;overflow-x:auto;line-height:normal;font-family:Menlo,'DejaVu Sans Mono',consolas,'Courier New',monospace\">[<span style=\"color: #7f7f7f; text-decoration-color: #7f7f7f\">2025-07-23 17:17:54,112942</span>][<span style=\"color: #008000; text-decoration-color: #008000\">I</span>][<span style=\"color: #008080; text-decoration-color: #008080; font-style: italic\">wordplay</span>/<span style=\"color: #000080; text-decoration-color: #000080\">trainer</span><span style=\"color: #0000ff; text-decoration-color: #0000ff\">:</span><span style=\"color: #800080; text-decoration-color: #800080\">762</span>]<span style=\"color: #c0c0c0; text-decoration-color: #c0c0c0\"> </span>Saving checkpoint to: <span style=\"color: #800080; text-decoration-color: #800080\">/</span><span style=\"color: #ff00ff; text-decoration-color: #ff00ff\">content</span>\n",
              "</pre>\n"
            ]
          },
          "metadata": {}
        },
        {
          "output_type": "display_data",
          "data": {
            "text/plain": [
              "[\u001b[2m2025-07-23 \u001b[0m\u001b[2m17:17:54,116645\u001b[0m][\u001b[32mI\u001b[0m][\u001b[3;36mwordplay\u001b[0m/\u001b[34mtrainer\u001b[0m\u001b[94m:\u001b[0m\u001b[35m763\u001b[0m]\u001b[37m \u001b[0mSaving model to: \u001b[35m/content/\u001b[0m\u001b[95mmodel.pth\u001b[0m\n"
            ],
            "text/html": [
              "<pre style=\"white-space:pre;overflow-x:auto;line-height:normal;font-family:Menlo,'DejaVu Sans Mono',consolas,'Courier New',monospace\">[<span style=\"color: #7f7f7f; text-decoration-color: #7f7f7f\">2025-07-23 17:17:54,116645</span>][<span style=\"color: #008000; text-decoration-color: #008000\">I</span>][<span style=\"color: #008080; text-decoration-color: #008080; font-style: italic\">wordplay</span>/<span style=\"color: #000080; text-decoration-color: #000080\">trainer</span><span style=\"color: #0000ff; text-decoration-color: #0000ff\">:</span><span style=\"color: #800080; text-decoration-color: #800080\">763</span>]<span style=\"color: #c0c0c0; text-decoration-color: #c0c0c0\"> </span>Saving model to: <span style=\"color: #800080; text-decoration-color: #800080\">/content/</span><span style=\"color: #ff00ff; text-decoration-color: #ff00ff\">model.pth</span>\n",
              "</pre>\n"
            ]
          },
          "metadata": {}
        },
        {
          "output_type": "display_data",
          "data": {
            "text/plain": [
              "[\u001b[2m2025-07-23 \u001b[0m\u001b[2m17:17:54,560498\u001b[0m][\u001b[32mI\u001b[0m][\u001b[3;36mwordplay\u001b[0m/\u001b[34mconfigs\u001b[0m\u001b[94m:\u001b[0m\u001b[35m141\u001b[0m]\u001b[37m \u001b[0mAppending \u001b[35m/\u001b[0m\u001b[95mcontent\u001b[0m to \u001b[35m/content/wordplay/src/ckpts/\u001b[0m\u001b[95mcheckpoints.log\u001b[0m\n"
            ],
            "text/html": [
              "<pre style=\"white-space:pre;overflow-x:auto;line-height:normal;font-family:Menlo,'DejaVu Sans Mono',consolas,'Courier New',monospace\">[<span style=\"color: #7f7f7f; text-decoration-color: #7f7f7f\">2025-07-23 17:17:54,560498</span>][<span style=\"color: #008000; text-decoration-color: #008000\">I</span>][<span style=\"color: #008080; text-decoration-color: #008080; font-style: italic\">wordplay</span>/<span style=\"color: #000080; text-decoration-color: #000080\">configs</span><span style=\"color: #0000ff; text-decoration-color: #0000ff\">:</span><span style=\"color: #800080; text-decoration-color: #800080\">141</span>]<span style=\"color: #c0c0c0; text-decoration-color: #c0c0c0\"> </span>Appending <span style=\"color: #800080; text-decoration-color: #800080\">/</span><span style=\"color: #ff00ff; text-decoration-color: #ff00ff\">content</span> to <span style=\"color: #800080; text-decoration-color: #800080\">/content/wordplay/src/ckpts/</span><span style=\"color: #ff00ff; text-decoration-color: #ff00ff\">checkpoints.log</span>\n",
              "</pre>\n"
            ]
          },
          "metadata": {}
        },
        {
          "output_type": "display_data",
          "data": {
            "text/plain": [
              "[\u001b[2m2025-07-23 \u001b[0m\u001b[2m17:17:58,382321\u001b[0m][\u001b[32mI\u001b[0m][\u001b[3;36mwordplay\u001b[0m/\u001b[34mtrainer\u001b[0m\u001b[94m:\u001b[0m\u001b[35m894\u001b[0m]\u001b[37m \u001b[0m\u001b[94mstep\u001b[0m=\u001b[1;36m610\u001b[0m \u001b[94mloss\u001b[0m=\u001b[1;36m2\u001b[0m\u001b[1;36m.40125\u001b[0m \u001b[94mdt\u001b[0m=\u001b[1;36m0\u001b[0m\u001b[1;36m.380516\u001b[0m \u001b[94mdtf\u001b[0m=\u001b[1;36m0\u001b[0m\u001b[1;36m.00768699\u001b[0m \u001b[94mdtb\u001b[0m=\u001b[1;36m0\u001b[0m\u001b[1;36m.0103504\u001b[0m \u001b[94msps\u001b[0m=\u001b[1;36m2\u001b[0m\u001b[1;36m.62801\u001b[0m \u001b[94msps_per_gpu\u001b[0m=\u001b[1;36m2\u001b[0m\u001b[1;36m.62801\u001b[0m \u001b[94mtps\u001b[0m=\u001b[1;36m21528\u001b[0m\u001b[1;36m.7\u001b[0m \u001b[94mtps_per_gpu\u001b[0m=\u001b[1;36m21528\u001b[0m\u001b[1;36m.7\u001b[0m \u001b[94mmfu\u001b[0m=\u001b[1;36m0\u001b[0m\u001b[1;36m.63143\u001b[0m\n"
            ],
            "text/html": [
              "<pre style=\"white-space:pre;overflow-x:auto;line-height:normal;font-family:Menlo,'DejaVu Sans Mono',consolas,'Courier New',monospace\">[<span style=\"color: #7f7f7f; text-decoration-color: #7f7f7f\">2025-07-23 17:17:58,382321</span>][<span style=\"color: #008000; text-decoration-color: #008000\">I</span>][<span style=\"color: #008080; text-decoration-color: #008080; font-style: italic\">wordplay</span>/<span style=\"color: #000080; text-decoration-color: #000080\">trainer</span><span style=\"color: #0000ff; text-decoration-color: #0000ff\">:</span><span style=\"color: #800080; text-decoration-color: #800080\">894</span>]<span style=\"color: #c0c0c0; text-decoration-color: #c0c0c0\"> </span><span style=\"color: #0000ff; text-decoration-color: #0000ff\">step</span>=<span style=\"color: #008080; text-decoration-color: #008080; font-weight: bold\">610</span> <span style=\"color: #0000ff; text-decoration-color: #0000ff\">loss</span>=<span style=\"color: #008080; text-decoration-color: #008080; font-weight: bold\">2.40125</span> <span style=\"color: #0000ff; text-decoration-color: #0000ff\">dt</span>=<span style=\"color: #008080; text-decoration-color: #008080; font-weight: bold\">0.380516</span> <span style=\"color: #0000ff; text-decoration-color: #0000ff\">dtf</span>=<span style=\"color: #008080; text-decoration-color: #008080; font-weight: bold\">0.00768699</span> <span style=\"color: #0000ff; text-decoration-color: #0000ff\">dtb</span>=<span style=\"color: #008080; text-decoration-color: #008080; font-weight: bold\">0.0103504</span> <span style=\"color: #0000ff; text-decoration-color: #0000ff\">sps</span>=<span style=\"color: #008080; text-decoration-color: #008080; font-weight: bold\">2.62801</span> <span style=\"color: #0000ff; text-decoration-color: #0000ff\">sps_per_gpu</span>=<span style=\"color: #008080; text-decoration-color: #008080; font-weight: bold\">2.62801</span> <span style=\"color: #0000ff; text-decoration-color: #0000ff\">tps</span>=<span style=\"color: #008080; text-decoration-color: #008080; font-weight: bold\">21528.7</span> <span style=\"color: #0000ff; text-decoration-color: #0000ff\">tps_per_gpu</span>=<span style=\"color: #008080; text-decoration-color: #008080; font-weight: bold\">21528.7</span> <span style=\"color: #0000ff; text-decoration-color: #0000ff\">mfu</span>=<span style=\"color: #008080; text-decoration-color: #008080; font-weight: bold\">0.63143</span>\n",
              "</pre>\n"
            ]
          },
          "metadata": {}
        },
        {
          "output_type": "display_data",
          "data": {
            "text/plain": [
              "[\u001b[2m2025-07-23 \u001b[0m\u001b[2m17:18:02,217685\u001b[0m][\u001b[32mI\u001b[0m][\u001b[3;36mwordplay\u001b[0m/\u001b[34mtrainer\u001b[0m\u001b[94m:\u001b[0m\u001b[35m894\u001b[0m]\u001b[37m \u001b[0m\u001b[94mstep\u001b[0m=\u001b[1;36m620\u001b[0m \u001b[94mloss\u001b[0m=\u001b[1;36m2\u001b[0m\u001b[1;36m.38897\u001b[0m \u001b[94mdt\u001b[0m=\u001b[1;36m0\u001b[0m\u001b[1;36m.382149\u001b[0m \u001b[94mdtf\u001b[0m=\u001b[1;36m0\u001b[0m\u001b[1;36m.00761661\u001b[0m \u001b[94mdtb\u001b[0m=\u001b[1;36m0\u001b[0m\u001b[1;36m.00966352\u001b[0m \u001b[94msps\u001b[0m=\u001b[1;36m2\u001b[0m\u001b[1;36m.61678\u001b[0m \u001b[94msps_per_gpu\u001b[0m=\u001b[1;36m2\u001b[0m\u001b[1;36m.61678\u001b[0m \u001b[94mtps\u001b[0m=\u001b[1;36m21436\u001b[0m\u001b[1;36m.7\u001b[0m \u001b[94mtps_per_gpu\u001b[0m=\u001b[1;36m21436\u001b[0m\u001b[1;36m.7\u001b[0m \u001b[94mmfu\u001b[0m=\u001b[1;36m0\u001b[0m\u001b[1;36m.631629\u001b[0m\n"
            ],
            "text/html": [
              "<pre style=\"white-space:pre;overflow-x:auto;line-height:normal;font-family:Menlo,'DejaVu Sans Mono',consolas,'Courier New',monospace\">[<span style=\"color: #7f7f7f; text-decoration-color: #7f7f7f\">2025-07-23 17:18:02,217685</span>][<span style=\"color: #008000; text-decoration-color: #008000\">I</span>][<span style=\"color: #008080; text-decoration-color: #008080; font-style: italic\">wordplay</span>/<span style=\"color: #000080; text-decoration-color: #000080\">trainer</span><span style=\"color: #0000ff; text-decoration-color: #0000ff\">:</span><span style=\"color: #800080; text-decoration-color: #800080\">894</span>]<span style=\"color: #c0c0c0; text-decoration-color: #c0c0c0\"> </span><span style=\"color: #0000ff; text-decoration-color: #0000ff\">step</span>=<span style=\"color: #008080; text-decoration-color: #008080; font-weight: bold\">620</span> <span style=\"color: #0000ff; text-decoration-color: #0000ff\">loss</span>=<span style=\"color: #008080; text-decoration-color: #008080; font-weight: bold\">2.38897</span> <span style=\"color: #0000ff; text-decoration-color: #0000ff\">dt</span>=<span style=\"color: #008080; text-decoration-color: #008080; font-weight: bold\">0.382149</span> <span style=\"color: #0000ff; text-decoration-color: #0000ff\">dtf</span>=<span style=\"color: #008080; text-decoration-color: #008080; font-weight: bold\">0.00761661</span> <span style=\"color: #0000ff; text-decoration-color: #0000ff\">dtb</span>=<span style=\"color: #008080; text-decoration-color: #008080; font-weight: bold\">0.00966352</span> <span style=\"color: #0000ff; text-decoration-color: #0000ff\">sps</span>=<span style=\"color: #008080; text-decoration-color: #008080; font-weight: bold\">2.61678</span> <span style=\"color: #0000ff; text-decoration-color: #0000ff\">sps_per_gpu</span>=<span style=\"color: #008080; text-decoration-color: #008080; font-weight: bold\">2.61678</span> <span style=\"color: #0000ff; text-decoration-color: #0000ff\">tps</span>=<span style=\"color: #008080; text-decoration-color: #008080; font-weight: bold\">21436.7</span> <span style=\"color: #0000ff; text-decoration-color: #0000ff\">tps_per_gpu</span>=<span style=\"color: #008080; text-decoration-color: #008080; font-weight: bold\">21436.7</span> <span style=\"color: #0000ff; text-decoration-color: #0000ff\">mfu</span>=<span style=\"color: #008080; text-decoration-color: #008080; font-weight: bold\">0.631629</span>\n",
              "</pre>\n"
            ]
          },
          "metadata": {}
        },
        {
          "output_type": "display_data",
          "data": {
            "text/plain": [
              "[\u001b[2m2025-07-23 \u001b[0m\u001b[2m17:18:06,047977\u001b[0m][\u001b[32mI\u001b[0m][\u001b[3;36mwordplay\u001b[0m/\u001b[34mtrainer\u001b[0m\u001b[94m:\u001b[0m\u001b[35m894\u001b[0m]\u001b[37m \u001b[0m\u001b[94mstep\u001b[0m=\u001b[1;36m630\u001b[0m \u001b[94mloss\u001b[0m=\u001b[1;36m2\u001b[0m\u001b[1;36m.38868\u001b[0m \u001b[94mdt\u001b[0m=\u001b[1;36m0\u001b[0m\u001b[1;36m.378137\u001b[0m \u001b[94mdtf\u001b[0m=\u001b[1;36m0\u001b[0m\u001b[1;36m.00969834\u001b[0m \u001b[94mdtb\u001b[0m=\u001b[1;36m0\u001b[0m\u001b[1;36m.0128937\u001b[0m \u001b[94msps\u001b[0m=\u001b[1;36m2\u001b[0m\u001b[1;36m.64454\u001b[0m \u001b[94msps_per_gpu\u001b[0m=\u001b[1;36m2\u001b[0m\u001b[1;36m.64454\u001b[0m \u001b[94mtps\u001b[0m=\u001b[1;36m21664\u001b[0m\u001b[1;36m.1\u001b[0m \u001b[94mtps_per_gpu\u001b[0m=\u001b[1;36m21664\u001b[0m\u001b[1;36m.1\u001b[0m \u001b[94mmfu\u001b[0m=\u001b[1;36m0\u001b[0m\u001b[1;36m.632481\u001b[0m\n"
            ],
            "text/html": [
              "<pre style=\"white-space:pre;overflow-x:auto;line-height:normal;font-family:Menlo,'DejaVu Sans Mono',consolas,'Courier New',monospace\">[<span style=\"color: #7f7f7f; text-decoration-color: #7f7f7f\">2025-07-23 17:18:06,047977</span>][<span style=\"color: #008000; text-decoration-color: #008000\">I</span>][<span style=\"color: #008080; text-decoration-color: #008080; font-style: italic\">wordplay</span>/<span style=\"color: #000080; text-decoration-color: #000080\">trainer</span><span style=\"color: #0000ff; text-decoration-color: #0000ff\">:</span><span style=\"color: #800080; text-decoration-color: #800080\">894</span>]<span style=\"color: #c0c0c0; text-decoration-color: #c0c0c0\"> </span><span style=\"color: #0000ff; text-decoration-color: #0000ff\">step</span>=<span style=\"color: #008080; text-decoration-color: #008080; font-weight: bold\">630</span> <span style=\"color: #0000ff; text-decoration-color: #0000ff\">loss</span>=<span style=\"color: #008080; text-decoration-color: #008080; font-weight: bold\">2.38868</span> <span style=\"color: #0000ff; text-decoration-color: #0000ff\">dt</span>=<span style=\"color: #008080; text-decoration-color: #008080; font-weight: bold\">0.378137</span> <span style=\"color: #0000ff; text-decoration-color: #0000ff\">dtf</span>=<span style=\"color: #008080; text-decoration-color: #008080; font-weight: bold\">0.00969834</span> <span style=\"color: #0000ff; text-decoration-color: #0000ff\">dtb</span>=<span style=\"color: #008080; text-decoration-color: #008080; font-weight: bold\">0.0128937</span> <span style=\"color: #0000ff; text-decoration-color: #0000ff\">sps</span>=<span style=\"color: #008080; text-decoration-color: #008080; font-weight: bold\">2.64454</span> <span style=\"color: #0000ff; text-decoration-color: #0000ff\">sps_per_gpu</span>=<span style=\"color: #008080; text-decoration-color: #008080; font-weight: bold\">2.64454</span> <span style=\"color: #0000ff; text-decoration-color: #0000ff\">tps</span>=<span style=\"color: #008080; text-decoration-color: #008080; font-weight: bold\">21664.1</span> <span style=\"color: #0000ff; text-decoration-color: #0000ff\">tps_per_gpu</span>=<span style=\"color: #008080; text-decoration-color: #008080; font-weight: bold\">21664.1</span> <span style=\"color: #0000ff; text-decoration-color: #0000ff\">mfu</span>=<span style=\"color: #008080; text-decoration-color: #008080; font-weight: bold\">0.632481</span>\n",
              "</pre>\n"
            ]
          },
          "metadata": {}
        },
        {
          "output_type": "display_data",
          "data": {
            "text/plain": [
              "[\u001b[2m2025-07-23 \u001b[0m\u001b[2m17:18:09,883308\u001b[0m][\u001b[32mI\u001b[0m][\u001b[3;36mwordplay\u001b[0m/\u001b[34mtrainer\u001b[0m\u001b[94m:\u001b[0m\u001b[35m894\u001b[0m]\u001b[37m \u001b[0m\u001b[94mstep\u001b[0m=\u001b[1;36m640\u001b[0m \u001b[94mloss\u001b[0m=\u001b[1;36m2\u001b[0m\u001b[1;36m.4127\u001b[0m \u001b[94mdt\u001b[0m=\u001b[1;36m0\u001b[0m\u001b[1;36m.382373\u001b[0m \u001b[94mdtf\u001b[0m=\u001b[1;36m0\u001b[0m\u001b[1;36m.00796208\u001b[0m \u001b[94mdtb\u001b[0m=\u001b[1;36m0\u001b[0m\u001b[1;36m.0101229\u001b[0m \u001b[94msps\u001b[0m=\u001b[1;36m2\u001b[0m\u001b[1;36m.61525\u001b[0m \u001b[94msps_per_gpu\u001b[0m=\u001b[1;36m2\u001b[0m\u001b[1;36m.61525\u001b[0m \u001b[94mtps\u001b[0m=\u001b[1;36m21424\u001b[0m\u001b[1;36m.1\u001b[0m \u001b[94mtps_per_gpu\u001b[0m=\u001b[1;36m21424\u001b[0m\u001b[1;36m.1\u001b[0m \u001b[94mmfu\u001b[0m=\u001b[1;36m0\u001b[0m\u001b[1;36m.632539\u001b[0m\n"
            ],
            "text/html": [
              "<pre style=\"white-space:pre;overflow-x:auto;line-height:normal;font-family:Menlo,'DejaVu Sans Mono',consolas,'Courier New',monospace\">[<span style=\"color: #7f7f7f; text-decoration-color: #7f7f7f\">2025-07-23 17:18:09,883308</span>][<span style=\"color: #008000; text-decoration-color: #008000\">I</span>][<span style=\"color: #008080; text-decoration-color: #008080; font-style: italic\">wordplay</span>/<span style=\"color: #000080; text-decoration-color: #000080\">trainer</span><span style=\"color: #0000ff; text-decoration-color: #0000ff\">:</span><span style=\"color: #800080; text-decoration-color: #800080\">894</span>]<span style=\"color: #c0c0c0; text-decoration-color: #c0c0c0\"> </span><span style=\"color: #0000ff; text-decoration-color: #0000ff\">step</span>=<span style=\"color: #008080; text-decoration-color: #008080; font-weight: bold\">640</span> <span style=\"color: #0000ff; text-decoration-color: #0000ff\">loss</span>=<span style=\"color: #008080; text-decoration-color: #008080; font-weight: bold\">2.4127</span> <span style=\"color: #0000ff; text-decoration-color: #0000ff\">dt</span>=<span style=\"color: #008080; text-decoration-color: #008080; font-weight: bold\">0.382373</span> <span style=\"color: #0000ff; text-decoration-color: #0000ff\">dtf</span>=<span style=\"color: #008080; text-decoration-color: #008080; font-weight: bold\">0.00796208</span> <span style=\"color: #0000ff; text-decoration-color: #0000ff\">dtb</span>=<span style=\"color: #008080; text-decoration-color: #008080; font-weight: bold\">0.0101229</span> <span style=\"color: #0000ff; text-decoration-color: #0000ff\">sps</span>=<span style=\"color: #008080; text-decoration-color: #008080; font-weight: bold\">2.61525</span> <span style=\"color: #0000ff; text-decoration-color: #0000ff\">sps_per_gpu</span>=<span style=\"color: #008080; text-decoration-color: #008080; font-weight: bold\">2.61525</span> <span style=\"color: #0000ff; text-decoration-color: #0000ff\">tps</span>=<span style=\"color: #008080; text-decoration-color: #008080; font-weight: bold\">21424.1</span> <span style=\"color: #0000ff; text-decoration-color: #0000ff\">tps_per_gpu</span>=<span style=\"color: #008080; text-decoration-color: #008080; font-weight: bold\">21424.1</span> <span style=\"color: #0000ff; text-decoration-color: #0000ff\">mfu</span>=<span style=\"color: #008080; text-decoration-color: #008080; font-weight: bold\">0.632539</span>\n",
              "</pre>\n"
            ]
          },
          "metadata": {}
        },
        {
          "output_type": "display_data",
          "data": {
            "text/plain": [
              "[\u001b[2m2025-07-23 \u001b[0m\u001b[2m17:18:13,722090\u001b[0m][\u001b[32mI\u001b[0m][\u001b[3;36mwordplay\u001b[0m/\u001b[34mtrainer\u001b[0m\u001b[94m:\u001b[0m\u001b[35m894\u001b[0m]\u001b[37m \u001b[0m\u001b[94mstep\u001b[0m=\u001b[1;36m650\u001b[0m \u001b[94mloss\u001b[0m=\u001b[1;36m2\u001b[0m\u001b[1;36m.41445\u001b[0m \u001b[94mdt\u001b[0m=\u001b[1;36m0\u001b[0m\u001b[1;36m.385077\u001b[0m \u001b[94mdtf\u001b[0m=\u001b[1;36m0\u001b[0m\u001b[1;36m.00783048\u001b[0m \u001b[94mdtb\u001b[0m=\u001b[1;36m0\u001b[0m\u001b[1;36m.0110297\u001b[0m \u001b[94msps\u001b[0m=\u001b[1;36m2\u001b[0m\u001b[1;36m.59688\u001b[0m \u001b[94msps_per_gpu\u001b[0m=\u001b[1;36m2\u001b[0m\u001b[1;36m.59688\u001b[0m \u001b[94mtps\u001b[0m=\u001b[1;36m21273\u001b[0m\u001b[1;36m.7\u001b[0m \u001b[94mtps_per_gpu\u001b[0m=\u001b[1;36m21273\u001b[0m\u001b[1;36m.7\u001b[0m \u001b[94mmfu\u001b[0m=\u001b[1;36m0\u001b[0m\u001b[1;36m.632146\u001b[0m\n"
            ],
            "text/html": [
              "<pre style=\"white-space:pre;overflow-x:auto;line-height:normal;font-family:Menlo,'DejaVu Sans Mono',consolas,'Courier New',monospace\">[<span style=\"color: #7f7f7f; text-decoration-color: #7f7f7f\">2025-07-23 17:18:13,722090</span>][<span style=\"color: #008000; text-decoration-color: #008000\">I</span>][<span style=\"color: #008080; text-decoration-color: #008080; font-style: italic\">wordplay</span>/<span style=\"color: #000080; text-decoration-color: #000080\">trainer</span><span style=\"color: #0000ff; text-decoration-color: #0000ff\">:</span><span style=\"color: #800080; text-decoration-color: #800080\">894</span>]<span style=\"color: #c0c0c0; text-decoration-color: #c0c0c0\"> </span><span style=\"color: #0000ff; text-decoration-color: #0000ff\">step</span>=<span style=\"color: #008080; text-decoration-color: #008080; font-weight: bold\">650</span> <span style=\"color: #0000ff; text-decoration-color: #0000ff\">loss</span>=<span style=\"color: #008080; text-decoration-color: #008080; font-weight: bold\">2.41445</span> <span style=\"color: #0000ff; text-decoration-color: #0000ff\">dt</span>=<span style=\"color: #008080; text-decoration-color: #008080; font-weight: bold\">0.385077</span> <span style=\"color: #0000ff; text-decoration-color: #0000ff\">dtf</span>=<span style=\"color: #008080; text-decoration-color: #008080; font-weight: bold\">0.00783048</span> <span style=\"color: #0000ff; text-decoration-color: #0000ff\">dtb</span>=<span style=\"color: #008080; text-decoration-color: #008080; font-weight: bold\">0.0110297</span> <span style=\"color: #0000ff; text-decoration-color: #0000ff\">sps</span>=<span style=\"color: #008080; text-decoration-color: #008080; font-weight: bold\">2.59688</span> <span style=\"color: #0000ff; text-decoration-color: #0000ff\">sps_per_gpu</span>=<span style=\"color: #008080; text-decoration-color: #008080; font-weight: bold\">2.59688</span> <span style=\"color: #0000ff; text-decoration-color: #0000ff\">tps</span>=<span style=\"color: #008080; text-decoration-color: #008080; font-weight: bold\">21273.7</span> <span style=\"color: #0000ff; text-decoration-color: #0000ff\">tps_per_gpu</span>=<span style=\"color: #008080; text-decoration-color: #008080; font-weight: bold\">21273.7</span> <span style=\"color: #0000ff; text-decoration-color: #0000ff\">mfu</span>=<span style=\"color: #008080; text-decoration-color: #008080; font-weight: bold\">0.632146</span>\n",
              "</pre>\n"
            ]
          },
          "metadata": {}
        },
        {
          "output_type": "display_data",
          "data": {
            "text/plain": [
              "[\u001b[2m2025-07-23 \u001b[0m\u001b[2m17:18:17,557001\u001b[0m][\u001b[32mI\u001b[0m][\u001b[3;36mwordplay\u001b[0m/\u001b[34mtrainer\u001b[0m\u001b[94m:\u001b[0m\u001b[35m894\u001b[0m]\u001b[37m \u001b[0m\u001b[94mstep\u001b[0m=\u001b[1;36m660\u001b[0m \u001b[94mloss\u001b[0m=\u001b[1;36m2\u001b[0m\u001b[1;36m.38916\u001b[0m \u001b[94mdt\u001b[0m=\u001b[1;36m0\u001b[0m\u001b[1;36m.397191\u001b[0m \u001b[94mdtf\u001b[0m=\u001b[1;36m0\u001b[0m\u001b[1;36m.0126378\u001b[0m \u001b[94mdtb\u001b[0m=\u001b[1;36m0\u001b[0m\u001b[1;36m.0280523\u001b[0m \u001b[94msps\u001b[0m=\u001b[1;36m2\u001b[0m\u001b[1;36m.51768\u001b[0m \u001b[94msps_per_gpu\u001b[0m=\u001b[1;36m2\u001b[0m\u001b[1;36m.51768\u001b[0m \u001b[94mtps\u001b[0m=\u001b[1;36m20624\u001b[0m\u001b[1;36m.8\u001b[0m \u001b[94mtps_per_gpu\u001b[0m=\u001b[1;36m20624\u001b[0m\u001b[1;36m.8\u001b[0m \u001b[94mmfu\u001b[0m=\u001b[1;36m0\u001b[0m\u001b[1;36m.629875\u001b[0m\n"
            ],
            "text/html": [
              "<pre style=\"white-space:pre;overflow-x:auto;line-height:normal;font-family:Menlo,'DejaVu Sans Mono',consolas,'Courier New',monospace\">[<span style=\"color: #7f7f7f; text-decoration-color: #7f7f7f\">2025-07-23 17:18:17,557001</span>][<span style=\"color: #008000; text-decoration-color: #008000\">I</span>][<span style=\"color: #008080; text-decoration-color: #008080; font-style: italic\">wordplay</span>/<span style=\"color: #000080; text-decoration-color: #000080\">trainer</span><span style=\"color: #0000ff; text-decoration-color: #0000ff\">:</span><span style=\"color: #800080; text-decoration-color: #800080\">894</span>]<span style=\"color: #c0c0c0; text-decoration-color: #c0c0c0\"> </span><span style=\"color: #0000ff; text-decoration-color: #0000ff\">step</span>=<span style=\"color: #008080; text-decoration-color: #008080; font-weight: bold\">660</span> <span style=\"color: #0000ff; text-decoration-color: #0000ff\">loss</span>=<span style=\"color: #008080; text-decoration-color: #008080; font-weight: bold\">2.38916</span> <span style=\"color: #0000ff; text-decoration-color: #0000ff\">dt</span>=<span style=\"color: #008080; text-decoration-color: #008080; font-weight: bold\">0.397191</span> <span style=\"color: #0000ff; text-decoration-color: #0000ff\">dtf</span>=<span style=\"color: #008080; text-decoration-color: #008080; font-weight: bold\">0.0126378</span> <span style=\"color: #0000ff; text-decoration-color: #0000ff\">dtb</span>=<span style=\"color: #008080; text-decoration-color: #008080; font-weight: bold\">0.0280523</span> <span style=\"color: #0000ff; text-decoration-color: #0000ff\">sps</span>=<span style=\"color: #008080; text-decoration-color: #008080; font-weight: bold\">2.51768</span> <span style=\"color: #0000ff; text-decoration-color: #0000ff\">sps_per_gpu</span>=<span style=\"color: #008080; text-decoration-color: #008080; font-weight: bold\">2.51768</span> <span style=\"color: #0000ff; text-decoration-color: #0000ff\">tps</span>=<span style=\"color: #008080; text-decoration-color: #008080; font-weight: bold\">20624.8</span> <span style=\"color: #0000ff; text-decoration-color: #0000ff\">tps_per_gpu</span>=<span style=\"color: #008080; text-decoration-color: #008080; font-weight: bold\">20624.8</span> <span style=\"color: #0000ff; text-decoration-color: #0000ff\">mfu</span>=<span style=\"color: #008080; text-decoration-color: #008080; font-weight: bold\">0.629875</span>\n",
              "</pre>\n"
            ]
          },
          "metadata": {}
        },
        {
          "output_type": "display_data",
          "data": {
            "text/plain": [
              "[\u001b[2m2025-07-23 \u001b[0m\u001b[2m17:18:21,395377\u001b[0m][\u001b[32mI\u001b[0m][\u001b[3;36mwordplay\u001b[0m/\u001b[34mtrainer\u001b[0m\u001b[94m:\u001b[0m\u001b[35m894\u001b[0m]\u001b[37m \u001b[0m\u001b[94mstep\u001b[0m=\u001b[1;36m670\u001b[0m \u001b[94mloss\u001b[0m=\u001b[1;36m2\u001b[0m\u001b[1;36m.40125\u001b[0m \u001b[94mdt\u001b[0m=\u001b[1;36m0\u001b[0m\u001b[1;36m.37982\u001b[0m \u001b[94mdtf\u001b[0m=\u001b[1;36m0\u001b[0m\u001b[1;36m.00799165\u001b[0m \u001b[94mdtb\u001b[0m=\u001b[1;36m0\u001b[0m\u001b[1;36m.0102509\u001b[0m \u001b[94msps\u001b[0m=\u001b[1;36m2\u001b[0m\u001b[1;36m.63282\u001b[0m \u001b[94msps_per_gpu\u001b[0m=\u001b[1;36m2\u001b[0m\u001b[1;36m.63282\u001b[0m \u001b[94mtps\u001b[0m=\u001b[1;36m21568\u001b[0m\u001b[1;36m.1\u001b[0m \u001b[94mtps_per_gpu\u001b[0m=\u001b[1;36m21568\u001b[0m\u001b[1;36m.1\u001b[0m \u001b[94mmfu\u001b[0m=\u001b[1;36m0\u001b[0m\u001b[1;36m.630619\u001b[0m\n"
            ],
            "text/html": [
              "<pre style=\"white-space:pre;overflow-x:auto;line-height:normal;font-family:Menlo,'DejaVu Sans Mono',consolas,'Courier New',monospace\">[<span style=\"color: #7f7f7f; text-decoration-color: #7f7f7f\">2025-07-23 17:18:21,395377</span>][<span style=\"color: #008000; text-decoration-color: #008000\">I</span>][<span style=\"color: #008080; text-decoration-color: #008080; font-style: italic\">wordplay</span>/<span style=\"color: #000080; text-decoration-color: #000080\">trainer</span><span style=\"color: #0000ff; text-decoration-color: #0000ff\">:</span><span style=\"color: #800080; text-decoration-color: #800080\">894</span>]<span style=\"color: #c0c0c0; text-decoration-color: #c0c0c0\"> </span><span style=\"color: #0000ff; text-decoration-color: #0000ff\">step</span>=<span style=\"color: #008080; text-decoration-color: #008080; font-weight: bold\">670</span> <span style=\"color: #0000ff; text-decoration-color: #0000ff\">loss</span>=<span style=\"color: #008080; text-decoration-color: #008080; font-weight: bold\">2.40125</span> <span style=\"color: #0000ff; text-decoration-color: #0000ff\">dt</span>=<span style=\"color: #008080; text-decoration-color: #008080; font-weight: bold\">0.37982</span> <span style=\"color: #0000ff; text-decoration-color: #0000ff\">dtf</span>=<span style=\"color: #008080; text-decoration-color: #008080; font-weight: bold\">0.00799165</span> <span style=\"color: #0000ff; text-decoration-color: #0000ff\">dtb</span>=<span style=\"color: #008080; text-decoration-color: #008080; font-weight: bold\">0.0102509</span> <span style=\"color: #0000ff; text-decoration-color: #0000ff\">sps</span>=<span style=\"color: #008080; text-decoration-color: #008080; font-weight: bold\">2.63282</span> <span style=\"color: #0000ff; text-decoration-color: #0000ff\">sps_per_gpu</span>=<span style=\"color: #008080; text-decoration-color: #008080; font-weight: bold\">2.63282</span> <span style=\"color: #0000ff; text-decoration-color: #0000ff\">tps</span>=<span style=\"color: #008080; text-decoration-color: #008080; font-weight: bold\">21568.1</span> <span style=\"color: #0000ff; text-decoration-color: #0000ff\">tps_per_gpu</span>=<span style=\"color: #008080; text-decoration-color: #008080; font-weight: bold\">21568.1</span> <span style=\"color: #0000ff; text-decoration-color: #0000ff\">mfu</span>=<span style=\"color: #008080; text-decoration-color: #008080; font-weight: bold\">0.630619</span>\n",
              "</pre>\n"
            ]
          },
          "metadata": {}
        },
        {
          "output_type": "display_data",
          "data": {
            "text/plain": [
              "[\u001b[2m2025-07-23 \u001b[0m\u001b[2m17:18:25,229485\u001b[0m][\u001b[32mI\u001b[0m][\u001b[3;36mwordplay\u001b[0m/\u001b[34mtrainer\u001b[0m\u001b[94m:\u001b[0m\u001b[35m894\u001b[0m]\u001b[37m \u001b[0m\u001b[94mstep\u001b[0m=\u001b[1;36m680\u001b[0m \u001b[94mloss\u001b[0m=\u001b[1;36m2\u001b[0m\u001b[1;36m.36815\u001b[0m \u001b[94mdt\u001b[0m=\u001b[1;36m0\u001b[0m\u001b[1;36m.367467\u001b[0m \u001b[94mdtf\u001b[0m=\u001b[1;36m0\u001b[0m\u001b[1;36m.00798743\u001b[0m \u001b[94mdtb\u001b[0m=\u001b[1;36m0\u001b[0m\u001b[1;36m.0101859\u001b[0m \u001b[94msps\u001b[0m=\u001b[1;36m2\u001b[0m\u001b[1;36m.72133\u001b[0m \u001b[94msps_per_gpu\u001b[0m=\u001b[1;36m2\u001b[0m\u001b[1;36m.72133\u001b[0m \u001b[94mtps\u001b[0m=\u001b[1;36m22293\u001b[0m\u001b[1;36m.2\u001b[0m \u001b[94mtps_per_gpu\u001b[0m=\u001b[1;36m22293\u001b[0m\u001b[1;36m.2\u001b[0m \u001b[94mmfu\u001b[0m=\u001b[1;36m0\u001b[0m\u001b[1;36m.633431\u001b[0m\n"
            ],
            "text/html": [
              "<pre style=\"white-space:pre;overflow-x:auto;line-height:normal;font-family:Menlo,'DejaVu Sans Mono',consolas,'Courier New',monospace\">[<span style=\"color: #7f7f7f; text-decoration-color: #7f7f7f\">2025-07-23 17:18:25,229485</span>][<span style=\"color: #008000; text-decoration-color: #008000\">I</span>][<span style=\"color: #008080; text-decoration-color: #008080; font-style: italic\">wordplay</span>/<span style=\"color: #000080; text-decoration-color: #000080\">trainer</span><span style=\"color: #0000ff; text-decoration-color: #0000ff\">:</span><span style=\"color: #800080; text-decoration-color: #800080\">894</span>]<span style=\"color: #c0c0c0; text-decoration-color: #c0c0c0\"> </span><span style=\"color: #0000ff; text-decoration-color: #0000ff\">step</span>=<span style=\"color: #008080; text-decoration-color: #008080; font-weight: bold\">680</span> <span style=\"color: #0000ff; text-decoration-color: #0000ff\">loss</span>=<span style=\"color: #008080; text-decoration-color: #008080; font-weight: bold\">2.36815</span> <span style=\"color: #0000ff; text-decoration-color: #0000ff\">dt</span>=<span style=\"color: #008080; text-decoration-color: #008080; font-weight: bold\">0.367467</span> <span style=\"color: #0000ff; text-decoration-color: #0000ff\">dtf</span>=<span style=\"color: #008080; text-decoration-color: #008080; font-weight: bold\">0.00798743</span> <span style=\"color: #0000ff; text-decoration-color: #0000ff\">dtb</span>=<span style=\"color: #008080; text-decoration-color: #008080; font-weight: bold\">0.0101859</span> <span style=\"color: #0000ff; text-decoration-color: #0000ff\">sps</span>=<span style=\"color: #008080; text-decoration-color: #008080; font-weight: bold\">2.72133</span> <span style=\"color: #0000ff; text-decoration-color: #0000ff\">sps_per_gpu</span>=<span style=\"color: #008080; text-decoration-color: #008080; font-weight: bold\">2.72133</span> <span style=\"color: #0000ff; text-decoration-color: #0000ff\">tps</span>=<span style=\"color: #008080; text-decoration-color: #008080; font-weight: bold\">22293.2</span> <span style=\"color: #0000ff; text-decoration-color: #0000ff\">tps_per_gpu</span>=<span style=\"color: #008080; text-decoration-color: #008080; font-weight: bold\">22293.2</span> <span style=\"color: #0000ff; text-decoration-color: #0000ff\">mfu</span>=<span style=\"color: #008080; text-decoration-color: #008080; font-weight: bold\">0.633431</span>\n",
              "</pre>\n"
            ]
          },
          "metadata": {}
        },
        {
          "output_type": "display_data",
          "data": {
            "text/plain": [
              "[\u001b[2m2025-07-23 \u001b[0m\u001b[2m17:18:29,069577\u001b[0m][\u001b[32mI\u001b[0m][\u001b[3;36mwordplay\u001b[0m/\u001b[34mtrainer\u001b[0m\u001b[94m:\u001b[0m\u001b[35m894\u001b[0m]\u001b[37m \u001b[0m\u001b[94mstep\u001b[0m=\u001b[1;36m690\u001b[0m \u001b[94mloss\u001b[0m=\u001b[1;36m2\u001b[0m\u001b[1;36m.40319\u001b[0m \u001b[94mdt\u001b[0m=\u001b[1;36m0\u001b[0m\u001b[1;36m.379338\u001b[0m \u001b[94mdtf\u001b[0m=\u001b[1;36m0\u001b[0m\u001b[1;36m.00789747\u001b[0m \u001b[94mdtb\u001b[0m=\u001b[1;36m0\u001b[0m\u001b[1;36m.0107017\u001b[0m \u001b[94msps\u001b[0m=\u001b[1;36m2\u001b[0m\u001b[1;36m.63617\u001b[0m \u001b[94msps_per_gpu\u001b[0m=\u001b[1;36m2\u001b[0m\u001b[1;36m.63617\u001b[0m \u001b[94mtps\u001b[0m=\u001b[1;36m21595\u001b[0m\u001b[1;36m.5\u001b[0m \u001b[94mtps_per_gpu\u001b[0m=\u001b[1;36m21595\u001b[0m\u001b[1;36m.5\u001b[0m \u001b[94mmfu\u001b[0m=\u001b[1;36m0\u001b[0m\u001b[1;36m.6339\u001b[0m\n"
            ],
            "text/html": [
              "<pre style=\"white-space:pre;overflow-x:auto;line-height:normal;font-family:Menlo,'DejaVu Sans Mono',consolas,'Courier New',monospace\">[<span style=\"color: #7f7f7f; text-decoration-color: #7f7f7f\">2025-07-23 17:18:29,069577</span>][<span style=\"color: #008000; text-decoration-color: #008000\">I</span>][<span style=\"color: #008080; text-decoration-color: #008080; font-style: italic\">wordplay</span>/<span style=\"color: #000080; text-decoration-color: #000080\">trainer</span><span style=\"color: #0000ff; text-decoration-color: #0000ff\">:</span><span style=\"color: #800080; text-decoration-color: #800080\">894</span>]<span style=\"color: #c0c0c0; text-decoration-color: #c0c0c0\"> </span><span style=\"color: #0000ff; text-decoration-color: #0000ff\">step</span>=<span style=\"color: #008080; text-decoration-color: #008080; font-weight: bold\">690</span> <span style=\"color: #0000ff; text-decoration-color: #0000ff\">loss</span>=<span style=\"color: #008080; text-decoration-color: #008080; font-weight: bold\">2.40319</span> <span style=\"color: #0000ff; text-decoration-color: #0000ff\">dt</span>=<span style=\"color: #008080; text-decoration-color: #008080; font-weight: bold\">0.379338</span> <span style=\"color: #0000ff; text-decoration-color: #0000ff\">dtf</span>=<span style=\"color: #008080; text-decoration-color: #008080; font-weight: bold\">0.00789747</span> <span style=\"color: #0000ff; text-decoration-color: #0000ff\">dtb</span>=<span style=\"color: #008080; text-decoration-color: #008080; font-weight: bold\">0.0107017</span> <span style=\"color: #0000ff; text-decoration-color: #0000ff\">sps</span>=<span style=\"color: #008080; text-decoration-color: #008080; font-weight: bold\">2.63617</span> <span style=\"color: #0000ff; text-decoration-color: #0000ff\">sps_per_gpu</span>=<span style=\"color: #008080; text-decoration-color: #008080; font-weight: bold\">2.63617</span> <span style=\"color: #0000ff; text-decoration-color: #0000ff\">tps</span>=<span style=\"color: #008080; text-decoration-color: #008080; font-weight: bold\">21595.5</span> <span style=\"color: #0000ff; text-decoration-color: #0000ff\">tps_per_gpu</span>=<span style=\"color: #008080; text-decoration-color: #008080; font-weight: bold\">21595.5</span> <span style=\"color: #0000ff; text-decoration-color: #0000ff\">mfu</span>=<span style=\"color: #008080; text-decoration-color: #008080; font-weight: bold\">0.6339</span>\n",
              "</pre>\n"
            ]
          },
          "metadata": {}
        },
        {
          "output_type": "display_data",
          "data": {
            "text/plain": [
              "[\u001b[2m2025-07-23 \u001b[0m\u001b[2m17:18:32,902179\u001b[0m][\u001b[32mI\u001b[0m][\u001b[3;36mwordplay\u001b[0m/\u001b[34mtrainer\u001b[0m\u001b[94m:\u001b[0m\u001b[35m894\u001b[0m]\u001b[37m \u001b[0m\u001b[94mstep\u001b[0m=\u001b[1;36m700\u001b[0m \u001b[94mloss\u001b[0m=\u001b[1;36m2\u001b[0m\u001b[1;36m.4019\u001b[0m \u001b[94mdt\u001b[0m=\u001b[1;36m0\u001b[0m\u001b[1;36m.382542\u001b[0m \u001b[94mdtf\u001b[0m=\u001b[1;36m0\u001b[0m\u001b[1;36m.00746426\u001b[0m \u001b[94mdtb\u001b[0m=\u001b[1;36m0\u001b[0m\u001b[1;36m.0101071\u001b[0m \u001b[94msps\u001b[0m=\u001b[1;36m2\u001b[0m\u001b[1;36m.61409\u001b[0m \u001b[94msps_per_gpu\u001b[0m=\u001b[1;36m2\u001b[0m\u001b[1;36m.61409\u001b[0m \u001b[94mtps\u001b[0m=\u001b[1;36m21414\u001b[0m\u001b[1;36m.6\u001b[0m \u001b[94mtps_per_gpu\u001b[0m=\u001b[1;36m21414\u001b[0m\u001b[1;36m.6\u001b[0m \u001b[94mmfu\u001b[0m=\u001b[1;36m0\u001b[0m\u001b[1;36m.633787\u001b[0m\n"
            ],
            "text/html": [
              "<pre style=\"white-space:pre;overflow-x:auto;line-height:normal;font-family:Menlo,'DejaVu Sans Mono',consolas,'Courier New',monospace\">[<span style=\"color: #7f7f7f; text-decoration-color: #7f7f7f\">2025-07-23 17:18:32,902179</span>][<span style=\"color: #008000; text-decoration-color: #008000\">I</span>][<span style=\"color: #008080; text-decoration-color: #008080; font-style: italic\">wordplay</span>/<span style=\"color: #000080; text-decoration-color: #000080\">trainer</span><span style=\"color: #0000ff; text-decoration-color: #0000ff\">:</span><span style=\"color: #800080; text-decoration-color: #800080\">894</span>]<span style=\"color: #c0c0c0; text-decoration-color: #c0c0c0\"> </span><span style=\"color: #0000ff; text-decoration-color: #0000ff\">step</span>=<span style=\"color: #008080; text-decoration-color: #008080; font-weight: bold\">700</span> <span style=\"color: #0000ff; text-decoration-color: #0000ff\">loss</span>=<span style=\"color: #008080; text-decoration-color: #008080; font-weight: bold\">2.4019</span> <span style=\"color: #0000ff; text-decoration-color: #0000ff\">dt</span>=<span style=\"color: #008080; text-decoration-color: #008080; font-weight: bold\">0.382542</span> <span style=\"color: #0000ff; text-decoration-color: #0000ff\">dtf</span>=<span style=\"color: #008080; text-decoration-color: #008080; font-weight: bold\">0.00746426</span> <span style=\"color: #0000ff; text-decoration-color: #0000ff\">dtb</span>=<span style=\"color: #008080; text-decoration-color: #008080; font-weight: bold\">0.0101071</span> <span style=\"color: #0000ff; text-decoration-color: #0000ff\">sps</span>=<span style=\"color: #008080; text-decoration-color: #008080; font-weight: bold\">2.61409</span> <span style=\"color: #0000ff; text-decoration-color: #0000ff\">sps_per_gpu</span>=<span style=\"color: #008080; text-decoration-color: #008080; font-weight: bold\">2.61409</span> <span style=\"color: #0000ff; text-decoration-color: #0000ff\">tps</span>=<span style=\"color: #008080; text-decoration-color: #008080; font-weight: bold\">21414.6</span> <span style=\"color: #0000ff; text-decoration-color: #0000ff\">tps_per_gpu</span>=<span style=\"color: #008080; text-decoration-color: #008080; font-weight: bold\">21414.6</span> <span style=\"color: #0000ff; text-decoration-color: #0000ff\">mfu</span>=<span style=\"color: #008080; text-decoration-color: #008080; font-weight: bold\">0.633787</span>\n",
              "</pre>\n"
            ]
          },
          "metadata": {}
        },
        {
          "output_type": "display_data",
          "data": {
            "text/plain": [
              "[\u001b[2m2025-07-23 \u001b[0m\u001b[2m17:18:33,732336\u001b[0m][\u001b[32mI\u001b[0m][\u001b[3;36mwordplay\u001b[0m/\u001b[34mtrainer\u001b[0m\u001b[94m:\u001b[0m\u001b[35m827\u001b[0m]\u001b[37m \u001b[0m\u001b[95m[\u001b[0m\u001b[32m'prompt'\u001b[0m\u001b[95m]\u001b[0m: \u001b[32m'What is an LLM?'\u001b[0m\n"
            ],
            "text/html": [
              "<pre style=\"white-space:pre;overflow-x:auto;line-height:normal;font-family:Menlo,'DejaVu Sans Mono',consolas,'Courier New',monospace\">[<span style=\"color: #7f7f7f; text-decoration-color: #7f7f7f\">2025-07-23 17:18:33,732336</span>][<span style=\"color: #008000; text-decoration-color: #008000\">I</span>][<span style=\"color: #008080; text-decoration-color: #008080; font-style: italic\">wordplay</span>/<span style=\"color: #000080; text-decoration-color: #000080\">trainer</span><span style=\"color: #0000ff; text-decoration-color: #0000ff\">:</span><span style=\"color: #800080; text-decoration-color: #800080\">827</span>]<span style=\"color: #c0c0c0; text-decoration-color: #c0c0c0\"> </span><span style=\"color: #ff00ff; text-decoration-color: #ff00ff\">[</span><span style=\"color: #008000; text-decoration-color: #008000\">'prompt'</span><span style=\"color: #ff00ff; text-decoration-color: #ff00ff\">]</span>: <span style=\"color: #008000; text-decoration-color: #008000\">'What is an LLM?'</span>\n",
              "</pre>\n"
            ]
          },
          "metadata": {}
        },
        {
          "output_type": "display_data",
          "data": {
            "text/plain": [
              "[\u001b[2m2025-07-23 \u001b[0m\u001b[2m17:18:33,734156\u001b[0m][\u001b[32mI\u001b[0m][\u001b[3;36mwordplay\u001b[0m/\u001b[34mtrainer\u001b[0m\u001b[94m:\u001b[0m\u001b[35m831\u001b[0m]\u001b[37m \u001b[0m\u001b[95m[\u001b[0m\u001b[32m'response'\u001b[0m\u001b[95m]\u001b[0m:\n",
              "\n",
              "What is an LLM?\n",
              "\n",
              "Thile than bat ton dor nong mur,\n",
              "NO belll lit lop gereing ichth ts heas fopoo l s fowis the\n",
              "\n",
              "Wofores pis wiceris chithith d concofabththesthis t me t t of sis meagoury.\n",
              "\n",
              "ARO:\n",
              "Whe my m bo ar f s yourel s f ther thindusolofe s m s le iserangofothin thesith\n"
            ],
            "text/html": [
              "<pre style=\"white-space:pre;overflow-x:auto;line-height:normal;font-family:Menlo,'DejaVu Sans Mono',consolas,'Courier New',monospace\">[<span style=\"color: #7f7f7f; text-decoration-color: #7f7f7f\">2025-07-23 17:18:33,734156</span>][<span style=\"color: #008000; text-decoration-color: #008000\">I</span>][<span style=\"color: #008080; text-decoration-color: #008080; font-style: italic\">wordplay</span>/<span style=\"color: #000080; text-decoration-color: #000080\">trainer</span><span style=\"color: #0000ff; text-decoration-color: #0000ff\">:</span><span style=\"color: #800080; text-decoration-color: #800080\">831</span>]<span style=\"color: #c0c0c0; text-decoration-color: #c0c0c0\"> </span><span style=\"color: #ff00ff; text-decoration-color: #ff00ff\">[</span><span style=\"color: #008000; text-decoration-color: #008000\">'response'</span><span style=\"color: #ff00ff; text-decoration-color: #ff00ff\">]</span>:\n",
              "\n",
              "What is an LLM?\n",
              "\n",
              "Thile than bat ton dor nong mur,\n",
              "NO belll lit lop gereing ichth ts heas fopoo l s fowis the\n",
              "\n",
              "Wofores pis wiceris chithith d concofabththesthis t me t t of sis meagoury.\n",
              "\n",
              "ARO:\n",
              "Whe my m bo ar f s yourel s f ther thindusolofe s m s le iserangofothin thesith\n",
              "</pre>\n"
            ]
          },
          "metadata": {}
        },
        {
          "output_type": "display_data",
          "data": {
            "text/plain": [
              "[\u001b[2m2025-07-23 \u001b[0m\u001b[2m17:19:31,494673\u001b[0m][\u001b[32mI\u001b[0m][\u001b[3;36mwordplay\u001b[0m/\u001b[34mtrainer\u001b[0m\u001b[94m:\u001b[0m\u001b[35m762\u001b[0m]\u001b[37m \u001b[0mSaving checkpoint to: \u001b[35m/\u001b[0m\u001b[95mcontent\u001b[0m\n"
            ],
            "text/html": [
              "<pre style=\"white-space:pre;overflow-x:auto;line-height:normal;font-family:Menlo,'DejaVu Sans Mono',consolas,'Courier New',monospace\">[<span style=\"color: #7f7f7f; text-decoration-color: #7f7f7f\">2025-07-23 17:19:31,494673</span>][<span style=\"color: #008000; text-decoration-color: #008000\">I</span>][<span style=\"color: #008080; text-decoration-color: #008080; font-style: italic\">wordplay</span>/<span style=\"color: #000080; text-decoration-color: #000080\">trainer</span><span style=\"color: #0000ff; text-decoration-color: #0000ff\">:</span><span style=\"color: #800080; text-decoration-color: #800080\">762</span>]<span style=\"color: #c0c0c0; text-decoration-color: #c0c0c0\"> </span>Saving checkpoint to: <span style=\"color: #800080; text-decoration-color: #800080\">/</span><span style=\"color: #ff00ff; text-decoration-color: #ff00ff\">content</span>\n",
              "</pre>\n"
            ]
          },
          "metadata": {}
        },
        {
          "output_type": "display_data",
          "data": {
            "text/plain": [
              "[\u001b[2m2025-07-23 \u001b[0m\u001b[2m17:19:31,499399\u001b[0m][\u001b[32mI\u001b[0m][\u001b[3;36mwordplay\u001b[0m/\u001b[34mtrainer\u001b[0m\u001b[94m:\u001b[0m\u001b[35m763\u001b[0m]\u001b[37m \u001b[0mSaving model to: \u001b[35m/content/\u001b[0m\u001b[95mmodel.pth\u001b[0m\n"
            ],
            "text/html": [
              "<pre style=\"white-space:pre;overflow-x:auto;line-height:normal;font-family:Menlo,'DejaVu Sans Mono',consolas,'Courier New',monospace\">[<span style=\"color: #7f7f7f; text-decoration-color: #7f7f7f\">2025-07-23 17:19:31,499399</span>][<span style=\"color: #008000; text-decoration-color: #008000\">I</span>][<span style=\"color: #008080; text-decoration-color: #008080; font-style: italic\">wordplay</span>/<span style=\"color: #000080; text-decoration-color: #000080\">trainer</span><span style=\"color: #0000ff; text-decoration-color: #0000ff\">:</span><span style=\"color: #800080; text-decoration-color: #800080\">763</span>]<span style=\"color: #c0c0c0; text-decoration-color: #c0c0c0\"> </span>Saving model to: <span style=\"color: #800080; text-decoration-color: #800080\">/content/</span><span style=\"color: #ff00ff; text-decoration-color: #ff00ff\">model.pth</span>\n",
              "</pre>\n"
            ]
          },
          "metadata": {}
        },
        {
          "output_type": "display_data",
          "data": {
            "text/plain": [
              "[\u001b[2m2025-07-23 \u001b[0m\u001b[2m17:19:31,956960\u001b[0m][\u001b[32mI\u001b[0m][\u001b[3;36mwordplay\u001b[0m/\u001b[34mconfigs\u001b[0m\u001b[94m:\u001b[0m\u001b[35m141\u001b[0m]\u001b[37m \u001b[0mAppending \u001b[35m/\u001b[0m\u001b[95mcontent\u001b[0m to \u001b[35m/content/wordplay/src/ckpts/\u001b[0m\u001b[95mcheckpoints.log\u001b[0m\n"
            ],
            "text/html": [
              "<pre style=\"white-space:pre;overflow-x:auto;line-height:normal;font-family:Menlo,'DejaVu Sans Mono',consolas,'Courier New',monospace\">[<span style=\"color: #7f7f7f; text-decoration-color: #7f7f7f\">2025-07-23 17:19:31,956960</span>][<span style=\"color: #008000; text-decoration-color: #008000\">I</span>][<span style=\"color: #008080; text-decoration-color: #008080; font-style: italic\">wordplay</span>/<span style=\"color: #000080; text-decoration-color: #000080\">configs</span><span style=\"color: #0000ff; text-decoration-color: #0000ff\">:</span><span style=\"color: #800080; text-decoration-color: #800080\">141</span>]<span style=\"color: #c0c0c0; text-decoration-color: #c0c0c0\"> </span>Appending <span style=\"color: #800080; text-decoration-color: #800080\">/</span><span style=\"color: #ff00ff; text-decoration-color: #ff00ff\">content</span> to <span style=\"color: #800080; text-decoration-color: #800080\">/content/wordplay/src/ckpts/</span><span style=\"color: #ff00ff; text-decoration-color: #ff00ff\">checkpoints.log</span>\n",
              "</pre>\n"
            ]
          },
          "metadata": {}
        },
        {
          "output_type": "display_data",
          "data": {
            "text/plain": [
              "[\u001b[2m2025-07-23 \u001b[0m\u001b[2m17:19:35,780584\u001b[0m][\u001b[32mI\u001b[0m][\u001b[3;36mwordplay\u001b[0m/\u001b[34mtrainer\u001b[0m\u001b[94m:\u001b[0m\u001b[35m894\u001b[0m]\u001b[37m \u001b[0m\u001b[94mstep\u001b[0m=\u001b[1;36m710\u001b[0m \u001b[94mloss\u001b[0m=\u001b[1;36m2\u001b[0m\u001b[1;36m.41346\u001b[0m \u001b[94mdt\u001b[0m=\u001b[1;36m0\u001b[0m\u001b[1;36m.378216\u001b[0m \u001b[94mdtf\u001b[0m=\u001b[1;36m0\u001b[0m\u001b[1;36m.00835439\u001b[0m \u001b[94mdtb\u001b[0m=\u001b[1;36m0\u001b[0m\u001b[1;36m.0104115\u001b[0m \u001b[94msps\u001b[0m=\u001b[1;36m2\u001b[0m\u001b[1;36m.64399\u001b[0m \u001b[94msps_per_gpu\u001b[0m=\u001b[1;36m2\u001b[0m\u001b[1;36m.64399\u001b[0m \u001b[94mtps\u001b[0m=\u001b[1;36m21659\u001b[0m\u001b[1;36m.6\u001b[0m \u001b[94mtps_per_gpu\u001b[0m=\u001b[1;36m21659\u001b[0m\u001b[1;36m.6\u001b[0m \u001b[94mmfu\u001b[0m=\u001b[1;36m0\u001b[0m\u001b[1;36m.63441\u001b[0m\n"
            ],
            "text/html": [
              "<pre style=\"white-space:pre;overflow-x:auto;line-height:normal;font-family:Menlo,'DejaVu Sans Mono',consolas,'Courier New',monospace\">[<span style=\"color: #7f7f7f; text-decoration-color: #7f7f7f\">2025-07-23 17:19:35,780584</span>][<span style=\"color: #008000; text-decoration-color: #008000\">I</span>][<span style=\"color: #008080; text-decoration-color: #008080; font-style: italic\">wordplay</span>/<span style=\"color: #000080; text-decoration-color: #000080\">trainer</span><span style=\"color: #0000ff; text-decoration-color: #0000ff\">:</span><span style=\"color: #800080; text-decoration-color: #800080\">894</span>]<span style=\"color: #c0c0c0; text-decoration-color: #c0c0c0\"> </span><span style=\"color: #0000ff; text-decoration-color: #0000ff\">step</span>=<span style=\"color: #008080; text-decoration-color: #008080; font-weight: bold\">710</span> <span style=\"color: #0000ff; text-decoration-color: #0000ff\">loss</span>=<span style=\"color: #008080; text-decoration-color: #008080; font-weight: bold\">2.41346</span> <span style=\"color: #0000ff; text-decoration-color: #0000ff\">dt</span>=<span style=\"color: #008080; text-decoration-color: #008080; font-weight: bold\">0.378216</span> <span style=\"color: #0000ff; text-decoration-color: #0000ff\">dtf</span>=<span style=\"color: #008080; text-decoration-color: #008080; font-weight: bold\">0.00835439</span> <span style=\"color: #0000ff; text-decoration-color: #0000ff\">dtb</span>=<span style=\"color: #008080; text-decoration-color: #008080; font-weight: bold\">0.0104115</span> <span style=\"color: #0000ff; text-decoration-color: #0000ff\">sps</span>=<span style=\"color: #008080; text-decoration-color: #008080; font-weight: bold\">2.64399</span> <span style=\"color: #0000ff; text-decoration-color: #0000ff\">sps_per_gpu</span>=<span style=\"color: #008080; text-decoration-color: #008080; font-weight: bold\">2.64399</span> <span style=\"color: #0000ff; text-decoration-color: #0000ff\">tps</span>=<span style=\"color: #008080; text-decoration-color: #008080; font-weight: bold\">21659.6</span> <span style=\"color: #0000ff; text-decoration-color: #0000ff\">tps_per_gpu</span>=<span style=\"color: #008080; text-decoration-color: #008080; font-weight: bold\">21659.6</span> <span style=\"color: #0000ff; text-decoration-color: #0000ff\">mfu</span>=<span style=\"color: #008080; text-decoration-color: #008080; font-weight: bold\">0.63441</span>\n",
              "</pre>\n"
            ]
          },
          "metadata": {}
        },
        {
          "output_type": "display_data",
          "data": {
            "text/plain": [
              "[\u001b[2m2025-07-23 \u001b[0m\u001b[2m17:19:39,611784\u001b[0m][\u001b[32mI\u001b[0m][\u001b[3;36mwordplay\u001b[0m/\u001b[34mtrainer\u001b[0m\u001b[94m:\u001b[0m\u001b[35m894\u001b[0m]\u001b[37m \u001b[0m\u001b[94mstep\u001b[0m=\u001b[1;36m720\u001b[0m \u001b[94mloss\u001b[0m=\u001b[1;36m2\u001b[0m\u001b[1;36m.39009\u001b[0m \u001b[94mdt\u001b[0m=\u001b[1;36m0\u001b[0m\u001b[1;36m.383217\u001b[0m \u001b[94mdtf\u001b[0m=\u001b[1;36m0\u001b[0m\u001b[1;36m.00772173\u001b[0m \u001b[94mdtb\u001b[0m=\u001b[1;36m0\u001b[0m\u001b[1;36m.010444\u001b[0m \u001b[94msps\u001b[0m=\u001b[1;36m2\u001b[0m\u001b[1;36m.60949\u001b[0m \u001b[94msps_per_gpu\u001b[0m=\u001b[1;36m2\u001b[0m\u001b[1;36m.60949\u001b[0m \u001b[94mtps\u001b[0m=\u001b[1;36m21376\u001b[0m\u001b[1;36m.9\u001b[0m \u001b[94mtps_per_gpu\u001b[0m=\u001b[1;36m21376\u001b[0m\u001b[1;36m.9\u001b[0m \u001b[94mmfu\u001b[0m=\u001b[1;36m0\u001b[0m\u001b[1;36m.634135\u001b[0m\n"
            ],
            "text/html": [
              "<pre style=\"white-space:pre;overflow-x:auto;line-height:normal;font-family:Menlo,'DejaVu Sans Mono',consolas,'Courier New',monospace\">[<span style=\"color: #7f7f7f; text-decoration-color: #7f7f7f\">2025-07-23 17:19:39,611784</span>][<span style=\"color: #008000; text-decoration-color: #008000\">I</span>][<span style=\"color: #008080; text-decoration-color: #008080; font-style: italic\">wordplay</span>/<span style=\"color: #000080; text-decoration-color: #000080\">trainer</span><span style=\"color: #0000ff; text-decoration-color: #0000ff\">:</span><span style=\"color: #800080; text-decoration-color: #800080\">894</span>]<span style=\"color: #c0c0c0; text-decoration-color: #c0c0c0\"> </span><span style=\"color: #0000ff; text-decoration-color: #0000ff\">step</span>=<span style=\"color: #008080; text-decoration-color: #008080; font-weight: bold\">720</span> <span style=\"color: #0000ff; text-decoration-color: #0000ff\">loss</span>=<span style=\"color: #008080; text-decoration-color: #008080; font-weight: bold\">2.39009</span> <span style=\"color: #0000ff; text-decoration-color: #0000ff\">dt</span>=<span style=\"color: #008080; text-decoration-color: #008080; font-weight: bold\">0.383217</span> <span style=\"color: #0000ff; text-decoration-color: #0000ff\">dtf</span>=<span style=\"color: #008080; text-decoration-color: #008080; font-weight: bold\">0.00772173</span> <span style=\"color: #0000ff; text-decoration-color: #0000ff\">dtb</span>=<span style=\"color: #008080; text-decoration-color: #008080; font-weight: bold\">0.010444</span> <span style=\"color: #0000ff; text-decoration-color: #0000ff\">sps</span>=<span style=\"color: #008080; text-decoration-color: #008080; font-weight: bold\">2.60949</span> <span style=\"color: #0000ff; text-decoration-color: #0000ff\">sps_per_gpu</span>=<span style=\"color: #008080; text-decoration-color: #008080; font-weight: bold\">2.60949</span> <span style=\"color: #0000ff; text-decoration-color: #0000ff\">tps</span>=<span style=\"color: #008080; text-decoration-color: #008080; font-weight: bold\">21376.9</span> <span style=\"color: #0000ff; text-decoration-color: #0000ff\">tps_per_gpu</span>=<span style=\"color: #008080; text-decoration-color: #008080; font-weight: bold\">21376.9</span> <span style=\"color: #0000ff; text-decoration-color: #0000ff\">mfu</span>=<span style=\"color: #008080; text-decoration-color: #008080; font-weight: bold\">0.634135</span>\n",
              "</pre>\n"
            ]
          },
          "metadata": {}
        },
        {
          "output_type": "display_data",
          "data": {
            "text/plain": [
              "[\u001b[2m2025-07-23 \u001b[0m\u001b[2m17:19:43,450301\u001b[0m][\u001b[32mI\u001b[0m][\u001b[3;36mwordplay\u001b[0m/\u001b[34mtrainer\u001b[0m\u001b[94m:\u001b[0m\u001b[35m894\u001b[0m]\u001b[37m \u001b[0m\u001b[94mstep\u001b[0m=\u001b[1;36m730\u001b[0m \u001b[94mloss\u001b[0m=\u001b[1;36m2\u001b[0m\u001b[1;36m.38395\u001b[0m \u001b[94mdt\u001b[0m=\u001b[1;36m0\u001b[0m\u001b[1;36m.38477\u001b[0m \u001b[94mdtf\u001b[0m=\u001b[1;36m0\u001b[0m\u001b[1;36m.0103028\u001b[0m \u001b[94mdtb\u001b[0m=\u001b[1;36m0\u001b[0m\u001b[1;36m.0132564\u001b[0m \u001b[94msps\u001b[0m=\u001b[1;36m2\u001b[0m\u001b[1;36m.59896\u001b[0m \u001b[94msps_per_gpu\u001b[0m=\u001b[1;36m2\u001b[0m\u001b[1;36m.59896\u001b[0m \u001b[94mtps\u001b[0m=\u001b[1;36m21290\u001b[0m\u001b[1;36m.6\u001b[0m \u001b[94mtps_per_gpu\u001b[0m=\u001b[1;36m21290\u001b[0m\u001b[1;36m.6\u001b[0m \u001b[94mmfu\u001b[0m=\u001b[1;36m0\u001b[0m\u001b[1;36m.633633\u001b[0m\n"
            ],
            "text/html": [
              "<pre style=\"white-space:pre;overflow-x:auto;line-height:normal;font-family:Menlo,'DejaVu Sans Mono',consolas,'Courier New',monospace\">[<span style=\"color: #7f7f7f; text-decoration-color: #7f7f7f\">2025-07-23 17:19:43,450301</span>][<span style=\"color: #008000; text-decoration-color: #008000\">I</span>][<span style=\"color: #008080; text-decoration-color: #008080; font-style: italic\">wordplay</span>/<span style=\"color: #000080; text-decoration-color: #000080\">trainer</span><span style=\"color: #0000ff; text-decoration-color: #0000ff\">:</span><span style=\"color: #800080; text-decoration-color: #800080\">894</span>]<span style=\"color: #c0c0c0; text-decoration-color: #c0c0c0\"> </span><span style=\"color: #0000ff; text-decoration-color: #0000ff\">step</span>=<span style=\"color: #008080; text-decoration-color: #008080; font-weight: bold\">730</span> <span style=\"color: #0000ff; text-decoration-color: #0000ff\">loss</span>=<span style=\"color: #008080; text-decoration-color: #008080; font-weight: bold\">2.38395</span> <span style=\"color: #0000ff; text-decoration-color: #0000ff\">dt</span>=<span style=\"color: #008080; text-decoration-color: #008080; font-weight: bold\">0.38477</span> <span style=\"color: #0000ff; text-decoration-color: #0000ff\">dtf</span>=<span style=\"color: #008080; text-decoration-color: #008080; font-weight: bold\">0.0103028</span> <span style=\"color: #0000ff; text-decoration-color: #0000ff\">dtb</span>=<span style=\"color: #008080; text-decoration-color: #008080; font-weight: bold\">0.0132564</span> <span style=\"color: #0000ff; text-decoration-color: #0000ff\">sps</span>=<span style=\"color: #008080; text-decoration-color: #008080; font-weight: bold\">2.59896</span> <span style=\"color: #0000ff; text-decoration-color: #0000ff\">sps_per_gpu</span>=<span style=\"color: #008080; text-decoration-color: #008080; font-weight: bold\">2.59896</span> <span style=\"color: #0000ff; text-decoration-color: #0000ff\">tps</span>=<span style=\"color: #008080; text-decoration-color: #008080; font-weight: bold\">21290.6</span> <span style=\"color: #0000ff; text-decoration-color: #0000ff\">tps_per_gpu</span>=<span style=\"color: #008080; text-decoration-color: #008080; font-weight: bold\">21290.6</span> <span style=\"color: #0000ff; text-decoration-color: #0000ff\">mfu</span>=<span style=\"color: #008080; text-decoration-color: #008080; font-weight: bold\">0.633633</span>\n",
              "</pre>\n"
            ]
          },
          "metadata": {}
        },
        {
          "output_type": "display_data",
          "data": {
            "text/plain": [
              "[\u001b[2m2025-07-23 \u001b[0m\u001b[2m17:19:47,286173\u001b[0m][\u001b[32mI\u001b[0m][\u001b[3;36mwordplay\u001b[0m/\u001b[34mtrainer\u001b[0m\u001b[94m:\u001b[0m\u001b[35m894\u001b[0m]\u001b[37m \u001b[0m\u001b[94mstep\u001b[0m=\u001b[1;36m740\u001b[0m \u001b[94mloss\u001b[0m=\u001b[1;36m2\u001b[0m\u001b[1;36m.35507\u001b[0m \u001b[94mdt\u001b[0m=\u001b[1;36m0\u001b[0m\u001b[1;36m.382978\u001b[0m \u001b[94mdtf\u001b[0m=\u001b[1;36m0\u001b[0m\u001b[1;36m.00775962\u001b[0m \u001b[94mdtb\u001b[0m=\u001b[1;36m0\u001b[0m\u001b[1;36m.00999175\u001b[0m \u001b[94msps\u001b[0m=\u001b[1;36m2\u001b[0m\u001b[1;36m.61112\u001b[0m \u001b[94msps_per_gpu\u001b[0m=\u001b[1;36m2\u001b[0m\u001b[1;36m.61112\u001b[0m \u001b[94mtps\u001b[0m=\u001b[1;36m21390\u001b[0m\u001b[1;36m.3\u001b[0m \u001b[94mtps_per_gpu\u001b[0m=\u001b[1;36m21390\u001b[0m\u001b[1;36m.3\u001b[0m \u001b[94mmfu\u001b[0m=\u001b[1;36m0\u001b[0m\u001b[1;36m.633475\u001b[0m\n"
            ],
            "text/html": [
              "<pre style=\"white-space:pre;overflow-x:auto;line-height:normal;font-family:Menlo,'DejaVu Sans Mono',consolas,'Courier New',monospace\">[<span style=\"color: #7f7f7f; text-decoration-color: #7f7f7f\">2025-07-23 17:19:47,286173</span>][<span style=\"color: #008000; text-decoration-color: #008000\">I</span>][<span style=\"color: #008080; text-decoration-color: #008080; font-style: italic\">wordplay</span>/<span style=\"color: #000080; text-decoration-color: #000080\">trainer</span><span style=\"color: #0000ff; text-decoration-color: #0000ff\">:</span><span style=\"color: #800080; text-decoration-color: #800080\">894</span>]<span style=\"color: #c0c0c0; text-decoration-color: #c0c0c0\"> </span><span style=\"color: #0000ff; text-decoration-color: #0000ff\">step</span>=<span style=\"color: #008080; text-decoration-color: #008080; font-weight: bold\">740</span> <span style=\"color: #0000ff; text-decoration-color: #0000ff\">loss</span>=<span style=\"color: #008080; text-decoration-color: #008080; font-weight: bold\">2.35507</span> <span style=\"color: #0000ff; text-decoration-color: #0000ff\">dt</span>=<span style=\"color: #008080; text-decoration-color: #008080; font-weight: bold\">0.382978</span> <span style=\"color: #0000ff; text-decoration-color: #0000ff\">dtf</span>=<span style=\"color: #008080; text-decoration-color: #008080; font-weight: bold\">0.00775962</span> <span style=\"color: #0000ff; text-decoration-color: #0000ff\">dtb</span>=<span style=\"color: #008080; text-decoration-color: #008080; font-weight: bold\">0.00999175</span> <span style=\"color: #0000ff; text-decoration-color: #0000ff\">sps</span>=<span style=\"color: #008080; text-decoration-color: #008080; font-weight: bold\">2.61112</span> <span style=\"color: #0000ff; text-decoration-color: #0000ff\">sps_per_gpu</span>=<span style=\"color: #008080; text-decoration-color: #008080; font-weight: bold\">2.61112</span> <span style=\"color: #0000ff; text-decoration-color: #0000ff\">tps</span>=<span style=\"color: #008080; text-decoration-color: #008080; font-weight: bold\">21390.3</span> <span style=\"color: #0000ff; text-decoration-color: #0000ff\">tps_per_gpu</span>=<span style=\"color: #008080; text-decoration-color: #008080; font-weight: bold\">21390.3</span> <span style=\"color: #0000ff; text-decoration-color: #0000ff\">mfu</span>=<span style=\"color: #008080; text-decoration-color: #008080; font-weight: bold\">0.633475</span>\n",
              "</pre>\n"
            ]
          },
          "metadata": {}
        },
        {
          "output_type": "display_data",
          "data": {
            "text/plain": [
              "[\u001b[2m2025-07-23 \u001b[0m\u001b[2m17:19:51,122311\u001b[0m][\u001b[32mI\u001b[0m][\u001b[3;36mwordplay\u001b[0m/\u001b[34mtrainer\u001b[0m\u001b[94m:\u001b[0m\u001b[35m894\u001b[0m]\u001b[37m \u001b[0m\u001b[94mstep\u001b[0m=\u001b[1;36m750\u001b[0m \u001b[94mloss\u001b[0m=\u001b[1;36m2\u001b[0m\u001b[1;36m.34116\u001b[0m \u001b[94mdt\u001b[0m=\u001b[1;36m0\u001b[0m\u001b[1;36m.385881\u001b[0m \u001b[94mdtf\u001b[0m=\u001b[1;36m0\u001b[0m\u001b[1;36m.00818335\u001b[0m \u001b[94mdtb\u001b[0m=\u001b[1;36m0\u001b[0m\u001b[1;36m.0122375\u001b[0m \u001b[94msps\u001b[0m=\u001b[1;36m2\u001b[0m\u001b[1;36m.59147\u001b[0m \u001b[94msps_per_gpu\u001b[0m=\u001b[1;36m2\u001b[0m\u001b[1;36m.59147\u001b[0m \u001b[94mtps\u001b[0m=\u001b[1;36m21229\u001b[0m\u001b[1;36m.3\u001b[0m \u001b[94mtps_per_gpu\u001b[0m=\u001b[1;36m21229\u001b[0m\u001b[1;36m.3\u001b[0m \u001b[94mmfu\u001b[0m=\u001b[1;36m0\u001b[0m\u001b[1;36m.632858\u001b[0m\n"
            ],
            "text/html": [
              "<pre style=\"white-space:pre;overflow-x:auto;line-height:normal;font-family:Menlo,'DejaVu Sans Mono',consolas,'Courier New',monospace\">[<span style=\"color: #7f7f7f; text-decoration-color: #7f7f7f\">2025-07-23 17:19:51,122311</span>][<span style=\"color: #008000; text-decoration-color: #008000\">I</span>][<span style=\"color: #008080; text-decoration-color: #008080; font-style: italic\">wordplay</span>/<span style=\"color: #000080; text-decoration-color: #000080\">trainer</span><span style=\"color: #0000ff; text-decoration-color: #0000ff\">:</span><span style=\"color: #800080; text-decoration-color: #800080\">894</span>]<span style=\"color: #c0c0c0; text-decoration-color: #c0c0c0\"> </span><span style=\"color: #0000ff; text-decoration-color: #0000ff\">step</span>=<span style=\"color: #008080; text-decoration-color: #008080; font-weight: bold\">750</span> <span style=\"color: #0000ff; text-decoration-color: #0000ff\">loss</span>=<span style=\"color: #008080; text-decoration-color: #008080; font-weight: bold\">2.34116</span> <span style=\"color: #0000ff; text-decoration-color: #0000ff\">dt</span>=<span style=\"color: #008080; text-decoration-color: #008080; font-weight: bold\">0.385881</span> <span style=\"color: #0000ff; text-decoration-color: #0000ff\">dtf</span>=<span style=\"color: #008080; text-decoration-color: #008080; font-weight: bold\">0.00818335</span> <span style=\"color: #0000ff; text-decoration-color: #0000ff\">dtb</span>=<span style=\"color: #008080; text-decoration-color: #008080; font-weight: bold\">0.0122375</span> <span style=\"color: #0000ff; text-decoration-color: #0000ff\">sps</span>=<span style=\"color: #008080; text-decoration-color: #008080; font-weight: bold\">2.59147</span> <span style=\"color: #0000ff; text-decoration-color: #0000ff\">sps_per_gpu</span>=<span style=\"color: #008080; text-decoration-color: #008080; font-weight: bold\">2.59147</span> <span style=\"color: #0000ff; text-decoration-color: #0000ff\">tps</span>=<span style=\"color: #008080; text-decoration-color: #008080; font-weight: bold\">21229.3</span> <span style=\"color: #0000ff; text-decoration-color: #0000ff\">tps_per_gpu</span>=<span style=\"color: #008080; text-decoration-color: #008080; font-weight: bold\">21229.3</span> <span style=\"color: #0000ff; text-decoration-color: #0000ff\">mfu</span>=<span style=\"color: #008080; text-decoration-color: #008080; font-weight: bold\">0.632858</span>\n",
              "</pre>\n"
            ]
          },
          "metadata": {}
        },
        {
          "output_type": "display_data",
          "data": {
            "text/plain": [
              "[\u001b[2m2025-07-23 \u001b[0m\u001b[2m17:19:54,958706\u001b[0m][\u001b[32mI\u001b[0m][\u001b[3;36mwordplay\u001b[0m/\u001b[34mtrainer\u001b[0m\u001b[94m:\u001b[0m\u001b[35m894\u001b[0m]\u001b[37m \u001b[0m\u001b[94mstep\u001b[0m=\u001b[1;36m760\u001b[0m \u001b[94mloss\u001b[0m=\u001b[1;36m2\u001b[0m\u001b[1;36m.35229\u001b[0m \u001b[94mdt\u001b[0m=\u001b[1;36m0\u001b[0m\u001b[1;36m.395003\u001b[0m \u001b[94mdtf\u001b[0m=\u001b[1;36m0\u001b[0m\u001b[1;36m.0133316\u001b[0m \u001b[94mdtb\u001b[0m=\u001b[1;36m0\u001b[0m\u001b[1;36m.0176366\u001b[0m \u001b[94msps\u001b[0m=\u001b[1;36m2\u001b[0m\u001b[1;36m.53163\u001b[0m \u001b[94msps_per_gpu\u001b[0m=\u001b[1;36m2\u001b[0m\u001b[1;36m.53163\u001b[0m \u001b[94mtps\u001b[0m=\u001b[1;36m20739\u001b[0m\u001b[1;36m.1\u001b[0m \u001b[94mtps_per_gpu\u001b[0m=\u001b[1;36m20739\u001b[0m\u001b[1;36m.1\u001b[0m \u001b[94mmfu\u001b[0m=\u001b[1;36m0\u001b[0m\u001b[1;36m.630854\u001b[0m\n"
            ],
            "text/html": [
              "<pre style=\"white-space:pre;overflow-x:auto;line-height:normal;font-family:Menlo,'DejaVu Sans Mono',consolas,'Courier New',monospace\">[<span style=\"color: #7f7f7f; text-decoration-color: #7f7f7f\">2025-07-23 17:19:54,958706</span>][<span style=\"color: #008000; text-decoration-color: #008000\">I</span>][<span style=\"color: #008080; text-decoration-color: #008080; font-style: italic\">wordplay</span>/<span style=\"color: #000080; text-decoration-color: #000080\">trainer</span><span style=\"color: #0000ff; text-decoration-color: #0000ff\">:</span><span style=\"color: #800080; text-decoration-color: #800080\">894</span>]<span style=\"color: #c0c0c0; text-decoration-color: #c0c0c0\"> </span><span style=\"color: #0000ff; text-decoration-color: #0000ff\">step</span>=<span style=\"color: #008080; text-decoration-color: #008080; font-weight: bold\">760</span> <span style=\"color: #0000ff; text-decoration-color: #0000ff\">loss</span>=<span style=\"color: #008080; text-decoration-color: #008080; font-weight: bold\">2.35229</span> <span style=\"color: #0000ff; text-decoration-color: #0000ff\">dt</span>=<span style=\"color: #008080; text-decoration-color: #008080; font-weight: bold\">0.395003</span> <span style=\"color: #0000ff; text-decoration-color: #0000ff\">dtf</span>=<span style=\"color: #008080; text-decoration-color: #008080; font-weight: bold\">0.0133316</span> <span style=\"color: #0000ff; text-decoration-color: #0000ff\">dtb</span>=<span style=\"color: #008080; text-decoration-color: #008080; font-weight: bold\">0.0176366</span> <span style=\"color: #0000ff; text-decoration-color: #0000ff\">sps</span>=<span style=\"color: #008080; text-decoration-color: #008080; font-weight: bold\">2.53163</span> <span style=\"color: #0000ff; text-decoration-color: #0000ff\">sps_per_gpu</span>=<span style=\"color: #008080; text-decoration-color: #008080; font-weight: bold\">2.53163</span> <span style=\"color: #0000ff; text-decoration-color: #0000ff\">tps</span>=<span style=\"color: #008080; text-decoration-color: #008080; font-weight: bold\">20739.1</span> <span style=\"color: #0000ff; text-decoration-color: #0000ff\">tps_per_gpu</span>=<span style=\"color: #008080; text-decoration-color: #008080; font-weight: bold\">20739.1</span> <span style=\"color: #0000ff; text-decoration-color: #0000ff\">mfu</span>=<span style=\"color: #008080; text-decoration-color: #008080; font-weight: bold\">0.630854</span>\n",
              "</pre>\n"
            ]
          },
          "metadata": {}
        },
        {
          "output_type": "display_data",
          "data": {
            "text/plain": [
              "[\u001b[2m2025-07-23 \u001b[0m\u001b[2m17:19:58,793260\u001b[0m][\u001b[32mI\u001b[0m][\u001b[3;36mwordplay\u001b[0m/\u001b[34mtrainer\u001b[0m\u001b[94m:\u001b[0m\u001b[35m894\u001b[0m]\u001b[37m \u001b[0m\u001b[94mstep\u001b[0m=\u001b[1;36m770\u001b[0m \u001b[94mloss\u001b[0m=\u001b[1;36m2\u001b[0m\u001b[1;36m.34521\u001b[0m \u001b[94mdt\u001b[0m=\u001b[1;36m0\u001b[0m\u001b[1;36m.381653\u001b[0m \u001b[94mdtf\u001b[0m=\u001b[1;36m0\u001b[0m\u001b[1;36m.00799117\u001b[0m \u001b[94mdtb\u001b[0m=\u001b[1;36m0\u001b[0m\u001b[1;36m.0100162\u001b[0m \u001b[94msps\u001b[0m=\u001b[1;36m2\u001b[0m\u001b[1;36m.62018\u001b[0m \u001b[94msps_per_gpu\u001b[0m=\u001b[1;36m2\u001b[0m\u001b[1;36m.62018\u001b[0m \u001b[94mtps\u001b[0m=\u001b[1;36m21464\u001b[0m\u001b[1;36m.5\u001b[0m \u001b[94mtps_per_gpu\u001b[0m=\u001b[1;36m21464\u001b[0m\u001b[1;36m.5\u001b[0m \u001b[94mmfu\u001b[0m=\u001b[1;36m0\u001b[0m\u001b[1;36m.631194\u001b[0m\n"
            ],
            "text/html": [
              "<pre style=\"white-space:pre;overflow-x:auto;line-height:normal;font-family:Menlo,'DejaVu Sans Mono',consolas,'Courier New',monospace\">[<span style=\"color: #7f7f7f; text-decoration-color: #7f7f7f\">2025-07-23 17:19:58,793260</span>][<span style=\"color: #008000; text-decoration-color: #008000\">I</span>][<span style=\"color: #008080; text-decoration-color: #008080; font-style: italic\">wordplay</span>/<span style=\"color: #000080; text-decoration-color: #000080\">trainer</span><span style=\"color: #0000ff; text-decoration-color: #0000ff\">:</span><span style=\"color: #800080; text-decoration-color: #800080\">894</span>]<span style=\"color: #c0c0c0; text-decoration-color: #c0c0c0\"> </span><span style=\"color: #0000ff; text-decoration-color: #0000ff\">step</span>=<span style=\"color: #008080; text-decoration-color: #008080; font-weight: bold\">770</span> <span style=\"color: #0000ff; text-decoration-color: #0000ff\">loss</span>=<span style=\"color: #008080; text-decoration-color: #008080; font-weight: bold\">2.34521</span> <span style=\"color: #0000ff; text-decoration-color: #0000ff\">dt</span>=<span style=\"color: #008080; text-decoration-color: #008080; font-weight: bold\">0.381653</span> <span style=\"color: #0000ff; text-decoration-color: #0000ff\">dtf</span>=<span style=\"color: #008080; text-decoration-color: #008080; font-weight: bold\">0.00799117</span> <span style=\"color: #0000ff; text-decoration-color: #0000ff\">dtb</span>=<span style=\"color: #008080; text-decoration-color: #008080; font-weight: bold\">0.0100162</span> <span style=\"color: #0000ff; text-decoration-color: #0000ff\">sps</span>=<span style=\"color: #008080; text-decoration-color: #008080; font-weight: bold\">2.62018</span> <span style=\"color: #0000ff; text-decoration-color: #0000ff\">sps_per_gpu</span>=<span style=\"color: #008080; text-decoration-color: #008080; font-weight: bold\">2.62018</span> <span style=\"color: #0000ff; text-decoration-color: #0000ff\">tps</span>=<span style=\"color: #008080; text-decoration-color: #008080; font-weight: bold\">21464.5</span> <span style=\"color: #0000ff; text-decoration-color: #0000ff\">tps_per_gpu</span>=<span style=\"color: #008080; text-decoration-color: #008080; font-weight: bold\">21464.5</span> <span style=\"color: #0000ff; text-decoration-color: #0000ff\">mfu</span>=<span style=\"color: #008080; text-decoration-color: #008080; font-weight: bold\">0.631194</span>\n",
              "</pre>\n"
            ]
          },
          "metadata": {}
        },
        {
          "output_type": "display_data",
          "data": {
            "text/plain": [
              "[\u001b[2m2025-07-23 \u001b[0m\u001b[2m17:20:02,627603\u001b[0m][\u001b[32mI\u001b[0m][\u001b[3;36mwordplay\u001b[0m/\u001b[34mtrainer\u001b[0m\u001b[94m:\u001b[0m\u001b[35m894\u001b[0m]\u001b[37m \u001b[0m\u001b[94mstep\u001b[0m=\u001b[1;36m780\u001b[0m \u001b[94mloss\u001b[0m=\u001b[1;36m2\u001b[0m\u001b[1;36m.31829\u001b[0m \u001b[94mdt\u001b[0m=\u001b[1;36m0\u001b[0m\u001b[1;36m.384113\u001b[0m \u001b[94mdtf\u001b[0m=\u001b[1;36m0\u001b[0m\u001b[1;36m.00808119\u001b[0m \u001b[94mdtb\u001b[0m=\u001b[1;36m0\u001b[0m\u001b[1;36m.0106393\u001b[0m \u001b[94msps\u001b[0m=\u001b[1;36m2\u001b[0m\u001b[1;36m.6034\u001b[0m \u001b[94msps_per_gpu\u001b[0m=\u001b[1;36m2\u001b[0m\u001b[1;36m.6034\u001b[0m \u001b[94mtps\u001b[0m=\u001b[1;36m21327\u001b[0m\u001b[1;36m.1\u001b[0m \u001b[94mtps_per_gpu\u001b[0m=\u001b[1;36m21327\u001b[0m\u001b[1;36m.1\u001b[0m \u001b[94mmfu\u001b[0m=\u001b[1;36m0\u001b[0m\u001b[1;36m.631093\u001b[0m\n"
            ],
            "text/html": [
              "<pre style=\"white-space:pre;overflow-x:auto;line-height:normal;font-family:Menlo,'DejaVu Sans Mono',consolas,'Courier New',monospace\">[<span style=\"color: #7f7f7f; text-decoration-color: #7f7f7f\">2025-07-23 17:20:02,627603</span>][<span style=\"color: #008000; text-decoration-color: #008000\">I</span>][<span style=\"color: #008080; text-decoration-color: #008080; font-style: italic\">wordplay</span>/<span style=\"color: #000080; text-decoration-color: #000080\">trainer</span><span style=\"color: #0000ff; text-decoration-color: #0000ff\">:</span><span style=\"color: #800080; text-decoration-color: #800080\">894</span>]<span style=\"color: #c0c0c0; text-decoration-color: #c0c0c0\"> </span><span style=\"color: #0000ff; text-decoration-color: #0000ff\">step</span>=<span style=\"color: #008080; text-decoration-color: #008080; font-weight: bold\">780</span> <span style=\"color: #0000ff; text-decoration-color: #0000ff\">loss</span>=<span style=\"color: #008080; text-decoration-color: #008080; font-weight: bold\">2.31829</span> <span style=\"color: #0000ff; text-decoration-color: #0000ff\">dt</span>=<span style=\"color: #008080; text-decoration-color: #008080; font-weight: bold\">0.384113</span> <span style=\"color: #0000ff; text-decoration-color: #0000ff\">dtf</span>=<span style=\"color: #008080; text-decoration-color: #008080; font-weight: bold\">0.00808119</span> <span style=\"color: #0000ff; text-decoration-color: #0000ff\">dtb</span>=<span style=\"color: #008080; text-decoration-color: #008080; font-weight: bold\">0.0106393</span> <span style=\"color: #0000ff; text-decoration-color: #0000ff\">sps</span>=<span style=\"color: #008080; text-decoration-color: #008080; font-weight: bold\">2.6034</span> <span style=\"color: #0000ff; text-decoration-color: #0000ff\">sps_per_gpu</span>=<span style=\"color: #008080; text-decoration-color: #008080; font-weight: bold\">2.6034</span> <span style=\"color: #0000ff; text-decoration-color: #0000ff\">tps</span>=<span style=\"color: #008080; text-decoration-color: #008080; font-weight: bold\">21327.1</span> <span style=\"color: #0000ff; text-decoration-color: #0000ff\">tps_per_gpu</span>=<span style=\"color: #008080; text-decoration-color: #008080; font-weight: bold\">21327.1</span> <span style=\"color: #0000ff; text-decoration-color: #0000ff\">mfu</span>=<span style=\"color: #008080; text-decoration-color: #008080; font-weight: bold\">0.631093</span>\n",
              "</pre>\n"
            ]
          },
          "metadata": {}
        },
        {
          "output_type": "display_data",
          "data": {
            "text/plain": [
              "[\u001b[2m2025-07-23 \u001b[0m\u001b[2m17:20:06,463581\u001b[0m][\u001b[32mI\u001b[0m][\u001b[3;36mwordplay\u001b[0m/\u001b[34mtrainer\u001b[0m\u001b[94m:\u001b[0m\u001b[35m894\u001b[0m]\u001b[37m \u001b[0m\u001b[94mstep\u001b[0m=\u001b[1;36m790\u001b[0m \u001b[94mloss\u001b[0m=\u001b[1;36m2\u001b[0m\u001b[1;36m.31021\u001b[0m \u001b[94mdt\u001b[0m=\u001b[1;36m0\u001b[0m\u001b[1;36m.383535\u001b[0m \u001b[94mdtf\u001b[0m=\u001b[1;36m0\u001b[0m\u001b[1;36m.00812252\u001b[0m \u001b[94mdtb\u001b[0m=\u001b[1;36m0\u001b[0m\u001b[1;36m.0103508\u001b[0m \u001b[94msps\u001b[0m=\u001b[1;36m2\u001b[0m\u001b[1;36m.60732\u001b[0m \u001b[94msps_per_gpu\u001b[0m=\u001b[1;36m2\u001b[0m\u001b[1;36m.60732\u001b[0m \u001b[94mtps\u001b[0m=\u001b[1;36m21359\u001b[0m\u001b[1;36m.2\u001b[0m \u001b[94mtps_per_gpu\u001b[0m=\u001b[1;36m21359\u001b[0m\u001b[1;36m.2\u001b[0m \u001b[94mmfu\u001b[0m=\u001b[1;36m0\u001b[0m\u001b[1;36m.631098\u001b[0m\n"
            ],
            "text/html": [
              "<pre style=\"white-space:pre;overflow-x:auto;line-height:normal;font-family:Menlo,'DejaVu Sans Mono',consolas,'Courier New',monospace\">[<span style=\"color: #7f7f7f; text-decoration-color: #7f7f7f\">2025-07-23 17:20:06,463581</span>][<span style=\"color: #008000; text-decoration-color: #008000\">I</span>][<span style=\"color: #008080; text-decoration-color: #008080; font-style: italic\">wordplay</span>/<span style=\"color: #000080; text-decoration-color: #000080\">trainer</span><span style=\"color: #0000ff; text-decoration-color: #0000ff\">:</span><span style=\"color: #800080; text-decoration-color: #800080\">894</span>]<span style=\"color: #c0c0c0; text-decoration-color: #c0c0c0\"> </span><span style=\"color: #0000ff; text-decoration-color: #0000ff\">step</span>=<span style=\"color: #008080; text-decoration-color: #008080; font-weight: bold\">790</span> <span style=\"color: #0000ff; text-decoration-color: #0000ff\">loss</span>=<span style=\"color: #008080; text-decoration-color: #008080; font-weight: bold\">2.31021</span> <span style=\"color: #0000ff; text-decoration-color: #0000ff\">dt</span>=<span style=\"color: #008080; text-decoration-color: #008080; font-weight: bold\">0.383535</span> <span style=\"color: #0000ff; text-decoration-color: #0000ff\">dtf</span>=<span style=\"color: #008080; text-decoration-color: #008080; font-weight: bold\">0.00812252</span> <span style=\"color: #0000ff; text-decoration-color: #0000ff\">dtb</span>=<span style=\"color: #008080; text-decoration-color: #008080; font-weight: bold\">0.0103508</span> <span style=\"color: #0000ff; text-decoration-color: #0000ff\">sps</span>=<span style=\"color: #008080; text-decoration-color: #008080; font-weight: bold\">2.60732</span> <span style=\"color: #0000ff; text-decoration-color: #0000ff\">sps_per_gpu</span>=<span style=\"color: #008080; text-decoration-color: #008080; font-weight: bold\">2.60732</span> <span style=\"color: #0000ff; text-decoration-color: #0000ff\">tps</span>=<span style=\"color: #008080; text-decoration-color: #008080; font-weight: bold\">21359.2</span> <span style=\"color: #0000ff; text-decoration-color: #0000ff\">tps_per_gpu</span>=<span style=\"color: #008080; text-decoration-color: #008080; font-weight: bold\">21359.2</span> <span style=\"color: #0000ff; text-decoration-color: #0000ff\">mfu</span>=<span style=\"color: #008080; text-decoration-color: #008080; font-weight: bold\">0.631098</span>\n",
              "</pre>\n"
            ]
          },
          "metadata": {}
        },
        {
          "output_type": "display_data",
          "data": {
            "text/plain": [
              "[\u001b[2m2025-07-23 \u001b[0m\u001b[2m17:20:10,293805\u001b[0m][\u001b[32mI\u001b[0m][\u001b[3;36mwordplay\u001b[0m/\u001b[34mtrainer\u001b[0m\u001b[94m:\u001b[0m\u001b[35m894\u001b[0m]\u001b[37m \u001b[0m\u001b[94mstep\u001b[0m=\u001b[1;36m800\u001b[0m \u001b[94mloss\u001b[0m=\u001b[1;36m2\u001b[0m\u001b[1;36m.30534\u001b[0m \u001b[94mdt\u001b[0m=\u001b[1;36m0\u001b[0m\u001b[1;36m.376394\u001b[0m \u001b[94mdtf\u001b[0m=\u001b[1;36m0\u001b[0m\u001b[1;36m.00790557\u001b[0m \u001b[94mdtb\u001b[0m=\u001b[1;36m0\u001b[0m\u001b[1;36m.0103412\u001b[0m \u001b[94msps\u001b[0m=\u001b[1;36m2\u001b[0m\u001b[1;36m.65679\u001b[0m \u001b[94msps_per_gpu\u001b[0m=\u001b[1;36m2\u001b[0m\u001b[1;36m.65679\u001b[0m \u001b[94mtps\u001b[0m=\u001b[1;36m21764\u001b[0m\u001b[1;36m.4\u001b[0m \u001b[94mtps_per_gpu\u001b[0m=\u001b[1;36m21764\u001b[0m\u001b[1;36m.4\u001b[0m \u001b[94mmfu\u001b[0m=\u001b[1;36m0\u001b[0m\u001b[1;36m.632299\u001b[0m\n"
            ],
            "text/html": [
              "<pre style=\"white-space:pre;overflow-x:auto;line-height:normal;font-family:Menlo,'DejaVu Sans Mono',consolas,'Courier New',monospace\">[<span style=\"color: #7f7f7f; text-decoration-color: #7f7f7f\">2025-07-23 17:20:10,293805</span>][<span style=\"color: #008000; text-decoration-color: #008000\">I</span>][<span style=\"color: #008080; text-decoration-color: #008080; font-style: italic\">wordplay</span>/<span style=\"color: #000080; text-decoration-color: #000080\">trainer</span><span style=\"color: #0000ff; text-decoration-color: #0000ff\">:</span><span style=\"color: #800080; text-decoration-color: #800080\">894</span>]<span style=\"color: #c0c0c0; text-decoration-color: #c0c0c0\"> </span><span style=\"color: #0000ff; text-decoration-color: #0000ff\">step</span>=<span style=\"color: #008080; text-decoration-color: #008080; font-weight: bold\">800</span> <span style=\"color: #0000ff; text-decoration-color: #0000ff\">loss</span>=<span style=\"color: #008080; text-decoration-color: #008080; font-weight: bold\">2.30534</span> <span style=\"color: #0000ff; text-decoration-color: #0000ff\">dt</span>=<span style=\"color: #008080; text-decoration-color: #008080; font-weight: bold\">0.376394</span> <span style=\"color: #0000ff; text-decoration-color: #0000ff\">dtf</span>=<span style=\"color: #008080; text-decoration-color: #008080; font-weight: bold\">0.00790557</span> <span style=\"color: #0000ff; text-decoration-color: #0000ff\">dtb</span>=<span style=\"color: #008080; text-decoration-color: #008080; font-weight: bold\">0.0103412</span> <span style=\"color: #0000ff; text-decoration-color: #0000ff\">sps</span>=<span style=\"color: #008080; text-decoration-color: #008080; font-weight: bold\">2.65679</span> <span style=\"color: #0000ff; text-decoration-color: #0000ff\">sps_per_gpu</span>=<span style=\"color: #008080; text-decoration-color: #008080; font-weight: bold\">2.65679</span> <span style=\"color: #0000ff; text-decoration-color: #0000ff\">tps</span>=<span style=\"color: #008080; text-decoration-color: #008080; font-weight: bold\">21764.4</span> <span style=\"color: #0000ff; text-decoration-color: #0000ff\">tps_per_gpu</span>=<span style=\"color: #008080; text-decoration-color: #008080; font-weight: bold\">21764.4</span> <span style=\"color: #0000ff; text-decoration-color: #0000ff\">mfu</span>=<span style=\"color: #008080; text-decoration-color: #008080; font-weight: bold\">0.632299</span>\n",
              "</pre>\n"
            ]
          },
          "metadata": {}
        },
        {
          "output_type": "display_data",
          "data": {
            "text/plain": [
              "[\u001b[2m2025-07-23 \u001b[0m\u001b[2m17:20:11,127431\u001b[0m][\u001b[32mI\u001b[0m][\u001b[3;36mwordplay\u001b[0m/\u001b[34mtrainer\u001b[0m\u001b[94m:\u001b[0m\u001b[35m827\u001b[0m]\u001b[37m \u001b[0m\u001b[95m[\u001b[0m\u001b[32m'prompt'\u001b[0m\u001b[95m]\u001b[0m: \u001b[32m'What is an LLM?'\u001b[0m\n"
            ],
            "text/html": [
              "<pre style=\"white-space:pre;overflow-x:auto;line-height:normal;font-family:Menlo,'DejaVu Sans Mono',consolas,'Courier New',monospace\">[<span style=\"color: #7f7f7f; text-decoration-color: #7f7f7f\">2025-07-23 17:20:11,127431</span>][<span style=\"color: #008000; text-decoration-color: #008000\">I</span>][<span style=\"color: #008080; text-decoration-color: #008080; font-style: italic\">wordplay</span>/<span style=\"color: #000080; text-decoration-color: #000080\">trainer</span><span style=\"color: #0000ff; text-decoration-color: #0000ff\">:</span><span style=\"color: #800080; text-decoration-color: #800080\">827</span>]<span style=\"color: #c0c0c0; text-decoration-color: #c0c0c0\"> </span><span style=\"color: #ff00ff; text-decoration-color: #ff00ff\">[</span><span style=\"color: #008000; text-decoration-color: #008000\">'prompt'</span><span style=\"color: #ff00ff; text-decoration-color: #ff00ff\">]</span>: <span style=\"color: #008000; text-decoration-color: #008000\">'What is an LLM?'</span>\n",
              "</pre>\n"
            ]
          },
          "metadata": {}
        },
        {
          "output_type": "display_data",
          "data": {
            "text/plain": [
              "[\u001b[2m2025-07-23 \u001b[0m\u001b[2m17:20:11,129261\u001b[0m][\u001b[32mI\u001b[0m][\u001b[3;36mwordplay\u001b[0m/\u001b[34mtrainer\u001b[0m\u001b[94m:\u001b[0m\u001b[35m831\u001b[0m]\u001b[37m \u001b[0m\u001b[95m[\u001b[0m\u001b[32m'response'\u001b[0m\u001b[95m]\u001b[0m:\n",
              "\n",
              "What is an LLM?\n",
              "\n",
              "HESSTY OMy MONN:\n",
              "The as a thestop skin cof or we or bines best busplo cothe.\n",
              "\n",
              "FORCAMPHY:\n",
              "ANaracapat there t cathe dyou toraron\n",
              "\n",
              "And ndinis aca t t dis tir.\n",
              "\n",
              "\n",
              "STRENIO:\n",
              "No ano or, where my sint stthe bllos t ho sow the the,\n",
              "Tise sigan t.\n",
              "\n",
              "YCLES:\n",
              "Matacou f \n"
            ],
            "text/html": [
              "<pre style=\"white-space:pre;overflow-x:auto;line-height:normal;font-family:Menlo,'DejaVu Sans Mono',consolas,'Courier New',monospace\">[<span style=\"color: #7f7f7f; text-decoration-color: #7f7f7f\">2025-07-23 17:20:11,129261</span>][<span style=\"color: #008000; text-decoration-color: #008000\">I</span>][<span style=\"color: #008080; text-decoration-color: #008080; font-style: italic\">wordplay</span>/<span style=\"color: #000080; text-decoration-color: #000080\">trainer</span><span style=\"color: #0000ff; text-decoration-color: #0000ff\">:</span><span style=\"color: #800080; text-decoration-color: #800080\">831</span>]<span style=\"color: #c0c0c0; text-decoration-color: #c0c0c0\"> </span><span style=\"color: #ff00ff; text-decoration-color: #ff00ff\">[</span><span style=\"color: #008000; text-decoration-color: #008000\">'response'</span><span style=\"color: #ff00ff; text-decoration-color: #ff00ff\">]</span>:\n",
              "\n",
              "What is an LLM?\n",
              "\n",
              "HESSTY OMy MONN:\n",
              "The as a thestop skin cof or we or bines best busplo cothe.\n",
              "\n",
              "FORCAMPHY:\n",
              "ANaracapat there t cathe dyou toraron\n",
              "\n",
              "And ndinis aca t t dis tir.\n",
              "\n",
              "\n",
              "STRENIO:\n",
              "No ano or, where my sint stthe bllos t ho sow the the,\n",
              "Tise sigan t.\n",
              "\n",
              "YCLES:\n",
              "Matacou f \n",
              "</pre>\n"
            ]
          },
          "metadata": {}
        },
        {
          "output_type": "display_data",
          "data": {
            "text/plain": [
              "[\u001b[2m2025-07-23 \u001b[0m\u001b[2m17:21:08,807775\u001b[0m][\u001b[32mI\u001b[0m][\u001b[3;36mwordplay\u001b[0m/\u001b[34mtrainer\u001b[0m\u001b[94m:\u001b[0m\u001b[35m762\u001b[0m]\u001b[37m \u001b[0mSaving checkpoint to: \u001b[35m/\u001b[0m\u001b[95mcontent\u001b[0m\n"
            ],
            "text/html": [
              "<pre style=\"white-space:pre;overflow-x:auto;line-height:normal;font-family:Menlo,'DejaVu Sans Mono',consolas,'Courier New',monospace\">[<span style=\"color: #7f7f7f; text-decoration-color: #7f7f7f\">2025-07-23 17:21:08,807775</span>][<span style=\"color: #008000; text-decoration-color: #008000\">I</span>][<span style=\"color: #008080; text-decoration-color: #008080; font-style: italic\">wordplay</span>/<span style=\"color: #000080; text-decoration-color: #000080\">trainer</span><span style=\"color: #0000ff; text-decoration-color: #0000ff\">:</span><span style=\"color: #800080; text-decoration-color: #800080\">762</span>]<span style=\"color: #c0c0c0; text-decoration-color: #c0c0c0\"> </span>Saving checkpoint to: <span style=\"color: #800080; text-decoration-color: #800080\">/</span><span style=\"color: #ff00ff; text-decoration-color: #ff00ff\">content</span>\n",
              "</pre>\n"
            ]
          },
          "metadata": {}
        },
        {
          "output_type": "display_data",
          "data": {
            "text/plain": [
              "[\u001b[2m2025-07-23 \u001b[0m\u001b[2m17:21:08,810267\u001b[0m][\u001b[32mI\u001b[0m][\u001b[3;36mwordplay\u001b[0m/\u001b[34mtrainer\u001b[0m\u001b[94m:\u001b[0m\u001b[35m763\u001b[0m]\u001b[37m \u001b[0mSaving model to: \u001b[35m/content/\u001b[0m\u001b[95mmodel.pth\u001b[0m\n"
            ],
            "text/html": [
              "<pre style=\"white-space:pre;overflow-x:auto;line-height:normal;font-family:Menlo,'DejaVu Sans Mono',consolas,'Courier New',monospace\">[<span style=\"color: #7f7f7f; text-decoration-color: #7f7f7f\">2025-07-23 17:21:08,810267</span>][<span style=\"color: #008000; text-decoration-color: #008000\">I</span>][<span style=\"color: #008080; text-decoration-color: #008080; font-style: italic\">wordplay</span>/<span style=\"color: #000080; text-decoration-color: #000080\">trainer</span><span style=\"color: #0000ff; text-decoration-color: #0000ff\">:</span><span style=\"color: #800080; text-decoration-color: #800080\">763</span>]<span style=\"color: #c0c0c0; text-decoration-color: #c0c0c0\"> </span>Saving model to: <span style=\"color: #800080; text-decoration-color: #800080\">/content/</span><span style=\"color: #ff00ff; text-decoration-color: #ff00ff\">model.pth</span>\n",
              "</pre>\n"
            ]
          },
          "metadata": {}
        },
        {
          "output_type": "display_data",
          "data": {
            "text/plain": [
              "[\u001b[2m2025-07-23 \u001b[0m\u001b[2m17:21:09,289617\u001b[0m][\u001b[32mI\u001b[0m][\u001b[3;36mwordplay\u001b[0m/\u001b[34mconfigs\u001b[0m\u001b[94m:\u001b[0m\u001b[35m141\u001b[0m]\u001b[37m \u001b[0mAppending \u001b[35m/\u001b[0m\u001b[95mcontent\u001b[0m to \u001b[35m/content/wordplay/src/ckpts/\u001b[0m\u001b[95mcheckpoints.log\u001b[0m\n"
            ],
            "text/html": [
              "<pre style=\"white-space:pre;overflow-x:auto;line-height:normal;font-family:Menlo,'DejaVu Sans Mono',consolas,'Courier New',monospace\">[<span style=\"color: #7f7f7f; text-decoration-color: #7f7f7f\">2025-07-23 17:21:09,289617</span>][<span style=\"color: #008000; text-decoration-color: #008000\">I</span>][<span style=\"color: #008080; text-decoration-color: #008080; font-style: italic\">wordplay</span>/<span style=\"color: #000080; text-decoration-color: #000080\">configs</span><span style=\"color: #0000ff; text-decoration-color: #0000ff\">:</span><span style=\"color: #800080; text-decoration-color: #800080\">141</span>]<span style=\"color: #c0c0c0; text-decoration-color: #c0c0c0\"> </span>Appending <span style=\"color: #800080; text-decoration-color: #800080\">/</span><span style=\"color: #ff00ff; text-decoration-color: #ff00ff\">content</span> to <span style=\"color: #800080; text-decoration-color: #800080\">/content/wordplay/src/ckpts/</span><span style=\"color: #ff00ff; text-decoration-color: #ff00ff\">checkpoints.log</span>\n",
              "</pre>\n"
            ]
          },
          "metadata": {}
        },
        {
          "output_type": "display_data",
          "data": {
            "text/plain": [
              "[\u001b[2m2025-07-23 \u001b[0m\u001b[2m17:21:13,120320\u001b[0m][\u001b[32mI\u001b[0m][\u001b[3;36mwordplay\u001b[0m/\u001b[34mtrainer\u001b[0m\u001b[94m:\u001b[0m\u001b[35m894\u001b[0m]\u001b[37m \u001b[0m\u001b[94mstep\u001b[0m=\u001b[1;36m810\u001b[0m \u001b[94mloss\u001b[0m=\u001b[1;36m2\u001b[0m\u001b[1;36m.31587\u001b[0m \u001b[94mdt\u001b[0m=\u001b[1;36m0\u001b[0m\u001b[1;36m.381621\u001b[0m \u001b[94mdtf\u001b[0m=\u001b[1;36m0\u001b[0m\u001b[1;36m.00781348\u001b[0m \u001b[94mdtb\u001b[0m=\u001b[1;36m0\u001b[0m\u001b[1;36m.0120922\u001b[0m \u001b[94msps\u001b[0m=\u001b[1;36m2\u001b[0m\u001b[1;36m.6204\u001b[0m \u001b[94msps_per_gpu\u001b[0m=\u001b[1;36m2\u001b[0m\u001b[1;36m.6204\u001b[0m \u001b[94mtps\u001b[0m=\u001b[1;36m21466\u001b[0m\u001b[1;36m.3\u001b[0m \u001b[94mtps_per_gpu\u001b[0m=\u001b[1;36m21466\u001b[0m\u001b[1;36m.3\u001b[0m \u001b[94mmfu\u001b[0m=\u001b[1;36m0\u001b[0m\u001b[1;36m.6325\u001b[0m\n"
            ],
            "text/html": [
              "<pre style=\"white-space:pre;overflow-x:auto;line-height:normal;font-family:Menlo,'DejaVu Sans Mono',consolas,'Courier New',monospace\">[<span style=\"color: #7f7f7f; text-decoration-color: #7f7f7f\">2025-07-23 17:21:13,120320</span>][<span style=\"color: #008000; text-decoration-color: #008000\">I</span>][<span style=\"color: #008080; text-decoration-color: #008080; font-style: italic\">wordplay</span>/<span style=\"color: #000080; text-decoration-color: #000080\">trainer</span><span style=\"color: #0000ff; text-decoration-color: #0000ff\">:</span><span style=\"color: #800080; text-decoration-color: #800080\">894</span>]<span style=\"color: #c0c0c0; text-decoration-color: #c0c0c0\"> </span><span style=\"color: #0000ff; text-decoration-color: #0000ff\">step</span>=<span style=\"color: #008080; text-decoration-color: #008080; font-weight: bold\">810</span> <span style=\"color: #0000ff; text-decoration-color: #0000ff\">loss</span>=<span style=\"color: #008080; text-decoration-color: #008080; font-weight: bold\">2.31587</span> <span style=\"color: #0000ff; text-decoration-color: #0000ff\">dt</span>=<span style=\"color: #008080; text-decoration-color: #008080; font-weight: bold\">0.381621</span> <span style=\"color: #0000ff; text-decoration-color: #0000ff\">dtf</span>=<span style=\"color: #008080; text-decoration-color: #008080; font-weight: bold\">0.00781348</span> <span style=\"color: #0000ff; text-decoration-color: #0000ff\">dtb</span>=<span style=\"color: #008080; text-decoration-color: #008080; font-weight: bold\">0.0120922</span> <span style=\"color: #0000ff; text-decoration-color: #0000ff\">sps</span>=<span style=\"color: #008080; text-decoration-color: #008080; font-weight: bold\">2.6204</span> <span style=\"color: #0000ff; text-decoration-color: #0000ff\">sps_per_gpu</span>=<span style=\"color: #008080; text-decoration-color: #008080; font-weight: bold\">2.6204</span> <span style=\"color: #0000ff; text-decoration-color: #0000ff\">tps</span>=<span style=\"color: #008080; text-decoration-color: #008080; font-weight: bold\">21466.3</span> <span style=\"color: #0000ff; text-decoration-color: #0000ff\">tps_per_gpu</span>=<span style=\"color: #008080; text-decoration-color: #008080; font-weight: bold\">21466.3</span> <span style=\"color: #0000ff; text-decoration-color: #0000ff\">mfu</span>=<span style=\"color: #008080; text-decoration-color: #008080; font-weight: bold\">0.6325</span>\n",
              "</pre>\n"
            ]
          },
          "metadata": {}
        },
        {
          "output_type": "display_data",
          "data": {
            "text/plain": [
              "[\u001b[2m2025-07-23 \u001b[0m\u001b[2m17:21:16,950119\u001b[0m][\u001b[32mI\u001b[0m][\u001b[3;36mwordplay\u001b[0m/\u001b[34mtrainer\u001b[0m\u001b[94m:\u001b[0m\u001b[35m894\u001b[0m]\u001b[37m \u001b[0m\u001b[94mstep\u001b[0m=\u001b[1;36m820\u001b[0m \u001b[94mloss\u001b[0m=\u001b[1;36m2\u001b[0m\u001b[1;36m.32552\u001b[0m \u001b[94mdt\u001b[0m=\u001b[1;36m0\u001b[0m\u001b[1;36m.378177\u001b[0m \u001b[94mdtf\u001b[0m=\u001b[1;36m0\u001b[0m\u001b[1;36m.00779952\u001b[0m \u001b[94mdtb\u001b[0m=\u001b[1;36m0\u001b[0m\u001b[1;36m.0102359\u001b[0m \u001b[94msps\u001b[0m=\u001b[1;36m2\u001b[0m\u001b[1;36m.64426\u001b[0m \u001b[94msps_per_gpu\u001b[0m=\u001b[1;36m2\u001b[0m\u001b[1;36m.64426\u001b[0m \u001b[94mtps\u001b[0m=\u001b[1;36m21661\u001b[0m\u001b[1;36m.8\u001b[0m \u001b[94mtps_per_gpu\u001b[0m=\u001b[1;36m21661\u001b[0m\u001b[1;36m.8\u001b[0m \u001b[94mmfu\u001b[0m=\u001b[1;36m0\u001b[0m\u001b[1;36m.633258\u001b[0m\n"
            ],
            "text/html": [
              "<pre style=\"white-space:pre;overflow-x:auto;line-height:normal;font-family:Menlo,'DejaVu Sans Mono',consolas,'Courier New',monospace\">[<span style=\"color: #7f7f7f; text-decoration-color: #7f7f7f\">2025-07-23 17:21:16,950119</span>][<span style=\"color: #008000; text-decoration-color: #008000\">I</span>][<span style=\"color: #008080; text-decoration-color: #008080; font-style: italic\">wordplay</span>/<span style=\"color: #000080; text-decoration-color: #000080\">trainer</span><span style=\"color: #0000ff; text-decoration-color: #0000ff\">:</span><span style=\"color: #800080; text-decoration-color: #800080\">894</span>]<span style=\"color: #c0c0c0; text-decoration-color: #c0c0c0\"> </span><span style=\"color: #0000ff; text-decoration-color: #0000ff\">step</span>=<span style=\"color: #008080; text-decoration-color: #008080; font-weight: bold\">820</span> <span style=\"color: #0000ff; text-decoration-color: #0000ff\">loss</span>=<span style=\"color: #008080; text-decoration-color: #008080; font-weight: bold\">2.32552</span> <span style=\"color: #0000ff; text-decoration-color: #0000ff\">dt</span>=<span style=\"color: #008080; text-decoration-color: #008080; font-weight: bold\">0.378177</span> <span style=\"color: #0000ff; text-decoration-color: #0000ff\">dtf</span>=<span style=\"color: #008080; text-decoration-color: #008080; font-weight: bold\">0.00779952</span> <span style=\"color: #0000ff; text-decoration-color: #0000ff\">dtb</span>=<span style=\"color: #008080; text-decoration-color: #008080; font-weight: bold\">0.0102359</span> <span style=\"color: #0000ff; text-decoration-color: #0000ff\">sps</span>=<span style=\"color: #008080; text-decoration-color: #008080; font-weight: bold\">2.64426</span> <span style=\"color: #0000ff; text-decoration-color: #0000ff\">sps_per_gpu</span>=<span style=\"color: #008080; text-decoration-color: #008080; font-weight: bold\">2.64426</span> <span style=\"color: #0000ff; text-decoration-color: #0000ff\">tps</span>=<span style=\"color: #008080; text-decoration-color: #008080; font-weight: bold\">21661.8</span> <span style=\"color: #0000ff; text-decoration-color: #0000ff\">tps_per_gpu</span>=<span style=\"color: #008080; text-decoration-color: #008080; font-weight: bold\">21661.8</span> <span style=\"color: #0000ff; text-decoration-color: #0000ff\">mfu</span>=<span style=\"color: #008080; text-decoration-color: #008080; font-weight: bold\">0.633258</span>\n",
              "</pre>\n"
            ]
          },
          "metadata": {}
        },
        {
          "output_type": "display_data",
          "data": {
            "text/plain": [
              "[\u001b[2m2025-07-23 \u001b[0m\u001b[2m17:21:20,780635\u001b[0m][\u001b[32mI\u001b[0m][\u001b[3;36mwordplay\u001b[0m/\u001b[34mtrainer\u001b[0m\u001b[94m:\u001b[0m\u001b[35m894\u001b[0m]\u001b[37m \u001b[0m\u001b[94mstep\u001b[0m=\u001b[1;36m830\u001b[0m \u001b[94mloss\u001b[0m=\u001b[1;36m2\u001b[0m\u001b[1;36m.27354\u001b[0m \u001b[94mdt\u001b[0m=\u001b[1;36m0\u001b[0m\u001b[1;36m.387149\u001b[0m \u001b[94mdtf\u001b[0m=\u001b[1;36m0\u001b[0m\u001b[1;36m.0106936\u001b[0m \u001b[94mdtb\u001b[0m=\u001b[1;36m0\u001b[0m\u001b[1;36m.0140346\u001b[0m \u001b[94msps\u001b[0m=\u001b[1;36m2\u001b[0m\u001b[1;36m.58298\u001b[0m \u001b[94msps_per_gpu\u001b[0m=\u001b[1;36m2\u001b[0m\u001b[1;36m.58298\u001b[0m \u001b[94mtps\u001b[0m=\u001b[1;36m21159\u001b[0m\u001b[1;36m.8\u001b[0m \u001b[94mtps_per_gpu\u001b[0m=\u001b[1;36m21159\u001b[0m\u001b[1;36m.8\u001b[0m \u001b[94mmfu\u001b[0m=\u001b[1;36m0\u001b[0m\u001b[1;36m.632457\u001b[0m\n"
            ],
            "text/html": [
              "<pre style=\"white-space:pre;overflow-x:auto;line-height:normal;font-family:Menlo,'DejaVu Sans Mono',consolas,'Courier New',monospace\">[<span style=\"color: #7f7f7f; text-decoration-color: #7f7f7f\">2025-07-23 17:21:20,780635</span>][<span style=\"color: #008000; text-decoration-color: #008000\">I</span>][<span style=\"color: #008080; text-decoration-color: #008080; font-style: italic\">wordplay</span>/<span style=\"color: #000080; text-decoration-color: #000080\">trainer</span><span style=\"color: #0000ff; text-decoration-color: #0000ff\">:</span><span style=\"color: #800080; text-decoration-color: #800080\">894</span>]<span style=\"color: #c0c0c0; text-decoration-color: #c0c0c0\"> </span><span style=\"color: #0000ff; text-decoration-color: #0000ff\">step</span>=<span style=\"color: #008080; text-decoration-color: #008080; font-weight: bold\">830</span> <span style=\"color: #0000ff; text-decoration-color: #0000ff\">loss</span>=<span style=\"color: #008080; text-decoration-color: #008080; font-weight: bold\">2.27354</span> <span style=\"color: #0000ff; text-decoration-color: #0000ff\">dt</span>=<span style=\"color: #008080; text-decoration-color: #008080; font-weight: bold\">0.387149</span> <span style=\"color: #0000ff; text-decoration-color: #0000ff\">dtf</span>=<span style=\"color: #008080; text-decoration-color: #008080; font-weight: bold\">0.0106936</span> <span style=\"color: #0000ff; text-decoration-color: #0000ff\">dtb</span>=<span style=\"color: #008080; text-decoration-color: #008080; font-weight: bold\">0.0140346</span> <span style=\"color: #0000ff; text-decoration-color: #0000ff\">sps</span>=<span style=\"color: #008080; text-decoration-color: #008080; font-weight: bold\">2.58298</span> <span style=\"color: #0000ff; text-decoration-color: #0000ff\">sps_per_gpu</span>=<span style=\"color: #008080; text-decoration-color: #008080; font-weight: bold\">2.58298</span> <span style=\"color: #0000ff; text-decoration-color: #0000ff\">tps</span>=<span style=\"color: #008080; text-decoration-color: #008080; font-weight: bold\">21159.8</span> <span style=\"color: #0000ff; text-decoration-color: #0000ff\">tps_per_gpu</span>=<span style=\"color: #008080; text-decoration-color: #008080; font-weight: bold\">21159.8</span> <span style=\"color: #0000ff; text-decoration-color: #0000ff\">mfu</span>=<span style=\"color: #008080; text-decoration-color: #008080; font-weight: bold\">0.632457</span>\n",
              "</pre>\n"
            ]
          },
          "metadata": {}
        },
        {
          "output_type": "display_data",
          "data": {
            "text/plain": [
              "[\u001b[2m2025-07-23 \u001b[0m\u001b[2m17:21:24,610506\u001b[0m][\u001b[32mI\u001b[0m][\u001b[3;36mwordplay\u001b[0m/\u001b[34mtrainer\u001b[0m\u001b[94m:\u001b[0m\u001b[35m894\u001b[0m]\u001b[37m \u001b[0m\u001b[94mstep\u001b[0m=\u001b[1;36m840\u001b[0m \u001b[94mloss\u001b[0m=\u001b[1;36m2\u001b[0m\u001b[1;36m.26241\u001b[0m \u001b[94mdt\u001b[0m=\u001b[1;36m0\u001b[0m\u001b[1;36m.383837\u001b[0m \u001b[94mdtf\u001b[0m=\u001b[1;36m0\u001b[0m\u001b[1;36m.00787966\u001b[0m \u001b[94mdtb\u001b[0m=\u001b[1;36m0\u001b[0m\u001b[1;36m.0108706\u001b[0m \u001b[94msps\u001b[0m=\u001b[1;36m2\u001b[0m\u001b[1;36m.60527\u001b[0m \u001b[94msps_per_gpu\u001b[0m=\u001b[1;36m2\u001b[0m\u001b[1;36m.60527\u001b[0m \u001b[94mtps\u001b[0m=\u001b[1;36m21342\u001b[0m\u001b[1;36m.4\u001b[0m \u001b[94mtps_per_gpu\u001b[0m=\u001b[1;36m21342\u001b[0m\u001b[1;36m.4\u001b[0m \u001b[94mmfu\u001b[0m=\u001b[1;36m0\u001b[0m\u001b[1;36m.632275\u001b[0m\n"
            ],
            "text/html": [
              "<pre style=\"white-space:pre;overflow-x:auto;line-height:normal;font-family:Menlo,'DejaVu Sans Mono',consolas,'Courier New',monospace\">[<span style=\"color: #7f7f7f; text-decoration-color: #7f7f7f\">2025-07-23 17:21:24,610506</span>][<span style=\"color: #008000; text-decoration-color: #008000\">I</span>][<span style=\"color: #008080; text-decoration-color: #008080; font-style: italic\">wordplay</span>/<span style=\"color: #000080; text-decoration-color: #000080\">trainer</span><span style=\"color: #0000ff; text-decoration-color: #0000ff\">:</span><span style=\"color: #800080; text-decoration-color: #800080\">894</span>]<span style=\"color: #c0c0c0; text-decoration-color: #c0c0c0\"> </span><span style=\"color: #0000ff; text-decoration-color: #0000ff\">step</span>=<span style=\"color: #008080; text-decoration-color: #008080; font-weight: bold\">840</span> <span style=\"color: #0000ff; text-decoration-color: #0000ff\">loss</span>=<span style=\"color: #008080; text-decoration-color: #008080; font-weight: bold\">2.26241</span> <span style=\"color: #0000ff; text-decoration-color: #0000ff\">dt</span>=<span style=\"color: #008080; text-decoration-color: #008080; font-weight: bold\">0.383837</span> <span style=\"color: #0000ff; text-decoration-color: #0000ff\">dtf</span>=<span style=\"color: #008080; text-decoration-color: #008080; font-weight: bold\">0.00787966</span> <span style=\"color: #0000ff; text-decoration-color: #0000ff\">dtb</span>=<span style=\"color: #008080; text-decoration-color: #008080; font-weight: bold\">0.0108706</span> <span style=\"color: #0000ff; text-decoration-color: #0000ff\">sps</span>=<span style=\"color: #008080; text-decoration-color: #008080; font-weight: bold\">2.60527</span> <span style=\"color: #0000ff; text-decoration-color: #0000ff\">sps_per_gpu</span>=<span style=\"color: #008080; text-decoration-color: #008080; font-weight: bold\">2.60527</span> <span style=\"color: #0000ff; text-decoration-color: #0000ff\">tps</span>=<span style=\"color: #008080; text-decoration-color: #008080; font-weight: bold\">21342.4</span> <span style=\"color: #0000ff; text-decoration-color: #0000ff\">tps_per_gpu</span>=<span style=\"color: #008080; text-decoration-color: #008080; font-weight: bold\">21342.4</span> <span style=\"color: #0000ff; text-decoration-color: #0000ff\">mfu</span>=<span style=\"color: #008080; text-decoration-color: #008080; font-weight: bold\">0.632275</span>\n",
              "</pre>\n"
            ]
          },
          "metadata": {}
        },
        {
          "output_type": "display_data",
          "data": {
            "text/plain": [
              "[\u001b[2m2025-07-23 \u001b[0m\u001b[2m17:21:28,446417\u001b[0m][\u001b[32mI\u001b[0m][\u001b[3;36mwordplay\u001b[0m/\u001b[34mtrainer\u001b[0m\u001b[94m:\u001b[0m\u001b[35m894\u001b[0m]\u001b[37m \u001b[0m\u001b[94mstep\u001b[0m=\u001b[1;36m850\u001b[0m \u001b[94mloss\u001b[0m=\u001b[1;36m2\u001b[0m\u001b[1;36m.26027\u001b[0m \u001b[94mdt\u001b[0m=\u001b[1;36m0\u001b[0m\u001b[1;36m.383713\u001b[0m \u001b[94mdtf\u001b[0m=\u001b[1;36m0\u001b[0m\u001b[1;36m.00800034\u001b[0m \u001b[94mdtb\u001b[0m=\u001b[1;36m0\u001b[0m\u001b[1;36m.0100456\u001b[0m \u001b[94msps\u001b[0m=\u001b[1;36m2\u001b[0m\u001b[1;36m.60611\u001b[0m \u001b[94msps_per_gpu\u001b[0m=\u001b[1;36m2\u001b[0m\u001b[1;36m.60611\u001b[0m \u001b[94mtps\u001b[0m=\u001b[1;36m21349\u001b[0m\u001b[1;36m.3\u001b[0m \u001b[94mtps_per_gpu\u001b[0m=\u001b[1;36m21349\u001b[0m\u001b[1;36m.3\u001b[0m \u001b[94mmfu\u001b[0m=\u001b[1;36m0\u001b[0m\u001b[1;36m.632132\u001b[0m\n"
            ],
            "text/html": [
              "<pre style=\"white-space:pre;overflow-x:auto;line-height:normal;font-family:Menlo,'DejaVu Sans Mono',consolas,'Courier New',monospace\">[<span style=\"color: #7f7f7f; text-decoration-color: #7f7f7f\">2025-07-23 17:21:28,446417</span>][<span style=\"color: #008000; text-decoration-color: #008000\">I</span>][<span style=\"color: #008080; text-decoration-color: #008080; font-style: italic\">wordplay</span>/<span style=\"color: #000080; text-decoration-color: #000080\">trainer</span><span style=\"color: #0000ff; text-decoration-color: #0000ff\">:</span><span style=\"color: #800080; text-decoration-color: #800080\">894</span>]<span style=\"color: #c0c0c0; text-decoration-color: #c0c0c0\"> </span><span style=\"color: #0000ff; text-decoration-color: #0000ff\">step</span>=<span style=\"color: #008080; text-decoration-color: #008080; font-weight: bold\">850</span> <span style=\"color: #0000ff; text-decoration-color: #0000ff\">loss</span>=<span style=\"color: #008080; text-decoration-color: #008080; font-weight: bold\">2.26027</span> <span style=\"color: #0000ff; text-decoration-color: #0000ff\">dt</span>=<span style=\"color: #008080; text-decoration-color: #008080; font-weight: bold\">0.383713</span> <span style=\"color: #0000ff; text-decoration-color: #0000ff\">dtf</span>=<span style=\"color: #008080; text-decoration-color: #008080; font-weight: bold\">0.00800034</span> <span style=\"color: #0000ff; text-decoration-color: #0000ff\">dtb</span>=<span style=\"color: #008080; text-decoration-color: #008080; font-weight: bold\">0.0100456</span> <span style=\"color: #0000ff; text-decoration-color: #0000ff\">sps</span>=<span style=\"color: #008080; text-decoration-color: #008080; font-weight: bold\">2.60611</span> <span style=\"color: #0000ff; text-decoration-color: #0000ff\">sps_per_gpu</span>=<span style=\"color: #008080; text-decoration-color: #008080; font-weight: bold\">2.60611</span> <span style=\"color: #0000ff; text-decoration-color: #0000ff\">tps</span>=<span style=\"color: #008080; text-decoration-color: #008080; font-weight: bold\">21349.3</span> <span style=\"color: #0000ff; text-decoration-color: #0000ff\">tps_per_gpu</span>=<span style=\"color: #008080; text-decoration-color: #008080; font-weight: bold\">21349.3</span> <span style=\"color: #0000ff; text-decoration-color: #0000ff\">mfu</span>=<span style=\"color: #008080; text-decoration-color: #008080; font-weight: bold\">0.632132</span>\n",
              "</pre>\n"
            ]
          },
          "metadata": {}
        },
        {
          "output_type": "display_data",
          "data": {
            "text/plain": [
              "[\u001b[2m2025-07-23 \u001b[0m\u001b[2m17:21:32,273517\u001b[0m][\u001b[32mI\u001b[0m][\u001b[3;36mwordplay\u001b[0m/\u001b[34mtrainer\u001b[0m\u001b[94m:\u001b[0m\u001b[35m894\u001b[0m]\u001b[37m \u001b[0m\u001b[94mstep\u001b[0m=\u001b[1;36m860\u001b[0m \u001b[94mloss\u001b[0m=\u001b[1;36m2\u001b[0m\u001b[1;36m.25673\u001b[0m \u001b[94mdt\u001b[0m=\u001b[1;36m0\u001b[0m\u001b[1;36m.382741\u001b[0m \u001b[94mdtf\u001b[0m=\u001b[1;36m0\u001b[0m\u001b[1;36m.0083715\u001b[0m \u001b[94mdtb\u001b[0m=\u001b[1;36m0\u001b[0m\u001b[1;36m.0101342\u001b[0m \u001b[94msps\u001b[0m=\u001b[1;36m2\u001b[0m\u001b[1;36m.61273\u001b[0m \u001b[94msps_per_gpu\u001b[0m=\u001b[1;36m2\u001b[0m\u001b[1;36m.61273\u001b[0m \u001b[94mtps\u001b[0m=\u001b[1;36m21403\u001b[0m\u001b[1;36m.5\u001b[0m \u001b[94mtps_per_gpu\u001b[0m=\u001b[1;36m21403\u001b[0m\u001b[1;36m.5\u001b[0m \u001b[94mmfu\u001b[0m=\u001b[1;36m0\u001b[0m\u001b[1;36m.632164\u001b[0m\n"
            ],
            "text/html": [
              "<pre style=\"white-space:pre;overflow-x:auto;line-height:normal;font-family:Menlo,'DejaVu Sans Mono',consolas,'Courier New',monospace\">[<span style=\"color: #7f7f7f; text-decoration-color: #7f7f7f\">2025-07-23 17:21:32,273517</span>][<span style=\"color: #008000; text-decoration-color: #008000\">I</span>][<span style=\"color: #008080; text-decoration-color: #008080; font-style: italic\">wordplay</span>/<span style=\"color: #000080; text-decoration-color: #000080\">trainer</span><span style=\"color: #0000ff; text-decoration-color: #0000ff\">:</span><span style=\"color: #800080; text-decoration-color: #800080\">894</span>]<span style=\"color: #c0c0c0; text-decoration-color: #c0c0c0\"> </span><span style=\"color: #0000ff; text-decoration-color: #0000ff\">step</span>=<span style=\"color: #008080; text-decoration-color: #008080; font-weight: bold\">860</span> <span style=\"color: #0000ff; text-decoration-color: #0000ff\">loss</span>=<span style=\"color: #008080; text-decoration-color: #008080; font-weight: bold\">2.25673</span> <span style=\"color: #0000ff; text-decoration-color: #0000ff\">dt</span>=<span style=\"color: #008080; text-decoration-color: #008080; font-weight: bold\">0.382741</span> <span style=\"color: #0000ff; text-decoration-color: #0000ff\">dtf</span>=<span style=\"color: #008080; text-decoration-color: #008080; font-weight: bold\">0.0083715</span> <span style=\"color: #0000ff; text-decoration-color: #0000ff\">dtb</span>=<span style=\"color: #008080; text-decoration-color: #008080; font-weight: bold\">0.0101342</span> <span style=\"color: #0000ff; text-decoration-color: #0000ff\">sps</span>=<span style=\"color: #008080; text-decoration-color: #008080; font-weight: bold\">2.61273</span> <span style=\"color: #0000ff; text-decoration-color: #0000ff\">sps_per_gpu</span>=<span style=\"color: #008080; text-decoration-color: #008080; font-weight: bold\">2.61273</span> <span style=\"color: #0000ff; text-decoration-color: #0000ff\">tps</span>=<span style=\"color: #008080; text-decoration-color: #008080; font-weight: bold\">21403.5</span> <span style=\"color: #0000ff; text-decoration-color: #0000ff\">tps_per_gpu</span>=<span style=\"color: #008080; text-decoration-color: #008080; font-weight: bold\">21403.5</span> <span style=\"color: #0000ff; text-decoration-color: #0000ff\">mfu</span>=<span style=\"color: #008080; text-decoration-color: #008080; font-weight: bold\">0.632164</span>\n",
              "</pre>\n"
            ]
          },
          "metadata": {}
        },
        {
          "output_type": "display_data",
          "data": {
            "text/plain": [
              "[\u001b[2m2025-07-23 \u001b[0m\u001b[2m17:21:36,109224\u001b[0m][\u001b[32mI\u001b[0m][\u001b[3;36mwordplay\u001b[0m/\u001b[34mtrainer\u001b[0m\u001b[94m:\u001b[0m\u001b[35m894\u001b[0m]\u001b[37m \u001b[0m\u001b[94mstep\u001b[0m=\u001b[1;36m870\u001b[0m \u001b[94mloss\u001b[0m=\u001b[1;36m2\u001b[0m\u001b[1;36m.21383\u001b[0m \u001b[94mdt\u001b[0m=\u001b[1;36m0\u001b[0m\u001b[1;36m.381168\u001b[0m \u001b[94mdtf\u001b[0m=\u001b[1;36m0\u001b[0m\u001b[1;36m.00781913\u001b[0m \u001b[94mdtb\u001b[0m=\u001b[1;36m0\u001b[0m\u001b[1;36m.0098429\u001b[0m \u001b[94msps\u001b[0m=\u001b[1;36m2\u001b[0m\u001b[1;36m.62351\u001b[0m \u001b[94msps_per_gpu\u001b[0m=\u001b[1;36m2\u001b[0m\u001b[1;36m.62351\u001b[0m \u001b[94mtps\u001b[0m=\u001b[1;36m21491\u001b[0m\u001b[1;36m.8\u001b[0m \u001b[94mtps_per_gpu\u001b[0m=\u001b[1;36m21491\u001b[0m\u001b[1;36m.8\u001b[0m \u001b[94mmfu\u001b[0m=\u001b[1;36m0\u001b[0m\u001b[1;36m.632453\u001b[0m\n"
            ],
            "text/html": [
              "<pre style=\"white-space:pre;overflow-x:auto;line-height:normal;font-family:Menlo,'DejaVu Sans Mono',consolas,'Courier New',monospace\">[<span style=\"color: #7f7f7f; text-decoration-color: #7f7f7f\">2025-07-23 17:21:36,109224</span>][<span style=\"color: #008000; text-decoration-color: #008000\">I</span>][<span style=\"color: #008080; text-decoration-color: #008080; font-style: italic\">wordplay</span>/<span style=\"color: #000080; text-decoration-color: #000080\">trainer</span><span style=\"color: #0000ff; text-decoration-color: #0000ff\">:</span><span style=\"color: #800080; text-decoration-color: #800080\">894</span>]<span style=\"color: #c0c0c0; text-decoration-color: #c0c0c0\"> </span><span style=\"color: #0000ff; text-decoration-color: #0000ff\">step</span>=<span style=\"color: #008080; text-decoration-color: #008080; font-weight: bold\">870</span> <span style=\"color: #0000ff; text-decoration-color: #0000ff\">loss</span>=<span style=\"color: #008080; text-decoration-color: #008080; font-weight: bold\">2.21383</span> <span style=\"color: #0000ff; text-decoration-color: #0000ff\">dt</span>=<span style=\"color: #008080; text-decoration-color: #008080; font-weight: bold\">0.381168</span> <span style=\"color: #0000ff; text-decoration-color: #0000ff\">dtf</span>=<span style=\"color: #008080; text-decoration-color: #008080; font-weight: bold\">0.00781913</span> <span style=\"color: #0000ff; text-decoration-color: #0000ff\">dtb</span>=<span style=\"color: #008080; text-decoration-color: #008080; font-weight: bold\">0.0098429</span> <span style=\"color: #0000ff; text-decoration-color: #0000ff\">sps</span>=<span style=\"color: #008080; text-decoration-color: #008080; font-weight: bold\">2.62351</span> <span style=\"color: #0000ff; text-decoration-color: #0000ff\">sps_per_gpu</span>=<span style=\"color: #008080; text-decoration-color: #008080; font-weight: bold\">2.62351</span> <span style=\"color: #0000ff; text-decoration-color: #0000ff\">tps</span>=<span style=\"color: #008080; text-decoration-color: #008080; font-weight: bold\">21491.8</span> <span style=\"color: #0000ff; text-decoration-color: #0000ff\">tps_per_gpu</span>=<span style=\"color: #008080; text-decoration-color: #008080; font-weight: bold\">21491.8</span> <span style=\"color: #0000ff; text-decoration-color: #0000ff\">mfu</span>=<span style=\"color: #008080; text-decoration-color: #008080; font-weight: bold\">0.632453</span>\n",
              "</pre>\n"
            ]
          },
          "metadata": {}
        },
        {
          "output_type": "display_data",
          "data": {
            "text/plain": [
              "[\u001b[2m2025-07-23 \u001b[0m\u001b[2m17:21:39,941412\u001b[0m][\u001b[32mI\u001b[0m][\u001b[3;36mwordplay\u001b[0m/\u001b[34mtrainer\u001b[0m\u001b[94m:\u001b[0m\u001b[35m894\u001b[0m]\u001b[37m \u001b[0m\u001b[94mstep\u001b[0m=\u001b[1;36m880\u001b[0m \u001b[94mloss\u001b[0m=\u001b[1;36m2\u001b[0m\u001b[1;36m.21413\u001b[0m \u001b[94mdt\u001b[0m=\u001b[1;36m0\u001b[0m\u001b[1;36m.380526\u001b[0m \u001b[94mdtf\u001b[0m=\u001b[1;36m0\u001b[0m\u001b[1;36m.00772047\u001b[0m \u001b[94mdtb\u001b[0m=\u001b[1;36m0\u001b[0m\u001b[1;36m.00999847\u001b[0m \u001b[94msps\u001b[0m=\u001b[1;36m2\u001b[0m\u001b[1;36m.62794\u001b[0m \u001b[94msps_per_gpu\u001b[0m=\u001b[1;36m2\u001b[0m\u001b[1;36m.62794\u001b[0m \u001b[94mtps\u001b[0m=\u001b[1;36m21528\u001b[0m\u001b[1;36m.1\u001b[0m \u001b[94mtps_per_gpu\u001b[0m=\u001b[1;36m21528\u001b[0m\u001b[1;36m.1\u001b[0m \u001b[94mmfu\u001b[0m=\u001b[1;36m0\u001b[0m\u001b[1;36m.632821\u001b[0m\n"
            ],
            "text/html": [
              "<pre style=\"white-space:pre;overflow-x:auto;line-height:normal;font-family:Menlo,'DejaVu Sans Mono',consolas,'Courier New',monospace\">[<span style=\"color: #7f7f7f; text-decoration-color: #7f7f7f\">2025-07-23 17:21:39,941412</span>][<span style=\"color: #008000; text-decoration-color: #008000\">I</span>][<span style=\"color: #008080; text-decoration-color: #008080; font-style: italic\">wordplay</span>/<span style=\"color: #000080; text-decoration-color: #000080\">trainer</span><span style=\"color: #0000ff; text-decoration-color: #0000ff\">:</span><span style=\"color: #800080; text-decoration-color: #800080\">894</span>]<span style=\"color: #c0c0c0; text-decoration-color: #c0c0c0\"> </span><span style=\"color: #0000ff; text-decoration-color: #0000ff\">step</span>=<span style=\"color: #008080; text-decoration-color: #008080; font-weight: bold\">880</span> <span style=\"color: #0000ff; text-decoration-color: #0000ff\">loss</span>=<span style=\"color: #008080; text-decoration-color: #008080; font-weight: bold\">2.21413</span> <span style=\"color: #0000ff; text-decoration-color: #0000ff\">dt</span>=<span style=\"color: #008080; text-decoration-color: #008080; font-weight: bold\">0.380526</span> <span style=\"color: #0000ff; text-decoration-color: #0000ff\">dtf</span>=<span style=\"color: #008080; text-decoration-color: #008080; font-weight: bold\">0.00772047</span> <span style=\"color: #0000ff; text-decoration-color: #0000ff\">dtb</span>=<span style=\"color: #008080; text-decoration-color: #008080; font-weight: bold\">0.00999847</span> <span style=\"color: #0000ff; text-decoration-color: #0000ff\">sps</span>=<span style=\"color: #008080; text-decoration-color: #008080; font-weight: bold\">2.62794</span> <span style=\"color: #0000ff; text-decoration-color: #0000ff\">sps_per_gpu</span>=<span style=\"color: #008080; text-decoration-color: #008080; font-weight: bold\">2.62794</span> <span style=\"color: #0000ff; text-decoration-color: #0000ff\">tps</span>=<span style=\"color: #008080; text-decoration-color: #008080; font-weight: bold\">21528.1</span> <span style=\"color: #0000ff; text-decoration-color: #0000ff\">tps_per_gpu</span>=<span style=\"color: #008080; text-decoration-color: #008080; font-weight: bold\">21528.1</span> <span style=\"color: #0000ff; text-decoration-color: #0000ff\">mfu</span>=<span style=\"color: #008080; text-decoration-color: #008080; font-weight: bold\">0.632821</span>\n",
              "</pre>\n"
            ]
          },
          "metadata": {}
        },
        {
          "output_type": "display_data",
          "data": {
            "text/plain": [
              "[\u001b[2m2025-07-23 \u001b[0m\u001b[2m17:21:43,768114\u001b[0m][\u001b[32mI\u001b[0m][\u001b[3;36mwordplay\u001b[0m/\u001b[34mtrainer\u001b[0m\u001b[94m:\u001b[0m\u001b[35m894\u001b[0m]\u001b[37m \u001b[0m\u001b[94mstep\u001b[0m=\u001b[1;36m890\u001b[0m \u001b[94mloss\u001b[0m=\u001b[1;36m2\u001b[0m\u001b[1;36m.21783\u001b[0m \u001b[94mdt\u001b[0m=\u001b[1;36m0\u001b[0m\u001b[1;36m.370921\u001b[0m \u001b[94mdtf\u001b[0m=\u001b[1;36m0\u001b[0m\u001b[1;36m.00774233\u001b[0m \u001b[94mdtb\u001b[0m=\u001b[1;36m0\u001b[0m\u001b[1;36m.0108925\u001b[0m \u001b[94msps\u001b[0m=\u001b[1;36m2\u001b[0m\u001b[1;36m.69599\u001b[0m \u001b[94msps_per_gpu\u001b[0m=\u001b[1;36m2\u001b[0m\u001b[1;36m.69599\u001b[0m \u001b[94mtps\u001b[0m=\u001b[1;36m22085\u001b[0m\u001b[1;36m.6\u001b[0m \u001b[94mtps_per_gpu\u001b[0m=\u001b[1;36m22085\u001b[0m\u001b[1;36m.6\u001b[0m \u001b[94mmfu\u001b[0m=\u001b[1;36m0\u001b[0m\u001b[1;36m.634799\u001b[0m\n"
            ],
            "text/html": [
              "<pre style=\"white-space:pre;overflow-x:auto;line-height:normal;font-family:Menlo,'DejaVu Sans Mono',consolas,'Courier New',monospace\">[<span style=\"color: #7f7f7f; text-decoration-color: #7f7f7f\">2025-07-23 17:21:43,768114</span>][<span style=\"color: #008000; text-decoration-color: #008000\">I</span>][<span style=\"color: #008080; text-decoration-color: #008080; font-style: italic\">wordplay</span>/<span style=\"color: #000080; text-decoration-color: #000080\">trainer</span><span style=\"color: #0000ff; text-decoration-color: #0000ff\">:</span><span style=\"color: #800080; text-decoration-color: #800080\">894</span>]<span style=\"color: #c0c0c0; text-decoration-color: #c0c0c0\"> </span><span style=\"color: #0000ff; text-decoration-color: #0000ff\">step</span>=<span style=\"color: #008080; text-decoration-color: #008080; font-weight: bold\">890</span> <span style=\"color: #0000ff; text-decoration-color: #0000ff\">loss</span>=<span style=\"color: #008080; text-decoration-color: #008080; font-weight: bold\">2.21783</span> <span style=\"color: #0000ff; text-decoration-color: #0000ff\">dt</span>=<span style=\"color: #008080; text-decoration-color: #008080; font-weight: bold\">0.370921</span> <span style=\"color: #0000ff; text-decoration-color: #0000ff\">dtf</span>=<span style=\"color: #008080; text-decoration-color: #008080; font-weight: bold\">0.00774233</span> <span style=\"color: #0000ff; text-decoration-color: #0000ff\">dtb</span>=<span style=\"color: #008080; text-decoration-color: #008080; font-weight: bold\">0.0108925</span> <span style=\"color: #0000ff; text-decoration-color: #0000ff\">sps</span>=<span style=\"color: #008080; text-decoration-color: #008080; font-weight: bold\">2.69599</span> <span style=\"color: #0000ff; text-decoration-color: #0000ff\">sps_per_gpu</span>=<span style=\"color: #008080; text-decoration-color: #008080; font-weight: bold\">2.69599</span> <span style=\"color: #0000ff; text-decoration-color: #0000ff\">tps</span>=<span style=\"color: #008080; text-decoration-color: #008080; font-weight: bold\">22085.6</span> <span style=\"color: #0000ff; text-decoration-color: #0000ff\">tps_per_gpu</span>=<span style=\"color: #008080; text-decoration-color: #008080; font-weight: bold\">22085.6</span> <span style=\"color: #0000ff; text-decoration-color: #0000ff\">mfu</span>=<span style=\"color: #008080; text-decoration-color: #008080; font-weight: bold\">0.634799</span>\n",
              "</pre>\n"
            ]
          },
          "metadata": {}
        },
        {
          "output_type": "display_data",
          "data": {
            "text/plain": [
              "[\u001b[2m2025-07-23 \u001b[0m\u001b[2m17:21:47,604118\u001b[0m][\u001b[32mI\u001b[0m][\u001b[3;36mwordplay\u001b[0m/\u001b[34mtrainer\u001b[0m\u001b[94m:\u001b[0m\u001b[35m894\u001b[0m]\u001b[37m \u001b[0m\u001b[94mstep\u001b[0m=\u001b[1;36m900\u001b[0m \u001b[94mloss\u001b[0m=\u001b[1;36m2\u001b[0m\u001b[1;36m.20972\u001b[0m \u001b[94mdt\u001b[0m=\u001b[1;36m0\u001b[0m\u001b[1;36m.389311\u001b[0m \u001b[94mdtf\u001b[0m=\u001b[1;36m0\u001b[0m\u001b[1;36m.0136295\u001b[0m \u001b[94mdtb\u001b[0m=\u001b[1;36m0\u001b[0m\u001b[1;36m.0109\u001b[0m \u001b[94msps\u001b[0m=\u001b[1;36m2\u001b[0m\u001b[1;36m.56864\u001b[0m \u001b[94msps_per_gpu\u001b[0m=\u001b[1;36m2\u001b[0m\u001b[1;36m.56864\u001b[0m \u001b[94mtps\u001b[0m=\u001b[1;36m21042\u001b[0m\u001b[1;36m.3\u001b[0m \u001b[94mtps_per_gpu\u001b[0m=\u001b[1;36m21042\u001b[0m\u001b[1;36m.3\u001b[0m \u001b[94mmfu\u001b[0m=\u001b[1;36m0\u001b[0m\u001b[1;36m.633497\u001b[0m\n"
            ],
            "text/html": [
              "<pre style=\"white-space:pre;overflow-x:auto;line-height:normal;font-family:Menlo,'DejaVu Sans Mono',consolas,'Courier New',monospace\">[<span style=\"color: #7f7f7f; text-decoration-color: #7f7f7f\">2025-07-23 17:21:47,604118</span>][<span style=\"color: #008000; text-decoration-color: #008000\">I</span>][<span style=\"color: #008080; text-decoration-color: #008080; font-style: italic\">wordplay</span>/<span style=\"color: #000080; text-decoration-color: #000080\">trainer</span><span style=\"color: #0000ff; text-decoration-color: #0000ff\">:</span><span style=\"color: #800080; text-decoration-color: #800080\">894</span>]<span style=\"color: #c0c0c0; text-decoration-color: #c0c0c0\"> </span><span style=\"color: #0000ff; text-decoration-color: #0000ff\">step</span>=<span style=\"color: #008080; text-decoration-color: #008080; font-weight: bold\">900</span> <span style=\"color: #0000ff; text-decoration-color: #0000ff\">loss</span>=<span style=\"color: #008080; text-decoration-color: #008080; font-weight: bold\">2.20972</span> <span style=\"color: #0000ff; text-decoration-color: #0000ff\">dt</span>=<span style=\"color: #008080; text-decoration-color: #008080; font-weight: bold\">0.389311</span> <span style=\"color: #0000ff; text-decoration-color: #0000ff\">dtf</span>=<span style=\"color: #008080; text-decoration-color: #008080; font-weight: bold\">0.0136295</span> <span style=\"color: #0000ff; text-decoration-color: #0000ff\">dtb</span>=<span style=\"color: #008080; text-decoration-color: #008080; font-weight: bold\">0.0109</span> <span style=\"color: #0000ff; text-decoration-color: #0000ff\">sps</span>=<span style=\"color: #008080; text-decoration-color: #008080; font-weight: bold\">2.56864</span> <span style=\"color: #0000ff; text-decoration-color: #0000ff\">sps_per_gpu</span>=<span style=\"color: #008080; text-decoration-color: #008080; font-weight: bold\">2.56864</span> <span style=\"color: #0000ff; text-decoration-color: #0000ff\">tps</span>=<span style=\"color: #008080; text-decoration-color: #008080; font-weight: bold\">21042.3</span> <span style=\"color: #0000ff; text-decoration-color: #0000ff\">tps_per_gpu</span>=<span style=\"color: #008080; text-decoration-color: #008080; font-weight: bold\">21042.3</span> <span style=\"color: #0000ff; text-decoration-color: #0000ff\">mfu</span>=<span style=\"color: #008080; text-decoration-color: #008080; font-weight: bold\">0.633497</span>\n",
              "</pre>\n"
            ]
          },
          "metadata": {}
        },
        {
          "output_type": "display_data",
          "data": {
            "text/plain": [
              "[\u001b[2m2025-07-23 \u001b[0m\u001b[2m17:21:48,462679\u001b[0m][\u001b[32mI\u001b[0m][\u001b[3;36mwordplay\u001b[0m/\u001b[34mtrainer\u001b[0m\u001b[94m:\u001b[0m\u001b[35m827\u001b[0m]\u001b[37m \u001b[0m\u001b[95m[\u001b[0m\u001b[32m'prompt'\u001b[0m\u001b[95m]\u001b[0m: \u001b[32m'What is an LLM?'\u001b[0m\n"
            ],
            "text/html": [
              "<pre style=\"white-space:pre;overflow-x:auto;line-height:normal;font-family:Menlo,'DejaVu Sans Mono',consolas,'Courier New',monospace\">[<span style=\"color: #7f7f7f; text-decoration-color: #7f7f7f\">2025-07-23 17:21:48,462679</span>][<span style=\"color: #008000; text-decoration-color: #008000\">I</span>][<span style=\"color: #008080; text-decoration-color: #008080; font-style: italic\">wordplay</span>/<span style=\"color: #000080; text-decoration-color: #000080\">trainer</span><span style=\"color: #0000ff; text-decoration-color: #0000ff\">:</span><span style=\"color: #800080; text-decoration-color: #800080\">827</span>]<span style=\"color: #c0c0c0; text-decoration-color: #c0c0c0\"> </span><span style=\"color: #ff00ff; text-decoration-color: #ff00ff\">[</span><span style=\"color: #008000; text-decoration-color: #008000\">'prompt'</span><span style=\"color: #ff00ff; text-decoration-color: #ff00ff\">]</span>: <span style=\"color: #008000; text-decoration-color: #008000\">'What is an LLM?'</span>\n",
              "</pre>\n"
            ]
          },
          "metadata": {}
        },
        {
          "output_type": "display_data",
          "data": {
            "text/plain": [
              "[\u001b[2m2025-07-23 \u001b[0m\u001b[2m17:21:48,464365\u001b[0m][\u001b[32mI\u001b[0m][\u001b[3;36mwordplay\u001b[0m/\u001b[34mtrainer\u001b[0m\u001b[94m:\u001b[0m\u001b[35m831\u001b[0m]\u001b[37m \u001b[0m\u001b[95m[\u001b[0m\u001b[32m'response'\u001b[0m\u001b[95m]\u001b[0m:\n",
              "\n",
              "What is an LLM?\n",
              "\n",
              "DURENCK:\n",
              "Me so my nou, hou ward thes ler noms he he,\n",
              "Oxt my the my de is by beperd.\n",
              "\n",
              "HARY ORK:\n",
              "Whe tho su win th ars at herd pedis.\n",
              "\n",
              "KING RICHARD II:\n",
              "That we sco arre,\n",
              "Thade so frener sheran may or tot tremedonght oness.\n",
              "GLUCER:\n",
              "He le inest soul mok, son\n"
            ],
            "text/html": [
              "<pre style=\"white-space:pre;overflow-x:auto;line-height:normal;font-family:Menlo,'DejaVu Sans Mono',consolas,'Courier New',monospace\">[<span style=\"color: #7f7f7f; text-decoration-color: #7f7f7f\">2025-07-23 17:21:48,464365</span>][<span style=\"color: #008000; text-decoration-color: #008000\">I</span>][<span style=\"color: #008080; text-decoration-color: #008080; font-style: italic\">wordplay</span>/<span style=\"color: #000080; text-decoration-color: #000080\">trainer</span><span style=\"color: #0000ff; text-decoration-color: #0000ff\">:</span><span style=\"color: #800080; text-decoration-color: #800080\">831</span>]<span style=\"color: #c0c0c0; text-decoration-color: #c0c0c0\"> </span><span style=\"color: #ff00ff; text-decoration-color: #ff00ff\">[</span><span style=\"color: #008000; text-decoration-color: #008000\">'response'</span><span style=\"color: #ff00ff; text-decoration-color: #ff00ff\">]</span>:\n",
              "\n",
              "What is an LLM?\n",
              "\n",
              "DURENCK:\n",
              "Me so my nou, hou ward thes ler noms he he,\n",
              "Oxt my the my de is by beperd.\n",
              "\n",
              "HARY ORK:\n",
              "Whe tho su win th ars at herd pedis.\n",
              "\n",
              "KING RICHARD II:\n",
              "That we sco arre,\n",
              "Thade so frener sheran may or tot tremedonght oness.\n",
              "GLUCER:\n",
              "He le inest soul mok, son\n",
              "</pre>\n"
            ]
          },
          "metadata": {}
        },
        {
          "output_type": "display_data",
          "data": {
            "text/plain": [
              "[\u001b[2m2025-07-23 \u001b[0m\u001b[2m17:22:46,157466\u001b[0m][\u001b[32mI\u001b[0m][\u001b[3;36mwordplay\u001b[0m/\u001b[34mtrainer\u001b[0m\u001b[94m:\u001b[0m\u001b[35m762\u001b[0m]\u001b[37m \u001b[0mSaving checkpoint to: \u001b[35m/\u001b[0m\u001b[95mcontent\u001b[0m\n"
            ],
            "text/html": [
              "<pre style=\"white-space:pre;overflow-x:auto;line-height:normal;font-family:Menlo,'DejaVu Sans Mono',consolas,'Courier New',monospace\">[<span style=\"color: #7f7f7f; text-decoration-color: #7f7f7f\">2025-07-23 17:22:46,157466</span>][<span style=\"color: #008000; text-decoration-color: #008000\">I</span>][<span style=\"color: #008080; text-decoration-color: #008080; font-style: italic\">wordplay</span>/<span style=\"color: #000080; text-decoration-color: #000080\">trainer</span><span style=\"color: #0000ff; text-decoration-color: #0000ff\">:</span><span style=\"color: #800080; text-decoration-color: #800080\">762</span>]<span style=\"color: #c0c0c0; text-decoration-color: #c0c0c0\"> </span>Saving checkpoint to: <span style=\"color: #800080; text-decoration-color: #800080\">/</span><span style=\"color: #ff00ff; text-decoration-color: #ff00ff\">content</span>\n",
              "</pre>\n"
            ]
          },
          "metadata": {}
        },
        {
          "output_type": "display_data",
          "data": {
            "text/plain": [
              "[\u001b[2m2025-07-23 \u001b[0m\u001b[2m17:22:46,159878\u001b[0m][\u001b[32mI\u001b[0m][\u001b[3;36mwordplay\u001b[0m/\u001b[34mtrainer\u001b[0m\u001b[94m:\u001b[0m\u001b[35m763\u001b[0m]\u001b[37m \u001b[0mSaving model to: \u001b[35m/content/\u001b[0m\u001b[95mmodel.pth\u001b[0m\n"
            ],
            "text/html": [
              "<pre style=\"white-space:pre;overflow-x:auto;line-height:normal;font-family:Menlo,'DejaVu Sans Mono',consolas,'Courier New',monospace\">[<span style=\"color: #7f7f7f; text-decoration-color: #7f7f7f\">2025-07-23 17:22:46,159878</span>][<span style=\"color: #008000; text-decoration-color: #008000\">I</span>][<span style=\"color: #008080; text-decoration-color: #008080; font-style: italic\">wordplay</span>/<span style=\"color: #000080; text-decoration-color: #000080\">trainer</span><span style=\"color: #0000ff; text-decoration-color: #0000ff\">:</span><span style=\"color: #800080; text-decoration-color: #800080\">763</span>]<span style=\"color: #c0c0c0; text-decoration-color: #c0c0c0\"> </span>Saving model to: <span style=\"color: #800080; text-decoration-color: #800080\">/content/</span><span style=\"color: #ff00ff; text-decoration-color: #ff00ff\">model.pth</span>\n",
              "</pre>\n"
            ]
          },
          "metadata": {}
        },
        {
          "output_type": "display_data",
          "data": {
            "text/plain": [
              "[\u001b[2m2025-07-23 \u001b[0m\u001b[2m17:22:46,625786\u001b[0m][\u001b[32mI\u001b[0m][\u001b[3;36mwordplay\u001b[0m/\u001b[34mconfigs\u001b[0m\u001b[94m:\u001b[0m\u001b[35m141\u001b[0m]\u001b[37m \u001b[0mAppending \u001b[35m/\u001b[0m\u001b[95mcontent\u001b[0m to \u001b[35m/content/wordplay/src/ckpts/\u001b[0m\u001b[95mcheckpoints.log\u001b[0m\n"
            ],
            "text/html": [
              "<pre style=\"white-space:pre;overflow-x:auto;line-height:normal;font-family:Menlo,'DejaVu Sans Mono',consolas,'Courier New',monospace\">[<span style=\"color: #7f7f7f; text-decoration-color: #7f7f7f\">2025-07-23 17:22:46,625786</span>][<span style=\"color: #008000; text-decoration-color: #008000\">I</span>][<span style=\"color: #008080; text-decoration-color: #008080; font-style: italic\">wordplay</span>/<span style=\"color: #000080; text-decoration-color: #000080\">configs</span><span style=\"color: #0000ff; text-decoration-color: #0000ff\">:</span><span style=\"color: #800080; text-decoration-color: #800080\">141</span>]<span style=\"color: #c0c0c0; text-decoration-color: #c0c0c0\"> </span>Appending <span style=\"color: #800080; text-decoration-color: #800080\">/</span><span style=\"color: #ff00ff; text-decoration-color: #ff00ff\">content</span> to <span style=\"color: #800080; text-decoration-color: #800080\">/content/wordplay/src/ckpts/</span><span style=\"color: #ff00ff; text-decoration-color: #ff00ff\">checkpoints.log</span>\n",
              "</pre>\n"
            ]
          },
          "metadata": {}
        },
        {
          "output_type": "display_data",
          "data": {
            "text/plain": [
              "[\u001b[2m2025-07-23 \u001b[0m\u001b[2m17:22:50,449927\u001b[0m][\u001b[32mI\u001b[0m][\u001b[3;36mwordplay\u001b[0m/\u001b[34mtrainer\u001b[0m\u001b[94m:\u001b[0m\u001b[35m894\u001b[0m]\u001b[37m \u001b[0m\u001b[94mstep\u001b[0m=\u001b[1;36m910\u001b[0m \u001b[94mloss\u001b[0m=\u001b[1;36m2\u001b[0m\u001b[1;36m.17491\u001b[0m \u001b[94mdt\u001b[0m=\u001b[1;36m0\u001b[0m\u001b[1;36m.379023\u001b[0m \u001b[94mdtf\u001b[0m=\u001b[1;36m0\u001b[0m\u001b[1;36m.00754135\u001b[0m \u001b[94mdtb\u001b[0m=\u001b[1;36m0\u001b[0m\u001b[1;36m.0100832\u001b[0m \u001b[94msps\u001b[0m=\u001b[1;36m2\u001b[0m\u001b[1;36m.63836\u001b[0m \u001b[94msps_per_gpu\u001b[0m=\u001b[1;36m2\u001b[0m\u001b[1;36m.63836\u001b[0m \u001b[94mtps\u001b[0m=\u001b[1;36m21613\u001b[0m\u001b[1;36m.5\u001b[0m \u001b[94mtps_per_gpu\u001b[0m=\u001b[1;36m21613\u001b[0m\u001b[1;36m.5\u001b[0m \u001b[94mmfu\u001b[0m=\u001b[1;36m0\u001b[0m\u001b[1;36m.634012\u001b[0m\n"
            ],
            "text/html": [
              "<pre style=\"white-space:pre;overflow-x:auto;line-height:normal;font-family:Menlo,'DejaVu Sans Mono',consolas,'Courier New',monospace\">[<span style=\"color: #7f7f7f; text-decoration-color: #7f7f7f\">2025-07-23 17:22:50,449927</span>][<span style=\"color: #008000; text-decoration-color: #008000\">I</span>][<span style=\"color: #008080; text-decoration-color: #008080; font-style: italic\">wordplay</span>/<span style=\"color: #000080; text-decoration-color: #000080\">trainer</span><span style=\"color: #0000ff; text-decoration-color: #0000ff\">:</span><span style=\"color: #800080; text-decoration-color: #800080\">894</span>]<span style=\"color: #c0c0c0; text-decoration-color: #c0c0c0\"> </span><span style=\"color: #0000ff; text-decoration-color: #0000ff\">step</span>=<span style=\"color: #008080; text-decoration-color: #008080; font-weight: bold\">910</span> <span style=\"color: #0000ff; text-decoration-color: #0000ff\">loss</span>=<span style=\"color: #008080; text-decoration-color: #008080; font-weight: bold\">2.17491</span> <span style=\"color: #0000ff; text-decoration-color: #0000ff\">dt</span>=<span style=\"color: #008080; text-decoration-color: #008080; font-weight: bold\">0.379023</span> <span style=\"color: #0000ff; text-decoration-color: #0000ff\">dtf</span>=<span style=\"color: #008080; text-decoration-color: #008080; font-weight: bold\">0.00754135</span> <span style=\"color: #0000ff; text-decoration-color: #0000ff\">dtb</span>=<span style=\"color: #008080; text-decoration-color: #008080; font-weight: bold\">0.0100832</span> <span style=\"color: #0000ff; text-decoration-color: #0000ff\">sps</span>=<span style=\"color: #008080; text-decoration-color: #008080; font-weight: bold\">2.63836</span> <span style=\"color: #0000ff; text-decoration-color: #0000ff\">sps_per_gpu</span>=<span style=\"color: #008080; text-decoration-color: #008080; font-weight: bold\">2.63836</span> <span style=\"color: #0000ff; text-decoration-color: #0000ff\">tps</span>=<span style=\"color: #008080; text-decoration-color: #008080; font-weight: bold\">21613.5</span> <span style=\"color: #0000ff; text-decoration-color: #0000ff\">tps_per_gpu</span>=<span style=\"color: #008080; text-decoration-color: #008080; font-weight: bold\">21613.5</span> <span style=\"color: #0000ff; text-decoration-color: #0000ff\">mfu</span>=<span style=\"color: #008080; text-decoration-color: #008080; font-weight: bold\">0.634012</span>\n",
              "</pre>\n"
            ]
          },
          "metadata": {}
        },
        {
          "output_type": "display_data",
          "data": {
            "text/plain": [
              "[\u001b[2m2025-07-23 \u001b[0m\u001b[2m17:22:54,284268\u001b[0m][\u001b[32mI\u001b[0m][\u001b[3;36mwordplay\u001b[0m/\u001b[34mtrainer\u001b[0m\u001b[94m:\u001b[0m\u001b[35m894\u001b[0m]\u001b[37m \u001b[0m\u001b[94mstep\u001b[0m=\u001b[1;36m920\u001b[0m \u001b[94mloss\u001b[0m=\u001b[1;36m2\u001b[0m\u001b[1;36m.1536\u001b[0m \u001b[94mdt\u001b[0m=\u001b[1;36m0\u001b[0m\u001b[1;36m.383239\u001b[0m \u001b[94mdtf\u001b[0m=\u001b[1;36m0\u001b[0m\u001b[1;36m.0075398\u001b[0m \u001b[94mdtb\u001b[0m=\u001b[1;36m0\u001b[0m\u001b[1;36m.00996356\u001b[0m \u001b[94msps\u001b[0m=\u001b[1;36m2\u001b[0m\u001b[1;36m.60934\u001b[0m \u001b[94msps_per_gpu\u001b[0m=\u001b[1;36m2\u001b[0m\u001b[1;36m.60934\u001b[0m \u001b[94mtps\u001b[0m=\u001b[1;36m21375\u001b[0m\u001b[1;36m.7\u001b[0m \u001b[94mtps_per_gpu\u001b[0m=\u001b[1;36m21375\u001b[0m\u001b[1;36m.7\u001b[0m \u001b[94mmfu\u001b[0m=\u001b[1;36m0\u001b[0m\u001b[1;36m.633773\u001b[0m\n"
            ],
            "text/html": [
              "<pre style=\"white-space:pre;overflow-x:auto;line-height:normal;font-family:Menlo,'DejaVu Sans Mono',consolas,'Courier New',monospace\">[<span style=\"color: #7f7f7f; text-decoration-color: #7f7f7f\">2025-07-23 17:22:54,284268</span>][<span style=\"color: #008000; text-decoration-color: #008000\">I</span>][<span style=\"color: #008080; text-decoration-color: #008080; font-style: italic\">wordplay</span>/<span style=\"color: #000080; text-decoration-color: #000080\">trainer</span><span style=\"color: #0000ff; text-decoration-color: #0000ff\">:</span><span style=\"color: #800080; text-decoration-color: #800080\">894</span>]<span style=\"color: #c0c0c0; text-decoration-color: #c0c0c0\"> </span><span style=\"color: #0000ff; text-decoration-color: #0000ff\">step</span>=<span style=\"color: #008080; text-decoration-color: #008080; font-weight: bold\">920</span> <span style=\"color: #0000ff; text-decoration-color: #0000ff\">loss</span>=<span style=\"color: #008080; text-decoration-color: #008080; font-weight: bold\">2.1536</span> <span style=\"color: #0000ff; text-decoration-color: #0000ff\">dt</span>=<span style=\"color: #008080; text-decoration-color: #008080; font-weight: bold\">0.383239</span> <span style=\"color: #0000ff; text-decoration-color: #0000ff\">dtf</span>=<span style=\"color: #008080; text-decoration-color: #008080; font-weight: bold\">0.0075398</span> <span style=\"color: #0000ff; text-decoration-color: #0000ff\">dtb</span>=<span style=\"color: #008080; text-decoration-color: #008080; font-weight: bold\">0.00996356</span> <span style=\"color: #0000ff; text-decoration-color: #0000ff\">sps</span>=<span style=\"color: #008080; text-decoration-color: #008080; font-weight: bold\">2.60934</span> <span style=\"color: #0000ff; text-decoration-color: #0000ff\">sps_per_gpu</span>=<span style=\"color: #008080; text-decoration-color: #008080; font-weight: bold\">2.60934</span> <span style=\"color: #0000ff; text-decoration-color: #0000ff\">tps</span>=<span style=\"color: #008080; text-decoration-color: #008080; font-weight: bold\">21375.7</span> <span style=\"color: #0000ff; text-decoration-color: #0000ff\">tps_per_gpu</span>=<span style=\"color: #008080; text-decoration-color: #008080; font-weight: bold\">21375.7</span> <span style=\"color: #0000ff; text-decoration-color: #0000ff\">mfu</span>=<span style=\"color: #008080; text-decoration-color: #008080; font-weight: bold\">0.633773</span>\n",
              "</pre>\n"
            ]
          },
          "metadata": {}
        },
        {
          "output_type": "display_data",
          "data": {
            "text/plain": [
              "[\u001b[2m2025-07-23 \u001b[0m\u001b[2m17:22:58,116915\u001b[0m][\u001b[32mI\u001b[0m][\u001b[3;36mwordplay\u001b[0m/\u001b[34mtrainer\u001b[0m\u001b[94m:\u001b[0m\u001b[35m894\u001b[0m]\u001b[37m \u001b[0m\u001b[94mstep\u001b[0m=\u001b[1;36m930\u001b[0m \u001b[94mloss\u001b[0m=\u001b[1;36m2\u001b[0m\u001b[1;36m.15065\u001b[0m \u001b[94mdt\u001b[0m=\u001b[1;36m0\u001b[0m\u001b[1;36m.381936\u001b[0m \u001b[94mdtf\u001b[0m=\u001b[1;36m0\u001b[0m\u001b[1;36m.00785014\u001b[0m \u001b[94mdtb\u001b[0m=\u001b[1;36m0\u001b[0m\u001b[1;36m.0114434\u001b[0m \u001b[94msps\u001b[0m=\u001b[1;36m2\u001b[0m\u001b[1;36m.61824\u001b[0m \u001b[94msps_per_gpu\u001b[0m=\u001b[1;36m2\u001b[0m\u001b[1;36m.61824\u001b[0m \u001b[94mtps\u001b[0m=\u001b[1;36m21448\u001b[0m\u001b[1;36m.6\u001b[0m \u001b[94mtps_per_gpu\u001b[0m=\u001b[1;36m21448\u001b[0m\u001b[1;36m.6\u001b[0m \u001b[94mmfu\u001b[0m=\u001b[1;36m0\u001b[0m\u001b[1;36m.633774\u001b[0m\n"
            ],
            "text/html": [
              "<pre style=\"white-space:pre;overflow-x:auto;line-height:normal;font-family:Menlo,'DejaVu Sans Mono',consolas,'Courier New',monospace\">[<span style=\"color: #7f7f7f; text-decoration-color: #7f7f7f\">2025-07-23 17:22:58,116915</span>][<span style=\"color: #008000; text-decoration-color: #008000\">I</span>][<span style=\"color: #008080; text-decoration-color: #008080; font-style: italic\">wordplay</span>/<span style=\"color: #000080; text-decoration-color: #000080\">trainer</span><span style=\"color: #0000ff; text-decoration-color: #0000ff\">:</span><span style=\"color: #800080; text-decoration-color: #800080\">894</span>]<span style=\"color: #c0c0c0; text-decoration-color: #c0c0c0\"> </span><span style=\"color: #0000ff; text-decoration-color: #0000ff\">step</span>=<span style=\"color: #008080; text-decoration-color: #008080; font-weight: bold\">930</span> <span style=\"color: #0000ff; text-decoration-color: #0000ff\">loss</span>=<span style=\"color: #008080; text-decoration-color: #008080; font-weight: bold\">2.15065</span> <span style=\"color: #0000ff; text-decoration-color: #0000ff\">dt</span>=<span style=\"color: #008080; text-decoration-color: #008080; font-weight: bold\">0.381936</span> <span style=\"color: #0000ff; text-decoration-color: #0000ff\">dtf</span>=<span style=\"color: #008080; text-decoration-color: #008080; font-weight: bold\">0.00785014</span> <span style=\"color: #0000ff; text-decoration-color: #0000ff\">dtb</span>=<span style=\"color: #008080; text-decoration-color: #008080; font-weight: bold\">0.0114434</span> <span style=\"color: #0000ff; text-decoration-color: #0000ff\">sps</span>=<span style=\"color: #008080; text-decoration-color: #008080; font-weight: bold\">2.61824</span> <span style=\"color: #0000ff; text-decoration-color: #0000ff\">sps_per_gpu</span>=<span style=\"color: #008080; text-decoration-color: #008080; font-weight: bold\">2.61824</span> <span style=\"color: #0000ff; text-decoration-color: #0000ff\">tps</span>=<span style=\"color: #008080; text-decoration-color: #008080; font-weight: bold\">21448.6</span> <span style=\"color: #0000ff; text-decoration-color: #0000ff\">tps_per_gpu</span>=<span style=\"color: #008080; text-decoration-color: #008080; font-weight: bold\">21448.6</span> <span style=\"color: #0000ff; text-decoration-color: #0000ff\">mfu</span>=<span style=\"color: #008080; text-decoration-color: #008080; font-weight: bold\">0.633774</span>\n",
              "</pre>\n"
            ]
          },
          "metadata": {}
        },
        {
          "output_type": "display_data",
          "data": {
            "text/plain": [
              "[\u001b[2m2025-07-23 \u001b[0m\u001b[2m17:23:01,953658\u001b[0m][\u001b[32mI\u001b[0m][\u001b[3;36mwordplay\u001b[0m/\u001b[34mtrainer\u001b[0m\u001b[94m:\u001b[0m\u001b[35m894\u001b[0m]\u001b[37m \u001b[0m\u001b[94mstep\u001b[0m=\u001b[1;36m940\u001b[0m \u001b[94mloss\u001b[0m=\u001b[1;36m2\u001b[0m\u001b[1;36m.12782\u001b[0m \u001b[94mdt\u001b[0m=\u001b[1;36m0\u001b[0m\u001b[1;36m.38311\u001b[0m \u001b[94mdtf\u001b[0m=\u001b[1;36m0\u001b[0m\u001b[1;36m.00824185\u001b[0m \u001b[94mdtb\u001b[0m=\u001b[1;36m0\u001b[0m\u001b[1;36m.0105607\u001b[0m \u001b[94msps\u001b[0m=\u001b[1;36m2\u001b[0m\u001b[1;36m.61022\u001b[0m \u001b[94msps_per_gpu\u001b[0m=\u001b[1;36m2\u001b[0m\u001b[1;36m.61022\u001b[0m \u001b[94mtps\u001b[0m=\u001b[1;36m21382\u001b[0m\u001b[1;36m.9\u001b[0m \u001b[94mtps_per_gpu\u001b[0m=\u001b[1;36m21382\u001b[0m\u001b[1;36m.9\u001b[0m \u001b[94mmfu\u001b[0m=\u001b[1;36m0\u001b[0m\u001b[1;36m.633581\u001b[0m\n"
            ],
            "text/html": [
              "<pre style=\"white-space:pre;overflow-x:auto;line-height:normal;font-family:Menlo,'DejaVu Sans Mono',consolas,'Courier New',monospace\">[<span style=\"color: #7f7f7f; text-decoration-color: #7f7f7f\">2025-07-23 17:23:01,953658</span>][<span style=\"color: #008000; text-decoration-color: #008000\">I</span>][<span style=\"color: #008080; text-decoration-color: #008080; font-style: italic\">wordplay</span>/<span style=\"color: #000080; text-decoration-color: #000080\">trainer</span><span style=\"color: #0000ff; text-decoration-color: #0000ff\">:</span><span style=\"color: #800080; text-decoration-color: #800080\">894</span>]<span style=\"color: #c0c0c0; text-decoration-color: #c0c0c0\"> </span><span style=\"color: #0000ff; text-decoration-color: #0000ff\">step</span>=<span style=\"color: #008080; text-decoration-color: #008080; font-weight: bold\">940</span> <span style=\"color: #0000ff; text-decoration-color: #0000ff\">loss</span>=<span style=\"color: #008080; text-decoration-color: #008080; font-weight: bold\">2.12782</span> <span style=\"color: #0000ff; text-decoration-color: #0000ff\">dt</span>=<span style=\"color: #008080; text-decoration-color: #008080; font-weight: bold\">0.38311</span> <span style=\"color: #0000ff; text-decoration-color: #0000ff\">dtf</span>=<span style=\"color: #008080; text-decoration-color: #008080; font-weight: bold\">0.00824185</span> <span style=\"color: #0000ff; text-decoration-color: #0000ff\">dtb</span>=<span style=\"color: #008080; text-decoration-color: #008080; font-weight: bold\">0.0105607</span> <span style=\"color: #0000ff; text-decoration-color: #0000ff\">sps</span>=<span style=\"color: #008080; text-decoration-color: #008080; font-weight: bold\">2.61022</span> <span style=\"color: #0000ff; text-decoration-color: #0000ff\">sps_per_gpu</span>=<span style=\"color: #008080; text-decoration-color: #008080; font-weight: bold\">2.61022</span> <span style=\"color: #0000ff; text-decoration-color: #0000ff\">tps</span>=<span style=\"color: #008080; text-decoration-color: #008080; font-weight: bold\">21382.9</span> <span style=\"color: #0000ff; text-decoration-color: #0000ff\">tps_per_gpu</span>=<span style=\"color: #008080; text-decoration-color: #008080; font-weight: bold\">21382.9</span> <span style=\"color: #0000ff; text-decoration-color: #0000ff\">mfu</span>=<span style=\"color: #008080; text-decoration-color: #008080; font-weight: bold\">0.633581</span>\n",
              "</pre>\n"
            ]
          },
          "metadata": {}
        },
        {
          "output_type": "display_data",
          "data": {
            "text/plain": [
              "[\u001b[2m2025-07-23 \u001b[0m\u001b[2m17:23:05,787479\u001b[0m][\u001b[32mI\u001b[0m][\u001b[3;36mwordplay\u001b[0m/\u001b[34mtrainer\u001b[0m\u001b[94m:\u001b[0m\u001b[35m894\u001b[0m]\u001b[37m \u001b[0m\u001b[94mstep\u001b[0m=\u001b[1;36m950\u001b[0m \u001b[94mloss\u001b[0m=\u001b[1;36m2\u001b[0m\u001b[1;36m.18616\u001b[0m \u001b[94mdt\u001b[0m=\u001b[1;36m0\u001b[0m\u001b[1;36m.38379\u001b[0m \u001b[94mdtf\u001b[0m=\u001b[1;36m0\u001b[0m\u001b[1;36m.00788715\u001b[0m \u001b[94mdtb\u001b[0m=\u001b[1;36m0\u001b[0m\u001b[1;36m.0103477\u001b[0m \u001b[94msps\u001b[0m=\u001b[1;36m2\u001b[0m\u001b[1;36m.60559\u001b[0m \u001b[94msps_per_gpu\u001b[0m=\u001b[1;36m2\u001b[0m\u001b[1;36m.60559\u001b[0m \u001b[94mtps\u001b[0m=\u001b[1;36m21345\u001b[0m \u001b[94mtps_per_gpu\u001b[0m=\u001b[1;36m21345\u001b[0m \u001b[94mmfu\u001b[0m=\u001b[1;36m0\u001b[0m\u001b[1;36m.633295\u001b[0m\n"
            ],
            "text/html": [
              "<pre style=\"white-space:pre;overflow-x:auto;line-height:normal;font-family:Menlo,'DejaVu Sans Mono',consolas,'Courier New',monospace\">[<span style=\"color: #7f7f7f; text-decoration-color: #7f7f7f\">2025-07-23 17:23:05,787479</span>][<span style=\"color: #008000; text-decoration-color: #008000\">I</span>][<span style=\"color: #008080; text-decoration-color: #008080; font-style: italic\">wordplay</span>/<span style=\"color: #000080; text-decoration-color: #000080\">trainer</span><span style=\"color: #0000ff; text-decoration-color: #0000ff\">:</span><span style=\"color: #800080; text-decoration-color: #800080\">894</span>]<span style=\"color: #c0c0c0; text-decoration-color: #c0c0c0\"> </span><span style=\"color: #0000ff; text-decoration-color: #0000ff\">step</span>=<span style=\"color: #008080; text-decoration-color: #008080; font-weight: bold\">950</span> <span style=\"color: #0000ff; text-decoration-color: #0000ff\">loss</span>=<span style=\"color: #008080; text-decoration-color: #008080; font-weight: bold\">2.18616</span> <span style=\"color: #0000ff; text-decoration-color: #0000ff\">dt</span>=<span style=\"color: #008080; text-decoration-color: #008080; font-weight: bold\">0.38379</span> <span style=\"color: #0000ff; text-decoration-color: #0000ff\">dtf</span>=<span style=\"color: #008080; text-decoration-color: #008080; font-weight: bold\">0.00788715</span> <span style=\"color: #0000ff; text-decoration-color: #0000ff\">dtb</span>=<span style=\"color: #008080; text-decoration-color: #008080; font-weight: bold\">0.0103477</span> <span style=\"color: #0000ff; text-decoration-color: #0000ff\">sps</span>=<span style=\"color: #008080; text-decoration-color: #008080; font-weight: bold\">2.60559</span> <span style=\"color: #0000ff; text-decoration-color: #0000ff\">sps_per_gpu</span>=<span style=\"color: #008080; text-decoration-color: #008080; font-weight: bold\">2.60559</span> <span style=\"color: #0000ff; text-decoration-color: #0000ff\">tps</span>=<span style=\"color: #008080; text-decoration-color: #008080; font-weight: bold\">21345</span> <span style=\"color: #0000ff; text-decoration-color: #0000ff\">tps_per_gpu</span>=<span style=\"color: #008080; text-decoration-color: #008080; font-weight: bold\">21345</span> <span style=\"color: #0000ff; text-decoration-color: #0000ff\">mfu</span>=<span style=\"color: #008080; text-decoration-color: #008080; font-weight: bold\">0.633295</span>\n",
              "</pre>\n"
            ]
          },
          "metadata": {}
        },
        {
          "output_type": "display_data",
          "data": {
            "text/plain": [
              "[\u001b[2m2025-07-23 \u001b[0m\u001b[2m17:23:09,621436\u001b[0m][\u001b[32mI\u001b[0m][\u001b[3;36mwordplay\u001b[0m/\u001b[34mtrainer\u001b[0m\u001b[94m:\u001b[0m\u001b[35m894\u001b[0m]\u001b[37m \u001b[0m\u001b[94mstep\u001b[0m=\u001b[1;36m960\u001b[0m \u001b[94mloss\u001b[0m=\u001b[1;36m2\u001b[0m\u001b[1;36m.11422\u001b[0m \u001b[94mdt\u001b[0m=\u001b[1;36m0\u001b[0m\u001b[1;36m.384061\u001b[0m \u001b[94mdtf\u001b[0m=\u001b[1;36m0\u001b[0m\u001b[1;36m.00771515\u001b[0m \u001b[94mdtb\u001b[0m=\u001b[1;36m0\u001b[0m\u001b[1;36m.00979936\u001b[0m \u001b[94msps\u001b[0m=\u001b[1;36m2\u001b[0m\u001b[1;36m.60376\u001b[0m \u001b[94msps_per_gpu\u001b[0m=\u001b[1;36m2\u001b[0m\u001b[1;36m.60376\u001b[0m \u001b[94mtps\u001b[0m=\u001b[1;36m21330\u001b[0m \u001b[94mtps_per_gpu\u001b[0m=\u001b[1;36m21330\u001b[0m \u001b[94mmfu\u001b[0m=\u001b[1;36m0\u001b[0m\u001b[1;36m.632993\u001b[0m\n"
            ],
            "text/html": [
              "<pre style=\"white-space:pre;overflow-x:auto;line-height:normal;font-family:Menlo,'DejaVu Sans Mono',consolas,'Courier New',monospace\">[<span style=\"color: #7f7f7f; text-decoration-color: #7f7f7f\">2025-07-23 17:23:09,621436</span>][<span style=\"color: #008000; text-decoration-color: #008000\">I</span>][<span style=\"color: #008080; text-decoration-color: #008080; font-style: italic\">wordplay</span>/<span style=\"color: #000080; text-decoration-color: #000080\">trainer</span><span style=\"color: #0000ff; text-decoration-color: #0000ff\">:</span><span style=\"color: #800080; text-decoration-color: #800080\">894</span>]<span style=\"color: #c0c0c0; text-decoration-color: #c0c0c0\"> </span><span style=\"color: #0000ff; text-decoration-color: #0000ff\">step</span>=<span style=\"color: #008080; text-decoration-color: #008080; font-weight: bold\">960</span> <span style=\"color: #0000ff; text-decoration-color: #0000ff\">loss</span>=<span style=\"color: #008080; text-decoration-color: #008080; font-weight: bold\">2.11422</span> <span style=\"color: #0000ff; text-decoration-color: #0000ff\">dt</span>=<span style=\"color: #008080; text-decoration-color: #008080; font-weight: bold\">0.384061</span> <span style=\"color: #0000ff; text-decoration-color: #0000ff\">dtf</span>=<span style=\"color: #008080; text-decoration-color: #008080; font-weight: bold\">0.00771515</span> <span style=\"color: #0000ff; text-decoration-color: #0000ff\">dtb</span>=<span style=\"color: #008080; text-decoration-color: #008080; font-weight: bold\">0.00979936</span> <span style=\"color: #0000ff; text-decoration-color: #0000ff\">sps</span>=<span style=\"color: #008080; text-decoration-color: #008080; font-weight: bold\">2.60376</span> <span style=\"color: #0000ff; text-decoration-color: #0000ff\">sps_per_gpu</span>=<span style=\"color: #008080; text-decoration-color: #008080; font-weight: bold\">2.60376</span> <span style=\"color: #0000ff; text-decoration-color: #0000ff\">tps</span>=<span style=\"color: #008080; text-decoration-color: #008080; font-weight: bold\">21330</span> <span style=\"color: #0000ff; text-decoration-color: #0000ff\">tps_per_gpu</span>=<span style=\"color: #008080; text-decoration-color: #008080; font-weight: bold\">21330</span> <span style=\"color: #0000ff; text-decoration-color: #0000ff\">mfu</span>=<span style=\"color: #008080; text-decoration-color: #008080; font-weight: bold\">0.632993</span>\n",
              "</pre>\n"
            ]
          },
          "metadata": {}
        },
        {
          "output_type": "display_data",
          "data": {
            "text/plain": [
              "[\u001b[2m2025-07-23 \u001b[0m\u001b[2m17:23:13,455949\u001b[0m][\u001b[32mI\u001b[0m][\u001b[3;36mwordplay\u001b[0m/\u001b[34mtrainer\u001b[0m\u001b[94m:\u001b[0m\u001b[35m894\u001b[0m]\u001b[37m \u001b[0m\u001b[94mstep\u001b[0m=\u001b[1;36m970\u001b[0m \u001b[94mloss\u001b[0m=\u001b[1;36m2\u001b[0m\u001b[1;36m.05699\u001b[0m \u001b[94mdt\u001b[0m=\u001b[1;36m0\u001b[0m\u001b[1;36m.383695\u001b[0m \u001b[94mdtf\u001b[0m=\u001b[1;36m0\u001b[0m\u001b[1;36m.00807108\u001b[0m \u001b[94mdtb\u001b[0m=\u001b[1;36m0\u001b[0m\u001b[1;36m.0107169\u001b[0m \u001b[94msps\u001b[0m=\u001b[1;36m2\u001b[0m\u001b[1;36m.60624\u001b[0m \u001b[94msps_per_gpu\u001b[0m=\u001b[1;36m2\u001b[0m\u001b[1;36m.60624\u001b[0m \u001b[94mtps\u001b[0m=\u001b[1;36m21350\u001b[0m\u001b[1;36m.3\u001b[0m \u001b[94mtps_per_gpu\u001b[0m=\u001b[1;36m21350\u001b[0m\u001b[1;36m.3\u001b[0m \u001b[94mmfu\u001b[0m=\u001b[1;36m0\u001b[0m\u001b[1;36m.632781\u001b[0m\n"
            ],
            "text/html": [
              "<pre style=\"white-space:pre;overflow-x:auto;line-height:normal;font-family:Menlo,'DejaVu Sans Mono',consolas,'Courier New',monospace\">[<span style=\"color: #7f7f7f; text-decoration-color: #7f7f7f\">2025-07-23 17:23:13,455949</span>][<span style=\"color: #008000; text-decoration-color: #008000\">I</span>][<span style=\"color: #008080; text-decoration-color: #008080; font-style: italic\">wordplay</span>/<span style=\"color: #000080; text-decoration-color: #000080\">trainer</span><span style=\"color: #0000ff; text-decoration-color: #0000ff\">:</span><span style=\"color: #800080; text-decoration-color: #800080\">894</span>]<span style=\"color: #c0c0c0; text-decoration-color: #c0c0c0\"> </span><span style=\"color: #0000ff; text-decoration-color: #0000ff\">step</span>=<span style=\"color: #008080; text-decoration-color: #008080; font-weight: bold\">970</span> <span style=\"color: #0000ff; text-decoration-color: #0000ff\">loss</span>=<span style=\"color: #008080; text-decoration-color: #008080; font-weight: bold\">2.05699</span> <span style=\"color: #0000ff; text-decoration-color: #0000ff\">dt</span>=<span style=\"color: #008080; text-decoration-color: #008080; font-weight: bold\">0.383695</span> <span style=\"color: #0000ff; text-decoration-color: #0000ff\">dtf</span>=<span style=\"color: #008080; text-decoration-color: #008080; font-weight: bold\">0.00807108</span> <span style=\"color: #0000ff; text-decoration-color: #0000ff\">dtb</span>=<span style=\"color: #008080; text-decoration-color: #008080; font-weight: bold\">0.0107169</span> <span style=\"color: #0000ff; text-decoration-color: #0000ff\">sps</span>=<span style=\"color: #008080; text-decoration-color: #008080; font-weight: bold\">2.60624</span> <span style=\"color: #0000ff; text-decoration-color: #0000ff\">sps_per_gpu</span>=<span style=\"color: #008080; text-decoration-color: #008080; font-weight: bold\">2.60624</span> <span style=\"color: #0000ff; text-decoration-color: #0000ff\">tps</span>=<span style=\"color: #008080; text-decoration-color: #008080; font-weight: bold\">21350.3</span> <span style=\"color: #0000ff; text-decoration-color: #0000ff\">tps_per_gpu</span>=<span style=\"color: #008080; text-decoration-color: #008080; font-weight: bold\">21350.3</span> <span style=\"color: #0000ff; text-decoration-color: #0000ff\">mfu</span>=<span style=\"color: #008080; text-decoration-color: #008080; font-weight: bold\">0.632781</span>\n",
              "</pre>\n"
            ]
          },
          "metadata": {}
        },
        {
          "output_type": "display_data",
          "data": {
            "text/plain": [
              "[\u001b[2m2025-07-23 \u001b[0m\u001b[2m17:23:17,284032\u001b[0m][\u001b[32mI\u001b[0m][\u001b[3;36mwordplay\u001b[0m/\u001b[34mtrainer\u001b[0m\u001b[94m:\u001b[0m\u001b[35m894\u001b[0m]\u001b[37m \u001b[0m\u001b[94mstep\u001b[0m=\u001b[1;36m980\u001b[0m \u001b[94mloss\u001b[0m=\u001b[1;36m2\u001b[0m\u001b[1;36m.15509\u001b[0m \u001b[94mdt\u001b[0m=\u001b[1;36m0\u001b[0m\u001b[1;36m.376189\u001b[0m \u001b[94mdtf\u001b[0m=\u001b[1;36m0\u001b[0m\u001b[1;36m.00803431\u001b[0m \u001b[94mdtb\u001b[0m=\u001b[1;36m0\u001b[0m\u001b[1;36m.0109163\u001b[0m \u001b[94msps\u001b[0m=\u001b[1;36m2\u001b[0m\u001b[1;36m.65824\u001b[0m \u001b[94msps_per_gpu\u001b[0m=\u001b[1;36m2\u001b[0m\u001b[1;36m.65824\u001b[0m \u001b[94mtps\u001b[0m=\u001b[1;36m21776\u001b[0m\u001b[1;36m.3\u001b[0m \u001b[94mtps_per_gpu\u001b[0m=\u001b[1;36m21776\u001b[0m\u001b[1;36m.3\u001b[0m \u001b[94mmfu\u001b[0m=\u001b[1;36m0\u001b[0m\u001b[1;36m.633849\u001b[0m\n"
            ],
            "text/html": [
              "<pre style=\"white-space:pre;overflow-x:auto;line-height:normal;font-family:Menlo,'DejaVu Sans Mono',consolas,'Courier New',monospace\">[<span style=\"color: #7f7f7f; text-decoration-color: #7f7f7f\">2025-07-23 17:23:17,284032</span>][<span style=\"color: #008000; text-decoration-color: #008000\">I</span>][<span style=\"color: #008080; text-decoration-color: #008080; font-style: italic\">wordplay</span>/<span style=\"color: #000080; text-decoration-color: #000080\">trainer</span><span style=\"color: #0000ff; text-decoration-color: #0000ff\">:</span><span style=\"color: #800080; text-decoration-color: #800080\">894</span>]<span style=\"color: #c0c0c0; text-decoration-color: #c0c0c0\"> </span><span style=\"color: #0000ff; text-decoration-color: #0000ff\">step</span>=<span style=\"color: #008080; text-decoration-color: #008080; font-weight: bold\">980</span> <span style=\"color: #0000ff; text-decoration-color: #0000ff\">loss</span>=<span style=\"color: #008080; text-decoration-color: #008080; font-weight: bold\">2.15509</span> <span style=\"color: #0000ff; text-decoration-color: #0000ff\">dt</span>=<span style=\"color: #008080; text-decoration-color: #008080; font-weight: bold\">0.376189</span> <span style=\"color: #0000ff; text-decoration-color: #0000ff\">dtf</span>=<span style=\"color: #008080; text-decoration-color: #008080; font-weight: bold\">0.00803431</span> <span style=\"color: #0000ff; text-decoration-color: #0000ff\">dtb</span>=<span style=\"color: #008080; text-decoration-color: #008080; font-weight: bold\">0.0109163</span> <span style=\"color: #0000ff; text-decoration-color: #0000ff\">sps</span>=<span style=\"color: #008080; text-decoration-color: #008080; font-weight: bold\">2.65824</span> <span style=\"color: #0000ff; text-decoration-color: #0000ff\">sps_per_gpu</span>=<span style=\"color: #008080; text-decoration-color: #008080; font-weight: bold\">2.65824</span> <span style=\"color: #0000ff; text-decoration-color: #0000ff\">tps</span>=<span style=\"color: #008080; text-decoration-color: #008080; font-weight: bold\">21776.3</span> <span style=\"color: #0000ff; text-decoration-color: #0000ff\">tps_per_gpu</span>=<span style=\"color: #008080; text-decoration-color: #008080; font-weight: bold\">21776.3</span> <span style=\"color: #0000ff; text-decoration-color: #0000ff\">mfu</span>=<span style=\"color: #008080; text-decoration-color: #008080; font-weight: bold\">0.633849</span>\n",
              "</pre>\n"
            ]
          },
          "metadata": {}
        },
        {
          "output_type": "display_data",
          "data": {
            "text/plain": [
              "[\u001b[2m2025-07-23 \u001b[0m\u001b[2m17:23:21,114368\u001b[0m][\u001b[32mI\u001b[0m][\u001b[3;36mwordplay\u001b[0m/\u001b[34mtrainer\u001b[0m\u001b[94m:\u001b[0m\u001b[35m894\u001b[0m]\u001b[37m \u001b[0m\u001b[94mstep\u001b[0m=\u001b[1;36m990\u001b[0m \u001b[94mloss\u001b[0m=\u001b[1;36m2\u001b[0m\u001b[1;36m.1031\u001b[0m \u001b[94mdt\u001b[0m=\u001b[1;36m0\u001b[0m\u001b[1;36m.393959\u001b[0m \u001b[94mdtf\u001b[0m=\u001b[1;36m0\u001b[0m\u001b[1;36m.0123796\u001b[0m \u001b[94mdtb\u001b[0m=\u001b[1;36m0\u001b[0m\u001b[1;36m.0165355\u001b[0m \u001b[94msps\u001b[0m=\u001b[1;36m2\u001b[0m\u001b[1;36m.53833\u001b[0m \u001b[94msps_per_gpu\u001b[0m=\u001b[1;36m2\u001b[0m\u001b[1;36m.53833\u001b[0m \u001b[94mtps\u001b[0m=\u001b[1;36m20794\u001b[0m \u001b[94mtps_per_gpu\u001b[0m=\u001b[1;36m20794\u001b[0m \u001b[94mmfu\u001b[0m=\u001b[1;36m0\u001b[0m\u001b[1;36m.631908\u001b[0m\n"
            ],
            "text/html": [
              "<pre style=\"white-space:pre;overflow-x:auto;line-height:normal;font-family:Menlo,'DejaVu Sans Mono',consolas,'Courier New',monospace\">[<span style=\"color: #7f7f7f; text-decoration-color: #7f7f7f\">2025-07-23 17:23:21,114368</span>][<span style=\"color: #008000; text-decoration-color: #008000\">I</span>][<span style=\"color: #008080; text-decoration-color: #008080; font-style: italic\">wordplay</span>/<span style=\"color: #000080; text-decoration-color: #000080\">trainer</span><span style=\"color: #0000ff; text-decoration-color: #0000ff\">:</span><span style=\"color: #800080; text-decoration-color: #800080\">894</span>]<span style=\"color: #c0c0c0; text-decoration-color: #c0c0c0\"> </span><span style=\"color: #0000ff; text-decoration-color: #0000ff\">step</span>=<span style=\"color: #008080; text-decoration-color: #008080; font-weight: bold\">990</span> <span style=\"color: #0000ff; text-decoration-color: #0000ff\">loss</span>=<span style=\"color: #008080; text-decoration-color: #008080; font-weight: bold\">2.1031</span> <span style=\"color: #0000ff; text-decoration-color: #0000ff\">dt</span>=<span style=\"color: #008080; text-decoration-color: #008080; font-weight: bold\">0.393959</span> <span style=\"color: #0000ff; text-decoration-color: #0000ff\">dtf</span>=<span style=\"color: #008080; text-decoration-color: #008080; font-weight: bold\">0.0123796</span> <span style=\"color: #0000ff; text-decoration-color: #0000ff\">dtb</span>=<span style=\"color: #008080; text-decoration-color: #008080; font-weight: bold\">0.0165355</span> <span style=\"color: #0000ff; text-decoration-color: #0000ff\">sps</span>=<span style=\"color: #008080; text-decoration-color: #008080; font-weight: bold\">2.53833</span> <span style=\"color: #0000ff; text-decoration-color: #0000ff\">sps_per_gpu</span>=<span style=\"color: #008080; text-decoration-color: #008080; font-weight: bold\">2.53833</span> <span style=\"color: #0000ff; text-decoration-color: #0000ff\">tps</span>=<span style=\"color: #008080; text-decoration-color: #008080; font-weight: bold\">20794</span> <span style=\"color: #0000ff; text-decoration-color: #0000ff\">tps_per_gpu</span>=<span style=\"color: #008080; text-decoration-color: #008080; font-weight: bold\">20794</span> <span style=\"color: #0000ff; text-decoration-color: #0000ff\">mfu</span>=<span style=\"color: #008080; text-decoration-color: #008080; font-weight: bold\">0.631908</span>\n",
              "</pre>\n"
            ]
          },
          "metadata": {}
        },
        {
          "output_type": "display_data",
          "data": {
            "text/plain": [
              "[\u001b[2m2025-07-23 \u001b[0m\u001b[2m17:23:24,949152\u001b[0m][\u001b[32mI\u001b[0m][\u001b[3;36mwordplay\u001b[0m/\u001b[34mtrainer\u001b[0m\u001b[94m:\u001b[0m\u001b[35m894\u001b[0m]\u001b[37m \u001b[0m\u001b[94mstep\u001b[0m=\u001b[1;36m1000\u001b[0m \u001b[94mloss\u001b[0m=\u001b[1;36m2\u001b[0m\u001b[1;36m.05209\u001b[0m \u001b[94mdt\u001b[0m=\u001b[1;36m0\u001b[0m\u001b[1;36m.371632\u001b[0m \u001b[94mdtf\u001b[0m=\u001b[1;36m0\u001b[0m\u001b[1;36m.00834119\u001b[0m \u001b[94mdtb\u001b[0m=\u001b[1;36m0\u001b[0m\u001b[1;36m.0110242\u001b[0m \u001b[94msps\u001b[0m=\u001b[1;36m2\u001b[0m\u001b[1;36m.69083\u001b[0m \u001b[94msps_per_gpu\u001b[0m=\u001b[1;36m2\u001b[0m\u001b[1;36m.69083\u001b[0m \u001b[94mtps\u001b[0m=\u001b[1;36m22043\u001b[0m\u001b[1;36m.3\u001b[0m \u001b[94mtps_per_gpu\u001b[0m=\u001b[1;36m22043\u001b[0m\u001b[1;36m.3\u001b[0m \u001b[94mmfu\u001b[0m=\u001b[1;36m0\u001b[0m\u001b[1;36m.633853\u001b[0m\n"
            ],
            "text/html": [
              "<pre style=\"white-space:pre;overflow-x:auto;line-height:normal;font-family:Menlo,'DejaVu Sans Mono',consolas,'Courier New',monospace\">[<span style=\"color: #7f7f7f; text-decoration-color: #7f7f7f\">2025-07-23 17:23:24,949152</span>][<span style=\"color: #008000; text-decoration-color: #008000\">I</span>][<span style=\"color: #008080; text-decoration-color: #008080; font-style: italic\">wordplay</span>/<span style=\"color: #000080; text-decoration-color: #000080\">trainer</span><span style=\"color: #0000ff; text-decoration-color: #0000ff\">:</span><span style=\"color: #800080; text-decoration-color: #800080\">894</span>]<span style=\"color: #c0c0c0; text-decoration-color: #c0c0c0\"> </span><span style=\"color: #0000ff; text-decoration-color: #0000ff\">step</span>=<span style=\"color: #008080; text-decoration-color: #008080; font-weight: bold\">1000</span> <span style=\"color: #0000ff; text-decoration-color: #0000ff\">loss</span>=<span style=\"color: #008080; text-decoration-color: #008080; font-weight: bold\">2.05209</span> <span style=\"color: #0000ff; text-decoration-color: #0000ff\">dt</span>=<span style=\"color: #008080; text-decoration-color: #008080; font-weight: bold\">0.371632</span> <span style=\"color: #0000ff; text-decoration-color: #0000ff\">dtf</span>=<span style=\"color: #008080; text-decoration-color: #008080; font-weight: bold\">0.00834119</span> <span style=\"color: #0000ff; text-decoration-color: #0000ff\">dtb</span>=<span style=\"color: #008080; text-decoration-color: #008080; font-weight: bold\">0.0110242</span> <span style=\"color: #0000ff; text-decoration-color: #0000ff\">sps</span>=<span style=\"color: #008080; text-decoration-color: #008080; font-weight: bold\">2.69083</span> <span style=\"color: #0000ff; text-decoration-color: #0000ff\">sps_per_gpu</span>=<span style=\"color: #008080; text-decoration-color: #008080; font-weight: bold\">2.69083</span> <span style=\"color: #0000ff; text-decoration-color: #0000ff\">tps</span>=<span style=\"color: #008080; text-decoration-color: #008080; font-weight: bold\">22043.3</span> <span style=\"color: #0000ff; text-decoration-color: #0000ff\">tps_per_gpu</span>=<span style=\"color: #008080; text-decoration-color: #008080; font-weight: bold\">22043.3</span> <span style=\"color: #0000ff; text-decoration-color: #0000ff\">mfu</span>=<span style=\"color: #008080; text-decoration-color: #008080; font-weight: bold\">0.633853</span>\n",
              "</pre>\n"
            ]
          },
          "metadata": {}
        },
        {
          "output_type": "display_data",
          "data": {
            "text/plain": [
              "[\u001b[2m2025-07-23 \u001b[0m\u001b[2m17:23:25,760378\u001b[0m][\u001b[32mI\u001b[0m][\u001b[3;36mwordplay\u001b[0m/\u001b[34mtrainer\u001b[0m\u001b[94m:\u001b[0m\u001b[35m827\u001b[0m]\u001b[37m \u001b[0m\u001b[95m[\u001b[0m\u001b[32m'prompt'\u001b[0m\u001b[95m]\u001b[0m: \u001b[32m'What is an LLM?'\u001b[0m\n"
            ],
            "text/html": [
              "<pre style=\"white-space:pre;overflow-x:auto;line-height:normal;font-family:Menlo,'DejaVu Sans Mono',consolas,'Courier New',monospace\">[<span style=\"color: #7f7f7f; text-decoration-color: #7f7f7f\">2025-07-23 17:23:25,760378</span>][<span style=\"color: #008000; text-decoration-color: #008000\">I</span>][<span style=\"color: #008080; text-decoration-color: #008080; font-style: italic\">wordplay</span>/<span style=\"color: #000080; text-decoration-color: #000080\">trainer</span><span style=\"color: #0000ff; text-decoration-color: #0000ff\">:</span><span style=\"color: #800080; text-decoration-color: #800080\">827</span>]<span style=\"color: #c0c0c0; text-decoration-color: #c0c0c0\"> </span><span style=\"color: #ff00ff; text-decoration-color: #ff00ff\">[</span><span style=\"color: #008000; text-decoration-color: #008000\">'prompt'</span><span style=\"color: #ff00ff; text-decoration-color: #ff00ff\">]</span>: <span style=\"color: #008000; text-decoration-color: #008000\">'What is an LLM?'</span>\n",
              "</pre>\n"
            ]
          },
          "metadata": {}
        },
        {
          "output_type": "display_data",
          "data": {
            "text/plain": [
              "[\u001b[2m2025-07-23 \u001b[0m\u001b[2m17:23:25,762149\u001b[0m][\u001b[32mI\u001b[0m][\u001b[3;36mwordplay\u001b[0m/\u001b[34mtrainer\u001b[0m\u001b[94m:\u001b[0m\u001b[35m831\u001b[0m]\u001b[37m \u001b[0m\u001b[95m[\u001b[0m\u001b[32m'response'\u001b[0m\u001b[95m]\u001b[0m:\n",
              "\n",
              "What is an LLM?\n",
              "\n",
              "\n",
              "WAMILLY:\n",
              "And I tucke thimbok have doorcent mone,\n",
              "Wavert mus of me the han hat the deant.\n",
              "DEORK:\n",
              "Far thall is coors sited not de ind,\n",
              "But theat to ad coftitest fort sthengers,\n",
              "They my thous sor was to yourte mee.\n",
              "TARK:\n",
              "I leer, men you, wit the by the the\n"
            ],
            "text/html": [
              "<pre style=\"white-space:pre;overflow-x:auto;line-height:normal;font-family:Menlo,'DejaVu Sans Mono',consolas,'Courier New',monospace\">[<span style=\"color: #7f7f7f; text-decoration-color: #7f7f7f\">2025-07-23 17:23:25,762149</span>][<span style=\"color: #008000; text-decoration-color: #008000\">I</span>][<span style=\"color: #008080; text-decoration-color: #008080; font-style: italic\">wordplay</span>/<span style=\"color: #000080; text-decoration-color: #000080\">trainer</span><span style=\"color: #0000ff; text-decoration-color: #0000ff\">:</span><span style=\"color: #800080; text-decoration-color: #800080\">831</span>]<span style=\"color: #c0c0c0; text-decoration-color: #c0c0c0\"> </span><span style=\"color: #ff00ff; text-decoration-color: #ff00ff\">[</span><span style=\"color: #008000; text-decoration-color: #008000\">'response'</span><span style=\"color: #ff00ff; text-decoration-color: #ff00ff\">]</span>:\n",
              "\n",
              "What is an LLM?\n",
              "\n",
              "\n",
              "WAMILLY:\n",
              "And I tucke thimbok have doorcent mone,\n",
              "Wavert mus of me the han hat the deant.\n",
              "DEORK:\n",
              "Far thall is coors sited not de ind,\n",
              "But theat to ad coftitest fort sthengers,\n",
              "They my thous sor was to yourte mee.\n",
              "TARK:\n",
              "I leer, men you, wit the by the the\n",
              "</pre>\n"
            ]
          },
          "metadata": {}
        },
        {
          "output_type": "display_data",
          "data": {
            "text/plain": [
              "[\u001b[2m2025-07-23 \u001b[0m\u001b[2m17:24:23,438968\u001b[0m][\u001b[32mI\u001b[0m][\u001b[3;36mwordplay\u001b[0m/\u001b[34mtrainer\u001b[0m\u001b[94m:\u001b[0m\u001b[35m762\u001b[0m]\u001b[37m \u001b[0mSaving checkpoint to: \u001b[35m/\u001b[0m\u001b[95mcontent\u001b[0m\n"
            ],
            "text/html": [
              "<pre style=\"white-space:pre;overflow-x:auto;line-height:normal;font-family:Menlo,'DejaVu Sans Mono',consolas,'Courier New',monospace\">[<span style=\"color: #7f7f7f; text-decoration-color: #7f7f7f\">2025-07-23 17:24:23,438968</span>][<span style=\"color: #008000; text-decoration-color: #008000\">I</span>][<span style=\"color: #008080; text-decoration-color: #008080; font-style: italic\">wordplay</span>/<span style=\"color: #000080; text-decoration-color: #000080\">trainer</span><span style=\"color: #0000ff; text-decoration-color: #0000ff\">:</span><span style=\"color: #800080; text-decoration-color: #800080\">762</span>]<span style=\"color: #c0c0c0; text-decoration-color: #c0c0c0\"> </span>Saving checkpoint to: <span style=\"color: #800080; text-decoration-color: #800080\">/</span><span style=\"color: #ff00ff; text-decoration-color: #ff00ff\">content</span>\n",
              "</pre>\n"
            ]
          },
          "metadata": {}
        },
        {
          "output_type": "display_data",
          "data": {
            "text/plain": [
              "[\u001b[2m2025-07-23 \u001b[0m\u001b[2m17:24:23,441364\u001b[0m][\u001b[32mI\u001b[0m][\u001b[3;36mwordplay\u001b[0m/\u001b[34mtrainer\u001b[0m\u001b[94m:\u001b[0m\u001b[35m763\u001b[0m]\u001b[37m \u001b[0mSaving model to: \u001b[35m/content/\u001b[0m\u001b[95mmodel.pth\u001b[0m\n"
            ],
            "text/html": [
              "<pre style=\"white-space:pre;overflow-x:auto;line-height:normal;font-family:Menlo,'DejaVu Sans Mono',consolas,'Courier New',monospace\">[<span style=\"color: #7f7f7f; text-decoration-color: #7f7f7f\">2025-07-23 17:24:23,441364</span>][<span style=\"color: #008000; text-decoration-color: #008000\">I</span>][<span style=\"color: #008080; text-decoration-color: #008080; font-style: italic\">wordplay</span>/<span style=\"color: #000080; text-decoration-color: #000080\">trainer</span><span style=\"color: #0000ff; text-decoration-color: #0000ff\">:</span><span style=\"color: #800080; text-decoration-color: #800080\">763</span>]<span style=\"color: #c0c0c0; text-decoration-color: #c0c0c0\"> </span>Saving model to: <span style=\"color: #800080; text-decoration-color: #800080\">/content/</span><span style=\"color: #ff00ff; text-decoration-color: #ff00ff\">model.pth</span>\n",
              "</pre>\n"
            ]
          },
          "metadata": {}
        },
        {
          "output_type": "display_data",
          "data": {
            "text/plain": [
              "[\u001b[2m2025-07-23 \u001b[0m\u001b[2m17:24:23,918157\u001b[0m][\u001b[32mI\u001b[0m][\u001b[3;36mwordplay\u001b[0m/\u001b[34mconfigs\u001b[0m\u001b[94m:\u001b[0m\u001b[35m141\u001b[0m]\u001b[37m \u001b[0mAppending \u001b[35m/\u001b[0m\u001b[95mcontent\u001b[0m to \u001b[35m/content/wordplay/src/ckpts/\u001b[0m\u001b[95mcheckpoints.log\u001b[0m\n"
            ],
            "text/html": [
              "<pre style=\"white-space:pre;overflow-x:auto;line-height:normal;font-family:Menlo,'DejaVu Sans Mono',consolas,'Courier New',monospace\">[<span style=\"color: #7f7f7f; text-decoration-color: #7f7f7f\">2025-07-23 17:24:23,918157</span>][<span style=\"color: #008000; text-decoration-color: #008000\">I</span>][<span style=\"color: #008080; text-decoration-color: #008080; font-style: italic\">wordplay</span>/<span style=\"color: #000080; text-decoration-color: #000080\">configs</span><span style=\"color: #0000ff; text-decoration-color: #0000ff\">:</span><span style=\"color: #800080; text-decoration-color: #800080\">141</span>]<span style=\"color: #c0c0c0; text-decoration-color: #c0c0c0\"> </span>Appending <span style=\"color: #800080; text-decoration-color: #800080\">/</span><span style=\"color: #ff00ff; text-decoration-color: #ff00ff\">content</span> to <span style=\"color: #800080; text-decoration-color: #800080\">/content/wordplay/src/ckpts/</span><span style=\"color: #ff00ff; text-decoration-color: #ff00ff\">checkpoints.log</span>\n",
              "</pre>\n"
            ]
          },
          "metadata": {}
        },
        {
          "output_type": "display_data",
          "data": {
            "text/plain": [
              "[\u001b[2m2025-07-23 \u001b[0m\u001b[2m17:24:27,738089\u001b[0m][\u001b[32mI\u001b[0m][\u001b[3;36mwordplay\u001b[0m/\u001b[34mtrainer\u001b[0m\u001b[94m:\u001b[0m\u001b[35m894\u001b[0m]\u001b[37m \u001b[0m\u001b[94mstep\u001b[0m=\u001b[1;36m1010\u001b[0m \u001b[94mloss\u001b[0m=\u001b[1;36m2\u001b[0m\u001b[1;36m.07161\u001b[0m \u001b[94mdt\u001b[0m=\u001b[1;36m0\u001b[0m\u001b[1;36m.367348\u001b[0m \u001b[94mdtf\u001b[0m=\u001b[1;36m0\u001b[0m\u001b[1;36m.00773713\u001b[0m \u001b[94mdtb\u001b[0m=\u001b[1;36m0\u001b[0m\u001b[1;36m.0102199\u001b[0m \u001b[94msps\u001b[0m=\u001b[1;36m2\u001b[0m\u001b[1;36m.72222\u001b[0m \u001b[94msps_per_gpu\u001b[0m=\u001b[1;36m2\u001b[0m\u001b[1;36m.72222\u001b[0m \u001b[94mtps\u001b[0m=\u001b[1;36m22300\u001b[0m\u001b[1;36m.4\u001b[0m \u001b[94mtps_per_gpu\u001b[0m=\u001b[1;36m22300\u001b[0m\u001b[1;36m.4\u001b[0m \u001b[94mmfu\u001b[0m=\u001b[1;36m0\u001b[0m\u001b[1;36m.636362\u001b[0m\n"
            ],
            "text/html": [
              "<pre style=\"white-space:pre;overflow-x:auto;line-height:normal;font-family:Menlo,'DejaVu Sans Mono',consolas,'Courier New',monospace\">[<span style=\"color: #7f7f7f; text-decoration-color: #7f7f7f\">2025-07-23 17:24:27,738089</span>][<span style=\"color: #008000; text-decoration-color: #008000\">I</span>][<span style=\"color: #008080; text-decoration-color: #008080; font-style: italic\">wordplay</span>/<span style=\"color: #000080; text-decoration-color: #000080\">trainer</span><span style=\"color: #0000ff; text-decoration-color: #0000ff\">:</span><span style=\"color: #800080; text-decoration-color: #800080\">894</span>]<span style=\"color: #c0c0c0; text-decoration-color: #c0c0c0\"> </span><span style=\"color: #0000ff; text-decoration-color: #0000ff\">step</span>=<span style=\"color: #008080; text-decoration-color: #008080; font-weight: bold\">1010</span> <span style=\"color: #0000ff; text-decoration-color: #0000ff\">loss</span>=<span style=\"color: #008080; text-decoration-color: #008080; font-weight: bold\">2.07161</span> <span style=\"color: #0000ff; text-decoration-color: #0000ff\">dt</span>=<span style=\"color: #008080; text-decoration-color: #008080; font-weight: bold\">0.367348</span> <span style=\"color: #0000ff; text-decoration-color: #0000ff\">dtf</span>=<span style=\"color: #008080; text-decoration-color: #008080; font-weight: bold\">0.00773713</span> <span style=\"color: #0000ff; text-decoration-color: #0000ff\">dtb</span>=<span style=\"color: #008080; text-decoration-color: #008080; font-weight: bold\">0.0102199</span> <span style=\"color: #0000ff; text-decoration-color: #0000ff\">sps</span>=<span style=\"color: #008080; text-decoration-color: #008080; font-weight: bold\">2.72222</span> <span style=\"color: #0000ff; text-decoration-color: #0000ff\">sps_per_gpu</span>=<span style=\"color: #008080; text-decoration-color: #008080; font-weight: bold\">2.72222</span> <span style=\"color: #0000ff; text-decoration-color: #0000ff\">tps</span>=<span style=\"color: #008080; text-decoration-color: #008080; font-weight: bold\">22300.4</span> <span style=\"color: #0000ff; text-decoration-color: #0000ff\">tps_per_gpu</span>=<span style=\"color: #008080; text-decoration-color: #008080; font-weight: bold\">22300.4</span> <span style=\"color: #0000ff; text-decoration-color: #0000ff\">mfu</span>=<span style=\"color: #008080; text-decoration-color: #008080; font-weight: bold\">0.636362</span>\n",
              "</pre>\n"
            ]
          },
          "metadata": {}
        },
        {
          "output_type": "display_data",
          "data": {
            "text/plain": [
              "[\u001b[2m2025-07-23 \u001b[0m\u001b[2m17:24:31,569441\u001b[0m][\u001b[32mI\u001b[0m][\u001b[3;36mwordplay\u001b[0m/\u001b[34mtrainer\u001b[0m\u001b[94m:\u001b[0m\u001b[35m894\u001b[0m]\u001b[37m \u001b[0m\u001b[94mstep\u001b[0m=\u001b[1;36m1020\u001b[0m \u001b[94mloss\u001b[0m=\u001b[1;36m2\u001b[0m\u001b[1;36m.04552\u001b[0m \u001b[94mdt\u001b[0m=\u001b[1;36m0\u001b[0m\u001b[1;36m.383316\u001b[0m \u001b[94mdtf\u001b[0m=\u001b[1;36m0\u001b[0m\u001b[1;36m.00751949\u001b[0m \u001b[94mdtb\u001b[0m=\u001b[1;36m0\u001b[0m\u001b[1;36m.01008\u001b[0m \u001b[94msps\u001b[0m=\u001b[1;36m2\u001b[0m\u001b[1;36m.60881\u001b[0m \u001b[94msps_per_gpu\u001b[0m=\u001b[1;36m2\u001b[0m\u001b[1;36m.60881\u001b[0m \u001b[94mtps\u001b[0m=\u001b[1;36m21371\u001b[0m\u001b[1;36m.4\u001b[0m \u001b[94mtps_per_gpu\u001b[0m=\u001b[1;36m21371\u001b[0m\u001b[1;36m.4\u001b[0m \u001b[94mmfu\u001b[0m=\u001b[1;36m0\u001b[0m\u001b[1;36m.635876\u001b[0m\n"
            ],
            "text/html": [
              "<pre style=\"white-space:pre;overflow-x:auto;line-height:normal;font-family:Menlo,'DejaVu Sans Mono',consolas,'Courier New',monospace\">[<span style=\"color: #7f7f7f; text-decoration-color: #7f7f7f\">2025-07-23 17:24:31,569441</span>][<span style=\"color: #008000; text-decoration-color: #008000\">I</span>][<span style=\"color: #008080; text-decoration-color: #008080; font-style: italic\">wordplay</span>/<span style=\"color: #000080; text-decoration-color: #000080\">trainer</span><span style=\"color: #0000ff; text-decoration-color: #0000ff\">:</span><span style=\"color: #800080; text-decoration-color: #800080\">894</span>]<span style=\"color: #c0c0c0; text-decoration-color: #c0c0c0\"> </span><span style=\"color: #0000ff; text-decoration-color: #0000ff\">step</span>=<span style=\"color: #008080; text-decoration-color: #008080; font-weight: bold\">1020</span> <span style=\"color: #0000ff; text-decoration-color: #0000ff\">loss</span>=<span style=\"color: #008080; text-decoration-color: #008080; font-weight: bold\">2.04552</span> <span style=\"color: #0000ff; text-decoration-color: #0000ff\">dt</span>=<span style=\"color: #008080; text-decoration-color: #008080; font-weight: bold\">0.383316</span> <span style=\"color: #0000ff; text-decoration-color: #0000ff\">dtf</span>=<span style=\"color: #008080; text-decoration-color: #008080; font-weight: bold\">0.00751949</span> <span style=\"color: #0000ff; text-decoration-color: #0000ff\">dtb</span>=<span style=\"color: #008080; text-decoration-color: #008080; font-weight: bold\">0.01008</span> <span style=\"color: #0000ff; text-decoration-color: #0000ff\">sps</span>=<span style=\"color: #008080; text-decoration-color: #008080; font-weight: bold\">2.60881</span> <span style=\"color: #0000ff; text-decoration-color: #0000ff\">sps_per_gpu</span>=<span style=\"color: #008080; text-decoration-color: #008080; font-weight: bold\">2.60881</span> <span style=\"color: #0000ff; text-decoration-color: #0000ff\">tps</span>=<span style=\"color: #008080; text-decoration-color: #008080; font-weight: bold\">21371.4</span> <span style=\"color: #0000ff; text-decoration-color: #0000ff\">tps_per_gpu</span>=<span style=\"color: #008080; text-decoration-color: #008080; font-weight: bold\">21371.4</span> <span style=\"color: #0000ff; text-decoration-color: #0000ff\">mfu</span>=<span style=\"color: #008080; text-decoration-color: #008080; font-weight: bold\">0.635876</span>\n",
              "</pre>\n"
            ]
          },
          "metadata": {}
        },
        {
          "output_type": "display_data",
          "data": {
            "text/plain": [
              "[\u001b[2m2025-07-23 \u001b[0m\u001b[2m17:24:35,396411\u001b[0m][\u001b[32mI\u001b[0m][\u001b[3;36mwordplay\u001b[0m/\u001b[34mtrainer\u001b[0m\u001b[94m:\u001b[0m\u001b[35m894\u001b[0m]\u001b[37m \u001b[0m\u001b[94mstep\u001b[0m=\u001b[1;36m1030\u001b[0m \u001b[94mloss\u001b[0m=\u001b[1;36m2\u001b[0m\u001b[1;36m.03231\u001b[0m \u001b[94mdt\u001b[0m=\u001b[1;36m0\u001b[0m\u001b[1;36m.384257\u001b[0m \u001b[94mdtf\u001b[0m=\u001b[1;36m0\u001b[0m\u001b[1;36m.00816572\u001b[0m \u001b[94mdtb\u001b[0m=\u001b[1;36m0\u001b[0m\u001b[1;36m.0102516\u001b[0m \u001b[94msps\u001b[0m=\u001b[1;36m2\u001b[0m\u001b[1;36m.60243\u001b[0m \u001b[94msps_per_gpu\u001b[0m=\u001b[1;36m2\u001b[0m\u001b[1;36m.60243\u001b[0m \u001b[94mtps\u001b[0m=\u001b[1;36m21319\u001b[0m\u001b[1;36m.1\u001b[0m \u001b[94mtps_per_gpu\u001b[0m=\u001b[1;36m21319\u001b[0m\u001b[1;36m.1\u001b[0m \u001b[94mmfu\u001b[0m=\u001b[1;36m0\u001b[0m\u001b[1;36m.635284\u001b[0m\n"
            ],
            "text/html": [
              "<pre style=\"white-space:pre;overflow-x:auto;line-height:normal;font-family:Menlo,'DejaVu Sans Mono',consolas,'Courier New',monospace\">[<span style=\"color: #7f7f7f; text-decoration-color: #7f7f7f\">2025-07-23 17:24:35,396411</span>][<span style=\"color: #008000; text-decoration-color: #008000\">I</span>][<span style=\"color: #008080; text-decoration-color: #008080; font-style: italic\">wordplay</span>/<span style=\"color: #000080; text-decoration-color: #000080\">trainer</span><span style=\"color: #0000ff; text-decoration-color: #0000ff\">:</span><span style=\"color: #800080; text-decoration-color: #800080\">894</span>]<span style=\"color: #c0c0c0; text-decoration-color: #c0c0c0\"> </span><span style=\"color: #0000ff; text-decoration-color: #0000ff\">step</span>=<span style=\"color: #008080; text-decoration-color: #008080; font-weight: bold\">1030</span> <span style=\"color: #0000ff; text-decoration-color: #0000ff\">loss</span>=<span style=\"color: #008080; text-decoration-color: #008080; font-weight: bold\">2.03231</span> <span style=\"color: #0000ff; text-decoration-color: #0000ff\">dt</span>=<span style=\"color: #008080; text-decoration-color: #008080; font-weight: bold\">0.384257</span> <span style=\"color: #0000ff; text-decoration-color: #0000ff\">dtf</span>=<span style=\"color: #008080; text-decoration-color: #008080; font-weight: bold\">0.00816572</span> <span style=\"color: #0000ff; text-decoration-color: #0000ff\">dtb</span>=<span style=\"color: #008080; text-decoration-color: #008080; font-weight: bold\">0.0102516</span> <span style=\"color: #0000ff; text-decoration-color: #0000ff\">sps</span>=<span style=\"color: #008080; text-decoration-color: #008080; font-weight: bold\">2.60243</span> <span style=\"color: #0000ff; text-decoration-color: #0000ff\">sps_per_gpu</span>=<span style=\"color: #008080; text-decoration-color: #008080; font-weight: bold\">2.60243</span> <span style=\"color: #0000ff; text-decoration-color: #0000ff\">tps</span>=<span style=\"color: #008080; text-decoration-color: #008080; font-weight: bold\">21319.1</span> <span style=\"color: #0000ff; text-decoration-color: #0000ff\">tps_per_gpu</span>=<span style=\"color: #008080; text-decoration-color: #008080; font-weight: bold\">21319.1</span> <span style=\"color: #0000ff; text-decoration-color: #0000ff\">mfu</span>=<span style=\"color: #008080; text-decoration-color: #008080; font-weight: bold\">0.635284</span>\n",
              "</pre>\n"
            ]
          },
          "metadata": {}
        },
        {
          "output_type": "display_data",
          "data": {
            "text/plain": [
              "[\u001b[2m2025-07-23 \u001b[0m\u001b[2m17:24:39,228505\u001b[0m][\u001b[32mI\u001b[0m][\u001b[3;36mwordplay\u001b[0m/\u001b[34mtrainer\u001b[0m\u001b[94m:\u001b[0m\u001b[35m894\u001b[0m]\u001b[37m \u001b[0m\u001b[94mstep\u001b[0m=\u001b[1;36m1040\u001b[0m \u001b[94mloss\u001b[0m=\u001b[1;36m2\u001b[0m\u001b[1;36m.05762\u001b[0m \u001b[94mdt\u001b[0m=\u001b[1;36m0\u001b[0m\u001b[1;36m.383646\u001b[0m \u001b[94mdtf\u001b[0m=\u001b[1;36m0\u001b[0m\u001b[1;36m.00790242\u001b[0m \u001b[94mdtb\u001b[0m=\u001b[1;36m0\u001b[0m\u001b[1;36m.00997257\u001b[0m \u001b[94msps\u001b[0m=\u001b[1;36m2\u001b[0m\u001b[1;36m.60657\u001b[0m \u001b[94msps_per_gpu\u001b[0m=\u001b[1;36m2\u001b[0m\u001b[1;36m.60657\u001b[0m \u001b[94mtps\u001b[0m=\u001b[1;36m21353\u001b[0m \u001b[94mtps_per_gpu\u001b[0m=\u001b[1;36m21353\u001b[0m \u001b[94mmfu\u001b[0m=\u001b[1;36m0\u001b[0m\u001b[1;36m.634851\u001b[0m\n"
            ],
            "text/html": [
              "<pre style=\"white-space:pre;overflow-x:auto;line-height:normal;font-family:Menlo,'DejaVu Sans Mono',consolas,'Courier New',monospace\">[<span style=\"color: #7f7f7f; text-decoration-color: #7f7f7f\">2025-07-23 17:24:39,228505</span>][<span style=\"color: #008000; text-decoration-color: #008000\">I</span>][<span style=\"color: #008080; text-decoration-color: #008080; font-style: italic\">wordplay</span>/<span style=\"color: #000080; text-decoration-color: #000080\">trainer</span><span style=\"color: #0000ff; text-decoration-color: #0000ff\">:</span><span style=\"color: #800080; text-decoration-color: #800080\">894</span>]<span style=\"color: #c0c0c0; text-decoration-color: #c0c0c0\"> </span><span style=\"color: #0000ff; text-decoration-color: #0000ff\">step</span>=<span style=\"color: #008080; text-decoration-color: #008080; font-weight: bold\">1040</span> <span style=\"color: #0000ff; text-decoration-color: #0000ff\">loss</span>=<span style=\"color: #008080; text-decoration-color: #008080; font-weight: bold\">2.05762</span> <span style=\"color: #0000ff; text-decoration-color: #0000ff\">dt</span>=<span style=\"color: #008080; text-decoration-color: #008080; font-weight: bold\">0.383646</span> <span style=\"color: #0000ff; text-decoration-color: #0000ff\">dtf</span>=<span style=\"color: #008080; text-decoration-color: #008080; font-weight: bold\">0.00790242</span> <span style=\"color: #0000ff; text-decoration-color: #0000ff\">dtb</span>=<span style=\"color: #008080; text-decoration-color: #008080; font-weight: bold\">0.00997257</span> <span style=\"color: #0000ff; text-decoration-color: #0000ff\">sps</span>=<span style=\"color: #008080; text-decoration-color: #008080; font-weight: bold\">2.60657</span> <span style=\"color: #0000ff; text-decoration-color: #0000ff\">sps_per_gpu</span>=<span style=\"color: #008080; text-decoration-color: #008080; font-weight: bold\">2.60657</span> <span style=\"color: #0000ff; text-decoration-color: #0000ff\">tps</span>=<span style=\"color: #008080; text-decoration-color: #008080; font-weight: bold\">21353</span> <span style=\"color: #0000ff; text-decoration-color: #0000ff\">tps_per_gpu</span>=<span style=\"color: #008080; text-decoration-color: #008080; font-weight: bold\">21353</span> <span style=\"color: #0000ff; text-decoration-color: #0000ff\">mfu</span>=<span style=\"color: #008080; text-decoration-color: #008080; font-weight: bold\">0.634851</span>\n",
              "</pre>\n"
            ]
          },
          "metadata": {}
        },
        {
          "output_type": "display_data",
          "data": {
            "text/plain": [
              "[\u001b[2m2025-07-23 \u001b[0m\u001b[2m17:24:43,061324\u001b[0m][\u001b[32mI\u001b[0m][\u001b[3;36mwordplay\u001b[0m/\u001b[34mtrainer\u001b[0m\u001b[94m:\u001b[0m\u001b[35m894\u001b[0m]\u001b[37m \u001b[0m\u001b[94mstep\u001b[0m=\u001b[1;36m1050\u001b[0m \u001b[94mloss\u001b[0m=\u001b[1;36m2\u001b[0m\u001b[1;36m.03493\u001b[0m \u001b[94mdt\u001b[0m=\u001b[1;36m0\u001b[0m\u001b[1;36m.378067\u001b[0m \u001b[94mdtf\u001b[0m=\u001b[1;36m0\u001b[0m\u001b[1;36m.00783631\u001b[0m \u001b[94mdtb\u001b[0m=\u001b[1;36m0\u001b[0m\u001b[1;36m.00984342\u001b[0m \u001b[94msps\u001b[0m=\u001b[1;36m2\u001b[0m\u001b[1;36m.64504\u001b[0m \u001b[94msps_per_gpu\u001b[0m=\u001b[1;36m2\u001b[0m\u001b[1;36m.64504\u001b[0m \u001b[94mtps\u001b[0m=\u001b[1;36m21668\u001b[0m\u001b[1;36m.1\u001b[0m \u001b[94mtps_per_gpu\u001b[0m=\u001b[1;36m21668\u001b[0m\u001b[1;36m.1\u001b[0m \u001b[94mmfu\u001b[0m=\u001b[1;36m0\u001b[0m\u001b[1;36m.635392\u001b[0m\n"
            ],
            "text/html": [
              "<pre style=\"white-space:pre;overflow-x:auto;line-height:normal;font-family:Menlo,'DejaVu Sans Mono',consolas,'Courier New',monospace\">[<span style=\"color: #7f7f7f; text-decoration-color: #7f7f7f\">2025-07-23 17:24:43,061324</span>][<span style=\"color: #008000; text-decoration-color: #008000\">I</span>][<span style=\"color: #008080; text-decoration-color: #008080; font-style: italic\">wordplay</span>/<span style=\"color: #000080; text-decoration-color: #000080\">trainer</span><span style=\"color: #0000ff; text-decoration-color: #0000ff\">:</span><span style=\"color: #800080; text-decoration-color: #800080\">894</span>]<span style=\"color: #c0c0c0; text-decoration-color: #c0c0c0\"> </span><span style=\"color: #0000ff; text-decoration-color: #0000ff\">step</span>=<span style=\"color: #008080; text-decoration-color: #008080; font-weight: bold\">1050</span> <span style=\"color: #0000ff; text-decoration-color: #0000ff\">loss</span>=<span style=\"color: #008080; text-decoration-color: #008080; font-weight: bold\">2.03493</span> <span style=\"color: #0000ff; text-decoration-color: #0000ff\">dt</span>=<span style=\"color: #008080; text-decoration-color: #008080; font-weight: bold\">0.378067</span> <span style=\"color: #0000ff; text-decoration-color: #0000ff\">dtf</span>=<span style=\"color: #008080; text-decoration-color: #008080; font-weight: bold\">0.00783631</span> <span style=\"color: #0000ff; text-decoration-color: #0000ff\">dtb</span>=<span style=\"color: #008080; text-decoration-color: #008080; font-weight: bold\">0.00984342</span> <span style=\"color: #0000ff; text-decoration-color: #0000ff\">sps</span>=<span style=\"color: #008080; text-decoration-color: #008080; font-weight: bold\">2.64504</span> <span style=\"color: #0000ff; text-decoration-color: #0000ff\">sps_per_gpu</span>=<span style=\"color: #008080; text-decoration-color: #008080; font-weight: bold\">2.64504</span> <span style=\"color: #0000ff; text-decoration-color: #0000ff\">tps</span>=<span style=\"color: #008080; text-decoration-color: #008080; font-weight: bold\">21668.1</span> <span style=\"color: #0000ff; text-decoration-color: #0000ff\">tps_per_gpu</span>=<span style=\"color: #008080; text-decoration-color: #008080; font-weight: bold\">21668.1</span> <span style=\"color: #0000ff; text-decoration-color: #0000ff\">mfu</span>=<span style=\"color: #008080; text-decoration-color: #008080; font-weight: bold\">0.635392</span>\n",
              "</pre>\n"
            ]
          },
          "metadata": {}
        },
        {
          "output_type": "display_data",
          "data": {
            "text/plain": [
              "[\u001b[2m2025-07-23 \u001b[0m\u001b[2m17:24:46,898059\u001b[0m][\u001b[32mI\u001b[0m][\u001b[3;36mwordplay\u001b[0m/\u001b[34mtrainer\u001b[0m\u001b[94m:\u001b[0m\u001b[35m894\u001b[0m]\u001b[37m \u001b[0m\u001b[94mstep\u001b[0m=\u001b[1;36m1060\u001b[0m \u001b[94mloss\u001b[0m=\u001b[1;36m1\u001b[0m\u001b[1;36m.99328\u001b[0m \u001b[94mdt\u001b[0m=\u001b[1;36m0\u001b[0m\u001b[1;36m.383855\u001b[0m \u001b[94mdtf\u001b[0m=\u001b[1;36m0\u001b[0m\u001b[1;36m.00812065\u001b[0m \u001b[94mdtb\u001b[0m=\u001b[1;36m0\u001b[0m\u001b[1;36m.0102131\u001b[0m \u001b[94msps\u001b[0m=\u001b[1;36m2\u001b[0m\u001b[1;36m.60515\u001b[0m \u001b[94msps_per_gpu\u001b[0m=\u001b[1;36m2\u001b[0m\u001b[1;36m.60515\u001b[0m \u001b[94mtps\u001b[0m=\u001b[1;36m21341\u001b[0m\u001b[1;36m.4\u001b[0m \u001b[94mtps_per_gpu\u001b[0m=\u001b[1;36m21341\u001b[0m\u001b[1;36m.4\u001b[0m \u001b[94mmfu\u001b[0m=\u001b[1;36m0\u001b[0m\u001b[1;36m.634914\u001b[0m\n"
            ],
            "text/html": [
              "<pre style=\"white-space:pre;overflow-x:auto;line-height:normal;font-family:Menlo,'DejaVu Sans Mono',consolas,'Courier New',monospace\">[<span style=\"color: #7f7f7f; text-decoration-color: #7f7f7f\">2025-07-23 17:24:46,898059</span>][<span style=\"color: #008000; text-decoration-color: #008000\">I</span>][<span style=\"color: #008080; text-decoration-color: #008080; font-style: italic\">wordplay</span>/<span style=\"color: #000080; text-decoration-color: #000080\">trainer</span><span style=\"color: #0000ff; text-decoration-color: #0000ff\">:</span><span style=\"color: #800080; text-decoration-color: #800080\">894</span>]<span style=\"color: #c0c0c0; text-decoration-color: #c0c0c0\"> </span><span style=\"color: #0000ff; text-decoration-color: #0000ff\">step</span>=<span style=\"color: #008080; text-decoration-color: #008080; font-weight: bold\">1060</span> <span style=\"color: #0000ff; text-decoration-color: #0000ff\">loss</span>=<span style=\"color: #008080; text-decoration-color: #008080; font-weight: bold\">1.99328</span> <span style=\"color: #0000ff; text-decoration-color: #0000ff\">dt</span>=<span style=\"color: #008080; text-decoration-color: #008080; font-weight: bold\">0.383855</span> <span style=\"color: #0000ff; text-decoration-color: #0000ff\">dtf</span>=<span style=\"color: #008080; text-decoration-color: #008080; font-weight: bold\">0.00812065</span> <span style=\"color: #0000ff; text-decoration-color: #0000ff\">dtb</span>=<span style=\"color: #008080; text-decoration-color: #008080; font-weight: bold\">0.0102131</span> <span style=\"color: #0000ff; text-decoration-color: #0000ff\">sps</span>=<span style=\"color: #008080; text-decoration-color: #008080; font-weight: bold\">2.60515</span> <span style=\"color: #0000ff; text-decoration-color: #0000ff\">sps_per_gpu</span>=<span style=\"color: #008080; text-decoration-color: #008080; font-weight: bold\">2.60515</span> <span style=\"color: #0000ff; text-decoration-color: #0000ff\">tps</span>=<span style=\"color: #008080; text-decoration-color: #008080; font-weight: bold\">21341.4</span> <span style=\"color: #0000ff; text-decoration-color: #0000ff\">tps_per_gpu</span>=<span style=\"color: #008080; text-decoration-color: #008080; font-weight: bold\">21341.4</span> <span style=\"color: #0000ff; text-decoration-color: #0000ff\">mfu</span>=<span style=\"color: #008080; text-decoration-color: #008080; font-weight: bold\">0.634914</span>\n",
              "</pre>\n"
            ]
          },
          "metadata": {}
        },
        {
          "output_type": "display_data",
          "data": {
            "text/plain": [
              "[\u001b[2m2025-07-23 \u001b[0m\u001b[2m17:24:50,734315\u001b[0m][\u001b[32mI\u001b[0m][\u001b[3;36mwordplay\u001b[0m/\u001b[34mtrainer\u001b[0m\u001b[94m:\u001b[0m\u001b[35m894\u001b[0m]\u001b[37m \u001b[0m\u001b[94mstep\u001b[0m=\u001b[1;36m1070\u001b[0m \u001b[94mloss\u001b[0m=\u001b[1;36m2\u001b[0m\u001b[1;36m.02538\u001b[0m \u001b[94mdt\u001b[0m=\u001b[1;36m0\u001b[0m\u001b[1;36m.38352\u001b[0m \u001b[94mdtf\u001b[0m=\u001b[1;36m0\u001b[0m\u001b[1;36m.00975553\u001b[0m \u001b[94mdtb\u001b[0m=\u001b[1;36m0\u001b[0m\u001b[1;36m.00995462\u001b[0m \u001b[94msps\u001b[0m=\u001b[1;36m2\u001b[0m\u001b[1;36m.60743\u001b[0m \u001b[94msps_per_gpu\u001b[0m=\u001b[1;36m2\u001b[0m\u001b[1;36m.60743\u001b[0m \u001b[94mtps\u001b[0m=\u001b[1;36m21360\u001b[0m\u001b[1;36m.1\u001b[0m \u001b[94mtps_per_gpu\u001b[0m=\u001b[1;36m21360\u001b[0m\u001b[1;36m.1\u001b[0m \u001b[94mmfu\u001b[0m=\u001b[1;36m0\u001b[0m\u001b[1;36m.634539\u001b[0m\n"
            ],
            "text/html": [
              "<pre style=\"white-space:pre;overflow-x:auto;line-height:normal;font-family:Menlo,'DejaVu Sans Mono',consolas,'Courier New',monospace\">[<span style=\"color: #7f7f7f; text-decoration-color: #7f7f7f\">2025-07-23 17:24:50,734315</span>][<span style=\"color: #008000; text-decoration-color: #008000\">I</span>][<span style=\"color: #008080; text-decoration-color: #008080; font-style: italic\">wordplay</span>/<span style=\"color: #000080; text-decoration-color: #000080\">trainer</span><span style=\"color: #0000ff; text-decoration-color: #0000ff\">:</span><span style=\"color: #800080; text-decoration-color: #800080\">894</span>]<span style=\"color: #c0c0c0; text-decoration-color: #c0c0c0\"> </span><span style=\"color: #0000ff; text-decoration-color: #0000ff\">step</span>=<span style=\"color: #008080; text-decoration-color: #008080; font-weight: bold\">1070</span> <span style=\"color: #0000ff; text-decoration-color: #0000ff\">loss</span>=<span style=\"color: #008080; text-decoration-color: #008080; font-weight: bold\">2.02538</span> <span style=\"color: #0000ff; text-decoration-color: #0000ff\">dt</span>=<span style=\"color: #008080; text-decoration-color: #008080; font-weight: bold\">0.38352</span> <span style=\"color: #0000ff; text-decoration-color: #0000ff\">dtf</span>=<span style=\"color: #008080; text-decoration-color: #008080; font-weight: bold\">0.00975553</span> <span style=\"color: #0000ff; text-decoration-color: #0000ff\">dtb</span>=<span style=\"color: #008080; text-decoration-color: #008080; font-weight: bold\">0.00995462</span> <span style=\"color: #0000ff; text-decoration-color: #0000ff\">sps</span>=<span style=\"color: #008080; text-decoration-color: #008080; font-weight: bold\">2.60743</span> <span style=\"color: #0000ff; text-decoration-color: #0000ff\">sps_per_gpu</span>=<span style=\"color: #008080; text-decoration-color: #008080; font-weight: bold\">2.60743</span> <span style=\"color: #0000ff; text-decoration-color: #0000ff\">tps</span>=<span style=\"color: #008080; text-decoration-color: #008080; font-weight: bold\">21360.1</span> <span style=\"color: #0000ff; text-decoration-color: #0000ff\">tps_per_gpu</span>=<span style=\"color: #008080; text-decoration-color: #008080; font-weight: bold\">21360.1</span> <span style=\"color: #0000ff; text-decoration-color: #0000ff\">mfu</span>=<span style=\"color: #008080; text-decoration-color: #008080; font-weight: bold\">0.634539</span>\n",
              "</pre>\n"
            ]
          },
          "metadata": {}
        },
        {
          "output_type": "display_data",
          "data": {
            "text/plain": [
              "[\u001b[2m2025-07-23 \u001b[0m\u001b[2m17:24:54,571713\u001b[0m][\u001b[32mI\u001b[0m][\u001b[3;36mwordplay\u001b[0m/\u001b[34mtrainer\u001b[0m\u001b[94m:\u001b[0m\u001b[35m894\u001b[0m]\u001b[37m \u001b[0m\u001b[94mstep\u001b[0m=\u001b[1;36m1080\u001b[0m \u001b[94mloss\u001b[0m=\u001b[1;36m1\u001b[0m\u001b[1;36m.98803\u001b[0m \u001b[94mdt\u001b[0m=\u001b[1;36m0\u001b[0m\u001b[1;36m.383255\u001b[0m \u001b[94mdtf\u001b[0m=\u001b[1;36m0\u001b[0m\u001b[1;36m.00790832\u001b[0m \u001b[94mdtb\u001b[0m=\u001b[1;36m0\u001b[0m\u001b[1;36m.0101534\u001b[0m \u001b[94msps\u001b[0m=\u001b[1;36m2\u001b[0m\u001b[1;36m.60923\u001b[0m \u001b[94msps_per_gpu\u001b[0m=\u001b[1;36m2\u001b[0m\u001b[1;36m.60923\u001b[0m \u001b[94mtps\u001b[0m=\u001b[1;36m21374\u001b[0m\u001b[1;36m.8\u001b[0m \u001b[94mtps_per_gpu\u001b[0m=\u001b[1;36m21374\u001b[0m\u001b[1;36m.8\u001b[0m \u001b[94mmfu\u001b[0m=\u001b[1;36m0\u001b[0m\u001b[1;36m.634245\u001b[0m\n"
            ],
            "text/html": [
              "<pre style=\"white-space:pre;overflow-x:auto;line-height:normal;font-family:Menlo,'DejaVu Sans Mono',consolas,'Courier New',monospace\">[<span style=\"color: #7f7f7f; text-decoration-color: #7f7f7f\">2025-07-23 17:24:54,571713</span>][<span style=\"color: #008000; text-decoration-color: #008000\">I</span>][<span style=\"color: #008080; text-decoration-color: #008080; font-style: italic\">wordplay</span>/<span style=\"color: #000080; text-decoration-color: #000080\">trainer</span><span style=\"color: #0000ff; text-decoration-color: #0000ff\">:</span><span style=\"color: #800080; text-decoration-color: #800080\">894</span>]<span style=\"color: #c0c0c0; text-decoration-color: #c0c0c0\"> </span><span style=\"color: #0000ff; text-decoration-color: #0000ff\">step</span>=<span style=\"color: #008080; text-decoration-color: #008080; font-weight: bold\">1080</span> <span style=\"color: #0000ff; text-decoration-color: #0000ff\">loss</span>=<span style=\"color: #008080; text-decoration-color: #008080; font-weight: bold\">1.98803</span> <span style=\"color: #0000ff; text-decoration-color: #0000ff\">dt</span>=<span style=\"color: #008080; text-decoration-color: #008080; font-weight: bold\">0.383255</span> <span style=\"color: #0000ff; text-decoration-color: #0000ff\">dtf</span>=<span style=\"color: #008080; text-decoration-color: #008080; font-weight: bold\">0.00790832</span> <span style=\"color: #0000ff; text-decoration-color: #0000ff\">dtb</span>=<span style=\"color: #008080; text-decoration-color: #008080; font-weight: bold\">0.0101534</span> <span style=\"color: #0000ff; text-decoration-color: #0000ff\">sps</span>=<span style=\"color: #008080; text-decoration-color: #008080; font-weight: bold\">2.60923</span> <span style=\"color: #0000ff; text-decoration-color: #0000ff\">sps_per_gpu</span>=<span style=\"color: #008080; text-decoration-color: #008080; font-weight: bold\">2.60923</span> <span style=\"color: #0000ff; text-decoration-color: #0000ff\">tps</span>=<span style=\"color: #008080; text-decoration-color: #008080; font-weight: bold\">21374.8</span> <span style=\"color: #0000ff; text-decoration-color: #0000ff\">tps_per_gpu</span>=<span style=\"color: #008080; text-decoration-color: #008080; font-weight: bold\">21374.8</span> <span style=\"color: #0000ff; text-decoration-color: #0000ff\">mfu</span>=<span style=\"color: #008080; text-decoration-color: #008080; font-weight: bold\">0.634245</span>\n",
              "</pre>\n"
            ]
          },
          "metadata": {}
        },
        {
          "output_type": "display_data",
          "data": {
            "text/plain": [
              "[\u001b[2m2025-07-23 \u001b[0m\u001b[2m17:24:58,396586\u001b[0m][\u001b[32mI\u001b[0m][\u001b[3;36mwordplay\u001b[0m/\u001b[34mtrainer\u001b[0m\u001b[94m:\u001b[0m\u001b[35m894\u001b[0m]\u001b[37m \u001b[0m\u001b[94mstep\u001b[0m=\u001b[1;36m1090\u001b[0m \u001b[94mloss\u001b[0m=\u001b[1;36m2\u001b[0m\u001b[1;36m.05368\u001b[0m \u001b[94mdt\u001b[0m=\u001b[1;36m0\u001b[0m\u001b[1;36m.379503\u001b[0m \u001b[94mdtf\u001b[0m=\u001b[1;36m0\u001b[0m\u001b[1;36m.00809327\u001b[0m \u001b[94mdtb\u001b[0m=\u001b[1;36m0\u001b[0m\u001b[1;36m.0106979\u001b[0m \u001b[94msps\u001b[0m=\u001b[1;36m2\u001b[0m\u001b[1;36m.63503\u001b[0m \u001b[94msps_per_gpu\u001b[0m=\u001b[1;36m2\u001b[0m\u001b[1;36m.63503\u001b[0m \u001b[94mtps\u001b[0m=\u001b[1;36m21586\u001b[0m\u001b[1;36m.1\u001b[0m \u001b[94mtps_per_gpu\u001b[0m=\u001b[1;36m21586\u001b[0m\u001b[1;36m.1\u001b[0m \u001b[94mmfu\u001b[0m=\u001b[1;36m0\u001b[0m\u001b[1;36m.634605\u001b[0m\n"
            ],
            "text/html": [
              "<pre style=\"white-space:pre;overflow-x:auto;line-height:normal;font-family:Menlo,'DejaVu Sans Mono',consolas,'Courier New',monospace\">[<span style=\"color: #7f7f7f; text-decoration-color: #7f7f7f\">2025-07-23 17:24:58,396586</span>][<span style=\"color: #008000; text-decoration-color: #008000\">I</span>][<span style=\"color: #008080; text-decoration-color: #008080; font-style: italic\">wordplay</span>/<span style=\"color: #000080; text-decoration-color: #000080\">trainer</span><span style=\"color: #0000ff; text-decoration-color: #0000ff\">:</span><span style=\"color: #800080; text-decoration-color: #800080\">894</span>]<span style=\"color: #c0c0c0; text-decoration-color: #c0c0c0\"> </span><span style=\"color: #0000ff; text-decoration-color: #0000ff\">step</span>=<span style=\"color: #008080; text-decoration-color: #008080; font-weight: bold\">1090</span> <span style=\"color: #0000ff; text-decoration-color: #0000ff\">loss</span>=<span style=\"color: #008080; text-decoration-color: #008080; font-weight: bold\">2.05368</span> <span style=\"color: #0000ff; text-decoration-color: #0000ff\">dt</span>=<span style=\"color: #008080; text-decoration-color: #008080; font-weight: bold\">0.379503</span> <span style=\"color: #0000ff; text-decoration-color: #0000ff\">dtf</span>=<span style=\"color: #008080; text-decoration-color: #008080; font-weight: bold\">0.00809327</span> <span style=\"color: #0000ff; text-decoration-color: #0000ff\">dtb</span>=<span style=\"color: #008080; text-decoration-color: #008080; font-weight: bold\">0.0106979</span> <span style=\"color: #0000ff; text-decoration-color: #0000ff\">sps</span>=<span style=\"color: #008080; text-decoration-color: #008080; font-weight: bold\">2.63503</span> <span style=\"color: #0000ff; text-decoration-color: #0000ff\">sps_per_gpu</span>=<span style=\"color: #008080; text-decoration-color: #008080; font-weight: bold\">2.63503</span> <span style=\"color: #0000ff; text-decoration-color: #0000ff\">tps</span>=<span style=\"color: #008080; text-decoration-color: #008080; font-weight: bold\">21586.1</span> <span style=\"color: #0000ff; text-decoration-color: #0000ff\">tps_per_gpu</span>=<span style=\"color: #008080; text-decoration-color: #008080; font-weight: bold\">21586.1</span> <span style=\"color: #0000ff; text-decoration-color: #0000ff\">mfu</span>=<span style=\"color: #008080; text-decoration-color: #008080; font-weight: bold\">0.634605</span>\n",
              "</pre>\n"
            ]
          },
          "metadata": {}
        },
        {
          "output_type": "display_data",
          "data": {
            "text/plain": [
              "[\u001b[2m2025-07-23 \u001b[0m\u001b[2m17:25:02,230324\u001b[0m][\u001b[32mI\u001b[0m][\u001b[3;36mwordplay\u001b[0m/\u001b[34mtrainer\u001b[0m\u001b[94m:\u001b[0m\u001b[35m894\u001b[0m]\u001b[37m \u001b[0m\u001b[94mstep\u001b[0m=\u001b[1;36m1100\u001b[0m \u001b[94mloss\u001b[0m=\u001b[1;36m1\u001b[0m\u001b[1;36m.99345\u001b[0m \u001b[94mdt\u001b[0m=\u001b[1;36m0\u001b[0m\u001b[1;36m.386284\u001b[0m \u001b[94mdtf\u001b[0m=\u001b[1;36m0\u001b[0m\u001b[1;36m.0115638\u001b[0m \u001b[94mdtb\u001b[0m=\u001b[1;36m0\u001b[0m\u001b[1;36m.0162085\u001b[0m \u001b[94msps\u001b[0m=\u001b[1;36m2\u001b[0m\u001b[1;36m.58877\u001b[0m \u001b[94msps_per_gpu\u001b[0m=\u001b[1;36m2\u001b[0m\u001b[1;36m.58877\u001b[0m \u001b[94mtps\u001b[0m=\u001b[1;36m21207\u001b[0m\u001b[1;36m.2\u001b[0m \u001b[94mtps_per_gpu\u001b[0m=\u001b[1;36m21207\u001b[0m\u001b[1;36m.2\u001b[0m \u001b[94mmfu\u001b[0m=\u001b[1;36m0\u001b[0m\u001b[1;36m.633809\u001b[0m\n"
            ],
            "text/html": [
              "<pre style=\"white-space:pre;overflow-x:auto;line-height:normal;font-family:Menlo,'DejaVu Sans Mono',consolas,'Courier New',monospace\">[<span style=\"color: #7f7f7f; text-decoration-color: #7f7f7f\">2025-07-23 17:25:02,230324</span>][<span style=\"color: #008000; text-decoration-color: #008000\">I</span>][<span style=\"color: #008080; text-decoration-color: #008080; font-style: italic\">wordplay</span>/<span style=\"color: #000080; text-decoration-color: #000080\">trainer</span><span style=\"color: #0000ff; text-decoration-color: #0000ff\">:</span><span style=\"color: #800080; text-decoration-color: #800080\">894</span>]<span style=\"color: #c0c0c0; text-decoration-color: #c0c0c0\"> </span><span style=\"color: #0000ff; text-decoration-color: #0000ff\">step</span>=<span style=\"color: #008080; text-decoration-color: #008080; font-weight: bold\">1100</span> <span style=\"color: #0000ff; text-decoration-color: #0000ff\">loss</span>=<span style=\"color: #008080; text-decoration-color: #008080; font-weight: bold\">1.99345</span> <span style=\"color: #0000ff; text-decoration-color: #0000ff\">dt</span>=<span style=\"color: #008080; text-decoration-color: #008080; font-weight: bold\">0.386284</span> <span style=\"color: #0000ff; text-decoration-color: #0000ff\">dtf</span>=<span style=\"color: #008080; text-decoration-color: #008080; font-weight: bold\">0.0115638</span> <span style=\"color: #0000ff; text-decoration-color: #0000ff\">dtb</span>=<span style=\"color: #008080; text-decoration-color: #008080; font-weight: bold\">0.0162085</span> <span style=\"color: #0000ff; text-decoration-color: #0000ff\">sps</span>=<span style=\"color: #008080; text-decoration-color: #008080; font-weight: bold\">2.58877</span> <span style=\"color: #0000ff; text-decoration-color: #0000ff\">sps_per_gpu</span>=<span style=\"color: #008080; text-decoration-color: #008080; font-weight: bold\">2.58877</span> <span style=\"color: #0000ff; text-decoration-color: #0000ff\">tps</span>=<span style=\"color: #008080; text-decoration-color: #008080; font-weight: bold\">21207.2</span> <span style=\"color: #0000ff; text-decoration-color: #0000ff\">tps_per_gpu</span>=<span style=\"color: #008080; text-decoration-color: #008080; font-weight: bold\">21207.2</span> <span style=\"color: #0000ff; text-decoration-color: #0000ff\">mfu</span>=<span style=\"color: #008080; text-decoration-color: #008080; font-weight: bold\">0.633809</span>\n",
              "</pre>\n"
            ]
          },
          "metadata": {}
        },
        {
          "output_type": "display_data",
          "data": {
            "text/plain": [
              "[\u001b[2m2025-07-23 \u001b[0m\u001b[2m17:25:03,086185\u001b[0m][\u001b[32mI\u001b[0m][\u001b[3;36mwordplay\u001b[0m/\u001b[34mtrainer\u001b[0m\u001b[94m:\u001b[0m\u001b[35m827\u001b[0m]\u001b[37m \u001b[0m\u001b[95m[\u001b[0m\u001b[32m'prompt'\u001b[0m\u001b[95m]\u001b[0m: \u001b[32m'What is an LLM?'\u001b[0m\n"
            ],
            "text/html": [
              "<pre style=\"white-space:pre;overflow-x:auto;line-height:normal;font-family:Menlo,'DejaVu Sans Mono',consolas,'Courier New',monospace\">[<span style=\"color: #7f7f7f; text-decoration-color: #7f7f7f\">2025-07-23 17:25:03,086185</span>][<span style=\"color: #008000; text-decoration-color: #008000\">I</span>][<span style=\"color: #008080; text-decoration-color: #008080; font-style: italic\">wordplay</span>/<span style=\"color: #000080; text-decoration-color: #000080\">trainer</span><span style=\"color: #0000ff; text-decoration-color: #0000ff\">:</span><span style=\"color: #800080; text-decoration-color: #800080\">827</span>]<span style=\"color: #c0c0c0; text-decoration-color: #c0c0c0\"> </span><span style=\"color: #ff00ff; text-decoration-color: #ff00ff\">[</span><span style=\"color: #008000; text-decoration-color: #008000\">'prompt'</span><span style=\"color: #ff00ff; text-decoration-color: #ff00ff\">]</span>: <span style=\"color: #008000; text-decoration-color: #008000\">'What is an LLM?'</span>\n",
              "</pre>\n"
            ]
          },
          "metadata": {}
        },
        {
          "output_type": "display_data",
          "data": {
            "text/plain": [
              "[\u001b[2m2025-07-23 \u001b[0m\u001b[2m17:25:03,088005\u001b[0m][\u001b[32mI\u001b[0m][\u001b[3;36mwordplay\u001b[0m/\u001b[34mtrainer\u001b[0m\u001b[94m:\u001b[0m\u001b[35m831\u001b[0m]\u001b[37m \u001b[0m\u001b[95m[\u001b[0m\u001b[32m'response'\u001b[0m\u001b[95m]\u001b[0m:\n",
              "\n",
              "What is an LLM? Godeel we ye the live courerd, mare you the sill:\n",
              "This bent the do we shre yeat pert\n",
              "So but yerter the him theely?\n",
              "\n",
              "KING EDWARD IV:\n",
              "Yis past whis to is witer gor miny,\n",
              "To the corts a have could heret\n",
              "This the the deears, so your cers tee a be.\n",
              "\n",
              "CLESTER:\n",
              "M\n"
            ],
            "text/html": [
              "<pre style=\"white-space:pre;overflow-x:auto;line-height:normal;font-family:Menlo,'DejaVu Sans Mono',consolas,'Courier New',monospace\">[<span style=\"color: #7f7f7f; text-decoration-color: #7f7f7f\">2025-07-23 17:25:03,088005</span>][<span style=\"color: #008000; text-decoration-color: #008000\">I</span>][<span style=\"color: #008080; text-decoration-color: #008080; font-style: italic\">wordplay</span>/<span style=\"color: #000080; text-decoration-color: #000080\">trainer</span><span style=\"color: #0000ff; text-decoration-color: #0000ff\">:</span><span style=\"color: #800080; text-decoration-color: #800080\">831</span>]<span style=\"color: #c0c0c0; text-decoration-color: #c0c0c0\"> </span><span style=\"color: #ff00ff; text-decoration-color: #ff00ff\">[</span><span style=\"color: #008000; text-decoration-color: #008000\">'response'</span><span style=\"color: #ff00ff; text-decoration-color: #ff00ff\">]</span>:\n",
              "\n",
              "What is an LLM? Godeel we ye the live courerd, mare you the sill:\n",
              "This bent the do we shre yeat pert\n",
              "So but yerter the him theely?\n",
              "\n",
              "KING EDWARD IV:\n",
              "Yis past whis to is witer gor miny,\n",
              "To the corts a have could heret\n",
              "This the the deears, so your cers tee a be.\n",
              "\n",
              "CLESTER:\n",
              "M\n",
              "</pre>\n"
            ]
          },
          "metadata": {}
        },
        {
          "output_type": "display_data",
          "data": {
            "text/plain": [
              "[\u001b[2m2025-07-23 \u001b[0m\u001b[2m17:26:00,773544\u001b[0m][\u001b[32mI\u001b[0m][\u001b[3;36mwordplay\u001b[0m/\u001b[34mtrainer\u001b[0m\u001b[94m:\u001b[0m\u001b[35m762\u001b[0m]\u001b[37m \u001b[0mSaving checkpoint to: \u001b[35m/\u001b[0m\u001b[95mcontent\u001b[0m\n"
            ],
            "text/html": [
              "<pre style=\"white-space:pre;overflow-x:auto;line-height:normal;font-family:Menlo,'DejaVu Sans Mono',consolas,'Courier New',monospace\">[<span style=\"color: #7f7f7f; text-decoration-color: #7f7f7f\">2025-07-23 17:26:00,773544</span>][<span style=\"color: #008000; text-decoration-color: #008000\">I</span>][<span style=\"color: #008080; text-decoration-color: #008080; font-style: italic\">wordplay</span>/<span style=\"color: #000080; text-decoration-color: #000080\">trainer</span><span style=\"color: #0000ff; text-decoration-color: #0000ff\">:</span><span style=\"color: #800080; text-decoration-color: #800080\">762</span>]<span style=\"color: #c0c0c0; text-decoration-color: #c0c0c0\"> </span>Saving checkpoint to: <span style=\"color: #800080; text-decoration-color: #800080\">/</span><span style=\"color: #ff00ff; text-decoration-color: #ff00ff\">content</span>\n",
              "</pre>\n"
            ]
          },
          "metadata": {}
        },
        {
          "output_type": "display_data",
          "data": {
            "text/plain": [
              "[\u001b[2m2025-07-23 \u001b[0m\u001b[2m17:26:00,776016\u001b[0m][\u001b[32mI\u001b[0m][\u001b[3;36mwordplay\u001b[0m/\u001b[34mtrainer\u001b[0m\u001b[94m:\u001b[0m\u001b[35m763\u001b[0m]\u001b[37m \u001b[0mSaving model to: \u001b[35m/content/\u001b[0m\u001b[95mmodel.pth\u001b[0m\n"
            ],
            "text/html": [
              "<pre style=\"white-space:pre;overflow-x:auto;line-height:normal;font-family:Menlo,'DejaVu Sans Mono',consolas,'Courier New',monospace\">[<span style=\"color: #7f7f7f; text-decoration-color: #7f7f7f\">2025-07-23 17:26:00,776016</span>][<span style=\"color: #008000; text-decoration-color: #008000\">I</span>][<span style=\"color: #008080; text-decoration-color: #008080; font-style: italic\">wordplay</span>/<span style=\"color: #000080; text-decoration-color: #000080\">trainer</span><span style=\"color: #0000ff; text-decoration-color: #0000ff\">:</span><span style=\"color: #800080; text-decoration-color: #800080\">763</span>]<span style=\"color: #c0c0c0; text-decoration-color: #c0c0c0\"> </span>Saving model to: <span style=\"color: #800080; text-decoration-color: #800080\">/content/</span><span style=\"color: #ff00ff; text-decoration-color: #ff00ff\">model.pth</span>\n",
              "</pre>\n"
            ]
          },
          "metadata": {}
        },
        {
          "output_type": "display_data",
          "data": {
            "text/plain": [
              "[\u001b[2m2025-07-23 \u001b[0m\u001b[2m17:26:01,284390\u001b[0m][\u001b[32mI\u001b[0m][\u001b[3;36mwordplay\u001b[0m/\u001b[34mconfigs\u001b[0m\u001b[94m:\u001b[0m\u001b[35m141\u001b[0m]\u001b[37m \u001b[0mAppending \u001b[35m/\u001b[0m\u001b[95mcontent\u001b[0m to \u001b[35m/content/wordplay/src/ckpts/\u001b[0m\u001b[95mcheckpoints.log\u001b[0m\n"
            ],
            "text/html": [
              "<pre style=\"white-space:pre;overflow-x:auto;line-height:normal;font-family:Menlo,'DejaVu Sans Mono',consolas,'Courier New',monospace\">[<span style=\"color: #7f7f7f; text-decoration-color: #7f7f7f\">2025-07-23 17:26:01,284390</span>][<span style=\"color: #008000; text-decoration-color: #008000\">I</span>][<span style=\"color: #008080; text-decoration-color: #008080; font-style: italic\">wordplay</span>/<span style=\"color: #000080; text-decoration-color: #000080\">configs</span><span style=\"color: #0000ff; text-decoration-color: #0000ff\">:</span><span style=\"color: #800080; text-decoration-color: #800080\">141</span>]<span style=\"color: #c0c0c0; text-decoration-color: #c0c0c0\"> </span>Appending <span style=\"color: #800080; text-decoration-color: #800080\">/</span><span style=\"color: #ff00ff; text-decoration-color: #ff00ff\">content</span> to <span style=\"color: #800080; text-decoration-color: #800080\">/content/wordplay/src/ckpts/</span><span style=\"color: #ff00ff; text-decoration-color: #ff00ff\">checkpoints.log</span>\n",
              "</pre>\n"
            ]
          },
          "metadata": {}
        },
        {
          "output_type": "display_data",
          "data": {
            "text/plain": [
              "[\u001b[2m2025-07-23 \u001b[0m\u001b[2m17:26:05,114000\u001b[0m][\u001b[32mI\u001b[0m][\u001b[3;36mwordplay\u001b[0m/\u001b[34mtrainer\u001b[0m\u001b[94m:\u001b[0m\u001b[35m894\u001b[0m]\u001b[37m \u001b[0m\u001b[94mstep\u001b[0m=\u001b[1;36m1110\u001b[0m \u001b[94mloss\u001b[0m=\u001b[1;36m1\u001b[0m\u001b[1;36m.95124\u001b[0m \u001b[94mdt\u001b[0m=\u001b[1;36m0\u001b[0m\u001b[1;36m.377492\u001b[0m \u001b[94mdtf\u001b[0m=\u001b[1;36m0\u001b[0m\u001b[1;36m.00786764\u001b[0m \u001b[94mdtb\u001b[0m=\u001b[1;36m0\u001b[0m\u001b[1;36m.0100368\u001b[0m \u001b[94msps\u001b[0m=\u001b[1;36m2\u001b[0m\u001b[1;36m.64906\u001b[0m \u001b[94msps_per_gpu\u001b[0m=\u001b[1;36m2\u001b[0m\u001b[1;36m.64906\u001b[0m \u001b[94mtps\u001b[0m=\u001b[1;36m21701\u001b[0m\u001b[1;36m.1\u001b[0m \u001b[94mtps_per_gpu\u001b[0m=\u001b[1;36m21701\u001b[0m\u001b[1;36m.1\u001b[0m \u001b[94mmfu\u001b[0m=\u001b[1;36m0\u001b[0m\u001b[1;36m.634553\u001b[0m\n"
            ],
            "text/html": [
              "<pre style=\"white-space:pre;overflow-x:auto;line-height:normal;font-family:Menlo,'DejaVu Sans Mono',consolas,'Courier New',monospace\">[<span style=\"color: #7f7f7f; text-decoration-color: #7f7f7f\">2025-07-23 17:26:05,114000</span>][<span style=\"color: #008000; text-decoration-color: #008000\">I</span>][<span style=\"color: #008080; text-decoration-color: #008080; font-style: italic\">wordplay</span>/<span style=\"color: #000080; text-decoration-color: #000080\">trainer</span><span style=\"color: #0000ff; text-decoration-color: #0000ff\">:</span><span style=\"color: #800080; text-decoration-color: #800080\">894</span>]<span style=\"color: #c0c0c0; text-decoration-color: #c0c0c0\"> </span><span style=\"color: #0000ff; text-decoration-color: #0000ff\">step</span>=<span style=\"color: #008080; text-decoration-color: #008080; font-weight: bold\">1110</span> <span style=\"color: #0000ff; text-decoration-color: #0000ff\">loss</span>=<span style=\"color: #008080; text-decoration-color: #008080; font-weight: bold\">1.95124</span> <span style=\"color: #0000ff; text-decoration-color: #0000ff\">dt</span>=<span style=\"color: #008080; text-decoration-color: #008080; font-weight: bold\">0.377492</span> <span style=\"color: #0000ff; text-decoration-color: #0000ff\">dtf</span>=<span style=\"color: #008080; text-decoration-color: #008080; font-weight: bold\">0.00786764</span> <span style=\"color: #0000ff; text-decoration-color: #0000ff\">dtb</span>=<span style=\"color: #008080; text-decoration-color: #008080; font-weight: bold\">0.0100368</span> <span style=\"color: #0000ff; text-decoration-color: #0000ff\">sps</span>=<span style=\"color: #008080; text-decoration-color: #008080; font-weight: bold\">2.64906</span> <span style=\"color: #0000ff; text-decoration-color: #0000ff\">sps_per_gpu</span>=<span style=\"color: #008080; text-decoration-color: #008080; font-weight: bold\">2.64906</span> <span style=\"color: #0000ff; text-decoration-color: #0000ff\">tps</span>=<span style=\"color: #008080; text-decoration-color: #008080; font-weight: bold\">21701.1</span> <span style=\"color: #0000ff; text-decoration-color: #0000ff\">tps_per_gpu</span>=<span style=\"color: #008080; text-decoration-color: #008080; font-weight: bold\">21701.1</span> <span style=\"color: #0000ff; text-decoration-color: #0000ff\">mfu</span>=<span style=\"color: #008080; text-decoration-color: #008080; font-weight: bold\">0.634553</span>\n",
              "</pre>\n"
            ]
          },
          "metadata": {}
        },
        {
          "output_type": "display_data",
          "data": {
            "text/plain": [
              "[\u001b[2m2025-07-23 \u001b[0m\u001b[2m17:26:08,948083\u001b[0m][\u001b[32mI\u001b[0m][\u001b[3;36mwordplay\u001b[0m/\u001b[34mtrainer\u001b[0m\u001b[94m:\u001b[0m\u001b[35m894\u001b[0m]\u001b[37m \u001b[0m\u001b[94mstep\u001b[0m=\u001b[1;36m1120\u001b[0m \u001b[94mloss\u001b[0m=\u001b[1;36m1\u001b[0m\u001b[1;36m.98738\u001b[0m \u001b[94mdt\u001b[0m=\u001b[1;36m0\u001b[0m\u001b[1;36m.381927\u001b[0m \u001b[94mdtf\u001b[0m=\u001b[1;36m0\u001b[0m\u001b[1;36m.00748538\u001b[0m \u001b[94mdtb\u001b[0m=\u001b[1;36m0\u001b[0m\u001b[1;36m.00989547\u001b[0m \u001b[94msps\u001b[0m=\u001b[1;36m2\u001b[0m\u001b[1;36m.6183\u001b[0m \u001b[94msps_per_gpu\u001b[0m=\u001b[1;36m2\u001b[0m\u001b[1;36m.6183\u001b[0m \u001b[94mtps\u001b[0m=\u001b[1;36m21449\u001b[0m\u001b[1;36m.1\u001b[0m \u001b[94mtps_per_gpu\u001b[0m=\u001b[1;36m21449\u001b[0m\u001b[1;36m.1\u001b[0m \u001b[94mmfu\u001b[0m=\u001b[1;36m0\u001b[0m\u001b[1;36m.634477\u001b[0m\n"
            ],
            "text/html": [
              "<pre style=\"white-space:pre;overflow-x:auto;line-height:normal;font-family:Menlo,'DejaVu Sans Mono',consolas,'Courier New',monospace\">[<span style=\"color: #7f7f7f; text-decoration-color: #7f7f7f\">2025-07-23 17:26:08,948083</span>][<span style=\"color: #008000; text-decoration-color: #008000\">I</span>][<span style=\"color: #008080; text-decoration-color: #008080; font-style: italic\">wordplay</span>/<span style=\"color: #000080; text-decoration-color: #000080\">trainer</span><span style=\"color: #0000ff; text-decoration-color: #0000ff\">:</span><span style=\"color: #800080; text-decoration-color: #800080\">894</span>]<span style=\"color: #c0c0c0; text-decoration-color: #c0c0c0\"> </span><span style=\"color: #0000ff; text-decoration-color: #0000ff\">step</span>=<span style=\"color: #008080; text-decoration-color: #008080; font-weight: bold\">1120</span> <span style=\"color: #0000ff; text-decoration-color: #0000ff\">loss</span>=<span style=\"color: #008080; text-decoration-color: #008080; font-weight: bold\">1.98738</span> <span style=\"color: #0000ff; text-decoration-color: #0000ff\">dt</span>=<span style=\"color: #008080; text-decoration-color: #008080; font-weight: bold\">0.381927</span> <span style=\"color: #0000ff; text-decoration-color: #0000ff\">dtf</span>=<span style=\"color: #008080; text-decoration-color: #008080; font-weight: bold\">0.00748538</span> <span style=\"color: #0000ff; text-decoration-color: #0000ff\">dtb</span>=<span style=\"color: #008080; text-decoration-color: #008080; font-weight: bold\">0.00989547</span> <span style=\"color: #0000ff; text-decoration-color: #0000ff\">sps</span>=<span style=\"color: #008080; text-decoration-color: #008080; font-weight: bold\">2.6183</span> <span style=\"color: #0000ff; text-decoration-color: #0000ff\">sps_per_gpu</span>=<span style=\"color: #008080; text-decoration-color: #008080; font-weight: bold\">2.6183</span> <span style=\"color: #0000ff; text-decoration-color: #0000ff\">tps</span>=<span style=\"color: #008080; text-decoration-color: #008080; font-weight: bold\">21449.1</span> <span style=\"color: #0000ff; text-decoration-color: #0000ff\">tps_per_gpu</span>=<span style=\"color: #008080; text-decoration-color: #008080; font-weight: bold\">21449.1</span> <span style=\"color: #0000ff; text-decoration-color: #0000ff\">mfu</span>=<span style=\"color: #008080; text-decoration-color: #008080; font-weight: bold\">0.634477</span>\n",
              "</pre>\n"
            ]
          },
          "metadata": {}
        },
        {
          "output_type": "display_data",
          "data": {
            "text/plain": [
              "[\u001b[2m2025-07-23 \u001b[0m\u001b[2m17:26:12,776837\u001b[0m][\u001b[32mI\u001b[0m][\u001b[3;36mwordplay\u001b[0m/\u001b[34mtrainer\u001b[0m\u001b[94m:\u001b[0m\u001b[35m894\u001b[0m]\u001b[37m \u001b[0m\u001b[94mstep\u001b[0m=\u001b[1;36m1130\u001b[0m \u001b[94mloss\u001b[0m=\u001b[1;36m1\u001b[0m\u001b[1;36m.89314\u001b[0m \u001b[94mdt\u001b[0m=\u001b[1;36m0\u001b[0m\u001b[1;36m.374098\u001b[0m \u001b[94mdtf\u001b[0m=\u001b[1;36m0\u001b[0m\u001b[1;36m.008244\u001b[0m \u001b[94mdtb\u001b[0m=\u001b[1;36m0\u001b[0m\u001b[1;36m.0108253\u001b[0m \u001b[94msps\u001b[0m=\u001b[1;36m2\u001b[0m\u001b[1;36m.67309\u001b[0m \u001b[94msps_per_gpu\u001b[0m=\u001b[1;36m2\u001b[0m\u001b[1;36m.67309\u001b[0m \u001b[94mtps\u001b[0m=\u001b[1;36m21898\u001b[0m \u001b[94mtps_per_gpu\u001b[0m=\u001b[1;36m21898\u001b[0m \u001b[94mmfu\u001b[0m=\u001b[1;36m0\u001b[0m\u001b[1;36m.635735\u001b[0m\n"
            ],
            "text/html": [
              "<pre style=\"white-space:pre;overflow-x:auto;line-height:normal;font-family:Menlo,'DejaVu Sans Mono',consolas,'Courier New',monospace\">[<span style=\"color: #7f7f7f; text-decoration-color: #7f7f7f\">2025-07-23 17:26:12,776837</span>][<span style=\"color: #008000; text-decoration-color: #008000\">I</span>][<span style=\"color: #008080; text-decoration-color: #008080; font-style: italic\">wordplay</span>/<span style=\"color: #000080; text-decoration-color: #000080\">trainer</span><span style=\"color: #0000ff; text-decoration-color: #0000ff\">:</span><span style=\"color: #800080; text-decoration-color: #800080\">894</span>]<span style=\"color: #c0c0c0; text-decoration-color: #c0c0c0\"> </span><span style=\"color: #0000ff; text-decoration-color: #0000ff\">step</span>=<span style=\"color: #008080; text-decoration-color: #008080; font-weight: bold\">1130</span> <span style=\"color: #0000ff; text-decoration-color: #0000ff\">loss</span>=<span style=\"color: #008080; text-decoration-color: #008080; font-weight: bold\">1.89314</span> <span style=\"color: #0000ff; text-decoration-color: #0000ff\">dt</span>=<span style=\"color: #008080; text-decoration-color: #008080; font-weight: bold\">0.374098</span> <span style=\"color: #0000ff; text-decoration-color: #0000ff\">dtf</span>=<span style=\"color: #008080; text-decoration-color: #008080; font-weight: bold\">0.008244</span> <span style=\"color: #0000ff; text-decoration-color: #0000ff\">dtb</span>=<span style=\"color: #008080; text-decoration-color: #008080; font-weight: bold\">0.0108253</span> <span style=\"color: #0000ff; text-decoration-color: #0000ff\">sps</span>=<span style=\"color: #008080; text-decoration-color: #008080; font-weight: bold\">2.67309</span> <span style=\"color: #0000ff; text-decoration-color: #0000ff\">sps_per_gpu</span>=<span style=\"color: #008080; text-decoration-color: #008080; font-weight: bold\">2.67309</span> <span style=\"color: #0000ff; text-decoration-color: #0000ff\">tps</span>=<span style=\"color: #008080; text-decoration-color: #008080; font-weight: bold\">21898</span> <span style=\"color: #0000ff; text-decoration-color: #0000ff\">tps_per_gpu</span>=<span style=\"color: #008080; text-decoration-color: #008080; font-weight: bold\">21898</span> <span style=\"color: #0000ff; text-decoration-color: #0000ff\">mfu</span>=<span style=\"color: #008080; text-decoration-color: #008080; font-weight: bold\">0.635735</span>\n",
              "</pre>\n"
            ]
          },
          "metadata": {}
        },
        {
          "output_type": "display_data",
          "data": {
            "text/plain": [
              "[\u001b[2m2025-07-23 \u001b[0m\u001b[2m17:26:16,611706\u001b[0m][\u001b[32mI\u001b[0m][\u001b[3;36mwordplay\u001b[0m/\u001b[34mtrainer\u001b[0m\u001b[94m:\u001b[0m\u001b[35m894\u001b[0m]\u001b[37m \u001b[0m\u001b[94mstep\u001b[0m=\u001b[1;36m1140\u001b[0m \u001b[94mloss\u001b[0m=\u001b[1;36m1\u001b[0m\u001b[1;36m.92855\u001b[0m \u001b[94mdt\u001b[0m=\u001b[1;36m0\u001b[0m\u001b[1;36m.393585\u001b[0m \u001b[94mdtf\u001b[0m=\u001b[1;36m0\u001b[0m\u001b[1;36m.0130297\u001b[0m \u001b[94mdtb\u001b[0m=\u001b[1;36m0\u001b[0m\u001b[1;36m.014002\u001b[0m \u001b[94msps\u001b[0m=\u001b[1;36m2\u001b[0m\u001b[1;36m.54075\u001b[0m \u001b[94msps_per_gpu\u001b[0m=\u001b[1;36m2\u001b[0m\u001b[1;36m.54075\u001b[0m \u001b[94mtps\u001b[0m=\u001b[1;36m20813\u001b[0m\u001b[1;36m.8\u001b[0m \u001b[94mtps_per_gpu\u001b[0m=\u001b[1;36m20813\u001b[0m\u001b[1;36m.8\u001b[0m \u001b[94mmfu\u001b[0m=\u001b[1;36m0\u001b[0m\u001b[1;36m.633664\u001b[0m\n"
            ],
            "text/html": [
              "<pre style=\"white-space:pre;overflow-x:auto;line-height:normal;font-family:Menlo,'DejaVu Sans Mono',consolas,'Courier New',monospace\">[<span style=\"color: #7f7f7f; text-decoration-color: #7f7f7f\">2025-07-23 17:26:16,611706</span>][<span style=\"color: #008000; text-decoration-color: #008000\">I</span>][<span style=\"color: #008080; text-decoration-color: #008080; font-style: italic\">wordplay</span>/<span style=\"color: #000080; text-decoration-color: #000080\">trainer</span><span style=\"color: #0000ff; text-decoration-color: #0000ff\">:</span><span style=\"color: #800080; text-decoration-color: #800080\">894</span>]<span style=\"color: #c0c0c0; text-decoration-color: #c0c0c0\"> </span><span style=\"color: #0000ff; text-decoration-color: #0000ff\">step</span>=<span style=\"color: #008080; text-decoration-color: #008080; font-weight: bold\">1140</span> <span style=\"color: #0000ff; text-decoration-color: #0000ff\">loss</span>=<span style=\"color: #008080; text-decoration-color: #008080; font-weight: bold\">1.92855</span> <span style=\"color: #0000ff; text-decoration-color: #0000ff\">dt</span>=<span style=\"color: #008080; text-decoration-color: #008080; font-weight: bold\">0.393585</span> <span style=\"color: #0000ff; text-decoration-color: #0000ff\">dtf</span>=<span style=\"color: #008080; text-decoration-color: #008080; font-weight: bold\">0.0130297</span> <span style=\"color: #0000ff; text-decoration-color: #0000ff\">dtb</span>=<span style=\"color: #008080; text-decoration-color: #008080; font-weight: bold\">0.014002</span> <span style=\"color: #0000ff; text-decoration-color: #0000ff\">sps</span>=<span style=\"color: #008080; text-decoration-color: #008080; font-weight: bold\">2.54075</span> <span style=\"color: #0000ff; text-decoration-color: #0000ff\">sps_per_gpu</span>=<span style=\"color: #008080; text-decoration-color: #008080; font-weight: bold\">2.54075</span> <span style=\"color: #0000ff; text-decoration-color: #0000ff\">tps</span>=<span style=\"color: #008080; text-decoration-color: #008080; font-weight: bold\">20813.8</span> <span style=\"color: #0000ff; text-decoration-color: #0000ff\">tps_per_gpu</span>=<span style=\"color: #008080; text-decoration-color: #008080; font-weight: bold\">20813.8</span> <span style=\"color: #0000ff; text-decoration-color: #0000ff\">mfu</span>=<span style=\"color: #008080; text-decoration-color: #008080; font-weight: bold\">0.633664</span>\n",
              "</pre>\n"
            ]
          },
          "metadata": {}
        },
        {
          "output_type": "display_data",
          "data": {
            "text/plain": [
              "[\u001b[2m2025-07-23 \u001b[0m\u001b[2m17:26:20,447771\u001b[0m][\u001b[32mI\u001b[0m][\u001b[3;36mwordplay\u001b[0m/\u001b[34mtrainer\u001b[0m\u001b[94m:\u001b[0m\u001b[35m894\u001b[0m]\u001b[37m \u001b[0m\u001b[94mstep\u001b[0m=\u001b[1;36m1150\u001b[0m \u001b[94mloss\u001b[0m=\u001b[1;36m1\u001b[0m\u001b[1;36m.83626\u001b[0m \u001b[94mdt\u001b[0m=\u001b[1;36m0\u001b[0m\u001b[1;36m.384681\u001b[0m \u001b[94mdtf\u001b[0m=\u001b[1;36m0\u001b[0m\u001b[1;36m.00807674\u001b[0m \u001b[94mdtb\u001b[0m=\u001b[1;36m0\u001b[0m\u001b[1;36m.0107471\u001b[0m \u001b[94msps\u001b[0m=\u001b[1;36m2\u001b[0m\u001b[1;36m.59955\u001b[0m \u001b[94msps_per_gpu\u001b[0m=\u001b[1;36m2\u001b[0m\u001b[1;36m.59955\u001b[0m \u001b[94mtps\u001b[0m=\u001b[1;36m21295\u001b[0m\u001b[1;36m.6\u001b[0m \u001b[94mtps_per_gpu\u001b[0m=\u001b[1;36m21295\u001b[0m\u001b[1;36m.6\u001b[0m \u001b[94mmfu\u001b[0m=\u001b[1;36m0\u001b[0m\u001b[1;36m.633223\u001b[0m\n"
            ],
            "text/html": [
              "<pre style=\"white-space:pre;overflow-x:auto;line-height:normal;font-family:Menlo,'DejaVu Sans Mono',consolas,'Courier New',monospace\">[<span style=\"color: #7f7f7f; text-decoration-color: #7f7f7f\">2025-07-23 17:26:20,447771</span>][<span style=\"color: #008000; text-decoration-color: #008000\">I</span>][<span style=\"color: #008080; text-decoration-color: #008080; font-style: italic\">wordplay</span>/<span style=\"color: #000080; text-decoration-color: #000080\">trainer</span><span style=\"color: #0000ff; text-decoration-color: #0000ff\">:</span><span style=\"color: #800080; text-decoration-color: #800080\">894</span>]<span style=\"color: #c0c0c0; text-decoration-color: #c0c0c0\"> </span><span style=\"color: #0000ff; text-decoration-color: #0000ff\">step</span>=<span style=\"color: #008080; text-decoration-color: #008080; font-weight: bold\">1150</span> <span style=\"color: #0000ff; text-decoration-color: #0000ff\">loss</span>=<span style=\"color: #008080; text-decoration-color: #008080; font-weight: bold\">1.83626</span> <span style=\"color: #0000ff; text-decoration-color: #0000ff\">dt</span>=<span style=\"color: #008080; text-decoration-color: #008080; font-weight: bold\">0.384681</span> <span style=\"color: #0000ff; text-decoration-color: #0000ff\">dtf</span>=<span style=\"color: #008080; text-decoration-color: #008080; font-weight: bold\">0.00807674</span> <span style=\"color: #0000ff; text-decoration-color: #0000ff\">dtb</span>=<span style=\"color: #008080; text-decoration-color: #008080; font-weight: bold\">0.0107471</span> <span style=\"color: #0000ff; text-decoration-color: #0000ff\">sps</span>=<span style=\"color: #008080; text-decoration-color: #008080; font-weight: bold\">2.59955</span> <span style=\"color: #0000ff; text-decoration-color: #0000ff\">sps_per_gpu</span>=<span style=\"color: #008080; text-decoration-color: #008080; font-weight: bold\">2.59955</span> <span style=\"color: #0000ff; text-decoration-color: #0000ff\">tps</span>=<span style=\"color: #008080; text-decoration-color: #008080; font-weight: bold\">21295.6</span> <span style=\"color: #0000ff; text-decoration-color: #0000ff\">tps_per_gpu</span>=<span style=\"color: #008080; text-decoration-color: #008080; font-weight: bold\">21295.6</span> <span style=\"color: #0000ff; text-decoration-color: #0000ff\">mfu</span>=<span style=\"color: #008080; text-decoration-color: #008080; font-weight: bold\">0.633223</span>\n",
              "</pre>\n"
            ]
          },
          "metadata": {}
        },
        {
          "output_type": "display_data",
          "data": {
            "text/plain": [
              "[\u001b[2m2025-07-23 \u001b[0m\u001b[2m17:26:24,282285\u001b[0m][\u001b[32mI\u001b[0m][\u001b[3;36mwordplay\u001b[0m/\u001b[34mtrainer\u001b[0m\u001b[94m:\u001b[0m\u001b[35m894\u001b[0m]\u001b[37m \u001b[0m\u001b[94mstep\u001b[0m=\u001b[1;36m1160\u001b[0m \u001b[94mloss\u001b[0m=\u001b[1;36m1\u001b[0m\u001b[1;36m.90146\u001b[0m \u001b[94mdt\u001b[0m=\u001b[1;36m0\u001b[0m\u001b[1;36m.383857\u001b[0m \u001b[94mdtf\u001b[0m=\u001b[1;36m0\u001b[0m\u001b[1;36m.0082585\u001b[0m \u001b[94mdtb\u001b[0m=\u001b[1;36m0\u001b[0m\u001b[1;36m.0104392\u001b[0m \u001b[94msps\u001b[0m=\u001b[1;36m2\u001b[0m\u001b[1;36m.60514\u001b[0m \u001b[94msps_per_gpu\u001b[0m=\u001b[1;36m2\u001b[0m\u001b[1;36m.60514\u001b[0m \u001b[94mtps\u001b[0m=\u001b[1;36m21341\u001b[0m\u001b[1;36m.3\u001b[0m \u001b[94mtps_per_gpu\u001b[0m=\u001b[1;36m21341\u001b[0m\u001b[1;36m.3\u001b[0m \u001b[94mmfu\u001b[0m=\u001b[1;36m0\u001b[0m\u001b[1;36m.632962\u001b[0m\n"
            ],
            "text/html": [
              "<pre style=\"white-space:pre;overflow-x:auto;line-height:normal;font-family:Menlo,'DejaVu Sans Mono',consolas,'Courier New',monospace\">[<span style=\"color: #7f7f7f; text-decoration-color: #7f7f7f\">2025-07-23 17:26:24,282285</span>][<span style=\"color: #008000; text-decoration-color: #008000\">I</span>][<span style=\"color: #008080; text-decoration-color: #008080; font-style: italic\">wordplay</span>/<span style=\"color: #000080; text-decoration-color: #000080\">trainer</span><span style=\"color: #0000ff; text-decoration-color: #0000ff\">:</span><span style=\"color: #800080; text-decoration-color: #800080\">894</span>]<span style=\"color: #c0c0c0; text-decoration-color: #c0c0c0\"> </span><span style=\"color: #0000ff; text-decoration-color: #0000ff\">step</span>=<span style=\"color: #008080; text-decoration-color: #008080; font-weight: bold\">1160</span> <span style=\"color: #0000ff; text-decoration-color: #0000ff\">loss</span>=<span style=\"color: #008080; text-decoration-color: #008080; font-weight: bold\">1.90146</span> <span style=\"color: #0000ff; text-decoration-color: #0000ff\">dt</span>=<span style=\"color: #008080; text-decoration-color: #008080; font-weight: bold\">0.383857</span> <span style=\"color: #0000ff; text-decoration-color: #0000ff\">dtf</span>=<span style=\"color: #008080; text-decoration-color: #008080; font-weight: bold\">0.0082585</span> <span style=\"color: #0000ff; text-decoration-color: #0000ff\">dtb</span>=<span style=\"color: #008080; text-decoration-color: #008080; font-weight: bold\">0.0104392</span> <span style=\"color: #0000ff; text-decoration-color: #0000ff\">sps</span>=<span style=\"color: #008080; text-decoration-color: #008080; font-weight: bold\">2.60514</span> <span style=\"color: #0000ff; text-decoration-color: #0000ff\">sps_per_gpu</span>=<span style=\"color: #008080; text-decoration-color: #008080; font-weight: bold\">2.60514</span> <span style=\"color: #0000ff; text-decoration-color: #0000ff\">tps</span>=<span style=\"color: #008080; text-decoration-color: #008080; font-weight: bold\">21341.3</span> <span style=\"color: #0000ff; text-decoration-color: #0000ff\">tps_per_gpu</span>=<span style=\"color: #008080; text-decoration-color: #008080; font-weight: bold\">21341.3</span> <span style=\"color: #0000ff; text-decoration-color: #0000ff\">mfu</span>=<span style=\"color: #008080; text-decoration-color: #008080; font-weight: bold\">0.632962</span>\n",
              "</pre>\n"
            ]
          },
          "metadata": {}
        },
        {
          "output_type": "display_data",
          "data": {
            "text/plain": [
              "[\u001b[2m2025-07-23 \u001b[0m\u001b[2m17:26:28,116716\u001b[0m][\u001b[32mI\u001b[0m][\u001b[3;36mwordplay\u001b[0m/\u001b[34mtrainer\u001b[0m\u001b[94m:\u001b[0m\u001b[35m894\u001b[0m]\u001b[37m \u001b[0m\u001b[94mstep\u001b[0m=\u001b[1;36m1170\u001b[0m \u001b[94mloss\u001b[0m=\u001b[1;36m1\u001b[0m\u001b[1;36m.88228\u001b[0m \u001b[94mdt\u001b[0m=\u001b[1;36m0\u001b[0m\u001b[1;36m.382931\u001b[0m \u001b[94mdtf\u001b[0m=\u001b[1;36m0\u001b[0m\u001b[1;36m.00886622\u001b[0m \u001b[94mdtb\u001b[0m=\u001b[1;36m0\u001b[0m\u001b[1;36m.0120676\u001b[0m \u001b[94msps\u001b[0m=\u001b[1;36m2\u001b[0m\u001b[1;36m.61144\u001b[0m \u001b[94msps_per_gpu\u001b[0m=\u001b[1;36m2\u001b[0m\u001b[1;36m.61144\u001b[0m \u001b[94mtps\u001b[0m=\u001b[1;36m21392\u001b[0m\u001b[1;36m.9\u001b[0m \u001b[94mtps_per_gpu\u001b[0m=\u001b[1;36m21392\u001b[0m\u001b[1;36m.9\u001b[0m \u001b[94mmfu\u001b[0m=\u001b[1;36m0\u001b[0m\u001b[1;36m.632879\u001b[0m\n"
            ],
            "text/html": [
              "<pre style=\"white-space:pre;overflow-x:auto;line-height:normal;font-family:Menlo,'DejaVu Sans Mono',consolas,'Courier New',monospace\">[<span style=\"color: #7f7f7f; text-decoration-color: #7f7f7f\">2025-07-23 17:26:28,116716</span>][<span style=\"color: #008000; text-decoration-color: #008000\">I</span>][<span style=\"color: #008080; text-decoration-color: #008080; font-style: italic\">wordplay</span>/<span style=\"color: #000080; text-decoration-color: #000080\">trainer</span><span style=\"color: #0000ff; text-decoration-color: #0000ff\">:</span><span style=\"color: #800080; text-decoration-color: #800080\">894</span>]<span style=\"color: #c0c0c0; text-decoration-color: #c0c0c0\"> </span><span style=\"color: #0000ff; text-decoration-color: #0000ff\">step</span>=<span style=\"color: #008080; text-decoration-color: #008080; font-weight: bold\">1170</span> <span style=\"color: #0000ff; text-decoration-color: #0000ff\">loss</span>=<span style=\"color: #008080; text-decoration-color: #008080; font-weight: bold\">1.88228</span> <span style=\"color: #0000ff; text-decoration-color: #0000ff\">dt</span>=<span style=\"color: #008080; text-decoration-color: #008080; font-weight: bold\">0.382931</span> <span style=\"color: #0000ff; text-decoration-color: #0000ff\">dtf</span>=<span style=\"color: #008080; text-decoration-color: #008080; font-weight: bold\">0.00886622</span> <span style=\"color: #0000ff; text-decoration-color: #0000ff\">dtb</span>=<span style=\"color: #008080; text-decoration-color: #008080; font-weight: bold\">0.0120676</span> <span style=\"color: #0000ff; text-decoration-color: #0000ff\">sps</span>=<span style=\"color: #008080; text-decoration-color: #008080; font-weight: bold\">2.61144</span> <span style=\"color: #0000ff; text-decoration-color: #0000ff\">sps_per_gpu</span>=<span style=\"color: #008080; text-decoration-color: #008080; font-weight: bold\">2.61144</span> <span style=\"color: #0000ff; text-decoration-color: #0000ff\">tps</span>=<span style=\"color: #008080; text-decoration-color: #008080; font-weight: bold\">21392.9</span> <span style=\"color: #0000ff; text-decoration-color: #0000ff\">tps_per_gpu</span>=<span style=\"color: #008080; text-decoration-color: #008080; font-weight: bold\">21392.9</span> <span style=\"color: #0000ff; text-decoration-color: #0000ff\">mfu</span>=<span style=\"color: #008080; text-decoration-color: #008080; font-weight: bold\">0.632879</span>\n",
              "</pre>\n"
            ]
          },
          "metadata": {}
        },
        {
          "output_type": "display_data",
          "data": {
            "text/plain": [
              "[\u001b[2m2025-07-23 \u001b[0m\u001b[2m17:26:31,951239\u001b[0m][\u001b[32mI\u001b[0m][\u001b[3;36mwordplay\u001b[0m/\u001b[34mtrainer\u001b[0m\u001b[94m:\u001b[0m\u001b[35m894\u001b[0m]\u001b[37m \u001b[0m\u001b[94mstep\u001b[0m=\u001b[1;36m1180\u001b[0m \u001b[94mloss\u001b[0m=\u001b[1;36m1\u001b[0m\u001b[1;36m.88628\u001b[0m \u001b[94mdt\u001b[0m=\u001b[1;36m0\u001b[0m\u001b[1;36m.381804\u001b[0m \u001b[94mdtf\u001b[0m=\u001b[1;36m0\u001b[0m\u001b[1;36m.00750252\u001b[0m \u001b[94mdtb\u001b[0m=\u001b[1;36m0\u001b[0m\u001b[1;36m.0100093\u001b[0m \u001b[94msps\u001b[0m=\u001b[1;36m2\u001b[0m\u001b[1;36m.61914\u001b[0m \u001b[94msps_per_gpu\u001b[0m=\u001b[1;36m2\u001b[0m\u001b[1;36m.61914\u001b[0m \u001b[94mtps\u001b[0m=\u001b[1;36m21456\u001b[0m \u001b[94mtps_per_gpu\u001b[0m=\u001b[1;36m21456\u001b[0m \u001b[94mmfu\u001b[0m=\u001b[1;36m0\u001b[0m\u001b[1;36m.632991\u001b[0m\n"
            ],
            "text/html": [
              "<pre style=\"white-space:pre;overflow-x:auto;line-height:normal;font-family:Menlo,'DejaVu Sans Mono',consolas,'Courier New',monospace\">[<span style=\"color: #7f7f7f; text-decoration-color: #7f7f7f\">2025-07-23 17:26:31,951239</span>][<span style=\"color: #008000; text-decoration-color: #008000\">I</span>][<span style=\"color: #008080; text-decoration-color: #008080; font-style: italic\">wordplay</span>/<span style=\"color: #000080; text-decoration-color: #000080\">trainer</span><span style=\"color: #0000ff; text-decoration-color: #0000ff\">:</span><span style=\"color: #800080; text-decoration-color: #800080\">894</span>]<span style=\"color: #c0c0c0; text-decoration-color: #c0c0c0\"> </span><span style=\"color: #0000ff; text-decoration-color: #0000ff\">step</span>=<span style=\"color: #008080; text-decoration-color: #008080; font-weight: bold\">1180</span> <span style=\"color: #0000ff; text-decoration-color: #0000ff\">loss</span>=<span style=\"color: #008080; text-decoration-color: #008080; font-weight: bold\">1.88628</span> <span style=\"color: #0000ff; text-decoration-color: #0000ff\">dt</span>=<span style=\"color: #008080; text-decoration-color: #008080; font-weight: bold\">0.381804</span> <span style=\"color: #0000ff; text-decoration-color: #0000ff\">dtf</span>=<span style=\"color: #008080; text-decoration-color: #008080; font-weight: bold\">0.00750252</span> <span style=\"color: #0000ff; text-decoration-color: #0000ff\">dtb</span>=<span style=\"color: #008080; text-decoration-color: #008080; font-weight: bold\">0.0100093</span> <span style=\"color: #0000ff; text-decoration-color: #0000ff\">sps</span>=<span style=\"color: #008080; text-decoration-color: #008080; font-weight: bold\">2.61914</span> <span style=\"color: #0000ff; text-decoration-color: #0000ff\">sps_per_gpu</span>=<span style=\"color: #008080; text-decoration-color: #008080; font-weight: bold\">2.61914</span> <span style=\"color: #0000ff; text-decoration-color: #0000ff\">tps</span>=<span style=\"color: #008080; text-decoration-color: #008080; font-weight: bold\">21456</span> <span style=\"color: #0000ff; text-decoration-color: #0000ff\">tps_per_gpu</span>=<span style=\"color: #008080; text-decoration-color: #008080; font-weight: bold\">21456</span> <span style=\"color: #0000ff; text-decoration-color: #0000ff\">mfu</span>=<span style=\"color: #008080; text-decoration-color: #008080; font-weight: bold\">0.632991</span>\n",
              "</pre>\n"
            ]
          },
          "metadata": {}
        },
        {
          "output_type": "display_data",
          "data": {
            "text/plain": [
              "[\u001b[2m2025-07-23 \u001b[0m\u001b[2m17:26:35,788827\u001b[0m][\u001b[32mI\u001b[0m][\u001b[3;36mwordplay\u001b[0m/\u001b[34mtrainer\u001b[0m\u001b[94m:\u001b[0m\u001b[35m894\u001b[0m]\u001b[37m \u001b[0m\u001b[94mstep\u001b[0m=\u001b[1;36m1190\u001b[0m \u001b[94mloss\u001b[0m=\u001b[1;36m1\u001b[0m\u001b[1;36m.91094\u001b[0m \u001b[94mdt\u001b[0m=\u001b[1;36m0\u001b[0m\u001b[1;36m.383424\u001b[0m \u001b[94mdtf\u001b[0m=\u001b[1;36m0\u001b[0m\u001b[1;36m.00741282\u001b[0m \u001b[94mdtb\u001b[0m=\u001b[1;36m0\u001b[0m\u001b[1;36m.0106785\u001b[0m \u001b[94msps\u001b[0m=\u001b[1;36m2\u001b[0m\u001b[1;36m.60808\u001b[0m \u001b[94msps_per_gpu\u001b[0m=\u001b[1;36m2\u001b[0m\u001b[1;36m.60808\u001b[0m \u001b[94mtps\u001b[0m=\u001b[1;36m21365\u001b[0m\u001b[1;36m.4\u001b[0m \u001b[94mtps_per_gpu\u001b[0m=\u001b[1;36m21365\u001b[0m\u001b[1;36m.4\u001b[0m \u001b[94mmfu\u001b[0m=\u001b[1;36m0\u001b[0m\u001b[1;36m.632824\u001b[0m\n"
            ],
            "text/html": [
              "<pre style=\"white-space:pre;overflow-x:auto;line-height:normal;font-family:Menlo,'DejaVu Sans Mono',consolas,'Courier New',monospace\">[<span style=\"color: #7f7f7f; text-decoration-color: #7f7f7f\">2025-07-23 17:26:35,788827</span>][<span style=\"color: #008000; text-decoration-color: #008000\">I</span>][<span style=\"color: #008080; text-decoration-color: #008080; font-style: italic\">wordplay</span>/<span style=\"color: #000080; text-decoration-color: #000080\">trainer</span><span style=\"color: #0000ff; text-decoration-color: #0000ff\">:</span><span style=\"color: #800080; text-decoration-color: #800080\">894</span>]<span style=\"color: #c0c0c0; text-decoration-color: #c0c0c0\"> </span><span style=\"color: #0000ff; text-decoration-color: #0000ff\">step</span>=<span style=\"color: #008080; text-decoration-color: #008080; font-weight: bold\">1190</span> <span style=\"color: #0000ff; text-decoration-color: #0000ff\">loss</span>=<span style=\"color: #008080; text-decoration-color: #008080; font-weight: bold\">1.91094</span> <span style=\"color: #0000ff; text-decoration-color: #0000ff\">dt</span>=<span style=\"color: #008080; text-decoration-color: #008080; font-weight: bold\">0.383424</span> <span style=\"color: #0000ff; text-decoration-color: #0000ff\">dtf</span>=<span style=\"color: #008080; text-decoration-color: #008080; font-weight: bold\">0.00741282</span> <span style=\"color: #0000ff; text-decoration-color: #0000ff\">dtb</span>=<span style=\"color: #008080; text-decoration-color: #008080; font-weight: bold\">0.0106785</span> <span style=\"color: #0000ff; text-decoration-color: #0000ff\">sps</span>=<span style=\"color: #008080; text-decoration-color: #008080; font-weight: bold\">2.60808</span> <span style=\"color: #0000ff; text-decoration-color: #0000ff\">sps_per_gpu</span>=<span style=\"color: #008080; text-decoration-color: #008080; font-weight: bold\">2.60808</span> <span style=\"color: #0000ff; text-decoration-color: #0000ff\">tps</span>=<span style=\"color: #008080; text-decoration-color: #008080; font-weight: bold\">21365.4</span> <span style=\"color: #0000ff; text-decoration-color: #0000ff\">tps_per_gpu</span>=<span style=\"color: #008080; text-decoration-color: #008080; font-weight: bold\">21365.4</span> <span style=\"color: #0000ff; text-decoration-color: #0000ff\">mfu</span>=<span style=\"color: #008080; text-decoration-color: #008080; font-weight: bold\">0.632824</span>\n",
              "</pre>\n"
            ]
          },
          "metadata": {}
        },
        {
          "output_type": "display_data",
          "data": {
            "text/plain": [
              "[\u001b[2m2025-07-23 \u001b[0m\u001b[2m17:26:39,625719\u001b[0m][\u001b[32mI\u001b[0m][\u001b[3;36mwordplay\u001b[0m/\u001b[34mtrainer\u001b[0m\u001b[94m:\u001b[0m\u001b[35m894\u001b[0m]\u001b[37m \u001b[0m\u001b[94mstep\u001b[0m=\u001b[1;36m1200\u001b[0m \u001b[94mloss\u001b[0m=\u001b[1;36m1\u001b[0m\u001b[1;36m.90239\u001b[0m \u001b[94mdt\u001b[0m=\u001b[1;36m0\u001b[0m\u001b[1;36m.388221\u001b[0m \u001b[94mdtf\u001b[0m=\u001b[1;36m0\u001b[0m\u001b[1;36m.015037\u001b[0m \u001b[94mdtb\u001b[0m=\u001b[1;36m0\u001b[0m\u001b[1;36m.01746\u001b[0m \u001b[94msps\u001b[0m=\u001b[1;36m2\u001b[0m\u001b[1;36m.57585\u001b[0m \u001b[94msps_per_gpu\u001b[0m=\u001b[1;36m2\u001b[0m\u001b[1;36m.57585\u001b[0m \u001b[94mtps\u001b[0m=\u001b[1;36m21101\u001b[0m\u001b[1;36m.4\u001b[0m \u001b[94mtps_per_gpu\u001b[0m=\u001b[1;36m21101\u001b[0m\u001b[1;36m.4\u001b[0m \u001b[94mmfu\u001b[0m=\u001b[1;36m0\u001b[0m\u001b[1;36m.631894\u001b[0m\n"
            ],
            "text/html": [
              "<pre style=\"white-space:pre;overflow-x:auto;line-height:normal;font-family:Menlo,'DejaVu Sans Mono',consolas,'Courier New',monospace\">[<span style=\"color: #7f7f7f; text-decoration-color: #7f7f7f\">2025-07-23 17:26:39,625719</span>][<span style=\"color: #008000; text-decoration-color: #008000\">I</span>][<span style=\"color: #008080; text-decoration-color: #008080; font-style: italic\">wordplay</span>/<span style=\"color: #000080; text-decoration-color: #000080\">trainer</span><span style=\"color: #0000ff; text-decoration-color: #0000ff\">:</span><span style=\"color: #800080; text-decoration-color: #800080\">894</span>]<span style=\"color: #c0c0c0; text-decoration-color: #c0c0c0\"> </span><span style=\"color: #0000ff; text-decoration-color: #0000ff\">step</span>=<span style=\"color: #008080; text-decoration-color: #008080; font-weight: bold\">1200</span> <span style=\"color: #0000ff; text-decoration-color: #0000ff\">loss</span>=<span style=\"color: #008080; text-decoration-color: #008080; font-weight: bold\">1.90239</span> <span style=\"color: #0000ff; text-decoration-color: #0000ff\">dt</span>=<span style=\"color: #008080; text-decoration-color: #008080; font-weight: bold\">0.388221</span> <span style=\"color: #0000ff; text-decoration-color: #0000ff\">dtf</span>=<span style=\"color: #008080; text-decoration-color: #008080; font-weight: bold\">0.015037</span> <span style=\"color: #0000ff; text-decoration-color: #0000ff\">dtb</span>=<span style=\"color: #008080; text-decoration-color: #008080; font-weight: bold\">0.01746</span> <span style=\"color: #0000ff; text-decoration-color: #0000ff\">sps</span>=<span style=\"color: #008080; text-decoration-color: #008080; font-weight: bold\">2.57585</span> <span style=\"color: #0000ff; text-decoration-color: #0000ff\">sps_per_gpu</span>=<span style=\"color: #008080; text-decoration-color: #008080; font-weight: bold\">2.57585</span> <span style=\"color: #0000ff; text-decoration-color: #0000ff\">tps</span>=<span style=\"color: #008080; text-decoration-color: #008080; font-weight: bold\">21101.4</span> <span style=\"color: #0000ff; text-decoration-color: #0000ff\">tps_per_gpu</span>=<span style=\"color: #008080; text-decoration-color: #008080; font-weight: bold\">21101.4</span> <span style=\"color: #0000ff; text-decoration-color: #0000ff\">mfu</span>=<span style=\"color: #008080; text-decoration-color: #008080; font-weight: bold\">0.631894</span>\n",
              "</pre>\n"
            ]
          },
          "metadata": {}
        },
        {
          "output_type": "display_data",
          "data": {
            "text/plain": [
              "[\u001b[2m2025-07-23 \u001b[0m\u001b[2m17:26:40,480918\u001b[0m][\u001b[32mI\u001b[0m][\u001b[3;36mwordplay\u001b[0m/\u001b[34mtrainer\u001b[0m\u001b[94m:\u001b[0m\u001b[35m827\u001b[0m]\u001b[37m \u001b[0m\u001b[95m[\u001b[0m\u001b[32m'prompt'\u001b[0m\u001b[95m]\u001b[0m: \u001b[32m'What is an LLM?'\u001b[0m\n"
            ],
            "text/html": [
              "<pre style=\"white-space:pre;overflow-x:auto;line-height:normal;font-family:Menlo,'DejaVu Sans Mono',consolas,'Courier New',monospace\">[<span style=\"color: #7f7f7f; text-decoration-color: #7f7f7f\">2025-07-23 17:26:40,480918</span>][<span style=\"color: #008000; text-decoration-color: #008000\">I</span>][<span style=\"color: #008080; text-decoration-color: #008080; font-style: italic\">wordplay</span>/<span style=\"color: #000080; text-decoration-color: #000080\">trainer</span><span style=\"color: #0000ff; text-decoration-color: #0000ff\">:</span><span style=\"color: #800080; text-decoration-color: #800080\">827</span>]<span style=\"color: #c0c0c0; text-decoration-color: #c0c0c0\"> </span><span style=\"color: #ff00ff; text-decoration-color: #ff00ff\">[</span><span style=\"color: #008000; text-decoration-color: #008000\">'prompt'</span><span style=\"color: #ff00ff; text-decoration-color: #ff00ff\">]</span>: <span style=\"color: #008000; text-decoration-color: #008000\">'What is an LLM?'</span>\n",
              "</pre>\n"
            ]
          },
          "metadata": {}
        },
        {
          "output_type": "display_data",
          "data": {
            "text/plain": [
              "[\u001b[2m2025-07-23 \u001b[0m\u001b[2m17:26:40,482683\u001b[0m][\u001b[32mI\u001b[0m][\u001b[3;36mwordplay\u001b[0m/\u001b[34mtrainer\u001b[0m\u001b[94m:\u001b[0m\u001b[35m831\u001b[0m]\u001b[37m \u001b[0m\u001b[95m[\u001b[0m\u001b[32m'response'\u001b[0m\u001b[95m]\u001b[0m:\n",
              "\n",
              "What is an LLM?\n",
              "\n",
              "LADY GLOUCESTES:\n",
              "And when there to my liker of mady the:\n",
              "It will the shall contre fature he\n",
              "the day thengery'd one died me meanty:\n",
              "Why, which ime dished your wind the oblod thus hemes,\n",
              "I the conte the caition, fortuse whiches faings,\n",
              "I her far will there\n"
            ],
            "text/html": [
              "<pre style=\"white-space:pre;overflow-x:auto;line-height:normal;font-family:Menlo,'DejaVu Sans Mono',consolas,'Courier New',monospace\">[<span style=\"color: #7f7f7f; text-decoration-color: #7f7f7f\">2025-07-23 17:26:40,482683</span>][<span style=\"color: #008000; text-decoration-color: #008000\">I</span>][<span style=\"color: #008080; text-decoration-color: #008080; font-style: italic\">wordplay</span>/<span style=\"color: #000080; text-decoration-color: #000080\">trainer</span><span style=\"color: #0000ff; text-decoration-color: #0000ff\">:</span><span style=\"color: #800080; text-decoration-color: #800080\">831</span>]<span style=\"color: #c0c0c0; text-decoration-color: #c0c0c0\"> </span><span style=\"color: #ff00ff; text-decoration-color: #ff00ff\">[</span><span style=\"color: #008000; text-decoration-color: #008000\">'response'</span><span style=\"color: #ff00ff; text-decoration-color: #ff00ff\">]</span>:\n",
              "\n",
              "What is an LLM?\n",
              "\n",
              "LADY GLOUCESTES:\n",
              "And when there to my liker of mady the:\n",
              "It will the shall contre fature he\n",
              "the day thengery'd one died me meanty:\n",
              "Why, which ime dished your wind the oblod thus hemes,\n",
              "I the conte the caition, fortuse whiches faings,\n",
              "I her far will there\n",
              "</pre>\n"
            ]
          },
          "metadata": {}
        },
        {
          "output_type": "display_data",
          "data": {
            "text/plain": [
              "[\u001b[2m2025-07-23 \u001b[0m\u001b[2m17:27:38,165528\u001b[0m][\u001b[32mI\u001b[0m][\u001b[3;36mwordplay\u001b[0m/\u001b[34mtrainer\u001b[0m\u001b[94m:\u001b[0m\u001b[35m762\u001b[0m]\u001b[37m \u001b[0mSaving checkpoint to: \u001b[35m/\u001b[0m\u001b[95mcontent\u001b[0m\n"
            ],
            "text/html": [
              "<pre style=\"white-space:pre;overflow-x:auto;line-height:normal;font-family:Menlo,'DejaVu Sans Mono',consolas,'Courier New',monospace\">[<span style=\"color: #7f7f7f; text-decoration-color: #7f7f7f\">2025-07-23 17:27:38,165528</span>][<span style=\"color: #008000; text-decoration-color: #008000\">I</span>][<span style=\"color: #008080; text-decoration-color: #008080; font-style: italic\">wordplay</span>/<span style=\"color: #000080; text-decoration-color: #000080\">trainer</span><span style=\"color: #0000ff; text-decoration-color: #0000ff\">:</span><span style=\"color: #800080; text-decoration-color: #800080\">762</span>]<span style=\"color: #c0c0c0; text-decoration-color: #c0c0c0\"> </span>Saving checkpoint to: <span style=\"color: #800080; text-decoration-color: #800080\">/</span><span style=\"color: #ff00ff; text-decoration-color: #ff00ff\">content</span>\n",
              "</pre>\n"
            ]
          },
          "metadata": {}
        },
        {
          "output_type": "display_data",
          "data": {
            "text/plain": [
              "[\u001b[2m2025-07-23 \u001b[0m\u001b[2m17:27:38,167913\u001b[0m][\u001b[32mI\u001b[0m][\u001b[3;36mwordplay\u001b[0m/\u001b[34mtrainer\u001b[0m\u001b[94m:\u001b[0m\u001b[35m763\u001b[0m]\u001b[37m \u001b[0mSaving model to: \u001b[35m/content/\u001b[0m\u001b[95mmodel.pth\u001b[0m\n"
            ],
            "text/html": [
              "<pre style=\"white-space:pre;overflow-x:auto;line-height:normal;font-family:Menlo,'DejaVu Sans Mono',consolas,'Courier New',monospace\">[<span style=\"color: #7f7f7f; text-decoration-color: #7f7f7f\">2025-07-23 17:27:38,167913</span>][<span style=\"color: #008000; text-decoration-color: #008000\">I</span>][<span style=\"color: #008080; text-decoration-color: #008080; font-style: italic\">wordplay</span>/<span style=\"color: #000080; text-decoration-color: #000080\">trainer</span><span style=\"color: #0000ff; text-decoration-color: #0000ff\">:</span><span style=\"color: #800080; text-decoration-color: #800080\">763</span>]<span style=\"color: #c0c0c0; text-decoration-color: #c0c0c0\"> </span>Saving model to: <span style=\"color: #800080; text-decoration-color: #800080\">/content/</span><span style=\"color: #ff00ff; text-decoration-color: #ff00ff\">model.pth</span>\n",
              "</pre>\n"
            ]
          },
          "metadata": {}
        },
        {
          "output_type": "display_data",
          "data": {
            "text/plain": [
              "[\u001b[2m2025-07-23 \u001b[0m\u001b[2m17:27:38,675275\u001b[0m][\u001b[32mI\u001b[0m][\u001b[3;36mwordplay\u001b[0m/\u001b[34mconfigs\u001b[0m\u001b[94m:\u001b[0m\u001b[35m141\u001b[0m]\u001b[37m \u001b[0mAppending \u001b[35m/\u001b[0m\u001b[95mcontent\u001b[0m to \u001b[35m/content/wordplay/src/ckpts/\u001b[0m\u001b[95mcheckpoints.log\u001b[0m\n"
            ],
            "text/html": [
              "<pre style=\"white-space:pre;overflow-x:auto;line-height:normal;font-family:Menlo,'DejaVu Sans Mono',consolas,'Courier New',monospace\">[<span style=\"color: #7f7f7f; text-decoration-color: #7f7f7f\">2025-07-23 17:27:38,675275</span>][<span style=\"color: #008000; text-decoration-color: #008000\">I</span>][<span style=\"color: #008080; text-decoration-color: #008080; font-style: italic\">wordplay</span>/<span style=\"color: #000080; text-decoration-color: #000080\">configs</span><span style=\"color: #0000ff; text-decoration-color: #0000ff\">:</span><span style=\"color: #800080; text-decoration-color: #800080\">141</span>]<span style=\"color: #c0c0c0; text-decoration-color: #c0c0c0\"> </span>Appending <span style=\"color: #800080; text-decoration-color: #800080\">/</span><span style=\"color: #ff00ff; text-decoration-color: #ff00ff\">content</span> to <span style=\"color: #800080; text-decoration-color: #800080\">/content/wordplay/src/ckpts/</span><span style=\"color: #ff00ff; text-decoration-color: #ff00ff\">checkpoints.log</span>\n",
              "</pre>\n"
            ]
          },
          "metadata": {}
        },
        {
          "output_type": "display_data",
          "data": {
            "text/plain": [
              "[\u001b[2m2025-07-23 \u001b[0m\u001b[2m17:27:42,506973\u001b[0m][\u001b[32mI\u001b[0m][\u001b[3;36mwordplay\u001b[0m/\u001b[34mtrainer\u001b[0m\u001b[94m:\u001b[0m\u001b[35m894\u001b[0m]\u001b[37m \u001b[0m\u001b[94mstep\u001b[0m=\u001b[1;36m1210\u001b[0m \u001b[94mloss\u001b[0m=\u001b[1;36m1\u001b[0m\u001b[1;36m.83644\u001b[0m \u001b[94mdt\u001b[0m=\u001b[1;36m0\u001b[0m\u001b[1;36m.379808\u001b[0m \u001b[94mdtf\u001b[0m=\u001b[1;36m0\u001b[0m\u001b[1;36m.00813016\u001b[0m \u001b[94mdtb\u001b[0m=\u001b[1;36m0\u001b[0m\u001b[1;36m.0106532\u001b[0m \u001b[94msps\u001b[0m=\u001b[1;36m2\u001b[0m\u001b[1;36m.63291\u001b[0m \u001b[94msps_per_gpu\u001b[0m=\u001b[1;36m2\u001b[0m\u001b[1;36m.63291\u001b[0m \u001b[94mtps\u001b[0m=\u001b[1;36m21568\u001b[0m\u001b[1;36m.8\u001b[0m \u001b[94mtps_per_gpu\u001b[0m=\u001b[1;36m21568\u001b[0m\u001b[1;36m.8\u001b[0m \u001b[94mmfu\u001b[0m=\u001b[1;36m0\u001b[0m\u001b[1;36m.632438\u001b[0m\n"
            ],
            "text/html": [
              "<pre style=\"white-space:pre;overflow-x:auto;line-height:normal;font-family:Menlo,'DejaVu Sans Mono',consolas,'Courier New',monospace\">[<span style=\"color: #7f7f7f; text-decoration-color: #7f7f7f\">2025-07-23 17:27:42,506973</span>][<span style=\"color: #008000; text-decoration-color: #008000\">I</span>][<span style=\"color: #008080; text-decoration-color: #008080; font-style: italic\">wordplay</span>/<span style=\"color: #000080; text-decoration-color: #000080\">trainer</span><span style=\"color: #0000ff; text-decoration-color: #0000ff\">:</span><span style=\"color: #800080; text-decoration-color: #800080\">894</span>]<span style=\"color: #c0c0c0; text-decoration-color: #c0c0c0\"> </span><span style=\"color: #0000ff; text-decoration-color: #0000ff\">step</span>=<span style=\"color: #008080; text-decoration-color: #008080; font-weight: bold\">1210</span> <span style=\"color: #0000ff; text-decoration-color: #0000ff\">loss</span>=<span style=\"color: #008080; text-decoration-color: #008080; font-weight: bold\">1.83644</span> <span style=\"color: #0000ff; text-decoration-color: #0000ff\">dt</span>=<span style=\"color: #008080; text-decoration-color: #008080; font-weight: bold\">0.379808</span> <span style=\"color: #0000ff; text-decoration-color: #0000ff\">dtf</span>=<span style=\"color: #008080; text-decoration-color: #008080; font-weight: bold\">0.00813016</span> <span style=\"color: #0000ff; text-decoration-color: #0000ff\">dtb</span>=<span style=\"color: #008080; text-decoration-color: #008080; font-weight: bold\">0.0106532</span> <span style=\"color: #0000ff; text-decoration-color: #0000ff\">sps</span>=<span style=\"color: #008080; text-decoration-color: #008080; font-weight: bold\">2.63291</span> <span style=\"color: #0000ff; text-decoration-color: #0000ff\">sps_per_gpu</span>=<span style=\"color: #008080; text-decoration-color: #008080; font-weight: bold\">2.63291</span> <span style=\"color: #0000ff; text-decoration-color: #0000ff\">tps</span>=<span style=\"color: #008080; text-decoration-color: #008080; font-weight: bold\">21568.8</span> <span style=\"color: #0000ff; text-decoration-color: #0000ff\">tps_per_gpu</span>=<span style=\"color: #008080; text-decoration-color: #008080; font-weight: bold\">21568.8</span> <span style=\"color: #0000ff; text-decoration-color: #0000ff\">mfu</span>=<span style=\"color: #008080; text-decoration-color: #008080; font-weight: bold\">0.632438</span>\n",
              "</pre>\n"
            ]
          },
          "metadata": {}
        },
        {
          "output_type": "display_data",
          "data": {
            "text/plain": [
              "[\u001b[2m2025-07-23 \u001b[0m\u001b[2m17:27:46,341248\u001b[0m][\u001b[32mI\u001b[0m][\u001b[3;36mwordplay\u001b[0m/\u001b[34mtrainer\u001b[0m\u001b[94m:\u001b[0m\u001b[35m894\u001b[0m]\u001b[37m \u001b[0m\u001b[94mstep\u001b[0m=\u001b[1;36m1220\u001b[0m \u001b[94mloss\u001b[0m=\u001b[1;36m1\u001b[0m\u001b[1;36m.85\u001b[0m \u001b[94mdt\u001b[0m=\u001b[1;36m0\u001b[0m\u001b[1;36m.384616\u001b[0m \u001b[94mdtf\u001b[0m=\u001b[1;36m0\u001b[0m\u001b[1;36m.00783149\u001b[0m \u001b[94mdtb\u001b[0m=\u001b[1;36m0\u001b[0m\u001b[1;36m.0105751\u001b[0m \u001b[94msps\u001b[0m=\u001b[1;36m2\u001b[0m\u001b[1;36m.6\u001b[0m  \u001b[94msps_per_gpu\u001b[0m=\u001b[1;36m2\u001b[0m\u001b[1;36m.6\u001b[0m  \u001b[94mtps\u001b[0m=\u001b[1;36m21299\u001b[0m\u001b[1;36m.2\u001b[0m \u001b[94mtps_per_gpu\u001b[0m=\u001b[1;36m21299\u001b[0m\u001b[1;36m.2\u001b[0m \u001b[94mmfu\u001b[0m=\u001b[1;36m0\u001b[0m\u001b[1;36m.63213\u001b[0m\n"
            ],
            "text/html": [
              "<pre style=\"white-space:pre;overflow-x:auto;line-height:normal;font-family:Menlo,'DejaVu Sans Mono',consolas,'Courier New',monospace\">[<span style=\"color: #7f7f7f; text-decoration-color: #7f7f7f\">2025-07-23 17:27:46,341248</span>][<span style=\"color: #008000; text-decoration-color: #008000\">I</span>][<span style=\"color: #008080; text-decoration-color: #008080; font-style: italic\">wordplay</span>/<span style=\"color: #000080; text-decoration-color: #000080\">trainer</span><span style=\"color: #0000ff; text-decoration-color: #0000ff\">:</span><span style=\"color: #800080; text-decoration-color: #800080\">894</span>]<span style=\"color: #c0c0c0; text-decoration-color: #c0c0c0\"> </span><span style=\"color: #0000ff; text-decoration-color: #0000ff\">step</span>=<span style=\"color: #008080; text-decoration-color: #008080; font-weight: bold\">1220</span> <span style=\"color: #0000ff; text-decoration-color: #0000ff\">loss</span>=<span style=\"color: #008080; text-decoration-color: #008080; font-weight: bold\">1.85</span> <span style=\"color: #0000ff; text-decoration-color: #0000ff\">dt</span>=<span style=\"color: #008080; text-decoration-color: #008080; font-weight: bold\">0.384616</span> <span style=\"color: #0000ff; text-decoration-color: #0000ff\">dtf</span>=<span style=\"color: #008080; text-decoration-color: #008080; font-weight: bold\">0.00783149</span> <span style=\"color: #0000ff; text-decoration-color: #0000ff\">dtb</span>=<span style=\"color: #008080; text-decoration-color: #008080; font-weight: bold\">0.0105751</span> <span style=\"color: #0000ff; text-decoration-color: #0000ff\">sps</span>=<span style=\"color: #008080; text-decoration-color: #008080; font-weight: bold\">2.6</span>  <span style=\"color: #0000ff; text-decoration-color: #0000ff\">sps_per_gpu</span>=<span style=\"color: #008080; text-decoration-color: #008080; font-weight: bold\">2.6</span>  <span style=\"color: #0000ff; text-decoration-color: #0000ff\">tps</span>=<span style=\"color: #008080; text-decoration-color: #008080; font-weight: bold\">21299.2</span> <span style=\"color: #0000ff; text-decoration-color: #0000ff\">tps_per_gpu</span>=<span style=\"color: #008080; text-decoration-color: #008080; font-weight: bold\">21299.2</span> <span style=\"color: #0000ff; text-decoration-color: #0000ff\">mfu</span>=<span style=\"color: #008080; text-decoration-color: #008080; font-weight: bold\">0.63213</span>\n",
              "</pre>\n"
            ]
          },
          "metadata": {}
        },
        {
          "output_type": "display_data",
          "data": {
            "text/plain": [
              "[\u001b[2m2025-07-23 \u001b[0m\u001b[2m17:27:50,174132\u001b[0m][\u001b[32mI\u001b[0m][\u001b[3;36mwordplay\u001b[0m/\u001b[34mtrainer\u001b[0m\u001b[94m:\u001b[0m\u001b[35m894\u001b[0m]\u001b[37m \u001b[0m\u001b[94mstep\u001b[0m=\u001b[1;36m1230\u001b[0m \u001b[94mloss\u001b[0m=\u001b[1;36m1\u001b[0m\u001b[1;36m.85794\u001b[0m \u001b[94mdt\u001b[0m=\u001b[1;36m0\u001b[0m\u001b[1;36m.384468\u001b[0m \u001b[94mdtf\u001b[0m=\u001b[1;36m0\u001b[0m\u001b[1;36m.00796023\u001b[0m \u001b[94mdtb\u001b[0m=\u001b[1;36m0\u001b[0m\u001b[1;36m.0101979\u001b[0m \u001b[94msps\u001b[0m=\u001b[1;36m2\u001b[0m\u001b[1;36m.60099\u001b[0m \u001b[94msps_per_gpu\u001b[0m=\u001b[1;36m2\u001b[0m\u001b[1;36m.60099\u001b[0m \u001b[94mtps\u001b[0m=\u001b[1;36m21307\u001b[0m\u001b[1;36m.3\u001b[0m \u001b[94mtps_per_gpu\u001b[0m=\u001b[1;36m21307\u001b[0m\u001b[1;36m.3\u001b[0m \u001b[94mmfu\u001b[0m=\u001b[1;36m0\u001b[0m\u001b[1;36m.631878\u001b[0m\n"
            ],
            "text/html": [
              "<pre style=\"white-space:pre;overflow-x:auto;line-height:normal;font-family:Menlo,'DejaVu Sans Mono',consolas,'Courier New',monospace\">[<span style=\"color: #7f7f7f; text-decoration-color: #7f7f7f\">2025-07-23 17:27:50,174132</span>][<span style=\"color: #008000; text-decoration-color: #008000\">I</span>][<span style=\"color: #008080; text-decoration-color: #008080; font-style: italic\">wordplay</span>/<span style=\"color: #000080; text-decoration-color: #000080\">trainer</span><span style=\"color: #0000ff; text-decoration-color: #0000ff\">:</span><span style=\"color: #800080; text-decoration-color: #800080\">894</span>]<span style=\"color: #c0c0c0; text-decoration-color: #c0c0c0\"> </span><span style=\"color: #0000ff; text-decoration-color: #0000ff\">step</span>=<span style=\"color: #008080; text-decoration-color: #008080; font-weight: bold\">1230</span> <span style=\"color: #0000ff; text-decoration-color: #0000ff\">loss</span>=<span style=\"color: #008080; text-decoration-color: #008080; font-weight: bold\">1.85794</span> <span style=\"color: #0000ff; text-decoration-color: #0000ff\">dt</span>=<span style=\"color: #008080; text-decoration-color: #008080; font-weight: bold\">0.384468</span> <span style=\"color: #0000ff; text-decoration-color: #0000ff\">dtf</span>=<span style=\"color: #008080; text-decoration-color: #008080; font-weight: bold\">0.00796023</span> <span style=\"color: #0000ff; text-decoration-color: #0000ff\">dtb</span>=<span style=\"color: #008080; text-decoration-color: #008080; font-weight: bold\">0.0101979</span> <span style=\"color: #0000ff; text-decoration-color: #0000ff\">sps</span>=<span style=\"color: #008080; text-decoration-color: #008080; font-weight: bold\">2.60099</span> <span style=\"color: #0000ff; text-decoration-color: #0000ff\">sps_per_gpu</span>=<span style=\"color: #008080; text-decoration-color: #008080; font-weight: bold\">2.60099</span> <span style=\"color: #0000ff; text-decoration-color: #0000ff\">tps</span>=<span style=\"color: #008080; text-decoration-color: #008080; font-weight: bold\">21307.3</span> <span style=\"color: #0000ff; text-decoration-color: #0000ff\">tps_per_gpu</span>=<span style=\"color: #008080; text-decoration-color: #008080; font-weight: bold\">21307.3</span> <span style=\"color: #0000ff; text-decoration-color: #0000ff\">mfu</span>=<span style=\"color: #008080; text-decoration-color: #008080; font-weight: bold\">0.631878</span>\n",
              "</pre>\n"
            ]
          },
          "metadata": {}
        },
        {
          "output_type": "display_data",
          "data": {
            "text/plain": [
              "[\u001b[2m2025-07-23 \u001b[0m\u001b[2m17:27:53,996352\u001b[0m][\u001b[32mI\u001b[0m][\u001b[3;36mwordplay\u001b[0m/\u001b[34mtrainer\u001b[0m\u001b[94m:\u001b[0m\u001b[35m894\u001b[0m]\u001b[37m \u001b[0m\u001b[94mstep\u001b[0m=\u001b[1;36m1240\u001b[0m \u001b[94mloss\u001b[0m=\u001b[1;36m1\u001b[0m\u001b[1;36m.86443\u001b[0m \u001b[94mdt\u001b[0m=\u001b[1;36m0\u001b[0m\u001b[1;36m.381407\u001b[0m \u001b[94mdtf\u001b[0m=\u001b[1;36m0\u001b[0m\u001b[1;36m.00777995\u001b[0m \u001b[94mdtb\u001b[0m=\u001b[1;36m0\u001b[0m\u001b[1;36m.00996514\u001b[0m \u001b[94msps\u001b[0m=\u001b[1;36m2\u001b[0m\u001b[1;36m.62187\u001b[0m \u001b[94msps_per_gpu\u001b[0m=\u001b[1;36m2\u001b[0m\u001b[1;36m.62187\u001b[0m \u001b[94mtps\u001b[0m=\u001b[1;36m21478\u001b[0m\u001b[1;36m.3\u001b[0m \u001b[94mtps_per_gpu\u001b[0m=\u001b[1;36m21478\u001b[0m\u001b[1;36m.3\u001b[0m \u001b[94mmfu\u001b[0m=\u001b[1;36m0\u001b[0m\u001b[1;36m.632156\u001b[0m\n"
            ],
            "text/html": [
              "<pre style=\"white-space:pre;overflow-x:auto;line-height:normal;font-family:Menlo,'DejaVu Sans Mono',consolas,'Courier New',monospace\">[<span style=\"color: #7f7f7f; text-decoration-color: #7f7f7f\">2025-07-23 17:27:53,996352</span>][<span style=\"color: #008000; text-decoration-color: #008000\">I</span>][<span style=\"color: #008080; text-decoration-color: #008080; font-style: italic\">wordplay</span>/<span style=\"color: #000080; text-decoration-color: #000080\">trainer</span><span style=\"color: #0000ff; text-decoration-color: #0000ff\">:</span><span style=\"color: #800080; text-decoration-color: #800080\">894</span>]<span style=\"color: #c0c0c0; text-decoration-color: #c0c0c0\"> </span><span style=\"color: #0000ff; text-decoration-color: #0000ff\">step</span>=<span style=\"color: #008080; text-decoration-color: #008080; font-weight: bold\">1240</span> <span style=\"color: #0000ff; text-decoration-color: #0000ff\">loss</span>=<span style=\"color: #008080; text-decoration-color: #008080; font-weight: bold\">1.86443</span> <span style=\"color: #0000ff; text-decoration-color: #0000ff\">dt</span>=<span style=\"color: #008080; text-decoration-color: #008080; font-weight: bold\">0.381407</span> <span style=\"color: #0000ff; text-decoration-color: #0000ff\">dtf</span>=<span style=\"color: #008080; text-decoration-color: #008080; font-weight: bold\">0.00777995</span> <span style=\"color: #0000ff; text-decoration-color: #0000ff\">dtb</span>=<span style=\"color: #008080; text-decoration-color: #008080; font-weight: bold\">0.00996514</span> <span style=\"color: #0000ff; text-decoration-color: #0000ff\">sps</span>=<span style=\"color: #008080; text-decoration-color: #008080; font-weight: bold\">2.62187</span> <span style=\"color: #0000ff; text-decoration-color: #0000ff\">sps_per_gpu</span>=<span style=\"color: #008080; text-decoration-color: #008080; font-weight: bold\">2.62187</span> <span style=\"color: #0000ff; text-decoration-color: #0000ff\">tps</span>=<span style=\"color: #008080; text-decoration-color: #008080; font-weight: bold\">21478.3</span> <span style=\"color: #0000ff; text-decoration-color: #0000ff\">tps_per_gpu</span>=<span style=\"color: #008080; text-decoration-color: #008080; font-weight: bold\">21478.3</span> <span style=\"color: #0000ff; text-decoration-color: #0000ff\">mfu</span>=<span style=\"color: #008080; text-decoration-color: #008080; font-weight: bold\">0.632156</span>\n",
              "</pre>\n"
            ]
          },
          "metadata": {}
        },
        {
          "output_type": "display_data",
          "data": {
            "text/plain": [
              "[\u001b[2m2025-07-23 \u001b[0m\u001b[2m17:27:57,829111\u001b[0m][\u001b[32mI\u001b[0m][\u001b[3;36mwordplay\u001b[0m/\u001b[34mtrainer\u001b[0m\u001b[94m:\u001b[0m\u001b[35m894\u001b[0m]\u001b[37m \u001b[0m\u001b[94mstep\u001b[0m=\u001b[1;36m1250\u001b[0m \u001b[94mloss\u001b[0m=\u001b[1;36m1\u001b[0m\u001b[1;36m.76382\u001b[0m \u001b[94mdt\u001b[0m=\u001b[1;36m0\u001b[0m\u001b[1;36m.382476\u001b[0m \u001b[94mdtf\u001b[0m=\u001b[1;36m0\u001b[0m\u001b[1;36m.00785835\u001b[0m \u001b[94mdtb\u001b[0m=\u001b[1;36m0\u001b[0m\u001b[1;36m.0100383\u001b[0m \u001b[94msps\u001b[0m=\u001b[1;36m2\u001b[0m\u001b[1;36m.61454\u001b[0m \u001b[94msps_per_gpu\u001b[0m=\u001b[1;36m2\u001b[0m\u001b[1;36m.61454\u001b[0m \u001b[94mtps\u001b[0m=\u001b[1;36m21418\u001b[0m\u001b[1;36m.3\u001b[0m \u001b[94mtps_per_gpu\u001b[0m=\u001b[1;36m21418\u001b[0m\u001b[1;36m.3\u001b[0m \u001b[94mmfu\u001b[0m=\u001b[1;36m0\u001b[0m\u001b[1;36m.632229\u001b[0m\n"
            ],
            "text/html": [
              "<pre style=\"white-space:pre;overflow-x:auto;line-height:normal;font-family:Menlo,'DejaVu Sans Mono',consolas,'Courier New',monospace\">[<span style=\"color: #7f7f7f; text-decoration-color: #7f7f7f\">2025-07-23 17:27:57,829111</span>][<span style=\"color: #008000; text-decoration-color: #008000\">I</span>][<span style=\"color: #008080; text-decoration-color: #008080; font-style: italic\">wordplay</span>/<span style=\"color: #000080; text-decoration-color: #000080\">trainer</span><span style=\"color: #0000ff; text-decoration-color: #0000ff\">:</span><span style=\"color: #800080; text-decoration-color: #800080\">894</span>]<span style=\"color: #c0c0c0; text-decoration-color: #c0c0c0\"> </span><span style=\"color: #0000ff; text-decoration-color: #0000ff\">step</span>=<span style=\"color: #008080; text-decoration-color: #008080; font-weight: bold\">1250</span> <span style=\"color: #0000ff; text-decoration-color: #0000ff\">loss</span>=<span style=\"color: #008080; text-decoration-color: #008080; font-weight: bold\">1.76382</span> <span style=\"color: #0000ff; text-decoration-color: #0000ff\">dt</span>=<span style=\"color: #008080; text-decoration-color: #008080; font-weight: bold\">0.382476</span> <span style=\"color: #0000ff; text-decoration-color: #0000ff\">dtf</span>=<span style=\"color: #008080; text-decoration-color: #008080; font-weight: bold\">0.00785835</span> <span style=\"color: #0000ff; text-decoration-color: #0000ff\">dtb</span>=<span style=\"color: #008080; text-decoration-color: #008080; font-weight: bold\">0.0100383</span> <span style=\"color: #0000ff; text-decoration-color: #0000ff\">sps</span>=<span style=\"color: #008080; text-decoration-color: #008080; font-weight: bold\">2.61454</span> <span style=\"color: #0000ff; text-decoration-color: #0000ff\">sps_per_gpu</span>=<span style=\"color: #008080; text-decoration-color: #008080; font-weight: bold\">2.61454</span> <span style=\"color: #0000ff; text-decoration-color: #0000ff\">tps</span>=<span style=\"color: #008080; text-decoration-color: #008080; font-weight: bold\">21418.3</span> <span style=\"color: #0000ff; text-decoration-color: #0000ff\">tps_per_gpu</span>=<span style=\"color: #008080; text-decoration-color: #008080; font-weight: bold\">21418.3</span> <span style=\"color: #0000ff; text-decoration-color: #0000ff\">mfu</span>=<span style=\"color: #008080; text-decoration-color: #008080; font-weight: bold\">0.632229</span>\n",
              "</pre>\n"
            ]
          },
          "metadata": {}
        },
        {
          "output_type": "display_data",
          "data": {
            "text/plain": [
              "[\u001b[2m2025-07-23 \u001b[0m\u001b[2m17:28:01,663291\u001b[0m][\u001b[32mI\u001b[0m][\u001b[3;36mwordplay\u001b[0m/\u001b[34mtrainer\u001b[0m\u001b[94m:\u001b[0m\u001b[35m894\u001b[0m]\u001b[37m \u001b[0m\u001b[94mstep\u001b[0m=\u001b[1;36m1260\u001b[0m \u001b[94mloss\u001b[0m=\u001b[1;36m1\u001b[0m\u001b[1;36m.74205\u001b[0m \u001b[94mdt\u001b[0m=\u001b[1;36m0\u001b[0m\u001b[1;36m.385531\u001b[0m \u001b[94mdtf\u001b[0m=\u001b[1;36m0\u001b[0m\u001b[1;36m.00776372\u001b[0m \u001b[94mdtb\u001b[0m=\u001b[1;36m0\u001b[0m\u001b[1;36m.0138436\u001b[0m \u001b[94msps\u001b[0m=\u001b[1;36m2\u001b[0m\u001b[1;36m.59382\u001b[0m \u001b[94msps_per_gpu\u001b[0m=\u001b[1;36m2\u001b[0m\u001b[1;36m.59382\u001b[0m \u001b[94mtps\u001b[0m=\u001b[1;36m21248\u001b[0m\u001b[1;36m.6\u001b[0m \u001b[94mtps_per_gpu\u001b[0m=\u001b[1;36m21248\u001b[0m\u001b[1;36m.6\u001b[0m \u001b[94mmfu\u001b[0m=\u001b[1;36m0\u001b[0m\u001b[1;36m.631793\u001b[0m\n"
            ],
            "text/html": [
              "<pre style=\"white-space:pre;overflow-x:auto;line-height:normal;font-family:Menlo,'DejaVu Sans Mono',consolas,'Courier New',monospace\">[<span style=\"color: #7f7f7f; text-decoration-color: #7f7f7f\">2025-07-23 17:28:01,663291</span>][<span style=\"color: #008000; text-decoration-color: #008000\">I</span>][<span style=\"color: #008080; text-decoration-color: #008080; font-style: italic\">wordplay</span>/<span style=\"color: #000080; text-decoration-color: #000080\">trainer</span><span style=\"color: #0000ff; text-decoration-color: #0000ff\">:</span><span style=\"color: #800080; text-decoration-color: #800080\">894</span>]<span style=\"color: #c0c0c0; text-decoration-color: #c0c0c0\"> </span><span style=\"color: #0000ff; text-decoration-color: #0000ff\">step</span>=<span style=\"color: #008080; text-decoration-color: #008080; font-weight: bold\">1260</span> <span style=\"color: #0000ff; text-decoration-color: #0000ff\">loss</span>=<span style=\"color: #008080; text-decoration-color: #008080; font-weight: bold\">1.74205</span> <span style=\"color: #0000ff; text-decoration-color: #0000ff\">dt</span>=<span style=\"color: #008080; text-decoration-color: #008080; font-weight: bold\">0.385531</span> <span style=\"color: #0000ff; text-decoration-color: #0000ff\">dtf</span>=<span style=\"color: #008080; text-decoration-color: #008080; font-weight: bold\">0.00776372</span> <span style=\"color: #0000ff; text-decoration-color: #0000ff\">dtb</span>=<span style=\"color: #008080; text-decoration-color: #008080; font-weight: bold\">0.0138436</span> <span style=\"color: #0000ff; text-decoration-color: #0000ff\">sps</span>=<span style=\"color: #008080; text-decoration-color: #008080; font-weight: bold\">2.59382</span> <span style=\"color: #0000ff; text-decoration-color: #0000ff\">sps_per_gpu</span>=<span style=\"color: #008080; text-decoration-color: #008080; font-weight: bold\">2.59382</span> <span style=\"color: #0000ff; text-decoration-color: #0000ff\">tps</span>=<span style=\"color: #008080; text-decoration-color: #008080; font-weight: bold\">21248.6</span> <span style=\"color: #0000ff; text-decoration-color: #0000ff\">tps_per_gpu</span>=<span style=\"color: #008080; text-decoration-color: #008080; font-weight: bold\">21248.6</span> <span style=\"color: #0000ff; text-decoration-color: #0000ff\">mfu</span>=<span style=\"color: #008080; text-decoration-color: #008080; font-weight: bold\">0.631793</span>\n",
              "</pre>\n"
            ]
          },
          "metadata": {}
        },
        {
          "output_type": "display_data",
          "data": {
            "text/plain": [
              "[\u001b[2m2025-07-23 \u001b[0m\u001b[2m17:28:05,497559\u001b[0m][\u001b[32mI\u001b[0m][\u001b[3;36mwordplay\u001b[0m/\u001b[34mtrainer\u001b[0m\u001b[94m:\u001b[0m\u001b[35m894\u001b[0m]\u001b[37m \u001b[0m\u001b[94mstep\u001b[0m=\u001b[1;36m1270\u001b[0m \u001b[94mloss\u001b[0m=\u001b[1;36m1\u001b[0m\u001b[1;36m.86381\u001b[0m \u001b[94mdt\u001b[0m=\u001b[1;36m0\u001b[0m\u001b[1;36m.395746\u001b[0m \u001b[94mdtf\u001b[0m=\u001b[1;36m0\u001b[0m\u001b[1;36m.0125432\u001b[0m \u001b[94mdtb\u001b[0m=\u001b[1;36m0\u001b[0m\u001b[1;36m.0178912\u001b[0m \u001b[94msps\u001b[0m=\u001b[1;36m2\u001b[0m\u001b[1;36m.52688\u001b[0m \u001b[94msps_per_gpu\u001b[0m=\u001b[1;36m2\u001b[0m\u001b[1;36m.52688\u001b[0m \u001b[94mtps\u001b[0m=\u001b[1;36m20700\u001b[0m\u001b[1;36m.2\u001b[0m \u001b[94mtps_per_gpu\u001b[0m=\u001b[1;36m20700\u001b[0m\u001b[1;36m.2\u001b[0m \u001b[94mmfu\u001b[0m=\u001b[1;36m0\u001b[0m\u001b[1;36m.62978\u001b[0m\n"
            ],
            "text/html": [
              "<pre style=\"white-space:pre;overflow-x:auto;line-height:normal;font-family:Menlo,'DejaVu Sans Mono',consolas,'Courier New',monospace\">[<span style=\"color: #7f7f7f; text-decoration-color: #7f7f7f\">2025-07-23 17:28:05,497559</span>][<span style=\"color: #008000; text-decoration-color: #008000\">I</span>][<span style=\"color: #008080; text-decoration-color: #008080; font-style: italic\">wordplay</span>/<span style=\"color: #000080; text-decoration-color: #000080\">trainer</span><span style=\"color: #0000ff; text-decoration-color: #0000ff\">:</span><span style=\"color: #800080; text-decoration-color: #800080\">894</span>]<span style=\"color: #c0c0c0; text-decoration-color: #c0c0c0\"> </span><span style=\"color: #0000ff; text-decoration-color: #0000ff\">step</span>=<span style=\"color: #008080; text-decoration-color: #008080; font-weight: bold\">1270</span> <span style=\"color: #0000ff; text-decoration-color: #0000ff\">loss</span>=<span style=\"color: #008080; text-decoration-color: #008080; font-weight: bold\">1.86381</span> <span style=\"color: #0000ff; text-decoration-color: #0000ff\">dt</span>=<span style=\"color: #008080; text-decoration-color: #008080; font-weight: bold\">0.395746</span> <span style=\"color: #0000ff; text-decoration-color: #0000ff\">dtf</span>=<span style=\"color: #008080; text-decoration-color: #008080; font-weight: bold\">0.0125432</span> <span style=\"color: #0000ff; text-decoration-color: #0000ff\">dtb</span>=<span style=\"color: #008080; text-decoration-color: #008080; font-weight: bold\">0.0178912</span> <span style=\"color: #0000ff; text-decoration-color: #0000ff\">sps</span>=<span style=\"color: #008080; text-decoration-color: #008080; font-weight: bold\">2.52688</span> <span style=\"color: #0000ff; text-decoration-color: #0000ff\">sps_per_gpu</span>=<span style=\"color: #008080; text-decoration-color: #008080; font-weight: bold\">2.52688</span> <span style=\"color: #0000ff; text-decoration-color: #0000ff\">tps</span>=<span style=\"color: #008080; text-decoration-color: #008080; font-weight: bold\">20700.2</span> <span style=\"color: #0000ff; text-decoration-color: #0000ff\">tps_per_gpu</span>=<span style=\"color: #008080; text-decoration-color: #008080; font-weight: bold\">20700.2</span> <span style=\"color: #0000ff; text-decoration-color: #0000ff\">mfu</span>=<span style=\"color: #008080; text-decoration-color: #008080; font-weight: bold\">0.62978</span>\n",
              "</pre>\n"
            ]
          },
          "metadata": {}
        },
        {
          "output_type": "display_data",
          "data": {
            "text/plain": [
              "[\u001b[2m2025-07-23 \u001b[0m\u001b[2m17:28:09,331924\u001b[0m][\u001b[32mI\u001b[0m][\u001b[3;36mwordplay\u001b[0m/\u001b[34mtrainer\u001b[0m\u001b[94m:\u001b[0m\u001b[35m894\u001b[0m]\u001b[37m \u001b[0m\u001b[94mstep\u001b[0m=\u001b[1;36m1280\u001b[0m \u001b[94mloss\u001b[0m=\u001b[1;36m1\u001b[0m\u001b[1;36m.85107\u001b[0m \u001b[94mdt\u001b[0m=\u001b[1;36m0\u001b[0m\u001b[1;36m.382921\u001b[0m \u001b[94mdtf\u001b[0m=\u001b[1;36m0\u001b[0m\u001b[1;36m.0081101\u001b[0m \u001b[94mdtb\u001b[0m=\u001b[1;36m0\u001b[0m\u001b[1;36m.00997405\u001b[0m \u001b[94msps\u001b[0m=\u001b[1;36m2\u001b[0m\u001b[1;36m.61151\u001b[0m \u001b[94msps_per_gpu\u001b[0m=\u001b[1;36m2\u001b[0m\u001b[1;36m.61151\u001b[0m \u001b[94mtps\u001b[0m=\u001b[1;36m21393\u001b[0m\u001b[1;36m.5\u001b[0m \u001b[94mtps_per_gpu\u001b[0m=\u001b[1;36m21393\u001b[0m\u001b[1;36m.5\u001b[0m \u001b[94mmfu\u001b[0m=\u001b[1;36m0\u001b[0m\u001b[1;36m.630017\u001b[0m\n"
            ],
            "text/html": [
              "<pre style=\"white-space:pre;overflow-x:auto;line-height:normal;font-family:Menlo,'DejaVu Sans Mono',consolas,'Courier New',monospace\">[<span style=\"color: #7f7f7f; text-decoration-color: #7f7f7f\">2025-07-23 17:28:09,331924</span>][<span style=\"color: #008000; text-decoration-color: #008000\">I</span>][<span style=\"color: #008080; text-decoration-color: #008080; font-style: italic\">wordplay</span>/<span style=\"color: #000080; text-decoration-color: #000080\">trainer</span><span style=\"color: #0000ff; text-decoration-color: #0000ff\">:</span><span style=\"color: #800080; text-decoration-color: #800080\">894</span>]<span style=\"color: #c0c0c0; text-decoration-color: #c0c0c0\"> </span><span style=\"color: #0000ff; text-decoration-color: #0000ff\">step</span>=<span style=\"color: #008080; text-decoration-color: #008080; font-weight: bold\">1280</span> <span style=\"color: #0000ff; text-decoration-color: #0000ff\">loss</span>=<span style=\"color: #008080; text-decoration-color: #008080; font-weight: bold\">1.85107</span> <span style=\"color: #0000ff; text-decoration-color: #0000ff\">dt</span>=<span style=\"color: #008080; text-decoration-color: #008080; font-weight: bold\">0.382921</span> <span style=\"color: #0000ff; text-decoration-color: #0000ff\">dtf</span>=<span style=\"color: #008080; text-decoration-color: #008080; font-weight: bold\">0.0081101</span> <span style=\"color: #0000ff; text-decoration-color: #0000ff\">dtb</span>=<span style=\"color: #008080; text-decoration-color: #008080; font-weight: bold\">0.00997405</span> <span style=\"color: #0000ff; text-decoration-color: #0000ff\">sps</span>=<span style=\"color: #008080; text-decoration-color: #008080; font-weight: bold\">2.61151</span> <span style=\"color: #0000ff; text-decoration-color: #0000ff\">sps_per_gpu</span>=<span style=\"color: #008080; text-decoration-color: #008080; font-weight: bold\">2.61151</span> <span style=\"color: #0000ff; text-decoration-color: #0000ff\">tps</span>=<span style=\"color: #008080; text-decoration-color: #008080; font-weight: bold\">21393.5</span> <span style=\"color: #0000ff; text-decoration-color: #0000ff\">tps_per_gpu</span>=<span style=\"color: #008080; text-decoration-color: #008080; font-weight: bold\">21393.5</span> <span style=\"color: #0000ff; text-decoration-color: #0000ff\">mfu</span>=<span style=\"color: #008080; text-decoration-color: #008080; font-weight: bold\">0.630017</span>\n",
              "</pre>\n"
            ]
          },
          "metadata": {}
        },
        {
          "output_type": "display_data",
          "data": {
            "text/plain": [
              "[\u001b[2m2025-07-23 \u001b[0m\u001b[2m17:28:13,161160\u001b[0m][\u001b[32mI\u001b[0m][\u001b[3;36mwordplay\u001b[0m/\u001b[34mtrainer\u001b[0m\u001b[94m:\u001b[0m\u001b[35m894\u001b[0m]\u001b[37m \u001b[0m\u001b[94mstep\u001b[0m=\u001b[1;36m1290\u001b[0m \u001b[94mloss\u001b[0m=\u001b[1;36m1\u001b[0m\u001b[1;36m.84071\u001b[0m \u001b[94mdt\u001b[0m=\u001b[1;36m0\u001b[0m\u001b[1;36m.382439\u001b[0m \u001b[94mdtf\u001b[0m=\u001b[1;36m0\u001b[0m\u001b[1;36m.00762057\u001b[0m \u001b[94mdtb\u001b[0m=\u001b[1;36m0\u001b[0m\u001b[1;36m.0106278\u001b[0m \u001b[94msps\u001b[0m=\u001b[1;36m2\u001b[0m\u001b[1;36m.6148\u001b[0m \u001b[94msps_per_gpu\u001b[0m=\u001b[1;36m2\u001b[0m\u001b[1;36m.6148\u001b[0m \u001b[94mtps\u001b[0m=\u001b[1;36m21420\u001b[0m\u001b[1;36m.4\u001b[0m \u001b[94mtps_per_gpu\u001b[0m=\u001b[1;36m21420\u001b[0m\u001b[1;36m.4\u001b[0m \u001b[94mmfu\u001b[0m=\u001b[1;36m0\u001b[0m\u001b[1;36m.630311\u001b[0m\n"
            ],
            "text/html": [
              "<pre style=\"white-space:pre;overflow-x:auto;line-height:normal;font-family:Menlo,'DejaVu Sans Mono',consolas,'Courier New',monospace\">[<span style=\"color: #7f7f7f; text-decoration-color: #7f7f7f\">2025-07-23 17:28:13,161160</span>][<span style=\"color: #008000; text-decoration-color: #008000\">I</span>][<span style=\"color: #008080; text-decoration-color: #008080; font-style: italic\">wordplay</span>/<span style=\"color: #000080; text-decoration-color: #000080\">trainer</span><span style=\"color: #0000ff; text-decoration-color: #0000ff\">:</span><span style=\"color: #800080; text-decoration-color: #800080\">894</span>]<span style=\"color: #c0c0c0; text-decoration-color: #c0c0c0\"> </span><span style=\"color: #0000ff; text-decoration-color: #0000ff\">step</span>=<span style=\"color: #008080; text-decoration-color: #008080; font-weight: bold\">1290</span> <span style=\"color: #0000ff; text-decoration-color: #0000ff\">loss</span>=<span style=\"color: #008080; text-decoration-color: #008080; font-weight: bold\">1.84071</span> <span style=\"color: #0000ff; text-decoration-color: #0000ff\">dt</span>=<span style=\"color: #008080; text-decoration-color: #008080; font-weight: bold\">0.382439</span> <span style=\"color: #0000ff; text-decoration-color: #0000ff\">dtf</span>=<span style=\"color: #008080; text-decoration-color: #008080; font-weight: bold\">0.00762057</span> <span style=\"color: #0000ff; text-decoration-color: #0000ff\">dtb</span>=<span style=\"color: #008080; text-decoration-color: #008080; font-weight: bold\">0.0106278</span> <span style=\"color: #0000ff; text-decoration-color: #0000ff\">sps</span>=<span style=\"color: #008080; text-decoration-color: #008080; font-weight: bold\">2.6148</span> <span style=\"color: #0000ff; text-decoration-color: #0000ff\">sps_per_gpu</span>=<span style=\"color: #008080; text-decoration-color: #008080; font-weight: bold\">2.6148</span> <span style=\"color: #0000ff; text-decoration-color: #0000ff\">tps</span>=<span style=\"color: #008080; text-decoration-color: #008080; font-weight: bold\">21420.4</span> <span style=\"color: #0000ff; text-decoration-color: #0000ff\">tps_per_gpu</span>=<span style=\"color: #008080; text-decoration-color: #008080; font-weight: bold\">21420.4</span> <span style=\"color: #0000ff; text-decoration-color: #0000ff\">mfu</span>=<span style=\"color: #008080; text-decoration-color: #008080; font-weight: bold\">0.630311</span>\n",
              "</pre>\n"
            ]
          },
          "metadata": {}
        },
        {
          "output_type": "display_data",
          "data": {
            "text/plain": [
              "[\u001b[2m2025-07-23 \u001b[0m\u001b[2m17:28:16,996729\u001b[0m][\u001b[32mI\u001b[0m][\u001b[3;36mwordplay\u001b[0m/\u001b[34mtrainer\u001b[0m\u001b[94m:\u001b[0m\u001b[35m894\u001b[0m]\u001b[37m \u001b[0m\u001b[94mstep\u001b[0m=\u001b[1;36m1300\u001b[0m \u001b[94mloss\u001b[0m=\u001b[1;36m1\u001b[0m\u001b[1;36m.82688\u001b[0m \u001b[94mdt\u001b[0m=\u001b[1;36m0\u001b[0m\u001b[1;36m.383368\u001b[0m \u001b[94mdtf\u001b[0m=\u001b[1;36m0\u001b[0m\u001b[1;36m.0123784\u001b[0m \u001b[94mdtb\u001b[0m=\u001b[1;36m0\u001b[0m\u001b[1;36m.0184451\u001b[0m \u001b[94msps\u001b[0m=\u001b[1;36m2\u001b[0m\u001b[1;36m.60846\u001b[0m \u001b[94msps_per_gpu\u001b[0m=\u001b[1;36m2\u001b[0m\u001b[1;36m.60846\u001b[0m \u001b[94mtps\u001b[0m=\u001b[1;36m21368\u001b[0m\u001b[1;36m.5\u001b[0m \u001b[94mtps_per_gpu\u001b[0m=\u001b[1;36m21368\u001b[0m\u001b[1;36m.5\u001b[0m \u001b[94mmfu\u001b[0m=\u001b[1;36m0\u001b[0m\u001b[1;36m.630421\u001b[0m\n"
            ],
            "text/html": [
              "<pre style=\"white-space:pre;overflow-x:auto;line-height:normal;font-family:Menlo,'DejaVu Sans Mono',consolas,'Courier New',monospace\">[<span style=\"color: #7f7f7f; text-decoration-color: #7f7f7f\">2025-07-23 17:28:16,996729</span>][<span style=\"color: #008000; text-decoration-color: #008000\">I</span>][<span style=\"color: #008080; text-decoration-color: #008080; font-style: italic\">wordplay</span>/<span style=\"color: #000080; text-decoration-color: #000080\">trainer</span><span style=\"color: #0000ff; text-decoration-color: #0000ff\">:</span><span style=\"color: #800080; text-decoration-color: #800080\">894</span>]<span style=\"color: #c0c0c0; text-decoration-color: #c0c0c0\"> </span><span style=\"color: #0000ff; text-decoration-color: #0000ff\">step</span>=<span style=\"color: #008080; text-decoration-color: #008080; font-weight: bold\">1300</span> <span style=\"color: #0000ff; text-decoration-color: #0000ff\">loss</span>=<span style=\"color: #008080; text-decoration-color: #008080; font-weight: bold\">1.82688</span> <span style=\"color: #0000ff; text-decoration-color: #0000ff\">dt</span>=<span style=\"color: #008080; text-decoration-color: #008080; font-weight: bold\">0.383368</span> <span style=\"color: #0000ff; text-decoration-color: #0000ff\">dtf</span>=<span style=\"color: #008080; text-decoration-color: #008080; font-weight: bold\">0.0123784</span> <span style=\"color: #0000ff; text-decoration-color: #0000ff\">dtb</span>=<span style=\"color: #008080; text-decoration-color: #008080; font-weight: bold\">0.0184451</span> <span style=\"color: #0000ff; text-decoration-color: #0000ff\">sps</span>=<span style=\"color: #008080; text-decoration-color: #008080; font-weight: bold\">2.60846</span> <span style=\"color: #0000ff; text-decoration-color: #0000ff\">sps_per_gpu</span>=<span style=\"color: #008080; text-decoration-color: #008080; font-weight: bold\">2.60846</span> <span style=\"color: #0000ff; text-decoration-color: #0000ff\">tps</span>=<span style=\"color: #008080; text-decoration-color: #008080; font-weight: bold\">21368.5</span> <span style=\"color: #0000ff; text-decoration-color: #0000ff\">tps_per_gpu</span>=<span style=\"color: #008080; text-decoration-color: #008080; font-weight: bold\">21368.5</span> <span style=\"color: #0000ff; text-decoration-color: #0000ff\">mfu</span>=<span style=\"color: #008080; text-decoration-color: #008080; font-weight: bold\">0.630421</span>\n",
              "</pre>\n"
            ]
          },
          "metadata": {}
        },
        {
          "output_type": "display_data",
          "data": {
            "text/plain": [
              "[\u001b[2m2025-07-23 \u001b[0m\u001b[2m17:28:17,833682\u001b[0m][\u001b[32mI\u001b[0m][\u001b[3;36mwordplay\u001b[0m/\u001b[34mtrainer\u001b[0m\u001b[94m:\u001b[0m\u001b[35m827\u001b[0m]\u001b[37m \u001b[0m\u001b[95m[\u001b[0m\u001b[32m'prompt'\u001b[0m\u001b[95m]\u001b[0m: \u001b[32m'What is an LLM?'\u001b[0m\n"
            ],
            "text/html": [
              "<pre style=\"white-space:pre;overflow-x:auto;line-height:normal;font-family:Menlo,'DejaVu Sans Mono',consolas,'Courier New',monospace\">[<span style=\"color: #7f7f7f; text-decoration-color: #7f7f7f\">2025-07-23 17:28:17,833682</span>][<span style=\"color: #008000; text-decoration-color: #008000\">I</span>][<span style=\"color: #008080; text-decoration-color: #008080; font-style: italic\">wordplay</span>/<span style=\"color: #000080; text-decoration-color: #000080\">trainer</span><span style=\"color: #0000ff; text-decoration-color: #0000ff\">:</span><span style=\"color: #800080; text-decoration-color: #800080\">827</span>]<span style=\"color: #c0c0c0; text-decoration-color: #c0c0c0\"> </span><span style=\"color: #ff00ff; text-decoration-color: #ff00ff\">[</span><span style=\"color: #008000; text-decoration-color: #008000\">'prompt'</span><span style=\"color: #ff00ff; text-decoration-color: #ff00ff\">]</span>: <span style=\"color: #008000; text-decoration-color: #008000\">'What is an LLM?'</span>\n",
              "</pre>\n"
            ]
          },
          "metadata": {}
        },
        {
          "output_type": "display_data",
          "data": {
            "text/plain": [
              "[\u001b[2m2025-07-23 \u001b[0m\u001b[2m17:28:17,835402\u001b[0m][\u001b[32mI\u001b[0m][\u001b[3;36mwordplay\u001b[0m/\u001b[34mtrainer\u001b[0m\u001b[94m:\u001b[0m\u001b[35m831\u001b[0m]\u001b[37m \u001b[0m\u001b[95m[\u001b[0m\u001b[32m'response'\u001b[0m\u001b[95m]\u001b[0m:\n",
              "\n",
              "What is an LLM?\n",
              "\n",
              "Good my RICHARD III:\n",
              "He you will distent, I may\n",
              "Is like pret to fort,\n",
              "To some that fold my part they lok.\n",
              "A farther's to consonce which sater,\n",
              "And fater and him in the shall it them do her this,\n",
              "The a my navin his more the with of haver,\n",
              "But me and the a\n"
            ],
            "text/html": [
              "<pre style=\"white-space:pre;overflow-x:auto;line-height:normal;font-family:Menlo,'DejaVu Sans Mono',consolas,'Courier New',monospace\">[<span style=\"color: #7f7f7f; text-decoration-color: #7f7f7f\">2025-07-23 17:28:17,835402</span>][<span style=\"color: #008000; text-decoration-color: #008000\">I</span>][<span style=\"color: #008080; text-decoration-color: #008080; font-style: italic\">wordplay</span>/<span style=\"color: #000080; text-decoration-color: #000080\">trainer</span><span style=\"color: #0000ff; text-decoration-color: #0000ff\">:</span><span style=\"color: #800080; text-decoration-color: #800080\">831</span>]<span style=\"color: #c0c0c0; text-decoration-color: #c0c0c0\"> </span><span style=\"color: #ff00ff; text-decoration-color: #ff00ff\">[</span><span style=\"color: #008000; text-decoration-color: #008000\">'response'</span><span style=\"color: #ff00ff; text-decoration-color: #ff00ff\">]</span>:\n",
              "\n",
              "What is an LLM?\n",
              "\n",
              "Good my RICHARD III:\n",
              "He you will distent, I may\n",
              "Is like pret to fort,\n",
              "To some that fold my part they lok.\n",
              "A farther's to consonce which sater,\n",
              "And fater and him in the shall it them do her this,\n",
              "The a my navin his more the with of haver,\n",
              "But me and the a\n",
              "</pre>\n"
            ]
          },
          "metadata": {}
        },
        {
          "output_type": "display_data",
          "data": {
            "text/plain": [
              "[\u001b[2m2025-07-23 \u001b[0m\u001b[2m17:29:15,475172\u001b[0m][\u001b[32mI\u001b[0m][\u001b[3;36mwordplay\u001b[0m/\u001b[34mtrainer\u001b[0m\u001b[94m:\u001b[0m\u001b[35m762\u001b[0m]\u001b[37m \u001b[0mSaving checkpoint to: \u001b[35m/\u001b[0m\u001b[95mcontent\u001b[0m\n"
            ],
            "text/html": [
              "<pre style=\"white-space:pre;overflow-x:auto;line-height:normal;font-family:Menlo,'DejaVu Sans Mono',consolas,'Courier New',monospace\">[<span style=\"color: #7f7f7f; text-decoration-color: #7f7f7f\">2025-07-23 17:29:15,475172</span>][<span style=\"color: #008000; text-decoration-color: #008000\">I</span>][<span style=\"color: #008080; text-decoration-color: #008080; font-style: italic\">wordplay</span>/<span style=\"color: #000080; text-decoration-color: #000080\">trainer</span><span style=\"color: #0000ff; text-decoration-color: #0000ff\">:</span><span style=\"color: #800080; text-decoration-color: #800080\">762</span>]<span style=\"color: #c0c0c0; text-decoration-color: #c0c0c0\"> </span>Saving checkpoint to: <span style=\"color: #800080; text-decoration-color: #800080\">/</span><span style=\"color: #ff00ff; text-decoration-color: #ff00ff\">content</span>\n",
              "</pre>\n"
            ]
          },
          "metadata": {}
        },
        {
          "output_type": "display_data",
          "data": {
            "text/plain": [
              "[\u001b[2m2025-07-23 \u001b[0m\u001b[2m17:29:15,477113\u001b[0m][\u001b[32mI\u001b[0m][\u001b[3;36mwordplay\u001b[0m/\u001b[34mtrainer\u001b[0m\u001b[94m:\u001b[0m\u001b[35m763\u001b[0m]\u001b[37m \u001b[0mSaving model to: \u001b[35m/content/\u001b[0m\u001b[95mmodel.pth\u001b[0m\n"
            ],
            "text/html": [
              "<pre style=\"white-space:pre;overflow-x:auto;line-height:normal;font-family:Menlo,'DejaVu Sans Mono',consolas,'Courier New',monospace\">[<span style=\"color: #7f7f7f; text-decoration-color: #7f7f7f\">2025-07-23 17:29:15,477113</span>][<span style=\"color: #008000; text-decoration-color: #008000\">I</span>][<span style=\"color: #008080; text-decoration-color: #008080; font-style: italic\">wordplay</span>/<span style=\"color: #000080; text-decoration-color: #000080\">trainer</span><span style=\"color: #0000ff; text-decoration-color: #0000ff\">:</span><span style=\"color: #800080; text-decoration-color: #800080\">763</span>]<span style=\"color: #c0c0c0; text-decoration-color: #c0c0c0\"> </span>Saving model to: <span style=\"color: #800080; text-decoration-color: #800080\">/content/</span><span style=\"color: #ff00ff; text-decoration-color: #ff00ff\">model.pth</span>\n",
              "</pre>\n"
            ]
          },
          "metadata": {}
        },
        {
          "output_type": "display_data",
          "data": {
            "text/plain": [
              "[\u001b[2m2025-07-23 \u001b[0m\u001b[2m17:29:15,945199\u001b[0m][\u001b[32mI\u001b[0m][\u001b[3;36mwordplay\u001b[0m/\u001b[34mconfigs\u001b[0m\u001b[94m:\u001b[0m\u001b[35m141\u001b[0m]\u001b[37m \u001b[0mAppending \u001b[35m/\u001b[0m\u001b[95mcontent\u001b[0m to \u001b[35m/content/wordplay/src/ckpts/\u001b[0m\u001b[95mcheckpoints.log\u001b[0m\n"
            ],
            "text/html": [
              "<pre style=\"white-space:pre;overflow-x:auto;line-height:normal;font-family:Menlo,'DejaVu Sans Mono',consolas,'Courier New',monospace\">[<span style=\"color: #7f7f7f; text-decoration-color: #7f7f7f\">2025-07-23 17:29:15,945199</span>][<span style=\"color: #008000; text-decoration-color: #008000\">I</span>][<span style=\"color: #008080; text-decoration-color: #008080; font-style: italic\">wordplay</span>/<span style=\"color: #000080; text-decoration-color: #000080\">configs</span><span style=\"color: #0000ff; text-decoration-color: #0000ff\">:</span><span style=\"color: #800080; text-decoration-color: #800080\">141</span>]<span style=\"color: #c0c0c0; text-decoration-color: #c0c0c0\"> </span>Appending <span style=\"color: #800080; text-decoration-color: #800080\">/</span><span style=\"color: #ff00ff; text-decoration-color: #ff00ff\">content</span> to <span style=\"color: #800080; text-decoration-color: #800080\">/content/wordplay/src/ckpts/</span><span style=\"color: #ff00ff; text-decoration-color: #ff00ff\">checkpoints.log</span>\n",
              "</pre>\n"
            ]
          },
          "metadata": {}
        },
        {
          "output_type": "display_data",
          "data": {
            "text/plain": [
              "[\u001b[2m2025-07-23 \u001b[0m\u001b[2m17:29:19,772665\u001b[0m][\u001b[32mI\u001b[0m][\u001b[3;36mwordplay\u001b[0m/\u001b[34mtrainer\u001b[0m\u001b[94m:\u001b[0m\u001b[35m894\u001b[0m]\u001b[37m \u001b[0m\u001b[94mstep\u001b[0m=\u001b[1;36m1310\u001b[0m \u001b[94mloss\u001b[0m=\u001b[1;36m1\u001b[0m\u001b[1;36m.83877\u001b[0m \u001b[94mdt\u001b[0m=\u001b[1;36m0\u001b[0m\u001b[1;36m.380515\u001b[0m \u001b[94mdtf\u001b[0m=\u001b[1;36m0\u001b[0m\u001b[1;36m.00832942\u001b[0m \u001b[94mdtb\u001b[0m=\u001b[1;36m0\u001b[0m\u001b[1;36m.00994461\u001b[0m \u001b[94msps\u001b[0m=\u001b[1;36m2\u001b[0m\u001b[1;36m.62802\u001b[0m \u001b[94msps_per_gpu\u001b[0m=\u001b[1;36m2\u001b[0m\u001b[1;36m.62802\u001b[0m \u001b[94mtps\u001b[0m=\u001b[1;36m21528\u001b[0m\u001b[1;36m.7\u001b[0m \u001b[94mtps_per_gpu\u001b[0m=\u001b[1;36m21528\u001b[0m\u001b[1;36m.7\u001b[0m \u001b[94mmfu\u001b[0m=\u001b[1;36m0\u001b[0m\u001b[1;36m.630994\u001b[0m\n"
            ],
            "text/html": [
              "<pre style=\"white-space:pre;overflow-x:auto;line-height:normal;font-family:Menlo,'DejaVu Sans Mono',consolas,'Courier New',monospace\">[<span style=\"color: #7f7f7f; text-decoration-color: #7f7f7f\">2025-07-23 17:29:19,772665</span>][<span style=\"color: #008000; text-decoration-color: #008000\">I</span>][<span style=\"color: #008080; text-decoration-color: #008080; font-style: italic\">wordplay</span>/<span style=\"color: #000080; text-decoration-color: #000080\">trainer</span><span style=\"color: #0000ff; text-decoration-color: #0000ff\">:</span><span style=\"color: #800080; text-decoration-color: #800080\">894</span>]<span style=\"color: #c0c0c0; text-decoration-color: #c0c0c0\"> </span><span style=\"color: #0000ff; text-decoration-color: #0000ff\">step</span>=<span style=\"color: #008080; text-decoration-color: #008080; font-weight: bold\">1310</span> <span style=\"color: #0000ff; text-decoration-color: #0000ff\">loss</span>=<span style=\"color: #008080; text-decoration-color: #008080; font-weight: bold\">1.83877</span> <span style=\"color: #0000ff; text-decoration-color: #0000ff\">dt</span>=<span style=\"color: #008080; text-decoration-color: #008080; font-weight: bold\">0.380515</span> <span style=\"color: #0000ff; text-decoration-color: #0000ff\">dtf</span>=<span style=\"color: #008080; text-decoration-color: #008080; font-weight: bold\">0.00832942</span> <span style=\"color: #0000ff; text-decoration-color: #0000ff\">dtb</span>=<span style=\"color: #008080; text-decoration-color: #008080; font-weight: bold\">0.00994461</span> <span style=\"color: #0000ff; text-decoration-color: #0000ff\">sps</span>=<span style=\"color: #008080; text-decoration-color: #008080; font-weight: bold\">2.62802</span> <span style=\"color: #0000ff; text-decoration-color: #0000ff\">sps_per_gpu</span>=<span style=\"color: #008080; text-decoration-color: #008080; font-weight: bold\">2.62802</span> <span style=\"color: #0000ff; text-decoration-color: #0000ff\">tps</span>=<span style=\"color: #008080; text-decoration-color: #008080; font-weight: bold\">21528.7</span> <span style=\"color: #0000ff; text-decoration-color: #0000ff\">tps_per_gpu</span>=<span style=\"color: #008080; text-decoration-color: #008080; font-weight: bold\">21528.7</span> <span style=\"color: #0000ff; text-decoration-color: #0000ff\">mfu</span>=<span style=\"color: #008080; text-decoration-color: #008080; font-weight: bold\">0.630994</span>\n",
              "</pre>\n"
            ]
          },
          "metadata": {}
        },
        {
          "output_type": "display_data",
          "data": {
            "text/plain": [
              "[\u001b[2m2025-07-23 \u001b[0m\u001b[2m17:29:23,597414\u001b[0m][\u001b[32mI\u001b[0m][\u001b[3;36mwordplay\u001b[0m/\u001b[34mtrainer\u001b[0m\u001b[94m:\u001b[0m\u001b[35m894\u001b[0m]\u001b[37m \u001b[0m\u001b[94mstep\u001b[0m=\u001b[1;36m1320\u001b[0m \u001b[94mloss\u001b[0m=\u001b[1;36m1\u001b[0m\u001b[1;36m.79997\u001b[0m \u001b[94mdt\u001b[0m=\u001b[1;36m0\u001b[0m\u001b[1;36m.380789\u001b[0m \u001b[94mdtf\u001b[0m=\u001b[1;36m0\u001b[0m\u001b[1;36m.00753653\u001b[0m \u001b[94mdtb\u001b[0m=\u001b[1;36m0\u001b[0m\u001b[1;36m.0100344\u001b[0m \u001b[94msps\u001b[0m=\u001b[1;36m2\u001b[0m\u001b[1;36m.62613\u001b[0m \u001b[94msps_per_gpu\u001b[0m=\u001b[1;36m2\u001b[0m\u001b[1;36m.62613\u001b[0m \u001b[94mtps\u001b[0m=\u001b[1;36m21513\u001b[0m\u001b[1;36m.2\u001b[0m \u001b[94mtps_per_gpu\u001b[0m=\u001b[1;36m21513\u001b[0m\u001b[1;36m.2\u001b[0m \u001b[94mmfu\u001b[0m=\u001b[1;36m0\u001b[0m\u001b[1;36m.631463\u001b[0m\n"
            ],
            "text/html": [
              "<pre style=\"white-space:pre;overflow-x:auto;line-height:normal;font-family:Menlo,'DejaVu Sans Mono',consolas,'Courier New',monospace\">[<span style=\"color: #7f7f7f; text-decoration-color: #7f7f7f\">2025-07-23 17:29:23,597414</span>][<span style=\"color: #008000; text-decoration-color: #008000\">I</span>][<span style=\"color: #008080; text-decoration-color: #008080; font-style: italic\">wordplay</span>/<span style=\"color: #000080; text-decoration-color: #000080\">trainer</span><span style=\"color: #0000ff; text-decoration-color: #0000ff\">:</span><span style=\"color: #800080; text-decoration-color: #800080\">894</span>]<span style=\"color: #c0c0c0; text-decoration-color: #c0c0c0\"> </span><span style=\"color: #0000ff; text-decoration-color: #0000ff\">step</span>=<span style=\"color: #008080; text-decoration-color: #008080; font-weight: bold\">1320</span> <span style=\"color: #0000ff; text-decoration-color: #0000ff\">loss</span>=<span style=\"color: #008080; text-decoration-color: #008080; font-weight: bold\">1.79997</span> <span style=\"color: #0000ff; text-decoration-color: #0000ff\">dt</span>=<span style=\"color: #008080; text-decoration-color: #008080; font-weight: bold\">0.380789</span> <span style=\"color: #0000ff; text-decoration-color: #0000ff\">dtf</span>=<span style=\"color: #008080; text-decoration-color: #008080; font-weight: bold\">0.00753653</span> <span style=\"color: #0000ff; text-decoration-color: #0000ff\">dtb</span>=<span style=\"color: #008080; text-decoration-color: #008080; font-weight: bold\">0.0100344</span> <span style=\"color: #0000ff; text-decoration-color: #0000ff\">sps</span>=<span style=\"color: #008080; text-decoration-color: #008080; font-weight: bold\">2.62613</span> <span style=\"color: #0000ff; text-decoration-color: #0000ff\">sps_per_gpu</span>=<span style=\"color: #008080; text-decoration-color: #008080; font-weight: bold\">2.62613</span> <span style=\"color: #0000ff; text-decoration-color: #0000ff\">tps</span>=<span style=\"color: #008080; text-decoration-color: #008080; font-weight: bold\">21513.2</span> <span style=\"color: #0000ff; text-decoration-color: #0000ff\">tps_per_gpu</span>=<span style=\"color: #008080; text-decoration-color: #008080; font-weight: bold\">21513.2</span> <span style=\"color: #0000ff; text-decoration-color: #0000ff\">mfu</span>=<span style=\"color: #008080; text-decoration-color: #008080; font-weight: bold\">0.631463</span>\n",
              "</pre>\n"
            ]
          },
          "metadata": {}
        },
        {
          "output_type": "display_data",
          "data": {
            "text/plain": [
              "[\u001b[2m2025-07-23 \u001b[0m\u001b[2m17:29:27,425373\u001b[0m][\u001b[32mI\u001b[0m][\u001b[3;36mwordplay\u001b[0m/\u001b[34mtrainer\u001b[0m\u001b[94m:\u001b[0m\u001b[35m894\u001b[0m]\u001b[37m \u001b[0m\u001b[94mstep\u001b[0m=\u001b[1;36m1330\u001b[0m \u001b[94mloss\u001b[0m=\u001b[1;36m1\u001b[0m\u001b[1;36m.84227\u001b[0m \u001b[94mdt\u001b[0m=\u001b[1;36m0\u001b[0m\u001b[1;36m.383599\u001b[0m \u001b[94mdtf\u001b[0m=\u001b[1;36m0\u001b[0m\u001b[1;36m.00811679\u001b[0m \u001b[94mdtb\u001b[0m=\u001b[1;36m0\u001b[0m\u001b[1;36m.0102277\u001b[0m \u001b[94msps\u001b[0m=\u001b[1;36m2\u001b[0m\u001b[1;36m.60689\u001b[0m \u001b[94msps_per_gpu\u001b[0m=\u001b[1;36m2\u001b[0m\u001b[1;36m.60689\u001b[0m \u001b[94mtps\u001b[0m=\u001b[1;36m21355\u001b[0m\u001b[1;36m.6\u001b[0m \u001b[94mtps_per_gpu\u001b[0m=\u001b[1;36m21355\u001b[0m\u001b[1;36m.6\u001b[0m \u001b[94mmfu\u001b[0m=\u001b[1;36m0\u001b[0m\u001b[1;36m.63142\u001b[0m\n"
            ],
            "text/html": [
              "<pre style=\"white-space:pre;overflow-x:auto;line-height:normal;font-family:Menlo,'DejaVu Sans Mono',consolas,'Courier New',monospace\">[<span style=\"color: #7f7f7f; text-decoration-color: #7f7f7f\">2025-07-23 17:29:27,425373</span>][<span style=\"color: #008000; text-decoration-color: #008000\">I</span>][<span style=\"color: #008080; text-decoration-color: #008080; font-style: italic\">wordplay</span>/<span style=\"color: #000080; text-decoration-color: #000080\">trainer</span><span style=\"color: #0000ff; text-decoration-color: #0000ff\">:</span><span style=\"color: #800080; text-decoration-color: #800080\">894</span>]<span style=\"color: #c0c0c0; text-decoration-color: #c0c0c0\"> </span><span style=\"color: #0000ff; text-decoration-color: #0000ff\">step</span>=<span style=\"color: #008080; text-decoration-color: #008080; font-weight: bold\">1330</span> <span style=\"color: #0000ff; text-decoration-color: #0000ff\">loss</span>=<span style=\"color: #008080; text-decoration-color: #008080; font-weight: bold\">1.84227</span> <span style=\"color: #0000ff; text-decoration-color: #0000ff\">dt</span>=<span style=\"color: #008080; text-decoration-color: #008080; font-weight: bold\">0.383599</span> <span style=\"color: #0000ff; text-decoration-color: #0000ff\">dtf</span>=<span style=\"color: #008080; text-decoration-color: #008080; font-weight: bold\">0.00811679</span> <span style=\"color: #0000ff; text-decoration-color: #0000ff\">dtb</span>=<span style=\"color: #008080; text-decoration-color: #008080; font-weight: bold\">0.0102277</span> <span style=\"color: #0000ff; text-decoration-color: #0000ff\">sps</span>=<span style=\"color: #008080; text-decoration-color: #008080; font-weight: bold\">2.60689</span> <span style=\"color: #0000ff; text-decoration-color: #0000ff\">sps_per_gpu</span>=<span style=\"color: #008080; text-decoration-color: #008080; font-weight: bold\">2.60689</span> <span style=\"color: #0000ff; text-decoration-color: #0000ff\">tps</span>=<span style=\"color: #008080; text-decoration-color: #008080; font-weight: bold\">21355.6</span> <span style=\"color: #0000ff; text-decoration-color: #0000ff\">tps_per_gpu</span>=<span style=\"color: #008080; text-decoration-color: #008080; font-weight: bold\">21355.6</span> <span style=\"color: #0000ff; text-decoration-color: #0000ff\">mfu</span>=<span style=\"color: #008080; text-decoration-color: #008080; font-weight: bold\">0.63142</span>\n",
              "</pre>\n"
            ]
          },
          "metadata": {}
        },
        {
          "output_type": "display_data",
          "data": {
            "text/plain": [
              "[\u001b[2m2025-07-23 \u001b[0m\u001b[2m17:29:31,259289\u001b[0m][\u001b[32mI\u001b[0m][\u001b[3;36mwordplay\u001b[0m/\u001b[34mtrainer\u001b[0m\u001b[94m:\u001b[0m\u001b[35m894\u001b[0m]\u001b[37m \u001b[0m\u001b[94mstep\u001b[0m=\u001b[1;36m1340\u001b[0m \u001b[94mloss\u001b[0m=\u001b[1;36m1\u001b[0m\u001b[1;36m.77032\u001b[0m \u001b[94mdt\u001b[0m=\u001b[1;36m0\u001b[0m\u001b[1;36m.381153\u001b[0m \u001b[94mdtf\u001b[0m=\u001b[1;36m0\u001b[0m\u001b[1;36m.00731168\u001b[0m \u001b[94mdtb\u001b[0m=\u001b[1;36m0\u001b[0m\u001b[1;36m.00972694\u001b[0m \u001b[94msps\u001b[0m=\u001b[1;36m2\u001b[0m\u001b[1;36m.62362\u001b[0m \u001b[94msps_per_gpu\u001b[0m=\u001b[1;36m2\u001b[0m\u001b[1;36m.62362\u001b[0m \u001b[94mtps\u001b[0m=\u001b[1;36m21492\u001b[0m\u001b[1;36m.7\u001b[0m \u001b[94mtps_per_gpu\u001b[0m=\u001b[1;36m21492\u001b[0m\u001b[1;36m.7\u001b[0m \u001b[94mmfu\u001b[0m=\u001b[1;36m0\u001b[0m\u001b[1;36m.631787\u001b[0m\n"
            ],
            "text/html": [
              "<pre style=\"white-space:pre;overflow-x:auto;line-height:normal;font-family:Menlo,'DejaVu Sans Mono',consolas,'Courier New',monospace\">[<span style=\"color: #7f7f7f; text-decoration-color: #7f7f7f\">2025-07-23 17:29:31,259289</span>][<span style=\"color: #008000; text-decoration-color: #008000\">I</span>][<span style=\"color: #008080; text-decoration-color: #008080; font-style: italic\">wordplay</span>/<span style=\"color: #000080; text-decoration-color: #000080\">trainer</span><span style=\"color: #0000ff; text-decoration-color: #0000ff\">:</span><span style=\"color: #800080; text-decoration-color: #800080\">894</span>]<span style=\"color: #c0c0c0; text-decoration-color: #c0c0c0\"> </span><span style=\"color: #0000ff; text-decoration-color: #0000ff\">step</span>=<span style=\"color: #008080; text-decoration-color: #008080; font-weight: bold\">1340</span> <span style=\"color: #0000ff; text-decoration-color: #0000ff\">loss</span>=<span style=\"color: #008080; text-decoration-color: #008080; font-weight: bold\">1.77032</span> <span style=\"color: #0000ff; text-decoration-color: #0000ff\">dt</span>=<span style=\"color: #008080; text-decoration-color: #008080; font-weight: bold\">0.381153</span> <span style=\"color: #0000ff; text-decoration-color: #0000ff\">dtf</span>=<span style=\"color: #008080; text-decoration-color: #008080; font-weight: bold\">0.00731168</span> <span style=\"color: #0000ff; text-decoration-color: #0000ff\">dtb</span>=<span style=\"color: #008080; text-decoration-color: #008080; font-weight: bold\">0.00972694</span> <span style=\"color: #0000ff; text-decoration-color: #0000ff\">sps</span>=<span style=\"color: #008080; text-decoration-color: #008080; font-weight: bold\">2.62362</span> <span style=\"color: #0000ff; text-decoration-color: #0000ff\">sps_per_gpu</span>=<span style=\"color: #008080; text-decoration-color: #008080; font-weight: bold\">2.62362</span> <span style=\"color: #0000ff; text-decoration-color: #0000ff\">tps</span>=<span style=\"color: #008080; text-decoration-color: #008080; font-weight: bold\">21492.7</span> <span style=\"color: #0000ff; text-decoration-color: #0000ff\">tps_per_gpu</span>=<span style=\"color: #008080; text-decoration-color: #008080; font-weight: bold\">21492.7</span> <span style=\"color: #0000ff; text-decoration-color: #0000ff\">mfu</span>=<span style=\"color: #008080; text-decoration-color: #008080; font-weight: bold\">0.631787</span>\n",
              "</pre>\n"
            ]
          },
          "metadata": {}
        },
        {
          "output_type": "display_data",
          "data": {
            "text/plain": [
              "[\u001b[2m2025-07-23 \u001b[0m\u001b[2m17:29:35,088601\u001b[0m][\u001b[32mI\u001b[0m][\u001b[3;36mwordplay\u001b[0m/\u001b[34mtrainer\u001b[0m\u001b[94m:\u001b[0m\u001b[35m894\u001b[0m]\u001b[37m \u001b[0m\u001b[94mstep\u001b[0m=\u001b[1;36m1350\u001b[0m \u001b[94mloss\u001b[0m=\u001b[1;36m1\u001b[0m\u001b[1;36m.8076\u001b[0m \u001b[94mdt\u001b[0m=\u001b[1;36m0\u001b[0m\u001b[1;36m.384321\u001b[0m \u001b[94mdtf\u001b[0m=\u001b[1;36m0\u001b[0m\u001b[1;36m.00808188\u001b[0m \u001b[94mdtb\u001b[0m=\u001b[1;36m0\u001b[0m\u001b[1;36m.0116733\u001b[0m \u001b[94msps\u001b[0m=\u001b[1;36m2\u001b[0m\u001b[1;36m.60199\u001b[0m \u001b[94msps_per_gpu\u001b[0m=\u001b[1;36m2\u001b[0m\u001b[1;36m.60199\u001b[0m \u001b[94mtps\u001b[0m=\u001b[1;36m21315\u001b[0m\u001b[1;36m.5\u001b[0m \u001b[94mtps_per_gpu\u001b[0m=\u001b[1;36m21315\u001b[0m\u001b[1;36m.5\u001b[0m \u001b[94mmfu\u001b[0m=\u001b[1;36m0\u001b[0m\u001b[1;36m.631593\u001b[0m\n"
            ],
            "text/html": [
              "<pre style=\"white-space:pre;overflow-x:auto;line-height:normal;font-family:Menlo,'DejaVu Sans Mono',consolas,'Courier New',monospace\">[<span style=\"color: #7f7f7f; text-decoration-color: #7f7f7f\">2025-07-23 17:29:35,088601</span>][<span style=\"color: #008000; text-decoration-color: #008000\">I</span>][<span style=\"color: #008080; text-decoration-color: #008080; font-style: italic\">wordplay</span>/<span style=\"color: #000080; text-decoration-color: #000080\">trainer</span><span style=\"color: #0000ff; text-decoration-color: #0000ff\">:</span><span style=\"color: #800080; text-decoration-color: #800080\">894</span>]<span style=\"color: #c0c0c0; text-decoration-color: #c0c0c0\"> </span><span style=\"color: #0000ff; text-decoration-color: #0000ff\">step</span>=<span style=\"color: #008080; text-decoration-color: #008080; font-weight: bold\">1350</span> <span style=\"color: #0000ff; text-decoration-color: #0000ff\">loss</span>=<span style=\"color: #008080; text-decoration-color: #008080; font-weight: bold\">1.8076</span> <span style=\"color: #0000ff; text-decoration-color: #0000ff\">dt</span>=<span style=\"color: #008080; text-decoration-color: #008080; font-weight: bold\">0.384321</span> <span style=\"color: #0000ff; text-decoration-color: #0000ff\">dtf</span>=<span style=\"color: #008080; text-decoration-color: #008080; font-weight: bold\">0.00808188</span> <span style=\"color: #0000ff; text-decoration-color: #0000ff\">dtb</span>=<span style=\"color: #008080; text-decoration-color: #008080; font-weight: bold\">0.0116733</span> <span style=\"color: #0000ff; text-decoration-color: #0000ff\">sps</span>=<span style=\"color: #008080; text-decoration-color: #008080; font-weight: bold\">2.60199</span> <span style=\"color: #0000ff; text-decoration-color: #0000ff\">sps_per_gpu</span>=<span style=\"color: #008080; text-decoration-color: #008080; font-weight: bold\">2.60199</span> <span style=\"color: #0000ff; text-decoration-color: #0000ff\">tps</span>=<span style=\"color: #008080; text-decoration-color: #008080; font-weight: bold\">21315.5</span> <span style=\"color: #0000ff; text-decoration-color: #0000ff\">tps_per_gpu</span>=<span style=\"color: #008080; text-decoration-color: #008080; font-weight: bold\">21315.5</span> <span style=\"color: #0000ff; text-decoration-color: #0000ff\">mfu</span>=<span style=\"color: #008080; text-decoration-color: #008080; font-weight: bold\">0.631593</span>\n",
              "</pre>\n"
            ]
          },
          "metadata": {}
        },
        {
          "output_type": "display_data",
          "data": {
            "text/plain": [
              "[\u001b[2m2025-07-23 \u001b[0m\u001b[2m17:29:38,914972\u001b[0m][\u001b[32mI\u001b[0m][\u001b[3;36mwordplay\u001b[0m/\u001b[34mtrainer\u001b[0m\u001b[94m:\u001b[0m\u001b[35m894\u001b[0m]\u001b[37m \u001b[0m\u001b[94mstep\u001b[0m=\u001b[1;36m1360\u001b[0m \u001b[94mloss\u001b[0m=\u001b[1;36m1\u001b[0m\u001b[1;36m.79383\u001b[0m \u001b[94mdt\u001b[0m=\u001b[1;36m0\u001b[0m\u001b[1;36m.383019\u001b[0m \u001b[94mdtf\u001b[0m=\u001b[1;36m0\u001b[0m\u001b[1;36m.00830957\u001b[0m \u001b[94mdtb\u001b[0m=\u001b[1;36m0\u001b[0m\u001b[1;36m.0104623\u001b[0m \u001b[94msps\u001b[0m=\u001b[1;36m2\u001b[0m\u001b[1;36m.61084\u001b[0m \u001b[94msps_per_gpu\u001b[0m=\u001b[1;36m2\u001b[0m\u001b[1;36m.61084\u001b[0m \u001b[94mtps\u001b[0m=\u001b[1;36m21388\u001b[0m \u001b[94mtps_per_gpu\u001b[0m=\u001b[1;36m21388\u001b[0m \u001b[94mmfu\u001b[0m=\u001b[1;36m0\u001b[0m\u001b[1;36m.631632\u001b[0m\n"
            ],
            "text/html": [
              "<pre style=\"white-space:pre;overflow-x:auto;line-height:normal;font-family:Menlo,'DejaVu Sans Mono',consolas,'Courier New',monospace\">[<span style=\"color: #7f7f7f; text-decoration-color: #7f7f7f\">2025-07-23 17:29:38,914972</span>][<span style=\"color: #008000; text-decoration-color: #008000\">I</span>][<span style=\"color: #008080; text-decoration-color: #008080; font-style: italic\">wordplay</span>/<span style=\"color: #000080; text-decoration-color: #000080\">trainer</span><span style=\"color: #0000ff; text-decoration-color: #0000ff\">:</span><span style=\"color: #800080; text-decoration-color: #800080\">894</span>]<span style=\"color: #c0c0c0; text-decoration-color: #c0c0c0\"> </span><span style=\"color: #0000ff; text-decoration-color: #0000ff\">step</span>=<span style=\"color: #008080; text-decoration-color: #008080; font-weight: bold\">1360</span> <span style=\"color: #0000ff; text-decoration-color: #0000ff\">loss</span>=<span style=\"color: #008080; text-decoration-color: #008080; font-weight: bold\">1.79383</span> <span style=\"color: #0000ff; text-decoration-color: #0000ff\">dt</span>=<span style=\"color: #008080; text-decoration-color: #008080; font-weight: bold\">0.383019</span> <span style=\"color: #0000ff; text-decoration-color: #0000ff\">dtf</span>=<span style=\"color: #008080; text-decoration-color: #008080; font-weight: bold\">0.00830957</span> <span style=\"color: #0000ff; text-decoration-color: #0000ff\">dtb</span>=<span style=\"color: #008080; text-decoration-color: #008080; font-weight: bold\">0.0104623</span> <span style=\"color: #0000ff; text-decoration-color: #0000ff\">sps</span>=<span style=\"color: #008080; text-decoration-color: #008080; font-weight: bold\">2.61084</span> <span style=\"color: #0000ff; text-decoration-color: #0000ff\">sps_per_gpu</span>=<span style=\"color: #008080; text-decoration-color: #008080; font-weight: bold\">2.61084</span> <span style=\"color: #0000ff; text-decoration-color: #0000ff\">tps</span>=<span style=\"color: #008080; text-decoration-color: #008080; font-weight: bold\">21388</span> <span style=\"color: #0000ff; text-decoration-color: #0000ff\">tps_per_gpu</span>=<span style=\"color: #008080; text-decoration-color: #008080; font-weight: bold\">21388</span> <span style=\"color: #0000ff; text-decoration-color: #0000ff\">mfu</span>=<span style=\"color: #008080; text-decoration-color: #008080; font-weight: bold\">0.631632</span>\n",
              "</pre>\n"
            ]
          },
          "metadata": {}
        },
        {
          "output_type": "display_data",
          "data": {
            "text/plain": [
              "[\u001b[2m2025-07-23 \u001b[0m\u001b[2m17:29:42,746913\u001b[0m][\u001b[32mI\u001b[0m][\u001b[3;36mwordplay\u001b[0m/\u001b[34mtrainer\u001b[0m\u001b[94m:\u001b[0m\u001b[35m894\u001b[0m]\u001b[37m \u001b[0m\u001b[94mstep\u001b[0m=\u001b[1;36m1370\u001b[0m \u001b[94mloss\u001b[0m=\u001b[1;36m1\u001b[0m\u001b[1;36m.73757\u001b[0m \u001b[94mdt\u001b[0m=\u001b[1;36m0\u001b[0m\u001b[1;36m.377326\u001b[0m \u001b[94mdtf\u001b[0m=\u001b[1;36m0\u001b[0m\u001b[1;36m.009339\u001b[0m \u001b[94mdtb\u001b[0m=\u001b[1;36m0\u001b[0m\u001b[1;36m.0118509\u001b[0m \u001b[94msps\u001b[0m=\u001b[1;36m2\u001b[0m\u001b[1;36m.65023\u001b[0m \u001b[94msps_per_gpu\u001b[0m=\u001b[1;36m2\u001b[0m\u001b[1;36m.65023\u001b[0m \u001b[94mtps\u001b[0m=\u001b[1;36m21710\u001b[0m\u001b[1;36m.7\u001b[0m \u001b[94mtps_per_gpu\u001b[0m=\u001b[1;36m21710\u001b[0m\u001b[1;36m.7\u001b[0m \u001b[94mmfu\u001b[0m=\u001b[1;36m0\u001b[0m\u001b[1;36m.632622\u001b[0m\n"
            ],
            "text/html": [
              "<pre style=\"white-space:pre;overflow-x:auto;line-height:normal;font-family:Menlo,'DejaVu Sans Mono',consolas,'Courier New',monospace\">[<span style=\"color: #7f7f7f; text-decoration-color: #7f7f7f\">2025-07-23 17:29:42,746913</span>][<span style=\"color: #008000; text-decoration-color: #008000\">I</span>][<span style=\"color: #008080; text-decoration-color: #008080; font-style: italic\">wordplay</span>/<span style=\"color: #000080; text-decoration-color: #000080\">trainer</span><span style=\"color: #0000ff; text-decoration-color: #0000ff\">:</span><span style=\"color: #800080; text-decoration-color: #800080\">894</span>]<span style=\"color: #c0c0c0; text-decoration-color: #c0c0c0\"> </span><span style=\"color: #0000ff; text-decoration-color: #0000ff\">step</span>=<span style=\"color: #008080; text-decoration-color: #008080; font-weight: bold\">1370</span> <span style=\"color: #0000ff; text-decoration-color: #0000ff\">loss</span>=<span style=\"color: #008080; text-decoration-color: #008080; font-weight: bold\">1.73757</span> <span style=\"color: #0000ff; text-decoration-color: #0000ff\">dt</span>=<span style=\"color: #008080; text-decoration-color: #008080; font-weight: bold\">0.377326</span> <span style=\"color: #0000ff; text-decoration-color: #0000ff\">dtf</span>=<span style=\"color: #008080; text-decoration-color: #008080; font-weight: bold\">0.009339</span> <span style=\"color: #0000ff; text-decoration-color: #0000ff\">dtb</span>=<span style=\"color: #008080; text-decoration-color: #008080; font-weight: bold\">0.0118509</span> <span style=\"color: #0000ff; text-decoration-color: #0000ff\">sps</span>=<span style=\"color: #008080; text-decoration-color: #008080; font-weight: bold\">2.65023</span> <span style=\"color: #0000ff; text-decoration-color: #0000ff\">sps_per_gpu</span>=<span style=\"color: #008080; text-decoration-color: #008080; font-weight: bold\">2.65023</span> <span style=\"color: #0000ff; text-decoration-color: #0000ff\">tps</span>=<span style=\"color: #008080; text-decoration-color: #008080; font-weight: bold\">21710.7</span> <span style=\"color: #0000ff; text-decoration-color: #0000ff\">tps_per_gpu</span>=<span style=\"color: #008080; text-decoration-color: #008080; font-weight: bold\">21710.7</span> <span style=\"color: #0000ff; text-decoration-color: #0000ff\">mfu</span>=<span style=\"color: #008080; text-decoration-color: #008080; font-weight: bold\">0.632622</span>\n",
              "</pre>\n"
            ]
          },
          "metadata": {}
        },
        {
          "output_type": "display_data",
          "data": {
            "text/plain": [
              "[\u001b[2m2025-07-23 \u001b[0m\u001b[2m17:29:46,582929\u001b[0m][\u001b[32mI\u001b[0m][\u001b[3;36mwordplay\u001b[0m/\u001b[34mtrainer\u001b[0m\u001b[94m:\u001b[0m\u001b[35m894\u001b[0m]\u001b[37m \u001b[0m\u001b[94mstep\u001b[0m=\u001b[1;36m1380\u001b[0m \u001b[94mloss\u001b[0m=\u001b[1;36m1\u001b[0m\u001b[1;36m.74524\u001b[0m \u001b[94mdt\u001b[0m=\u001b[1;36m0\u001b[0m\u001b[1;36m.373365\u001b[0m \u001b[94mdtf\u001b[0m=\u001b[1;36m0\u001b[0m\u001b[1;36m.00773357\u001b[0m \u001b[94mdtb\u001b[0m=\u001b[1;36m0\u001b[0m\u001b[1;36m.0100906\u001b[0m \u001b[94msps\u001b[0m=\u001b[1;36m2\u001b[0m\u001b[1;36m.67835\u001b[0m \u001b[94msps_per_gpu\u001b[0m=\u001b[1;36m2\u001b[0m\u001b[1;36m.67835\u001b[0m \u001b[94mtps\u001b[0m=\u001b[1;36m21941\u001b[0m \u001b[94mtps_per_gpu\u001b[0m=\u001b[1;36m21941\u001b[0m \u001b[94mmfu\u001b[0m=\u001b[1;36m0\u001b[0m\u001b[1;36m.634193\u001b[0m\n"
            ],
            "text/html": [
              "<pre style=\"white-space:pre;overflow-x:auto;line-height:normal;font-family:Menlo,'DejaVu Sans Mono',consolas,'Courier New',monospace\">[<span style=\"color: #7f7f7f; text-decoration-color: #7f7f7f\">2025-07-23 17:29:46,582929</span>][<span style=\"color: #008000; text-decoration-color: #008000\">I</span>][<span style=\"color: #008080; text-decoration-color: #008080; font-style: italic\">wordplay</span>/<span style=\"color: #000080; text-decoration-color: #000080\">trainer</span><span style=\"color: #0000ff; text-decoration-color: #0000ff\">:</span><span style=\"color: #800080; text-decoration-color: #800080\">894</span>]<span style=\"color: #c0c0c0; text-decoration-color: #c0c0c0\"> </span><span style=\"color: #0000ff; text-decoration-color: #0000ff\">step</span>=<span style=\"color: #008080; text-decoration-color: #008080; font-weight: bold\">1380</span> <span style=\"color: #0000ff; text-decoration-color: #0000ff\">loss</span>=<span style=\"color: #008080; text-decoration-color: #008080; font-weight: bold\">1.74524</span> <span style=\"color: #0000ff; text-decoration-color: #0000ff\">dt</span>=<span style=\"color: #008080; text-decoration-color: #008080; font-weight: bold\">0.373365</span> <span style=\"color: #0000ff; text-decoration-color: #0000ff\">dtf</span>=<span style=\"color: #008080; text-decoration-color: #008080; font-weight: bold\">0.00773357</span> <span style=\"color: #0000ff; text-decoration-color: #0000ff\">dtb</span>=<span style=\"color: #008080; text-decoration-color: #008080; font-weight: bold\">0.0100906</span> <span style=\"color: #0000ff; text-decoration-color: #0000ff\">sps</span>=<span style=\"color: #008080; text-decoration-color: #008080; font-weight: bold\">2.67835</span> <span style=\"color: #0000ff; text-decoration-color: #0000ff\">sps_per_gpu</span>=<span style=\"color: #008080; text-decoration-color: #008080; font-weight: bold\">2.67835</span> <span style=\"color: #0000ff; text-decoration-color: #0000ff\">tps</span>=<span style=\"color: #008080; text-decoration-color: #008080; font-weight: bold\">21941</span> <span style=\"color: #0000ff; text-decoration-color: #0000ff\">tps_per_gpu</span>=<span style=\"color: #008080; text-decoration-color: #008080; font-weight: bold\">21941</span> <span style=\"color: #0000ff; text-decoration-color: #0000ff\">mfu</span>=<span style=\"color: #008080; text-decoration-color: #008080; font-weight: bold\">0.634193</span>\n",
              "</pre>\n"
            ]
          },
          "metadata": {}
        },
        {
          "output_type": "display_data",
          "data": {
            "text/plain": [
              "[\u001b[2m2025-07-23 \u001b[0m\u001b[2m17:29:50,410901\u001b[0m][\u001b[32mI\u001b[0m][\u001b[3;36mwordplay\u001b[0m/\u001b[34mtrainer\u001b[0m\u001b[94m:\u001b[0m\u001b[35m894\u001b[0m]\u001b[37m \u001b[0m\u001b[94mstep\u001b[0m=\u001b[1;36m1390\u001b[0m \u001b[94mloss\u001b[0m=\u001b[1;36m1\u001b[0m\u001b[1;36m.75995\u001b[0m \u001b[94mdt\u001b[0m=\u001b[1;36m0\u001b[0m\u001b[1;36m.382166\u001b[0m \u001b[94mdtf\u001b[0m=\u001b[1;36m0\u001b[0m\u001b[1;36m.00797486\u001b[0m \u001b[94mdtb\u001b[0m=\u001b[1;36m0\u001b[0m\u001b[1;36m.0104627\u001b[0m \u001b[94msps\u001b[0m=\u001b[1;36m2\u001b[0m\u001b[1;36m.61667\u001b[0m \u001b[94msps_per_gpu\u001b[0m=\u001b[1;36m2\u001b[0m\u001b[1;36m.61667\u001b[0m \u001b[94mtps\u001b[0m=\u001b[1;36m21435\u001b[0m\u001b[1;36m.7\u001b[0m \u001b[94mtps_per_gpu\u001b[0m=\u001b[1;36m21435\u001b[0m\u001b[1;36m.7\u001b[0m \u001b[94mmfu\u001b[0m=\u001b[1;36m0\u001b[0m\u001b[1;36m.634113\u001b[0m\n"
            ],
            "text/html": [
              "<pre style=\"white-space:pre;overflow-x:auto;line-height:normal;font-family:Menlo,'DejaVu Sans Mono',consolas,'Courier New',monospace\">[<span style=\"color: #7f7f7f; text-decoration-color: #7f7f7f\">2025-07-23 17:29:50,410901</span>][<span style=\"color: #008000; text-decoration-color: #008000\">I</span>][<span style=\"color: #008080; text-decoration-color: #008080; font-style: italic\">wordplay</span>/<span style=\"color: #000080; text-decoration-color: #000080\">trainer</span><span style=\"color: #0000ff; text-decoration-color: #0000ff\">:</span><span style=\"color: #800080; text-decoration-color: #800080\">894</span>]<span style=\"color: #c0c0c0; text-decoration-color: #c0c0c0\"> </span><span style=\"color: #0000ff; text-decoration-color: #0000ff\">step</span>=<span style=\"color: #008080; text-decoration-color: #008080; font-weight: bold\">1390</span> <span style=\"color: #0000ff; text-decoration-color: #0000ff\">loss</span>=<span style=\"color: #008080; text-decoration-color: #008080; font-weight: bold\">1.75995</span> <span style=\"color: #0000ff; text-decoration-color: #0000ff\">dt</span>=<span style=\"color: #008080; text-decoration-color: #008080; font-weight: bold\">0.382166</span> <span style=\"color: #0000ff; text-decoration-color: #0000ff\">dtf</span>=<span style=\"color: #008080; text-decoration-color: #008080; font-weight: bold\">0.00797486</span> <span style=\"color: #0000ff; text-decoration-color: #0000ff\">dtb</span>=<span style=\"color: #008080; text-decoration-color: #008080; font-weight: bold\">0.0104627</span> <span style=\"color: #0000ff; text-decoration-color: #0000ff\">sps</span>=<span style=\"color: #008080; text-decoration-color: #008080; font-weight: bold\">2.61667</span> <span style=\"color: #0000ff; text-decoration-color: #0000ff\">sps_per_gpu</span>=<span style=\"color: #008080; text-decoration-color: #008080; font-weight: bold\">2.61667</span> <span style=\"color: #0000ff; text-decoration-color: #0000ff\">tps</span>=<span style=\"color: #008080; text-decoration-color: #008080; font-weight: bold\">21435.7</span> <span style=\"color: #0000ff; text-decoration-color: #0000ff\">tps_per_gpu</span>=<span style=\"color: #008080; text-decoration-color: #008080; font-weight: bold\">21435.7</span> <span style=\"color: #0000ff; text-decoration-color: #0000ff\">mfu</span>=<span style=\"color: #008080; text-decoration-color: #008080; font-weight: bold\">0.634113</span>\n",
              "</pre>\n"
            ]
          },
          "metadata": {}
        },
        {
          "output_type": "display_data",
          "data": {
            "text/plain": [
              "[\u001b[2m2025-07-23 \u001b[0m\u001b[2m17:29:54,241756\u001b[0m][\u001b[32mI\u001b[0m][\u001b[3;36mwordplay\u001b[0m/\u001b[34mtrainer\u001b[0m\u001b[94m:\u001b[0m\u001b[35m894\u001b[0m]\u001b[37m \u001b[0m\u001b[94mstep\u001b[0m=\u001b[1;36m1400\u001b[0m \u001b[94mloss\u001b[0m=\u001b[1;36m1\u001b[0m\u001b[1;36m.81278\u001b[0m \u001b[94mdt\u001b[0m=\u001b[1;36m0\u001b[0m\u001b[1;36m.391504\u001b[0m \u001b[94mdtf\u001b[0m=\u001b[1;36m0\u001b[0m\u001b[1;36m.0126958\u001b[0m \u001b[94mdtb\u001b[0m=\u001b[1;36m0\u001b[0m\u001b[1;36m.0182819\u001b[0m \u001b[94msps\u001b[0m=\u001b[1;36m2\u001b[0m\u001b[1;36m.55425\u001b[0m \u001b[94msps_per_gpu\u001b[0m=\u001b[1;36m2\u001b[0m\u001b[1;36m.55425\u001b[0m \u001b[94mtps\u001b[0m=\u001b[1;36m20924\u001b[0m\u001b[1;36m.4\u001b[0m \u001b[94mtps_per_gpu\u001b[0m=\u001b[1;36m20924\u001b[0m\u001b[1;36m.4\u001b[0m \u001b[94mmfu\u001b[0m=\u001b[1;36m0\u001b[0m\u001b[1;36m.632531\u001b[0m\n"
            ],
            "text/html": [
              "<pre style=\"white-space:pre;overflow-x:auto;line-height:normal;font-family:Menlo,'DejaVu Sans Mono',consolas,'Courier New',monospace\">[<span style=\"color: #7f7f7f; text-decoration-color: #7f7f7f\">2025-07-23 17:29:54,241756</span>][<span style=\"color: #008000; text-decoration-color: #008000\">I</span>][<span style=\"color: #008080; text-decoration-color: #008080; font-style: italic\">wordplay</span>/<span style=\"color: #000080; text-decoration-color: #000080\">trainer</span><span style=\"color: #0000ff; text-decoration-color: #0000ff\">:</span><span style=\"color: #800080; text-decoration-color: #800080\">894</span>]<span style=\"color: #c0c0c0; text-decoration-color: #c0c0c0\"> </span><span style=\"color: #0000ff; text-decoration-color: #0000ff\">step</span>=<span style=\"color: #008080; text-decoration-color: #008080; font-weight: bold\">1400</span> <span style=\"color: #0000ff; text-decoration-color: #0000ff\">loss</span>=<span style=\"color: #008080; text-decoration-color: #008080; font-weight: bold\">1.81278</span> <span style=\"color: #0000ff; text-decoration-color: #0000ff\">dt</span>=<span style=\"color: #008080; text-decoration-color: #008080; font-weight: bold\">0.391504</span> <span style=\"color: #0000ff; text-decoration-color: #0000ff\">dtf</span>=<span style=\"color: #008080; text-decoration-color: #008080; font-weight: bold\">0.0126958</span> <span style=\"color: #0000ff; text-decoration-color: #0000ff\">dtb</span>=<span style=\"color: #008080; text-decoration-color: #008080; font-weight: bold\">0.0182819</span> <span style=\"color: #0000ff; text-decoration-color: #0000ff\">sps</span>=<span style=\"color: #008080; text-decoration-color: #008080; font-weight: bold\">2.55425</span> <span style=\"color: #0000ff; text-decoration-color: #0000ff\">sps_per_gpu</span>=<span style=\"color: #008080; text-decoration-color: #008080; font-weight: bold\">2.55425</span> <span style=\"color: #0000ff; text-decoration-color: #0000ff\">tps</span>=<span style=\"color: #008080; text-decoration-color: #008080; font-weight: bold\">20924.4</span> <span style=\"color: #0000ff; text-decoration-color: #0000ff\">tps_per_gpu</span>=<span style=\"color: #008080; text-decoration-color: #008080; font-weight: bold\">20924.4</span> <span style=\"color: #0000ff; text-decoration-color: #0000ff\">mfu</span>=<span style=\"color: #008080; text-decoration-color: #008080; font-weight: bold\">0.632531</span>\n",
              "</pre>\n"
            ]
          },
          "metadata": {}
        },
        {
          "output_type": "display_data",
          "data": {
            "text/plain": [
              "[\u001b[2m2025-07-23 \u001b[0m\u001b[2m17:29:55,175194\u001b[0m][\u001b[32mI\u001b[0m][\u001b[3;36mwordplay\u001b[0m/\u001b[34mtrainer\u001b[0m\u001b[94m:\u001b[0m\u001b[35m827\u001b[0m]\u001b[37m \u001b[0m\u001b[95m[\u001b[0m\u001b[32m'prompt'\u001b[0m\u001b[95m]\u001b[0m: \u001b[32m'What is an LLM?'\u001b[0m\n"
            ],
            "text/html": [
              "<pre style=\"white-space:pre;overflow-x:auto;line-height:normal;font-family:Menlo,'DejaVu Sans Mono',consolas,'Courier New',monospace\">[<span style=\"color: #7f7f7f; text-decoration-color: #7f7f7f\">2025-07-23 17:29:55,175194</span>][<span style=\"color: #008000; text-decoration-color: #008000\">I</span>][<span style=\"color: #008080; text-decoration-color: #008080; font-style: italic\">wordplay</span>/<span style=\"color: #000080; text-decoration-color: #000080\">trainer</span><span style=\"color: #0000ff; text-decoration-color: #0000ff\">:</span><span style=\"color: #800080; text-decoration-color: #800080\">827</span>]<span style=\"color: #c0c0c0; text-decoration-color: #c0c0c0\"> </span><span style=\"color: #ff00ff; text-decoration-color: #ff00ff\">[</span><span style=\"color: #008000; text-decoration-color: #008000\">'prompt'</span><span style=\"color: #ff00ff; text-decoration-color: #ff00ff\">]</span>: <span style=\"color: #008000; text-decoration-color: #008000\">'What is an LLM?'</span>\n",
              "</pre>\n"
            ]
          },
          "metadata": {}
        },
        {
          "output_type": "display_data",
          "data": {
            "text/plain": [
              "[\u001b[2m2025-07-23 \u001b[0m\u001b[2m17:29:55,177068\u001b[0m][\u001b[32mI\u001b[0m][\u001b[3;36mwordplay\u001b[0m/\u001b[34mtrainer\u001b[0m\u001b[94m:\u001b[0m\u001b[35m831\u001b[0m]\u001b[37m \u001b[0m\u001b[95m[\u001b[0m\u001b[32m'response'\u001b[0m\u001b[95m]\u001b[0m:\n",
              "\n",
              "What is an LLM?\n",
              "\n",
              "ROHUMERS:\n",
              "Citizen:\n",
              "The's no worth bold of I heave is the port art.\n",
              "\n",
              "SICINIUS:\n",
              "Alay, sir, thou away the perfored,\n",
              "Belie a hard set the of to your pakial;\n",
              "Sirt are a a shall in thee.\n",
              "Yet come, I chould cound thy king will.\n",
              "\n",
              "BRATUS:\n",
              "The good is heart thou t\n"
            ],
            "text/html": [
              "<pre style=\"white-space:pre;overflow-x:auto;line-height:normal;font-family:Menlo,'DejaVu Sans Mono',consolas,'Courier New',monospace\">[<span style=\"color: #7f7f7f; text-decoration-color: #7f7f7f\">2025-07-23 17:29:55,177068</span>][<span style=\"color: #008000; text-decoration-color: #008000\">I</span>][<span style=\"color: #008080; text-decoration-color: #008080; font-style: italic\">wordplay</span>/<span style=\"color: #000080; text-decoration-color: #000080\">trainer</span><span style=\"color: #0000ff; text-decoration-color: #0000ff\">:</span><span style=\"color: #800080; text-decoration-color: #800080\">831</span>]<span style=\"color: #c0c0c0; text-decoration-color: #c0c0c0\"> </span><span style=\"color: #ff00ff; text-decoration-color: #ff00ff\">[</span><span style=\"color: #008000; text-decoration-color: #008000\">'response'</span><span style=\"color: #ff00ff; text-decoration-color: #ff00ff\">]</span>:\n",
              "\n",
              "What is an LLM?\n",
              "\n",
              "ROHUMERS:\n",
              "Citizen:\n",
              "The's no worth bold of I heave is the port art.\n",
              "\n",
              "SICINIUS:\n",
              "Alay, sir, thou away the perfored,\n",
              "Belie a hard set the of to your pakial;\n",
              "Sirt are a a shall in thee.\n",
              "Yet come, I chould cound thy king will.\n",
              "\n",
              "BRATUS:\n",
              "The good is heart thou t\n",
              "</pre>\n"
            ]
          },
          "metadata": {}
        },
        {
          "output_type": "display_data",
          "data": {
            "text/plain": [
              "[\u001b[2m2025-07-23 \u001b[0m\u001b[2m17:30:52,849338\u001b[0m][\u001b[32mI\u001b[0m][\u001b[3;36mwordplay\u001b[0m/\u001b[34mtrainer\u001b[0m\u001b[94m:\u001b[0m\u001b[35m762\u001b[0m]\u001b[37m \u001b[0mSaving checkpoint to: \u001b[35m/\u001b[0m\u001b[95mcontent\u001b[0m\n"
            ],
            "text/html": [
              "<pre style=\"white-space:pre;overflow-x:auto;line-height:normal;font-family:Menlo,'DejaVu Sans Mono',consolas,'Courier New',monospace\">[<span style=\"color: #7f7f7f; text-decoration-color: #7f7f7f\">2025-07-23 17:30:52,849338</span>][<span style=\"color: #008000; text-decoration-color: #008000\">I</span>][<span style=\"color: #008080; text-decoration-color: #008080; font-style: italic\">wordplay</span>/<span style=\"color: #000080; text-decoration-color: #000080\">trainer</span><span style=\"color: #0000ff; text-decoration-color: #0000ff\">:</span><span style=\"color: #800080; text-decoration-color: #800080\">762</span>]<span style=\"color: #c0c0c0; text-decoration-color: #c0c0c0\"> </span>Saving checkpoint to: <span style=\"color: #800080; text-decoration-color: #800080\">/</span><span style=\"color: #ff00ff; text-decoration-color: #ff00ff\">content</span>\n",
              "</pre>\n"
            ]
          },
          "metadata": {}
        },
        {
          "output_type": "display_data",
          "data": {
            "text/plain": [
              "[\u001b[2m2025-07-23 \u001b[0m\u001b[2m17:30:52,851168\u001b[0m][\u001b[32mI\u001b[0m][\u001b[3;36mwordplay\u001b[0m/\u001b[34mtrainer\u001b[0m\u001b[94m:\u001b[0m\u001b[35m763\u001b[0m]\u001b[37m \u001b[0mSaving model to: \u001b[35m/content/\u001b[0m\u001b[95mmodel.pth\u001b[0m\n"
            ],
            "text/html": [
              "<pre style=\"white-space:pre;overflow-x:auto;line-height:normal;font-family:Menlo,'DejaVu Sans Mono',consolas,'Courier New',monospace\">[<span style=\"color: #7f7f7f; text-decoration-color: #7f7f7f\">2025-07-23 17:30:52,851168</span>][<span style=\"color: #008000; text-decoration-color: #008000\">I</span>][<span style=\"color: #008080; text-decoration-color: #008080; font-style: italic\">wordplay</span>/<span style=\"color: #000080; text-decoration-color: #000080\">trainer</span><span style=\"color: #0000ff; text-decoration-color: #0000ff\">:</span><span style=\"color: #800080; text-decoration-color: #800080\">763</span>]<span style=\"color: #c0c0c0; text-decoration-color: #c0c0c0\"> </span>Saving model to: <span style=\"color: #800080; text-decoration-color: #800080\">/content/</span><span style=\"color: #ff00ff; text-decoration-color: #ff00ff\">model.pth</span>\n",
              "</pre>\n"
            ]
          },
          "metadata": {}
        },
        {
          "output_type": "display_data",
          "data": {
            "text/plain": [
              "[\u001b[2m2025-07-23 \u001b[0m\u001b[2m17:30:53,184812\u001b[0m][\u001b[32mI\u001b[0m][\u001b[3;36mwordplay\u001b[0m/\u001b[34mconfigs\u001b[0m\u001b[94m:\u001b[0m\u001b[35m141\u001b[0m]\u001b[37m \u001b[0mAppending \u001b[35m/\u001b[0m\u001b[95mcontent\u001b[0m to \u001b[35m/content/wordplay/src/ckpts/\u001b[0m\u001b[95mcheckpoints.log\u001b[0m\n"
            ],
            "text/html": [
              "<pre style=\"white-space:pre;overflow-x:auto;line-height:normal;font-family:Menlo,'DejaVu Sans Mono',consolas,'Courier New',monospace\">[<span style=\"color: #7f7f7f; text-decoration-color: #7f7f7f\">2025-07-23 17:30:53,184812</span>][<span style=\"color: #008000; text-decoration-color: #008000\">I</span>][<span style=\"color: #008080; text-decoration-color: #008080; font-style: italic\">wordplay</span>/<span style=\"color: #000080; text-decoration-color: #000080\">configs</span><span style=\"color: #0000ff; text-decoration-color: #0000ff\">:</span><span style=\"color: #800080; text-decoration-color: #800080\">141</span>]<span style=\"color: #c0c0c0; text-decoration-color: #c0c0c0\"> </span>Appending <span style=\"color: #800080; text-decoration-color: #800080\">/</span><span style=\"color: #ff00ff; text-decoration-color: #ff00ff\">content</span> to <span style=\"color: #800080; text-decoration-color: #800080\">/content/wordplay/src/ckpts/</span><span style=\"color: #ff00ff; text-decoration-color: #ff00ff\">checkpoints.log</span>\n",
              "</pre>\n"
            ]
          },
          "metadata": {}
        },
        {
          "output_type": "display_data",
          "data": {
            "text/plain": [
              "[\u001b[2m2025-07-23 \u001b[0m\u001b[2m17:30:57,012134\u001b[0m][\u001b[32mI\u001b[0m][\u001b[3;36mwordplay\u001b[0m/\u001b[34mtrainer\u001b[0m\u001b[94m:\u001b[0m\u001b[35m894\u001b[0m]\u001b[37m \u001b[0m\u001b[94mstep\u001b[0m=\u001b[1;36m1410\u001b[0m \u001b[94mloss\u001b[0m=\u001b[1;36m1\u001b[0m\u001b[1;36m.79791\u001b[0m \u001b[94mdt\u001b[0m=\u001b[1;36m0\u001b[0m\u001b[1;36m.381525\u001b[0m \u001b[94mdtf\u001b[0m=\u001b[1;36m0\u001b[0m\u001b[1;36m.00881983\u001b[0m \u001b[94mdtb\u001b[0m=\u001b[1;36m0\u001b[0m\u001b[1;36m.0102005\u001b[0m \u001b[94msps\u001b[0m=\u001b[1;36m2\u001b[0m\u001b[1;36m.62106\u001b[0m \u001b[94msps_per_gpu\u001b[0m=\u001b[1;36m2\u001b[0m\u001b[1;36m.62106\u001b[0m \u001b[94mtps\u001b[0m=\u001b[1;36m21471\u001b[0m\u001b[1;36m.7\u001b[0m \u001b[94mtps_per_gpu\u001b[0m=\u001b[1;36m21471\u001b[0m\u001b[1;36m.7\u001b[0m \u001b[94mmfu\u001b[0m=\u001b[1;36m0\u001b[0m\u001b[1;36m.632724\u001b[0m\n"
            ],
            "text/html": [
              "<pre style=\"white-space:pre;overflow-x:auto;line-height:normal;font-family:Menlo,'DejaVu Sans Mono',consolas,'Courier New',monospace\">[<span style=\"color: #7f7f7f; text-decoration-color: #7f7f7f\">2025-07-23 17:30:57,012134</span>][<span style=\"color: #008000; text-decoration-color: #008000\">I</span>][<span style=\"color: #008080; text-decoration-color: #008080; font-style: italic\">wordplay</span>/<span style=\"color: #000080; text-decoration-color: #000080\">trainer</span><span style=\"color: #0000ff; text-decoration-color: #0000ff\">:</span><span style=\"color: #800080; text-decoration-color: #800080\">894</span>]<span style=\"color: #c0c0c0; text-decoration-color: #c0c0c0\"> </span><span style=\"color: #0000ff; text-decoration-color: #0000ff\">step</span>=<span style=\"color: #008080; text-decoration-color: #008080; font-weight: bold\">1410</span> <span style=\"color: #0000ff; text-decoration-color: #0000ff\">loss</span>=<span style=\"color: #008080; text-decoration-color: #008080; font-weight: bold\">1.79791</span> <span style=\"color: #0000ff; text-decoration-color: #0000ff\">dt</span>=<span style=\"color: #008080; text-decoration-color: #008080; font-weight: bold\">0.381525</span> <span style=\"color: #0000ff; text-decoration-color: #0000ff\">dtf</span>=<span style=\"color: #008080; text-decoration-color: #008080; font-weight: bold\">0.00881983</span> <span style=\"color: #0000ff; text-decoration-color: #0000ff\">dtb</span>=<span style=\"color: #008080; text-decoration-color: #008080; font-weight: bold\">0.0102005</span> <span style=\"color: #0000ff; text-decoration-color: #0000ff\">sps</span>=<span style=\"color: #008080; text-decoration-color: #008080; font-weight: bold\">2.62106</span> <span style=\"color: #0000ff; text-decoration-color: #0000ff\">sps_per_gpu</span>=<span style=\"color: #008080; text-decoration-color: #008080; font-weight: bold\">2.62106</span> <span style=\"color: #0000ff; text-decoration-color: #0000ff\">tps</span>=<span style=\"color: #008080; text-decoration-color: #008080; font-weight: bold\">21471.7</span> <span style=\"color: #0000ff; text-decoration-color: #0000ff\">tps_per_gpu</span>=<span style=\"color: #008080; text-decoration-color: #008080; font-weight: bold\">21471.7</span> <span style=\"color: #0000ff; text-decoration-color: #0000ff\">mfu</span>=<span style=\"color: #008080; text-decoration-color: #008080; font-weight: bold\">0.632724</span>\n",
              "</pre>\n"
            ]
          },
          "metadata": {}
        },
        {
          "output_type": "display_data",
          "data": {
            "text/plain": [
              "[\u001b[2m2025-07-23 \u001b[0m\u001b[2m17:31:00,841188\u001b[0m][\u001b[32mI\u001b[0m][\u001b[3;36mwordplay\u001b[0m/\u001b[34mtrainer\u001b[0m\u001b[94m:\u001b[0m\u001b[35m894\u001b[0m]\u001b[37m \u001b[0m\u001b[94mstep\u001b[0m=\u001b[1;36m1420\u001b[0m \u001b[94mloss\u001b[0m=\u001b[1;36m1\u001b[0m\u001b[1;36m.74375\u001b[0m \u001b[94mdt\u001b[0m=\u001b[1;36m0\u001b[0m\u001b[1;36m.381039\u001b[0m \u001b[94mdtf\u001b[0m=\u001b[1;36m0\u001b[0m\u001b[1;36m.00761951\u001b[0m \u001b[94mdtb\u001b[0m=\u001b[1;36m0\u001b[0m\u001b[1;36m.0101972\u001b[0m \u001b[94msps\u001b[0m=\u001b[1;36m2\u001b[0m\u001b[1;36m.6244\u001b[0m \u001b[94msps_per_gpu\u001b[0m=\u001b[1;36m2\u001b[0m\u001b[1;36m.6244\u001b[0m \u001b[94mtps\u001b[0m=\u001b[1;36m21499\u001b[0m\u001b[1;36m.1\u001b[0m \u001b[94mtps_per_gpu\u001b[0m=\u001b[1;36m21499\u001b[0m\u001b[1;36m.1\u001b[0m \u001b[94mmfu\u001b[0m=\u001b[1;36m0\u001b[0m\u001b[1;36m.632979\u001b[0m\n"
            ],
            "text/html": [
              "<pre style=\"white-space:pre;overflow-x:auto;line-height:normal;font-family:Menlo,'DejaVu Sans Mono',consolas,'Courier New',monospace\">[<span style=\"color: #7f7f7f; text-decoration-color: #7f7f7f\">2025-07-23 17:31:00,841188</span>][<span style=\"color: #008000; text-decoration-color: #008000\">I</span>][<span style=\"color: #008080; text-decoration-color: #008080; font-style: italic\">wordplay</span>/<span style=\"color: #000080; text-decoration-color: #000080\">trainer</span><span style=\"color: #0000ff; text-decoration-color: #0000ff\">:</span><span style=\"color: #800080; text-decoration-color: #800080\">894</span>]<span style=\"color: #c0c0c0; text-decoration-color: #c0c0c0\"> </span><span style=\"color: #0000ff; text-decoration-color: #0000ff\">step</span>=<span style=\"color: #008080; text-decoration-color: #008080; font-weight: bold\">1420</span> <span style=\"color: #0000ff; text-decoration-color: #0000ff\">loss</span>=<span style=\"color: #008080; text-decoration-color: #008080; font-weight: bold\">1.74375</span> <span style=\"color: #0000ff; text-decoration-color: #0000ff\">dt</span>=<span style=\"color: #008080; text-decoration-color: #008080; font-weight: bold\">0.381039</span> <span style=\"color: #0000ff; text-decoration-color: #0000ff\">dtf</span>=<span style=\"color: #008080; text-decoration-color: #008080; font-weight: bold\">0.00761951</span> <span style=\"color: #0000ff; text-decoration-color: #0000ff\">dtb</span>=<span style=\"color: #008080; text-decoration-color: #008080; font-weight: bold\">0.0101972</span> <span style=\"color: #0000ff; text-decoration-color: #0000ff\">sps</span>=<span style=\"color: #008080; text-decoration-color: #008080; font-weight: bold\">2.6244</span> <span style=\"color: #0000ff; text-decoration-color: #0000ff\">sps_per_gpu</span>=<span style=\"color: #008080; text-decoration-color: #008080; font-weight: bold\">2.6244</span> <span style=\"color: #0000ff; text-decoration-color: #0000ff\">tps</span>=<span style=\"color: #008080; text-decoration-color: #008080; font-weight: bold\">21499.1</span> <span style=\"color: #0000ff; text-decoration-color: #0000ff\">tps_per_gpu</span>=<span style=\"color: #008080; text-decoration-color: #008080; font-weight: bold\">21499.1</span> <span style=\"color: #0000ff; text-decoration-color: #0000ff\">mfu</span>=<span style=\"color: #008080; text-decoration-color: #008080; font-weight: bold\">0.632979</span>\n",
              "</pre>\n"
            ]
          },
          "metadata": {}
        },
        {
          "output_type": "display_data",
          "data": {
            "text/plain": [
              "[\u001b[2m2025-07-23 \u001b[0m\u001b[2m17:31:04,675786\u001b[0m][\u001b[32mI\u001b[0m][\u001b[3;36mwordplay\u001b[0m/\u001b[34mtrainer\u001b[0m\u001b[94m:\u001b[0m\u001b[35m894\u001b[0m]\u001b[37m \u001b[0m\u001b[94mstep\u001b[0m=\u001b[1;36m1430\u001b[0m \u001b[94mloss\u001b[0m=\u001b[1;36m1\u001b[0m\u001b[1;36m.73401\u001b[0m \u001b[94mdt\u001b[0m=\u001b[1;36m0\u001b[0m\u001b[1;36m.388151\u001b[0m \u001b[94mdtf\u001b[0m=\u001b[1;36m0\u001b[0m\u001b[1;36m.00959453\u001b[0m \u001b[94mdtb\u001b[0m=\u001b[1;36m0\u001b[0m\u001b[1;36m.0123491\u001b[0m \u001b[94msps\u001b[0m=\u001b[1;36m2\u001b[0m\u001b[1;36m.57631\u001b[0m \u001b[94msps_per_gpu\u001b[0m=\u001b[1;36m2\u001b[0m\u001b[1;36m.57631\u001b[0m \u001b[94mtps\u001b[0m=\u001b[1;36m21105\u001b[0m\u001b[1;36m.2\u001b[0m \u001b[94mtps_per_gpu\u001b[0m=\u001b[1;36m21105\u001b[0m\u001b[1;36m.2\u001b[0m \u001b[94mmfu\u001b[0m=\u001b[1;36m0\u001b[0m\u001b[1;36m.632045\u001b[0m\n"
            ],
            "text/html": [
              "<pre style=\"white-space:pre;overflow-x:auto;line-height:normal;font-family:Menlo,'DejaVu Sans Mono',consolas,'Courier New',monospace\">[<span style=\"color: #7f7f7f; text-decoration-color: #7f7f7f\">2025-07-23 17:31:04,675786</span>][<span style=\"color: #008000; text-decoration-color: #008000\">I</span>][<span style=\"color: #008080; text-decoration-color: #008080; font-style: italic\">wordplay</span>/<span style=\"color: #000080; text-decoration-color: #000080\">trainer</span><span style=\"color: #0000ff; text-decoration-color: #0000ff\">:</span><span style=\"color: #800080; text-decoration-color: #800080\">894</span>]<span style=\"color: #c0c0c0; text-decoration-color: #c0c0c0\"> </span><span style=\"color: #0000ff; text-decoration-color: #0000ff\">step</span>=<span style=\"color: #008080; text-decoration-color: #008080; font-weight: bold\">1430</span> <span style=\"color: #0000ff; text-decoration-color: #0000ff\">loss</span>=<span style=\"color: #008080; text-decoration-color: #008080; font-weight: bold\">1.73401</span> <span style=\"color: #0000ff; text-decoration-color: #0000ff\">dt</span>=<span style=\"color: #008080; text-decoration-color: #008080; font-weight: bold\">0.388151</span> <span style=\"color: #0000ff; text-decoration-color: #0000ff\">dtf</span>=<span style=\"color: #008080; text-decoration-color: #008080; font-weight: bold\">0.00959453</span> <span style=\"color: #0000ff; text-decoration-color: #0000ff\">dtb</span>=<span style=\"color: #008080; text-decoration-color: #008080; font-weight: bold\">0.0123491</span> <span style=\"color: #0000ff; text-decoration-color: #0000ff\">sps</span>=<span style=\"color: #008080; text-decoration-color: #008080; font-weight: bold\">2.57631</span> <span style=\"color: #0000ff; text-decoration-color: #0000ff\">sps_per_gpu</span>=<span style=\"color: #008080; text-decoration-color: #008080; font-weight: bold\">2.57631</span> <span style=\"color: #0000ff; text-decoration-color: #0000ff\">tps</span>=<span style=\"color: #008080; text-decoration-color: #008080; font-weight: bold\">21105.2</span> <span style=\"color: #0000ff; text-decoration-color: #0000ff\">tps_per_gpu</span>=<span style=\"color: #008080; text-decoration-color: #008080; font-weight: bold\">21105.2</span> <span style=\"color: #0000ff; text-decoration-color: #0000ff\">mfu</span>=<span style=\"color: #008080; text-decoration-color: #008080; font-weight: bold\">0.632045</span>\n",
              "</pre>\n"
            ]
          },
          "metadata": {}
        },
        {
          "output_type": "display_data",
          "data": {
            "text/plain": [
              "[\u001b[2m2025-07-23 \u001b[0m\u001b[2m17:31:08,511906\u001b[0m][\u001b[32mI\u001b[0m][\u001b[3;36mwordplay\u001b[0m/\u001b[34mtrainer\u001b[0m\u001b[94m:\u001b[0m\u001b[35m894\u001b[0m]\u001b[37m \u001b[0m\u001b[94mstep\u001b[0m=\u001b[1;36m1440\u001b[0m \u001b[94mloss\u001b[0m=\u001b[1;36m1\u001b[0m\u001b[1;36m.72673\u001b[0m \u001b[94mdt\u001b[0m=\u001b[1;36m0\u001b[0m\u001b[1;36m.380442\u001b[0m \u001b[94mdtf\u001b[0m=\u001b[1;36m0\u001b[0m\u001b[1;36m.00765078\u001b[0m \u001b[94mdtb\u001b[0m=\u001b[1;36m0\u001b[0m\u001b[1;36m.00993138\u001b[0m \u001b[94msps\u001b[0m=\u001b[1;36m2\u001b[0m\u001b[1;36m.62852\u001b[0m \u001b[94msps_per_gpu\u001b[0m=\u001b[1;36m2\u001b[0m\u001b[1;36m.62852\u001b[0m \u001b[94mtps\u001b[0m=\u001b[1;36m21532\u001b[0m\u001b[1;36m.8\u001b[0m \u001b[94mtps_per_gpu\u001b[0m=\u001b[1;36m21532\u001b[0m\u001b[1;36m.8\u001b[0m \u001b[94mmfu\u001b[0m=\u001b[1;36m0\u001b[0m\u001b[1;36m.632467\u001b[0m\n"
            ],
            "text/html": [
              "<pre style=\"white-space:pre;overflow-x:auto;line-height:normal;font-family:Menlo,'DejaVu Sans Mono',consolas,'Courier New',monospace\">[<span style=\"color: #7f7f7f; text-decoration-color: #7f7f7f\">2025-07-23 17:31:08,511906</span>][<span style=\"color: #008000; text-decoration-color: #008000\">I</span>][<span style=\"color: #008080; text-decoration-color: #008080; font-style: italic\">wordplay</span>/<span style=\"color: #000080; text-decoration-color: #000080\">trainer</span><span style=\"color: #0000ff; text-decoration-color: #0000ff\">:</span><span style=\"color: #800080; text-decoration-color: #800080\">894</span>]<span style=\"color: #c0c0c0; text-decoration-color: #c0c0c0\"> </span><span style=\"color: #0000ff; text-decoration-color: #0000ff\">step</span>=<span style=\"color: #008080; text-decoration-color: #008080; font-weight: bold\">1440</span> <span style=\"color: #0000ff; text-decoration-color: #0000ff\">loss</span>=<span style=\"color: #008080; text-decoration-color: #008080; font-weight: bold\">1.72673</span> <span style=\"color: #0000ff; text-decoration-color: #0000ff\">dt</span>=<span style=\"color: #008080; text-decoration-color: #008080; font-weight: bold\">0.380442</span> <span style=\"color: #0000ff; text-decoration-color: #0000ff\">dtf</span>=<span style=\"color: #008080; text-decoration-color: #008080; font-weight: bold\">0.00765078</span> <span style=\"color: #0000ff; text-decoration-color: #0000ff\">dtb</span>=<span style=\"color: #008080; text-decoration-color: #008080; font-weight: bold\">0.00993138</span> <span style=\"color: #0000ff; text-decoration-color: #0000ff\">sps</span>=<span style=\"color: #008080; text-decoration-color: #008080; font-weight: bold\">2.62852</span> <span style=\"color: #0000ff; text-decoration-color: #0000ff\">sps_per_gpu</span>=<span style=\"color: #008080; text-decoration-color: #008080; font-weight: bold\">2.62852</span> <span style=\"color: #0000ff; text-decoration-color: #0000ff\">tps</span>=<span style=\"color: #008080; text-decoration-color: #008080; font-weight: bold\">21532.8</span> <span style=\"color: #0000ff; text-decoration-color: #0000ff\">tps_per_gpu</span>=<span style=\"color: #008080; text-decoration-color: #008080; font-weight: bold\">21532.8</span> <span style=\"color: #0000ff; text-decoration-color: #0000ff\">mfu</span>=<span style=\"color: #008080; text-decoration-color: #008080; font-weight: bold\">0.632467</span>\n",
              "</pre>\n"
            ]
          },
          "metadata": {}
        },
        {
          "output_type": "display_data",
          "data": {
            "text/plain": [
              "[\u001b[2m2025-07-23 \u001b[0m\u001b[2m17:31:12,350823\u001b[0m][\u001b[32mI\u001b[0m][\u001b[3;36mwordplay\u001b[0m/\u001b[34mtrainer\u001b[0m\u001b[94m:\u001b[0m\u001b[35m894\u001b[0m]\u001b[37m \u001b[0m\u001b[94mstep\u001b[0m=\u001b[1;36m1450\u001b[0m \u001b[94mloss\u001b[0m=\u001b[1;36m1\u001b[0m\u001b[1;36m.75055\u001b[0m \u001b[94mdt\u001b[0m=\u001b[1;36m0\u001b[0m\u001b[1;36m.384587\u001b[0m \u001b[94mdtf\u001b[0m=\u001b[1;36m0\u001b[0m\u001b[1;36m.00793686\u001b[0m \u001b[94mdtb\u001b[0m=\u001b[1;36m0\u001b[0m\u001b[1;36m.0107903\u001b[0m \u001b[94msps\u001b[0m=\u001b[1;36m2\u001b[0m\u001b[1;36m.60019\u001b[0m \u001b[94msps_per_gpu\u001b[0m=\u001b[1;36m2\u001b[0m\u001b[1;36m.60019\u001b[0m \u001b[94mtps\u001b[0m=\u001b[1;36m21300\u001b[0m\u001b[1;36m.8\u001b[0m \u001b[94mtps_per_gpu\u001b[0m=\u001b[1;36m21300\u001b[0m\u001b[1;36m.8\u001b[0m \u001b[94mmfu\u001b[0m=\u001b[1;36m0\u001b[0m\u001b[1;36m.632162\u001b[0m\n"
            ],
            "text/html": [
              "<pre style=\"white-space:pre;overflow-x:auto;line-height:normal;font-family:Menlo,'DejaVu Sans Mono',consolas,'Courier New',monospace\">[<span style=\"color: #7f7f7f; text-decoration-color: #7f7f7f\">2025-07-23 17:31:12,350823</span>][<span style=\"color: #008000; text-decoration-color: #008000\">I</span>][<span style=\"color: #008080; text-decoration-color: #008080; font-style: italic\">wordplay</span>/<span style=\"color: #000080; text-decoration-color: #000080\">trainer</span><span style=\"color: #0000ff; text-decoration-color: #0000ff\">:</span><span style=\"color: #800080; text-decoration-color: #800080\">894</span>]<span style=\"color: #c0c0c0; text-decoration-color: #c0c0c0\"> </span><span style=\"color: #0000ff; text-decoration-color: #0000ff\">step</span>=<span style=\"color: #008080; text-decoration-color: #008080; font-weight: bold\">1450</span> <span style=\"color: #0000ff; text-decoration-color: #0000ff\">loss</span>=<span style=\"color: #008080; text-decoration-color: #008080; font-weight: bold\">1.75055</span> <span style=\"color: #0000ff; text-decoration-color: #0000ff\">dt</span>=<span style=\"color: #008080; text-decoration-color: #008080; font-weight: bold\">0.384587</span> <span style=\"color: #0000ff; text-decoration-color: #0000ff\">dtf</span>=<span style=\"color: #008080; text-decoration-color: #008080; font-weight: bold\">0.00793686</span> <span style=\"color: #0000ff; text-decoration-color: #0000ff\">dtb</span>=<span style=\"color: #008080; text-decoration-color: #008080; font-weight: bold\">0.0107903</span> <span style=\"color: #0000ff; text-decoration-color: #0000ff\">sps</span>=<span style=\"color: #008080; text-decoration-color: #008080; font-weight: bold\">2.60019</span> <span style=\"color: #0000ff; text-decoration-color: #0000ff\">sps_per_gpu</span>=<span style=\"color: #008080; text-decoration-color: #008080; font-weight: bold\">2.60019</span> <span style=\"color: #0000ff; text-decoration-color: #0000ff\">tps</span>=<span style=\"color: #008080; text-decoration-color: #008080; font-weight: bold\">21300.8</span> <span style=\"color: #0000ff; text-decoration-color: #0000ff\">tps_per_gpu</span>=<span style=\"color: #008080; text-decoration-color: #008080; font-weight: bold\">21300.8</span> <span style=\"color: #0000ff; text-decoration-color: #0000ff\">mfu</span>=<span style=\"color: #008080; text-decoration-color: #008080; font-weight: bold\">0.632162</span>\n",
              "</pre>\n"
            ]
          },
          "metadata": {}
        },
        {
          "output_type": "display_data",
          "data": {
            "text/plain": [
              "[\u001b[2m2025-07-23 \u001b[0m\u001b[2m17:31:16,189335\u001b[0m][\u001b[32mI\u001b[0m][\u001b[3;36mwordplay\u001b[0m/\u001b[34mtrainer\u001b[0m\u001b[94m:\u001b[0m\u001b[35m894\u001b[0m]\u001b[37m \u001b[0m\u001b[94mstep\u001b[0m=\u001b[1;36m1460\u001b[0m \u001b[94mloss\u001b[0m=\u001b[1;36m1\u001b[0m\u001b[1;36m.68073\u001b[0m \u001b[94mdt\u001b[0m=\u001b[1;36m0\u001b[0m\u001b[1;36m.381957\u001b[0m \u001b[94mdtf\u001b[0m=\u001b[1;36m0\u001b[0m\u001b[1;36m.00771424\u001b[0m \u001b[94mdtb\u001b[0m=\u001b[1;36m0\u001b[0m\u001b[1;36m.00991214\u001b[0m \u001b[94msps\u001b[0m=\u001b[1;36m2\u001b[0m\u001b[1;36m.6181\u001b[0m \u001b[94msps_per_gpu\u001b[0m=\u001b[1;36m2\u001b[0m\u001b[1;36m.6181\u001b[0m \u001b[94mtps\u001b[0m=\u001b[1;36m21447\u001b[0m\u001b[1;36m.4\u001b[0m \u001b[94mtps_per_gpu\u001b[0m=\u001b[1;36m21447\u001b[0m\u001b[1;36m.4\u001b[0m \u001b[94mmfu\u001b[0m=\u001b[1;36m0\u001b[0m\u001b[1;36m.63232\u001b[0m\n"
            ],
            "text/html": [
              "<pre style=\"white-space:pre;overflow-x:auto;line-height:normal;font-family:Menlo,'DejaVu Sans Mono',consolas,'Courier New',monospace\">[<span style=\"color: #7f7f7f; text-decoration-color: #7f7f7f\">2025-07-23 17:31:16,189335</span>][<span style=\"color: #008000; text-decoration-color: #008000\">I</span>][<span style=\"color: #008080; text-decoration-color: #008080; font-style: italic\">wordplay</span>/<span style=\"color: #000080; text-decoration-color: #000080\">trainer</span><span style=\"color: #0000ff; text-decoration-color: #0000ff\">:</span><span style=\"color: #800080; text-decoration-color: #800080\">894</span>]<span style=\"color: #c0c0c0; text-decoration-color: #c0c0c0\"> </span><span style=\"color: #0000ff; text-decoration-color: #0000ff\">step</span>=<span style=\"color: #008080; text-decoration-color: #008080; font-weight: bold\">1460</span> <span style=\"color: #0000ff; text-decoration-color: #0000ff\">loss</span>=<span style=\"color: #008080; text-decoration-color: #008080; font-weight: bold\">1.68073</span> <span style=\"color: #0000ff; text-decoration-color: #0000ff\">dt</span>=<span style=\"color: #008080; text-decoration-color: #008080; font-weight: bold\">0.381957</span> <span style=\"color: #0000ff; text-decoration-color: #0000ff\">dtf</span>=<span style=\"color: #008080; text-decoration-color: #008080; font-weight: bold\">0.00771424</span> <span style=\"color: #0000ff; text-decoration-color: #0000ff\">dtb</span>=<span style=\"color: #008080; text-decoration-color: #008080; font-weight: bold\">0.00991214</span> <span style=\"color: #0000ff; text-decoration-color: #0000ff\">sps</span>=<span style=\"color: #008080; text-decoration-color: #008080; font-weight: bold\">2.6181</span> <span style=\"color: #0000ff; text-decoration-color: #0000ff\">sps_per_gpu</span>=<span style=\"color: #008080; text-decoration-color: #008080; font-weight: bold\">2.6181</span> <span style=\"color: #0000ff; text-decoration-color: #0000ff\">tps</span>=<span style=\"color: #008080; text-decoration-color: #008080; font-weight: bold\">21447.4</span> <span style=\"color: #0000ff; text-decoration-color: #0000ff\">tps_per_gpu</span>=<span style=\"color: #008080; text-decoration-color: #008080; font-weight: bold\">21447.4</span> <span style=\"color: #0000ff; text-decoration-color: #0000ff\">mfu</span>=<span style=\"color: #008080; text-decoration-color: #008080; font-weight: bold\">0.63232</span>\n",
              "</pre>\n"
            ]
          },
          "metadata": {}
        },
        {
          "output_type": "display_data",
          "data": {
            "text/plain": [
              "[\u001b[2m2025-07-23 \u001b[0m\u001b[2m17:31:20,023731\u001b[0m][\u001b[32mI\u001b[0m][\u001b[3;36mwordplay\u001b[0m/\u001b[34mtrainer\u001b[0m\u001b[94m:\u001b[0m\u001b[35m894\u001b[0m]\u001b[37m \u001b[0m\u001b[94mstep\u001b[0m=\u001b[1;36m1470\u001b[0m \u001b[94mloss\u001b[0m=\u001b[1;36m1\u001b[0m\u001b[1;36m.71749\u001b[0m \u001b[94mdt\u001b[0m=\u001b[1;36m0\u001b[0m\u001b[1;36m.389038\u001b[0m \u001b[94mdtf\u001b[0m=\u001b[1;36m0\u001b[0m\u001b[1;36m.0123934\u001b[0m \u001b[94mdtb\u001b[0m=\u001b[1;36m0\u001b[0m\u001b[1;36m.016246\u001b[0m \u001b[94msps\u001b[0m=\u001b[1;36m2\u001b[0m\u001b[1;36m.57045\u001b[0m \u001b[94msps_per_gpu\u001b[0m=\u001b[1;36m2\u001b[0m\u001b[1;36m.57045\u001b[0m \u001b[94mtps\u001b[0m=\u001b[1;36m21057\u001b[0m\u001b[1;36m.1\u001b[0m \u001b[94mtps_per_gpu\u001b[0m=\u001b[1;36m21057\u001b[0m\u001b[1;36m.1\u001b[0m \u001b[94mmfu\u001b[0m=\u001b[1;36m0\u001b[0m\u001b[1;36m.631309\u001b[0m\n"
            ],
            "text/html": [
              "<pre style=\"white-space:pre;overflow-x:auto;line-height:normal;font-family:Menlo,'DejaVu Sans Mono',consolas,'Courier New',monospace\">[<span style=\"color: #7f7f7f; text-decoration-color: #7f7f7f\">2025-07-23 17:31:20,023731</span>][<span style=\"color: #008000; text-decoration-color: #008000\">I</span>][<span style=\"color: #008080; text-decoration-color: #008080; font-style: italic\">wordplay</span>/<span style=\"color: #000080; text-decoration-color: #000080\">trainer</span><span style=\"color: #0000ff; text-decoration-color: #0000ff\">:</span><span style=\"color: #800080; text-decoration-color: #800080\">894</span>]<span style=\"color: #c0c0c0; text-decoration-color: #c0c0c0\"> </span><span style=\"color: #0000ff; text-decoration-color: #0000ff\">step</span>=<span style=\"color: #008080; text-decoration-color: #008080; font-weight: bold\">1470</span> <span style=\"color: #0000ff; text-decoration-color: #0000ff\">loss</span>=<span style=\"color: #008080; text-decoration-color: #008080; font-weight: bold\">1.71749</span> <span style=\"color: #0000ff; text-decoration-color: #0000ff\">dt</span>=<span style=\"color: #008080; text-decoration-color: #008080; font-weight: bold\">0.389038</span> <span style=\"color: #0000ff; text-decoration-color: #0000ff\">dtf</span>=<span style=\"color: #008080; text-decoration-color: #008080; font-weight: bold\">0.0123934</span> <span style=\"color: #0000ff; text-decoration-color: #0000ff\">dtb</span>=<span style=\"color: #008080; text-decoration-color: #008080; font-weight: bold\">0.016246</span> <span style=\"color: #0000ff; text-decoration-color: #0000ff\">sps</span>=<span style=\"color: #008080; text-decoration-color: #008080; font-weight: bold\">2.57045</span> <span style=\"color: #0000ff; text-decoration-color: #0000ff\">sps_per_gpu</span>=<span style=\"color: #008080; text-decoration-color: #008080; font-weight: bold\">2.57045</span> <span style=\"color: #0000ff; text-decoration-color: #0000ff\">tps</span>=<span style=\"color: #008080; text-decoration-color: #008080; font-weight: bold\">21057.1</span> <span style=\"color: #0000ff; text-decoration-color: #0000ff\">tps_per_gpu</span>=<span style=\"color: #008080; text-decoration-color: #008080; font-weight: bold\">21057.1</span> <span style=\"color: #0000ff; text-decoration-color: #0000ff\">mfu</span>=<span style=\"color: #008080; text-decoration-color: #008080; font-weight: bold\">0.631309</span>\n",
              "</pre>\n"
            ]
          },
          "metadata": {}
        },
        {
          "output_type": "display_data",
          "data": {
            "text/plain": [
              "[\u001b[2m2025-07-23 \u001b[0m\u001b[2m17:31:23,858642\u001b[0m][\u001b[32mI\u001b[0m][\u001b[3;36mwordplay\u001b[0m/\u001b[34mtrainer\u001b[0m\u001b[94m:\u001b[0m\u001b[35m894\u001b[0m]\u001b[37m \u001b[0m\u001b[94mstep\u001b[0m=\u001b[1;36m1480\u001b[0m \u001b[94mloss\u001b[0m=\u001b[1;36m1\u001b[0m\u001b[1;36m.72494\u001b[0m \u001b[94mdt\u001b[0m=\u001b[1;36m0\u001b[0m\u001b[1;36m.380766\u001b[0m \u001b[94mdtf\u001b[0m=\u001b[1;36m0\u001b[0m\u001b[1;36m.00802833\u001b[0m \u001b[94mdtb\u001b[0m=\u001b[1;36m0\u001b[0m\u001b[1;36m.0109163\u001b[0m \u001b[94msps\u001b[0m=\u001b[1;36m2\u001b[0m\u001b[1;36m.62629\u001b[0m \u001b[94msps_per_gpu\u001b[0m=\u001b[1;36m2\u001b[0m\u001b[1;36m.62629\u001b[0m \u001b[94mtps\u001b[0m=\u001b[1;36m21514\u001b[0m\u001b[1;36m.5\u001b[0m \u001b[94mtps_per_gpu\u001b[0m=\u001b[1;36m21514\u001b[0m\u001b[1;36m.5\u001b[0m \u001b[94mmfu\u001b[0m=\u001b[1;36m0\u001b[0m\u001b[1;36m.631751\u001b[0m\n"
            ],
            "text/html": [
              "<pre style=\"white-space:pre;overflow-x:auto;line-height:normal;font-family:Menlo,'DejaVu Sans Mono',consolas,'Courier New',monospace\">[<span style=\"color: #7f7f7f; text-decoration-color: #7f7f7f\">2025-07-23 17:31:23,858642</span>][<span style=\"color: #008000; text-decoration-color: #008000\">I</span>][<span style=\"color: #008080; text-decoration-color: #008080; font-style: italic\">wordplay</span>/<span style=\"color: #000080; text-decoration-color: #000080\">trainer</span><span style=\"color: #0000ff; text-decoration-color: #0000ff\">:</span><span style=\"color: #800080; text-decoration-color: #800080\">894</span>]<span style=\"color: #c0c0c0; text-decoration-color: #c0c0c0\"> </span><span style=\"color: #0000ff; text-decoration-color: #0000ff\">step</span>=<span style=\"color: #008080; text-decoration-color: #008080; font-weight: bold\">1480</span> <span style=\"color: #0000ff; text-decoration-color: #0000ff\">loss</span>=<span style=\"color: #008080; text-decoration-color: #008080; font-weight: bold\">1.72494</span> <span style=\"color: #0000ff; text-decoration-color: #0000ff\">dt</span>=<span style=\"color: #008080; text-decoration-color: #008080; font-weight: bold\">0.380766</span> <span style=\"color: #0000ff; text-decoration-color: #0000ff\">dtf</span>=<span style=\"color: #008080; text-decoration-color: #008080; font-weight: bold\">0.00802833</span> <span style=\"color: #0000ff; text-decoration-color: #0000ff\">dtb</span>=<span style=\"color: #008080; text-decoration-color: #008080; font-weight: bold\">0.0109163</span> <span style=\"color: #0000ff; text-decoration-color: #0000ff\">sps</span>=<span style=\"color: #008080; text-decoration-color: #008080; font-weight: bold\">2.62629</span> <span style=\"color: #0000ff; text-decoration-color: #0000ff\">sps_per_gpu</span>=<span style=\"color: #008080; text-decoration-color: #008080; font-weight: bold\">2.62629</span> <span style=\"color: #0000ff; text-decoration-color: #0000ff\">tps</span>=<span style=\"color: #008080; text-decoration-color: #008080; font-weight: bold\">21514.5</span> <span style=\"color: #0000ff; text-decoration-color: #0000ff\">tps_per_gpu</span>=<span style=\"color: #008080; text-decoration-color: #008080; font-weight: bold\">21514.5</span> <span style=\"color: #0000ff; text-decoration-color: #0000ff\">mfu</span>=<span style=\"color: #008080; text-decoration-color: #008080; font-weight: bold\">0.631751</span>\n",
              "</pre>\n"
            ]
          },
          "metadata": {}
        },
        {
          "output_type": "display_data",
          "data": {
            "text/plain": [
              "[\u001b[2m2025-07-23 \u001b[0m\u001b[2m17:31:27,693442\u001b[0m][\u001b[32mI\u001b[0m][\u001b[3;36mwordplay\u001b[0m/\u001b[34mtrainer\u001b[0m\u001b[94m:\u001b[0m\u001b[35m894\u001b[0m]\u001b[37m \u001b[0m\u001b[94mstep\u001b[0m=\u001b[1;36m1490\u001b[0m \u001b[94mloss\u001b[0m=\u001b[1;36m1\u001b[0m\u001b[1;36m.72521\u001b[0m \u001b[94mdt\u001b[0m=\u001b[1;36m0\u001b[0m\u001b[1;36m.384513\u001b[0m \u001b[94mdtf\u001b[0m=\u001b[1;36m0\u001b[0m\u001b[1;36m.00979085\u001b[0m \u001b[94mdtb\u001b[0m=\u001b[1;36m0\u001b[0m\u001b[1;36m.0104102\u001b[0m \u001b[94msps\u001b[0m=\u001b[1;36m2\u001b[0m\u001b[1;36m.60069\u001b[0m \u001b[94msps_per_gpu\u001b[0m=\u001b[1;36m2\u001b[0m\u001b[1;36m.60069\u001b[0m \u001b[94mtps\u001b[0m=\u001b[1;36m21304\u001b[0m\u001b[1;36m.9\u001b[0m \u001b[94mtps_per_gpu\u001b[0m=\u001b[1;36m21304\u001b[0m\u001b[1;36m.9\u001b[0m \u001b[94mmfu\u001b[0m=\u001b[1;36m0\u001b[0m\u001b[1;36m.631529\u001b[0m\n"
            ],
            "text/html": [
              "<pre style=\"white-space:pre;overflow-x:auto;line-height:normal;font-family:Menlo,'DejaVu Sans Mono',consolas,'Courier New',monospace\">[<span style=\"color: #7f7f7f; text-decoration-color: #7f7f7f\">2025-07-23 17:31:27,693442</span>][<span style=\"color: #008000; text-decoration-color: #008000\">I</span>][<span style=\"color: #008080; text-decoration-color: #008080; font-style: italic\">wordplay</span>/<span style=\"color: #000080; text-decoration-color: #000080\">trainer</span><span style=\"color: #0000ff; text-decoration-color: #0000ff\">:</span><span style=\"color: #800080; text-decoration-color: #800080\">894</span>]<span style=\"color: #c0c0c0; text-decoration-color: #c0c0c0\"> </span><span style=\"color: #0000ff; text-decoration-color: #0000ff\">step</span>=<span style=\"color: #008080; text-decoration-color: #008080; font-weight: bold\">1490</span> <span style=\"color: #0000ff; text-decoration-color: #0000ff\">loss</span>=<span style=\"color: #008080; text-decoration-color: #008080; font-weight: bold\">1.72521</span> <span style=\"color: #0000ff; text-decoration-color: #0000ff\">dt</span>=<span style=\"color: #008080; text-decoration-color: #008080; font-weight: bold\">0.384513</span> <span style=\"color: #0000ff; text-decoration-color: #0000ff\">dtf</span>=<span style=\"color: #008080; text-decoration-color: #008080; font-weight: bold\">0.00979085</span> <span style=\"color: #0000ff; text-decoration-color: #0000ff\">dtb</span>=<span style=\"color: #008080; text-decoration-color: #008080; font-weight: bold\">0.0104102</span> <span style=\"color: #0000ff; text-decoration-color: #0000ff\">sps</span>=<span style=\"color: #008080; text-decoration-color: #008080; font-weight: bold\">2.60069</span> <span style=\"color: #0000ff; text-decoration-color: #0000ff\">sps_per_gpu</span>=<span style=\"color: #008080; text-decoration-color: #008080; font-weight: bold\">2.60069</span> <span style=\"color: #0000ff; text-decoration-color: #0000ff\">tps</span>=<span style=\"color: #008080; text-decoration-color: #008080; font-weight: bold\">21304.9</span> <span style=\"color: #0000ff; text-decoration-color: #0000ff\">tps_per_gpu</span>=<span style=\"color: #008080; text-decoration-color: #008080; font-weight: bold\">21304.9</span> <span style=\"color: #0000ff; text-decoration-color: #0000ff\">mfu</span>=<span style=\"color: #008080; text-decoration-color: #008080; font-weight: bold\">0.631529</span>\n",
              "</pre>\n"
            ]
          },
          "metadata": {}
        },
        {
          "output_type": "display_data",
          "data": {
            "text/plain": [
              "[\u001b[2m2025-07-23 \u001b[0m\u001b[2m17:31:31,528345\u001b[0m][\u001b[32mI\u001b[0m][\u001b[3;36mwordplay\u001b[0m/\u001b[34mtrainer\u001b[0m\u001b[94m:\u001b[0m\u001b[35m894\u001b[0m]\u001b[37m \u001b[0m\u001b[94mstep\u001b[0m=\u001b[1;36m1500\u001b[0m \u001b[94mloss\u001b[0m=\u001b[1;36m1\u001b[0m\u001b[1;36m.70409\u001b[0m \u001b[94mdt\u001b[0m=\u001b[1;36m0\u001b[0m\u001b[1;36m.385203\u001b[0m \u001b[94mdtf\u001b[0m=\u001b[1;36m0\u001b[0m\u001b[1;36m.0109562\u001b[0m \u001b[94mdtb\u001b[0m=\u001b[1;36m0\u001b[0m\u001b[1;36m.0163935\u001b[0m \u001b[94msps\u001b[0m=\u001b[1;36m2\u001b[0m\u001b[1;36m.59604\u001b[0m \u001b[94msps_per_gpu\u001b[0m=\u001b[1;36m2\u001b[0m\u001b[1;36m.59604\u001b[0m \u001b[94mtps\u001b[0m=\u001b[1;36m21266\u001b[0m\u001b[1;36m.7\u001b[0m \u001b[94mtps_per_gpu\u001b[0m=\u001b[1;36m21266\u001b[0m\u001b[1;36m.7\u001b[0m \u001b[94mmfu\u001b[0m=\u001b[1;36m0\u001b[0m\u001b[1;36m.631217\u001b[0m\n"
            ],
            "text/html": [
              "<pre style=\"white-space:pre;overflow-x:auto;line-height:normal;font-family:Menlo,'DejaVu Sans Mono',consolas,'Courier New',monospace\">[<span style=\"color: #7f7f7f; text-decoration-color: #7f7f7f\">2025-07-23 17:31:31,528345</span>][<span style=\"color: #008000; text-decoration-color: #008000\">I</span>][<span style=\"color: #008080; text-decoration-color: #008080; font-style: italic\">wordplay</span>/<span style=\"color: #000080; text-decoration-color: #000080\">trainer</span><span style=\"color: #0000ff; text-decoration-color: #0000ff\">:</span><span style=\"color: #800080; text-decoration-color: #800080\">894</span>]<span style=\"color: #c0c0c0; text-decoration-color: #c0c0c0\"> </span><span style=\"color: #0000ff; text-decoration-color: #0000ff\">step</span>=<span style=\"color: #008080; text-decoration-color: #008080; font-weight: bold\">1500</span> <span style=\"color: #0000ff; text-decoration-color: #0000ff\">loss</span>=<span style=\"color: #008080; text-decoration-color: #008080; font-weight: bold\">1.70409</span> <span style=\"color: #0000ff; text-decoration-color: #0000ff\">dt</span>=<span style=\"color: #008080; text-decoration-color: #008080; font-weight: bold\">0.385203</span> <span style=\"color: #0000ff; text-decoration-color: #0000ff\">dtf</span>=<span style=\"color: #008080; text-decoration-color: #008080; font-weight: bold\">0.0109562</span> <span style=\"color: #0000ff; text-decoration-color: #0000ff\">dtb</span>=<span style=\"color: #008080; text-decoration-color: #008080; font-weight: bold\">0.0163935</span> <span style=\"color: #0000ff; text-decoration-color: #0000ff\">sps</span>=<span style=\"color: #008080; text-decoration-color: #008080; font-weight: bold\">2.59604</span> <span style=\"color: #0000ff; text-decoration-color: #0000ff\">sps_per_gpu</span>=<span style=\"color: #008080; text-decoration-color: #008080; font-weight: bold\">2.59604</span> <span style=\"color: #0000ff; text-decoration-color: #0000ff\">tps</span>=<span style=\"color: #008080; text-decoration-color: #008080; font-weight: bold\">21266.7</span> <span style=\"color: #0000ff; text-decoration-color: #0000ff\">tps_per_gpu</span>=<span style=\"color: #008080; text-decoration-color: #008080; font-weight: bold\">21266.7</span> <span style=\"color: #0000ff; text-decoration-color: #0000ff\">mfu</span>=<span style=\"color: #008080; text-decoration-color: #008080; font-weight: bold\">0.631217</span>\n",
              "</pre>\n"
            ]
          },
          "metadata": {}
        }
      ],
      "source": [
        "trainer.train()"
      ],
      "id": "d28ce9bf"
    },
    {
      "cell_type": "markdown",
      "metadata": {
        "id": "39480c7e-85b4-4d3f-a8db-654b2d275e7a"
      },
      "source": [
        "## Evaluate Model"
      ],
      "id": "39480c7e-85b4-4d3f-a8db-654b2d275e7a"
    },
    {
      "cell_type": "code",
      "execution_count": 12,
      "metadata": {
        "quarto-private-1": {
          "key": "jupyter",
          "value": {
            "outputs_hidden": false,
            "source_hidden": false
          }
        },
        "id": "61855288",
        "outputId": "52f8f6d4-e8d2-4ac5-a6da-d9ced2d686d3",
        "colab": {
          "base_uri": "https://localhost:8080/",
          "height": 306
        }
      },
      "outputs": [
        {
          "output_type": "display_data",
          "data": {
            "text/plain": [
              "[\u001b[2m2025-07-23 \u001b[0m\u001b[2m17:31:32,597792\u001b[0m][\u001b[32mI\u001b[0m][\u001b[3;36mtmp\u001b[0m/\u001b[34mipython-input-12-582817405\u001b[0m\u001b[94m:\u001b[0m\u001b[35m12\u001b[0m\u001b[94m:\u001b[0m\u001b[3;92mezpz.log\u001b[0m]\u001b[37m \u001b[0mtook: \u001b[1;36m0.\u001b[0m9968s\n"
            ],
            "text/html": [
              "<pre style=\"white-space:pre;overflow-x:auto;line-height:normal;font-family:Menlo,'DejaVu Sans Mono',consolas,'Courier New',monospace\">[<span style=\"color: #7f7f7f; text-decoration-color: #7f7f7f\">2025-07-23 17:31:32,597792</span>][<span style=\"color: #008000; text-decoration-color: #008000\">I</span>][<span style=\"color: #008080; text-decoration-color: #008080; font-style: italic\">tmp</span>/<span style=\"color: #000080; text-decoration-color: #000080\">ipython-input-12-582817405</span><span style=\"color: #0000ff; text-decoration-color: #0000ff\">:</span><span style=\"color: #800080; text-decoration-color: #800080\">12</span><span style=\"color: #0000ff; text-decoration-color: #0000ff\">:</span><span style=\"color: #00ff00; text-decoration-color: #00ff00; font-style: italic\">ezpz.log</span>]<span style=\"color: #c0c0c0; text-decoration-color: #c0c0c0\"> </span>took: <span style=\"color: #008080; text-decoration-color: #008080; font-weight: bold\">0.</span>9968s\n",
              "</pre>\n"
            ]
          },
          "metadata": {}
        },
        {
          "output_type": "display_data",
          "data": {
            "text/plain": [
              "[\u001b[2m2025-07-23 \u001b[0m\u001b[2m17:31:32,599918\u001b[0m][\u001b[32mI\u001b[0m][\u001b[3;36mtmp\u001b[0m/\u001b[34mipython-input-12-582817405\u001b[0m\u001b[94m:\u001b[0m\u001b[35m13\u001b[0m\u001b[94m:\u001b[0m\u001b[3;92mezpz.log\u001b[0m]\u001b[37m \u001b[0m\u001b[95m[\u001b[0m\u001b[32m'prompt'\u001b[0m\u001b[95m]\u001b[0m: \u001b[32m'What is an LLM?'\u001b[0m\n"
            ],
            "text/html": [
              "<pre style=\"white-space:pre;overflow-x:auto;line-height:normal;font-family:Menlo,'DejaVu Sans Mono',consolas,'Courier New',monospace\">[<span style=\"color: #7f7f7f; text-decoration-color: #7f7f7f\">2025-07-23 17:31:32,599918</span>][<span style=\"color: #008000; text-decoration-color: #008000\">I</span>][<span style=\"color: #008080; text-decoration-color: #008080; font-style: italic\">tmp</span>/<span style=\"color: #000080; text-decoration-color: #000080\">ipython-input-12-582817405</span><span style=\"color: #0000ff; text-decoration-color: #0000ff\">:</span><span style=\"color: #800080; text-decoration-color: #800080\">13</span><span style=\"color: #0000ff; text-decoration-color: #0000ff\">:</span><span style=\"color: #00ff00; text-decoration-color: #00ff00; font-style: italic\">ezpz.log</span>]<span style=\"color: #c0c0c0; text-decoration-color: #c0c0c0\"> </span><span style=\"color: #ff00ff; text-decoration-color: #ff00ff\">[</span><span style=\"color: #008000; text-decoration-color: #008000\">'prompt'</span><span style=\"color: #ff00ff; text-decoration-color: #ff00ff\">]</span>: <span style=\"color: #008000; text-decoration-color: #008000\">'What is an LLM?'</span>\n",
              "</pre>\n"
            ]
          },
          "metadata": {}
        },
        {
          "output_type": "display_data",
          "data": {
            "text/plain": [
              "[\u001b[2m2025-07-23 \u001b[0m\u001b[2m17:31:32,601844\u001b[0m][\u001b[32mI\u001b[0m][\u001b[3;36mtmp\u001b[0m/\u001b[34mipython-input-12-582817405\u001b[0m\u001b[94m:\u001b[0m\u001b[35m14\u001b[0m\u001b[94m:\u001b[0m\u001b[3;92mezpz.log\u001b[0m]\u001b[37m \u001b[0m\u001b[95m[\u001b[0m\u001b[32m'response'\u001b[0m\u001b[95m]\u001b[0m:\n",
              "\n",
              "What is an LLM? What, that the wild my lord,\n",
              "And the shal to may so shal that the shall thee.\n",
              "\n",
              "RICHARD:\n",
              "What that there thee shal the const the shall so thine.\n",
              "\n",
              "RICHARD:\n",
              "The wil thee the shal shal that that the should.\n",
              "\n",
              "RICHARD:\n",
              "Then the shal too the show shal to thee.\n",
              "\n",
              "\n"
            ],
            "text/html": [
              "<pre style=\"white-space:pre;overflow-x:auto;line-height:normal;font-family:Menlo,'DejaVu Sans Mono',consolas,'Courier New',monospace\">[<span style=\"color: #7f7f7f; text-decoration-color: #7f7f7f\">2025-07-23 17:31:32,601844</span>][<span style=\"color: #008000; text-decoration-color: #008000\">I</span>][<span style=\"color: #008080; text-decoration-color: #008080; font-style: italic\">tmp</span>/<span style=\"color: #000080; text-decoration-color: #000080\">ipython-input-12-582817405</span><span style=\"color: #0000ff; text-decoration-color: #0000ff\">:</span><span style=\"color: #800080; text-decoration-color: #800080\">14</span><span style=\"color: #0000ff; text-decoration-color: #0000ff\">:</span><span style=\"color: #00ff00; text-decoration-color: #00ff00; font-style: italic\">ezpz.log</span>]<span style=\"color: #c0c0c0; text-decoration-color: #c0c0c0\"> </span><span style=\"color: #ff00ff; text-decoration-color: #ff00ff\">[</span><span style=\"color: #008000; text-decoration-color: #008000\">'response'</span><span style=\"color: #ff00ff; text-decoration-color: #ff00ff\">]</span>:\n",
              "\n",
              "What is an LLM? What, that the wild my lord,\n",
              "And the shal to may so shal that the shall thee.\n",
              "\n",
              "RICHARD:\n",
              "What that there thee shal the const the shall so thine.\n",
              "\n",
              "RICHARD:\n",
              "The wil thee the shal shal that that the should.\n",
              "\n",
              "RICHARD:\n",
              "Then the shal too the show shal to thee.\n",
              "\n",
              "\n",
              "</pre>\n"
            ]
          },
          "metadata": {}
        }
      ],
      "source": [
        "import time\n",
        "\n",
        "query = \"What is an LLM?\"\n",
        "t0 = time.perf_counter()\n",
        "outputs = trainer.evaluate(\n",
        "    query,\n",
        "    num_samples=1,\n",
        "    max_new_tokens=256,\n",
        "    top_k=2,\n",
        "    display=False\n",
        ")\n",
        "logger.info(f'took: {time.perf_counter() - t0:.4f}s')\n",
        "logger.info(f\"['prompt']: '{query}'\")\n",
        "logger.info(\"['response']:\\n\\n\" + fr\"{outputs['0']['raw']}\")"
      ],
      "id": "61855288"
    },
    {
      "cell_type": "code",
      "source": [],
      "metadata": {
        "id": "mEk2TtYON8Yz"
      },
      "id": "mEk2TtYON8Yz",
      "execution_count": 12,
      "outputs": []
    }
  ],
  "nbformat": 4,
  "nbformat_minor": 5,
  "metadata": {
    "kernelspec": {
      "name": "python3",
      "display_name": "Python 3"
    },
    "language_info": {
      "name": "python",
      "codemirror_mode": {
        "name": "ipython",
        "version": "3"
      },
      "file_extension": ".py",
      "mimetype": "text/x-python",
      "nbconvert_exporter": "python",
      "pygments_lexer": "ipython3",
      "version": "3.13.1"
    },
    "colab": {
      "provenance": [],
      "gpuType": "T4"
    },
    "accelerator": "GPU"
  }
}