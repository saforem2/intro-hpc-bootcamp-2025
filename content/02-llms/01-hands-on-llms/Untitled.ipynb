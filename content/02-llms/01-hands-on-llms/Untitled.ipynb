{
 "cells": [
  {
   "cell_type": "markdown",
   "id": "101e13a1-8a3b-49e5-9b3f-ec3b429f175c",
   "metadata": {},
   "source": [
    "# "
   ]
  },
  {
   "cell_type": "code",
   "execution_count": 1,
   "id": "a04e78e0-9e10-4445-ba28-cf282326623c",
   "metadata": {
    "execution": {
     "iopub.execute_input": "2025-07-28T13:37:30.251339Z",
     "iopub.status.busy": "2025-07-28T13:37:30.251048Z",
     "iopub.status.idle": "2025-07-28T13:37:30.328405Z",
     "shell.execute_reply": "2025-07-28T13:37:30.328081Z",
     "shell.execute_reply.started": "2025-07-28T13:37:30.251305Z"
    }
   },
   "outputs": [],
   "source": [
    "%load_ext autoreload\n",
    "%autoreload 2"
   ]
  },
  {
   "cell_type": "code",
   "execution_count": 2,
   "id": "5502a04f-b9e3-4a4d-afbd-c84671334431",
   "metadata": {
    "execution": {
     "iopub.execute_input": "2025-07-28T13:37:30.560856Z",
     "iopub.status.busy": "2025-07-28T13:37:30.560664Z",
     "iopub.status.idle": "2025-07-28T13:37:35.788432Z",
     "shell.execute_reply": "2025-07-28T13:37:35.788233Z",
     "shell.execute_reply.started": "2025-07-28T13:37:30.560840Z"
    }
   },
   "outputs": [
    {
     "name": "stdout",
     "output_type": "stream",
     "text": [
      "[\u001b[2m2025-07-28 \u001b[0m\u001b[2;38;2;127;127;127m09:37:35,760830\u001b[0m][\u001b[32mI\u001b[0m][\u001b[3;36mezpz\u001b[0m/\u001b[34m__init__\u001b[0m\u001b[94m:\u001b[0m\u001b[35m265\u001b[0m\u001b[94m:\u001b[0m\u001b[3;92mezpz\u001b[0m]Setting logging level to \u001b[32m'INFO'\u001b[0m on \u001b[32m'RANK == 0'\u001b[0m                                                                                                                                                                                                                                                                                                                                                                                                                                                                                                                                                                                                                                                                                                                                                                                                                                                                                                                                                                                                                                                                                                                                                                                                                                                                                                                                                                                                                                                                                                                                                                                                                                                                                                                                                                                                                                                                                                                                                                                                                                                                                                                                                                                                                                                                                                                                                                                                                                                                                                                                                                                                                                                                                                                                                                                                                                                                                                                                                                                                                                                                                                                                                                                                                                                                                                                                                                                                                                                                                                                                                                                                                                                                                                                                                                                                                                                                                                                                                                                                                                                                                                                                                                                                                                                                                                                                                                                                                                                                                                                                                                                                                                                                                                                                                                                                                                                                                                                                                                                                                                                                                                                                                                                                                                                                                                                                                                                                                                                                                                                                                                                                                                                                                                                                                                                                                                                                                                                                                                                                                                                                                                                                                                                                                                                                                                                                                                                                                                                                                                                                                                                                                                                                                                                                                                                                                                                                                                                                                                                                                                                                                                                                                                                                                                                                                                                                                                                                                                                                                                                                                                                                                                                                                                                                                                                                                                                                                                                                                                                                                                                                                                                                                                                                                                                                                                                                                                                                                                                                                                                                                                                                                                                                                                                                                                                                                                                                                                                                                                                                                                                                                                                                                                                                                                                                                                                                                                                                                                                                                                                                                                                                                                                                                                                                                                                                                                                                                                                                                                                                                                                                                                                                                                                                                                                                                                          \n",
      "[\u001b[2m2025-07-28 \u001b[0m\u001b[2;38;2;127;127;127m09:37:35,763145\u001b[0m][\u001b[32mI\u001b[0m][\u001b[3;36mezpz\u001b[0m/\u001b[34m__init__\u001b[0m\u001b[94m:\u001b[0m\u001b[35m266\u001b[0m\u001b[94m:\u001b[0m\u001b[3;92mezpz\u001b[0m]Setting logging level to \u001b[32m'CRITICAL'\u001b[0m on all others \u001b[32m'RANK != 0'\u001b[0m                                                                                                                                                                                                                                                                                                                                                                                                                                                                                                                                                                                                                                                                                                                                                                                                                                                                                                                                                                                                                                                                                                                                                                                                                                                                                                                                                                                                                                                                                                                                                                                                                                                                                                                                                                                                                                                                                                                                                                                                                                                                                                                                                                                                                                                                                                                                                                                                                                                                                                                                                                                                                                                                                                                                                                                                                                                                                                                                                                                                                                                                                                                                                                                                                                                                                                                                                                                                                                                                                                                                                                                                                                                                                                                                                                                                                                                                                                                                                                                                                                                                                                                                                                                                                                                                                                                                                                                                                                                                                                                                                                                                                                                                                                                                                                                                                                                                                                                                                                                                                                                                                                                                                                                                                                                                                                                                                                                                                                                                                                                                                                                                                                                                                                                                                                                                                                                                                                                                                                                                                                                                                                                                                                                                                                                                                                                                                                                                                                                                                                                                                                                                                                                                                                                                                                                                                                                                                                                                                                                                                                                                                                                                                                                                                                                                                                                                                                                                                                                                                                                                                                                                                                                                                                                                                                                                                                                                                                                                                                                                                                                                                                                                                                                                                                                                                                                                                                                                                                                                                                                                                                                                                                                                                                                                                                                                                                                                                                                                                                                                                                                                                                                                                                                                                                                                                                                                                                                                                                                                                                                                                                                                                                                                                                                                                                                                                                                                                                                                                                                                                                                                                                                                                                                                                                                                                           \n"
     ]
    }
   ],
   "source": [
    "import ezpz\n",
    "\n",
    "ezpz_logger = ezpz.get_logger(\"ezpz_logger\")"
   ]
  },
  {
   "cell_type": "code",
   "execution_count": 3,
   "id": "b71842ec-3653-41e7-9f82-fdf5f1123cb9",
   "metadata": {
    "execution": {
     "iopub.execute_input": "2025-07-27T17:30:38.630745Z",
     "iopub.status.busy": "2025-07-27T17:30:38.630597Z",
     "iopub.status.idle": "2025-07-27T17:30:38.678165Z",
     "shell.execute_reply": "2025-07-27T17:30:38.678039Z",
     "shell.execute_reply.started": "2025-07-27T17:30:38.630733Z"
    }
   },
   "outputs": [
    {
     "name": "stdout",
     "output_type": "stream",
     "text": [
      "[\u001b[2m2025-07-27 \u001b[0m\u001b[2;38;2;127;127;127m12:30:38,676073\u001b[0m][\u001b[32mI\u001b[0m][\u001b[3;36mipykernel_82915\u001b[0m/\u001b[34m4194866453\u001b[0m\u001b[94m:\u001b[0m\u001b[35m9\u001b[0m\u001b[94m:\u001b[0m\u001b[3;92mezpz\u001b[0m]ezlogger                                                                                                                                                                                                                                                                                                                                                                                                                                                                                                                                                                                                                                                                                                                                                                                                                                                                                                                                                                                                                                                                                                                                                                                                                                                                                                                                                                                                                                                                                                                                                                                                                                                                                                                                                                                                                                                                                                                                                                                                                                                                                                                                                                                                                                                                                                                                                                                                                                                                                                                                                                                                                                                                                                                                                                                                                                                                                                                                                                                                                                                                                                                                                                                                                                                                                                                                                                                                                                                                                                                                                                                                                                                                                                                                                                                                                                                                                                                                                                                                                                                                                                                                                                                                                                                                                                                                                                                                                                                                                                                                                                                                                                                                                                                                                                                                                                                                                                                                                                                                                                                                                                                                                                                                                                                                                                                                                                                                                                                                                                                                                                                                                                                                                                                                                                                                                                                                                                                                                                                                                                                                                                                                                                                                                                                                                                                                                                                                                                                                                                                                                                                                                                                                                                                                                                                                                                                                                                                                                                                                                                                                                                                                                                                                                                                                                                                                                                                                                                                                                                                                                                                                                                                                                                                                                                                                                                                                                                                                                                                                                                                                                                                                                                                                                                                                                                                                                                                                                                                                                                                                                                                                                                                                                                                                                                                                                                                                                                                                                                                                                                                                                                                                                                                                                                                                                                                                                                                                                                                                                                                                                                                                                                                                                                                                                                                                                                                                                                                                                                                                                                                                                                                                                                                                                                                                                                                                     \n"
     ]
    }
   ],
   "source": [
    "import logging\n",
    "from ezpz.log.handler import EzpzHandler\n",
    "\n",
    "ezlogger = logging.getLogger(\"ezpz\")\n",
    "ezlogger.propagate = False\n",
    "ezlogger.handlers.clear()\n",
    "ezlogger.setLevel(\"INFO\")\n",
    "ezlogger.addHandler(EzpzHandler())\n",
    "ezlogger.info(\"ezlogger\")"
   ]
  },
  {
   "cell_type": "code",
   "execution_count": null,
   "id": "606f999d-be1c-4d23-b204-c792edbd819c",
   "metadata": {},
   "outputs": [],
   "source": []
  },
  {
   "cell_type": "code",
   "execution_count": 4,
   "id": "23eb6447-ec21-4c62-8ab0-4736afd50bd3",
   "metadata": {
    "execution": {
     "iopub.execute_input": "2025-07-27T17:30:38.678628Z",
     "iopub.status.busy": "2025-07-27T17:30:38.678527Z",
     "iopub.status.idle": "2025-07-27T17:30:38.712077Z",
     "shell.execute_reply": "2025-07-27T17:30:38.711875Z",
     "shell.execute_reply.started": "2025-07-27T17:30:38.678620Z"
    }
   },
   "outputs": [],
   "source": [
    "from ezpz.log import get_logger_alt\n",
    "\n",
    "alt_logger = get_logger_alt('alt')"
   ]
  },
  {
   "cell_type": "code",
   "execution_count": null,
   "id": "321013c0-80dc-4c36-b755-623dc4b51a80",
   "metadata": {},
   "outputs": [],
   "source": []
  },
  {
   "cell_type": "code",
   "execution_count": 5,
   "id": "dfd05214-7e11-44f4-85db-261f06c06d1a",
   "metadata": {
    "execution": {
     "iopub.execute_input": "2025-07-27T17:30:39.389230Z",
     "iopub.status.busy": "2025-07-27T17:30:39.388875Z",
     "iopub.status.idle": "2025-07-27T17:30:39.431758Z",
     "shell.execute_reply": "2025-07-27T17:30:39.431585Z",
     "shell.execute_reply.started": "2025-07-27T17:30:39.389207Z"
    }
   },
   "outputs": [
    {
     "name": "stdout",
     "output_type": "stream",
     "text": [
      "[\u001b[2m2025-07-27 \u001b[0m\u001b[2;38;2;127;127;127m12:30:39,428228\u001b[0m][\u001b[32mI\u001b[0m][\u001b[3;36mipykernel_82915\u001b[0m/\u001b[34m3430463753\u001b[0m\u001b[94m:\u001b[0m\u001b[35m1\u001b[0m\u001b[94m:\u001b[0m\u001b[3;92malt\u001b[0m]INFO                                                                                                                                                                                                                                                                                                                                                                                                                                                                                                                                                                                                                                                                                                                                                                                                                                                                                                                                                                                                                                                                                                                                                                                                                                                                                                                                                                                                                                                                                                                                                                                                                                                                                                                                                                                                                                                                                                                                                                                                                                                                                                                                                                                                                                                                                                                                                                                                                                                                                                                                                                                                                                                                                                                                                                                                                                                                                                                                                                                                                                                                                                                                                                                                                                                                                                                                                                                                                                                                                                                                                                                                                                                                                                                                                                                                                                                                                                                                                                                                                                                                                                                                                                                                                                                                                                                                                                                                                                                                                                                                                                                                                                                                                                                                                                                                                                                                                                                                                                                                                                                                                                                                                                                                                                                                                                                                                                                                                                                                                                                                                                                                                                                                                                                                                                                                                                                                                                                                                                                                                                                                                                                                                                                                                                                                                                                                                                                                                                                                                                                                                                                                                                                                                                                                                                                                                                                                                                                                                                                                                                                                                                                                                                                                                                                                                                                                                                                                                                                                                                                                                                                                                                                                                                                                                                                                                                                                                                                                                                                                                                                                                                                                                                                                                                                                                                                                                                                                                                                                                                                                                                                                                                                                                                                                                                                                                                                                                                                                                                                                                                                                                                                                                                                                                                                                                                                                                                                                                                                                                                                                                                                                                                                                                                                                                                                                                                                                                                                                                                                                                                                                                                                                                                                                                                                                                                                                          \n"
     ]
    },
    {
     "data": {
      "text/html": [
       "<pre style=\"white-space:pre;overflow-x:auto;line-height:normal;font-family:Menlo,'DejaVu Sans Mono',consolas,'Courier New',monospace\"><span style=\"color: #7fbfbf; text-decoration-color: #7fbfbf\">[07/27/25 12:30:39] </span><span style=\"color: #000080; text-decoration-color: #000080\">INFO    </span> INFO                                                                   <span style=\"color: #7f7f7f; text-decoration-color: #7f7f7f\">3430463753.py:1</span>\n",
       "</pre>\n"
      ],
      "text/plain": [
       "\u001b[2;36m[07/27/25 12:30:39]\u001b[0m\u001b[2;36m \u001b[0m\u001b[34mINFO    \u001b[0m INFO                                                                   \u001b[2m3430463753.py:1\u001b[0m\n"
      ]
     },
     "metadata": {},
     "output_type": "display_data"
    }
   ],
   "source": [
    "alt_logger.info(\"INFO\")"
   ]
  },
  {
   "cell_type": "code",
   "execution_count": 6,
   "id": "a4d6556b-bc6b-4139-bf47-5c08f6e6aa56",
   "metadata": {
    "execution": {
     "iopub.execute_input": "2025-07-27T17:30:56.859118Z",
     "iopub.status.busy": "2025-07-27T17:30:56.858778Z",
     "iopub.status.idle": "2025-07-27T17:30:56.900613Z",
     "shell.execute_reply": "2025-07-27T17:30:56.900490Z",
     "shell.execute_reply.started": "2025-07-27T17:30:56.859095Z"
    }
   },
   "outputs": [
    {
     "name": "stdout",
     "output_type": "stream",
     "text": [
      "[\u001b[2m2025-07-27 \u001b[0m\u001b[2;38;2;127;127;127m12:30:56,898139\u001b[0m][\u001b[32mI\u001b[0m][\u001b[3;36mipykernel_82915\u001b[0m/\u001b[34m994590155\u001b[0m\u001b[94m:\u001b[0m\u001b[35m2\u001b[0m\u001b[94m:\u001b[0m\u001b[3;92malt\u001b[0m]INFO                                                                                                                                                                                                                                                                                                                                                                                                                                                                                                                                                                                                                                                                                                                                                                                                                                                                                                                                                                                                                                                                                                                                                                                                                                                                                                                                                                                                                                                                                                                                                                                                                                                                                                                                                                                                                                                                                                                                                                                                                                                                                                                                                                                                                                                                                                                                                                                                                                                                                                                                                                                                                                                                                                                                                                                                                                                                                                                                                                                                                                                                                                                                                                                                                                                                                                                                                                                                                                                                                                                                                                                                                                                                                                                                                                                                                                                                                                                                                                                                                                                                                                                                                                                                                                                                                                                                                                                                                                                                                                                                                                                                                                                                                                                                                                                                                                                                                                                                                                                                                                                                                                                                                                                                                                                                                                                                                                                                                                                                                                                                                                                                                                                                                                                                                                                                                                                                                                                                                                                                                                                                                                                                                                                                                                                                                                                                                                                                                                                                                                                                                                                                                                                                                                                                                                                                                                                                                                                                                                                                                                                                                                                                                                                                                                                                                                                                                                                                                                                                                                                                                                                                                                                                                                                                                                                                                                                                                                                                                                                                                                                                                                                                                                                                                                                                                                                                                                                                                                                                                                                                                                                                                                                                                                                                                                                                                                                                                                                                                                                                                                                                                                                                                                                                                                                                                                                                                                                                                                                                                                                                                                                                                                                                                                                                                                                                                                                                                                                                                                                                                                                                                                                                                                                                                                                                                                                                           \n"
     ]
    }
   ],
   "source": [
    "alt_logger.propagate = False\n",
    "alt_logger.info(\"INFO\")"
   ]
  },
  {
   "cell_type": "code",
   "execution_count": null,
   "id": "f3fb2264-1018-46d0-b0a0-bdbd43771a03",
   "metadata": {},
   "outputs": [],
   "source": []
  },
  {
   "cell_type": "code",
   "execution_count": 8,
   "id": "7bab0bb6-de2c-492f-9470-92255a685186",
   "metadata": {
    "execution": {
     "iopub.execute_input": "2025-07-27T17:32:18.569797Z",
     "iopub.status.busy": "2025-07-27T17:32:18.569354Z",
     "iopub.status.idle": "2025-07-27T17:32:18.623865Z",
     "shell.execute_reply": "2025-07-27T17:32:18.623685Z",
     "shell.execute_reply.started": "2025-07-27T17:32:18.569738Z"
    }
   },
   "outputs": [
    {
     "data": {
      "text/plain": [
       "[<EzpzHandler (NOTSET)>]"
      ]
     },
     "execution_count": 8,
     "metadata": {},
     "output_type": "execute_result"
    }
   ],
   "source": [
    "alt_logger.handlers"
   ]
  },
  {
   "cell_type": "code",
   "execution_count": 13,
   "id": "d107b9aa-6e1c-4a1a-8a21-001c4f219f4e",
   "metadata": {
    "execution": {
     "iopub.execute_input": "2025-07-27T17:36:19.386545Z",
     "iopub.status.busy": "2025-07-27T17:36:19.386099Z",
     "iopub.status.idle": "2025-07-27T17:36:19.441177Z",
     "shell.execute_reply": "2025-07-27T17:36:19.440887Z",
     "shell.execute_reply.started": "2025-07-27T17:36:19.386498Z"
    }
   },
   "outputs": [],
   "source": [
    "alt_logger.handlers[0].setLevel(\"INFO\")"
   ]
  },
  {
   "cell_type": "code",
   "execution_count": 10,
   "id": "6d900761-4ee5-4df2-a6cc-f22c5c43f802",
   "metadata": {
    "execution": {
     "iopub.execute_input": "2025-07-27T17:32:58.294086Z",
     "iopub.status.busy": "2025-07-27T17:32:58.293789Z",
     "iopub.status.idle": "2025-07-27T17:32:58.333173Z",
     "shell.execute_reply": "2025-07-27T17:32:58.332998Z",
     "shell.execute_reply.started": "2025-07-27T17:32:58.294063Z"
    }
   },
   "outputs": [
    {
     "data": {
      "text/plain": [
       "{<Logger Comm (INFO)>,\n",
       " <Logger IPKernelApp (DEBUG)>,\n",
       " <Logger LoggingTensor (INFO)>,\n",
       " <Logger alt (INFO)>,\n",
       " <Logger asyncio (INFO)>,\n",
       " <Logger autoreload (INFO)>,\n",
       " <Logger c10d-NullHandler-default (DEBUG)>,\n",
       " <Logger charset_normalizer (INFO)>,\n",
       " <Logger datasets (ERROR)>,\n",
       " <Logger dill (WARNING)>,\n",
       " <Logger ezpz (INFO)>,\n",
       " <Logger ezpz_logger (INFO)>,\n",
       " <Logger filelock (INFO)>,\n",
       " <Logger huggingface_hub (WARNING)>,\n",
       " <Logger jax (ERROR)>,\n",
       " <Logger parso (WARNING)>,\n",
       " <Logger requests (INFO)>,\n",
       " <Logger rich (INFO)>,\n",
       " <Logger sh (WARNING)>,\n",
       " <Logger strobelight_compile_time_profiler (INFO)>,\n",
       " <Logger strobelight_function_profiler (INFO)>,\n",
       " <Logger torch (WARNING)>,\n",
       " <Logger tornado (INFO)>,\n",
       " <Logger transformers (ERROR)>,\n",
       " <Logger urllib3 (INFO)>,\n",
       " <Logger wandb (DEBUG)>}"
      ]
     },
     "execution_count": 10,
     "metadata": {},
     "output_type": "execute_result"
    }
   ],
   "source": [
    "alt_logger.root.getChildren()"
   ]
  },
  {
   "cell_type": "code",
   "execution_count": 16,
   "id": "82623da5-3c8a-45a6-b017-32ef8c42afbb",
   "metadata": {
    "execution": {
     "iopub.execute_input": "2025-07-27T17:36:35.240042Z",
     "iopub.status.busy": "2025-07-27T17:36:35.239740Z",
     "iopub.status.idle": "2025-07-27T17:36:35.284305Z",
     "shell.execute_reply": "2025-07-27T17:36:35.284173Z",
     "shell.execute_reply.started": "2025-07-27T17:36:35.240020Z"
    }
   },
   "outputs": [
    {
     "data": {
      "text/plain": [
       "[<EzpzHandler (INFO)>]"
      ]
     },
     "execution_count": 16,
     "metadata": {},
     "output_type": "execute_result"
    }
   ],
   "source": [
    "alt_logger.handlers[0]."
   ]
  },
  {
   "cell_type": "code",
   "execution_count": 14,
   "id": "8bf90f07-b4d0-49a4-87c6-3e01bf824497",
   "metadata": {
    "execution": {
     "iopub.execute_input": "2025-07-27T17:36:21.147430Z",
     "iopub.status.busy": "2025-07-27T17:36:21.147158Z",
     "iopub.status.idle": "2025-07-27T17:36:21.387979Z",
     "shell.execute_reply": "2025-07-27T17:36:21.387635Z",
     "shell.execute_reply.started": "2025-07-27T17:36:21.147411Z"
    }
   },
   "outputs": [
    {
     "ename": "AttributeError",
     "evalue": "'str' object has no attribute 'levelno'",
     "output_type": "error",
     "traceback": [
      "\u001b[91m---------------------------------------------------------------------------\u001b[39m",
      "\u001b[91mAttributeError\u001b[39m                            Traceback (most recent call last)",
      "\u001b[96mCell\u001b[39m\u001b[96m \u001b[39m\u001b[32mIn[14]\u001b[39m\u001b[32m, line 1\u001b[39m\n\u001b[92m----> \u001b[39m\u001b[92m1\u001b[39m \u001b[38;5;15;43malt_logger\u001b[39;49m\u001b[38;5;204;43m.\u001b[39;49m\u001b[38;5;15;43mcallHandlers\u001b[39;49m\u001b[38;5;15;43m(\u001b[39;49m\u001b[38;5;186;43m\"\u001b[39;49m\u001b[38;5;186;43mcallHandlers\u001b[39;49m\u001b[38;5;186;43m\"\u001b[39;49m\u001b[38;5;15;43m)\u001b[39;49m\n",
      "\u001b[96mFile \u001b[39m\u001b[32m~/.local/share/uv/python/cpython-3.12.8-macos-aarch64-none/lib/python3.12/logging/__init__.py:1761\u001b[39m, in \u001b[36mLogger.callHandlers\u001b[39m\u001b[94m(self, record)\u001b[39m\n\u001b[92m   1759\u001b[39m \u001b[38;5;15m\u001b[39m\u001b[38;5;81mfor\u001b[39m\u001b[38;5;15m \u001b[39m\u001b[38;5;15mhdlr\u001b[39m\u001b[38;5;15m \u001b[39m\u001b[38;5;204min\u001b[39m\u001b[38;5;15m \u001b[39m\u001b[38;5;15mc\u001b[39m\u001b[38;5;204m.\u001b[39m\u001b[38;5;15mhandlers\u001b[39m\u001b[38;5;15m:\u001b[39m\n\u001b[92m   1760\u001b[39m \u001b[38;5;15m    \u001b[39m\u001b[38;5;15mfound\u001b[39m\u001b[38;5;15m \u001b[39m\u001b[38;5;204m=\u001b[39m\u001b[38;5;15m \u001b[39m\u001b[38;5;15mfound\u001b[39m\u001b[38;5;15m \u001b[39m\u001b[38;5;204m+\u001b[39m\u001b[38;5;15m \u001b[39m\u001b[38;5;141m1\u001b[39m\n\u001b[92m-> \u001b[39m\u001b[92m1761\u001b[39m \u001b[38;5;15m    \u001b[39m\u001b[38;5;81mif\u001b[39m\u001b[38;5;15m \u001b[39m\u001b[38;5;15;43mrecord\u001b[39;49m\u001b[38;5;204;43m.\u001b[39;49m\u001b[38;5;15;43mlevelno\u001b[39;49m\u001b[38;5;15m \u001b[39m\u001b[38;5;204m>\u001b[39m\u001b[38;5;204m=\u001b[39m\u001b[38;5;15m \u001b[39m\u001b[38;5;15mhdlr\u001b[39m\u001b[38;5;204m.\u001b[39m\u001b[38;5;15mlevel\u001b[39m\u001b[38;5;15m:\u001b[39m\n\u001b[92m   1762\u001b[39m \u001b[38;5;15m        \u001b[39m\u001b[38;5;15mhdlr\u001b[39m\u001b[38;5;204m.\u001b[39m\u001b[38;5;15mhandle\u001b[39m\u001b[38;5;15m(\u001b[39m\u001b[38;5;15mrecord\u001b[39m\u001b[38;5;15m)\u001b[39m\n\u001b[92m   1763\u001b[39m \u001b[38;5;15m\u001b[39m\u001b[38;5;81mif\u001b[39m\u001b[38;5;15m \u001b[39m\u001b[38;5;204mnot\u001b[39m\u001b[38;5;15m \u001b[39m\u001b[38;5;15mc\u001b[39m\u001b[38;5;204m.\u001b[39m\u001b[38;5;15mpropagate\u001b[39m\u001b[38;5;15m:\u001b[39m\n",
      "\u001b[91mAttributeError\u001b[39m: 'str' object has no attribute 'levelno'"
     ]
    }
   ],
   "source": [
    "alt_logger.callHandlers(\"callHandlers\")"
   ]
  },
  {
   "cell_type": "code",
   "execution_count": null,
   "id": "683a473a-6769-46c6-a7cd-ff079ff49e31",
   "metadata": {},
   "outputs": [],
   "source": []
  }
 ],
 "metadata": {
  "kernelspec": {
   "display_name": "Python 3 (ipykernel)",
   "language": "python",
   "name": "python3"
  },
  "language_info": {
   "codemirror_mode": {
    "name": "ipython",
    "version": 3
   },
   "file_extension": ".py",
   "mimetype": "text/x-python",
   "name": "python",
   "nbconvert_exporter": "python",
   "pygments_lexer": "ipython3",
   "version": "3.12.8"
  }
 },
 "nbformat": 4,
 "nbformat_minor": 5
}
