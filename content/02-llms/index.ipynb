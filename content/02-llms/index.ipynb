{
  "cells": [
    {
      "cell_type": "markdown",
      "metadata": {},
      "source": [
        "# Introduction to Large Language Models (LLMs)\n",
        "\n",
        "[Sam Foreman](https://samforeman.me)\n",
        "(\\[[ALCF](https://alcf.anl.gov/about/people/sam-foreman)\\](<https://alcf.anl.gov/about/people/sam-foreman>))  \n",
        "2025-07-15\n",
        "\n",
        "## Contents\n",
        "\n",
        "-   📂 [02-llms/](./index.qmd)\n",
        "    -   [00-intro-to-llms](./00-intro-to-llms/index.qmd)\n",
        "    -   [01-hands-on-llms](./01-hands-on-llms/index.ipynb)\n",
        "    -   [02-prompt-engineering](./02-prompt-engineering/index.qmd)\n",
        "    -   [05-advanced-llms](./05-advanced-llms/index.qmd)\n",
        "    -   [06-parallel-training](./06-parallel-training/index.qmd)\n",
        "    -   [07-shakespeare-example](./07-shakespeare-example/index.qmd)\n",
        "    -   [08-shakespeare-example-colab](./08-shakespeare-example-colab/index.ipynb)\n",
        "    -   [09-rag-tutorial](./09-rag-tutorial/index.qmd)\n",
        "    -   [10-evaluating-llms](./10-evaluating-llms/index.qmd)"
      ],
      "id": "9a59d240-d0d0-4d6d-9e85-be524f022cb7"
    }
  ],
  "nbformat": 4,
  "nbformat_minor": 5,
  "metadata": {
    "kernelspec": {
      "display_name": "Python 3",
      "language": "python",
      "name": "python3"
    }
  }
}