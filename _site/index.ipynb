{
  "cells": [
    {
      "cell_type": "markdown",
      "metadata": {},
      "source": [
        "# Intro to HPC Bootcamp 2025\n",
        "\n",
        "[Sam Foreman](https://samforeman.me)\n",
        "(\\[[ALCF](https://alcf.anl.gov/about/people/sam-foreman)\\](<https://alcf.anl.gov/about/people/sam-foreman>))  \n",
        "2025-07-15\n",
        "\n",
        "## Contents\n",
        "\n",
        "-   🏡 [Intro to {AI, HPC} for Science](./index.qmd)\n",
        "\n",
        "    -   📂 [00-intro-AI-hpc/](00-intro-AI-HPC/index.qmd)\n",
        "        -   📄\n",
        "            [0-compute-systems](./00-intro-AI-hpc/0-compute-systems/index.qmd)\n",
        "        -   📄\n",
        "            [1-shared-resources](./00-intro-AI-HPC/1-shared-resources/index.qmd)\n",
        "        -   📗\n",
        "            [2-jupyter-notebooks](./00-intro-AI-hpc/2-jupyter-notebooks/index.html)\n",
        "        -   📄 [3-homework](./00-intro-AI-hpc/3-homework/index.html)\n",
        "        -   📄 [4-nersc](./00-intro-AI-hpc/4-nersc/index.html)\n",
        "        -   📗\n",
        "            [5-mcmc-example](./00-intro-AI-hpc/5-mcmc-example/index.html)\n",
        "        -   📗\n",
        "            [6-linear-regression](./00-intro-AI-hpc/6-linear-regression/index.html)\n",
        "    -   📂 [01-neural-networks/](./01-neural-networks/index.html)\n",
        "        -   📄 [0-intro](./01-neural-networks/0-intro/index.html)\n",
        "        -   📗 [1-mnist](./01-neural-networks/1-mnist/index.html)\n",
        "        -   📄 [2-advanced](./01-neural-networks/2-advanced/index.html)\n",
        "        -   📗\n",
        "            [3-conv-nets](./01-neural-networks/3-conv-nets/index.html)\n",
        "        -   📗\n",
        "            [4-representation-learning](./01-neural-networks/4-representation-learning/index.html)\n",
        "    -   📂 [02-llms/](./02-llms/index.qmd)\n",
        "        -   📄 [00-intro-to-llms](./02-llms/00-intro-to-llms/index.qmd)\n",
        "        -   📗\n",
        "            [01-hands-on-llms](./02-llms/01-hands-on-llms/index.ipynb)\n",
        "        -   📄\n",
        "            [02-prompt-engineering](./02-llms/02-prompt-engineering/index.qmd)\n",
        "        -   📗\n",
        "            [06-parallel-training](./02-llms/06-parallel-training/index.html)\n",
        "        -   📗\n",
        "            [07-shakespeare-example](./02-llms/07-shakespeare-example/index.html)\n",
        "        -   📗\n",
        "            [08-shakespeare-example-colab](./02-llms/08-shakespeare-example-colab/index.ipynb)\n",
        "    -   📂 [03-ai-for-science/](./03-ai-for-science/index.html)\n",
        "\n",
        "``` {pyodide}\n",
        "#| output_collapsed: true\n",
        "import ezpz\n",
        "\n",
        "logger = ezpz.get_logger(\"root\")\n",
        "logger.info(\"Welcome to the Intro to HPC Bootcamp 2025!\")\n",
        "logger.info(f\"Current time is: {ezpz.get_timestamp()}\")\n",
        "```"
      ],
      "id": "94b081d1-2cd7-4fa8-9f55-4db117043228"
    }
  ],
  "nbformat": 4,
  "nbformat_minor": 5,
  "metadata": {
    "kernelspec": {
      "name": "python3",
      "display_name": "Python 3 (ipykernel)",
      "language": "python",
      "path": "/Users/samforeman/projects/saforem2/intro-hpc-bootcamp-2025/.venv/share/jupyter/kernels/python3"
    },
    "language_info": {
      "name": "python",
      "codemirror_mode": {
        "name": "ipython",
        "version": "3"
      },
      "file_extension": ".py",
      "mimetype": "text/x-python",
      "nbconvert_exporter": "python",
      "pygments_lexer": "ipython3",
      "version": "3.13.1"
    }
  }
}