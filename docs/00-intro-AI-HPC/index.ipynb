{
  "cells": [
    {
      "cell_type": "markdown",
      "metadata": {},
      "source": [
        "# Introduction to AI on Supercomputers\n",
        "\n",
        "[Sam Foreman](https://samforeman.me)\n",
        "(\\[[ALCF](https://alcf.anl.gov/about/people/sam-foreman)\\](<https://alcf.anl.gov/about/people/sam-foreman>))  \n",
        "2025-07-15\n",
        "\n",
        "## Contents\n",
        "\n",
        "-   📂 [00-intro-AI-HPC/](./index.qmd)\n",
        "    -   📄 [0-compute-systems](./0-compute-systems/index.qmd)\n",
        "    -   📄 [1-shared-resources](./1-shared-resources/index.qmd)\n",
        "    -   📗 [2-jupyter-notebooks](./2-jupyter-notebooks/index.qmd)\n",
        "    -   📄 [3-homework](./3-homework/index.qmd)\n",
        "    -   📄 [4-nersc](./4-nersc/index.qmd)\n",
        "\n",
        "Link to original slides:\n",
        "<https://drive.google.com/file/d/1PH6HlXPhsVB1wDcEkfRSZrDQTqWBi7aH/view?usp=sharing>"
      ],
      "id": "1b01a215-9e73-42a5-bc01-d4369f2fa722"
    }
  ],
  "nbformat": 4,
  "nbformat_minor": 5,
  "metadata": {
    "kernelspec": {
      "display_name": "Python 3",
      "language": "python",
      "name": "python3"
    }
  }
}