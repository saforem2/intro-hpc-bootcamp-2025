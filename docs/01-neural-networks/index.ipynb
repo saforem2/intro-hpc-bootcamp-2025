{
  "cells": [
    {
      "cell_type": "markdown",
      "metadata": {},
      "source": [
        "# Introduction to Neural Networks\n",
        "\n",
        "[Sam Foreman](https://samforeman.me)\n",
        "(\\[[ALCF](https://alcf.anl.gov/about/people/sam-foreman)\\](<https://alcf.anl.gov/about/people/sam-foreman>))  \n",
        "2025-07-15\n",
        "\n",
        "-   📂 [01-neural-networks/](./index.qmd)\n",
        "    -   📄 [0-intro](./0-intro/index.qmd)\n",
        "    -   📗 [1-mnist](./1-mnist/index.qmd)\n",
        "    -   📗 [2-advanced](./2-advanced/index.qmd)\n",
        "    -   📗 [3-conv-nets](./3-conv-nets/index.ipynb)\n",
        "    -   📗\n",
        "        [4-representation-learning](./4-representation-learning/index.qmd)"
      ],
      "id": "8b2562d2-315e-4ab9-a93b-82578b079f76"
    }
  ],
  "nbformat": 4,
  "nbformat_minor": 5,
  "metadata": {
    "kernelspec": {
      "display_name": "Python 3",
      "language": "python",
      "name": "python3"
    }
  }
}