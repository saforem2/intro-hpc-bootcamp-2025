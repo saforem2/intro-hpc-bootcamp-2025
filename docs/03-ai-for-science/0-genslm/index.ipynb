{
  "cells": [
    {
      "cell_type": "markdown",
      "metadata": {},
      "source": [
        "# Genome Scale Language Models (GenSLM)\n",
        "\n",
        "[Sam Foreman](https://samforeman.me)\n",
        "(\\[[ALCF](https://alcf.anl.gov/about/people/sam-foreman)\\](<https://alcf.anl.gov/about/people/sam-foreman>))  \n",
        "2025-07-23\n",
        "\n",
        "## Overview of GenSLM"
      ],
      "id": "1b6202bf-80c4-4a03-81b7-07ca94b9be7b"
    }
  ],
  "nbformat": 4,
  "nbformat_minor": 5,
  "metadata": {
    "kernelspec": {
      "display_name": "Python 3",
      "language": "python",
      "name": "python3"
    }
  }
}