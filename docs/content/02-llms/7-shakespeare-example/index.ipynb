{
  "cells": [
    {
      "cell_type": "markdown",
      "metadata": {},
      "source": [
        "# [`wordplay` 🎮 💬](https://github.com/saforem2/wordplay): Shakespeare\n",
        "\n",
        "✍️\n",
        "\n",
        "[Sam Foreman](https://samforeman.me)\n",
        "(\\[[ALCF](https://alcf.anl.gov/about/people/sam-foreman)\\](<https://alcf.anl.gov/about/people/sam-foreman>))  \n",
        "2025-07-22\n",
        "\n",
        "We will be using the [Shakespeare\n",
        "dataset](https://github.com/saforem2/wordplay/blob/main/data/shakespeare/readme.md)\n",
        "to train a (~ small) 10M param LLM *from scratch*.\n",
        "\n",
        "<img src=\"https://github.com/saforem2/wordplay/blob/main/assets/shakespeare.jpeg?raw=true\" width=\"45%\" align=\"center\" /><br>\n",
        "\n",
        "Image generated from\n",
        "[stabilityai/stable-diffusion](https://huggingface.co/spaces/stabilityai/stable-diffusion)\n",
        "on [🤗 Spaces](https://huggingface.co/spaces).<br>\n",
        "\n",
        "<details closed>\n",
        "\n",
        "<summary>\n",
        "\n",
        "Prompt Details\n",
        "\n",
        "</summary>\n",
        "\n",
        "<ul>\n",
        "\n",
        "<li>\n",
        "\n",
        "Prompt:\n",
        "\n",
        "</li>\n",
        "\n",
        "<t><q> Shakespeare himself, dressed in full Shakespearean garb, writing\n",
        "code at a modern workstation with multiple monitors, hacking away\n",
        "profusely, backlit, high quality for publication </q></t>\n",
        "\n",
        "<li>\n",
        "\n",
        "Negative Prompt:\n",
        "\n",
        "</li>\n",
        "\n",
        "<t><q> low quality, 3d, photorealistic, ugly </q></t>\n",
        "\n",
        "</ul>\n",
        "\n",
        "</details>\n",
        "\n",
        "## Install / Setup\n",
        "\n",
        "<b>Warning!</b><br>\n",
        "\n",
        "**IF YOU ARE EXECUTING ON GOOGLE COLAB**:\n",
        "\n",
        "You will need to restart your runtime (`Runtime` $\\rightarrow\\,$\n",
        "`Restart runtime`)  \n",
        "*after* executing the following cell:"
      ],
      "id": "0e58124e-4e92-4889-88f4-3b8d9d510eb3"
    },
    {
      "cell_type": "code",
      "execution_count": 1,
      "metadata": {
        "quarto-private-1": {
          "key": "jupyter",
          "value": {
            "outputs_hidden": false,
            "source_hidden": false
          }
        }
      },
      "outputs": [
        {
          "output_type": "stream",
          "name": "stdout",
          "text": [
            "/Users/samforeman/projects/saforem2/wordplay/src/wordplay/__init__.py\n",
            "Has wordplay installed. Nothing to do."
          ]
        }
      ],
      "source": [
        "%%bash\n",
        "\n",
        "python3 -c 'import wordplay; print(wordplay.__file__)' 2> '/dev/null'\n",
        "\n",
        "if [[ $? -eq 0 ]]; then\n",
        "    echo \"Has wordplay installed. Nothing to do.\"\n",
        "else\n",
        "    echo \"Does not have wordplay installed. Installing...\"\n",
        "    git clone 'https://github.com/saforem2/wordplay'\n",
        "    python3 wordplay/data/shakespeare_char/prepare.py\n",
        "    python3 wordplay/data/shakespeare/prepare.py\n",
        "    python3 -m pip install deepspeed\n",
        "    python3 -m pip install -e wordplay\n",
        "fi"
      ],
      "id": "f44bbef2"
    },
    {
      "cell_type": "markdown",
      "metadata": {},
      "source": [
        "## Post Install\n",
        "\n",
        "If installed correctly, you should be able to:\n",
        "\n",
        "``` python\n",
        ">>> import wordplay\n",
        ">>> wordplay.__file__\n",
        "'/path/to/wordplay/src/wordplay/__init__.py'\n",
        "```"
      ],
      "id": "f4c40d3b-102e-4770-9649-a69bcbb94cc1"
    },
    {
      "cell_type": "code",
      "execution_count": 2,
      "metadata": {
        "quarto-private-1": {
          "key": "jupyter",
          "value": {
            "outputs_hidden": false,
            "source_hidden": false
          }
        }
      },
      "outputs": [
        {
          "output_type": "display_data",
          "metadata": {},
          "data": {
            "text/html": [
              "<pre style=\"white-space:pre;overflow-x:auto;line-height:normal;font-family:Menlo,'DejaVu Sans Mono',consolas,'Courier New',monospace\">[<span style=\"color: #7f7f7f; text-decoration-color: #7f7f7f\">2025-07-22 22:23:53,364061</span>][<span style=\"color: #008000; text-decoration-color: #008000\">I</span>][<span style=\"color: #008080; text-decoration-color: #008080; font-style: italic\">ezpz</span>/<span style=\"color: #000080; text-decoration-color: #000080\">__init__</span><span style=\"color: #0000ff; text-decoration-color: #0000ff\">:</span><span style=\"color: #800080; text-decoration-color: #800080\">265</span><span style=\"color: #0000ff; text-decoration-color: #0000ff\">:</span><span style=\"color: #00ff00; text-decoration-color: #00ff00; font-style: italic\">ezpz</span>]<span style=\"color: #c0c0c0; text-decoration-color: #c0c0c0\"> </span>Setting logging level to <span style=\"color: #008000; text-decoration-color: #008000\">'INFO'</span> on <span style=\"color: #008000; text-decoration-color: #008000\">'RANK == 0'</span>\n",
              "</pre>"
            ]
          }
        },
        {
          "output_type": "display_data",
          "metadata": {},
          "data": {
            "text/html": [
              "<pre style=\"white-space:pre;overflow-x:auto;line-height:normal;font-family:Menlo,'DejaVu Sans Mono',consolas,'Courier New',monospace\">[<span style=\"color: #7f7f7f; text-decoration-color: #7f7f7f\">2025-07-22 22:23:53,390701</span>][<span style=\"color: #008000; text-decoration-color: #008000\">I</span>][<span style=\"color: #008080; text-decoration-color: #008080; font-style: italic\">ezpz</span>/<span style=\"color: #000080; text-decoration-color: #000080\">__init__</span><span style=\"color: #0000ff; text-decoration-color: #0000ff\">:</span><span style=\"color: #800080; text-decoration-color: #800080\">266</span><span style=\"color: #0000ff; text-decoration-color: #0000ff\">:</span><span style=\"color: #00ff00; text-decoration-color: #00ff00; font-style: italic\">ezpz</span>]<span style=\"color: #c0c0c0; text-decoration-color: #c0c0c0\"> </span>Setting logging level to <span style=\"color: #008000; text-decoration-color: #008000\">'CRITICAL'</span> on all others <span style=\"color: #008000; text-decoration-color: #008000\">'RANK != 0'</span>\n",
              "</pre>"
            ]
          }
        },
        {
          "output_type": "display_data",
          "metadata": {},
          "data": {
            "text/html": [
              "<pre style=\"white-space:pre;overflow-x:auto;line-height:normal;font-family:Menlo,'DejaVu Sans Mono',consolas,'Courier New',monospace\">[<span style=\"color: #7f7f7f; text-decoration-color: #7f7f7f\">2025-07-22 22:23:53,395170</span>][<span style=\"color: #008000; text-decoration-color: #008000\">I</span>][<span style=\"color: #008080; text-decoration-color: #008080; font-style: italic\">ipykernel_52985</span>/<span style=\"color: #000080; text-decoration-color: #000080\">2338663768</span><span style=\"color: #0000ff; text-decoration-color: #0000ff\">:</span><span style=\"color: #800080; text-decoration-color: #800080\">17</span><span style=\"color: #0000ff; text-decoration-color: #0000ff\">:</span><span style=\"color: #00ff00; text-decoration-color: #00ff00; font-style: italic\">ezpz.log</span>]<span style=\"color: #c0c0c0; text-decoration-color: #c0c0c0\"> </span><span style=\"color: #800080; text-decoration-color: #800080\">/Users/samforeman/projects/saforem2/wordplay/src/wordplay/</span><span style=\"color: #ff00ff; text-decoration-color: #ff00ff\">__init__.py</span>\n",
              "</pre>"
            ]
          }
        }
      ],
      "source": [
        "%load_ext autoreload\n",
        "%autoreload 2\n",
        "import os\n",
        "import sys\n",
        "import ezpz\n",
        "\n",
        "os.environ['COLORTERM'] = 'truecolor'\n",
        "if sys.platform == 'darwin':\n",
        "    # If running on MacOS:\n",
        "    # os.environ['PYTORCH_ENABLE_MPS_FALLBACK'] = '1'\n",
        "    os.environ['TORCH_DEVICE'] = 'cpu'\n",
        "# -----------------------------------------------\n",
        "\n",
        "logger = ezpz.get_logger()\n",
        "\n",
        "import wordplay\n",
        "logger.info(wordplay.__file__)"
      ],
      "id": "add600a2"
    },
    {
      "cell_type": "markdown",
      "metadata": {},
      "source": [
        "## Build Trainer\n",
        "\n",
        "Explicitly, we:\n",
        "\n",
        "1.  `setup_torch(...)`\n",
        "2.  Build `cfg: DictConfig = get_config(...)`\n",
        "3.  Instnatiate `config: ExperimentConfig = instantiate(cfg)`\n",
        "4.  Build `trainer = Trainer(config)`"
      ],
      "id": "690f1bbe-112e-4477-adbb-b7c0dd0e5cc2"
    },
    {
      "cell_type": "code",
      "execution_count": 3,
      "metadata": {
        "quarto-private-1": {
          "key": "jupyter",
          "value": {
            "outputs_hidden": false,
            "source_hidden": false
          }
        }
      },
      "outputs": [
        {
          "output_type": "display_data",
          "metadata": {},
          "data": {
            "text/html": [
              "<pre style=\"white-space:pre;overflow-x:auto;line-height:normal;font-family:Menlo,'DejaVu Sans Mono',consolas,'Courier New',monospace\">[<span style=\"color: #7f7f7f; text-decoration-color: #7f7f7f\">2025-07-22 22:23:53,523398</span>][<span style=\"color: #008000; text-decoration-color: #008000\">I</span>][<span style=\"color: #008080; text-decoration-color: #008080; font-style: italic\">wordplay</span>/<span style=\"color: #000080; text-decoration-color: #000080\">configs</span><span style=\"color: #0000ff; text-decoration-color: #0000ff\">:</span><span style=\"color: #800080; text-decoration-color: #800080\">81</span>]<span style=\"color: #c0c0c0; text-decoration-color: #c0c0c0\"> </span>Setting HF_DATASETS_CACHE to <span style=\"color: #800080; text-decoration-color: #800080\">/Users/samforeman/projects/saforem2/wordplay/.cache/huggingface/</span><span style=\"color: #ff00ff; text-decoration-color: #ff00ff\">datasets</span>\n",
              "</pre>"
            ]
          }
        },
        {
          "output_type": "display_data",
          "metadata": {},
          "data": {
            "text/html": [
              "<pre style=\"white-space:pre;overflow-x:auto;line-height:normal;font-family:Menlo,'DejaVu Sans Mono',consolas,'Courier New',monospace\">[<span style=\"color: #7f7f7f; text-decoration-color: #7f7f7f\">2025-07-22 22:23:53,530105</span>][<span style=\"color: #ffff00; text-decoration-color: #ffff00\">W</span>][<span style=\"color: #008080; text-decoration-color: #008080; font-style: italic\">ezpz</span>/<span style=\"color: #000080; text-decoration-color: #000080\">dist</span><span style=\"color: #0000ff; text-decoration-color: #0000ff\">:</span><span style=\"color: #800080; text-decoration-color: #800080\">639</span>]<span style=\"color: #c0c0c0; text-decoration-color: #c0c0c0\"> </span>Caught <span style=\"color: #0000ff; text-decoration-color: #0000ff\">TORCH_DEVICE</span>=<span style=\"color: #800080; text-decoration-color: #800080\">cpu</span> from environment!\n",
              "</pre>"
            ]
          }
        },
        {
          "output_type": "display_data",
          "metadata": {},
          "data": {
            "text/html": [
              "<pre style=\"white-space:pre;overflow-x:auto;line-height:normal;font-family:Menlo,'DejaVu Sans Mono',consolas,'Courier New',monospace\">[<span style=\"color: #7f7f7f; text-decoration-color: #7f7f7f\">2025-07-22 22:23:53,531006</span>][<span style=\"color: #ffff00; text-decoration-color: #ffff00\">W</span>][<span style=\"color: #008080; text-decoration-color: #008080; font-style: italic\">ezpz</span>/<span style=\"color: #000080; text-decoration-color: #000080\">dist</span><span style=\"color: #0000ff; text-decoration-color: #0000ff\">:</span><span style=\"color: #800080; text-decoration-color: #800080\">639</span>]<span style=\"color: #c0c0c0; text-decoration-color: #c0c0c0\"> </span>Caught <span style=\"color: #0000ff; text-decoration-color: #0000ff\">TORCH_DEVICE</span>=<span style=\"color: #800080; text-decoration-color: #800080\">cpu</span> from environment!\n",
              "</pre>"
            ]
          }
        },
        {
          "output_type": "display_data",
          "metadata": {},
          "data": {
            "text/html": [
              "<pre style=\"white-space:pre;overflow-x:auto;line-height:normal;font-family:Menlo,'DejaVu Sans Mono',consolas,'Courier New',monospace\">[<span style=\"color: #7f7f7f; text-decoration-color: #7f7f7f\">2025-07-22 22:23:53,531724</span>][<span style=\"color: #ffff00; text-decoration-color: #ffff00\">W</span>][<span style=\"color: #008080; text-decoration-color: #008080; font-style: italic\">ezpz</span>/<span style=\"color: #000080; text-decoration-color: #000080\">dist</span><span style=\"color: #0000ff; text-decoration-color: #0000ff\">:</span><span style=\"color: #800080; text-decoration-color: #800080\">639</span>]<span style=\"color: #c0c0c0; text-decoration-color: #c0c0c0\"> </span>Caught <span style=\"color: #0000ff; text-decoration-color: #0000ff\">TORCH_DEVICE</span>=<span style=\"color: #800080; text-decoration-color: #800080\">cpu</span> from environment!\n",
              "</pre>"
            ]
          }
        },
        {
          "output_type": "display_data",
          "metadata": {},
          "data": {
            "text/html": [
              "<pre style=\"white-space:pre;overflow-x:auto;line-height:normal;font-family:Menlo,'DejaVu Sans Mono',consolas,'Courier New',monospace\">[<span style=\"color: #7f7f7f; text-decoration-color: #7f7f7f\">2025-07-22 22:23:53,532329</span>][<span style=\"color: #008000; text-decoration-color: #008000\">I</span>][<span style=\"color: #008080; text-decoration-color: #008080; font-style: italic\">ezpz</span>/<span style=\"color: #000080; text-decoration-color: #000080\">dist</span><span style=\"color: #0000ff; text-decoration-color: #0000ff\">:</span><span style=\"color: #800080; text-decoration-color: #800080\">1159</span>]<span style=\"color: #c0c0c0; text-decoration-color: #c0c0c0\"> </span>Using <span style=\"color: #0000ff; text-decoration-color: #0000ff\">fw</span>=<span style=\"color: #008000; text-decoration-color: #008000\">'ddp'</span> with torch_<span style=\"color: #ff00ff; text-decoration-color: #ff00ff\">{</span>device,backend<span style=\"color: #ff00ff; text-decoration-color: #ff00ff\">}</span>= <span style=\"color: #ff00ff; text-decoration-color: #ff00ff\">{</span>cpu, gloo<span style=\"color: #ff00ff; text-decoration-color: #ff00ff\">}</span>\n",
              "</pre>"
            ]
          }
        },
        {
          "output_type": "display_data",
          "metadata": {},
          "data": {
            "text/html": [
              "<pre style=\"white-space:pre;overflow-x:auto;line-height:normal;font-family:Menlo,'DejaVu Sans Mono',consolas,'Courier New',monospace\">[<span style=\"color: #7f7f7f; text-decoration-color: #7f7f7f\">2025-07-22 22:23:53,535867</span>][<span style=\"color: #008000; text-decoration-color: #008000\">I</span>][<span style=\"color: #008080; text-decoration-color: #008080; font-style: italic\">ezpz</span>/<span style=\"color: #000080; text-decoration-color: #000080\">dist</span><span style=\"color: #0000ff; text-decoration-color: #0000ff\">:</span><span style=\"color: #800080; text-decoration-color: #800080\">1026</span>]<span style=\"color: #c0c0c0; text-decoration-color: #c0c0c0\"> </span>Caught <span style=\"color: #0000ff; text-decoration-color: #0000ff\">MASTER_PORT</span>=<span style=\"color: #008080; text-decoration-color: #008080; font-weight: bold\">55006</span> from environment!\n",
              "</pre>"
            ]
          }
        },
        {
          "output_type": "display_data",
          "metadata": {},
          "data": {
            "text/html": [
              "<pre style=\"white-space:pre;overflow-x:auto;line-height:normal;font-family:Menlo,'DejaVu Sans Mono',consolas,'Courier New',monospace\">[<span style=\"color: #7f7f7f; text-decoration-color: #7f7f7f\">2025-07-22 22:23:53,536517</span>][<span style=\"color: #008000; text-decoration-color: #008000\">I</span>][<span style=\"color: #008080; text-decoration-color: #008080; font-style: italic\">ezpz</span>/<span style=\"color: #000080; text-decoration-color: #000080\">dist</span><span style=\"color: #0000ff; text-decoration-color: #0000ff\">:</span><span style=\"color: #800080; text-decoration-color: #800080\">1042</span>]<span style=\"color: #c0c0c0; text-decoration-color: #c0c0c0\"> </span>Using torch.distributed.init_process_group with\n",
              "- <span style=\"color: #0000ff; text-decoration-color: #0000ff\">master_addr</span>=<span style=\"color: #008000; text-decoration-color: #008000\">'Sams-MacBook-Pro-2.local'</span>\n",
              "- <span style=\"color: #0000ff; text-decoration-color: #0000ff\">master_port</span>=<span style=\"color: #008000; text-decoration-color: #008000\">'55006'</span>\n",
              "- <span style=\"color: #0000ff; text-decoration-color: #0000ff\">world_size</span>=<span style=\"color: #008080; text-decoration-color: #008080; font-weight: bold\">1</span>\n",
              "- <span style=\"color: #0000ff; text-decoration-color: #0000ff\">rank</span>=<span style=\"color: #008080; text-decoration-color: #008080; font-weight: bold\">0</span>\n",
              "- <span style=\"color: #0000ff; text-decoration-color: #0000ff\">local_rank</span>=<span style=\"color: #008080; text-decoration-color: #008080; font-weight: bold\">0</span>\n",
              "- <span style=\"color: #0000ff; text-decoration-color: #0000ff\">timeout</span>=<span style=\"color: #800080; text-decoration-color: #800080; font-weight: bold\">datetime.timedelta</span><span style=\"color: #ff00ff; text-decoration-color: #ff00ff\">(</span><span style=\"color: #0000ff; text-decoration-color: #0000ff\">seconds</span>=<span style=\"color: #008080; text-decoration-color: #008080; font-weight: bold\">3600</span><span style=\"color: #ff00ff; text-decoration-color: #ff00ff\">)</span>\n",
              "- <span style=\"color: #0000ff; text-decoration-color: #0000ff\">backend</span>=<span style=\"color: #008000; text-decoration-color: #008000\">'gloo'</span>\n",
              "</pre>"
            ]
          }
        },
        {
          "output_type": "display_data",
          "metadata": {},
          "data": {
            "text/html": [
              "<pre style=\"white-space:pre;overflow-x:auto;line-height:normal;font-family:Menlo,'DejaVu Sans Mono',consolas,'Courier New',monospace\">[<span style=\"color: #7f7f7f; text-decoration-color: #7f7f7f\">2025-07-22 22:23:53,537489</span>][<span style=\"color: #008000; text-decoration-color: #008000\">I</span>][<span style=\"color: #008080; text-decoration-color: #008080; font-style: italic\">ezpz</span>/<span style=\"color: #000080; text-decoration-color: #000080\">dist</span><span style=\"color: #0000ff; text-decoration-color: #0000ff\">:</span><span style=\"color: #800080; text-decoration-color: #800080\">759</span>]<span style=\"color: #c0c0c0; text-decoration-color: #c0c0c0\"> </span>Calling torch.distributed.init_process_group_with: <span style=\"color: #0000ff; text-decoration-color: #0000ff\">rank</span>=<span style=\"color: #008080; text-decoration-color: #008080; font-weight: bold\">0</span> <span style=\"color: #0000ff; text-decoration-color: #0000ff\">world_size</span>=<span style=\"color: #008080; text-decoration-color: #008080; font-weight: bold\">1</span> <span style=\"color: #0000ff; text-decoration-color: #0000ff\">backend</span>=<span style=\"color: #800080; text-decoration-color: #800080\">gloo</span>\n",
              "</pre>"
            ]
          }
        },
        {
          "output_type": "display_data",
          "metadata": {},
          "data": {
            "text/html": [
              "<pre style=\"white-space:pre;overflow-x:auto;line-height:normal;font-family:Menlo,'DejaVu Sans Mono',consolas,'Courier New',monospace\">[<span style=\"color: #7f7f7f; text-decoration-color: #7f7f7f\">2025-07-22 22:23:53,554411</span>][<span style=\"color: #ffff00; text-decoration-color: #ffff00\">W</span>][<span style=\"color: #008080; text-decoration-color: #008080; font-style: italic\">ezpz</span>/<span style=\"color: #000080; text-decoration-color: #000080\">dist</span><span style=\"color: #0000ff; text-decoration-color: #0000ff\">:</span><span style=\"color: #800080; text-decoration-color: #800080\">639</span>]<span style=\"color: #c0c0c0; text-decoration-color: #c0c0c0\"> </span>Caught <span style=\"color: #0000ff; text-decoration-color: #0000ff\">TORCH_DEVICE</span>=<span style=\"color: #800080; text-decoration-color: #800080\">cpu</span> from environment!\n",
              "</pre>"
            ]
          }
        },
        {
          "output_type": "display_data",
          "metadata": {},
          "data": {
            "text/html": [
              "<pre style=\"white-space:pre;overflow-x:auto;line-height:normal;font-family:Menlo,'DejaVu Sans Mono',consolas,'Courier New',monospace\">[<span style=\"color: #7f7f7f; text-decoration-color: #7f7f7f\">2025-07-22 22:23:53,555027</span>][<span style=\"color: #ffff00; text-decoration-color: #ffff00\">W</span>][<span style=\"color: #008080; text-decoration-color: #008080; font-style: italic\">ezpz</span>/<span style=\"color: #000080; text-decoration-color: #000080\">dist</span><span style=\"color: #0000ff; text-decoration-color: #0000ff\">:</span><span style=\"color: #800080; text-decoration-color: #800080\">639</span>]<span style=\"color: #c0c0c0; text-decoration-color: #c0c0c0\"> </span>Caught <span style=\"color: #0000ff; text-decoration-color: #0000ff\">TORCH_DEVICE</span>=<span style=\"color: #800080; text-decoration-color: #800080\">cpu</span> from environment!\n",
              "</pre>"
            ]
          }
        },
        {
          "output_type": "display_data",
          "metadata": {},
          "data": {
            "text/html": [
              "<pre style=\"white-space:pre;overflow-x:auto;line-height:normal;font-family:Menlo,'DejaVu Sans Mono',consolas,'Courier New',monospace\">[<span style=\"color: #7f7f7f; text-decoration-color: #7f7f7f\">2025-07-22 22:23:53,573675</span>][<span style=\"color: #008000; text-decoration-color: #008000\">I</span>][<span style=\"color: #008080; text-decoration-color: #008080; font-style: italic\">ezpz</span>/<span style=\"color: #000080; text-decoration-color: #000080\">dist</span><span style=\"color: #0000ff; text-decoration-color: #0000ff\">:</span><span style=\"color: #800080; text-decoration-color: #800080\">1377</span>]<span style=\"color: #c0c0c0; text-decoration-color: #c0c0c0\"> </span>Using <span style=\"color: #0000ff; text-decoration-color: #0000ff\">device</span>=<span style=\"color: #008000; text-decoration-color: #008000\">'cpu'</span> with <span style=\"color: #0000ff; text-decoration-color: #0000ff\">backend</span>=<span style=\"color: #008000; text-decoration-color: #008000\">'gloo'</span> + <span style=\"color: #008000; text-decoration-color: #008000\">'gloo'</span> for distributed training.\n",
              "</pre>"
            ]
          }
        },
        {
          "output_type": "display_data",
          "metadata": {},
          "data": {
            "text/html": [
              "<pre style=\"white-space:pre;overflow-x:auto;line-height:normal;font-family:Menlo,'DejaVu Sans Mono',consolas,'Courier New',monospace\">[<span style=\"color: #7f7f7f; text-decoration-color: #7f7f7f\">2025-07-22 22:23:53,574323</span>][<span style=\"color: #008000; text-decoration-color: #008000\">I</span>][<span style=\"color: #008080; text-decoration-color: #008080; font-style: italic\">ezpz</span>/<span style=\"color: #000080; text-decoration-color: #000080\">dist</span><span style=\"color: #0000ff; text-decoration-color: #0000ff\">:</span><span style=\"color: #800080; text-decoration-color: #800080\">1422</span>]<span style=\"color: #c0c0c0; text-decoration-color: #c0c0c0\"> </span><span style=\"color: #ff00ff; text-decoration-color: #ff00ff\">[</span><span style=\"color: #008000; text-decoration-color: #008000\">'Sams-MacBook-Pro-2.local'</span><span style=\"color: #ff00ff; text-decoration-color: #ff00ff\">][</span><span style=\"color: #008080; text-decoration-color: #008080; font-weight: bold\">0</span>/<span style=\"color: #008080; text-decoration-color: #008080; font-weight: bold\">0</span><span style=\"color: #ff00ff; text-decoration-color: #ff00ff\">]</span> \n",
              "</pre>"
            ]
          }
        },
        {
          "output_type": "display_data",
          "metadata": {},
          "data": {
            "text/html": [
              "<pre style=\"white-space:pre;overflow-x:auto;line-height:normal;font-family:Menlo,'DejaVu Sans Mono',consolas,'Courier New',monospace\">[<span style=\"color: #7f7f7f; text-decoration-color: #7f7f7f\">2025-07-22 22:23:53,629774</span>][<span style=\"color: #008000; text-decoration-color: #008000\">I</span>][<span style=\"color: #008080; text-decoration-color: #008080; font-style: italic\">wordplay</span>/<span style=\"color: #000080; text-decoration-color: #000080\">configs</span><span style=\"color: #0000ff; text-decoration-color: #0000ff\">:</span><span style=\"color: #800080; text-decoration-color: #800080\">317</span>]<span style=\"color: #c0c0c0; text-decoration-color: #c0c0c0\"> </span>Loading train from <span style=\"color: #800080; text-decoration-color: #800080\">/Users/samforeman/projects/saforem2/wordplay/data/shakespeare_char/</span><span style=\"color: #ff00ff; text-decoration-color: #ff00ff\">train.bin</span>\n",
              "</pre>"
            ]
          }
        },
        {
          "output_type": "display_data",
          "metadata": {},
          "data": {
            "text/html": [
              "<pre style=\"white-space:pre;overflow-x:auto;line-height:normal;font-family:Menlo,'DejaVu Sans Mono',consolas,'Courier New',monospace\">[<span style=\"color: #7f7f7f; text-decoration-color: #7f7f7f\">2025-07-22 22:23:53,639060</span>][<span style=\"color: #008000; text-decoration-color: #008000\">I</span>][<span style=\"color: #008080; text-decoration-color: #008080; font-style: italic\">wordplay</span>/<span style=\"color: #000080; text-decoration-color: #000080\">configs</span><span style=\"color: #0000ff; text-decoration-color: #0000ff\">:</span><span style=\"color: #800080; text-decoration-color: #800080\">317</span>]<span style=\"color: #c0c0c0; text-decoration-color: #c0c0c0\"> </span>Loading val from <span style=\"color: #800080; text-decoration-color: #800080\">/Users/samforeman/projects/saforem2/wordplay/data/shakespeare_char/</span><span style=\"color: #ff00ff; text-decoration-color: #ff00ff\">val.bin</span>\n",
              "</pre>"
            ]
          }
        },
        {
          "output_type": "display_data",
          "metadata": {},
          "data": {
            "text/html": [
              "<pre style=\"white-space:pre;overflow-x:auto;line-height:normal;font-family:Menlo,'DejaVu Sans Mono',consolas,'Courier New',monospace\">[<span style=\"color: #7f7f7f; text-decoration-color: #7f7f7f\">2025-07-22 22:23:53,645259</span>][<span style=\"color: #008000; text-decoration-color: #008000\">I</span>][<span style=\"color: #008080; text-decoration-color: #008080; font-style: italic\">wordplay</span>/<span style=\"color: #000080; text-decoration-color: #000080\">configs</span><span style=\"color: #0000ff; text-decoration-color: #0000ff\">:</span><span style=\"color: #800080; text-decoration-color: #800080\">442</span>]<span style=\"color: #c0c0c0; text-decoration-color: #c0c0c0\"> </span>Tokens per iteration: <span style=\"color: #008080; text-decoration-color: #008080; font-weight: bold\">128</span>\n",
              "</pre>"
            ]
          }
        },
        {
          "output_type": "display_data",
          "metadata": {},
          "data": {
            "text/html": [
              "<pre style=\"white-space:pre;overflow-x:auto;line-height:normal;font-family:Menlo,'DejaVu Sans Mono',consolas,'Courier New',monospace\">[<span style=\"color: #7f7f7f; text-decoration-color: #7f7f7f\">2025-07-22 22:23:53,645936</span>][<span style=\"color: #ffff00; text-decoration-color: #ffff00\">W</span>][<span style=\"color: #008080; text-decoration-color: #008080; font-style: italic\">ezpz</span>/<span style=\"color: #000080; text-decoration-color: #000080\">dist</span><span style=\"color: #0000ff; text-decoration-color: #0000ff\">:</span><span style=\"color: #800080; text-decoration-color: #800080\">639</span>]<span style=\"color: #c0c0c0; text-decoration-color: #c0c0c0\"> </span>Caught <span style=\"color: #0000ff; text-decoration-color: #0000ff\">TORCH_DEVICE</span>=<span style=\"color: #800080; text-decoration-color: #800080\">cpu</span> from environment!\n",
              "</pre>"
            ]
          }
        },
        {
          "output_type": "display_data",
          "metadata": {},
          "data": {
            "text/html": [
              "<pre style=\"white-space:pre;overflow-x:auto;line-height:normal;font-family:Menlo,'DejaVu Sans Mono',consolas,'Courier New',monospace\">[<span style=\"color: #7f7f7f; text-decoration-color: #7f7f7f\">2025-07-22 22:23:53,646471</span>][<span style=\"color: #008000; text-decoration-color: #008000\">I</span>][<span style=\"color: #008080; text-decoration-color: #008080; font-style: italic\">wordplay</span>/<span style=\"color: #000080; text-decoration-color: #000080\">configs</span><span style=\"color: #0000ff; text-decoration-color: #0000ff\">:</span><span style=\"color: #800080; text-decoration-color: #800080\">465</span>]<span style=\"color: #c0c0c0; text-decoration-color: #c0c0c0\"> </span>Using self.<span style=\"color: #0000ff; text-decoration-color: #0000ff\">ptdtype</span>=<span style=\"color: #800080; text-decoration-color: #800080\">torch</span>.bfloat16 on self.<span style=\"color: #0000ff; text-decoration-color: #0000ff\">device_type</span>=<span style=\"color: #008000; text-decoration-color: #008000\">'cpu'</span>\n",
              "</pre>"
            ]
          }
        },
        {
          "output_type": "display_data",
          "metadata": {},
          "data": {
            "text/html": [
              "<pre style=\"white-space:pre;overflow-x:auto;line-height:normal;font-family:Menlo,'DejaVu Sans Mono',consolas,'Courier New',monospace\">[<span style=\"color: #7f7f7f; text-decoration-color: #7f7f7f\">2025-07-22 22:23:53,647031</span>][<span style=\"color: #008000; text-decoration-color: #008000\">I</span>][<span style=\"color: #008080; text-decoration-color: #008080; font-style: italic\">wordplay</span>/<span style=\"color: #000080; text-decoration-color: #000080\">configs</span><span style=\"color: #0000ff; text-decoration-color: #0000ff\">:</span><span style=\"color: #800080; text-decoration-color: #800080\">471</span>]<span style=\"color: #c0c0c0; text-decoration-color: #c0c0c0\"> </span>Initializing a new model from scratch\n",
              "</pre>"
            ]
          }
        }
      ],
      "source": [
        "import os\n",
        "import numpy as np\n",
        "from ezpz import setup\n",
        "from hydra.utils import instantiate\n",
        "from wordplay.configs import get_config, PROJECT_ROOT\n",
        "from wordplay.trainer import Trainer\n",
        "\n",
        "HF_DATASETS_CACHE = PROJECT_ROOT.joinpath('.cache', 'huggingface')\n",
        "HF_DATASETS_CACHE.mkdir(exist_ok=True, parents=True)\n",
        "\n",
        "os.environ['HF_DATASETS_CACHE'] = HF_DATASETS_CACHE.as_posix()\n",
        "\n",
        "BACKEND = 'DDP'\n",
        "\n",
        "rank = setup(\n",
        "    framework='pytorch',\n",
        "    backend=BACKEND,\n",
        "    seed=1234,\n",
        ")\n",
        "\n",
        "cfg = get_config(\n",
        "    [\n",
        "        'data=shakespeare',\n",
        "        'model=shakespeare',\n",
        "        'model.batch_size=1',\n",
        "        'model.block_size=128',\n",
        "        'optimizer=shakespeare',\n",
        "        'train=shakespeare',\n",
        "        f'train.backend={BACKEND}',\n",
        "        'train.compile=false',\n",
        "        'train.dtype=bfloat16',\n",
        "        'train.max_iters=500',\n",
        "        'train.log_interval=10',\n",
        "        'train.eval_interval=50',\n",
        "    ]\n",
        ")\n",
        "config = instantiate(cfg)"
      ],
      "id": "ea7998f5"
    },
    {
      "cell_type": "markdown",
      "metadata": {},
      "source": [
        "### Build `Trainer` object"
      ],
      "id": "1d8d5357-5069-4bfa-98c4-5b3943e85a2d"
    },
    {
      "cell_type": "code",
      "execution_count": 4,
      "metadata": {
        "quarto-private-1": {
          "key": "jupyter",
          "value": {
            "outputs_hidden": false,
            "source_hidden": false
          }
        }
      },
      "outputs": [
        {
          "output_type": "display_data",
          "metadata": {},
          "data": {
            "text/html": [
              "<pre style=\"white-space:pre;overflow-x:auto;line-height:normal;font-family:Menlo,'DejaVu Sans Mono',consolas,'Courier New',monospace\">[<span style=\"color: #7f7f7f; text-decoration-color: #7f7f7f\">2025-07-22 22:23:53,682989</span>][<span style=\"color: #008000; text-decoration-color: #008000\">I</span>][<span style=\"color: #008080; text-decoration-color: #008080; font-style: italic\">wordplay</span>/<span style=\"color: #000080; text-decoration-color: #000080\">trainer</span><span style=\"color: #0000ff; text-decoration-color: #0000ff\">:</span><span style=\"color: #800080; text-decoration-color: #800080\">248</span>]<span style=\"color: #c0c0c0; text-decoration-color: #c0c0c0\"> </span>Initializing a new model from scratch\n",
              "</pre>"
            ]
          }
        },
        {
          "output_type": "display_data",
          "metadata": {},
          "data": {
            "text/html": [
              "<pre style=\"white-space:pre;overflow-x:auto;line-height:normal;font-family:Menlo,'DejaVu Sans Mono',consolas,'Courier New',monospace\">[<span style=\"color: #7f7f7f; text-decoration-color: #7f7f7f\">2025-07-22 22:23:53,859416</span>][<span style=\"color: #008000; text-decoration-color: #008000\">I</span>][<span style=\"color: #008080; text-decoration-color: #008080; font-style: italic\">wordplay</span>/<span style=\"color: #000080; text-decoration-color: #000080\">model</span><span style=\"color: #0000ff; text-decoration-color: #0000ff\">:</span><span style=\"color: #800080; text-decoration-color: #800080\">255</span>]<span style=\"color: #c0c0c0; text-decoration-color: #c0c0c0\"> </span>number of parameters: <span style=\"color: #008080; text-decoration-color: #008080; font-weight: bold\">10.</span>65M\n",
              "</pre>"
            ]
          }
        },
        {
          "output_type": "display_data",
          "metadata": {},
          "data": {
            "text/html": [
              "<pre style=\"white-space:pre;overflow-x:auto;line-height:normal;font-family:Menlo,'DejaVu Sans Mono',consolas,'Courier New',monospace\">[<span style=\"color: #7f7f7f; text-decoration-color: #7f7f7f\">2025-07-22 22:23:53,860725</span>][<span style=\"color: #008000; text-decoration-color: #008000\">I</span>][<span style=\"color: #008080; text-decoration-color: #008080; font-style: italic\">wordplay</span>/<span style=\"color: #000080; text-decoration-color: #000080\">trainer</span><span style=\"color: #0000ff; text-decoration-color: #0000ff\">:</span><span style=\"color: #800080; text-decoration-color: #800080\">266</span>]<span style=\"color: #c0c0c0; text-decoration-color: #c0c0c0\"> </span>Model size: <span style=\"color: #0000ff; text-decoration-color: #0000ff\">num_params</span>=<span style=\"color: #008080; text-decoration-color: #008080; font-weight: bold\">10646784</span>\n",
              "</pre>"
            ]
          }
        },
        {
          "output_type": "display_data",
          "metadata": {},
          "data": {
            "text/html": [
              "<pre style=\"white-space:pre;overflow-x:auto;line-height:normal;font-family:Menlo,'DejaVu Sans Mono',consolas,'Courier New',monospace\">[<span style=\"color: #7f7f7f; text-decoration-color: #7f7f7f\">2025-07-22 22:23:53,861429</span>][<span style=\"color: #008000; text-decoration-color: #008000\">I</span>][<span style=\"color: #008080; text-decoration-color: #008080; font-style: italic\">wordplay</span>/<span style=\"color: #000080; text-decoration-color: #000080\">model</span><span style=\"color: #0000ff; text-decoration-color: #0000ff\">:</span><span style=\"color: #800080; text-decoration-color: #800080\">445</span>]<span style=\"color: #c0c0c0; text-decoration-color: #c0c0c0\"> </span>num decayed parameter tensors: <span style=\"color: #008080; text-decoration-color: #008080; font-weight: bold\">26</span>, with <span style=\"color: #008080; text-decoration-color: #008080; font-weight: bold\">10</span>,<span style=\"color: #008080; text-decoration-color: #008080; font-weight: bold\">690</span>,<span style=\"color: #008080; text-decoration-color: #008080; font-weight: bold\">944</span> parameters\n",
              "</pre>"
            ]
          }
        },
        {
          "output_type": "display_data",
          "metadata": {},
          "data": {
            "text/html": [
              "<pre style=\"white-space:pre;overflow-x:auto;line-height:normal;font-family:Menlo,'DejaVu Sans Mono',consolas,'Courier New',monospace\">[<span style=\"color: #7f7f7f; text-decoration-color: #7f7f7f\">2025-07-22 22:23:53,862054</span>][<span style=\"color: #008000; text-decoration-color: #008000\">I</span>][<span style=\"color: #008080; text-decoration-color: #008080; font-style: italic\">wordplay</span>/<span style=\"color: #000080; text-decoration-color: #000080\">model</span><span style=\"color: #0000ff; text-decoration-color: #0000ff\">:</span><span style=\"color: #800080; text-decoration-color: #800080\">449</span>]<span style=\"color: #c0c0c0; text-decoration-color: #c0c0c0\"> </span>num non-decayed parameter tensors: <span style=\"color: #008080; text-decoration-color: #008080; font-weight: bold\">13</span>, with <span style=\"color: #008080; text-decoration-color: #008080; font-weight: bold\">4</span>,<span style=\"color: #008080; text-decoration-color: #008080; font-weight: bold\">992</span> parameters\n",
              "</pre>"
            ]
          }
        },
        {
          "output_type": "display_data",
          "metadata": {},
          "data": {
            "text/html": [
              "<pre style=\"white-space:pre;overflow-x:auto;line-height:normal;font-family:Menlo,'DejaVu Sans Mono',consolas,'Courier New',monospace\">[<span style=\"color: #7f7f7f; text-decoration-color: #7f7f7f\">2025-07-22 22:23:53,862855</span>][<span style=\"color: #008000; text-decoration-color: #008000\">I</span>][<span style=\"color: #008080; text-decoration-color: #008080; font-style: italic\">wordplay</span>/<span style=\"color: #000080; text-decoration-color: #000080\">model</span><span style=\"color: #0000ff; text-decoration-color: #0000ff\">:</span><span style=\"color: #800080; text-decoration-color: #800080\">465</span>]<span style=\"color: #c0c0c0; text-decoration-color: #c0c0c0\"> </span>using fused AdamW: <span style=\"color: #ff0000; text-decoration-color: #ff0000; font-style: italic\">False</span>\n",
              "</pre>"
            ]
          }
        },
        {
          "output_type": "display_data",
          "metadata": {},
          "data": {
            "text/html": [
              "<pre style=\"white-space:pre;overflow-x:auto;line-height:normal;font-family:Menlo,'DejaVu Sans Mono',consolas,'Courier New',monospace\">[<span style=\"color: #7f7f7f; text-decoration-color: #7f7f7f\">2025-07-22 22:23:53,863498</span>][<span style=\"background-color: #ff0000; font-weight: bold\">C</span>][<span style=\"color: #008080; text-decoration-color: #008080; font-style: italic\">wordplay</span>/<span style=\"color: #000080; text-decoration-color: #000080\">trainer</span><span style=\"color: #0000ff; text-decoration-color: #0000ff\">:</span><span style=\"color: #800080; text-decoration-color: #800080\">318</span>]<span style=\"color: #c0c0c0; text-decoration-color: #c0c0c0\"> </span><span style=\"color: #008000; text-decoration-color: #008000\">\"devid='cpu:0'\"</span>\n",
              "</pre>"
            ]
          }
        },
        {
          "output_type": "display_data",
          "metadata": {},
          "data": {
            "text/html": [
              "<pre style=\"white-space:pre;overflow-x:auto;line-height:normal;font-family:Menlo,'DejaVu Sans Mono',consolas,'Courier New',monospace\">[<span style=\"color: #7f7f7f; text-decoration-color: #7f7f7f\">2025-07-22 22:23:53,870522</span>][<span style=\"color: #008000; text-decoration-color: #008000\">I</span>][<span style=\"color: #008080; text-decoration-color: #008080; font-style: italic\">wordplay</span>/<span style=\"color: #000080; text-decoration-color: #000080\">trainer</span><span style=\"color: #0000ff; text-decoration-color: #0000ff\">:</span><span style=\"color: #800080; text-decoration-color: #800080\">358</span>]<span style=\"color: #c0c0c0; text-decoration-color: #c0c0c0\"> </span>• self.<span style=\"color: #0000ff; text-decoration-color: #0000ff\">model</span>=<span style=\"color: #800080; text-decoration-color: #800080; font-weight: bold\">GPT</span><span style=\"color: #ff00ff; text-decoration-color: #ff00ff\">(</span>\n",
              "  <span style=\"color: #ff00ff; text-decoration-color: #ff00ff\">(</span>transformer<span style=\"color: #ff00ff; text-decoration-color: #ff00ff\">)</span>: <span style=\"color: #800080; text-decoration-color: #800080; font-weight: bold\">ModuleDict</span><span style=\"color: #ff00ff; text-decoration-color: #ff00ff\">(</span>\n",
              "    <span style=\"color: #ff00ff; text-decoration-color: #ff00ff\">(</span>wte<span style=\"color: #ff00ff; text-decoration-color: #ff00ff\">)</span>: <span style=\"color: #800080; text-decoration-color: #800080; font-weight: bold\">Embedding</span><span style=\"color: #ff00ff; text-decoration-color: #ff00ff\">(</span><span style=\"color: #008080; text-decoration-color: #008080; font-weight: bold\">65</span>, <span style=\"color: #008080; text-decoration-color: #008080; font-weight: bold\">384</span><span style=\"color: #ff00ff; text-decoration-color: #ff00ff\">)</span>\n",
              "    <span style=\"color: #ff00ff; text-decoration-color: #ff00ff\">(</span>wpe<span style=\"color: #ff00ff; text-decoration-color: #ff00ff\">)</span>: <span style=\"color: #800080; text-decoration-color: #800080; font-weight: bold\">Embedding</span><span style=\"color: #ff00ff; text-decoration-color: #ff00ff\">(</span><span style=\"color: #008080; text-decoration-color: #008080; font-weight: bold\">128</span>, <span style=\"color: #008080; text-decoration-color: #008080; font-weight: bold\">384</span><span style=\"color: #ff00ff; text-decoration-color: #ff00ff\">)</span>\n",
              "    <span style=\"color: #ff00ff; text-decoration-color: #ff00ff\">(</span>drop<span style=\"color: #ff00ff; text-decoration-color: #ff00ff\">)</span>: <span style=\"color: #800080; text-decoration-color: #800080; font-weight: bold\">Dropout</span><span style=\"color: #ff00ff; text-decoration-color: #ff00ff\">(</span><span style=\"color: #0000ff; text-decoration-color: #0000ff\">p</span>=<span style=\"color: #008080; text-decoration-color: #008080; font-weight: bold\">0.2</span>, <span style=\"color: #0000ff; text-decoration-color: #0000ff\">inplace</span>=<span style=\"color: #ff0000; text-decoration-color: #ff0000; font-style: italic\">False</span><span style=\"color: #ff00ff; text-decoration-color: #ff00ff\">)</span>\n",
              "    <span style=\"color: #ff00ff; text-decoration-color: #ff00ff\">(</span>h<span style=\"color: #ff00ff; text-decoration-color: #ff00ff\">)</span>: <span style=\"color: #800080; text-decoration-color: #800080; font-weight: bold\">ModuleList</span><span style=\"color: #ff00ff; text-decoration-color: #ff00ff\">(</span>\n",
              "      <span style=\"color: #ff00ff; text-decoration-color: #ff00ff\">(</span><span style=\"color: #008080; text-decoration-color: #008080; font-weight: bold\">0</span>-<span style=\"color: #008080; text-decoration-color: #008080; font-weight: bold\">5</span><span style=\"color: #ff00ff; text-decoration-color: #ff00ff\">)</span>: <span style=\"color: #008080; text-decoration-color: #008080; font-weight: bold\">6</span> x <span style=\"color: #800080; text-decoration-color: #800080; font-weight: bold\">Block</span><span style=\"color: #ff00ff; text-decoration-color: #ff00ff\">(</span>\n",
              "        <span style=\"color: #ff00ff; text-decoration-color: #ff00ff\">(</span>ln_1<span style=\"color: #ff00ff; text-decoration-color: #ff00ff\">)</span>: <span style=\"color: #800080; text-decoration-color: #800080; font-weight: bold\">LayerNorm</span><span style=\"color: #ff00ff; text-decoration-color: #ff00ff\">()</span>\n",
              "        <span style=\"color: #ff00ff; text-decoration-color: #ff00ff\">(</span>attn<span style=\"color: #ff00ff; text-decoration-color: #ff00ff\">)</span>: <span style=\"color: #800080; text-decoration-color: #800080; font-weight: bold\">CausalSelfAttention</span><span style=\"color: #ff00ff; text-decoration-color: #ff00ff\">(</span>\n",
              "          <span style=\"color: #ff00ff; text-decoration-color: #ff00ff\">(</span>c_attn<span style=\"color: #ff00ff; text-decoration-color: #ff00ff\">)</span>: <span style=\"color: #800080; text-decoration-color: #800080; font-weight: bold\">Linear</span><span style=\"color: #ff00ff; text-decoration-color: #ff00ff\">(</span><span style=\"color: #0000ff; text-decoration-color: #0000ff\">in_features</span>=<span style=\"color: #008080; text-decoration-color: #008080; font-weight: bold\">384</span>, <span style=\"color: #0000ff; text-decoration-color: #0000ff\">out_features</span>=<span style=\"color: #008080; text-decoration-color: #008080; font-weight: bold\">1152</span>, <span style=\"color: #0000ff; text-decoration-color: #0000ff\">bias</span>=<span style=\"color: #ff0000; text-decoration-color: #ff0000; font-style: italic\">False</span><span style=\"color: #ff00ff; text-decoration-color: #ff00ff\">)</span>\n",
              "          <span style=\"color: #ff00ff; text-decoration-color: #ff00ff\">(</span>c_proj<span style=\"color: #ff00ff; text-decoration-color: #ff00ff\">)</span>: <span style=\"color: #800080; text-decoration-color: #800080; font-weight: bold\">Linear</span><span style=\"color: #ff00ff; text-decoration-color: #ff00ff\">(</span><span style=\"color: #0000ff; text-decoration-color: #0000ff\">in_features</span>=<span style=\"color: #008080; text-decoration-color: #008080; font-weight: bold\">384</span>, <span style=\"color: #0000ff; text-decoration-color: #0000ff\">out_features</span>=<span style=\"color: #008080; text-decoration-color: #008080; font-weight: bold\">384</span>, <span style=\"color: #0000ff; text-decoration-color: #0000ff\">bias</span>=<span style=\"color: #ff0000; text-decoration-color: #ff0000; font-style: italic\">False</span><span style=\"color: #ff00ff; text-decoration-color: #ff00ff\">)</span>\n",
              "          <span style=\"color: #ff00ff; text-decoration-color: #ff00ff\">(</span>attn_dropout<span style=\"color: #ff00ff; text-decoration-color: #ff00ff\">)</span>: <span style=\"color: #800080; text-decoration-color: #800080; font-weight: bold\">Dropout</span><span style=\"color: #ff00ff; text-decoration-color: #ff00ff\">(</span><span style=\"color: #0000ff; text-decoration-color: #0000ff\">p</span>=<span style=\"color: #008080; text-decoration-color: #008080; font-weight: bold\">0.2</span>, <span style=\"color: #0000ff; text-decoration-color: #0000ff\">inplace</span>=<span style=\"color: #ff0000; text-decoration-color: #ff0000; font-style: italic\">False</span><span style=\"color: #ff00ff; text-decoration-color: #ff00ff\">)</span>\n",
              "          <span style=\"color: #ff00ff; text-decoration-color: #ff00ff\">(</span>resid_dropout<span style=\"color: #ff00ff; text-decoration-color: #ff00ff\">)</span>: <span style=\"color: #800080; text-decoration-color: #800080; font-weight: bold\">Dropout</span><span style=\"color: #ff00ff; text-decoration-color: #ff00ff\">(</span><span style=\"color: #0000ff; text-decoration-color: #0000ff\">p</span>=<span style=\"color: #008080; text-decoration-color: #008080; font-weight: bold\">0.2</span>, <span style=\"color: #0000ff; text-decoration-color: #0000ff\">inplace</span>=<span style=\"color: #ff0000; text-decoration-color: #ff0000; font-style: italic\">False</span><span style=\"color: #ff00ff; text-decoration-color: #ff00ff\">)</span>\n",
              "        <span style=\"color: #ff00ff; text-decoration-color: #ff00ff\">)</span>\n",
              "        <span style=\"color: #ff00ff; text-decoration-color: #ff00ff\">(</span>ln_2<span style=\"color: #ff00ff; text-decoration-color: #ff00ff\">)</span>: <span style=\"color: #800080; text-decoration-color: #800080; font-weight: bold\">LayerNorm</span><span style=\"color: #ff00ff; text-decoration-color: #ff00ff\">()</span>\n",
              "        <span style=\"color: #ff00ff; text-decoration-color: #ff00ff\">(</span>mlp<span style=\"color: #ff00ff; text-decoration-color: #ff00ff\">)</span>: <span style=\"color: #800080; text-decoration-color: #800080; font-weight: bold\">MLP</span><span style=\"color: #ff00ff; text-decoration-color: #ff00ff\">(</span>\n",
              "          <span style=\"color: #ff00ff; text-decoration-color: #ff00ff\">(</span>c_fc<span style=\"color: #ff00ff; text-decoration-color: #ff00ff\">)</span>: <span style=\"color: #800080; text-decoration-color: #800080; font-weight: bold\">Linear</span><span style=\"color: #ff00ff; text-decoration-color: #ff00ff\">(</span><span style=\"color: #0000ff; text-decoration-color: #0000ff\">in_features</span>=<span style=\"color: #008080; text-decoration-color: #008080; font-weight: bold\">384</span>, <span style=\"color: #0000ff; text-decoration-color: #0000ff\">out_features</span>=<span style=\"color: #008080; text-decoration-color: #008080; font-weight: bold\">1536</span>, <span style=\"color: #0000ff; text-decoration-color: #0000ff\">bias</span>=<span style=\"color: #ff0000; text-decoration-color: #ff0000; font-style: italic\">False</span><span style=\"color: #ff00ff; text-decoration-color: #ff00ff\">)</span>\n",
              "          <span style=\"color: #ff00ff; text-decoration-color: #ff00ff\">(</span>act_fn<span style=\"color: #ff00ff; text-decoration-color: #ff00ff\">)</span>: <span style=\"color: #800080; text-decoration-color: #800080; font-weight: bold\">GELU</span><span style=\"color: #ff00ff; text-decoration-color: #ff00ff\">(</span><span style=\"color: #0000ff; text-decoration-color: #0000ff\">approximate</span>=<span style=\"color: #008000; text-decoration-color: #008000\">'none'</span><span style=\"color: #ff00ff; text-decoration-color: #ff00ff\">)</span>\n",
              "          <span style=\"color: #ff00ff; text-decoration-color: #ff00ff\">(</span>c_proj<span style=\"color: #ff00ff; text-decoration-color: #ff00ff\">)</span>: <span style=\"color: #800080; text-decoration-color: #800080; font-weight: bold\">Linear</span><span style=\"color: #ff00ff; text-decoration-color: #ff00ff\">(</span><span style=\"color: #0000ff; text-decoration-color: #0000ff\">in_features</span>=<span style=\"color: #008080; text-decoration-color: #008080; font-weight: bold\">1536</span>, <span style=\"color: #0000ff; text-decoration-color: #0000ff\">out_features</span>=<span style=\"color: #008080; text-decoration-color: #008080; font-weight: bold\">384</span>, <span style=\"color: #0000ff; text-decoration-color: #0000ff\">bias</span>=<span style=\"color: #ff0000; text-decoration-color: #ff0000; font-style: italic\">False</span><span style=\"color: #ff00ff; text-decoration-color: #ff00ff\">)</span>\n",
              "          <span style=\"color: #ff00ff; text-decoration-color: #ff00ff\">(</span>dropout<span style=\"color: #ff00ff; text-decoration-color: #ff00ff\">)</span>: <span style=\"color: #800080; text-decoration-color: #800080; font-weight: bold\">Dropout</span><span style=\"color: #ff00ff; text-decoration-color: #ff00ff\">(</span><span style=\"color: #0000ff; text-decoration-color: #0000ff\">p</span>=<span style=\"color: #008080; text-decoration-color: #008080; font-weight: bold\">0.2</span>, <span style=\"color: #0000ff; text-decoration-color: #0000ff\">inplace</span>=<span style=\"color: #ff0000; text-decoration-color: #ff0000; font-style: italic\">False</span><span style=\"color: #ff00ff; text-decoration-color: #ff00ff\">)</span>\n",
              "        <span style=\"color: #ff00ff; text-decoration-color: #ff00ff\">)</span>\n",
              "      <span style=\"color: #ff00ff; text-decoration-color: #ff00ff\">)</span>\n",
              "    <span style=\"color: #ff00ff; text-decoration-color: #ff00ff\">)</span>\n",
              "    <span style=\"color: #ff00ff; text-decoration-color: #ff00ff\">(</span>ln_f<span style=\"color: #ff00ff; text-decoration-color: #ff00ff\">)</span>: <span style=\"color: #800080; text-decoration-color: #800080; font-weight: bold\">LayerNorm</span><span style=\"color: #ff00ff; text-decoration-color: #ff00ff\">()</span>\n",
              "  <span style=\"color: #ff00ff; text-decoration-color: #ff00ff\">)</span>\n",
              "  <span style=\"color: #ff00ff; text-decoration-color: #ff00ff\">(</span>lm_head<span style=\"color: #ff00ff; text-decoration-color: #ff00ff\">)</span>: <span style=\"color: #800080; text-decoration-color: #800080; font-weight: bold\">Linear</span><span style=\"color: #ff00ff; text-decoration-color: #ff00ff\">(</span><span style=\"color: #0000ff; text-decoration-color: #0000ff\">in_features</span>=<span style=\"color: #008080; text-decoration-color: #008080; font-weight: bold\">384</span>, <span style=\"color: #0000ff; text-decoration-color: #0000ff\">out_features</span>=<span style=\"color: #008080; text-decoration-color: #008080; font-weight: bold\">65</span>, <span style=\"color: #0000ff; text-decoration-color: #0000ff\">bias</span>=<span style=\"color: #ff0000; text-decoration-color: #ff0000; font-style: italic\">False</span><span style=\"color: #ff00ff; text-decoration-color: #ff00ff\">)</span>\n",
              "<span style=\"color: #ff00ff; text-decoration-color: #ff00ff\">)</span>\n",
              "</pre>"
            ]
          }
        },
        {
          "output_type": "display_data",
          "metadata": {},
          "data": {
            "text/html": [
              "<pre style=\"white-space:pre;overflow-x:auto;line-height:normal;font-family:Menlo,'DejaVu Sans Mono',consolas,'Courier New',monospace\">[<span style=\"color: #7f7f7f; text-decoration-color: #7f7f7f\">2025-07-22 22:23:53,873563</span>][<span style=\"color: #008000; text-decoration-color: #008000\">I</span>][<span style=\"color: #008080; text-decoration-color: #008080; font-style: italic\">wordplay</span>/<span style=\"color: #000080; text-decoration-color: #000080\">trainer</span><span style=\"color: #0000ff; text-decoration-color: #0000ff\">:</span><span style=\"color: #800080; text-decoration-color: #800080\">359</span>]<span style=\"color: #c0c0c0; text-decoration-color: #c0c0c0\"> </span>• self.<span style=\"color: #0000ff; text-decoration-color: #0000ff\">grad_scaler</span>=<span style=\"color: #800080; text-decoration-color: #800080; font-style: italic\">None</span>\n",
              "</pre>"
            ]
          }
        },
        {
          "output_type": "display_data",
          "metadata": {},
          "data": {
            "text/html": [
              "<pre style=\"white-space:pre;overflow-x:auto;line-height:normal;font-family:Menlo,'DejaVu Sans Mono',consolas,'Courier New',monospace\">[<span style=\"color: #7f7f7f; text-decoration-color: #7f7f7f\">2025-07-22 22:23:53,874438</span>][<span style=\"color: #008000; text-decoration-color: #008000\">I</span>][<span style=\"color: #008080; text-decoration-color: #008080; font-style: italic\">wordplay</span>/<span style=\"color: #000080; text-decoration-color: #000080\">trainer</span><span style=\"color: #0000ff; text-decoration-color: #0000ff\">:</span><span style=\"color: #800080; text-decoration-color: #800080\">360</span>]<span style=\"color: #c0c0c0; text-decoration-color: #c0c0c0\"> </span>• self.<span style=\"color: #0000ff; text-decoration-color: #0000ff\">model_engine</span>=<span style=\"color: #800080; text-decoration-color: #800080; font-weight: bold\">GPT</span><span style=\"color: #ff00ff; text-decoration-color: #ff00ff\">(</span>\n",
              "  <span style=\"color: #ff00ff; text-decoration-color: #ff00ff\">(</span>transformer<span style=\"color: #ff00ff; text-decoration-color: #ff00ff\">)</span>: <span style=\"color: #800080; text-decoration-color: #800080; font-weight: bold\">ModuleDict</span><span style=\"color: #ff00ff; text-decoration-color: #ff00ff\">(</span>\n",
              "    <span style=\"color: #ff00ff; text-decoration-color: #ff00ff\">(</span>wte<span style=\"color: #ff00ff; text-decoration-color: #ff00ff\">)</span>: <span style=\"color: #800080; text-decoration-color: #800080; font-weight: bold\">Embedding</span><span style=\"color: #ff00ff; text-decoration-color: #ff00ff\">(</span><span style=\"color: #008080; text-decoration-color: #008080; font-weight: bold\">65</span>, <span style=\"color: #008080; text-decoration-color: #008080; font-weight: bold\">384</span><span style=\"color: #ff00ff; text-decoration-color: #ff00ff\">)</span>\n",
              "    <span style=\"color: #ff00ff; text-decoration-color: #ff00ff\">(</span>wpe<span style=\"color: #ff00ff; text-decoration-color: #ff00ff\">)</span>: <span style=\"color: #800080; text-decoration-color: #800080; font-weight: bold\">Embedding</span><span style=\"color: #ff00ff; text-decoration-color: #ff00ff\">(</span><span style=\"color: #008080; text-decoration-color: #008080; font-weight: bold\">128</span>, <span style=\"color: #008080; text-decoration-color: #008080; font-weight: bold\">384</span><span style=\"color: #ff00ff; text-decoration-color: #ff00ff\">)</span>\n",
              "    <span style=\"color: #ff00ff; text-decoration-color: #ff00ff\">(</span>drop<span style=\"color: #ff00ff; text-decoration-color: #ff00ff\">)</span>: <span style=\"color: #800080; text-decoration-color: #800080; font-weight: bold\">Dropout</span><span style=\"color: #ff00ff; text-decoration-color: #ff00ff\">(</span><span style=\"color: #0000ff; text-decoration-color: #0000ff\">p</span>=<span style=\"color: #008080; text-decoration-color: #008080; font-weight: bold\">0.2</span>, <span style=\"color: #0000ff; text-decoration-color: #0000ff\">inplace</span>=<span style=\"color: #ff0000; text-decoration-color: #ff0000; font-style: italic\">False</span><span style=\"color: #ff00ff; text-decoration-color: #ff00ff\">)</span>\n",
              "    <span style=\"color: #ff00ff; text-decoration-color: #ff00ff\">(</span>h<span style=\"color: #ff00ff; text-decoration-color: #ff00ff\">)</span>: <span style=\"color: #800080; text-decoration-color: #800080; font-weight: bold\">ModuleList</span><span style=\"color: #ff00ff; text-decoration-color: #ff00ff\">(</span>\n",
              "      <span style=\"color: #ff00ff; text-decoration-color: #ff00ff\">(</span><span style=\"color: #008080; text-decoration-color: #008080; font-weight: bold\">0</span>-<span style=\"color: #008080; text-decoration-color: #008080; font-weight: bold\">5</span><span style=\"color: #ff00ff; text-decoration-color: #ff00ff\">)</span>: <span style=\"color: #008080; text-decoration-color: #008080; font-weight: bold\">6</span> x <span style=\"color: #800080; text-decoration-color: #800080; font-weight: bold\">Block</span><span style=\"color: #ff00ff; text-decoration-color: #ff00ff\">(</span>\n",
              "        <span style=\"color: #ff00ff; text-decoration-color: #ff00ff\">(</span>ln_1<span style=\"color: #ff00ff; text-decoration-color: #ff00ff\">)</span>: <span style=\"color: #800080; text-decoration-color: #800080; font-weight: bold\">LayerNorm</span><span style=\"color: #ff00ff; text-decoration-color: #ff00ff\">()</span>\n",
              "        <span style=\"color: #ff00ff; text-decoration-color: #ff00ff\">(</span>attn<span style=\"color: #ff00ff; text-decoration-color: #ff00ff\">)</span>: <span style=\"color: #800080; text-decoration-color: #800080; font-weight: bold\">CausalSelfAttention</span><span style=\"color: #ff00ff; text-decoration-color: #ff00ff\">(</span>\n",
              "          <span style=\"color: #ff00ff; text-decoration-color: #ff00ff\">(</span>c_attn<span style=\"color: #ff00ff; text-decoration-color: #ff00ff\">)</span>: <span style=\"color: #800080; text-decoration-color: #800080; font-weight: bold\">Linear</span><span style=\"color: #ff00ff; text-decoration-color: #ff00ff\">(</span><span style=\"color: #0000ff; text-decoration-color: #0000ff\">in_features</span>=<span style=\"color: #008080; text-decoration-color: #008080; font-weight: bold\">384</span>, <span style=\"color: #0000ff; text-decoration-color: #0000ff\">out_features</span>=<span style=\"color: #008080; text-decoration-color: #008080; font-weight: bold\">1152</span>, <span style=\"color: #0000ff; text-decoration-color: #0000ff\">bias</span>=<span style=\"color: #ff0000; text-decoration-color: #ff0000; font-style: italic\">False</span><span style=\"color: #ff00ff; text-decoration-color: #ff00ff\">)</span>\n",
              "          <span style=\"color: #ff00ff; text-decoration-color: #ff00ff\">(</span>c_proj<span style=\"color: #ff00ff; text-decoration-color: #ff00ff\">)</span>: <span style=\"color: #800080; text-decoration-color: #800080; font-weight: bold\">Linear</span><span style=\"color: #ff00ff; text-decoration-color: #ff00ff\">(</span><span style=\"color: #0000ff; text-decoration-color: #0000ff\">in_features</span>=<span style=\"color: #008080; text-decoration-color: #008080; font-weight: bold\">384</span>, <span style=\"color: #0000ff; text-decoration-color: #0000ff\">out_features</span>=<span style=\"color: #008080; text-decoration-color: #008080; font-weight: bold\">384</span>, <span style=\"color: #0000ff; text-decoration-color: #0000ff\">bias</span>=<span style=\"color: #ff0000; text-decoration-color: #ff0000; font-style: italic\">False</span><span style=\"color: #ff00ff; text-decoration-color: #ff00ff\">)</span>\n",
              "          <span style=\"color: #ff00ff; text-decoration-color: #ff00ff\">(</span>attn_dropout<span style=\"color: #ff00ff; text-decoration-color: #ff00ff\">)</span>: <span style=\"color: #800080; text-decoration-color: #800080; font-weight: bold\">Dropout</span><span style=\"color: #ff00ff; text-decoration-color: #ff00ff\">(</span><span style=\"color: #0000ff; text-decoration-color: #0000ff\">p</span>=<span style=\"color: #008080; text-decoration-color: #008080; font-weight: bold\">0.2</span>, <span style=\"color: #0000ff; text-decoration-color: #0000ff\">inplace</span>=<span style=\"color: #ff0000; text-decoration-color: #ff0000; font-style: italic\">False</span><span style=\"color: #ff00ff; text-decoration-color: #ff00ff\">)</span>\n",
              "          <span style=\"color: #ff00ff; text-decoration-color: #ff00ff\">(</span>resid_dropout<span style=\"color: #ff00ff; text-decoration-color: #ff00ff\">)</span>: <span style=\"color: #800080; text-decoration-color: #800080; font-weight: bold\">Dropout</span><span style=\"color: #ff00ff; text-decoration-color: #ff00ff\">(</span><span style=\"color: #0000ff; text-decoration-color: #0000ff\">p</span>=<span style=\"color: #008080; text-decoration-color: #008080; font-weight: bold\">0.2</span>, <span style=\"color: #0000ff; text-decoration-color: #0000ff\">inplace</span>=<span style=\"color: #ff0000; text-decoration-color: #ff0000; font-style: italic\">False</span><span style=\"color: #ff00ff; text-decoration-color: #ff00ff\">)</span>\n",
              "        <span style=\"color: #ff00ff; text-decoration-color: #ff00ff\">)</span>\n",
              "        <span style=\"color: #ff00ff; text-decoration-color: #ff00ff\">(</span>ln_2<span style=\"color: #ff00ff; text-decoration-color: #ff00ff\">)</span>: <span style=\"color: #800080; text-decoration-color: #800080; font-weight: bold\">LayerNorm</span><span style=\"color: #ff00ff; text-decoration-color: #ff00ff\">()</span>\n",
              "        <span style=\"color: #ff00ff; text-decoration-color: #ff00ff\">(</span>mlp<span style=\"color: #ff00ff; text-decoration-color: #ff00ff\">)</span>: <span style=\"color: #800080; text-decoration-color: #800080; font-weight: bold\">MLP</span><span style=\"color: #ff00ff; text-decoration-color: #ff00ff\">(</span>\n",
              "          <span style=\"color: #ff00ff; text-decoration-color: #ff00ff\">(</span>c_fc<span style=\"color: #ff00ff; text-decoration-color: #ff00ff\">)</span>: <span style=\"color: #800080; text-decoration-color: #800080; font-weight: bold\">Linear</span><span style=\"color: #ff00ff; text-decoration-color: #ff00ff\">(</span><span style=\"color: #0000ff; text-decoration-color: #0000ff\">in_features</span>=<span style=\"color: #008080; text-decoration-color: #008080; font-weight: bold\">384</span>, <span style=\"color: #0000ff; text-decoration-color: #0000ff\">out_features</span>=<span style=\"color: #008080; text-decoration-color: #008080; font-weight: bold\">1536</span>, <span style=\"color: #0000ff; text-decoration-color: #0000ff\">bias</span>=<span style=\"color: #ff0000; text-decoration-color: #ff0000; font-style: italic\">False</span><span style=\"color: #ff00ff; text-decoration-color: #ff00ff\">)</span>\n",
              "          <span style=\"color: #ff00ff; text-decoration-color: #ff00ff\">(</span>act_fn<span style=\"color: #ff00ff; text-decoration-color: #ff00ff\">)</span>: <span style=\"color: #800080; text-decoration-color: #800080; font-weight: bold\">GELU</span><span style=\"color: #ff00ff; text-decoration-color: #ff00ff\">(</span><span style=\"color: #0000ff; text-decoration-color: #0000ff\">approximate</span>=<span style=\"color: #008000; text-decoration-color: #008000\">'none'</span><span style=\"color: #ff00ff; text-decoration-color: #ff00ff\">)</span>\n",
              "          <span style=\"color: #ff00ff; text-decoration-color: #ff00ff\">(</span>c_proj<span style=\"color: #ff00ff; text-decoration-color: #ff00ff\">)</span>: <span style=\"color: #800080; text-decoration-color: #800080; font-weight: bold\">Linear</span><span style=\"color: #ff00ff; text-decoration-color: #ff00ff\">(</span><span style=\"color: #0000ff; text-decoration-color: #0000ff\">in_features</span>=<span style=\"color: #008080; text-decoration-color: #008080; font-weight: bold\">1536</span>, <span style=\"color: #0000ff; text-decoration-color: #0000ff\">out_features</span>=<span style=\"color: #008080; text-decoration-color: #008080; font-weight: bold\">384</span>, <span style=\"color: #0000ff; text-decoration-color: #0000ff\">bias</span>=<span style=\"color: #ff0000; text-decoration-color: #ff0000; font-style: italic\">False</span><span style=\"color: #ff00ff; text-decoration-color: #ff00ff\">)</span>\n",
              "          <span style=\"color: #ff00ff; text-decoration-color: #ff00ff\">(</span>dropout<span style=\"color: #ff00ff; text-decoration-color: #ff00ff\">)</span>: <span style=\"color: #800080; text-decoration-color: #800080; font-weight: bold\">Dropout</span><span style=\"color: #ff00ff; text-decoration-color: #ff00ff\">(</span><span style=\"color: #0000ff; text-decoration-color: #0000ff\">p</span>=<span style=\"color: #008080; text-decoration-color: #008080; font-weight: bold\">0.2</span>, <span style=\"color: #0000ff; text-decoration-color: #0000ff\">inplace</span>=<span style=\"color: #ff0000; text-decoration-color: #ff0000; font-style: italic\">False</span><span style=\"color: #ff00ff; text-decoration-color: #ff00ff\">)</span>\n",
              "        <span style=\"color: #ff00ff; text-decoration-color: #ff00ff\">)</span>\n",
              "      <span style=\"color: #ff00ff; text-decoration-color: #ff00ff\">)</span>\n",
              "    <span style=\"color: #ff00ff; text-decoration-color: #ff00ff\">)</span>\n",
              "    <span style=\"color: #ff00ff; text-decoration-color: #ff00ff\">(</span>ln_f<span style=\"color: #ff00ff; text-decoration-color: #ff00ff\">)</span>: <span style=\"color: #800080; text-decoration-color: #800080; font-weight: bold\">LayerNorm</span><span style=\"color: #ff00ff; text-decoration-color: #ff00ff\">()</span>\n",
              "  <span style=\"color: #ff00ff; text-decoration-color: #ff00ff\">)</span>\n",
              "  <span style=\"color: #ff00ff; text-decoration-color: #ff00ff\">(</span>lm_head<span style=\"color: #ff00ff; text-decoration-color: #ff00ff\">)</span>: <span style=\"color: #800080; text-decoration-color: #800080; font-weight: bold\">Linear</span><span style=\"color: #ff00ff; text-decoration-color: #ff00ff\">(</span><span style=\"color: #0000ff; text-decoration-color: #0000ff\">in_features</span>=<span style=\"color: #008080; text-decoration-color: #008080; font-weight: bold\">384</span>, <span style=\"color: #0000ff; text-decoration-color: #0000ff\">out_features</span>=<span style=\"color: #008080; text-decoration-color: #008080; font-weight: bold\">65</span>, <span style=\"color: #0000ff; text-decoration-color: #0000ff\">bias</span>=<span style=\"color: #ff0000; text-decoration-color: #ff0000; font-style: italic\">False</span><span style=\"color: #ff00ff; text-decoration-color: #ff00ff\">)</span>\n",
              "<span style=\"color: #ff00ff; text-decoration-color: #ff00ff\">)</span>\n",
              "</pre>"
            ]
          }
        },
        {
          "output_type": "display_data",
          "metadata": {},
          "data": {
            "text/html": [
              "<pre style=\"white-space:pre;overflow-x:auto;line-height:normal;font-family:Menlo,'DejaVu Sans Mono',consolas,'Courier New',monospace\">[<span style=\"color: #7f7f7f; text-decoration-color: #7f7f7f\">2025-07-22 22:23:53,877064</span>][<span style=\"color: #008000; text-decoration-color: #008000\">I</span>][<span style=\"color: #008080; text-decoration-color: #008080; font-style: italic\">wordplay</span>/<span style=\"color: #000080; text-decoration-color: #000080\">trainer</span><span style=\"color: #0000ff; text-decoration-color: #0000ff\">:</span><span style=\"color: #800080; text-decoration-color: #800080\">361</span>]<span style=\"color: #c0c0c0; text-decoration-color: #c0c0c0\"> </span>• self.<span style=\"color: #0000ff; text-decoration-color: #0000ff\">optimizer</span>=<span style=\"color: #800080; text-decoration-color: #800080\">AdamW</span> <span style=\"color: #ff00ff; text-decoration-color: #ff00ff\">(</span>\n",
              "Parameter Group <span style=\"color: #008080; text-decoration-color: #008080; font-weight: bold\">0</span>\n",
              "    amsgrad: <span style=\"color: #ff0000; text-decoration-color: #ff0000; font-style: italic\">False</span>\n",
              "    betas: <span style=\"color: #ff00ff; text-decoration-color: #ff00ff\">(</span><span style=\"color: #008080; text-decoration-color: #008080; font-weight: bold\">0.9</span>, <span style=\"color: #008080; text-decoration-color: #008080; font-weight: bold\">0.99</span><span style=\"color: #ff00ff; text-decoration-color: #ff00ff\">)</span>\n",
              "    capturable: <span style=\"color: #ff0000; text-decoration-color: #ff0000; font-style: italic\">False</span>\n",
              "    decoupled_weight_decay: <span style=\"color: #00ff00; text-decoration-color: #00ff00; font-style: italic\">True</span>\n",
              "    differentiable: <span style=\"color: #ff0000; text-decoration-color: #ff0000; font-style: italic\">False</span>\n",
              "    eps: <span style=\"color: #008080; text-decoration-color: #008080; font-weight: bold\">1e-08</span>\n",
              "    foreach: <span style=\"color: #800080; text-decoration-color: #800080; font-style: italic\">None</span>\n",
              "    fused: <span style=\"color: #800080; text-decoration-color: #800080; font-style: italic\">None</span>\n",
              "    lr: <span style=\"color: #008080; text-decoration-color: #008080; font-weight: bold\">0.001</span>\n",
              "    maximize: <span style=\"color: #ff0000; text-decoration-color: #ff0000; font-style: italic\">False</span>\n",
              "    weight_decay: <span style=\"color: #008080; text-decoration-color: #008080; font-weight: bold\">0.1</span>\n",
              "\n",
              "Parameter Group <span style=\"color: #008080; text-decoration-color: #008080; font-weight: bold\">1</span>\n",
              "    amsgrad: <span style=\"color: #ff0000; text-decoration-color: #ff0000; font-style: italic\">False</span>\n",
              "    betas: <span style=\"color: #ff00ff; text-decoration-color: #ff00ff\">(</span><span style=\"color: #008080; text-decoration-color: #008080; font-weight: bold\">0.9</span>, <span style=\"color: #008080; text-decoration-color: #008080; font-weight: bold\">0.99</span><span style=\"color: #ff00ff; text-decoration-color: #ff00ff\">)</span>\n",
              "    capturable: <span style=\"color: #ff0000; text-decoration-color: #ff0000; font-style: italic\">False</span>\n",
              "    decoupled_weight_decay: <span style=\"color: #00ff00; text-decoration-color: #00ff00; font-style: italic\">True</span>\n",
              "    differentiable: <span style=\"color: #ff0000; text-decoration-color: #ff0000; font-style: italic\">False</span>\n",
              "    eps: <span style=\"color: #008080; text-decoration-color: #008080; font-weight: bold\">1e-08</span>\n",
              "    foreach: <span style=\"color: #800080; text-decoration-color: #800080; font-style: italic\">None</span>\n",
              "    fused: <span style=\"color: #800080; text-decoration-color: #800080; font-style: italic\">None</span>\n",
              "    lr: <span style=\"color: #008080; text-decoration-color: #008080; font-weight: bold\">0.001</span>\n",
              "    maximize: <span style=\"color: #ff0000; text-decoration-color: #ff0000; font-style: italic\">False</span>\n",
              "    weight_decay: <span style=\"color: #008080; text-decoration-color: #008080; font-weight: bold\">0.0</span>\n",
              "<span style=\"color: #ff00ff; text-decoration-color: #ff00ff\">)</span>\n",
              "</pre>"
            ]
          }
        }
      ],
      "source": [
        "trainer = Trainer(config)"
      ],
      "id": "9e088b28"
    },
    {
      "cell_type": "markdown",
      "metadata": {},
      "source": [
        "## Prompt (**prior** to training)"
      ],
      "id": "22721d3e-06c0-4844-8606-1dd32fbfb21e"
    },
    {
      "cell_type": "code",
      "execution_count": 5,
      "metadata": {
        "quarto-private-1": {
          "key": "jupyter",
          "value": {
            "outputs_hidden": false,
            "source_hidden": false
          }
        }
      },
      "outputs": [
        {
          "output_type": "display_data",
          "metadata": {},
          "data": {
            "text/html": [
              "<pre style=\"white-space:pre;overflow-x:auto;line-height:normal;font-family:Menlo,'DejaVu Sans Mono',consolas,'Courier New',monospace\">[<span style=\"color: #7f7f7f; text-decoration-color: #7f7f7f\">2025-07-22 22:23:55,957318</span>][<span style=\"color: #008000; text-decoration-color: #008000\">I</span>][<span style=\"color: #008080; text-decoration-color: #008080; font-style: italic\">ipykernel_52985</span>/<span style=\"color: #000080; text-decoration-color: #000080\">3496000222</span><span style=\"color: #0000ff; text-decoration-color: #0000ff\">:</span><span style=\"color: #800080; text-decoration-color: #800080\">9</span><span style=\"color: #0000ff; text-decoration-color: #0000ff\">:</span><span style=\"color: #00ff00; text-decoration-color: #00ff00; font-style: italic\">ezpz.log</span>]<span style=\"color: #c0c0c0; text-decoration-color: #c0c0c0\"> </span><span style=\"color: #ff00ff; text-decoration-color: #ff00ff\">[</span><span style=\"color: #008000; text-decoration-color: #008000\">'prompt'</span><span style=\"color: #ff00ff; text-decoration-color: #ff00ff\">]</span>: <span style=\"color: #008000; text-decoration-color: #008000\">'What is an LLM?'</span>\n",
              "</pre>"
            ]
          }
        },
        {
          "output_type": "display_data",
          "metadata": {},
          "data": {
            "text/html": [
              "<pre style=\"white-space:pre;overflow-x:auto;line-height:normal;font-family:Menlo,'DejaVu Sans Mono',consolas,'Courier New',monospace\">[<span style=\"color: #7f7f7f; text-decoration-color: #7f7f7f\">2025-07-22 22:23:55,958320</span>][<span style=\"color: #008000; text-decoration-color: #008000\">I</span>][<span style=\"color: #008080; text-decoration-color: #008080; font-style: italic\">ipykernel_52985</span>/<span style=\"color: #000080; text-decoration-color: #000080\">3496000222</span><span style=\"color: #0000ff; text-decoration-color: #0000ff\">:</span><span style=\"color: #800080; text-decoration-color: #800080\">10</span><span style=\"color: #0000ff; text-decoration-color: #0000ff\">:</span><span style=\"color: #00ff00; text-decoration-color: #00ff00; font-style: italic\">ezpz.log</span>]<span style=\"color: #c0c0c0; text-decoration-color: #c0c0c0\"> </span><span style=\"color: #ff00ff; text-decoration-color: #ff00ff\">[</span><span style=\"color: #008000; text-decoration-color: #008000\">'response'</span><span style=\"color: #ff00ff; text-decoration-color: #ff00ff\">]</span>:\n",
              "\n",
              "What is an LLM?A,,osy'exx.ff.fpppxv;;'vt3QjYhhvvYAhowQwwQ,eqeqG;X.YqqQSZQWLsyccccj:ZhaooxkkcfkZ\n",
              "ffop- f,hqWl\n",
              "oocpppUqAQ;cc'<span style=\"color: #008000; text-decoration-color: #008000\">'bQqcWAttrqerrwyqqsrqttqYeqWQs'</span>tottcqestbqbbrpWbWYAppppBqfhcqqYqqM?qttqQU'gYe?A..<span style=\"color: #008000; text-decoration-color: #008000\">'S'</span>rtppW'fJf;??qn.pwrrrqqfA;!!A,,,AtqqqqbW;bSoW;;?;;;qQ;;cIA.<span style=\"color: #008000; text-decoration-color: #008000\">'M;'</span>'g\n",
              "</pre>"
            ]
          }
        }
      ],
      "source": [
        "query = \"What is an LLM?\"\n",
        "outputs = trainer.evaluate(\n",
        "    query,\n",
        "    num_samples=1,\n",
        "    max_new_tokens=256,\n",
        "    top_k=16,\n",
        "    display=False\n",
        ")\n",
        "logger.info(f\"['prompt']: '{query}'\")\n",
        "logger.info(\"['response']:\\n\\n\" + fr\"{outputs['0']['raw']}\")"
      ],
      "id": "66a5fa98"
    },
    {
      "cell_type": "markdown",
      "metadata": {},
      "source": [
        "## Train Model\n",
        "\n",
        "|  name  |        description         |\n",
        "|:------:|:--------------------------:|\n",
        "| `step` |   Current training step    |\n",
        "| `loss` |         Loss value         |\n",
        "|  `dt`  | Time per step (in **ms**)  |\n",
        "| `sps`  |     Samples per second     |\n",
        "| `mtps` |  (million) Tokens per sec  |\n",
        "| `mfu`  | Model Flops utilization[1] |\n",
        "\n",
        "^legend: #tbl-legend\n",
        "\n",
        "[1] in units of A100 `bfloat16` peak FLOPS"
      ],
      "id": "82451188-699b-4e18-b5e1-0dc23c86d75c"
    },
    {
      "cell_type": "code",
      "execution_count": 6,
      "metadata": {
        "quarto-private-1": {
          "key": "jupyter",
          "value": {
            "outputs_hidden": false,
            "source_hidden": false
          }
        }
      },
      "outputs": [
        {
          "output_type": "display_data",
          "metadata": {},
          "data": {
            "text/plain": [
              "'cpu'"
            ]
          }
        }
      ],
      "source": [
        "trainer.config.device_type"
      ],
      "id": "bfa1b087"
    },
    {
      "cell_type": "code",
      "execution_count": 7,
      "metadata": {
        "quarto-private-1": {
          "key": "colab",
          "value": {
            "base_uri": "https://localhost:8080/",
            "height": 449
          }
        }
      },
      "outputs": [
        {
          "output_type": "display_data",
          "metadata": {},
          "data": {
            "text/html": [
              "<pre style=\"white-space:pre;overflow-x:auto;line-height:normal;font-family:Menlo,'DejaVu Sans Mono',consolas,'Courier New',monospace\"><span style=\"color: #800080; text-decoration-color: #800080; font-weight: bold\">GPT</span><span style=\"font-weight: bold\">(</span>\n",
              "  <span style=\"font-weight: bold\">(</span>transformer<span style=\"font-weight: bold\">)</span>: <span style=\"color: #800080; text-decoration-color: #800080; font-weight: bold\">ModuleDict</span><span style=\"font-weight: bold\">(</span>\n",
              "    <span style=\"font-weight: bold\">(</span>wte<span style=\"font-weight: bold\">)</span>: <span style=\"color: #800080; text-decoration-color: #800080; font-weight: bold\">Embedding</span><span style=\"font-weight: bold\">(</span><span style=\"color: #008080; text-decoration-color: #008080; font-weight: bold\">65</span>, <span style=\"color: #008080; text-decoration-color: #008080; font-weight: bold\">384</span><span style=\"font-weight: bold\">)</span>\n",
              "    <span style=\"font-weight: bold\">(</span>wpe<span style=\"font-weight: bold\">)</span>: <span style=\"color: #800080; text-decoration-color: #800080; font-weight: bold\">Embedding</span><span style=\"font-weight: bold\">(</span><span style=\"color: #008080; text-decoration-color: #008080; font-weight: bold\">128</span>, <span style=\"color: #008080; text-decoration-color: #008080; font-weight: bold\">384</span><span style=\"font-weight: bold\">)</span>\n",
              "    <span style=\"font-weight: bold\">(</span>drop<span style=\"font-weight: bold\">)</span>: <span style=\"color: #800080; text-decoration-color: #800080; font-weight: bold\">Dropout</span><span style=\"font-weight: bold\">(</span><span style=\"color: #808000; text-decoration-color: #808000\">p</span>=<span style=\"color: #008080; text-decoration-color: #008080; font-weight: bold\">0.2</span>, <span style=\"color: #808000; text-decoration-color: #808000\">inplace</span>=<span style=\"color: #ff0000; text-decoration-color: #ff0000; font-style: italic\">False</span><span style=\"font-weight: bold\">)</span>\n",
              "    <span style=\"font-weight: bold\">(</span>h<span style=\"font-weight: bold\">)</span>: <span style=\"color: #800080; text-decoration-color: #800080; font-weight: bold\">ModuleList</span><span style=\"font-weight: bold\">(</span>\n",
              "      <span style=\"font-weight: bold\">(</span><span style=\"color: #008080; text-decoration-color: #008080; font-weight: bold\">0</span>-<span style=\"color: #008080; text-decoration-color: #008080; font-weight: bold\">5</span><span style=\"font-weight: bold\">)</span>: <span style=\"color: #008080; text-decoration-color: #008080; font-weight: bold\">6</span> x <span style=\"color: #800080; text-decoration-color: #800080; font-weight: bold\">Block</span><span style=\"font-weight: bold\">(</span>\n",
              "        <span style=\"font-weight: bold\">(</span>ln_1<span style=\"font-weight: bold\">)</span>: <span style=\"color: #800080; text-decoration-color: #800080; font-weight: bold\">LayerNorm</span><span style=\"font-weight: bold\">()</span>\n",
              "        <span style=\"font-weight: bold\">(</span>attn<span style=\"font-weight: bold\">)</span>: <span style=\"color: #800080; text-decoration-color: #800080; font-weight: bold\">CausalSelfAttention</span><span style=\"font-weight: bold\">(</span>\n",
              "          <span style=\"font-weight: bold\">(</span>c_attn<span style=\"font-weight: bold\">)</span>: <span style=\"color: #800080; text-decoration-color: #800080; font-weight: bold\">Linear</span><span style=\"font-weight: bold\">(</span><span style=\"color: #808000; text-decoration-color: #808000\">in_features</span>=<span style=\"color: #008080; text-decoration-color: #008080; font-weight: bold\">384</span>, <span style=\"color: #808000; text-decoration-color: #808000\">out_features</span>=<span style=\"color: #008080; text-decoration-color: #008080; font-weight: bold\">1152</span>, <span style=\"color: #808000; text-decoration-color: #808000\">bias</span>=<span style=\"color: #ff0000; text-decoration-color: #ff0000; font-style: italic\">False</span><span style=\"font-weight: bold\">)</span>\n",
              "          <span style=\"font-weight: bold\">(</span>c_proj<span style=\"font-weight: bold\">)</span>: <span style=\"color: #800080; text-decoration-color: #800080; font-weight: bold\">Linear</span><span style=\"font-weight: bold\">(</span><span style=\"color: #808000; text-decoration-color: #808000\">in_features</span>=<span style=\"color: #008080; text-decoration-color: #008080; font-weight: bold\">384</span>, <span style=\"color: #808000; text-decoration-color: #808000\">out_features</span>=<span style=\"color: #008080; text-decoration-color: #008080; font-weight: bold\">384</span>, <span style=\"color: #808000; text-decoration-color: #808000\">bias</span>=<span style=\"color: #ff0000; text-decoration-color: #ff0000; font-style: italic\">False</span><span style=\"font-weight: bold\">)</span>\n",
              "          <span style=\"font-weight: bold\">(</span>attn_dropout<span style=\"font-weight: bold\">)</span>: <span style=\"color: #800080; text-decoration-color: #800080; font-weight: bold\">Dropout</span><span style=\"font-weight: bold\">(</span><span style=\"color: #808000; text-decoration-color: #808000\">p</span>=<span style=\"color: #008080; text-decoration-color: #008080; font-weight: bold\">0.2</span>, <span style=\"color: #808000; text-decoration-color: #808000\">inplace</span>=<span style=\"color: #ff0000; text-decoration-color: #ff0000; font-style: italic\">False</span><span style=\"font-weight: bold\">)</span>\n",
              "          <span style=\"font-weight: bold\">(</span>resid_dropout<span style=\"font-weight: bold\">)</span>: <span style=\"color: #800080; text-decoration-color: #800080; font-weight: bold\">Dropout</span><span style=\"font-weight: bold\">(</span><span style=\"color: #808000; text-decoration-color: #808000\">p</span>=<span style=\"color: #008080; text-decoration-color: #008080; font-weight: bold\">0.2</span>, <span style=\"color: #808000; text-decoration-color: #808000\">inplace</span>=<span style=\"color: #ff0000; text-decoration-color: #ff0000; font-style: italic\">False</span><span style=\"font-weight: bold\">)</span>\n",
              "        <span style=\"font-weight: bold\">)</span>\n",
              "        <span style=\"font-weight: bold\">(</span>ln_2<span style=\"font-weight: bold\">)</span>: <span style=\"color: #800080; text-decoration-color: #800080; font-weight: bold\">LayerNorm</span><span style=\"font-weight: bold\">()</span>\n",
              "        <span style=\"font-weight: bold\">(</span>mlp<span style=\"font-weight: bold\">)</span>: <span style=\"color: #800080; text-decoration-color: #800080; font-weight: bold\">MLP</span><span style=\"font-weight: bold\">(</span>\n",
              "          <span style=\"font-weight: bold\">(</span>c_fc<span style=\"font-weight: bold\">)</span>: <span style=\"color: #800080; text-decoration-color: #800080; font-weight: bold\">Linear</span><span style=\"font-weight: bold\">(</span><span style=\"color: #808000; text-decoration-color: #808000\">in_features</span>=<span style=\"color: #008080; text-decoration-color: #008080; font-weight: bold\">384</span>, <span style=\"color: #808000; text-decoration-color: #808000\">out_features</span>=<span style=\"color: #008080; text-decoration-color: #008080; font-weight: bold\">1536</span>, <span style=\"color: #808000; text-decoration-color: #808000\">bias</span>=<span style=\"color: #ff0000; text-decoration-color: #ff0000; font-style: italic\">False</span><span style=\"font-weight: bold\">)</span>\n",
              "          <span style=\"font-weight: bold\">(</span>act_fn<span style=\"font-weight: bold\">)</span>: <span style=\"color: #800080; text-decoration-color: #800080; font-weight: bold\">GELU</span><span style=\"font-weight: bold\">(</span><span style=\"color: #808000; text-decoration-color: #808000\">approximate</span>=<span style=\"color: #008000; text-decoration-color: #008000\">'none'</span><span style=\"font-weight: bold\">)</span>\n",
              "          <span style=\"font-weight: bold\">(</span>c_proj<span style=\"font-weight: bold\">)</span>: <span style=\"color: #800080; text-decoration-color: #800080; font-weight: bold\">Linear</span><span style=\"font-weight: bold\">(</span><span style=\"color: #808000; text-decoration-color: #808000\">in_features</span>=<span style=\"color: #008080; text-decoration-color: #008080; font-weight: bold\">1536</span>, <span style=\"color: #808000; text-decoration-color: #808000\">out_features</span>=<span style=\"color: #008080; text-decoration-color: #008080; font-weight: bold\">384</span>, <span style=\"color: #808000; text-decoration-color: #808000\">bias</span>=<span style=\"color: #ff0000; text-decoration-color: #ff0000; font-style: italic\">False</span><span style=\"font-weight: bold\">)</span>\n",
              "          <span style=\"font-weight: bold\">(</span>dropout<span style=\"font-weight: bold\">)</span>: <span style=\"color: #800080; text-decoration-color: #800080; font-weight: bold\">Dropout</span><span style=\"font-weight: bold\">(</span><span style=\"color: #808000; text-decoration-color: #808000\">p</span>=<span style=\"color: #008080; text-decoration-color: #008080; font-weight: bold\">0.2</span>, <span style=\"color: #808000; text-decoration-color: #808000\">inplace</span>=<span style=\"color: #ff0000; text-decoration-color: #ff0000; font-style: italic\">False</span><span style=\"font-weight: bold\">)</span>\n",
              "        <span style=\"font-weight: bold\">)</span>\n",
              "      <span style=\"font-weight: bold\">)</span>\n",
              "    <span style=\"font-weight: bold\">)</span>\n",
              "    <span style=\"font-weight: bold\">(</span>ln_f<span style=\"font-weight: bold\">)</span>: <span style=\"color: #800080; text-decoration-color: #800080; font-weight: bold\">LayerNorm</span><span style=\"font-weight: bold\">()</span>\n",
              "  <span style=\"font-weight: bold\">)</span>\n",
              "  <span style=\"font-weight: bold\">(</span>lm_head<span style=\"font-weight: bold\">)</span>: <span style=\"color: #800080; text-decoration-color: #800080; font-weight: bold\">Linear</span><span style=\"font-weight: bold\">(</span><span style=\"color: #808000; text-decoration-color: #808000\">in_features</span>=<span style=\"color: #008080; text-decoration-color: #008080; font-weight: bold\">384</span>, <span style=\"color: #808000; text-decoration-color: #808000\">out_features</span>=<span style=\"color: #008080; text-decoration-color: #008080; font-weight: bold\">65</span>, <span style=\"color: #808000; text-decoration-color: #808000\">bias</span>=<span style=\"color: #ff0000; text-decoration-color: #ff0000; font-style: italic\">False</span><span style=\"font-weight: bold\">)</span>\n",
              "<span style=\"font-weight: bold\">)</span>\n",
              "</pre>"
            ]
          }
        }
      ],
      "source": [
        "from rich import print\n",
        "\n",
        "print(trainer.model)"
      ],
      "id": "b3d373d2"
    },
    {
      "cell_type": "markdown",
      "metadata": {},
      "source": [
        "## (partial) Training:\n",
        "\n",
        "We’ll first train for 500 iterations and then evaluate the models\n",
        "performance on the same prompt:\n",
        "\n",
        "> What is an LLM?"
      ],
      "id": "8f27ad71-3b53-465f-acaa-3da2996deb57"
    },
    {
      "cell_type": "code",
      "execution_count": 8,
      "metadata": {
        "quarto-private-1": {
          "key": "jupyter",
          "value": {
            "outputs_hidden": false,
            "source_hidden": false
          }
        }
      },
      "outputs": [
        {
          "output_type": "display_data",
          "metadata": {},
          "data": {
            "text/html": [
              "<pre style=\"white-space:pre;overflow-x:auto;line-height:normal;font-family:Menlo,'DejaVu Sans Mono',consolas,'Courier New',monospace\"><span style=\"font-style: italic\">                Training Legend                 </span>\n",
              "┏━━━━━━━━━━━━━┳━━━━━━━━━━━━━━━━━━━━━━━━━━━━━━━━┓\n",
              "┃<span style=\"font-weight: bold\">        abbr </span>┃<span style=\"font-weight: bold\"> desc                           </span>┃\n",
              "┡━━━━━━━━━━━━━╇━━━━━━━━━━━━━━━━━━━━━━━━━━━━━━━━┩\n",
              "│<span style=\"color: #008000; text-decoration-color: #008000\">        step </span>│ Current training iteration     │\n",
              "│<span style=\"color: #008000; text-decoration-color: #008000\">        loss </span>│ Loss value                     │\n",
              "│<span style=\"color: #008000; text-decoration-color: #008000\">          dt </span>│ Elapsed time per training step │\n",
              "│<span style=\"color: #008000; text-decoration-color: #008000\">         dtf </span>│ Elapsed time per forward step  │\n",
              "│<span style=\"color: #008000; text-decoration-color: #008000\">         dtb </span>│ Elapsed time per backward step │\n",
              "│<span style=\"color: #008000; text-decoration-color: #008000\">         sps </span>│ Samples per second             │\n",
              "│<span style=\"color: #008000; text-decoration-color: #008000\"> sps_per_gpu </span>│ Samples per second (per GPU)   │\n",
              "│<span style=\"color: #008000; text-decoration-color: #008000\">         tps </span>│ Tokens per second              │\n",
              "│<span style=\"color: #008000; text-decoration-color: #008000\"> tps_per_gpu </span>│ Tokens per second (per GPU)    │\n",
              "│<span style=\"color: #008000; text-decoration-color: #008000\">         mfu </span>│ Model flops utilization        │\n",
              "└─────────────┴────────────────────────────────┘\n",
              "</pre>"
            ]
          }
        },
        {
          "output_type": "display_data",
          "metadata": {},
          "data": {
            "text/html": [
              "<pre style=\"white-space:pre;overflow-x:auto;line-height:normal;font-family:Menlo,'DejaVu Sans Mono',consolas,'Courier New',monospace\">[<span style=\"color: #7f7f7f; text-decoration-color: #7f7f7f\">2025-07-22 22:23:58,164358</span>][<span style=\"color: #008000; text-decoration-color: #008000\">I</span>][<span style=\"color: #008080; text-decoration-color: #008080; font-style: italic\">wordplay</span>/<span style=\"color: #000080; text-decoration-color: #000080\">trainer</span><span style=\"color: #0000ff; text-decoration-color: #0000ff\">:</span><span style=\"color: #800080; text-decoration-color: #800080\">834</span>]<span style=\"color: #c0c0c0; text-decoration-color: #c0c0c0\"> </span><span style=\"color: #ff00ff; text-decoration-color: #ff00ff\">[</span><span style=\"color: #008000; text-decoration-color: #008000\">'prompt'</span><span style=\"color: #ff00ff; text-decoration-color: #ff00ff\">]</span>: <span style=\"color: #008000; text-decoration-color: #008000\">'What is an LLM?'</span>\n",
              "</pre>"
            ]
          }
        },
        {
          "output_type": "display_data",
          "metadata": {},
          "data": {
            "text/html": [
              "<pre style=\"white-space:pre;overflow-x:auto;line-height:normal;font-family:Menlo,'DejaVu Sans Mono',consolas,'Courier New',monospace\">[<span style=\"color: #7f7f7f; text-decoration-color: #7f7f7f\">2025-07-22 22:23:58,165261</span>][<span style=\"color: #008000; text-decoration-color: #008000\">I</span>][<span style=\"color: #008080; text-decoration-color: #008080; font-style: italic\">wordplay</span>/<span style=\"color: #000080; text-decoration-color: #000080\">trainer</span><span style=\"color: #0000ff; text-decoration-color: #0000ff\">:</span><span style=\"color: #800080; text-decoration-color: #800080\">838</span>]<span style=\"color: #c0c0c0; text-decoration-color: #c0c0c0\"> </span><span style=\"color: #ff00ff; text-decoration-color: #ff00ff\">[</span><span style=\"color: #008000; text-decoration-color: #008000\">'response'</span><span style=\"color: #ff00ff; text-decoration-color: #ff00ff\">]</span>:\n",
              "\n",
              "What is an LLM?wCw'.AAAfxo..<span style=\"color: #008000; text-decoration-color: #008000\">'yfAQfppyybvFYerr.MfYZAcLyQQCkkexx-3lllrpMqxkko-rZx3b'</span><span style=\"color: #008080; text-decoration-color: #008080; font-weight: bold\">3j</span>-ffSSoqq3hhdf'Q'<span style=\"color: #008000; text-decoration-color: #008000\">'aq'</span>wqqsoKZb'ec3ZAAA;;o,qff..<span style=\"color: #008000; text-decoration-color: #008000\">'fArttgbYtturcbcSYrS-Fff'</span>wwwerwPgJ;.e;yY-SpuyeexqYqgQtpMSYqYgbtQqq'<span style=\"color: #008000; text-decoration-color: #008000\">''</span>;pfsw,<span style=\"color: #008000; text-decoration-color: #008000\">';oA;qqeqcckSAo,,rooMgyQha'''</span>fAA..gg;;'ggtSvrupptkeweqqcqqkk-SvYYIv\n",
              "</pre>"
            ]
          }
        },
        {
          "output_type": "display_data",
          "metadata": {},
          "data": {
            "text/html": [
              "<pre style=\"white-space:pre;overflow-x:auto;line-height:normal;font-family:Menlo,'DejaVu Sans Mono',consolas,'Courier New',monospace\">[<span style=\"color: #7f7f7f; text-decoration-color: #7f7f7f\">2025-07-22 22:24:01,981608</span>][<span style=\"color: #008000; text-decoration-color: #008000\">I</span>][<span style=\"color: #008080; text-decoration-color: #008080; font-style: italic\">wordplay</span>/<span style=\"color: #000080; text-decoration-color: #000080\">trainer</span><span style=\"color: #0000ff; text-decoration-color: #0000ff\">:</span><span style=\"color: #800080; text-decoration-color: #800080\">901</span>]<span style=\"color: #c0c0c0; text-decoration-color: #c0c0c0\"> </span><span style=\"color: #0000ff; text-decoration-color: #0000ff\">step</span>=<span style=\"color: #008080; text-decoration-color: #008080; font-weight: bold\">10</span> <span style=\"color: #0000ff; text-decoration-color: #0000ff\">loss</span>=<span style=\"color: #008080; text-decoration-color: #008080; font-weight: bold\">4.28757</span> <span style=\"color: #0000ff; text-decoration-color: #0000ff\">dt</span>=<span style=\"color: #008080; text-decoration-color: #008080; font-weight: bold\">0.0178168</span> <span style=\"color: #0000ff; text-decoration-color: #0000ff\">dtf</span>=<span style=\"color: #008080; text-decoration-color: #008080; font-weight: bold\">0.0175137</span> <span style=\"color: #0000ff; text-decoration-color: #0000ff\">dtb</span>=<span style=\"color: #008080; text-decoration-color: #008080; font-weight: bold\">0.000120083</span> <span style=\"color: #0000ff; text-decoration-color: #0000ff\">sps</span>=<span style=\"color: #008080; text-decoration-color: #008080; font-weight: bold\">56.127</span> <span style=\"color: #0000ff; text-decoration-color: #0000ff\">sps_per_gpu</span>=<span style=\"color: #008080; text-decoration-color: #008080; font-weight: bold\">56.127</span> <span style=\"color: #0000ff; text-decoration-color: #0000ff\">tps</span>=<span style=\"color: #008080; text-decoration-color: #008080; font-weight: bold\">7184.25</span> <span style=\"color: #0000ff; text-decoration-color: #0000ff\">tps_per_gpu</span>=<span style=\"color: #008080; text-decoration-color: #008080; font-weight: bold\">7184.25</span> <span style=\"color: #0000ff; text-decoration-color: #0000ff\">mfu</span>=<span style=\"color: #008080; text-decoration-color: #008080; font-weight: bold\">0.155243</span>\n",
              "</pre>"
            ]
          }
        },
        {
          "output_type": "display_data",
          "metadata": {},
          "data": {
            "text/html": [
              "<pre style=\"white-space:pre;overflow-x:auto;line-height:normal;font-family:Menlo,'DejaVu Sans Mono',consolas,'Courier New',monospace\">[<span style=\"color: #7f7f7f; text-decoration-color: #7f7f7f\">2025-07-22 22:24:02,159338</span>][<span style=\"color: #008000; text-decoration-color: #008000\">I</span>][<span style=\"color: #008080; text-decoration-color: #008080; font-style: italic\">wordplay</span>/<span style=\"color: #000080; text-decoration-color: #000080\">trainer</span><span style=\"color: #0000ff; text-decoration-color: #0000ff\">:</span><span style=\"color: #800080; text-decoration-color: #800080\">901</span>]<span style=\"color: #c0c0c0; text-decoration-color: #c0c0c0\"> </span><span style=\"color: #0000ff; text-decoration-color: #0000ff\">step</span>=<span style=\"color: #008080; text-decoration-color: #008080; font-weight: bold\">20</span> <span style=\"color: #0000ff; text-decoration-color: #0000ff\">loss</span>=<span style=\"color: #008080; text-decoration-color: #008080; font-weight: bold\">4.28569</span> <span style=\"color: #0000ff; text-decoration-color: #0000ff\">dt</span>=<span style=\"color: #008080; text-decoration-color: #008080; font-weight: bold\">0.0180799</span> <span style=\"color: #0000ff; text-decoration-color: #0000ff\">dtf</span>=<span style=\"color: #008080; text-decoration-color: #008080; font-weight: bold\">0.0177861</span> <span style=\"color: #0000ff; text-decoration-color: #0000ff\">dtb</span>=<span style=\"color: #008080; text-decoration-color: #008080; font-weight: bold\">0.000114416</span> <span style=\"color: #0000ff; text-decoration-color: #0000ff\">sps</span>=<span style=\"color: #008080; text-decoration-color: #008080; font-weight: bold\">55.31</span> <span style=\"color: #0000ff; text-decoration-color: #0000ff\">sps_per_gpu</span>=<span style=\"color: #008080; text-decoration-color: #008080; font-weight: bold\">55.31</span> <span style=\"color: #0000ff; text-decoration-color: #0000ff\">tps</span>=<span style=\"color: #008080; text-decoration-color: #008080; font-weight: bold\">7079.68</span> <span style=\"color: #0000ff; text-decoration-color: #0000ff\">tps_per_gpu</span>=<span style=\"color: #008080; text-decoration-color: #008080; font-weight: bold\">7079.68</span> <span style=\"color: #0000ff; text-decoration-color: #0000ff\">mfu</span>=<span style=\"color: #008080; text-decoration-color: #008080; font-weight: bold\">0.155018</span>\n",
              "</pre>"
            ]
          }
        },
        {
          "output_type": "display_data",
          "metadata": {},
          "data": {
            "text/html": [
              "<pre style=\"white-space:pre;overflow-x:auto;line-height:normal;font-family:Menlo,'DejaVu Sans Mono',consolas,'Courier New',monospace\">[<span style=\"color: #7f7f7f; text-decoration-color: #7f7f7f\">2025-07-22 22:24:02,338758</span>][<span style=\"color: #008000; text-decoration-color: #008000\">I</span>][<span style=\"color: #008080; text-decoration-color: #008080; font-style: italic\">wordplay</span>/<span style=\"color: #000080; text-decoration-color: #000080\">trainer</span><span style=\"color: #0000ff; text-decoration-color: #0000ff\">:</span><span style=\"color: #800080; text-decoration-color: #800080\">901</span>]<span style=\"color: #c0c0c0; text-decoration-color: #c0c0c0\"> </span><span style=\"color: #0000ff; text-decoration-color: #0000ff\">step</span>=<span style=\"color: #008080; text-decoration-color: #008080; font-weight: bold\">30</span> <span style=\"color: #0000ff; text-decoration-color: #0000ff\">loss</span>=<span style=\"color: #008080; text-decoration-color: #008080; font-weight: bold\">4.19012</span> <span style=\"color: #0000ff; text-decoration-color: #0000ff\">dt</span>=<span style=\"color: #008080; text-decoration-color: #008080; font-weight: bold\">0.0179359</span> <span style=\"color: #0000ff; text-decoration-color: #0000ff\">dtf</span>=<span style=\"color: #008080; text-decoration-color: #008080; font-weight: bold\">0.0176716</span> <span style=\"color: #0000ff; text-decoration-color: #0000ff\">dtb</span>=<span style=\"color: #008080; text-decoration-color: #008080; font-weight: bold\">0.000109333</span> <span style=\"color: #0000ff; text-decoration-color: #0000ff\">sps</span>=<span style=\"color: #008080; text-decoration-color: #008080; font-weight: bold\">55.754</span> <span style=\"color: #0000ff; text-decoration-color: #0000ff\">sps_per_gpu</span>=<span style=\"color: #008080; text-decoration-color: #008080; font-weight: bold\">55.754</span> <span style=\"color: #0000ff; text-decoration-color: #0000ff\">tps</span>=<span style=\"color: #008080; text-decoration-color: #008080; font-weight: bold\">7136.52</span> <span style=\"color: #0000ff; text-decoration-color: #0000ff\">tps_per_gpu</span>=<span style=\"color: #008080; text-decoration-color: #008080; font-weight: bold\">7136.52</span> <span style=\"color: #0000ff; text-decoration-color: #0000ff\">mfu</span>=<span style=\"color: #008080; text-decoration-color: #008080; font-weight: bold\">0.154937</span>\n",
              "</pre>"
            ]
          }
        },
        {
          "output_type": "display_data",
          "metadata": {},
          "data": {
            "text/html": [
              "<pre style=\"white-space:pre;overflow-x:auto;line-height:normal;font-family:Menlo,'DejaVu Sans Mono',consolas,'Courier New',monospace\">[<span style=\"color: #7f7f7f; text-decoration-color: #7f7f7f\">2025-07-22 22:24:02,518980</span>][<span style=\"color: #008000; text-decoration-color: #008000\">I</span>][<span style=\"color: #008080; text-decoration-color: #008080; font-style: italic\">wordplay</span>/<span style=\"color: #000080; text-decoration-color: #000080\">trainer</span><span style=\"color: #0000ff; text-decoration-color: #0000ff\">:</span><span style=\"color: #800080; text-decoration-color: #800080\">901</span>]<span style=\"color: #c0c0c0; text-decoration-color: #c0c0c0\"> </span><span style=\"color: #0000ff; text-decoration-color: #0000ff\">step</span>=<span style=\"color: #008080; text-decoration-color: #008080; font-weight: bold\">40</span> <span style=\"color: #0000ff; text-decoration-color: #0000ff\">loss</span>=<span style=\"color: #008080; text-decoration-color: #008080; font-weight: bold\">4.26634</span> <span style=\"color: #0000ff; text-decoration-color: #0000ff\">dt</span>=<span style=\"color: #008080; text-decoration-color: #008080; font-weight: bold\">0.0180019</span> <span style=\"color: #0000ff; text-decoration-color: #0000ff\">dtf</span>=<span style=\"color: #008080; text-decoration-color: #008080; font-weight: bold\">0.0177438</span> <span style=\"color: #0000ff; text-decoration-color: #0000ff\">dtb</span>=<span style=\"color: #008080; text-decoration-color: #008080; font-weight: bold\">0.000104375</span> <span style=\"color: #0000ff; text-decoration-color: #0000ff\">sps</span>=<span style=\"color: #008080; text-decoration-color: #008080; font-weight: bold\">55.5498</span> <span style=\"color: #0000ff; text-decoration-color: #0000ff\">sps_per_gpu</span>=<span style=\"color: #008080; text-decoration-color: #008080; font-weight: bold\">55.5498</span> <span style=\"color: #0000ff; text-decoration-color: #0000ff\">tps</span>=<span style=\"color: #008080; text-decoration-color: #008080; font-weight: bold\">7110.37</span> <span style=\"color: #0000ff; text-decoration-color: #0000ff\">tps_per_gpu</span>=<span style=\"color: #008080; text-decoration-color: #008080; font-weight: bold\">7110.37</span> <span style=\"color: #0000ff; text-decoration-color: #0000ff\">mfu</span>=<span style=\"color: #008080; text-decoration-color: #008080; font-weight: bold\">0.154808</span>\n",
              "</pre>"
            ]
          }
        },
        {
          "output_type": "display_data",
          "metadata": {},
          "data": {
            "text/html": [
              "<pre style=\"white-space:pre;overflow-x:auto;line-height:normal;font-family:Menlo,'DejaVu Sans Mono',consolas,'Courier New',monospace\">[<span style=\"color: #7f7f7f; text-decoration-color: #7f7f7f\">2025-07-22 22:24:02,695775</span>][<span style=\"color: #008000; text-decoration-color: #008000\">I</span>][<span style=\"color: #008080; text-decoration-color: #008080; font-style: italic\">wordplay</span>/<span style=\"color: #000080; text-decoration-color: #000080\">trainer</span><span style=\"color: #0000ff; text-decoration-color: #0000ff\">:</span><span style=\"color: #800080; text-decoration-color: #800080\">901</span>]<span style=\"color: #c0c0c0; text-decoration-color: #c0c0c0\"> </span><span style=\"color: #0000ff; text-decoration-color: #0000ff\">step</span>=<span style=\"color: #008080; text-decoration-color: #008080; font-weight: bold\">50</span> <span style=\"color: #0000ff; text-decoration-color: #0000ff\">loss</span>=<span style=\"color: #008080; text-decoration-color: #008080; font-weight: bold\">4.22804</span> <span style=\"color: #0000ff; text-decoration-color: #0000ff\">dt</span>=<span style=\"color: #008080; text-decoration-color: #008080; font-weight: bold\">0.0182911</span> <span style=\"color: #0000ff; text-decoration-color: #0000ff\">dtf</span>=<span style=\"color: #008080; text-decoration-color: #008080; font-weight: bold\">0.0180081</span> <span style=\"color: #0000ff; text-decoration-color: #0000ff\">dtb</span>=<span style=\"color: #008080; text-decoration-color: #008080; font-weight: bold\">0.000131125</span> <span style=\"color: #0000ff; text-decoration-color: #0000ff\">sps</span>=<span style=\"color: #008080; text-decoration-color: #008080; font-weight: bold\">54.6714</span> <span style=\"color: #0000ff; text-decoration-color: #0000ff\">sps_per_gpu</span>=<span style=\"color: #008080; text-decoration-color: #008080; font-weight: bold\">54.6714</span> <span style=\"color: #0000ff; text-decoration-color: #0000ff\">tps</span>=<span style=\"color: #008080; text-decoration-color: #008080; font-weight: bold\">6997.95</span> <span style=\"color: #0000ff; text-decoration-color: #0000ff\">tps_per_gpu</span>=<span style=\"color: #008080; text-decoration-color: #008080; font-weight: bold\">6997.95</span> <span style=\"color: #0000ff; text-decoration-color: #0000ff\">mfu</span>=<span style=\"color: #008080; text-decoration-color: #008080; font-weight: bold\">0.154449</span>\n",
              "</pre>"
            ]
          }
        },
        {
          "output_type": "display_data",
          "metadata": {},
          "data": {
            "text/html": [
              "<pre style=\"white-space:pre;overflow-x:auto;line-height:normal;font-family:Menlo,'DejaVu Sans Mono',consolas,'Courier New',monospace\">[<span style=\"color: #7f7f7f; text-decoration-color: #7f7f7f\">2025-07-22 22:24:04,364839</span>][<span style=\"color: #008000; text-decoration-color: #008000\">I</span>][<span style=\"color: #008080; text-decoration-color: #008080; font-style: italic\">wordplay</span>/<span style=\"color: #000080; text-decoration-color: #000080\">trainer</span><span style=\"color: #0000ff; text-decoration-color: #0000ff\">:</span><span style=\"color: #800080; text-decoration-color: #800080\">834</span>]<span style=\"color: #c0c0c0; text-decoration-color: #c0c0c0\"> </span><span style=\"color: #ff00ff; text-decoration-color: #ff00ff\">[</span><span style=\"color: #008000; text-decoration-color: #008000\">'prompt'</span><span style=\"color: #ff00ff; text-decoration-color: #ff00ff\">]</span>: <span style=\"color: #008000; text-decoration-color: #008000\">'What is an LLM?'</span>\n",
              "</pre>"
            ]
          }
        },
        {
          "output_type": "display_data",
          "metadata": {},
          "data": {
            "text/html": [
              "<pre style=\"white-space:pre;overflow-x:auto;line-height:normal;font-family:Menlo,'DejaVu Sans Mono',consolas,'Courier New',monospace\">[<span style=\"color: #7f7f7f; text-decoration-color: #7f7f7f\">2025-07-22 22:24:04,365769</span>][<span style=\"color: #008000; text-decoration-color: #008000\">I</span>][<span style=\"color: #008080; text-decoration-color: #008080; font-style: italic\">wordplay</span>/<span style=\"color: #000080; text-decoration-color: #000080\">trainer</span><span style=\"color: #0000ff; text-decoration-color: #0000ff\">:</span><span style=\"color: #800080; text-decoration-color: #800080\">838</span>]<span style=\"color: #c0c0c0; text-decoration-color: #c0c0c0\"> </span><span style=\"color: #ff00ff; text-decoration-color: #ff00ff\">[</span><span style=\"color: #008000; text-decoration-color: #008000\">'response'</span><span style=\"color: #ff00ff; text-decoration-color: #ff00ff\">]</span>:\n",
              "\n",
              "What is an LLM?fwxx yY'eyffpCx?ZZZ.eevfeesxqQQYoqapxxxsZ\n",
              "vrvb'oZ3qoh33roArW;aafAA'<span style=\"color: #008000; text-decoration-color: #008000\">'f''QYqAob.aqo.Qyyegg'</span>VcqqYbq3AaFskkcAkfvjb'QQtqQfArWA;Qp'k'goWoq;bbrppfQSYy,,,qqqqMsQuAQ'qgoowqqstSpgli-gggggjGG;cttSAA.pYYIoMSYu;QQSv;?gjJf'eQQQ;yg'Mgo-<span style=\"color: #008000; text-decoration-color: #008000\">b';ccIffQSqAA'</span>rqqcII?;;<span style=\"color: #008000; text-decoration-color: #008000\">'ecWWllc;'</span>';\n",
              "</pre>"
            ]
          }
        },
        {
          "output_type": "display_data",
          "metadata": {},
          "data": {
            "text/html": [
              "<pre style=\"white-space:pre;overflow-x:auto;line-height:normal;font-family:Menlo,'DejaVu Sans Mono',consolas,'Courier New',monospace\">[<span style=\"color: #7f7f7f; text-decoration-color: #7f7f7f\">2025-07-22 22:24:07,282876</span>][<span style=\"color: #008000; text-decoration-color: #008000\">I</span>][<span style=\"color: #008080; text-decoration-color: #008080; font-style: italic\">wordplay</span>/<span style=\"color: #000080; text-decoration-color: #000080\">trainer</span><span style=\"color: #0000ff; text-decoration-color: #0000ff\">:</span><span style=\"color: #800080; text-decoration-color: #800080\">769</span>]<span style=\"color: #c0c0c0; text-decoration-color: #c0c0c0\"> </span>Saving checkpoint to: <span style=\"color: #800080; text-decoration-color: #800080\">/Users/samforeman/projects/saforem2/intro-hpc-bootcamp-2025/content/02-llms/</span><span style=\"color: #ff00ff; text-decoration-color: #ff00ff\">7-shakespeare-example</span>\n",
              "</pre>"
            ]
          }
        },
        {
          "output_type": "display_data",
          "metadata": {},
          "data": {
            "text/html": [
              "<pre style=\"white-space:pre;overflow-x:auto;line-height:normal;font-family:Menlo,'DejaVu Sans Mono',consolas,'Courier New',monospace\">[<span style=\"color: #7f7f7f; text-decoration-color: #7f7f7f\">2025-07-22 22:24:07,283841</span>][<span style=\"color: #008000; text-decoration-color: #008000\">I</span>][<span style=\"color: #008080; text-decoration-color: #008080; font-style: italic\">wordplay</span>/<span style=\"color: #000080; text-decoration-color: #000080\">trainer</span><span style=\"color: #0000ff; text-decoration-color: #0000ff\">:</span><span style=\"color: #800080; text-decoration-color: #800080\">770</span>]<span style=\"color: #c0c0c0; text-decoration-color: #c0c0c0\"> </span>Saving model to: <span style=\"color: #800080; text-decoration-color: #800080\">/Users/samforeman/projects/saforem2/intro-hpc-bootcamp-2025/content/02-llms/7-shakespeare-example/</span><span style=\"color: #ff00ff; text-decoration-color: #ff00ff\">model.pth</span>\n",
              "</pre>"
            ]
          }
        },
        {
          "output_type": "display_data",
          "metadata": {},
          "data": {
            "text/html": [
              "<pre style=\"white-space:pre;overflow-x:auto;line-height:normal;font-family:Menlo,'DejaVu Sans Mono',consolas,'Courier New',monospace\">[<span style=\"color: #7f7f7f; text-decoration-color: #7f7f7f\">2025-07-22 22:24:07,380099</span>][<span style=\"color: #008000; text-decoration-color: #008000\">I</span>][<span style=\"color: #008080; text-decoration-color: #008080; font-style: italic\">wordplay</span>/<span style=\"color: #000080; text-decoration-color: #000080\">configs</span><span style=\"color: #0000ff; text-decoration-color: #0000ff\">:</span><span style=\"color: #800080; text-decoration-color: #800080\">141</span>]<span style=\"color: #c0c0c0; text-decoration-color: #c0c0c0\"> </span>Appending <span style=\"color: #800080; text-decoration-color: #800080\">/Users/samforeman/projects/saforem2/intro-hpc-bootcamp-2025/content/02-llms/</span><span style=\"color: #ff00ff; text-decoration-color: #ff00ff\">7-shakespeare-example</span> to <span style=\"color: #800080; text-decoration-color: #800080\">/Users/samforeman/projects/saforem2/wordplay/src/ckpts/</span><span style=\"color: #ff00ff; text-decoration-color: #ff00ff\">checkpoints.log</span>\n",
              "</pre>"
            ]
          }
        },
        {
          "output_type": "display_data",
          "metadata": {},
          "data": {
            "text/html": [
              "<pre style=\"white-space:pre;overflow-x:auto;line-height:normal;font-family:Menlo,'DejaVu Sans Mono',consolas,'Courier New',monospace\">[<span style=\"color: #7f7f7f; text-decoration-color: #7f7f7f\">2025-07-22 22:24:07,564720</span>][<span style=\"color: #008000; text-decoration-color: #008000\">I</span>][<span style=\"color: #008080; text-decoration-color: #008080; font-style: italic\">wordplay</span>/<span style=\"color: #000080; text-decoration-color: #000080\">trainer</span><span style=\"color: #0000ff; text-decoration-color: #0000ff\">:</span><span style=\"color: #800080; text-decoration-color: #800080\">901</span>]<span style=\"color: #c0c0c0; text-decoration-color: #c0c0c0\"> </span><span style=\"color: #0000ff; text-decoration-color: #0000ff\">step</span>=<span style=\"color: #008080; text-decoration-color: #008080; font-weight: bold\">60</span> <span style=\"color: #0000ff; text-decoration-color: #0000ff\">loss</span>=<span style=\"color: #008080; text-decoration-color: #008080; font-weight: bold\">4.20216</span> <span style=\"color: #0000ff; text-decoration-color: #0000ff\">dt</span>=<span style=\"color: #008080; text-decoration-color: #008080; font-weight: bold\">0.0169084</span> <span style=\"color: #0000ff; text-decoration-color: #0000ff\">dtf</span>=<span style=\"color: #008080; text-decoration-color: #008080; font-weight: bold\">0.0166089</span> <span style=\"color: #0000ff; text-decoration-color: #0000ff\">dtb</span>=<span style=\"color: #008080; text-decoration-color: #008080; font-weight: bold\">0.000116167</span> <span style=\"color: #0000ff; text-decoration-color: #0000ff\">sps</span>=<span style=\"color: #008080; text-decoration-color: #008080; font-weight: bold\">59.1421</span> <span style=\"color: #0000ff; text-decoration-color: #0000ff\">sps_per_gpu</span>=<span style=\"color: #008080; text-decoration-color: #008080; font-weight: bold\">59.1421</span> <span style=\"color: #0000ff; text-decoration-color: #0000ff\">tps</span>=<span style=\"color: #008080; text-decoration-color: #008080; font-weight: bold\">7570.19</span> <span style=\"color: #0000ff; text-decoration-color: #0000ff\">tps_per_gpu</span>=<span style=\"color: #008080; text-decoration-color: #008080; font-weight: bold\">7570.19</span> <span style=\"color: #0000ff; text-decoration-color: #0000ff\">mfu</span>=<span style=\"color: #008080; text-decoration-color: #008080; font-weight: bold\">0.155362</span>\n",
              "</pre>"
            ]
          }
        },
        {
          "output_type": "display_data",
          "metadata": {},
          "data": {
            "text/html": [
              "<pre style=\"white-space:pre;overflow-x:auto;line-height:normal;font-family:Menlo,'DejaVu Sans Mono',consolas,'Courier New',monospace\">[<span style=\"color: #7f7f7f; text-decoration-color: #7f7f7f\">2025-07-22 22:24:07,742167</span>][<span style=\"color: #008000; text-decoration-color: #008000\">I</span>][<span style=\"color: #008080; text-decoration-color: #008080; font-style: italic\">wordplay</span>/<span style=\"color: #000080; text-decoration-color: #000080\">trainer</span><span style=\"color: #0000ff; text-decoration-color: #0000ff\">:</span><span style=\"color: #800080; text-decoration-color: #800080\">901</span>]<span style=\"color: #c0c0c0; text-decoration-color: #c0c0c0\"> </span><span style=\"color: #0000ff; text-decoration-color: #0000ff\">step</span>=<span style=\"color: #008080; text-decoration-color: #008080; font-weight: bold\">70</span> <span style=\"color: #0000ff; text-decoration-color: #0000ff\">loss</span>=<span style=\"color: #008080; text-decoration-color: #008080; font-weight: bold\">4.20029</span> <span style=\"color: #0000ff; text-decoration-color: #0000ff\">dt</span>=<span style=\"color: #008080; text-decoration-color: #008080; font-weight: bold\">0.0175019</span> <span style=\"color: #0000ff; text-decoration-color: #0000ff\">dtf</span>=<span style=\"color: #008080; text-decoration-color: #008080; font-weight: bold\">0.0172384</span> <span style=\"color: #0000ff; text-decoration-color: #0000ff\">dtb</span>=<span style=\"color: #008080; text-decoration-color: #008080; font-weight: bold\">0.000104416</span> <span style=\"color: #0000ff; text-decoration-color: #0000ff\">sps</span>=<span style=\"color: #008080; text-decoration-color: #008080; font-weight: bold\">57.1367</span> <span style=\"color: #0000ff; text-decoration-color: #0000ff\">sps_per_gpu</span>=<span style=\"color: #008080; text-decoration-color: #008080; font-weight: bold\">57.1367</span> <span style=\"color: #0000ff; text-decoration-color: #0000ff\">tps</span>=<span style=\"color: #008080; text-decoration-color: #008080; font-weight: bold\">7313.5</span> <span style=\"color: #0000ff; text-decoration-color: #0000ff\">tps_per_gpu</span>=<span style=\"color: #008080; text-decoration-color: #008080; font-weight: bold\">7313.5</span> <span style=\"color: #0000ff; text-decoration-color: #0000ff\">mfu</span>=<span style=\"color: #008080; text-decoration-color: #008080; font-weight: bold\">0.15563</span>\n",
              "</pre>"
            ]
          }
        },
        {
          "output_type": "display_data",
          "metadata": {},
          "data": {
            "text/html": [
              "<pre style=\"white-space:pre;overflow-x:auto;line-height:normal;font-family:Menlo,'DejaVu Sans Mono',consolas,'Courier New',monospace\">[<span style=\"color: #7f7f7f; text-decoration-color: #7f7f7f\">2025-07-22 22:24:07,921477</span>][<span style=\"color: #008000; text-decoration-color: #008000\">I</span>][<span style=\"color: #008080; text-decoration-color: #008080; font-style: italic\">wordplay</span>/<span style=\"color: #000080; text-decoration-color: #000080\">trainer</span><span style=\"color: #0000ff; text-decoration-color: #0000ff\">:</span><span style=\"color: #800080; text-decoration-color: #800080\">901</span>]<span style=\"color: #c0c0c0; text-decoration-color: #c0c0c0\"> </span><span style=\"color: #0000ff; text-decoration-color: #0000ff\">step</span>=<span style=\"color: #008080; text-decoration-color: #008080; font-weight: bold\">80</span> <span style=\"color: #0000ff; text-decoration-color: #0000ff\">loss</span>=<span style=\"color: #008080; text-decoration-color: #008080; font-weight: bold\">4.14463</span> <span style=\"color: #0000ff; text-decoration-color: #0000ff\">dt</span>=<span style=\"color: #008080; text-decoration-color: #008080; font-weight: bold\">0.0179507</span> <span style=\"color: #0000ff; text-decoration-color: #0000ff\">dtf</span>=<span style=\"color: #008080; text-decoration-color: #008080; font-weight: bold\">0.0176676</span> <span style=\"color: #0000ff; text-decoration-color: #0000ff\">dtb</span>=<span style=\"color: #008080; text-decoration-color: #008080; font-weight: bold\">0.000110167</span> <span style=\"color: #0000ff; text-decoration-color: #0000ff\">sps</span>=<span style=\"color: #008080; text-decoration-color: #008080; font-weight: bold\">55.7081</span> <span style=\"color: #0000ff; text-decoration-color: #0000ff\">sps_per_gpu</span>=<span style=\"color: #008080; text-decoration-color: #008080; font-weight: bold\">55.7081</span> <span style=\"color: #0000ff; text-decoration-color: #0000ff\">tps</span>=<span style=\"color: #008080; text-decoration-color: #008080; font-weight: bold\">7130.64</span> <span style=\"color: #0000ff; text-decoration-color: #0000ff\">tps_per_gpu</span>=<span style=\"color: #008080; text-decoration-color: #008080; font-weight: bold\">7130.64</span> <span style=\"color: #0000ff; text-decoration-color: #0000ff\">mfu</span>=<span style=\"color: #008080; text-decoration-color: #008080; font-weight: bold\">0.155475</span>\n",
              "</pre>"
            ]
          }
        },
        {
          "output_type": "display_data",
          "metadata": {},
          "data": {
            "text/html": [
              "<pre style=\"white-space:pre;overflow-x:auto;line-height:normal;font-family:Menlo,'DejaVu Sans Mono',consolas,'Courier New',monospace\">[<span style=\"color: #7f7f7f; text-decoration-color: #7f7f7f\">2025-07-22 22:24:08,096742</span>][<span style=\"color: #008000; text-decoration-color: #008000\">I</span>][<span style=\"color: #008080; text-decoration-color: #008080; font-style: italic\">wordplay</span>/<span style=\"color: #000080; text-decoration-color: #000080\">trainer</span><span style=\"color: #0000ff; text-decoration-color: #0000ff\">:</span><span style=\"color: #800080; text-decoration-color: #800080\">901</span>]<span style=\"color: #c0c0c0; text-decoration-color: #c0c0c0\"> </span><span style=\"color: #0000ff; text-decoration-color: #0000ff\">step</span>=<span style=\"color: #008080; text-decoration-color: #008080; font-weight: bold\">90</span> <span style=\"color: #0000ff; text-decoration-color: #0000ff\">loss</span>=<span style=\"color: #008080; text-decoration-color: #008080; font-weight: bold\">4.14377</span> <span style=\"color: #0000ff; text-decoration-color: #0000ff\">dt</span>=<span style=\"color: #008080; text-decoration-color: #008080; font-weight: bold\">0.0176276</span> <span style=\"color: #0000ff; text-decoration-color: #0000ff\">dtf</span>=<span style=\"color: #008080; text-decoration-color: #008080; font-weight: bold\">0.0173415</span> <span style=\"color: #0000ff; text-decoration-color: #0000ff\">dtb</span>=<span style=\"color: #008080; text-decoration-color: #008080; font-weight: bold\">0.000129666</span> <span style=\"color: #0000ff; text-decoration-color: #0000ff\">sps</span>=<span style=\"color: #008080; text-decoration-color: #008080; font-weight: bold\">56.7293</span> <span style=\"color: #0000ff; text-decoration-color: #0000ff\">sps_per_gpu</span>=<span style=\"color: #008080; text-decoration-color: #008080; font-weight: bold\">56.7293</span> <span style=\"color: #0000ff; text-decoration-color: #0000ff\">tps</span>=<span style=\"color: #008080; text-decoration-color: #008080; font-weight: bold\">7261.35</span> <span style=\"color: #0000ff; text-decoration-color: #0000ff\">tps_per_gpu</span>=<span style=\"color: #008080; text-decoration-color: #008080; font-weight: bold\">7261.35</span> <span style=\"color: #0000ff; text-decoration-color: #0000ff\">mfu</span>=<span style=\"color: #008080; text-decoration-color: #008080; font-weight: bold\">0.155619</span>\n",
              "</pre>"
            ]
          }
        },
        {
          "output_type": "display_data",
          "metadata": {},
          "data": {
            "text/html": [
              "<pre style=\"white-space:pre;overflow-x:auto;line-height:normal;font-family:Menlo,'DejaVu Sans Mono',consolas,'Courier New',monospace\">[<span style=\"color: #7f7f7f; text-decoration-color: #7f7f7f\">2025-07-22 22:24:08,275979</span>][<span style=\"color: #008000; text-decoration-color: #008000\">I</span>][<span style=\"color: #008080; text-decoration-color: #008080; font-style: italic\">wordplay</span>/<span style=\"color: #000080; text-decoration-color: #000080\">trainer</span><span style=\"color: #0000ff; text-decoration-color: #0000ff\">:</span><span style=\"color: #800080; text-decoration-color: #800080\">901</span>]<span style=\"color: #c0c0c0; text-decoration-color: #c0c0c0\"> </span><span style=\"color: #0000ff; text-decoration-color: #0000ff\">step</span>=<span style=\"color: #008080; text-decoration-color: #008080; font-weight: bold\">100</span> <span style=\"color: #0000ff; text-decoration-color: #0000ff\">loss</span>=<span style=\"color: #008080; text-decoration-color: #008080; font-weight: bold\">4.24105</span> <span style=\"color: #0000ff; text-decoration-color: #0000ff\">dt</span>=<span style=\"color: #008080; text-decoration-color: #008080; font-weight: bold\">0.0180512</span> <span style=\"color: #0000ff; text-decoration-color: #0000ff\">dtf</span>=<span style=\"color: #008080; text-decoration-color: #008080; font-weight: bold\">0.0177438</span> <span style=\"color: #0000ff; text-decoration-color: #0000ff\">dtb</span>=<span style=\"color: #008080; text-decoration-color: #008080; font-weight: bold\">0.000116916</span> <span style=\"color: #0000ff; text-decoration-color: #0000ff\">sps</span>=<span style=\"color: #008080; text-decoration-color: #008080; font-weight: bold\">55.3978</span> <span style=\"color: #0000ff; text-decoration-color: #0000ff\">sps_per_gpu</span>=<span style=\"color: #008080; text-decoration-color: #008080; font-weight: bold\">55.3978</span> <span style=\"color: #0000ff; text-decoration-color: #0000ff\">tps</span>=<span style=\"color: #008080; text-decoration-color: #008080; font-weight: bold\">7090.92</span> <span style=\"color: #0000ff; text-decoration-color: #0000ff\">tps_per_gpu</span>=<span style=\"color: #008080; text-decoration-color: #008080; font-weight: bold\">7090.92</span> <span style=\"color: #0000ff; text-decoration-color: #0000ff\">mfu</span>=<span style=\"color: #008080; text-decoration-color: #008080; font-weight: bold\">0.15538</span>\n",
              "</pre>"
            ]
          }
        },
        {
          "output_type": "display_data",
          "metadata": {},
          "data": {
            "text/html": [
              "<pre style=\"white-space:pre;overflow-x:auto;line-height:normal;font-family:Menlo,'DejaVu Sans Mono',consolas,'Courier New',monospace\">[<span style=\"color: #7f7f7f; text-decoration-color: #7f7f7f\">2025-07-22 22:24:09,921247</span>][<span style=\"color: #008000; text-decoration-color: #008000\">I</span>][<span style=\"color: #008080; text-decoration-color: #008080; font-style: italic\">wordplay</span>/<span style=\"color: #000080; text-decoration-color: #000080\">trainer</span><span style=\"color: #0000ff; text-decoration-color: #0000ff\">:</span><span style=\"color: #800080; text-decoration-color: #800080\">834</span>]<span style=\"color: #c0c0c0; text-decoration-color: #c0c0c0\"> </span><span style=\"color: #ff00ff; text-decoration-color: #ff00ff\">[</span><span style=\"color: #008000; text-decoration-color: #008000\">'prompt'</span><span style=\"color: #ff00ff; text-decoration-color: #ff00ff\">]</span>: <span style=\"color: #008000; text-decoration-color: #008000\">'What is an LLM?'</span>\n",
              "</pre>"
            ]
          }
        },
        {
          "output_type": "display_data",
          "metadata": {},
          "data": {
            "text/html": [
              "<pre style=\"white-space:pre;overflow-x:auto;line-height:normal;font-family:Menlo,'DejaVu Sans Mono',consolas,'Courier New',monospace\">[<span style=\"color: #7f7f7f; text-decoration-color: #7f7f7f\">2025-07-22 22:24:09,922210</span>][<span style=\"color: #008000; text-decoration-color: #008000\">I</span>][<span style=\"color: #008080; text-decoration-color: #008080; font-style: italic\">wordplay</span>/<span style=\"color: #000080; text-decoration-color: #000080\">trainer</span><span style=\"color: #0000ff; text-decoration-color: #0000ff\">:</span><span style=\"color: #800080; text-decoration-color: #800080\">838</span>]<span style=\"color: #c0c0c0; text-decoration-color: #c0c0c0\"> </span><span style=\"color: #ff00ff; text-decoration-color: #ff00ff\">[</span><span style=\"color: #008000; text-decoration-color: #008000\">'response'</span><span style=\"color: #ff00ff; text-decoration-color: #ff00ff\">]</span>:\n",
              "\n",
              "What is an LLM?f'xfAhf.qYEZQyyoo--AA,QQAAstpMfYhjc'c..MAj'FF,a33lx.adbssxvVhfsMwyQYosoooc'hzgSSrq.vZZZcq33Sk\n",
              "<span style=\"color: #008000; text-decoration-color: #008000\">''</span>vaq.w3AmA'..aYjye'ksr'gbvv,,hqb'eSJJm',rSeqfvrrrW;;bZSS:SqeWtttuYgJvkoBggSA'wst:Sur'txx'rSSqbb;;Qq-;.MsooowbqqqnSpBqSosgggtoo'e;<span style=\"color: #008000; text-decoration-color: #008000\">''</span>kG;<span style=\"color: #008000; text-decoration-color: #008000\">'g-bWWoqetQ''os'</span>q'tptSSSYe;\n",
              "</pre>"
            ]
          }
        },
        {
          "output_type": "display_data",
          "metadata": {},
          "data": {
            "text/html": [
              "<pre style=\"white-space:pre;overflow-x:auto;line-height:normal;font-family:Menlo,'DejaVu Sans Mono',consolas,'Courier New',monospace\">[<span style=\"color: #7f7f7f; text-decoration-color: #7f7f7f\">2025-07-22 22:24:12,842704</span>][<span style=\"color: #008000; text-decoration-color: #008000\">I</span>][<span style=\"color: #008080; text-decoration-color: #008080; font-style: italic\">wordplay</span>/<span style=\"color: #000080; text-decoration-color: #000080\">trainer</span><span style=\"color: #0000ff; text-decoration-color: #0000ff\">:</span><span style=\"color: #800080; text-decoration-color: #800080\">769</span>]<span style=\"color: #c0c0c0; text-decoration-color: #c0c0c0\"> </span>Saving checkpoint to: <span style=\"color: #800080; text-decoration-color: #800080\">/Users/samforeman/projects/saforem2/intro-hpc-bootcamp-2025/content/02-llms/</span><span style=\"color: #ff00ff; text-decoration-color: #ff00ff\">7-shakespeare-example</span>\n",
              "</pre>"
            ]
          }
        },
        {
          "output_type": "display_data",
          "metadata": {},
          "data": {
            "text/html": [
              "<pre style=\"white-space:pre;overflow-x:auto;line-height:normal;font-family:Menlo,'DejaVu Sans Mono',consolas,'Courier New',monospace\">[<span style=\"color: #7f7f7f; text-decoration-color: #7f7f7f\">2025-07-22 22:24:12,843564</span>][<span style=\"color: #008000; text-decoration-color: #008000\">I</span>][<span style=\"color: #008080; text-decoration-color: #008080; font-style: italic\">wordplay</span>/<span style=\"color: #000080; text-decoration-color: #000080\">trainer</span><span style=\"color: #0000ff; text-decoration-color: #0000ff\">:</span><span style=\"color: #800080; text-decoration-color: #800080\">770</span>]<span style=\"color: #c0c0c0; text-decoration-color: #c0c0c0\"> </span>Saving model to: <span style=\"color: #800080; text-decoration-color: #800080\">/Users/samforeman/projects/saforem2/intro-hpc-bootcamp-2025/content/02-llms/7-shakespeare-example/</span><span style=\"color: #ff00ff; text-decoration-color: #ff00ff\">model.pth</span>\n",
              "</pre>"
            ]
          }
        },
        {
          "output_type": "display_data",
          "metadata": {},
          "data": {
            "text/html": [
              "<pre style=\"white-space:pre;overflow-x:auto;line-height:normal;font-family:Menlo,'DejaVu Sans Mono',consolas,'Courier New',monospace\">[<span style=\"color: #7f7f7f; text-decoration-color: #7f7f7f\">2025-07-22 22:24:12,924735</span>][<span style=\"color: #008000; text-decoration-color: #008000\">I</span>][<span style=\"color: #008080; text-decoration-color: #008080; font-style: italic\">wordplay</span>/<span style=\"color: #000080; text-decoration-color: #000080\">configs</span><span style=\"color: #0000ff; text-decoration-color: #0000ff\">:</span><span style=\"color: #800080; text-decoration-color: #800080\">141</span>]<span style=\"color: #c0c0c0; text-decoration-color: #c0c0c0\"> </span>Appending <span style=\"color: #800080; text-decoration-color: #800080\">/Users/samforeman/projects/saforem2/intro-hpc-bootcamp-2025/content/02-llms/</span><span style=\"color: #ff00ff; text-decoration-color: #ff00ff\">7-shakespeare-example</span> to <span style=\"color: #800080; text-decoration-color: #800080\">/Users/samforeman/projects/saforem2/wordplay/src/ckpts/</span><span style=\"color: #ff00ff; text-decoration-color: #ff00ff\">checkpoints.log</span>\n",
              "</pre>"
            ]
          }
        },
        {
          "output_type": "display_data",
          "metadata": {},
          "data": {
            "text/html": [
              "<pre style=\"white-space:pre;overflow-x:auto;line-height:normal;font-family:Menlo,'DejaVu Sans Mono',consolas,'Courier New',monospace\">[<span style=\"color: #7f7f7f; text-decoration-color: #7f7f7f\">2025-07-22 22:24:13,102960</span>][<span style=\"color: #008000; text-decoration-color: #008000\">I</span>][<span style=\"color: #008080; text-decoration-color: #008080; font-style: italic\">wordplay</span>/<span style=\"color: #000080; text-decoration-color: #000080\">trainer</span><span style=\"color: #0000ff; text-decoration-color: #0000ff\">:</span><span style=\"color: #800080; text-decoration-color: #800080\">901</span>]<span style=\"color: #c0c0c0; text-decoration-color: #c0c0c0\"> </span><span style=\"color: #0000ff; text-decoration-color: #0000ff\">step</span>=<span style=\"color: #008080; text-decoration-color: #008080; font-weight: bold\">110</span> <span style=\"color: #0000ff; text-decoration-color: #0000ff\">loss</span>=<span style=\"color: #008080; text-decoration-color: #008080; font-weight: bold\">4.30091</span> <span style=\"color: #0000ff; text-decoration-color: #0000ff\">dt</span>=<span style=\"color: #008080; text-decoration-color: #008080; font-weight: bold\">0.0178655</span> <span style=\"color: #0000ff; text-decoration-color: #0000ff\">dtf</span>=<span style=\"color: #008080; text-decoration-color: #008080; font-weight: bold\">0.0175351</span> <span style=\"color: #0000ff; text-decoration-color: #0000ff\">dtb</span>=<span style=\"color: #008080; text-decoration-color: #008080; font-weight: bold\">0.00011925</span> <span style=\"color: #0000ff; text-decoration-color: #0000ff\">sps</span>=<span style=\"color: #008080; text-decoration-color: #008080; font-weight: bold\">55.9738</span> <span style=\"color: #0000ff; text-decoration-color: #0000ff\">sps_per_gpu</span>=<span style=\"color: #008080; text-decoration-color: #008080; font-weight: bold\">55.9738</span> <span style=\"color: #0000ff; text-decoration-color: #0000ff\">tps</span>=<span style=\"color: #008080; text-decoration-color: #008080; font-weight: bold\">7164.65</span> <span style=\"color: #0000ff; text-decoration-color: #0000ff\">tps_per_gpu</span>=<span style=\"color: #008080; text-decoration-color: #008080; font-weight: bold\">7164.65</span> <span style=\"color: #0000ff; text-decoration-color: #0000ff\">mfu</span>=<span style=\"color: #008080; text-decoration-color: #008080; font-weight: bold\">0.155324</span>\n",
              "</pre>"
            ]
          }
        },
        {
          "output_type": "display_data",
          "metadata": {},
          "data": {
            "text/html": [
              "<pre style=\"white-space:pre;overflow-x:auto;line-height:normal;font-family:Menlo,'DejaVu Sans Mono',consolas,'Courier New',monospace\">[<span style=\"color: #7f7f7f; text-decoration-color: #7f7f7f\">2025-07-22 22:24:13,292570</span>][<span style=\"color: #008000; text-decoration-color: #008000\">I</span>][<span style=\"color: #008080; text-decoration-color: #008080; font-style: italic\">wordplay</span>/<span style=\"color: #000080; text-decoration-color: #000080\">trainer</span><span style=\"color: #0000ff; text-decoration-color: #0000ff\">:</span><span style=\"color: #800080; text-decoration-color: #800080\">901</span>]<span style=\"color: #c0c0c0; text-decoration-color: #c0c0c0\"> </span><span style=\"color: #0000ff; text-decoration-color: #0000ff\">step</span>=<span style=\"color: #008080; text-decoration-color: #008080; font-weight: bold\">120</span> <span style=\"color: #0000ff; text-decoration-color: #0000ff\">loss</span>=<span style=\"color: #008080; text-decoration-color: #008080; font-weight: bold\">4.23854</span> <span style=\"color: #0000ff; text-decoration-color: #0000ff\">dt</span>=<span style=\"color: #008080; text-decoration-color: #008080; font-weight: bold\">0.0184289</span> <span style=\"color: #0000ff; text-decoration-color: #0000ff\">dtf</span>=<span style=\"color: #008080; text-decoration-color: #008080; font-weight: bold\">0.018103</span> <span style=\"color: #0000ff; text-decoration-color: #0000ff\">dtb</span>=<span style=\"color: #008080; text-decoration-color: #008080; font-weight: bold\">0.000118791</span> <span style=\"color: #0000ff; text-decoration-color: #0000ff\">sps</span>=<span style=\"color: #008080; text-decoration-color: #008080; font-weight: bold\">54.2627</span> <span style=\"color: #0000ff; text-decoration-color: #0000ff\">sps_per_gpu</span>=<span style=\"color: #008080; text-decoration-color: #008080; font-weight: bold\">54.2627</span> <span style=\"color: #0000ff; text-decoration-color: #0000ff\">tps</span>=<span style=\"color: #008080; text-decoration-color: #008080; font-weight: bold\">6945.62</span> <span style=\"color: #0000ff; text-decoration-color: #0000ff\">tps_per_gpu</span>=<span style=\"color: #008080; text-decoration-color: #008080; font-weight: bold\">6945.62</span> <span style=\"color: #0000ff; text-decoration-color: #0000ff\">mfu</span>=<span style=\"color: #008080; text-decoration-color: #008080; font-weight: bold\">0.1548</span>\n",
              "</pre>"
            ]
          }
        },
        {
          "output_type": "display_data",
          "metadata": {},
          "data": {
            "text/html": [
              "<pre style=\"white-space:pre;overflow-x:auto;line-height:normal;font-family:Menlo,'DejaVu Sans Mono',consolas,'Courier New',monospace\">[<span style=\"color: #7f7f7f; text-decoration-color: #7f7f7f\">2025-07-22 22:24:13,473569</span>][<span style=\"color: #008000; text-decoration-color: #008000\">I</span>][<span style=\"color: #008080; text-decoration-color: #008080; font-style: italic\">wordplay</span>/<span style=\"color: #000080; text-decoration-color: #000080\">trainer</span><span style=\"color: #0000ff; text-decoration-color: #0000ff\">:</span><span style=\"color: #800080; text-decoration-color: #800080\">901</span>]<span style=\"color: #c0c0c0; text-decoration-color: #c0c0c0\"> </span><span style=\"color: #0000ff; text-decoration-color: #0000ff\">step</span>=<span style=\"color: #008080; text-decoration-color: #008080; font-weight: bold\">130</span> <span style=\"color: #0000ff; text-decoration-color: #0000ff\">loss</span>=<span style=\"color: #008080; text-decoration-color: #008080; font-weight: bold\">4.21194</span> <span style=\"color: #0000ff; text-decoration-color: #0000ff\">dt</span>=<span style=\"color: #008080; text-decoration-color: #008080; font-weight: bold\">0.0190031</span> <span style=\"color: #0000ff; text-decoration-color: #0000ff\">dtf</span>=<span style=\"color: #008080; text-decoration-color: #008080; font-weight: bold\">0.018622</span> <span style=\"color: #0000ff; text-decoration-color: #0000ff\">dtb</span>=<span style=\"color: #008080; text-decoration-color: #008080; font-weight: bold\">0.000153667</span> <span style=\"color: #0000ff; text-decoration-color: #0000ff\">sps</span>=<span style=\"color: #008080; text-decoration-color: #008080; font-weight: bold\">52.623</span> <span style=\"color: #0000ff; text-decoration-color: #0000ff\">sps_per_gpu</span>=<span style=\"color: #008080; text-decoration-color: #008080; font-weight: bold\">52.623</span> <span style=\"color: #0000ff; text-decoration-color: #0000ff\">tps</span>=<span style=\"color: #008080; text-decoration-color: #008080; font-weight: bold\">6735.75</span> <span style=\"color: #0000ff; text-decoration-color: #0000ff\">tps_per_gpu</span>=<span style=\"color: #008080; text-decoration-color: #008080; font-weight: bold\">6735.75</span> <span style=\"color: #0000ff; text-decoration-color: #0000ff\">mfu</span>=<span style=\"color: #008080; text-decoration-color: #008080; font-weight: bold\">0.153875</span>\n",
              "</pre>"
            ]
          }
        },
        {
          "output_type": "display_data",
          "metadata": {},
          "data": {
            "text/html": [
              "<pre style=\"white-space:pre;overflow-x:auto;line-height:normal;font-family:Menlo,'DejaVu Sans Mono',consolas,'Courier New',monospace\">[<span style=\"color: #7f7f7f; text-decoration-color: #7f7f7f\">2025-07-22 22:24:13,651699</span>][<span style=\"color: #008000; text-decoration-color: #008000\">I</span>][<span style=\"color: #008080; text-decoration-color: #008080; font-style: italic\">wordplay</span>/<span style=\"color: #000080; text-decoration-color: #000080\">trainer</span><span style=\"color: #0000ff; text-decoration-color: #0000ff\">:</span><span style=\"color: #800080; text-decoration-color: #800080\">901</span>]<span style=\"color: #c0c0c0; text-decoration-color: #c0c0c0\"> </span><span style=\"color: #0000ff; text-decoration-color: #0000ff\">step</span>=<span style=\"color: #008080; text-decoration-color: #008080; font-weight: bold\">140</span> <span style=\"color: #0000ff; text-decoration-color: #0000ff\">loss</span>=<span style=\"color: #008080; text-decoration-color: #008080; font-weight: bold\">4.30343</span> <span style=\"color: #0000ff; text-decoration-color: #0000ff\">dt</span>=<span style=\"color: #008080; text-decoration-color: #008080; font-weight: bold\">0.0176565</span> <span style=\"color: #0000ff; text-decoration-color: #0000ff\">dtf</span>=<span style=\"color: #008080; text-decoration-color: #008080; font-weight: bold\">0.0173507</span> <span style=\"color: #0000ff; text-decoration-color: #0000ff\">dtb</span>=<span style=\"color: #008080; text-decoration-color: #008080; font-weight: bold\">0.000121334</span> <span style=\"color: #0000ff; text-decoration-color: #0000ff\">sps</span>=<span style=\"color: #008080; text-decoration-color: #008080; font-weight: bold\">56.6362</span> <span style=\"color: #0000ff; text-decoration-color: #0000ff\">sps_per_gpu</span>=<span style=\"color: #008080; text-decoration-color: #008080; font-weight: bold\">56.6362</span> <span style=\"color: #0000ff; text-decoration-color: #0000ff\">tps</span>=<span style=\"color: #008080; text-decoration-color: #008080; font-weight: bold\">7249.44</span> <span style=\"color: #0000ff; text-decoration-color: #0000ff\">tps_per_gpu</span>=<span style=\"color: #008080; text-decoration-color: #008080; font-weight: bold\">7249.44</span> <span style=\"color: #0000ff; text-decoration-color: #0000ff\">mfu</span>=<span style=\"color: #008080; text-decoration-color: #008080; font-weight: bold\">0.154153</span>\n",
              "</pre>"
            ]
          }
        },
        {
          "output_type": "display_data",
          "metadata": {},
          "data": {
            "text/html": [
              "<pre style=\"white-space:pre;overflow-x:auto;line-height:normal;font-family:Menlo,'DejaVu Sans Mono',consolas,'Courier New',monospace\">[<span style=\"color: #7f7f7f; text-decoration-color: #7f7f7f\">2025-07-22 22:24:13,837101</span>][<span style=\"color: #008000; text-decoration-color: #008000\">I</span>][<span style=\"color: #008080; text-decoration-color: #008080; font-style: italic\">wordplay</span>/<span style=\"color: #000080; text-decoration-color: #000080\">trainer</span><span style=\"color: #0000ff; text-decoration-color: #0000ff\">:</span><span style=\"color: #800080; text-decoration-color: #800080\">901</span>]<span style=\"color: #c0c0c0; text-decoration-color: #c0c0c0\"> </span><span style=\"color: #0000ff; text-decoration-color: #0000ff\">step</span>=<span style=\"color: #008080; text-decoration-color: #008080; font-weight: bold\">150</span> <span style=\"color: #0000ff; text-decoration-color: #0000ff\">loss</span>=<span style=\"color: #008080; text-decoration-color: #008080; font-weight: bold\">4.25562</span> <span style=\"color: #0000ff; text-decoration-color: #0000ff\">dt</span>=<span style=\"color: #008080; text-decoration-color: #008080; font-weight: bold\">0.017603</span> <span style=\"color: #0000ff; text-decoration-color: #0000ff\">dtf</span>=<span style=\"color: #008080; text-decoration-color: #008080; font-weight: bold\">0.0172989</span> <span style=\"color: #0000ff; text-decoration-color: #0000ff\">dtb</span>=<span style=\"color: #008080; text-decoration-color: #008080; font-weight: bold\">0.000129583</span> <span style=\"color: #0000ff; text-decoration-color: #0000ff\">sps</span>=<span style=\"color: #008080; text-decoration-color: #008080; font-weight: bold\">56.8085</span> <span style=\"color: #0000ff; text-decoration-color: #0000ff\">sps_per_gpu</span>=<span style=\"color: #008080; text-decoration-color: #008080; font-weight: bold\">56.8085</span> <span style=\"color: #0000ff; text-decoration-color: #0000ff\">tps</span>=<span style=\"color: #008080; text-decoration-color: #008080; font-weight: bold\">7271.49</span> <span style=\"color: #0000ff; text-decoration-color: #0000ff\">tps_per_gpu</span>=<span style=\"color: #008080; text-decoration-color: #008080; font-weight: bold\">7271.49</span> <span style=\"color: #0000ff; text-decoration-color: #0000ff\">mfu</span>=<span style=\"color: #008080; text-decoration-color: #008080; font-weight: bold\">0.15445</span>\n",
              "</pre>"
            ]
          }
        },
        {
          "output_type": "display_data",
          "metadata": {},
          "data": {
            "text/html": [
              "<pre style=\"white-space:pre;overflow-x:auto;line-height:normal;font-family:Menlo,'DejaVu Sans Mono',consolas,'Courier New',monospace\">[<span style=\"color: #7f7f7f; text-decoration-color: #7f7f7f\">2025-07-22 22:24:15,426881</span>][<span style=\"color: #008000; text-decoration-color: #008000\">I</span>][<span style=\"color: #008080; text-decoration-color: #008080; font-style: italic\">wordplay</span>/<span style=\"color: #000080; text-decoration-color: #000080\">trainer</span><span style=\"color: #0000ff; text-decoration-color: #0000ff\">:</span><span style=\"color: #800080; text-decoration-color: #800080\">834</span>]<span style=\"color: #c0c0c0; text-decoration-color: #c0c0c0\"> </span><span style=\"color: #ff00ff; text-decoration-color: #ff00ff\">[</span><span style=\"color: #008000; text-decoration-color: #008000\">'prompt'</span><span style=\"color: #ff00ff; text-decoration-color: #ff00ff\">]</span>: <span style=\"color: #008000; text-decoration-color: #008000\">'What is an LLM?'</span>\n",
              "</pre>"
            ]
          }
        },
        {
          "output_type": "display_data",
          "metadata": {},
          "data": {
            "text/html": [
              "<pre style=\"white-space:pre;overflow-x:auto;line-height:normal;font-family:Menlo,'DejaVu Sans Mono',consolas,'Courier New',monospace\">[<span style=\"color: #7f7f7f; text-decoration-color: #7f7f7f\">2025-07-22 22:24:15,427789</span>][<span style=\"color: #008000; text-decoration-color: #008000\">I</span>][<span style=\"color: #008080; text-decoration-color: #008080; font-style: italic\">wordplay</span>/<span style=\"color: #000080; text-decoration-color: #000080\">trainer</span><span style=\"color: #0000ff; text-decoration-color: #0000ff\">:</span><span style=\"color: #800080; text-decoration-color: #800080\">838</span>]<span style=\"color: #c0c0c0; text-decoration-color: #c0c0c0\"> </span><span style=\"color: #ff00ff; text-decoration-color: #ff00ff\">[</span><span style=\"color: #008000; text-decoration-color: #008000\">'response'</span><span style=\"color: #ff00ff; text-decoration-color: #ff00ff\">]</span>:\n",
              "\n",
              "What is an LLM?vXvZoQQoLqQewerA'-<span style=\"color: #008000; text-decoration-color: #008000\">''</span>.qqQtXxx'V333jo'gQUoojxttYyfQOCCAASc-sseS\n",
              "\n",
              "r.GexS-\n",
              "Dv'acQqjpwptxxqqZ!!fqzAAf.v3aag;vYgg'fqY:n;QsrkoBQhbYYQQgoMbZg;;cLf..WSSJhppMSkggkkkkooqWWQ'<span style=\"color: #008000; text-decoration-color: #008000\">';xheuAA;pppcSQQqq;??ZppBkqeQsgb'</span>SpWbrr;.gSbbqq;;f.t'gIBq;;WtgbW,rWWYAAqttMA''ggQQQnxrrrrh;;!\n",
              "</pre>"
            ]
          }
        },
        {
          "output_type": "display_data",
          "metadata": {},
          "data": {
            "text/html": [
              "<pre style=\"white-space:pre;overflow-x:auto;line-height:normal;font-family:Menlo,'DejaVu Sans Mono',consolas,'Courier New',monospace\">[<span style=\"color: #7f7f7f; text-decoration-color: #7f7f7f\">2025-07-22 22:24:18,336201</span>][<span style=\"color: #008000; text-decoration-color: #008000\">I</span>][<span style=\"color: #008080; text-decoration-color: #008080; font-style: italic\">wordplay</span>/<span style=\"color: #000080; text-decoration-color: #000080\">trainer</span><span style=\"color: #0000ff; text-decoration-color: #0000ff\">:</span><span style=\"color: #800080; text-decoration-color: #800080\">769</span>]<span style=\"color: #c0c0c0; text-decoration-color: #c0c0c0\"> </span>Saving checkpoint to: <span style=\"color: #800080; text-decoration-color: #800080\">/Users/samforeman/projects/saforem2/intro-hpc-bootcamp-2025/content/02-llms/</span><span style=\"color: #ff00ff; text-decoration-color: #ff00ff\">7-shakespeare-example</span>\n",
              "</pre>"
            ]
          }
        },
        {
          "output_type": "display_data",
          "metadata": {},
          "data": {
            "text/html": [
              "<pre style=\"white-space:pre;overflow-x:auto;line-height:normal;font-family:Menlo,'DejaVu Sans Mono',consolas,'Courier New',monospace\">[<span style=\"color: #7f7f7f; text-decoration-color: #7f7f7f\">2025-07-22 22:24:18,337273</span>][<span style=\"color: #008000; text-decoration-color: #008000\">I</span>][<span style=\"color: #008080; text-decoration-color: #008080; font-style: italic\">wordplay</span>/<span style=\"color: #000080; text-decoration-color: #000080\">trainer</span><span style=\"color: #0000ff; text-decoration-color: #0000ff\">:</span><span style=\"color: #800080; text-decoration-color: #800080\">770</span>]<span style=\"color: #c0c0c0; text-decoration-color: #c0c0c0\"> </span>Saving model to: <span style=\"color: #800080; text-decoration-color: #800080\">/Users/samforeman/projects/saforem2/intro-hpc-bootcamp-2025/content/02-llms/7-shakespeare-example/</span><span style=\"color: #ff00ff; text-decoration-color: #ff00ff\">model.pth</span>\n",
              "</pre>"
            ]
          }
        },
        {
          "output_type": "display_data",
          "metadata": {},
          "data": {
            "text/html": [
              "<pre style=\"white-space:pre;overflow-x:auto;line-height:normal;font-family:Menlo,'DejaVu Sans Mono',consolas,'Courier New',monospace\">[<span style=\"color: #7f7f7f; text-decoration-color: #7f7f7f\">2025-07-22 22:24:18,405232</span>][<span style=\"color: #008000; text-decoration-color: #008000\">I</span>][<span style=\"color: #008080; text-decoration-color: #008080; font-style: italic\">wordplay</span>/<span style=\"color: #000080; text-decoration-color: #000080\">configs</span><span style=\"color: #0000ff; text-decoration-color: #0000ff\">:</span><span style=\"color: #800080; text-decoration-color: #800080\">141</span>]<span style=\"color: #c0c0c0; text-decoration-color: #c0c0c0\"> </span>Appending <span style=\"color: #800080; text-decoration-color: #800080\">/Users/samforeman/projects/saforem2/intro-hpc-bootcamp-2025/content/02-llms/</span><span style=\"color: #ff00ff; text-decoration-color: #ff00ff\">7-shakespeare-example</span> to <span style=\"color: #800080; text-decoration-color: #800080\">/Users/samforeman/projects/saforem2/wordplay/src/ckpts/</span><span style=\"color: #ff00ff; text-decoration-color: #ff00ff\">checkpoints.log</span>\n",
              "</pre>"
            ]
          }
        },
        {
          "output_type": "display_data",
          "metadata": {},
          "data": {
            "text/html": [
              "<pre style=\"white-space:pre;overflow-x:auto;line-height:normal;font-family:Menlo,'DejaVu Sans Mono',consolas,'Courier New',monospace\">[<span style=\"color: #7f7f7f; text-decoration-color: #7f7f7f\">2025-07-22 22:24:18,579543</span>][<span style=\"color: #008000; text-decoration-color: #008000\">I</span>][<span style=\"color: #008080; text-decoration-color: #008080; font-style: italic\">wordplay</span>/<span style=\"color: #000080; text-decoration-color: #000080\">trainer</span><span style=\"color: #0000ff; text-decoration-color: #0000ff\">:</span><span style=\"color: #800080; text-decoration-color: #800080\">901</span>]<span style=\"color: #c0c0c0; text-decoration-color: #c0c0c0\"> </span><span style=\"color: #0000ff; text-decoration-color: #0000ff\">step</span>=<span style=\"color: #008080; text-decoration-color: #008080; font-weight: bold\">160</span> <span style=\"color: #0000ff; text-decoration-color: #0000ff\">loss</span>=<span style=\"color: #008080; text-decoration-color: #008080; font-weight: bold\">4.22457</span> <span style=\"color: #0000ff; text-decoration-color: #0000ff\">dt</span>=<span style=\"color: #008080; text-decoration-color: #008080; font-weight: bold\">0.0170871</span> <span style=\"color: #0000ff; text-decoration-color: #0000ff\">dtf</span>=<span style=\"color: #008080; text-decoration-color: #008080; font-weight: bold\">0.016846</span> <span style=\"color: #0000ff; text-decoration-color: #0000ff\">dtb</span>=<span style=\"color: #008080; text-decoration-color: #008080; font-weight: bold\">0.000109209</span> <span style=\"color: #0000ff; text-decoration-color: #0000ff\">sps</span>=<span style=\"color: #008080; text-decoration-color: #008080; font-weight: bold\">58.5236</span> <span style=\"color: #0000ff; text-decoration-color: #0000ff\">sps_per_gpu</span>=<span style=\"color: #008080; text-decoration-color: #008080; font-weight: bold\">58.5236</span> <span style=\"color: #0000ff; text-decoration-color: #0000ff\">tps</span>=<span style=\"color: #008080; text-decoration-color: #008080; font-weight: bold\">7491.02</span> <span style=\"color: #0000ff; text-decoration-color: #0000ff\">tps_per_gpu</span>=<span style=\"color: #008080; text-decoration-color: #008080; font-weight: bold\">7491.02</span> <span style=\"color: #0000ff; text-decoration-color: #0000ff\">mfu</span>=<span style=\"color: #008080; text-decoration-color: #008080; font-weight: bold\">0.155193</span>\n",
              "</pre>"
            ]
          }
        },
        {
          "output_type": "display_data",
          "metadata": {},
          "data": {
            "text/html": [
              "<pre style=\"white-space:pre;overflow-x:auto;line-height:normal;font-family:Menlo,'DejaVu Sans Mono',consolas,'Courier New',monospace\">[<span style=\"color: #7f7f7f; text-decoration-color: #7f7f7f\">2025-07-22 22:24:18,752413</span>][<span style=\"color: #008000; text-decoration-color: #008000\">I</span>][<span style=\"color: #008080; text-decoration-color: #008080; font-style: italic\">wordplay</span>/<span style=\"color: #000080; text-decoration-color: #000080\">trainer</span><span style=\"color: #0000ff; text-decoration-color: #0000ff\">:</span><span style=\"color: #800080; text-decoration-color: #800080\">901</span>]<span style=\"color: #c0c0c0; text-decoration-color: #c0c0c0\"> </span><span style=\"color: #0000ff; text-decoration-color: #0000ff\">step</span>=<span style=\"color: #008080; text-decoration-color: #008080; font-weight: bold\">170</span> <span style=\"color: #0000ff; text-decoration-color: #0000ff\">loss</span>=<span style=\"color: #008080; text-decoration-color: #008080; font-weight: bold\">4.20268</span> <span style=\"color: #0000ff; text-decoration-color: #0000ff\">dt</span>=<span style=\"color: #008080; text-decoration-color: #008080; font-weight: bold\">0.0176706</span> <span style=\"color: #0000ff; text-decoration-color: #0000ff\">dtf</span>=<span style=\"color: #008080; text-decoration-color: #008080; font-weight: bold\">0.01734</span> <span style=\"color: #0000ff; text-decoration-color: #0000ff\">dtb</span>=<span style=\"color: #008080; text-decoration-color: #008080; font-weight: bold\">0.000135958</span> <span style=\"color: #0000ff; text-decoration-color: #0000ff\">sps</span>=<span style=\"color: #008080; text-decoration-color: #008080; font-weight: bold\">56.5912</span> <span style=\"color: #0000ff; text-decoration-color: #0000ff\">sps_per_gpu</span>=<span style=\"color: #008080; text-decoration-color: #008080; font-weight: bold\">56.5912</span> <span style=\"color: #0000ff; text-decoration-color: #0000ff\">tps</span>=<span style=\"color: #008080; text-decoration-color: #008080; font-weight: bold\">7243.68</span> <span style=\"color: #0000ff; text-decoration-color: #0000ff\">tps_per_gpu</span>=<span style=\"color: #008080; text-decoration-color: #008080; font-weight: bold\">7243.68</span> <span style=\"color: #0000ff; text-decoration-color: #0000ff\">mfu</span>=<span style=\"color: #008080; text-decoration-color: #008080; font-weight: bold\">0.155326</span>\n",
              "</pre>"
            ]
          }
        },
        {
          "output_type": "display_data",
          "metadata": {},
          "data": {
            "text/html": [
              "<pre style=\"white-space:pre;overflow-x:auto;line-height:normal;font-family:Menlo,'DejaVu Sans Mono',consolas,'Courier New',monospace\">[<span style=\"color: #7f7f7f; text-decoration-color: #7f7f7f\">2025-07-22 22:24:18,928216</span>][<span style=\"color: #008000; text-decoration-color: #008000\">I</span>][<span style=\"color: #008080; text-decoration-color: #008080; font-style: italic\">wordplay</span>/<span style=\"color: #000080; text-decoration-color: #000080\">trainer</span><span style=\"color: #0000ff; text-decoration-color: #0000ff\">:</span><span style=\"color: #800080; text-decoration-color: #800080\">901</span>]<span style=\"color: #c0c0c0; text-decoration-color: #c0c0c0\"> </span><span style=\"color: #0000ff; text-decoration-color: #0000ff\">step</span>=<span style=\"color: #008080; text-decoration-color: #008080; font-weight: bold\">180</span> <span style=\"color: #0000ff; text-decoration-color: #0000ff\">loss</span>=<span style=\"color: #008080; text-decoration-color: #008080; font-weight: bold\">4.23688</span> <span style=\"color: #0000ff; text-decoration-color: #0000ff\">dt</span>=<span style=\"color: #008080; text-decoration-color: #008080; font-weight: bold\">0.0176117</span> <span style=\"color: #0000ff; text-decoration-color: #0000ff\">dtf</span>=<span style=\"color: #008080; text-decoration-color: #008080; font-weight: bold\">0.0172893</span> <span style=\"color: #0000ff; text-decoration-color: #0000ff\">dtb</span>=<span style=\"color: #008080; text-decoration-color: #008080; font-weight: bold\">0.000134333</span> <span style=\"color: #0000ff; text-decoration-color: #0000ff\">sps</span>=<span style=\"color: #008080; text-decoration-color: #008080; font-weight: bold\">56.7805</span> <span style=\"color: #0000ff; text-decoration-color: #0000ff\">sps_per_gpu</span>=<span style=\"color: #008080; text-decoration-color: #008080; font-weight: bold\">56.7805</span> <span style=\"color: #0000ff; text-decoration-color: #0000ff\">tps</span>=<span style=\"color: #008080; text-decoration-color: #008080; font-weight: bold\">7267.91</span> <span style=\"color: #0000ff; text-decoration-color: #0000ff\">tps_per_gpu</span>=<span style=\"color: #008080; text-decoration-color: #008080; font-weight: bold\">7267.91</span> <span style=\"color: #0000ff; text-decoration-color: #0000ff\">mfu</span>=<span style=\"color: #008080; text-decoration-color: #008080; font-weight: bold\">0.155499</span>\n",
              "</pre>"
            ]
          }
        },
        {
          "output_type": "display_data",
          "metadata": {},
          "data": {
            "text/html": [
              "<pre style=\"white-space:pre;overflow-x:auto;line-height:normal;font-family:Menlo,'DejaVu Sans Mono',consolas,'Courier New',monospace\">[<span style=\"color: #7f7f7f; text-decoration-color: #7f7f7f\">2025-07-22 22:24:19,103754</span>][<span style=\"color: #008000; text-decoration-color: #008000\">I</span>][<span style=\"color: #008080; text-decoration-color: #008080; font-style: italic\">wordplay</span>/<span style=\"color: #000080; text-decoration-color: #000080\">trainer</span><span style=\"color: #0000ff; text-decoration-color: #0000ff\">:</span><span style=\"color: #800080; text-decoration-color: #800080\">901</span>]<span style=\"color: #c0c0c0; text-decoration-color: #c0c0c0\"> </span><span style=\"color: #0000ff; text-decoration-color: #0000ff\">step</span>=<span style=\"color: #008080; text-decoration-color: #008080; font-weight: bold\">190</span> <span style=\"color: #0000ff; text-decoration-color: #0000ff\">loss</span>=<span style=\"color: #008080; text-decoration-color: #008080; font-weight: bold\">4.28941</span> <span style=\"color: #0000ff; text-decoration-color: #0000ff\">dt</span>=<span style=\"color: #008080; text-decoration-color: #008080; font-weight: bold\">0.0172127</span> <span style=\"color: #0000ff; text-decoration-color: #0000ff\">dtf</span>=<span style=\"color: #008080; text-decoration-color: #008080; font-weight: bold\">0.016919</span> <span style=\"color: #0000ff; text-decoration-color: #0000ff\">dtb</span>=<span style=\"color: #008080; text-decoration-color: #008080; font-weight: bold\">0.000119583</span> <span style=\"color: #0000ff; text-decoration-color: #0000ff\">sps</span>=<span style=\"color: #008080; text-decoration-color: #008080; font-weight: bold\">58.0967</span> <span style=\"color: #0000ff; text-decoration-color: #0000ff\">sps_per_gpu</span>=<span style=\"color: #008080; text-decoration-color: #008080; font-weight: bold\">58.0967</span> <span style=\"color: #0000ff; text-decoration-color: #0000ff\">tps</span>=<span style=\"color: #008080; text-decoration-color: #008080; font-weight: bold\">7436.38</span> <span style=\"color: #0000ff; text-decoration-color: #0000ff\">tps_per_gpu</span>=<span style=\"color: #008080; text-decoration-color: #008080; font-weight: bold\">7436.38</span> <span style=\"color: #0000ff; text-decoration-color: #0000ff\">mfu</span>=<span style=\"color: #008080; text-decoration-color: #008080; font-weight: bold\">0.156018</span>\n",
              "</pre>"
            ]
          }
        },
        {
          "output_type": "display_data",
          "metadata": {},
          "data": {
            "text/html": [
              "<pre style=\"white-space:pre;overflow-x:auto;line-height:normal;font-family:Menlo,'DejaVu Sans Mono',consolas,'Courier New',monospace\">[<span style=\"color: #7f7f7f; text-decoration-color: #7f7f7f\">2025-07-22 22:24:19,277900</span>][<span style=\"color: #008000; text-decoration-color: #008000\">I</span>][<span style=\"color: #008080; text-decoration-color: #008080; font-style: italic\">wordplay</span>/<span style=\"color: #000080; text-decoration-color: #000080\">trainer</span><span style=\"color: #0000ff; text-decoration-color: #0000ff\">:</span><span style=\"color: #800080; text-decoration-color: #800080\">901</span>]<span style=\"color: #c0c0c0; text-decoration-color: #c0c0c0\"> </span><span style=\"color: #0000ff; text-decoration-color: #0000ff\">step</span>=<span style=\"color: #008080; text-decoration-color: #008080; font-weight: bold\">200</span> <span style=\"color: #0000ff; text-decoration-color: #0000ff\">loss</span>=<span style=\"color: #008080; text-decoration-color: #008080; font-weight: bold\">4.25317</span> <span style=\"color: #0000ff; text-decoration-color: #0000ff\">dt</span>=<span style=\"color: #008080; text-decoration-color: #008080; font-weight: bold\">0.016781</span> <span style=\"color: #0000ff; text-decoration-color: #0000ff\">dtf</span>=<span style=\"color: #008080; text-decoration-color: #008080; font-weight: bold\">0.0165002</span> <span style=\"color: #0000ff; text-decoration-color: #0000ff\">dtb</span>=<span style=\"color: #008080; text-decoration-color: #008080; font-weight: bold\">0.000105833</span> <span style=\"color: #0000ff; text-decoration-color: #0000ff\">sps</span>=<span style=\"color: #008080; text-decoration-color: #008080; font-weight: bold\">59.5912</span> <span style=\"color: #0000ff; text-decoration-color: #0000ff\">sps_per_gpu</span>=<span style=\"color: #008080; text-decoration-color: #008080; font-weight: bold\">59.5912</span> <span style=\"color: #0000ff; text-decoration-color: #0000ff\">tps</span>=<span style=\"color: #008080; text-decoration-color: #008080; font-weight: bold\">7627.67</span> <span style=\"color: #0000ff; text-decoration-color: #0000ff\">tps_per_gpu</span>=<span style=\"color: #008080; text-decoration-color: #008080; font-weight: bold\">7627.67</span> <span style=\"color: #0000ff; text-decoration-color: #0000ff\">mfu</span>=<span style=\"color: #008080; text-decoration-color: #008080; font-weight: bold\">0.156899</span>\n",
              "</pre>"
            ]
          }
        },
        {
          "output_type": "display_data",
          "metadata": {},
          "data": {
            "text/html": [
              "<pre style=\"white-space:pre;overflow-x:auto;line-height:normal;font-family:Menlo,'DejaVu Sans Mono',consolas,'Courier New',monospace\">[<span style=\"color: #7f7f7f; text-decoration-color: #7f7f7f\">2025-07-22 22:24:20,983812</span>][<span style=\"color: #008000; text-decoration-color: #008000\">I</span>][<span style=\"color: #008080; text-decoration-color: #008080; font-style: italic\">wordplay</span>/<span style=\"color: #000080; text-decoration-color: #000080\">trainer</span><span style=\"color: #0000ff; text-decoration-color: #0000ff\">:</span><span style=\"color: #800080; text-decoration-color: #800080\">834</span>]<span style=\"color: #c0c0c0; text-decoration-color: #c0c0c0\"> </span><span style=\"color: #ff00ff; text-decoration-color: #ff00ff\">[</span><span style=\"color: #008000; text-decoration-color: #008000\">'prompt'</span><span style=\"color: #ff00ff; text-decoration-color: #ff00ff\">]</span>: <span style=\"color: #008000; text-decoration-color: #008000\">'What is an LLM?'</span>\n",
              "</pre>"
            ]
          }
        },
        {
          "output_type": "display_data",
          "metadata": {},
          "data": {
            "text/html": [
              "<pre style=\"white-space:pre;overflow-x:auto;line-height:normal;font-family:Menlo,'DejaVu Sans Mono',consolas,'Courier New',monospace\">[<span style=\"color: #7f7f7f; text-decoration-color: #7f7f7f\">2025-07-22 22:24:20,984783</span>][<span style=\"color: #008000; text-decoration-color: #008000\">I</span>][<span style=\"color: #008080; text-decoration-color: #008080; font-style: italic\">wordplay</span>/<span style=\"color: #000080; text-decoration-color: #000080\">trainer</span><span style=\"color: #0000ff; text-decoration-color: #0000ff\">:</span><span style=\"color: #800080; text-decoration-color: #800080\">838</span>]<span style=\"color: #c0c0c0; text-decoration-color: #c0c0c0\"> </span><span style=\"color: #ff00ff; text-decoration-color: #ff00ff\">[</span><span style=\"color: #008000; text-decoration-color: #008000\">'response'</span><span style=\"color: #ff00ff; text-decoration-color: #ff00ff\">]</span>:\n",
              "\n",
              "What is an LLM?qervyyf.af3VAAowAoooooBQecAAqrxxxtXptxGQUVVcNYhhhck;;ooc'DaVqLZZZcP'<span style=\"color: #008000; text-decoration-color: #008000\">''</span>GGl..ooosZppV!333QqYYfQSYUUoofkm.tpcq'e'<span style=\"color: #008000; text-decoration-color: #008000\">'3esseeqqe;;!f'</span>sx'MBfQttopp,qccQn3tgQSk-sffQnpSoo'gYpqqQn';qqecAAS'?AAASYf';pMt??pSSpptSbbYj-tWWYQY?gYIfkqg.nn'gqqc'gtqqtS??A'tu?MBBp???qq;;??A,,,\n",
              "</pre>"
            ]
          }
        },
        {
          "output_type": "display_data",
          "metadata": {},
          "data": {
            "text/html": [
              "<pre style=\"white-space:pre;overflow-x:auto;line-height:normal;font-family:Menlo,'DejaVu Sans Mono',consolas,'Courier New',monospace\">[<span style=\"color: #7f7f7f; text-decoration-color: #7f7f7f\">2025-07-22 22:24:24,055702</span>][<span style=\"color: #008000; text-decoration-color: #008000\">I</span>][<span style=\"color: #008080; text-decoration-color: #008080; font-style: italic\">wordplay</span>/<span style=\"color: #000080; text-decoration-color: #000080\">trainer</span><span style=\"color: #0000ff; text-decoration-color: #0000ff\">:</span><span style=\"color: #800080; text-decoration-color: #800080\">769</span>]<span style=\"color: #c0c0c0; text-decoration-color: #c0c0c0\"> </span>Saving checkpoint to: <span style=\"color: #800080; text-decoration-color: #800080\">/Users/samforeman/projects/saforem2/intro-hpc-bootcamp-2025/content/02-llms/</span><span style=\"color: #ff00ff; text-decoration-color: #ff00ff\">7-shakespeare-example</span>\n",
              "</pre>"
            ]
          }
        },
        {
          "output_type": "display_data",
          "metadata": {},
          "data": {
            "text/html": [
              "<pre style=\"white-space:pre;overflow-x:auto;line-height:normal;font-family:Menlo,'DejaVu Sans Mono',consolas,'Courier New',monospace\">[<span style=\"color: #7f7f7f; text-decoration-color: #7f7f7f\">2025-07-22 22:24:24,056528</span>][<span style=\"color: #008000; text-decoration-color: #008000\">I</span>][<span style=\"color: #008080; text-decoration-color: #008080; font-style: italic\">wordplay</span>/<span style=\"color: #000080; text-decoration-color: #000080\">trainer</span><span style=\"color: #0000ff; text-decoration-color: #0000ff\">:</span><span style=\"color: #800080; text-decoration-color: #800080\">770</span>]<span style=\"color: #c0c0c0; text-decoration-color: #c0c0c0\"> </span>Saving model to: <span style=\"color: #800080; text-decoration-color: #800080\">/Users/samforeman/projects/saforem2/intro-hpc-bootcamp-2025/content/02-llms/7-shakespeare-example/</span><span style=\"color: #ff00ff; text-decoration-color: #ff00ff\">model.pth</span>\n",
              "</pre>"
            ]
          }
        },
        {
          "output_type": "display_data",
          "metadata": {},
          "data": {
            "text/html": [
              "<pre style=\"white-space:pre;overflow-x:auto;line-height:normal;font-family:Menlo,'DejaVu Sans Mono',consolas,'Courier New',monospace\">[<span style=\"color: #7f7f7f; text-decoration-color: #7f7f7f\">2025-07-22 22:24:24,125255</span>][<span style=\"color: #008000; text-decoration-color: #008000\">I</span>][<span style=\"color: #008080; text-decoration-color: #008080; font-style: italic\">wordplay</span>/<span style=\"color: #000080; text-decoration-color: #000080\">configs</span><span style=\"color: #0000ff; text-decoration-color: #0000ff\">:</span><span style=\"color: #800080; text-decoration-color: #800080\">141</span>]<span style=\"color: #c0c0c0; text-decoration-color: #c0c0c0\"> </span>Appending <span style=\"color: #800080; text-decoration-color: #800080\">/Users/samforeman/projects/saforem2/intro-hpc-bootcamp-2025/content/02-llms/</span><span style=\"color: #ff00ff; text-decoration-color: #ff00ff\">7-shakespeare-example</span> to <span style=\"color: #800080; text-decoration-color: #800080\">/Users/samforeman/projects/saforem2/wordplay/src/ckpts/</span><span style=\"color: #ff00ff; text-decoration-color: #ff00ff\">checkpoints.log</span>\n",
              "</pre>"
            ]
          }
        },
        {
          "output_type": "display_data",
          "metadata": {},
          "data": {
            "text/html": [
              "<pre style=\"white-space:pre;overflow-x:auto;line-height:normal;font-family:Menlo,'DejaVu Sans Mono',consolas,'Courier New',monospace\">[<span style=\"color: #7f7f7f; text-decoration-color: #7f7f7f\">2025-07-22 22:24:24,302181</span>][<span style=\"color: #008000; text-decoration-color: #008000\">I</span>][<span style=\"color: #008080; text-decoration-color: #008080; font-style: italic\">wordplay</span>/<span style=\"color: #000080; text-decoration-color: #000080\">trainer</span><span style=\"color: #0000ff; text-decoration-color: #0000ff\">:</span><span style=\"color: #800080; text-decoration-color: #800080\">901</span>]<span style=\"color: #c0c0c0; text-decoration-color: #c0c0c0\"> </span><span style=\"color: #0000ff; text-decoration-color: #0000ff\">step</span>=<span style=\"color: #008080; text-decoration-color: #008080; font-weight: bold\">210</span> <span style=\"color: #0000ff; text-decoration-color: #0000ff\">loss</span>=<span style=\"color: #008080; text-decoration-color: #008080; font-weight: bold\">4.22371</span> <span style=\"color: #0000ff; text-decoration-color: #0000ff\">dt</span>=<span style=\"color: #008080; text-decoration-color: #008080; font-weight: bold\">0.0170718</span> <span style=\"color: #0000ff; text-decoration-color: #0000ff\">dtf</span>=<span style=\"color: #008080; text-decoration-color: #008080; font-weight: bold\">0.016773</span> <span style=\"color: #0000ff; text-decoration-color: #0000ff\">dtb</span>=<span style=\"color: #008080; text-decoration-color: #008080; font-weight: bold\">0.000126834</span> <span style=\"color: #0000ff; text-decoration-color: #0000ff\">sps</span>=<span style=\"color: #008080; text-decoration-color: #008080; font-weight: bold\">58.5763</span> <span style=\"color: #0000ff; text-decoration-color: #0000ff\">sps_per_gpu</span>=<span style=\"color: #008080; text-decoration-color: #008080; font-weight: bold\">58.5763</span> <span style=\"color: #0000ff; text-decoration-color: #0000ff\">tps</span>=<span style=\"color: #008080; text-decoration-color: #008080; font-weight: bold\">7497.77</span> <span style=\"color: #0000ff; text-decoration-color: #0000ff\">tps_per_gpu</span>=<span style=\"color: #008080; text-decoration-color: #008080; font-weight: bold\">7497.77</span> <span style=\"color: #0000ff; text-decoration-color: #0000ff\">mfu</span>=<span style=\"color: #008080; text-decoration-color: #008080; font-weight: bold\">0.157411</span>\n",
              "</pre>"
            ]
          }
        },
        {
          "output_type": "display_data",
          "metadata": {},
          "data": {
            "text/html": [
              "<pre style=\"white-space:pre;overflow-x:auto;line-height:normal;font-family:Menlo,'DejaVu Sans Mono',consolas,'Courier New',monospace\">[<span style=\"color: #7f7f7f; text-decoration-color: #7f7f7f\">2025-07-22 22:24:24,474333</span>][<span style=\"color: #008000; text-decoration-color: #008000\">I</span>][<span style=\"color: #008080; text-decoration-color: #008080; font-style: italic\">wordplay</span>/<span style=\"color: #000080; text-decoration-color: #000080\">trainer</span><span style=\"color: #0000ff; text-decoration-color: #0000ff\">:</span><span style=\"color: #800080; text-decoration-color: #800080\">901</span>]<span style=\"color: #c0c0c0; text-decoration-color: #c0c0c0\"> </span><span style=\"color: #0000ff; text-decoration-color: #0000ff\">step</span>=<span style=\"color: #008080; text-decoration-color: #008080; font-weight: bold\">220</span> <span style=\"color: #0000ff; text-decoration-color: #0000ff\">loss</span>=<span style=\"color: #008080; text-decoration-color: #008080; font-weight: bold\">4.23227</span> <span style=\"color: #0000ff; text-decoration-color: #0000ff\">dt</span>=<span style=\"color: #008080; text-decoration-color: #008080; font-weight: bold\">0.0180543</span> <span style=\"color: #0000ff; text-decoration-color: #0000ff\">dtf</span>=<span style=\"color: #008080; text-decoration-color: #008080; font-weight: bold\">0.0177692</span> <span style=\"color: #0000ff; text-decoration-color: #0000ff\">dtb</span>=<span style=\"color: #008080; text-decoration-color: #008080; font-weight: bold\">0.000110333</span> <span style=\"color: #0000ff; text-decoration-color: #0000ff\">sps</span>=<span style=\"color: #008080; text-decoration-color: #008080; font-weight: bold\">55.3884</span> <span style=\"color: #0000ff; text-decoration-color: #0000ff\">sps_per_gpu</span>=<span style=\"color: #008080; text-decoration-color: #008080; font-weight: bold\">55.3884</span> <span style=\"color: #0000ff; text-decoration-color: #0000ff\">tps</span>=<span style=\"color: #008080; text-decoration-color: #008080; font-weight: bold\">7089.71</span> <span style=\"color: #0000ff; text-decoration-color: #0000ff\">tps_per_gpu</span>=<span style=\"color: #008080; text-decoration-color: #008080; font-weight: bold\">7089.71</span> <span style=\"color: #0000ff; text-decoration-color: #0000ff\">mfu</span>=<span style=\"color: #008080; text-decoration-color: #008080; font-weight: bold\">0.15699</span>\n",
              "</pre>"
            ]
          }
        },
        {
          "output_type": "display_data",
          "metadata": {},
          "data": {
            "text/html": [
              "<pre style=\"white-space:pre;overflow-x:auto;line-height:normal;font-family:Menlo,'DejaVu Sans Mono',consolas,'Courier New',monospace\">[<span style=\"color: #7f7f7f; text-decoration-color: #7f7f7f\">2025-07-22 22:24:24,650074</span>][<span style=\"color: #008000; text-decoration-color: #008000\">I</span>][<span style=\"color: #008080; text-decoration-color: #008080; font-style: italic\">wordplay</span>/<span style=\"color: #000080; text-decoration-color: #000080\">trainer</span><span style=\"color: #0000ff; text-decoration-color: #0000ff\">:</span><span style=\"color: #800080; text-decoration-color: #800080\">901</span>]<span style=\"color: #c0c0c0; text-decoration-color: #c0c0c0\"> </span><span style=\"color: #0000ff; text-decoration-color: #0000ff\">step</span>=<span style=\"color: #008080; text-decoration-color: #008080; font-weight: bold\">230</span> <span style=\"color: #0000ff; text-decoration-color: #0000ff\">loss</span>=<span style=\"color: #008080; text-decoration-color: #008080; font-weight: bold\">4.22308</span> <span style=\"color: #0000ff; text-decoration-color: #0000ff\">dt</span>=<span style=\"color: #008080; text-decoration-color: #008080; font-weight: bold\">0.0186991</span> <span style=\"color: #0000ff; text-decoration-color: #0000ff\">dtf</span>=<span style=\"color: #008080; text-decoration-color: #008080; font-weight: bold\">0.0183799</span> <span style=\"color: #0000ff; text-decoration-color: #0000ff\">dtb</span>=<span style=\"color: #008080; text-decoration-color: #008080; font-weight: bold\">0.000125666</span> <span style=\"color: #0000ff; text-decoration-color: #0000ff\">sps</span>=<span style=\"color: #008080; text-decoration-color: #008080; font-weight: bold\">53.4784</span> <span style=\"color: #0000ff; text-decoration-color: #0000ff\">sps_per_gpu</span>=<span style=\"color: #008080; text-decoration-color: #008080; font-weight: bold\">53.4784</span> <span style=\"color: #0000ff; text-decoration-color: #0000ff\">tps</span>=<span style=\"color: #008080; text-decoration-color: #008080; font-weight: bold\">6845.24</span> <span style=\"color: #0000ff; text-decoration-color: #0000ff\">tps_per_gpu</span>=<span style=\"color: #008080; text-decoration-color: #008080; font-weight: bold\">6845.24</span> <span style=\"color: #0000ff; text-decoration-color: #0000ff\">mfu</span>=<span style=\"color: #008080; text-decoration-color: #008080; font-weight: bold\">0.156082</span>\n",
              "</pre>"
            ]
          }
        },
        {
          "output_type": "display_data",
          "metadata": {},
          "data": {
            "text/html": [
              "<pre style=\"white-space:pre;overflow-x:auto;line-height:normal;font-family:Menlo,'DejaVu Sans Mono',consolas,'Courier New',monospace\">[<span style=\"color: #7f7f7f; text-decoration-color: #7f7f7f\">2025-07-22 22:24:24,854620</span>][<span style=\"color: #008000; text-decoration-color: #008000\">I</span>][<span style=\"color: #008080; text-decoration-color: #008080; font-style: italic\">wordplay</span>/<span style=\"color: #000080; text-decoration-color: #000080\">trainer</span><span style=\"color: #0000ff; text-decoration-color: #0000ff\">:</span><span style=\"color: #800080; text-decoration-color: #800080\">901</span>]<span style=\"color: #c0c0c0; text-decoration-color: #c0c0c0\"> </span><span style=\"color: #0000ff; text-decoration-color: #0000ff\">step</span>=<span style=\"color: #008080; text-decoration-color: #008080; font-weight: bold\">240</span> <span style=\"color: #0000ff; text-decoration-color: #0000ff\">loss</span>=<span style=\"color: #008080; text-decoration-color: #008080; font-weight: bold\">4.23777</span> <span style=\"color: #0000ff; text-decoration-color: #0000ff\">dt</span>=<span style=\"color: #008080; text-decoration-color: #008080; font-weight: bold\">0.0192277</span> <span style=\"color: #0000ff; text-decoration-color: #0000ff\">dtf</span>=<span style=\"color: #008080; text-decoration-color: #008080; font-weight: bold\">0.0188382</span> <span style=\"color: #0000ff; text-decoration-color: #0000ff\">dtb</span>=<span style=\"color: #008080; text-decoration-color: #008080; font-weight: bold\">0.000157416</span> <span style=\"color: #0000ff; text-decoration-color: #0000ff\">sps</span>=<span style=\"color: #008080; text-decoration-color: #008080; font-weight: bold\">52.0083</span> <span style=\"color: #0000ff; text-decoration-color: #0000ff\">sps_per_gpu</span>=<span style=\"color: #008080; text-decoration-color: #008080; font-weight: bold\">52.0083</span> <span style=\"color: #0000ff; text-decoration-color: #0000ff\">tps</span>=<span style=\"color: #008080; text-decoration-color: #008080; font-weight: bold\">6657.06</span> <span style=\"color: #0000ff; text-decoration-color: #0000ff\">tps_per_gpu</span>=<span style=\"color: #008080; text-decoration-color: #008080; font-weight: bold\">6657.06</span> <span style=\"color: #0000ff; text-decoration-color: #0000ff\">mfu</span>=<span style=\"color: #008080; text-decoration-color: #008080; font-weight: bold\">0.154859</span>\n",
              "</pre>"
            ]
          }
        },
        {
          "output_type": "display_data",
          "metadata": {},
          "data": {
            "text/html": [
              "<pre style=\"white-space:pre;overflow-x:auto;line-height:normal;font-family:Menlo,'DejaVu Sans Mono',consolas,'Courier New',monospace\">[<span style=\"color: #7f7f7f; text-decoration-color: #7f7f7f\">2025-07-22 22:24:25,035774</span>][<span style=\"color: #008000; text-decoration-color: #008000\">I</span>][<span style=\"color: #008080; text-decoration-color: #008080; font-style: italic\">wordplay</span>/<span style=\"color: #000080; text-decoration-color: #000080\">trainer</span><span style=\"color: #0000ff; text-decoration-color: #0000ff\">:</span><span style=\"color: #800080; text-decoration-color: #800080\">901</span>]<span style=\"color: #c0c0c0; text-decoration-color: #c0c0c0\"> </span><span style=\"color: #0000ff; text-decoration-color: #0000ff\">step</span>=<span style=\"color: #008080; text-decoration-color: #008080; font-weight: bold\">250</span> <span style=\"color: #0000ff; text-decoration-color: #0000ff\">loss</span>=<span style=\"color: #008080; text-decoration-color: #008080; font-weight: bold\">4.24408</span> <span style=\"color: #0000ff; text-decoration-color: #0000ff\">dt</span>=<span style=\"color: #008080; text-decoration-color: #008080; font-weight: bold\">0.0168276</span> <span style=\"color: #0000ff; text-decoration-color: #0000ff\">dtf</span>=<span style=\"color: #008080; text-decoration-color: #008080; font-weight: bold\">0.0165411</span> <span style=\"color: #0000ff; text-decoration-color: #0000ff\">dtb</span>=<span style=\"color: #008080; text-decoration-color: #008080; font-weight: bold\">0.000109041</span> <span style=\"color: #0000ff; text-decoration-color: #0000ff\">sps</span>=<span style=\"color: #008080; text-decoration-color: #008080; font-weight: bold\">59.4261</span> <span style=\"color: #0000ff; text-decoration-color: #0000ff\">sps_per_gpu</span>=<span style=\"color: #008080; text-decoration-color: #008080; font-weight: bold\">59.4261</span> <span style=\"color: #0000ff; text-decoration-color: #0000ff\">tps</span>=<span style=\"color: #008080; text-decoration-color: #008080; font-weight: bold\">7606.54</span> <span style=\"color: #0000ff; text-decoration-color: #0000ff\">tps_per_gpu</span>=<span style=\"color: #008080; text-decoration-color: #008080; font-weight: bold\">7606.54</span> <span style=\"color: #0000ff; text-decoration-color: #0000ff\">mfu</span>=<span style=\"color: #008080; text-decoration-color: #008080; font-weight: bold\">0.15581</span>\n",
              "</pre>"
            ]
          }
        },
        {
          "output_type": "display_data",
          "metadata": {},
          "data": {
            "text/html": [
              "<pre style=\"white-space:pre;overflow-x:auto;line-height:normal;font-family:Menlo,'DejaVu Sans Mono',consolas,'Courier New',monospace\">[<span style=\"color: #7f7f7f; text-decoration-color: #7f7f7f\">2025-07-22 22:24:26,814237</span>][<span style=\"color: #008000; text-decoration-color: #008000\">I</span>][<span style=\"color: #008080; text-decoration-color: #008080; font-style: italic\">wordplay</span>/<span style=\"color: #000080; text-decoration-color: #000080\">trainer</span><span style=\"color: #0000ff; text-decoration-color: #0000ff\">:</span><span style=\"color: #800080; text-decoration-color: #800080\">834</span>]<span style=\"color: #c0c0c0; text-decoration-color: #c0c0c0\"> </span><span style=\"color: #ff00ff; text-decoration-color: #ff00ff\">[</span><span style=\"color: #008000; text-decoration-color: #008000\">'prompt'</span><span style=\"color: #ff00ff; text-decoration-color: #ff00ff\">]</span>: <span style=\"color: #008000; text-decoration-color: #008000\">'What is an LLM?'</span>\n",
              "</pre>"
            ]
          }
        },
        {
          "output_type": "display_data",
          "metadata": {},
          "data": {
            "text/html": [
              "<pre style=\"white-space:pre;overflow-x:auto;line-height:normal;font-family:Menlo,'DejaVu Sans Mono',consolas,'Courier New',monospace\">[<span style=\"color: #7f7f7f; text-decoration-color: #7f7f7f\">2025-07-22 22:24:26,815118</span>][<span style=\"color: #008000; text-decoration-color: #008000\">I</span>][<span style=\"color: #008080; text-decoration-color: #008080; font-style: italic\">wordplay</span>/<span style=\"color: #000080; text-decoration-color: #000080\">trainer</span><span style=\"color: #0000ff; text-decoration-color: #0000ff\">:</span><span style=\"color: #800080; text-decoration-color: #800080\">838</span>]<span style=\"color: #c0c0c0; text-decoration-color: #c0c0c0\"> </span><span style=\"color: #ff00ff; text-decoration-color: #ff00ff\">[</span><span style=\"color: #008000; text-decoration-color: #008000\">'response'</span><span style=\"color: #ff00ff; text-decoration-color: #ff00ff\">]</span>:\n",
              "\n",
              "What is an LLM?.rooffAA rW,,aAA'GoA,aUVVcCoGhvZZcd.QEcNAgxvwYa'haccX.aqo?rrQQ;;QbZ <span style=\"color: #008000; text-decoration-color: #008000\">'''fc3FqqWk.'oceQ-h!?Yvs'rw--Qc'333-.hq3AwvvcLq','J-w'''</span>rhqWo--;hSQgSqq;?rqYygAA,asso;q33AA'rbv,J-fof'g'SJJ,;ttcqq;<span style=\"color: #008000; text-decoration-color: #008000\">'wgybqppaqttof;;;'''</span>qtqaJpuuYf;paeyfhqg'<span style=\"color: #008000; text-decoration-color: #008000\">'''qWWbwAA-bbQyg'</span>Sqqos''qYrM;a;??\n",
              "</pre>"
            ]
          }
        },
        {
          "output_type": "display_data",
          "metadata": {},
          "data": {
            "text/html": [
              "<pre style=\"white-space:pre;overflow-x:auto;line-height:normal;font-family:Menlo,'DejaVu Sans Mono',consolas,'Courier New',monospace\">[<span style=\"color: #7f7f7f; text-decoration-color: #7f7f7f\">2025-07-22 22:24:29,838153</span>][<span style=\"color: #008000; text-decoration-color: #008000\">I</span>][<span style=\"color: #008080; text-decoration-color: #008080; font-style: italic\">wordplay</span>/<span style=\"color: #000080; text-decoration-color: #000080\">trainer</span><span style=\"color: #0000ff; text-decoration-color: #0000ff\">:</span><span style=\"color: #800080; text-decoration-color: #800080\">769</span>]<span style=\"color: #c0c0c0; text-decoration-color: #c0c0c0\"> </span>Saving checkpoint to: <span style=\"color: #800080; text-decoration-color: #800080\">/Users/samforeman/projects/saforem2/intro-hpc-bootcamp-2025/content/02-llms/</span><span style=\"color: #ff00ff; text-decoration-color: #ff00ff\">7-shakespeare-example</span>\n",
              "</pre>"
            ]
          }
        },
        {
          "output_type": "display_data",
          "metadata": {},
          "data": {
            "text/html": [
              "<pre style=\"white-space:pre;overflow-x:auto;line-height:normal;font-family:Menlo,'DejaVu Sans Mono',consolas,'Courier New',monospace\">[<span style=\"color: #7f7f7f; text-decoration-color: #7f7f7f\">2025-07-22 22:24:29,839072</span>][<span style=\"color: #008000; text-decoration-color: #008000\">I</span>][<span style=\"color: #008080; text-decoration-color: #008080; font-style: italic\">wordplay</span>/<span style=\"color: #000080; text-decoration-color: #000080\">trainer</span><span style=\"color: #0000ff; text-decoration-color: #0000ff\">:</span><span style=\"color: #800080; text-decoration-color: #800080\">770</span>]<span style=\"color: #c0c0c0; text-decoration-color: #c0c0c0\"> </span>Saving model to: <span style=\"color: #800080; text-decoration-color: #800080\">/Users/samforeman/projects/saforem2/intro-hpc-bootcamp-2025/content/02-llms/7-shakespeare-example/</span><span style=\"color: #ff00ff; text-decoration-color: #ff00ff\">model.pth</span>\n",
              "</pre>"
            ]
          }
        },
        {
          "output_type": "display_data",
          "metadata": {},
          "data": {
            "text/html": [
              "<pre style=\"white-space:pre;overflow-x:auto;line-height:normal;font-family:Menlo,'DejaVu Sans Mono',consolas,'Courier New',monospace\">[<span style=\"color: #7f7f7f; text-decoration-color: #7f7f7f\">2025-07-22 22:24:29,904030</span>][<span style=\"color: #008000; text-decoration-color: #008000\">I</span>][<span style=\"color: #008080; text-decoration-color: #008080; font-style: italic\">wordplay</span>/<span style=\"color: #000080; text-decoration-color: #000080\">configs</span><span style=\"color: #0000ff; text-decoration-color: #0000ff\">:</span><span style=\"color: #800080; text-decoration-color: #800080\">141</span>]<span style=\"color: #c0c0c0; text-decoration-color: #c0c0c0\"> </span>Appending <span style=\"color: #800080; text-decoration-color: #800080\">/Users/samforeman/projects/saforem2/intro-hpc-bootcamp-2025/content/02-llms/</span><span style=\"color: #ff00ff; text-decoration-color: #ff00ff\">7-shakespeare-example</span> to <span style=\"color: #800080; text-decoration-color: #800080\">/Users/samforeman/projects/saforem2/wordplay/src/ckpts/</span><span style=\"color: #ff00ff; text-decoration-color: #ff00ff\">checkpoints.log</span>\n",
              "</pre>"
            ]
          }
        },
        {
          "output_type": "display_data",
          "metadata": {},
          "data": {
            "text/html": [
              "<pre style=\"white-space:pre;overflow-x:auto;line-height:normal;font-family:Menlo,'DejaVu Sans Mono',consolas,'Courier New',monospace\">[<span style=\"color: #7f7f7f; text-decoration-color: #7f7f7f\">2025-07-22 22:24:30,078383</span>][<span style=\"color: #008000; text-decoration-color: #008000\">I</span>][<span style=\"color: #008080; text-decoration-color: #008080; font-style: italic\">wordplay</span>/<span style=\"color: #000080; text-decoration-color: #000080\">trainer</span><span style=\"color: #0000ff; text-decoration-color: #0000ff\">:</span><span style=\"color: #800080; text-decoration-color: #800080\">901</span>]<span style=\"color: #c0c0c0; text-decoration-color: #c0c0c0\"> </span><span style=\"color: #0000ff; text-decoration-color: #0000ff\">step</span>=<span style=\"color: #008080; text-decoration-color: #008080; font-weight: bold\">260</span> <span style=\"color: #0000ff; text-decoration-color: #0000ff\">loss</span>=<span style=\"color: #008080; text-decoration-color: #008080; font-weight: bold\">4.2759</span> <span style=\"color: #0000ff; text-decoration-color: #0000ff\">dt</span>=<span style=\"color: #008080; text-decoration-color: #008080; font-weight: bold\">0.0178485</span> <span style=\"color: #0000ff; text-decoration-color: #0000ff\">dtf</span>=<span style=\"color: #008080; text-decoration-color: #008080; font-weight: bold\">0.0176005</span> <span style=\"color: #0000ff; text-decoration-color: #0000ff\">dtb</span>=<span style=\"color: #008080; text-decoration-color: #008080; font-weight: bold\">0.000110666</span> <span style=\"color: #0000ff; text-decoration-color: #0000ff\">sps</span>=<span style=\"color: #008080; text-decoration-color: #008080; font-weight: bold\">56.0272</span> <span style=\"color: #0000ff; text-decoration-color: #0000ff\">sps_per_gpu</span>=<span style=\"color: #008080; text-decoration-color: #008080; font-weight: bold\">56.0272</span> <span style=\"color: #0000ff; text-decoration-color: #0000ff\">tps</span>=<span style=\"color: #008080; text-decoration-color: #008080; font-weight: bold\">7171.49</span> <span style=\"color: #0000ff; text-decoration-color: #0000ff\">tps_per_gpu</span>=<span style=\"color: #008080; text-decoration-color: #008080; font-weight: bold\">7171.49</span> <span style=\"color: #0000ff; text-decoration-color: #0000ff\">mfu</span>=<span style=\"color: #008080; text-decoration-color: #008080; font-weight: bold\">0.155726</span>\n",
              "</pre>"
            ]
          }
        },
        {
          "output_type": "display_data",
          "metadata": {},
          "data": {
            "text/html": [
              "<pre style=\"white-space:pre;overflow-x:auto;line-height:normal;font-family:Menlo,'DejaVu Sans Mono',consolas,'Courier New',monospace\">[<span style=\"color: #7f7f7f; text-decoration-color: #7f7f7f\">2025-07-22 22:24:30,257095</span>][<span style=\"color: #008000; text-decoration-color: #008000\">I</span>][<span style=\"color: #008080; text-decoration-color: #008080; font-style: italic\">wordplay</span>/<span style=\"color: #000080; text-decoration-color: #000080\">trainer</span><span style=\"color: #0000ff; text-decoration-color: #0000ff\">:</span><span style=\"color: #800080; text-decoration-color: #800080\">901</span>]<span style=\"color: #c0c0c0; text-decoration-color: #c0c0c0\"> </span><span style=\"color: #0000ff; text-decoration-color: #0000ff\">step</span>=<span style=\"color: #008080; text-decoration-color: #008080; font-weight: bold\">270</span> <span style=\"color: #0000ff; text-decoration-color: #0000ff\">loss</span>=<span style=\"color: #008080; text-decoration-color: #008080; font-weight: bold\">4.31702</span> <span style=\"color: #0000ff; text-decoration-color: #0000ff\">dt</span>=<span style=\"color: #008080; text-decoration-color: #008080; font-weight: bold\">0.017734</span> <span style=\"color: #0000ff; text-decoration-color: #0000ff\">dtf</span>=<span style=\"color: #008080; text-decoration-color: #008080; font-weight: bold\">0.0174922</span> <span style=\"color: #0000ff; text-decoration-color: #0000ff\">dtb</span>=<span style=\"color: #008080; text-decoration-color: #008080; font-weight: bold\">0.00010375</span> <span style=\"color: #0000ff; text-decoration-color: #0000ff\">sps</span>=<span style=\"color: #008080; text-decoration-color: #008080; font-weight: bold\">56.3887</span> <span style=\"color: #0000ff; text-decoration-color: #0000ff\">sps_per_gpu</span>=<span style=\"color: #008080; text-decoration-color: #008080; font-weight: bold\">56.3887</span> <span style=\"color: #0000ff; text-decoration-color: #0000ff\">tps</span>=<span style=\"color: #008080; text-decoration-color: #008080; font-weight: bold\">7217.76</span> <span style=\"color: #0000ff; text-decoration-color: #0000ff\">tps_per_gpu</span>=<span style=\"color: #008080; text-decoration-color: #008080; font-weight: bold\">7217.76</span> <span style=\"color: #0000ff; text-decoration-color: #0000ff\">mfu</span>=<span style=\"color: #008080; text-decoration-color: #008080; font-weight: bold\">0.15575</span>\n",
              "</pre>"
            ]
          }
        },
        {
          "output_type": "display_data",
          "metadata": {},
          "data": {
            "text/html": [
              "<pre style=\"white-space:pre;overflow-x:auto;line-height:normal;font-family:Menlo,'DejaVu Sans Mono',consolas,'Courier New',monospace\">[<span style=\"color: #7f7f7f; text-decoration-color: #7f7f7f\">2025-07-22 22:24:30,430339</span>][<span style=\"color: #008000; text-decoration-color: #008000\">I</span>][<span style=\"color: #008080; text-decoration-color: #008080; font-style: italic\">wordplay</span>/<span style=\"color: #000080; text-decoration-color: #000080\">trainer</span><span style=\"color: #0000ff; text-decoration-color: #0000ff\">:</span><span style=\"color: #800080; text-decoration-color: #800080\">901</span>]<span style=\"color: #c0c0c0; text-decoration-color: #c0c0c0\"> </span><span style=\"color: #0000ff; text-decoration-color: #0000ff\">step</span>=<span style=\"color: #008080; text-decoration-color: #008080; font-weight: bold\">280</span> <span style=\"color: #0000ff; text-decoration-color: #0000ff\">loss</span>=<span style=\"color: #008080; text-decoration-color: #008080; font-weight: bold\">4.20612</span> <span style=\"color: #0000ff; text-decoration-color: #0000ff\">dt</span>=<span style=\"color: #008080; text-decoration-color: #008080; font-weight: bold\">0.0163031</span> <span style=\"color: #0000ff; text-decoration-color: #0000ff\">dtf</span>=<span style=\"color: #008080; text-decoration-color: #008080; font-weight: bold\">0.0160545</span> <span style=\"color: #0000ff; text-decoration-color: #0000ff\">dtb</span>=<span style=\"color: #008080; text-decoration-color: #008080; font-weight: bold\">9.82911e-05</span> <span style=\"color: #0000ff; text-decoration-color: #0000ff\">sps</span>=<span style=\"color: #008080; text-decoration-color: #008080; font-weight: bold\">61.3379</span> <span style=\"color: #0000ff; text-decoration-color: #0000ff\">sps_per_gpu</span>=<span style=\"color: #008080; text-decoration-color: #008080; font-weight: bold\">61.3379</span> <span style=\"color: #0000ff; text-decoration-color: #0000ff\">tps</span>=<span style=\"color: #008080; text-decoration-color: #008080; font-weight: bold\">7851.26</span> <span style=\"color: #0000ff; text-decoration-color: #0000ff\">tps_per_gpu</span>=<span style=\"color: #008080; text-decoration-color: #008080; font-weight: bold\">7851.26</span> <span style=\"color: #0000ff; text-decoration-color: #0000ff\">mfu</span>=<span style=\"color: #008080; text-decoration-color: #008080; font-weight: bold\">0.157141</span>\n",
              "</pre>"
            ]
          }
        },
        {
          "output_type": "display_data",
          "metadata": {},
          "data": {
            "text/html": [
              "<pre style=\"white-space:pre;overflow-x:auto;line-height:normal;font-family:Menlo,'DejaVu Sans Mono',consolas,'Courier New',monospace\">[<span style=\"color: #7f7f7f; text-decoration-color: #7f7f7f\">2025-07-22 22:24:30,614760</span>][<span style=\"color: #008000; text-decoration-color: #008000\">I</span>][<span style=\"color: #008080; text-decoration-color: #008080; font-style: italic\">wordplay</span>/<span style=\"color: #000080; text-decoration-color: #000080\">trainer</span><span style=\"color: #0000ff; text-decoration-color: #0000ff\">:</span><span style=\"color: #800080; text-decoration-color: #800080\">901</span>]<span style=\"color: #c0c0c0; text-decoration-color: #c0c0c0\"> </span><span style=\"color: #0000ff; text-decoration-color: #0000ff\">step</span>=<span style=\"color: #008080; text-decoration-color: #008080; font-weight: bold\">290</span> <span style=\"color: #0000ff; text-decoration-color: #0000ff\">loss</span>=<span style=\"color: #008080; text-decoration-color: #008080; font-weight: bold\">4.22943</span> <span style=\"color: #0000ff; text-decoration-color: #0000ff\">dt</span>=<span style=\"color: #008080; text-decoration-color: #008080; font-weight: bold\">0.0188618</span> <span style=\"color: #0000ff; text-decoration-color: #0000ff\">dtf</span>=<span style=\"color: #008080; text-decoration-color: #008080; font-weight: bold\">0.0186117</span> <span style=\"color: #0000ff; text-decoration-color: #0000ff\">dtb</span>=<span style=\"color: #008080; text-decoration-color: #008080; font-weight: bold\">0.000108042</span> <span style=\"color: #0000ff; text-decoration-color: #0000ff\">sps</span>=<span style=\"color: #008080; text-decoration-color: #008080; font-weight: bold\">53.0171</span> <span style=\"color: #0000ff; text-decoration-color: #0000ff\">sps_per_gpu</span>=<span style=\"color: #008080; text-decoration-color: #008080; font-weight: bold\">53.0171</span> <span style=\"color: #0000ff; text-decoration-color: #0000ff\">tps</span>=<span style=\"color: #008080; text-decoration-color: #008080; font-weight: bold\">6786.19</span> <span style=\"color: #0000ff; text-decoration-color: #0000ff\">tps_per_gpu</span>=<span style=\"color: #008080; text-decoration-color: #008080; font-weight: bold\">6786.19</span> <span style=\"color: #0000ff; text-decoration-color: #0000ff\">mfu</span>=<span style=\"color: #008080; text-decoration-color: #008080; font-weight: bold\">0.156091</span>\n",
              "</pre>"
            ]
          }
        },
        {
          "output_type": "display_data",
          "metadata": {},
          "data": {
            "text/html": [
              "<pre style=\"white-space:pre;overflow-x:auto;line-height:normal;font-family:Menlo,'DejaVu Sans Mono',consolas,'Courier New',monospace\">[<span style=\"color: #7f7f7f; text-decoration-color: #7f7f7f\">2025-07-22 22:24:30,816403</span>][<span style=\"color: #008000; text-decoration-color: #008000\">I</span>][<span style=\"color: #008080; text-decoration-color: #008080; font-style: italic\">wordplay</span>/<span style=\"color: #000080; text-decoration-color: #000080\">trainer</span><span style=\"color: #0000ff; text-decoration-color: #0000ff\">:</span><span style=\"color: #800080; text-decoration-color: #800080\">901</span>]<span style=\"color: #c0c0c0; text-decoration-color: #c0c0c0\"> </span><span style=\"color: #0000ff; text-decoration-color: #0000ff\">step</span>=<span style=\"color: #008080; text-decoration-color: #008080; font-weight: bold\">300</span> <span style=\"color: #0000ff; text-decoration-color: #0000ff\">loss</span>=<span style=\"color: #008080; text-decoration-color: #008080; font-weight: bold\">4.11928</span> <span style=\"color: #0000ff; text-decoration-color: #0000ff\">dt</span>=<span style=\"color: #008080; text-decoration-color: #008080; font-weight: bold\">0.0204833</span> <span style=\"color: #0000ff; text-decoration-color: #0000ff\">dtf</span>=<span style=\"color: #008080; text-decoration-color: #008080; font-weight: bold\">0.020202</span> <span style=\"color: #0000ff; text-decoration-color: #0000ff\">dtb</span>=<span style=\"color: #008080; text-decoration-color: #008080; font-weight: bold\">0.000112917</span> <span style=\"color: #0000ff; text-decoration-color: #0000ff\">sps</span>=<span style=\"color: #008080; text-decoration-color: #008080; font-weight: bold\">48.8202</span> <span style=\"color: #0000ff; text-decoration-color: #0000ff\">sps_per_gpu</span>=<span style=\"color: #008080; text-decoration-color: #008080; font-weight: bold\">48.8202</span> <span style=\"color: #0000ff; text-decoration-color: #0000ff\">tps</span>=<span style=\"color: #008080; text-decoration-color: #008080; font-weight: bold\">6248.98</span> <span style=\"color: #0000ff; text-decoration-color: #0000ff\">tps_per_gpu</span>=<span style=\"color: #008080; text-decoration-color: #008080; font-weight: bold\">6248.98</span> <span style=\"color: #0000ff; text-decoration-color: #0000ff\">mfu</span>=<span style=\"color: #008080; text-decoration-color: #008080; font-weight: bold\">0.153985</span>\n",
              "</pre>"
            ]
          }
        },
        {
          "output_type": "display_data",
          "metadata": {},
          "data": {
            "text/html": [
              "<pre style=\"white-space:pre;overflow-x:auto;line-height:normal;font-family:Menlo,'DejaVu Sans Mono',consolas,'Courier New',monospace\">[<span style=\"color: #7f7f7f; text-decoration-color: #7f7f7f\">2025-07-22 22:24:32,456692</span>][<span style=\"color: #008000; text-decoration-color: #008000\">I</span>][<span style=\"color: #008080; text-decoration-color: #008080; font-style: italic\">wordplay</span>/<span style=\"color: #000080; text-decoration-color: #000080\">trainer</span><span style=\"color: #0000ff; text-decoration-color: #0000ff\">:</span><span style=\"color: #800080; text-decoration-color: #800080\">834</span>]<span style=\"color: #c0c0c0; text-decoration-color: #c0c0c0\"> </span><span style=\"color: #ff00ff; text-decoration-color: #ff00ff\">[</span><span style=\"color: #008000; text-decoration-color: #008000\">'prompt'</span><span style=\"color: #ff00ff; text-decoration-color: #ff00ff\">]</span>: <span style=\"color: #008000; text-decoration-color: #008000\">'What is an LLM?'</span>\n",
              "</pre>"
            ]
          }
        },
        {
          "output_type": "display_data",
          "metadata": {},
          "data": {
            "text/html": [
              "<pre style=\"white-space:pre;overflow-x:auto;line-height:normal;font-family:Menlo,'DejaVu Sans Mono',consolas,'Courier New',monospace\">[<span style=\"color: #7f7f7f; text-decoration-color: #7f7f7f\">2025-07-22 22:24:32,457561</span>][<span style=\"color: #008000; text-decoration-color: #008000\">I</span>][<span style=\"color: #008080; text-decoration-color: #008080; font-style: italic\">wordplay</span>/<span style=\"color: #000080; text-decoration-color: #000080\">trainer</span><span style=\"color: #0000ff; text-decoration-color: #0000ff\">:</span><span style=\"color: #800080; text-decoration-color: #800080\">838</span>]<span style=\"color: #c0c0c0; text-decoration-color: #c0c0c0\"> </span><span style=\"color: #ff00ff; text-decoration-color: #ff00ff\">[</span><span style=\"color: #008000; text-decoration-color: #008000\">'response'</span><span style=\"color: #ff00ff; text-decoration-color: #ff00ff\">]</span>:\n",
              "\n",
              "What is an LLM?L3slghC33vfJQO-eBBBv.Y.Sffs,<span style=\"color: #008000; text-decoration-color: #008000\">'gxEUAUCQeswPv,ettLWClrrqeZAtLA.''3NsG..''.sAAmebbqYrv'</span>'-\n",
              "hTkcxhqqVUvvvfv,lxxlAc..3Zpq'<span style=\"color: #008000; text-decoration-color: #008000\">'Qsk'</span>st;xlneQssssxS;<span style=\"color: #008000; text-decoration-color: #008000\">'tt;cb;??rSQ'</span>k--<span style=\"color: #008000; text-decoration-color: #008000\">'t::qqnpYbc;nn;WWqqexSe''ftMqYYttttook;;pgSQQcLgycA;;qqbb''aakqrAAk.h''gYbcLLoopqs:sSSAgZQtiAA.'</span>MMsWllpMt\n",
              "</pre>"
            ]
          }
        },
        {
          "output_type": "display_data",
          "metadata": {},
          "data": {
            "text/html": [
              "<pre style=\"white-space:pre;overflow-x:auto;line-height:normal;font-family:Menlo,'DejaVu Sans Mono',consolas,'Courier New',monospace\">[<span style=\"color: #7f7f7f; text-decoration-color: #7f7f7f\">2025-07-22 22:24:35,376098</span>][<span style=\"color: #008000; text-decoration-color: #008000\">I</span>][<span style=\"color: #008080; text-decoration-color: #008080; font-style: italic\">wordplay</span>/<span style=\"color: #000080; text-decoration-color: #000080\">trainer</span><span style=\"color: #0000ff; text-decoration-color: #0000ff\">:</span><span style=\"color: #800080; text-decoration-color: #800080\">769</span>]<span style=\"color: #c0c0c0; text-decoration-color: #c0c0c0\"> </span>Saving checkpoint to: <span style=\"color: #800080; text-decoration-color: #800080\">/Users/samforeman/projects/saforem2/intro-hpc-bootcamp-2025/content/02-llms/</span><span style=\"color: #ff00ff; text-decoration-color: #ff00ff\">7-shakespeare-example</span>\n",
              "</pre>"
            ]
          }
        },
        {
          "output_type": "display_data",
          "metadata": {},
          "data": {
            "text/html": [
              "<pre style=\"white-space:pre;overflow-x:auto;line-height:normal;font-family:Menlo,'DejaVu Sans Mono',consolas,'Courier New',monospace\">[<span style=\"color: #7f7f7f; text-decoration-color: #7f7f7f\">2025-07-22 22:24:35,377148</span>][<span style=\"color: #008000; text-decoration-color: #008000\">I</span>][<span style=\"color: #008080; text-decoration-color: #008080; font-style: italic\">wordplay</span>/<span style=\"color: #000080; text-decoration-color: #000080\">trainer</span><span style=\"color: #0000ff; text-decoration-color: #0000ff\">:</span><span style=\"color: #800080; text-decoration-color: #800080\">770</span>]<span style=\"color: #c0c0c0; text-decoration-color: #c0c0c0\"> </span>Saving model to: <span style=\"color: #800080; text-decoration-color: #800080\">/Users/samforeman/projects/saforem2/intro-hpc-bootcamp-2025/content/02-llms/7-shakespeare-example/</span><span style=\"color: #ff00ff; text-decoration-color: #ff00ff\">model.pth</span>\n",
              "</pre>"
            ]
          }
        },
        {
          "output_type": "display_data",
          "metadata": {},
          "data": {
            "text/html": [
              "<pre style=\"white-space:pre;overflow-x:auto;line-height:normal;font-family:Menlo,'DejaVu Sans Mono',consolas,'Courier New',monospace\">[<span style=\"color: #7f7f7f; text-decoration-color: #7f7f7f\">2025-07-22 22:24:35,496658</span>][<span style=\"color: #008000; text-decoration-color: #008000\">I</span>][<span style=\"color: #008080; text-decoration-color: #008080; font-style: italic\">wordplay</span>/<span style=\"color: #000080; text-decoration-color: #000080\">configs</span><span style=\"color: #0000ff; text-decoration-color: #0000ff\">:</span><span style=\"color: #800080; text-decoration-color: #800080\">141</span>]<span style=\"color: #c0c0c0; text-decoration-color: #c0c0c0\"> </span>Appending <span style=\"color: #800080; text-decoration-color: #800080\">/Users/samforeman/projects/saforem2/intro-hpc-bootcamp-2025/content/02-llms/</span><span style=\"color: #ff00ff; text-decoration-color: #ff00ff\">7-shakespeare-example</span> to <span style=\"color: #800080; text-decoration-color: #800080\">/Users/samforeman/projects/saforem2/wordplay/src/ckpts/</span><span style=\"color: #ff00ff; text-decoration-color: #ff00ff\">checkpoints.log</span>\n",
              "</pre>"
            ]
          }
        },
        {
          "output_type": "display_data",
          "metadata": {},
          "data": {
            "text/html": [
              "<pre style=\"white-space:pre;overflow-x:auto;line-height:normal;font-family:Menlo,'DejaVu Sans Mono',consolas,'Courier New',monospace\">[<span style=\"color: #7f7f7f; text-decoration-color: #7f7f7f\">2025-07-22 22:24:35,702890</span>][<span style=\"color: #008000; text-decoration-color: #008000\">I</span>][<span style=\"color: #008080; text-decoration-color: #008080; font-style: italic\">wordplay</span>/<span style=\"color: #000080; text-decoration-color: #000080\">trainer</span><span style=\"color: #0000ff; text-decoration-color: #0000ff\">:</span><span style=\"color: #800080; text-decoration-color: #800080\">901</span>]<span style=\"color: #c0c0c0; text-decoration-color: #c0c0c0\"> </span><span style=\"color: #0000ff; text-decoration-color: #0000ff\">step</span>=<span style=\"color: #008080; text-decoration-color: #008080; font-weight: bold\">310</span> <span style=\"color: #0000ff; text-decoration-color: #0000ff\">loss</span>=<span style=\"color: #008080; text-decoration-color: #008080; font-weight: bold\">4.23252</span> <span style=\"color: #0000ff; text-decoration-color: #0000ff\">dt</span>=<span style=\"color: #008080; text-decoration-color: #008080; font-weight: bold\">0.0221911</span> <span style=\"color: #0000ff; text-decoration-color: #0000ff\">dtf</span>=<span style=\"color: #008080; text-decoration-color: #008080; font-weight: bold\">0.0218211</span> <span style=\"color: #0000ff; text-decoration-color: #0000ff\">dtb</span>=<span style=\"color: #008080; text-decoration-color: #008080; font-weight: bold\">0.00014125</span> <span style=\"color: #0000ff; text-decoration-color: #0000ff\">sps</span>=<span style=\"color: #008080; text-decoration-color: #008080; font-weight: bold\">45.0631</span> <span style=\"color: #0000ff; text-decoration-color: #0000ff\">sps_per_gpu</span>=<span style=\"color: #008080; text-decoration-color: #008080; font-weight: bold\">45.0631</span> <span style=\"color: #0000ff; text-decoration-color: #0000ff\">tps</span>=<span style=\"color: #008080; text-decoration-color: #008080; font-weight: bold\">5768.07</span> <span style=\"color: #0000ff; text-decoration-color: #0000ff\">tps_per_gpu</span>=<span style=\"color: #008080; text-decoration-color: #008080; font-weight: bold\">5768.07</span> <span style=\"color: #0000ff; text-decoration-color: #0000ff\">mfu</span>=<span style=\"color: #008080; text-decoration-color: #008080; font-weight: bold\">0.151051</span>\n",
              "</pre>"
            ]
          }
        },
        {
          "output_type": "display_data",
          "metadata": {},
          "data": {
            "text/html": [
              "<pre style=\"white-space:pre;overflow-x:auto;line-height:normal;font-family:Menlo,'DejaVu Sans Mono',consolas,'Courier New',monospace\">[<span style=\"color: #7f7f7f; text-decoration-color: #7f7f7f\">2025-07-22 22:24:35,923020</span>][<span style=\"color: #008000; text-decoration-color: #008000\">I</span>][<span style=\"color: #008080; text-decoration-color: #008080; font-style: italic\">wordplay</span>/<span style=\"color: #000080; text-decoration-color: #000080\">trainer</span><span style=\"color: #0000ff; text-decoration-color: #0000ff\">:</span><span style=\"color: #800080; text-decoration-color: #800080\">901</span>]<span style=\"color: #c0c0c0; text-decoration-color: #c0c0c0\"> </span><span style=\"color: #0000ff; text-decoration-color: #0000ff\">step</span>=<span style=\"color: #008080; text-decoration-color: #008080; font-weight: bold\">320</span> <span style=\"color: #0000ff; text-decoration-color: #0000ff\">loss</span>=<span style=\"color: #008080; text-decoration-color: #008080; font-weight: bold\">4.23608</span> <span style=\"color: #0000ff; text-decoration-color: #0000ff\">dt</span>=<span style=\"color: #008080; text-decoration-color: #008080; font-weight: bold\">0.0224134</span> <span style=\"color: #0000ff; text-decoration-color: #0000ff\">dtf</span>=<span style=\"color: #008080; text-decoration-color: #008080; font-weight: bold\">0.0215844</span> <span style=\"color: #0000ff; text-decoration-color: #0000ff\">dtb</span>=<span style=\"color: #008080; text-decoration-color: #008080; font-weight: bold\">0.000171417</span> <span style=\"color: #0000ff; text-decoration-color: #0000ff\">sps</span>=<span style=\"color: #008080; text-decoration-color: #008080; font-weight: bold\">44.6161</span> <span style=\"color: #0000ff; text-decoration-color: #0000ff\">sps_per_gpu</span>=<span style=\"color: #008080; text-decoration-color: #008080; font-weight: bold\">44.6161</span> <span style=\"color: #0000ff; text-decoration-color: #0000ff\">tps</span>=<span style=\"color: #008080; text-decoration-color: #008080; font-weight: bold\">5710.87</span> <span style=\"color: #0000ff; text-decoration-color: #0000ff\">tps_per_gpu</span>=<span style=\"color: #008080; text-decoration-color: #008080; font-weight: bold\">5710.87</span> <span style=\"color: #0000ff; text-decoration-color: #0000ff\">mfu</span>=<span style=\"color: #008080; text-decoration-color: #008080; font-weight: bold\">0.148286</span>\n",
              "</pre>"
            ]
          }
        },
        {
          "output_type": "display_data",
          "metadata": {},
          "data": {
            "text/html": [
              "<pre style=\"white-space:pre;overflow-x:auto;line-height:normal;font-family:Menlo,'DejaVu Sans Mono',consolas,'Courier New',monospace\">[<span style=\"color: #7f7f7f; text-decoration-color: #7f7f7f\">2025-07-22 22:24:36,123698</span>][<span style=\"color: #008000; text-decoration-color: #008000\">I</span>][<span style=\"color: #008080; text-decoration-color: #008080; font-style: italic\">wordplay</span>/<span style=\"color: #000080; text-decoration-color: #000080\">trainer</span><span style=\"color: #0000ff; text-decoration-color: #0000ff\">:</span><span style=\"color: #800080; text-decoration-color: #800080\">901</span>]<span style=\"color: #c0c0c0; text-decoration-color: #c0c0c0\"> </span><span style=\"color: #0000ff; text-decoration-color: #0000ff\">step</span>=<span style=\"color: #008080; text-decoration-color: #008080; font-weight: bold\">330</span> <span style=\"color: #0000ff; text-decoration-color: #0000ff\">loss</span>=<span style=\"color: #008080; text-decoration-color: #008080; font-weight: bold\">4.25042</span> <span style=\"color: #0000ff; text-decoration-color: #0000ff\">dt</span>=<span style=\"color: #008080; text-decoration-color: #008080; font-weight: bold\">0.0205738</span> <span style=\"color: #0000ff; text-decoration-color: #0000ff\">dtf</span>=<span style=\"color: #008080; text-decoration-color: #008080; font-weight: bold\">0.0201584</span> <span style=\"color: #0000ff; text-decoration-color: #0000ff\">dtb</span>=<span style=\"color: #008080; text-decoration-color: #008080; font-weight: bold\">0.000166459</span> <span style=\"color: #0000ff; text-decoration-color: #0000ff\">sps</span>=<span style=\"color: #008080; text-decoration-color: #008080; font-weight: bold\">48.6054</span> <span style=\"color: #0000ff; text-decoration-color: #0000ff\">sps_per_gpu</span>=<span style=\"color: #008080; text-decoration-color: #008080; font-weight: bold\">48.6054</span> <span style=\"color: #0000ff; text-decoration-color: #0000ff\">tps</span>=<span style=\"color: #008080; text-decoration-color: #008080; font-weight: bold\">6221.5</span> <span style=\"color: #0000ff; text-decoration-color: #0000ff\">tps_per_gpu</span>=<span style=\"color: #008080; text-decoration-color: #008080; font-weight: bold\">6221.5</span> <span style=\"color: #0000ff; text-decoration-color: #0000ff\">mfu</span>=<span style=\"color: #008080; text-decoration-color: #008080; font-weight: bold\">0.146902</span>\n",
              "</pre>"
            ]
          }
        },
        {
          "output_type": "display_data",
          "metadata": {},
          "data": {
            "text/html": [
              "<pre style=\"white-space:pre;overflow-x:auto;line-height:normal;font-family:Menlo,'DejaVu Sans Mono',consolas,'Courier New',monospace\">[<span style=\"color: #7f7f7f; text-decoration-color: #7f7f7f\">2025-07-22 22:24:36,341167</span>][<span style=\"color: #008000; text-decoration-color: #008000\">I</span>][<span style=\"color: #008080; text-decoration-color: #008080; font-style: italic\">wordplay</span>/<span style=\"color: #000080; text-decoration-color: #000080\">trainer</span><span style=\"color: #0000ff; text-decoration-color: #0000ff\">:</span><span style=\"color: #800080; text-decoration-color: #800080\">901</span>]<span style=\"color: #c0c0c0; text-decoration-color: #c0c0c0\"> </span><span style=\"color: #0000ff; text-decoration-color: #0000ff\">step</span>=<span style=\"color: #008080; text-decoration-color: #008080; font-weight: bold\">340</span> <span style=\"color: #0000ff; text-decoration-color: #0000ff\">loss</span>=<span style=\"color: #008080; text-decoration-color: #008080; font-weight: bold\">4.19956</span> <span style=\"color: #0000ff; text-decoration-color: #0000ff\">dt</span>=<span style=\"color: #008080; text-decoration-color: #008080; font-weight: bold\">0.0207907</span> <span style=\"color: #0000ff; text-decoration-color: #0000ff\">dtf</span>=<span style=\"color: #008080; text-decoration-color: #008080; font-weight: bold\">0.0204515</span> <span style=\"color: #0000ff; text-decoration-color: #0000ff\">dtb</span>=<span style=\"color: #008080; text-decoration-color: #008080; font-weight: bold\">0.000130791</span> <span style=\"color: #0000ff; text-decoration-color: #0000ff\">sps</span>=<span style=\"color: #008080; text-decoration-color: #008080; font-weight: bold\">48.0983</span> <span style=\"color: #0000ff; text-decoration-color: #0000ff\">sps_per_gpu</span>=<span style=\"color: #008080; text-decoration-color: #008080; font-weight: bold\">48.0983</span> <span style=\"color: #0000ff; text-decoration-color: #0000ff\">tps</span>=<span style=\"color: #008080; text-decoration-color: #008080; font-weight: bold\">6156.58</span> <span style=\"color: #0000ff; text-decoration-color: #0000ff\">tps_per_gpu</span>=<span style=\"color: #008080; text-decoration-color: #008080; font-weight: bold\">6156.58</span> <span style=\"color: #0000ff; text-decoration-color: #0000ff\">mfu</span>=<span style=\"color: #008080; text-decoration-color: #008080; font-weight: bold\">0.145515</span>\n",
              "</pre>"
            ]
          }
        },
        {
          "output_type": "display_data",
          "metadata": {},
          "data": {
            "text/html": [
              "<pre style=\"white-space:pre;overflow-x:auto;line-height:normal;font-family:Menlo,'DejaVu Sans Mono',consolas,'Courier New',monospace\">[<span style=\"color: #7f7f7f; text-decoration-color: #7f7f7f\">2025-07-22 22:24:36,544047</span>][<span style=\"color: #008000; text-decoration-color: #008000\">I</span>][<span style=\"color: #008080; text-decoration-color: #008080; font-style: italic\">wordplay</span>/<span style=\"color: #000080; text-decoration-color: #000080\">trainer</span><span style=\"color: #0000ff; text-decoration-color: #0000ff\">:</span><span style=\"color: #800080; text-decoration-color: #800080\">901</span>]<span style=\"color: #c0c0c0; text-decoration-color: #c0c0c0\"> </span><span style=\"color: #0000ff; text-decoration-color: #0000ff\">step</span>=<span style=\"color: #008080; text-decoration-color: #008080; font-weight: bold\">350</span> <span style=\"color: #0000ff; text-decoration-color: #0000ff\">loss</span>=<span style=\"color: #008080; text-decoration-color: #008080; font-weight: bold\">4.2746</span> <span style=\"color: #0000ff; text-decoration-color: #0000ff\">dt</span>=<span style=\"color: #008080; text-decoration-color: #008080; font-weight: bold\">0.0194577</span> <span style=\"color: #0000ff; text-decoration-color: #0000ff\">dtf</span>=<span style=\"color: #008080; text-decoration-color: #008080; font-weight: bold\">0.0190599</span> <span style=\"color: #0000ff; text-decoration-color: #0000ff\">dtb</span>=<span style=\"color: #008080; text-decoration-color: #008080; font-weight: bold\">0.000151334</span> <span style=\"color: #0000ff; text-decoration-color: #0000ff\">sps</span>=<span style=\"color: #008080; text-decoration-color: #008080; font-weight: bold\">51.3936</span> <span style=\"color: #0000ff; text-decoration-color: #0000ff\">sps_per_gpu</span>=<span style=\"color: #008080; text-decoration-color: #008080; font-weight: bold\">51.3936</span> <span style=\"color: #0000ff; text-decoration-color: #0000ff\">tps</span>=<span style=\"color: #008080; text-decoration-color: #008080; font-weight: bold\">6578.38</span> <span style=\"color: #0000ff; text-decoration-color: #0000ff\">tps_per_gpu</span>=<span style=\"color: #008080; text-decoration-color: #008080; font-weight: bold\">6578.38</span> <span style=\"color: #0000ff; text-decoration-color: #0000ff\">mfu</span>=<span style=\"color: #008080; text-decoration-color: #008080; font-weight: bold\">0.145179</span>\n",
              "</pre>"
            ]
          }
        },
        {
          "output_type": "display_data",
          "metadata": {},
          "data": {
            "text/html": [
              "<pre style=\"white-space:pre;overflow-x:auto;line-height:normal;font-family:Menlo,'DejaVu Sans Mono',consolas,'Courier New',monospace\">[<span style=\"color: #7f7f7f; text-decoration-color: #7f7f7f\">2025-07-22 22:24:38,303526</span>][<span style=\"color: #008000; text-decoration-color: #008000\">I</span>][<span style=\"color: #008080; text-decoration-color: #008080; font-style: italic\">wordplay</span>/<span style=\"color: #000080; text-decoration-color: #000080\">trainer</span><span style=\"color: #0000ff; text-decoration-color: #0000ff\">:</span><span style=\"color: #800080; text-decoration-color: #800080\">834</span>]<span style=\"color: #c0c0c0; text-decoration-color: #c0c0c0\"> </span><span style=\"color: #ff00ff; text-decoration-color: #ff00ff\">[</span><span style=\"color: #008000; text-decoration-color: #008000\">'prompt'</span><span style=\"color: #ff00ff; text-decoration-color: #ff00ff\">]</span>: <span style=\"color: #008000; text-decoration-color: #008000\">'What is an LLM?'</span>\n",
              "</pre>"
            ]
          }
        },
        {
          "output_type": "display_data",
          "metadata": {},
          "data": {
            "text/html": [
              "<pre style=\"white-space:pre;overflow-x:auto;line-height:normal;font-family:Menlo,'DejaVu Sans Mono',consolas,'Courier New',monospace\">[<span style=\"color: #7f7f7f; text-decoration-color: #7f7f7f\">2025-07-22 22:24:38,304497</span>][<span style=\"color: #008000; text-decoration-color: #008000\">I</span>][<span style=\"color: #008080; text-decoration-color: #008080; font-style: italic\">wordplay</span>/<span style=\"color: #000080; text-decoration-color: #000080\">trainer</span><span style=\"color: #0000ff; text-decoration-color: #0000ff\">:</span><span style=\"color: #800080; text-decoration-color: #800080\">838</span>]<span style=\"color: #c0c0c0; text-decoration-color: #c0c0c0\"> </span><span style=\"color: #ff00ff; text-decoration-color: #ff00ff\">[</span><span style=\"color: #008000; text-decoration-color: #008000\">'response'</span><span style=\"color: #ff00ff; text-decoration-color: #ff00ff\">]</span>:\n",
              "\n",
              "What is an LLM?llBZexQZ wwwZrrxxxcqWa vqqxtqK..aHqQqqqecaask..--<span style=\"color: #008000; text-decoration-color: #008000\">'Ve'</span>ll3fh3k..ttesscU''aUxhSpepBqqepp\n",
              "<span style=\"color: #008000; text-decoration-color: #008000\">'QQ-;AqfwetpM vSQwbrrZQqa.CAA,,axqbQu''seyex...'';yyfw'</span>gk:SSWQtrrqW'<span style=\"color: #008000; text-decoration-color: #008000\">'KKpp?ZQU'''</span>tcb?;;;WufBWbb;f'ggYQttSk;?;;;?fA..Sbt;n'<span style=\"color: #008000; text-decoration-color: #008000\">'rrWqqMeeq;b'</span>k'eMwQQtpufAAqQYAWASSe'qSpqqtLgWoqSk\n",
              "</pre>"
            ]
          }
        },
        {
          "output_type": "display_data",
          "metadata": {},
          "data": {
            "text/html": [
              "<pre style=\"white-space:pre;overflow-x:auto;line-height:normal;font-family:Menlo,'DejaVu Sans Mono',consolas,'Courier New',monospace\">[<span style=\"color: #7f7f7f; text-decoration-color: #7f7f7f\">2025-07-22 22:24:41,268467</span>][<span style=\"color: #008000; text-decoration-color: #008000\">I</span>][<span style=\"color: #008080; text-decoration-color: #008080; font-style: italic\">wordplay</span>/<span style=\"color: #000080; text-decoration-color: #000080\">trainer</span><span style=\"color: #0000ff; text-decoration-color: #0000ff\">:</span><span style=\"color: #800080; text-decoration-color: #800080\">769</span>]<span style=\"color: #c0c0c0; text-decoration-color: #c0c0c0\"> </span>Saving checkpoint to: <span style=\"color: #800080; text-decoration-color: #800080\">/Users/samforeman/projects/saforem2/intro-hpc-bootcamp-2025/content/02-llms/</span><span style=\"color: #ff00ff; text-decoration-color: #ff00ff\">7-shakespeare-example</span>\n",
              "</pre>"
            ]
          }
        },
        {
          "output_type": "display_data",
          "metadata": {},
          "data": {
            "text/html": [
              "<pre style=\"white-space:pre;overflow-x:auto;line-height:normal;font-family:Menlo,'DejaVu Sans Mono',consolas,'Courier New',monospace\">[<span style=\"color: #7f7f7f; text-decoration-color: #7f7f7f\">2025-07-22 22:24:41,269536</span>][<span style=\"color: #008000; text-decoration-color: #008000\">I</span>][<span style=\"color: #008080; text-decoration-color: #008080; font-style: italic\">wordplay</span>/<span style=\"color: #000080; text-decoration-color: #000080\">trainer</span><span style=\"color: #0000ff; text-decoration-color: #0000ff\">:</span><span style=\"color: #800080; text-decoration-color: #800080\">770</span>]<span style=\"color: #c0c0c0; text-decoration-color: #c0c0c0\"> </span>Saving model to: <span style=\"color: #800080; text-decoration-color: #800080\">/Users/samforeman/projects/saforem2/intro-hpc-bootcamp-2025/content/02-llms/7-shakespeare-example/</span><span style=\"color: #ff00ff; text-decoration-color: #ff00ff\">model.pth</span>\n",
              "</pre>"
            ]
          }
        },
        {
          "output_type": "display_data",
          "metadata": {},
          "data": {
            "text/html": [
              "<pre style=\"white-space:pre;overflow-x:auto;line-height:normal;font-family:Menlo,'DejaVu Sans Mono',consolas,'Courier New',monospace\">[<span style=\"color: #7f7f7f; text-decoration-color: #7f7f7f\">2025-07-22 22:24:41,336590</span>][<span style=\"color: #008000; text-decoration-color: #008000\">I</span>][<span style=\"color: #008080; text-decoration-color: #008080; font-style: italic\">wordplay</span>/<span style=\"color: #000080; text-decoration-color: #000080\">configs</span><span style=\"color: #0000ff; text-decoration-color: #0000ff\">:</span><span style=\"color: #800080; text-decoration-color: #800080\">141</span>]<span style=\"color: #c0c0c0; text-decoration-color: #c0c0c0\"> </span>Appending <span style=\"color: #800080; text-decoration-color: #800080\">/Users/samforeman/projects/saforem2/intro-hpc-bootcamp-2025/content/02-llms/</span><span style=\"color: #ff00ff; text-decoration-color: #ff00ff\">7-shakespeare-example</span> to <span style=\"color: #800080; text-decoration-color: #800080\">/Users/samforeman/projects/saforem2/wordplay/src/ckpts/</span><span style=\"color: #ff00ff; text-decoration-color: #ff00ff\">checkpoints.log</span>\n",
              "</pre>"
            ]
          }
        },
        {
          "output_type": "display_data",
          "metadata": {},
          "data": {
            "text/html": [
              "<pre style=\"white-space:pre;overflow-x:auto;line-height:normal;font-family:Menlo,'DejaVu Sans Mono',consolas,'Courier New',monospace\">[<span style=\"color: #7f7f7f; text-decoration-color: #7f7f7f\">2025-07-22 22:24:41,519602</span>][<span style=\"color: #008000; text-decoration-color: #008000\">I</span>][<span style=\"color: #008080; text-decoration-color: #008080; font-style: italic\">wordplay</span>/<span style=\"color: #000080; text-decoration-color: #000080\">trainer</span><span style=\"color: #0000ff; text-decoration-color: #0000ff\">:</span><span style=\"color: #800080; text-decoration-color: #800080\">901</span>]<span style=\"color: #c0c0c0; text-decoration-color: #c0c0c0\"> </span><span style=\"color: #0000ff; text-decoration-color: #0000ff\">step</span>=<span style=\"color: #008080; text-decoration-color: #008080; font-weight: bold\">360</span> <span style=\"color: #0000ff; text-decoration-color: #0000ff\">loss</span>=<span style=\"color: #008080; text-decoration-color: #008080; font-weight: bold\">4.3276</span> <span style=\"color: #0000ff; text-decoration-color: #0000ff\">dt</span>=<span style=\"color: #008080; text-decoration-color: #008080; font-weight: bold\">0.0193543</span> <span style=\"color: #0000ff; text-decoration-color: #0000ff\">dtf</span>=<span style=\"color: #008080; text-decoration-color: #008080; font-weight: bold\">0.0190328</span> <span style=\"color: #0000ff; text-decoration-color: #0000ff\">dtb</span>=<span style=\"color: #008080; text-decoration-color: #008080; font-weight: bold\">0.000121584</span> <span style=\"color: #0000ff; text-decoration-color: #0000ff\">sps</span>=<span style=\"color: #008080; text-decoration-color: #008080; font-weight: bold\">51.6682</span> <span style=\"color: #0000ff; text-decoration-color: #0000ff\">sps_per_gpu</span>=<span style=\"color: #008080; text-decoration-color: #008080; font-weight: bold\">51.6682</span> <span style=\"color: #0000ff; text-decoration-color: #0000ff\">tps</span>=<span style=\"color: #008080; text-decoration-color: #008080; font-weight: bold\">6613.53</span> <span style=\"color: #0000ff; text-decoration-color: #0000ff\">tps_per_gpu</span>=<span style=\"color: #008080; text-decoration-color: #008080; font-weight: bold\">6613.53</span> <span style=\"color: #0000ff; text-decoration-color: #0000ff\">mfu</span>=<span style=\"color: #008080; text-decoration-color: #008080; font-weight: bold\">0.144952</span>\n",
              "</pre>"
            ]
          }
        },
        {
          "output_type": "display_data",
          "metadata": {},
          "data": {
            "text/html": [
              "<pre style=\"white-space:pre;overflow-x:auto;line-height:normal;font-family:Menlo,'DejaVu Sans Mono',consolas,'Courier New',monospace\">[<span style=\"color: #7f7f7f; text-decoration-color: #7f7f7f\">2025-07-22 22:24:41,728640</span>][<span style=\"color: #008000; text-decoration-color: #008000\">I</span>][<span style=\"color: #008080; text-decoration-color: #008080; font-style: italic\">wordplay</span>/<span style=\"color: #000080; text-decoration-color: #000080\">trainer</span><span style=\"color: #0000ff; text-decoration-color: #0000ff\">:</span><span style=\"color: #800080; text-decoration-color: #800080\">901</span>]<span style=\"color: #c0c0c0; text-decoration-color: #c0c0c0\"> </span><span style=\"color: #0000ff; text-decoration-color: #0000ff\">step</span>=<span style=\"color: #008080; text-decoration-color: #008080; font-weight: bold\">370</span> <span style=\"color: #0000ff; text-decoration-color: #0000ff\">loss</span>=<span style=\"color: #008080; text-decoration-color: #008080; font-weight: bold\">4.15959</span> <span style=\"color: #0000ff; text-decoration-color: #0000ff\">dt</span>=<span style=\"color: #008080; text-decoration-color: #008080; font-weight: bold\">0.0223269</span> <span style=\"color: #0000ff; text-decoration-color: #0000ff\">dtf</span>=<span style=\"color: #008080; text-decoration-color: #008080; font-weight: bold\">0.0219368</span> <span style=\"color: #0000ff; text-decoration-color: #0000ff\">dtb</span>=<span style=\"color: #008080; text-decoration-color: #008080; font-weight: bold\">0.000145084</span> <span style=\"color: #0000ff; text-decoration-color: #0000ff\">sps</span>=<span style=\"color: #008080; text-decoration-color: #008080; font-weight: bold\">44.7891</span> <span style=\"color: #0000ff; text-decoration-color: #0000ff\">sps_per_gpu</span>=<span style=\"color: #008080; text-decoration-color: #008080; font-weight: bold\">44.7891</span> <span style=\"color: #0000ff; text-decoration-color: #0000ff\">tps</span>=<span style=\"color: #008080; text-decoration-color: #008080; font-weight: bold\">5733</span> <span style=\"color: #0000ff; text-decoration-color: #0000ff\">tps_per_gpu</span>=<span style=\"color: #008080; text-decoration-color: #008080; font-weight: bold\">5733</span> <span style=\"color: #0000ff; text-decoration-color: #0000ff\">mfu</span>=<span style=\"color: #008080; text-decoration-color: #008080; font-weight: bold\">0.142845</span>\n",
              "</pre>"
            ]
          }
        },
        {
          "output_type": "display_data",
          "metadata": {},
          "data": {
            "text/html": [
              "<pre style=\"white-space:pre;overflow-x:auto;line-height:normal;font-family:Menlo,'DejaVu Sans Mono',consolas,'Courier New',monospace\">[<span style=\"color: #7f7f7f; text-decoration-color: #7f7f7f\">2025-07-22 22:24:41,927132</span>][<span style=\"color: #008000; text-decoration-color: #008000\">I</span>][<span style=\"color: #008080; text-decoration-color: #008080; font-style: italic\">wordplay</span>/<span style=\"color: #000080; text-decoration-color: #000080\">trainer</span><span style=\"color: #0000ff; text-decoration-color: #0000ff\">:</span><span style=\"color: #800080; text-decoration-color: #800080\">901</span>]<span style=\"color: #c0c0c0; text-decoration-color: #c0c0c0\"> </span><span style=\"color: #0000ff; text-decoration-color: #0000ff\">step</span>=<span style=\"color: #008080; text-decoration-color: #008080; font-weight: bold\">380</span> <span style=\"color: #0000ff; text-decoration-color: #0000ff\">loss</span>=<span style=\"color: #008080; text-decoration-color: #008080; font-weight: bold\">4.21489</span> <span style=\"color: #0000ff; text-decoration-color: #0000ff\">dt</span>=<span style=\"color: #008080; text-decoration-color: #008080; font-weight: bold\">0.0181993</span> <span style=\"color: #0000ff; text-decoration-color: #0000ff\">dtf</span>=<span style=\"color: #008080; text-decoration-color: #008080; font-weight: bold\">0.0178575</span> <span style=\"color: #0000ff; text-decoration-color: #0000ff\">dtb</span>=<span style=\"color: #008080; text-decoration-color: #008080; font-weight: bold\">0.000138917</span> <span style=\"color: #0000ff; text-decoration-color: #0000ff\">sps</span>=<span style=\"color: #008080; text-decoration-color: #008080; font-weight: bold\">54.9471</span> <span style=\"color: #0000ff; text-decoration-color: #0000ff\">sps_per_gpu</span>=<span style=\"color: #008080; text-decoration-color: #008080; font-weight: bold\">54.9471</span> <span style=\"color: #0000ff; text-decoration-color: #0000ff\">tps</span>=<span style=\"color: #008080; text-decoration-color: #008080; font-weight: bold\">7033.22</span> <span style=\"color: #0000ff; text-decoration-color: #0000ff\">tps_per_gpu</span>=<span style=\"color: #008080; text-decoration-color: #008080; font-weight: bold\">7033.22</span> <span style=\"color: #0000ff; text-decoration-color: #0000ff\">mfu</span>=<span style=\"color: #008080; text-decoration-color: #008080; font-weight: bold\">0.143759</span>\n",
              "</pre>"
            ]
          }
        },
        {
          "output_type": "display_data",
          "metadata": {},
          "data": {
            "text/html": [
              "<pre style=\"white-space:pre;overflow-x:auto;line-height:normal;font-family:Menlo,'DejaVu Sans Mono',consolas,'Courier New',monospace\">[<span style=\"color: #7f7f7f; text-decoration-color: #7f7f7f\">2025-07-22 22:24:42,131806</span>][<span style=\"color: #008000; text-decoration-color: #008000\">I</span>][<span style=\"color: #008080; text-decoration-color: #008080; font-style: italic\">wordplay</span>/<span style=\"color: #000080; text-decoration-color: #000080\">trainer</span><span style=\"color: #0000ff; text-decoration-color: #0000ff\">:</span><span style=\"color: #800080; text-decoration-color: #800080\">901</span>]<span style=\"color: #c0c0c0; text-decoration-color: #c0c0c0\"> </span><span style=\"color: #0000ff; text-decoration-color: #0000ff\">step</span>=<span style=\"color: #008080; text-decoration-color: #008080; font-weight: bold\">390</span> <span style=\"color: #0000ff; text-decoration-color: #0000ff\">loss</span>=<span style=\"color: #008080; text-decoration-color: #008080; font-weight: bold\">4.18483</span> <span style=\"color: #0000ff; text-decoration-color: #0000ff\">dt</span>=<span style=\"color: #008080; text-decoration-color: #008080; font-weight: bold\">0.0191167</span> <span style=\"color: #0000ff; text-decoration-color: #0000ff\">dtf</span>=<span style=\"color: #008080; text-decoration-color: #008080; font-weight: bold\">0.0187673</span> <span style=\"color: #0000ff; text-decoration-color: #0000ff\">dtb</span>=<span style=\"color: #008080; text-decoration-color: #008080; font-weight: bold\">0.0001585</span> <span style=\"color: #0000ff; text-decoration-color: #0000ff\">sps</span>=<span style=\"color: #008080; text-decoration-color: #008080; font-weight: bold\">52.3103</span> <span style=\"color: #0000ff; text-decoration-color: #0000ff\">sps_per_gpu</span>=<span style=\"color: #008080; text-decoration-color: #008080; font-weight: bold\">52.3103</span> <span style=\"color: #0000ff; text-decoration-color: #0000ff\">tps</span>=<span style=\"color: #008080; text-decoration-color: #008080; font-weight: bold\">6695.71</span> <span style=\"color: #0000ff; text-decoration-color: #0000ff\">tps_per_gpu</span>=<span style=\"color: #008080; text-decoration-color: #008080; font-weight: bold\">6695.71</span> <span style=\"color: #0000ff; text-decoration-color: #0000ff\">mfu</span>=<span style=\"color: #008080; text-decoration-color: #008080; font-weight: bold\">0.143851</span>\n",
              "</pre>"
            ]
          }
        },
        {
          "output_type": "display_data",
          "metadata": {},
          "data": {
            "text/html": [
              "<pre style=\"white-space:pre;overflow-x:auto;line-height:normal;font-family:Menlo,'DejaVu Sans Mono',consolas,'Courier New',monospace\">[<span style=\"color: #7f7f7f; text-decoration-color: #7f7f7f\">2025-07-22 22:24:42,333450</span>][<span style=\"color: #008000; text-decoration-color: #008000\">I</span>][<span style=\"color: #008080; text-decoration-color: #008080; font-style: italic\">wordplay</span>/<span style=\"color: #000080; text-decoration-color: #000080\">trainer</span><span style=\"color: #0000ff; text-decoration-color: #0000ff\">:</span><span style=\"color: #800080; text-decoration-color: #800080\">901</span>]<span style=\"color: #c0c0c0; text-decoration-color: #c0c0c0\"> </span><span style=\"color: #0000ff; text-decoration-color: #0000ff\">step</span>=<span style=\"color: #008080; text-decoration-color: #008080; font-weight: bold\">400</span> <span style=\"color: #0000ff; text-decoration-color: #0000ff\">loss</span>=<span style=\"color: #008080; text-decoration-color: #008080; font-weight: bold\">4.2439</span> <span style=\"color: #0000ff; text-decoration-color: #0000ff\">dt</span>=<span style=\"color: #008080; text-decoration-color: #008080; font-weight: bold\">0.0187441</span> <span style=\"color: #0000ff; text-decoration-color: #0000ff\">dtf</span>=<span style=\"color: #008080; text-decoration-color: #008080; font-weight: bold\">0.0184245</span> <span style=\"color: #0000ff; text-decoration-color: #0000ff\">dtb</span>=<span style=\"color: #008080; text-decoration-color: #008080; font-weight: bold\">0.000119833</span> <span style=\"color: #0000ff; text-decoration-color: #0000ff\">sps</span>=<span style=\"color: #008080; text-decoration-color: #008080; font-weight: bold\">53.35</span> <span style=\"color: #0000ff; text-decoration-color: #0000ff\">sps_per_gpu</span>=<span style=\"color: #008080; text-decoration-color: #008080; font-weight: bold\">53.35</span> <span style=\"color: #0000ff; text-decoration-color: #0000ff\">tps</span>=<span style=\"color: #008080; text-decoration-color: #008080; font-weight: bold\">6828.81</span> <span style=\"color: #0000ff; text-decoration-color: #0000ff\">tps_per_gpu</span>=<span style=\"color: #008080; text-decoration-color: #008080; font-weight: bold\">6828.81</span> <span style=\"color: #0000ff; text-decoration-color: #0000ff\">mfu</span>=<span style=\"color: #008080; text-decoration-color: #008080; font-weight: bold\">0.144223</span>\n",
              "</pre>"
            ]
          }
        },
        {
          "output_type": "display_data",
          "metadata": {},
          "data": {
            "text/html": [
              "<pre style=\"white-space:pre;overflow-x:auto;line-height:normal;font-family:Menlo,'DejaVu Sans Mono',consolas,'Courier New',monospace\">[<span style=\"color: #7f7f7f; text-decoration-color: #7f7f7f\">2025-07-22 22:24:44,175342</span>][<span style=\"color: #008000; text-decoration-color: #008000\">I</span>][<span style=\"color: #008080; text-decoration-color: #008080; font-style: italic\">wordplay</span>/<span style=\"color: #000080; text-decoration-color: #000080\">trainer</span><span style=\"color: #0000ff; text-decoration-color: #0000ff\">:</span><span style=\"color: #800080; text-decoration-color: #800080\">834</span>]<span style=\"color: #c0c0c0; text-decoration-color: #c0c0c0\"> </span><span style=\"color: #ff00ff; text-decoration-color: #ff00ff\">[</span><span style=\"color: #008000; text-decoration-color: #008000\">'prompt'</span><span style=\"color: #ff00ff; text-decoration-color: #ff00ff\">]</span>: <span style=\"color: #008000; text-decoration-color: #008000\">'What is an LLM?'</span>\n",
              "</pre>"
            ]
          }
        },
        {
          "output_type": "display_data",
          "metadata": {},
          "data": {
            "text/html": [
              "<pre style=\"white-space:pre;overflow-x:auto;line-height:normal;font-family:Menlo,'DejaVu Sans Mono',consolas,'Courier New',monospace\">[<span style=\"color: #7f7f7f; text-decoration-color: #7f7f7f\">2025-07-22 22:24:44,176241</span>][<span style=\"color: #008000; text-decoration-color: #008000\">I</span>][<span style=\"color: #008080; text-decoration-color: #008080; font-style: italic\">wordplay</span>/<span style=\"color: #000080; text-decoration-color: #000080\">trainer</span><span style=\"color: #0000ff; text-decoration-color: #0000ff\">:</span><span style=\"color: #800080; text-decoration-color: #800080\">838</span>]<span style=\"color: #c0c0c0; text-decoration-color: #c0c0c0\"> </span><span style=\"color: #ff00ff; text-decoration-color: #ff00ff\">[</span><span style=\"color: #008000; text-decoration-color: #008000\">'response'</span><span style=\"color: #ff00ff; text-decoration-color: #ff00ff\">]</span>:\n",
              "\n",
              "What is an LLM?.3YZfxsaskoRbawwqW3fkYfVUB33emX3cxeQ;XAA,E;hqqqAA,VqYoqep.<span style=\"color: #008080; text-decoration-color: #008080; font-weight: bold\">3</span>-S'eh3cPe''bqqQAh\n",
              "fSpppp;!cbWA'fff3feNhaAo,Ax.tqq33-<span style=\"color: #008080; text-decoration-color: #008080; font-weight: bold\">33</span>--fCttppaww-gkttttt,,oWbb'glQWb'WWbZexG?<span style=\"color: #008000; text-decoration-color: #008000\">b'sWl'</span>tqt?qqQ'M'rhWlfMMe;tc-eqnnfCqYq;<span style=\"color: #008000; text-decoration-color: #008000\">'?;t'</span>Mwhqqq'..oooA,rqqfooWkkjGqqqqqq;fs;QYbWkkf',,.SSSbqqqbqeeqff\n",
              "</pre>"
            ]
          }
        },
        {
          "output_type": "display_data",
          "metadata": {},
          "data": {
            "text/html": [
              "<pre style=\"white-space:pre;overflow-x:auto;line-height:normal;font-family:Menlo,'DejaVu Sans Mono',consolas,'Courier New',monospace\">[<span style=\"color: #7f7f7f; text-decoration-color: #7f7f7f\">2025-07-22 22:24:47,237845</span>][<span style=\"color: #008000; text-decoration-color: #008000\">I</span>][<span style=\"color: #008080; text-decoration-color: #008080; font-style: italic\">wordplay</span>/<span style=\"color: #000080; text-decoration-color: #000080\">trainer</span><span style=\"color: #0000ff; text-decoration-color: #0000ff\">:</span><span style=\"color: #800080; text-decoration-color: #800080\">769</span>]<span style=\"color: #c0c0c0; text-decoration-color: #c0c0c0\"> </span>Saving checkpoint to: <span style=\"color: #800080; text-decoration-color: #800080\">/Users/samforeman/projects/saforem2/intro-hpc-bootcamp-2025/content/02-llms/</span><span style=\"color: #ff00ff; text-decoration-color: #ff00ff\">7-shakespeare-example</span>\n",
              "</pre>"
            ]
          }
        },
        {
          "output_type": "display_data",
          "metadata": {},
          "data": {
            "text/html": [
              "<pre style=\"white-space:pre;overflow-x:auto;line-height:normal;font-family:Menlo,'DejaVu Sans Mono',consolas,'Courier New',monospace\">[<span style=\"color: #7f7f7f; text-decoration-color: #7f7f7f\">2025-07-22 22:24:47,239002</span>][<span style=\"color: #008000; text-decoration-color: #008000\">I</span>][<span style=\"color: #008080; text-decoration-color: #008080; font-style: italic\">wordplay</span>/<span style=\"color: #000080; text-decoration-color: #000080\">trainer</span><span style=\"color: #0000ff; text-decoration-color: #0000ff\">:</span><span style=\"color: #800080; text-decoration-color: #800080\">770</span>]<span style=\"color: #c0c0c0; text-decoration-color: #c0c0c0\"> </span>Saving model to: <span style=\"color: #800080; text-decoration-color: #800080\">/Users/samforeman/projects/saforem2/intro-hpc-bootcamp-2025/content/02-llms/7-shakespeare-example/</span><span style=\"color: #ff00ff; text-decoration-color: #ff00ff\">model.pth</span>\n",
              "</pre>"
            ]
          }
        },
        {
          "output_type": "display_data",
          "metadata": {},
          "data": {
            "text/html": [
              "<pre style=\"white-space:pre;overflow-x:auto;line-height:normal;font-family:Menlo,'DejaVu Sans Mono',consolas,'Courier New',monospace\">[<span style=\"color: #7f7f7f; text-decoration-color: #7f7f7f\">2025-07-22 22:24:47,313567</span>][<span style=\"color: #008000; text-decoration-color: #008000\">I</span>][<span style=\"color: #008080; text-decoration-color: #008080; font-style: italic\">wordplay</span>/<span style=\"color: #000080; text-decoration-color: #000080\">configs</span><span style=\"color: #0000ff; text-decoration-color: #0000ff\">:</span><span style=\"color: #800080; text-decoration-color: #800080\">141</span>]<span style=\"color: #c0c0c0; text-decoration-color: #c0c0c0\"> </span>Appending <span style=\"color: #800080; text-decoration-color: #800080\">/Users/samforeman/projects/saforem2/intro-hpc-bootcamp-2025/content/02-llms/</span><span style=\"color: #ff00ff; text-decoration-color: #ff00ff\">7-shakespeare-example</span> to <span style=\"color: #800080; text-decoration-color: #800080\">/Users/samforeman/projects/saforem2/wordplay/src/ckpts/</span><span style=\"color: #ff00ff; text-decoration-color: #ff00ff\">checkpoints.log</span>\n",
              "</pre>"
            ]
          }
        },
        {
          "output_type": "display_data",
          "metadata": {},
          "data": {
            "text/html": [
              "<pre style=\"white-space:pre;overflow-x:auto;line-height:normal;font-family:Menlo,'DejaVu Sans Mono',consolas,'Courier New',monospace\">[<span style=\"color: #7f7f7f; text-decoration-color: #7f7f7f\">2025-07-22 22:24:47,510197</span>][<span style=\"color: #008000; text-decoration-color: #008000\">I</span>][<span style=\"color: #008080; text-decoration-color: #008080; font-style: italic\">wordplay</span>/<span style=\"color: #000080; text-decoration-color: #000080\">trainer</span><span style=\"color: #0000ff; text-decoration-color: #0000ff\">:</span><span style=\"color: #800080; text-decoration-color: #800080\">901</span>]<span style=\"color: #c0c0c0; text-decoration-color: #c0c0c0\"> </span><span style=\"color: #0000ff; text-decoration-color: #0000ff\">step</span>=<span style=\"color: #008080; text-decoration-color: #008080; font-weight: bold\">410</span> <span style=\"color: #0000ff; text-decoration-color: #0000ff\">loss</span>=<span style=\"color: #008080; text-decoration-color: #008080; font-weight: bold\">4.23287</span> <span style=\"color: #0000ff; text-decoration-color: #0000ff\">dt</span>=<span style=\"color: #008080; text-decoration-color: #008080; font-weight: bold\">0.0189879</span> <span style=\"color: #0000ff; text-decoration-color: #0000ff\">dtf</span>=<span style=\"color: #008080; text-decoration-color: #008080; font-weight: bold\">0.0186479</span> <span style=\"color: #0000ff; text-decoration-color: #0000ff\">dtb</span>=<span style=\"color: #008080; text-decoration-color: #008080; font-weight: bold\">0.000128667</span> <span style=\"color: #0000ff; text-decoration-color: #0000ff\">sps</span>=<span style=\"color: #008080; text-decoration-color: #008080; font-weight: bold\">52.6652</span> <span style=\"color: #0000ff; text-decoration-color: #0000ff\">sps_per_gpu</span>=<span style=\"color: #008080; text-decoration-color: #008080; font-weight: bold\">52.6652</span> <span style=\"color: #0000ff; text-decoration-color: #0000ff\">tps</span>=<span style=\"color: #008080; text-decoration-color: #008080; font-weight: bold\">6741.14</span> <span style=\"color: #0000ff; text-decoration-color: #0000ff\">tps_per_gpu</span>=<span style=\"color: #008080; text-decoration-color: #008080; font-weight: bold\">6741.14</span> <span style=\"color: #0000ff; text-decoration-color: #0000ff\">mfu</span>=<span style=\"color: #008080; text-decoration-color: #008080; font-weight: bold\">0.144367</span>\n",
              "</pre>"
            ]
          }
        },
        {
          "output_type": "display_data",
          "metadata": {},
          "data": {
            "text/html": [
              "<pre style=\"white-space:pre;overflow-x:auto;line-height:normal;font-family:Menlo,'DejaVu Sans Mono',consolas,'Courier New',monospace\">[<span style=\"color: #7f7f7f; text-decoration-color: #7f7f7f\">2025-07-22 22:24:47,701784</span>][<span style=\"color: #008000; text-decoration-color: #008000\">I</span>][<span style=\"color: #008080; text-decoration-color: #008080; font-style: italic\">wordplay</span>/<span style=\"color: #000080; text-decoration-color: #000080\">trainer</span><span style=\"color: #0000ff; text-decoration-color: #0000ff\">:</span><span style=\"color: #800080; text-decoration-color: #800080\">901</span>]<span style=\"color: #c0c0c0; text-decoration-color: #c0c0c0\"> </span><span style=\"color: #0000ff; text-decoration-color: #0000ff\">step</span>=<span style=\"color: #008080; text-decoration-color: #008080; font-weight: bold\">420</span> <span style=\"color: #0000ff; text-decoration-color: #0000ff\">loss</span>=<span style=\"color: #008080; text-decoration-color: #008080; font-weight: bold\">4.27257</span> <span style=\"color: #0000ff; text-decoration-color: #0000ff\">dt</span>=<span style=\"color: #008080; text-decoration-color: #008080; font-weight: bold\">0.0191865</span> <span style=\"color: #0000ff; text-decoration-color: #0000ff\">dtf</span>=<span style=\"color: #008080; text-decoration-color: #008080; font-weight: bold\">0.0188228</span> <span style=\"color: #0000ff; text-decoration-color: #0000ff\">dtb</span>=<span style=\"color: #008080; text-decoration-color: #008080; font-weight: bold\">0.000144084</span> <span style=\"color: #0000ff; text-decoration-color: #0000ff\">sps</span>=<span style=\"color: #008080; text-decoration-color: #008080; font-weight: bold\">52.1199</span> <span style=\"color: #0000ff; text-decoration-color: #0000ff\">sps_per_gpu</span>=<span style=\"color: #008080; text-decoration-color: #008080; font-weight: bold\">52.1199</span> <span style=\"color: #0000ff; text-decoration-color: #0000ff\">tps</span>=<span style=\"color: #008080; text-decoration-color: #008080; font-weight: bold\">6671.34</span> <span style=\"color: #0000ff; text-decoration-color: #0000ff\">tps_per_gpu</span>=<span style=\"color: #008080; text-decoration-color: #008080; font-weight: bold\">6671.34</span> <span style=\"color: #0000ff; text-decoration-color: #0000ff\">mfu</span>=<span style=\"color: #008080; text-decoration-color: #008080; font-weight: bold\">0.144346</span>\n",
              "</pre>"
            ]
          }
        },
        {
          "output_type": "display_data",
          "metadata": {},
          "data": {
            "text/html": [
              "<pre style=\"white-space:pre;overflow-x:auto;line-height:normal;font-family:Menlo,'DejaVu Sans Mono',consolas,'Courier New',monospace\">[<span style=\"color: #7f7f7f; text-decoration-color: #7f7f7f\">2025-07-22 22:24:47,894577</span>][<span style=\"color: #008000; text-decoration-color: #008000\">I</span>][<span style=\"color: #008080; text-decoration-color: #008080; font-style: italic\">wordplay</span>/<span style=\"color: #000080; text-decoration-color: #000080\">trainer</span><span style=\"color: #0000ff; text-decoration-color: #0000ff\">:</span><span style=\"color: #800080; text-decoration-color: #800080\">901</span>]<span style=\"color: #c0c0c0; text-decoration-color: #c0c0c0\"> </span><span style=\"color: #0000ff; text-decoration-color: #0000ff\">step</span>=<span style=\"color: #008080; text-decoration-color: #008080; font-weight: bold\">430</span> <span style=\"color: #0000ff; text-decoration-color: #0000ff\">loss</span>=<span style=\"color: #008080; text-decoration-color: #008080; font-weight: bold\">4.18557</span> <span style=\"color: #0000ff; text-decoration-color: #0000ff\">dt</span>=<span style=\"color: #008080; text-decoration-color: #008080; font-weight: bold\">0.0190928</span> <span style=\"color: #0000ff; text-decoration-color: #0000ff\">dtf</span>=<span style=\"color: #008080; text-decoration-color: #008080; font-weight: bold\">0.0187411</span> <span style=\"color: #0000ff; text-decoration-color: #0000ff\">dtb</span>=<span style=\"color: #008080; text-decoration-color: #008080; font-weight: bold\">0.000148833</span> <span style=\"color: #0000ff; text-decoration-color: #0000ff\">sps</span>=<span style=\"color: #008080; text-decoration-color: #008080; font-weight: bold\">52.3759</span> <span style=\"color: #0000ff; text-decoration-color: #0000ff\">sps_per_gpu</span>=<span style=\"color: #008080; text-decoration-color: #008080; font-weight: bold\">52.3759</span> <span style=\"color: #0000ff; text-decoration-color: #0000ff\">tps</span>=<span style=\"color: #008080; text-decoration-color: #008080; font-weight: bold\">6704.12</span> <span style=\"color: #0000ff; text-decoration-color: #0000ff\">tps_per_gpu</span>=<span style=\"color: #008080; text-decoration-color: #008080; font-weight: bold\">6704.12</span> <span style=\"color: #0000ff; text-decoration-color: #0000ff\">mfu</span>=<span style=\"color: #008080; text-decoration-color: #008080; font-weight: bold\">0.144399</span>\n",
              "</pre>"
            ]
          }
        },
        {
          "output_type": "display_data",
          "metadata": {},
          "data": {
            "text/html": [
              "<pre style=\"white-space:pre;overflow-x:auto;line-height:normal;font-family:Menlo,'DejaVu Sans Mono',consolas,'Courier New',monospace\">[<span style=\"color: #7f7f7f; text-decoration-color: #7f7f7f\">2025-07-22 22:24:48,083056</span>][<span style=\"color: #008000; text-decoration-color: #008000\">I</span>][<span style=\"color: #008080; text-decoration-color: #008080; font-style: italic\">wordplay</span>/<span style=\"color: #000080; text-decoration-color: #000080\">trainer</span><span style=\"color: #0000ff; text-decoration-color: #0000ff\">:</span><span style=\"color: #800080; text-decoration-color: #800080\">901</span>]<span style=\"color: #c0c0c0; text-decoration-color: #c0c0c0\"> </span><span style=\"color: #0000ff; text-decoration-color: #0000ff\">step</span>=<span style=\"color: #008080; text-decoration-color: #008080; font-weight: bold\">440</span> <span style=\"color: #0000ff; text-decoration-color: #0000ff\">loss</span>=<span style=\"color: #008080; text-decoration-color: #008080; font-weight: bold\">4.21616</span> <span style=\"color: #0000ff; text-decoration-color: #0000ff\">dt</span>=<span style=\"color: #008080; text-decoration-color: #008080; font-weight: bold\">0.0187622</span> <span style=\"color: #0000ff; text-decoration-color: #0000ff\">dtf</span>=<span style=\"color: #008080; text-decoration-color: #008080; font-weight: bold\">0.0184312</span> <span style=\"color: #0000ff; text-decoration-color: #0000ff\">dtb</span>=<span style=\"color: #008080; text-decoration-color: #008080; font-weight: bold\">0.000137166</span> <span style=\"color: #0000ff; text-decoration-color: #0000ff\">sps</span>=<span style=\"color: #008080; text-decoration-color: #008080; font-weight: bold\">53.2985</span> <span style=\"color: #0000ff; text-decoration-color: #0000ff\">sps_per_gpu</span>=<span style=\"color: #008080; text-decoration-color: #008080; font-weight: bold\">53.2985</span> <span style=\"color: #0000ff; text-decoration-color: #0000ff\">tps</span>=<span style=\"color: #008080; text-decoration-color: #008080; font-weight: bold\">6822.21</span> <span style=\"color: #0000ff; text-decoration-color: #0000ff\">tps_per_gpu</span>=<span style=\"color: #008080; text-decoration-color: #008080; font-weight: bold\">6822.21</span> <span style=\"color: #0000ff; text-decoration-color: #0000ff\">mfu</span>=<span style=\"color: #008080; text-decoration-color: #008080; font-weight: bold\">0.144701</span>\n",
              "</pre>"
            ]
          }
        },
        {
          "output_type": "display_data",
          "metadata": {},
          "data": {
            "text/html": [
              "<pre style=\"white-space:pre;overflow-x:auto;line-height:normal;font-family:Menlo,'DejaVu Sans Mono',consolas,'Courier New',monospace\">[<span style=\"color: #7f7f7f; text-decoration-color: #7f7f7f\">2025-07-22 22:24:48,286246</span>][<span style=\"color: #008000; text-decoration-color: #008000\">I</span>][<span style=\"color: #008080; text-decoration-color: #008080; font-style: italic\">wordplay</span>/<span style=\"color: #000080; text-decoration-color: #000080\">trainer</span><span style=\"color: #0000ff; text-decoration-color: #0000ff\">:</span><span style=\"color: #800080; text-decoration-color: #800080\">901</span>]<span style=\"color: #c0c0c0; text-decoration-color: #c0c0c0\"> </span><span style=\"color: #0000ff; text-decoration-color: #0000ff\">step</span>=<span style=\"color: #008080; text-decoration-color: #008080; font-weight: bold\">450</span> <span style=\"color: #0000ff; text-decoration-color: #0000ff\">loss</span>=<span style=\"color: #008080; text-decoration-color: #008080; font-weight: bold\">4.23928</span> <span style=\"color: #0000ff; text-decoration-color: #0000ff\">dt</span>=<span style=\"color: #008080; text-decoration-color: #008080; font-weight: bold\">0.0241163</span> <span style=\"color: #0000ff; text-decoration-color: #0000ff\">dtf</span>=<span style=\"color: #008080; text-decoration-color: #008080; font-weight: bold\">0.0198598</span> <span style=\"color: #0000ff; text-decoration-color: #0000ff\">dtb</span>=<span style=\"color: #008080; text-decoration-color: #008080; font-weight: bold\">0.000135417</span> <span style=\"color: #0000ff; text-decoration-color: #0000ff\">sps</span>=<span style=\"color: #008080; text-decoration-color: #008080; font-weight: bold\">41.4657</span> <span style=\"color: #0000ff; text-decoration-color: #0000ff\">sps_per_gpu</span>=<span style=\"color: #008080; text-decoration-color: #008080; font-weight: bold\">41.4657</span> <span style=\"color: #0000ff; text-decoration-color: #0000ff\">tps</span>=<span style=\"color: #008080; text-decoration-color: #008080; font-weight: bold\">5307.62</span> <span style=\"color: #0000ff; text-decoration-color: #0000ff\">tps_per_gpu</span>=<span style=\"color: #008080; text-decoration-color: #008080; font-weight: bold\">5307.62</span> <span style=\"color: #0000ff; text-decoration-color: #0000ff\">mfu</span>=<span style=\"color: #008080; text-decoration-color: #008080; font-weight: bold\">0.1417</span>\n",
              "</pre>"
            ]
          }
        },
        {
          "output_type": "display_data",
          "metadata": {},
          "data": {
            "text/html": [
              "<pre style=\"white-space:pre;overflow-x:auto;line-height:normal;font-family:Menlo,'DejaVu Sans Mono',consolas,'Courier New',monospace\">[<span style=\"color: #7f7f7f; text-decoration-color: #7f7f7f\">2025-07-22 22:24:50,091772</span>][<span style=\"color: #008000; text-decoration-color: #008000\">I</span>][<span style=\"color: #008080; text-decoration-color: #008080; font-style: italic\">wordplay</span>/<span style=\"color: #000080; text-decoration-color: #000080\">trainer</span><span style=\"color: #0000ff; text-decoration-color: #0000ff\">:</span><span style=\"color: #800080; text-decoration-color: #800080\">834</span>]<span style=\"color: #c0c0c0; text-decoration-color: #c0c0c0\"> </span><span style=\"color: #ff00ff; text-decoration-color: #ff00ff\">[</span><span style=\"color: #008000; text-decoration-color: #008000\">'prompt'</span><span style=\"color: #ff00ff; text-decoration-color: #ff00ff\">]</span>: <span style=\"color: #008000; text-decoration-color: #008000\">'What is an LLM?'</span>\n",
              "</pre>"
            ]
          }
        },
        {
          "output_type": "display_data",
          "metadata": {},
          "data": {
            "text/html": [
              "<pre style=\"white-space:pre;overflow-x:auto;line-height:normal;font-family:Menlo,'DejaVu Sans Mono',consolas,'Courier New',monospace\">[<span style=\"color: #7f7f7f; text-decoration-color: #7f7f7f\">2025-07-22 22:24:50,093193</span>][<span style=\"color: #008000; text-decoration-color: #008000\">I</span>][<span style=\"color: #008080; text-decoration-color: #008080; font-style: italic\">wordplay</span>/<span style=\"color: #000080; text-decoration-color: #000080\">trainer</span><span style=\"color: #0000ff; text-decoration-color: #0000ff\">:</span><span style=\"color: #800080; text-decoration-color: #800080\">838</span>]<span style=\"color: #c0c0c0; text-decoration-color: #c0c0c0\"> </span><span style=\"color: #ff00ff; text-decoration-color: #ff00ff\">[</span><span style=\"color: #008000; text-decoration-color: #008000\">'response'</span><span style=\"color: #ff00ff; text-decoration-color: #ff00ff\">]</span>:\n",
              "\n",
              "What is an LLM?weeQQQ'<span style=\"color: #008000; text-decoration-color: #008000\">'QQ'</span>evfhQQ;K.AEsWqb..CfC.h;vvx'<span style=\"color: #008000; text-decoration-color: #008000\">'bTopBe'</span>gWvXffv3ebssW.;?ptdeeep vrr..CCfkqcptyhpwTssWqsAxrqqqehmuZqZ:qeqGGGGauyfxrrAtgSrqWQ,,t;;ppMMgyeqfvfAAqcWYtqqoopepwySkkqggt3bZMqqq;;yybkSJcSQuuurruqqQtttoo'<span style=\"color: #008000; text-decoration-color: #008000\">'fAqq;;vSJZZZtM''qqM???gWWAAAt??MYYYe;yglAg;up'</span>exuqqWtu\n",
              "</pre>"
            ]
          }
        },
        {
          "output_type": "display_data",
          "metadata": {},
          "data": {
            "text/html": [
              "<pre style=\"white-space:pre;overflow-x:auto;line-height:normal;font-family:Menlo,'DejaVu Sans Mono',consolas,'Courier New',monospace\">[<span style=\"color: #7f7f7f; text-decoration-color: #7f7f7f\">2025-07-22 22:24:53,061277</span>][<span style=\"color: #008000; text-decoration-color: #008000\">I</span>][<span style=\"color: #008080; text-decoration-color: #008080; font-style: italic\">wordplay</span>/<span style=\"color: #000080; text-decoration-color: #000080\">trainer</span><span style=\"color: #0000ff; text-decoration-color: #0000ff\">:</span><span style=\"color: #800080; text-decoration-color: #800080\">769</span>]<span style=\"color: #c0c0c0; text-decoration-color: #c0c0c0\"> </span>Saving checkpoint to: <span style=\"color: #800080; text-decoration-color: #800080\">/Users/samforeman/projects/saforem2/intro-hpc-bootcamp-2025/content/02-llms/</span><span style=\"color: #ff00ff; text-decoration-color: #ff00ff\">7-shakespeare-example</span>\n",
              "</pre>"
            ]
          }
        },
        {
          "output_type": "display_data",
          "metadata": {},
          "data": {
            "text/html": [
              "<pre style=\"white-space:pre;overflow-x:auto;line-height:normal;font-family:Menlo,'DejaVu Sans Mono',consolas,'Courier New',monospace\">[<span style=\"color: #7f7f7f; text-decoration-color: #7f7f7f\">2025-07-22 22:24:53,063375</span>][<span style=\"color: #008000; text-decoration-color: #008000\">I</span>][<span style=\"color: #008080; text-decoration-color: #008080; font-style: italic\">wordplay</span>/<span style=\"color: #000080; text-decoration-color: #000080\">trainer</span><span style=\"color: #0000ff; text-decoration-color: #0000ff\">:</span><span style=\"color: #800080; text-decoration-color: #800080\">770</span>]<span style=\"color: #c0c0c0; text-decoration-color: #c0c0c0\"> </span>Saving model to: <span style=\"color: #800080; text-decoration-color: #800080\">/Users/samforeman/projects/saforem2/intro-hpc-bootcamp-2025/content/02-llms/7-shakespeare-example/</span><span style=\"color: #ff00ff; text-decoration-color: #ff00ff\">model.pth</span>\n",
              "</pre>"
            ]
          }
        },
        {
          "output_type": "display_data",
          "metadata": {},
          "data": {
            "text/html": [
              "<pre style=\"white-space:pre;overflow-x:auto;line-height:normal;font-family:Menlo,'DejaVu Sans Mono',consolas,'Courier New',monospace\">[<span style=\"color: #7f7f7f; text-decoration-color: #7f7f7f\">2025-07-22 22:24:53,146361</span>][<span style=\"color: #008000; text-decoration-color: #008000\">I</span>][<span style=\"color: #008080; text-decoration-color: #008080; font-style: italic\">wordplay</span>/<span style=\"color: #000080; text-decoration-color: #000080\">configs</span><span style=\"color: #0000ff; text-decoration-color: #0000ff\">:</span><span style=\"color: #800080; text-decoration-color: #800080\">141</span>]<span style=\"color: #c0c0c0; text-decoration-color: #c0c0c0\"> </span>Appending <span style=\"color: #800080; text-decoration-color: #800080\">/Users/samforeman/projects/saforem2/intro-hpc-bootcamp-2025/content/02-llms/</span><span style=\"color: #ff00ff; text-decoration-color: #ff00ff\">7-shakespeare-example</span> to <span style=\"color: #800080; text-decoration-color: #800080\">/Users/samforeman/projects/saforem2/wordplay/src/ckpts/</span><span style=\"color: #ff00ff; text-decoration-color: #ff00ff\">checkpoints.log</span>\n",
              "</pre>"
            ]
          }
        },
        {
          "output_type": "display_data",
          "metadata": {},
          "data": {
            "text/html": [
              "<pre style=\"white-space:pre;overflow-x:auto;line-height:normal;font-family:Menlo,'DejaVu Sans Mono',consolas,'Courier New',monospace\">[<span style=\"color: #7f7f7f; text-decoration-color: #7f7f7f\">2025-07-22 22:24:53,331371</span>][<span style=\"color: #008000; text-decoration-color: #008000\">I</span>][<span style=\"color: #008080; text-decoration-color: #008080; font-style: italic\">wordplay</span>/<span style=\"color: #000080; text-decoration-color: #000080\">trainer</span><span style=\"color: #0000ff; text-decoration-color: #0000ff\">:</span><span style=\"color: #800080; text-decoration-color: #800080\">901</span>]<span style=\"color: #c0c0c0; text-decoration-color: #c0c0c0\"> </span><span style=\"color: #0000ff; text-decoration-color: #0000ff\">step</span>=<span style=\"color: #008080; text-decoration-color: #008080; font-weight: bold\">460</span> <span style=\"color: #0000ff; text-decoration-color: #0000ff\">loss</span>=<span style=\"color: #008080; text-decoration-color: #008080; font-weight: bold\">4.24269</span> <span style=\"color: #0000ff; text-decoration-color: #0000ff\">dt</span>=<span style=\"color: #008080; text-decoration-color: #008080; font-weight: bold\">0.0171837</span> <span style=\"color: #0000ff; text-decoration-color: #0000ff\">dtf</span>=<span style=\"color: #008080; text-decoration-color: #008080; font-weight: bold\">0.0169337</span> <span style=\"color: #0000ff; text-decoration-color: #0000ff\">dtb</span>=<span style=\"color: #008080; text-decoration-color: #008080; font-weight: bold\">9.94999e-05</span> <span style=\"color: #0000ff; text-decoration-color: #0000ff\">sps</span>=<span style=\"color: #008080; text-decoration-color: #008080; font-weight: bold\">58.1945</span> <span style=\"color: #0000ff; text-decoration-color: #0000ff\">sps_per_gpu</span>=<span style=\"color: #008080; text-decoration-color: #008080; font-weight: bold\">58.1945</span> <span style=\"color: #0000ff; text-decoration-color: #0000ff\">tps</span>=<span style=\"color: #008080; text-decoration-color: #008080; font-weight: bold\">7448.9</span> <span style=\"color: #0000ff; text-decoration-color: #0000ff\">tps_per_gpu</span>=<span style=\"color: #008080; text-decoration-color: #008080; font-weight: bold\">7448.9</span> <span style=\"color: #0000ff; text-decoration-color: #0000ff\">mfu</span>=<span style=\"color: #008080; text-decoration-color: #008080; font-weight: bold\">0.143626</span>\n",
              "</pre>"
            ]
          }
        },
        {
          "output_type": "display_data",
          "metadata": {},
          "data": {
            "text/html": [
              "<pre style=\"white-space:pre;overflow-x:auto;line-height:normal;font-family:Menlo,'DejaVu Sans Mono',consolas,'Courier New',monospace\">[<span style=\"color: #7f7f7f; text-decoration-color: #7f7f7f\">2025-07-22 22:24:53,514814</span>][<span style=\"color: #008000; text-decoration-color: #008000\">I</span>][<span style=\"color: #008080; text-decoration-color: #008080; font-style: italic\">wordplay</span>/<span style=\"color: #000080; text-decoration-color: #000080\">trainer</span><span style=\"color: #0000ff; text-decoration-color: #0000ff\">:</span><span style=\"color: #800080; text-decoration-color: #800080\">901</span>]<span style=\"color: #c0c0c0; text-decoration-color: #c0c0c0\"> </span><span style=\"color: #0000ff; text-decoration-color: #0000ff\">step</span>=<span style=\"color: #008080; text-decoration-color: #008080; font-weight: bold\">470</span> <span style=\"color: #0000ff; text-decoration-color: #0000ff\">loss</span>=<span style=\"color: #008080; text-decoration-color: #008080; font-weight: bold\">4.26877</span> <span style=\"color: #0000ff; text-decoration-color: #0000ff\">dt</span>=<span style=\"color: #008080; text-decoration-color: #008080; font-weight: bold\">0.0177474</span> <span style=\"color: #0000ff; text-decoration-color: #0000ff\">dtf</span>=<span style=\"color: #008080; text-decoration-color: #008080; font-weight: bold\">0.0174593</span> <span style=\"color: #0000ff; text-decoration-color: #0000ff\">dtb</span>=<span style=\"color: #008080; text-decoration-color: #008080; font-weight: bold\">0.000126833</span> <span style=\"color: #0000ff; text-decoration-color: #0000ff\">sps</span>=<span style=\"color: #008080; text-decoration-color: #008080; font-weight: bold\">56.3462</span> <span style=\"color: #0000ff; text-decoration-color: #0000ff\">sps_per_gpu</span>=<span style=\"color: #008080; text-decoration-color: #008080; font-weight: bold\">56.3462</span> <span style=\"color: #0000ff; text-decoration-color: #0000ff\">tps</span>=<span style=\"color: #008080; text-decoration-color: #008080; font-weight: bold\">7212.32</span> <span style=\"color: #0000ff; text-decoration-color: #0000ff\">tps_per_gpu</span>=<span style=\"color: #008080; text-decoration-color: #008080; font-weight: bold\">7212.32</span> <span style=\"color: #0000ff; text-decoration-color: #0000ff\">mfu</span>=<span style=\"color: #008080; text-decoration-color: #008080; font-weight: bold\">0.144848</span>\n",
              "</pre>"
            ]
          }
        },
        {
          "output_type": "display_data",
          "metadata": {},
          "data": {
            "text/html": [
              "<pre style=\"white-space:pre;overflow-x:auto;line-height:normal;font-family:Menlo,'DejaVu Sans Mono',consolas,'Courier New',monospace\">[<span style=\"color: #7f7f7f; text-decoration-color: #7f7f7f\">2025-07-22 22:24:53,703659</span>][<span style=\"color: #008000; text-decoration-color: #008000\">I</span>][<span style=\"color: #008080; text-decoration-color: #008080; font-style: italic\">wordplay</span>/<span style=\"color: #000080; text-decoration-color: #000080\">trainer</span><span style=\"color: #0000ff; text-decoration-color: #0000ff\">:</span><span style=\"color: #800080; text-decoration-color: #800080\">901</span>]<span style=\"color: #c0c0c0; text-decoration-color: #c0c0c0\"> </span><span style=\"color: #0000ff; text-decoration-color: #0000ff\">step</span>=<span style=\"color: #008080; text-decoration-color: #008080; font-weight: bold\">480</span> <span style=\"color: #0000ff; text-decoration-color: #0000ff\">loss</span>=<span style=\"color: #008080; text-decoration-color: #008080; font-weight: bold\">4.19188</span> <span style=\"color: #0000ff; text-decoration-color: #0000ff\">dt</span>=<span style=\"color: #008080; text-decoration-color: #008080; font-weight: bold\">0.0203032</span> <span style=\"color: #0000ff; text-decoration-color: #0000ff\">dtf</span>=<span style=\"color: #008080; text-decoration-color: #008080; font-weight: bold\">0.0199089</span> <span style=\"color: #0000ff; text-decoration-color: #0000ff\">dtb</span>=<span style=\"color: #008080; text-decoration-color: #008080; font-weight: bold\">0.00012725</span> <span style=\"color: #0000ff; text-decoration-color: #0000ff\">sps</span>=<span style=\"color: #008080; text-decoration-color: #008080; font-weight: bold\">49.2533</span> <span style=\"color: #0000ff; text-decoration-color: #0000ff\">sps_per_gpu</span>=<span style=\"color: #008080; text-decoration-color: #008080; font-weight: bold\">49.2533</span> <span style=\"color: #0000ff; text-decoration-color: #0000ff\">tps</span>=<span style=\"color: #008080; text-decoration-color: #008080; font-weight: bold\">6304.42</span> <span style=\"color: #0000ff; text-decoration-color: #0000ff\">tps_per_gpu</span>=<span style=\"color: #008080; text-decoration-color: #008080; font-weight: bold\">6304.42</span> <span style=\"color: #0000ff; text-decoration-color: #0000ff\">mfu</span>=<span style=\"color: #008080; text-decoration-color: #008080; font-weight: bold\">0.143987</span>\n",
              "</pre>"
            ]
          }
        },
        {
          "output_type": "display_data",
          "metadata": {},
          "data": {
            "text/html": [
              "<pre style=\"white-space:pre;overflow-x:auto;line-height:normal;font-family:Menlo,'DejaVu Sans Mono',consolas,'Courier New',monospace\">[<span style=\"color: #7f7f7f; text-decoration-color: #7f7f7f\">2025-07-22 22:24:54,084714</span>][<span style=\"color: #008000; text-decoration-color: #008000\">I</span>][<span style=\"color: #008080; text-decoration-color: #008080; font-style: italic\">wordplay</span>/<span style=\"color: #000080; text-decoration-color: #000080\">trainer</span><span style=\"color: #0000ff; text-decoration-color: #0000ff\">:</span><span style=\"color: #800080; text-decoration-color: #800080\">901</span>]<span style=\"color: #c0c0c0; text-decoration-color: #c0c0c0\"> </span><span style=\"color: #0000ff; text-decoration-color: #0000ff\">step</span>=<span style=\"color: #008080; text-decoration-color: #008080; font-weight: bold\">490</span> <span style=\"color: #0000ff; text-decoration-color: #0000ff\">loss</span>=<span style=\"color: #008080; text-decoration-color: #008080; font-weight: bold\">4.22611</span> <span style=\"color: #0000ff; text-decoration-color: #0000ff\">dt</span>=<span style=\"color: #008080; text-decoration-color: #008080; font-weight: bold\">0.023646</span> <span style=\"color: #0000ff; text-decoration-color: #0000ff\">dtf</span>=<span style=\"color: #008080; text-decoration-color: #008080; font-weight: bold\">0.0232924</span> <span style=\"color: #0000ff; text-decoration-color: #0000ff\">dtb</span>=<span style=\"color: #008080; text-decoration-color: #008080; font-weight: bold\">0.000135083</span> <span style=\"color: #0000ff; text-decoration-color: #0000ff\">sps</span>=<span style=\"color: #008080; text-decoration-color: #008080; font-weight: bold\">42.2905</span> <span style=\"color: #0000ff; text-decoration-color: #0000ff\">sps_per_gpu</span>=<span style=\"color: #008080; text-decoration-color: #008080; font-weight: bold\">42.2905</span> <span style=\"color: #0000ff; text-decoration-color: #0000ff\">tps</span>=<span style=\"color: #008080; text-decoration-color: #008080; font-weight: bold\">5413.18</span> <span style=\"color: #0000ff; text-decoration-color: #0000ff\">tps_per_gpu</span>=<span style=\"color: #008080; text-decoration-color: #008080; font-weight: bold\">5413.18</span> <span style=\"color: #0000ff; text-decoration-color: #0000ff\">mfu</span>=<span style=\"color: #008080; text-decoration-color: #008080; font-weight: bold\">0.141285</span>\n",
              "</pre>"
            ]
          }
        },
        {
          "output_type": "display_data",
          "metadata": {},
          "data": {
            "text/html": [
              "<pre style=\"white-space:pre;overflow-x:auto;line-height:normal;font-family:Menlo,'DejaVu Sans Mono',consolas,'Courier New',monospace\">[<span style=\"color: #7f7f7f; text-decoration-color: #7f7f7f\">2025-07-22 22:24:54,332990</span>][<span style=\"color: #008000; text-decoration-color: #008000\">I</span>][<span style=\"color: #008080; text-decoration-color: #008080; font-style: italic\">wordplay</span>/<span style=\"color: #000080; text-decoration-color: #000080\">trainer</span><span style=\"color: #0000ff; text-decoration-color: #0000ff\">:</span><span style=\"color: #800080; text-decoration-color: #800080\">901</span>]<span style=\"color: #c0c0c0; text-decoration-color: #c0c0c0\"> </span><span style=\"color: #0000ff; text-decoration-color: #0000ff\">step</span>=<span style=\"color: #008080; text-decoration-color: #008080; font-weight: bold\">500</span> <span style=\"color: #0000ff; text-decoration-color: #0000ff\">loss</span>=<span style=\"color: #008080; text-decoration-color: #008080; font-weight: bold\">4.21804</span> <span style=\"color: #0000ff; text-decoration-color: #0000ff\">dt</span>=<span style=\"color: #008080; text-decoration-color: #008080; font-weight: bold\">0.0283218</span> <span style=\"color: #0000ff; text-decoration-color: #0000ff\">dtf</span>=<span style=\"color: #008080; text-decoration-color: #008080; font-weight: bold\">0.0270621</span> <span style=\"color: #0000ff; text-decoration-color: #0000ff\">dtb</span>=<span style=\"color: #008080; text-decoration-color: #008080; font-weight: bold\">0.00013475</span> <span style=\"color: #0000ff; text-decoration-color: #0000ff\">sps</span>=<span style=\"color: #008080; text-decoration-color: #008080; font-weight: bold\">35.3084</span> <span style=\"color: #0000ff; text-decoration-color: #0000ff\">sps_per_gpu</span>=<span style=\"color: #008080; text-decoration-color: #008080; font-weight: bold\">35.3084</span> <span style=\"color: #0000ff; text-decoration-color: #0000ff\">tps</span>=<span style=\"color: #008080; text-decoration-color: #008080; font-weight: bold\">4519.48</span> <span style=\"color: #0000ff; text-decoration-color: #0000ff\">tps_per_gpu</span>=<span style=\"color: #008080; text-decoration-color: #008080; font-weight: bold\">4519.48</span> <span style=\"color: #0000ff; text-decoration-color: #0000ff\">mfu</span>=<span style=\"color: #008080; text-decoration-color: #008080; font-weight: bold\">0.136923</span>\n",
              "</pre>"
            ]
          }
        }
      ],
      "source": [
        "trainer.train(train_iters=500)"
      ],
      "id": "1d134512"
    },
    {
      "cell_type": "code",
      "execution_count": 9,
      "metadata": {
        "quarto-private-1": {
          "key": "colab",
          "value": {
            "base_uri": "https://localhost:8080/",
            "height": 321
          }
        }
      },
      "outputs": [
        {
          "output_type": "display_data",
          "metadata": {},
          "data": {
            "text/html": [
              "<pre style=\"white-space:pre;overflow-x:auto;line-height:normal;font-family:Menlo,'DejaVu Sans Mono',consolas,'Courier New',monospace\">[<span style=\"color: #7f7f7f; text-decoration-color: #7f7f7f\">2025-07-22 22:24:57,059118</span>][<span style=\"color: #008000; text-decoration-color: #008000\">I</span>][<span style=\"color: #008080; text-decoration-color: #008080; font-style: italic\">ipykernel_52985</span>/<span style=\"color: #000080; text-decoration-color: #000080\">1425179755</span><span style=\"color: #0000ff; text-decoration-color: #0000ff\">:</span><span style=\"color: #800080; text-decoration-color: #800080\">12</span><span style=\"color: #0000ff; text-decoration-color: #0000ff\">:</span><span style=\"color: #00ff00; text-decoration-color: #00ff00; font-style: italic\">ezpz.log</span>]<span style=\"color: #c0c0c0; text-decoration-color: #c0c0c0\"> </span>took: <span style=\"color: #008080; text-decoration-color: #008080; font-weight: bold\">1.</span>9380s\n",
              "</pre>"
            ]
          }
        },
        {
          "output_type": "display_data",
          "metadata": {},
          "data": {
            "text/html": [
              "<pre style=\"white-space:pre;overflow-x:auto;line-height:normal;font-family:Menlo,'DejaVu Sans Mono',consolas,'Courier New',monospace\">[<span style=\"color: #7f7f7f; text-decoration-color: #7f7f7f\">2025-07-22 22:24:57,062558</span>][<span style=\"color: #008000; text-decoration-color: #008000\">I</span>][<span style=\"color: #008080; text-decoration-color: #008080; font-style: italic\">ipykernel_52985</span>/<span style=\"color: #000080; text-decoration-color: #000080\">1425179755</span><span style=\"color: #0000ff; text-decoration-color: #0000ff\">:</span><span style=\"color: #800080; text-decoration-color: #800080\">13</span><span style=\"color: #0000ff; text-decoration-color: #0000ff\">:</span><span style=\"color: #00ff00; text-decoration-color: #00ff00; font-style: italic\">ezpz.log</span>]<span style=\"color: #c0c0c0; text-decoration-color: #c0c0c0\"> </span><span style=\"color: #ff00ff; text-decoration-color: #ff00ff\">[</span><span style=\"color: #008000; text-decoration-color: #008000\">'prompt'</span><span style=\"color: #ff00ff; text-decoration-color: #ff00ff\">]</span>: <span style=\"color: #008000; text-decoration-color: #008000\">'What is an LLM?'</span>\n",
              "</pre>"
            ]
          }
        },
        {
          "output_type": "display_data",
          "metadata": {},
          "data": {
            "text/html": [
              "<pre style=\"white-space:pre;overflow-x:auto;line-height:normal;font-family:Menlo,'DejaVu Sans Mono',consolas,'Courier New',monospace\">[<span style=\"color: #7f7f7f; text-decoration-color: #7f7f7f\">2025-07-22 22:24:57,063296</span>][<span style=\"color: #008000; text-decoration-color: #008000\">I</span>][<span style=\"color: #008080; text-decoration-color: #008080; font-style: italic\">ipykernel_52985</span>/<span style=\"color: #000080; text-decoration-color: #000080\">1425179755</span><span style=\"color: #0000ff; text-decoration-color: #0000ff\">:</span><span style=\"color: #800080; text-decoration-color: #800080\">14</span><span style=\"color: #0000ff; text-decoration-color: #0000ff\">:</span><span style=\"color: #00ff00; text-decoration-color: #00ff00; font-style: italic\">ezpz.log</span>]<span style=\"color: #c0c0c0; text-decoration-color: #c0c0c0\"> </span><span style=\"color: #ff00ff; text-decoration-color: #ff00ff\">[</span><span style=\"color: #008000; text-decoration-color: #008000\">'response'</span><span style=\"color: #ff00ff; text-decoration-color: #ff00ff\">]</span>:\n",
              "\n",
              "What is an LLM?fwll\n",
              "\n",
              "b3afqbZZI,r oppq3A33QoUUye-fwC'3b3.<span style=\"color: #008000; text-decoration-color: #008000\">',A'</span>.hhPlVXXqeQyCCC;xfssc;wTTTTcdGoeehQOCXXXB'KZ--qehoF3AqfqqW\n",
              "cQAcceffGG,<span style=\"color: #008000; text-decoration-color: #008000\">'fSJpppww,txMgQs;;;?qf'</span>fSSrpcg?s,A'rr,aso?<span style=\"color: #008000; text-decoration-color: #008000\">''</span>o'MtQrrSSgqfttggSc'<span style=\"color: #008000; text-decoration-color: #008000\">'Wb'</span>qA,.Apcbb???;pYYySQ'agggScWQgbqWfqYroffSYSYhqfk'<span style=\"color: #008000; text-decoration-color: #008000\">'qfAA,sgWlnZ:pt,JynS'</span>gJZes\n",
              "</pre>"
            ]
          }
        }
      ],
      "source": [
        "import time\n",
        "\n",
        "query = \"What is an LLM?\"\n",
        "t0 = time.perf_counter()\n",
        "outputs = trainer.evaluate(\n",
        "    query,\n",
        "    num_samples=1,\n",
        "    max_new_tokens=256,\n",
        "    top_k=16,\n",
        "    display=False\n",
        ")\n",
        "logger.info(f'took: {time.perf_counter() - t0:.4f}s')\n",
        "logger.info(f\"['prompt']: '{query}'\")\n",
        "logger.info(\"['response']:\\n\\n\" + fr\"{outputs['0']['raw']}\")"
      ],
      "id": "95ea3019"
    },
    {
      "cell_type": "markdown",
      "metadata": {},
      "source": [
        "## Resume Training…"
      ],
      "id": "cc6eb6c5-7d4b-48e0-bdca-87b87f95082a"
    },
    {
      "cell_type": "code",
      "execution_count": 10,
      "metadata": {
        "quarto-private-1": {
          "key": "colab",
          "value": {
            "base_uri": "https://localhost:8080/",
            "height": 832
          }
        }
      },
      "outputs": [
        {
          "output_type": "display_data",
          "metadata": {},
          "data": {
            "text/html": [
              "<pre style=\"white-space:pre;overflow-x:auto;line-height:normal;font-family:Menlo,'DejaVu Sans Mono',consolas,'Courier New',monospace\">[<span style=\"color: #7f7f7f; text-decoration-color: #7f7f7f\">2025-07-22 22:24:59,754437</span>][<span style=\"color: #008000; text-decoration-color: #008000\">I</span>][<span style=\"color: #008080; text-decoration-color: #008080; font-style: italic\">wordplay</span>/<span style=\"color: #000080; text-decoration-color: #000080\">trainer</span><span style=\"color: #0000ff; text-decoration-color: #0000ff\">:</span><span style=\"color: #800080; text-decoration-color: #800080\">834</span>]<span style=\"color: #c0c0c0; text-decoration-color: #c0c0c0\"> </span><span style=\"color: #ff00ff; text-decoration-color: #ff00ff\">[</span><span style=\"color: #008000; text-decoration-color: #008000\">'prompt'</span><span style=\"color: #ff00ff; text-decoration-color: #ff00ff\">]</span>: <span style=\"color: #008000; text-decoration-color: #008000\">'What is an LLM?'</span>\n",
              "</pre>"
            ]
          }
        },
        {
          "output_type": "display_data",
          "metadata": {},
          "data": {
            "text/html": [
              "<pre style=\"white-space:pre;overflow-x:auto;line-height:normal;font-family:Menlo,'DejaVu Sans Mono',consolas,'Courier New',monospace\">[<span style=\"color: #7f7f7f; text-decoration-color: #7f7f7f\">2025-07-22 22:24:59,755986</span>][<span style=\"color: #008000; text-decoration-color: #008000\">I</span>][<span style=\"color: #008080; text-decoration-color: #008080; font-style: italic\">wordplay</span>/<span style=\"color: #000080; text-decoration-color: #000080\">trainer</span><span style=\"color: #0000ff; text-decoration-color: #0000ff\">:</span><span style=\"color: #800080; text-decoration-color: #800080\">838</span>]<span style=\"color: #c0c0c0; text-decoration-color: #c0c0c0\"> </span><span style=\"color: #ff00ff; text-decoration-color: #ff00ff\">[</span><span style=\"color: #008000; text-decoration-color: #008000\">'response'</span><span style=\"color: #ff00ff; text-decoration-color: #ff00ff\">]</span>:\n",
              "\n",
              "What is an LLM?wZbbbT'3weew,<span style=\"color: #008000; text-decoration-color: #008000\">'foBB.qWWlpwes.qqQevFAA.bbvFF-AkacWWfYhx3fooB'''</span>';vveesppWW\n",
              "eeWA3ZZppPZe;dCCvres ;ecc--Ws'cqor,JZVVVCCeepfqqWxApBBBBhh;;JeQhMMss,,wshrhW?BiMWYqqwwwAASSwrrroo,rqtWseMq.Ak'ofA,,<span style=\"color: #008000; text-decoration-color: #008000\">'t,,..hh;xx'</span>?sAq';cqxrqWkeMqt'gzAAxhrpqt'g't;?btoseq-pqq'qAtttt,eqrM\n",
              "</pre>"
            ]
          }
        },
        {
          "output_type": "display_data",
          "metadata": {},
          "data": {
            "text/html": [
              "<pre style=\"white-space:pre;overflow-x:auto;line-height:normal;font-family:Menlo,'DejaVu Sans Mono',consolas,'Courier New',monospace\">[<span style=\"color: #7f7f7f; text-decoration-color: #7f7f7f\">2025-07-22 22:25:02,884658</span>][<span style=\"color: #008000; text-decoration-color: #008000\">I</span>][<span style=\"color: #008080; text-decoration-color: #008080; font-style: italic\">wordplay</span>/<span style=\"color: #000080; text-decoration-color: #000080\">trainer</span><span style=\"color: #0000ff; text-decoration-color: #0000ff\">:</span><span style=\"color: #800080; text-decoration-color: #800080\">769</span>]<span style=\"color: #c0c0c0; text-decoration-color: #c0c0c0\"> </span>Saving checkpoint to: <span style=\"color: #800080; text-decoration-color: #800080\">/Users/samforeman/projects/saforem2/intro-hpc-bootcamp-2025/content/02-llms/</span><span style=\"color: #ff00ff; text-decoration-color: #ff00ff\">7-shakespeare-example</span>\n",
              "</pre>"
            ]
          }
        },
        {
          "output_type": "display_data",
          "metadata": {},
          "data": {
            "text/html": [
              "<pre style=\"white-space:pre;overflow-x:auto;line-height:normal;font-family:Menlo,'DejaVu Sans Mono',consolas,'Courier New',monospace\">[<span style=\"color: #7f7f7f; text-decoration-color: #7f7f7f\">2025-07-22 22:25:02,891985</span>][<span style=\"color: #008000; text-decoration-color: #008000\">I</span>][<span style=\"color: #008080; text-decoration-color: #008080; font-style: italic\">wordplay</span>/<span style=\"color: #000080; text-decoration-color: #000080\">trainer</span><span style=\"color: #0000ff; text-decoration-color: #0000ff\">:</span><span style=\"color: #800080; text-decoration-color: #800080\">770</span>]<span style=\"color: #c0c0c0; text-decoration-color: #c0c0c0\"> </span>Saving model to: <span style=\"color: #800080; text-decoration-color: #800080\">/Users/samforeman/projects/saforem2/intro-hpc-bootcamp-2025/content/02-llms/7-shakespeare-example/</span><span style=\"color: #ff00ff; text-decoration-color: #ff00ff\">model.pth</span>\n",
              "</pre>"
            ]
          }
        },
        {
          "output_type": "display_data",
          "metadata": {},
          "data": {
            "text/html": [
              "<pre style=\"white-space:pre;overflow-x:auto;line-height:normal;font-family:Menlo,'DejaVu Sans Mono',consolas,'Courier New',monospace\">[<span style=\"color: #7f7f7f; text-decoration-color: #7f7f7f\">2025-07-22 22:25:03,057365</span>][<span style=\"color: #008000; text-decoration-color: #008000\">I</span>][<span style=\"color: #008080; text-decoration-color: #008080; font-style: italic\">wordplay</span>/<span style=\"color: #000080; text-decoration-color: #000080\">configs</span><span style=\"color: #0000ff; text-decoration-color: #0000ff\">:</span><span style=\"color: #800080; text-decoration-color: #800080\">141</span>]<span style=\"color: #c0c0c0; text-decoration-color: #c0c0c0\"> </span>Appending <span style=\"color: #800080; text-decoration-color: #800080\">/Users/samforeman/projects/saforem2/intro-hpc-bootcamp-2025/content/02-llms/</span><span style=\"color: #ff00ff; text-decoration-color: #ff00ff\">7-shakespeare-example</span> to <span style=\"color: #800080; text-decoration-color: #800080\">/Users/samforeman/projects/saforem2/wordplay/src/ckpts/</span><span style=\"color: #ff00ff; text-decoration-color: #ff00ff\">checkpoints.log</span>\n",
              "</pre>"
            ]
          }
        },
        {
          "output_type": "display_data",
          "metadata": {},
          "data": {
            "text/html": [
              "<pre style=\"white-space:pre;overflow-x:auto;line-height:normal;font-family:Menlo,'DejaVu Sans Mono',consolas,'Courier New',monospace\">[<span style=\"color: #7f7f7f; text-decoration-color: #7f7f7f\">2025-07-22 22:25:03,251307</span>][<span style=\"color: #008000; text-decoration-color: #008000\">I</span>][<span style=\"color: #008080; text-decoration-color: #008080; font-style: italic\">wordplay</span>/<span style=\"color: #000080; text-decoration-color: #000080\">trainer</span><span style=\"color: #0000ff; text-decoration-color: #0000ff\">:</span><span style=\"color: #800080; text-decoration-color: #800080\">901</span>]<span style=\"color: #c0c0c0; text-decoration-color: #c0c0c0\"> </span><span style=\"color: #0000ff; text-decoration-color: #0000ff\">step</span>=<span style=\"color: #008080; text-decoration-color: #008080; font-weight: bold\">510</span> <span style=\"color: #0000ff; text-decoration-color: #0000ff\">loss</span>=<span style=\"color: #008080; text-decoration-color: #008080; font-weight: bold\">4.25518</span> <span style=\"color: #0000ff; text-decoration-color: #0000ff\">dt</span>=<span style=\"color: #008080; text-decoration-color: #008080; font-weight: bold\">0.0200933</span> <span style=\"color: #0000ff; text-decoration-color: #0000ff\">dtf</span>=<span style=\"color: #008080; text-decoration-color: #008080; font-weight: bold\">0.019772</span> <span style=\"color: #0000ff; text-decoration-color: #0000ff\">dtb</span>=<span style=\"color: #008080; text-decoration-color: #008080; font-weight: bold\">0.000123917</span> <span style=\"color: #0000ff; text-decoration-color: #0000ff\">sps</span>=<span style=\"color: #008080; text-decoration-color: #008080; font-weight: bold\">49.768</span> <span style=\"color: #0000ff; text-decoration-color: #0000ff\">sps_per_gpu</span>=<span style=\"color: #008080; text-decoration-color: #008080; font-weight: bold\">49.768</span> <span style=\"color: #0000ff; text-decoration-color: #0000ff\">tps</span>=<span style=\"color: #008080; text-decoration-color: #008080; font-weight: bold\">6370.3</span> <span style=\"color: #0000ff; text-decoration-color: #0000ff\">tps_per_gpu</span>=<span style=\"color: #008080; text-decoration-color: #008080; font-weight: bold\">6370.3</span> <span style=\"color: #0000ff; text-decoration-color: #0000ff\">mfu</span>=<span style=\"color: #008080; text-decoration-color: #008080; font-weight: bold\">0.137655</span>\n",
              "</pre>"
            ]
          }
        },
        {
          "output_type": "display_data",
          "metadata": {},
          "data": {
            "text/html": [
              "<pre style=\"white-space:pre;overflow-x:auto;line-height:normal;font-family:Menlo,'DejaVu Sans Mono',consolas,'Courier New',monospace\">[<span style=\"color: #7f7f7f; text-decoration-color: #7f7f7f\">2025-07-22 22:25:03,452201</span>][<span style=\"color: #008000; text-decoration-color: #008000\">I</span>][<span style=\"color: #008080; text-decoration-color: #008080; font-style: italic\">wordplay</span>/<span style=\"color: #000080; text-decoration-color: #000080\">trainer</span><span style=\"color: #0000ff; text-decoration-color: #0000ff\">:</span><span style=\"color: #800080; text-decoration-color: #800080\">901</span>]<span style=\"color: #c0c0c0; text-decoration-color: #c0c0c0\"> </span><span style=\"color: #0000ff; text-decoration-color: #0000ff\">step</span>=<span style=\"color: #008080; text-decoration-color: #008080; font-weight: bold\">520</span> <span style=\"color: #0000ff; text-decoration-color: #0000ff\">loss</span>=<span style=\"color: #008080; text-decoration-color: #008080; font-weight: bold\">4.20906</span> <span style=\"color: #0000ff; text-decoration-color: #0000ff\">dt</span>=<span style=\"color: #008080; text-decoration-color: #008080; font-weight: bold\">0.0199086</span> <span style=\"color: #0000ff; text-decoration-color: #0000ff\">dtf</span>=<span style=\"color: #008080; text-decoration-color: #008080; font-weight: bold\">0.0195773</span> <span style=\"color: #0000ff; text-decoration-color: #0000ff\">dtb</span>=<span style=\"color: #008080; text-decoration-color: #008080; font-weight: bold\">0.000127209</span> <span style=\"color: #0000ff; text-decoration-color: #0000ff\">sps</span>=<span style=\"color: #008080; text-decoration-color: #008080; font-weight: bold\">50.2296</span> <span style=\"color: #0000ff; text-decoration-color: #0000ff\">sps_per_gpu</span>=<span style=\"color: #008080; text-decoration-color: #008080; font-weight: bold\">50.2296</span> <span style=\"color: #0000ff; text-decoration-color: #0000ff\">tps</span>=<span style=\"color: #008080; text-decoration-color: #008080; font-weight: bold\">6429.39</span> <span style=\"color: #0000ff; text-decoration-color: #0000ff\">tps_per_gpu</span>=<span style=\"color: #008080; text-decoration-color: #008080; font-weight: bold\">6429.39</span> <span style=\"color: #0000ff; text-decoration-color: #0000ff\">mfu</span>=<span style=\"color: #008080; text-decoration-color: #008080; font-weight: bold\">0.137783</span>\n",
              "</pre>"
            ]
          }
        },
        {
          "output_type": "display_data",
          "metadata": {},
          "data": {
            "text/html": [
              "<pre style=\"white-space:pre;overflow-x:auto;line-height:normal;font-family:Menlo,'DejaVu Sans Mono',consolas,'Courier New',monospace\">[<span style=\"color: #7f7f7f; text-decoration-color: #7f7f7f\">2025-07-22 22:25:03,636913</span>][<span style=\"color: #008000; text-decoration-color: #008000\">I</span>][<span style=\"color: #008080; text-decoration-color: #008080; font-style: italic\">wordplay</span>/<span style=\"color: #000080; text-decoration-color: #000080\">trainer</span><span style=\"color: #0000ff; text-decoration-color: #0000ff\">:</span><span style=\"color: #800080; text-decoration-color: #800080\">901</span>]<span style=\"color: #c0c0c0; text-decoration-color: #c0c0c0\"> </span><span style=\"color: #0000ff; text-decoration-color: #0000ff\">step</span>=<span style=\"color: #008080; text-decoration-color: #008080; font-weight: bold\">530</span> <span style=\"color: #0000ff; text-decoration-color: #0000ff\">loss</span>=<span style=\"color: #008080; text-decoration-color: #008080; font-weight: bold\">4.22394</span> <span style=\"color: #0000ff; text-decoration-color: #0000ff\">dt</span>=<span style=\"color: #008080; text-decoration-color: #008080; font-weight: bold\">0.018525</span> <span style=\"color: #0000ff; text-decoration-color: #0000ff\">dtf</span>=<span style=\"color: #008080; text-decoration-color: #008080; font-weight: bold\">0.0182125</span> <span style=\"color: #0000ff; text-decoration-color: #0000ff\">dtb</span>=<span style=\"color: #008080; text-decoration-color: #008080; font-weight: bold\">0.000128209</span> <span style=\"color: #0000ff; text-decoration-color: #0000ff\">sps</span>=<span style=\"color: #008080; text-decoration-color: #008080; font-weight: bold\">53.9811</span> <span style=\"color: #0000ff; text-decoration-color: #0000ff\">sps_per_gpu</span>=<span style=\"color: #008080; text-decoration-color: #008080; font-weight: bold\">53.9811</span> <span style=\"color: #0000ff; text-decoration-color: #0000ff\">tps</span>=<span style=\"color: #008080; text-decoration-color: #008080; font-weight: bold\">6909.58</span> <span style=\"color: #0000ff; text-decoration-color: #0000ff\">tps_per_gpu</span>=<span style=\"color: #008080; text-decoration-color: #008080; font-weight: bold\">6909.58</span> <span style=\"color: #0000ff; text-decoration-color: #0000ff\">mfu</span>=<span style=\"color: #008080; text-decoration-color: #008080; font-weight: bold\">0.138935</span>\n",
              "</pre>"
            ]
          }
        },
        {
          "output_type": "display_data",
          "metadata": {},
          "data": {
            "text/html": [
              "<pre style=\"white-space:pre;overflow-x:auto;line-height:normal;font-family:Menlo,'DejaVu Sans Mono',consolas,'Courier New',monospace\">[<span style=\"color: #7f7f7f; text-decoration-color: #7f7f7f\">2025-07-22 22:25:03,894784</span>][<span style=\"color: #008000; text-decoration-color: #008000\">I</span>][<span style=\"color: #008080; text-decoration-color: #008080; font-style: italic\">wordplay</span>/<span style=\"color: #000080; text-decoration-color: #000080\">trainer</span><span style=\"color: #0000ff; text-decoration-color: #0000ff\">:</span><span style=\"color: #800080; text-decoration-color: #800080\">901</span>]<span style=\"color: #c0c0c0; text-decoration-color: #c0c0c0\"> </span><span style=\"color: #0000ff; text-decoration-color: #0000ff\">step</span>=<span style=\"color: #008080; text-decoration-color: #008080; font-weight: bold\">540</span> <span style=\"color: #0000ff; text-decoration-color: #0000ff\">loss</span>=<span style=\"color: #008080; text-decoration-color: #008080; font-weight: bold\">4.23923</span> <span style=\"color: #0000ff; text-decoration-color: #0000ff\">dt</span>=<span style=\"color: #008080; text-decoration-color: #008080; font-weight: bold\">0.0379193</span> <span style=\"color: #0000ff; text-decoration-color: #0000ff\">dtf</span>=<span style=\"color: #008080; text-decoration-color: #008080; font-weight: bold\">0.0376176</span> <span style=\"color: #0000ff; text-decoration-color: #0000ff\">dtb</span>=<span style=\"color: #008080; text-decoration-color: #008080; font-weight: bold\">0.000119875</span> <span style=\"color: #0000ff; text-decoration-color: #0000ff\">sps</span>=<span style=\"color: #008080; text-decoration-color: #008080; font-weight: bold\">26.3718</span> <span style=\"color: #0000ff; text-decoration-color: #0000ff\">sps_per_gpu</span>=<span style=\"color: #008080; text-decoration-color: #008080; font-weight: bold\">26.3718</span> <span style=\"color: #0000ff; text-decoration-color: #0000ff\">tps</span>=<span style=\"color: #008080; text-decoration-color: #008080; font-weight: bold\">3375.59</span> <span style=\"color: #0000ff; text-decoration-color: #0000ff\">tps_per_gpu</span>=<span style=\"color: #008080; text-decoration-color: #008080; font-weight: bold\">3375.59</span> <span style=\"color: #0000ff; text-decoration-color: #0000ff\">mfu</span>=<span style=\"color: #008080; text-decoration-color: #008080; font-weight: bold\">0.132336</span>\n",
              "</pre>"
            ]
          }
        },
        {
          "output_type": "display_data",
          "metadata": {},
          "data": {
            "text/html": [
              "<pre style=\"white-space:pre;overflow-x:auto;line-height:normal;font-family:Menlo,'DejaVu Sans Mono',consolas,'Courier New',monospace\">[<span style=\"color: #7f7f7f; text-decoration-color: #7f7f7f\">2025-07-22 22:25:04,109249</span>][<span style=\"color: #008000; text-decoration-color: #008000\">I</span>][<span style=\"color: #008080; text-decoration-color: #008080; font-style: italic\">wordplay</span>/<span style=\"color: #000080; text-decoration-color: #000080\">trainer</span><span style=\"color: #0000ff; text-decoration-color: #0000ff\">:</span><span style=\"color: #800080; text-decoration-color: #800080\">901</span>]<span style=\"color: #c0c0c0; text-decoration-color: #c0c0c0\"> </span><span style=\"color: #0000ff; text-decoration-color: #0000ff\">step</span>=<span style=\"color: #008080; text-decoration-color: #008080; font-weight: bold\">550</span> <span style=\"color: #0000ff; text-decoration-color: #0000ff\">loss</span>=<span style=\"color: #008080; text-decoration-color: #008080; font-weight: bold\">4.24928</span> <span style=\"color: #0000ff; text-decoration-color: #0000ff\">dt</span>=<span style=\"color: #008080; text-decoration-color: #008080; font-weight: bold\">0.0193857</span> <span style=\"color: #0000ff; text-decoration-color: #0000ff\">dtf</span>=<span style=\"color: #008080; text-decoration-color: #008080; font-weight: bold\">0.0190705</span> <span style=\"color: #0000ff; text-decoration-color: #0000ff\">dtb</span>=<span style=\"color: #008080; text-decoration-color: #008080; font-weight: bold\">0.0001155</span> <span style=\"color: #0000ff; text-decoration-color: #0000ff\">sps</span>=<span style=\"color: #008080; text-decoration-color: #008080; font-weight: bold\">51.5845</span> <span style=\"color: #0000ff; text-decoration-color: #0000ff\">sps_per_gpu</span>=<span style=\"color: #008080; text-decoration-color: #008080; font-weight: bold\">51.5845</span> <span style=\"color: #0000ff; text-decoration-color: #0000ff\">tps</span>=<span style=\"color: #008080; text-decoration-color: #008080; font-weight: bold\">6602.82</span> <span style=\"color: #0000ff; text-decoration-color: #0000ff\">tps_per_gpu</span>=<span style=\"color: #008080; text-decoration-color: #008080; font-weight: bold\">6602.82</span> <span style=\"color: #0000ff; text-decoration-color: #0000ff\">mfu</span>=<span style=\"color: #008080; text-decoration-color: #008080; font-weight: bold\">0.13337</span>\n",
              "</pre>"
            ]
          }
        },
        {
          "output_type": "display_data",
          "metadata": {},
          "data": {
            "text/html": [
              "<pre style=\"white-space:pre;overflow-x:auto;line-height:normal;font-family:Menlo,'DejaVu Sans Mono',consolas,'Courier New',monospace\">[<span style=\"color: #7f7f7f; text-decoration-color: #7f7f7f\">2025-07-22 22:25:05,986056</span>][<span style=\"color: #008000; text-decoration-color: #008000\">I</span>][<span style=\"color: #008080; text-decoration-color: #008080; font-style: italic\">wordplay</span>/<span style=\"color: #000080; text-decoration-color: #000080\">trainer</span><span style=\"color: #0000ff; text-decoration-color: #0000ff\">:</span><span style=\"color: #800080; text-decoration-color: #800080\">834</span>]<span style=\"color: #c0c0c0; text-decoration-color: #c0c0c0\"> </span><span style=\"color: #ff00ff; text-decoration-color: #ff00ff\">[</span><span style=\"color: #008000; text-decoration-color: #008000\">'prompt'</span><span style=\"color: #ff00ff; text-decoration-color: #ff00ff\">]</span>: <span style=\"color: #008000; text-decoration-color: #008000\">'What is an LLM?'</span>\n",
              "</pre>"
            ]
          }
        },
        {
          "output_type": "display_data",
          "metadata": {},
          "data": {
            "text/html": [
              "<pre style=\"white-space:pre;overflow-x:auto;line-height:normal;font-family:Menlo,'DejaVu Sans Mono',consolas,'Courier New',monospace\">[<span style=\"color: #7f7f7f; text-decoration-color: #7f7f7f\">2025-07-22 22:25:05,987443</span>][<span style=\"color: #008000; text-decoration-color: #008000\">I</span>][<span style=\"color: #008080; text-decoration-color: #008080; font-style: italic\">wordplay</span>/<span style=\"color: #000080; text-decoration-color: #000080\">trainer</span><span style=\"color: #0000ff; text-decoration-color: #0000ff\">:</span><span style=\"color: #800080; text-decoration-color: #800080\">838</span>]<span style=\"color: #c0c0c0; text-decoration-color: #c0c0c0\"> </span><span style=\"color: #ff00ff; text-decoration-color: #ff00ff\">[</span><span style=\"color: #008000; text-decoration-color: #008000\">'response'</span><span style=\"color: #ff00ff; text-decoration-color: #ff00ff\">]</span>:\n",
              "\n",
              "What is an LLM?wboG',ZZswPZZhsf'V.h;QrppwAfAa'<span style=\"color: #008000; text-decoration-color: #008000\">'qWWYYfOOx33fvkkfQ'</span>elccB3kkkm<span style=\"color: #ffff00; text-decoration-color: #ffff00\">...</span>.swevfsssoAkfQss <span style=\"color: #008000; text-decoration-color: #008000\">'f;ehewqs3--seuCeerqfQA,XXqooU;?'</span>;QhdI'M;;astc;W;?A;p;p',,<span style=\"color: #008000; text-decoration-color: #008000\">'''gosS;;WW?'</span>errs'fwwr'<span style=\"color: #008000; text-decoration-color: #008000\">'qqWW,w'</span>l;<span style=\"color: #008000; text-decoration-color: #008000\">''</span>www'<span style=\"color: #008000; text-decoration-color: #008000\">'tppwbQWWseSSqYtLtSbQQQ'</span>q;qqM'tbqW,s'r.AAtcbbq-<span style=\"color: #008000; text-decoration-color: #008000\">'ttuuA,;;;Q'</span>S;;;ttMglqYetqeSS;Wq\n",
              "</pre>"
            ]
          }
        },
        {
          "output_type": "display_data",
          "metadata": {},
          "data": {
            "text/html": [
              "<pre style=\"white-space:pre;overflow-x:auto;line-height:normal;font-family:Menlo,'DejaVu Sans Mono',consolas,'Courier New',monospace\">[<span style=\"color: #7f7f7f; text-decoration-color: #7f7f7f\">2025-07-22 22:25:09,290565</span>][<span style=\"color: #008000; text-decoration-color: #008000\">I</span>][<span style=\"color: #008080; text-decoration-color: #008080; font-style: italic\">wordplay</span>/<span style=\"color: #000080; text-decoration-color: #000080\">trainer</span><span style=\"color: #0000ff; text-decoration-color: #0000ff\">:</span><span style=\"color: #800080; text-decoration-color: #800080\">769</span>]<span style=\"color: #c0c0c0; text-decoration-color: #c0c0c0\"> </span>Saving checkpoint to: <span style=\"color: #800080; text-decoration-color: #800080\">/Users/samforeman/projects/saforem2/intro-hpc-bootcamp-2025/content/02-llms/</span><span style=\"color: #ff00ff; text-decoration-color: #ff00ff\">7-shakespeare-example</span>\n",
              "</pre>"
            ]
          }
        },
        {
          "output_type": "display_data",
          "metadata": {},
          "data": {
            "text/html": [
              "<pre style=\"white-space:pre;overflow-x:auto;line-height:normal;font-family:Menlo,'DejaVu Sans Mono',consolas,'Courier New',monospace\">[<span style=\"color: #7f7f7f; text-decoration-color: #7f7f7f\">2025-07-22 22:25:09,292153</span>][<span style=\"color: #008000; text-decoration-color: #008000\">I</span>][<span style=\"color: #008080; text-decoration-color: #008080; font-style: italic\">wordplay</span>/<span style=\"color: #000080; text-decoration-color: #000080\">trainer</span><span style=\"color: #0000ff; text-decoration-color: #0000ff\">:</span><span style=\"color: #800080; text-decoration-color: #800080\">770</span>]<span style=\"color: #c0c0c0; text-decoration-color: #c0c0c0\"> </span>Saving model to: <span style=\"color: #800080; text-decoration-color: #800080\">/Users/samforeman/projects/saforem2/intro-hpc-bootcamp-2025/content/02-llms/7-shakespeare-example/</span><span style=\"color: #ff00ff; text-decoration-color: #ff00ff\">model.pth</span>\n",
              "</pre>"
            ]
          }
        },
        {
          "output_type": "display_data",
          "metadata": {},
          "data": {
            "text/html": [
              "<pre style=\"white-space:pre;overflow-x:auto;line-height:normal;font-family:Menlo,'DejaVu Sans Mono',consolas,'Courier New',monospace\">[<span style=\"color: #7f7f7f; text-decoration-color: #7f7f7f\">2025-07-22 22:25:09,431815</span>][<span style=\"color: #008000; text-decoration-color: #008000\">I</span>][<span style=\"color: #008080; text-decoration-color: #008080; font-style: italic\">wordplay</span>/<span style=\"color: #000080; text-decoration-color: #000080\">configs</span><span style=\"color: #0000ff; text-decoration-color: #0000ff\">:</span><span style=\"color: #800080; text-decoration-color: #800080\">141</span>]<span style=\"color: #c0c0c0; text-decoration-color: #c0c0c0\"> </span>Appending <span style=\"color: #800080; text-decoration-color: #800080\">/Users/samforeman/projects/saforem2/intro-hpc-bootcamp-2025/content/02-llms/</span><span style=\"color: #ff00ff; text-decoration-color: #ff00ff\">7-shakespeare-example</span> to <span style=\"color: #800080; text-decoration-color: #800080\">/Users/samforeman/projects/saforem2/wordplay/src/ckpts/</span><span style=\"color: #ff00ff; text-decoration-color: #ff00ff\">checkpoints.log</span>\n",
              "</pre>"
            ]
          }
        },
        {
          "output_type": "display_data",
          "metadata": {},
          "data": {
            "text/html": [
              "<pre style=\"white-space:pre;overflow-x:auto;line-height:normal;font-family:Menlo,'DejaVu Sans Mono',consolas,'Courier New',monospace\">[<span style=\"color: #7f7f7f; text-decoration-color: #7f7f7f\">2025-07-22 22:25:09,628510</span>][<span style=\"color: #008000; text-decoration-color: #008000\">I</span>][<span style=\"color: #008080; text-decoration-color: #008080; font-style: italic\">wordplay</span>/<span style=\"color: #000080; text-decoration-color: #000080\">trainer</span><span style=\"color: #0000ff; text-decoration-color: #0000ff\">:</span><span style=\"color: #800080; text-decoration-color: #800080\">901</span>]<span style=\"color: #c0c0c0; text-decoration-color: #c0c0c0\"> </span><span style=\"color: #0000ff; text-decoration-color: #0000ff\">step</span>=<span style=\"color: #008080; text-decoration-color: #008080; font-weight: bold\">560</span> <span style=\"color: #0000ff; text-decoration-color: #0000ff\">loss</span>=<span style=\"color: #008080; text-decoration-color: #008080; font-weight: bold\">4.21979</span> <span style=\"color: #0000ff; text-decoration-color: #0000ff\">dt</span>=<span style=\"color: #008080; text-decoration-color: #008080; font-weight: bold\">0.0185533</span> <span style=\"color: #0000ff; text-decoration-color: #0000ff\">dtf</span>=<span style=\"color: #008080; text-decoration-color: #008080; font-weight: bold\">0.0181836</span> <span style=\"color: #0000ff; text-decoration-color: #0000ff\">dtb</span>=<span style=\"color: #008080; text-decoration-color: #008080; font-weight: bold\">0.0001415</span> <span style=\"color: #0000ff; text-decoration-color: #0000ff\">sps</span>=<span style=\"color: #008080; text-decoration-color: #008080; font-weight: bold\">53.8989</span> <span style=\"color: #0000ff; text-decoration-color: #0000ff\">sps_per_gpu</span>=<span style=\"color: #008080; text-decoration-color: #008080; font-weight: bold\">53.8989</span> <span style=\"color: #0000ff; text-decoration-color: #0000ff\">tps</span>=<span style=\"color: #008080; text-decoration-color: #008080; font-weight: bold\">6899.06</span> <span style=\"color: #0000ff; text-decoration-color: #0000ff\">tps_per_gpu</span>=<span style=\"color: #008080; text-decoration-color: #008080; font-weight: bold\">6899.06</span> <span style=\"color: #0000ff; text-decoration-color: #0000ff\">mfu</span>=<span style=\"color: #008080; text-decoration-color: #008080; font-weight: bold\">0.134941</span>\n",
              "</pre>"
            ]
          }
        },
        {
          "output_type": "display_data",
          "metadata": {},
          "data": {
            "text/html": [
              "<pre style=\"white-space:pre;overflow-x:auto;line-height:normal;font-family:Menlo,'DejaVu Sans Mono',consolas,'Courier New',monospace\">[<span style=\"color: #7f7f7f; text-decoration-color: #7f7f7f\">2025-07-22 22:25:09,823622</span>][<span style=\"color: #008000; text-decoration-color: #008000\">I</span>][<span style=\"color: #008080; text-decoration-color: #008080; font-style: italic\">wordplay</span>/<span style=\"color: #000080; text-decoration-color: #000080\">trainer</span><span style=\"color: #0000ff; text-decoration-color: #0000ff\">:</span><span style=\"color: #800080; text-decoration-color: #800080\">901</span>]<span style=\"color: #c0c0c0; text-decoration-color: #c0c0c0\"> </span><span style=\"color: #0000ff; text-decoration-color: #0000ff\">step</span>=<span style=\"color: #008080; text-decoration-color: #008080; font-weight: bold\">570</span> <span style=\"color: #0000ff; text-decoration-color: #0000ff\">loss</span>=<span style=\"color: #008080; text-decoration-color: #008080; font-weight: bold\">4.27896</span> <span style=\"color: #0000ff; text-decoration-color: #0000ff\">dt</span>=<span style=\"color: #008080; text-decoration-color: #008080; font-weight: bold\">0.0199015</span> <span style=\"color: #0000ff; text-decoration-color: #0000ff\">dtf</span>=<span style=\"color: #008080; text-decoration-color: #008080; font-weight: bold\">0.0195667</span> <span style=\"color: #0000ff; text-decoration-color: #0000ff\">dtb</span>=<span style=\"color: #008080; text-decoration-color: #008080; font-weight: bold\">0.000125458</span> <span style=\"color: #0000ff; text-decoration-color: #0000ff\">sps</span>=<span style=\"color: #008080; text-decoration-color: #008080; font-weight: bold\">50.2476</span> <span style=\"color: #0000ff; text-decoration-color: #0000ff\">sps_per_gpu</span>=<span style=\"color: #008080; text-decoration-color: #008080; font-weight: bold\">50.2476</span> <span style=\"color: #0000ff; text-decoration-color: #0000ff\">tps</span>=<span style=\"color: #008080; text-decoration-color: #008080; font-weight: bold\">6431.69</span> <span style=\"color: #0000ff; text-decoration-color: #0000ff\">tps_per_gpu</span>=<span style=\"color: #008080; text-decoration-color: #008080; font-weight: bold\">6431.69</span> <span style=\"color: #0000ff; text-decoration-color: #0000ff\">mfu</span>=<span style=\"color: #008080; text-decoration-color: #008080; font-weight: bold\">0.135345</span>\n",
              "</pre>"
            ]
          }
        },
        {
          "output_type": "display_data",
          "metadata": {},
          "data": {
            "text/html": [
              "<pre style=\"white-space:pre;overflow-x:auto;line-height:normal;font-family:Menlo,'DejaVu Sans Mono',consolas,'Courier New',monospace\">[<span style=\"color: #7f7f7f; text-decoration-color: #7f7f7f\">2025-07-22 22:25:10,024018</span>][<span style=\"color: #008000; text-decoration-color: #008000\">I</span>][<span style=\"color: #008080; text-decoration-color: #008080; font-style: italic\">wordplay</span>/<span style=\"color: #000080; text-decoration-color: #000080\">trainer</span><span style=\"color: #0000ff; text-decoration-color: #0000ff\">:</span><span style=\"color: #800080; text-decoration-color: #800080\">901</span>]<span style=\"color: #c0c0c0; text-decoration-color: #c0c0c0\"> </span><span style=\"color: #0000ff; text-decoration-color: #0000ff\">step</span>=<span style=\"color: #008080; text-decoration-color: #008080; font-weight: bold\">580</span> <span style=\"color: #0000ff; text-decoration-color: #0000ff\">loss</span>=<span style=\"color: #008080; text-decoration-color: #008080; font-weight: bold\">4.25036</span> <span style=\"color: #0000ff; text-decoration-color: #0000ff\">dt</span>=<span style=\"color: #008080; text-decoration-color: #008080; font-weight: bold\">0.0187127</span> <span style=\"color: #0000ff; text-decoration-color: #0000ff\">dtf</span>=<span style=\"color: #008080; text-decoration-color: #008080; font-weight: bold\">0.0181255</span> <span style=\"color: #0000ff; text-decoration-color: #0000ff\">dtb</span>=<span style=\"color: #008080; text-decoration-color: #008080; font-weight: bold\">0.000134084</span> <span style=\"color: #0000ff; text-decoration-color: #0000ff\">sps</span>=<span style=\"color: #008080; text-decoration-color: #008080; font-weight: bold\">53.4397</span> <span style=\"color: #0000ff; text-decoration-color: #0000ff\">sps_per_gpu</span>=<span style=\"color: #008080; text-decoration-color: #008080; font-weight: bold\">53.4397</span> <span style=\"color: #0000ff; text-decoration-color: #0000ff\">tps</span>=<span style=\"color: #008080; text-decoration-color: #008080; font-weight: bold\">6840.29</span> <span style=\"color: #0000ff; text-decoration-color: #0000ff\">tps_per_gpu</span>=<span style=\"color: #008080; text-decoration-color: #008080; font-weight: bold\">6840.29</span> <span style=\"color: #0000ff; text-decoration-color: #0000ff\">mfu</span>=<span style=\"color: #008080; text-decoration-color: #008080; font-weight: bold\">0.136592</span>\n",
              "</pre>"
            ]
          }
        },
        {
          "output_type": "display_data",
          "metadata": {},
          "data": {
            "text/html": [
              "<pre style=\"white-space:pre;overflow-x:auto;line-height:normal;font-family:Menlo,'DejaVu Sans Mono',consolas,'Courier New',monospace\">[<span style=\"color: #7f7f7f; text-decoration-color: #7f7f7f\">2025-07-22 22:25:10,236005</span>][<span style=\"color: #008000; text-decoration-color: #008000\">I</span>][<span style=\"color: #008080; text-decoration-color: #008080; font-style: italic\">wordplay</span>/<span style=\"color: #000080; text-decoration-color: #000080\">trainer</span><span style=\"color: #0000ff; text-decoration-color: #0000ff\">:</span><span style=\"color: #800080; text-decoration-color: #800080\">901</span>]<span style=\"color: #c0c0c0; text-decoration-color: #c0c0c0\"> </span><span style=\"color: #0000ff; text-decoration-color: #0000ff\">step</span>=<span style=\"color: #008080; text-decoration-color: #008080; font-weight: bold\">590</span> <span style=\"color: #0000ff; text-decoration-color: #0000ff\">loss</span>=<span style=\"color: #008080; text-decoration-color: #008080; font-weight: bold\">4.30325</span> <span style=\"color: #0000ff; text-decoration-color: #0000ff\">dt</span>=<span style=\"color: #008080; text-decoration-color: #008080; font-weight: bold\">0.0194912</span> <span style=\"color: #0000ff; text-decoration-color: #0000ff\">dtf</span>=<span style=\"color: #008080; text-decoration-color: #008080; font-weight: bold\">0.0191301</span> <span style=\"color: #0000ff; text-decoration-color: #0000ff\">dtb</span>=<span style=\"color: #008080; text-decoration-color: #008080; font-weight: bold\">0.000126833</span> <span style=\"color: #0000ff; text-decoration-color: #0000ff\">sps</span>=<span style=\"color: #008080; text-decoration-color: #008080; font-weight: bold\">51.3051</span> <span style=\"color: #0000ff; text-decoration-color: #0000ff\">sps_per_gpu</span>=<span style=\"color: #008080; text-decoration-color: #008080; font-weight: bold\">51.3051</span> <span style=\"color: #0000ff; text-decoration-color: #0000ff\">tps</span>=<span style=\"color: #008080; text-decoration-color: #008080; font-weight: bold\">6567.05</span> <span style=\"color: #0000ff; text-decoration-color: #0000ff\">tps_per_gpu</span>=<span style=\"color: #008080; text-decoration-color: #008080; font-weight: bold\">6567.05</span> <span style=\"color: #0000ff; text-decoration-color: #0000ff\">mfu</span>=<span style=\"color: #008080; text-decoration-color: #008080; font-weight: bold\">0.137123</span>\n",
              "</pre>"
            ]
          }
        },
        {
          "output_type": "display_data",
          "metadata": {},
          "data": {
            "text/html": [
              "<pre style=\"white-space:pre;overflow-x:auto;line-height:normal;font-family:Menlo,'DejaVu Sans Mono',consolas,'Courier New',monospace\">[<span style=\"color: #7f7f7f; text-decoration-color: #7f7f7f\">2025-07-22 22:25:10,489371</span>][<span style=\"color: #008000; text-decoration-color: #008000\">I</span>][<span style=\"color: #008080; text-decoration-color: #008080; font-style: italic\">wordplay</span>/<span style=\"color: #000080; text-decoration-color: #000080\">trainer</span><span style=\"color: #0000ff; text-decoration-color: #0000ff\">:</span><span style=\"color: #800080; text-decoration-color: #800080\">901</span>]<span style=\"color: #c0c0c0; text-decoration-color: #c0c0c0\"> </span><span style=\"color: #0000ff; text-decoration-color: #0000ff\">step</span>=<span style=\"color: #008080; text-decoration-color: #008080; font-weight: bold\">600</span> <span style=\"color: #0000ff; text-decoration-color: #0000ff\">loss</span>=<span style=\"color: #008080; text-decoration-color: #008080; font-weight: bold\">4.24977</span> <span style=\"color: #0000ff; text-decoration-color: #0000ff\">dt</span>=<span style=\"color: #008080; text-decoration-color: #008080; font-weight: bold\">0.0350742</span> <span style=\"color: #0000ff; text-decoration-color: #0000ff\">dtf</span>=<span style=\"color: #008080; text-decoration-color: #008080; font-weight: bold\">0.0346146</span> <span style=\"color: #0000ff; text-decoration-color: #0000ff\">dtb</span>=<span style=\"color: #008080; text-decoration-color: #008080; font-weight: bold\">0.000203417</span> <span style=\"color: #0000ff; text-decoration-color: #0000ff\">sps</span>=<span style=\"color: #008080; text-decoration-color: #008080; font-weight: bold\">28.511</span> <span style=\"color: #0000ff; text-decoration-color: #0000ff\">sps_per_gpu</span>=<span style=\"color: #008080; text-decoration-color: #008080; font-weight: bold\">28.511</span> <span style=\"color: #0000ff; text-decoration-color: #0000ff\">tps</span>=<span style=\"color: #008080; text-decoration-color: #008080; font-weight: bold\">3649.41</span> <span style=\"color: #0000ff; text-decoration-color: #0000ff\">tps_per_gpu</span>=<span style=\"color: #008080; text-decoration-color: #008080; font-weight: bold\">3649.41</span> <span style=\"color: #0000ff; text-decoration-color: #0000ff\">mfu</span>=<span style=\"color: #008080; text-decoration-color: #008080; font-weight: bold\">0.131297</span>\n",
              "</pre>"
            ]
          }
        },
        {
          "output_type": "display_data",
          "metadata": {},
          "data": {
            "text/html": [
              "<pre style=\"white-space:pre;overflow-x:auto;line-height:normal;font-family:Menlo,'DejaVu Sans Mono',consolas,'Courier New',monospace\">[<span style=\"color: #7f7f7f; text-decoration-color: #7f7f7f\">2025-07-22 22:25:12,443359</span>][<span style=\"color: #008000; text-decoration-color: #008000\">I</span>][<span style=\"color: #008080; text-decoration-color: #008080; font-style: italic\">wordplay</span>/<span style=\"color: #000080; text-decoration-color: #000080\">trainer</span><span style=\"color: #0000ff; text-decoration-color: #0000ff\">:</span><span style=\"color: #800080; text-decoration-color: #800080\">834</span>]<span style=\"color: #c0c0c0; text-decoration-color: #c0c0c0\"> </span><span style=\"color: #ff00ff; text-decoration-color: #ff00ff\">[</span><span style=\"color: #008000; text-decoration-color: #008000\">'prompt'</span><span style=\"color: #ff00ff; text-decoration-color: #ff00ff\">]</span>: <span style=\"color: #008000; text-decoration-color: #008000\">'What is an LLM?'</span>\n",
              "</pre>"
            ]
          }
        },
        {
          "output_type": "display_data",
          "metadata": {},
          "data": {
            "text/html": [
              "<pre style=\"white-space:pre;overflow-x:auto;line-height:normal;font-family:Menlo,'DejaVu Sans Mono',consolas,'Courier New',monospace\">[<span style=\"color: #7f7f7f; text-decoration-color: #7f7f7f\">2025-07-22 22:25:12,444603</span>][<span style=\"color: #008000; text-decoration-color: #008000\">I</span>][<span style=\"color: #008080; text-decoration-color: #008080; font-style: italic\">wordplay</span>/<span style=\"color: #000080; text-decoration-color: #000080\">trainer</span><span style=\"color: #0000ff; text-decoration-color: #0000ff\">:</span><span style=\"color: #800080; text-decoration-color: #800080\">838</span>]<span style=\"color: #c0c0c0; text-decoration-color: #c0c0c0\"> </span><span style=\"color: #ff00ff; text-decoration-color: #ff00ff\">[</span><span style=\"color: #008000; text-decoration-color: #008000\">'response'</span><span style=\"color: #ff00ff; text-decoration-color: #ff00ff\">]</span>:\n",
              "\n",
              "What is an LLM?LQ3vvye! wePZ ewbAII'<span style=\"color: #008000; text-decoration-color: #008000\">'QYUfY.vTcaQlccCfhsZblYe''vS'</span>xqosfoxCx'q33ckkxpppcecZZ-caqAb'<span style=\"color: #008000; text-decoration-color: #008000\">'fQ-eqb'</span>.AGGGZZ?--s..h.ttppMq3ZQs,e';pwsf..se;;pqtcenr'.nxnqqgbqQYtttM'fSbttcqqqqgYYjjrqfAkkSSSuQqoh'<span style=\"color: #008000; text-decoration-color: #008000\">''</span>S;SYYYAG;SSSo'QQQuu;<span style=\"color: #008000; text-decoration-color: #008000\">'QSfqo'</span>.tgSggkqWYYbbvqqtuiqrhS;QC'QSrSbWWSJJeuuiWYu\n",
              "</pre>"
            ]
          }
        },
        {
          "output_type": "display_data",
          "metadata": {},
          "data": {
            "text/html": [
              "<pre style=\"white-space:pre;overflow-x:auto;line-height:normal;font-family:Menlo,'DejaVu Sans Mono',consolas,'Courier New',monospace\">[<span style=\"color: #7f7f7f; text-decoration-color: #7f7f7f\">2025-07-22 22:25:15,487179</span>][<span style=\"color: #008000; text-decoration-color: #008000\">I</span>][<span style=\"color: #008080; text-decoration-color: #008080; font-style: italic\">wordplay</span>/<span style=\"color: #000080; text-decoration-color: #000080\">trainer</span><span style=\"color: #0000ff; text-decoration-color: #0000ff\">:</span><span style=\"color: #800080; text-decoration-color: #800080\">769</span>]<span style=\"color: #c0c0c0; text-decoration-color: #c0c0c0\"> </span>Saving checkpoint to: <span style=\"color: #800080; text-decoration-color: #800080\">/Users/samforeman/projects/saforem2/intro-hpc-bootcamp-2025/content/02-llms/</span><span style=\"color: #ff00ff; text-decoration-color: #ff00ff\">7-shakespeare-example</span>\n",
              "</pre>"
            ]
          }
        },
        {
          "output_type": "display_data",
          "metadata": {},
          "data": {
            "text/html": [
              "<pre style=\"white-space:pre;overflow-x:auto;line-height:normal;font-family:Menlo,'DejaVu Sans Mono',consolas,'Courier New',monospace\">[<span style=\"color: #7f7f7f; text-decoration-color: #7f7f7f\">2025-07-22 22:25:15,488134</span>][<span style=\"color: #008000; text-decoration-color: #008000\">I</span>][<span style=\"color: #008080; text-decoration-color: #008080; font-style: italic\">wordplay</span>/<span style=\"color: #000080; text-decoration-color: #000080\">trainer</span><span style=\"color: #0000ff; text-decoration-color: #0000ff\">:</span><span style=\"color: #800080; text-decoration-color: #800080\">770</span>]<span style=\"color: #c0c0c0; text-decoration-color: #c0c0c0\"> </span>Saving model to: <span style=\"color: #800080; text-decoration-color: #800080\">/Users/samforeman/projects/saforem2/intro-hpc-bootcamp-2025/content/02-llms/7-shakespeare-example/</span><span style=\"color: #ff00ff; text-decoration-color: #ff00ff\">model.pth</span>\n",
              "</pre>"
            ]
          }
        },
        {
          "output_type": "display_data",
          "metadata": {},
          "data": {
            "text/html": [
              "<pre style=\"white-space:pre;overflow-x:auto;line-height:normal;font-family:Menlo,'DejaVu Sans Mono',consolas,'Courier New',monospace\">[<span style=\"color: #7f7f7f; text-decoration-color: #7f7f7f\">2025-07-22 22:25:15,672246</span>][<span style=\"color: #008000; text-decoration-color: #008000\">I</span>][<span style=\"color: #008080; text-decoration-color: #008080; font-style: italic\">wordplay</span>/<span style=\"color: #000080; text-decoration-color: #000080\">configs</span><span style=\"color: #0000ff; text-decoration-color: #0000ff\">:</span><span style=\"color: #800080; text-decoration-color: #800080\">141</span>]<span style=\"color: #c0c0c0; text-decoration-color: #c0c0c0\"> </span>Appending <span style=\"color: #800080; text-decoration-color: #800080\">/Users/samforeman/projects/saforem2/intro-hpc-bootcamp-2025/content/02-llms/</span><span style=\"color: #ff00ff; text-decoration-color: #ff00ff\">7-shakespeare-example</span> to <span style=\"color: #800080; text-decoration-color: #800080\">/Users/samforeman/projects/saforem2/wordplay/src/ckpts/</span><span style=\"color: #ff00ff; text-decoration-color: #ff00ff\">checkpoints.log</span>\n",
              "</pre>"
            ]
          }
        },
        {
          "output_type": "display_data",
          "metadata": {},
          "data": {
            "text/html": [
              "<pre style=\"white-space:pre;overflow-x:auto;line-height:normal;font-family:Menlo,'DejaVu Sans Mono',consolas,'Courier New',monospace\">[<span style=\"color: #7f7f7f; text-decoration-color: #7f7f7f\">2025-07-22 22:25:15,862690</span>][<span style=\"color: #008000; text-decoration-color: #008000\">I</span>][<span style=\"color: #008080; text-decoration-color: #008080; font-style: italic\">wordplay</span>/<span style=\"color: #000080; text-decoration-color: #000080\">trainer</span><span style=\"color: #0000ff; text-decoration-color: #0000ff\">:</span><span style=\"color: #800080; text-decoration-color: #800080\">901</span>]<span style=\"color: #c0c0c0; text-decoration-color: #c0c0c0\"> </span><span style=\"color: #0000ff; text-decoration-color: #0000ff\">step</span>=<span style=\"color: #008080; text-decoration-color: #008080; font-weight: bold\">610</span> <span style=\"color: #0000ff; text-decoration-color: #0000ff\">loss</span>=<span style=\"color: #008080; text-decoration-color: #008080; font-weight: bold\">4.27699</span> <span style=\"color: #0000ff; text-decoration-color: #0000ff\">dt</span>=<span style=\"color: #008080; text-decoration-color: #008080; font-weight: bold\">0.0189528</span> <span style=\"color: #0000ff; text-decoration-color: #0000ff\">dtf</span>=<span style=\"color: #008080; text-decoration-color: #008080; font-weight: bold\">0.0186479</span> <span style=\"color: #0000ff; text-decoration-color: #0000ff\">dtb</span>=<span style=\"color: #008080; text-decoration-color: #008080; font-weight: bold\">0.000108125</span> <span style=\"color: #0000ff; text-decoration-color: #0000ff\">sps</span>=<span style=\"color: #008080; text-decoration-color: #008080; font-weight: bold\">52.7626</span> <span style=\"color: #0000ff; text-decoration-color: #0000ff\">sps_per_gpu</span>=<span style=\"color: #008080; text-decoration-color: #008080; font-weight: bold\">52.7626</span> <span style=\"color: #0000ff; text-decoration-color: #0000ff\">tps</span>=<span style=\"color: #008080; text-decoration-color: #008080; font-weight: bold\">6753.61</span> <span style=\"color: #0000ff; text-decoration-color: #0000ff\">tps_per_gpu</span>=<span style=\"color: #008080; text-decoration-color: #008080; font-weight: bold\">6753.61</span> <span style=\"color: #0000ff; text-decoration-color: #0000ff\">mfu</span>=<span style=\"color: #008080; text-decoration-color: #008080; font-weight: bold\">0.132761</span>\n",
              "</pre>"
            ]
          }
        },
        {
          "output_type": "display_data",
          "metadata": {},
          "data": {
            "text/html": [
              "<pre style=\"white-space:pre;overflow-x:auto;line-height:normal;font-family:Menlo,'DejaVu Sans Mono',consolas,'Courier New',monospace\">[<span style=\"color: #7f7f7f; text-decoration-color: #7f7f7f\">2025-07-22 22:25:16,049474</span>][<span style=\"color: #008000; text-decoration-color: #008000\">I</span>][<span style=\"color: #008080; text-decoration-color: #008080; font-style: italic\">wordplay</span>/<span style=\"color: #000080; text-decoration-color: #000080\">trainer</span><span style=\"color: #0000ff; text-decoration-color: #0000ff\">:</span><span style=\"color: #800080; text-decoration-color: #800080\">901</span>]<span style=\"color: #c0c0c0; text-decoration-color: #c0c0c0\"> </span><span style=\"color: #0000ff; text-decoration-color: #0000ff\">step</span>=<span style=\"color: #008080; text-decoration-color: #008080; font-weight: bold\">620</span> <span style=\"color: #0000ff; text-decoration-color: #0000ff\">loss</span>=<span style=\"color: #008080; text-decoration-color: #008080; font-weight: bold\">4.2417</span> <span style=\"color: #0000ff; text-decoration-color: #0000ff\">dt</span>=<span style=\"color: #008080; text-decoration-color: #008080; font-weight: bold\">0.0185151</span> <span style=\"color: #0000ff; text-decoration-color: #0000ff\">dtf</span>=<span style=\"color: #008080; text-decoration-color: #008080; font-weight: bold\">0.018189</span> <span style=\"color: #0000ff; text-decoration-color: #0000ff\">dtb</span>=<span style=\"color: #008080; text-decoration-color: #008080; font-weight: bold\">0.000127042</span> <span style=\"color: #0000ff; text-decoration-color: #0000ff\">sps</span>=<span style=\"color: #008080; text-decoration-color: #008080; font-weight: bold\">54.0099</span> <span style=\"color: #0000ff; text-decoration-color: #0000ff\">sps_per_gpu</span>=<span style=\"color: #008080; text-decoration-color: #008080; font-weight: bold\">54.0099</span> <span style=\"color: #0000ff; text-decoration-color: #0000ff\">tps</span>=<span style=\"color: #008080; text-decoration-color: #008080; font-weight: bold\">6913.27</span> <span style=\"color: #0000ff; text-decoration-color: #0000ff\">tps_per_gpu</span>=<span style=\"color: #008080; text-decoration-color: #008080; font-weight: bold\">6913.27</span> <span style=\"color: #0000ff; text-decoration-color: #0000ff\">mfu</span>=<span style=\"color: #008080; text-decoration-color: #008080; font-weight: bold\">0.134424</span>\n",
              "</pre>"
            ]
          }
        },
        {
          "output_type": "display_data",
          "metadata": {},
          "data": {
            "text/html": [
              "<pre style=\"white-space:pre;overflow-x:auto;line-height:normal;font-family:Menlo,'DejaVu Sans Mono',consolas,'Courier New',monospace\">[<span style=\"color: #7f7f7f; text-decoration-color: #7f7f7f\">2025-07-22 22:25:16,237890</span>][<span style=\"color: #008000; text-decoration-color: #008000\">I</span>][<span style=\"color: #008080; text-decoration-color: #008080; font-style: italic\">wordplay</span>/<span style=\"color: #000080; text-decoration-color: #000080\">trainer</span><span style=\"color: #0000ff; text-decoration-color: #0000ff\">:</span><span style=\"color: #800080; text-decoration-color: #800080\">901</span>]<span style=\"color: #c0c0c0; text-decoration-color: #c0c0c0\"> </span><span style=\"color: #0000ff; text-decoration-color: #0000ff\">step</span>=<span style=\"color: #008080; text-decoration-color: #008080; font-weight: bold\">630</span> <span style=\"color: #0000ff; text-decoration-color: #0000ff\">loss</span>=<span style=\"color: #008080; text-decoration-color: #008080; font-weight: bold\">4.1949</span> <span style=\"color: #0000ff; text-decoration-color: #0000ff\">dt</span>=<span style=\"color: #008080; text-decoration-color: #008080; font-weight: bold\">0.0211396</span> <span style=\"color: #0000ff; text-decoration-color: #0000ff\">dtf</span>=<span style=\"color: #008080; text-decoration-color: #008080; font-weight: bold\">0.0207521</span> <span style=\"color: #0000ff; text-decoration-color: #0000ff\">dtb</span>=<span style=\"color: #008080; text-decoration-color: #008080; font-weight: bold\">0.000153958</span> <span style=\"color: #0000ff; text-decoration-color: #0000ff\">sps</span>=<span style=\"color: #008080; text-decoration-color: #008080; font-weight: bold\">47.3045</span> <span style=\"color: #0000ff; text-decoration-color: #0000ff\">sps_per_gpu</span>=<span style=\"color: #008080; text-decoration-color: #008080; font-weight: bold\">47.3045</span> <span style=\"color: #0000ff; text-decoration-color: #0000ff\">tps</span>=<span style=\"color: #008080; text-decoration-color: #008080; font-weight: bold\">6054.98</span> <span style=\"color: #0000ff; text-decoration-color: #0000ff\">tps_per_gpu</span>=<span style=\"color: #008080; text-decoration-color: #008080; font-weight: bold\">6054.98</span> <span style=\"color: #0000ff; text-decoration-color: #0000ff\">mfu</span>=<span style=\"color: #008080; text-decoration-color: #008080; font-weight: bold\">0.134065</span>\n",
              "</pre>"
            ]
          }
        },
        {
          "output_type": "display_data",
          "metadata": {},
          "data": {
            "text/html": [
              "<pre style=\"white-space:pre;overflow-x:auto;line-height:normal;font-family:Menlo,'DejaVu Sans Mono',consolas,'Courier New',monospace\">[<span style=\"color: #7f7f7f; text-decoration-color: #7f7f7f\">2025-07-22 22:25:16,469263</span>][<span style=\"color: #008000; text-decoration-color: #008000\">I</span>][<span style=\"color: #008080; text-decoration-color: #008080; font-style: italic\">wordplay</span>/<span style=\"color: #000080; text-decoration-color: #000080\">trainer</span><span style=\"color: #0000ff; text-decoration-color: #0000ff\">:</span><span style=\"color: #800080; text-decoration-color: #800080\">901</span>]<span style=\"color: #c0c0c0; text-decoration-color: #c0c0c0\"> </span><span style=\"color: #0000ff; text-decoration-color: #0000ff\">step</span>=<span style=\"color: #008080; text-decoration-color: #008080; font-weight: bold\">640</span> <span style=\"color: #0000ff; text-decoration-color: #0000ff\">loss</span>=<span style=\"color: #008080; text-decoration-color: #008080; font-weight: bold\">4.21554</span> <span style=\"color: #0000ff; text-decoration-color: #0000ff\">dt</span>=<span style=\"color: #008080; text-decoration-color: #008080; font-weight: bold\">0.0204056</span> <span style=\"color: #0000ff; text-decoration-color: #0000ff\">dtf</span>=<span style=\"color: #008080; text-decoration-color: #008080; font-weight: bold\">0.0200403</span> <span style=\"color: #0000ff; text-decoration-color: #0000ff\">dtb</span>=<span style=\"color: #008080; text-decoration-color: #008080; font-weight: bold\">0.00012525</span> <span style=\"color: #0000ff; text-decoration-color: #0000ff\">sps</span>=<span style=\"color: #008080; text-decoration-color: #008080; font-weight: bold\">49.0061</span> <span style=\"color: #0000ff; text-decoration-color: #0000ff\">sps_per_gpu</span>=<span style=\"color: #008080; text-decoration-color: #008080; font-weight: bold\">49.0061</span> <span style=\"color: #0000ff; text-decoration-color: #0000ff\">tps</span>=<span style=\"color: #008080; text-decoration-color: #008080; font-weight: bold\">6272.78</span> <span style=\"color: #0000ff; text-decoration-color: #0000ff\">tps_per_gpu</span>=<span style=\"color: #008080; text-decoration-color: #008080; font-weight: bold\">6272.78</span> <span style=\"color: #0000ff; text-decoration-color: #0000ff\">mfu</span>=<span style=\"color: #008080; text-decoration-color: #008080; font-weight: bold\">0.134214</span>\n",
              "</pre>"
            ]
          }
        },
        {
          "output_type": "display_data",
          "metadata": {},
          "data": {
            "text/html": [
              "<pre style=\"white-space:pre;overflow-x:auto;line-height:normal;font-family:Menlo,'DejaVu Sans Mono',consolas,'Courier New',monospace\">[<span style=\"color: #7f7f7f; text-decoration-color: #7f7f7f\">2025-07-22 22:25:16,746264</span>][<span style=\"color: #008000; text-decoration-color: #008000\">I</span>][<span style=\"color: #008080; text-decoration-color: #008080; font-style: italic\">wordplay</span>/<span style=\"color: #000080; text-decoration-color: #000080\">trainer</span><span style=\"color: #0000ff; text-decoration-color: #0000ff\">:</span><span style=\"color: #800080; text-decoration-color: #800080\">901</span>]<span style=\"color: #c0c0c0; text-decoration-color: #c0c0c0\"> </span><span style=\"color: #0000ff; text-decoration-color: #0000ff\">step</span>=<span style=\"color: #008080; text-decoration-color: #008080; font-weight: bold\">650</span> <span style=\"color: #0000ff; text-decoration-color: #0000ff\">loss</span>=<span style=\"color: #008080; text-decoration-color: #008080; font-weight: bold\">4.26643</span> <span style=\"color: #0000ff; text-decoration-color: #0000ff\">dt</span>=<span style=\"color: #008080; text-decoration-color: #008080; font-weight: bold\">0.037808</span> <span style=\"color: #0000ff; text-decoration-color: #0000ff\">dtf</span>=<span style=\"color: #008080; text-decoration-color: #008080; font-weight: bold\">0.0374561</span> <span style=\"color: #0000ff; text-decoration-color: #0000ff\">dtb</span>=<span style=\"color: #008080; text-decoration-color: #008080; font-weight: bold\">0.00012975</span> <span style=\"color: #0000ff; text-decoration-color: #0000ff\">sps</span>=<span style=\"color: #008080; text-decoration-color: #008080; font-weight: bold\">26.4495</span> <span style=\"color: #0000ff; text-decoration-color: #0000ff\">sps_per_gpu</span>=<span style=\"color: #008080; text-decoration-color: #008080; font-weight: bold\">26.4495</span> <span style=\"color: #0000ff; text-decoration-color: #0000ff\">tps</span>=<span style=\"color: #008080; text-decoration-color: #008080; font-weight: bold\">3385.53</span> <span style=\"color: #0000ff; text-decoration-color: #0000ff\">tps_per_gpu</span>=<span style=\"color: #008080; text-decoration-color: #008080; font-weight: bold\">3385.53</span> <span style=\"color: #0000ff; text-decoration-color: #0000ff\">mfu</span>=<span style=\"color: #008080; text-decoration-color: #008080; font-weight: bold\">0.128108</span>\n",
              "</pre>"
            ]
          }
        },
        {
          "output_type": "display_data",
          "metadata": {},
          "data": {
            "text/html": [
              "<pre style=\"white-space:pre;overflow-x:auto;line-height:normal;font-family:Menlo,'DejaVu Sans Mono',consolas,'Courier New',monospace\">[<span style=\"color: #7f7f7f; text-decoration-color: #7f7f7f\">2025-07-22 22:25:19,095202</span>][<span style=\"color: #008000; text-decoration-color: #008000\">I</span>][<span style=\"color: #008080; text-decoration-color: #008080; font-style: italic\">wordplay</span>/<span style=\"color: #000080; text-decoration-color: #000080\">trainer</span><span style=\"color: #0000ff; text-decoration-color: #0000ff\">:</span><span style=\"color: #800080; text-decoration-color: #800080\">834</span>]<span style=\"color: #c0c0c0; text-decoration-color: #c0c0c0\"> </span><span style=\"color: #ff00ff; text-decoration-color: #ff00ff\">[</span><span style=\"color: #008000; text-decoration-color: #008000\">'prompt'</span><span style=\"color: #ff00ff; text-decoration-color: #ff00ff\">]</span>: <span style=\"color: #008000; text-decoration-color: #008000\">'What is an LLM?'</span>\n",
              "</pre>"
            ]
          }
        },
        {
          "output_type": "display_data",
          "metadata": {},
          "data": {
            "text/html": [
              "<pre style=\"white-space:pre;overflow-x:auto;line-height:normal;font-family:Menlo,'DejaVu Sans Mono',consolas,'Courier New',monospace\">[<span style=\"color: #7f7f7f; text-decoration-color: #7f7f7f\">2025-07-22 22:25:19,096545</span>][<span style=\"color: #008000; text-decoration-color: #008000\">I</span>][<span style=\"color: #008080; text-decoration-color: #008080; font-style: italic\">wordplay</span>/<span style=\"color: #000080; text-decoration-color: #000080\">trainer</span><span style=\"color: #0000ff; text-decoration-color: #0000ff\">:</span><span style=\"color: #800080; text-decoration-color: #800080\">838</span>]<span style=\"color: #c0c0c0; text-decoration-color: #c0c0c0\"> </span><span style=\"color: #ff00ff; text-decoration-color: #ff00ff\">[</span><span style=\"color: #008000; text-decoration-color: #008000\">'response'</span><span style=\"color: #ff00ff; text-decoration-color: #ff00ff\">]</span>:\n",
              "\n",
              "What is an LLM?qadZ--e'ovTqro'qE'rpAYvrr;qo3AAwUA-sG..qqbaNNyyep;blgWVe'<span style=\"color: #008000; text-decoration-color: #008000\">'tkaoo,ebqqUAAAAxttmZS.tGlAxxtccZAk'</span>qffhMM;hqcZ\n",
              "<span style=\"color: #008000; text-decoration-color: #008000\">'rvsoAAtqWtt,'</span>MqWtt'qqqQ--zpttttuq3brqtrrha;WW'eq;cqqqqrrhh-ppq;<span style=\"color: #008000; text-decoration-color: #008000\">'SSJrhSYSJqg'',asqqAhdqbv'</span>?Bqqqb',fqSqt'QqAAWAAqqQQQttttIffvqeWYY--?MfSpppMttttBBM'KK..\n",
              "</pre>"
            ]
          }
        },
        {
          "output_type": "display_data",
          "metadata": {},
          "data": {
            "text/html": [
              "<pre style=\"white-space:pre;overflow-x:auto;line-height:normal;font-family:Menlo,'DejaVu Sans Mono',consolas,'Courier New',monospace\">[<span style=\"color: #7f7f7f; text-decoration-color: #7f7f7f\">2025-07-22 22:25:22,488838</span>][<span style=\"color: #008000; text-decoration-color: #008000\">I</span>][<span style=\"color: #008080; text-decoration-color: #008080; font-style: italic\">wordplay</span>/<span style=\"color: #000080; text-decoration-color: #000080\">trainer</span><span style=\"color: #0000ff; text-decoration-color: #0000ff\">:</span><span style=\"color: #800080; text-decoration-color: #800080\">769</span>]<span style=\"color: #c0c0c0; text-decoration-color: #c0c0c0\"> </span>Saving checkpoint to: <span style=\"color: #800080; text-decoration-color: #800080\">/Users/samforeman/projects/saforem2/intro-hpc-bootcamp-2025/content/02-llms/</span><span style=\"color: #ff00ff; text-decoration-color: #ff00ff\">7-shakespeare-example</span>\n",
              "</pre>"
            ]
          }
        },
        {
          "output_type": "display_data",
          "metadata": {},
          "data": {
            "text/html": [
              "<pre style=\"white-space:pre;overflow-x:auto;line-height:normal;font-family:Menlo,'DejaVu Sans Mono',consolas,'Courier New',monospace\">[<span style=\"color: #7f7f7f; text-decoration-color: #7f7f7f\">2025-07-22 22:25:22,491024</span>][<span style=\"color: #008000; text-decoration-color: #008000\">I</span>][<span style=\"color: #008080; text-decoration-color: #008080; font-style: italic\">wordplay</span>/<span style=\"color: #000080; text-decoration-color: #000080\">trainer</span><span style=\"color: #0000ff; text-decoration-color: #0000ff\">:</span><span style=\"color: #800080; text-decoration-color: #800080\">770</span>]<span style=\"color: #c0c0c0; text-decoration-color: #c0c0c0\"> </span>Saving model to: <span style=\"color: #800080; text-decoration-color: #800080\">/Users/samforeman/projects/saforem2/intro-hpc-bootcamp-2025/content/02-llms/7-shakespeare-example/</span><span style=\"color: #ff00ff; text-decoration-color: #ff00ff\">model.pth</span>\n",
              "</pre>"
            ]
          }
        },
        {
          "output_type": "display_data",
          "metadata": {},
          "data": {
            "text/html": [
              "<pre style=\"white-space:pre;overflow-x:auto;line-height:normal;font-family:Menlo,'DejaVu Sans Mono',consolas,'Courier New',monospace\">[<span style=\"color: #7f7f7f; text-decoration-color: #7f7f7f\">2025-07-22 22:25:22,653759</span>][<span style=\"color: #008000; text-decoration-color: #008000\">I</span>][<span style=\"color: #008080; text-decoration-color: #008080; font-style: italic\">wordplay</span>/<span style=\"color: #000080; text-decoration-color: #000080\">configs</span><span style=\"color: #0000ff; text-decoration-color: #0000ff\">:</span><span style=\"color: #800080; text-decoration-color: #800080\">141</span>]<span style=\"color: #c0c0c0; text-decoration-color: #c0c0c0\"> </span>Appending <span style=\"color: #800080; text-decoration-color: #800080\">/Users/samforeman/projects/saforem2/intro-hpc-bootcamp-2025/content/02-llms/</span><span style=\"color: #ff00ff; text-decoration-color: #ff00ff\">7-shakespeare-example</span> to <span style=\"color: #800080; text-decoration-color: #800080\">/Users/samforeman/projects/saforem2/wordplay/src/ckpts/</span><span style=\"color: #ff00ff; text-decoration-color: #ff00ff\">checkpoints.log</span>\n",
              "</pre>"
            ]
          }
        },
        {
          "output_type": "display_data",
          "metadata": {},
          "data": {
            "text/html": [
              "<pre style=\"white-space:pre;overflow-x:auto;line-height:normal;font-family:Menlo,'DejaVu Sans Mono',consolas,'Courier New',monospace\">[<span style=\"color: #7f7f7f; text-decoration-color: #7f7f7f\">2025-07-22 22:25:22,845711</span>][<span style=\"color: #008000; text-decoration-color: #008000\">I</span>][<span style=\"color: #008080; text-decoration-color: #008080; font-style: italic\">wordplay</span>/<span style=\"color: #000080; text-decoration-color: #000080\">trainer</span><span style=\"color: #0000ff; text-decoration-color: #0000ff\">:</span><span style=\"color: #800080; text-decoration-color: #800080\">901</span>]<span style=\"color: #c0c0c0; text-decoration-color: #c0c0c0\"> </span><span style=\"color: #0000ff; text-decoration-color: #0000ff\">step</span>=<span style=\"color: #008080; text-decoration-color: #008080; font-weight: bold\">660</span> <span style=\"color: #0000ff; text-decoration-color: #0000ff\">loss</span>=<span style=\"color: #008080; text-decoration-color: #008080; font-weight: bold\">4.17238</span> <span style=\"color: #0000ff; text-decoration-color: #0000ff\">dt</span>=<span style=\"color: #008080; text-decoration-color: #008080; font-weight: bold\">0.0192346</span> <span style=\"color: #0000ff; text-decoration-color: #0000ff\">dtf</span>=<span style=\"color: #008080; text-decoration-color: #008080; font-weight: bold\">0.0188909</span> <span style=\"color: #0000ff; text-decoration-color: #0000ff\">dtb</span>=<span style=\"color: #008080; text-decoration-color: #008080; font-weight: bold\">0.000133458</span> <span style=\"color: #0000ff; text-decoration-color: #0000ff\">sps</span>=<span style=\"color: #008080; text-decoration-color: #008080; font-weight: bold\">51.9896</span> <span style=\"color: #0000ff; text-decoration-color: #0000ff\">sps_per_gpu</span>=<span style=\"color: #008080; text-decoration-color: #008080; font-weight: bold\">51.9896</span> <span style=\"color: #0000ff; text-decoration-color: #0000ff\">tps</span>=<span style=\"color: #008080; text-decoration-color: #008080; font-weight: bold\">6654.67</span> <span style=\"color: #0000ff; text-decoration-color: #0000ff\">tps_per_gpu</span>=<span style=\"color: #008080; text-decoration-color: #008080; font-weight: bold\">6654.67</span> <span style=\"color: #0000ff; text-decoration-color: #0000ff\">mfu</span>=<span style=\"color: #008080; text-decoration-color: #008080; font-weight: bold\">0.129677</span>\n",
              "</pre>"
            ]
          }
        },
        {
          "output_type": "display_data",
          "metadata": {},
          "data": {
            "text/html": [
              "<pre style=\"white-space:pre;overflow-x:auto;line-height:normal;font-family:Menlo,'DejaVu Sans Mono',consolas,'Courier New',monospace\">[<span style=\"color: #7f7f7f; text-decoration-color: #7f7f7f\">2025-07-22 22:25:23,048615</span>][<span style=\"color: #008000; text-decoration-color: #008000\">I</span>][<span style=\"color: #008080; text-decoration-color: #008080; font-style: italic\">wordplay</span>/<span style=\"color: #000080; text-decoration-color: #000080\">trainer</span><span style=\"color: #0000ff; text-decoration-color: #0000ff\">:</span><span style=\"color: #800080; text-decoration-color: #800080\">901</span>]<span style=\"color: #c0c0c0; text-decoration-color: #c0c0c0\"> </span><span style=\"color: #0000ff; text-decoration-color: #0000ff\">step</span>=<span style=\"color: #008080; text-decoration-color: #008080; font-weight: bold\">670</span> <span style=\"color: #0000ff; text-decoration-color: #0000ff\">loss</span>=<span style=\"color: #008080; text-decoration-color: #008080; font-weight: bold\">4.33205</span> <span style=\"color: #0000ff; text-decoration-color: #0000ff\">dt</span>=<span style=\"color: #008080; text-decoration-color: #008080; font-weight: bold\">0.0222697</span> <span style=\"color: #0000ff; text-decoration-color: #0000ff\">dtf</span>=<span style=\"color: #008080; text-decoration-color: #008080; font-weight: bold\">0.0219093</span> <span style=\"color: #0000ff; text-decoration-color: #0000ff\">dtb</span>=<span style=\"color: #008080; text-decoration-color: #008080; font-weight: bold\">0.000140333</span> <span style=\"color: #0000ff; text-decoration-color: #0000ff\">sps</span>=<span style=\"color: #008080; text-decoration-color: #008080; font-weight: bold\">44.904</span> <span style=\"color: #0000ff; text-decoration-color: #0000ff\">sps_per_gpu</span>=<span style=\"color: #008080; text-decoration-color: #008080; font-weight: bold\">44.904</span> <span style=\"color: #0000ff; text-decoration-color: #0000ff\">tps</span>=<span style=\"color: #008080; text-decoration-color: #008080; font-weight: bold\">5747.72</span> <span style=\"color: #0000ff; text-decoration-color: #0000ff\">tps_per_gpu</span>=<span style=\"color: #008080; text-decoration-color: #008080; font-weight: bold\">5747.72</span> <span style=\"color: #0000ff; text-decoration-color: #0000ff\">mfu</span>=<span style=\"color: #008080; text-decoration-color: #008080; font-weight: bold\">0.12913</span>\n",
              "</pre>"
            ]
          }
        },
        {
          "output_type": "display_data",
          "metadata": {},
          "data": {
            "text/html": [
              "<pre style=\"white-space:pre;overflow-x:auto;line-height:normal;font-family:Menlo,'DejaVu Sans Mono',consolas,'Courier New',monospace\">[<span style=\"color: #7f7f7f; text-decoration-color: #7f7f7f\">2025-07-22 22:25:23,272725</span>][<span style=\"color: #008000; text-decoration-color: #008000\">I</span>][<span style=\"color: #008080; text-decoration-color: #008080; font-style: italic\">wordplay</span>/<span style=\"color: #000080; text-decoration-color: #000080\">trainer</span><span style=\"color: #0000ff; text-decoration-color: #0000ff\">:</span><span style=\"color: #800080; text-decoration-color: #800080\">901</span>]<span style=\"color: #c0c0c0; text-decoration-color: #c0c0c0\"> </span><span style=\"color: #0000ff; text-decoration-color: #0000ff\">step</span>=<span style=\"color: #008080; text-decoration-color: #008080; font-weight: bold\">680</span> <span style=\"color: #0000ff; text-decoration-color: #0000ff\">loss</span>=<span style=\"color: #008080; text-decoration-color: #008080; font-weight: bold\">4.17701</span> <span style=\"color: #0000ff; text-decoration-color: #0000ff\">dt</span>=<span style=\"color: #008080; text-decoration-color: #008080; font-weight: bold\">0.0214591</span> <span style=\"color: #0000ff; text-decoration-color: #0000ff\">dtf</span>=<span style=\"color: #008080; text-decoration-color: #008080; font-weight: bold\">0.0210485</span> <span style=\"color: #0000ff; text-decoration-color: #0000ff\">dtb</span>=<span style=\"color: #008080; text-decoration-color: #008080; font-weight: bold\">0.000146084</span> <span style=\"color: #0000ff; text-decoration-color: #0000ff\">sps</span>=<span style=\"color: #008080; text-decoration-color: #008080; font-weight: bold\">46.6003</span> <span style=\"color: #0000ff; text-decoration-color: #0000ff\">sps_per_gpu</span>=<span style=\"color: #008080; text-decoration-color: #008080; font-weight: bold\">46.6003</span> <span style=\"color: #0000ff; text-decoration-color: #0000ff\">tps</span>=<span style=\"color: #008080; text-decoration-color: #008080; font-weight: bold\">5964.84</span> <span style=\"color: #0000ff; text-decoration-color: #0000ff\">tps_per_gpu</span>=<span style=\"color: #008080; text-decoration-color: #008080; font-weight: bold\">5964.84</span> <span style=\"color: #0000ff; text-decoration-color: #0000ff\">mfu</span>=<span style=\"color: #008080; text-decoration-color: #008080; font-weight: bold\">0.129106</span>\n",
              "</pre>"
            ]
          }
        },
        {
          "output_type": "display_data",
          "metadata": {},
          "data": {
            "text/html": [
              "<pre style=\"white-space:pre;overflow-x:auto;line-height:normal;font-family:Menlo,'DejaVu Sans Mono',consolas,'Courier New',monospace\">[<span style=\"color: #7f7f7f; text-decoration-color: #7f7f7f\">2025-07-22 22:25:23,480738</span>][<span style=\"color: #008000; text-decoration-color: #008000\">I</span>][<span style=\"color: #008080; text-decoration-color: #008080; font-style: italic\">wordplay</span>/<span style=\"color: #000080; text-decoration-color: #000080\">trainer</span><span style=\"color: #0000ff; text-decoration-color: #0000ff\">:</span><span style=\"color: #800080; text-decoration-color: #800080\">901</span>]<span style=\"color: #c0c0c0; text-decoration-color: #c0c0c0\"> </span><span style=\"color: #0000ff; text-decoration-color: #0000ff\">step</span>=<span style=\"color: #008080; text-decoration-color: #008080; font-weight: bold\">690</span> <span style=\"color: #0000ff; text-decoration-color: #0000ff\">loss</span>=<span style=\"color: #008080; text-decoration-color: #008080; font-weight: bold\">4.23023</span> <span style=\"color: #0000ff; text-decoration-color: #0000ff\">dt</span>=<span style=\"color: #008080; text-decoration-color: #008080; font-weight: bold\">0.0222262</span> <span style=\"color: #0000ff; text-decoration-color: #0000ff\">dtf</span>=<span style=\"color: #008080; text-decoration-color: #008080; font-weight: bold\">0.0218551</span> <span style=\"color: #0000ff; text-decoration-color: #0000ff\">dtb</span>=<span style=\"color: #008080; text-decoration-color: #008080; font-weight: bold\">0.000151084</span> <span style=\"color: #0000ff; text-decoration-color: #0000ff\">sps</span>=<span style=\"color: #008080; text-decoration-color: #008080; font-weight: bold\">44.9918</span> <span style=\"color: #0000ff; text-decoration-color: #0000ff\">sps_per_gpu</span>=<span style=\"color: #008080; text-decoration-color: #008080; font-weight: bold\">44.9918</span> <span style=\"color: #0000ff; text-decoration-color: #0000ff\">tps</span>=<span style=\"color: #008080; text-decoration-color: #008080; font-weight: bold\">5758.96</span> <span style=\"color: #0000ff; text-decoration-color: #0000ff\">tps_per_gpu</span>=<span style=\"color: #008080; text-decoration-color: #008080; font-weight: bold\">5758.96</span> <span style=\"color: #0000ff; text-decoration-color: #0000ff\">mfu</span>=<span style=\"color: #008080; text-decoration-color: #008080; font-weight: bold\">0.12864</span>\n",
              "</pre>"
            ]
          }
        },
        {
          "output_type": "display_data",
          "metadata": {},
          "data": {
            "text/html": [
              "<pre style=\"white-space:pre;overflow-x:auto;line-height:normal;font-family:Menlo,'DejaVu Sans Mono',consolas,'Courier New',monospace\">[<span style=\"color: #7f7f7f; text-decoration-color: #7f7f7f\">2025-07-22 22:25:23,673382</span>][<span style=\"color: #008000; text-decoration-color: #008000\">I</span>][<span style=\"color: #008080; text-decoration-color: #008080; font-style: italic\">wordplay</span>/<span style=\"color: #000080; text-decoration-color: #000080\">trainer</span><span style=\"color: #0000ff; text-decoration-color: #0000ff\">:</span><span style=\"color: #800080; text-decoration-color: #800080\">901</span>]<span style=\"color: #c0c0c0; text-decoration-color: #c0c0c0\"> </span><span style=\"color: #0000ff; text-decoration-color: #0000ff\">step</span>=<span style=\"color: #008080; text-decoration-color: #008080; font-weight: bold\">700</span> <span style=\"color: #0000ff; text-decoration-color: #0000ff\">loss</span>=<span style=\"color: #008080; text-decoration-color: #008080; font-weight: bold\">4.19011</span> <span style=\"color: #0000ff; text-decoration-color: #0000ff\">dt</span>=<span style=\"color: #008080; text-decoration-color: #008080; font-weight: bold\">0.0188958</span> <span style=\"color: #0000ff; text-decoration-color: #0000ff\">dtf</span>=<span style=\"color: #008080; text-decoration-color: #008080; font-weight: bold\">0.0185716</span> <span style=\"color: #0000ff; text-decoration-color: #0000ff\">dtb</span>=<span style=\"color: #008080; text-decoration-color: #008080; font-weight: bold\">0.000128708</span> <span style=\"color: #0000ff; text-decoration-color: #0000ff\">sps</span>=<span style=\"color: #008080; text-decoration-color: #008080; font-weight: bold\">52.9217</span> <span style=\"color: #0000ff; text-decoration-color: #0000ff\">sps_per_gpu</span>=<span style=\"color: #008080; text-decoration-color: #008080; font-weight: bold\">52.9217</span> <span style=\"color: #0000ff; text-decoration-color: #0000ff\">tps</span>=<span style=\"color: #008080; text-decoration-color: #008080; font-weight: bold\">6773.98</span> <span style=\"color: #0000ff; text-decoration-color: #0000ff\">tps_per_gpu</span>=<span style=\"color: #008080; text-decoration-color: #008080; font-weight: bold\">6773.98</span> <span style=\"color: #0000ff; text-decoration-color: #0000ff\">mfu</span>=<span style=\"color: #008080; text-decoration-color: #008080; font-weight: bold\">0.130414</span>\n",
              "</pre>"
            ]
          }
        },
        {
          "output_type": "display_data",
          "metadata": {},
          "data": {
            "text/html": [
              "<pre style=\"white-space:pre;overflow-x:auto;line-height:normal;font-family:Menlo,'DejaVu Sans Mono',consolas,'Courier New',monospace\">[<span style=\"color: #7f7f7f; text-decoration-color: #7f7f7f\">2025-07-22 22:25:25,773855</span>][<span style=\"color: #008000; text-decoration-color: #008000\">I</span>][<span style=\"color: #008080; text-decoration-color: #008080; font-style: italic\">wordplay</span>/<span style=\"color: #000080; text-decoration-color: #000080\">trainer</span><span style=\"color: #0000ff; text-decoration-color: #0000ff\">:</span><span style=\"color: #800080; text-decoration-color: #800080\">834</span>]<span style=\"color: #c0c0c0; text-decoration-color: #c0c0c0\"> </span><span style=\"color: #ff00ff; text-decoration-color: #ff00ff\">[</span><span style=\"color: #008000; text-decoration-color: #008000\">'prompt'</span><span style=\"color: #ff00ff; text-decoration-color: #ff00ff\">]</span>: <span style=\"color: #008000; text-decoration-color: #008000\">'What is an LLM?'</span>\n",
              "</pre>"
            ]
          }
        },
        {
          "output_type": "display_data",
          "metadata": {},
          "data": {
            "text/html": [
              "<pre style=\"white-space:pre;overflow-x:auto;line-height:normal;font-family:Menlo,'DejaVu Sans Mono',consolas,'Courier New',monospace\">[<span style=\"color: #7f7f7f; text-decoration-color: #7f7f7f\">2025-07-22 22:25:25,775516</span>][<span style=\"color: #008000; text-decoration-color: #008000\">I</span>][<span style=\"color: #008080; text-decoration-color: #008080; font-style: italic\">wordplay</span>/<span style=\"color: #000080; text-decoration-color: #000080\">trainer</span><span style=\"color: #0000ff; text-decoration-color: #0000ff\">:</span><span style=\"color: #800080; text-decoration-color: #800080\">838</span>]<span style=\"color: #c0c0c0; text-decoration-color: #c0c0c0\"> </span><span style=\"color: #ff00ff; text-decoration-color: #ff00ff\">[</span><span style=\"color: #008000; text-decoration-color: #008000\">'response'</span><span style=\"color: #ff00ff; text-decoration-color: #ff00ff\">]</span>:\n",
              "\n",
              "What is an LLM?lrvqqrafQEsA,hrccZZ;<span style=\"color: #008000; text-decoration-color: #008000\">'rrkf'</span>c x'Xxqad.SSxtaV!XQUxv;a.'g\n",
              "Zto..herovV-qA'K;aZs3ecAq vqq.!c'fos,ssAAcqfop-;AA.Ag.WYYvvqttxW,,eq;;..Mww';QtMMgqeeqYYppppp;;..MW'tqYf.ff';ccWYrrS'SAsSohegQrr'rhWSASpgj'.A;;.eqqqqqeWWofYQYtcb'Q;;;tttuqcgk;.t3tSbYhhouI;ppp;tSfvgQSuSq\n",
              "</pre>"
            ]
          }
        },
        {
          "output_type": "display_data",
          "metadata": {},
          "data": {
            "text/html": [
              "<pre style=\"white-space:pre;overflow-x:auto;line-height:normal;font-family:Menlo,'DejaVu Sans Mono',consolas,'Courier New',monospace\">[<span style=\"color: #7f7f7f; text-decoration-color: #7f7f7f\">2025-07-22 22:25:29,556268</span>][<span style=\"color: #008000; text-decoration-color: #008000\">I</span>][<span style=\"color: #008080; text-decoration-color: #008080; font-style: italic\">wordplay</span>/<span style=\"color: #000080; text-decoration-color: #000080\">trainer</span><span style=\"color: #0000ff; text-decoration-color: #0000ff\">:</span><span style=\"color: #800080; text-decoration-color: #800080\">769</span>]<span style=\"color: #c0c0c0; text-decoration-color: #c0c0c0\"> </span>Saving checkpoint to: <span style=\"color: #800080; text-decoration-color: #800080\">/Users/samforeman/projects/saforem2/intro-hpc-bootcamp-2025/content/02-llms/</span><span style=\"color: #ff00ff; text-decoration-color: #ff00ff\">7-shakespeare-example</span>\n",
              "</pre>"
            ]
          }
        },
        {
          "output_type": "display_data",
          "metadata": {},
          "data": {
            "text/html": [
              "<pre style=\"white-space:pre;overflow-x:auto;line-height:normal;font-family:Menlo,'DejaVu Sans Mono',consolas,'Courier New',monospace\">[<span style=\"color: #7f7f7f; text-decoration-color: #7f7f7f\">2025-07-22 22:25:29,562423</span>][<span style=\"color: #008000; text-decoration-color: #008000\">I</span>][<span style=\"color: #008080; text-decoration-color: #008080; font-style: italic\">wordplay</span>/<span style=\"color: #000080; text-decoration-color: #000080\">trainer</span><span style=\"color: #0000ff; text-decoration-color: #0000ff\">:</span><span style=\"color: #800080; text-decoration-color: #800080\">770</span>]<span style=\"color: #c0c0c0; text-decoration-color: #c0c0c0\"> </span>Saving model to: <span style=\"color: #800080; text-decoration-color: #800080\">/Users/samforeman/projects/saforem2/intro-hpc-bootcamp-2025/content/02-llms/7-shakespeare-example/</span><span style=\"color: #ff00ff; text-decoration-color: #ff00ff\">model.pth</span>\n",
              "</pre>"
            ]
          }
        },
        {
          "output_type": "display_data",
          "metadata": {},
          "data": {
            "text/html": [
              "<pre style=\"white-space:pre;overflow-x:auto;line-height:normal;font-family:Menlo,'DejaVu Sans Mono',consolas,'Courier New',monospace\">[<span style=\"color: #7f7f7f; text-decoration-color: #7f7f7f\">2025-07-22 22:25:29,679054</span>][<span style=\"color: #008000; text-decoration-color: #008000\">I</span>][<span style=\"color: #008080; text-decoration-color: #008080; font-style: italic\">wordplay</span>/<span style=\"color: #000080; text-decoration-color: #000080\">configs</span><span style=\"color: #0000ff; text-decoration-color: #0000ff\">:</span><span style=\"color: #800080; text-decoration-color: #800080\">141</span>]<span style=\"color: #c0c0c0; text-decoration-color: #c0c0c0\"> </span>Appending <span style=\"color: #800080; text-decoration-color: #800080\">/Users/samforeman/projects/saforem2/intro-hpc-bootcamp-2025/content/02-llms/</span><span style=\"color: #ff00ff; text-decoration-color: #ff00ff\">7-shakespeare-example</span> to <span style=\"color: #800080; text-decoration-color: #800080\">/Users/samforeman/projects/saforem2/wordplay/src/ckpts/</span><span style=\"color: #ff00ff; text-decoration-color: #ff00ff\">checkpoints.log</span>\n",
              "</pre>"
            ]
          }
        },
        {
          "output_type": "display_data",
          "metadata": {},
          "data": {
            "text/html": [
              "<pre style=\"white-space:pre;overflow-x:auto;line-height:normal;font-family:Menlo,'DejaVu Sans Mono',consolas,'Courier New',monospace\">[<span style=\"color: #7f7f7f; text-decoration-color: #7f7f7f\">2025-07-22 22:25:29,884989</span>][<span style=\"color: #008000; text-decoration-color: #008000\">I</span>][<span style=\"color: #008080; text-decoration-color: #008080; font-style: italic\">wordplay</span>/<span style=\"color: #000080; text-decoration-color: #000080\">trainer</span><span style=\"color: #0000ff; text-decoration-color: #0000ff\">:</span><span style=\"color: #800080; text-decoration-color: #800080\">901</span>]<span style=\"color: #c0c0c0; text-decoration-color: #c0c0c0\"> </span><span style=\"color: #0000ff; text-decoration-color: #0000ff\">step</span>=<span style=\"color: #008080; text-decoration-color: #008080; font-weight: bold\">710</span> <span style=\"color: #0000ff; text-decoration-color: #0000ff\">loss</span>=<span style=\"color: #008080; text-decoration-color: #008080; font-weight: bold\">4.25752</span> <span style=\"color: #0000ff; text-decoration-color: #0000ff\">dt</span>=<span style=\"color: #008080; text-decoration-color: #008080; font-weight: bold\">0.020142</span> <span style=\"color: #0000ff; text-decoration-color: #0000ff\">dtf</span>=<span style=\"color: #008080; text-decoration-color: #008080; font-weight: bold\">0.0196319</span> <span style=\"color: #0000ff; text-decoration-color: #0000ff\">dtb</span>=<span style=\"color: #008080; text-decoration-color: #008080; font-weight: bold\">0.000261542</span> <span style=\"color: #0000ff; text-decoration-color: #0000ff\">sps</span>=<span style=\"color: #008080; text-decoration-color: #008080; font-weight: bold\">49.6476</span> <span style=\"color: #0000ff; text-decoration-color: #0000ff\">sps_per_gpu</span>=<span style=\"color: #008080; text-decoration-color: #008080; font-weight: bold\">49.6476</span> <span style=\"color: #0000ff; text-decoration-color: #0000ff\">tps</span>=<span style=\"color: #008080; text-decoration-color: #008080; font-weight: bold\">6354.89</span> <span style=\"color: #0000ff; text-decoration-color: #0000ff\">tps_per_gpu</span>=<span style=\"color: #008080; text-decoration-color: #008080; font-weight: bold\">6354.89</span> <span style=\"color: #0000ff; text-decoration-color: #0000ff\">mfu</span>=<span style=\"color: #008080; text-decoration-color: #008080; font-weight: bold\">0.131105</span>\n",
              "</pre>"
            ]
          }
        },
        {
          "output_type": "display_data",
          "metadata": {},
          "data": {
            "text/html": [
              "<pre style=\"white-space:pre;overflow-x:auto;line-height:normal;font-family:Menlo,'DejaVu Sans Mono',consolas,'Courier New',monospace\">[<span style=\"color: #7f7f7f; text-decoration-color: #7f7f7f\">2025-07-22 22:25:30,086462</span>][<span style=\"color: #008000; text-decoration-color: #008000\">I</span>][<span style=\"color: #008080; text-decoration-color: #008080; font-style: italic\">wordplay</span>/<span style=\"color: #000080; text-decoration-color: #000080\">trainer</span><span style=\"color: #0000ff; text-decoration-color: #0000ff\">:</span><span style=\"color: #800080; text-decoration-color: #800080\">901</span>]<span style=\"color: #c0c0c0; text-decoration-color: #c0c0c0\"> </span><span style=\"color: #0000ff; text-decoration-color: #0000ff\">step</span>=<span style=\"color: #008080; text-decoration-color: #008080; font-weight: bold\">720</span> <span style=\"color: #0000ff; text-decoration-color: #0000ff\">loss</span>=<span style=\"color: #008080; text-decoration-color: #008080; font-weight: bold\">4.22592</span> <span style=\"color: #0000ff; text-decoration-color: #0000ff\">dt</span>=<span style=\"color: #008080; text-decoration-color: #008080; font-weight: bold\">0.0206513</span> <span style=\"color: #0000ff; text-decoration-color: #0000ff\">dtf</span>=<span style=\"color: #008080; text-decoration-color: #008080; font-weight: bold\">0.0202529</span> <span style=\"color: #0000ff; text-decoration-color: #0000ff\">dtb</span>=<span style=\"color: #008080; text-decoration-color: #008080; font-weight: bold\">0.000164083</span> <span style=\"color: #0000ff; text-decoration-color: #0000ff\">sps</span>=<span style=\"color: #008080; text-decoration-color: #008080; font-weight: bold\">48.423</span> <span style=\"color: #0000ff; text-decoration-color: #0000ff\">sps_per_gpu</span>=<span style=\"color: #008080; text-decoration-color: #008080; font-weight: bold\">48.423</span> <span style=\"color: #0000ff; text-decoration-color: #0000ff\">tps</span>=<span style=\"color: #008080; text-decoration-color: #008080; font-weight: bold\">6198.15</span> <span style=\"color: #0000ff; text-decoration-color: #0000ff\">tps_per_gpu</span>=<span style=\"color: #008080; text-decoration-color: #008080; font-weight: bold\">6198.15</span> <span style=\"color: #0000ff; text-decoration-color: #0000ff\">mfu</span>=<span style=\"color: #008080; text-decoration-color: #008080; font-weight: bold\">0.131388</span>\n",
              "</pre>"
            ]
          }
        },
        {
          "output_type": "display_data",
          "metadata": {},
          "data": {
            "text/html": [
              "<pre style=\"white-space:pre;overflow-x:auto;line-height:normal;font-family:Menlo,'DejaVu Sans Mono',consolas,'Courier New',monospace\">[<span style=\"color: #7f7f7f; text-decoration-color: #7f7f7f\">2025-07-22 22:25:30,318709</span>][<span style=\"color: #008000; text-decoration-color: #008000\">I</span>][<span style=\"color: #008080; text-decoration-color: #008080; font-style: italic\">wordplay</span>/<span style=\"color: #000080; text-decoration-color: #000080\">trainer</span><span style=\"color: #0000ff; text-decoration-color: #0000ff\">:</span><span style=\"color: #800080; text-decoration-color: #800080\">901</span>]<span style=\"color: #c0c0c0; text-decoration-color: #c0c0c0\"> </span><span style=\"color: #0000ff; text-decoration-color: #0000ff\">step</span>=<span style=\"color: #008080; text-decoration-color: #008080; font-weight: bold\">730</span> <span style=\"color: #0000ff; text-decoration-color: #0000ff\">loss</span>=<span style=\"color: #008080; text-decoration-color: #008080; font-weight: bold\">4.18346</span> <span style=\"color: #0000ff; text-decoration-color: #0000ff\">dt</span>=<span style=\"color: #008080; text-decoration-color: #008080; font-weight: bold\">0.0266909</span> <span style=\"color: #0000ff; text-decoration-color: #0000ff\">dtf</span>=<span style=\"color: #008080; text-decoration-color: #008080; font-weight: bold\">0.026378</span> <span style=\"color: #0000ff; text-decoration-color: #0000ff\">dtb</span>=<span style=\"color: #008080; text-decoration-color: #008080; font-weight: bold\">0.000125583</span> <span style=\"color: #0000ff; text-decoration-color: #0000ff\">sps</span>=<span style=\"color: #008080; text-decoration-color: #008080; font-weight: bold\">37.466</span> <span style=\"color: #0000ff; text-decoration-color: #0000ff\">sps_per_gpu</span>=<span style=\"color: #008080; text-decoration-color: #008080; font-weight: bold\">37.466</span> <span style=\"color: #0000ff; text-decoration-color: #0000ff\">tps</span>=<span style=\"color: #008080; text-decoration-color: #008080; font-weight: bold\">4795.65</span> <span style=\"color: #0000ff; text-decoration-color: #0000ff\">tps_per_gpu</span>=<span style=\"color: #008080; text-decoration-color: #008080; font-weight: bold\">4795.65</span> <span style=\"color: #0000ff; text-decoration-color: #0000ff\">mfu</span>=<span style=\"color: #008080; text-decoration-color: #008080; font-weight: bold\">0.128612</span>\n",
              "</pre>"
            ]
          }
        },
        {
          "output_type": "display_data",
          "metadata": {},
          "data": {
            "text/html": [
              "<pre style=\"white-space:pre;overflow-x:auto;line-height:normal;font-family:Menlo,'DejaVu Sans Mono',consolas,'Courier New',monospace\">[<span style=\"color: #7f7f7f; text-decoration-color: #7f7f7f\">2025-07-22 22:25:30,546990</span>][<span style=\"color: #008000; text-decoration-color: #008000\">I</span>][<span style=\"color: #008080; text-decoration-color: #008080; font-style: italic\">wordplay</span>/<span style=\"color: #000080; text-decoration-color: #000080\">trainer</span><span style=\"color: #0000ff; text-decoration-color: #0000ff\">:</span><span style=\"color: #800080; text-decoration-color: #800080\">901</span>]<span style=\"color: #c0c0c0; text-decoration-color: #c0c0c0\"> </span><span style=\"color: #0000ff; text-decoration-color: #0000ff\">step</span>=<span style=\"color: #008080; text-decoration-color: #008080; font-weight: bold\">740</span> <span style=\"color: #0000ff; text-decoration-color: #0000ff\">loss</span>=<span style=\"color: #008080; text-decoration-color: #008080; font-weight: bold\">4.22937</span> <span style=\"color: #0000ff; text-decoration-color: #0000ff\">dt</span>=<span style=\"color: #008080; text-decoration-color: #008080; font-weight: bold\">0.0272005</span> <span style=\"color: #0000ff; text-decoration-color: #0000ff\">dtf</span>=<span style=\"color: #008080; text-decoration-color: #008080; font-weight: bold\">0.02167</span> <span style=\"color: #0000ff; text-decoration-color: #0000ff\">dtb</span>=<span style=\"color: #008080; text-decoration-color: #008080; font-weight: bold\">0.000142</span> <span style=\"color: #0000ff; text-decoration-color: #0000ff\">sps</span>=<span style=\"color: #008080; text-decoration-color: #008080; font-weight: bold\">36.764</span> <span style=\"color: #0000ff; text-decoration-color: #0000ff\">sps_per_gpu</span>=<span style=\"color: #008080; text-decoration-color: #008080; font-weight: bold\">36.764</span> <span style=\"color: #0000ff; text-decoration-color: #0000ff\">tps</span>=<span style=\"color: #008080; text-decoration-color: #008080; font-weight: bold\">4705.79</span> <span style=\"color: #0000ff; text-decoration-color: #0000ff\">tps_per_gpu</span>=<span style=\"color: #008080; text-decoration-color: #008080; font-weight: bold\">4705.79</span> <span style=\"color: #0000ff; text-decoration-color: #0000ff\">mfu</span>=<span style=\"color: #008080; text-decoration-color: #008080; font-weight: bold\">0.125919</span>\n",
              "</pre>"
            ]
          }
        },
        {
          "output_type": "display_data",
          "metadata": {},
          "data": {
            "text/html": [
              "<pre style=\"white-space:pre;overflow-x:auto;line-height:normal;font-family:Menlo,'DejaVu Sans Mono',consolas,'Courier New',monospace\">[<span style=\"color: #7f7f7f; text-decoration-color: #7f7f7f\">2025-07-22 22:25:30,744571</span>][<span style=\"color: #008000; text-decoration-color: #008000\">I</span>][<span style=\"color: #008080; text-decoration-color: #008080; font-style: italic\">wordplay</span>/<span style=\"color: #000080; text-decoration-color: #000080\">trainer</span><span style=\"color: #0000ff; text-decoration-color: #0000ff\">:</span><span style=\"color: #800080; text-decoration-color: #800080\">901</span>]<span style=\"color: #c0c0c0; text-decoration-color: #c0c0c0\"> </span><span style=\"color: #0000ff; text-decoration-color: #0000ff\">step</span>=<span style=\"color: #008080; text-decoration-color: #008080; font-weight: bold\">750</span> <span style=\"color: #0000ff; text-decoration-color: #0000ff\">loss</span>=<span style=\"color: #008080; text-decoration-color: #008080; font-weight: bold\">4.22004</span> <span style=\"color: #0000ff; text-decoration-color: #0000ff\">dt</span>=<span style=\"color: #008080; text-decoration-color: #008080; font-weight: bold\">0.0227935</span> <span style=\"color: #0000ff; text-decoration-color: #0000ff\">dtf</span>=<span style=\"color: #008080; text-decoration-color: #008080; font-weight: bold\">0.0222775</span> <span style=\"color: #0000ff; text-decoration-color: #0000ff\">dtb</span>=<span style=\"color: #008080; text-decoration-color: #008080; font-weight: bold\">0.000119084</span> <span style=\"color: #0000ff; text-decoration-color: #0000ff\">sps</span>=<span style=\"color: #008080; text-decoration-color: #008080; font-weight: bold\">43.8722</span> <span style=\"color: #0000ff; text-decoration-color: #0000ff\">sps_per_gpu</span>=<span style=\"color: #008080; text-decoration-color: #008080; font-weight: bold\">43.8722</span> <span style=\"color: #0000ff; text-decoration-color: #0000ff\">tps</span>=<span style=\"color: #008080; text-decoration-color: #008080; font-weight: bold\">5615.65</span> <span style=\"color: #0000ff; text-decoration-color: #0000ff\">tps_per_gpu</span>=<span style=\"color: #008080; text-decoration-color: #008080; font-weight: bold\">5615.65</span> <span style=\"color: #0000ff; text-decoration-color: #0000ff\">mfu</span>=<span style=\"color: #008080; text-decoration-color: #008080; font-weight: bold\">0.125462</span>\n",
              "</pre>"
            ]
          }
        },
        {
          "output_type": "display_data",
          "metadata": {},
          "data": {
            "text/html": [
              "<pre style=\"white-space:pre;overflow-x:auto;line-height:normal;font-family:Menlo,'DejaVu Sans Mono',consolas,'Courier New',monospace\">[<span style=\"color: #7f7f7f; text-decoration-color: #7f7f7f\">2025-07-22 22:25:32,706145</span>][<span style=\"color: #008000; text-decoration-color: #008000\">I</span>][<span style=\"color: #008080; text-decoration-color: #008080; font-style: italic\">wordplay</span>/<span style=\"color: #000080; text-decoration-color: #000080\">trainer</span><span style=\"color: #0000ff; text-decoration-color: #0000ff\">:</span><span style=\"color: #800080; text-decoration-color: #800080\">834</span>]<span style=\"color: #c0c0c0; text-decoration-color: #c0c0c0\"> </span><span style=\"color: #ff00ff; text-decoration-color: #ff00ff\">[</span><span style=\"color: #008000; text-decoration-color: #008000\">'prompt'</span><span style=\"color: #ff00ff; text-decoration-color: #ff00ff\">]</span>: <span style=\"color: #008000; text-decoration-color: #008000\">'What is an LLM?'</span>\n",
              "</pre>"
            ]
          }
        },
        {
          "output_type": "display_data",
          "metadata": {},
          "data": {
            "text/html": [
              "<pre style=\"white-space:pre;overflow-x:auto;line-height:normal;font-family:Menlo,'DejaVu Sans Mono',consolas,'Courier New',monospace\">[<span style=\"color: #7f7f7f; text-decoration-color: #7f7f7f\">2025-07-22 22:25:32,707326</span>][<span style=\"color: #008000; text-decoration-color: #008000\">I</span>][<span style=\"color: #008080; text-decoration-color: #008080; font-style: italic\">wordplay</span>/<span style=\"color: #000080; text-decoration-color: #000080\">trainer</span><span style=\"color: #0000ff; text-decoration-color: #0000ff\">:</span><span style=\"color: #800080; text-decoration-color: #800080\">838</span>]<span style=\"color: #c0c0c0; text-decoration-color: #c0c0c0\"> </span><span style=\"color: #ff00ff; text-decoration-color: #ff00ff\">[</span><span style=\"color: #008000; text-decoration-color: #008000\">'response'</span><span style=\"color: #ff00ff; text-decoration-color: #ff00ff\">]</span>:\n",
              "\n",
              "What is an LLM?.AvexhjjsAxx3AAAAffyyY'rr.AxZZpaff.yykfAqYEZ\n",
              "<span style=\"color: #008000; text-decoration-color: #008000\">'koBf''3YYo.hzA,aaqbbZ ttQhhxkeQU'</span>qhqqoqq!!<span style=\"color: #008000; text-decoration-color: #008000\">'ffor'</span>f.aZPeG'qW.ttvafA-b??fffvfvYrcL.bWtSS??qtLtQutohdyyppu'<span style=\"color: #008000; text-decoration-color: #008000\">'rrSqYqc'</span>KKye'<span style=\"color: #008000; text-decoration-color: #008000\">'''gjjQq'</span>fgJq;;.<span style=\"color: #008000; text-decoration-color: #008000\">'gYqrkssW'</span>tp;bqqf.qowqoMM'qQQSqqWssgyttu?qoo'ff''kkSSffAr.MggesgIIBBYeeWqqqqg\n",
              "</pre>"
            ]
          }
        },
        {
          "output_type": "display_data",
          "metadata": {},
          "data": {
            "text/html": [
              "<pre style=\"white-space:pre;overflow-x:auto;line-height:normal;font-family:Menlo,'DejaVu Sans Mono',consolas,'Courier New',monospace\">[<span style=\"color: #7f7f7f; text-decoration-color: #7f7f7f\">2025-07-22 22:25:36,433953</span>][<span style=\"color: #008000; text-decoration-color: #008000\">I</span>][<span style=\"color: #008080; text-decoration-color: #008080; font-style: italic\">wordplay</span>/<span style=\"color: #000080; text-decoration-color: #000080\">trainer</span><span style=\"color: #0000ff; text-decoration-color: #0000ff\">:</span><span style=\"color: #800080; text-decoration-color: #800080\">769</span>]<span style=\"color: #c0c0c0; text-decoration-color: #c0c0c0\"> </span>Saving checkpoint to: <span style=\"color: #800080; text-decoration-color: #800080\">/Users/samforeman/projects/saforem2/intro-hpc-bootcamp-2025/content/02-llms/</span><span style=\"color: #ff00ff; text-decoration-color: #ff00ff\">7-shakespeare-example</span>\n",
              "</pre>"
            ]
          }
        },
        {
          "output_type": "display_data",
          "metadata": {},
          "data": {
            "text/html": [
              "<pre style=\"white-space:pre;overflow-x:auto;line-height:normal;font-family:Menlo,'DejaVu Sans Mono',consolas,'Courier New',monospace\">[<span style=\"color: #7f7f7f; text-decoration-color: #7f7f7f\">2025-07-22 22:25:36,435558</span>][<span style=\"color: #008000; text-decoration-color: #008000\">I</span>][<span style=\"color: #008080; text-decoration-color: #008080; font-style: italic\">wordplay</span>/<span style=\"color: #000080; text-decoration-color: #000080\">trainer</span><span style=\"color: #0000ff; text-decoration-color: #0000ff\">:</span><span style=\"color: #800080; text-decoration-color: #800080\">770</span>]<span style=\"color: #c0c0c0; text-decoration-color: #c0c0c0\"> </span>Saving model to: <span style=\"color: #800080; text-decoration-color: #800080\">/Users/samforeman/projects/saforem2/intro-hpc-bootcamp-2025/content/02-llms/7-shakespeare-example/</span><span style=\"color: #ff00ff; text-decoration-color: #ff00ff\">model.pth</span>\n",
              "</pre>"
            ]
          }
        },
        {
          "output_type": "display_data",
          "metadata": {},
          "data": {
            "text/html": [
              "<pre style=\"white-space:pre;overflow-x:auto;line-height:normal;font-family:Menlo,'DejaVu Sans Mono',consolas,'Courier New',monospace\">[<span style=\"color: #7f7f7f; text-decoration-color: #7f7f7f\">2025-07-22 22:25:36,604519</span>][<span style=\"color: #008000; text-decoration-color: #008000\">I</span>][<span style=\"color: #008080; text-decoration-color: #008080; font-style: italic\">wordplay</span>/<span style=\"color: #000080; text-decoration-color: #000080\">configs</span><span style=\"color: #0000ff; text-decoration-color: #0000ff\">:</span><span style=\"color: #800080; text-decoration-color: #800080\">141</span>]<span style=\"color: #c0c0c0; text-decoration-color: #c0c0c0\"> </span>Appending <span style=\"color: #800080; text-decoration-color: #800080\">/Users/samforeman/projects/saforem2/intro-hpc-bootcamp-2025/content/02-llms/</span><span style=\"color: #ff00ff; text-decoration-color: #ff00ff\">7-shakespeare-example</span> to <span style=\"color: #800080; text-decoration-color: #800080\">/Users/samforeman/projects/saforem2/wordplay/src/ckpts/</span><span style=\"color: #ff00ff; text-decoration-color: #ff00ff\">checkpoints.log</span>\n",
              "</pre>"
            ]
          }
        },
        {
          "output_type": "display_data",
          "metadata": {},
          "data": {
            "text/html": [
              "<pre style=\"white-space:pre;overflow-x:auto;line-height:normal;font-family:Menlo,'DejaVu Sans Mono',consolas,'Courier New',monospace\">[<span style=\"color: #7f7f7f; text-decoration-color: #7f7f7f\">2025-07-22 22:25:36,818790</span>][<span style=\"color: #008000; text-decoration-color: #008000\">I</span>][<span style=\"color: #008080; text-decoration-color: #008080; font-style: italic\">wordplay</span>/<span style=\"color: #000080; text-decoration-color: #000080\">trainer</span><span style=\"color: #0000ff; text-decoration-color: #0000ff\">:</span><span style=\"color: #800080; text-decoration-color: #800080\">901</span>]<span style=\"color: #c0c0c0; text-decoration-color: #c0c0c0\"> </span><span style=\"color: #0000ff; text-decoration-color: #0000ff\">step</span>=<span style=\"color: #008080; text-decoration-color: #008080; font-weight: bold\">760</span> <span style=\"color: #0000ff; text-decoration-color: #0000ff\">loss</span>=<span style=\"color: #008080; text-decoration-color: #008080; font-weight: bold\">4.16349</span> <span style=\"color: #0000ff; text-decoration-color: #0000ff\">dt</span>=<span style=\"color: #008080; text-decoration-color: #008080; font-weight: bold\">0.020995</span> <span style=\"color: #0000ff; text-decoration-color: #0000ff\">dtf</span>=<span style=\"color: #008080; text-decoration-color: #008080; font-weight: bold\">0.0205851</span> <span style=\"color: #0000ff; text-decoration-color: #0000ff\">dtb</span>=<span style=\"color: #008080; text-decoration-color: #008080; font-weight: bold\">0.000136458</span> <span style=\"color: #0000ff; text-decoration-color: #0000ff\">sps</span>=<span style=\"color: #008080; text-decoration-color: #008080; font-weight: bold\">47.6305</span> <span style=\"color: #0000ff; text-decoration-color: #0000ff\">sps_per_gpu</span>=<span style=\"color: #008080; text-decoration-color: #008080; font-weight: bold\">47.6305</span> <span style=\"color: #0000ff; text-decoration-color: #0000ff\">tps</span>=<span style=\"color: #008080; text-decoration-color: #008080; font-weight: bold\">6096.7</span> <span style=\"color: #0000ff; text-decoration-color: #0000ff\">tps_per_gpu</span>=<span style=\"color: #008080; text-decoration-color: #008080; font-weight: bold\">6096.7</span> <span style=\"color: #0000ff; text-decoration-color: #0000ff\">mfu</span>=<span style=\"color: #008080; text-decoration-color: #008080; font-weight: bold\">0.12609</span>\n",
              "</pre>"
            ]
          }
        },
        {
          "output_type": "display_data",
          "metadata": {},
          "data": {
            "text/html": [
              "<pre style=\"white-space:pre;overflow-x:auto;line-height:normal;font-family:Menlo,'DejaVu Sans Mono',consolas,'Courier New',monospace\">[<span style=\"color: #7f7f7f; text-decoration-color: #7f7f7f\">2025-07-22 22:25:37,018007</span>][<span style=\"color: #008000; text-decoration-color: #008000\">I</span>][<span style=\"color: #008080; text-decoration-color: #008080; font-style: italic\">wordplay</span>/<span style=\"color: #000080; text-decoration-color: #000080\">trainer</span><span style=\"color: #0000ff; text-decoration-color: #0000ff\">:</span><span style=\"color: #800080; text-decoration-color: #800080\">901</span>]<span style=\"color: #c0c0c0; text-decoration-color: #c0c0c0\"> </span><span style=\"color: #0000ff; text-decoration-color: #0000ff\">step</span>=<span style=\"color: #008080; text-decoration-color: #008080; font-weight: bold\">770</span> <span style=\"color: #0000ff; text-decoration-color: #0000ff\">loss</span>=<span style=\"color: #008080; text-decoration-color: #008080; font-weight: bold\">4.22062</span> <span style=\"color: #0000ff; text-decoration-color: #0000ff\">dt</span>=<span style=\"color: #008080; text-decoration-color: #008080; font-weight: bold\">0.019222</span> <span style=\"color: #0000ff; text-decoration-color: #0000ff\">dtf</span>=<span style=\"color: #008080; text-decoration-color: #008080; font-weight: bold\">0.0188947</span> <span style=\"color: #0000ff; text-decoration-color: #0000ff\">dtb</span>=<span style=\"color: #008080; text-decoration-color: #008080; font-weight: bold\">0.000123208</span> <span style=\"color: #0000ff; text-decoration-color: #0000ff\">sps</span>=<span style=\"color: #008080; text-decoration-color: #008080; font-weight: bold\">52.0238</span> <span style=\"color: #0000ff; text-decoration-color: #0000ff\">sps_per_gpu</span>=<span style=\"color: #008080; text-decoration-color: #008080; font-weight: bold\">52.0238</span> <span style=\"color: #0000ff; text-decoration-color: #0000ff\">tps</span>=<span style=\"color: #008080; text-decoration-color: #008080; font-weight: bold\">6659.05</span> <span style=\"color: #0000ff; text-decoration-color: #0000ff\">tps_per_gpu</span>=<span style=\"color: #008080; text-decoration-color: #008080; font-weight: bold\">6659.05</span> <span style=\"color: #0000ff; text-decoration-color: #0000ff\">mfu</span>=<span style=\"color: #008080; text-decoration-color: #008080; font-weight: bold\">0.127871</span>\n",
              "</pre>"
            ]
          }
        },
        {
          "output_type": "display_data",
          "metadata": {},
          "data": {
            "text/html": [
              "<pre style=\"white-space:pre;overflow-x:auto;line-height:normal;font-family:Menlo,'DejaVu Sans Mono',consolas,'Courier New',monospace\">[<span style=\"color: #7f7f7f; text-decoration-color: #7f7f7f\">2025-07-22 22:25:37,218341</span>][<span style=\"color: #008000; text-decoration-color: #008000\">I</span>][<span style=\"color: #008080; text-decoration-color: #008080; font-style: italic\">wordplay</span>/<span style=\"color: #000080; text-decoration-color: #000080\">trainer</span><span style=\"color: #0000ff; text-decoration-color: #0000ff\">:</span><span style=\"color: #800080; text-decoration-color: #800080\">901</span>]<span style=\"color: #c0c0c0; text-decoration-color: #c0c0c0\"> </span><span style=\"color: #0000ff; text-decoration-color: #0000ff\">step</span>=<span style=\"color: #008080; text-decoration-color: #008080; font-weight: bold\">780</span> <span style=\"color: #0000ff; text-decoration-color: #0000ff\">loss</span>=<span style=\"color: #008080; text-decoration-color: #008080; font-weight: bold\">4.16916</span> <span style=\"color: #0000ff; text-decoration-color: #0000ff\">dt</span>=<span style=\"color: #008080; text-decoration-color: #008080; font-weight: bold\">0.0198604</span> <span style=\"color: #0000ff; text-decoration-color: #0000ff\">dtf</span>=<span style=\"color: #008080; text-decoration-color: #008080; font-weight: bold\">0.0194994</span> <span style=\"color: #0000ff; text-decoration-color: #0000ff\">dtb</span>=<span style=\"color: #008080; text-decoration-color: #008080; font-weight: bold\">0.000141958</span> <span style=\"color: #0000ff; text-decoration-color: #0000ff\">sps</span>=<span style=\"color: #008080; text-decoration-color: #008080; font-weight: bold\">50.3514</span> <span style=\"color: #0000ff; text-decoration-color: #0000ff\">sps_per_gpu</span>=<span style=\"color: #008080; text-decoration-color: #008080; font-weight: bold\">50.3514</span> <span style=\"color: #0000ff; text-decoration-color: #0000ff\">tps</span>=<span style=\"color: #008080; text-decoration-color: #008080; font-weight: bold\">6444.98</span> <span style=\"color: #0000ff; text-decoration-color: #0000ff\">tps_per_gpu</span>=<span style=\"color: #008080; text-decoration-color: #008080; font-weight: bold\">6444.98</span> <span style=\"color: #0000ff; text-decoration-color: #0000ff\">mfu</span>=<span style=\"color: #008080; text-decoration-color: #008080; font-weight: bold\">0.12901</span>\n",
              "</pre>"
            ]
          }
        },
        {
          "output_type": "display_data",
          "metadata": {},
          "data": {
            "text/html": [
              "<pre style=\"white-space:pre;overflow-x:auto;line-height:normal;font-family:Menlo,'DejaVu Sans Mono',consolas,'Courier New',monospace\">[<span style=\"color: #7f7f7f; text-decoration-color: #7f7f7f\">2025-07-22 22:25:37,422261</span>][<span style=\"color: #008000; text-decoration-color: #008000\">I</span>][<span style=\"color: #008080; text-decoration-color: #008080; font-style: italic\">wordplay</span>/<span style=\"color: #000080; text-decoration-color: #000080\">trainer</span><span style=\"color: #0000ff; text-decoration-color: #0000ff\">:</span><span style=\"color: #800080; text-decoration-color: #800080\">901</span>]<span style=\"color: #c0c0c0; text-decoration-color: #c0c0c0\"> </span><span style=\"color: #0000ff; text-decoration-color: #0000ff\">step</span>=<span style=\"color: #008080; text-decoration-color: #008080; font-weight: bold\">790</span> <span style=\"color: #0000ff; text-decoration-color: #0000ff\">loss</span>=<span style=\"color: #008080; text-decoration-color: #008080; font-weight: bold\">4.21405</span> <span style=\"color: #0000ff; text-decoration-color: #0000ff\">dt</span>=<span style=\"color: #008080; text-decoration-color: #008080; font-weight: bold\">0.0209128</span> <span style=\"color: #0000ff; text-decoration-color: #0000ff\">dtf</span>=<span style=\"color: #008080; text-decoration-color: #008080; font-weight: bold\">0.0205392</span> <span style=\"color: #0000ff; text-decoration-color: #0000ff\">dtb</span>=<span style=\"color: #008080; text-decoration-color: #008080; font-weight: bold\">0.000120625</span> <span style=\"color: #0000ff; text-decoration-color: #0000ff\">sps</span>=<span style=\"color: #008080; text-decoration-color: #008080; font-weight: bold\">47.8175</span> <span style=\"color: #0000ff; text-decoration-color: #0000ff\">sps_per_gpu</span>=<span style=\"color: #008080; text-decoration-color: #008080; font-weight: bold\">47.8175</span> <span style=\"color: #0000ff; text-decoration-color: #0000ff\">tps</span>=<span style=\"color: #008080; text-decoration-color: #008080; font-weight: bold\">6120.64</span> <span style=\"color: #0000ff; text-decoration-color: #0000ff\">tps_per_gpu</span>=<span style=\"color: #008080; text-decoration-color: #008080; font-weight: bold\">6120.64</span> <span style=\"color: #0000ff; text-decoration-color: #0000ff\">mfu</span>=<span style=\"color: #008080; text-decoration-color: #008080; font-weight: bold\">0.129335</span>\n",
              "</pre>"
            ]
          }
        },
        {
          "output_type": "display_data",
          "metadata": {},
          "data": {
            "text/html": [
              "<pre style=\"white-space:pre;overflow-x:auto;line-height:normal;font-family:Menlo,'DejaVu Sans Mono',consolas,'Courier New',monospace\">[<span style=\"color: #7f7f7f; text-decoration-color: #7f7f7f\">2025-07-22 22:25:37,638601</span>][<span style=\"color: #008000; text-decoration-color: #008000\">I</span>][<span style=\"color: #008080; text-decoration-color: #008080; font-style: italic\">wordplay</span>/<span style=\"color: #000080; text-decoration-color: #000080\">trainer</span><span style=\"color: #0000ff; text-decoration-color: #0000ff\">:</span><span style=\"color: #800080; text-decoration-color: #800080\">901</span>]<span style=\"color: #c0c0c0; text-decoration-color: #c0c0c0\"> </span><span style=\"color: #0000ff; text-decoration-color: #0000ff\">step</span>=<span style=\"color: #008080; text-decoration-color: #008080; font-weight: bold\">800</span> <span style=\"color: #0000ff; text-decoration-color: #0000ff\">loss</span>=<span style=\"color: #008080; text-decoration-color: #008080; font-weight: bold\">4.23569</span> <span style=\"color: #0000ff; text-decoration-color: #0000ff\">dt</span>=<span style=\"color: #008080; text-decoration-color: #008080; font-weight: bold\">0.018708</span> <span style=\"color: #0000ff; text-decoration-color: #0000ff\">dtf</span>=<span style=\"color: #008080; text-decoration-color: #008080; font-weight: bold\">0.0183145</span> <span style=\"color: #0000ff; text-decoration-color: #0000ff\">dtb</span>=<span style=\"color: #008080; text-decoration-color: #008080; font-weight: bold\">0.000159292</span> <span style=\"color: #0000ff; text-decoration-color: #0000ff\">sps</span>=<span style=\"color: #008080; text-decoration-color: #008080; font-weight: bold\">53.453</span> <span style=\"color: #0000ff; text-decoration-color: #0000ff\">sps_per_gpu</span>=<span style=\"color: #008080; text-decoration-color: #008080; font-weight: bold\">53.453</span> <span style=\"color: #0000ff; text-decoration-color: #0000ff\">tps</span>=<span style=\"color: #008080; text-decoration-color: #008080; font-weight: bold\">6841.98</span> <span style=\"color: #0000ff; text-decoration-color: #0000ff\">tps_per_gpu</span>=<span style=\"color: #008080; text-decoration-color: #008080; font-weight: bold\">6841.98</span> <span style=\"color: #0000ff; text-decoration-color: #0000ff\">mfu</span>=<span style=\"color: #008080; text-decoration-color: #008080; font-weight: bold\">0.131187</span>\n",
              "</pre>"
            ]
          }
        },
        {
          "output_type": "display_data",
          "metadata": {},
          "data": {
            "text/html": [
              "<pre style=\"white-space:pre;overflow-x:auto;line-height:normal;font-family:Menlo,'DejaVu Sans Mono',consolas,'Courier New',monospace\">[<span style=\"color: #7f7f7f; text-decoration-color: #7f7f7f\">2025-07-22 22:25:39,607368</span>][<span style=\"color: #008000; text-decoration-color: #008000\">I</span>][<span style=\"color: #008080; text-decoration-color: #008080; font-style: italic\">wordplay</span>/<span style=\"color: #000080; text-decoration-color: #000080\">trainer</span><span style=\"color: #0000ff; text-decoration-color: #0000ff\">:</span><span style=\"color: #800080; text-decoration-color: #800080\">834</span>]<span style=\"color: #c0c0c0; text-decoration-color: #c0c0c0\"> </span><span style=\"color: #ff00ff; text-decoration-color: #ff00ff\">[</span><span style=\"color: #008000; text-decoration-color: #008000\">'prompt'</span><span style=\"color: #ff00ff; text-decoration-color: #ff00ff\">]</span>: <span style=\"color: #008000; text-decoration-color: #008000\">'What is an LLM?'</span>\n",
              "</pre>"
            ]
          }
        },
        {
          "output_type": "display_data",
          "metadata": {},
          "data": {
            "text/html": [
              "<pre style=\"white-space:pre;overflow-x:auto;line-height:normal;font-family:Menlo,'DejaVu Sans Mono',consolas,'Courier New',monospace\">[<span style=\"color: #7f7f7f; text-decoration-color: #7f7f7f\">2025-07-22 22:25:39,608651</span>][<span style=\"color: #008000; text-decoration-color: #008000\">I</span>][<span style=\"color: #008080; text-decoration-color: #008080; font-style: italic\">wordplay</span>/<span style=\"color: #000080; text-decoration-color: #000080\">trainer</span><span style=\"color: #0000ff; text-decoration-color: #0000ff\">:</span><span style=\"color: #800080; text-decoration-color: #800080\">838</span>]<span style=\"color: #c0c0c0; text-decoration-color: #c0c0c0\"> </span><span style=\"color: #ff00ff; text-decoration-color: #ff00ff\">[</span><span style=\"color: #008000; text-decoration-color: #008000\">'response'</span><span style=\"color: #ff00ff; text-decoration-color: #ff00ff\">]</span>:\n",
              "\n",
              "What is an LLM??.ahoskZqeofpQe'v;.p..hqYwqaarswbbc.ahwbkkA'<span style=\"color: #008000; text-decoration-color: #008000\">'KyhvX.yp'</span>Vc3;oseo.xeeeaa'WQqfhKKfYqqqf.x33xx--;;;.egMcc-qaaovvKKOsvSpwesfgI;;wwerpMgtcgQsb;uQtggyyptokyy';QCy;;asoW,,Jr'<span style=\"color: #008000; text-decoration-color: #008000\">''''</span>,AkkfYoAAAAAS::::;;.bWttqeqcbA::gYJJbqgjoBhopwe;.s'<span style=\"color: #008000; text-decoration-color: #008000\">'ggkk'</span>qk.qkGWYYyqqe;<span style=\"color: #008000; text-decoration-color: #008000\">''</span>Sbs'MM;;.qqqqQ\n",
              "</pre>"
            ]
          }
        },
        {
          "output_type": "display_data",
          "metadata": {},
          "data": {
            "text/html": [
              "<pre style=\"white-space:pre;overflow-x:auto;line-height:normal;font-family:Menlo,'DejaVu Sans Mono',consolas,'Courier New',monospace\">[<span style=\"color: #7f7f7f; text-decoration-color: #7f7f7f\">2025-07-22 22:25:42,852243</span>][<span style=\"color: #008000; text-decoration-color: #008000\">I</span>][<span style=\"color: #008080; text-decoration-color: #008080; font-style: italic\">wordplay</span>/<span style=\"color: #000080; text-decoration-color: #000080\">trainer</span><span style=\"color: #0000ff; text-decoration-color: #0000ff\">:</span><span style=\"color: #800080; text-decoration-color: #800080\">769</span>]<span style=\"color: #c0c0c0; text-decoration-color: #c0c0c0\"> </span>Saving checkpoint to: <span style=\"color: #800080; text-decoration-color: #800080\">/Users/samforeman/projects/saforem2/intro-hpc-bootcamp-2025/content/02-llms/</span><span style=\"color: #ff00ff; text-decoration-color: #ff00ff\">7-shakespeare-example</span>\n",
              "</pre>"
            ]
          }
        },
        {
          "output_type": "display_data",
          "metadata": {},
          "data": {
            "text/html": [
              "<pre style=\"white-space:pre;overflow-x:auto;line-height:normal;font-family:Menlo,'DejaVu Sans Mono',consolas,'Courier New',monospace\">[<span style=\"color: #7f7f7f; text-decoration-color: #7f7f7f\">2025-07-22 22:25:42,853104</span>][<span style=\"color: #008000; text-decoration-color: #008000\">I</span>][<span style=\"color: #008080; text-decoration-color: #008080; font-style: italic\">wordplay</span>/<span style=\"color: #000080; text-decoration-color: #000080\">trainer</span><span style=\"color: #0000ff; text-decoration-color: #0000ff\">:</span><span style=\"color: #800080; text-decoration-color: #800080\">770</span>]<span style=\"color: #c0c0c0; text-decoration-color: #c0c0c0\"> </span>Saving model to: <span style=\"color: #800080; text-decoration-color: #800080\">/Users/samforeman/projects/saforem2/intro-hpc-bootcamp-2025/content/02-llms/7-shakespeare-example/</span><span style=\"color: #ff00ff; text-decoration-color: #ff00ff\">model.pth</span>\n",
              "</pre>"
            ]
          }
        },
        {
          "output_type": "display_data",
          "metadata": {},
          "data": {
            "text/html": [
              "<pre style=\"white-space:pre;overflow-x:auto;line-height:normal;font-family:Menlo,'DejaVu Sans Mono',consolas,'Courier New',monospace\">[<span style=\"color: #7f7f7f; text-decoration-color: #7f7f7f\">2025-07-22 22:25:43,034098</span>][<span style=\"color: #008000; text-decoration-color: #008000\">I</span>][<span style=\"color: #008080; text-decoration-color: #008080; font-style: italic\">wordplay</span>/<span style=\"color: #000080; text-decoration-color: #000080\">configs</span><span style=\"color: #0000ff; text-decoration-color: #0000ff\">:</span><span style=\"color: #800080; text-decoration-color: #800080\">141</span>]<span style=\"color: #c0c0c0; text-decoration-color: #c0c0c0\"> </span>Appending <span style=\"color: #800080; text-decoration-color: #800080\">/Users/samforeman/projects/saforem2/intro-hpc-bootcamp-2025/content/02-llms/</span><span style=\"color: #ff00ff; text-decoration-color: #ff00ff\">7-shakespeare-example</span> to <span style=\"color: #800080; text-decoration-color: #800080\">/Users/samforeman/projects/saforem2/wordplay/src/ckpts/</span><span style=\"color: #ff00ff; text-decoration-color: #ff00ff\">checkpoints.log</span>\n",
              "</pre>"
            ]
          }
        },
        {
          "output_type": "display_data",
          "metadata": {},
          "data": {
            "text/html": [
              "<pre style=\"white-space:pre;overflow-x:auto;line-height:normal;font-family:Menlo,'DejaVu Sans Mono',consolas,'Courier New',monospace\">[<span style=\"color: #7f7f7f; text-decoration-color: #7f7f7f\">2025-07-22 22:25:43,222629</span>][<span style=\"color: #008000; text-decoration-color: #008000\">I</span>][<span style=\"color: #008080; text-decoration-color: #008080; font-style: italic\">wordplay</span>/<span style=\"color: #000080; text-decoration-color: #000080\">trainer</span><span style=\"color: #0000ff; text-decoration-color: #0000ff\">:</span><span style=\"color: #800080; text-decoration-color: #800080\">901</span>]<span style=\"color: #c0c0c0; text-decoration-color: #c0c0c0\"> </span><span style=\"color: #0000ff; text-decoration-color: #0000ff\">step</span>=<span style=\"color: #008080; text-decoration-color: #008080; font-weight: bold\">810</span> <span style=\"color: #0000ff; text-decoration-color: #0000ff\">loss</span>=<span style=\"color: #008080; text-decoration-color: #008080; font-weight: bold\">4.22317</span> <span style=\"color: #0000ff; text-decoration-color: #0000ff\">dt</span>=<span style=\"color: #008080; text-decoration-color: #008080; font-weight: bold\">0.018975</span> <span style=\"color: #0000ff; text-decoration-color: #0000ff\">dtf</span>=<span style=\"color: #008080; text-decoration-color: #008080; font-weight: bold\">0.0186642</span> <span style=\"color: #0000ff; text-decoration-color: #0000ff\">dtb</span>=<span style=\"color: #008080; text-decoration-color: #008080; font-weight: bold\">0.000120792</span> <span style=\"color: #0000ff; text-decoration-color: #0000ff\">sps</span>=<span style=\"color: #008080; text-decoration-color: #008080; font-weight: bold\">52.7009</span> <span style=\"color: #0000ff; text-decoration-color: #0000ff\">sps_per_gpu</span>=<span style=\"color: #008080; text-decoration-color: #008080; font-weight: bold\">52.7009</span> <span style=\"color: #0000ff; text-decoration-color: #0000ff\">tps</span>=<span style=\"color: #008080; text-decoration-color: #008080; font-weight: bold\">6745.72</span> <span style=\"color: #0000ff; text-decoration-color: #0000ff\">tps_per_gpu</span>=<span style=\"color: #008080; text-decoration-color: #008080; font-weight: bold\">6745.72</span> <span style=\"color: #0000ff; text-decoration-color: #0000ff\">mfu</span>=<span style=\"color: #008080; text-decoration-color: #008080; font-weight: bold\">0.132645</span>\n",
              "</pre>"
            ]
          }
        },
        {
          "output_type": "display_data",
          "metadata": {},
          "data": {
            "text/html": [
              "<pre style=\"white-space:pre;overflow-x:auto;line-height:normal;font-family:Menlo,'DejaVu Sans Mono',consolas,'Courier New',monospace\">[<span style=\"color: #7f7f7f; text-decoration-color: #7f7f7f\">2025-07-22 22:25:43,416246</span>][<span style=\"color: #008000; text-decoration-color: #008000\">I</span>][<span style=\"color: #008080; text-decoration-color: #008080; font-style: italic\">wordplay</span>/<span style=\"color: #000080; text-decoration-color: #000080\">trainer</span><span style=\"color: #0000ff; text-decoration-color: #0000ff\">:</span><span style=\"color: #800080; text-decoration-color: #800080\">901</span>]<span style=\"color: #c0c0c0; text-decoration-color: #c0c0c0\"> </span><span style=\"color: #0000ff; text-decoration-color: #0000ff\">step</span>=<span style=\"color: #008080; text-decoration-color: #008080; font-weight: bold\">820</span> <span style=\"color: #0000ff; text-decoration-color: #0000ff\">loss</span>=<span style=\"color: #008080; text-decoration-color: #008080; font-weight: bold\">4.24584</span> <span style=\"color: #0000ff; text-decoration-color: #0000ff\">dt</span>=<span style=\"color: #008080; text-decoration-color: #008080; font-weight: bold\">0.0182141</span> <span style=\"color: #0000ff; text-decoration-color: #0000ff\">dtf</span>=<span style=\"color: #008080; text-decoration-color: #008080; font-weight: bold\">0.017927</span> <span style=\"color: #0000ff; text-decoration-color: #0000ff\">dtb</span>=<span style=\"color: #008080; text-decoration-color: #008080; font-weight: bold\">0.000111375</span> <span style=\"color: #0000ff; text-decoration-color: #0000ff\">sps</span>=<span style=\"color: #008080; text-decoration-color: #008080; font-weight: bold\">54.9024</span> <span style=\"color: #0000ff; text-decoration-color: #0000ff\">sps_per_gpu</span>=<span style=\"color: #008080; text-decoration-color: #008080; font-weight: bold\">54.9024</span> <span style=\"color: #0000ff; text-decoration-color: #0000ff\">tps</span>=<span style=\"color: #008080; text-decoration-color: #008080; font-weight: bold\">7027.51</span> <span style=\"color: #0000ff; text-decoration-color: #0000ff\">tps_per_gpu</span>=<span style=\"color: #008080; text-decoration-color: #008080; font-weight: bold\">7027.51</span> <span style=\"color: #0000ff; text-decoration-color: #0000ff\">mfu</span>=<span style=\"color: #008080; text-decoration-color: #008080; font-weight: bold\">0.134566</span>\n",
              "</pre>"
            ]
          }
        },
        {
          "output_type": "display_data",
          "metadata": {},
          "data": {
            "text/html": [
              "<pre style=\"white-space:pre;overflow-x:auto;line-height:normal;font-family:Menlo,'DejaVu Sans Mono',consolas,'Courier New',monospace\">[<span style=\"color: #7f7f7f; text-decoration-color: #7f7f7f\">2025-07-22 22:25:43,610658</span>][<span style=\"color: #008000; text-decoration-color: #008000\">I</span>][<span style=\"color: #008080; text-decoration-color: #008080; font-style: italic\">wordplay</span>/<span style=\"color: #000080; text-decoration-color: #000080\">trainer</span><span style=\"color: #0000ff; text-decoration-color: #0000ff\">:</span><span style=\"color: #800080; text-decoration-color: #800080\">901</span>]<span style=\"color: #c0c0c0; text-decoration-color: #c0c0c0\"> </span><span style=\"color: #0000ff; text-decoration-color: #0000ff\">step</span>=<span style=\"color: #008080; text-decoration-color: #008080; font-weight: bold\">830</span> <span style=\"color: #0000ff; text-decoration-color: #0000ff\">loss</span>=<span style=\"color: #008080; text-decoration-color: #008080; font-weight: bold\">4.1855</span> <span style=\"color: #0000ff; text-decoration-color: #0000ff\">dt</span>=<span style=\"color: #008080; text-decoration-color: #008080; font-weight: bold\">0.0182995</span> <span style=\"color: #0000ff; text-decoration-color: #0000ff\">dtf</span>=<span style=\"color: #008080; text-decoration-color: #008080; font-weight: bold\">0.0179406</span> <span style=\"color: #0000ff; text-decoration-color: #0000ff\">dtb</span>=<span style=\"color: #008080; text-decoration-color: #008080; font-weight: bold\">0.000153292</span> <span style=\"color: #0000ff; text-decoration-color: #0000ff\">sps</span>=<span style=\"color: #008080; text-decoration-color: #008080; font-weight: bold\">54.6464</span> <span style=\"color: #0000ff; text-decoration-color: #0000ff\">sps_per_gpu</span>=<span style=\"color: #008080; text-decoration-color: #008080; font-weight: bold\">54.6464</span> <span style=\"color: #0000ff; text-decoration-color: #0000ff\">tps</span>=<span style=\"color: #008080; text-decoration-color: #008080; font-weight: bold\">6994.74</span> <span style=\"color: #0000ff; text-decoration-color: #0000ff\">tps_per_gpu</span>=<span style=\"color: #008080; text-decoration-color: #008080; font-weight: bold\">6994.74</span> <span style=\"color: #0000ff; text-decoration-color: #0000ff\">mfu</span>=<span style=\"color: #008080; text-decoration-color: #008080; font-weight: bold\">0.136224</span>\n",
              "</pre>"
            ]
          }
        },
        {
          "output_type": "display_data",
          "metadata": {},
          "data": {
            "text/html": [
              "<pre style=\"white-space:pre;overflow-x:auto;line-height:normal;font-family:Menlo,'DejaVu Sans Mono',consolas,'Courier New',monospace\">[<span style=\"color: #7f7f7f; text-decoration-color: #7f7f7f\">2025-07-22 22:25:43,804158</span>][<span style=\"color: #008000; text-decoration-color: #008000\">I</span>][<span style=\"color: #008080; text-decoration-color: #008080; font-style: italic\">wordplay</span>/<span style=\"color: #000080; text-decoration-color: #000080\">trainer</span><span style=\"color: #0000ff; text-decoration-color: #0000ff\">:</span><span style=\"color: #800080; text-decoration-color: #800080\">901</span>]<span style=\"color: #c0c0c0; text-decoration-color: #c0c0c0\"> </span><span style=\"color: #0000ff; text-decoration-color: #0000ff\">step</span>=<span style=\"color: #008080; text-decoration-color: #008080; font-weight: bold\">840</span> <span style=\"color: #0000ff; text-decoration-color: #0000ff\">loss</span>=<span style=\"color: #008080; text-decoration-color: #008080; font-weight: bold\">4.24083</span> <span style=\"color: #0000ff; text-decoration-color: #0000ff\">dt</span>=<span style=\"color: #008080; text-decoration-color: #008080; font-weight: bold\">0.0188772</span> <span style=\"color: #0000ff; text-decoration-color: #0000ff\">dtf</span>=<span style=\"color: #008080; text-decoration-color: #008080; font-weight: bold\">0.0185517</span> <span style=\"color: #0000ff; text-decoration-color: #0000ff\">dtb</span>=<span style=\"color: #008080; text-decoration-color: #008080; font-weight: bold\">0.00014125</span> <span style=\"color: #0000ff; text-decoration-color: #0000ff\">sps</span>=<span style=\"color: #008080; text-decoration-color: #008080; font-weight: bold\">52.9741</span> <span style=\"color: #0000ff; text-decoration-color: #0000ff\">sps_per_gpu</span>=<span style=\"color: #008080; text-decoration-color: #008080; font-weight: bold\">52.9741</span> <span style=\"color: #0000ff; text-decoration-color: #0000ff\">tps</span>=<span style=\"color: #008080; text-decoration-color: #008080; font-weight: bold\">6780.68</span> <span style=\"color: #0000ff; text-decoration-color: #0000ff\">tps_per_gpu</span>=<span style=\"color: #008080; text-decoration-color: #008080; font-weight: bold\">6780.68</span> <span style=\"color: #0000ff; text-decoration-color: #0000ff\">mfu</span>=<span style=\"color: #008080; text-decoration-color: #008080; font-weight: bold\">0.137254</span>\n",
              "</pre>"
            ]
          }
        },
        {
          "output_type": "display_data",
          "metadata": {},
          "data": {
            "text/html": [
              "<pre style=\"white-space:pre;overflow-x:auto;line-height:normal;font-family:Menlo,'DejaVu Sans Mono',consolas,'Courier New',monospace\">[<span style=\"color: #7f7f7f; text-decoration-color: #7f7f7f\">2025-07-22 22:25:43,998208</span>][<span style=\"color: #008000; text-decoration-color: #008000\">I</span>][<span style=\"color: #008080; text-decoration-color: #008080; font-style: italic\">wordplay</span>/<span style=\"color: #000080; text-decoration-color: #000080\">trainer</span><span style=\"color: #0000ff; text-decoration-color: #0000ff\">:</span><span style=\"color: #800080; text-decoration-color: #800080\">901</span>]<span style=\"color: #c0c0c0; text-decoration-color: #c0c0c0\"> </span><span style=\"color: #0000ff; text-decoration-color: #0000ff\">step</span>=<span style=\"color: #008080; text-decoration-color: #008080; font-weight: bold\">850</span> <span style=\"color: #0000ff; text-decoration-color: #0000ff\">loss</span>=<span style=\"color: #008080; text-decoration-color: #008080; font-weight: bold\">4.23785</span> <span style=\"color: #0000ff; text-decoration-color: #0000ff\">dt</span>=<span style=\"color: #008080; text-decoration-color: #008080; font-weight: bold\">0.0180991</span> <span style=\"color: #0000ff; text-decoration-color: #0000ff\">dtf</span>=<span style=\"color: #008080; text-decoration-color: #008080; font-weight: bold\">0.0178276</span> <span style=\"color: #0000ff; text-decoration-color: #0000ff\">dtb</span>=<span style=\"color: #008080; text-decoration-color: #008080; font-weight: bold\">0.000106167</span> <span style=\"color: #0000ff; text-decoration-color: #0000ff\">sps</span>=<span style=\"color: #008080; text-decoration-color: #008080; font-weight: bold\">55.2513</span> <span style=\"color: #0000ff; text-decoration-color: #0000ff\">sps_per_gpu</span>=<span style=\"color: #008080; text-decoration-color: #008080; font-weight: bold\">55.2513</span> <span style=\"color: #0000ff; text-decoration-color: #0000ff\">tps</span>=<span style=\"color: #008080; text-decoration-color: #008080; font-weight: bold\">7072.17</span> <span style=\"color: #0000ff; text-decoration-color: #0000ff\">tps_per_gpu</span>=<span style=\"color: #008080; text-decoration-color: #008080; font-weight: bold\">7072.17</span> <span style=\"color: #0000ff; text-decoration-color: #0000ff\">mfu</span>=<span style=\"color: #008080; text-decoration-color: #008080; font-weight: bold\">0.138811</span>\n",
              "</pre>"
            ]
          }
        },
        {
          "output_type": "display_data",
          "metadata": {},
          "data": {
            "text/html": [
              "<pre style=\"white-space:pre;overflow-x:auto;line-height:normal;font-family:Menlo,'DejaVu Sans Mono',consolas,'Courier New',monospace\">[<span style=\"color: #7f7f7f; text-decoration-color: #7f7f7f\">2025-07-22 22:25:46,028631</span>][<span style=\"color: #008000; text-decoration-color: #008000\">I</span>][<span style=\"color: #008080; text-decoration-color: #008080; font-style: italic\">wordplay</span>/<span style=\"color: #000080; text-decoration-color: #000080\">trainer</span><span style=\"color: #0000ff; text-decoration-color: #0000ff\">:</span><span style=\"color: #800080; text-decoration-color: #800080\">834</span>]<span style=\"color: #c0c0c0; text-decoration-color: #c0c0c0\"> </span><span style=\"color: #ff00ff; text-decoration-color: #ff00ff\">[</span><span style=\"color: #008000; text-decoration-color: #008000\">'prompt'</span><span style=\"color: #ff00ff; text-decoration-color: #ff00ff\">]</span>: <span style=\"color: #008000; text-decoration-color: #008000\">'What is an LLM?'</span>\n",
              "</pre>"
            ]
          }
        },
        {
          "output_type": "display_data",
          "metadata": {},
          "data": {
            "text/html": [
              "<pre style=\"white-space:pre;overflow-x:auto;line-height:normal;font-family:Menlo,'DejaVu Sans Mono',consolas,'Courier New',monospace\">[<span style=\"color: #7f7f7f; text-decoration-color: #7f7f7f\">2025-07-22 22:25:46,029857</span>][<span style=\"color: #008000; text-decoration-color: #008000\">I</span>][<span style=\"color: #008080; text-decoration-color: #008080; font-style: italic\">wordplay</span>/<span style=\"color: #000080; text-decoration-color: #000080\">trainer</span><span style=\"color: #0000ff; text-decoration-color: #0000ff\">:</span><span style=\"color: #800080; text-decoration-color: #800080\">838</span>]<span style=\"color: #c0c0c0; text-decoration-color: #c0c0c0\"> </span><span style=\"color: #ff00ff; text-decoration-color: #ff00ff\">[</span><span style=\"color: #008000; text-decoration-color: #008000\">'response'</span><span style=\"color: #ff00ff; text-decoration-color: #ff00ff\">]</span>:\n",
              "\n",
              "What is an LLM?A;QfqrqQ'xxx'aa.hh3vv'<span style=\"color: #008000; text-decoration-color: #008000\">'wwossqZse'</span>rxfQsseh'.evrpMq'<span style=\"color: #008000; text-decoration-color: #008000\">'.xxTUeQ'''</span>rqqaxfxtcbqcf3qq3jZbvcepwA,,,ff'hpqcpcA-A'rv::errrvbbZ:pc-qycSScWlbQYhhwwAA-SQCgl;bbrpbSrrrrqqqqq'<span style=\"color: #008000; text-decoration-color: #008000\">'rWqqtcAkYyqgYtxttttbkkqQWWqaqqqkkk,'</span>qqexrrWSSqyyYj'SyyQYQQ,q'<span style=\"color: #008000; text-decoration-color: #008000\">'p'</span>---p'<span style=\"color: #008000; text-decoration-color: #008000\">'tcqzhhhpqWfs.p'</span>foBqqQt::eu\n",
              "</pre>"
            ]
          }
        },
        {
          "output_type": "display_data",
          "metadata": {},
          "data": {
            "text/html": [
              "<pre style=\"white-space:pre;overflow-x:auto;line-height:normal;font-family:Menlo,'DejaVu Sans Mono',consolas,'Courier New',monospace\">[<span style=\"color: #7f7f7f; text-decoration-color: #7f7f7f\">2025-07-22 22:25:49,500400</span>][<span style=\"color: #008000; text-decoration-color: #008000\">I</span>][<span style=\"color: #008080; text-decoration-color: #008080; font-style: italic\">wordplay</span>/<span style=\"color: #000080; text-decoration-color: #000080\">trainer</span><span style=\"color: #0000ff; text-decoration-color: #0000ff\">:</span><span style=\"color: #800080; text-decoration-color: #800080\">769</span>]<span style=\"color: #c0c0c0; text-decoration-color: #c0c0c0\"> </span>Saving checkpoint to: <span style=\"color: #800080; text-decoration-color: #800080\">/Users/samforeman/projects/saforem2/intro-hpc-bootcamp-2025/content/02-llms/</span><span style=\"color: #ff00ff; text-decoration-color: #ff00ff\">7-shakespeare-example</span>\n",
              "</pre>"
            ]
          }
        },
        {
          "output_type": "display_data",
          "metadata": {},
          "data": {
            "text/html": [
              "<pre style=\"white-space:pre;overflow-x:auto;line-height:normal;font-family:Menlo,'DejaVu Sans Mono',consolas,'Courier New',monospace\">[<span style=\"color: #7f7f7f; text-decoration-color: #7f7f7f\">2025-07-22 22:25:49,503245</span>][<span style=\"color: #008000; text-decoration-color: #008000\">I</span>][<span style=\"color: #008080; text-decoration-color: #008080; font-style: italic\">wordplay</span>/<span style=\"color: #000080; text-decoration-color: #000080\">trainer</span><span style=\"color: #0000ff; text-decoration-color: #0000ff\">:</span><span style=\"color: #800080; text-decoration-color: #800080\">770</span>]<span style=\"color: #c0c0c0; text-decoration-color: #c0c0c0\"> </span>Saving model to: <span style=\"color: #800080; text-decoration-color: #800080\">/Users/samforeman/projects/saforem2/intro-hpc-bootcamp-2025/content/02-llms/7-shakespeare-example/</span><span style=\"color: #ff00ff; text-decoration-color: #ff00ff\">model.pth</span>\n",
              "</pre>"
            ]
          }
        },
        {
          "output_type": "display_data",
          "metadata": {},
          "data": {
            "text/html": [
              "<pre style=\"white-space:pre;overflow-x:auto;line-height:normal;font-family:Menlo,'DejaVu Sans Mono',consolas,'Courier New',monospace\">[<span style=\"color: #7f7f7f; text-decoration-color: #7f7f7f\">2025-07-22 22:25:49,695267</span>][<span style=\"color: #008000; text-decoration-color: #008000\">I</span>][<span style=\"color: #008080; text-decoration-color: #008080; font-style: italic\">wordplay</span>/<span style=\"color: #000080; text-decoration-color: #000080\">configs</span><span style=\"color: #0000ff; text-decoration-color: #0000ff\">:</span><span style=\"color: #800080; text-decoration-color: #800080\">141</span>]<span style=\"color: #c0c0c0; text-decoration-color: #c0c0c0\"> </span>Appending <span style=\"color: #800080; text-decoration-color: #800080\">/Users/samforeman/projects/saforem2/intro-hpc-bootcamp-2025/content/02-llms/</span><span style=\"color: #ff00ff; text-decoration-color: #ff00ff\">7-shakespeare-example</span> to <span style=\"color: #800080; text-decoration-color: #800080\">/Users/samforeman/projects/saforem2/wordplay/src/ckpts/</span><span style=\"color: #ff00ff; text-decoration-color: #ff00ff\">checkpoints.log</span>\n",
              "</pre>"
            ]
          }
        },
        {
          "output_type": "display_data",
          "metadata": {},
          "data": {
            "text/html": [
              "<pre style=\"white-space:pre;overflow-x:auto;line-height:normal;font-family:Menlo,'DejaVu Sans Mono',consolas,'Courier New',monospace\">[<span style=\"color: #7f7f7f; text-decoration-color: #7f7f7f\">2025-07-22 22:25:49,894172</span>][<span style=\"color: #008000; text-decoration-color: #008000\">I</span>][<span style=\"color: #008080; text-decoration-color: #008080; font-style: italic\">wordplay</span>/<span style=\"color: #000080; text-decoration-color: #000080\">trainer</span><span style=\"color: #0000ff; text-decoration-color: #0000ff\">:</span><span style=\"color: #800080; text-decoration-color: #800080\">901</span>]<span style=\"color: #c0c0c0; text-decoration-color: #c0c0c0\"> </span><span style=\"color: #0000ff; text-decoration-color: #0000ff\">step</span>=<span style=\"color: #008080; text-decoration-color: #008080; font-weight: bold\">860</span> <span style=\"color: #0000ff; text-decoration-color: #0000ff\">loss</span>=<span style=\"color: #008080; text-decoration-color: #008080; font-weight: bold\">4.20116</span> <span style=\"color: #0000ff; text-decoration-color: #0000ff\">dt</span>=<span style=\"color: #008080; text-decoration-color: #008080; font-weight: bold\">0.0188518</span> <span style=\"color: #0000ff; text-decoration-color: #0000ff\">dtf</span>=<span style=\"color: #008080; text-decoration-color: #008080; font-weight: bold\">0.0179717</span> <span style=\"color: #0000ff; text-decoration-color: #0000ff\">dtb</span>=<span style=\"color: #008080; text-decoration-color: #008080; font-weight: bold\">0.000118417</span> <span style=\"color: #0000ff; text-decoration-color: #0000ff\">sps</span>=<span style=\"color: #008080; text-decoration-color: #008080; font-weight: bold\">53.0454</span> <span style=\"color: #0000ff; text-decoration-color: #0000ff\">sps_per_gpu</span>=<span style=\"color: #008080; text-decoration-color: #008080; font-weight: bold\">53.0454</span> <span style=\"color: #0000ff; text-decoration-color: #0000ff\">tps</span>=<span style=\"color: #008080; text-decoration-color: #008080; font-weight: bold\">6789.81</span> <span style=\"color: #0000ff; text-decoration-color: #0000ff\">tps_per_gpu</span>=<span style=\"color: #008080; text-decoration-color: #008080; font-weight: bold\">6789.81</span> <span style=\"color: #0000ff; text-decoration-color: #0000ff\">mfu</span>=<span style=\"color: #008080; text-decoration-color: #008080; font-weight: bold\">0.139602</span>\n",
              "</pre>"
            ]
          }
        },
        {
          "output_type": "display_data",
          "metadata": {},
          "data": {
            "text/html": [
              "<pre style=\"white-space:pre;overflow-x:auto;line-height:normal;font-family:Menlo,'DejaVu Sans Mono',consolas,'Courier New',monospace\">[<span style=\"color: #7f7f7f; text-decoration-color: #7f7f7f\">2025-07-22 22:25:50,109860</span>][<span style=\"color: #008000; text-decoration-color: #008000\">I</span>][<span style=\"color: #008080; text-decoration-color: #008080; font-style: italic\">wordplay</span>/<span style=\"color: #000080; text-decoration-color: #000080\">trainer</span><span style=\"color: #0000ff; text-decoration-color: #0000ff\">:</span><span style=\"color: #800080; text-decoration-color: #800080\">901</span>]<span style=\"color: #c0c0c0; text-decoration-color: #c0c0c0\"> </span><span style=\"color: #0000ff; text-decoration-color: #0000ff\">step</span>=<span style=\"color: #008080; text-decoration-color: #008080; font-weight: bold\">870</span> <span style=\"color: #0000ff; text-decoration-color: #0000ff\">loss</span>=<span style=\"color: #008080; text-decoration-color: #008080; font-weight: bold\">4.22428</span> <span style=\"color: #0000ff; text-decoration-color: #0000ff\">dt</span>=<span style=\"color: #008080; text-decoration-color: #008080; font-weight: bold\">0.0304981</span> <span style=\"color: #0000ff; text-decoration-color: #0000ff\">dtf</span>=<span style=\"color: #008080; text-decoration-color: #008080; font-weight: bold\">0.0301595</span> <span style=\"color: #0000ff; text-decoration-color: #0000ff\">dtb</span>=<span style=\"color: #008080; text-decoration-color: #008080; font-weight: bold\">0.000125583</span> <span style=\"color: #0000ff; text-decoration-color: #0000ff\">sps</span>=<span style=\"color: #008080; text-decoration-color: #008080; font-weight: bold\">32.7889</span> <span style=\"color: #0000ff; text-decoration-color: #0000ff\">sps_per_gpu</span>=<span style=\"color: #008080; text-decoration-color: #008080; font-weight: bold\">32.7889</span> <span style=\"color: #0000ff; text-decoration-color: #0000ff\">tps</span>=<span style=\"color: #008080; text-decoration-color: #008080; font-weight: bold\">4196.98</span> <span style=\"color: #0000ff; text-decoration-color: #0000ff\">tps_per_gpu</span>=<span style=\"color: #008080; text-decoration-color: #008080; font-weight: bold\">4196.98</span> <span style=\"color: #0000ff; text-decoration-color: #0000ff\">mfu</span>=<span style=\"color: #008080; text-decoration-color: #008080; font-weight: bold\">0.134711</span>\n",
              "</pre>"
            ]
          }
        },
        {
          "output_type": "display_data",
          "metadata": {},
          "data": {
            "text/html": [
              "<pre style=\"white-space:pre;overflow-x:auto;line-height:normal;font-family:Menlo,'DejaVu Sans Mono',consolas,'Courier New',monospace\">[<span style=\"color: #7f7f7f; text-decoration-color: #7f7f7f\">2025-07-22 22:25:50,320223</span>][<span style=\"color: #008000; text-decoration-color: #008000\">I</span>][<span style=\"color: #008080; text-decoration-color: #008080; font-style: italic\">wordplay</span>/<span style=\"color: #000080; text-decoration-color: #000080\">trainer</span><span style=\"color: #0000ff; text-decoration-color: #0000ff\">:</span><span style=\"color: #800080; text-decoration-color: #800080\">901</span>]<span style=\"color: #c0c0c0; text-decoration-color: #c0c0c0\"> </span><span style=\"color: #0000ff; text-decoration-color: #0000ff\">step</span>=<span style=\"color: #008080; text-decoration-color: #008080; font-weight: bold\">880</span> <span style=\"color: #0000ff; text-decoration-color: #0000ff\">loss</span>=<span style=\"color: #008080; text-decoration-color: #008080; font-weight: bold\">4.22977</span> <span style=\"color: #0000ff; text-decoration-color: #0000ff\">dt</span>=<span style=\"color: #008080; text-decoration-color: #008080; font-weight: bold\">0.0212763</span> <span style=\"color: #0000ff; text-decoration-color: #0000ff\">dtf</span>=<span style=\"color: #008080; text-decoration-color: #008080; font-weight: bold\">0.0209027</span> <span style=\"color: #0000ff; text-decoration-color: #0000ff\">dtb</span>=<span style=\"color: #008080; text-decoration-color: #008080; font-weight: bold\">0.000147792</span> <span style=\"color: #0000ff; text-decoration-color: #0000ff\">sps</span>=<span style=\"color: #008080; text-decoration-color: #008080; font-weight: bold\">47.0007</span> <span style=\"color: #0000ff; text-decoration-color: #0000ff\">sps_per_gpu</span>=<span style=\"color: #008080; text-decoration-color: #008080; font-weight: bold\">47.0007</span> <span style=\"color: #0000ff; text-decoration-color: #0000ff\">tps</span>=<span style=\"color: #008080; text-decoration-color: #008080; font-weight: bold\">6016.09</span> <span style=\"color: #0000ff; text-decoration-color: #0000ff\">tps_per_gpu</span>=<span style=\"color: #008080; text-decoration-color: #008080; font-weight: bold\">6016.09</span> <span style=\"color: #0000ff; text-decoration-color: #0000ff\">mfu</span>=<span style=\"color: #008080; text-decoration-color: #008080; font-weight: bold\">0.13424</span>\n",
              "</pre>"
            ]
          }
        },
        {
          "output_type": "display_data",
          "metadata": {},
          "data": {
            "text/html": [
              "<pre style=\"white-space:pre;overflow-x:auto;line-height:normal;font-family:Menlo,'DejaVu Sans Mono',consolas,'Courier New',monospace\">[<span style=\"color: #7f7f7f; text-decoration-color: #7f7f7f\">2025-07-22 22:25:50,527308</span>][<span style=\"color: #008000; text-decoration-color: #008000\">I</span>][<span style=\"color: #008080; text-decoration-color: #008080; font-style: italic\">wordplay</span>/<span style=\"color: #000080; text-decoration-color: #000080\">trainer</span><span style=\"color: #0000ff; text-decoration-color: #0000ff\">:</span><span style=\"color: #800080; text-decoration-color: #800080\">901</span>]<span style=\"color: #c0c0c0; text-decoration-color: #c0c0c0\"> </span><span style=\"color: #0000ff; text-decoration-color: #0000ff\">step</span>=<span style=\"color: #008080; text-decoration-color: #008080; font-weight: bold\">890</span> <span style=\"color: #0000ff; text-decoration-color: #0000ff\">loss</span>=<span style=\"color: #008080; text-decoration-color: #008080; font-weight: bold\">4.22047</span> <span style=\"color: #0000ff; text-decoration-color: #0000ff\">dt</span>=<span style=\"color: #008080; text-decoration-color: #008080; font-weight: bold\">0.0201682</span> <span style=\"color: #0000ff; text-decoration-color: #0000ff\">dtf</span>=<span style=\"color: #008080; text-decoration-color: #008080; font-weight: bold\">0.0198613</span> <span style=\"color: #0000ff; text-decoration-color: #0000ff\">dtb</span>=<span style=\"color: #008080; text-decoration-color: #008080; font-weight: bold\">0.000120083</span> <span style=\"color: #0000ff; text-decoration-color: #0000ff\">sps</span>=<span style=\"color: #008080; text-decoration-color: #008080; font-weight: bold\">49.583</span> <span style=\"color: #0000ff; text-decoration-color: #0000ff\">sps_per_gpu</span>=<span style=\"color: #008080; text-decoration-color: #008080; font-weight: bold\">49.583</span> <span style=\"color: #0000ff; text-decoration-color: #0000ff\">tps</span>=<span style=\"color: #008080; text-decoration-color: #008080; font-weight: bold\">6346.62</span> <span style=\"color: #0000ff; text-decoration-color: #0000ff\">tps_per_gpu</span>=<span style=\"color: #008080; text-decoration-color: #008080; font-weight: bold\">6346.62</span> <span style=\"color: #0000ff; text-decoration-color: #0000ff\">mfu</span>=<span style=\"color: #008080; text-decoration-color: #008080; font-weight: bold\">0.13453</span>\n",
              "</pre>"
            ]
          }
        },
        {
          "output_type": "display_data",
          "metadata": {},
          "data": {
            "text/html": [
              "<pre style=\"white-space:pre;overflow-x:auto;line-height:normal;font-family:Menlo,'DejaVu Sans Mono',consolas,'Courier New',monospace\">[<span style=\"color: #7f7f7f; text-decoration-color: #7f7f7f\">2025-07-22 22:25:50,734209</span>][<span style=\"color: #008000; text-decoration-color: #008000\">I</span>][<span style=\"color: #008080; text-decoration-color: #008080; font-style: italic\">wordplay</span>/<span style=\"color: #000080; text-decoration-color: #000080\">trainer</span><span style=\"color: #0000ff; text-decoration-color: #0000ff\">:</span><span style=\"color: #800080; text-decoration-color: #800080\">901</span>]<span style=\"color: #c0c0c0; text-decoration-color: #c0c0c0\"> </span><span style=\"color: #0000ff; text-decoration-color: #0000ff\">step</span>=<span style=\"color: #008080; text-decoration-color: #008080; font-weight: bold\">900</span> <span style=\"color: #0000ff; text-decoration-color: #0000ff\">loss</span>=<span style=\"color: #008080; text-decoration-color: #008080; font-weight: bold\">4.35563</span> <span style=\"color: #0000ff; text-decoration-color: #0000ff\">dt</span>=<span style=\"color: #008080; text-decoration-color: #008080; font-weight: bold\">0.0256738</span> <span style=\"color: #0000ff; text-decoration-color: #0000ff\">dtf</span>=<span style=\"color: #008080; text-decoration-color: #008080; font-weight: bold\">0.0208161</span> <span style=\"color: #0000ff; text-decoration-color: #0000ff\">dtb</span>=<span style=\"color: #008080; text-decoration-color: #008080; font-weight: bold\">0.000119791</span> <span style=\"color: #0000ff; text-decoration-color: #0000ff\">sps</span>=<span style=\"color: #008080; text-decoration-color: #008080; font-weight: bold\">38.9503</span> <span style=\"color: #0000ff; text-decoration-color: #0000ff\">sps_per_gpu</span>=<span style=\"color: #008080; text-decoration-color: #008080; font-weight: bold\">38.9503</span> <span style=\"color: #0000ff; text-decoration-color: #0000ff\">tps</span>=<span style=\"color: #008080; text-decoration-color: #008080; font-weight: bold\">4985.64</span> <span style=\"color: #0000ff; text-decoration-color: #0000ff\">tps_per_gpu</span>=<span style=\"color: #008080; text-decoration-color: #008080; font-weight: bold\">4985.64</span> <span style=\"color: #0000ff; text-decoration-color: #0000ff\">mfu</span>=<span style=\"color: #008080; text-decoration-color: #008080; font-weight: bold\">0.13185</span>\n",
              "</pre>"
            ]
          }
        },
        {
          "output_type": "display_data",
          "metadata": {},
          "data": {
            "text/html": [
              "<pre style=\"white-space:pre;overflow-x:auto;line-height:normal;font-family:Menlo,'DejaVu Sans Mono',consolas,'Courier New',monospace\">[<span style=\"color: #7f7f7f; text-decoration-color: #7f7f7f\">2025-07-22 22:25:52,809277</span>][<span style=\"color: #008000; text-decoration-color: #008000\">I</span>][<span style=\"color: #008080; text-decoration-color: #008080; font-style: italic\">wordplay</span>/<span style=\"color: #000080; text-decoration-color: #000080\">trainer</span><span style=\"color: #0000ff; text-decoration-color: #0000ff\">:</span><span style=\"color: #800080; text-decoration-color: #800080\">834</span>]<span style=\"color: #c0c0c0; text-decoration-color: #c0c0c0\"> </span><span style=\"color: #ff00ff; text-decoration-color: #ff00ff\">[</span><span style=\"color: #008000; text-decoration-color: #008000\">'prompt'</span><span style=\"color: #ff00ff; text-decoration-color: #ff00ff\">]</span>: <span style=\"color: #008000; text-decoration-color: #008000\">'What is an LLM?'</span>\n",
              "</pre>"
            ]
          }
        },
        {
          "output_type": "display_data",
          "metadata": {},
          "data": {
            "text/html": [
              "<pre style=\"white-space:pre;overflow-x:auto;line-height:normal;font-family:Menlo,'DejaVu Sans Mono',consolas,'Courier New',monospace\">[<span style=\"color: #7f7f7f; text-decoration-color: #7f7f7f\">2025-07-22 22:25:52,810499</span>][<span style=\"color: #008000; text-decoration-color: #008000\">I</span>][<span style=\"color: #008080; text-decoration-color: #008080; font-style: italic\">wordplay</span>/<span style=\"color: #000080; text-decoration-color: #000080\">trainer</span><span style=\"color: #0000ff; text-decoration-color: #0000ff\">:</span><span style=\"color: #800080; text-decoration-color: #800080\">838</span>]<span style=\"color: #c0c0c0; text-decoration-color: #c0c0c0\"> </span><span style=\"color: #ff00ff; text-decoration-color: #ff00ff\">[</span><span style=\"color: #008000; text-decoration-color: #008000\">'response'</span><span style=\"color: #ff00ff; text-decoration-color: #ff00ff\">]</span>:\n",
              "\n",
              "What is an LLM?wwPA'eeew-3ZAjRwqs33eafCq'ax..xcxc'<span style=\"color: #008000; text-decoration-color: #008000\">'awA'</span>,bsettcCvCqqq33A-.bsor.awQfJ$  3a-3b U' Zq3gQQf',,AqGZ fhhPwU.vfCC.xpqvr.SkkofxsyQrrs';<span style=\"color: #008000; text-decoration-color: #008000\">'kGs,rMse''rppb'</span>qqfoktM'qo,qqSqgW,etM'M??Z;auYfSSo??gg'sSvSQQqfftcb;;;;pWQSffttqgQSSSkllbrqqaw,<span style=\"color: #008000; text-decoration-color: #008000\">'SqqYQ;;;pqqtpBheW;;;.hn'</span>qYyMMesgl\n",
              "</pre>"
            ]
          }
        },
        {
          "output_type": "display_data",
          "metadata": {},
          "data": {
            "text/html": [
              "<pre style=\"white-space:pre;overflow-x:auto;line-height:normal;font-family:Menlo,'DejaVu Sans Mono',consolas,'Courier New',monospace\">[<span style=\"color: #7f7f7f; text-decoration-color: #7f7f7f\">2025-07-22 22:25:56,192536</span>][<span style=\"color: #008000; text-decoration-color: #008000\">I</span>][<span style=\"color: #008080; text-decoration-color: #008080; font-style: italic\">wordplay</span>/<span style=\"color: #000080; text-decoration-color: #000080\">trainer</span><span style=\"color: #0000ff; text-decoration-color: #0000ff\">:</span><span style=\"color: #800080; text-decoration-color: #800080\">769</span>]<span style=\"color: #c0c0c0; text-decoration-color: #c0c0c0\"> </span>Saving checkpoint to: <span style=\"color: #800080; text-decoration-color: #800080\">/Users/samforeman/projects/saforem2/intro-hpc-bootcamp-2025/content/02-llms/</span><span style=\"color: #ff00ff; text-decoration-color: #ff00ff\">7-shakespeare-example</span>\n",
              "</pre>"
            ]
          }
        },
        {
          "output_type": "display_data",
          "metadata": {},
          "data": {
            "text/html": [
              "<pre style=\"white-space:pre;overflow-x:auto;line-height:normal;font-family:Menlo,'DejaVu Sans Mono',consolas,'Courier New',monospace\">[<span style=\"color: #7f7f7f; text-decoration-color: #7f7f7f\">2025-07-22 22:25:56,193419</span>][<span style=\"color: #008000; text-decoration-color: #008000\">I</span>][<span style=\"color: #008080; text-decoration-color: #008080; font-style: italic\">wordplay</span>/<span style=\"color: #000080; text-decoration-color: #000080\">trainer</span><span style=\"color: #0000ff; text-decoration-color: #0000ff\">:</span><span style=\"color: #800080; text-decoration-color: #800080\">770</span>]<span style=\"color: #c0c0c0; text-decoration-color: #c0c0c0\"> </span>Saving model to: <span style=\"color: #800080; text-decoration-color: #800080\">/Users/samforeman/projects/saforem2/intro-hpc-bootcamp-2025/content/02-llms/7-shakespeare-example/</span><span style=\"color: #ff00ff; text-decoration-color: #ff00ff\">model.pth</span>\n",
              "</pre>"
            ]
          }
        },
        {
          "output_type": "display_data",
          "metadata": {},
          "data": {
            "text/html": [
              "<pre style=\"white-space:pre;overflow-x:auto;line-height:normal;font-family:Menlo,'DejaVu Sans Mono',consolas,'Courier New',monospace\">[<span style=\"color: #7f7f7f; text-decoration-color: #7f7f7f\">2025-07-22 22:25:56,354038</span>][<span style=\"color: #008000; text-decoration-color: #008000\">I</span>][<span style=\"color: #008080; text-decoration-color: #008080; font-style: italic\">wordplay</span>/<span style=\"color: #000080; text-decoration-color: #000080\">configs</span><span style=\"color: #0000ff; text-decoration-color: #0000ff\">:</span><span style=\"color: #800080; text-decoration-color: #800080\">141</span>]<span style=\"color: #c0c0c0; text-decoration-color: #c0c0c0\"> </span>Appending <span style=\"color: #800080; text-decoration-color: #800080\">/Users/samforeman/projects/saforem2/intro-hpc-bootcamp-2025/content/02-llms/</span><span style=\"color: #ff00ff; text-decoration-color: #ff00ff\">7-shakespeare-example</span> to <span style=\"color: #800080; text-decoration-color: #800080\">/Users/samforeman/projects/saforem2/wordplay/src/ckpts/</span><span style=\"color: #ff00ff; text-decoration-color: #ff00ff\">checkpoints.log</span>\n",
              "</pre>"
            ]
          }
        },
        {
          "output_type": "display_data",
          "metadata": {},
          "data": {
            "text/html": [
              "<pre style=\"white-space:pre;overflow-x:auto;line-height:normal;font-family:Menlo,'DejaVu Sans Mono',consolas,'Courier New',monospace\">[<span style=\"color: #7f7f7f; text-decoration-color: #7f7f7f\">2025-07-22 22:25:56,548371</span>][<span style=\"color: #008000; text-decoration-color: #008000\">I</span>][<span style=\"color: #008080; text-decoration-color: #008080; font-style: italic\">wordplay</span>/<span style=\"color: #000080; text-decoration-color: #000080\">trainer</span><span style=\"color: #0000ff; text-decoration-color: #0000ff\">:</span><span style=\"color: #800080; text-decoration-color: #800080\">901</span>]<span style=\"color: #c0c0c0; text-decoration-color: #c0c0c0\"> </span><span style=\"color: #0000ff; text-decoration-color: #0000ff\">step</span>=<span style=\"color: #008080; text-decoration-color: #008080; font-weight: bold\">910</span> <span style=\"color: #0000ff; text-decoration-color: #0000ff\">loss</span>=<span style=\"color: #008080; text-decoration-color: #008080; font-weight: bold\">4.19569</span> <span style=\"color: #0000ff; text-decoration-color: #0000ff\">dt</span>=<span style=\"color: #008080; text-decoration-color: #008080; font-weight: bold\">0.0183614</span> <span style=\"color: #0000ff; text-decoration-color: #0000ff\">dtf</span>=<span style=\"color: #008080; text-decoration-color: #008080; font-weight: bold\">0.0180317</span> <span style=\"color: #0000ff; text-decoration-color: #0000ff\">dtb</span>=<span style=\"color: #008080; text-decoration-color: #008080; font-weight: bold\">0.000125542</span> <span style=\"color: #0000ff; text-decoration-color: #0000ff\">sps</span>=<span style=\"color: #008080; text-decoration-color: #008080; font-weight: bold\">54.4622</span> <span style=\"color: #0000ff; text-decoration-color: #0000ff\">sps_per_gpu</span>=<span style=\"color: #008080; text-decoration-color: #008080; font-weight: bold\">54.4622</span> <span style=\"color: #0000ff; text-decoration-color: #0000ff\">tps</span>=<span style=\"color: #008080; text-decoration-color: #008080; font-weight: bold\">6971.16</span> <span style=\"color: #0000ff; text-decoration-color: #0000ff\">tps_per_gpu</span>=<span style=\"color: #008080; text-decoration-color: #008080; font-weight: bold\">6971.16</span> <span style=\"color: #0000ff; text-decoration-color: #0000ff\">mfu</span>=<span style=\"color: #008080; text-decoration-color: #008080; font-weight: bold\">0.133729</span>\n",
              "</pre>"
            ]
          }
        },
        {
          "output_type": "display_data",
          "metadata": {},
          "data": {
            "text/html": [
              "<pre style=\"white-space:pre;overflow-x:auto;line-height:normal;font-family:Menlo,'DejaVu Sans Mono',consolas,'Courier New',monospace\">[<span style=\"color: #7f7f7f; text-decoration-color: #7f7f7f\">2025-07-22 22:25:56,745375</span>][<span style=\"color: #008000; text-decoration-color: #008000\">I</span>][<span style=\"color: #008080; text-decoration-color: #008080; font-style: italic\">wordplay</span>/<span style=\"color: #000080; text-decoration-color: #000080\">trainer</span><span style=\"color: #0000ff; text-decoration-color: #0000ff\">:</span><span style=\"color: #800080; text-decoration-color: #800080\">901</span>]<span style=\"color: #c0c0c0; text-decoration-color: #c0c0c0\"> </span><span style=\"color: #0000ff; text-decoration-color: #0000ff\">step</span>=<span style=\"color: #008080; text-decoration-color: #008080; font-weight: bold\">920</span> <span style=\"color: #0000ff; text-decoration-color: #0000ff\">loss</span>=<span style=\"color: #008080; text-decoration-color: #008080; font-weight: bold\">4.23206</span> <span style=\"color: #0000ff; text-decoration-color: #0000ff\">dt</span>=<span style=\"color: #008080; text-decoration-color: #008080; font-weight: bold\">0.0190203</span> <span style=\"color: #0000ff; text-decoration-color: #0000ff\">dtf</span>=<span style=\"color: #008080; text-decoration-color: #008080; font-weight: bold\">0.018687</span> <span style=\"color: #0000ff; text-decoration-color: #0000ff\">dtb</span>=<span style=\"color: #008080; text-decoration-color: #008080; font-weight: bold\">0.000128375</span> <span style=\"color: #0000ff; text-decoration-color: #0000ff\">sps</span>=<span style=\"color: #008080; text-decoration-color: #008080; font-weight: bold\">52.5754</span> <span style=\"color: #0000ff; text-decoration-color: #0000ff\">sps_per_gpu</span>=<span style=\"color: #008080; text-decoration-color: #008080; font-weight: bold\">52.5754</span> <span style=\"color: #0000ff; text-decoration-color: #0000ff\">tps</span>=<span style=\"color: #008080; text-decoration-color: #008080; font-weight: bold\">6729.65</span> <span style=\"color: #0000ff; text-decoration-color: #0000ff\">tps_per_gpu</span>=<span style=\"color: #008080; text-decoration-color: #008080; font-weight: bold\">6729.65</span> <span style=\"color: #0000ff; text-decoration-color: #0000ff\">mfu</span>=<span style=\"color: #008080; text-decoration-color: #008080; font-weight: bold\">0.134898</span>\n",
              "</pre>"
            ]
          }
        },
        {
          "output_type": "display_data",
          "metadata": {},
          "data": {
            "text/html": [
              "<pre style=\"white-space:pre;overflow-x:auto;line-height:normal;font-family:Menlo,'DejaVu Sans Mono',consolas,'Courier New',monospace\">[<span style=\"color: #7f7f7f; text-decoration-color: #7f7f7f\">2025-07-22 22:25:56,934510</span>][<span style=\"color: #008000; text-decoration-color: #008000\">I</span>][<span style=\"color: #008080; text-decoration-color: #008080; font-style: italic\">wordplay</span>/<span style=\"color: #000080; text-decoration-color: #000080\">trainer</span><span style=\"color: #0000ff; text-decoration-color: #0000ff\">:</span><span style=\"color: #800080; text-decoration-color: #800080\">901</span>]<span style=\"color: #c0c0c0; text-decoration-color: #c0c0c0\"> </span><span style=\"color: #0000ff; text-decoration-color: #0000ff\">step</span>=<span style=\"color: #008080; text-decoration-color: #008080; font-weight: bold\">930</span> <span style=\"color: #0000ff; text-decoration-color: #0000ff\">loss</span>=<span style=\"color: #008080; text-decoration-color: #008080; font-weight: bold\">4.29058</span> <span style=\"color: #0000ff; text-decoration-color: #0000ff\">dt</span>=<span style=\"color: #008080; text-decoration-color: #008080; font-weight: bold\">0.0179857</span> <span style=\"color: #0000ff; text-decoration-color: #0000ff\">dtf</span>=<span style=\"color: #008080; text-decoration-color: #008080; font-weight: bold\">0.0176951</span> <span style=\"color: #0000ff; text-decoration-color: #0000ff\">dtb</span>=<span style=\"color: #008080; text-decoration-color: #008080; font-weight: bold\">0.000123209</span> <span style=\"color: #0000ff; text-decoration-color: #0000ff\">sps</span>=<span style=\"color: #008080; text-decoration-color: #008080; font-weight: bold\">55.5998</span> <span style=\"color: #0000ff; text-decoration-color: #0000ff\">sps_per_gpu</span>=<span style=\"color: #008080; text-decoration-color: #008080; font-weight: bold\">55.5998</span> <span style=\"color: #0000ff; text-decoration-color: #0000ff\">tps</span>=<span style=\"color: #008080; text-decoration-color: #008080; font-weight: bold\">7116.78</span> <span style=\"color: #0000ff; text-decoration-color: #0000ff\">tps_per_gpu</span>=<span style=\"color: #008080; text-decoration-color: #008080; font-weight: bold\">7116.78</span> <span style=\"color: #0000ff; text-decoration-color: #0000ff\">mfu</span>=<span style=\"color: #008080; text-decoration-color: #008080; font-weight: bold\">0.136787</span>\n",
              "</pre>"
            ]
          }
        },
        {
          "output_type": "display_data",
          "metadata": {},
          "data": {
            "text/html": [
              "<pre style=\"white-space:pre;overflow-x:auto;line-height:normal;font-family:Menlo,'DejaVu Sans Mono',consolas,'Courier New',monospace\">[<span style=\"color: #7f7f7f; text-decoration-color: #7f7f7f\">2025-07-22 22:25:57,462606</span>][<span style=\"color: #008000; text-decoration-color: #008000\">I</span>][<span style=\"color: #008080; text-decoration-color: #008080; font-style: italic\">wordplay</span>/<span style=\"color: #000080; text-decoration-color: #000080\">trainer</span><span style=\"color: #0000ff; text-decoration-color: #0000ff\">:</span><span style=\"color: #800080; text-decoration-color: #800080\">901</span>]<span style=\"color: #c0c0c0; text-decoration-color: #c0c0c0\"> </span><span style=\"color: #0000ff; text-decoration-color: #0000ff\">step</span>=<span style=\"color: #008080; text-decoration-color: #008080; font-weight: bold\">940</span> <span style=\"color: #0000ff; text-decoration-color: #0000ff\">loss</span>=<span style=\"color: #008080; text-decoration-color: #008080; font-weight: bold\">4.211</span> <span style=\"color: #0000ff; text-decoration-color: #0000ff\">dt</span>=<span style=\"color: #008080; text-decoration-color: #008080; font-weight: bold\">0.0267375</span> <span style=\"color: #0000ff; text-decoration-color: #0000ff\">dtf</span>=<span style=\"color: #008080; text-decoration-color: #008080; font-weight: bold\">0.0262729</span> <span style=\"color: #0000ff; text-decoration-color: #0000ff\">dtb</span>=<span style=\"color: #008080; text-decoration-color: #008080; font-weight: bold\">0.00016675</span> <span style=\"color: #0000ff; text-decoration-color: #0000ff\">sps</span>=<span style=\"color: #008080; text-decoration-color: #008080; font-weight: bold\">37.4007</span> <span style=\"color: #0000ff; text-decoration-color: #0000ff\">sps_per_gpu</span>=<span style=\"color: #008080; text-decoration-color: #008080; font-weight: bold\">37.4007</span> <span style=\"color: #0000ff; text-decoration-color: #0000ff\">tps</span>=<span style=\"color: #008080; text-decoration-color: #008080; font-weight: bold\">4787.28</span> <span style=\"color: #0000ff; text-decoration-color: #0000ff\">tps_per_gpu</span>=<span style=\"color: #008080; text-decoration-color: #008080; font-weight: bold\">4787.28</span> <span style=\"color: #0000ff; text-decoration-color: #0000ff\">mfu</span>=<span style=\"color: #008080; text-decoration-color: #008080; font-weight: bold\">0.133453</span>\n",
              "</pre>"
            ]
          }
        },
        {
          "output_type": "display_data",
          "metadata": {},
          "data": {
            "text/html": [
              "<pre style=\"white-space:pre;overflow-x:auto;line-height:normal;font-family:Menlo,'DejaVu Sans Mono',consolas,'Courier New',monospace\">[<span style=\"color: #7f7f7f; text-decoration-color: #7f7f7f\">2025-07-22 22:25:57,691468</span>][<span style=\"color: #008000; text-decoration-color: #008000\">I</span>][<span style=\"color: #008080; text-decoration-color: #008080; font-style: italic\">wordplay</span>/<span style=\"color: #000080; text-decoration-color: #000080\">trainer</span><span style=\"color: #0000ff; text-decoration-color: #0000ff\">:</span><span style=\"color: #800080; text-decoration-color: #800080\">901</span>]<span style=\"color: #c0c0c0; text-decoration-color: #c0c0c0\"> </span><span style=\"color: #0000ff; text-decoration-color: #0000ff\">step</span>=<span style=\"color: #008080; text-decoration-color: #008080; font-weight: bold\">950</span> <span style=\"color: #0000ff; text-decoration-color: #0000ff\">loss</span>=<span style=\"color: #008080; text-decoration-color: #008080; font-weight: bold\">4.18626</span> <span style=\"color: #0000ff; text-decoration-color: #0000ff\">dt</span>=<span style=\"color: #008080; text-decoration-color: #008080; font-weight: bold\">0.0219718</span> <span style=\"color: #0000ff; text-decoration-color: #0000ff\">dtf</span>=<span style=\"color: #008080; text-decoration-color: #008080; font-weight: bold\">0.0216498</span> <span style=\"color: #0000ff; text-decoration-color: #0000ff\">dtb</span>=<span style=\"color: #008080; text-decoration-color: #008080; font-weight: bold\">0.00012125</span> <span style=\"color: #0000ff; text-decoration-color: #0000ff\">sps</span>=<span style=\"color: #008080; text-decoration-color: #008080; font-weight: bold\">45.5129</span> <span style=\"color: #0000ff; text-decoration-color: #0000ff\">sps_per_gpu</span>=<span style=\"color: #008080; text-decoration-color: #008080; font-weight: bold\">45.5129</span> <span style=\"color: #0000ff; text-decoration-color: #0000ff\">tps</span>=<span style=\"color: #008080; text-decoration-color: #008080; font-weight: bold\">5825.65</span> <span style=\"color: #0000ff; text-decoration-color: #0000ff\">tps_per_gpu</span>=<span style=\"color: #008080; text-decoration-color: #008080; font-weight: bold\">5825.65</span> <span style=\"color: #0000ff; text-decoration-color: #0000ff\">mfu</span>=<span style=\"color: #008080; text-decoration-color: #008080; font-weight: bold\">0.132696</span>\n",
              "</pre>"
            ]
          }
        },
        {
          "output_type": "display_data",
          "metadata": {},
          "data": {
            "text/html": [
              "<pre style=\"white-space:pre;overflow-x:auto;line-height:normal;font-family:Menlo,'DejaVu Sans Mono',consolas,'Courier New',monospace\">[<span style=\"color: #7f7f7f; text-decoration-color: #7f7f7f\">2025-07-22 22:25:59,833355</span>][<span style=\"color: #008000; text-decoration-color: #008000\">I</span>][<span style=\"color: #008080; text-decoration-color: #008080; font-style: italic\">wordplay</span>/<span style=\"color: #000080; text-decoration-color: #000080\">trainer</span><span style=\"color: #0000ff; text-decoration-color: #0000ff\">:</span><span style=\"color: #800080; text-decoration-color: #800080\">834</span>]<span style=\"color: #c0c0c0; text-decoration-color: #c0c0c0\"> </span><span style=\"color: #ff00ff; text-decoration-color: #ff00ff\">[</span><span style=\"color: #008000; text-decoration-color: #008000\">'prompt'</span><span style=\"color: #ff00ff; text-decoration-color: #ff00ff\">]</span>: <span style=\"color: #008000; text-decoration-color: #008000\">'What is an LLM?'</span>\n",
              "</pre>"
            ]
          }
        },
        {
          "output_type": "display_data",
          "metadata": {},
          "data": {
            "text/html": [
              "<pre style=\"white-space:pre;overflow-x:auto;line-height:normal;font-family:Menlo,'DejaVu Sans Mono',consolas,'Courier New',monospace\">[<span style=\"color: #7f7f7f; text-decoration-color: #7f7f7f\">2025-07-22 22:25:59,835041</span>][<span style=\"color: #008000; text-decoration-color: #008000\">I</span>][<span style=\"color: #008080; text-decoration-color: #008080; font-style: italic\">wordplay</span>/<span style=\"color: #000080; text-decoration-color: #000080\">trainer</span><span style=\"color: #0000ff; text-decoration-color: #0000ff\">:</span><span style=\"color: #800080; text-decoration-color: #800080\">838</span>]<span style=\"color: #c0c0c0; text-decoration-color: #c0c0c0\"> </span><span style=\"color: #ff00ff; text-decoration-color: #ff00ff\">[</span><span style=\"color: #008000; text-decoration-color: #008000\">'response'</span><span style=\"color: #ff00ff; text-decoration-color: #ff00ff\">]</span>:\n",
              "\n",
              "What is an LLM?YfQooooRx3xccaHCvj3gllexpjGG,wUxe'oOf.smxxxrq-jj'kxxrkc3fkkeQZZe'<span style=\"color: #008000; text-decoration-color: #008000\">'YR'</span>JhrZZAcowccpqA,QUJZpcAkkGGGqp--.v'appbYYbeeqbbZrk'MBfq-srksqYee'QQt'J',qWqt;qkGWbrrtqJ-<span style=\"color: #008000; text-decoration-color: #008000\">'pa'</span>ggjJSq--<span style=\"color: #008000; text-decoration-color: #008000\">'sf'</span>..;<span style=\"color: #008000; text-decoration-color: #008000\">''</span>aqfpfx'Sbbq3tooMbb?<span style=\"color: #008000; text-decoration-color: #008000\">',AA-AW'</span>MqAAk;ccAGqQqaA;WQhMSq;cffho,eWohpWott3jj---s;?ggIIS\n",
              "</pre>"
            ]
          }
        },
        {
          "output_type": "display_data",
          "metadata": {},
          "data": {
            "text/html": [
              "<pre style=\"white-space:pre;overflow-x:auto;line-height:normal;font-family:Menlo,'DejaVu Sans Mono',consolas,'Courier New',monospace\">[<span style=\"color: #7f7f7f; text-decoration-color: #7f7f7f\">2025-07-22 22:26:03,281655</span>][<span style=\"color: #008000; text-decoration-color: #008000\">I</span>][<span style=\"color: #008080; text-decoration-color: #008080; font-style: italic\">wordplay</span>/<span style=\"color: #000080; text-decoration-color: #000080\">trainer</span><span style=\"color: #0000ff; text-decoration-color: #0000ff\">:</span><span style=\"color: #800080; text-decoration-color: #800080\">769</span>]<span style=\"color: #c0c0c0; text-decoration-color: #c0c0c0\"> </span>Saving checkpoint to: <span style=\"color: #800080; text-decoration-color: #800080\">/Users/samforeman/projects/saforem2/intro-hpc-bootcamp-2025/content/02-llms/</span><span style=\"color: #ff00ff; text-decoration-color: #ff00ff\">7-shakespeare-example</span>\n",
              "</pre>"
            ]
          }
        },
        {
          "output_type": "display_data",
          "metadata": {},
          "data": {
            "text/html": [
              "<pre style=\"white-space:pre;overflow-x:auto;line-height:normal;font-family:Menlo,'DejaVu Sans Mono',consolas,'Courier New',monospace\">[<span style=\"color: #7f7f7f; text-decoration-color: #7f7f7f\">2025-07-22 22:26:03,286324</span>][<span style=\"color: #008000; text-decoration-color: #008000\">I</span>][<span style=\"color: #008080; text-decoration-color: #008080; font-style: italic\">wordplay</span>/<span style=\"color: #000080; text-decoration-color: #000080\">trainer</span><span style=\"color: #0000ff; text-decoration-color: #0000ff\">:</span><span style=\"color: #800080; text-decoration-color: #800080\">770</span>]<span style=\"color: #c0c0c0; text-decoration-color: #c0c0c0\"> </span>Saving model to: <span style=\"color: #800080; text-decoration-color: #800080\">/Users/samforeman/projects/saforem2/intro-hpc-bootcamp-2025/content/02-llms/7-shakespeare-example/</span><span style=\"color: #ff00ff; text-decoration-color: #ff00ff\">model.pth</span>\n",
              "</pre>"
            ]
          }
        },
        {
          "output_type": "display_data",
          "metadata": {},
          "data": {
            "text/html": [
              "<pre style=\"white-space:pre;overflow-x:auto;line-height:normal;font-family:Menlo,'DejaVu Sans Mono',consolas,'Courier New',monospace\">[<span style=\"color: #7f7f7f; text-decoration-color: #7f7f7f\">2025-07-22 22:26:03,401611</span>][<span style=\"color: #008000; text-decoration-color: #008000\">I</span>][<span style=\"color: #008080; text-decoration-color: #008080; font-style: italic\">wordplay</span>/<span style=\"color: #000080; text-decoration-color: #000080\">configs</span><span style=\"color: #0000ff; text-decoration-color: #0000ff\">:</span><span style=\"color: #800080; text-decoration-color: #800080\">141</span>]<span style=\"color: #c0c0c0; text-decoration-color: #c0c0c0\"> </span>Appending <span style=\"color: #800080; text-decoration-color: #800080\">/Users/samforeman/projects/saforem2/intro-hpc-bootcamp-2025/content/02-llms/</span><span style=\"color: #ff00ff; text-decoration-color: #ff00ff\">7-shakespeare-example</span> to <span style=\"color: #800080; text-decoration-color: #800080\">/Users/samforeman/projects/saforem2/wordplay/src/ckpts/</span><span style=\"color: #ff00ff; text-decoration-color: #ff00ff\">checkpoints.log</span>\n",
              "</pre>"
            ]
          }
        },
        {
          "output_type": "display_data",
          "metadata": {},
          "data": {
            "text/html": [
              "<pre style=\"white-space:pre;overflow-x:auto;line-height:normal;font-family:Menlo,'DejaVu Sans Mono',consolas,'Courier New',monospace\">[<span style=\"color: #7f7f7f; text-decoration-color: #7f7f7f\">2025-07-22 22:26:03,626057</span>][<span style=\"color: #008000; text-decoration-color: #008000\">I</span>][<span style=\"color: #008080; text-decoration-color: #008080; font-style: italic\">wordplay</span>/<span style=\"color: #000080; text-decoration-color: #000080\">trainer</span><span style=\"color: #0000ff; text-decoration-color: #0000ff\">:</span><span style=\"color: #800080; text-decoration-color: #800080\">901</span>]<span style=\"color: #c0c0c0; text-decoration-color: #c0c0c0\"> </span><span style=\"color: #0000ff; text-decoration-color: #0000ff\">step</span>=<span style=\"color: #008080; text-decoration-color: #008080; font-weight: bold\">960</span> <span style=\"color: #0000ff; text-decoration-color: #0000ff\">loss</span>=<span style=\"color: #008080; text-decoration-color: #008080; font-weight: bold\">4.225</span> <span style=\"color: #0000ff; text-decoration-color: #0000ff\">dt</span>=<span style=\"color: #008080; text-decoration-color: #008080; font-weight: bold\">0.019989</span> <span style=\"color: #0000ff; text-decoration-color: #0000ff\">dtf</span>=<span style=\"color: #008080; text-decoration-color: #008080; font-weight: bold\">0.0196397</span> <span style=\"color: #0000ff; text-decoration-color: #0000ff\">dtb</span>=<span style=\"color: #008080; text-decoration-color: #008080; font-weight: bold\">0.0001325</span> <span style=\"color: #0000ff; text-decoration-color: #0000ff\">sps</span>=<span style=\"color: #008080; text-decoration-color: #008080; font-weight: bold\">50.0276</span> <span style=\"color: #0000ff; text-decoration-color: #0000ff\">sps_per_gpu</span>=<span style=\"color: #008080; text-decoration-color: #008080; font-weight: bold\">50.0276</span> <span style=\"color: #0000ff; text-decoration-color: #0000ff\">tps</span>=<span style=\"color: #008080; text-decoration-color: #008080; font-weight: bold\">6403.54</span> <span style=\"color: #0000ff; text-decoration-color: #0000ff\">tps_per_gpu</span>=<span style=\"color: #008080; text-decoration-color: #008080; font-weight: bold\">6403.54</span> <span style=\"color: #0000ff; text-decoration-color: #0000ff\">mfu</span>=<span style=\"color: #008080; text-decoration-color: #008080; font-weight: bold\">0.133264</span>\n",
              "</pre>"
            ]
          }
        },
        {
          "output_type": "display_data",
          "metadata": {},
          "data": {
            "text/html": [
              "<pre style=\"white-space:pre;overflow-x:auto;line-height:normal;font-family:Menlo,'DejaVu Sans Mono',consolas,'Courier New',monospace\">[<span style=\"color: #7f7f7f; text-decoration-color: #7f7f7f\">2025-07-22 22:26:03,832092</span>][<span style=\"color: #008000; text-decoration-color: #008000\">I</span>][<span style=\"color: #008080; text-decoration-color: #008080; font-style: italic\">wordplay</span>/<span style=\"color: #000080; text-decoration-color: #000080\">trainer</span><span style=\"color: #0000ff; text-decoration-color: #0000ff\">:</span><span style=\"color: #800080; text-decoration-color: #800080\">901</span>]<span style=\"color: #c0c0c0; text-decoration-color: #c0c0c0\"> </span><span style=\"color: #0000ff; text-decoration-color: #0000ff\">step</span>=<span style=\"color: #008080; text-decoration-color: #008080; font-weight: bold\">970</span> <span style=\"color: #0000ff; text-decoration-color: #0000ff\">loss</span>=<span style=\"color: #008080; text-decoration-color: #008080; font-weight: bold\">4.17741</span> <span style=\"color: #0000ff; text-decoration-color: #0000ff\">dt</span>=<span style=\"color: #008080; text-decoration-color: #008080; font-weight: bold\">0.0182224</span> <span style=\"color: #0000ff; text-decoration-color: #0000ff\">dtf</span>=<span style=\"color: #008080; text-decoration-color: #008080; font-weight: bold\">0.0179159</span> <span style=\"color: #0000ff; text-decoration-color: #0000ff\">dtb</span>=<span style=\"color: #008080; text-decoration-color: #008080; font-weight: bold\">0.000119958</span> <span style=\"color: #0000ff; text-decoration-color: #0000ff\">sps</span>=<span style=\"color: #008080; text-decoration-color: #008080; font-weight: bold\">54.8776</span> <span style=\"color: #0000ff; text-decoration-color: #0000ff\">sps_per_gpu</span>=<span style=\"color: #008080; text-decoration-color: #008080; font-weight: bold\">54.8776</span> <span style=\"color: #0000ff; text-decoration-color: #0000ff\">tps</span>=<span style=\"color: #008080; text-decoration-color: #008080; font-weight: bold\">7024.33</span> <span style=\"color: #0000ff; text-decoration-color: #0000ff\">tps_per_gpu</span>=<span style=\"color: #008080; text-decoration-color: #008080; font-weight: bold\">7024.33</span> <span style=\"color: #0000ff; text-decoration-color: #0000ff\">mfu</span>=<span style=\"color: #008080; text-decoration-color: #008080; font-weight: bold\">0.135116</span>\n",
              "</pre>"
            ]
          }
        },
        {
          "output_type": "display_data",
          "metadata": {},
          "data": {
            "text/html": [
              "<pre style=\"white-space:pre;overflow-x:auto;line-height:normal;font-family:Menlo,'DejaVu Sans Mono',consolas,'Courier New',monospace\">[<span style=\"color: #7f7f7f; text-decoration-color: #7f7f7f\">2025-07-22 22:26:04,030898</span>][<span style=\"color: #008000; text-decoration-color: #008000\">I</span>][<span style=\"color: #008080; text-decoration-color: #008080; font-style: italic\">wordplay</span>/<span style=\"color: #000080; text-decoration-color: #000080\">trainer</span><span style=\"color: #0000ff; text-decoration-color: #0000ff\">:</span><span style=\"color: #800080; text-decoration-color: #800080\">901</span>]<span style=\"color: #c0c0c0; text-decoration-color: #c0c0c0\"> </span><span style=\"color: #0000ff; text-decoration-color: #0000ff\">step</span>=<span style=\"color: #008080; text-decoration-color: #008080; font-weight: bold\">980</span> <span style=\"color: #0000ff; text-decoration-color: #0000ff\">loss</span>=<span style=\"color: #008080; text-decoration-color: #008080; font-weight: bold\">4.1707</span> <span style=\"color: #0000ff; text-decoration-color: #0000ff\">dt</span>=<span style=\"color: #008080; text-decoration-color: #008080; font-weight: bold\">0.0182135</span> <span style=\"color: #0000ff; text-decoration-color: #0000ff\">dtf</span>=<span style=\"color: #008080; text-decoration-color: #008080; font-weight: bold\">0.0179185</span> <span style=\"color: #0000ff; text-decoration-color: #0000ff\">dtb</span>=<span style=\"color: #008080; text-decoration-color: #008080; font-weight: bold\">0.000116791</span> <span style=\"color: #0000ff; text-decoration-color: #0000ff\">sps</span>=<span style=\"color: #008080; text-decoration-color: #008080; font-weight: bold\">54.9042</span> <span style=\"color: #0000ff; text-decoration-color: #0000ff\">sps_per_gpu</span>=<span style=\"color: #008080; text-decoration-color: #008080; font-weight: bold\">54.9042</span> <span style=\"color: #0000ff; text-decoration-color: #0000ff\">tps</span>=<span style=\"color: #008080; text-decoration-color: #008080; font-weight: bold\">7027.74</span> <span style=\"color: #0000ff; text-decoration-color: #0000ff\">tps_per_gpu</span>=<span style=\"color: #008080; text-decoration-color: #008080; font-weight: bold\">7027.74</span> <span style=\"color: #0000ff; text-decoration-color: #0000ff\">mfu</span>=<span style=\"color: #008080; text-decoration-color: #008080; font-weight: bold\">0.136791</span>\n",
              "</pre>"
            ]
          }
        },
        {
          "output_type": "display_data",
          "metadata": {},
          "data": {
            "text/html": [
              "<pre style=\"white-space:pre;overflow-x:auto;line-height:normal;font-family:Menlo,'DejaVu Sans Mono',consolas,'Courier New',monospace\">[<span style=\"color: #7f7f7f; text-decoration-color: #7f7f7f\">2025-07-22 22:26:04,235641</span>][<span style=\"color: #008000; text-decoration-color: #008000\">I</span>][<span style=\"color: #008080; text-decoration-color: #008080; font-style: italic\">wordplay</span>/<span style=\"color: #000080; text-decoration-color: #000080\">trainer</span><span style=\"color: #0000ff; text-decoration-color: #0000ff\">:</span><span style=\"color: #800080; text-decoration-color: #800080\">901</span>]<span style=\"color: #c0c0c0; text-decoration-color: #c0c0c0\"> </span><span style=\"color: #0000ff; text-decoration-color: #0000ff\">step</span>=<span style=\"color: #008080; text-decoration-color: #008080; font-weight: bold\">990</span> <span style=\"color: #0000ff; text-decoration-color: #0000ff\">loss</span>=<span style=\"color: #008080; text-decoration-color: #008080; font-weight: bold\">4.1891</span> <span style=\"color: #0000ff; text-decoration-color: #0000ff\">dt</span>=<span style=\"color: #008080; text-decoration-color: #008080; font-weight: bold\">0.0191646</span> <span style=\"color: #0000ff; text-decoration-color: #0000ff\">dtf</span>=<span style=\"color: #008080; text-decoration-color: #008080; font-weight: bold\">0.0187604</span> <span style=\"color: #0000ff; text-decoration-color: #0000ff\">dtb</span>=<span style=\"color: #008080; text-decoration-color: #008080; font-weight: bold\">0.000157208</span> <span style=\"color: #0000ff; text-decoration-color: #0000ff\">sps</span>=<span style=\"color: #008080; text-decoration-color: #008080; font-weight: bold\">52.1795</span> <span style=\"color: #0000ff; text-decoration-color: #0000ff\">sps_per_gpu</span>=<span style=\"color: #008080; text-decoration-color: #008080; font-weight: bold\">52.1795</span> <span style=\"color: #0000ff; text-decoration-color: #0000ff\">tps</span>=<span style=\"color: #008080; text-decoration-color: #008080; font-weight: bold\">6678.97</span> <span style=\"color: #0000ff; text-decoration-color: #0000ff\">tps_per_gpu</span>=<span style=\"color: #008080; text-decoration-color: #008080; font-weight: bold\">6678.97</span> <span style=\"color: #0000ff; text-decoration-color: #0000ff\">mfu</span>=<span style=\"color: #008080; text-decoration-color: #008080; font-weight: bold\">0.137544</span>\n",
              "</pre>"
            ]
          }
        },
        {
          "output_type": "display_data",
          "metadata": {},
          "data": {
            "text/html": [
              "<pre style=\"white-space:pre;overflow-x:auto;line-height:normal;font-family:Menlo,'DejaVu Sans Mono',consolas,'Courier New',monospace\">[<span style=\"color: #7f7f7f; text-decoration-color: #7f7f7f\">2025-07-22 22:26:04,441023</span>][<span style=\"color: #008000; text-decoration-color: #008000\">I</span>][<span style=\"color: #008080; text-decoration-color: #008080; font-style: italic\">wordplay</span>/<span style=\"color: #000080; text-decoration-color: #000080\">trainer</span><span style=\"color: #0000ff; text-decoration-color: #0000ff\">:</span><span style=\"color: #800080; text-decoration-color: #800080\">901</span>]<span style=\"color: #c0c0c0; text-decoration-color: #c0c0c0\"> </span><span style=\"color: #0000ff; text-decoration-color: #0000ff\">step</span>=<span style=\"color: #008080; text-decoration-color: #008080; font-weight: bold\">1000</span> <span style=\"color: #0000ff; text-decoration-color: #0000ff\">loss</span>=<span style=\"color: #008080; text-decoration-color: #008080; font-weight: bold\">4.2423</span> <span style=\"color: #0000ff; text-decoration-color: #0000ff\">dt</span>=<span style=\"color: #008080; text-decoration-color: #008080; font-weight: bold\">0.02126</span> <span style=\"color: #0000ff; text-decoration-color: #0000ff\">dtf</span>=<span style=\"color: #008080; text-decoration-color: #008080; font-weight: bold\">0.0196627</span> <span style=\"color: #0000ff; text-decoration-color: #0000ff\">dtb</span>=<span style=\"color: #008080; text-decoration-color: #008080; font-weight: bold\">0.000133416</span> <span style=\"color: #0000ff; text-decoration-color: #0000ff\">sps</span>=<span style=\"color: #008080; text-decoration-color: #008080; font-weight: bold\">47.0366</span> <span style=\"color: #0000ff; text-decoration-color: #0000ff\">sps_per_gpu</span>=<span style=\"color: #008080; text-decoration-color: #008080; font-weight: bold\">47.0366</span> <span style=\"color: #0000ff; text-decoration-color: #0000ff\">tps</span>=<span style=\"color: #008080; text-decoration-color: #008080; font-weight: bold\">6020.68</span> <span style=\"color: #0000ff; text-decoration-color: #0000ff\">tps_per_gpu</span>=<span style=\"color: #008080; text-decoration-color: #008080; font-weight: bold\">6020.68</span> <span style=\"color: #0000ff; text-decoration-color: #0000ff\">mfu</span>=<span style=\"color: #008080; text-decoration-color: #008080; font-weight: bold\">0.1368</span>\n",
              "</pre>"
            ]
          }
        }
      ],
      "source": [
        "trainer.train()"
      ],
      "id": "4ab77c2f"
    },
    {
      "cell_type": "markdown",
      "metadata": {},
      "source": [
        "## Evaluate Model"
      ],
      "id": "0c768658-6759-4b3d-a04b-f64a9e641868"
    },
    {
      "cell_type": "code",
      "execution_count": 11,
      "metadata": {
        "quarto-private-1": {
          "key": "jupyter",
          "value": {
            "outputs_hidden": false,
            "source_hidden": false
          }
        }
      },
      "outputs": [
        {
          "output_type": "display_data",
          "metadata": {},
          "data": {
            "text/html": [
              "<pre style=\"white-space:pre;overflow-x:auto;line-height:normal;font-family:Menlo,'DejaVu Sans Mono',consolas,'Courier New',monospace\">[<span style=\"color: #7f7f7f; text-decoration-color: #7f7f7f\">2025-07-22 22:26:07,057847</span>][<span style=\"color: #008000; text-decoration-color: #008000\">I</span>][<span style=\"color: #008080; text-decoration-color: #008080; font-style: italic\">ipykernel_52985</span>/<span style=\"color: #000080; text-decoration-color: #000080\">582817405</span><span style=\"color: #0000ff; text-decoration-color: #0000ff\">:</span><span style=\"color: #800080; text-decoration-color: #800080\">12</span><span style=\"color: #0000ff; text-decoration-color: #0000ff\">:</span><span style=\"color: #00ff00; text-decoration-color: #00ff00; font-style: italic\">ezpz.log</span>]<span style=\"color: #c0c0c0; text-decoration-color: #c0c0c0\"> </span>took: <span style=\"color: #008080; text-decoration-color: #008080; font-weight: bold\">2.</span>0044s\n",
              "</pre>"
            ]
          }
        },
        {
          "output_type": "display_data",
          "metadata": {},
          "data": {
            "text/html": [
              "<pre style=\"white-space:pre;overflow-x:auto;line-height:normal;font-family:Menlo,'DejaVu Sans Mono',consolas,'Courier New',monospace\">[<span style=\"color: #7f7f7f; text-decoration-color: #7f7f7f\">2025-07-22 22:26:07,061726</span>][<span style=\"color: #008000; text-decoration-color: #008000\">I</span>][<span style=\"color: #008080; text-decoration-color: #008080; font-style: italic\">ipykernel_52985</span>/<span style=\"color: #000080; text-decoration-color: #000080\">582817405</span><span style=\"color: #0000ff; text-decoration-color: #0000ff\">:</span><span style=\"color: #800080; text-decoration-color: #800080\">13</span><span style=\"color: #0000ff; text-decoration-color: #0000ff\">:</span><span style=\"color: #00ff00; text-decoration-color: #00ff00; font-style: italic\">ezpz.log</span>]<span style=\"color: #c0c0c0; text-decoration-color: #c0c0c0\"> </span><span style=\"color: #ff00ff; text-decoration-color: #ff00ff\">[</span><span style=\"color: #008000; text-decoration-color: #008000\">'prompt'</span><span style=\"color: #ff00ff; text-decoration-color: #ff00ff\">]</span>: <span style=\"color: #008000; text-decoration-color: #008000\">'What is an LLM?'</span>\n",
              "</pre>"
            ]
          }
        },
        {
          "output_type": "display_data",
          "metadata": {},
          "data": {
            "text/html": [
              "<pre style=\"white-space:pre;overflow-x:auto;line-height:normal;font-family:Menlo,'DejaVu Sans Mono',consolas,'Courier New',monospace\">[<span style=\"color: #7f7f7f; text-decoration-color: #7f7f7f\">2025-07-22 22:26:07,062941</span>][<span style=\"color: #008000; text-decoration-color: #008000\">I</span>][<span style=\"color: #008080; text-decoration-color: #008080; font-style: italic\">ipykernel_52985</span>/<span style=\"color: #000080; text-decoration-color: #000080\">582817405</span><span style=\"color: #0000ff; text-decoration-color: #0000ff\">:</span><span style=\"color: #800080; text-decoration-color: #800080\">14</span><span style=\"color: #0000ff; text-decoration-color: #0000ff\">:</span><span style=\"color: #00ff00; text-decoration-color: #00ff00; font-style: italic\">ezpz.log</span>]<span style=\"color: #c0c0c0; text-decoration-color: #c0c0c0\"> </span><span style=\"color: #ff00ff; text-decoration-color: #ff00ff\">[</span><span style=\"color: #008000; text-decoration-color: #008000\">'response'</span><span style=\"color: #ff00ff; text-decoration-color: #ff00ff\">]</span>:\n",
              "\n",
              "What is an LLM?ZxxA---<span style=\"color: #008000; text-decoration-color: #008000\">'aaaaeeewAAAAA'''</span>qqqqqqqqqqqqaeeqqqqqq'<span style=\"color: #008000; text-decoration-color: #008000\">'333qqAAA33akkk''qqqqqorrrrrrrrrrqqqqqqq.qe333aaaqqqqqf..qqqqqqq3333333-qqqqbbb''ggSSpMMMqqqqMMqqqqqqqqWW;?;?;?;???;;??MMMM;;;;;;??;;;;;;;;''''';??qqqqqqqW;;'''''''''''''</span>;;;;;;;;;;;;;;;;;;;;;;;;;;;;;;;;'tttttMM\n",
              "</pre>"
            ]
          }
        }
      ],
      "source": [
        "import time\n",
        "\n",
        "query = \"What is an LLM?\"\n",
        "t0 = time.perf_counter()\n",
        "outputs = trainer.evaluate(\n",
        "    query,\n",
        "    num_samples=1,\n",
        "    max_new_tokens=256,\n",
        "    top_k=2,\n",
        "    display=False\n",
        ")\n",
        "logger.info(f'took: {time.perf_counter() - t0:.4f}s')\n",
        "logger.info(f\"['prompt']: '{query}'\")\n",
        "logger.info(\"['response']:\\n\\n\" + fr\"{outputs['0']['raw']}\")"
      ],
      "id": "e99b8940"
    }
  ],
  "nbformat": 4,
  "nbformat_minor": 5,
  "metadata": {
    "kernelspec": {
      "name": "python3",
      "display_name": "Python 3 (ipykernel)",
      "language": "python",
      "path": "/Users/samforeman/projects/saforem2/intro-hpc-bootcamp-2025/.venv/share/jupyter/kernels/python3"
    },
    "language_info": {
      "name": "python",
      "codemirror_mode": {
        "name": "ipython",
        "version": "3"
      },
      "file_extension": ".py",
      "mimetype": "text/x-python",
      "nbconvert_exporter": "python",
      "pygments_lexer": "ipython3",
      "version": "3.13.1"
    }
  }
}