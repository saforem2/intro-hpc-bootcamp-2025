{
  "cells": [
    {
      "cell_type": "markdown",
      "metadata": {},
      "source": [
        "# Introduction to Neural Networks\n",
        "\n",
        "[Sam Foreman](https://samforeman.me)\n",
        "(\\[[ALCF](https://alcf.anl.gov/about/people/sam-foreman)\\](<https://alcf.anl.gov/about/people/sam-foreman>))  \n",
        "2025-07-15\n",
        "\n",
        "-   [01-neural-networks/](../01-neural-networks/index.qmd)\n",
        "    -   [0-intro](../01-neural-networks/0-intro/index.qmd)\n",
        "    -   [1-mnist](../01-neural-networks/1-mnist/index.qmd)\n",
        "    -   [2-advanced](../01-neural-networks/2-advanced/index.qmd)\n",
        "    -   [3-conv-nets](../01-neural-networks/3-conv-nets/index.qmd)\n",
        "    -   [4-representation-learning](./4-representation-learning/index.qmd)"
      ],
      "id": "3e43c98b-d497-4c48-912d-e684352e84c9"
    }
  ],
  "nbformat": 4,
  "nbformat_minor": 5,
  "metadata": {
    "kernelspec": {
      "display_name": "Python 3",
      "language": "python",
      "name": "python3"
    }
  }
}