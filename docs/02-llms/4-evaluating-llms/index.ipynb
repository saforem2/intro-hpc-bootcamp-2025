{
  "cells": [
    {
      "cell_type": "markdown",
      "metadata": {},
      "source": [
        "# Intro to HPC Bootcamp 2025\n",
        "\n",
        "[Sam Foreman](https://samforeman.me)\n",
        "(\\[[ALCF](https://alcf.anl.gov/about/people/sam-foreman)\\](<https://alcf.anl.gov/about/people/sam-foreman>))  \n",
        "2025-07-22\n",
        "\n",
        "# Evaluating LLMs and Potential Pitfalls\n",
        "\n",
        "Intro to AI-Driven Science on Supercomputers @ ALCF 2024\n",
        "\n",
        "**Contact:** Marieme Ngom ([mngom@anl.gov](mailto:///mngom@anl.gov)),\n",
        "Bethany Lusch ([blusch@anl.gov](mailto:///blusch@anl.gov)), Sandeep\n",
        "Madireddy ([smadireddy@anl.gov](mailto:///smadireddy@anl.gov))\n",
        "\n",
        "[Overview of LLMs\n",
        "Evaluation](https://github.com/argonne-lcf/ai-science-training-series/blob/main/08_Evaluating_LLMs/LLM_Evaluation_Overview.pdf)\n",
        "\n",
        "[Potential Pitfalls of\n",
        "LLMs](https://github.com/argonne-lcf/ai-science-training-series/blob/main/08_Evaluating_LLMs/LLM-Pitfalls.pdf)\n",
        "\n",
        "[Link to breakout rooms\n",
        "forms](https://drive.google.com/drive/folders/1BN_aBlNU-7KVIcySntRtbkBXRGpkMSyz)\n",
        "\n",
        "Other helpful links: - [OpenAI\n",
        "tokenizer](https://platform.openai.com/tokenizer) - [Chatbot\n",
        "Arena](https://chat.lmsys.org/) - [Chatbot Guardrails\n",
        "Arena](https://huggingface.co/spaces/lighthouzai/guardrails-arena)\n",
        "\n",
        "**Homework**\n",
        "\n",
        "What do you think is a particularly good use case for LLMs for science?\n",
        "How would you evaluate it? Your answer does not need to be in\n",
        "paragraphs. When you submit your homework form, you can link to a file\n",
        "in your Github repo where you wrote your answer."
      ],
      "id": "351cb4a1-9ef7-4fbf-8f81-805fbbd275fd"
    }
  ],
  "nbformat": 4,
  "nbformat_minor": 5,
  "metadata": {
    "kernelspec": {
      "display_name": "Python 3",
      "language": "python",
      "name": "python3"
    }
  }
}