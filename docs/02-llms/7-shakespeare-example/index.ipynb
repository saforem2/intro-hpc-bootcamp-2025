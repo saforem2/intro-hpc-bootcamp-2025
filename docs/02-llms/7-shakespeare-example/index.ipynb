{
  "cells": [
    {
      "cell_type": "markdown",
      "metadata": {},
      "source": [
        "# [`wordplay` 🎮 💬](https://github.com/saforem2/wordplay): Shakespeare\n",
        "\n",
        "✍️\n",
        "\n",
        "[Sam Foreman](https://samforeman.me)\n",
        "(\\[[ALCF](https://alcf.anl.gov/about/people/sam-foreman)\\](<https://alcf.anl.gov/about/people/sam-foreman>))  \n",
        "2025-07-22\n",
        "\n",
        "We will be using the [Shakespeare\n",
        "dataset](https://github.com/saforem2/wordplay/blob/main/data/shakespeare/readme.md)\n",
        "to train a (~ small) 10M param LLM *from scratch*.\n",
        "\n",
        "<img src=\"https://github.com/saforem2/wordplay/blob/main/assets/shakespeare.jpeg?raw=true\" width=\"45%\" align=\"center\" /><br>\n",
        "\n",
        "Image generated from\n",
        "[stabilityai/stable-diffusion](https://huggingface.co/spaces/stabilityai/stable-diffusion)\n",
        "on [🤗 Spaces](https://huggingface.co/spaces).<br>\n",
        "\n",
        "<details closed>\n",
        "\n",
        "<summary>\n",
        "\n",
        "Prompt Details\n",
        "\n",
        "</summary>\n",
        "\n",
        "<ul>\n",
        "\n",
        "<li>\n",
        "\n",
        "Prompt:\n",
        "\n",
        "</li>\n",
        "\n",
        "<t><q> Shakespeare himself, dressed in full Shakespearean garb, writing\n",
        "code at a modern workstation with multiple monitors, hacking away\n",
        "profusely, backlit, high quality for publication </q></t>\n",
        "\n",
        "<li>\n",
        "\n",
        "Negative Prompt:\n",
        "\n",
        "</li>\n",
        "\n",
        "<t><q> low quality, 3d, photorealistic, ugly </q></t>\n",
        "\n",
        "</ul>\n",
        "\n",
        "</details>\n",
        "\n",
        "## Install / Setup\n",
        "\n",
        "<b>Warning!</b><br>\n",
        "\n",
        "**IF YOU ARE EXECUTING ON GOOGLE COLAB**:\n",
        "\n",
        "You will need to restart your runtime (`Runtime` $\\rightarrow\\,$\n",
        "`Restart runtime`)  \n",
        "*after* executing the following cell:"
      ],
      "id": "d0c22ceb-1b15-4510-bd8e-40b1e45e0f21"
    },
    {
      "cell_type": "code",
      "execution_count": 2,
      "metadata": {
        "quarto-private-1": {
          "key": "jupyter",
          "value": {
            "outputs_hidden": false,
            "source_hidden": false
          }
        }
      },
      "outputs": [
        {
          "output_type": "stream",
          "name": "stdout",
          "text": [
            "/Users/samforeman/projects/saforem2/wordplay/src/wordplay/__init__.py\n",
            "Has wordplay installed. Nothing to do."
          ]
        }
      ],
      "source": [
        "%%bash\n",
        "\n",
        "python3 -c 'import wordplay; print(wordplay.__file__)' 2> '/dev/null'\n",
        "\n",
        "if [[ $? -eq 0 ]]; then\n",
        "    echo \"Has wordplay installed. Nothing to do.\"\n",
        "else\n",
        "    echo \"Does not have wordplay installed. Installing...\"\n",
        "    git clone 'https://github.com/saforem2/wordplay'\n",
        "    python3 wordplay/data/shakespeare_char/prepare.py\n",
        "    python3 wordplay/data/shakespeare/prepare.py\n",
        "    python3 -m pip install deepspeed\n",
        "    python3 -m pip install -e wordplay\n",
        "fi"
      ],
      "id": "33ae8363"
    },
    {
      "cell_type": "markdown",
      "metadata": {},
      "source": [
        "## Post Install\n",
        "\n",
        "If installed correctly, you should be able to:\n",
        "\n",
        "``` python\n",
        ">>> import wordplay\n",
        ">>> wordplay.__file__\n",
        "'/path/to/wordplay/src/wordplay/__init__.py'\n",
        "```"
      ],
      "id": "a596a2a2-bbb3-4de9-bd4a-d7a85cb49b3e"
    },
    {
      "cell_type": "code",
      "execution_count": 3,
      "metadata": {
        "quarto-private-1": {
          "key": "jupyter",
          "value": {
            "outputs_hidden": false,
            "source_hidden": false
          }
        }
      },
      "outputs": [
        {
          "output_type": "display_data",
          "metadata": {},
          "data": {
            "text/html": [
              "<pre style=\"white-space:pre;overflow-x:auto;line-height:normal;font-family:Menlo,'DejaVu Sans Mono',consolas,'Courier New',monospace\">[<span style=\"color: #7f7f7f; text-decoration-color: #7f7f7f\">2025-07-23 08:57:08,682995</span>][<span style=\"color: #008000; text-decoration-color: #008000\">I</span>][<span style=\"color: #008080; text-decoration-color: #008080; font-style: italic\">ezpz</span>/<span style=\"color: #000080; text-decoration-color: #000080\">__init__</span><span style=\"color: #0000ff; text-decoration-color: #0000ff\">:</span><span style=\"color: #800080; text-decoration-color: #800080\">265</span><span style=\"color: #0000ff; text-decoration-color: #0000ff\">:</span><span style=\"color: #00ff00; text-decoration-color: #00ff00; font-style: italic\">ezpz</span>]<span style=\"color: #c0c0c0; text-decoration-color: #c0c0c0\"> </span>Setting logging level to <span style=\"color: #008000; text-decoration-color: #008000\">'INFO'</span> on <span style=\"color: #008000; text-decoration-color: #008000\">'RANK == 0'</span>\n",
              "</pre>"
            ]
          }
        },
        {
          "output_type": "display_data",
          "metadata": {},
          "data": {
            "text/html": [
              "<pre style=\"white-space:pre;overflow-x:auto;line-height:normal;font-family:Menlo,'DejaVu Sans Mono',consolas,'Courier New',monospace\">[<span style=\"color: #7f7f7f; text-decoration-color: #7f7f7f\">2025-07-23 08:57:08,685371</span>][<span style=\"color: #008000; text-decoration-color: #008000\">I</span>][<span style=\"color: #008080; text-decoration-color: #008080; font-style: italic\">ezpz</span>/<span style=\"color: #000080; text-decoration-color: #000080\">__init__</span><span style=\"color: #0000ff; text-decoration-color: #0000ff\">:</span><span style=\"color: #800080; text-decoration-color: #800080\">266</span><span style=\"color: #0000ff; text-decoration-color: #0000ff\">:</span><span style=\"color: #00ff00; text-decoration-color: #00ff00; font-style: italic\">ezpz</span>]<span style=\"color: #c0c0c0; text-decoration-color: #c0c0c0\"> </span>Setting logging level to <span style=\"color: #008000; text-decoration-color: #008000\">'CRITICAL'</span> on all others <span style=\"color: #008000; text-decoration-color: #008000\">'RANK != 0'</span>\n",
              "</pre>"
            ]
          }
        },
        {
          "output_type": "display_data",
          "metadata": {},
          "data": {
            "text/html": [
              "<pre style=\"white-space:pre;overflow-x:auto;line-height:normal;font-family:Menlo,'DejaVu Sans Mono',consolas,'Courier New',monospace\">[<span style=\"color: #7f7f7f; text-decoration-color: #7f7f7f\">2025-07-23 08:57:08,688375</span>][<span style=\"color: #008000; text-decoration-color: #008000\">I</span>][<span style=\"color: #008080; text-decoration-color: #008080; font-style: italic\">ipykernel_34035</span>/<span style=\"color: #000080; text-decoration-color: #000080\">2338663768</span><span style=\"color: #0000ff; text-decoration-color: #0000ff\">:</span><span style=\"color: #800080; text-decoration-color: #800080\">17</span><span style=\"color: #0000ff; text-decoration-color: #0000ff\">:</span><span style=\"color: #00ff00; text-decoration-color: #00ff00; font-style: italic\">ezpz.log</span>]<span style=\"color: #c0c0c0; text-decoration-color: #c0c0c0\"> </span><span style=\"color: #800080; text-decoration-color: #800080\">/Users/samforeman/projects/saforem2/wordplay/src/wordplay/</span><span style=\"color: #ff00ff; text-decoration-color: #ff00ff\">__init__.py</span>\n",
              "</pre>"
            ]
          }
        }
      ],
      "source": [
        "%load_ext autoreload\n",
        "%autoreload 2\n",
        "import os\n",
        "import sys\n",
        "import ezpz\n",
        "\n",
        "os.environ['COLORTERM'] = 'truecolor'\n",
        "if sys.platform == 'darwin':\n",
        "    # If running on MacOS:\n",
        "    # os.environ['PYTORCH_ENABLE_MPS_FALLBACK'] = '1'\n",
        "    os.environ['TORCH_DEVICE'] = 'cpu'\n",
        "# -----------------------------------------------\n",
        "\n",
        "logger = ezpz.get_logger()\n",
        "\n",
        "import wordplay\n",
        "logger.info(wordplay.__file__)"
      ],
      "id": "f739bcef"
    },
    {
      "cell_type": "markdown",
      "metadata": {},
      "source": [
        "## Build Trainer\n",
        "\n",
        "Explicitly, we:\n",
        "\n",
        "1.  `setup_torch(...)`\n",
        "2.  Build `cfg: DictConfig = get_config(...)`\n",
        "3.  Instnatiate `config: ExperimentConfig = instantiate(cfg)`\n",
        "4.  Build `trainer = Trainer(config)`"
      ],
      "id": "6b25f213-f16d-4062-b672-87008198bd3c"
    },
    {
      "cell_type": "code",
      "execution_count": 4,
      "metadata": {
        "quarto-private-1": {
          "key": "jupyter",
          "value": {
            "outputs_hidden": false,
            "source_hidden": false
          }
        }
      },
      "outputs": [
        {
          "output_type": "display_data",
          "metadata": {},
          "data": {
            "text/html": [
              "<pre style=\"white-space:pre;overflow-x:auto;line-height:normal;font-family:Menlo,'DejaVu Sans Mono',consolas,'Courier New',monospace\">[<span style=\"color: #7f7f7f; text-decoration-color: #7f7f7f\">2025-07-23 08:57:08,791647</span>][<span style=\"color: #008000; text-decoration-color: #008000\">I</span>][<span style=\"color: #008080; text-decoration-color: #008080; font-style: italic\">wordplay</span>/<span style=\"color: #000080; text-decoration-color: #000080\">configs</span><span style=\"color: #0000ff; text-decoration-color: #0000ff\">:</span><span style=\"color: #800080; text-decoration-color: #800080\">81</span>]<span style=\"color: #c0c0c0; text-decoration-color: #c0c0c0\"> </span>Setting HF_DATASETS_CACHE to <span style=\"color: #800080; text-decoration-color: #800080\">/Users/samforeman/projects/saforem2/wordplay/.cache/huggingface/</span><span style=\"color: #ff00ff; text-decoration-color: #ff00ff\">datasets</span>\n",
              "</pre>"
            ]
          }
        },
        {
          "output_type": "display_data",
          "metadata": {},
          "data": {
            "text/html": [
              "<pre style=\"white-space:pre;overflow-x:auto;line-height:normal;font-family:Menlo,'DejaVu Sans Mono',consolas,'Courier New',monospace\">[<span style=\"color: #7f7f7f; text-decoration-color: #7f7f7f\">2025-07-23 08:57:08,798661</span>][<span style=\"color: #ffff00; text-decoration-color: #ffff00\">W</span>][<span style=\"color: #008080; text-decoration-color: #008080; font-style: italic\">ezpz</span>/<span style=\"color: #000080; text-decoration-color: #000080\">dist</span><span style=\"color: #0000ff; text-decoration-color: #0000ff\">:</span><span style=\"color: #800080; text-decoration-color: #800080\">639</span>]<span style=\"color: #c0c0c0; text-decoration-color: #c0c0c0\"> </span>Caught <span style=\"color: #0000ff; text-decoration-color: #0000ff\">TORCH_DEVICE</span>=<span style=\"color: #800080; text-decoration-color: #800080\">cpu</span> from environment!\n",
              "</pre>"
            ]
          }
        },
        {
          "output_type": "display_data",
          "metadata": {},
          "data": {
            "text/html": [
              "<pre style=\"white-space:pre;overflow-x:auto;line-height:normal;font-family:Menlo,'DejaVu Sans Mono',consolas,'Courier New',monospace\">[<span style=\"color: #7f7f7f; text-decoration-color: #7f7f7f\">2025-07-23 08:57:08,799625</span>][<span style=\"color: #ffff00; text-decoration-color: #ffff00\">W</span>][<span style=\"color: #008080; text-decoration-color: #008080; font-style: italic\">ezpz</span>/<span style=\"color: #000080; text-decoration-color: #000080\">dist</span><span style=\"color: #0000ff; text-decoration-color: #0000ff\">:</span><span style=\"color: #800080; text-decoration-color: #800080\">639</span>]<span style=\"color: #c0c0c0; text-decoration-color: #c0c0c0\"> </span>Caught <span style=\"color: #0000ff; text-decoration-color: #0000ff\">TORCH_DEVICE</span>=<span style=\"color: #800080; text-decoration-color: #800080\">cpu</span> from environment!\n",
              "</pre>"
            ]
          }
        },
        {
          "output_type": "display_data",
          "metadata": {},
          "data": {
            "text/html": [
              "<pre style=\"white-space:pre;overflow-x:auto;line-height:normal;font-family:Menlo,'DejaVu Sans Mono',consolas,'Courier New',monospace\">[<span style=\"color: #7f7f7f; text-decoration-color: #7f7f7f\">2025-07-23 08:57:08,800251</span>][<span style=\"color: #ffff00; text-decoration-color: #ffff00\">W</span>][<span style=\"color: #008080; text-decoration-color: #008080; font-style: italic\">ezpz</span>/<span style=\"color: #000080; text-decoration-color: #000080\">dist</span><span style=\"color: #0000ff; text-decoration-color: #0000ff\">:</span><span style=\"color: #800080; text-decoration-color: #800080\">639</span>]<span style=\"color: #c0c0c0; text-decoration-color: #c0c0c0\"> </span>Caught <span style=\"color: #0000ff; text-decoration-color: #0000ff\">TORCH_DEVICE</span>=<span style=\"color: #800080; text-decoration-color: #800080\">cpu</span> from environment!\n",
              "</pre>"
            ]
          }
        },
        {
          "output_type": "display_data",
          "metadata": {},
          "data": {
            "text/html": [
              "<pre style=\"white-space:pre;overflow-x:auto;line-height:normal;font-family:Menlo,'DejaVu Sans Mono',consolas,'Courier New',monospace\">[<span style=\"color: #7f7f7f; text-decoration-color: #7f7f7f\">2025-07-23 08:57:08,800836</span>][<span style=\"color: #008000; text-decoration-color: #008000\">I</span>][<span style=\"color: #008080; text-decoration-color: #008080; font-style: italic\">ezpz</span>/<span style=\"color: #000080; text-decoration-color: #000080\">dist</span><span style=\"color: #0000ff; text-decoration-color: #0000ff\">:</span><span style=\"color: #800080; text-decoration-color: #800080\">1159</span>]<span style=\"color: #c0c0c0; text-decoration-color: #c0c0c0\"> </span>Using <span style=\"color: #0000ff; text-decoration-color: #0000ff\">fw</span>=<span style=\"color: #008000; text-decoration-color: #008000\">'ddp'</span> with torch_<span style=\"color: #ff00ff; text-decoration-color: #ff00ff\">{</span>device,backend<span style=\"color: #ff00ff; text-decoration-color: #ff00ff\">}</span>= <span style=\"color: #ff00ff; text-decoration-color: #ff00ff\">{</span>cpu, gloo<span style=\"color: #ff00ff; text-decoration-color: #ff00ff\">}</span>\n",
              "</pre>"
            ]
          }
        },
        {
          "output_type": "display_data",
          "metadata": {},
          "data": {
            "text/html": [
              "<pre style=\"white-space:pre;overflow-x:auto;line-height:normal;font-family:Menlo,'DejaVu Sans Mono',consolas,'Courier New',monospace\">[<span style=\"color: #7f7f7f; text-decoration-color: #7f7f7f\">2025-07-23 08:57:08,803589</span>][<span style=\"color: #008000; text-decoration-color: #008000\">I</span>][<span style=\"color: #008080; text-decoration-color: #008080; font-style: italic\">ezpz</span>/<span style=\"color: #000080; text-decoration-color: #000080\">dist</span><span style=\"color: #0000ff; text-decoration-color: #0000ff\">:</span><span style=\"color: #800080; text-decoration-color: #800080\">1026</span>]<span style=\"color: #c0c0c0; text-decoration-color: #c0c0c0\"> </span>Caught <span style=\"color: #0000ff; text-decoration-color: #0000ff\">MASTER_PORT</span>=<span style=\"color: #008080; text-decoration-color: #008080; font-weight: bold\">49503</span> from environment!\n",
              "</pre>"
            ]
          }
        },
        {
          "output_type": "display_data",
          "metadata": {},
          "data": {
            "text/html": [
              "<pre style=\"white-space:pre;overflow-x:auto;line-height:normal;font-family:Menlo,'DejaVu Sans Mono',consolas,'Courier New',monospace\">[<span style=\"color: #7f7f7f; text-decoration-color: #7f7f7f\">2025-07-23 08:57:08,804269</span>][<span style=\"color: #008000; text-decoration-color: #008000\">I</span>][<span style=\"color: #008080; text-decoration-color: #008080; font-style: italic\">ezpz</span>/<span style=\"color: #000080; text-decoration-color: #000080\">dist</span><span style=\"color: #0000ff; text-decoration-color: #0000ff\">:</span><span style=\"color: #800080; text-decoration-color: #800080\">1042</span>]<span style=\"color: #c0c0c0; text-decoration-color: #c0c0c0\"> </span>Using torch.distributed.init_process_group with\n",
              "- <span style=\"color: #0000ff; text-decoration-color: #0000ff\">master_addr</span>=<span style=\"color: #008000; text-decoration-color: #008000\">'Sams-MacBook-Pro-2.local'</span>\n",
              "- <span style=\"color: #0000ff; text-decoration-color: #0000ff\">master_port</span>=<span style=\"color: #008000; text-decoration-color: #008000\">'49503'</span>\n",
              "- <span style=\"color: #0000ff; text-decoration-color: #0000ff\">world_size</span>=<span style=\"color: #008080; text-decoration-color: #008080; font-weight: bold\">1</span>\n",
              "- <span style=\"color: #0000ff; text-decoration-color: #0000ff\">rank</span>=<span style=\"color: #008080; text-decoration-color: #008080; font-weight: bold\">0</span>\n",
              "- <span style=\"color: #0000ff; text-decoration-color: #0000ff\">local_rank</span>=<span style=\"color: #008080; text-decoration-color: #008080; font-weight: bold\">0</span>\n",
              "- <span style=\"color: #0000ff; text-decoration-color: #0000ff\">timeout</span>=<span style=\"color: #800080; text-decoration-color: #800080; font-weight: bold\">datetime.timedelta</span><span style=\"color: #ff00ff; text-decoration-color: #ff00ff\">(</span><span style=\"color: #0000ff; text-decoration-color: #0000ff\">seconds</span>=<span style=\"color: #008080; text-decoration-color: #008080; font-weight: bold\">3600</span><span style=\"color: #ff00ff; text-decoration-color: #ff00ff\">)</span>\n",
              "- <span style=\"color: #0000ff; text-decoration-color: #0000ff\">backend</span>=<span style=\"color: #008000; text-decoration-color: #008000\">'gloo'</span>\n",
              "</pre>"
            ]
          }
        },
        {
          "output_type": "display_data",
          "metadata": {},
          "data": {
            "text/html": [
              "<pre style=\"white-space:pre;overflow-x:auto;line-height:normal;font-family:Menlo,'DejaVu Sans Mono',consolas,'Courier New',monospace\">[<span style=\"color: #7f7f7f; text-decoration-color: #7f7f7f\">2025-07-23 08:57:08,805236</span>][<span style=\"color: #008000; text-decoration-color: #008000\">I</span>][<span style=\"color: #008080; text-decoration-color: #008080; font-style: italic\">ezpz</span>/<span style=\"color: #000080; text-decoration-color: #000080\">dist</span><span style=\"color: #0000ff; text-decoration-color: #0000ff\">:</span><span style=\"color: #800080; text-decoration-color: #800080\">759</span>]<span style=\"color: #c0c0c0; text-decoration-color: #c0c0c0\"> </span>Calling torch.distributed.init_process_group_with: <span style=\"color: #0000ff; text-decoration-color: #0000ff\">rank</span>=<span style=\"color: #008080; text-decoration-color: #008080; font-weight: bold\">0</span> <span style=\"color: #0000ff; text-decoration-color: #0000ff\">world_size</span>=<span style=\"color: #008080; text-decoration-color: #008080; font-weight: bold\">1</span> <span style=\"color: #0000ff; text-decoration-color: #0000ff\">backend</span>=<span style=\"color: #800080; text-decoration-color: #800080\">gloo</span>\n",
              "</pre>"
            ]
          }
        },
        {
          "output_type": "display_data",
          "metadata": {},
          "data": {
            "text/html": [
              "<pre style=\"white-space:pre;overflow-x:auto;line-height:normal;font-family:Menlo,'DejaVu Sans Mono',consolas,'Courier New',monospace\">[<span style=\"color: #7f7f7f; text-decoration-color: #7f7f7f\">2025-07-23 08:57:08,831174</span>][<span style=\"color: #ffff00; text-decoration-color: #ffff00\">W</span>][<span style=\"color: #008080; text-decoration-color: #008080; font-style: italic\">ezpz</span>/<span style=\"color: #000080; text-decoration-color: #000080\">dist</span><span style=\"color: #0000ff; text-decoration-color: #0000ff\">:</span><span style=\"color: #800080; text-decoration-color: #800080\">639</span>]<span style=\"color: #c0c0c0; text-decoration-color: #c0c0c0\"> </span>Caught <span style=\"color: #0000ff; text-decoration-color: #0000ff\">TORCH_DEVICE</span>=<span style=\"color: #800080; text-decoration-color: #800080\">cpu</span> from environment!\n",
              "</pre>"
            ]
          }
        },
        {
          "output_type": "display_data",
          "metadata": {},
          "data": {
            "text/html": [
              "<pre style=\"white-space:pre;overflow-x:auto;line-height:normal;font-family:Menlo,'DejaVu Sans Mono',consolas,'Courier New',monospace\">[<span style=\"color: #7f7f7f; text-decoration-color: #7f7f7f\">2025-07-23 08:57:08,831980</span>][<span style=\"color: #ffff00; text-decoration-color: #ffff00\">W</span>][<span style=\"color: #008080; text-decoration-color: #008080; font-style: italic\">ezpz</span>/<span style=\"color: #000080; text-decoration-color: #000080\">dist</span><span style=\"color: #0000ff; text-decoration-color: #0000ff\">:</span><span style=\"color: #800080; text-decoration-color: #800080\">639</span>]<span style=\"color: #c0c0c0; text-decoration-color: #c0c0c0\"> </span>Caught <span style=\"color: #0000ff; text-decoration-color: #0000ff\">TORCH_DEVICE</span>=<span style=\"color: #800080; text-decoration-color: #800080\">cpu</span> from environment!\n",
              "</pre>"
            ]
          }
        },
        {
          "output_type": "display_data",
          "metadata": {},
          "data": {
            "text/html": [
              "<pre style=\"white-space:pre;overflow-x:auto;line-height:normal;font-family:Menlo,'DejaVu Sans Mono',consolas,'Courier New',monospace\">[<span style=\"color: #7f7f7f; text-decoration-color: #7f7f7f\">2025-07-23 08:57:08,856853</span>][<span style=\"color: #008000; text-decoration-color: #008000\">I</span>][<span style=\"color: #008080; text-decoration-color: #008080; font-style: italic\">ezpz</span>/<span style=\"color: #000080; text-decoration-color: #000080\">dist</span><span style=\"color: #0000ff; text-decoration-color: #0000ff\">:</span><span style=\"color: #800080; text-decoration-color: #800080\">1377</span>]<span style=\"color: #c0c0c0; text-decoration-color: #c0c0c0\"> </span>Using <span style=\"color: #0000ff; text-decoration-color: #0000ff\">device</span>=<span style=\"color: #008000; text-decoration-color: #008000\">'cpu'</span> with <span style=\"color: #0000ff; text-decoration-color: #0000ff\">backend</span>=<span style=\"color: #008000; text-decoration-color: #008000\">'gloo'</span> + <span style=\"color: #008000; text-decoration-color: #008000\">'gloo'</span> for distributed training.\n",
              "</pre>"
            ]
          }
        },
        {
          "output_type": "display_data",
          "metadata": {},
          "data": {
            "text/html": [
              "<pre style=\"white-space:pre;overflow-x:auto;line-height:normal;font-family:Menlo,'DejaVu Sans Mono',consolas,'Courier New',monospace\">[<span style=\"color: #7f7f7f; text-decoration-color: #7f7f7f\">2025-07-23 08:57:08,857812</span>][<span style=\"color: #008000; text-decoration-color: #008000\">I</span>][<span style=\"color: #008080; text-decoration-color: #008080; font-style: italic\">ezpz</span>/<span style=\"color: #000080; text-decoration-color: #000080\">dist</span><span style=\"color: #0000ff; text-decoration-color: #0000ff\">:</span><span style=\"color: #800080; text-decoration-color: #800080\">1422</span>]<span style=\"color: #c0c0c0; text-decoration-color: #c0c0c0\"> </span><span style=\"color: #ff00ff; text-decoration-color: #ff00ff\">[</span><span style=\"color: #008000; text-decoration-color: #008000\">'Sams-MacBook-Pro-2.local'</span><span style=\"color: #ff00ff; text-decoration-color: #ff00ff\">][</span><span style=\"color: #008080; text-decoration-color: #008080; font-weight: bold\">0</span>/<span style=\"color: #008080; text-decoration-color: #008080; font-weight: bold\">0</span><span style=\"color: #ff00ff; text-decoration-color: #ff00ff\">]</span> \n",
              "</pre>"
            ]
          }
        },
        {
          "output_type": "display_data",
          "metadata": {},
          "data": {
            "text/html": [
              "<pre style=\"white-space:pre;overflow-x:auto;line-height:normal;font-family:Menlo,'DejaVu Sans Mono',consolas,'Courier New',monospace\">[<span style=\"color: #7f7f7f; text-decoration-color: #7f7f7f\">2025-07-23 08:57:08,924491</span>][<span style=\"color: #008000; text-decoration-color: #008000\">I</span>][<span style=\"color: #008080; text-decoration-color: #008080; font-style: italic\">wordplay</span>/<span style=\"color: #000080; text-decoration-color: #000080\">configs</span><span style=\"color: #0000ff; text-decoration-color: #0000ff\">:</span><span style=\"color: #800080; text-decoration-color: #800080\">317</span>]<span style=\"color: #c0c0c0; text-decoration-color: #c0c0c0\"> </span>Loading train from <span style=\"color: #800080; text-decoration-color: #800080\">/Users/samforeman/projects/saforem2/wordplay/data/shakespeare_char/</span><span style=\"color: #ff00ff; text-decoration-color: #ff00ff\">train.bin</span>\n",
              "</pre>"
            ]
          }
        },
        {
          "output_type": "display_data",
          "metadata": {},
          "data": {
            "text/html": [
              "<pre style=\"white-space:pre;overflow-x:auto;line-height:normal;font-family:Menlo,'DejaVu Sans Mono',consolas,'Courier New',monospace\">[<span style=\"color: #7f7f7f; text-decoration-color: #7f7f7f\">2025-07-23 08:57:08,930199</span>][<span style=\"color: #008000; text-decoration-color: #008000\">I</span>][<span style=\"color: #008080; text-decoration-color: #008080; font-style: italic\">wordplay</span>/<span style=\"color: #000080; text-decoration-color: #000080\">configs</span><span style=\"color: #0000ff; text-decoration-color: #0000ff\">:</span><span style=\"color: #800080; text-decoration-color: #800080\">317</span>]<span style=\"color: #c0c0c0; text-decoration-color: #c0c0c0\"> </span>Loading val from <span style=\"color: #800080; text-decoration-color: #800080\">/Users/samforeman/projects/saforem2/wordplay/data/shakespeare_char/</span><span style=\"color: #ff00ff; text-decoration-color: #ff00ff\">val.bin</span>\n",
              "</pre>"
            ]
          }
        },
        {
          "output_type": "display_data",
          "metadata": {},
          "data": {
            "text/html": [
              "<pre style=\"white-space:pre;overflow-x:auto;line-height:normal;font-family:Menlo,'DejaVu Sans Mono',consolas,'Courier New',monospace\">[<span style=\"color: #7f7f7f; text-decoration-color: #7f7f7f\">2025-07-23 08:57:08,931696</span>][<span style=\"color: #008000; text-decoration-color: #008000\">I</span>][<span style=\"color: #008080; text-decoration-color: #008080; font-style: italic\">wordplay</span>/<span style=\"color: #000080; text-decoration-color: #000080\">configs</span><span style=\"color: #0000ff; text-decoration-color: #0000ff\">:</span><span style=\"color: #800080; text-decoration-color: #800080\">442</span>]<span style=\"color: #c0c0c0; text-decoration-color: #c0c0c0\"> </span>Tokens per iteration: <span style=\"color: #008080; text-decoration-color: #008080; font-weight: bold\">128</span>\n",
              "</pre>"
            ]
          }
        },
        {
          "output_type": "display_data",
          "metadata": {},
          "data": {
            "text/html": [
              "<pre style=\"white-space:pre;overflow-x:auto;line-height:normal;font-family:Menlo,'DejaVu Sans Mono',consolas,'Courier New',monospace\">[<span style=\"color: #7f7f7f; text-decoration-color: #7f7f7f\">2025-07-23 08:57:08,932528</span>][<span style=\"color: #ffff00; text-decoration-color: #ffff00\">W</span>][<span style=\"color: #008080; text-decoration-color: #008080; font-style: italic\">ezpz</span>/<span style=\"color: #000080; text-decoration-color: #000080\">dist</span><span style=\"color: #0000ff; text-decoration-color: #0000ff\">:</span><span style=\"color: #800080; text-decoration-color: #800080\">639</span>]<span style=\"color: #c0c0c0; text-decoration-color: #c0c0c0\"> </span>Caught <span style=\"color: #0000ff; text-decoration-color: #0000ff\">TORCH_DEVICE</span>=<span style=\"color: #800080; text-decoration-color: #800080\">cpu</span> from environment!\n",
              "</pre>"
            ]
          }
        },
        {
          "output_type": "display_data",
          "metadata": {},
          "data": {
            "text/html": [
              "<pre style=\"white-space:pre;overflow-x:auto;line-height:normal;font-family:Menlo,'DejaVu Sans Mono',consolas,'Courier New',monospace\">[<span style=\"color: #7f7f7f; text-decoration-color: #7f7f7f\">2025-07-23 08:57:08,933099</span>][<span style=\"color: #008000; text-decoration-color: #008000\">I</span>][<span style=\"color: #008080; text-decoration-color: #008080; font-style: italic\">wordplay</span>/<span style=\"color: #000080; text-decoration-color: #000080\">configs</span><span style=\"color: #0000ff; text-decoration-color: #0000ff\">:</span><span style=\"color: #800080; text-decoration-color: #800080\">465</span>]<span style=\"color: #c0c0c0; text-decoration-color: #c0c0c0\"> </span>Using self.<span style=\"color: #0000ff; text-decoration-color: #0000ff\">ptdtype</span>=<span style=\"color: #800080; text-decoration-color: #800080\">torch</span>.bfloat16 on self.<span style=\"color: #0000ff; text-decoration-color: #0000ff\">device_type</span>=<span style=\"color: #008000; text-decoration-color: #008000\">'cpu'</span>\n",
              "</pre>"
            ]
          }
        },
        {
          "output_type": "display_data",
          "metadata": {},
          "data": {
            "text/html": [
              "<pre style=\"white-space:pre;overflow-x:auto;line-height:normal;font-family:Menlo,'DejaVu Sans Mono',consolas,'Courier New',monospace\">[<span style=\"color: #7f7f7f; text-decoration-color: #7f7f7f\">2025-07-23 08:57:08,933802</span>][<span style=\"color: #008000; text-decoration-color: #008000\">I</span>][<span style=\"color: #008080; text-decoration-color: #008080; font-style: italic\">wordplay</span>/<span style=\"color: #000080; text-decoration-color: #000080\">configs</span><span style=\"color: #0000ff; text-decoration-color: #0000ff\">:</span><span style=\"color: #800080; text-decoration-color: #800080\">471</span>]<span style=\"color: #c0c0c0; text-decoration-color: #c0c0c0\"> </span>Initializing a new model from scratch\n",
              "</pre>"
            ]
          }
        }
      ],
      "source": [
        "import os\n",
        "import numpy as np\n",
        "from ezpz import setup\n",
        "from hydra.utils import instantiate\n",
        "from wordplay.configs import get_config, PROJECT_ROOT\n",
        "from wordplay.trainer import Trainer\n",
        "\n",
        "HF_DATASETS_CACHE = PROJECT_ROOT.joinpath('.cache', 'huggingface')\n",
        "HF_DATASETS_CACHE.mkdir(exist_ok=True, parents=True)\n",
        "\n",
        "os.environ['HF_DATASETS_CACHE'] = HF_DATASETS_CACHE.as_posix()\n",
        "\n",
        "BACKEND = 'DDP'\n",
        "\n",
        "rank = setup(\n",
        "    framework='pytorch',\n",
        "    backend=BACKEND,\n",
        "    seed=1234,\n",
        ")\n",
        "\n",
        "cfg = get_config(\n",
        "    [\n",
        "        'data=shakespeare',\n",
        "        'model=shakespeare',\n",
        "        'model.batch_size=1',\n",
        "        'model.block_size=128',\n",
        "        'optimizer=shakespeare',\n",
        "        'train=shakespeare',\n",
        "        f'train.backend={BACKEND}',\n",
        "        'train.compile=false',\n",
        "        'train.dtype=bfloat16',\n",
        "        'train.max_iters=500',\n",
        "        'train.log_interval=10',\n",
        "        'train.eval_interval=50',\n",
        "    ]\n",
        ")\n",
        "config = instantiate(cfg)"
      ],
      "id": "bb9a568c"
    },
    {
      "cell_type": "markdown",
      "metadata": {},
      "source": [
        "### Build `Trainer` object"
      ],
      "id": "9101603e-48ca-4855-91d7-7adbdce256ff"
    },
    {
      "cell_type": "code",
      "execution_count": 5,
      "metadata": {
        "quarto-private-1": {
          "key": "jupyter",
          "value": {
            "outputs_hidden": false,
            "source_hidden": false
          }
        }
      },
      "outputs": [
        {
          "output_type": "display_data",
          "metadata": {},
          "data": {
            "text/html": [
              "<pre style=\"white-space:pre;overflow-x:auto;line-height:normal;font-family:Menlo,'DejaVu Sans Mono',consolas,'Courier New',monospace\">[<span style=\"color: #7f7f7f; text-decoration-color: #7f7f7f\">2025-07-23 08:57:08,965527</span>][<span style=\"color: #008000; text-decoration-color: #008000\">I</span>][<span style=\"color: #008080; text-decoration-color: #008080; font-style: italic\">wordplay</span>/<span style=\"color: #000080; text-decoration-color: #000080\">trainer</span><span style=\"color: #0000ff; text-decoration-color: #0000ff\">:</span><span style=\"color: #800080; text-decoration-color: #800080\">235</span>]<span style=\"color: #c0c0c0; text-decoration-color: #c0c0c0\"> </span>Initializing a new model from scratch\n",
              "</pre>"
            ]
          }
        },
        {
          "output_type": "display_data",
          "metadata": {},
          "data": {
            "text/html": [
              "<pre style=\"white-space:pre;overflow-x:auto;line-height:normal;font-family:Menlo,'DejaVu Sans Mono',consolas,'Courier New',monospace\">[<span style=\"color: #7f7f7f; text-decoration-color: #7f7f7f\">2025-07-23 08:57:09,139070</span>][<span style=\"color: #008000; text-decoration-color: #008000\">I</span>][<span style=\"color: #008080; text-decoration-color: #008080; font-style: italic\">wordplay</span>/<span style=\"color: #000080; text-decoration-color: #000080\">model</span><span style=\"color: #0000ff; text-decoration-color: #0000ff\">:</span><span style=\"color: #800080; text-decoration-color: #800080\">255</span>]<span style=\"color: #c0c0c0; text-decoration-color: #c0c0c0\"> </span>number of parameters: <span style=\"color: #008080; text-decoration-color: #008080; font-weight: bold\">10.</span>65M\n",
              "</pre>"
            ]
          }
        },
        {
          "output_type": "display_data",
          "metadata": {},
          "data": {
            "text/html": [
              "<pre style=\"white-space:pre;overflow-x:auto;line-height:normal;font-family:Menlo,'DejaVu Sans Mono',consolas,'Courier New',monospace\">[<span style=\"color: #7f7f7f; text-decoration-color: #7f7f7f\">2025-07-23 08:57:09,140622</span>][<span style=\"color: #008000; text-decoration-color: #008000\">I</span>][<span style=\"color: #008080; text-decoration-color: #008080; font-style: italic\">wordplay</span>/<span style=\"color: #000080; text-decoration-color: #000080\">trainer</span><span style=\"color: #0000ff; text-decoration-color: #0000ff\">:</span><span style=\"color: #800080; text-decoration-color: #800080\">252</span>]<span style=\"color: #c0c0c0; text-decoration-color: #c0c0c0\"> </span>Model size: <span style=\"color: #0000ff; text-decoration-color: #0000ff\">num_params</span>=<span style=\"color: #008080; text-decoration-color: #008080; font-weight: bold\">10646784</span>\n",
              "</pre>"
            ]
          }
        },
        {
          "output_type": "display_data",
          "metadata": {},
          "data": {
            "text/html": [
              "<pre style=\"white-space:pre;overflow-x:auto;line-height:normal;font-family:Menlo,'DejaVu Sans Mono',consolas,'Courier New',monospace\">[<span style=\"color: #7f7f7f; text-decoration-color: #7f7f7f\">2025-07-23 08:57:09,141366</span>][<span style=\"color: #008000; text-decoration-color: #008000\">I</span>][<span style=\"color: #008080; text-decoration-color: #008080; font-style: italic\">wordplay</span>/<span style=\"color: #000080; text-decoration-color: #000080\">model</span><span style=\"color: #0000ff; text-decoration-color: #0000ff\">:</span><span style=\"color: #800080; text-decoration-color: #800080\">445</span>]<span style=\"color: #c0c0c0; text-decoration-color: #c0c0c0\"> </span>num decayed parameter tensors: <span style=\"color: #008080; text-decoration-color: #008080; font-weight: bold\">26</span>, with <span style=\"color: #008080; text-decoration-color: #008080; font-weight: bold\">10</span>,<span style=\"color: #008080; text-decoration-color: #008080; font-weight: bold\">690</span>,<span style=\"color: #008080; text-decoration-color: #008080; font-weight: bold\">944</span> parameters\n",
              "</pre>"
            ]
          }
        },
        {
          "output_type": "display_data",
          "metadata": {},
          "data": {
            "text/html": [
              "<pre style=\"white-space:pre;overflow-x:auto;line-height:normal;font-family:Menlo,'DejaVu Sans Mono',consolas,'Courier New',monospace\">[<span style=\"color: #7f7f7f; text-decoration-color: #7f7f7f\">2025-07-23 08:57:09,141947</span>][<span style=\"color: #008000; text-decoration-color: #008000\">I</span>][<span style=\"color: #008080; text-decoration-color: #008080; font-style: italic\">wordplay</span>/<span style=\"color: #000080; text-decoration-color: #000080\">model</span><span style=\"color: #0000ff; text-decoration-color: #0000ff\">:</span><span style=\"color: #800080; text-decoration-color: #800080\">449</span>]<span style=\"color: #c0c0c0; text-decoration-color: #c0c0c0\"> </span>num non-decayed parameter tensors: <span style=\"color: #008080; text-decoration-color: #008080; font-weight: bold\">13</span>, with <span style=\"color: #008080; text-decoration-color: #008080; font-weight: bold\">4</span>,<span style=\"color: #008080; text-decoration-color: #008080; font-weight: bold\">992</span> parameters\n",
              "</pre>"
            ]
          }
        },
        {
          "output_type": "display_data",
          "metadata": {},
          "data": {
            "text/html": [
              "<pre style=\"white-space:pre;overflow-x:auto;line-height:normal;font-family:Menlo,'DejaVu Sans Mono',consolas,'Courier New',monospace\">[<span style=\"color: #7f7f7f; text-decoration-color: #7f7f7f\">2025-07-23 08:57:09,142840</span>][<span style=\"color: #008000; text-decoration-color: #008000\">I</span>][<span style=\"color: #008080; text-decoration-color: #008080; font-style: italic\">wordplay</span>/<span style=\"color: #000080; text-decoration-color: #000080\">model</span><span style=\"color: #0000ff; text-decoration-color: #0000ff\">:</span><span style=\"color: #800080; text-decoration-color: #800080\">465</span>]<span style=\"color: #c0c0c0; text-decoration-color: #c0c0c0\"> </span>using fused AdamW: <span style=\"color: #ff0000; text-decoration-color: #ff0000; font-style: italic\">False</span>\n",
              "</pre>"
            ]
          }
        },
        {
          "output_type": "display_data",
          "metadata": {},
          "data": {
            "text/html": [
              "<pre style=\"white-space:pre;overflow-x:auto;line-height:normal;font-family:Menlo,'DejaVu Sans Mono',consolas,'Courier New',monospace\">[<span style=\"color: #7f7f7f; text-decoration-color: #7f7f7f\">2025-07-23 08:57:09,143723</span>][<span style=\"background-color: #ff0000; font-weight: bold\">C</span>][<span style=\"color: #008080; text-decoration-color: #008080; font-style: italic\">wordplay</span>/<span style=\"color: #000080; text-decoration-color: #000080\">trainer</span><span style=\"color: #0000ff; text-decoration-color: #0000ff\">:</span><span style=\"color: #800080; text-decoration-color: #800080\">308</span>]<span style=\"color: #c0c0c0; text-decoration-color: #c0c0c0\"> </span><span style=\"color: #008000; text-decoration-color: #008000\">\"devid='cpu:0'\"</span>\n",
              "</pre>"
            ]
          }
        },
        {
          "output_type": "display_data",
          "metadata": {},
          "data": {
            "text/html": [
              "<pre style=\"white-space:pre;overflow-x:auto;line-height:normal;font-family:Menlo,'DejaVu Sans Mono',consolas,'Courier New',monospace\">[<span style=\"color: #7f7f7f; text-decoration-color: #7f7f7f\">2025-07-23 08:57:09,151176</span>][<span style=\"color: #008000; text-decoration-color: #008000\">I</span>][<span style=\"color: #008080; text-decoration-color: #008080; font-style: italic\">wordplay</span>/<span style=\"color: #000080; text-decoration-color: #000080\">trainer</span><span style=\"color: #0000ff; text-decoration-color: #0000ff\">:</span><span style=\"color: #800080; text-decoration-color: #800080\">347</span>]<span style=\"color: #c0c0c0; text-decoration-color: #c0c0c0\"> </span>• self.<span style=\"color: #0000ff; text-decoration-color: #0000ff\">model</span>=<span style=\"color: #800080; text-decoration-color: #800080; font-weight: bold\">GPT</span><span style=\"color: #ff00ff; text-decoration-color: #ff00ff\">(</span>\n",
              "  <span style=\"color: #ff00ff; text-decoration-color: #ff00ff\">(</span>transformer<span style=\"color: #ff00ff; text-decoration-color: #ff00ff\">)</span>: <span style=\"color: #800080; text-decoration-color: #800080; font-weight: bold\">ModuleDict</span><span style=\"color: #ff00ff; text-decoration-color: #ff00ff\">(</span>\n",
              "    <span style=\"color: #ff00ff; text-decoration-color: #ff00ff\">(</span>wte<span style=\"color: #ff00ff; text-decoration-color: #ff00ff\">)</span>: <span style=\"color: #800080; text-decoration-color: #800080; font-weight: bold\">Embedding</span><span style=\"color: #ff00ff; text-decoration-color: #ff00ff\">(</span><span style=\"color: #008080; text-decoration-color: #008080; font-weight: bold\">65</span>, <span style=\"color: #008080; text-decoration-color: #008080; font-weight: bold\">384</span><span style=\"color: #ff00ff; text-decoration-color: #ff00ff\">)</span>\n",
              "    <span style=\"color: #ff00ff; text-decoration-color: #ff00ff\">(</span>wpe<span style=\"color: #ff00ff; text-decoration-color: #ff00ff\">)</span>: <span style=\"color: #800080; text-decoration-color: #800080; font-weight: bold\">Embedding</span><span style=\"color: #ff00ff; text-decoration-color: #ff00ff\">(</span><span style=\"color: #008080; text-decoration-color: #008080; font-weight: bold\">128</span>, <span style=\"color: #008080; text-decoration-color: #008080; font-weight: bold\">384</span><span style=\"color: #ff00ff; text-decoration-color: #ff00ff\">)</span>\n",
              "    <span style=\"color: #ff00ff; text-decoration-color: #ff00ff\">(</span>drop<span style=\"color: #ff00ff; text-decoration-color: #ff00ff\">)</span>: <span style=\"color: #800080; text-decoration-color: #800080; font-weight: bold\">Dropout</span><span style=\"color: #ff00ff; text-decoration-color: #ff00ff\">(</span><span style=\"color: #0000ff; text-decoration-color: #0000ff\">p</span>=<span style=\"color: #008080; text-decoration-color: #008080; font-weight: bold\">0.2</span>, <span style=\"color: #0000ff; text-decoration-color: #0000ff\">inplace</span>=<span style=\"color: #ff0000; text-decoration-color: #ff0000; font-style: italic\">False</span><span style=\"color: #ff00ff; text-decoration-color: #ff00ff\">)</span>\n",
              "    <span style=\"color: #ff00ff; text-decoration-color: #ff00ff\">(</span>h<span style=\"color: #ff00ff; text-decoration-color: #ff00ff\">)</span>: <span style=\"color: #800080; text-decoration-color: #800080; font-weight: bold\">ModuleList</span><span style=\"color: #ff00ff; text-decoration-color: #ff00ff\">(</span>\n",
              "      <span style=\"color: #ff00ff; text-decoration-color: #ff00ff\">(</span><span style=\"color: #008080; text-decoration-color: #008080; font-weight: bold\">0</span>-<span style=\"color: #008080; text-decoration-color: #008080; font-weight: bold\">5</span><span style=\"color: #ff00ff; text-decoration-color: #ff00ff\">)</span>: <span style=\"color: #008080; text-decoration-color: #008080; font-weight: bold\">6</span> x <span style=\"color: #800080; text-decoration-color: #800080; font-weight: bold\">Block</span><span style=\"color: #ff00ff; text-decoration-color: #ff00ff\">(</span>\n",
              "        <span style=\"color: #ff00ff; text-decoration-color: #ff00ff\">(</span>ln_1<span style=\"color: #ff00ff; text-decoration-color: #ff00ff\">)</span>: <span style=\"color: #800080; text-decoration-color: #800080; font-weight: bold\">LayerNorm</span><span style=\"color: #ff00ff; text-decoration-color: #ff00ff\">()</span>\n",
              "        <span style=\"color: #ff00ff; text-decoration-color: #ff00ff\">(</span>attn<span style=\"color: #ff00ff; text-decoration-color: #ff00ff\">)</span>: <span style=\"color: #800080; text-decoration-color: #800080; font-weight: bold\">CausalSelfAttention</span><span style=\"color: #ff00ff; text-decoration-color: #ff00ff\">(</span>\n",
              "          <span style=\"color: #ff00ff; text-decoration-color: #ff00ff\">(</span>c_attn<span style=\"color: #ff00ff; text-decoration-color: #ff00ff\">)</span>: <span style=\"color: #800080; text-decoration-color: #800080; font-weight: bold\">Linear</span><span style=\"color: #ff00ff; text-decoration-color: #ff00ff\">(</span><span style=\"color: #0000ff; text-decoration-color: #0000ff\">in_features</span>=<span style=\"color: #008080; text-decoration-color: #008080; font-weight: bold\">384</span>, <span style=\"color: #0000ff; text-decoration-color: #0000ff\">out_features</span>=<span style=\"color: #008080; text-decoration-color: #008080; font-weight: bold\">1152</span>, <span style=\"color: #0000ff; text-decoration-color: #0000ff\">bias</span>=<span style=\"color: #ff0000; text-decoration-color: #ff0000; font-style: italic\">False</span><span style=\"color: #ff00ff; text-decoration-color: #ff00ff\">)</span>\n",
              "          <span style=\"color: #ff00ff; text-decoration-color: #ff00ff\">(</span>c_proj<span style=\"color: #ff00ff; text-decoration-color: #ff00ff\">)</span>: <span style=\"color: #800080; text-decoration-color: #800080; font-weight: bold\">Linear</span><span style=\"color: #ff00ff; text-decoration-color: #ff00ff\">(</span><span style=\"color: #0000ff; text-decoration-color: #0000ff\">in_features</span>=<span style=\"color: #008080; text-decoration-color: #008080; font-weight: bold\">384</span>, <span style=\"color: #0000ff; text-decoration-color: #0000ff\">out_features</span>=<span style=\"color: #008080; text-decoration-color: #008080; font-weight: bold\">384</span>, <span style=\"color: #0000ff; text-decoration-color: #0000ff\">bias</span>=<span style=\"color: #ff0000; text-decoration-color: #ff0000; font-style: italic\">False</span><span style=\"color: #ff00ff; text-decoration-color: #ff00ff\">)</span>\n",
              "          <span style=\"color: #ff00ff; text-decoration-color: #ff00ff\">(</span>attn_dropout<span style=\"color: #ff00ff; text-decoration-color: #ff00ff\">)</span>: <span style=\"color: #800080; text-decoration-color: #800080; font-weight: bold\">Dropout</span><span style=\"color: #ff00ff; text-decoration-color: #ff00ff\">(</span><span style=\"color: #0000ff; text-decoration-color: #0000ff\">p</span>=<span style=\"color: #008080; text-decoration-color: #008080; font-weight: bold\">0.2</span>, <span style=\"color: #0000ff; text-decoration-color: #0000ff\">inplace</span>=<span style=\"color: #ff0000; text-decoration-color: #ff0000; font-style: italic\">False</span><span style=\"color: #ff00ff; text-decoration-color: #ff00ff\">)</span>\n",
              "          <span style=\"color: #ff00ff; text-decoration-color: #ff00ff\">(</span>resid_dropout<span style=\"color: #ff00ff; text-decoration-color: #ff00ff\">)</span>: <span style=\"color: #800080; text-decoration-color: #800080; font-weight: bold\">Dropout</span><span style=\"color: #ff00ff; text-decoration-color: #ff00ff\">(</span><span style=\"color: #0000ff; text-decoration-color: #0000ff\">p</span>=<span style=\"color: #008080; text-decoration-color: #008080; font-weight: bold\">0.2</span>, <span style=\"color: #0000ff; text-decoration-color: #0000ff\">inplace</span>=<span style=\"color: #ff0000; text-decoration-color: #ff0000; font-style: italic\">False</span><span style=\"color: #ff00ff; text-decoration-color: #ff00ff\">)</span>\n",
              "        <span style=\"color: #ff00ff; text-decoration-color: #ff00ff\">)</span>\n",
              "        <span style=\"color: #ff00ff; text-decoration-color: #ff00ff\">(</span>ln_2<span style=\"color: #ff00ff; text-decoration-color: #ff00ff\">)</span>: <span style=\"color: #800080; text-decoration-color: #800080; font-weight: bold\">LayerNorm</span><span style=\"color: #ff00ff; text-decoration-color: #ff00ff\">()</span>\n",
              "        <span style=\"color: #ff00ff; text-decoration-color: #ff00ff\">(</span>mlp<span style=\"color: #ff00ff; text-decoration-color: #ff00ff\">)</span>: <span style=\"color: #800080; text-decoration-color: #800080; font-weight: bold\">MLP</span><span style=\"color: #ff00ff; text-decoration-color: #ff00ff\">(</span>\n",
              "          <span style=\"color: #ff00ff; text-decoration-color: #ff00ff\">(</span>c_fc<span style=\"color: #ff00ff; text-decoration-color: #ff00ff\">)</span>: <span style=\"color: #800080; text-decoration-color: #800080; font-weight: bold\">Linear</span><span style=\"color: #ff00ff; text-decoration-color: #ff00ff\">(</span><span style=\"color: #0000ff; text-decoration-color: #0000ff\">in_features</span>=<span style=\"color: #008080; text-decoration-color: #008080; font-weight: bold\">384</span>, <span style=\"color: #0000ff; text-decoration-color: #0000ff\">out_features</span>=<span style=\"color: #008080; text-decoration-color: #008080; font-weight: bold\">1536</span>, <span style=\"color: #0000ff; text-decoration-color: #0000ff\">bias</span>=<span style=\"color: #ff0000; text-decoration-color: #ff0000; font-style: italic\">False</span><span style=\"color: #ff00ff; text-decoration-color: #ff00ff\">)</span>\n",
              "          <span style=\"color: #ff00ff; text-decoration-color: #ff00ff\">(</span>act_fn<span style=\"color: #ff00ff; text-decoration-color: #ff00ff\">)</span>: <span style=\"color: #800080; text-decoration-color: #800080; font-weight: bold\">GELU</span><span style=\"color: #ff00ff; text-decoration-color: #ff00ff\">(</span><span style=\"color: #0000ff; text-decoration-color: #0000ff\">approximate</span>=<span style=\"color: #008000; text-decoration-color: #008000\">'none'</span><span style=\"color: #ff00ff; text-decoration-color: #ff00ff\">)</span>\n",
              "          <span style=\"color: #ff00ff; text-decoration-color: #ff00ff\">(</span>c_proj<span style=\"color: #ff00ff; text-decoration-color: #ff00ff\">)</span>: <span style=\"color: #800080; text-decoration-color: #800080; font-weight: bold\">Linear</span><span style=\"color: #ff00ff; text-decoration-color: #ff00ff\">(</span><span style=\"color: #0000ff; text-decoration-color: #0000ff\">in_features</span>=<span style=\"color: #008080; text-decoration-color: #008080; font-weight: bold\">1536</span>, <span style=\"color: #0000ff; text-decoration-color: #0000ff\">out_features</span>=<span style=\"color: #008080; text-decoration-color: #008080; font-weight: bold\">384</span>, <span style=\"color: #0000ff; text-decoration-color: #0000ff\">bias</span>=<span style=\"color: #ff0000; text-decoration-color: #ff0000; font-style: italic\">False</span><span style=\"color: #ff00ff; text-decoration-color: #ff00ff\">)</span>\n",
              "          <span style=\"color: #ff00ff; text-decoration-color: #ff00ff\">(</span>dropout<span style=\"color: #ff00ff; text-decoration-color: #ff00ff\">)</span>: <span style=\"color: #800080; text-decoration-color: #800080; font-weight: bold\">Dropout</span><span style=\"color: #ff00ff; text-decoration-color: #ff00ff\">(</span><span style=\"color: #0000ff; text-decoration-color: #0000ff\">p</span>=<span style=\"color: #008080; text-decoration-color: #008080; font-weight: bold\">0.2</span>, <span style=\"color: #0000ff; text-decoration-color: #0000ff\">inplace</span>=<span style=\"color: #ff0000; text-decoration-color: #ff0000; font-style: italic\">False</span><span style=\"color: #ff00ff; text-decoration-color: #ff00ff\">)</span>\n",
              "        <span style=\"color: #ff00ff; text-decoration-color: #ff00ff\">)</span>\n",
              "      <span style=\"color: #ff00ff; text-decoration-color: #ff00ff\">)</span>\n",
              "    <span style=\"color: #ff00ff; text-decoration-color: #ff00ff\">)</span>\n",
              "    <span style=\"color: #ff00ff; text-decoration-color: #ff00ff\">(</span>ln_f<span style=\"color: #ff00ff; text-decoration-color: #ff00ff\">)</span>: <span style=\"color: #800080; text-decoration-color: #800080; font-weight: bold\">LayerNorm</span><span style=\"color: #ff00ff; text-decoration-color: #ff00ff\">()</span>\n",
              "  <span style=\"color: #ff00ff; text-decoration-color: #ff00ff\">)</span>\n",
              "  <span style=\"color: #ff00ff; text-decoration-color: #ff00ff\">(</span>lm_head<span style=\"color: #ff00ff; text-decoration-color: #ff00ff\">)</span>: <span style=\"color: #800080; text-decoration-color: #800080; font-weight: bold\">Linear</span><span style=\"color: #ff00ff; text-decoration-color: #ff00ff\">(</span><span style=\"color: #0000ff; text-decoration-color: #0000ff\">in_features</span>=<span style=\"color: #008080; text-decoration-color: #008080; font-weight: bold\">384</span>, <span style=\"color: #0000ff; text-decoration-color: #0000ff\">out_features</span>=<span style=\"color: #008080; text-decoration-color: #008080; font-weight: bold\">65</span>, <span style=\"color: #0000ff; text-decoration-color: #0000ff\">bias</span>=<span style=\"color: #ff0000; text-decoration-color: #ff0000; font-style: italic\">False</span><span style=\"color: #ff00ff; text-decoration-color: #ff00ff\">)</span>\n",
              "<span style=\"color: #ff00ff; text-decoration-color: #ff00ff\">)</span>\n",
              "</pre>"
            ]
          }
        },
        {
          "output_type": "display_data",
          "metadata": {},
          "data": {
            "text/html": [
              "<pre style=\"white-space:pre;overflow-x:auto;line-height:normal;font-family:Menlo,'DejaVu Sans Mono',consolas,'Courier New',monospace\">[<span style=\"color: #7f7f7f; text-decoration-color: #7f7f7f\">2025-07-23 08:57:09,154125</span>][<span style=\"color: #008000; text-decoration-color: #008000\">I</span>][<span style=\"color: #008080; text-decoration-color: #008080; font-style: italic\">wordplay</span>/<span style=\"color: #000080; text-decoration-color: #000080\">trainer</span><span style=\"color: #0000ff; text-decoration-color: #0000ff\">:</span><span style=\"color: #800080; text-decoration-color: #800080\">348</span>]<span style=\"color: #c0c0c0; text-decoration-color: #c0c0c0\"> </span>• self.<span style=\"color: #0000ff; text-decoration-color: #0000ff\">grad_scaler</span>=<span style=\"color: #800080; text-decoration-color: #800080; font-style: italic\">None</span>\n",
              "</pre>"
            ]
          }
        },
        {
          "output_type": "display_data",
          "metadata": {},
          "data": {
            "text/html": [
              "<pre style=\"white-space:pre;overflow-x:auto;line-height:normal;font-family:Menlo,'DejaVu Sans Mono',consolas,'Courier New',monospace\">[<span style=\"color: #7f7f7f; text-decoration-color: #7f7f7f\">2025-07-23 08:57:09,154879</span>][<span style=\"color: #008000; text-decoration-color: #008000\">I</span>][<span style=\"color: #008080; text-decoration-color: #008080; font-style: italic\">wordplay</span>/<span style=\"color: #000080; text-decoration-color: #000080\">trainer</span><span style=\"color: #0000ff; text-decoration-color: #0000ff\">:</span><span style=\"color: #800080; text-decoration-color: #800080\">349</span>]<span style=\"color: #c0c0c0; text-decoration-color: #c0c0c0\"> </span>• self.<span style=\"color: #0000ff; text-decoration-color: #0000ff\">model_engine</span>=<span style=\"color: #800080; text-decoration-color: #800080; font-weight: bold\">GPT</span><span style=\"color: #ff00ff; text-decoration-color: #ff00ff\">(</span>\n",
              "  <span style=\"color: #ff00ff; text-decoration-color: #ff00ff\">(</span>transformer<span style=\"color: #ff00ff; text-decoration-color: #ff00ff\">)</span>: <span style=\"color: #800080; text-decoration-color: #800080; font-weight: bold\">ModuleDict</span><span style=\"color: #ff00ff; text-decoration-color: #ff00ff\">(</span>\n",
              "    <span style=\"color: #ff00ff; text-decoration-color: #ff00ff\">(</span>wte<span style=\"color: #ff00ff; text-decoration-color: #ff00ff\">)</span>: <span style=\"color: #800080; text-decoration-color: #800080; font-weight: bold\">Embedding</span><span style=\"color: #ff00ff; text-decoration-color: #ff00ff\">(</span><span style=\"color: #008080; text-decoration-color: #008080; font-weight: bold\">65</span>, <span style=\"color: #008080; text-decoration-color: #008080; font-weight: bold\">384</span><span style=\"color: #ff00ff; text-decoration-color: #ff00ff\">)</span>\n",
              "    <span style=\"color: #ff00ff; text-decoration-color: #ff00ff\">(</span>wpe<span style=\"color: #ff00ff; text-decoration-color: #ff00ff\">)</span>: <span style=\"color: #800080; text-decoration-color: #800080; font-weight: bold\">Embedding</span><span style=\"color: #ff00ff; text-decoration-color: #ff00ff\">(</span><span style=\"color: #008080; text-decoration-color: #008080; font-weight: bold\">128</span>, <span style=\"color: #008080; text-decoration-color: #008080; font-weight: bold\">384</span><span style=\"color: #ff00ff; text-decoration-color: #ff00ff\">)</span>\n",
              "    <span style=\"color: #ff00ff; text-decoration-color: #ff00ff\">(</span>drop<span style=\"color: #ff00ff; text-decoration-color: #ff00ff\">)</span>: <span style=\"color: #800080; text-decoration-color: #800080; font-weight: bold\">Dropout</span><span style=\"color: #ff00ff; text-decoration-color: #ff00ff\">(</span><span style=\"color: #0000ff; text-decoration-color: #0000ff\">p</span>=<span style=\"color: #008080; text-decoration-color: #008080; font-weight: bold\">0.2</span>, <span style=\"color: #0000ff; text-decoration-color: #0000ff\">inplace</span>=<span style=\"color: #ff0000; text-decoration-color: #ff0000; font-style: italic\">False</span><span style=\"color: #ff00ff; text-decoration-color: #ff00ff\">)</span>\n",
              "    <span style=\"color: #ff00ff; text-decoration-color: #ff00ff\">(</span>h<span style=\"color: #ff00ff; text-decoration-color: #ff00ff\">)</span>: <span style=\"color: #800080; text-decoration-color: #800080; font-weight: bold\">ModuleList</span><span style=\"color: #ff00ff; text-decoration-color: #ff00ff\">(</span>\n",
              "      <span style=\"color: #ff00ff; text-decoration-color: #ff00ff\">(</span><span style=\"color: #008080; text-decoration-color: #008080; font-weight: bold\">0</span>-<span style=\"color: #008080; text-decoration-color: #008080; font-weight: bold\">5</span><span style=\"color: #ff00ff; text-decoration-color: #ff00ff\">)</span>: <span style=\"color: #008080; text-decoration-color: #008080; font-weight: bold\">6</span> x <span style=\"color: #800080; text-decoration-color: #800080; font-weight: bold\">Block</span><span style=\"color: #ff00ff; text-decoration-color: #ff00ff\">(</span>\n",
              "        <span style=\"color: #ff00ff; text-decoration-color: #ff00ff\">(</span>ln_1<span style=\"color: #ff00ff; text-decoration-color: #ff00ff\">)</span>: <span style=\"color: #800080; text-decoration-color: #800080; font-weight: bold\">LayerNorm</span><span style=\"color: #ff00ff; text-decoration-color: #ff00ff\">()</span>\n",
              "        <span style=\"color: #ff00ff; text-decoration-color: #ff00ff\">(</span>attn<span style=\"color: #ff00ff; text-decoration-color: #ff00ff\">)</span>: <span style=\"color: #800080; text-decoration-color: #800080; font-weight: bold\">CausalSelfAttention</span><span style=\"color: #ff00ff; text-decoration-color: #ff00ff\">(</span>\n",
              "          <span style=\"color: #ff00ff; text-decoration-color: #ff00ff\">(</span>c_attn<span style=\"color: #ff00ff; text-decoration-color: #ff00ff\">)</span>: <span style=\"color: #800080; text-decoration-color: #800080; font-weight: bold\">Linear</span><span style=\"color: #ff00ff; text-decoration-color: #ff00ff\">(</span><span style=\"color: #0000ff; text-decoration-color: #0000ff\">in_features</span>=<span style=\"color: #008080; text-decoration-color: #008080; font-weight: bold\">384</span>, <span style=\"color: #0000ff; text-decoration-color: #0000ff\">out_features</span>=<span style=\"color: #008080; text-decoration-color: #008080; font-weight: bold\">1152</span>, <span style=\"color: #0000ff; text-decoration-color: #0000ff\">bias</span>=<span style=\"color: #ff0000; text-decoration-color: #ff0000; font-style: italic\">False</span><span style=\"color: #ff00ff; text-decoration-color: #ff00ff\">)</span>\n",
              "          <span style=\"color: #ff00ff; text-decoration-color: #ff00ff\">(</span>c_proj<span style=\"color: #ff00ff; text-decoration-color: #ff00ff\">)</span>: <span style=\"color: #800080; text-decoration-color: #800080; font-weight: bold\">Linear</span><span style=\"color: #ff00ff; text-decoration-color: #ff00ff\">(</span><span style=\"color: #0000ff; text-decoration-color: #0000ff\">in_features</span>=<span style=\"color: #008080; text-decoration-color: #008080; font-weight: bold\">384</span>, <span style=\"color: #0000ff; text-decoration-color: #0000ff\">out_features</span>=<span style=\"color: #008080; text-decoration-color: #008080; font-weight: bold\">384</span>, <span style=\"color: #0000ff; text-decoration-color: #0000ff\">bias</span>=<span style=\"color: #ff0000; text-decoration-color: #ff0000; font-style: italic\">False</span><span style=\"color: #ff00ff; text-decoration-color: #ff00ff\">)</span>\n",
              "          <span style=\"color: #ff00ff; text-decoration-color: #ff00ff\">(</span>attn_dropout<span style=\"color: #ff00ff; text-decoration-color: #ff00ff\">)</span>: <span style=\"color: #800080; text-decoration-color: #800080; font-weight: bold\">Dropout</span><span style=\"color: #ff00ff; text-decoration-color: #ff00ff\">(</span><span style=\"color: #0000ff; text-decoration-color: #0000ff\">p</span>=<span style=\"color: #008080; text-decoration-color: #008080; font-weight: bold\">0.2</span>, <span style=\"color: #0000ff; text-decoration-color: #0000ff\">inplace</span>=<span style=\"color: #ff0000; text-decoration-color: #ff0000; font-style: italic\">False</span><span style=\"color: #ff00ff; text-decoration-color: #ff00ff\">)</span>\n",
              "          <span style=\"color: #ff00ff; text-decoration-color: #ff00ff\">(</span>resid_dropout<span style=\"color: #ff00ff; text-decoration-color: #ff00ff\">)</span>: <span style=\"color: #800080; text-decoration-color: #800080; font-weight: bold\">Dropout</span><span style=\"color: #ff00ff; text-decoration-color: #ff00ff\">(</span><span style=\"color: #0000ff; text-decoration-color: #0000ff\">p</span>=<span style=\"color: #008080; text-decoration-color: #008080; font-weight: bold\">0.2</span>, <span style=\"color: #0000ff; text-decoration-color: #0000ff\">inplace</span>=<span style=\"color: #ff0000; text-decoration-color: #ff0000; font-style: italic\">False</span><span style=\"color: #ff00ff; text-decoration-color: #ff00ff\">)</span>\n",
              "        <span style=\"color: #ff00ff; text-decoration-color: #ff00ff\">)</span>\n",
              "        <span style=\"color: #ff00ff; text-decoration-color: #ff00ff\">(</span>ln_2<span style=\"color: #ff00ff; text-decoration-color: #ff00ff\">)</span>: <span style=\"color: #800080; text-decoration-color: #800080; font-weight: bold\">LayerNorm</span><span style=\"color: #ff00ff; text-decoration-color: #ff00ff\">()</span>\n",
              "        <span style=\"color: #ff00ff; text-decoration-color: #ff00ff\">(</span>mlp<span style=\"color: #ff00ff; text-decoration-color: #ff00ff\">)</span>: <span style=\"color: #800080; text-decoration-color: #800080; font-weight: bold\">MLP</span><span style=\"color: #ff00ff; text-decoration-color: #ff00ff\">(</span>\n",
              "          <span style=\"color: #ff00ff; text-decoration-color: #ff00ff\">(</span>c_fc<span style=\"color: #ff00ff; text-decoration-color: #ff00ff\">)</span>: <span style=\"color: #800080; text-decoration-color: #800080; font-weight: bold\">Linear</span><span style=\"color: #ff00ff; text-decoration-color: #ff00ff\">(</span><span style=\"color: #0000ff; text-decoration-color: #0000ff\">in_features</span>=<span style=\"color: #008080; text-decoration-color: #008080; font-weight: bold\">384</span>, <span style=\"color: #0000ff; text-decoration-color: #0000ff\">out_features</span>=<span style=\"color: #008080; text-decoration-color: #008080; font-weight: bold\">1536</span>, <span style=\"color: #0000ff; text-decoration-color: #0000ff\">bias</span>=<span style=\"color: #ff0000; text-decoration-color: #ff0000; font-style: italic\">False</span><span style=\"color: #ff00ff; text-decoration-color: #ff00ff\">)</span>\n",
              "          <span style=\"color: #ff00ff; text-decoration-color: #ff00ff\">(</span>act_fn<span style=\"color: #ff00ff; text-decoration-color: #ff00ff\">)</span>: <span style=\"color: #800080; text-decoration-color: #800080; font-weight: bold\">GELU</span><span style=\"color: #ff00ff; text-decoration-color: #ff00ff\">(</span><span style=\"color: #0000ff; text-decoration-color: #0000ff\">approximate</span>=<span style=\"color: #008000; text-decoration-color: #008000\">'none'</span><span style=\"color: #ff00ff; text-decoration-color: #ff00ff\">)</span>\n",
              "          <span style=\"color: #ff00ff; text-decoration-color: #ff00ff\">(</span>c_proj<span style=\"color: #ff00ff; text-decoration-color: #ff00ff\">)</span>: <span style=\"color: #800080; text-decoration-color: #800080; font-weight: bold\">Linear</span><span style=\"color: #ff00ff; text-decoration-color: #ff00ff\">(</span><span style=\"color: #0000ff; text-decoration-color: #0000ff\">in_features</span>=<span style=\"color: #008080; text-decoration-color: #008080; font-weight: bold\">1536</span>, <span style=\"color: #0000ff; text-decoration-color: #0000ff\">out_features</span>=<span style=\"color: #008080; text-decoration-color: #008080; font-weight: bold\">384</span>, <span style=\"color: #0000ff; text-decoration-color: #0000ff\">bias</span>=<span style=\"color: #ff0000; text-decoration-color: #ff0000; font-style: italic\">False</span><span style=\"color: #ff00ff; text-decoration-color: #ff00ff\">)</span>\n",
              "          <span style=\"color: #ff00ff; text-decoration-color: #ff00ff\">(</span>dropout<span style=\"color: #ff00ff; text-decoration-color: #ff00ff\">)</span>: <span style=\"color: #800080; text-decoration-color: #800080; font-weight: bold\">Dropout</span><span style=\"color: #ff00ff; text-decoration-color: #ff00ff\">(</span><span style=\"color: #0000ff; text-decoration-color: #0000ff\">p</span>=<span style=\"color: #008080; text-decoration-color: #008080; font-weight: bold\">0.2</span>, <span style=\"color: #0000ff; text-decoration-color: #0000ff\">inplace</span>=<span style=\"color: #ff0000; text-decoration-color: #ff0000; font-style: italic\">False</span><span style=\"color: #ff00ff; text-decoration-color: #ff00ff\">)</span>\n",
              "        <span style=\"color: #ff00ff; text-decoration-color: #ff00ff\">)</span>\n",
              "      <span style=\"color: #ff00ff; text-decoration-color: #ff00ff\">)</span>\n",
              "    <span style=\"color: #ff00ff; text-decoration-color: #ff00ff\">)</span>\n",
              "    <span style=\"color: #ff00ff; text-decoration-color: #ff00ff\">(</span>ln_f<span style=\"color: #ff00ff; text-decoration-color: #ff00ff\">)</span>: <span style=\"color: #800080; text-decoration-color: #800080; font-weight: bold\">LayerNorm</span><span style=\"color: #ff00ff; text-decoration-color: #ff00ff\">()</span>\n",
              "  <span style=\"color: #ff00ff; text-decoration-color: #ff00ff\">)</span>\n",
              "  <span style=\"color: #ff00ff; text-decoration-color: #ff00ff\">(</span>lm_head<span style=\"color: #ff00ff; text-decoration-color: #ff00ff\">)</span>: <span style=\"color: #800080; text-decoration-color: #800080; font-weight: bold\">Linear</span><span style=\"color: #ff00ff; text-decoration-color: #ff00ff\">(</span><span style=\"color: #0000ff; text-decoration-color: #0000ff\">in_features</span>=<span style=\"color: #008080; text-decoration-color: #008080; font-weight: bold\">384</span>, <span style=\"color: #0000ff; text-decoration-color: #0000ff\">out_features</span>=<span style=\"color: #008080; text-decoration-color: #008080; font-weight: bold\">65</span>, <span style=\"color: #0000ff; text-decoration-color: #0000ff\">bias</span>=<span style=\"color: #ff0000; text-decoration-color: #ff0000; font-style: italic\">False</span><span style=\"color: #ff00ff; text-decoration-color: #ff00ff\">)</span>\n",
              "<span style=\"color: #ff00ff; text-decoration-color: #ff00ff\">)</span>\n",
              "</pre>"
            ]
          }
        },
        {
          "output_type": "display_data",
          "metadata": {},
          "data": {
            "text/html": [
              "<pre style=\"white-space:pre;overflow-x:auto;line-height:normal;font-family:Menlo,'DejaVu Sans Mono',consolas,'Courier New',monospace\">[<span style=\"color: #7f7f7f; text-decoration-color: #7f7f7f\">2025-07-23 08:57:09,157754</span>][<span style=\"color: #008000; text-decoration-color: #008000\">I</span>][<span style=\"color: #008080; text-decoration-color: #008080; font-style: italic\">wordplay</span>/<span style=\"color: #000080; text-decoration-color: #000080\">trainer</span><span style=\"color: #0000ff; text-decoration-color: #0000ff\">:</span><span style=\"color: #800080; text-decoration-color: #800080\">350</span>]<span style=\"color: #c0c0c0; text-decoration-color: #c0c0c0\"> </span>• self.<span style=\"color: #0000ff; text-decoration-color: #0000ff\">optimizer</span>=<span style=\"color: #800080; text-decoration-color: #800080\">AdamW</span> <span style=\"color: #ff00ff; text-decoration-color: #ff00ff\">(</span>\n",
              "Parameter Group <span style=\"color: #008080; text-decoration-color: #008080; font-weight: bold\">0</span>\n",
              "    amsgrad: <span style=\"color: #ff0000; text-decoration-color: #ff0000; font-style: italic\">False</span>\n",
              "    betas: <span style=\"color: #ff00ff; text-decoration-color: #ff00ff\">(</span><span style=\"color: #008080; text-decoration-color: #008080; font-weight: bold\">0.9</span>, <span style=\"color: #008080; text-decoration-color: #008080; font-weight: bold\">0.99</span><span style=\"color: #ff00ff; text-decoration-color: #ff00ff\">)</span>\n",
              "    capturable: <span style=\"color: #ff0000; text-decoration-color: #ff0000; font-style: italic\">False</span>\n",
              "    decoupled_weight_decay: <span style=\"color: #00ff00; text-decoration-color: #00ff00; font-style: italic\">True</span>\n",
              "    differentiable: <span style=\"color: #ff0000; text-decoration-color: #ff0000; font-style: italic\">False</span>\n",
              "    eps: <span style=\"color: #008080; text-decoration-color: #008080; font-weight: bold\">1e-08</span>\n",
              "    foreach: <span style=\"color: #800080; text-decoration-color: #800080; font-style: italic\">None</span>\n",
              "    fused: <span style=\"color: #800080; text-decoration-color: #800080; font-style: italic\">None</span>\n",
              "    lr: <span style=\"color: #008080; text-decoration-color: #008080; font-weight: bold\">0.001</span>\n",
              "    maximize: <span style=\"color: #ff0000; text-decoration-color: #ff0000; font-style: italic\">False</span>\n",
              "    weight_decay: <span style=\"color: #008080; text-decoration-color: #008080; font-weight: bold\">0.1</span>\n",
              "\n",
              "Parameter Group <span style=\"color: #008080; text-decoration-color: #008080; font-weight: bold\">1</span>\n",
              "    amsgrad: <span style=\"color: #ff0000; text-decoration-color: #ff0000; font-style: italic\">False</span>\n",
              "    betas: <span style=\"color: #ff00ff; text-decoration-color: #ff00ff\">(</span><span style=\"color: #008080; text-decoration-color: #008080; font-weight: bold\">0.9</span>, <span style=\"color: #008080; text-decoration-color: #008080; font-weight: bold\">0.99</span><span style=\"color: #ff00ff; text-decoration-color: #ff00ff\">)</span>\n",
              "    capturable: <span style=\"color: #ff0000; text-decoration-color: #ff0000; font-style: italic\">False</span>\n",
              "    decoupled_weight_decay: <span style=\"color: #00ff00; text-decoration-color: #00ff00; font-style: italic\">True</span>\n",
              "    differentiable: <span style=\"color: #ff0000; text-decoration-color: #ff0000; font-style: italic\">False</span>\n",
              "    eps: <span style=\"color: #008080; text-decoration-color: #008080; font-weight: bold\">1e-08</span>\n",
              "    foreach: <span style=\"color: #800080; text-decoration-color: #800080; font-style: italic\">None</span>\n",
              "    fused: <span style=\"color: #800080; text-decoration-color: #800080; font-style: italic\">None</span>\n",
              "    lr: <span style=\"color: #008080; text-decoration-color: #008080; font-weight: bold\">0.001</span>\n",
              "    maximize: <span style=\"color: #ff0000; text-decoration-color: #ff0000; font-style: italic\">False</span>\n",
              "    weight_decay: <span style=\"color: #008080; text-decoration-color: #008080; font-weight: bold\">0.0</span>\n",
              "<span style=\"color: #ff00ff; text-decoration-color: #ff00ff\">)</span>\n",
              "</pre>"
            ]
          }
        }
      ],
      "source": [
        "trainer = Trainer(config)"
      ],
      "id": "ed489145"
    },
    {
      "cell_type": "markdown",
      "metadata": {},
      "source": [
        "## Prompt (**prior** to training)"
      ],
      "id": "41180ed6-c07e-4148-9180-0e6ecdde21dd"
    },
    {
      "cell_type": "code",
      "execution_count": 6,
      "metadata": {
        "quarto-private-1": {
          "key": "jupyter",
          "value": {
            "outputs_hidden": false,
            "source_hidden": false
          }
        }
      },
      "outputs": [
        {
          "output_type": "display_data",
          "metadata": {},
          "data": {
            "text/html": [
              "<pre style=\"white-space:pre;overflow-x:auto;line-height:normal;font-family:Menlo,'DejaVu Sans Mono',consolas,'Courier New',monospace\">[<span style=\"color: #7f7f7f; text-decoration-color: #7f7f7f\">2025-07-23 08:57:11,482806</span>][<span style=\"color: #008000; text-decoration-color: #008000\">I</span>][<span style=\"color: #008080; text-decoration-color: #008080; font-style: italic\">ipykernel_34035</span>/<span style=\"color: #000080; text-decoration-color: #000080\">3496000222</span><span style=\"color: #0000ff; text-decoration-color: #0000ff\">:</span><span style=\"color: #800080; text-decoration-color: #800080\">9</span><span style=\"color: #0000ff; text-decoration-color: #0000ff\">:</span><span style=\"color: #00ff00; text-decoration-color: #00ff00; font-style: italic\">ezpz.log</span>]<span style=\"color: #c0c0c0; text-decoration-color: #c0c0c0\"> </span><span style=\"color: #ff00ff; text-decoration-color: #ff00ff\">[</span><span style=\"color: #008000; text-decoration-color: #008000\">'prompt'</span><span style=\"color: #ff00ff; text-decoration-color: #ff00ff\">]</span>: <span style=\"color: #008000; text-decoration-color: #008000\">'What is an LLM?'</span>\n",
              "</pre>"
            ]
          }
        },
        {
          "output_type": "display_data",
          "metadata": {},
          "data": {
            "text/html": [
              "<pre style=\"white-space:pre;overflow-x:auto;line-height:normal;font-family:Menlo,'DejaVu Sans Mono',consolas,'Courier New',monospace\">[<span style=\"color: #7f7f7f; text-decoration-color: #7f7f7f\">2025-07-23 08:57:11,483979</span>][<span style=\"color: #008000; text-decoration-color: #008000\">I</span>][<span style=\"color: #008080; text-decoration-color: #008080; font-style: italic\">ipykernel_34035</span>/<span style=\"color: #000080; text-decoration-color: #000080\">3496000222</span><span style=\"color: #0000ff; text-decoration-color: #0000ff\">:</span><span style=\"color: #800080; text-decoration-color: #800080\">10</span><span style=\"color: #0000ff; text-decoration-color: #0000ff\">:</span><span style=\"color: #00ff00; text-decoration-color: #00ff00; font-style: italic\">ezpz.log</span>]<span style=\"color: #c0c0c0; text-decoration-color: #c0c0c0\"> </span><span style=\"color: #ff00ff; text-decoration-color: #ff00ff\">[</span><span style=\"color: #008000; text-decoration-color: #008000\">'response'</span><span style=\"color: #ff00ff; text-decoration-color: #ff00ff\">]</span>:\n",
              "\n",
              "What is an LLM?A,,osy'exx.ff.fpppxv;;'vt3QjYhhvvYAhowQwwQ,eqeqG;X.YqqQSZQWLsyccccj:ZhaooxkkcfkZ\n",
              "ffop- f,hqWl\n",
              "oocpppUqAQ;cc'<span style=\"color: #008000; text-decoration-color: #008000\">'bQqcWAttrqerrwyqqsrqttqYeqWQs'</span>tottcqestbqbbrpWbWYAppppBqfhcqqYqqM?qttqQU'gYe?A..<span style=\"color: #008000; text-decoration-color: #008000\">'S'</span>rtppW'fJf;??qn.pwrrrqqfA;!!A,,,AtqqqqbW;bSoW;;?;;;qQ;;cIA.<span style=\"color: #008000; text-decoration-color: #008000\">'M;'</span>'g\n",
              "</pre>"
            ]
          }
        }
      ],
      "source": [
        "query = \"What is an LLM?\"\n",
        "outputs = trainer.evaluate(\n",
        "    query,\n",
        "    num_samples=1,\n",
        "    max_new_tokens=256,\n",
        "    top_k=16,\n",
        "    display=False\n",
        ")\n",
        "logger.info(f\"['prompt']: '{query}'\")\n",
        "logger.info(\"['response']:\\n\\n\" + fr\"{outputs['0']['raw']}\")"
      ],
      "id": "44cd7dbf"
    },
    {
      "cell_type": "markdown",
      "metadata": {},
      "source": [
        "## Train Model\n",
        "\n",
        "|  name  |        description         |\n",
        "|:------:|:--------------------------:|\n",
        "| `step` |   Current training step    |\n",
        "| `loss` |         Loss value         |\n",
        "|  `dt`  | Time per step (in **ms**)  |\n",
        "| `sps`  |     Samples per second     |\n",
        "| `mtps` |  (million) Tokens per sec  |\n",
        "| `mfu`  | Model Flops utilization[1] |\n",
        "\n",
        "^legend: #tbl-legend\n",
        "\n",
        "[1] in units of A100 `bfloat16` peak FLOPS"
      ],
      "id": "f5aee396-21dd-4f05-8d02-074113728303"
    },
    {
      "cell_type": "code",
      "execution_count": 7,
      "metadata": {
        "quarto-private-1": {
          "key": "jupyter",
          "value": {
            "outputs_hidden": false,
            "source_hidden": false
          }
        }
      },
      "outputs": [
        {
          "output_type": "display_data",
          "metadata": {},
          "data": {
            "text/plain": [
              "'cpu'"
            ]
          }
        }
      ],
      "source": [
        "trainer.config.device_type"
      ],
      "id": "db67bb9c"
    },
    {
      "cell_type": "code",
      "execution_count": 8,
      "metadata": {
        "quarto-private-1": {
          "key": "colab",
          "value": {
            "base_uri": "https://localhost:8080/",
            "height": 449
          }
        }
      },
      "outputs": [
        {
          "output_type": "display_data",
          "metadata": {},
          "data": {
            "text/html": [
              "<pre style=\"white-space:pre;overflow-x:auto;line-height:normal;font-family:Menlo,'DejaVu Sans Mono',consolas,'Courier New',monospace\"><span style=\"color: #800080; text-decoration-color: #800080; font-weight: bold\">GPT</span><span style=\"font-weight: bold\">(</span>\n",
              "  <span style=\"font-weight: bold\">(</span>transformer<span style=\"font-weight: bold\">)</span>: <span style=\"color: #800080; text-decoration-color: #800080; font-weight: bold\">ModuleDict</span><span style=\"font-weight: bold\">(</span>\n",
              "    <span style=\"font-weight: bold\">(</span>wte<span style=\"font-weight: bold\">)</span>: <span style=\"color: #800080; text-decoration-color: #800080; font-weight: bold\">Embedding</span><span style=\"font-weight: bold\">(</span><span style=\"color: #008080; text-decoration-color: #008080; font-weight: bold\">65</span>, <span style=\"color: #008080; text-decoration-color: #008080; font-weight: bold\">384</span><span style=\"font-weight: bold\">)</span>\n",
              "    <span style=\"font-weight: bold\">(</span>wpe<span style=\"font-weight: bold\">)</span>: <span style=\"color: #800080; text-decoration-color: #800080; font-weight: bold\">Embedding</span><span style=\"font-weight: bold\">(</span><span style=\"color: #008080; text-decoration-color: #008080; font-weight: bold\">128</span>, <span style=\"color: #008080; text-decoration-color: #008080; font-weight: bold\">384</span><span style=\"font-weight: bold\">)</span>\n",
              "    <span style=\"font-weight: bold\">(</span>drop<span style=\"font-weight: bold\">)</span>: <span style=\"color: #800080; text-decoration-color: #800080; font-weight: bold\">Dropout</span><span style=\"font-weight: bold\">(</span><span style=\"color: #808000; text-decoration-color: #808000\">p</span>=<span style=\"color: #008080; text-decoration-color: #008080; font-weight: bold\">0.2</span>, <span style=\"color: #808000; text-decoration-color: #808000\">inplace</span>=<span style=\"color: #ff0000; text-decoration-color: #ff0000; font-style: italic\">False</span><span style=\"font-weight: bold\">)</span>\n",
              "    <span style=\"font-weight: bold\">(</span>h<span style=\"font-weight: bold\">)</span>: <span style=\"color: #800080; text-decoration-color: #800080; font-weight: bold\">ModuleList</span><span style=\"font-weight: bold\">(</span>\n",
              "      <span style=\"font-weight: bold\">(</span><span style=\"color: #008080; text-decoration-color: #008080; font-weight: bold\">0</span>-<span style=\"color: #008080; text-decoration-color: #008080; font-weight: bold\">5</span><span style=\"font-weight: bold\">)</span>: <span style=\"color: #008080; text-decoration-color: #008080; font-weight: bold\">6</span> x <span style=\"color: #800080; text-decoration-color: #800080; font-weight: bold\">Block</span><span style=\"font-weight: bold\">(</span>\n",
              "        <span style=\"font-weight: bold\">(</span>ln_1<span style=\"font-weight: bold\">)</span>: <span style=\"color: #800080; text-decoration-color: #800080; font-weight: bold\">LayerNorm</span><span style=\"font-weight: bold\">()</span>\n",
              "        <span style=\"font-weight: bold\">(</span>attn<span style=\"font-weight: bold\">)</span>: <span style=\"color: #800080; text-decoration-color: #800080; font-weight: bold\">CausalSelfAttention</span><span style=\"font-weight: bold\">(</span>\n",
              "          <span style=\"font-weight: bold\">(</span>c_attn<span style=\"font-weight: bold\">)</span>: <span style=\"color: #800080; text-decoration-color: #800080; font-weight: bold\">Linear</span><span style=\"font-weight: bold\">(</span><span style=\"color: #808000; text-decoration-color: #808000\">in_features</span>=<span style=\"color: #008080; text-decoration-color: #008080; font-weight: bold\">384</span>, <span style=\"color: #808000; text-decoration-color: #808000\">out_features</span>=<span style=\"color: #008080; text-decoration-color: #008080; font-weight: bold\">1152</span>, <span style=\"color: #808000; text-decoration-color: #808000\">bias</span>=<span style=\"color: #ff0000; text-decoration-color: #ff0000; font-style: italic\">False</span><span style=\"font-weight: bold\">)</span>\n",
              "          <span style=\"font-weight: bold\">(</span>c_proj<span style=\"font-weight: bold\">)</span>: <span style=\"color: #800080; text-decoration-color: #800080; font-weight: bold\">Linear</span><span style=\"font-weight: bold\">(</span><span style=\"color: #808000; text-decoration-color: #808000\">in_features</span>=<span style=\"color: #008080; text-decoration-color: #008080; font-weight: bold\">384</span>, <span style=\"color: #808000; text-decoration-color: #808000\">out_features</span>=<span style=\"color: #008080; text-decoration-color: #008080; font-weight: bold\">384</span>, <span style=\"color: #808000; text-decoration-color: #808000\">bias</span>=<span style=\"color: #ff0000; text-decoration-color: #ff0000; font-style: italic\">False</span><span style=\"font-weight: bold\">)</span>\n",
              "          <span style=\"font-weight: bold\">(</span>attn_dropout<span style=\"font-weight: bold\">)</span>: <span style=\"color: #800080; text-decoration-color: #800080; font-weight: bold\">Dropout</span><span style=\"font-weight: bold\">(</span><span style=\"color: #808000; text-decoration-color: #808000\">p</span>=<span style=\"color: #008080; text-decoration-color: #008080; font-weight: bold\">0.2</span>, <span style=\"color: #808000; text-decoration-color: #808000\">inplace</span>=<span style=\"color: #ff0000; text-decoration-color: #ff0000; font-style: italic\">False</span><span style=\"font-weight: bold\">)</span>\n",
              "          <span style=\"font-weight: bold\">(</span>resid_dropout<span style=\"font-weight: bold\">)</span>: <span style=\"color: #800080; text-decoration-color: #800080; font-weight: bold\">Dropout</span><span style=\"font-weight: bold\">(</span><span style=\"color: #808000; text-decoration-color: #808000\">p</span>=<span style=\"color: #008080; text-decoration-color: #008080; font-weight: bold\">0.2</span>, <span style=\"color: #808000; text-decoration-color: #808000\">inplace</span>=<span style=\"color: #ff0000; text-decoration-color: #ff0000; font-style: italic\">False</span><span style=\"font-weight: bold\">)</span>\n",
              "        <span style=\"font-weight: bold\">)</span>\n",
              "        <span style=\"font-weight: bold\">(</span>ln_2<span style=\"font-weight: bold\">)</span>: <span style=\"color: #800080; text-decoration-color: #800080; font-weight: bold\">LayerNorm</span><span style=\"font-weight: bold\">()</span>\n",
              "        <span style=\"font-weight: bold\">(</span>mlp<span style=\"font-weight: bold\">)</span>: <span style=\"color: #800080; text-decoration-color: #800080; font-weight: bold\">MLP</span><span style=\"font-weight: bold\">(</span>\n",
              "          <span style=\"font-weight: bold\">(</span>c_fc<span style=\"font-weight: bold\">)</span>: <span style=\"color: #800080; text-decoration-color: #800080; font-weight: bold\">Linear</span><span style=\"font-weight: bold\">(</span><span style=\"color: #808000; text-decoration-color: #808000\">in_features</span>=<span style=\"color: #008080; text-decoration-color: #008080; font-weight: bold\">384</span>, <span style=\"color: #808000; text-decoration-color: #808000\">out_features</span>=<span style=\"color: #008080; text-decoration-color: #008080; font-weight: bold\">1536</span>, <span style=\"color: #808000; text-decoration-color: #808000\">bias</span>=<span style=\"color: #ff0000; text-decoration-color: #ff0000; font-style: italic\">False</span><span style=\"font-weight: bold\">)</span>\n",
              "          <span style=\"font-weight: bold\">(</span>act_fn<span style=\"font-weight: bold\">)</span>: <span style=\"color: #800080; text-decoration-color: #800080; font-weight: bold\">GELU</span><span style=\"font-weight: bold\">(</span><span style=\"color: #808000; text-decoration-color: #808000\">approximate</span>=<span style=\"color: #008000; text-decoration-color: #008000\">'none'</span><span style=\"font-weight: bold\">)</span>\n",
              "          <span style=\"font-weight: bold\">(</span>c_proj<span style=\"font-weight: bold\">)</span>: <span style=\"color: #800080; text-decoration-color: #800080; font-weight: bold\">Linear</span><span style=\"font-weight: bold\">(</span><span style=\"color: #808000; text-decoration-color: #808000\">in_features</span>=<span style=\"color: #008080; text-decoration-color: #008080; font-weight: bold\">1536</span>, <span style=\"color: #808000; text-decoration-color: #808000\">out_features</span>=<span style=\"color: #008080; text-decoration-color: #008080; font-weight: bold\">384</span>, <span style=\"color: #808000; text-decoration-color: #808000\">bias</span>=<span style=\"color: #ff0000; text-decoration-color: #ff0000; font-style: italic\">False</span><span style=\"font-weight: bold\">)</span>\n",
              "          <span style=\"font-weight: bold\">(</span>dropout<span style=\"font-weight: bold\">)</span>: <span style=\"color: #800080; text-decoration-color: #800080; font-weight: bold\">Dropout</span><span style=\"font-weight: bold\">(</span><span style=\"color: #808000; text-decoration-color: #808000\">p</span>=<span style=\"color: #008080; text-decoration-color: #008080; font-weight: bold\">0.2</span>, <span style=\"color: #808000; text-decoration-color: #808000\">inplace</span>=<span style=\"color: #ff0000; text-decoration-color: #ff0000; font-style: italic\">False</span><span style=\"font-weight: bold\">)</span>\n",
              "        <span style=\"font-weight: bold\">)</span>\n",
              "      <span style=\"font-weight: bold\">)</span>\n",
              "    <span style=\"font-weight: bold\">)</span>\n",
              "    <span style=\"font-weight: bold\">(</span>ln_f<span style=\"font-weight: bold\">)</span>: <span style=\"color: #800080; text-decoration-color: #800080; font-weight: bold\">LayerNorm</span><span style=\"font-weight: bold\">()</span>\n",
              "  <span style=\"font-weight: bold\">)</span>\n",
              "  <span style=\"font-weight: bold\">(</span>lm_head<span style=\"font-weight: bold\">)</span>: <span style=\"color: #800080; text-decoration-color: #800080; font-weight: bold\">Linear</span><span style=\"font-weight: bold\">(</span><span style=\"color: #808000; text-decoration-color: #808000\">in_features</span>=<span style=\"color: #008080; text-decoration-color: #008080; font-weight: bold\">384</span>, <span style=\"color: #808000; text-decoration-color: #808000\">out_features</span>=<span style=\"color: #008080; text-decoration-color: #008080; font-weight: bold\">65</span>, <span style=\"color: #808000; text-decoration-color: #808000\">bias</span>=<span style=\"color: #ff0000; text-decoration-color: #ff0000; font-style: italic\">False</span><span style=\"font-weight: bold\">)</span>\n",
              "<span style=\"font-weight: bold\">)</span>\n",
              "</pre>"
            ]
          }
        }
      ],
      "source": [
        "from rich import print\n",
        "\n",
        "print(trainer.model)"
      ],
      "id": "de66f9f5"
    },
    {
      "cell_type": "markdown",
      "metadata": {},
      "source": [
        "## (partial) Training:\n",
        "\n",
        "We’ll first train for 500 iterations and then evaluate the models\n",
        "performance on the same prompt:\n",
        "\n",
        "> What is an LLM?"
      ],
      "id": "f8ea93ae-c1e0-4c60-ba42-4345fcd67ee8"
    },
    {
      "cell_type": "code",
      "execution_count": 9,
      "metadata": {
        "quarto-private-1": {
          "key": "jupyter",
          "value": {
            "outputs_hidden": false,
            "source_hidden": false
          }
        }
      },
      "outputs": [
        {
          "output_type": "display_data",
          "metadata": {},
          "data": {
            "text/html": [
              "<pre style=\"white-space:pre;overflow-x:auto;line-height:normal;font-family:Menlo,'DejaVu Sans Mono',consolas,'Courier New',monospace\"><span style=\"font-style: italic\">                Training Legend                 </span>\n",
              "┏━━━━━━━━━━━━━┳━━━━━━━━━━━━━━━━━━━━━━━━━━━━━━━━┓\n",
              "┃<span style=\"font-weight: bold\">        abbr </span>┃<span style=\"font-weight: bold\"> desc                           </span>┃\n",
              "┡━━━━━━━━━━━━━╇━━━━━━━━━━━━━━━━━━━━━━━━━━━━━━━━┩\n",
              "│<span style=\"color: #008000; text-decoration-color: #008000\">        step </span>│ Current training iteration     │\n",
              "│<span style=\"color: #008000; text-decoration-color: #008000\">        loss </span>│ Loss value                     │\n",
              "│<span style=\"color: #008000; text-decoration-color: #008000\">          dt </span>│ Elapsed time per training step │\n",
              "│<span style=\"color: #008000; text-decoration-color: #008000\">         dtf </span>│ Elapsed time per forward step  │\n",
              "│<span style=\"color: #008000; text-decoration-color: #008000\">         dtb </span>│ Elapsed time per backward step │\n",
              "│<span style=\"color: #008000; text-decoration-color: #008000\">         sps </span>│ Samples per second             │\n",
              "│<span style=\"color: #008000; text-decoration-color: #008000\"> sps_per_gpu </span>│ Samples per second (per GPU)   │\n",
              "│<span style=\"color: #008000; text-decoration-color: #008000\">         tps </span>│ Tokens per second              │\n",
              "│<span style=\"color: #008000; text-decoration-color: #008000\"> tps_per_gpu </span>│ Tokens per second (per GPU)    │\n",
              "│<span style=\"color: #008000; text-decoration-color: #008000\">         mfu </span>│ Model flops utilization        │\n",
              "└─────────────┴────────────────────────────────┘\n",
              "</pre>"
            ]
          }
        },
        {
          "output_type": "display_data",
          "metadata": {},
          "data": {
            "text/html": [
              "<pre style=\"white-space:pre;overflow-x:auto;line-height:normal;font-family:Menlo,'DejaVu Sans Mono',consolas,'Courier New',monospace\">[<span style=\"color: #7f7f7f; text-decoration-color: #7f7f7f\">2025-07-23 08:57:13,916810</span>][<span style=\"color: #008000; text-decoration-color: #008000\">I</span>][<span style=\"color: #008080; text-decoration-color: #008080; font-style: italic\">wordplay</span>/<span style=\"color: #000080; text-decoration-color: #000080\">trainer</span><span style=\"color: #0000ff; text-decoration-color: #0000ff\">:</span><span style=\"color: #800080; text-decoration-color: #800080\">790</span>]<span style=\"color: #c0c0c0; text-decoration-color: #c0c0c0\"> </span><span style=\"color: #ff00ff; text-decoration-color: #ff00ff\">[</span><span style=\"color: #008000; text-decoration-color: #008000\">'prompt'</span><span style=\"color: #ff00ff; text-decoration-color: #ff00ff\">]</span>: <span style=\"color: #008000; text-decoration-color: #008000\">'What is an LLM?'</span>\n",
              "</pre>"
            ]
          }
        },
        {
          "output_type": "display_data",
          "metadata": {},
          "data": {
            "text/html": [
              "<pre style=\"white-space:pre;overflow-x:auto;line-height:normal;font-family:Menlo,'DejaVu Sans Mono',consolas,'Courier New',monospace\">[<span style=\"color: #7f7f7f; text-decoration-color: #7f7f7f\">2025-07-23 08:57:13,917750</span>][<span style=\"color: #008000; text-decoration-color: #008000\">I</span>][<span style=\"color: #008080; text-decoration-color: #008080; font-style: italic\">wordplay</span>/<span style=\"color: #000080; text-decoration-color: #000080\">trainer</span><span style=\"color: #0000ff; text-decoration-color: #0000ff\">:</span><span style=\"color: #800080; text-decoration-color: #800080\">794</span>]<span style=\"color: #c0c0c0; text-decoration-color: #c0c0c0\"> </span><span style=\"color: #ff00ff; text-decoration-color: #ff00ff\">[</span><span style=\"color: #008000; text-decoration-color: #008000\">'response'</span><span style=\"color: #ff00ff; text-decoration-color: #ff00ff\">]</span>:\n",
              "\n",
              "What is an LLM?wCw'.AAAfxo..<span style=\"color: #008000; text-decoration-color: #008000\">'yfAQfppyybvFYerr.MfYZAcLyQQCkkexx-3lllrpMqxkko-rZx3b'</span><span style=\"color: #008080; text-decoration-color: #008080; font-weight: bold\">3j</span>-ffSSoqq3hhdf'Q'<span style=\"color: #008000; text-decoration-color: #008000\">'aq'</span>wqqsoKZb'ec3ZAAA;;o,qff..<span style=\"color: #008000; text-decoration-color: #008000\">'fArttgbYtturcbcSYrS-Fff'</span>wwwerwPgJ;.e;yY-SpuyeexqYqgQtpMSYqYgbtQqq'<span style=\"color: #008000; text-decoration-color: #008000\">''</span>;pfsw,<span style=\"color: #008000; text-decoration-color: #008000\">';oA;qqeqcckSAo,,rooMgyQha'''</span>fAA..gg;;'ggtSvrupptkeweqqcqqkk-SvYYIv\n",
              "</pre>"
            ]
          }
        },
        {
          "output_type": "display_data",
          "metadata": {},
          "data": {
            "text/html": [
              "<pre style=\"white-space:pre;overflow-x:auto;line-height:normal;font-family:Menlo,'DejaVu Sans Mono',consolas,'Courier New',monospace\">[<span style=\"color: #7f7f7f; text-decoration-color: #7f7f7f\">2025-07-23 08:57:18,166363</span>][<span style=\"color: #008000; text-decoration-color: #008000\">I</span>][<span style=\"color: #008080; text-decoration-color: #008080; font-style: italic\">wordplay</span>/<span style=\"color: #000080; text-decoration-color: #000080\">trainer</span><span style=\"color: #0000ff; text-decoration-color: #0000ff\">:</span><span style=\"color: #800080; text-decoration-color: #800080\">850</span>]<span style=\"color: #c0c0c0; text-decoration-color: #c0c0c0\"> </span><span style=\"color: #0000ff; text-decoration-color: #0000ff\">step</span>=<span style=\"color: #008080; text-decoration-color: #008080; font-weight: bold\">10</span> <span style=\"color: #0000ff; text-decoration-color: #0000ff\">loss</span>=<span style=\"color: #008080; text-decoration-color: #008080; font-weight: bold\">4.28757</span> <span style=\"color: #0000ff; text-decoration-color: #0000ff\">dt</span>=<span style=\"color: #008080; text-decoration-color: #008080; font-weight: bold\">0.0180821</span> <span style=\"color: #0000ff; text-decoration-color: #0000ff\">dtf</span>=<span style=\"color: #008080; text-decoration-color: #008080; font-weight: bold\">0.0177301</span> <span style=\"color: #0000ff; text-decoration-color: #0000ff\">dtb</span>=<span style=\"color: #008080; text-decoration-color: #008080; font-weight: bold\">0.000160959</span> <span style=\"color: #0000ff; text-decoration-color: #0000ff\">sps</span>=<span style=\"color: #008080; text-decoration-color: #008080; font-weight: bold\">55.3034</span> <span style=\"color: #0000ff; text-decoration-color: #0000ff\">sps_per_gpu</span>=<span style=\"color: #008080; text-decoration-color: #008080; font-weight: bold\">55.3034</span> <span style=\"color: #0000ff; text-decoration-color: #0000ff\">tps</span>=<span style=\"color: #008080; text-decoration-color: #008080; font-weight: bold\">7078.83</span> <span style=\"color: #0000ff; text-decoration-color: #0000ff\">tps_per_gpu</span>=<span style=\"color: #008080; text-decoration-color: #008080; font-weight: bold\">7078.83</span> <span style=\"color: #0000ff; text-decoration-color: #0000ff\">mfu</span>=<span style=\"color: #008080; text-decoration-color: #008080; font-weight: bold\">0.152965</span>\n",
              "</pre>"
            ]
          }
        },
        {
          "output_type": "display_data",
          "metadata": {},
          "data": {
            "text/html": [
              "<pre style=\"white-space:pre;overflow-x:auto;line-height:normal;font-family:Menlo,'DejaVu Sans Mono',consolas,'Courier New',monospace\">[<span style=\"color: #7f7f7f; text-decoration-color: #7f7f7f\">2025-07-23 08:57:18,353237</span>][<span style=\"color: #008000; text-decoration-color: #008000\">I</span>][<span style=\"color: #008080; text-decoration-color: #008080; font-style: italic\">wordplay</span>/<span style=\"color: #000080; text-decoration-color: #000080\">trainer</span><span style=\"color: #0000ff; text-decoration-color: #0000ff\">:</span><span style=\"color: #800080; text-decoration-color: #800080\">850</span>]<span style=\"color: #c0c0c0; text-decoration-color: #c0c0c0\"> </span><span style=\"color: #0000ff; text-decoration-color: #0000ff\">step</span>=<span style=\"color: #008080; text-decoration-color: #008080; font-weight: bold\">20</span> <span style=\"color: #0000ff; text-decoration-color: #0000ff\">loss</span>=<span style=\"color: #008080; text-decoration-color: #008080; font-weight: bold\">4.28569</span> <span style=\"color: #0000ff; text-decoration-color: #0000ff\">dt</span>=<span style=\"color: #008080; text-decoration-color: #008080; font-weight: bold\">0.0179544</span> <span style=\"color: #0000ff; text-decoration-color: #0000ff\">dtf</span>=<span style=\"color: #008080; text-decoration-color: #008080; font-weight: bold\">0.0175802</span> <span style=\"color: #0000ff; text-decoration-color: #0000ff\">dtb</span>=<span style=\"color: #008080; text-decoration-color: #008080; font-weight: bold\">0.000170584</span> <span style=\"color: #0000ff; text-decoration-color: #0000ff\">sps</span>=<span style=\"color: #008080; text-decoration-color: #008080; font-weight: bold\">55.6966</span> <span style=\"color: #0000ff; text-decoration-color: #0000ff\">sps_per_gpu</span>=<span style=\"color: #008080; text-decoration-color: #008080; font-weight: bold\">55.6966</span> <span style=\"color: #0000ff; text-decoration-color: #0000ff\">tps</span>=<span style=\"color: #008080; text-decoration-color: #008080; font-weight: bold\">7129.16</span> <span style=\"color: #0000ff; text-decoration-color: #0000ff\">tps_per_gpu</span>=<span style=\"color: #008080; text-decoration-color: #008080; font-weight: bold\">7129.16</span> <span style=\"color: #0000ff; text-decoration-color: #0000ff\">mfu</span>=<span style=\"color: #008080; text-decoration-color: #008080; font-weight: bold\">0.153074</span>\n",
              "</pre>"
            ]
          }
        },
        {
          "output_type": "display_data",
          "metadata": {},
          "data": {
            "text/html": [
              "<pre style=\"white-space:pre;overflow-x:auto;line-height:normal;font-family:Menlo,'DejaVu Sans Mono',consolas,'Courier New',monospace\">[<span style=\"color: #7f7f7f; text-decoration-color: #7f7f7f\">2025-07-23 08:57:18,539156</span>][<span style=\"color: #008000; text-decoration-color: #008000\">I</span>][<span style=\"color: #008080; text-decoration-color: #008080; font-style: italic\">wordplay</span>/<span style=\"color: #000080; text-decoration-color: #000080\">trainer</span><span style=\"color: #0000ff; text-decoration-color: #0000ff\">:</span><span style=\"color: #800080; text-decoration-color: #800080\">850</span>]<span style=\"color: #c0c0c0; text-decoration-color: #c0c0c0\"> </span><span style=\"color: #0000ff; text-decoration-color: #0000ff\">step</span>=<span style=\"color: #008080; text-decoration-color: #008080; font-weight: bold\">30</span> <span style=\"color: #0000ff; text-decoration-color: #0000ff\">loss</span>=<span style=\"color: #008080; text-decoration-color: #008080; font-weight: bold\">4.19012</span> <span style=\"color: #0000ff; text-decoration-color: #0000ff\">dt</span>=<span style=\"color: #008080; text-decoration-color: #008080; font-weight: bold\">0.0191899</span> <span style=\"color: #0000ff; text-decoration-color: #0000ff\">dtf</span>=<span style=\"color: #008080; text-decoration-color: #008080; font-weight: bold\">0.0188364</span> <span style=\"color: #0000ff; text-decoration-color: #0000ff\">dtb</span>=<span style=\"color: #008080; text-decoration-color: #008080; font-weight: bold\">0.000123625</span> <span style=\"color: #0000ff; text-decoration-color: #0000ff\">sps</span>=<span style=\"color: #008080; text-decoration-color: #008080; font-weight: bold\">52.1108</span> <span style=\"color: #0000ff; text-decoration-color: #0000ff\">sps_per_gpu</span>=<span style=\"color: #008080; text-decoration-color: #008080; font-weight: bold\">52.1108</span> <span style=\"color: #0000ff; text-decoration-color: #0000ff\">tps</span>=<span style=\"color: #008080; text-decoration-color: #008080; font-weight: bold\">6670.18</span> <span style=\"color: #0000ff; text-decoration-color: #0000ff\">tps_per_gpu</span>=<span style=\"color: #008080; text-decoration-color: #008080; font-weight: bold\">6670.18</span> <span style=\"color: #0000ff; text-decoration-color: #0000ff\">mfu</span>=<span style=\"color: #008080; text-decoration-color: #008080; font-weight: bold\">0.15218</span>\n",
              "</pre>"
            ]
          }
        },
        {
          "output_type": "display_data",
          "metadata": {},
          "data": {
            "text/html": [
              "<pre style=\"white-space:pre;overflow-x:auto;line-height:normal;font-family:Menlo,'DejaVu Sans Mono',consolas,'Courier New',monospace\">[<span style=\"color: #7f7f7f; text-decoration-color: #7f7f7f\">2025-07-23 08:57:18,728207</span>][<span style=\"color: #008000; text-decoration-color: #008000\">I</span>][<span style=\"color: #008080; text-decoration-color: #008080; font-style: italic\">wordplay</span>/<span style=\"color: #000080; text-decoration-color: #000080\">trainer</span><span style=\"color: #0000ff; text-decoration-color: #0000ff\">:</span><span style=\"color: #800080; text-decoration-color: #800080\">850</span>]<span style=\"color: #c0c0c0; text-decoration-color: #c0c0c0\"> </span><span style=\"color: #0000ff; text-decoration-color: #0000ff\">step</span>=<span style=\"color: #008080; text-decoration-color: #008080; font-weight: bold\">40</span> <span style=\"color: #0000ff; text-decoration-color: #0000ff\">loss</span>=<span style=\"color: #008080; text-decoration-color: #008080; font-weight: bold\">4.26634</span> <span style=\"color: #0000ff; text-decoration-color: #0000ff\">dt</span>=<span style=\"color: #008080; text-decoration-color: #008080; font-weight: bold\">0.018206</span> <span style=\"color: #0000ff; text-decoration-color: #0000ff\">dtf</span>=<span style=\"color: #008080; text-decoration-color: #008080; font-weight: bold\">0.01786</span> <span style=\"color: #0000ff; text-decoration-color: #0000ff\">dtb</span>=<span style=\"color: #008080; text-decoration-color: #008080; font-weight: bold\">0.00013275</span> <span style=\"color: #0000ff; text-decoration-color: #0000ff\">sps</span>=<span style=\"color: #008080; text-decoration-color: #008080; font-weight: bold\">54.9268</span> <span style=\"color: #0000ff; text-decoration-color: #0000ff\">sps_per_gpu</span>=<span style=\"color: #008080; text-decoration-color: #008080; font-weight: bold\">54.9268</span> <span style=\"color: #0000ff; text-decoration-color: #0000ff\">tps</span>=<span style=\"color: #008080; text-decoration-color: #008080; font-weight: bold\">7030.63</span> <span style=\"color: #0000ff; text-decoration-color: #0000ff\">tps_per_gpu</span>=<span style=\"color: #008080; text-decoration-color: #008080; font-weight: bold\">7030.63</span> <span style=\"color: #0000ff; text-decoration-color: #0000ff\">mfu</span>=<span style=\"color: #008080; text-decoration-color: #008080; font-weight: bold\">0.152155</span>\n",
              "</pre>"
            ]
          }
        },
        {
          "output_type": "display_data",
          "metadata": {},
          "data": {
            "text/html": [
              "<pre style=\"white-space:pre;overflow-x:auto;line-height:normal;font-family:Menlo,'DejaVu Sans Mono',consolas,'Courier New',monospace\">[<span style=\"color: #7f7f7f; text-decoration-color: #7f7f7f\">2025-07-23 08:57:18,914151</span>][<span style=\"color: #008000; text-decoration-color: #008000\">I</span>][<span style=\"color: #008080; text-decoration-color: #008080; font-style: italic\">wordplay</span>/<span style=\"color: #000080; text-decoration-color: #000080\">trainer</span><span style=\"color: #0000ff; text-decoration-color: #0000ff\">:</span><span style=\"color: #800080; text-decoration-color: #800080\">850</span>]<span style=\"color: #c0c0c0; text-decoration-color: #c0c0c0\"> </span><span style=\"color: #0000ff; text-decoration-color: #0000ff\">step</span>=<span style=\"color: #008080; text-decoration-color: #008080; font-weight: bold\">50</span> <span style=\"color: #0000ff; text-decoration-color: #0000ff\">loss</span>=<span style=\"color: #008080; text-decoration-color: #008080; font-weight: bold\">4.22804</span> <span style=\"color: #0000ff; text-decoration-color: #0000ff\">dt</span>=<span style=\"color: #008080; text-decoration-color: #008080; font-weight: bold\">0.0192999</span> <span style=\"color: #0000ff; text-decoration-color: #0000ff\">dtf</span>=<span style=\"color: #008080; text-decoration-color: #008080; font-weight: bold\">0.0189635</span> <span style=\"color: #0000ff; text-decoration-color: #0000ff\">dtb</span>=<span style=\"color: #008080; text-decoration-color: #008080; font-weight: bold\">0.00012775</span> <span style=\"color: #0000ff; text-decoration-color: #0000ff\">sps</span>=<span style=\"color: #008080; text-decoration-color: #008080; font-weight: bold\">51.8137</span> <span style=\"color: #0000ff; text-decoration-color: #0000ff\">sps_per_gpu</span>=<span style=\"color: #008080; text-decoration-color: #008080; font-weight: bold\">51.8137</span> <span style=\"color: #0000ff; text-decoration-color: #0000ff\">tps</span>=<span style=\"color: #008080; text-decoration-color: #008080; font-weight: bold\">6632.15</span> <span style=\"color: #0000ff; text-decoration-color: #0000ff\">tps_per_gpu</span>=<span style=\"color: #008080; text-decoration-color: #008080; font-weight: bold\">6632.15</span> <span style=\"color: #0000ff; text-decoration-color: #0000ff\">mfu</span>=<span style=\"color: #008080; text-decoration-color: #008080; font-weight: bold\">0.151271</span>\n",
              "</pre>"
            ]
          }
        },
        {
          "output_type": "display_data",
          "metadata": {},
          "data": {
            "text/html": [
              "<pre style=\"white-space:pre;overflow-x:auto;line-height:normal;font-family:Menlo,'DejaVu Sans Mono',consolas,'Courier New',monospace\">[<span style=\"color: #7f7f7f; text-decoration-color: #7f7f7f\">2025-07-23 08:57:20,746986</span>][<span style=\"color: #008000; text-decoration-color: #008000\">I</span>][<span style=\"color: #008080; text-decoration-color: #008080; font-style: italic\">wordplay</span>/<span style=\"color: #000080; text-decoration-color: #000080\">trainer</span><span style=\"color: #0000ff; text-decoration-color: #0000ff\">:</span><span style=\"color: #800080; text-decoration-color: #800080\">790</span>]<span style=\"color: #c0c0c0; text-decoration-color: #c0c0c0\"> </span><span style=\"color: #ff00ff; text-decoration-color: #ff00ff\">[</span><span style=\"color: #008000; text-decoration-color: #008000\">'prompt'</span><span style=\"color: #ff00ff; text-decoration-color: #ff00ff\">]</span>: <span style=\"color: #008000; text-decoration-color: #008000\">'What is an LLM?'</span>\n",
              "</pre>"
            ]
          }
        },
        {
          "output_type": "display_data",
          "metadata": {},
          "data": {
            "text/html": [
              "<pre style=\"white-space:pre;overflow-x:auto;line-height:normal;font-family:Menlo,'DejaVu Sans Mono',consolas,'Courier New',monospace\">[<span style=\"color: #7f7f7f; text-decoration-color: #7f7f7f\">2025-07-23 08:57:20,747965</span>][<span style=\"color: #008000; text-decoration-color: #008000\">I</span>][<span style=\"color: #008080; text-decoration-color: #008080; font-style: italic\">wordplay</span>/<span style=\"color: #000080; text-decoration-color: #000080\">trainer</span><span style=\"color: #0000ff; text-decoration-color: #0000ff\">:</span><span style=\"color: #800080; text-decoration-color: #800080\">794</span>]<span style=\"color: #c0c0c0; text-decoration-color: #c0c0c0\"> </span><span style=\"color: #ff00ff; text-decoration-color: #ff00ff\">[</span><span style=\"color: #008000; text-decoration-color: #008000\">'response'</span><span style=\"color: #ff00ff; text-decoration-color: #ff00ff\">]</span>:\n",
              "\n",
              "What is an LLM?fwxx yY'eyffpCx?ZZZ.eevfeesxqQQYoqapxxxsZ\n",
              "vrvb'oZ3qoh33roArW;aafAA'<span style=\"color: #008000; text-decoration-color: #008000\">'f''QYqAob.aqo.Qyyegg'</span>VcqqYbq3AaFskkcAkfvjb'QQtqQfArWA;Qp'k'goWoq;bbrppfQSYy,,,qqqqMsQuAQ'qgoowqqstSpgli-gggggjGG;cttSAA.pYYIoMSYu;QQSv;?gjJf'eQQQ;yg'Mgo-<span style=\"color: #008000; text-decoration-color: #008000\">b';ccIffQSqAA'</span>rqqcII?;;<span style=\"color: #008000; text-decoration-color: #008000\">'ecWWllc;'</span>';\n",
              "</pre>"
            ]
          }
        },
        {
          "output_type": "display_data",
          "metadata": {},
          "data": {
            "text/html": [
              "<pre style=\"white-space:pre;overflow-x:auto;line-height:normal;font-family:Menlo,'DejaVu Sans Mono',consolas,'Courier New',monospace\">[<span style=\"color: #7f7f7f; text-decoration-color: #7f7f7f\">2025-07-23 08:57:23,988965</span>][<span style=\"color: #008000; text-decoration-color: #008000\">I</span>][<span style=\"color: #008080; text-decoration-color: #008080; font-style: italic\">wordplay</span>/<span style=\"color: #000080; text-decoration-color: #000080\">trainer</span><span style=\"color: #0000ff; text-decoration-color: #0000ff\">:</span><span style=\"color: #800080; text-decoration-color: #800080\">733</span>]<span style=\"color: #c0c0c0; text-decoration-color: #c0c0c0\"> </span>Saving checkpoint to: <span style=\"color: #800080; text-decoration-color: #800080\">/Users/samforeman/projects/saforem2/intro-hpc-bootcamp-2025/content/02-llms/</span><span style=\"color: #ff00ff; text-decoration-color: #ff00ff\">7-shakespeare-example</span>\n",
              "</pre>"
            ]
          }
        },
        {
          "output_type": "display_data",
          "metadata": {},
          "data": {
            "text/html": [
              "<pre style=\"white-space:pre;overflow-x:auto;line-height:normal;font-family:Menlo,'DejaVu Sans Mono',consolas,'Courier New',monospace\">[<span style=\"color: #7f7f7f; text-decoration-color: #7f7f7f\">2025-07-23 08:57:23,990020</span>][<span style=\"color: #008000; text-decoration-color: #008000\">I</span>][<span style=\"color: #008080; text-decoration-color: #008080; font-style: italic\">wordplay</span>/<span style=\"color: #000080; text-decoration-color: #000080\">trainer</span><span style=\"color: #0000ff; text-decoration-color: #0000ff\">:</span><span style=\"color: #800080; text-decoration-color: #800080\">734</span>]<span style=\"color: #c0c0c0; text-decoration-color: #c0c0c0\"> </span>Saving model to: <span style=\"color: #800080; text-decoration-color: #800080\">/Users/samforeman/projects/saforem2/intro-hpc-bootcamp-2025/content/02-llms/7-shakespeare-example/</span><span style=\"color: #ff00ff; text-decoration-color: #ff00ff\">model.pth</span>\n",
              "</pre>"
            ]
          }
        },
        {
          "output_type": "display_data",
          "metadata": {},
          "data": {
            "text/html": [
              "<pre style=\"white-space:pre;overflow-x:auto;line-height:normal;font-family:Menlo,'DejaVu Sans Mono',consolas,'Courier New',monospace\">[<span style=\"color: #7f7f7f; text-decoration-color: #7f7f7f\">2025-07-23 08:57:24,075420</span>][<span style=\"color: #008000; text-decoration-color: #008000\">I</span>][<span style=\"color: #008080; text-decoration-color: #008080; font-style: italic\">wordplay</span>/<span style=\"color: #000080; text-decoration-color: #000080\">configs</span><span style=\"color: #0000ff; text-decoration-color: #0000ff\">:</span><span style=\"color: #800080; text-decoration-color: #800080\">141</span>]<span style=\"color: #c0c0c0; text-decoration-color: #c0c0c0\"> </span>Appending <span style=\"color: #800080; text-decoration-color: #800080\">/Users/samforeman/projects/saforem2/intro-hpc-bootcamp-2025/content/02-llms/</span><span style=\"color: #ff00ff; text-decoration-color: #ff00ff\">7-shakespeare-example</span> to <span style=\"color: #800080; text-decoration-color: #800080\">/Users/samforeman/projects/saforem2/wordplay/src/ckpts/</span><span style=\"color: #ff00ff; text-decoration-color: #ff00ff\">checkpoints.log</span>\n",
              "</pre>"
            ]
          }
        },
        {
          "output_type": "display_data",
          "metadata": {},
          "data": {
            "text/html": [
              "<pre style=\"white-space:pre;overflow-x:auto;line-height:normal;font-family:Menlo,'DejaVu Sans Mono',consolas,'Courier New',monospace\">[<span style=\"color: #7f7f7f; text-decoration-color: #7f7f7f\">2025-07-23 08:57:24,260387</span>][<span style=\"color: #008000; text-decoration-color: #008000\">I</span>][<span style=\"color: #008080; text-decoration-color: #008080; font-style: italic\">wordplay</span>/<span style=\"color: #000080; text-decoration-color: #000080\">trainer</span><span style=\"color: #0000ff; text-decoration-color: #0000ff\">:</span><span style=\"color: #800080; text-decoration-color: #800080\">850</span>]<span style=\"color: #c0c0c0; text-decoration-color: #c0c0c0\"> </span><span style=\"color: #0000ff; text-decoration-color: #0000ff\">step</span>=<span style=\"color: #008080; text-decoration-color: #008080; font-weight: bold\">60</span> <span style=\"color: #0000ff; text-decoration-color: #0000ff\">loss</span>=<span style=\"color: #008080; text-decoration-color: #008080; font-weight: bold\">4.20216</span> <span style=\"color: #0000ff; text-decoration-color: #0000ff\">dt</span>=<span style=\"color: #008080; text-decoration-color: #008080; font-weight: bold\">0.0189625</span> <span style=\"color: #0000ff; text-decoration-color: #0000ff\">dtf</span>=<span style=\"color: #008080; text-decoration-color: #008080; font-weight: bold\">0.018582</span> <span style=\"color: #0000ff; text-decoration-color: #0000ff\">dtb</span>=<span style=\"color: #008080; text-decoration-color: #008080; font-weight: bold\">0.000142917</span> <span style=\"color: #0000ff; text-decoration-color: #0000ff\">sps</span>=<span style=\"color: #008080; text-decoration-color: #008080; font-weight: bold\">52.7357</span> <span style=\"color: #0000ff; text-decoration-color: #0000ff\">sps_per_gpu</span>=<span style=\"color: #008080; text-decoration-color: #008080; font-weight: bold\">52.7357</span> <span style=\"color: #0000ff; text-decoration-color: #0000ff\">tps</span>=<span style=\"color: #008080; text-decoration-color: #008080; font-weight: bold\">6750.16</span> <span style=\"color: #0000ff; text-decoration-color: #0000ff\">tps_per_gpu</span>=<span style=\"color: #008080; text-decoration-color: #008080; font-weight: bold\">6750.16</span> <span style=\"color: #0000ff; text-decoration-color: #0000ff\">mfu</span>=<span style=\"color: #008080; text-decoration-color: #008080; font-weight: bold\">0.15073</span>\n",
              "</pre>"
            ]
          }
        },
        {
          "output_type": "display_data",
          "metadata": {},
          "data": {
            "text/html": [
              "<pre style=\"white-space:pre;overflow-x:auto;line-height:normal;font-family:Menlo,'DejaVu Sans Mono',consolas,'Courier New',monospace\">[<span style=\"color: #7f7f7f; text-decoration-color: #7f7f7f\">2025-07-23 08:57:24,449662</span>][<span style=\"color: #008000; text-decoration-color: #008000\">I</span>][<span style=\"color: #008080; text-decoration-color: #008080; font-style: italic\">wordplay</span>/<span style=\"color: #000080; text-decoration-color: #000080\">trainer</span><span style=\"color: #0000ff; text-decoration-color: #0000ff\">:</span><span style=\"color: #800080; text-decoration-color: #800080\">850</span>]<span style=\"color: #c0c0c0; text-decoration-color: #c0c0c0\"> </span><span style=\"color: #0000ff; text-decoration-color: #0000ff\">step</span>=<span style=\"color: #008080; text-decoration-color: #008080; font-weight: bold\">70</span> <span style=\"color: #0000ff; text-decoration-color: #0000ff\">loss</span>=<span style=\"color: #008080; text-decoration-color: #008080; font-weight: bold\">4.20029</span> <span style=\"color: #0000ff; text-decoration-color: #0000ff\">dt</span>=<span style=\"color: #008080; text-decoration-color: #008080; font-weight: bold\">0.0187886</span> <span style=\"color: #0000ff; text-decoration-color: #0000ff\">dtf</span>=<span style=\"color: #008080; text-decoration-color: #008080; font-weight: bold\">0.018406</span> <span style=\"color: #0000ff; text-decoration-color: #0000ff\">dtb</span>=<span style=\"color: #008080; text-decoration-color: #008080; font-weight: bold\">0.000150667</span> <span style=\"color: #0000ff; text-decoration-color: #0000ff\">sps</span>=<span style=\"color: #008080; text-decoration-color: #008080; font-weight: bold\">53.2237</span> <span style=\"color: #0000ff; text-decoration-color: #0000ff\">sps_per_gpu</span>=<span style=\"color: #008080; text-decoration-color: #008080; font-weight: bold\">53.2237</span> <span style=\"color: #0000ff; text-decoration-color: #0000ff\">tps</span>=<span style=\"color: #008080; text-decoration-color: #008080; font-weight: bold\">6812.63</span> <span style=\"color: #0000ff; text-decoration-color: #0000ff\">tps_per_gpu</span>=<span style=\"color: #008080; text-decoration-color: #008080; font-weight: bold\">6812.63</span> <span style=\"color: #0000ff; text-decoration-color: #0000ff\">mfu</span>=<span style=\"color: #008080; text-decoration-color: #008080; font-weight: bold\">0.150378</span>\n",
              "</pre>"
            ]
          }
        },
        {
          "output_type": "display_data",
          "metadata": {},
          "data": {
            "text/html": [
              "<pre style=\"white-space:pre;overflow-x:auto;line-height:normal;font-family:Menlo,'DejaVu Sans Mono',consolas,'Courier New',monospace\">[<span style=\"color: #7f7f7f; text-decoration-color: #7f7f7f\">2025-07-23 08:57:24,640847</span>][<span style=\"color: #008000; text-decoration-color: #008000\">I</span>][<span style=\"color: #008080; text-decoration-color: #008080; font-style: italic\">wordplay</span>/<span style=\"color: #000080; text-decoration-color: #000080\">trainer</span><span style=\"color: #0000ff; text-decoration-color: #0000ff\">:</span><span style=\"color: #800080; text-decoration-color: #800080\">850</span>]<span style=\"color: #c0c0c0; text-decoration-color: #c0c0c0\"> </span><span style=\"color: #0000ff; text-decoration-color: #0000ff\">step</span>=<span style=\"color: #008080; text-decoration-color: #008080; font-weight: bold\">80</span> <span style=\"color: #0000ff; text-decoration-color: #0000ff\">loss</span>=<span style=\"color: #008080; text-decoration-color: #008080; font-weight: bold\">4.14463</span> <span style=\"color: #0000ff; text-decoration-color: #0000ff\">dt</span>=<span style=\"color: #008080; text-decoration-color: #008080; font-weight: bold\">0.0201437</span> <span style=\"color: #0000ff; text-decoration-color: #0000ff\">dtf</span>=<span style=\"color: #008080; text-decoration-color: #008080; font-weight: bold\">0.0198163</span> <span style=\"color: #0000ff; text-decoration-color: #0000ff\">dtb</span>=<span style=\"color: #008080; text-decoration-color: #008080; font-weight: bold\">0.000121333</span> <span style=\"color: #0000ff; text-decoration-color: #0000ff\">sps</span>=<span style=\"color: #008080; text-decoration-color: #008080; font-weight: bold\">49.6434</span> <span style=\"color: #0000ff; text-decoration-color: #0000ff\">sps_per_gpu</span>=<span style=\"color: #008080; text-decoration-color: #008080; font-weight: bold\">49.6434</span> <span style=\"color: #0000ff; text-decoration-color: #0000ff\">tps</span>=<span style=\"color: #008080; text-decoration-color: #008080; font-weight: bold\">6354.35</span> <span style=\"color: #0000ff; text-decoration-color: #0000ff\">tps_per_gpu</span>=<span style=\"color: #008080; text-decoration-color: #008080; font-weight: bold\">6354.35</span> <span style=\"color: #0000ff; text-decoration-color: #0000ff\">mfu</span>=<span style=\"color: #008080; text-decoration-color: #008080; font-weight: bold\">0.149071</span>\n",
              "</pre>"
            ]
          }
        },
        {
          "output_type": "display_data",
          "metadata": {},
          "data": {
            "text/html": [
              "<pre style=\"white-space:pre;overflow-x:auto;line-height:normal;font-family:Menlo,'DejaVu Sans Mono',consolas,'Courier New',monospace\">[<span style=\"color: #7f7f7f; text-decoration-color: #7f7f7f\">2025-07-23 08:57:24,917312</span>][<span style=\"color: #008000; text-decoration-color: #008000\">I</span>][<span style=\"color: #008080; text-decoration-color: #008080; font-style: italic\">wordplay</span>/<span style=\"color: #000080; text-decoration-color: #000080\">trainer</span><span style=\"color: #0000ff; text-decoration-color: #0000ff\">:</span><span style=\"color: #800080; text-decoration-color: #800080\">850</span>]<span style=\"color: #c0c0c0; text-decoration-color: #c0c0c0\"> </span><span style=\"color: #0000ff; text-decoration-color: #0000ff\">step</span>=<span style=\"color: #008080; text-decoration-color: #008080; font-weight: bold\">90</span> <span style=\"color: #0000ff; text-decoration-color: #0000ff\">loss</span>=<span style=\"color: #008080; text-decoration-color: #008080; font-weight: bold\">4.14377</span> <span style=\"color: #0000ff; text-decoration-color: #0000ff\">dt</span>=<span style=\"color: #008080; text-decoration-color: #008080; font-weight: bold\">0.019514</span> <span style=\"color: #0000ff; text-decoration-color: #0000ff\">dtf</span>=<span style=\"color: #008080; text-decoration-color: #008080; font-weight: bold\">0.019134</span> <span style=\"color: #0000ff; text-decoration-color: #0000ff\">dtb</span>=<span style=\"color: #008080; text-decoration-color: #008080; font-weight: bold\">0.00014425</span> <span style=\"color: #0000ff; text-decoration-color: #0000ff\">sps</span>=<span style=\"color: #008080; text-decoration-color: #008080; font-weight: bold\">51.2451</span> <span style=\"color: #0000ff; text-decoration-color: #0000ff\">sps_per_gpu</span>=<span style=\"color: #008080; text-decoration-color: #008080; font-weight: bold\">51.2451</span> <span style=\"color: #0000ff; text-decoration-color: #0000ff\">tps</span>=<span style=\"color: #008080; text-decoration-color: #008080; font-weight: bold\">6559.38</span> <span style=\"color: #0000ff; text-decoration-color: #0000ff\">tps_per_gpu</span>=<span style=\"color: #008080; text-decoration-color: #008080; font-weight: bold\">6559.38</span> <span style=\"color: #0000ff; text-decoration-color: #0000ff\">mfu</span>=<span style=\"color: #008080; text-decoration-color: #008080; font-weight: bold\">0.148338</span>\n",
              "</pre>"
            ]
          }
        },
        {
          "output_type": "display_data",
          "metadata": {},
          "data": {
            "text/html": [
              "<pre style=\"white-space:pre;overflow-x:auto;line-height:normal;font-family:Menlo,'DejaVu Sans Mono',consolas,'Courier New',monospace\">[<span style=\"color: #7f7f7f; text-decoration-color: #7f7f7f\">2025-07-23 08:57:25,109090</span>][<span style=\"color: #008000; text-decoration-color: #008000\">I</span>][<span style=\"color: #008080; text-decoration-color: #008080; font-style: italic\">wordplay</span>/<span style=\"color: #000080; text-decoration-color: #000080\">trainer</span><span style=\"color: #0000ff; text-decoration-color: #0000ff\">:</span><span style=\"color: #800080; text-decoration-color: #800080\">850</span>]<span style=\"color: #c0c0c0; text-decoration-color: #c0c0c0\"> </span><span style=\"color: #0000ff; text-decoration-color: #0000ff\">step</span>=<span style=\"color: #008080; text-decoration-color: #008080; font-weight: bold\">100</span> <span style=\"color: #0000ff; text-decoration-color: #0000ff\">loss</span>=<span style=\"color: #008080; text-decoration-color: #008080; font-weight: bold\">4.24105</span> <span style=\"color: #0000ff; text-decoration-color: #0000ff\">dt</span>=<span style=\"color: #008080; text-decoration-color: #008080; font-weight: bold\">0.018874</span> <span style=\"color: #0000ff; text-decoration-color: #0000ff\">dtf</span>=<span style=\"color: #008080; text-decoration-color: #008080; font-weight: bold\">0.0186135</span> <span style=\"color: #0000ff; text-decoration-color: #0000ff\">dtb</span>=<span style=\"color: #008080; text-decoration-color: #008080; font-weight: bold\">0.000106167</span> <span style=\"color: #0000ff; text-decoration-color: #0000ff\">sps</span>=<span style=\"color: #008080; text-decoration-color: #008080; font-weight: bold\">52.9829</span> <span style=\"color: #0000ff; text-decoration-color: #0000ff\">sps_per_gpu</span>=<span style=\"color: #008080; text-decoration-color: #008080; font-weight: bold\">52.9829</span> <span style=\"color: #0000ff; text-decoration-color: #0000ff\">tps</span>=<span style=\"color: #008080; text-decoration-color: #008080; font-weight: bold\">6781.82</span> <span style=\"color: #0000ff; text-decoration-color: #0000ff\">tps_per_gpu</span>=<span style=\"color: #008080; text-decoration-color: #008080; font-weight: bold\">6781.82</span> <span style=\"color: #0000ff; text-decoration-color: #0000ff\">mfu</span>=<span style=\"color: #008080; text-decoration-color: #008080; font-weight: bold\">0.148159</span>\n",
              "</pre>"
            ]
          }
        },
        {
          "output_type": "display_data",
          "metadata": {},
          "data": {
            "text/html": [
              "<pre style=\"white-space:pre;overflow-x:auto;line-height:normal;font-family:Menlo,'DejaVu Sans Mono',consolas,'Courier New',monospace\">[<span style=\"color: #7f7f7f; text-decoration-color: #7f7f7f\">2025-07-23 08:57:26,990460</span>][<span style=\"color: #008000; text-decoration-color: #008000\">I</span>][<span style=\"color: #008080; text-decoration-color: #008080; font-style: italic\">wordplay</span>/<span style=\"color: #000080; text-decoration-color: #000080\">trainer</span><span style=\"color: #0000ff; text-decoration-color: #0000ff\">:</span><span style=\"color: #800080; text-decoration-color: #800080\">790</span>]<span style=\"color: #c0c0c0; text-decoration-color: #c0c0c0\"> </span><span style=\"color: #ff00ff; text-decoration-color: #ff00ff\">[</span><span style=\"color: #008000; text-decoration-color: #008000\">'prompt'</span><span style=\"color: #ff00ff; text-decoration-color: #ff00ff\">]</span>: <span style=\"color: #008000; text-decoration-color: #008000\">'What is an LLM?'</span>\n",
              "</pre>"
            ]
          }
        },
        {
          "output_type": "display_data",
          "metadata": {},
          "data": {
            "text/html": [
              "<pre style=\"white-space:pre;overflow-x:auto;line-height:normal;font-family:Menlo,'DejaVu Sans Mono',consolas,'Courier New',monospace\">[<span style=\"color: #7f7f7f; text-decoration-color: #7f7f7f\">2025-07-23 08:57:26,991571</span>][<span style=\"color: #008000; text-decoration-color: #008000\">I</span>][<span style=\"color: #008080; text-decoration-color: #008080; font-style: italic\">wordplay</span>/<span style=\"color: #000080; text-decoration-color: #000080\">trainer</span><span style=\"color: #0000ff; text-decoration-color: #0000ff\">:</span><span style=\"color: #800080; text-decoration-color: #800080\">794</span>]<span style=\"color: #c0c0c0; text-decoration-color: #c0c0c0\"> </span><span style=\"color: #ff00ff; text-decoration-color: #ff00ff\">[</span><span style=\"color: #008000; text-decoration-color: #008000\">'response'</span><span style=\"color: #ff00ff; text-decoration-color: #ff00ff\">]</span>:\n",
              "\n",
              "What is an LLM?f'xfAhf.qYEZQyyoo--AA,QQAAstpMfYhjc'c..MAj'FF,a33lx.adbssxvVhfsMwyQYosoooc'hzgSSrq.vZZZcq33Sk\n",
              "<span style=\"color: #008000; text-decoration-color: #008000\">''</span>vaq.w3AmA'..aYjye'ksr'gbvv,,hqb'eSJJm',rSeqfvrrrW;;bZSS:SqeWtttuYgJvkoBggSA'wst:Sur'txx'rSSqbb;;Qq-;.MsooowbqqqnSpBqSosgggtoo'e;<span style=\"color: #008000; text-decoration-color: #008000\">''</span>kG;<span style=\"color: #008000; text-decoration-color: #008000\">'g-bWWoqetQ''os'</span>q'tptSSSYe;\n",
              "</pre>"
            ]
          }
        },
        {
          "output_type": "display_data",
          "metadata": {},
          "data": {
            "text/html": [
              "<pre style=\"white-space:pre;overflow-x:auto;line-height:normal;font-family:Menlo,'DejaVu Sans Mono',consolas,'Courier New',monospace\">[<span style=\"color: #7f7f7f; text-decoration-color: #7f7f7f\">2025-07-23 08:57:30,268114</span>][<span style=\"color: #008000; text-decoration-color: #008000\">I</span>][<span style=\"color: #008080; text-decoration-color: #008080; font-style: italic\">wordplay</span>/<span style=\"color: #000080; text-decoration-color: #000080\">trainer</span><span style=\"color: #0000ff; text-decoration-color: #0000ff\">:</span><span style=\"color: #800080; text-decoration-color: #800080\">733</span>]<span style=\"color: #c0c0c0; text-decoration-color: #c0c0c0\"> </span>Saving checkpoint to: <span style=\"color: #800080; text-decoration-color: #800080\">/Users/samforeman/projects/saforem2/intro-hpc-bootcamp-2025/content/02-llms/</span><span style=\"color: #ff00ff; text-decoration-color: #ff00ff\">7-shakespeare-example</span>\n",
              "</pre>"
            ]
          }
        },
        {
          "output_type": "display_data",
          "metadata": {},
          "data": {
            "text/html": [
              "<pre style=\"white-space:pre;overflow-x:auto;line-height:normal;font-family:Menlo,'DejaVu Sans Mono',consolas,'Courier New',monospace\">[<span style=\"color: #7f7f7f; text-decoration-color: #7f7f7f\">2025-07-23 08:57:30,268989</span>][<span style=\"color: #008000; text-decoration-color: #008000\">I</span>][<span style=\"color: #008080; text-decoration-color: #008080; font-style: italic\">wordplay</span>/<span style=\"color: #000080; text-decoration-color: #000080\">trainer</span><span style=\"color: #0000ff; text-decoration-color: #0000ff\">:</span><span style=\"color: #800080; text-decoration-color: #800080\">734</span>]<span style=\"color: #c0c0c0; text-decoration-color: #c0c0c0\"> </span>Saving model to: <span style=\"color: #800080; text-decoration-color: #800080\">/Users/samforeman/projects/saforem2/intro-hpc-bootcamp-2025/content/02-llms/7-shakespeare-example/</span><span style=\"color: #ff00ff; text-decoration-color: #ff00ff\">model.pth</span>\n",
              "</pre>"
            ]
          }
        },
        {
          "output_type": "display_data",
          "metadata": {},
          "data": {
            "text/html": [
              "<pre style=\"white-space:pre;overflow-x:auto;line-height:normal;font-family:Menlo,'DejaVu Sans Mono',consolas,'Courier New',monospace\">[<span style=\"color: #7f7f7f; text-decoration-color: #7f7f7f\">2025-07-23 08:57:30,422082</span>][<span style=\"color: #008000; text-decoration-color: #008000\">I</span>][<span style=\"color: #008080; text-decoration-color: #008080; font-style: italic\">wordplay</span>/<span style=\"color: #000080; text-decoration-color: #000080\">configs</span><span style=\"color: #0000ff; text-decoration-color: #0000ff\">:</span><span style=\"color: #800080; text-decoration-color: #800080\">141</span>]<span style=\"color: #c0c0c0; text-decoration-color: #c0c0c0\"> </span>Appending <span style=\"color: #800080; text-decoration-color: #800080\">/Users/samforeman/projects/saforem2/intro-hpc-bootcamp-2025/content/02-llms/</span><span style=\"color: #ff00ff; text-decoration-color: #ff00ff\">7-shakespeare-example</span> to <span style=\"color: #800080; text-decoration-color: #800080\">/Users/samforeman/projects/saforem2/wordplay/src/ckpts/</span><span style=\"color: #ff00ff; text-decoration-color: #ff00ff\">checkpoints.log</span>\n",
              "</pre>"
            ]
          }
        },
        {
          "output_type": "display_data",
          "metadata": {},
          "data": {
            "text/html": [
              "<pre style=\"white-space:pre;overflow-x:auto;line-height:normal;font-family:Menlo,'DejaVu Sans Mono',consolas,'Courier New',monospace\">[<span style=\"color: #7f7f7f; text-decoration-color: #7f7f7f\">2025-07-23 08:57:30,609268</span>][<span style=\"color: #008000; text-decoration-color: #008000\">I</span>][<span style=\"color: #008080; text-decoration-color: #008080; font-style: italic\">wordplay</span>/<span style=\"color: #000080; text-decoration-color: #000080\">trainer</span><span style=\"color: #0000ff; text-decoration-color: #0000ff\">:</span><span style=\"color: #800080; text-decoration-color: #800080\">850</span>]<span style=\"color: #c0c0c0; text-decoration-color: #c0c0c0\"> </span><span style=\"color: #0000ff; text-decoration-color: #0000ff\">step</span>=<span style=\"color: #008080; text-decoration-color: #008080; font-weight: bold\">110</span> <span style=\"color: #0000ff; text-decoration-color: #0000ff\">loss</span>=<span style=\"color: #008080; text-decoration-color: #008080; font-weight: bold\">4.30091</span> <span style=\"color: #0000ff; text-decoration-color: #0000ff\">dt</span>=<span style=\"color: #008080; text-decoration-color: #008080; font-weight: bold\">0.0194203</span> <span style=\"color: #0000ff; text-decoration-color: #0000ff\">dtf</span>=<span style=\"color: #008080; text-decoration-color: #008080; font-weight: bold\">0.0190756</span> <span style=\"color: #0000ff; text-decoration-color: #0000ff\">dtb</span>=<span style=\"color: #008080; text-decoration-color: #008080; font-weight: bold\">0.000128291</span> <span style=\"color: #0000ff; text-decoration-color: #0000ff\">sps</span>=<span style=\"color: #008080; text-decoration-color: #008080; font-weight: bold\">51.4924</span> <span style=\"color: #0000ff; text-decoration-color: #0000ff\">sps_per_gpu</span>=<span style=\"color: #008080; text-decoration-color: #008080; font-weight: bold\">51.4924</span> <span style=\"color: #0000ff; text-decoration-color: #0000ff\">tps</span>=<span style=\"color: #008080; text-decoration-color: #008080; font-weight: bold\">6591.03</span> <span style=\"color: #0000ff; text-decoration-color: #0000ff\">tps_per_gpu</span>=<span style=\"color: #008080; text-decoration-color: #008080; font-weight: bold\">6591.03</span> <span style=\"color: #0000ff; text-decoration-color: #0000ff\">mfu</span>=<span style=\"color: #008080; text-decoration-color: #008080; font-weight: bold\">0.147586</span>\n",
              "</pre>"
            ]
          }
        },
        {
          "output_type": "display_data",
          "metadata": {},
          "data": {
            "text/html": [
              "<pre style=\"white-space:pre;overflow-x:auto;line-height:normal;font-family:Menlo,'DejaVu Sans Mono',consolas,'Courier New',monospace\">[<span style=\"color: #7f7f7f; text-decoration-color: #7f7f7f\">2025-07-23 08:57:30,798374</span>][<span style=\"color: #008000; text-decoration-color: #008000\">I</span>][<span style=\"color: #008080; text-decoration-color: #008080; font-style: italic\">wordplay</span>/<span style=\"color: #000080; text-decoration-color: #000080\">trainer</span><span style=\"color: #0000ff; text-decoration-color: #0000ff\">:</span><span style=\"color: #800080; text-decoration-color: #800080\">850</span>]<span style=\"color: #c0c0c0; text-decoration-color: #c0c0c0\"> </span><span style=\"color: #0000ff; text-decoration-color: #0000ff\">step</span>=<span style=\"color: #008080; text-decoration-color: #008080; font-weight: bold\">120</span> <span style=\"color: #0000ff; text-decoration-color: #0000ff\">loss</span>=<span style=\"color: #008080; text-decoration-color: #008080; font-weight: bold\">4.23854</span> <span style=\"color: #0000ff; text-decoration-color: #0000ff\">dt</span>=<span style=\"color: #008080; text-decoration-color: #008080; font-weight: bold\">0.018679</span> <span style=\"color: #0000ff; text-decoration-color: #0000ff\">dtf</span>=<span style=\"color: #008080; text-decoration-color: #008080; font-weight: bold\">0.018322</span> <span style=\"color: #0000ff; text-decoration-color: #0000ff\">dtb</span>=<span style=\"color: #008080; text-decoration-color: #008080; font-weight: bold\">0.000137375</span> <span style=\"color: #0000ff; text-decoration-color: #0000ff\">sps</span>=<span style=\"color: #008080; text-decoration-color: #008080; font-weight: bold\">53.5362</span> <span style=\"color: #0000ff; text-decoration-color: #0000ff\">sps_per_gpu</span>=<span style=\"color: #008080; text-decoration-color: #008080; font-weight: bold\">53.5362</span> <span style=\"color: #0000ff; text-decoration-color: #0000ff\">tps</span>=<span style=\"color: #008080; text-decoration-color: #008080; font-weight: bold\">6852.63</span> <span style=\"color: #0000ff; text-decoration-color: #0000ff\">tps_per_gpu</span>=<span style=\"color: #008080; text-decoration-color: #008080; font-weight: bold\">6852.63</span> <span style=\"color: #0000ff; text-decoration-color: #0000ff\">mfu</span>=<span style=\"color: #008080; text-decoration-color: #008080; font-weight: bold\">0.147635</span>\n",
              "</pre>"
            ]
          }
        },
        {
          "output_type": "display_data",
          "metadata": {},
          "data": {
            "text/html": [
              "<pre style=\"white-space:pre;overflow-x:auto;line-height:normal;font-family:Menlo,'DejaVu Sans Mono',consolas,'Courier New',monospace\">[<span style=\"color: #7f7f7f; text-decoration-color: #7f7f7f\">2025-07-23 08:57:30,988721</span>][<span style=\"color: #008000; text-decoration-color: #008000\">I</span>][<span style=\"color: #008080; text-decoration-color: #008080; font-style: italic\">wordplay</span>/<span style=\"color: #000080; text-decoration-color: #000080\">trainer</span><span style=\"color: #0000ff; text-decoration-color: #0000ff\">:</span><span style=\"color: #800080; text-decoration-color: #800080\">850</span>]<span style=\"color: #c0c0c0; text-decoration-color: #c0c0c0\"> </span><span style=\"color: #0000ff; text-decoration-color: #0000ff\">step</span>=<span style=\"color: #008080; text-decoration-color: #008080; font-weight: bold\">130</span> <span style=\"color: #0000ff; text-decoration-color: #0000ff\">loss</span>=<span style=\"color: #008080; text-decoration-color: #008080; font-weight: bold\">4.21194</span> <span style=\"color: #0000ff; text-decoration-color: #0000ff\">dt</span>=<span style=\"color: #008080; text-decoration-color: #008080; font-weight: bold\">0.0179805</span> <span style=\"color: #0000ff; text-decoration-color: #0000ff\">dtf</span>=<span style=\"color: #008080; text-decoration-color: #008080; font-weight: bold\">0.0176516</span> <span style=\"color: #0000ff; text-decoration-color: #0000ff\">dtb</span>=<span style=\"color: #008080; text-decoration-color: #008080; font-weight: bold\">0.000119583</span> <span style=\"color: #0000ff; text-decoration-color: #0000ff\">sps</span>=<span style=\"color: #008080; text-decoration-color: #008080; font-weight: bold\">55.6159</span> <span style=\"color: #0000ff; text-decoration-color: #0000ff\">sps_per_gpu</span>=<span style=\"color: #008080; text-decoration-color: #008080; font-weight: bold\">55.6159</span> <span style=\"color: #0000ff; text-decoration-color: #0000ff\">tps</span>=<span style=\"color: #008080; text-decoration-color: #008080; font-weight: bold\">7118.84</span> <span style=\"color: #0000ff; text-decoration-color: #0000ff\">tps_per_gpu</span>=<span style=\"color: #008080; text-decoration-color: #008080; font-weight: bold\">7118.84</span> <span style=\"color: #0000ff; text-decoration-color: #0000ff\">mfu</span>=<span style=\"color: #008080; text-decoration-color: #008080; font-weight: bold\">0.148254</span>\n",
              "</pre>"
            ]
          }
        },
        {
          "output_type": "display_data",
          "metadata": {},
          "data": {
            "text/html": [
              "<pre style=\"white-space:pre;overflow-x:auto;line-height:normal;font-family:Menlo,'DejaVu Sans Mono',consolas,'Courier New',monospace\">[<span style=\"color: #7f7f7f; text-decoration-color: #7f7f7f\">2025-07-23 08:57:31,180295</span>][<span style=\"color: #008000; text-decoration-color: #008000\">I</span>][<span style=\"color: #008080; text-decoration-color: #008080; font-style: italic\">wordplay</span>/<span style=\"color: #000080; text-decoration-color: #000080\">trainer</span><span style=\"color: #0000ff; text-decoration-color: #0000ff\">:</span><span style=\"color: #800080; text-decoration-color: #800080\">850</span>]<span style=\"color: #c0c0c0; text-decoration-color: #c0c0c0\"> </span><span style=\"color: #0000ff; text-decoration-color: #0000ff\">step</span>=<span style=\"color: #008080; text-decoration-color: #008080; font-weight: bold\">140</span> <span style=\"color: #0000ff; text-decoration-color: #0000ff\">loss</span>=<span style=\"color: #008080; text-decoration-color: #008080; font-weight: bold\">4.30343</span> <span style=\"color: #0000ff; text-decoration-color: #0000ff\">dt</span>=<span style=\"color: #008080; text-decoration-color: #008080; font-weight: bold\">0.0187697</span> <span style=\"color: #0000ff; text-decoration-color: #0000ff\">dtf</span>=<span style=\"color: #008080; text-decoration-color: #008080; font-weight: bold\">0.0184593</span> <span style=\"color: #0000ff; text-decoration-color: #0000ff\">dtb</span>=<span style=\"color: #008080; text-decoration-color: #008080; font-weight: bold\">0.000113625</span> <span style=\"color: #0000ff; text-decoration-color: #0000ff\">sps</span>=<span style=\"color: #008080; text-decoration-color: #008080; font-weight: bold\">53.2775</span> <span style=\"color: #0000ff; text-decoration-color: #0000ff\">sps_per_gpu</span>=<span style=\"color: #008080; text-decoration-color: #008080; font-weight: bold\">53.2775</span> <span style=\"color: #0000ff; text-decoration-color: #0000ff\">tps</span>=<span style=\"color: #008080; text-decoration-color: #008080; font-weight: bold\">6819.51</span> <span style=\"color: #0000ff; text-decoration-color: #0000ff\">tps_per_gpu</span>=<span style=\"color: #008080; text-decoration-color: #008080; font-weight: bold\">6819.51</span> <span style=\"color: #0000ff; text-decoration-color: #0000ff\">mfu</span>=<span style=\"color: #008080; text-decoration-color: #008080; font-weight: bold\">0.148165</span>\n",
              "</pre>"
            ]
          }
        },
        {
          "output_type": "display_data",
          "metadata": {},
          "data": {
            "text/html": [
              "<pre style=\"white-space:pre;overflow-x:auto;line-height:normal;font-family:Menlo,'DejaVu Sans Mono',consolas,'Courier New',monospace\">[<span style=\"color: #7f7f7f; text-decoration-color: #7f7f7f\">2025-07-23 08:57:31,375497</span>][<span style=\"color: #008000; text-decoration-color: #008000\">I</span>][<span style=\"color: #008080; text-decoration-color: #008080; font-style: italic\">wordplay</span>/<span style=\"color: #000080; text-decoration-color: #000080\">trainer</span><span style=\"color: #0000ff; text-decoration-color: #0000ff\">:</span><span style=\"color: #800080; text-decoration-color: #800080\">850</span>]<span style=\"color: #c0c0c0; text-decoration-color: #c0c0c0\"> </span><span style=\"color: #0000ff; text-decoration-color: #0000ff\">step</span>=<span style=\"color: #008080; text-decoration-color: #008080; font-weight: bold\">150</span> <span style=\"color: #0000ff; text-decoration-color: #0000ff\">loss</span>=<span style=\"color: #008080; text-decoration-color: #008080; font-weight: bold\">4.25562</span> <span style=\"color: #0000ff; text-decoration-color: #0000ff\">dt</span>=<span style=\"color: #008080; text-decoration-color: #008080; font-weight: bold\">0.0198899</span> <span style=\"color: #0000ff; text-decoration-color: #0000ff\">dtf</span>=<span style=\"color: #008080; text-decoration-color: #008080; font-weight: bold\">0.019503</span> <span style=\"color: #0000ff; text-decoration-color: #0000ff\">dtb</span>=<span style=\"color: #008080; text-decoration-color: #008080; font-weight: bold\">0.000163667</span> <span style=\"color: #0000ff; text-decoration-color: #0000ff\">sps</span>=<span style=\"color: #008080; text-decoration-color: #008080; font-weight: bold\">50.2768</span> <span style=\"color: #0000ff; text-decoration-color: #0000ff\">sps_per_gpu</span>=<span style=\"color: #008080; text-decoration-color: #008080; font-weight: bold\">50.2768</span> <span style=\"color: #0000ff; text-decoration-color: #0000ff\">tps</span>=<span style=\"color: #008080; text-decoration-color: #008080; font-weight: bold\">6435.44</span> <span style=\"color: #0000ff; text-decoration-color: #0000ff\">tps_per_gpu</span>=<span style=\"color: #008080; text-decoration-color: #008080; font-weight: bold\">6435.44</span> <span style=\"color: #0000ff; text-decoration-color: #0000ff\">mfu</span>=<span style=\"color: #008080; text-decoration-color: #008080; font-weight: bold\">0.147255</span>\n",
              "</pre>"
            ]
          }
        },
        {
          "output_type": "display_data",
          "metadata": {},
          "data": {
            "text/html": [
              "<pre style=\"white-space:pre;overflow-x:auto;line-height:normal;font-family:Menlo,'DejaVu Sans Mono',consolas,'Courier New',monospace\">[<span style=\"color: #7f7f7f; text-decoration-color: #7f7f7f\">2025-07-23 08:57:33,260251</span>][<span style=\"color: #008000; text-decoration-color: #008000\">I</span>][<span style=\"color: #008080; text-decoration-color: #008080; font-style: italic\">wordplay</span>/<span style=\"color: #000080; text-decoration-color: #000080\">trainer</span><span style=\"color: #0000ff; text-decoration-color: #0000ff\">:</span><span style=\"color: #800080; text-decoration-color: #800080\">790</span>]<span style=\"color: #c0c0c0; text-decoration-color: #c0c0c0\"> </span><span style=\"color: #ff00ff; text-decoration-color: #ff00ff\">[</span><span style=\"color: #008000; text-decoration-color: #008000\">'prompt'</span><span style=\"color: #ff00ff; text-decoration-color: #ff00ff\">]</span>: <span style=\"color: #008000; text-decoration-color: #008000\">'What is an LLM?'</span>\n",
              "</pre>"
            ]
          }
        },
        {
          "output_type": "display_data",
          "metadata": {},
          "data": {
            "text/html": [
              "<pre style=\"white-space:pre;overflow-x:auto;line-height:normal;font-family:Menlo,'DejaVu Sans Mono',consolas,'Courier New',monospace\">[<span style=\"color: #7f7f7f; text-decoration-color: #7f7f7f\">2025-07-23 08:57:33,261115</span>][<span style=\"color: #008000; text-decoration-color: #008000\">I</span>][<span style=\"color: #008080; text-decoration-color: #008080; font-style: italic\">wordplay</span>/<span style=\"color: #000080; text-decoration-color: #000080\">trainer</span><span style=\"color: #0000ff; text-decoration-color: #0000ff\">:</span><span style=\"color: #800080; text-decoration-color: #800080\">794</span>]<span style=\"color: #c0c0c0; text-decoration-color: #c0c0c0\"> </span><span style=\"color: #ff00ff; text-decoration-color: #ff00ff\">[</span><span style=\"color: #008000; text-decoration-color: #008000\">'response'</span><span style=\"color: #ff00ff; text-decoration-color: #ff00ff\">]</span>:\n",
              "\n",
              "What is an LLM?vXvZoQQoLqQewerA'-<span style=\"color: #008000; text-decoration-color: #008000\">''</span>.qqQtXxx'V333jo'gQUoojxttYyfQOCCAASc-sseS\n",
              "\n",
              "r.GexS-\n",
              "Dv'acQqjpwptxxqqZ!!fqzAAf.v3aag;vYgg'fqY:n;QsrkoBQhbYYQQgoMbZg;;cLf..WSSJhppMSkggkkkkooqWWQ'<span style=\"color: #008000; text-decoration-color: #008000\">';xheuAA;pppcSQQqq;??ZppBkqeQsgb'</span>SpWbrr;.gSbbqq;;f.t'gIBq;;WtgbW,rWWYAAqttMA''ggQQQnxrrrrh;;!\n",
              "</pre>"
            ]
          }
        },
        {
          "output_type": "display_data",
          "metadata": {},
          "data": {
            "text/html": [
              "<pre style=\"white-space:pre;overflow-x:auto;line-height:normal;font-family:Menlo,'DejaVu Sans Mono',consolas,'Courier New',monospace\">[<span style=\"color: #7f7f7f; text-decoration-color: #7f7f7f\">2025-07-23 08:57:36,569733</span>][<span style=\"color: #008000; text-decoration-color: #008000\">I</span>][<span style=\"color: #008080; text-decoration-color: #008080; font-style: italic\">wordplay</span>/<span style=\"color: #000080; text-decoration-color: #000080\">trainer</span><span style=\"color: #0000ff; text-decoration-color: #0000ff\">:</span><span style=\"color: #800080; text-decoration-color: #800080\">733</span>]<span style=\"color: #c0c0c0; text-decoration-color: #c0c0c0\"> </span>Saving checkpoint to: <span style=\"color: #800080; text-decoration-color: #800080\">/Users/samforeman/projects/saforem2/intro-hpc-bootcamp-2025/content/02-llms/</span><span style=\"color: #ff00ff; text-decoration-color: #ff00ff\">7-shakespeare-example</span>\n",
              "</pre>"
            ]
          }
        },
        {
          "output_type": "display_data",
          "metadata": {},
          "data": {
            "text/html": [
              "<pre style=\"white-space:pre;overflow-x:auto;line-height:normal;font-family:Menlo,'DejaVu Sans Mono',consolas,'Courier New',monospace\">[<span style=\"color: #7f7f7f; text-decoration-color: #7f7f7f\">2025-07-23 08:57:36,570722</span>][<span style=\"color: #008000; text-decoration-color: #008000\">I</span>][<span style=\"color: #008080; text-decoration-color: #008080; font-style: italic\">wordplay</span>/<span style=\"color: #000080; text-decoration-color: #000080\">trainer</span><span style=\"color: #0000ff; text-decoration-color: #0000ff\">:</span><span style=\"color: #800080; text-decoration-color: #800080\">734</span>]<span style=\"color: #c0c0c0; text-decoration-color: #c0c0c0\"> </span>Saving model to: <span style=\"color: #800080; text-decoration-color: #800080\">/Users/samforeman/projects/saforem2/intro-hpc-bootcamp-2025/content/02-llms/7-shakespeare-example/</span><span style=\"color: #ff00ff; text-decoration-color: #ff00ff\">model.pth</span>\n",
              "</pre>"
            ]
          }
        },
        {
          "output_type": "display_data",
          "metadata": {},
          "data": {
            "text/html": [
              "<pre style=\"white-space:pre;overflow-x:auto;line-height:normal;font-family:Menlo,'DejaVu Sans Mono',consolas,'Courier New',monospace\">[<span style=\"color: #7f7f7f; text-decoration-color: #7f7f7f\">2025-07-23 08:57:36,648413</span>][<span style=\"color: #008000; text-decoration-color: #008000\">I</span>][<span style=\"color: #008080; text-decoration-color: #008080; font-style: italic\">wordplay</span>/<span style=\"color: #000080; text-decoration-color: #000080\">configs</span><span style=\"color: #0000ff; text-decoration-color: #0000ff\">:</span><span style=\"color: #800080; text-decoration-color: #800080\">141</span>]<span style=\"color: #c0c0c0; text-decoration-color: #c0c0c0\"> </span>Appending <span style=\"color: #800080; text-decoration-color: #800080\">/Users/samforeman/projects/saforem2/intro-hpc-bootcamp-2025/content/02-llms/</span><span style=\"color: #ff00ff; text-decoration-color: #ff00ff\">7-shakespeare-example</span> to <span style=\"color: #800080; text-decoration-color: #800080\">/Users/samforeman/projects/saforem2/wordplay/src/ckpts/</span><span style=\"color: #ff00ff; text-decoration-color: #ff00ff\">checkpoints.log</span>\n",
              "</pre>"
            ]
          }
        },
        {
          "output_type": "display_data",
          "metadata": {},
          "data": {
            "text/html": [
              "<pre style=\"white-space:pre;overflow-x:auto;line-height:normal;font-family:Menlo,'DejaVu Sans Mono',consolas,'Courier New',monospace\">[<span style=\"color: #7f7f7f; text-decoration-color: #7f7f7f\">2025-07-23 08:57:36,834884</span>][<span style=\"color: #008000; text-decoration-color: #008000\">I</span>][<span style=\"color: #008080; text-decoration-color: #008080; font-style: italic\">wordplay</span>/<span style=\"color: #000080; text-decoration-color: #000080\">trainer</span><span style=\"color: #0000ff; text-decoration-color: #0000ff\">:</span><span style=\"color: #800080; text-decoration-color: #800080\">850</span>]<span style=\"color: #c0c0c0; text-decoration-color: #c0c0c0\"> </span><span style=\"color: #0000ff; text-decoration-color: #0000ff\">step</span>=<span style=\"color: #008080; text-decoration-color: #008080; font-weight: bold\">160</span> <span style=\"color: #0000ff; text-decoration-color: #0000ff\">loss</span>=<span style=\"color: #008080; text-decoration-color: #008080; font-weight: bold\">4.22457</span> <span style=\"color: #0000ff; text-decoration-color: #0000ff\">dt</span>=<span style=\"color: #008080; text-decoration-color: #008080; font-weight: bold\">0.0191705</span> <span style=\"color: #0000ff; text-decoration-color: #0000ff\">dtf</span>=<span style=\"color: #008080; text-decoration-color: #008080; font-weight: bold\">0.0188042</span> <span style=\"color: #0000ff; text-decoration-color: #0000ff\">dtb</span>=<span style=\"color: #008080; text-decoration-color: #008080; font-weight: bold\">0.000141958</span> <span style=\"color: #0000ff; text-decoration-color: #0000ff\">sps</span>=<span style=\"color: #008080; text-decoration-color: #008080; font-weight: bold\">52.1635</span> <span style=\"color: #0000ff; text-decoration-color: #0000ff\">sps_per_gpu</span>=<span style=\"color: #008080; text-decoration-color: #008080; font-weight: bold\">52.1635</span> <span style=\"color: #0000ff; text-decoration-color: #0000ff\">tps</span>=<span style=\"color: #008080; text-decoration-color: #008080; font-weight: bold\">6676.93</span> <span style=\"color: #0000ff; text-decoration-color: #0000ff\">tps_per_gpu</span>=<span style=\"color: #008080; text-decoration-color: #008080; font-weight: bold\">6676.93</span> <span style=\"color: #0000ff; text-decoration-color: #0000ff\">mfu</span>=<span style=\"color: #008080; text-decoration-color: #008080; font-weight: bold\">0.146958</span>\n",
              "</pre>"
            ]
          }
        },
        {
          "output_type": "display_data",
          "metadata": {},
          "data": {
            "text/html": [
              "<pre style=\"white-space:pre;overflow-x:auto;line-height:normal;font-family:Menlo,'DejaVu Sans Mono',consolas,'Courier New',monospace\">[<span style=\"color: #7f7f7f; text-decoration-color: #7f7f7f\">2025-07-23 08:57:37,025454</span>][<span style=\"color: #008000; text-decoration-color: #008000\">I</span>][<span style=\"color: #008080; text-decoration-color: #008080; font-style: italic\">wordplay</span>/<span style=\"color: #000080; text-decoration-color: #000080\">trainer</span><span style=\"color: #0000ff; text-decoration-color: #0000ff\">:</span><span style=\"color: #800080; text-decoration-color: #800080\">850</span>]<span style=\"color: #c0c0c0; text-decoration-color: #c0c0c0\"> </span><span style=\"color: #0000ff; text-decoration-color: #0000ff\">step</span>=<span style=\"color: #008080; text-decoration-color: #008080; font-weight: bold\">170</span> <span style=\"color: #0000ff; text-decoration-color: #0000ff\">loss</span>=<span style=\"color: #008080; text-decoration-color: #008080; font-weight: bold\">4.20268</span> <span style=\"color: #0000ff; text-decoration-color: #0000ff\">dt</span>=<span style=\"color: #008080; text-decoration-color: #008080; font-weight: bold\">0.0192872</span> <span style=\"color: #0000ff; text-decoration-color: #0000ff\">dtf</span>=<span style=\"color: #008080; text-decoration-color: #008080; font-weight: bold\">0.0189152</span> <span style=\"color: #0000ff; text-decoration-color: #0000ff\">dtb</span>=<span style=\"color: #008080; text-decoration-color: #008080; font-weight: bold\">0.000141834</span> <span style=\"color: #0000ff; text-decoration-color: #0000ff\">sps</span>=<span style=\"color: #008080; text-decoration-color: #008080; font-weight: bold\">51.8478</span> <span style=\"color: #0000ff; text-decoration-color: #0000ff\">sps_per_gpu</span>=<span style=\"color: #008080; text-decoration-color: #008080; font-weight: bold\">51.8478</span> <span style=\"color: #0000ff; text-decoration-color: #0000ff\">tps</span>=<span style=\"color: #008080; text-decoration-color: #008080; font-weight: bold\">6636.52</span> <span style=\"color: #0000ff; text-decoration-color: #0000ff\">tps_per_gpu</span>=<span style=\"color: #008080; text-decoration-color: #008080; font-weight: bold\">6636.52</span> <span style=\"color: #0000ff; text-decoration-color: #0000ff\">mfu</span>=<span style=\"color: #008080; text-decoration-color: #008080; font-weight: bold\">0.146603</span>\n",
              "</pre>"
            ]
          }
        },
        {
          "output_type": "display_data",
          "metadata": {},
          "data": {
            "text/html": [
              "<pre style=\"white-space:pre;overflow-x:auto;line-height:normal;font-family:Menlo,'DejaVu Sans Mono',consolas,'Courier New',monospace\">[<span style=\"color: #7f7f7f; text-decoration-color: #7f7f7f\">2025-07-23 08:57:37,215241</span>][<span style=\"color: #008000; text-decoration-color: #008000\">I</span>][<span style=\"color: #008080; text-decoration-color: #008080; font-style: italic\">wordplay</span>/<span style=\"color: #000080; text-decoration-color: #000080\">trainer</span><span style=\"color: #0000ff; text-decoration-color: #0000ff\">:</span><span style=\"color: #800080; text-decoration-color: #800080\">850</span>]<span style=\"color: #c0c0c0; text-decoration-color: #c0c0c0\"> </span><span style=\"color: #0000ff; text-decoration-color: #0000ff\">step</span>=<span style=\"color: #008080; text-decoration-color: #008080; font-weight: bold\">180</span> <span style=\"color: #0000ff; text-decoration-color: #0000ff\">loss</span>=<span style=\"color: #008080; text-decoration-color: #008080; font-weight: bold\">4.23688</span> <span style=\"color: #0000ff; text-decoration-color: #0000ff\">dt</span>=<span style=\"color: #008080; text-decoration-color: #008080; font-weight: bold\">0.0185334</span> <span style=\"color: #0000ff; text-decoration-color: #0000ff\">dtf</span>=<span style=\"color: #008080; text-decoration-color: #008080; font-weight: bold\">0.0180996</span> <span style=\"color: #0000ff; text-decoration-color: #0000ff\">dtb</span>=<span style=\"color: #008080; text-decoration-color: #008080; font-weight: bold\">0.000158833</span> <span style=\"color: #0000ff; text-decoration-color: #0000ff\">sps</span>=<span style=\"color: #008080; text-decoration-color: #008080; font-weight: bold\">53.9567</span> <span style=\"color: #0000ff; text-decoration-color: #0000ff\">sps_per_gpu</span>=<span style=\"color: #008080; text-decoration-color: #008080; font-weight: bold\">53.9567</span> <span style=\"color: #0000ff; text-decoration-color: #0000ff\">tps</span>=<span style=\"color: #008080; text-decoration-color: #008080; font-weight: bold\">6906.46</span> <span style=\"color: #0000ff; text-decoration-color: #0000ff\">tps_per_gpu</span>=<span style=\"color: #008080; text-decoration-color: #008080; font-weight: bold\">6906.46</span> <span style=\"color: #0000ff; text-decoration-color: #0000ff\">mfu</span>=<span style=\"color: #008080; text-decoration-color: #008080; font-weight: bold\">0.146866</span>\n",
              "</pre>"
            ]
          }
        },
        {
          "output_type": "display_data",
          "metadata": {},
          "data": {
            "text/html": [
              "<pre style=\"white-space:pre;overflow-x:auto;line-height:normal;font-family:Menlo,'DejaVu Sans Mono',consolas,'Courier New',monospace\">[<span style=\"color: #7f7f7f; text-decoration-color: #7f7f7f\">2025-07-23 08:57:37,404792</span>][<span style=\"color: #008000; text-decoration-color: #008000\">I</span>][<span style=\"color: #008080; text-decoration-color: #008080; font-style: italic\">wordplay</span>/<span style=\"color: #000080; text-decoration-color: #000080\">trainer</span><span style=\"color: #0000ff; text-decoration-color: #0000ff\">:</span><span style=\"color: #800080; text-decoration-color: #800080\">850</span>]<span style=\"color: #c0c0c0; text-decoration-color: #c0c0c0\"> </span><span style=\"color: #0000ff; text-decoration-color: #0000ff\">step</span>=<span style=\"color: #008080; text-decoration-color: #008080; font-weight: bold\">190</span> <span style=\"color: #0000ff; text-decoration-color: #0000ff\">loss</span>=<span style=\"color: #008080; text-decoration-color: #008080; font-weight: bold\">4.28941</span> <span style=\"color: #0000ff; text-decoration-color: #0000ff\">dt</span>=<span style=\"color: #008080; text-decoration-color: #008080; font-weight: bold\">0.0191987</span> <span style=\"color: #0000ff; text-decoration-color: #0000ff\">dtf</span>=<span style=\"color: #008080; text-decoration-color: #008080; font-weight: bold\">0.0188347</span> <span style=\"color: #0000ff; text-decoration-color: #0000ff\">dtb</span>=<span style=\"color: #008080; text-decoration-color: #008080; font-weight: bold\">0.000141917</span> <span style=\"color: #0000ff; text-decoration-color: #0000ff\">sps</span>=<span style=\"color: #008080; text-decoration-color: #008080; font-weight: bold\">52.0868</span> <span style=\"color: #0000ff; text-decoration-color: #0000ff\">sps_per_gpu</span>=<span style=\"color: #008080; text-decoration-color: #008080; font-weight: bold\">52.0868</span> <span style=\"color: #0000ff; text-decoration-color: #0000ff\">tps</span>=<span style=\"color: #008080; text-decoration-color: #008080; font-weight: bold\">6667.12</span> <span style=\"color: #0000ff; text-decoration-color: #0000ff\">tps_per_gpu</span>=<span style=\"color: #008080; text-decoration-color: #008080; font-weight: bold\">6667.12</span> <span style=\"color: #0000ff; text-decoration-color: #0000ff\">mfu</span>=<span style=\"color: #008080; text-decoration-color: #008080; font-weight: bold\">0.146587</span>\n",
              "</pre>"
            ]
          }
        },
        {
          "output_type": "display_data",
          "metadata": {},
          "data": {
            "text/html": [
              "<pre style=\"white-space:pre;overflow-x:auto;line-height:normal;font-family:Menlo,'DejaVu Sans Mono',consolas,'Courier New',monospace\">[<span style=\"color: #7f7f7f; text-decoration-color: #7f7f7f\">2025-07-23 08:57:37,602233</span>][<span style=\"color: #008000; text-decoration-color: #008000\">I</span>][<span style=\"color: #008080; text-decoration-color: #008080; font-style: italic\">wordplay</span>/<span style=\"color: #000080; text-decoration-color: #000080\">trainer</span><span style=\"color: #0000ff; text-decoration-color: #0000ff\">:</span><span style=\"color: #800080; text-decoration-color: #800080\">850</span>]<span style=\"color: #c0c0c0; text-decoration-color: #c0c0c0\"> </span><span style=\"color: #0000ff; text-decoration-color: #0000ff\">step</span>=<span style=\"color: #008080; text-decoration-color: #008080; font-weight: bold\">200</span> <span style=\"color: #0000ff; text-decoration-color: #0000ff\">loss</span>=<span style=\"color: #008080; text-decoration-color: #008080; font-weight: bold\">4.25317</span> <span style=\"color: #0000ff; text-decoration-color: #0000ff\">dt</span>=<span style=\"color: #008080; text-decoration-color: #008080; font-weight: bold\">0.0190229</span> <span style=\"color: #0000ff; text-decoration-color: #0000ff\">dtf</span>=<span style=\"color: #008080; text-decoration-color: #008080; font-weight: bold\">0.0186842</span> <span style=\"color: #0000ff; text-decoration-color: #0000ff\">dtb</span>=<span style=\"color: #008080; text-decoration-color: #008080; font-weight: bold\">0.000125583</span> <span style=\"color: #0000ff; text-decoration-color: #0000ff\">sps</span>=<span style=\"color: #008080; text-decoration-color: #008080; font-weight: bold\">52.5682</span> <span style=\"color: #0000ff; text-decoration-color: #0000ff\">sps_per_gpu</span>=<span style=\"color: #008080; text-decoration-color: #008080; font-weight: bold\">52.5682</span> <span style=\"color: #0000ff; text-decoration-color: #0000ff\">tps</span>=<span style=\"color: #008080; text-decoration-color: #008080; font-weight: bold\">6728.73</span> <span style=\"color: #0000ff; text-decoration-color: #0000ff\">tps_per_gpu</span>=<span style=\"color: #008080; text-decoration-color: #008080; font-weight: bold\">6728.73</span> <span style=\"color: #0000ff; text-decoration-color: #0000ff\">mfu</span>=<span style=\"color: #008080; text-decoration-color: #008080; font-weight: bold\">0.146468</span>\n",
              "</pre>"
            ]
          }
        },
        {
          "output_type": "display_data",
          "metadata": {},
          "data": {
            "text/html": [
              "<pre style=\"white-space:pre;overflow-x:auto;line-height:normal;font-family:Menlo,'DejaVu Sans Mono',consolas,'Courier New',monospace\">[<span style=\"color: #7f7f7f; text-decoration-color: #7f7f7f\">2025-07-23 08:57:39,516186</span>][<span style=\"color: #008000; text-decoration-color: #008000\">I</span>][<span style=\"color: #008080; text-decoration-color: #008080; font-style: italic\">wordplay</span>/<span style=\"color: #000080; text-decoration-color: #000080\">trainer</span><span style=\"color: #0000ff; text-decoration-color: #0000ff\">:</span><span style=\"color: #800080; text-decoration-color: #800080\">790</span>]<span style=\"color: #c0c0c0; text-decoration-color: #c0c0c0\"> </span><span style=\"color: #ff00ff; text-decoration-color: #ff00ff\">[</span><span style=\"color: #008000; text-decoration-color: #008000\">'prompt'</span><span style=\"color: #ff00ff; text-decoration-color: #ff00ff\">]</span>: <span style=\"color: #008000; text-decoration-color: #008000\">'What is an LLM?'</span>\n",
              "</pre>"
            ]
          }
        },
        {
          "output_type": "display_data",
          "metadata": {},
          "data": {
            "text/html": [
              "<pre style=\"white-space:pre;overflow-x:auto;line-height:normal;font-family:Menlo,'DejaVu Sans Mono',consolas,'Courier New',monospace\">[<span style=\"color: #7f7f7f; text-decoration-color: #7f7f7f\">2025-07-23 08:57:39,517133</span>][<span style=\"color: #008000; text-decoration-color: #008000\">I</span>][<span style=\"color: #008080; text-decoration-color: #008080; font-style: italic\">wordplay</span>/<span style=\"color: #000080; text-decoration-color: #000080\">trainer</span><span style=\"color: #0000ff; text-decoration-color: #0000ff\">:</span><span style=\"color: #800080; text-decoration-color: #800080\">794</span>]<span style=\"color: #c0c0c0; text-decoration-color: #c0c0c0\"> </span><span style=\"color: #ff00ff; text-decoration-color: #ff00ff\">[</span><span style=\"color: #008000; text-decoration-color: #008000\">'response'</span><span style=\"color: #ff00ff; text-decoration-color: #ff00ff\">]</span>:\n",
              "\n",
              "What is an LLM?qervyyf.af3VAAowAoooooBQecAAqrxxxtXptxGQUVVcNYhhhck;;ooc'DaVqLZZZcP'<span style=\"color: #008000; text-decoration-color: #008000\">''</span>GGl..ooosZppV!333QqYYfQSYUUoofkm.tpcq'e'<span style=\"color: #008000; text-decoration-color: #008000\">'3esseeqqe;;!f'</span>sx'MBfQttopp,qccQn3tgQSk-sffQnpSoo'gYpqqQn';qqecAAS'?AAASYf';pMt??pSSpptSbbYj-tWWYQY?gYIfkqg.nn'gqqc'gtqqtS??A'tu?MBBp???qq;;??A,,,\n",
              "</pre>"
            ]
          }
        },
        {
          "output_type": "display_data",
          "metadata": {},
          "data": {
            "text/html": [
              "<pre style=\"white-space:pre;overflow-x:auto;line-height:normal;font-family:Menlo,'DejaVu Sans Mono',consolas,'Courier New',monospace\">[<span style=\"color: #7f7f7f; text-decoration-color: #7f7f7f\">2025-07-23 08:57:42,776297</span>][<span style=\"color: #008000; text-decoration-color: #008000\">I</span>][<span style=\"color: #008080; text-decoration-color: #008080; font-style: italic\">wordplay</span>/<span style=\"color: #000080; text-decoration-color: #000080\">trainer</span><span style=\"color: #0000ff; text-decoration-color: #0000ff\">:</span><span style=\"color: #800080; text-decoration-color: #800080\">733</span>]<span style=\"color: #c0c0c0; text-decoration-color: #c0c0c0\"> </span>Saving checkpoint to: <span style=\"color: #800080; text-decoration-color: #800080\">/Users/samforeman/projects/saforem2/intro-hpc-bootcamp-2025/content/02-llms/</span><span style=\"color: #ff00ff; text-decoration-color: #ff00ff\">7-shakespeare-example</span>\n",
              "</pre>"
            ]
          }
        },
        {
          "output_type": "display_data",
          "metadata": {},
          "data": {
            "text/html": [
              "<pre style=\"white-space:pre;overflow-x:auto;line-height:normal;font-family:Menlo,'DejaVu Sans Mono',consolas,'Courier New',monospace\">[<span style=\"color: #7f7f7f; text-decoration-color: #7f7f7f\">2025-07-23 08:57:42,777344</span>][<span style=\"color: #008000; text-decoration-color: #008000\">I</span>][<span style=\"color: #008080; text-decoration-color: #008080; font-style: italic\">wordplay</span>/<span style=\"color: #000080; text-decoration-color: #000080\">trainer</span><span style=\"color: #0000ff; text-decoration-color: #0000ff\">:</span><span style=\"color: #800080; text-decoration-color: #800080\">734</span>]<span style=\"color: #c0c0c0; text-decoration-color: #c0c0c0\"> </span>Saving model to: <span style=\"color: #800080; text-decoration-color: #800080\">/Users/samforeman/projects/saforem2/intro-hpc-bootcamp-2025/content/02-llms/7-shakespeare-example/</span><span style=\"color: #ff00ff; text-decoration-color: #ff00ff\">model.pth</span>\n",
              "</pre>"
            ]
          }
        },
        {
          "output_type": "display_data",
          "metadata": {},
          "data": {
            "text/html": [
              "<pre style=\"white-space:pre;overflow-x:auto;line-height:normal;font-family:Menlo,'DejaVu Sans Mono',consolas,'Courier New',monospace\">[<span style=\"color: #7f7f7f; text-decoration-color: #7f7f7f\">2025-07-23 08:57:42,853798</span>][<span style=\"color: #008000; text-decoration-color: #008000\">I</span>][<span style=\"color: #008080; text-decoration-color: #008080; font-style: italic\">wordplay</span>/<span style=\"color: #000080; text-decoration-color: #000080\">configs</span><span style=\"color: #0000ff; text-decoration-color: #0000ff\">:</span><span style=\"color: #800080; text-decoration-color: #800080\">141</span>]<span style=\"color: #c0c0c0; text-decoration-color: #c0c0c0\"> </span>Appending <span style=\"color: #800080; text-decoration-color: #800080\">/Users/samforeman/projects/saforem2/intro-hpc-bootcamp-2025/content/02-llms/</span><span style=\"color: #ff00ff; text-decoration-color: #ff00ff\">7-shakespeare-example</span> to <span style=\"color: #800080; text-decoration-color: #800080\">/Users/samforeman/projects/saforem2/wordplay/src/ckpts/</span><span style=\"color: #ff00ff; text-decoration-color: #ff00ff\">checkpoints.log</span>\n",
              "</pre>"
            ]
          }
        },
        {
          "output_type": "display_data",
          "metadata": {},
          "data": {
            "text/html": [
              "<pre style=\"white-space:pre;overflow-x:auto;line-height:normal;font-family:Menlo,'DejaVu Sans Mono',consolas,'Courier New',monospace\">[<span style=\"color: #7f7f7f; text-decoration-color: #7f7f7f\">2025-07-23 08:57:43,037807</span>][<span style=\"color: #008000; text-decoration-color: #008000\">I</span>][<span style=\"color: #008080; text-decoration-color: #008080; font-style: italic\">wordplay</span>/<span style=\"color: #000080; text-decoration-color: #000080\">trainer</span><span style=\"color: #0000ff; text-decoration-color: #0000ff\">:</span><span style=\"color: #800080; text-decoration-color: #800080\">850</span>]<span style=\"color: #c0c0c0; text-decoration-color: #c0c0c0\"> </span><span style=\"color: #0000ff; text-decoration-color: #0000ff\">step</span>=<span style=\"color: #008080; text-decoration-color: #008080; font-weight: bold\">210</span> <span style=\"color: #0000ff; text-decoration-color: #0000ff\">loss</span>=<span style=\"color: #008080; text-decoration-color: #008080; font-weight: bold\">4.22371</span> <span style=\"color: #0000ff; text-decoration-color: #0000ff\">dt</span>=<span style=\"color: #008080; text-decoration-color: #008080; font-weight: bold\">0.0183117</span> <span style=\"color: #0000ff; text-decoration-color: #0000ff\">dtf</span>=<span style=\"color: #008080; text-decoration-color: #008080; font-weight: bold\">0.0180338</span> <span style=\"color: #0000ff; text-decoration-color: #0000ff\">dtb</span>=<span style=\"color: #008080; text-decoration-color: #008080; font-weight: bold\">0.00011275</span> <span style=\"color: #0000ff; text-decoration-color: #0000ff\">sps</span>=<span style=\"color: #008080; text-decoration-color: #008080; font-weight: bold\">54.6099</span> <span style=\"color: #0000ff; text-decoration-color: #0000ff\">sps_per_gpu</span>=<span style=\"color: #008080; text-decoration-color: #008080; font-weight: bold\">54.6099</span> <span style=\"color: #0000ff; text-decoration-color: #0000ff\">tps</span>=<span style=\"color: #008080; text-decoration-color: #008080; font-weight: bold\">6990.06</span> <span style=\"color: #0000ff; text-decoration-color: #0000ff\">tps_per_gpu</span>=<span style=\"color: #008080; text-decoration-color: #008080; font-weight: bold\">6990.06</span> <span style=\"color: #0000ff; text-decoration-color: #0000ff\">mfu</span>=<span style=\"color: #008080; text-decoration-color: #008080; font-weight: bold\">0.146926</span>\n",
              "</pre>"
            ]
          }
        },
        {
          "output_type": "display_data",
          "metadata": {},
          "data": {
            "text/html": [
              "<pre style=\"white-space:pre;overflow-x:auto;line-height:normal;font-family:Menlo,'DejaVu Sans Mono',consolas,'Courier New',monospace\">[<span style=\"color: #7f7f7f; text-decoration-color: #7f7f7f\">2025-07-23 08:57:43,278194</span>][<span style=\"color: #008000; text-decoration-color: #008000\">I</span>][<span style=\"color: #008080; text-decoration-color: #008080; font-style: italic\">wordplay</span>/<span style=\"color: #000080; text-decoration-color: #000080\">trainer</span><span style=\"color: #0000ff; text-decoration-color: #0000ff\">:</span><span style=\"color: #800080; text-decoration-color: #800080\">850</span>]<span style=\"color: #c0c0c0; text-decoration-color: #c0c0c0\"> </span><span style=\"color: #0000ff; text-decoration-color: #0000ff\">step</span>=<span style=\"color: #008080; text-decoration-color: #008080; font-weight: bold\">220</span> <span style=\"color: #0000ff; text-decoration-color: #0000ff\">loss</span>=<span style=\"color: #008080; text-decoration-color: #008080; font-weight: bold\">4.23227</span> <span style=\"color: #0000ff; text-decoration-color: #0000ff\">dt</span>=<span style=\"color: #008080; text-decoration-color: #008080; font-weight: bold\">0.0404442</span> <span style=\"color: #0000ff; text-decoration-color: #0000ff\">dtf</span>=<span style=\"color: #008080; text-decoration-color: #008080; font-weight: bold\">0.039796</span> <span style=\"color: #0000ff; text-decoration-color: #0000ff\">dtb</span>=<span style=\"color: #008080; text-decoration-color: #008080; font-weight: bold\">0.000236875</span> <span style=\"color: #0000ff; text-decoration-color: #0000ff\">sps</span>=<span style=\"color: #008080; text-decoration-color: #008080; font-weight: bold\">24.7254</span> <span style=\"color: #0000ff; text-decoration-color: #0000ff\">sps_per_gpu</span>=<span style=\"color: #008080; text-decoration-color: #008080; font-weight: bold\">24.7254</span> <span style=\"color: #0000ff; text-decoration-color: #0000ff\">tps</span>=<span style=\"color: #008080; text-decoration-color: #008080; font-weight: bold\">3164.85</span> <span style=\"color: #0000ff; text-decoration-color: #0000ff\">tps_per_gpu</span>=<span style=\"color: #008080; text-decoration-color: #008080; font-weight: bold\">3164.85</span> <span style=\"color: #0000ff; text-decoration-color: #0000ff\">mfu</span>=<span style=\"color: #008080; text-decoration-color: #008080; font-weight: bold\">0.139072</span>\n",
              "</pre>"
            ]
          }
        },
        {
          "output_type": "display_data",
          "metadata": {},
          "data": {
            "text/html": [
              "<pre style=\"white-space:pre;overflow-x:auto;line-height:normal;font-family:Menlo,'DejaVu Sans Mono',consolas,'Courier New',monospace\">[<span style=\"color: #7f7f7f; text-decoration-color: #7f7f7f\">2025-07-23 08:57:43,478081</span>][<span style=\"color: #008000; text-decoration-color: #008000\">I</span>][<span style=\"color: #008080; text-decoration-color: #008080; font-style: italic\">wordplay</span>/<span style=\"color: #000080; text-decoration-color: #000080\">trainer</span><span style=\"color: #0000ff; text-decoration-color: #0000ff\">:</span><span style=\"color: #800080; text-decoration-color: #800080\">850</span>]<span style=\"color: #c0c0c0; text-decoration-color: #c0c0c0\"> </span><span style=\"color: #0000ff; text-decoration-color: #0000ff\">step</span>=<span style=\"color: #008080; text-decoration-color: #008080; font-weight: bold\">230</span> <span style=\"color: #0000ff; text-decoration-color: #0000ff\">loss</span>=<span style=\"color: #008080; text-decoration-color: #008080; font-weight: bold\">4.22308</span> <span style=\"color: #0000ff; text-decoration-color: #0000ff\">dt</span>=<span style=\"color: #008080; text-decoration-color: #008080; font-weight: bold\">0.0194452</span> <span style=\"color: #0000ff; text-decoration-color: #0000ff\">dtf</span>=<span style=\"color: #008080; text-decoration-color: #008080; font-weight: bold\">0.0190105</span> <span style=\"color: #0000ff; text-decoration-color: #0000ff\">dtb</span>=<span style=\"color: #008080; text-decoration-color: #008080; font-weight: bold\">0.000176708</span> <span style=\"color: #0000ff; text-decoration-color: #0000ff\">sps</span>=<span style=\"color: #008080; text-decoration-color: #008080; font-weight: bold\">51.4267</span> <span style=\"color: #0000ff; text-decoration-color: #0000ff\">sps_per_gpu</span>=<span style=\"color: #008080; text-decoration-color: #008080; font-weight: bold\">51.4267</span> <span style=\"color: #0000ff; text-decoration-color: #0000ff\">tps</span>=<span style=\"color: #008080; text-decoration-color: #008080; font-weight: bold\">6582.61</span> <span style=\"color: #0000ff; text-decoration-color: #0000ff\">tps_per_gpu</span>=<span style=\"color: #008080; text-decoration-color: #008080; font-weight: bold\">6582.61</span> <span style=\"color: #0000ff; text-decoration-color: #0000ff\">mfu</span>=<span style=\"color: #008080; text-decoration-color: #008080; font-weight: bold\">0.139389</span>\n",
              "</pre>"
            ]
          }
        },
        {
          "output_type": "display_data",
          "metadata": {},
          "data": {
            "text/html": [
              "<pre style=\"white-space:pre;overflow-x:auto;line-height:normal;font-family:Menlo,'DejaVu Sans Mono',consolas,'Courier New',monospace\">[<span style=\"color: #7f7f7f; text-decoration-color: #7f7f7f\">2025-07-23 08:57:43,669890</span>][<span style=\"color: #008000; text-decoration-color: #008000\">I</span>][<span style=\"color: #008080; text-decoration-color: #008080; font-style: italic\">wordplay</span>/<span style=\"color: #000080; text-decoration-color: #000080\">trainer</span><span style=\"color: #0000ff; text-decoration-color: #0000ff\">:</span><span style=\"color: #800080; text-decoration-color: #800080\">850</span>]<span style=\"color: #c0c0c0; text-decoration-color: #c0c0c0\"> </span><span style=\"color: #0000ff; text-decoration-color: #0000ff\">step</span>=<span style=\"color: #008080; text-decoration-color: #008080; font-weight: bold\">240</span> <span style=\"color: #0000ff; text-decoration-color: #0000ff\">loss</span>=<span style=\"color: #008080; text-decoration-color: #008080; font-weight: bold\">4.23777</span> <span style=\"color: #0000ff; text-decoration-color: #0000ff\">dt</span>=<span style=\"color: #008080; text-decoration-color: #008080; font-weight: bold\">0.0194536</span> <span style=\"color: #0000ff; text-decoration-color: #0000ff\">dtf</span>=<span style=\"color: #008080; text-decoration-color: #008080; font-weight: bold\">0.0191158</span> <span style=\"color: #0000ff; text-decoration-color: #0000ff\">dtb</span>=<span style=\"color: #008080; text-decoration-color: #008080; font-weight: bold\">0.000130333</span> <span style=\"color: #0000ff; text-decoration-color: #0000ff\">sps</span>=<span style=\"color: #008080; text-decoration-color: #008080; font-weight: bold\">51.4043</span> <span style=\"color: #0000ff; text-decoration-color: #0000ff\">sps_per_gpu</span>=<span style=\"color: #008080; text-decoration-color: #008080; font-weight: bold\">51.4043</span> <span style=\"color: #0000ff; text-decoration-color: #0000ff\">tps</span>=<span style=\"color: #008080; text-decoration-color: #008080; font-weight: bold\">6579.75</span> <span style=\"color: #0000ff; text-decoration-color: #0000ff\">tps_per_gpu</span>=<span style=\"color: #008080; text-decoration-color: #008080; font-weight: bold\">6579.75</span> <span style=\"color: #0000ff; text-decoration-color: #0000ff\">mfu</span>=<span style=\"color: #008080; text-decoration-color: #008080; font-weight: bold\">0.139668</span>\n",
              "</pre>"
            ]
          }
        },
        {
          "output_type": "display_data",
          "metadata": {},
          "data": {
            "text/html": [
              "<pre style=\"white-space:pre;overflow-x:auto;line-height:normal;font-family:Menlo,'DejaVu Sans Mono',consolas,'Courier New',monospace\">[<span style=\"color: #7f7f7f; text-decoration-color: #7f7f7f\">2025-07-23 08:57:43,859150</span>][<span style=\"color: #008000; text-decoration-color: #008000\">I</span>][<span style=\"color: #008080; text-decoration-color: #008080; font-style: italic\">wordplay</span>/<span style=\"color: #000080; text-decoration-color: #000080\">trainer</span><span style=\"color: #0000ff; text-decoration-color: #0000ff\">:</span><span style=\"color: #800080; text-decoration-color: #800080\">850</span>]<span style=\"color: #c0c0c0; text-decoration-color: #c0c0c0\"> </span><span style=\"color: #0000ff; text-decoration-color: #0000ff\">step</span>=<span style=\"color: #008080; text-decoration-color: #008080; font-weight: bold\">250</span> <span style=\"color: #0000ff; text-decoration-color: #0000ff\">loss</span>=<span style=\"color: #008080; text-decoration-color: #008080; font-weight: bold\">4.24408</span> <span style=\"color: #0000ff; text-decoration-color: #0000ff\">dt</span>=<span style=\"color: #008080; text-decoration-color: #008080; font-weight: bold\">0.0186029</span> <span style=\"color: #0000ff; text-decoration-color: #0000ff\">dtf</span>=<span style=\"color: #008080; text-decoration-color: #008080; font-weight: bold\">0.018278</span> <span style=\"color: #0000ff; text-decoration-color: #0000ff\">dtb</span>=<span style=\"color: #008080; text-decoration-color: #008080; font-weight: bold\">0.00011975</span> <span style=\"color: #0000ff; text-decoration-color: #0000ff\">sps</span>=<span style=\"color: #008080; text-decoration-color: #008080; font-weight: bold\">53.7551</span> <span style=\"color: #0000ff; text-decoration-color: #0000ff\">sps_per_gpu</span>=<span style=\"color: #008080; text-decoration-color: #008080; font-weight: bold\">53.7551</span> <span style=\"color: #0000ff; text-decoration-color: #0000ff\">tps</span>=<span style=\"color: #008080; text-decoration-color: #008080; font-weight: bold\">6880.66</span> <span style=\"color: #0000ff; text-decoration-color: #0000ff\">tps_per_gpu</span>=<span style=\"color: #008080; text-decoration-color: #008080; font-weight: bold\">6880.66</span> <span style=\"color: #0000ff; text-decoration-color: #0000ff\">mfu</span>=<span style=\"color: #008080; text-decoration-color: #008080; font-weight: bold\">0.14057</span>\n",
              "</pre>"
            ]
          }
        },
        {
          "output_type": "display_data",
          "metadata": {},
          "data": {
            "text/html": [
              "<pre style=\"white-space:pre;overflow-x:auto;line-height:normal;font-family:Menlo,'DejaVu Sans Mono',consolas,'Courier New',monospace\">[<span style=\"color: #7f7f7f; text-decoration-color: #7f7f7f\">2025-07-23 08:57:45,748364</span>][<span style=\"color: #008000; text-decoration-color: #008000\">I</span>][<span style=\"color: #008080; text-decoration-color: #008080; font-style: italic\">wordplay</span>/<span style=\"color: #000080; text-decoration-color: #000080\">trainer</span><span style=\"color: #0000ff; text-decoration-color: #0000ff\">:</span><span style=\"color: #800080; text-decoration-color: #800080\">790</span>]<span style=\"color: #c0c0c0; text-decoration-color: #c0c0c0\"> </span><span style=\"color: #ff00ff; text-decoration-color: #ff00ff\">[</span><span style=\"color: #008000; text-decoration-color: #008000\">'prompt'</span><span style=\"color: #ff00ff; text-decoration-color: #ff00ff\">]</span>: <span style=\"color: #008000; text-decoration-color: #008000\">'What is an LLM?'</span>\n",
              "</pre>"
            ]
          }
        },
        {
          "output_type": "display_data",
          "metadata": {},
          "data": {
            "text/html": [
              "<pre style=\"white-space:pre;overflow-x:auto;line-height:normal;font-family:Menlo,'DejaVu Sans Mono',consolas,'Courier New',monospace\">[<span style=\"color: #7f7f7f; text-decoration-color: #7f7f7f\">2025-07-23 08:57:45,749284</span>][<span style=\"color: #008000; text-decoration-color: #008000\">I</span>][<span style=\"color: #008080; text-decoration-color: #008080; font-style: italic\">wordplay</span>/<span style=\"color: #000080; text-decoration-color: #000080\">trainer</span><span style=\"color: #0000ff; text-decoration-color: #0000ff\">:</span><span style=\"color: #800080; text-decoration-color: #800080\">794</span>]<span style=\"color: #c0c0c0; text-decoration-color: #c0c0c0\"> </span><span style=\"color: #ff00ff; text-decoration-color: #ff00ff\">[</span><span style=\"color: #008000; text-decoration-color: #008000\">'response'</span><span style=\"color: #ff00ff; text-decoration-color: #ff00ff\">]</span>:\n",
              "\n",
              "What is an LLM?.rooffAA rW,,aAA'GoA,aUVVcCoGhvZZcd.QEcNAgxvwYa'haccX.aqo?rrQQ;;QbZ <span style=\"color: #008000; text-decoration-color: #008000\">'''fc3FqqWk.'oceQ-h!?Yvs'rw--Qc'333-.hq3AwvvcLq','J-w'''</span>rhqWo--;hSQgSqq;?rqYygAA,asso;q33AA'rbv,J-fof'g'SJJ,;ttcqq;<span style=\"color: #008000; text-decoration-color: #008000\">'wgybqppaqttof;;;'''</span>qtqaJpuuYf;paeyfhqg'<span style=\"color: #008000; text-decoration-color: #008000\">'''qWWbwAA-bbQyg'</span>Sqqos''qYrM;a;??\n",
              "</pre>"
            ]
          }
        },
        {
          "output_type": "display_data",
          "metadata": {},
          "data": {
            "text/html": [
              "<pre style=\"white-space:pre;overflow-x:auto;line-height:normal;font-family:Menlo,'DejaVu Sans Mono',consolas,'Courier New',monospace\">[<span style=\"color: #7f7f7f; text-decoration-color: #7f7f7f\">2025-07-23 08:57:49,402681</span>][<span style=\"color: #008000; text-decoration-color: #008000\">I</span>][<span style=\"color: #008080; text-decoration-color: #008080; font-style: italic\">wordplay</span>/<span style=\"color: #000080; text-decoration-color: #000080\">trainer</span><span style=\"color: #0000ff; text-decoration-color: #0000ff\">:</span><span style=\"color: #800080; text-decoration-color: #800080\">733</span>]<span style=\"color: #c0c0c0; text-decoration-color: #c0c0c0\"> </span>Saving checkpoint to: <span style=\"color: #800080; text-decoration-color: #800080\">/Users/samforeman/projects/saforem2/intro-hpc-bootcamp-2025/content/02-llms/</span><span style=\"color: #ff00ff; text-decoration-color: #ff00ff\">7-shakespeare-example</span>\n",
              "</pre>"
            ]
          }
        },
        {
          "output_type": "display_data",
          "metadata": {},
          "data": {
            "text/html": [
              "<pre style=\"white-space:pre;overflow-x:auto;line-height:normal;font-family:Menlo,'DejaVu Sans Mono',consolas,'Courier New',monospace\">[<span style=\"color: #7f7f7f; text-decoration-color: #7f7f7f\">2025-07-23 08:57:49,403769</span>][<span style=\"color: #008000; text-decoration-color: #008000\">I</span>][<span style=\"color: #008080; text-decoration-color: #008080; font-style: italic\">wordplay</span>/<span style=\"color: #000080; text-decoration-color: #000080\">trainer</span><span style=\"color: #0000ff; text-decoration-color: #0000ff\">:</span><span style=\"color: #800080; text-decoration-color: #800080\">734</span>]<span style=\"color: #c0c0c0; text-decoration-color: #c0c0c0\"> </span>Saving model to: <span style=\"color: #800080; text-decoration-color: #800080\">/Users/samforeman/projects/saforem2/intro-hpc-bootcamp-2025/content/02-llms/7-shakespeare-example/</span><span style=\"color: #ff00ff; text-decoration-color: #ff00ff\">model.pth</span>\n",
              "</pre>"
            ]
          }
        },
        {
          "output_type": "display_data",
          "metadata": {},
          "data": {
            "text/html": [
              "<pre style=\"white-space:pre;overflow-x:auto;line-height:normal;font-family:Menlo,'DejaVu Sans Mono',consolas,'Courier New',monospace\">[<span style=\"color: #7f7f7f; text-decoration-color: #7f7f7f\">2025-07-23 08:57:49,478701</span>][<span style=\"color: #008000; text-decoration-color: #008000\">I</span>][<span style=\"color: #008080; text-decoration-color: #008080; font-style: italic\">wordplay</span>/<span style=\"color: #000080; text-decoration-color: #000080\">configs</span><span style=\"color: #0000ff; text-decoration-color: #0000ff\">:</span><span style=\"color: #800080; text-decoration-color: #800080\">141</span>]<span style=\"color: #c0c0c0; text-decoration-color: #c0c0c0\"> </span>Appending <span style=\"color: #800080; text-decoration-color: #800080\">/Users/samforeman/projects/saforem2/intro-hpc-bootcamp-2025/content/02-llms/</span><span style=\"color: #ff00ff; text-decoration-color: #ff00ff\">7-shakespeare-example</span> to <span style=\"color: #800080; text-decoration-color: #800080\">/Users/samforeman/projects/saforem2/wordplay/src/ckpts/</span><span style=\"color: #ff00ff; text-decoration-color: #ff00ff\">checkpoints.log</span>\n",
              "</pre>"
            ]
          }
        },
        {
          "output_type": "display_data",
          "metadata": {},
          "data": {
            "text/html": [
              "<pre style=\"white-space:pre;overflow-x:auto;line-height:normal;font-family:Menlo,'DejaVu Sans Mono',consolas,'Courier New',monospace\">[<span style=\"color: #7f7f7f; text-decoration-color: #7f7f7f\">2025-07-23 08:57:49,689418</span>][<span style=\"color: #008000; text-decoration-color: #008000\">I</span>][<span style=\"color: #008080; text-decoration-color: #008080; font-style: italic\">wordplay</span>/<span style=\"color: #000080; text-decoration-color: #000080\">trainer</span><span style=\"color: #0000ff; text-decoration-color: #0000ff\">:</span><span style=\"color: #800080; text-decoration-color: #800080\">850</span>]<span style=\"color: #c0c0c0; text-decoration-color: #c0c0c0\"> </span><span style=\"color: #0000ff; text-decoration-color: #0000ff\">step</span>=<span style=\"color: #008080; text-decoration-color: #008080; font-weight: bold\">260</span> <span style=\"color: #0000ff; text-decoration-color: #0000ff\">loss</span>=<span style=\"color: #008080; text-decoration-color: #008080; font-weight: bold\">4.2759</span> <span style=\"color: #0000ff; text-decoration-color: #0000ff\">dt</span>=<span style=\"color: #008080; text-decoration-color: #008080; font-weight: bold\">0.0224026</span> <span style=\"color: #0000ff; text-decoration-color: #0000ff\">dtf</span>=<span style=\"color: #008080; text-decoration-color: #008080; font-weight: bold\">0.0220174</span> <span style=\"color: #0000ff; text-decoration-color: #0000ff\">dtb</span>=<span style=\"color: #008080; text-decoration-color: #008080; font-weight: bold\">0.000122792</span> <span style=\"color: #0000ff; text-decoration-color: #0000ff\">sps</span>=<span style=\"color: #008080; text-decoration-color: #008080; font-weight: bold\">44.6376</span> <span style=\"color: #0000ff; text-decoration-color: #0000ff\">sps_per_gpu</span>=<span style=\"color: #008080; text-decoration-color: #008080; font-weight: bold\">44.6376</span> <span style=\"color: #0000ff; text-decoration-color: #0000ff\">tps</span>=<span style=\"color: #008080; text-decoration-color: #008080; font-weight: bold\">5713.62</span> <span style=\"color: #0000ff; text-decoration-color: #0000ff\">tps_per_gpu</span>=<span style=\"color: #008080; text-decoration-color: #008080; font-weight: bold\">5713.62</span> <span style=\"color: #0000ff; text-decoration-color: #0000ff\">mfu</span>=<span style=\"color: #008080; text-decoration-color: #008080; font-weight: bold\">0.138859</span>\n",
              "</pre>"
            ]
          }
        },
        {
          "output_type": "display_data",
          "metadata": {},
          "data": {
            "text/html": [
              "<pre style=\"white-space:pre;overflow-x:auto;line-height:normal;font-family:Menlo,'DejaVu Sans Mono',consolas,'Courier New',monospace\">[<span style=\"color: #7f7f7f; text-decoration-color: #7f7f7f\">2025-07-23 08:57:49,921320</span>][<span style=\"color: #008000; text-decoration-color: #008000\">I</span>][<span style=\"color: #008080; text-decoration-color: #008080; font-style: italic\">wordplay</span>/<span style=\"color: #000080; text-decoration-color: #000080\">trainer</span><span style=\"color: #0000ff; text-decoration-color: #0000ff\">:</span><span style=\"color: #800080; text-decoration-color: #800080\">850</span>]<span style=\"color: #c0c0c0; text-decoration-color: #c0c0c0\"> </span><span style=\"color: #0000ff; text-decoration-color: #0000ff\">step</span>=<span style=\"color: #008080; text-decoration-color: #008080; font-weight: bold\">270</span> <span style=\"color: #0000ff; text-decoration-color: #0000ff\">loss</span>=<span style=\"color: #008080; text-decoration-color: #008080; font-weight: bold\">4.31702</span> <span style=\"color: #0000ff; text-decoration-color: #0000ff\">dt</span>=<span style=\"color: #008080; text-decoration-color: #008080; font-weight: bold\">0.0237152</span> <span style=\"color: #0000ff; text-decoration-color: #0000ff\">dtf</span>=<span style=\"color: #008080; text-decoration-color: #008080; font-weight: bold\">0.0231717</span> <span style=\"color: #0000ff; text-decoration-color: #0000ff\">dtb</span>=<span style=\"color: #008080; text-decoration-color: #008080; font-weight: bold\">0.000287875</span> <span style=\"color: #0000ff; text-decoration-color: #0000ff\">sps</span>=<span style=\"color: #008080; text-decoration-color: #008080; font-weight: bold\">42.167</span> <span style=\"color: #0000ff; text-decoration-color: #0000ff\">sps_per_gpu</span>=<span style=\"color: #008080; text-decoration-color: #008080; font-weight: bold\">42.167</span> <span style=\"color: #0000ff; text-decoration-color: #0000ff\">tps</span>=<span style=\"color: #008080; text-decoration-color: #008080; font-weight: bold\">5397.38</span> <span style=\"color: #0000ff; text-decoration-color: #0000ff\">tps_per_gpu</span>=<span style=\"color: #008080; text-decoration-color: #008080; font-weight: bold\">5397.38</span> <span style=\"color: #0000ff; text-decoration-color: #0000ff\">mfu</span>=<span style=\"color: #008080; text-decoration-color: #008080; font-weight: bold\">0.136637</span>\n",
              "</pre>"
            ]
          }
        },
        {
          "output_type": "display_data",
          "metadata": {},
          "data": {
            "text/html": [
              "<pre style=\"white-space:pre;overflow-x:auto;line-height:normal;font-family:Menlo,'DejaVu Sans Mono',consolas,'Courier New',monospace\">[<span style=\"color: #7f7f7f; text-decoration-color: #7f7f7f\">2025-07-23 08:57:50,134844</span>][<span style=\"color: #008000; text-decoration-color: #008000\">I</span>][<span style=\"color: #008080; text-decoration-color: #008080; font-style: italic\">wordplay</span>/<span style=\"color: #000080; text-decoration-color: #000080\">trainer</span><span style=\"color: #0000ff; text-decoration-color: #0000ff\">:</span><span style=\"color: #800080; text-decoration-color: #800080\">850</span>]<span style=\"color: #c0c0c0; text-decoration-color: #c0c0c0\"> </span><span style=\"color: #0000ff; text-decoration-color: #0000ff\">step</span>=<span style=\"color: #008080; text-decoration-color: #008080; font-weight: bold\">280</span> <span style=\"color: #0000ff; text-decoration-color: #0000ff\">loss</span>=<span style=\"color: #008080; text-decoration-color: #008080; font-weight: bold\">4.20612</span> <span style=\"color: #0000ff; text-decoration-color: #0000ff\">dt</span>=<span style=\"color: #008080; text-decoration-color: #008080; font-weight: bold\">0.0189346</span> <span style=\"color: #0000ff; text-decoration-color: #0000ff\">dtf</span>=<span style=\"color: #008080; text-decoration-color: #008080; font-weight: bold\">0.0185717</span> <span style=\"color: #0000ff; text-decoration-color: #0000ff\">dtb</span>=<span style=\"color: #008080; text-decoration-color: #008080; font-weight: bold\">0.000153667</span> <span style=\"color: #0000ff; text-decoration-color: #0000ff\">sps</span>=<span style=\"color: #008080; text-decoration-color: #008080; font-weight: bold\">52.8133</span> <span style=\"color: #0000ff; text-decoration-color: #0000ff\">sps_per_gpu</span>=<span style=\"color: #008080; text-decoration-color: #008080; font-weight: bold\">52.8133</span> <span style=\"color: #0000ff; text-decoration-color: #0000ff\">tps</span>=<span style=\"color: #008080; text-decoration-color: #008080; font-weight: bold\">6760.1</span> <span style=\"color: #0000ff; text-decoration-color: #0000ff\">tps_per_gpu</span>=<span style=\"color: #008080; text-decoration-color: #008080; font-weight: bold\">6760.1</span> <span style=\"color: #0000ff; text-decoration-color: #0000ff\">mfu</span>=<span style=\"color: #008080; text-decoration-color: #008080; font-weight: bold\">0.137581</span>\n",
              "</pre>"
            ]
          }
        },
        {
          "output_type": "display_data",
          "metadata": {},
          "data": {
            "text/html": [
              "<pre style=\"white-space:pre;overflow-x:auto;line-height:normal;font-family:Menlo,'DejaVu Sans Mono',consolas,'Courier New',monospace\">[<span style=\"color: #7f7f7f; text-decoration-color: #7f7f7f\">2025-07-23 08:57:50,351258</span>][<span style=\"color: #008000; text-decoration-color: #008000\">I</span>][<span style=\"color: #008080; text-decoration-color: #008080; font-style: italic\">wordplay</span>/<span style=\"color: #000080; text-decoration-color: #000080\">trainer</span><span style=\"color: #0000ff; text-decoration-color: #0000ff\">:</span><span style=\"color: #800080; text-decoration-color: #800080\">850</span>]<span style=\"color: #c0c0c0; text-decoration-color: #c0c0c0\"> </span><span style=\"color: #0000ff; text-decoration-color: #0000ff\">step</span>=<span style=\"color: #008080; text-decoration-color: #008080; font-weight: bold\">290</span> <span style=\"color: #0000ff; text-decoration-color: #0000ff\">loss</span>=<span style=\"color: #008080; text-decoration-color: #008080; font-weight: bold\">4.22943</span> <span style=\"color: #0000ff; text-decoration-color: #0000ff\">dt</span>=<span style=\"color: #008080; text-decoration-color: #008080; font-weight: bold\">0.022031</span> <span style=\"color: #0000ff; text-decoration-color: #0000ff\">dtf</span>=<span style=\"color: #008080; text-decoration-color: #008080; font-weight: bold\">0.0216679</span> <span style=\"color: #0000ff; text-decoration-color: #0000ff\">dtb</span>=<span style=\"color: #008080; text-decoration-color: #008080; font-weight: bold\">0.000132084</span> <span style=\"color: #0000ff; text-decoration-color: #0000ff\">sps</span>=<span style=\"color: #008080; text-decoration-color: #008080; font-weight: bold\">45.3906</span> <span style=\"color: #0000ff; text-decoration-color: #0000ff\">sps_per_gpu</span>=<span style=\"color: #008080; text-decoration-color: #008080; font-weight: bold\">45.3906</span> <span style=\"color: #0000ff; text-decoration-color: #0000ff\">tps</span>=<span style=\"color: #008080; text-decoration-color: #008080; font-weight: bold\">5810</span> <span style=\"color: #0000ff; text-decoration-color: #0000ff\">tps_per_gpu</span>=<span style=\"color: #008080; text-decoration-color: #008080; font-weight: bold\">5810</span> <span style=\"color: #0000ff; text-decoration-color: #0000ff\">mfu</span>=<span style=\"color: #008080; text-decoration-color: #008080; font-weight: bold\">0.136377</span>\n",
              "</pre>"
            ]
          }
        },
        {
          "output_type": "display_data",
          "metadata": {},
          "data": {
            "text/html": [
              "<pre style=\"white-space:pre;overflow-x:auto;line-height:normal;font-family:Menlo,'DejaVu Sans Mono',consolas,'Courier New',monospace\">[<span style=\"color: #7f7f7f; text-decoration-color: #7f7f7f\">2025-07-23 08:57:50,566405</span>][<span style=\"color: #008000; text-decoration-color: #008000\">I</span>][<span style=\"color: #008080; text-decoration-color: #008080; font-style: italic\">wordplay</span>/<span style=\"color: #000080; text-decoration-color: #000080\">trainer</span><span style=\"color: #0000ff; text-decoration-color: #0000ff\">:</span><span style=\"color: #800080; text-decoration-color: #800080\">850</span>]<span style=\"color: #c0c0c0; text-decoration-color: #c0c0c0\"> </span><span style=\"color: #0000ff; text-decoration-color: #0000ff\">step</span>=<span style=\"color: #008080; text-decoration-color: #008080; font-weight: bold\">300</span> <span style=\"color: #0000ff; text-decoration-color: #0000ff\">loss</span>=<span style=\"color: #008080; text-decoration-color: #008080; font-weight: bold\">4.11928</span> <span style=\"color: #0000ff; text-decoration-color: #0000ff\">dt</span>=<span style=\"color: #008080; text-decoration-color: #008080; font-weight: bold\">0.0196893</span> <span style=\"color: #0000ff; text-decoration-color: #0000ff\">dtf</span>=<span style=\"color: #008080; text-decoration-color: #008080; font-weight: bold\">0.0193414</span> <span style=\"color: #0000ff; text-decoration-color: #0000ff\">dtb</span>=<span style=\"color: #008080; text-decoration-color: #008080; font-weight: bold\">0.000129042</span> <span style=\"color: #0000ff; text-decoration-color: #0000ff\">sps</span>=<span style=\"color: #008080; text-decoration-color: #008080; font-weight: bold\">50.7891</span> <span style=\"color: #0000ff; text-decoration-color: #0000ff\">sps_per_gpu</span>=<span style=\"color: #008080; text-decoration-color: #008080; font-weight: bold\">50.7891</span> <span style=\"color: #0000ff; text-decoration-color: #0000ff\">tps</span>=<span style=\"color: #008080; text-decoration-color: #008080; font-weight: bold\">6501.01</span> <span style=\"color: #0000ff; text-decoration-color: #0000ff\">tps_per_gpu</span>=<span style=\"color: #008080; text-decoration-color: #008080; font-weight: bold\">6501.01</span> <span style=\"color: #0000ff; text-decoration-color: #0000ff\">mfu</span>=<span style=\"color: #008080; text-decoration-color: #008080; font-weight: bold\">0.136788</span>\n",
              "</pre>"
            ]
          }
        },
        {
          "output_type": "display_data",
          "metadata": {},
          "data": {
            "text/html": [
              "<pre style=\"white-space:pre;overflow-x:auto;line-height:normal;font-family:Menlo,'DejaVu Sans Mono',consolas,'Courier New',monospace\">[<span style=\"color: #7f7f7f; text-decoration-color: #7f7f7f\">2025-07-23 08:57:52,457619</span>][<span style=\"color: #008000; text-decoration-color: #008000\">I</span>][<span style=\"color: #008080; text-decoration-color: #008080; font-style: italic\">wordplay</span>/<span style=\"color: #000080; text-decoration-color: #000080\">trainer</span><span style=\"color: #0000ff; text-decoration-color: #0000ff\">:</span><span style=\"color: #800080; text-decoration-color: #800080\">790</span>]<span style=\"color: #c0c0c0; text-decoration-color: #c0c0c0\"> </span><span style=\"color: #ff00ff; text-decoration-color: #ff00ff\">[</span><span style=\"color: #008000; text-decoration-color: #008000\">'prompt'</span><span style=\"color: #ff00ff; text-decoration-color: #ff00ff\">]</span>: <span style=\"color: #008000; text-decoration-color: #008000\">'What is an LLM?'</span>\n",
              "</pre>"
            ]
          }
        },
        {
          "output_type": "display_data",
          "metadata": {},
          "data": {
            "text/html": [
              "<pre style=\"white-space:pre;overflow-x:auto;line-height:normal;font-family:Menlo,'DejaVu Sans Mono',consolas,'Courier New',monospace\">[<span style=\"color: #7f7f7f; text-decoration-color: #7f7f7f\">2025-07-23 08:57:52,458547</span>][<span style=\"color: #008000; text-decoration-color: #008000\">I</span>][<span style=\"color: #008080; text-decoration-color: #008080; font-style: italic\">wordplay</span>/<span style=\"color: #000080; text-decoration-color: #000080\">trainer</span><span style=\"color: #0000ff; text-decoration-color: #0000ff\">:</span><span style=\"color: #800080; text-decoration-color: #800080\">794</span>]<span style=\"color: #c0c0c0; text-decoration-color: #c0c0c0\"> </span><span style=\"color: #ff00ff; text-decoration-color: #ff00ff\">[</span><span style=\"color: #008000; text-decoration-color: #008000\">'response'</span><span style=\"color: #ff00ff; text-decoration-color: #ff00ff\">]</span>:\n",
              "\n",
              "What is an LLM?L3slghC33vfJQO-eBBBv.Y.Sffs,<span style=\"color: #008000; text-decoration-color: #008000\">'gxEUAUCQeswPv,ettLWClrrqeZAtLA.''3NsG..''.sAAmebbqYrv'</span>'-\n",
              "hTkcxhqqVUvvvfv,lxxlAc..3Zpq'<span style=\"color: #008000; text-decoration-color: #008000\">'Qsk'</span>st;xlneQssssxS;<span style=\"color: #008000; text-decoration-color: #008000\">'tt;cb;??rSQ'</span>k--<span style=\"color: #008000; text-decoration-color: #008000\">'t::qqnpYbc;nn;WWqqexSe''ftMqYYttttook;;pgSQQcLgycA;;qqbb''aakqrAAk.h''gYbcLLoopqs:sSSAgZQtiAA.'</span>MMsWllpMt\n",
              "</pre>"
            ]
          }
        },
        {
          "output_type": "display_data",
          "metadata": {},
          "data": {
            "text/html": [
              "<pre style=\"white-space:pre;overflow-x:auto;line-height:normal;font-family:Menlo,'DejaVu Sans Mono',consolas,'Courier New',monospace\">[<span style=\"color: #7f7f7f; text-decoration-color: #7f7f7f\">2025-07-23 08:57:56,503709</span>][<span style=\"color: #008000; text-decoration-color: #008000\">I</span>][<span style=\"color: #008080; text-decoration-color: #008080; font-style: italic\">wordplay</span>/<span style=\"color: #000080; text-decoration-color: #000080\">trainer</span><span style=\"color: #0000ff; text-decoration-color: #0000ff\">:</span><span style=\"color: #800080; text-decoration-color: #800080\">733</span>]<span style=\"color: #c0c0c0; text-decoration-color: #c0c0c0\"> </span>Saving checkpoint to: <span style=\"color: #800080; text-decoration-color: #800080\">/Users/samforeman/projects/saforem2/intro-hpc-bootcamp-2025/content/02-llms/</span><span style=\"color: #ff00ff; text-decoration-color: #ff00ff\">7-shakespeare-example</span>\n",
              "</pre>"
            ]
          }
        },
        {
          "output_type": "display_data",
          "metadata": {},
          "data": {
            "text/html": [
              "<pre style=\"white-space:pre;overflow-x:auto;line-height:normal;font-family:Menlo,'DejaVu Sans Mono',consolas,'Courier New',monospace\">[<span style=\"color: #7f7f7f; text-decoration-color: #7f7f7f\">2025-07-23 08:57:56,504680</span>][<span style=\"color: #008000; text-decoration-color: #008000\">I</span>][<span style=\"color: #008080; text-decoration-color: #008080; font-style: italic\">wordplay</span>/<span style=\"color: #000080; text-decoration-color: #000080\">trainer</span><span style=\"color: #0000ff; text-decoration-color: #0000ff\">:</span><span style=\"color: #800080; text-decoration-color: #800080\">734</span>]<span style=\"color: #c0c0c0; text-decoration-color: #c0c0c0\"> </span>Saving model to: <span style=\"color: #800080; text-decoration-color: #800080\">/Users/samforeman/projects/saforem2/intro-hpc-bootcamp-2025/content/02-llms/7-shakespeare-example/</span><span style=\"color: #ff00ff; text-decoration-color: #ff00ff\">model.pth</span>\n",
              "</pre>"
            ]
          }
        },
        {
          "output_type": "display_data",
          "metadata": {},
          "data": {
            "text/html": [
              "<pre style=\"white-space:pre;overflow-x:auto;line-height:normal;font-family:Menlo,'DejaVu Sans Mono',consolas,'Courier New',monospace\">[<span style=\"color: #7f7f7f; text-decoration-color: #7f7f7f\">2025-07-23 08:57:56,656637</span>][<span style=\"color: #008000; text-decoration-color: #008000\">I</span>][<span style=\"color: #008080; text-decoration-color: #008080; font-style: italic\">wordplay</span>/<span style=\"color: #000080; text-decoration-color: #000080\">configs</span><span style=\"color: #0000ff; text-decoration-color: #0000ff\">:</span><span style=\"color: #800080; text-decoration-color: #800080\">141</span>]<span style=\"color: #c0c0c0; text-decoration-color: #c0c0c0\"> </span>Appending <span style=\"color: #800080; text-decoration-color: #800080\">/Users/samforeman/projects/saforem2/intro-hpc-bootcamp-2025/content/02-llms/</span><span style=\"color: #ff00ff; text-decoration-color: #ff00ff\">7-shakespeare-example</span> to <span style=\"color: #800080; text-decoration-color: #800080\">/Users/samforeman/projects/saforem2/wordplay/src/ckpts/</span><span style=\"color: #ff00ff; text-decoration-color: #ff00ff\">checkpoints.log</span>\n",
              "</pre>"
            ]
          }
        },
        {
          "output_type": "display_data",
          "metadata": {},
          "data": {
            "text/html": [
              "<pre style=\"white-space:pre;overflow-x:auto;line-height:normal;font-family:Menlo,'DejaVu Sans Mono',consolas,'Courier New',monospace\">[<span style=\"color: #7f7f7f; text-decoration-color: #7f7f7f\">2025-07-23 08:57:56,856534</span>][<span style=\"color: #008000; text-decoration-color: #008000\">I</span>][<span style=\"color: #008080; text-decoration-color: #008080; font-style: italic\">wordplay</span>/<span style=\"color: #000080; text-decoration-color: #000080\">trainer</span><span style=\"color: #0000ff; text-decoration-color: #0000ff\">:</span><span style=\"color: #800080; text-decoration-color: #800080\">850</span>]<span style=\"color: #c0c0c0; text-decoration-color: #c0c0c0\"> </span><span style=\"color: #0000ff; text-decoration-color: #0000ff\">step</span>=<span style=\"color: #008080; text-decoration-color: #008080; font-weight: bold\">310</span> <span style=\"color: #0000ff; text-decoration-color: #0000ff\">loss</span>=<span style=\"color: #008080; text-decoration-color: #008080; font-weight: bold\">4.23252</span> <span style=\"color: #0000ff; text-decoration-color: #0000ff\">dt</span>=<span style=\"color: #008080; text-decoration-color: #008080; font-weight: bold\">0.0198177</span> <span style=\"color: #0000ff; text-decoration-color: #0000ff\">dtf</span>=<span style=\"color: #008080; text-decoration-color: #008080; font-weight: bold\">0.0194611</span> <span style=\"color: #0000ff; text-decoration-color: #0000ff\">dtb</span>=<span style=\"color: #008080; text-decoration-color: #008080; font-weight: bold\">0.000135042</span> <span style=\"color: #0000ff; text-decoration-color: #0000ff\">sps</span>=<span style=\"color: #008080; text-decoration-color: #008080; font-weight: bold\">50.4599</span> <span style=\"color: #0000ff; text-decoration-color: #0000ff\">sps_per_gpu</span>=<span style=\"color: #008080; text-decoration-color: #008080; font-weight: bold\">50.4599</span> <span style=\"color: #0000ff; text-decoration-color: #0000ff\">tps</span>=<span style=\"color: #008080; text-decoration-color: #008080; font-weight: bold\">6458.87</span> <span style=\"color: #0000ff; text-decoration-color: #0000ff\">tps_per_gpu</span>=<span style=\"color: #008080; text-decoration-color: #008080; font-weight: bold\">6458.87</span> <span style=\"color: #0000ff; text-decoration-color: #0000ff\">mfu</span>=<span style=\"color: #008080; text-decoration-color: #008080; font-weight: bold\">0.137066</span>\n",
              "</pre>"
            ]
          }
        },
        {
          "output_type": "display_data",
          "metadata": {},
          "data": {
            "text/html": [
              "<pre style=\"white-space:pre;overflow-x:auto;line-height:normal;font-family:Menlo,'DejaVu Sans Mono',consolas,'Courier New',monospace\">[<span style=\"color: #7f7f7f; text-decoration-color: #7f7f7f\">2025-07-23 08:57:57,056468</span>][<span style=\"color: #008000; text-decoration-color: #008000\">I</span>][<span style=\"color: #008080; text-decoration-color: #008080; font-style: italic\">wordplay</span>/<span style=\"color: #000080; text-decoration-color: #000080\">trainer</span><span style=\"color: #0000ff; text-decoration-color: #0000ff\">:</span><span style=\"color: #800080; text-decoration-color: #800080\">850</span>]<span style=\"color: #c0c0c0; text-decoration-color: #c0c0c0\"> </span><span style=\"color: #0000ff; text-decoration-color: #0000ff\">step</span>=<span style=\"color: #008080; text-decoration-color: #008080; font-weight: bold\">320</span> <span style=\"color: #0000ff; text-decoration-color: #0000ff\">loss</span>=<span style=\"color: #008080; text-decoration-color: #008080; font-weight: bold\">4.23608</span> <span style=\"color: #0000ff; text-decoration-color: #0000ff\">dt</span>=<span style=\"color: #008080; text-decoration-color: #008080; font-weight: bold\">0.0205249</span> <span style=\"color: #0000ff; text-decoration-color: #0000ff\">dtf</span>=<span style=\"color: #008080; text-decoration-color: #008080; font-weight: bold\">0.0201278</span> <span style=\"color: #0000ff; text-decoration-color: #0000ff\">dtb</span>=<span style=\"color: #008080; text-decoration-color: #008080; font-weight: bold\">0.000164917</span> <span style=\"color: #0000ff; text-decoration-color: #0000ff\">sps</span>=<span style=\"color: #008080; text-decoration-color: #008080; font-weight: bold\">48.7213</span> <span style=\"color: #0000ff; text-decoration-color: #0000ff\">sps_per_gpu</span>=<span style=\"color: #008080; text-decoration-color: #008080; font-weight: bold\">48.7213</span> <span style=\"color: #0000ff; text-decoration-color: #0000ff\">tps</span>=<span style=\"color: #008080; text-decoration-color: #008080; font-weight: bold\">6236.32</span> <span style=\"color: #0000ff; text-decoration-color: #0000ff\">tps_per_gpu</span>=<span style=\"color: #008080; text-decoration-color: #008080; font-weight: bold\">6236.32</span> <span style=\"color: #0000ff; text-decoration-color: #0000ff\">mfu</span>=<span style=\"color: #008080; text-decoration-color: #008080; font-weight: bold\">0.136835</span>\n",
              "</pre>"
            ]
          }
        },
        {
          "output_type": "display_data",
          "metadata": {},
          "data": {
            "text/html": [
              "<pre style=\"white-space:pre;overflow-x:auto;line-height:normal;font-family:Menlo,'DejaVu Sans Mono',consolas,'Courier New',monospace\">[<span style=\"color: #7f7f7f; text-decoration-color: #7f7f7f\">2025-07-23 08:57:57,252630</span>][<span style=\"color: #008000; text-decoration-color: #008000\">I</span>][<span style=\"color: #008080; text-decoration-color: #008080; font-style: italic\">wordplay</span>/<span style=\"color: #000080; text-decoration-color: #000080\">trainer</span><span style=\"color: #0000ff; text-decoration-color: #0000ff\">:</span><span style=\"color: #800080; text-decoration-color: #800080\">850</span>]<span style=\"color: #c0c0c0; text-decoration-color: #c0c0c0\"> </span><span style=\"color: #0000ff; text-decoration-color: #0000ff\">step</span>=<span style=\"color: #008080; text-decoration-color: #008080; font-weight: bold\">330</span> <span style=\"color: #0000ff; text-decoration-color: #0000ff\">loss</span>=<span style=\"color: #008080; text-decoration-color: #008080; font-weight: bold\">4.25042</span> <span style=\"color: #0000ff; text-decoration-color: #0000ff\">dt</span>=<span style=\"color: #008080; text-decoration-color: #008080; font-weight: bold\">0.0194144</span> <span style=\"color: #0000ff; text-decoration-color: #0000ff\">dtf</span>=<span style=\"color: #008080; text-decoration-color: #008080; font-weight: bold\">0.0191271</span> <span style=\"color: #0000ff; text-decoration-color: #0000ff\">dtb</span>=<span style=\"color: #008080; text-decoration-color: #008080; font-weight: bold\">0.000119</span> <span style=\"color: #0000ff; text-decoration-color: #0000ff\">sps</span>=<span style=\"color: #008080; text-decoration-color: #008080; font-weight: bold\">51.5082</span> <span style=\"color: #0000ff; text-decoration-color: #0000ff\">sps_per_gpu</span>=<span style=\"color: #008080; text-decoration-color: #008080; font-weight: bold\">51.5082</span> <span style=\"color: #0000ff; text-decoration-color: #0000ff\">tps</span>=<span style=\"color: #008080; text-decoration-color: #008080; font-weight: bold\">6593.05</span> <span style=\"color: #0000ff; text-decoration-color: #0000ff\">tps_per_gpu</span>=<span style=\"color: #008080; text-decoration-color: #008080; font-weight: bold\">6593.05</span> <span style=\"color: #0000ff; text-decoration-color: #0000ff\">mfu</span>=<span style=\"color: #008080; text-decoration-color: #008080; font-weight: bold\">0.137398</span>\n",
              "</pre>"
            ]
          }
        },
        {
          "output_type": "display_data",
          "metadata": {},
          "data": {
            "text/html": [
              "<pre style=\"white-space:pre;overflow-x:auto;line-height:normal;font-family:Menlo,'DejaVu Sans Mono',consolas,'Courier New',monospace\">[<span style=\"color: #7f7f7f; text-decoration-color: #7f7f7f\">2025-07-23 08:57:57,453519</span>][<span style=\"color: #008000; text-decoration-color: #008000\">I</span>][<span style=\"color: #008080; text-decoration-color: #008080; font-style: italic\">wordplay</span>/<span style=\"color: #000080; text-decoration-color: #000080\">trainer</span><span style=\"color: #0000ff; text-decoration-color: #0000ff\">:</span><span style=\"color: #800080; text-decoration-color: #800080\">850</span>]<span style=\"color: #c0c0c0; text-decoration-color: #c0c0c0\"> </span><span style=\"color: #0000ff; text-decoration-color: #0000ff\">step</span>=<span style=\"color: #008080; text-decoration-color: #008080; font-weight: bold\">340</span> <span style=\"color: #0000ff; text-decoration-color: #0000ff\">loss</span>=<span style=\"color: #008080; text-decoration-color: #008080; font-weight: bold\">4.19956</span> <span style=\"color: #0000ff; text-decoration-color: #0000ff\">dt</span>=<span style=\"color: #008080; text-decoration-color: #008080; font-weight: bold\">0.0194079</span> <span style=\"color: #0000ff; text-decoration-color: #0000ff\">dtf</span>=<span style=\"color: #008080; text-decoration-color: #008080; font-weight: bold\">0.0190772</span> <span style=\"color: #0000ff; text-decoration-color: #0000ff\">dtb</span>=<span style=\"color: #008080; text-decoration-color: #008080; font-weight: bold\">0.000128125</span> <span style=\"color: #0000ff; text-decoration-color: #0000ff\">sps</span>=<span style=\"color: #008080; text-decoration-color: #008080; font-weight: bold\">51.5254</span> <span style=\"color: #0000ff; text-decoration-color: #0000ff\">sps_per_gpu</span>=<span style=\"color: #008080; text-decoration-color: #008080; font-weight: bold\">51.5254</span> <span style=\"color: #0000ff; text-decoration-color: #0000ff\">tps</span>=<span style=\"color: #008080; text-decoration-color: #008080; font-weight: bold\">6595.25</span> <span style=\"color: #0000ff; text-decoration-color: #0000ff\">tps_per_gpu</span>=<span style=\"color: #008080; text-decoration-color: #008080; font-weight: bold\">6595.25</span> <span style=\"color: #0000ff; text-decoration-color: #0000ff\">mfu</span>=<span style=\"color: #008080; text-decoration-color: #008080; font-weight: bold\">0.13791</span>\n",
              "</pre>"
            ]
          }
        },
        {
          "output_type": "display_data",
          "metadata": {},
          "data": {
            "text/html": [
              "<pre style=\"white-space:pre;overflow-x:auto;line-height:normal;font-family:Menlo,'DejaVu Sans Mono',consolas,'Courier New',monospace\">[<span style=\"color: #7f7f7f; text-decoration-color: #7f7f7f\">2025-07-23 08:57:57,685131</span>][<span style=\"color: #008000; text-decoration-color: #008000\">I</span>][<span style=\"color: #008080; text-decoration-color: #008080; font-style: italic\">wordplay</span>/<span style=\"color: #000080; text-decoration-color: #000080\">trainer</span><span style=\"color: #0000ff; text-decoration-color: #0000ff\">:</span><span style=\"color: #800080; text-decoration-color: #800080\">850</span>]<span style=\"color: #c0c0c0; text-decoration-color: #c0c0c0\"> </span><span style=\"color: #0000ff; text-decoration-color: #0000ff\">step</span>=<span style=\"color: #008080; text-decoration-color: #008080; font-weight: bold\">350</span> <span style=\"color: #0000ff; text-decoration-color: #0000ff\">loss</span>=<span style=\"color: #008080; text-decoration-color: #008080; font-weight: bold\">4.2746</span> <span style=\"color: #0000ff; text-decoration-color: #0000ff\">dt</span>=<span style=\"color: #008080; text-decoration-color: #008080; font-weight: bold\">0.021825</span> <span style=\"color: #0000ff; text-decoration-color: #0000ff\">dtf</span>=<span style=\"color: #008080; text-decoration-color: #008080; font-weight: bold\">0.0214027</span> <span style=\"color: #0000ff; text-decoration-color: #0000ff\">dtb</span>=<span style=\"color: #008080; text-decoration-color: #008080; font-weight: bold\">0.0001765</span> <span style=\"color: #0000ff; text-decoration-color: #0000ff\">sps</span>=<span style=\"color: #008080; text-decoration-color: #008080; font-weight: bold\">45.819</span> <span style=\"color: #0000ff; text-decoration-color: #0000ff\">sps_per_gpu</span>=<span style=\"color: #008080; text-decoration-color: #008080; font-weight: bold\">45.819</span> <span style=\"color: #0000ff; text-decoration-color: #0000ff\">tps</span>=<span style=\"color: #008080; text-decoration-color: #008080; font-weight: bold\">5864.83</span> <span style=\"color: #0000ff; text-decoration-color: #0000ff\">tps_per_gpu</span>=<span style=\"color: #008080; text-decoration-color: #008080; font-weight: bold\">5864.83</span> <span style=\"color: #0000ff; text-decoration-color: #0000ff\">mfu</span>=<span style=\"color: #008080; text-decoration-color: #008080; font-weight: bold\">0.136792</span>\n",
              "</pre>"
            ]
          }
        },
        {
          "output_type": "display_data",
          "metadata": {},
          "data": {
            "text/html": [
              "<pre style=\"white-space:pre;overflow-x:auto;line-height:normal;font-family:Menlo,'DejaVu Sans Mono',consolas,'Courier New',monospace\">[<span style=\"color: #7f7f7f; text-decoration-color: #7f7f7f\">2025-07-23 08:57:59,908709</span>][<span style=\"color: #008000; text-decoration-color: #008000\">I</span>][<span style=\"color: #008080; text-decoration-color: #008080; font-style: italic\">wordplay</span>/<span style=\"color: #000080; text-decoration-color: #000080\">trainer</span><span style=\"color: #0000ff; text-decoration-color: #0000ff\">:</span><span style=\"color: #800080; text-decoration-color: #800080\">790</span>]<span style=\"color: #c0c0c0; text-decoration-color: #c0c0c0\"> </span><span style=\"color: #ff00ff; text-decoration-color: #ff00ff\">[</span><span style=\"color: #008000; text-decoration-color: #008000\">'prompt'</span><span style=\"color: #ff00ff; text-decoration-color: #ff00ff\">]</span>: <span style=\"color: #008000; text-decoration-color: #008000\">'What is an LLM?'</span>\n",
              "</pre>"
            ]
          }
        },
        {
          "output_type": "display_data",
          "metadata": {},
          "data": {
            "text/html": [
              "<pre style=\"white-space:pre;overflow-x:auto;line-height:normal;font-family:Menlo,'DejaVu Sans Mono',consolas,'Courier New',monospace\">[<span style=\"color: #7f7f7f; text-decoration-color: #7f7f7f\">2025-07-23 08:57:59,910785</span>][<span style=\"color: #008000; text-decoration-color: #008000\">I</span>][<span style=\"color: #008080; text-decoration-color: #008080; font-style: italic\">wordplay</span>/<span style=\"color: #000080; text-decoration-color: #000080\">trainer</span><span style=\"color: #0000ff; text-decoration-color: #0000ff\">:</span><span style=\"color: #800080; text-decoration-color: #800080\">794</span>]<span style=\"color: #c0c0c0; text-decoration-color: #c0c0c0\"> </span><span style=\"color: #ff00ff; text-decoration-color: #ff00ff\">[</span><span style=\"color: #008000; text-decoration-color: #008000\">'response'</span><span style=\"color: #ff00ff; text-decoration-color: #ff00ff\">]</span>:\n",
              "\n",
              "What is an LLM?llBZexQZ wwwZrrxxxcqWa vqqxtqK..aHqQqqqecaask..--<span style=\"color: #008000; text-decoration-color: #008000\">'Ve'</span>ll3fh3k..ttesscU''aUxhSpepBqqepp\n",
              "<span style=\"color: #008000; text-decoration-color: #008000\">'QQ-;AqfwetpM vSQwbrrZQqa.CAA,,axqbQu''seyex...'';yyfw'</span>gk:SSWQtrrqW'<span style=\"color: #008000; text-decoration-color: #008000\">'KKpp?ZQU'''</span>tcb?;;;WufBWbb;f'ggYQttSk;?;;;?fA..Sbt;n'<span style=\"color: #008000; text-decoration-color: #008000\">'rrWqqMeeq;b'</span>k'eMwQQtpufAAqQYAWASSe'qSpqqtLgWoqSk\n",
              "</pre>"
            ]
          }
        },
        {
          "output_type": "display_data",
          "metadata": {},
          "data": {
            "text/html": [
              "<pre style=\"white-space:pre;overflow-x:auto;line-height:normal;font-family:Menlo,'DejaVu Sans Mono',consolas,'Courier New',monospace\">[<span style=\"color: #7f7f7f; text-decoration-color: #7f7f7f\">2025-07-23 08:58:03,742334</span>][<span style=\"color: #008000; text-decoration-color: #008000\">I</span>][<span style=\"color: #008080; text-decoration-color: #008080; font-style: italic\">wordplay</span>/<span style=\"color: #000080; text-decoration-color: #000080\">trainer</span><span style=\"color: #0000ff; text-decoration-color: #0000ff\">:</span><span style=\"color: #800080; text-decoration-color: #800080\">733</span>]<span style=\"color: #c0c0c0; text-decoration-color: #c0c0c0\"> </span>Saving checkpoint to: <span style=\"color: #800080; text-decoration-color: #800080\">/Users/samforeman/projects/saforem2/intro-hpc-bootcamp-2025/content/02-llms/</span><span style=\"color: #ff00ff; text-decoration-color: #ff00ff\">7-shakespeare-example</span>\n",
              "</pre>"
            ]
          }
        },
        {
          "output_type": "display_data",
          "metadata": {},
          "data": {
            "text/html": [
              "<pre style=\"white-space:pre;overflow-x:auto;line-height:normal;font-family:Menlo,'DejaVu Sans Mono',consolas,'Courier New',monospace\">[<span style=\"color: #7f7f7f; text-decoration-color: #7f7f7f\">2025-07-23 08:58:03,743601</span>][<span style=\"color: #008000; text-decoration-color: #008000\">I</span>][<span style=\"color: #008080; text-decoration-color: #008080; font-style: italic\">wordplay</span>/<span style=\"color: #000080; text-decoration-color: #000080\">trainer</span><span style=\"color: #0000ff; text-decoration-color: #0000ff\">:</span><span style=\"color: #800080; text-decoration-color: #800080\">734</span>]<span style=\"color: #c0c0c0; text-decoration-color: #c0c0c0\"> </span>Saving model to: <span style=\"color: #800080; text-decoration-color: #800080\">/Users/samforeman/projects/saforem2/intro-hpc-bootcamp-2025/content/02-llms/7-shakespeare-example/</span><span style=\"color: #ff00ff; text-decoration-color: #ff00ff\">model.pth</span>\n",
              "</pre>"
            ]
          }
        },
        {
          "output_type": "display_data",
          "metadata": {},
          "data": {
            "text/html": [
              "<pre style=\"white-space:pre;overflow-x:auto;line-height:normal;font-family:Menlo,'DejaVu Sans Mono',consolas,'Courier New',monospace\">[<span style=\"color: #7f7f7f; text-decoration-color: #7f7f7f\">2025-07-23 08:58:03,832183</span>][<span style=\"color: #008000; text-decoration-color: #008000\">I</span>][<span style=\"color: #008080; text-decoration-color: #008080; font-style: italic\">wordplay</span>/<span style=\"color: #000080; text-decoration-color: #000080\">configs</span><span style=\"color: #0000ff; text-decoration-color: #0000ff\">:</span><span style=\"color: #800080; text-decoration-color: #800080\">141</span>]<span style=\"color: #c0c0c0; text-decoration-color: #c0c0c0\"> </span>Appending <span style=\"color: #800080; text-decoration-color: #800080\">/Users/samforeman/projects/saforem2/intro-hpc-bootcamp-2025/content/02-llms/</span><span style=\"color: #ff00ff; text-decoration-color: #ff00ff\">7-shakespeare-example</span> to <span style=\"color: #800080; text-decoration-color: #800080\">/Users/samforeman/projects/saforem2/wordplay/src/ckpts/</span><span style=\"color: #ff00ff; text-decoration-color: #ff00ff\">checkpoints.log</span>\n",
              "</pre>"
            ]
          }
        },
        {
          "output_type": "display_data",
          "metadata": {},
          "data": {
            "text/html": [
              "<pre style=\"white-space:pre;overflow-x:auto;line-height:normal;font-family:Menlo,'DejaVu Sans Mono',consolas,'Courier New',monospace\">[<span style=\"color: #7f7f7f; text-decoration-color: #7f7f7f\">2025-07-23 08:58:04,033391</span>][<span style=\"color: #008000; text-decoration-color: #008000\">I</span>][<span style=\"color: #008080; text-decoration-color: #008080; font-style: italic\">wordplay</span>/<span style=\"color: #000080; text-decoration-color: #000080\">trainer</span><span style=\"color: #0000ff; text-decoration-color: #0000ff\">:</span><span style=\"color: #800080; text-decoration-color: #800080\">850</span>]<span style=\"color: #c0c0c0; text-decoration-color: #c0c0c0\"> </span><span style=\"color: #0000ff; text-decoration-color: #0000ff\">step</span>=<span style=\"color: #008080; text-decoration-color: #008080; font-weight: bold\">360</span> <span style=\"color: #0000ff; text-decoration-color: #0000ff\">loss</span>=<span style=\"color: #008080; text-decoration-color: #008080; font-weight: bold\">4.3276</span> <span style=\"color: #0000ff; text-decoration-color: #0000ff\">dt</span>=<span style=\"color: #008080; text-decoration-color: #008080; font-weight: bold\">0.0190463</span> <span style=\"color: #0000ff; text-decoration-color: #0000ff\">dtf</span>=<span style=\"color: #008080; text-decoration-color: #008080; font-weight: bold\">0.0186995</span> <span style=\"color: #0000ff; text-decoration-color: #0000ff\">dtb</span>=<span style=\"color: #008080; text-decoration-color: #008080; font-weight: bold\">0.00014325</span> <span style=\"color: #0000ff; text-decoration-color: #0000ff\">sps</span>=<span style=\"color: #008080; text-decoration-color: #008080; font-weight: bold\">52.5037</span> <span style=\"color: #0000ff; text-decoration-color: #0000ff\">sps_per_gpu</span>=<span style=\"color: #008080; text-decoration-color: #008080; font-weight: bold\">52.5037</span> <span style=\"color: #0000ff; text-decoration-color: #0000ff\">tps</span>=<span style=\"color: #008080; text-decoration-color: #008080; font-weight: bold\">6720.47</span> <span style=\"color: #0000ff; text-decoration-color: #0000ff\">tps_per_gpu</span>=<span style=\"color: #008080; text-decoration-color: #008080; font-weight: bold\">6720.47</span> <span style=\"color: #0000ff; text-decoration-color: #0000ff\">mfu</span>=<span style=\"color: #008080; text-decoration-color: #008080; font-weight: bold\">0.137635</span>\n",
              "</pre>"
            ]
          }
        },
        {
          "output_type": "display_data",
          "metadata": {},
          "data": {
            "text/html": [
              "<pre style=\"white-space:pre;overflow-x:auto;line-height:normal;font-family:Menlo,'DejaVu Sans Mono',consolas,'Courier New',monospace\">[<span style=\"color: #7f7f7f; text-decoration-color: #7f7f7f\">2025-07-23 08:58:04,234874</span>][<span style=\"color: #008000; text-decoration-color: #008000\">I</span>][<span style=\"color: #008080; text-decoration-color: #008080; font-style: italic\">wordplay</span>/<span style=\"color: #000080; text-decoration-color: #000080\">trainer</span><span style=\"color: #0000ff; text-decoration-color: #0000ff\">:</span><span style=\"color: #800080; text-decoration-color: #800080\">850</span>]<span style=\"color: #c0c0c0; text-decoration-color: #c0c0c0\"> </span><span style=\"color: #0000ff; text-decoration-color: #0000ff\">step</span>=<span style=\"color: #008080; text-decoration-color: #008080; font-weight: bold\">370</span> <span style=\"color: #0000ff; text-decoration-color: #0000ff\">loss</span>=<span style=\"color: #008080; text-decoration-color: #008080; font-weight: bold\">4.15959</span> <span style=\"color: #0000ff; text-decoration-color: #0000ff\">dt</span>=<span style=\"color: #008080; text-decoration-color: #008080; font-weight: bold\">0.0190105</span> <span style=\"color: #0000ff; text-decoration-color: #0000ff\">dtf</span>=<span style=\"color: #008080; text-decoration-color: #008080; font-weight: bold\">0.0186246</span> <span style=\"color: #0000ff; text-decoration-color: #0000ff\">dtb</span>=<span style=\"color: #008080; text-decoration-color: #008080; font-weight: bold\">0.000152333</span> <span style=\"color: #0000ff; text-decoration-color: #0000ff\">sps</span>=<span style=\"color: #008080; text-decoration-color: #008080; font-weight: bold\">52.6026</span> <span style=\"color: #0000ff; text-decoration-color: #0000ff\">sps_per_gpu</span>=<span style=\"color: #008080; text-decoration-color: #008080; font-weight: bold\">52.6026</span> <span style=\"color: #0000ff; text-decoration-color: #0000ff\">tps</span>=<span style=\"color: #008080; text-decoration-color: #008080; font-weight: bold\">6733.14</span> <span style=\"color: #0000ff; text-decoration-color: #0000ff\">tps_per_gpu</span>=<span style=\"color: #008080; text-decoration-color: #008080; font-weight: bold\">6733.14</span> <span style=\"color: #0000ff; text-decoration-color: #0000ff\">mfu</span>=<span style=\"color: #008080; text-decoration-color: #008080; font-weight: bold\">0.138421</span>\n",
              "</pre>"
            ]
          }
        },
        {
          "output_type": "display_data",
          "metadata": {},
          "data": {
            "text/html": [
              "<pre style=\"white-space:pre;overflow-x:auto;line-height:normal;font-family:Menlo,'DejaVu Sans Mono',consolas,'Courier New',monospace\">[<span style=\"color: #7f7f7f; text-decoration-color: #7f7f7f\">2025-07-23 08:58:04,430840</span>][<span style=\"color: #008000; text-decoration-color: #008000\">I</span>][<span style=\"color: #008080; text-decoration-color: #008080; font-style: italic\">wordplay</span>/<span style=\"color: #000080; text-decoration-color: #000080\">trainer</span><span style=\"color: #0000ff; text-decoration-color: #0000ff\">:</span><span style=\"color: #800080; text-decoration-color: #800080\">850</span>]<span style=\"color: #c0c0c0; text-decoration-color: #c0c0c0\"> </span><span style=\"color: #0000ff; text-decoration-color: #0000ff\">step</span>=<span style=\"color: #008080; text-decoration-color: #008080; font-weight: bold\">380</span> <span style=\"color: #0000ff; text-decoration-color: #0000ff\">loss</span>=<span style=\"color: #008080; text-decoration-color: #008080; font-weight: bold\">4.21489</span> <span style=\"color: #0000ff; text-decoration-color: #0000ff\">dt</span>=<span style=\"color: #008080; text-decoration-color: #008080; font-weight: bold\">0.0195294</span> <span style=\"color: #0000ff; text-decoration-color: #0000ff\">dtf</span>=<span style=\"color: #008080; text-decoration-color: #008080; font-weight: bold\">0.019137</span> <span style=\"color: #0000ff; text-decoration-color: #0000ff\">dtb</span>=<span style=\"color: #008080; text-decoration-color: #008080; font-weight: bold\">0.0001395</span> <span style=\"color: #0000ff; text-decoration-color: #0000ff\">sps</span>=<span style=\"color: #008080; text-decoration-color: #008080; font-weight: bold\">51.2048</span> <span style=\"color: #0000ff; text-decoration-color: #0000ff\">sps_per_gpu</span>=<span style=\"color: #008080; text-decoration-color: #008080; font-weight: bold\">51.2048</span> <span style=\"color: #0000ff; text-decoration-color: #0000ff\">tps</span>=<span style=\"color: #008080; text-decoration-color: #008080; font-weight: bold\">6554.22</span> <span style=\"color: #0000ff; text-decoration-color: #0000ff\">tps_per_gpu</span>=<span style=\"color: #008080; text-decoration-color: #008080; font-weight: bold\">6554.22</span> <span style=\"color: #0000ff; text-decoration-color: #0000ff\">mfu</span>=<span style=\"color: #008080; text-decoration-color: #008080; font-weight: bold\">0.138742</span>\n",
              "</pre>"
            ]
          }
        },
        {
          "output_type": "display_data",
          "metadata": {},
          "data": {
            "text/html": [
              "<pre style=\"white-space:pre;overflow-x:auto;line-height:normal;font-family:Menlo,'DejaVu Sans Mono',consolas,'Courier New',monospace\">[<span style=\"color: #7f7f7f; text-decoration-color: #7f7f7f\">2025-07-23 08:58:04,641565</span>][<span style=\"color: #008000; text-decoration-color: #008000\">I</span>][<span style=\"color: #008080; text-decoration-color: #008080; font-style: italic\">wordplay</span>/<span style=\"color: #000080; text-decoration-color: #000080\">trainer</span><span style=\"color: #0000ff; text-decoration-color: #0000ff\">:</span><span style=\"color: #800080; text-decoration-color: #800080\">850</span>]<span style=\"color: #c0c0c0; text-decoration-color: #c0c0c0\"> </span><span style=\"color: #0000ff; text-decoration-color: #0000ff\">step</span>=<span style=\"color: #008080; text-decoration-color: #008080; font-weight: bold\">390</span> <span style=\"color: #0000ff; text-decoration-color: #0000ff\">loss</span>=<span style=\"color: #008080; text-decoration-color: #008080; font-weight: bold\">4.18483</span> <span style=\"color: #0000ff; text-decoration-color: #0000ff\">dt</span>=<span style=\"color: #008080; text-decoration-color: #008080; font-weight: bold\">0.0258274</span> <span style=\"color: #0000ff; text-decoration-color: #0000ff\">dtf</span>=<span style=\"color: #008080; text-decoration-color: #008080; font-weight: bold\">0.0254645</span> <span style=\"color: #0000ff; text-decoration-color: #0000ff\">dtb</span>=<span style=\"color: #008080; text-decoration-color: #008080; font-weight: bold\">0.000133084</span> <span style=\"color: #0000ff; text-decoration-color: #0000ff\">sps</span>=<span style=\"color: #008080; text-decoration-color: #008080; font-weight: bold\">38.7186</span> <span style=\"color: #0000ff; text-decoration-color: #0000ff\">sps_per_gpu</span>=<span style=\"color: #008080; text-decoration-color: #008080; font-weight: bold\">38.7186</span> <span style=\"color: #0000ff; text-decoration-color: #0000ff\">tps</span>=<span style=\"color: #008080; text-decoration-color: #008080; font-weight: bold\">4955.98</span> <span style=\"color: #0000ff; text-decoration-color: #0000ff\">tps_per_gpu</span>=<span style=\"color: #008080; text-decoration-color: #008080; font-weight: bold\">4955.98</span> <span style=\"color: #0000ff; text-decoration-color: #0000ff\">mfu</span>=<span style=\"color: #008080; text-decoration-color: #008080; font-weight: bold\">0.135577</span>\n",
              "</pre>"
            ]
          }
        },
        {
          "output_type": "display_data",
          "metadata": {},
          "data": {
            "text/html": [
              "<pre style=\"white-space:pre;overflow-x:auto;line-height:normal;font-family:Menlo,'DejaVu Sans Mono',consolas,'Courier New',monospace\">[<span style=\"color: #7f7f7f; text-decoration-color: #7f7f7f\">2025-07-23 08:58:04,883500</span>][<span style=\"color: #008000; text-decoration-color: #008000\">I</span>][<span style=\"color: #008080; text-decoration-color: #008080; font-style: italic\">wordplay</span>/<span style=\"color: #000080; text-decoration-color: #000080\">trainer</span><span style=\"color: #0000ff; text-decoration-color: #0000ff\">:</span><span style=\"color: #800080; text-decoration-color: #800080\">850</span>]<span style=\"color: #c0c0c0; text-decoration-color: #c0c0c0\"> </span><span style=\"color: #0000ff; text-decoration-color: #0000ff\">step</span>=<span style=\"color: #008080; text-decoration-color: #008080; font-weight: bold\">400</span> <span style=\"color: #0000ff; text-decoration-color: #0000ff\">loss</span>=<span style=\"color: #008080; text-decoration-color: #008080; font-weight: bold\">4.2439</span> <span style=\"color: #0000ff; text-decoration-color: #0000ff\">dt</span>=<span style=\"color: #008080; text-decoration-color: #008080; font-weight: bold\">0.0254025</span> <span style=\"color: #0000ff; text-decoration-color: #0000ff\">dtf</span>=<span style=\"color: #008080; text-decoration-color: #008080; font-weight: bold\">0.0250206</span> <span style=\"color: #0000ff; text-decoration-color: #0000ff\">dtb</span>=<span style=\"color: #008080; text-decoration-color: #008080; font-weight: bold\">0.000150083</span> <span style=\"color: #0000ff; text-decoration-color: #0000ff\">sps</span>=<span style=\"color: #008080; text-decoration-color: #008080; font-weight: bold\">39.3661</span> <span style=\"color: #0000ff; text-decoration-color: #0000ff\">sps_per_gpu</span>=<span style=\"color: #008080; text-decoration-color: #008080; font-weight: bold\">39.3661</span> <span style=\"color: #0000ff; text-decoration-color: #0000ff\">tps</span>=<span style=\"color: #008080; text-decoration-color: #008080; font-weight: bold\">5038.87</span> <span style=\"color: #0000ff; text-decoration-color: #0000ff\">tps_per_gpu</span>=<span style=\"color: #008080; text-decoration-color: #008080; font-weight: bold\">5038.87</span> <span style=\"color: #0000ff; text-decoration-color: #0000ff\">mfu</span>=<span style=\"color: #008080; text-decoration-color: #008080; font-weight: bold\">0.132908</span>\n",
              "</pre>"
            ]
          }
        },
        {
          "output_type": "display_data",
          "metadata": {},
          "data": {
            "text/html": [
              "<pre style=\"white-space:pre;overflow-x:auto;line-height:normal;font-family:Menlo,'DejaVu Sans Mono',consolas,'Courier New',monospace\">[<span style=\"color: #7f7f7f; text-decoration-color: #7f7f7f\">2025-07-23 08:58:06,780184</span>][<span style=\"color: #008000; text-decoration-color: #008000\">I</span>][<span style=\"color: #008080; text-decoration-color: #008080; font-style: italic\">wordplay</span>/<span style=\"color: #000080; text-decoration-color: #000080\">trainer</span><span style=\"color: #0000ff; text-decoration-color: #0000ff\">:</span><span style=\"color: #800080; text-decoration-color: #800080\">790</span>]<span style=\"color: #c0c0c0; text-decoration-color: #c0c0c0\"> </span><span style=\"color: #ff00ff; text-decoration-color: #ff00ff\">[</span><span style=\"color: #008000; text-decoration-color: #008000\">'prompt'</span><span style=\"color: #ff00ff; text-decoration-color: #ff00ff\">]</span>: <span style=\"color: #008000; text-decoration-color: #008000\">'What is an LLM?'</span>\n",
              "</pre>"
            ]
          }
        },
        {
          "output_type": "display_data",
          "metadata": {},
          "data": {
            "text/html": [
              "<pre style=\"white-space:pre;overflow-x:auto;line-height:normal;font-family:Menlo,'DejaVu Sans Mono',consolas,'Courier New',monospace\">[<span style=\"color: #7f7f7f; text-decoration-color: #7f7f7f\">2025-07-23 08:58:06,781096</span>][<span style=\"color: #008000; text-decoration-color: #008000\">I</span>][<span style=\"color: #008080; text-decoration-color: #008080; font-style: italic\">wordplay</span>/<span style=\"color: #000080; text-decoration-color: #000080\">trainer</span><span style=\"color: #0000ff; text-decoration-color: #0000ff\">:</span><span style=\"color: #800080; text-decoration-color: #800080\">794</span>]<span style=\"color: #c0c0c0; text-decoration-color: #c0c0c0\"> </span><span style=\"color: #ff00ff; text-decoration-color: #ff00ff\">[</span><span style=\"color: #008000; text-decoration-color: #008000\">'response'</span><span style=\"color: #ff00ff; text-decoration-color: #ff00ff\">]</span>:\n",
              "\n",
              "What is an LLM?.3YZfxsaskoRbawwqW3fkYfVUB33emX3cxeQ;XAA,E;hqqqAA,VqYoqep.<span style=\"color: #008080; text-decoration-color: #008080; font-weight: bold\">3</span>-S'eh3cPe''bqqQAh\n",
              "fSpppp;!cbWA'fff3feNhaAo,Ax.tqq33-<span style=\"color: #008080; text-decoration-color: #008080; font-weight: bold\">33</span>--fCttppaww-gkttttt,,oWbb'glQWb'WWbZexG?<span style=\"color: #008000; text-decoration-color: #008000\">b'sWl'</span>tqt?qqQ'M'rhWlfMMe;tc-eqnnfCqYq;<span style=\"color: #008000; text-decoration-color: #008000\">'?;t'</span>Mwhqqq'..oooA,rqqfooWkkjGqqqqqq;fs;QYbWkkf',,.SSSbqqqbqeeqff\n",
              "</pre>"
            ]
          }
        },
        {
          "output_type": "display_data",
          "metadata": {},
          "data": {
            "text/html": [
              "<pre style=\"white-space:pre;overflow-x:auto;line-height:normal;font-family:Menlo,'DejaVu Sans Mono',consolas,'Courier New',monospace\">[<span style=\"color: #7f7f7f; text-decoration-color: #7f7f7f\">2025-07-23 08:58:10,155653</span>][<span style=\"color: #008000; text-decoration-color: #008000\">I</span>][<span style=\"color: #008080; text-decoration-color: #008080; font-style: italic\">wordplay</span>/<span style=\"color: #000080; text-decoration-color: #000080\">trainer</span><span style=\"color: #0000ff; text-decoration-color: #0000ff\">:</span><span style=\"color: #800080; text-decoration-color: #800080\">733</span>]<span style=\"color: #c0c0c0; text-decoration-color: #c0c0c0\"> </span>Saving checkpoint to: <span style=\"color: #800080; text-decoration-color: #800080\">/Users/samforeman/projects/saforem2/intro-hpc-bootcamp-2025/content/02-llms/</span><span style=\"color: #ff00ff; text-decoration-color: #ff00ff\">7-shakespeare-example</span>\n",
              "</pre>"
            ]
          }
        },
        {
          "output_type": "display_data",
          "metadata": {},
          "data": {
            "text/html": [
              "<pre style=\"white-space:pre;overflow-x:auto;line-height:normal;font-family:Menlo,'DejaVu Sans Mono',consolas,'Courier New',monospace\">[<span style=\"color: #7f7f7f; text-decoration-color: #7f7f7f\">2025-07-23 08:58:10,156798</span>][<span style=\"color: #008000; text-decoration-color: #008000\">I</span>][<span style=\"color: #008080; text-decoration-color: #008080; font-style: italic\">wordplay</span>/<span style=\"color: #000080; text-decoration-color: #000080\">trainer</span><span style=\"color: #0000ff; text-decoration-color: #0000ff\">:</span><span style=\"color: #800080; text-decoration-color: #800080\">734</span>]<span style=\"color: #c0c0c0; text-decoration-color: #c0c0c0\"> </span>Saving model to: <span style=\"color: #800080; text-decoration-color: #800080\">/Users/samforeman/projects/saforem2/intro-hpc-bootcamp-2025/content/02-llms/7-shakespeare-example/</span><span style=\"color: #ff00ff; text-decoration-color: #ff00ff\">model.pth</span>\n",
              "</pre>"
            ]
          }
        },
        {
          "output_type": "display_data",
          "metadata": {},
          "data": {
            "text/html": [
              "<pre style=\"white-space:pre;overflow-x:auto;line-height:normal;font-family:Menlo,'DejaVu Sans Mono',consolas,'Courier New',monospace\">[<span style=\"color: #7f7f7f; text-decoration-color: #7f7f7f\">2025-07-23 08:58:10,265094</span>][<span style=\"color: #008000; text-decoration-color: #008000\">I</span>][<span style=\"color: #008080; text-decoration-color: #008080; font-style: italic\">wordplay</span>/<span style=\"color: #000080; text-decoration-color: #000080\">configs</span><span style=\"color: #0000ff; text-decoration-color: #0000ff\">:</span><span style=\"color: #800080; text-decoration-color: #800080\">141</span>]<span style=\"color: #c0c0c0; text-decoration-color: #c0c0c0\"> </span>Appending <span style=\"color: #800080; text-decoration-color: #800080\">/Users/samforeman/projects/saforem2/intro-hpc-bootcamp-2025/content/02-llms/</span><span style=\"color: #ff00ff; text-decoration-color: #ff00ff\">7-shakespeare-example</span> to <span style=\"color: #800080; text-decoration-color: #800080\">/Users/samforeman/projects/saforem2/wordplay/src/ckpts/</span><span style=\"color: #ff00ff; text-decoration-color: #ff00ff\">checkpoints.log</span>\n",
              "</pre>"
            ]
          }
        },
        {
          "output_type": "display_data",
          "metadata": {},
          "data": {
            "text/html": [
              "<pre style=\"white-space:pre;overflow-x:auto;line-height:normal;font-family:Menlo,'DejaVu Sans Mono',consolas,'Courier New',monospace\">[<span style=\"color: #7f7f7f; text-decoration-color: #7f7f7f\">2025-07-23 08:58:10,469615</span>][<span style=\"color: #008000; text-decoration-color: #008000\">I</span>][<span style=\"color: #008080; text-decoration-color: #008080; font-style: italic\">wordplay</span>/<span style=\"color: #000080; text-decoration-color: #000080\">trainer</span><span style=\"color: #0000ff; text-decoration-color: #0000ff\">:</span><span style=\"color: #800080; text-decoration-color: #800080\">850</span>]<span style=\"color: #c0c0c0; text-decoration-color: #c0c0c0\"> </span><span style=\"color: #0000ff; text-decoration-color: #0000ff\">step</span>=<span style=\"color: #008080; text-decoration-color: #008080; font-weight: bold\">410</span> <span style=\"color: #0000ff; text-decoration-color: #0000ff\">loss</span>=<span style=\"color: #008080; text-decoration-color: #008080; font-weight: bold\">4.23287</span> <span style=\"color: #0000ff; text-decoration-color: #0000ff\">dt</span>=<span style=\"color: #008080; text-decoration-color: #008080; font-weight: bold\">0.020317</span> <span style=\"color: #0000ff; text-decoration-color: #0000ff\">dtf</span>=<span style=\"color: #008080; text-decoration-color: #008080; font-weight: bold\">0.0198985</span> <span style=\"color: #0000ff; text-decoration-color: #0000ff\">dtb</span>=<span style=\"color: #008080; text-decoration-color: #008080; font-weight: bold\">0.00016525</span> <span style=\"color: #0000ff; text-decoration-color: #0000ff\">sps</span>=<span style=\"color: #008080; text-decoration-color: #008080; font-weight: bold\">49.2199</span> <span style=\"color: #0000ff; text-decoration-color: #0000ff\">sps_per_gpu</span>=<span style=\"color: #008080; text-decoration-color: #008080; font-weight: bold\">49.2199</span> <span style=\"color: #0000ff; text-decoration-color: #0000ff\">tps</span>=<span style=\"color: #008080; text-decoration-color: #008080; font-weight: bold\">6300.14</span> <span style=\"color: #0000ff; text-decoration-color: #0000ff\">tps_per_gpu</span>=<span style=\"color: #008080; text-decoration-color: #008080; font-weight: bold\">6300.14</span> <span style=\"color: #0000ff; text-decoration-color: #0000ff\">mfu</span>=<span style=\"color: #008080; text-decoration-color: #008080; font-weight: bold\">0.133231</span>\n",
              "</pre>"
            ]
          }
        },
        {
          "output_type": "display_data",
          "metadata": {},
          "data": {
            "text/html": [
              "<pre style=\"white-space:pre;overflow-x:auto;line-height:normal;font-family:Menlo,'DejaVu Sans Mono',consolas,'Courier New',monospace\">[<span style=\"color: #7f7f7f; text-decoration-color: #7f7f7f\">2025-07-23 08:58:10,667327</span>][<span style=\"color: #008000; text-decoration-color: #008000\">I</span>][<span style=\"color: #008080; text-decoration-color: #008080; font-style: italic\">wordplay</span>/<span style=\"color: #000080; text-decoration-color: #000080\">trainer</span><span style=\"color: #0000ff; text-decoration-color: #0000ff\">:</span><span style=\"color: #800080; text-decoration-color: #800080\">850</span>]<span style=\"color: #c0c0c0; text-decoration-color: #c0c0c0\"> </span><span style=\"color: #0000ff; text-decoration-color: #0000ff\">step</span>=<span style=\"color: #008080; text-decoration-color: #008080; font-weight: bold\">420</span> <span style=\"color: #0000ff; text-decoration-color: #0000ff\">loss</span>=<span style=\"color: #008080; text-decoration-color: #008080; font-weight: bold\">4.27257</span> <span style=\"color: #0000ff; text-decoration-color: #0000ff\">dt</span>=<span style=\"color: #008080; text-decoration-color: #008080; font-weight: bold\">0.0188816</span> <span style=\"color: #0000ff; text-decoration-color: #0000ff\">dtf</span>=<span style=\"color: #008080; text-decoration-color: #008080; font-weight: bold\">0.0184897</span> <span style=\"color: #0000ff; text-decoration-color: #0000ff\">dtb</span>=<span style=\"color: #008080; text-decoration-color: #008080; font-weight: bold\">0.000168542</span> <span style=\"color: #0000ff; text-decoration-color: #0000ff\">sps</span>=<span style=\"color: #008080; text-decoration-color: #008080; font-weight: bold\">52.9615</span> <span style=\"color: #0000ff; text-decoration-color: #0000ff\">sps_per_gpu</span>=<span style=\"color: #008080; text-decoration-color: #008080; font-weight: bold\">52.9615</span> <span style=\"color: #0000ff; text-decoration-color: #0000ff\">tps</span>=<span style=\"color: #008080; text-decoration-color: #008080; font-weight: bold\">6779.08</span> <span style=\"color: #0000ff; text-decoration-color: #0000ff\">tps_per_gpu</span>=<span style=\"color: #008080; text-decoration-color: #008080; font-weight: bold\">6779.08</span> <span style=\"color: #0000ff; text-decoration-color: #0000ff\">mfu</span>=<span style=\"color: #008080; text-decoration-color: #008080; font-weight: bold\">0.134557</span>\n",
              "</pre>"
            ]
          }
        },
        {
          "output_type": "display_data",
          "metadata": {},
          "data": {
            "text/html": [
              "<pre style=\"white-space:pre;overflow-x:auto;line-height:normal;font-family:Menlo,'DejaVu Sans Mono',consolas,'Courier New',monospace\">[<span style=\"color: #7f7f7f; text-decoration-color: #7f7f7f\">2025-07-23 08:58:10,876329</span>][<span style=\"color: #008000; text-decoration-color: #008000\">I</span>][<span style=\"color: #008080; text-decoration-color: #008080; font-style: italic\">wordplay</span>/<span style=\"color: #000080; text-decoration-color: #000080\">trainer</span><span style=\"color: #0000ff; text-decoration-color: #0000ff\">:</span><span style=\"color: #800080; text-decoration-color: #800080\">850</span>]<span style=\"color: #c0c0c0; text-decoration-color: #c0c0c0\"> </span><span style=\"color: #0000ff; text-decoration-color: #0000ff\">step</span>=<span style=\"color: #008080; text-decoration-color: #008080; font-weight: bold\">430</span> <span style=\"color: #0000ff; text-decoration-color: #0000ff\">loss</span>=<span style=\"color: #008080; text-decoration-color: #008080; font-weight: bold\">4.18557</span> <span style=\"color: #0000ff; text-decoration-color: #0000ff\">dt</span>=<span style=\"color: #008080; text-decoration-color: #008080; font-weight: bold\">0.0203745</span> <span style=\"color: #0000ff; text-decoration-color: #0000ff\">dtf</span>=<span style=\"color: #008080; text-decoration-color: #008080; font-weight: bold\">0.0199605</span> <span style=\"color: #0000ff; text-decoration-color: #0000ff\">dtb</span>=<span style=\"color: #008080; text-decoration-color: #008080; font-weight: bold\">0.000141667</span> <span style=\"color: #0000ff; text-decoration-color: #0000ff\">sps</span>=<span style=\"color: #008080; text-decoration-color: #008080; font-weight: bold\">49.081</span> <span style=\"color: #0000ff; text-decoration-color: #0000ff\">sps_per_gpu</span>=<span style=\"color: #008080; text-decoration-color: #008080; font-weight: bold\">49.081</span> <span style=\"color: #0000ff; text-decoration-color: #0000ff\">tps</span>=<span style=\"color: #008080; text-decoration-color: #008080; font-weight: bold\">6282.36</span> <span style=\"color: #0000ff; text-decoration-color: #0000ff\">tps_per_gpu</span>=<span style=\"color: #008080; text-decoration-color: #008080; font-weight: bold\">6282.36</span> <span style=\"color: #0000ff; text-decoration-color: #0000ff\">mfu</span>=<span style=\"color: #008080; text-decoration-color: #008080; font-weight: bold\">0.134677</span>\n",
              "</pre>"
            ]
          }
        },
        {
          "output_type": "display_data",
          "metadata": {},
          "data": {
            "text/html": [
              "<pre style=\"white-space:pre;overflow-x:auto;line-height:normal;font-family:Menlo,'DejaVu Sans Mono',consolas,'Courier New',monospace\">[<span style=\"color: #7f7f7f; text-decoration-color: #7f7f7f\">2025-07-23 08:58:11,075744</span>][<span style=\"color: #008000; text-decoration-color: #008000\">I</span>][<span style=\"color: #008080; text-decoration-color: #008080; font-style: italic\">wordplay</span>/<span style=\"color: #000080; text-decoration-color: #000080\">trainer</span><span style=\"color: #0000ff; text-decoration-color: #0000ff\">:</span><span style=\"color: #800080; text-decoration-color: #800080\">850</span>]<span style=\"color: #c0c0c0; text-decoration-color: #c0c0c0\"> </span><span style=\"color: #0000ff; text-decoration-color: #0000ff\">step</span>=<span style=\"color: #008080; text-decoration-color: #008080; font-weight: bold\">440</span> <span style=\"color: #0000ff; text-decoration-color: #0000ff\">loss</span>=<span style=\"color: #008080; text-decoration-color: #008080; font-weight: bold\">4.21616</span> <span style=\"color: #0000ff; text-decoration-color: #0000ff\">dt</span>=<span style=\"color: #008080; text-decoration-color: #008080; font-weight: bold\">0.0193871</span> <span style=\"color: #0000ff; text-decoration-color: #0000ff\">dtf</span>=<span style=\"color: #008080; text-decoration-color: #008080; font-weight: bold\">0.0189952</span> <span style=\"color: #0000ff; text-decoration-color: #0000ff\">dtb</span>=<span style=\"color: #008080; text-decoration-color: #008080; font-weight: bold\">0.000143083</span> <span style=\"color: #0000ff; text-decoration-color: #0000ff\">sps</span>=<span style=\"color: #008080; text-decoration-color: #008080; font-weight: bold\">51.5807</span> <span style=\"color: #0000ff; text-decoration-color: #0000ff\">sps_per_gpu</span>=<span style=\"color: #008080; text-decoration-color: #008080; font-weight: bold\">51.5807</span> <span style=\"color: #0000ff; text-decoration-color: #0000ff\">tps</span>=<span style=\"color: #008080; text-decoration-color: #008080; font-weight: bold\">6602.33</span> <span style=\"color: #0000ff; text-decoration-color: #0000ff\">tps_per_gpu</span>=<span style=\"color: #008080; text-decoration-color: #008080; font-weight: bold\">6602.33</span> <span style=\"color: #0000ff; text-decoration-color: #0000ff\">mfu</span>=<span style=\"color: #008080; text-decoration-color: #008080; font-weight: bold\">0.135476</span>\n",
              "</pre>"
            ]
          }
        },
        {
          "output_type": "display_data",
          "metadata": {},
          "data": {
            "text/html": [
              "<pre style=\"white-space:pre;overflow-x:auto;line-height:normal;font-family:Menlo,'DejaVu Sans Mono',consolas,'Courier New',monospace\">[<span style=\"color: #7f7f7f; text-decoration-color: #7f7f7f\">2025-07-23 08:58:11,303578</span>][<span style=\"color: #008000; text-decoration-color: #008000\">I</span>][<span style=\"color: #008080; text-decoration-color: #008080; font-style: italic\">wordplay</span>/<span style=\"color: #000080; text-decoration-color: #000080\">trainer</span><span style=\"color: #0000ff; text-decoration-color: #0000ff\">:</span><span style=\"color: #800080; text-decoration-color: #800080\">850</span>]<span style=\"color: #c0c0c0; text-decoration-color: #c0c0c0\"> </span><span style=\"color: #0000ff; text-decoration-color: #0000ff\">step</span>=<span style=\"color: #008080; text-decoration-color: #008080; font-weight: bold\">450</span> <span style=\"color: #0000ff; text-decoration-color: #0000ff\">loss</span>=<span style=\"color: #008080; text-decoration-color: #008080; font-weight: bold\">4.23928</span> <span style=\"color: #0000ff; text-decoration-color: #0000ff\">dt</span>=<span style=\"color: #008080; text-decoration-color: #008080; font-weight: bold\">0.0265353</span> <span style=\"color: #0000ff; text-decoration-color: #0000ff\">dtf</span>=<span style=\"color: #008080; text-decoration-color: #008080; font-weight: bold\">0.0255366</span> <span style=\"color: #0000ff; text-decoration-color: #0000ff\">dtb</span>=<span style=\"color: #008080; text-decoration-color: #008080; font-weight: bold\">0.000381958</span> <span style=\"color: #0000ff; text-decoration-color: #0000ff\">sps</span>=<span style=\"color: #008080; text-decoration-color: #008080; font-weight: bold\">37.6856</span> <span style=\"color: #0000ff; text-decoration-color: #0000ff\">sps_per_gpu</span>=<span style=\"color: #008080; text-decoration-color: #008080; font-weight: bold\">37.6856</span> <span style=\"color: #0000ff; text-decoration-color: #0000ff\">tps</span>=<span style=\"color: #008080; text-decoration-color: #008080; font-weight: bold\">4823.76</span> <span style=\"color: #0000ff; text-decoration-color: #0000ff\">tps_per_gpu</span>=<span style=\"color: #008080; text-decoration-color: #008080; font-weight: bold\">4823.76</span> <span style=\"color: #0000ff; text-decoration-color: #0000ff\">mfu</span>=<span style=\"color: #008080; text-decoration-color: #008080; font-weight: bold\">0.132352</span>\n",
              "</pre>"
            ]
          }
        },
        {
          "output_type": "display_data",
          "metadata": {},
          "data": {
            "text/html": [
              "<pre style=\"white-space:pre;overflow-x:auto;line-height:normal;font-family:Menlo,'DejaVu Sans Mono',consolas,'Courier New',monospace\">[<span style=\"color: #7f7f7f; text-decoration-color: #7f7f7f\">2025-07-23 08:58:13,181693</span>][<span style=\"color: #008000; text-decoration-color: #008000\">I</span>][<span style=\"color: #008080; text-decoration-color: #008080; font-style: italic\">wordplay</span>/<span style=\"color: #000080; text-decoration-color: #000080\">trainer</span><span style=\"color: #0000ff; text-decoration-color: #0000ff\">:</span><span style=\"color: #800080; text-decoration-color: #800080\">790</span>]<span style=\"color: #c0c0c0; text-decoration-color: #c0c0c0\"> </span><span style=\"color: #ff00ff; text-decoration-color: #ff00ff\">[</span><span style=\"color: #008000; text-decoration-color: #008000\">'prompt'</span><span style=\"color: #ff00ff; text-decoration-color: #ff00ff\">]</span>: <span style=\"color: #008000; text-decoration-color: #008000\">'What is an LLM?'</span>\n",
              "</pre>"
            ]
          }
        },
        {
          "output_type": "display_data",
          "metadata": {},
          "data": {
            "text/html": [
              "<pre style=\"white-space:pre;overflow-x:auto;line-height:normal;font-family:Menlo,'DejaVu Sans Mono',consolas,'Courier New',monospace\">[<span style=\"color: #7f7f7f; text-decoration-color: #7f7f7f\">2025-07-23 08:58:13,182729</span>][<span style=\"color: #008000; text-decoration-color: #008000\">I</span>][<span style=\"color: #008080; text-decoration-color: #008080; font-style: italic\">wordplay</span>/<span style=\"color: #000080; text-decoration-color: #000080\">trainer</span><span style=\"color: #0000ff; text-decoration-color: #0000ff\">:</span><span style=\"color: #800080; text-decoration-color: #800080\">794</span>]<span style=\"color: #c0c0c0; text-decoration-color: #c0c0c0\"> </span><span style=\"color: #ff00ff; text-decoration-color: #ff00ff\">[</span><span style=\"color: #008000; text-decoration-color: #008000\">'response'</span><span style=\"color: #ff00ff; text-decoration-color: #ff00ff\">]</span>:\n",
              "\n",
              "What is an LLM?weeQQQ'<span style=\"color: #008000; text-decoration-color: #008000\">'QQ'</span>evfhQQ;K.AEsWqb..CfC.h;vvx'<span style=\"color: #008000; text-decoration-color: #008000\">'bTopBe'</span>gWvXffv3ebssW.;?ptdeeep vrr..CCfkqcptyhpwTssWqsAxrqqqehmuZqZ:qeqGGGGauyfxrrAtgSrqWQ,,t;;ppMMgyeqfvfAAqcWYtqqoopepwySkkqggt3bZMqqq;;yybkSJcSQuuurruqqQtttoo'<span style=\"color: #008000; text-decoration-color: #008000\">'fAqq;;vSJZZZtM''qqM???gWWAAAt??MYYYe;yglAg;up'</span>exuqqWtu\n",
              "</pre>"
            ]
          }
        },
        {
          "output_type": "display_data",
          "metadata": {},
          "data": {
            "text/html": [
              "<pre style=\"white-space:pre;overflow-x:auto;line-height:normal;font-family:Menlo,'DejaVu Sans Mono',consolas,'Courier New',monospace\">[<span style=\"color: #7f7f7f; text-decoration-color: #7f7f7f\">2025-07-23 08:58:16,517599</span>][<span style=\"color: #008000; text-decoration-color: #008000\">I</span>][<span style=\"color: #008080; text-decoration-color: #008080; font-style: italic\">wordplay</span>/<span style=\"color: #000080; text-decoration-color: #000080\">trainer</span><span style=\"color: #0000ff; text-decoration-color: #0000ff\">:</span><span style=\"color: #800080; text-decoration-color: #800080\">733</span>]<span style=\"color: #c0c0c0; text-decoration-color: #c0c0c0\"> </span>Saving checkpoint to: <span style=\"color: #800080; text-decoration-color: #800080\">/Users/samforeman/projects/saforem2/intro-hpc-bootcamp-2025/content/02-llms/</span><span style=\"color: #ff00ff; text-decoration-color: #ff00ff\">7-shakespeare-example</span>\n",
              "</pre>"
            ]
          }
        },
        {
          "output_type": "display_data",
          "metadata": {},
          "data": {
            "text/html": [
              "<pre style=\"white-space:pre;overflow-x:auto;line-height:normal;font-family:Menlo,'DejaVu Sans Mono',consolas,'Courier New',monospace\">[<span style=\"color: #7f7f7f; text-decoration-color: #7f7f7f\">2025-07-23 08:58:16,519208</span>][<span style=\"color: #008000; text-decoration-color: #008000\">I</span>][<span style=\"color: #008080; text-decoration-color: #008080; font-style: italic\">wordplay</span>/<span style=\"color: #000080; text-decoration-color: #000080\">trainer</span><span style=\"color: #0000ff; text-decoration-color: #0000ff\">:</span><span style=\"color: #800080; text-decoration-color: #800080\">734</span>]<span style=\"color: #c0c0c0; text-decoration-color: #c0c0c0\"> </span>Saving model to: <span style=\"color: #800080; text-decoration-color: #800080\">/Users/samforeman/projects/saforem2/intro-hpc-bootcamp-2025/content/02-llms/7-shakespeare-example/</span><span style=\"color: #ff00ff; text-decoration-color: #ff00ff\">model.pth</span>\n",
              "</pre>"
            ]
          }
        },
        {
          "output_type": "display_data",
          "metadata": {},
          "data": {
            "text/html": [
              "<pre style=\"white-space:pre;overflow-x:auto;line-height:normal;font-family:Menlo,'DejaVu Sans Mono',consolas,'Courier New',monospace\">[<span style=\"color: #7f7f7f; text-decoration-color: #7f7f7f\">2025-07-23 08:58:16,613470</span>][<span style=\"color: #008000; text-decoration-color: #008000\">I</span>][<span style=\"color: #008080; text-decoration-color: #008080; font-style: italic\">wordplay</span>/<span style=\"color: #000080; text-decoration-color: #000080\">configs</span><span style=\"color: #0000ff; text-decoration-color: #0000ff\">:</span><span style=\"color: #800080; text-decoration-color: #800080\">141</span>]<span style=\"color: #c0c0c0; text-decoration-color: #c0c0c0\"> </span>Appending <span style=\"color: #800080; text-decoration-color: #800080\">/Users/samforeman/projects/saforem2/intro-hpc-bootcamp-2025/content/02-llms/</span><span style=\"color: #ff00ff; text-decoration-color: #ff00ff\">7-shakespeare-example</span> to <span style=\"color: #800080; text-decoration-color: #800080\">/Users/samforeman/projects/saforem2/wordplay/src/ckpts/</span><span style=\"color: #ff00ff; text-decoration-color: #ff00ff\">checkpoints.log</span>\n",
              "</pre>"
            ]
          }
        },
        {
          "output_type": "display_data",
          "metadata": {},
          "data": {
            "text/html": [
              "<pre style=\"white-space:pre;overflow-x:auto;line-height:normal;font-family:Menlo,'DejaVu Sans Mono',consolas,'Courier New',monospace\">[<span style=\"color: #7f7f7f; text-decoration-color: #7f7f7f\">2025-07-23 08:58:16,813979</span>][<span style=\"color: #008000; text-decoration-color: #008000\">I</span>][<span style=\"color: #008080; text-decoration-color: #008080; font-style: italic\">wordplay</span>/<span style=\"color: #000080; text-decoration-color: #000080\">trainer</span><span style=\"color: #0000ff; text-decoration-color: #0000ff\">:</span><span style=\"color: #800080; text-decoration-color: #800080\">850</span>]<span style=\"color: #c0c0c0; text-decoration-color: #c0c0c0\"> </span><span style=\"color: #0000ff; text-decoration-color: #0000ff\">step</span>=<span style=\"color: #008080; text-decoration-color: #008080; font-weight: bold\">460</span> <span style=\"color: #0000ff; text-decoration-color: #0000ff\">loss</span>=<span style=\"color: #008080; text-decoration-color: #008080; font-weight: bold\">4.24269</span> <span style=\"color: #0000ff; text-decoration-color: #0000ff\">dt</span>=<span style=\"color: #008080; text-decoration-color: #008080; font-weight: bold\">0.0198506</span> <span style=\"color: #0000ff; text-decoration-color: #0000ff\">dtf</span>=<span style=\"color: #008080; text-decoration-color: #008080; font-weight: bold\">0.0193689</span> <span style=\"color: #0000ff; text-decoration-color: #0000ff\">dtb</span>=<span style=\"color: #008080; text-decoration-color: #008080; font-weight: bold\">0.0001835</span> <span style=\"color: #0000ff; text-decoration-color: #0000ff\">sps</span>=<span style=\"color: #008080; text-decoration-color: #008080; font-weight: bold\">50.3762</span> <span style=\"color: #0000ff; text-decoration-color: #0000ff\">sps_per_gpu</span>=<span style=\"color: #008080; text-decoration-color: #008080; font-weight: bold\">50.3762</span> <span style=\"color: #0000ff; text-decoration-color: #0000ff\">tps</span>=<span style=\"color: #008080; text-decoration-color: #008080; font-weight: bold\">6448.16</span> <span style=\"color: #0000ff; text-decoration-color: #0000ff\">tps_per_gpu</span>=<span style=\"color: #008080; text-decoration-color: #008080; font-weight: bold\">6448.16</span> <span style=\"color: #0000ff; text-decoration-color: #0000ff\">mfu</span>=<span style=\"color: #008080; text-decoration-color: #008080; font-weight: bold\">0.13305</span>\n",
              "</pre>"
            ]
          }
        },
        {
          "output_type": "display_data",
          "metadata": {},
          "data": {
            "text/html": [
              "<pre style=\"white-space:pre;overflow-x:auto;line-height:normal;font-family:Menlo,'DejaVu Sans Mono',consolas,'Courier New',monospace\">[<span style=\"color: #7f7f7f; text-decoration-color: #7f7f7f\">2025-07-23 08:58:17,027692</span>][<span style=\"color: #008000; text-decoration-color: #008000\">I</span>][<span style=\"color: #008080; text-decoration-color: #008080; font-style: italic\">wordplay</span>/<span style=\"color: #000080; text-decoration-color: #000080\">trainer</span><span style=\"color: #0000ff; text-decoration-color: #0000ff\">:</span><span style=\"color: #800080; text-decoration-color: #800080\">850</span>]<span style=\"color: #c0c0c0; text-decoration-color: #c0c0c0\"> </span><span style=\"color: #0000ff; text-decoration-color: #0000ff\">step</span>=<span style=\"color: #008080; text-decoration-color: #008080; font-weight: bold\">470</span> <span style=\"color: #0000ff; text-decoration-color: #0000ff\">loss</span>=<span style=\"color: #008080; text-decoration-color: #008080; font-weight: bold\">4.26877</span> <span style=\"color: #0000ff; text-decoration-color: #0000ff\">dt</span>=<span style=\"color: #008080; text-decoration-color: #008080; font-weight: bold\">0.0205835</span> <span style=\"color: #0000ff; text-decoration-color: #0000ff\">dtf</span>=<span style=\"color: #008080; text-decoration-color: #008080; font-weight: bold\">0.019941</span> <span style=\"color: #0000ff; text-decoration-color: #0000ff\">dtb</span>=<span style=\"color: #008080; text-decoration-color: #008080; font-weight: bold\">0.00031125</span> <span style=\"color: #0000ff; text-decoration-color: #0000ff\">sps</span>=<span style=\"color: #008080; text-decoration-color: #008080; font-weight: bold\">48.5826</span> <span style=\"color: #0000ff; text-decoration-color: #0000ff\">sps_per_gpu</span>=<span style=\"color: #008080; text-decoration-color: #008080; font-weight: bold\">48.5826</span> <span style=\"color: #0000ff; text-decoration-color: #0000ff\">tps</span>=<span style=\"color: #008080; text-decoration-color: #008080; font-weight: bold\">6218.57</span> <span style=\"color: #0000ff; text-decoration-color: #0000ff\">tps_per_gpu</span>=<span style=\"color: #008080; text-decoration-color: #008080; font-weight: bold\">6218.57</span> <span style=\"color: #0000ff; text-decoration-color: #0000ff\">mfu</span>=<span style=\"color: #008080; text-decoration-color: #008080; font-weight: bold\">0.133183</span>\n",
              "</pre>"
            ]
          }
        },
        {
          "output_type": "display_data",
          "metadata": {},
          "data": {
            "text/html": [
              "<pre style=\"white-space:pre;overflow-x:auto;line-height:normal;font-family:Menlo,'DejaVu Sans Mono',consolas,'Courier New',monospace\">[<span style=\"color: #7f7f7f; text-decoration-color: #7f7f7f\">2025-07-23 08:58:17,225952</span>][<span style=\"color: #008000; text-decoration-color: #008000\">I</span>][<span style=\"color: #008080; text-decoration-color: #008080; font-style: italic\">wordplay</span>/<span style=\"color: #000080; text-decoration-color: #000080\">trainer</span><span style=\"color: #0000ff; text-decoration-color: #0000ff\">:</span><span style=\"color: #800080; text-decoration-color: #800080\">850</span>]<span style=\"color: #c0c0c0; text-decoration-color: #c0c0c0\"> </span><span style=\"color: #0000ff; text-decoration-color: #0000ff\">step</span>=<span style=\"color: #008080; text-decoration-color: #008080; font-weight: bold\">480</span> <span style=\"color: #0000ff; text-decoration-color: #0000ff\">loss</span>=<span style=\"color: #008080; text-decoration-color: #008080; font-weight: bold\">4.19188</span> <span style=\"color: #0000ff; text-decoration-color: #0000ff\">dt</span>=<span style=\"color: #008080; text-decoration-color: #008080; font-weight: bold\">0.0193338</span> <span style=\"color: #0000ff; text-decoration-color: #0000ff\">dtf</span>=<span style=\"color: #008080; text-decoration-color: #008080; font-weight: bold\">0.0186521</span> <span style=\"color: #0000ff; text-decoration-color: #0000ff\">dtb</span>=<span style=\"color: #008080; text-decoration-color: #008080; font-weight: bold\">0.00012275</span> <span style=\"color: #0000ff; text-decoration-color: #0000ff\">sps</span>=<span style=\"color: #008080; text-decoration-color: #008080; font-weight: bold\">51.7228</span> <span style=\"color: #0000ff; text-decoration-color: #0000ff\">sps_per_gpu</span>=<span style=\"color: #008080; text-decoration-color: #008080; font-weight: bold\">51.7228</span> <span style=\"color: #0000ff; text-decoration-color: #0000ff\">tps</span>=<span style=\"color: #008080; text-decoration-color: #008080; font-weight: bold\">6620.52</span> <span style=\"color: #0000ff; text-decoration-color: #0000ff\">tps_per_gpu</span>=<span style=\"color: #008080; text-decoration-color: #008080; font-weight: bold\">6620.52</span> <span style=\"color: #0000ff; text-decoration-color: #0000ff\">mfu</span>=<span style=\"color: #008080; text-decoration-color: #008080; font-weight: bold\">0.134171</span>\n",
              "</pre>"
            ]
          }
        },
        {
          "output_type": "display_data",
          "metadata": {},
          "data": {
            "text/html": [
              "<pre style=\"white-space:pre;overflow-x:auto;line-height:normal;font-family:Menlo,'DejaVu Sans Mono',consolas,'Courier New',monospace\">[<span style=\"color: #7f7f7f; text-decoration-color: #7f7f7f\">2025-07-23 08:58:17,430493</span>][<span style=\"color: #008000; text-decoration-color: #008000\">I</span>][<span style=\"color: #008080; text-decoration-color: #008080; font-style: italic\">wordplay</span>/<span style=\"color: #000080; text-decoration-color: #000080\">trainer</span><span style=\"color: #0000ff; text-decoration-color: #0000ff\">:</span><span style=\"color: #800080; text-decoration-color: #800080\">850</span>]<span style=\"color: #c0c0c0; text-decoration-color: #c0c0c0\"> </span><span style=\"color: #0000ff; text-decoration-color: #0000ff\">step</span>=<span style=\"color: #008080; text-decoration-color: #008080; font-weight: bold\">490</span> <span style=\"color: #0000ff; text-decoration-color: #0000ff\">loss</span>=<span style=\"color: #008080; text-decoration-color: #008080; font-weight: bold\">4.22611</span> <span style=\"color: #0000ff; text-decoration-color: #0000ff\">dt</span>=<span style=\"color: #008080; text-decoration-color: #008080; font-weight: bold\">0.02165</span> <span style=\"color: #0000ff; text-decoration-color: #0000ff\">dtf</span>=<span style=\"color: #008080; text-decoration-color: #008080; font-weight: bold\">0.0212389</span> <span style=\"color: #0000ff; text-decoration-color: #0000ff\">dtb</span>=<span style=\"color: #008080; text-decoration-color: #008080; font-weight: bold\">0.000145625</span> <span style=\"color: #0000ff; text-decoration-color: #0000ff\">sps</span>=<span style=\"color: #008080; text-decoration-color: #008080; font-weight: bold\">46.1894</span> <span style=\"color: #0000ff; text-decoration-color: #0000ff\">sps_per_gpu</span>=<span style=\"color: #008080; text-decoration-color: #008080; font-weight: bold\">46.1894</span> <span style=\"color: #0000ff; text-decoration-color: #0000ff\">tps</span>=<span style=\"color: #008080; text-decoration-color: #008080; font-weight: bold\">5912.24</span> <span style=\"color: #0000ff; text-decoration-color: #0000ff\">tps_per_gpu</span>=<span style=\"color: #008080; text-decoration-color: #008080; font-weight: bold\">5912.24</span> <span style=\"color: #0000ff; text-decoration-color: #0000ff\">mfu</span>=<span style=\"color: #008080; text-decoration-color: #008080; font-weight: bold\">0.133529</span>\n",
              "</pre>"
            ]
          }
        },
        {
          "output_type": "display_data",
          "metadata": {},
          "data": {
            "text/html": [
              "<pre style=\"white-space:pre;overflow-x:auto;line-height:normal;font-family:Menlo,'DejaVu Sans Mono',consolas,'Courier New',monospace\">[<span style=\"color: #7f7f7f; text-decoration-color: #7f7f7f\">2025-07-23 08:58:17,639397</span>][<span style=\"color: #008000; text-decoration-color: #008000\">I</span>][<span style=\"color: #008080; text-decoration-color: #008080; font-style: italic\">wordplay</span>/<span style=\"color: #000080; text-decoration-color: #000080\">trainer</span><span style=\"color: #0000ff; text-decoration-color: #0000ff\">:</span><span style=\"color: #800080; text-decoration-color: #800080\">850</span>]<span style=\"color: #c0c0c0; text-decoration-color: #c0c0c0\"> </span><span style=\"color: #0000ff; text-decoration-color: #0000ff\">step</span>=<span style=\"color: #008080; text-decoration-color: #008080; font-weight: bold\">500</span> <span style=\"color: #0000ff; text-decoration-color: #0000ff\">loss</span>=<span style=\"color: #008080; text-decoration-color: #008080; font-weight: bold\">4.21804</span> <span style=\"color: #0000ff; text-decoration-color: #0000ff\">dt</span>=<span style=\"color: #008080; text-decoration-color: #008080; font-weight: bold\">0.0192383</span> <span style=\"color: #0000ff; text-decoration-color: #0000ff\">dtf</span>=<span style=\"color: #008080; text-decoration-color: #008080; font-weight: bold\">0.018851</span> <span style=\"color: #0000ff; text-decoration-color: #0000ff\">dtb</span>=<span style=\"color: #008080; text-decoration-color: #008080; font-weight: bold\">0.000150875</span> <span style=\"color: #0000ff; text-decoration-color: #0000ff\">sps</span>=<span style=\"color: #008080; text-decoration-color: #008080; font-weight: bold\">51.9796</span> <span style=\"color: #0000ff; text-decoration-color: #0000ff\">sps_per_gpu</span>=<span style=\"color: #008080; text-decoration-color: #008080; font-weight: bold\">51.9796</span> <span style=\"color: #0000ff; text-decoration-color: #0000ff\">tps</span>=<span style=\"color: #008080; text-decoration-color: #008080; font-weight: bold\">6653.38</span> <span style=\"color: #0000ff; text-decoration-color: #0000ff\">tps_per_gpu</span>=<span style=\"color: #008080; text-decoration-color: #008080; font-weight: bold\">6653.38</span> <span style=\"color: #0000ff; text-decoration-color: #0000ff\">mfu</span>=<span style=\"color: #008080; text-decoration-color: #008080; font-weight: bold\">0.134554</span>\n",
              "</pre>"
            ]
          }
        }
      ],
      "source": [
        "trainer.train(train_iters=500)"
      ],
      "id": "16d89082"
    },
    {
      "cell_type": "code",
      "execution_count": 10,
      "metadata": {
        "quarto-private-1": {
          "key": "colab",
          "value": {
            "base_uri": "https://localhost:8080/",
            "height": 321
          }
        }
      },
      "outputs": [
        {
          "output_type": "display_data",
          "metadata": {},
          "data": {
            "text/html": [
              "<pre style=\"white-space:pre;overflow-x:auto;line-height:normal;font-family:Menlo,'DejaVu Sans Mono',consolas,'Courier New',monospace\">[<span style=\"color: #7f7f7f; text-decoration-color: #7f7f7f\">2025-07-23 08:58:19,743301</span>][<span style=\"color: #008000; text-decoration-color: #008000\">I</span>][<span style=\"color: #008080; text-decoration-color: #008080; font-style: italic\">ipykernel_34035</span>/<span style=\"color: #000080; text-decoration-color: #000080\">1425179755</span><span style=\"color: #0000ff; text-decoration-color: #0000ff\">:</span><span style=\"color: #800080; text-decoration-color: #800080\">12</span><span style=\"color: #0000ff; text-decoration-color: #0000ff\">:</span><span style=\"color: #00ff00; text-decoration-color: #00ff00; font-style: italic\">ezpz.log</span>]<span style=\"color: #c0c0c0; text-decoration-color: #c0c0c0\"> </span>took: <span style=\"color: #008080; text-decoration-color: #008080; font-weight: bold\">1.</span>9168s\n",
              "</pre>"
            ]
          }
        },
        {
          "output_type": "display_data",
          "metadata": {},
          "data": {
            "text/html": [
              "<pre style=\"white-space:pre;overflow-x:auto;line-height:normal;font-family:Menlo,'DejaVu Sans Mono',consolas,'Courier New',monospace\">[<span style=\"color: #7f7f7f; text-decoration-color: #7f7f7f\">2025-07-23 08:58:19,745116</span>][<span style=\"color: #008000; text-decoration-color: #008000\">I</span>][<span style=\"color: #008080; text-decoration-color: #008080; font-style: italic\">ipykernel_34035</span>/<span style=\"color: #000080; text-decoration-color: #000080\">1425179755</span><span style=\"color: #0000ff; text-decoration-color: #0000ff\">:</span><span style=\"color: #800080; text-decoration-color: #800080\">13</span><span style=\"color: #0000ff; text-decoration-color: #0000ff\">:</span><span style=\"color: #00ff00; text-decoration-color: #00ff00; font-style: italic\">ezpz.log</span>]<span style=\"color: #c0c0c0; text-decoration-color: #c0c0c0\"> </span><span style=\"color: #ff00ff; text-decoration-color: #ff00ff\">[</span><span style=\"color: #008000; text-decoration-color: #008000\">'prompt'</span><span style=\"color: #ff00ff; text-decoration-color: #ff00ff\">]</span>: <span style=\"color: #008000; text-decoration-color: #008000\">'What is an LLM?'</span>\n",
              "</pre>"
            ]
          }
        },
        {
          "output_type": "display_data",
          "metadata": {},
          "data": {
            "text/html": [
              "<pre style=\"white-space:pre;overflow-x:auto;line-height:normal;font-family:Menlo,'DejaVu Sans Mono',consolas,'Courier New',monospace\">[<span style=\"color: #7f7f7f; text-decoration-color: #7f7f7f\">2025-07-23 08:58:19,745939</span>][<span style=\"color: #008000; text-decoration-color: #008000\">I</span>][<span style=\"color: #008080; text-decoration-color: #008080; font-style: italic\">ipykernel_34035</span>/<span style=\"color: #000080; text-decoration-color: #000080\">1425179755</span><span style=\"color: #0000ff; text-decoration-color: #0000ff\">:</span><span style=\"color: #800080; text-decoration-color: #800080\">14</span><span style=\"color: #0000ff; text-decoration-color: #0000ff\">:</span><span style=\"color: #00ff00; text-decoration-color: #00ff00; font-style: italic\">ezpz.log</span>]<span style=\"color: #c0c0c0; text-decoration-color: #c0c0c0\"> </span><span style=\"color: #ff00ff; text-decoration-color: #ff00ff\">[</span><span style=\"color: #008000; text-decoration-color: #008000\">'response'</span><span style=\"color: #ff00ff; text-decoration-color: #ff00ff\">]</span>:\n",
              "\n",
              "What is an LLM?fwll\n",
              "\n",
              "b3afqbZZI,r oppq3A33QoUUye-fwC'3b3.<span style=\"color: #008000; text-decoration-color: #008000\">',A'</span>.hhPlVXXqeQyCCC;xfssc;wTTTTcdGoeehQOCXXXB'KZ--qehoF3AqfqqW\n",
              "cQAcceffGG,<span style=\"color: #008000; text-decoration-color: #008000\">'fSJpppww,txMgQs;;;?qf'</span>fSSrpcg?s,A'rr,aso?<span style=\"color: #008000; text-decoration-color: #008000\">''</span>o'MtQrrSSgqfttggSc'<span style=\"color: #008000; text-decoration-color: #008000\">'Wb'</span>qA,.Apcbb???;pYYySQ'agggScWQgbqWfqYroffSYSYhqfk'<span style=\"color: #008000; text-decoration-color: #008000\">'qfAA,sgWlnZ:pt,JynS'</span>gJZes\n",
              "</pre>"
            ]
          }
        }
      ],
      "source": [
        "import time\n",
        "\n",
        "query = \"What is an LLM?\"\n",
        "t0 = time.perf_counter()\n",
        "outputs = trainer.evaluate(\n",
        "    query,\n",
        "    num_samples=1,\n",
        "    max_new_tokens=256,\n",
        "    top_k=16,\n",
        "    display=False\n",
        ")\n",
        "logger.info(f'took: {time.perf_counter() - t0:.4f}s')\n",
        "logger.info(f\"['prompt']: '{query}'\")\n",
        "logger.info(\"['response']:\\n\\n\" + fr\"{outputs['0']['raw']}\")"
      ],
      "id": "382c81b1"
    },
    {
      "cell_type": "markdown",
      "metadata": {},
      "source": [
        "## Resume Training…"
      ],
      "id": "8639fe76-eae9-40d5-8a94-ad8b63764c14"
    },
    {
      "cell_type": "code",
      "execution_count": 11,
      "metadata": {
        "quarto-private-1": {
          "key": "colab",
          "value": {
            "base_uri": "https://localhost:8080/",
            "height": 832
          }
        }
      },
      "outputs": [
        {
          "output_type": "display_data",
          "metadata": {},
          "data": {
            "text/html": [
              "<pre style=\"white-space:pre;overflow-x:auto;line-height:normal;font-family:Menlo,'DejaVu Sans Mono',consolas,'Courier New',monospace\">[<span style=\"color: #7f7f7f; text-decoration-color: #7f7f7f\">2025-07-23 08:58:21,718373</span>][<span style=\"color: #008000; text-decoration-color: #008000\">I</span>][<span style=\"color: #008080; text-decoration-color: #008080; font-style: italic\">wordplay</span>/<span style=\"color: #000080; text-decoration-color: #000080\">trainer</span><span style=\"color: #0000ff; text-decoration-color: #0000ff\">:</span><span style=\"color: #800080; text-decoration-color: #800080\">790</span>]<span style=\"color: #c0c0c0; text-decoration-color: #c0c0c0\"> </span><span style=\"color: #ff00ff; text-decoration-color: #ff00ff\">[</span><span style=\"color: #008000; text-decoration-color: #008000\">'prompt'</span><span style=\"color: #ff00ff; text-decoration-color: #ff00ff\">]</span>: <span style=\"color: #008000; text-decoration-color: #008000\">'What is an LLM?'</span>\n",
              "</pre>"
            ]
          }
        },
        {
          "output_type": "display_data",
          "metadata": {},
          "data": {
            "text/html": [
              "<pre style=\"white-space:pre;overflow-x:auto;line-height:normal;font-family:Menlo,'DejaVu Sans Mono',consolas,'Courier New',monospace\">[<span style=\"color: #7f7f7f; text-decoration-color: #7f7f7f\">2025-07-23 08:58:21,720303</span>][<span style=\"color: #008000; text-decoration-color: #008000\">I</span>][<span style=\"color: #008080; text-decoration-color: #008080; font-style: italic\">wordplay</span>/<span style=\"color: #000080; text-decoration-color: #000080\">trainer</span><span style=\"color: #0000ff; text-decoration-color: #0000ff\">:</span><span style=\"color: #800080; text-decoration-color: #800080\">794</span>]<span style=\"color: #c0c0c0; text-decoration-color: #c0c0c0\"> </span><span style=\"color: #ff00ff; text-decoration-color: #ff00ff\">[</span><span style=\"color: #008000; text-decoration-color: #008000\">'response'</span><span style=\"color: #ff00ff; text-decoration-color: #ff00ff\">]</span>:\n",
              "\n",
              "What is an LLM?wZbbbT'3weew,<span style=\"color: #008000; text-decoration-color: #008000\">'foBB.qWWlpwes.qqQevFAA.bbvFF-AkacWWfYhx3fooB'''</span>';vveesppWW\n",
              "eeWA3ZZppPZe;dCCvres ;ecc--Ws'cqor,JZVVVCCeepfqqWxApBBBBhh;;JeQhMMss,,wshrhW?BiMWYqqwwwAASSwrrroo,rqtWseMq.Ak'ofA,,<span style=\"color: #008000; text-decoration-color: #008000\">'t,,..hh;xx'</span>?sAq';cqxrqWkeMqt'gzAAxhrpqt'g't;?btoseq-pqq'qAtttt,eqrM\n",
              "</pre>"
            ]
          }
        },
        {
          "output_type": "display_data",
          "metadata": {},
          "data": {
            "text/html": [
              "<pre style=\"white-space:pre;overflow-x:auto;line-height:normal;font-family:Menlo,'DejaVu Sans Mono',consolas,'Courier New',monospace\">[<span style=\"color: #7f7f7f; text-decoration-color: #7f7f7f\">2025-07-23 08:58:25,226804</span>][<span style=\"color: #008000; text-decoration-color: #008000\">I</span>][<span style=\"color: #008080; text-decoration-color: #008080; font-style: italic\">wordplay</span>/<span style=\"color: #000080; text-decoration-color: #000080\">trainer</span><span style=\"color: #0000ff; text-decoration-color: #0000ff\">:</span><span style=\"color: #800080; text-decoration-color: #800080\">733</span>]<span style=\"color: #c0c0c0; text-decoration-color: #c0c0c0\"> </span>Saving checkpoint to: <span style=\"color: #800080; text-decoration-color: #800080\">/Users/samforeman/projects/saforem2/intro-hpc-bootcamp-2025/content/02-llms/</span><span style=\"color: #ff00ff; text-decoration-color: #ff00ff\">7-shakespeare-example</span>\n",
              "</pre>"
            ]
          }
        },
        {
          "output_type": "display_data",
          "metadata": {},
          "data": {
            "text/html": [
              "<pre style=\"white-space:pre;overflow-x:auto;line-height:normal;font-family:Menlo,'DejaVu Sans Mono',consolas,'Courier New',monospace\">[<span style=\"color: #7f7f7f; text-decoration-color: #7f7f7f\">2025-07-23 08:58:25,228089</span>][<span style=\"color: #008000; text-decoration-color: #008000\">I</span>][<span style=\"color: #008080; text-decoration-color: #008080; font-style: italic\">wordplay</span>/<span style=\"color: #000080; text-decoration-color: #000080\">trainer</span><span style=\"color: #0000ff; text-decoration-color: #0000ff\">:</span><span style=\"color: #800080; text-decoration-color: #800080\">734</span>]<span style=\"color: #c0c0c0; text-decoration-color: #c0c0c0\"> </span>Saving model to: <span style=\"color: #800080; text-decoration-color: #800080\">/Users/samforeman/projects/saforem2/intro-hpc-bootcamp-2025/content/02-llms/7-shakespeare-example/</span><span style=\"color: #ff00ff; text-decoration-color: #ff00ff\">model.pth</span>\n",
              "</pre>"
            ]
          }
        },
        {
          "output_type": "display_data",
          "metadata": {},
          "data": {
            "text/html": [
              "<pre style=\"white-space:pre;overflow-x:auto;line-height:normal;font-family:Menlo,'DejaVu Sans Mono',consolas,'Courier New',monospace\">[<span style=\"color: #7f7f7f; text-decoration-color: #7f7f7f\">2025-07-23 08:58:25,327605</span>][<span style=\"color: #008000; text-decoration-color: #008000\">I</span>][<span style=\"color: #008080; text-decoration-color: #008080; font-style: italic\">wordplay</span>/<span style=\"color: #000080; text-decoration-color: #000080\">configs</span><span style=\"color: #0000ff; text-decoration-color: #0000ff\">:</span><span style=\"color: #800080; text-decoration-color: #800080\">141</span>]<span style=\"color: #c0c0c0; text-decoration-color: #c0c0c0\"> </span>Appending <span style=\"color: #800080; text-decoration-color: #800080\">/Users/samforeman/projects/saforem2/intro-hpc-bootcamp-2025/content/02-llms/</span><span style=\"color: #ff00ff; text-decoration-color: #ff00ff\">7-shakespeare-example</span> to <span style=\"color: #800080; text-decoration-color: #800080\">/Users/samforeman/projects/saforem2/wordplay/src/ckpts/</span><span style=\"color: #ff00ff; text-decoration-color: #ff00ff\">checkpoints.log</span>\n",
              "</pre>"
            ]
          }
        },
        {
          "output_type": "display_data",
          "metadata": {},
          "data": {
            "text/html": [
              "<pre style=\"white-space:pre;overflow-x:auto;line-height:normal;font-family:Menlo,'DejaVu Sans Mono',consolas,'Courier New',monospace\">[<span style=\"color: #7f7f7f; text-decoration-color: #7f7f7f\">2025-07-23 08:58:25,528224</span>][<span style=\"color: #008000; text-decoration-color: #008000\">I</span>][<span style=\"color: #008080; text-decoration-color: #008080; font-style: italic\">wordplay</span>/<span style=\"color: #000080; text-decoration-color: #000080\">trainer</span><span style=\"color: #0000ff; text-decoration-color: #0000ff\">:</span><span style=\"color: #800080; text-decoration-color: #800080\">850</span>]<span style=\"color: #c0c0c0; text-decoration-color: #c0c0c0\"> </span><span style=\"color: #0000ff; text-decoration-color: #0000ff\">step</span>=<span style=\"color: #008080; text-decoration-color: #008080; font-weight: bold\">510</span> <span style=\"color: #0000ff; text-decoration-color: #0000ff\">loss</span>=<span style=\"color: #008080; text-decoration-color: #008080; font-weight: bold\">4.25518</span> <span style=\"color: #0000ff; text-decoration-color: #0000ff\">dt</span>=<span style=\"color: #008080; text-decoration-color: #008080; font-weight: bold\">0.0188238</span> <span style=\"color: #0000ff; text-decoration-color: #0000ff\">dtf</span>=<span style=\"color: #008080; text-decoration-color: #008080; font-weight: bold\">0.018539</span> <span style=\"color: #0000ff; text-decoration-color: #0000ff\">dtb</span>=<span style=\"color: #008080; text-decoration-color: #008080; font-weight: bold\">0.000111583</span> <span style=\"color: #0000ff; text-decoration-color: #0000ff\">sps</span>=<span style=\"color: #008080; text-decoration-color: #008080; font-weight: bold\">53.1244</span> <span style=\"color: #0000ff; text-decoration-color: #0000ff\">sps_per_gpu</span>=<span style=\"color: #008080; text-decoration-color: #008080; font-weight: bold\">53.1244</span> <span style=\"color: #0000ff; text-decoration-color: #0000ff\">tps</span>=<span style=\"color: #008080; text-decoration-color: #008080; font-weight: bold\">6799.92</span> <span style=\"color: #0000ff; text-decoration-color: #0000ff\">tps_per_gpu</span>=<span style=\"color: #008080; text-decoration-color: #008080; font-weight: bold\">6799.92</span> <span style=\"color: #0000ff; text-decoration-color: #0000ff\">mfu</span>=<span style=\"color: #008080; text-decoration-color: #008080; font-weight: bold\">0.146939</span>\n",
              "</pre>"
            ]
          }
        },
        {
          "output_type": "display_data",
          "metadata": {},
          "data": {
            "text/html": [
              "<pre style=\"white-space:pre;overflow-x:auto;line-height:normal;font-family:Menlo,'DejaVu Sans Mono',consolas,'Courier New',monospace\">[<span style=\"color: #7f7f7f; text-decoration-color: #7f7f7f\">2025-07-23 08:58:25,737463</span>][<span style=\"color: #008000; text-decoration-color: #008000\">I</span>][<span style=\"color: #008080; text-decoration-color: #008080; font-style: italic\">wordplay</span>/<span style=\"color: #000080; text-decoration-color: #000080\">trainer</span><span style=\"color: #0000ff; text-decoration-color: #0000ff\">:</span><span style=\"color: #800080; text-decoration-color: #800080\">850</span>]<span style=\"color: #c0c0c0; text-decoration-color: #c0c0c0\"> </span><span style=\"color: #0000ff; text-decoration-color: #0000ff\">step</span>=<span style=\"color: #008080; text-decoration-color: #008080; font-weight: bold\">520</span> <span style=\"color: #0000ff; text-decoration-color: #0000ff\">loss</span>=<span style=\"color: #008080; text-decoration-color: #008080; font-weight: bold\">4.20906</span> <span style=\"color: #0000ff; text-decoration-color: #0000ff\">dt</span>=<span style=\"color: #008080; text-decoration-color: #008080; font-weight: bold\">0.0229806</span> <span style=\"color: #0000ff; text-decoration-color: #0000ff\">dtf</span>=<span style=\"color: #008080; text-decoration-color: #008080; font-weight: bold\">0.0226177</span> <span style=\"color: #0000ff; text-decoration-color: #0000ff\">dtb</span>=<span style=\"color: #008080; text-decoration-color: #008080; font-weight: bold\">0.000131916</span> <span style=\"color: #0000ff; text-decoration-color: #0000ff\">sps</span>=<span style=\"color: #008080; text-decoration-color: #008080; font-weight: bold\">43.515</span> <span style=\"color: #0000ff; text-decoration-color: #0000ff\">sps_per_gpu</span>=<span style=\"color: #008080; text-decoration-color: #008080; font-weight: bold\">43.515</span> <span style=\"color: #0000ff; text-decoration-color: #0000ff\">tps</span>=<span style=\"color: #008080; text-decoration-color: #008080; font-weight: bold\">5569.92</span> <span style=\"color: #0000ff; text-decoration-color: #0000ff\">tps_per_gpu</span>=<span style=\"color: #008080; text-decoration-color: #008080; font-weight: bold\">5569.92</span> <span style=\"color: #0000ff; text-decoration-color: #0000ff\">mfu</span>=<span style=\"color: #008080; text-decoration-color: #008080; font-weight: bold\">0.144281</span>\n",
              "</pre>"
            ]
          }
        },
        {
          "output_type": "display_data",
          "metadata": {},
          "data": {
            "text/html": [
              "<pre style=\"white-space:pre;overflow-x:auto;line-height:normal;font-family:Menlo,'DejaVu Sans Mono',consolas,'Courier New',monospace\">[<span style=\"color: #7f7f7f; text-decoration-color: #7f7f7f\">2025-07-23 08:58:25,937101</span>][<span style=\"color: #008000; text-decoration-color: #008000\">I</span>][<span style=\"color: #008080; text-decoration-color: #008080; font-style: italic\">wordplay</span>/<span style=\"color: #000080; text-decoration-color: #000080\">trainer</span><span style=\"color: #0000ff; text-decoration-color: #0000ff\">:</span><span style=\"color: #800080; text-decoration-color: #800080\">850</span>]<span style=\"color: #c0c0c0; text-decoration-color: #c0c0c0\"> </span><span style=\"color: #0000ff; text-decoration-color: #0000ff\">step</span>=<span style=\"color: #008080; text-decoration-color: #008080; font-weight: bold\">530</span> <span style=\"color: #0000ff; text-decoration-color: #0000ff\">loss</span>=<span style=\"color: #008080; text-decoration-color: #008080; font-weight: bold\">4.22394</span> <span style=\"color: #0000ff; text-decoration-color: #0000ff\">dt</span>=<span style=\"color: #008080; text-decoration-color: #008080; font-weight: bold\">0.0210178</span> <span style=\"color: #0000ff; text-decoration-color: #0000ff\">dtf</span>=<span style=\"color: #008080; text-decoration-color: #008080; font-weight: bold\">0.0194338</span> <span style=\"color: #0000ff; text-decoration-color: #0000ff\">dtb</span>=<span style=\"color: #008080; text-decoration-color: #008080; font-weight: bold\">0.000144417</span> <span style=\"color: #0000ff; text-decoration-color: #0000ff\">sps</span>=<span style=\"color: #008080; text-decoration-color: #008080; font-weight: bold\">47.5787</span> <span style=\"color: #0000ff; text-decoration-color: #0000ff\">sps_per_gpu</span>=<span style=\"color: #008080; text-decoration-color: #008080; font-weight: bold\">47.5787</span> <span style=\"color: #0000ff; text-decoration-color: #0000ff\">tps</span>=<span style=\"color: #008080; text-decoration-color: #008080; font-weight: bold\">6090.08</span> <span style=\"color: #0000ff; text-decoration-color: #0000ff\">tps_per_gpu</span>=<span style=\"color: #008080; text-decoration-color: #008080; font-weight: bold\">6090.08</span> <span style=\"color: #0000ff; text-decoration-color: #0000ff\">mfu</span>=<span style=\"color: #008080; text-decoration-color: #008080; font-weight: bold\">0.143013</span>\n",
              "</pre>"
            ]
          }
        },
        {
          "output_type": "display_data",
          "metadata": {},
          "data": {
            "text/html": [
              "<pre style=\"white-space:pre;overflow-x:auto;line-height:normal;font-family:Menlo,'DejaVu Sans Mono',consolas,'Courier New',monospace\">[<span style=\"color: #7f7f7f; text-decoration-color: #7f7f7f\">2025-07-23 08:58:26,184149</span>][<span style=\"color: #008000; text-decoration-color: #008000\">I</span>][<span style=\"color: #008080; text-decoration-color: #008080; font-style: italic\">wordplay</span>/<span style=\"color: #000080; text-decoration-color: #000080\">trainer</span><span style=\"color: #0000ff; text-decoration-color: #0000ff\">:</span><span style=\"color: #800080; text-decoration-color: #800080\">850</span>]<span style=\"color: #c0c0c0; text-decoration-color: #c0c0c0\"> </span><span style=\"color: #0000ff; text-decoration-color: #0000ff\">step</span>=<span style=\"color: #008080; text-decoration-color: #008080; font-weight: bold\">540</span> <span style=\"color: #0000ff; text-decoration-color: #0000ff\">loss</span>=<span style=\"color: #008080; text-decoration-color: #008080; font-weight: bold\">4.23923</span> <span style=\"color: #0000ff; text-decoration-color: #0000ff\">dt</span>=<span style=\"color: #008080; text-decoration-color: #008080; font-weight: bold\">0.020266</span> <span style=\"color: #0000ff; text-decoration-color: #0000ff\">dtf</span>=<span style=\"color: #008080; text-decoration-color: #008080; font-weight: bold\">0.0198765</span> <span style=\"color: #0000ff; text-decoration-color: #0000ff\">dtb</span>=<span style=\"color: #008080; text-decoration-color: #008080; font-weight: bold\">0.000131583</span> <span style=\"color: #0000ff; text-decoration-color: #0000ff\">sps</span>=<span style=\"color: #008080; text-decoration-color: #008080; font-weight: bold\">49.3438</span> <span style=\"color: #0000ff; text-decoration-color: #0000ff\">sps_per_gpu</span>=<span style=\"color: #008080; text-decoration-color: #008080; font-weight: bold\">49.3438</span> <span style=\"color: #0000ff; text-decoration-color: #0000ff\">tps</span>=<span style=\"color: #008080; text-decoration-color: #008080; font-weight: bold\">6316.01</span> <span style=\"color: #0000ff; text-decoration-color: #0000ff\">tps_per_gpu</span>=<span style=\"color: #008080; text-decoration-color: #008080; font-weight: bold\">6316.01</span> <span style=\"color: #0000ff; text-decoration-color: #0000ff\">mfu</span>=<span style=\"color: #008080; text-decoration-color: #008080; font-weight: bold\">0.142359</span>\n",
              "</pre>"
            ]
          }
        },
        {
          "output_type": "display_data",
          "metadata": {},
          "data": {
            "text/html": [
              "<pre style=\"white-space:pre;overflow-x:auto;line-height:normal;font-family:Menlo,'DejaVu Sans Mono',consolas,'Courier New',monospace\">[<span style=\"color: #7f7f7f; text-decoration-color: #7f7f7f\">2025-07-23 08:58:26,396023</span>][<span style=\"color: #008000; text-decoration-color: #008000\">I</span>][<span style=\"color: #008080; text-decoration-color: #008080; font-style: italic\">wordplay</span>/<span style=\"color: #000080; text-decoration-color: #000080\">trainer</span><span style=\"color: #0000ff; text-decoration-color: #0000ff\">:</span><span style=\"color: #800080; text-decoration-color: #800080\">850</span>]<span style=\"color: #c0c0c0; text-decoration-color: #c0c0c0\"> </span><span style=\"color: #0000ff; text-decoration-color: #0000ff\">step</span>=<span style=\"color: #008080; text-decoration-color: #008080; font-weight: bold\">550</span> <span style=\"color: #0000ff; text-decoration-color: #0000ff\">loss</span>=<span style=\"color: #008080; text-decoration-color: #008080; font-weight: bold\">4.24928</span> <span style=\"color: #0000ff; text-decoration-color: #0000ff\">dt</span>=<span style=\"color: #008080; text-decoration-color: #008080; font-weight: bold\">0.020133</span> <span style=\"color: #0000ff; text-decoration-color: #0000ff\">dtf</span>=<span style=\"color: #008080; text-decoration-color: #008080; font-weight: bold\">0.0195563</span> <span style=\"color: #0000ff; text-decoration-color: #0000ff\">dtb</span>=<span style=\"color: #008080; text-decoration-color: #008080; font-weight: bold\">0.000132333</span> <span style=\"color: #0000ff; text-decoration-color: #0000ff\">sps</span>=<span style=\"color: #008080; text-decoration-color: #008080; font-weight: bold\">49.6698</span> <span style=\"color: #0000ff; text-decoration-color: #0000ff\">sps_per_gpu</span>=<span style=\"color: #008080; text-decoration-color: #008080; font-weight: bold\">49.6698</span> <span style=\"color: #0000ff; text-decoration-color: #0000ff\">tps</span>=<span style=\"color: #008080; text-decoration-color: #008080; font-weight: bold\">6357.73</span> <span style=\"color: #0000ff; text-decoration-color: #0000ff\">tps_per_gpu</span>=<span style=\"color: #008080; text-decoration-color: #008080; font-weight: bold\">6357.73</span> <span style=\"color: #0000ff; text-decoration-color: #0000ff\">mfu</span>=<span style=\"color: #008080; text-decoration-color: #008080; font-weight: bold\">0.141862</span>\n",
              "</pre>"
            ]
          }
        },
        {
          "output_type": "display_data",
          "metadata": {},
          "data": {
            "text/html": [
              "<pre style=\"white-space:pre;overflow-x:auto;line-height:normal;font-family:Menlo,'DejaVu Sans Mono',consolas,'Courier New',monospace\">[<span style=\"color: #7f7f7f; text-decoration-color: #7f7f7f\">2025-07-23 08:58:28,296504</span>][<span style=\"color: #008000; text-decoration-color: #008000\">I</span>][<span style=\"color: #008080; text-decoration-color: #008080; font-style: italic\">wordplay</span>/<span style=\"color: #000080; text-decoration-color: #000080\">trainer</span><span style=\"color: #0000ff; text-decoration-color: #0000ff\">:</span><span style=\"color: #800080; text-decoration-color: #800080\">790</span>]<span style=\"color: #c0c0c0; text-decoration-color: #c0c0c0\"> </span><span style=\"color: #ff00ff; text-decoration-color: #ff00ff\">[</span><span style=\"color: #008000; text-decoration-color: #008000\">'prompt'</span><span style=\"color: #ff00ff; text-decoration-color: #ff00ff\">]</span>: <span style=\"color: #008000; text-decoration-color: #008000\">'What is an LLM?'</span>\n",
              "</pre>"
            ]
          }
        },
        {
          "output_type": "display_data",
          "metadata": {},
          "data": {
            "text/html": [
              "<pre style=\"white-space:pre;overflow-x:auto;line-height:normal;font-family:Menlo,'DejaVu Sans Mono',consolas,'Courier New',monospace\">[<span style=\"color: #7f7f7f; text-decoration-color: #7f7f7f\">2025-07-23 08:58:28,297458</span>][<span style=\"color: #008000; text-decoration-color: #008000\">I</span>][<span style=\"color: #008080; text-decoration-color: #008080; font-style: italic\">wordplay</span>/<span style=\"color: #000080; text-decoration-color: #000080\">trainer</span><span style=\"color: #0000ff; text-decoration-color: #0000ff\">:</span><span style=\"color: #800080; text-decoration-color: #800080\">794</span>]<span style=\"color: #c0c0c0; text-decoration-color: #c0c0c0\"> </span><span style=\"color: #ff00ff; text-decoration-color: #ff00ff\">[</span><span style=\"color: #008000; text-decoration-color: #008000\">'response'</span><span style=\"color: #ff00ff; text-decoration-color: #ff00ff\">]</span>:\n",
              "\n",
              "What is an LLM?wboG',ZZswPZZhsf'V.h;QrppwAfAa'<span style=\"color: #008000; text-decoration-color: #008000\">'qWWYYfOOx33fvkkfQ'</span>elccB3kkkm<span style=\"color: #ffff00; text-decoration-color: #ffff00\">...</span>.swevfsssoAkfQss <span style=\"color: #008000; text-decoration-color: #008000\">'f;ehewqs3--seuCeerqfQA,XXqooU;?'</span>;QhdI'M;;astc;W;?A;p;p',,<span style=\"color: #008000; text-decoration-color: #008000\">'''gosS;;WW?'</span>errs'fwwr'<span style=\"color: #008000; text-decoration-color: #008000\">'qqWW,w'</span>l;<span style=\"color: #008000; text-decoration-color: #008000\">''</span>www'<span style=\"color: #008000; text-decoration-color: #008000\">'tppwbQWWseSSqYtLtSbQQQ'</span>q;qqM'tbqW,s'r.AAtcbbq-<span style=\"color: #008000; text-decoration-color: #008000\">'ttuuA,;;;Q'</span>S;;;ttMglqYetqeSS;Wq\n",
              "</pre>"
            ]
          }
        },
        {
          "output_type": "display_data",
          "metadata": {},
          "data": {
            "text/html": [
              "<pre style=\"white-space:pre;overflow-x:auto;line-height:normal;font-family:Menlo,'DejaVu Sans Mono',consolas,'Courier New',monospace\">[<span style=\"color: #7f7f7f; text-decoration-color: #7f7f7f\">2025-07-23 08:58:31,532054</span>][<span style=\"color: #008000; text-decoration-color: #008000\">I</span>][<span style=\"color: #008080; text-decoration-color: #008080; font-style: italic\">wordplay</span>/<span style=\"color: #000080; text-decoration-color: #000080\">trainer</span><span style=\"color: #0000ff; text-decoration-color: #0000ff\">:</span><span style=\"color: #800080; text-decoration-color: #800080\">733</span>]<span style=\"color: #c0c0c0; text-decoration-color: #c0c0c0\"> </span>Saving checkpoint to: <span style=\"color: #800080; text-decoration-color: #800080\">/Users/samforeman/projects/saforem2/intro-hpc-bootcamp-2025/content/02-llms/</span><span style=\"color: #ff00ff; text-decoration-color: #ff00ff\">7-shakespeare-example</span>\n",
              "</pre>"
            ]
          }
        },
        {
          "output_type": "display_data",
          "metadata": {},
          "data": {
            "text/html": [
              "<pre style=\"white-space:pre;overflow-x:auto;line-height:normal;font-family:Menlo,'DejaVu Sans Mono',consolas,'Courier New',monospace\">[<span style=\"color: #7f7f7f; text-decoration-color: #7f7f7f\">2025-07-23 08:58:31,533177</span>][<span style=\"color: #008000; text-decoration-color: #008000\">I</span>][<span style=\"color: #008080; text-decoration-color: #008080; font-style: italic\">wordplay</span>/<span style=\"color: #000080; text-decoration-color: #000080\">trainer</span><span style=\"color: #0000ff; text-decoration-color: #0000ff\">:</span><span style=\"color: #800080; text-decoration-color: #800080\">734</span>]<span style=\"color: #c0c0c0; text-decoration-color: #c0c0c0\"> </span>Saving model to: <span style=\"color: #800080; text-decoration-color: #800080\">/Users/samforeman/projects/saforem2/intro-hpc-bootcamp-2025/content/02-llms/7-shakespeare-example/</span><span style=\"color: #ff00ff; text-decoration-color: #ff00ff\">model.pth</span>\n",
              "</pre>"
            ]
          }
        },
        {
          "output_type": "display_data",
          "metadata": {},
          "data": {
            "text/html": [
              "<pre style=\"white-space:pre;overflow-x:auto;line-height:normal;font-family:Menlo,'DejaVu Sans Mono',consolas,'Courier New',monospace\">[<span style=\"color: #7f7f7f; text-decoration-color: #7f7f7f\">2025-07-23 08:58:31,622337</span>][<span style=\"color: #008000; text-decoration-color: #008000\">I</span>][<span style=\"color: #008080; text-decoration-color: #008080; font-style: italic\">wordplay</span>/<span style=\"color: #000080; text-decoration-color: #000080\">configs</span><span style=\"color: #0000ff; text-decoration-color: #0000ff\">:</span><span style=\"color: #800080; text-decoration-color: #800080\">141</span>]<span style=\"color: #c0c0c0; text-decoration-color: #c0c0c0\"> </span>Appending <span style=\"color: #800080; text-decoration-color: #800080\">/Users/samforeman/projects/saforem2/intro-hpc-bootcamp-2025/content/02-llms/</span><span style=\"color: #ff00ff; text-decoration-color: #ff00ff\">7-shakespeare-example</span> to <span style=\"color: #800080; text-decoration-color: #800080\">/Users/samforeman/projects/saforem2/wordplay/src/ckpts/</span><span style=\"color: #ff00ff; text-decoration-color: #ff00ff\">checkpoints.log</span>\n",
              "</pre>"
            ]
          }
        },
        {
          "output_type": "display_data",
          "metadata": {},
          "data": {
            "text/html": [
              "<pre style=\"white-space:pre;overflow-x:auto;line-height:normal;font-family:Menlo,'DejaVu Sans Mono',consolas,'Courier New',monospace\">[<span style=\"color: #7f7f7f; text-decoration-color: #7f7f7f\">2025-07-23 08:58:31,825421</span>][<span style=\"color: #008000; text-decoration-color: #008000\">I</span>][<span style=\"color: #008080; text-decoration-color: #008080; font-style: italic\">wordplay</span>/<span style=\"color: #000080; text-decoration-color: #000080\">trainer</span><span style=\"color: #0000ff; text-decoration-color: #0000ff\">:</span><span style=\"color: #800080; text-decoration-color: #800080\">850</span>]<span style=\"color: #c0c0c0; text-decoration-color: #c0c0c0\"> </span><span style=\"color: #0000ff; text-decoration-color: #0000ff\">step</span>=<span style=\"color: #008080; text-decoration-color: #008080; font-weight: bold\">560</span> <span style=\"color: #0000ff; text-decoration-color: #0000ff\">loss</span>=<span style=\"color: #008080; text-decoration-color: #008080; font-weight: bold\">4.21979</span> <span style=\"color: #0000ff; text-decoration-color: #0000ff\">dt</span>=<span style=\"color: #008080; text-decoration-color: #008080; font-weight: bold\">0.0267356</span> <span style=\"color: #0000ff; text-decoration-color: #0000ff\">dtf</span>=<span style=\"color: #008080; text-decoration-color: #008080; font-weight: bold\">0.02631</span> <span style=\"color: #0000ff; text-decoration-color: #0000ff\">dtb</span>=<span style=\"color: #008080; text-decoration-color: #008080; font-weight: bold\">0.000203333</span> <span style=\"color: #0000ff; text-decoration-color: #0000ff\">sps</span>=<span style=\"color: #008080; text-decoration-color: #008080; font-weight: bold\">37.4033</span> <span style=\"color: #0000ff; text-decoration-color: #0000ff\">sps_per_gpu</span>=<span style=\"color: #008080; text-decoration-color: #008080; font-weight: bold\">37.4033</span> <span style=\"color: #0000ff; text-decoration-color: #0000ff\">tps</span>=<span style=\"color: #008080; text-decoration-color: #008080; font-weight: bold\">4787.62</span> <span style=\"color: #0000ff; text-decoration-color: #0000ff\">tps_per_gpu</span>=<span style=\"color: #008080; text-decoration-color: #008080; font-weight: bold\">4787.62</span> <span style=\"color: #0000ff; text-decoration-color: #0000ff\">mfu</span>=<span style=\"color: #008080; text-decoration-color: #008080; font-weight: bold\">0.138021</span>\n",
              "</pre>"
            ]
          }
        },
        {
          "output_type": "display_data",
          "metadata": {},
          "data": {
            "text/html": [
              "<pre style=\"white-space:pre;overflow-x:auto;line-height:normal;font-family:Menlo,'DejaVu Sans Mono',consolas,'Courier New',monospace\">[<span style=\"color: #7f7f7f; text-decoration-color: #7f7f7f\">2025-07-23 08:58:32,033564</span>][<span style=\"color: #008000; text-decoration-color: #008000\">I</span>][<span style=\"color: #008080; text-decoration-color: #008080; font-style: italic\">wordplay</span>/<span style=\"color: #000080; text-decoration-color: #000080\">trainer</span><span style=\"color: #0000ff; text-decoration-color: #0000ff\">:</span><span style=\"color: #800080; text-decoration-color: #800080\">850</span>]<span style=\"color: #c0c0c0; text-decoration-color: #c0c0c0\"> </span><span style=\"color: #0000ff; text-decoration-color: #0000ff\">step</span>=<span style=\"color: #008080; text-decoration-color: #008080; font-weight: bold\">570</span> <span style=\"color: #0000ff; text-decoration-color: #0000ff\">loss</span>=<span style=\"color: #008080; text-decoration-color: #008080; font-weight: bold\">4.27896</span> <span style=\"color: #0000ff; text-decoration-color: #0000ff\">dt</span>=<span style=\"color: #008080; text-decoration-color: #008080; font-weight: bold\">0.0192423</span> <span style=\"color: #0000ff; text-decoration-color: #0000ff\">dtf</span>=<span style=\"color: #008080; text-decoration-color: #008080; font-weight: bold\">0.018885</span> <span style=\"color: #0000ff; text-decoration-color: #0000ff\">dtb</span>=<span style=\"color: #008080; text-decoration-color: #008080; font-weight: bold\">0.000143458</span> <span style=\"color: #0000ff; text-decoration-color: #0000ff\">sps</span>=<span style=\"color: #008080; text-decoration-color: #008080; font-weight: bold\">51.969</span> <span style=\"color: #0000ff; text-decoration-color: #0000ff\">sps_per_gpu</span>=<span style=\"color: #008080; text-decoration-color: #008080; font-weight: bold\">51.969</span> <span style=\"color: #0000ff; text-decoration-color: #0000ff\">tps</span>=<span style=\"color: #008080; text-decoration-color: #008080; font-weight: bold\">6652.03</span> <span style=\"color: #0000ff; text-decoration-color: #0000ff\">tps_per_gpu</span>=<span style=\"color: #008080; text-decoration-color: #008080; font-weight: bold\">6652.03</span> <span style=\"color: #0000ff; text-decoration-color: #0000ff\">mfu</span>=<span style=\"color: #008080; text-decoration-color: #008080; font-weight: bold\">0.138593</span>\n",
              "</pre>"
            ]
          }
        },
        {
          "output_type": "display_data",
          "metadata": {},
          "data": {
            "text/html": [
              "<pre style=\"white-space:pre;overflow-x:auto;line-height:normal;font-family:Menlo,'DejaVu Sans Mono',consolas,'Courier New',monospace\">[<span style=\"color: #7f7f7f; text-decoration-color: #7f7f7f\">2025-07-23 08:58:32,231827</span>][<span style=\"color: #008000; text-decoration-color: #008000\">I</span>][<span style=\"color: #008080; text-decoration-color: #008080; font-style: italic\">wordplay</span>/<span style=\"color: #000080; text-decoration-color: #000080\">trainer</span><span style=\"color: #0000ff; text-decoration-color: #0000ff\">:</span><span style=\"color: #800080; text-decoration-color: #800080\">850</span>]<span style=\"color: #c0c0c0; text-decoration-color: #c0c0c0\"> </span><span style=\"color: #0000ff; text-decoration-color: #0000ff\">step</span>=<span style=\"color: #008080; text-decoration-color: #008080; font-weight: bold\">580</span> <span style=\"color: #0000ff; text-decoration-color: #0000ff\">loss</span>=<span style=\"color: #008080; text-decoration-color: #008080; font-weight: bold\">4.25036</span> <span style=\"color: #0000ff; text-decoration-color: #0000ff\">dt</span>=<span style=\"color: #008080; text-decoration-color: #008080; font-weight: bold\">0.0194217</span> <span style=\"color: #0000ff; text-decoration-color: #0000ff\">dtf</span>=<span style=\"color: #008080; text-decoration-color: #008080; font-weight: bold\">0.0190373</span> <span style=\"color: #0000ff; text-decoration-color: #0000ff\">dtb</span>=<span style=\"color: #008080; text-decoration-color: #008080; font-weight: bold\">0.000147208</span> <span style=\"color: #0000ff; text-decoration-color: #0000ff\">sps</span>=<span style=\"color: #008080; text-decoration-color: #008080; font-weight: bold\">51.4889</span> <span style=\"color: #0000ff; text-decoration-color: #0000ff\">sps_per_gpu</span>=<span style=\"color: #008080; text-decoration-color: #008080; font-weight: bold\">51.4889</span> <span style=\"color: #0000ff; text-decoration-color: #0000ff\">tps</span>=<span style=\"color: #008080; text-decoration-color: #008080; font-weight: bold\">6590.58</span> <span style=\"color: #0000ff; text-decoration-color: #0000ff\">tps_per_gpu</span>=<span style=\"color: #008080; text-decoration-color: #008080; font-weight: bold\">6590.58</span> <span style=\"color: #0000ff; text-decoration-color: #0000ff\">mfu</span>=<span style=\"color: #008080; text-decoration-color: #008080; font-weight: bold\">0.138975</span>\n",
              "</pre>"
            ]
          }
        },
        {
          "output_type": "display_data",
          "metadata": {},
          "data": {
            "text/html": [
              "<pre style=\"white-space:pre;overflow-x:auto;line-height:normal;font-family:Menlo,'DejaVu Sans Mono',consolas,'Courier New',monospace\">[<span style=\"color: #7f7f7f; text-decoration-color: #7f7f7f\">2025-07-23 08:58:32,433982</span>][<span style=\"color: #008000; text-decoration-color: #008000\">I</span>][<span style=\"color: #008080; text-decoration-color: #008080; font-style: italic\">wordplay</span>/<span style=\"color: #000080; text-decoration-color: #000080\">trainer</span><span style=\"color: #0000ff; text-decoration-color: #0000ff\">:</span><span style=\"color: #800080; text-decoration-color: #800080\">850</span>]<span style=\"color: #c0c0c0; text-decoration-color: #c0c0c0\"> </span><span style=\"color: #0000ff; text-decoration-color: #0000ff\">step</span>=<span style=\"color: #008080; text-decoration-color: #008080; font-weight: bold\">590</span> <span style=\"color: #0000ff; text-decoration-color: #0000ff\">loss</span>=<span style=\"color: #008080; text-decoration-color: #008080; font-weight: bold\">4.30325</span> <span style=\"color: #0000ff; text-decoration-color: #0000ff\">dt</span>=<span style=\"color: #008080; text-decoration-color: #008080; font-weight: bold\">0.0210152</span> <span style=\"color: #0000ff; text-decoration-color: #0000ff\">dtf</span>=<span style=\"color: #008080; text-decoration-color: #008080; font-weight: bold\">0.0206371</span> <span style=\"color: #0000ff; text-decoration-color: #0000ff\">dtb</span>=<span style=\"color: #008080; text-decoration-color: #008080; font-weight: bold\">0.000135084</span> <span style=\"color: #0000ff; text-decoration-color: #0000ff\">sps</span>=<span style=\"color: #008080; text-decoration-color: #008080; font-weight: bold\">47.5846</span> <span style=\"color: #0000ff; text-decoration-color: #0000ff\">sps_per_gpu</span>=<span style=\"color: #008080; text-decoration-color: #008080; font-weight: bold\">47.5846</span> <span style=\"color: #0000ff; text-decoration-color: #0000ff\">tps</span>=<span style=\"color: #008080; text-decoration-color: #008080; font-weight: bold\">6090.83</span> <span style=\"color: #0000ff; text-decoration-color: #0000ff\">tps_per_gpu</span>=<span style=\"color: #008080; text-decoration-color: #008080; font-weight: bold\">6090.83</span> <span style=\"color: #0000ff; text-decoration-color: #0000ff\">mfu</span>=<span style=\"color: #008080; text-decoration-color: #008080; font-weight: bold\">0.13824</span>\n",
              "</pre>"
            ]
          }
        },
        {
          "output_type": "display_data",
          "metadata": {},
          "data": {
            "text/html": [
              "<pre style=\"white-space:pre;overflow-x:auto;line-height:normal;font-family:Menlo,'DejaVu Sans Mono',consolas,'Courier New',monospace\">[<span style=\"color: #7f7f7f; text-decoration-color: #7f7f7f\">2025-07-23 08:58:32,718279</span>][<span style=\"color: #008000; text-decoration-color: #008000\">I</span>][<span style=\"color: #008080; text-decoration-color: #008080; font-style: italic\">wordplay</span>/<span style=\"color: #000080; text-decoration-color: #000080\">trainer</span><span style=\"color: #0000ff; text-decoration-color: #0000ff\">:</span><span style=\"color: #800080; text-decoration-color: #800080\">850</span>]<span style=\"color: #c0c0c0; text-decoration-color: #c0c0c0\"> </span><span style=\"color: #0000ff; text-decoration-color: #0000ff\">step</span>=<span style=\"color: #008080; text-decoration-color: #008080; font-weight: bold\">600</span> <span style=\"color: #0000ff; text-decoration-color: #0000ff\">loss</span>=<span style=\"color: #008080; text-decoration-color: #008080; font-weight: bold\">4.24977</span> <span style=\"color: #0000ff; text-decoration-color: #0000ff\">dt</span>=<span style=\"color: #008080; text-decoration-color: #008080; font-weight: bold\">0.0199282</span> <span style=\"color: #0000ff; text-decoration-color: #0000ff\">dtf</span>=<span style=\"color: #008080; text-decoration-color: #008080; font-weight: bold\">0.0194167</span> <span style=\"color: #0000ff; text-decoration-color: #0000ff\">dtb</span>=<span style=\"color: #008080; text-decoration-color: #008080; font-weight: bold\">0.0001345</span> <span style=\"color: #0000ff; text-decoration-color: #0000ff\">sps</span>=<span style=\"color: #008080; text-decoration-color: #008080; font-weight: bold\">50.18</span> <span style=\"color: #0000ff; text-decoration-color: #0000ff\">sps_per_gpu</span>=<span style=\"color: #008080; text-decoration-color: #008080; font-weight: bold\">50.18</span> <span style=\"color: #0000ff; text-decoration-color: #0000ff\">tps</span>=<span style=\"color: #008080; text-decoration-color: #008080; font-weight: bold\">6423.04</span> <span style=\"color: #0000ff; text-decoration-color: #0000ff\">tps_per_gpu</span>=<span style=\"color: #008080; text-decoration-color: #008080; font-weight: bold\">6423.04</span> <span style=\"color: #0000ff; text-decoration-color: #0000ff\">mfu</span>=<span style=\"color: #008080; text-decoration-color: #008080; font-weight: bold\">0.138295</span>\n",
              "</pre>"
            ]
          }
        },
        {
          "output_type": "display_data",
          "metadata": {},
          "data": {
            "text/html": [
              "<pre style=\"white-space:pre;overflow-x:auto;line-height:normal;font-family:Menlo,'DejaVu Sans Mono',consolas,'Courier New',monospace\">[<span style=\"color: #7f7f7f; text-decoration-color: #7f7f7f\">2025-07-23 08:58:34,608183</span>][<span style=\"color: #008000; text-decoration-color: #008000\">I</span>][<span style=\"color: #008080; text-decoration-color: #008080; font-style: italic\">wordplay</span>/<span style=\"color: #000080; text-decoration-color: #000080\">trainer</span><span style=\"color: #0000ff; text-decoration-color: #0000ff\">:</span><span style=\"color: #800080; text-decoration-color: #800080\">790</span>]<span style=\"color: #c0c0c0; text-decoration-color: #c0c0c0\"> </span><span style=\"color: #ff00ff; text-decoration-color: #ff00ff\">[</span><span style=\"color: #008000; text-decoration-color: #008000\">'prompt'</span><span style=\"color: #ff00ff; text-decoration-color: #ff00ff\">]</span>: <span style=\"color: #008000; text-decoration-color: #008000\">'What is an LLM?'</span>\n",
              "</pre>"
            ]
          }
        },
        {
          "output_type": "display_data",
          "metadata": {},
          "data": {
            "text/html": [
              "<pre style=\"white-space:pre;overflow-x:auto;line-height:normal;font-family:Menlo,'DejaVu Sans Mono',consolas,'Courier New',monospace\">[<span style=\"color: #7f7f7f; text-decoration-color: #7f7f7f\">2025-07-23 08:58:34,609204</span>][<span style=\"color: #008000; text-decoration-color: #008000\">I</span>][<span style=\"color: #008080; text-decoration-color: #008080; font-style: italic\">wordplay</span>/<span style=\"color: #000080; text-decoration-color: #000080\">trainer</span><span style=\"color: #0000ff; text-decoration-color: #0000ff\">:</span><span style=\"color: #800080; text-decoration-color: #800080\">794</span>]<span style=\"color: #c0c0c0; text-decoration-color: #c0c0c0\"> </span><span style=\"color: #ff00ff; text-decoration-color: #ff00ff\">[</span><span style=\"color: #008000; text-decoration-color: #008000\">'response'</span><span style=\"color: #ff00ff; text-decoration-color: #ff00ff\">]</span>:\n",
              "\n",
              "What is an LLM?LQ3vvye! wePZ ewbAII'<span style=\"color: #008000; text-decoration-color: #008000\">'QYUfY.vTcaQlccCfhsZblYe''vS'</span>xqosfoxCx'q33ckkxpppcecZZ-caqAb'<span style=\"color: #008000; text-decoration-color: #008000\">'fQ-eqb'</span>.AGGGZZ?--s..h.ttppMq3ZQs,e';pwsf..se;;pqtcenr'.nxnqqgbqQYtttM'fSbttcqqqqgYYjjrqfAkkSSSuQqoh'<span style=\"color: #008000; text-decoration-color: #008000\">''</span>S;SYYYAG;SSSo'QQQuu;<span style=\"color: #008000; text-decoration-color: #008000\">'QSfqo'</span>.tgSggkqWYYbbvqqtuiqrhS;QC'QSrSbWWSJJeuuiWYu\n",
              "</pre>"
            ]
          }
        },
        {
          "output_type": "display_data",
          "metadata": {},
          "data": {
            "text/html": [
              "<pre style=\"white-space:pre;overflow-x:auto;line-height:normal;font-family:Menlo,'DejaVu Sans Mono',consolas,'Courier New',monospace\">[<span style=\"color: #7f7f7f; text-decoration-color: #7f7f7f\">2025-07-23 08:58:37,957627</span>][<span style=\"color: #008000; text-decoration-color: #008000\">I</span>][<span style=\"color: #008080; text-decoration-color: #008080; font-style: italic\">wordplay</span>/<span style=\"color: #000080; text-decoration-color: #000080\">trainer</span><span style=\"color: #0000ff; text-decoration-color: #0000ff\">:</span><span style=\"color: #800080; text-decoration-color: #800080\">733</span>]<span style=\"color: #c0c0c0; text-decoration-color: #c0c0c0\"> </span>Saving checkpoint to: <span style=\"color: #800080; text-decoration-color: #800080\">/Users/samforeman/projects/saforem2/intro-hpc-bootcamp-2025/content/02-llms/</span><span style=\"color: #ff00ff; text-decoration-color: #ff00ff\">7-shakespeare-example</span>\n",
              "</pre>"
            ]
          }
        },
        {
          "output_type": "display_data",
          "metadata": {},
          "data": {
            "text/html": [
              "<pre style=\"white-space:pre;overflow-x:auto;line-height:normal;font-family:Menlo,'DejaVu Sans Mono',consolas,'Courier New',monospace\">[<span style=\"color: #7f7f7f; text-decoration-color: #7f7f7f\">2025-07-23 08:58:37,958759</span>][<span style=\"color: #008000; text-decoration-color: #008000\">I</span>][<span style=\"color: #008080; text-decoration-color: #008080; font-style: italic\">wordplay</span>/<span style=\"color: #000080; text-decoration-color: #000080\">trainer</span><span style=\"color: #0000ff; text-decoration-color: #0000ff\">:</span><span style=\"color: #800080; text-decoration-color: #800080\">734</span>]<span style=\"color: #c0c0c0; text-decoration-color: #c0c0c0\"> </span>Saving model to: <span style=\"color: #800080; text-decoration-color: #800080\">/Users/samforeman/projects/saforem2/intro-hpc-bootcamp-2025/content/02-llms/7-shakespeare-example/</span><span style=\"color: #ff00ff; text-decoration-color: #ff00ff\">model.pth</span>\n",
              "</pre>"
            ]
          }
        },
        {
          "output_type": "display_data",
          "metadata": {},
          "data": {
            "text/html": [
              "<pre style=\"white-space:pre;overflow-x:auto;line-height:normal;font-family:Menlo,'DejaVu Sans Mono',consolas,'Courier New',monospace\">[<span style=\"color: #7f7f7f; text-decoration-color: #7f7f7f\">2025-07-23 08:58:38,133991</span>][<span style=\"color: #008000; text-decoration-color: #008000\">I</span>][<span style=\"color: #008080; text-decoration-color: #008080; font-style: italic\">wordplay</span>/<span style=\"color: #000080; text-decoration-color: #000080\">configs</span><span style=\"color: #0000ff; text-decoration-color: #0000ff\">:</span><span style=\"color: #800080; text-decoration-color: #800080\">141</span>]<span style=\"color: #c0c0c0; text-decoration-color: #c0c0c0\"> </span>Appending <span style=\"color: #800080; text-decoration-color: #800080\">/Users/samforeman/projects/saforem2/intro-hpc-bootcamp-2025/content/02-llms/</span><span style=\"color: #ff00ff; text-decoration-color: #ff00ff\">7-shakespeare-example</span> to <span style=\"color: #800080; text-decoration-color: #800080\">/Users/samforeman/projects/saforem2/wordplay/src/ckpts/</span><span style=\"color: #ff00ff; text-decoration-color: #ff00ff\">checkpoints.log</span>\n",
              "</pre>"
            ]
          }
        },
        {
          "output_type": "display_data",
          "metadata": {},
          "data": {
            "text/html": [
              "<pre style=\"white-space:pre;overflow-x:auto;line-height:normal;font-family:Menlo,'DejaVu Sans Mono',consolas,'Courier New',monospace\">[<span style=\"color: #7f7f7f; text-decoration-color: #7f7f7f\">2025-07-23 08:58:38,347932</span>][<span style=\"color: #008000; text-decoration-color: #008000\">I</span>][<span style=\"color: #008080; text-decoration-color: #008080; font-style: italic\">wordplay</span>/<span style=\"color: #000080; text-decoration-color: #000080\">trainer</span><span style=\"color: #0000ff; text-decoration-color: #0000ff\">:</span><span style=\"color: #800080; text-decoration-color: #800080\">850</span>]<span style=\"color: #c0c0c0; text-decoration-color: #c0c0c0\"> </span><span style=\"color: #0000ff; text-decoration-color: #0000ff\">step</span>=<span style=\"color: #008080; text-decoration-color: #008080; font-weight: bold\">610</span> <span style=\"color: #0000ff; text-decoration-color: #0000ff\">loss</span>=<span style=\"color: #008080; text-decoration-color: #008080; font-weight: bold\">4.27699</span> <span style=\"color: #0000ff; text-decoration-color: #0000ff\">dt</span>=<span style=\"color: #008080; text-decoration-color: #008080; font-weight: bold\">0.0210396</span> <span style=\"color: #0000ff; text-decoration-color: #0000ff\">dtf</span>=<span style=\"color: #008080; text-decoration-color: #008080; font-weight: bold\">0.0206791</span> <span style=\"color: #0000ff; text-decoration-color: #0000ff\">dtb</span>=<span style=\"color: #008080; text-decoration-color: #008080; font-weight: bold\">0.00013575</span> <span style=\"color: #0000ff; text-decoration-color: #0000ff\">sps</span>=<span style=\"color: #008080; text-decoration-color: #008080; font-weight: bold\">47.5295</span> <span style=\"color: #0000ff; text-decoration-color: #0000ff\">sps_per_gpu</span>=<span style=\"color: #008080; text-decoration-color: #008080; font-weight: bold\">47.5295</span> <span style=\"color: #0000ff; text-decoration-color: #0000ff\">tps</span>=<span style=\"color: #008080; text-decoration-color: #008080; font-weight: bold\">6083.77</span> <span style=\"color: #0000ff; text-decoration-color: #0000ff\">tps_per_gpu</span>=<span style=\"color: #008080; text-decoration-color: #008080; font-weight: bold\">6083.77</span> <span style=\"color: #0000ff; text-decoration-color: #0000ff\">mfu</span>=<span style=\"color: #008080; text-decoration-color: #008080; font-weight: bold\">0.137612</span>\n",
              "</pre>"
            ]
          }
        },
        {
          "output_type": "display_data",
          "metadata": {},
          "data": {
            "text/html": [
              "<pre style=\"white-space:pre;overflow-x:auto;line-height:normal;font-family:Menlo,'DejaVu Sans Mono',consolas,'Courier New',monospace\">[<span style=\"color: #7f7f7f; text-decoration-color: #7f7f7f\">2025-07-23 08:58:38,572486</span>][<span style=\"color: #008000; text-decoration-color: #008000\">I</span>][<span style=\"color: #008080; text-decoration-color: #008080; font-style: italic\">wordplay</span>/<span style=\"color: #000080; text-decoration-color: #000080\">trainer</span><span style=\"color: #0000ff; text-decoration-color: #0000ff\">:</span><span style=\"color: #800080; text-decoration-color: #800080\">850</span>]<span style=\"color: #c0c0c0; text-decoration-color: #c0c0c0\"> </span><span style=\"color: #0000ff; text-decoration-color: #0000ff\">step</span>=<span style=\"color: #008080; text-decoration-color: #008080; font-weight: bold\">620</span> <span style=\"color: #0000ff; text-decoration-color: #0000ff\">loss</span>=<span style=\"color: #008080; text-decoration-color: #008080; font-weight: bold\">4.2417</span> <span style=\"color: #0000ff; text-decoration-color: #0000ff\">dt</span>=<span style=\"color: #008080; text-decoration-color: #008080; font-weight: bold\">0.0234726</span> <span style=\"color: #0000ff; text-decoration-color: #0000ff\">dtf</span>=<span style=\"color: #008080; text-decoration-color: #008080; font-weight: bold\">0.0231323</span> <span style=\"color: #0000ff; text-decoration-color: #0000ff\">dtb</span>=<span style=\"color: #008080; text-decoration-color: #008080; font-weight: bold\">0.000125292</span> <span style=\"color: #0000ff; text-decoration-color: #0000ff\">sps</span>=<span style=\"color: #008080; text-decoration-color: #008080; font-weight: bold\">42.6029</span> <span style=\"color: #0000ff; text-decoration-color: #0000ff\">sps_per_gpu</span>=<span style=\"color: #008080; text-decoration-color: #008080; font-weight: bold\">42.6029</span> <span style=\"color: #0000ff; text-decoration-color: #0000ff\">tps</span>=<span style=\"color: #008080; text-decoration-color: #008080; font-weight: bold\">5453.17</span> <span style=\"color: #0000ff; text-decoration-color: #0000ff\">tps_per_gpu</span>=<span style=\"color: #008080; text-decoration-color: #008080; font-weight: bold\">5453.17</span> <span style=\"color: #0000ff; text-decoration-color: #0000ff\">mfu</span>=<span style=\"color: #008080; text-decoration-color: #008080; font-weight: bold\">0.135634</span>\n",
              "</pre>"
            ]
          }
        },
        {
          "output_type": "display_data",
          "metadata": {},
          "data": {
            "text/html": [
              "<pre style=\"white-space:pre;overflow-x:auto;line-height:normal;font-family:Menlo,'DejaVu Sans Mono',consolas,'Courier New',monospace\">[<span style=\"color: #7f7f7f; text-decoration-color: #7f7f7f\">2025-07-23 08:58:38,789691</span>][<span style=\"color: #008000; text-decoration-color: #008000\">I</span>][<span style=\"color: #008080; text-decoration-color: #008080; font-style: italic\">wordplay</span>/<span style=\"color: #000080; text-decoration-color: #000080\">trainer</span><span style=\"color: #0000ff; text-decoration-color: #0000ff\">:</span><span style=\"color: #800080; text-decoration-color: #800080\">850</span>]<span style=\"color: #c0c0c0; text-decoration-color: #c0c0c0\"> </span><span style=\"color: #0000ff; text-decoration-color: #0000ff\">step</span>=<span style=\"color: #008080; text-decoration-color: #008080; font-weight: bold\">630</span> <span style=\"color: #0000ff; text-decoration-color: #0000ff\">loss</span>=<span style=\"color: #008080; text-decoration-color: #008080; font-weight: bold\">4.1949</span> <span style=\"color: #0000ff; text-decoration-color: #0000ff\">dt</span>=<span style=\"color: #008080; text-decoration-color: #008080; font-weight: bold\">0.0210496</span> <span style=\"color: #0000ff; text-decoration-color: #0000ff\">dtf</span>=<span style=\"color: #008080; text-decoration-color: #008080; font-weight: bold\">0.0206992</span> <span style=\"color: #0000ff; text-decoration-color: #0000ff\">dtb</span>=<span style=\"color: #008080; text-decoration-color: #008080; font-weight: bold\">0.0001315</span> <span style=\"color: #0000ff; text-decoration-color: #0000ff\">sps</span>=<span style=\"color: #008080; text-decoration-color: #008080; font-weight: bold\">47.5069</span> <span style=\"color: #0000ff; text-decoration-color: #0000ff\">sps_per_gpu</span>=<span style=\"color: #008080; text-decoration-color: #008080; font-weight: bold\">47.5069</span> <span style=\"color: #0000ff; text-decoration-color: #0000ff\">tps</span>=<span style=\"color: #008080; text-decoration-color: #008080; font-weight: bold\">6080.88</span> <span style=\"color: #0000ff; text-decoration-color: #0000ff\">tps_per_gpu</span>=<span style=\"color: #008080; text-decoration-color: #008080; font-weight: bold\">6080.88</span> <span style=\"color: #0000ff; text-decoration-color: #0000ff\">mfu</span>=<span style=\"color: #008080; text-decoration-color: #008080; font-weight: bold\">0.135211</span>\n",
              "</pre>"
            ]
          }
        },
        {
          "output_type": "display_data",
          "metadata": {},
          "data": {
            "text/html": [
              "<pre style=\"white-space:pre;overflow-x:auto;line-height:normal;font-family:Menlo,'DejaVu Sans Mono',consolas,'Courier New',monospace\">[<span style=\"color: #7f7f7f; text-decoration-color: #7f7f7f\">2025-07-23 08:58:39,014361</span>][<span style=\"color: #008000; text-decoration-color: #008000\">I</span>][<span style=\"color: #008080; text-decoration-color: #008080; font-style: italic\">wordplay</span>/<span style=\"color: #000080; text-decoration-color: #000080\">trainer</span><span style=\"color: #0000ff; text-decoration-color: #0000ff\">:</span><span style=\"color: #800080; text-decoration-color: #800080\">850</span>]<span style=\"color: #c0c0c0; text-decoration-color: #c0c0c0\"> </span><span style=\"color: #0000ff; text-decoration-color: #0000ff\">step</span>=<span style=\"color: #008080; text-decoration-color: #008080; font-weight: bold\">640</span> <span style=\"color: #0000ff; text-decoration-color: #0000ff\">loss</span>=<span style=\"color: #008080; text-decoration-color: #008080; font-weight: bold\">4.21554</span> <span style=\"color: #0000ff; text-decoration-color: #0000ff\">dt</span>=<span style=\"color: #008080; text-decoration-color: #008080; font-weight: bold\">0.0205544</span> <span style=\"color: #0000ff; text-decoration-color: #0000ff\">dtf</span>=<span style=\"color: #008080; text-decoration-color: #008080; font-weight: bold\">0.0201994</span> <span style=\"color: #0000ff; text-decoration-color: #0000ff\">dtb</span>=<span style=\"color: #008080; text-decoration-color: #008080; font-weight: bold\">0.000128209</span> <span style=\"color: #0000ff; text-decoration-color: #0000ff\">sps</span>=<span style=\"color: #008080; text-decoration-color: #008080; font-weight: bold\">48.6514</span> <span style=\"color: #0000ff; text-decoration-color: #0000ff\">sps_per_gpu</span>=<span style=\"color: #008080; text-decoration-color: #008080; font-weight: bold\">48.6514</span> <span style=\"color: #0000ff; text-decoration-color: #0000ff\">tps</span>=<span style=\"color: #008080; text-decoration-color: #008080; font-weight: bold\">6227.38</span> <span style=\"color: #0000ff; text-decoration-color: #0000ff\">tps_per_gpu</span>=<span style=\"color: #008080; text-decoration-color: #008080; font-weight: bold\">6227.38</span> <span style=\"color: #0000ff; text-decoration-color: #0000ff\">mfu</span>=<span style=\"color: #008080; text-decoration-color: #008080; font-weight: bold\">0.135147</span>\n",
              "</pre>"
            ]
          }
        },
        {
          "output_type": "display_data",
          "metadata": {},
          "data": {
            "text/html": [
              "<pre style=\"white-space:pre;overflow-x:auto;line-height:normal;font-family:Menlo,'DejaVu Sans Mono',consolas,'Courier New',monospace\">[<span style=\"color: #7f7f7f; text-decoration-color: #7f7f7f\">2025-07-23 08:58:39,225175</span>][<span style=\"color: #008000; text-decoration-color: #008000\">I</span>][<span style=\"color: #008080; text-decoration-color: #008080; font-style: italic\">wordplay</span>/<span style=\"color: #000080; text-decoration-color: #000080\">trainer</span><span style=\"color: #0000ff; text-decoration-color: #0000ff\">:</span><span style=\"color: #800080; text-decoration-color: #800080\">850</span>]<span style=\"color: #c0c0c0; text-decoration-color: #c0c0c0\"> </span><span style=\"color: #0000ff; text-decoration-color: #0000ff\">step</span>=<span style=\"color: #008080; text-decoration-color: #008080; font-weight: bold\">650</span> <span style=\"color: #0000ff; text-decoration-color: #0000ff\">loss</span>=<span style=\"color: #008080; text-decoration-color: #008080; font-weight: bold\">4.26643</span> <span style=\"color: #0000ff; text-decoration-color: #0000ff\">dt</span>=<span style=\"color: #008080; text-decoration-color: #008080; font-weight: bold\">0.0211741</span> <span style=\"color: #0000ff; text-decoration-color: #0000ff\">dtf</span>=<span style=\"color: #008080; text-decoration-color: #008080; font-weight: bold\">0.0207815</span> <span style=\"color: #0000ff; text-decoration-color: #0000ff\">dtb</span>=<span style=\"color: #008080; text-decoration-color: #008080; font-weight: bold\">0.000150542</span> <span style=\"color: #0000ff; text-decoration-color: #0000ff\">sps</span>=<span style=\"color: #008080; text-decoration-color: #008080; font-weight: bold\">47.2275</span> <span style=\"color: #0000ff; text-decoration-color: #0000ff\">sps_per_gpu</span>=<span style=\"color: #008080; text-decoration-color: #008080; font-weight: bold\">47.2275</span> <span style=\"color: #0000ff; text-decoration-color: #0000ff\">tps</span>=<span style=\"color: #008080; text-decoration-color: #008080; font-weight: bold\">6045.11</span> <span style=\"color: #0000ff; text-decoration-color: #0000ff\">tps_per_gpu</span>=<span style=\"color: #008080; text-decoration-color: #008080; font-weight: bold\">6045.11</span> <span style=\"color: #0000ff; text-decoration-color: #0000ff\">mfu</span>=<span style=\"color: #008080; text-decoration-color: #008080; font-weight: bold\">0.134695</span>\n",
              "</pre>"
            ]
          }
        },
        {
          "output_type": "display_data",
          "metadata": {},
          "data": {
            "text/html": [
              "<pre style=\"white-space:pre;overflow-x:auto;line-height:normal;font-family:Menlo,'DejaVu Sans Mono',consolas,'Courier New',monospace\">[<span style=\"color: #7f7f7f; text-decoration-color: #7f7f7f\">2025-07-23 08:58:41,172602</span>][<span style=\"color: #008000; text-decoration-color: #008000\">I</span>][<span style=\"color: #008080; text-decoration-color: #008080; font-style: italic\">wordplay</span>/<span style=\"color: #000080; text-decoration-color: #000080\">trainer</span><span style=\"color: #0000ff; text-decoration-color: #0000ff\">:</span><span style=\"color: #800080; text-decoration-color: #800080\">790</span>]<span style=\"color: #c0c0c0; text-decoration-color: #c0c0c0\"> </span><span style=\"color: #ff00ff; text-decoration-color: #ff00ff\">[</span><span style=\"color: #008000; text-decoration-color: #008000\">'prompt'</span><span style=\"color: #ff00ff; text-decoration-color: #ff00ff\">]</span>: <span style=\"color: #008000; text-decoration-color: #008000\">'What is an LLM?'</span>\n",
              "</pre>"
            ]
          }
        },
        {
          "output_type": "display_data",
          "metadata": {},
          "data": {
            "text/html": [
              "<pre style=\"white-space:pre;overflow-x:auto;line-height:normal;font-family:Menlo,'DejaVu Sans Mono',consolas,'Courier New',monospace\">[<span style=\"color: #7f7f7f; text-decoration-color: #7f7f7f\">2025-07-23 08:58:41,173530</span>][<span style=\"color: #008000; text-decoration-color: #008000\">I</span>][<span style=\"color: #008080; text-decoration-color: #008080; font-style: italic\">wordplay</span>/<span style=\"color: #000080; text-decoration-color: #000080\">trainer</span><span style=\"color: #0000ff; text-decoration-color: #0000ff\">:</span><span style=\"color: #800080; text-decoration-color: #800080\">794</span>]<span style=\"color: #c0c0c0; text-decoration-color: #c0c0c0\"> </span><span style=\"color: #ff00ff; text-decoration-color: #ff00ff\">[</span><span style=\"color: #008000; text-decoration-color: #008000\">'response'</span><span style=\"color: #ff00ff; text-decoration-color: #ff00ff\">]</span>:\n",
              "\n",
              "What is an LLM?qadZ--e'ovTqro'qE'rpAYvrr;qo3AAwUA-sG..qqbaNNyyep;blgWVe'<span style=\"color: #008000; text-decoration-color: #008000\">'tkaoo,ebqqUAAAAxttmZS.tGlAxxtccZAk'</span>qffhMM;hqcZ\n",
              "<span style=\"color: #008000; text-decoration-color: #008000\">'rvsoAAtqWtt,'</span>MqWtt'qqqQ--zpttttuq3brqtrrha;WW'eq;cqqqqrrhh-ppq;<span style=\"color: #008000; text-decoration-color: #008000\">'SSJrhSYSJqg'',asqqAhdqbv'</span>?Bqqqb',fqSqt'QqAAWAAqqQQQttttIffvqeWYY--?MfSpppMttttBBM'KK..\n",
              "</pre>"
            ]
          }
        },
        {
          "output_type": "display_data",
          "metadata": {},
          "data": {
            "text/html": [
              "<pre style=\"white-space:pre;overflow-x:auto;line-height:normal;font-family:Menlo,'DejaVu Sans Mono',consolas,'Courier New',monospace\">[<span style=\"color: #7f7f7f; text-decoration-color: #7f7f7f\">2025-07-23 08:58:44,699052</span>][<span style=\"color: #008000; text-decoration-color: #008000\">I</span>][<span style=\"color: #008080; text-decoration-color: #008080; font-style: italic\">wordplay</span>/<span style=\"color: #000080; text-decoration-color: #000080\">trainer</span><span style=\"color: #0000ff; text-decoration-color: #0000ff\">:</span><span style=\"color: #800080; text-decoration-color: #800080\">733</span>]<span style=\"color: #c0c0c0; text-decoration-color: #c0c0c0\"> </span>Saving checkpoint to: <span style=\"color: #800080; text-decoration-color: #800080\">/Users/samforeman/projects/saforem2/intro-hpc-bootcamp-2025/content/02-llms/</span><span style=\"color: #ff00ff; text-decoration-color: #ff00ff\">7-shakespeare-example</span>\n",
              "</pre>"
            ]
          }
        },
        {
          "output_type": "display_data",
          "metadata": {},
          "data": {
            "text/html": [
              "<pre style=\"white-space:pre;overflow-x:auto;line-height:normal;font-family:Menlo,'DejaVu Sans Mono',consolas,'Courier New',monospace\">[<span style=\"color: #7f7f7f; text-decoration-color: #7f7f7f\">2025-07-23 08:58:44,701053</span>][<span style=\"color: #008000; text-decoration-color: #008000\">I</span>][<span style=\"color: #008080; text-decoration-color: #008080; font-style: italic\">wordplay</span>/<span style=\"color: #000080; text-decoration-color: #000080\">trainer</span><span style=\"color: #0000ff; text-decoration-color: #0000ff\">:</span><span style=\"color: #800080; text-decoration-color: #800080\">734</span>]<span style=\"color: #c0c0c0; text-decoration-color: #c0c0c0\"> </span>Saving model to: <span style=\"color: #800080; text-decoration-color: #800080\">/Users/samforeman/projects/saforem2/intro-hpc-bootcamp-2025/content/02-llms/7-shakespeare-example/</span><span style=\"color: #ff00ff; text-decoration-color: #ff00ff\">model.pth</span>\n",
              "</pre>"
            ]
          }
        },
        {
          "output_type": "display_data",
          "metadata": {},
          "data": {
            "text/html": [
              "<pre style=\"white-space:pre;overflow-x:auto;line-height:normal;font-family:Menlo,'DejaVu Sans Mono',consolas,'Courier New',monospace\">[<span style=\"color: #7f7f7f; text-decoration-color: #7f7f7f\">2025-07-23 08:58:44,869884</span>][<span style=\"color: #008000; text-decoration-color: #008000\">I</span>][<span style=\"color: #008080; text-decoration-color: #008080; font-style: italic\">wordplay</span>/<span style=\"color: #000080; text-decoration-color: #000080\">configs</span><span style=\"color: #0000ff; text-decoration-color: #0000ff\">:</span><span style=\"color: #800080; text-decoration-color: #800080\">141</span>]<span style=\"color: #c0c0c0; text-decoration-color: #c0c0c0\"> </span>Appending <span style=\"color: #800080; text-decoration-color: #800080\">/Users/samforeman/projects/saforem2/intro-hpc-bootcamp-2025/content/02-llms/</span><span style=\"color: #ff00ff; text-decoration-color: #ff00ff\">7-shakespeare-example</span> to <span style=\"color: #800080; text-decoration-color: #800080\">/Users/samforeman/projects/saforem2/wordplay/src/ckpts/</span><span style=\"color: #ff00ff; text-decoration-color: #ff00ff\">checkpoints.log</span>\n",
              "</pre>"
            ]
          }
        },
        {
          "output_type": "display_data",
          "metadata": {},
          "data": {
            "text/html": [
              "<pre style=\"white-space:pre;overflow-x:auto;line-height:normal;font-family:Menlo,'DejaVu Sans Mono',consolas,'Courier New',monospace\">[<span style=\"color: #7f7f7f; text-decoration-color: #7f7f7f\">2025-07-23 08:58:45,089457</span>][<span style=\"color: #008000; text-decoration-color: #008000\">I</span>][<span style=\"color: #008080; text-decoration-color: #008080; font-style: italic\">wordplay</span>/<span style=\"color: #000080; text-decoration-color: #000080\">trainer</span><span style=\"color: #0000ff; text-decoration-color: #0000ff\">:</span><span style=\"color: #800080; text-decoration-color: #800080\">850</span>]<span style=\"color: #c0c0c0; text-decoration-color: #c0c0c0\"> </span><span style=\"color: #0000ff; text-decoration-color: #0000ff\">step</span>=<span style=\"color: #008080; text-decoration-color: #008080; font-weight: bold\">660</span> <span style=\"color: #0000ff; text-decoration-color: #0000ff\">loss</span>=<span style=\"color: #008080; text-decoration-color: #008080; font-weight: bold\">4.17238</span> <span style=\"color: #0000ff; text-decoration-color: #0000ff\">dt</span>=<span style=\"color: #008080; text-decoration-color: #008080; font-weight: bold\">0.0222158</span> <span style=\"color: #0000ff; text-decoration-color: #0000ff\">dtf</span>=<span style=\"color: #008080; text-decoration-color: #008080; font-weight: bold\">0.0212275</span> <span style=\"color: #0000ff; text-decoration-color: #0000ff\">dtb</span>=<span style=\"color: #008080; text-decoration-color: #008080; font-weight: bold\">0.000152833</span> <span style=\"color: #0000ff; text-decoration-color: #0000ff\">sps</span>=<span style=\"color: #008080; text-decoration-color: #008080; font-weight: bold\">45.013</span> <span style=\"color: #0000ff; text-decoration-color: #0000ff\">sps_per_gpu</span>=<span style=\"color: #008080; text-decoration-color: #008080; font-weight: bold\">45.013</span> <span style=\"color: #0000ff; text-decoration-color: #0000ff\">tps</span>=<span style=\"color: #008080; text-decoration-color: #008080; font-weight: bold\">5761.67</span> <span style=\"color: #0000ff; text-decoration-color: #0000ff\">tps_per_gpu</span>=<span style=\"color: #008080; text-decoration-color: #008080; font-weight: bold\">5761.67</span> <span style=\"color: #0000ff; text-decoration-color: #0000ff\">mfu</span>=<span style=\"color: #008080; text-decoration-color: #008080; font-weight: bold\">0.133676</span>\n",
              "</pre>"
            ]
          }
        },
        {
          "output_type": "display_data",
          "metadata": {},
          "data": {
            "text/html": [
              "<pre style=\"white-space:pre;overflow-x:auto;line-height:normal;font-family:Menlo,'DejaVu Sans Mono',consolas,'Courier New',monospace\">[<span style=\"color: #7f7f7f; text-decoration-color: #7f7f7f\">2025-07-23 08:58:45,294160</span>][<span style=\"color: #008000; text-decoration-color: #008000\">I</span>][<span style=\"color: #008080; text-decoration-color: #008080; font-style: italic\">wordplay</span>/<span style=\"color: #000080; text-decoration-color: #000080\">trainer</span><span style=\"color: #0000ff; text-decoration-color: #0000ff\">:</span><span style=\"color: #800080; text-decoration-color: #800080\">850</span>]<span style=\"color: #c0c0c0; text-decoration-color: #c0c0c0\"> </span><span style=\"color: #0000ff; text-decoration-color: #0000ff\">step</span>=<span style=\"color: #008080; text-decoration-color: #008080; font-weight: bold\">670</span> <span style=\"color: #0000ff; text-decoration-color: #0000ff\">loss</span>=<span style=\"color: #008080; text-decoration-color: #008080; font-weight: bold\">4.33205</span> <span style=\"color: #0000ff; text-decoration-color: #0000ff\">dt</span>=<span style=\"color: #008080; text-decoration-color: #008080; font-weight: bold\">0.0200015</span> <span style=\"color: #0000ff; text-decoration-color: #0000ff\">dtf</span>=<span style=\"color: #008080; text-decoration-color: #008080; font-weight: bold\">0.0195856</span> <span style=\"color: #0000ff; text-decoration-color: #0000ff\">dtb</span>=<span style=\"color: #008080; text-decoration-color: #008080; font-weight: bold\">0.000176125</span> <span style=\"color: #0000ff; text-decoration-color: #0000ff\">sps</span>=<span style=\"color: #008080; text-decoration-color: #008080; font-weight: bold\">49.9964</span> <span style=\"color: #0000ff; text-decoration-color: #0000ff\">sps_per_gpu</span>=<span style=\"color: #008080; text-decoration-color: #008080; font-weight: bold\">49.9964</span> <span style=\"color: #0000ff; text-decoration-color: #0000ff\">tps</span>=<span style=\"color: #008080; text-decoration-color: #008080; font-weight: bold\">6399.53</span> <span style=\"color: #0000ff; text-decoration-color: #0000ff\">tps_per_gpu</span>=<span style=\"color: #008080; text-decoration-color: #008080; font-weight: bold\">6399.53</span> <span style=\"color: #0000ff; text-decoration-color: #0000ff\">mfu</span>=<span style=\"color: #008080; text-decoration-color: #008080; font-weight: bold\">0.134137</span>\n",
              "</pre>"
            ]
          }
        },
        {
          "output_type": "display_data",
          "metadata": {},
          "data": {
            "text/html": [
              "<pre style=\"white-space:pre;overflow-x:auto;line-height:normal;font-family:Menlo,'DejaVu Sans Mono',consolas,'Courier New',monospace\">[<span style=\"color: #7f7f7f; text-decoration-color: #7f7f7f\">2025-07-23 08:58:45,498824</span>][<span style=\"color: #008000; text-decoration-color: #008000\">I</span>][<span style=\"color: #008080; text-decoration-color: #008080; font-style: italic\">wordplay</span>/<span style=\"color: #000080; text-decoration-color: #000080\">trainer</span><span style=\"color: #0000ff; text-decoration-color: #0000ff\">:</span><span style=\"color: #800080; text-decoration-color: #800080\">850</span>]<span style=\"color: #c0c0c0; text-decoration-color: #c0c0c0\"> </span><span style=\"color: #0000ff; text-decoration-color: #0000ff\">step</span>=<span style=\"color: #008080; text-decoration-color: #008080; font-weight: bold\">680</span> <span style=\"color: #0000ff; text-decoration-color: #0000ff\">loss</span>=<span style=\"color: #008080; text-decoration-color: #008080; font-weight: bold\">4.17701</span> <span style=\"color: #0000ff; text-decoration-color: #0000ff\">dt</span>=<span style=\"color: #008080; text-decoration-color: #008080; font-weight: bold\">0.0213209</span> <span style=\"color: #0000ff; text-decoration-color: #0000ff\">dtf</span>=<span style=\"color: #008080; text-decoration-color: #008080; font-weight: bold\">0.0209588</span> <span style=\"color: #0000ff; text-decoration-color: #0000ff\">dtb</span>=<span style=\"color: #008080; text-decoration-color: #008080; font-weight: bold\">0.0001305</span> <span style=\"color: #0000ff; text-decoration-color: #0000ff\">sps</span>=<span style=\"color: #008080; text-decoration-color: #008080; font-weight: bold\">46.9024</span> <span style=\"color: #0000ff; text-decoration-color: #0000ff\">sps_per_gpu</span>=<span style=\"color: #008080; text-decoration-color: #008080; font-weight: bold\">46.9024</span> <span style=\"color: #0000ff; text-decoration-color: #0000ff\">tps</span>=<span style=\"color: #008080; text-decoration-color: #008080; font-weight: bold\">6003.51</span> <span style=\"color: #0000ff; text-decoration-color: #0000ff\">tps_per_gpu</span>=<span style=\"color: #008080; text-decoration-color: #008080; font-weight: bold\">6003.51</span> <span style=\"color: #0000ff; text-decoration-color: #0000ff\">mfu</span>=<span style=\"color: #008080; text-decoration-color: #008080; font-weight: bold\">0.133696</span>\n",
              "</pre>"
            ]
          }
        },
        {
          "output_type": "display_data",
          "metadata": {},
          "data": {
            "text/html": [
              "<pre style=\"white-space:pre;overflow-x:auto;line-height:normal;font-family:Menlo,'DejaVu Sans Mono',consolas,'Courier New',monospace\">[<span style=\"color: #7f7f7f; text-decoration-color: #7f7f7f\">2025-07-23 08:58:45,703332</span>][<span style=\"color: #008000; text-decoration-color: #008000\">I</span>][<span style=\"color: #008080; text-decoration-color: #008080; font-style: italic\">wordplay</span>/<span style=\"color: #000080; text-decoration-color: #000080\">trainer</span><span style=\"color: #0000ff; text-decoration-color: #0000ff\">:</span><span style=\"color: #800080; text-decoration-color: #800080\">850</span>]<span style=\"color: #c0c0c0; text-decoration-color: #c0c0c0\"> </span><span style=\"color: #0000ff; text-decoration-color: #0000ff\">step</span>=<span style=\"color: #008080; text-decoration-color: #008080; font-weight: bold\">690</span> <span style=\"color: #0000ff; text-decoration-color: #0000ff\">loss</span>=<span style=\"color: #008080; text-decoration-color: #008080; font-weight: bold\">4.23023</span> <span style=\"color: #0000ff; text-decoration-color: #0000ff\">dt</span>=<span style=\"color: #008080; text-decoration-color: #008080; font-weight: bold\">0.0199692</span> <span style=\"color: #0000ff; text-decoration-color: #0000ff\">dtf</span>=<span style=\"color: #008080; text-decoration-color: #008080; font-weight: bold\">0.0196072</span> <span style=\"color: #0000ff; text-decoration-color: #0000ff\">dtb</span>=<span style=\"color: #008080; text-decoration-color: #008080; font-weight: bold\">0.000140625</span> <span style=\"color: #0000ff; text-decoration-color: #0000ff\">sps</span>=<span style=\"color: #008080; text-decoration-color: #008080; font-weight: bold\">50.0772</span> <span style=\"color: #0000ff; text-decoration-color: #0000ff\">sps_per_gpu</span>=<span style=\"color: #008080; text-decoration-color: #008080; font-weight: bold\">50.0772</span> <span style=\"color: #0000ff; text-decoration-color: #0000ff\">tps</span>=<span style=\"color: #008080; text-decoration-color: #008080; font-weight: bold\">6409.88</span> <span style=\"color: #0000ff; text-decoration-color: #0000ff\">tps_per_gpu</span>=<span style=\"color: #008080; text-decoration-color: #008080; font-weight: bold\">6409.88</span> <span style=\"color: #0000ff; text-decoration-color: #0000ff\">mfu</span>=<span style=\"color: #008080; text-decoration-color: #008080; font-weight: bold\">0.134177</span>\n",
              "</pre>"
            ]
          }
        },
        {
          "output_type": "display_data",
          "metadata": {},
          "data": {
            "text/html": [
              "<pre style=\"white-space:pre;overflow-x:auto;line-height:normal;font-family:Menlo,'DejaVu Sans Mono',consolas,'Courier New',monospace\">[<span style=\"color: #7f7f7f; text-decoration-color: #7f7f7f\">2025-07-23 08:58:45,912288</span>][<span style=\"color: #008000; text-decoration-color: #008000\">I</span>][<span style=\"color: #008080; text-decoration-color: #008080; font-style: italic\">wordplay</span>/<span style=\"color: #000080; text-decoration-color: #000080\">trainer</span><span style=\"color: #0000ff; text-decoration-color: #0000ff\">:</span><span style=\"color: #800080; text-decoration-color: #800080\">850</span>]<span style=\"color: #c0c0c0; text-decoration-color: #c0c0c0\"> </span><span style=\"color: #0000ff; text-decoration-color: #0000ff\">step</span>=<span style=\"color: #008080; text-decoration-color: #008080; font-weight: bold\">700</span> <span style=\"color: #0000ff; text-decoration-color: #0000ff\">loss</span>=<span style=\"color: #008080; text-decoration-color: #008080; font-weight: bold\">4.19011</span> <span style=\"color: #0000ff; text-decoration-color: #0000ff\">dt</span>=<span style=\"color: #008080; text-decoration-color: #008080; font-weight: bold\">0.020965</span> <span style=\"color: #0000ff; text-decoration-color: #0000ff\">dtf</span>=<span style=\"color: #008080; text-decoration-color: #008080; font-weight: bold\">0.0205863</span> <span style=\"color: #0000ff; text-decoration-color: #0000ff\">dtb</span>=<span style=\"color: #008080; text-decoration-color: #008080; font-weight: bold\">0.000130083</span> <span style=\"color: #0000ff; text-decoration-color: #0000ff\">sps</span>=<span style=\"color: #008080; text-decoration-color: #008080; font-weight: bold\">47.6984</span> <span style=\"color: #0000ff; text-decoration-color: #0000ff\">sps_per_gpu</span>=<span style=\"color: #008080; text-decoration-color: #008080; font-weight: bold\">47.6984</span> <span style=\"color: #0000ff; text-decoration-color: #0000ff\">tps</span>=<span style=\"color: #008080; text-decoration-color: #008080; font-weight: bold\">6105.4</span> <span style=\"color: #0000ff; text-decoration-color: #0000ff\">tps_per_gpu</span>=<span style=\"color: #008080; text-decoration-color: #008080; font-weight: bold\">6105.4</span> <span style=\"color: #0000ff; text-decoration-color: #0000ff\">mfu</span>=<span style=\"color: #008080; text-decoration-color: #008080; font-weight: bold\">0.133953</span>\n",
              "</pre>"
            ]
          }
        },
        {
          "output_type": "display_data",
          "metadata": {},
          "data": {
            "text/html": [
              "<pre style=\"white-space:pre;overflow-x:auto;line-height:normal;font-family:Menlo,'DejaVu Sans Mono',consolas,'Courier New',monospace\">[<span style=\"color: #7f7f7f; text-decoration-color: #7f7f7f\">2025-07-23 08:58:47,990877</span>][<span style=\"color: #008000; text-decoration-color: #008000\">I</span>][<span style=\"color: #008080; text-decoration-color: #008080; font-style: italic\">wordplay</span>/<span style=\"color: #000080; text-decoration-color: #000080\">trainer</span><span style=\"color: #0000ff; text-decoration-color: #0000ff\">:</span><span style=\"color: #800080; text-decoration-color: #800080\">790</span>]<span style=\"color: #c0c0c0; text-decoration-color: #c0c0c0\"> </span><span style=\"color: #ff00ff; text-decoration-color: #ff00ff\">[</span><span style=\"color: #008000; text-decoration-color: #008000\">'prompt'</span><span style=\"color: #ff00ff; text-decoration-color: #ff00ff\">]</span>: <span style=\"color: #008000; text-decoration-color: #008000\">'What is an LLM?'</span>\n",
              "</pre>"
            ]
          }
        },
        {
          "output_type": "display_data",
          "metadata": {},
          "data": {
            "text/html": [
              "<pre style=\"white-space:pre;overflow-x:auto;line-height:normal;font-family:Menlo,'DejaVu Sans Mono',consolas,'Courier New',monospace\">[<span style=\"color: #7f7f7f; text-decoration-color: #7f7f7f\">2025-07-23 08:58:47,992011</span>][<span style=\"color: #008000; text-decoration-color: #008000\">I</span>][<span style=\"color: #008080; text-decoration-color: #008080; font-style: italic\">wordplay</span>/<span style=\"color: #000080; text-decoration-color: #000080\">trainer</span><span style=\"color: #0000ff; text-decoration-color: #0000ff\">:</span><span style=\"color: #800080; text-decoration-color: #800080\">794</span>]<span style=\"color: #c0c0c0; text-decoration-color: #c0c0c0\"> </span><span style=\"color: #ff00ff; text-decoration-color: #ff00ff\">[</span><span style=\"color: #008000; text-decoration-color: #008000\">'response'</span><span style=\"color: #ff00ff; text-decoration-color: #ff00ff\">]</span>:\n",
              "\n",
              "What is an LLM?lrvqqrafQEsA,hrccZZ;<span style=\"color: #008000; text-decoration-color: #008000\">'rrkf'</span>c x'Xxqad.SSxtaV!XQUxv;a.'g\n",
              "Zto..herovV-qA'K;aZs3ecAq vqq.!c'fos,ssAAcqfop-;AA.Ag.WYYvvqttxW,,eq;;..Mww';QtMMgqeeqYYppppp;;..MW'tqYf.ff';ccWYrrS'SAsSohegQrr'rhWSASpgj'.A;;.eqqqqqeWWofYQYtcb'Q;;;tttuqcgk;.t3tSbYhhouI;ppp;tSfvgQSuSq\n",
              "</pre>"
            ]
          }
        },
        {
          "output_type": "display_data",
          "metadata": {},
          "data": {
            "text/html": [
              "<pre style=\"white-space:pre;overflow-x:auto;line-height:normal;font-family:Menlo,'DejaVu Sans Mono',consolas,'Courier New',monospace\">[<span style=\"color: #7f7f7f; text-decoration-color: #7f7f7f\">2025-07-23 08:58:51,256546</span>][<span style=\"color: #008000; text-decoration-color: #008000\">I</span>][<span style=\"color: #008080; text-decoration-color: #008080; font-style: italic\">wordplay</span>/<span style=\"color: #000080; text-decoration-color: #000080\">trainer</span><span style=\"color: #0000ff; text-decoration-color: #0000ff\">:</span><span style=\"color: #800080; text-decoration-color: #800080\">733</span>]<span style=\"color: #c0c0c0; text-decoration-color: #c0c0c0\"> </span>Saving checkpoint to: <span style=\"color: #800080; text-decoration-color: #800080\">/Users/samforeman/projects/saforem2/intro-hpc-bootcamp-2025/content/02-llms/</span><span style=\"color: #ff00ff; text-decoration-color: #ff00ff\">7-shakespeare-example</span>\n",
              "</pre>"
            ]
          }
        },
        {
          "output_type": "display_data",
          "metadata": {},
          "data": {
            "text/html": [
              "<pre style=\"white-space:pre;overflow-x:auto;line-height:normal;font-family:Menlo,'DejaVu Sans Mono',consolas,'Courier New',monospace\">[<span style=\"color: #7f7f7f; text-decoration-color: #7f7f7f\">2025-07-23 08:58:51,257491</span>][<span style=\"color: #008000; text-decoration-color: #008000\">I</span>][<span style=\"color: #008080; text-decoration-color: #008080; font-style: italic\">wordplay</span>/<span style=\"color: #000080; text-decoration-color: #000080\">trainer</span><span style=\"color: #0000ff; text-decoration-color: #0000ff\">:</span><span style=\"color: #800080; text-decoration-color: #800080\">734</span>]<span style=\"color: #c0c0c0; text-decoration-color: #c0c0c0\"> </span>Saving model to: <span style=\"color: #800080; text-decoration-color: #800080\">/Users/samforeman/projects/saforem2/intro-hpc-bootcamp-2025/content/02-llms/7-shakespeare-example/</span><span style=\"color: #ff00ff; text-decoration-color: #ff00ff\">model.pth</span>\n",
              "</pre>"
            ]
          }
        },
        {
          "output_type": "display_data",
          "metadata": {},
          "data": {
            "text/html": [
              "<pre style=\"white-space:pre;overflow-x:auto;line-height:normal;font-family:Menlo,'DejaVu Sans Mono',consolas,'Courier New',monospace\">[<span style=\"color: #7f7f7f; text-decoration-color: #7f7f7f\">2025-07-23 08:58:51,375687</span>][<span style=\"color: #008000; text-decoration-color: #008000\">I</span>][<span style=\"color: #008080; text-decoration-color: #008080; font-style: italic\">wordplay</span>/<span style=\"color: #000080; text-decoration-color: #000080\">configs</span><span style=\"color: #0000ff; text-decoration-color: #0000ff\">:</span><span style=\"color: #800080; text-decoration-color: #800080\">141</span>]<span style=\"color: #c0c0c0; text-decoration-color: #c0c0c0\"> </span>Appending <span style=\"color: #800080; text-decoration-color: #800080\">/Users/samforeman/projects/saforem2/intro-hpc-bootcamp-2025/content/02-llms/</span><span style=\"color: #ff00ff; text-decoration-color: #ff00ff\">7-shakespeare-example</span> to <span style=\"color: #800080; text-decoration-color: #800080\">/Users/samforeman/projects/saforem2/wordplay/src/ckpts/</span><span style=\"color: #ff00ff; text-decoration-color: #ff00ff\">checkpoints.log</span>\n",
              "</pre>"
            ]
          }
        },
        {
          "output_type": "display_data",
          "metadata": {},
          "data": {
            "text/html": [
              "<pre style=\"white-space:pre;overflow-x:auto;line-height:normal;font-family:Menlo,'DejaVu Sans Mono',consolas,'Courier New',monospace\">[<span style=\"color: #7f7f7f; text-decoration-color: #7f7f7f\">2025-07-23 08:58:51,572287</span>][<span style=\"color: #008000; text-decoration-color: #008000\">I</span>][<span style=\"color: #008080; text-decoration-color: #008080; font-style: italic\">wordplay</span>/<span style=\"color: #000080; text-decoration-color: #000080\">trainer</span><span style=\"color: #0000ff; text-decoration-color: #0000ff\">:</span><span style=\"color: #800080; text-decoration-color: #800080\">850</span>]<span style=\"color: #c0c0c0; text-decoration-color: #c0c0c0\"> </span><span style=\"color: #0000ff; text-decoration-color: #0000ff\">step</span>=<span style=\"color: #008080; text-decoration-color: #008080; font-weight: bold\">710</span> <span style=\"color: #0000ff; text-decoration-color: #0000ff\">loss</span>=<span style=\"color: #008080; text-decoration-color: #008080; font-weight: bold\">4.25752</span> <span style=\"color: #0000ff; text-decoration-color: #0000ff\">dt</span>=<span style=\"color: #008080; text-decoration-color: #008080; font-weight: bold\">0.0210395</span> <span style=\"color: #0000ff; text-decoration-color: #0000ff\">dtf</span>=<span style=\"color: #008080; text-decoration-color: #008080; font-weight: bold\">0.0206385</span> <span style=\"color: #0000ff; text-decoration-color: #0000ff\">dtb</span>=<span style=\"color: #008080; text-decoration-color: #008080; font-weight: bold\">0.000166292</span> <span style=\"color: #0000ff; text-decoration-color: #0000ff\">sps</span>=<span style=\"color: #008080; text-decoration-color: #008080; font-weight: bold\">47.5296</span> <span style=\"color: #0000ff; text-decoration-color: #0000ff\">sps_per_gpu</span>=<span style=\"color: #008080; text-decoration-color: #008080; font-weight: bold\">47.5296</span> <span style=\"color: #0000ff; text-decoration-color: #0000ff\">tps</span>=<span style=\"color: #008080; text-decoration-color: #008080; font-weight: bold\">6083.79</span> <span style=\"color: #0000ff; text-decoration-color: #0000ff\">tps_per_gpu</span>=<span style=\"color: #008080; text-decoration-color: #008080; font-weight: bold\">6083.79</span> <span style=\"color: #0000ff; text-decoration-color: #0000ff\">mfu</span>=<span style=\"color: #008080; text-decoration-color: #008080; font-weight: bold\">0.133704</span>\n",
              "</pre>"
            ]
          }
        },
        {
          "output_type": "display_data",
          "metadata": {},
          "data": {
            "text/html": [
              "<pre style=\"white-space:pre;overflow-x:auto;line-height:normal;font-family:Menlo,'DejaVu Sans Mono',consolas,'Courier New',monospace\">[<span style=\"color: #7f7f7f; text-decoration-color: #7f7f7f\">2025-07-23 08:58:51,782941</span>][<span style=\"color: #008000; text-decoration-color: #008000\">I</span>][<span style=\"color: #008080; text-decoration-color: #008080; font-style: italic\">wordplay</span>/<span style=\"color: #000080; text-decoration-color: #000080\">trainer</span><span style=\"color: #0000ff; text-decoration-color: #0000ff\">:</span><span style=\"color: #800080; text-decoration-color: #800080\">850</span>]<span style=\"color: #c0c0c0; text-decoration-color: #c0c0c0\"> </span><span style=\"color: #0000ff; text-decoration-color: #0000ff\">step</span>=<span style=\"color: #008080; text-decoration-color: #008080; font-weight: bold\">720</span> <span style=\"color: #0000ff; text-decoration-color: #0000ff\">loss</span>=<span style=\"color: #008080; text-decoration-color: #008080; font-weight: bold\">4.22592</span> <span style=\"color: #0000ff; text-decoration-color: #0000ff\">dt</span>=<span style=\"color: #008080; text-decoration-color: #008080; font-weight: bold\">0.0205845</span> <span style=\"color: #0000ff; text-decoration-color: #0000ff\">dtf</span>=<span style=\"color: #008080; text-decoration-color: #008080; font-weight: bold\">0.020252</span> <span style=\"color: #0000ff; text-decoration-color: #0000ff\">dtb</span>=<span style=\"color: #008080; text-decoration-color: #008080; font-weight: bold\">0.000126958</span> <span style=\"color: #0000ff; text-decoration-color: #0000ff\">sps</span>=<span style=\"color: #008080; text-decoration-color: #008080; font-weight: bold\">48.5801</span> <span style=\"color: #0000ff; text-decoration-color: #0000ff\">sps_per_gpu</span>=<span style=\"color: #008080; text-decoration-color: #008080; font-weight: bold\">48.5801</span> <span style=\"color: #0000ff; text-decoration-color: #0000ff\">tps</span>=<span style=\"color: #008080; text-decoration-color: #008080; font-weight: bold\">6218.26</span> <span style=\"color: #0000ff; text-decoration-color: #0000ff\">tps_per_gpu</span>=<span style=\"color: #008080; text-decoration-color: #008080; font-weight: bold\">6218.26</span> <span style=\"color: #0000ff; text-decoration-color: #0000ff\">mfu</span>=<span style=\"color: #008080; text-decoration-color: #008080; font-weight: bold\">0.13377</span>\n",
              "</pre>"
            ]
          }
        },
        {
          "output_type": "display_data",
          "metadata": {},
          "data": {
            "text/html": [
              "<pre style=\"white-space:pre;overflow-x:auto;line-height:normal;font-family:Menlo,'DejaVu Sans Mono',consolas,'Courier New',monospace\">[<span style=\"color: #7f7f7f; text-decoration-color: #7f7f7f\">2025-07-23 08:58:51,998336</span>][<span style=\"color: #008000; text-decoration-color: #008000\">I</span>][<span style=\"color: #008080; text-decoration-color: #008080; font-style: italic\">wordplay</span>/<span style=\"color: #000080; text-decoration-color: #000080\">trainer</span><span style=\"color: #0000ff; text-decoration-color: #0000ff\">:</span><span style=\"color: #800080; text-decoration-color: #800080\">850</span>]<span style=\"color: #c0c0c0; text-decoration-color: #c0c0c0\"> </span><span style=\"color: #0000ff; text-decoration-color: #0000ff\">step</span>=<span style=\"color: #008080; text-decoration-color: #008080; font-weight: bold\">730</span> <span style=\"color: #0000ff; text-decoration-color: #0000ff\">loss</span>=<span style=\"color: #008080; text-decoration-color: #008080; font-weight: bold\">4.18346</span> <span style=\"color: #0000ff; text-decoration-color: #0000ff\">dt</span>=<span style=\"color: #008080; text-decoration-color: #008080; font-weight: bold\">0.0196396</span> <span style=\"color: #0000ff; text-decoration-color: #0000ff\">dtf</span>=<span style=\"color: #008080; text-decoration-color: #008080; font-weight: bold\">0.0192706</span> <span style=\"color: #0000ff; text-decoration-color: #0000ff\">dtb</span>=<span style=\"color: #008080; text-decoration-color: #008080; font-weight: bold\">0.000167792</span> <span style=\"color: #0000ff; text-decoration-color: #0000ff\">sps</span>=<span style=\"color: #008080; text-decoration-color: #008080; font-weight: bold\">50.9176</span> <span style=\"color: #0000ff; text-decoration-color: #0000ff\">sps_per_gpu</span>=<span style=\"color: #008080; text-decoration-color: #008080; font-weight: bold\">50.9176</span> <span style=\"color: #0000ff; text-decoration-color: #0000ff\">tps</span>=<span style=\"color: #008080; text-decoration-color: #008080; font-weight: bold\">6517.45</span> <span style=\"color: #0000ff; text-decoration-color: #0000ff\">tps_per_gpu</span>=<span style=\"color: #008080; text-decoration-color: #008080; font-weight: bold\">6517.45</span> <span style=\"color: #0000ff; text-decoration-color: #0000ff\">mfu</span>=<span style=\"color: #008080; text-decoration-color: #008080; font-weight: bold\">0.134477</span>\n",
              "</pre>"
            ]
          }
        },
        {
          "output_type": "display_data",
          "metadata": {},
          "data": {
            "text/html": [
              "<pre style=\"white-space:pre;overflow-x:auto;line-height:normal;font-family:Menlo,'DejaVu Sans Mono',consolas,'Courier New',monospace\">[<span style=\"color: #7f7f7f; text-decoration-color: #7f7f7f\">2025-07-23 08:58:52,217305</span>][<span style=\"color: #008000; text-decoration-color: #008000\">I</span>][<span style=\"color: #008080; text-decoration-color: #008080; font-style: italic\">wordplay</span>/<span style=\"color: #000080; text-decoration-color: #000080\">trainer</span><span style=\"color: #0000ff; text-decoration-color: #0000ff\">:</span><span style=\"color: #800080; text-decoration-color: #800080\">850</span>]<span style=\"color: #c0c0c0; text-decoration-color: #c0c0c0\"> </span><span style=\"color: #0000ff; text-decoration-color: #0000ff\">step</span>=<span style=\"color: #008080; text-decoration-color: #008080; font-weight: bold\">740</span> <span style=\"color: #0000ff; text-decoration-color: #0000ff\">loss</span>=<span style=\"color: #008080; text-decoration-color: #008080; font-weight: bold\">4.22937</span> <span style=\"color: #0000ff; text-decoration-color: #0000ff\">dt</span>=<span style=\"color: #008080; text-decoration-color: #008080; font-weight: bold\">0.0208117</span> <span style=\"color: #0000ff; text-decoration-color: #0000ff\">dtf</span>=<span style=\"color: #008080; text-decoration-color: #008080; font-weight: bold\">0.020356</span> <span style=\"color: #0000ff; text-decoration-color: #0000ff\">dtb</span>=<span style=\"color: #008080; text-decoration-color: #008080; font-weight: bold\">0.000147416</span> <span style=\"color: #0000ff; text-decoration-color: #0000ff\">sps</span>=<span style=\"color: #008080; text-decoration-color: #008080; font-weight: bold\">48.05</span> <span style=\"color: #0000ff; text-decoration-color: #0000ff\">sps_per_gpu</span>=<span style=\"color: #008080; text-decoration-color: #008080; font-weight: bold\">48.05</span> <span style=\"color: #0000ff; text-decoration-color: #0000ff\">tps</span>=<span style=\"color: #008080; text-decoration-color: #008080; font-weight: bold\">6150.4</span> <span style=\"color: #0000ff; text-decoration-color: #0000ff\">tps_per_gpu</span>=<span style=\"color: #008080; text-decoration-color: #008080; font-weight: bold\">6150.4</span> <span style=\"color: #0000ff; text-decoration-color: #0000ff\">mfu</span>=<span style=\"color: #008080; text-decoration-color: #008080; font-weight: bold\">0.134319</span>\n",
              "</pre>"
            ]
          }
        },
        {
          "output_type": "display_data",
          "metadata": {},
          "data": {
            "text/html": [
              "<pre style=\"white-space:pre;overflow-x:auto;line-height:normal;font-family:Menlo,'DejaVu Sans Mono',consolas,'Courier New',monospace\">[<span style=\"color: #7f7f7f; text-decoration-color: #7f7f7f\">2025-07-23 08:58:52,478072</span>][<span style=\"color: #008000; text-decoration-color: #008000\">I</span>][<span style=\"color: #008080; text-decoration-color: #008080; font-style: italic\">wordplay</span>/<span style=\"color: #000080; text-decoration-color: #000080\">trainer</span><span style=\"color: #0000ff; text-decoration-color: #0000ff\">:</span><span style=\"color: #800080; text-decoration-color: #800080\">850</span>]<span style=\"color: #c0c0c0; text-decoration-color: #c0c0c0\"> </span><span style=\"color: #0000ff; text-decoration-color: #0000ff\">step</span>=<span style=\"color: #008080; text-decoration-color: #008080; font-weight: bold\">750</span> <span style=\"color: #0000ff; text-decoration-color: #0000ff\">loss</span>=<span style=\"color: #008080; text-decoration-color: #008080; font-weight: bold\">4.22004</span> <span style=\"color: #0000ff; text-decoration-color: #0000ff\">dt</span>=<span style=\"color: #008080; text-decoration-color: #008080; font-weight: bold\">0.0256086</span> <span style=\"color: #0000ff; text-decoration-color: #0000ff\">dtf</span>=<span style=\"color: #008080; text-decoration-color: #008080; font-weight: bold\">0.0252039</span> <span style=\"color: #0000ff; text-decoration-color: #0000ff\">dtb</span>=<span style=\"color: #008080; text-decoration-color: #008080; font-weight: bold\">0.000140875</span> <span style=\"color: #0000ff; text-decoration-color: #0000ff\">sps</span>=<span style=\"color: #008080; text-decoration-color: #008080; font-weight: bold\">39.0494</span> <span style=\"color: #0000ff; text-decoration-color: #0000ff\">sps_per_gpu</span>=<span style=\"color: #008080; text-decoration-color: #008080; font-weight: bold\">39.0494</span> <span style=\"color: #0000ff; text-decoration-color: #0000ff\">tps</span>=<span style=\"color: #008080; text-decoration-color: #008080; font-weight: bold\">4998.32</span> <span style=\"color: #0000ff; text-decoration-color: #0000ff\">tps_per_gpu</span>=<span style=\"color: #008080; text-decoration-color: #008080; font-weight: bold\">4998.32</span> <span style=\"color: #0000ff; text-decoration-color: #0000ff\">mfu</span>=<span style=\"color: #008080; text-decoration-color: #008080; font-weight: bold\">0.131688</span>\n",
              "</pre>"
            ]
          }
        },
        {
          "output_type": "display_data",
          "metadata": {},
          "data": {
            "text/html": [
              "<pre style=\"white-space:pre;overflow-x:auto;line-height:normal;font-family:Menlo,'DejaVu Sans Mono',consolas,'Courier New',monospace\">[<span style=\"color: #7f7f7f; text-decoration-color: #7f7f7f\">2025-07-23 08:58:54,471582</span>][<span style=\"color: #008000; text-decoration-color: #008000\">I</span>][<span style=\"color: #008080; text-decoration-color: #008080; font-style: italic\">wordplay</span>/<span style=\"color: #000080; text-decoration-color: #000080\">trainer</span><span style=\"color: #0000ff; text-decoration-color: #0000ff\">:</span><span style=\"color: #800080; text-decoration-color: #800080\">790</span>]<span style=\"color: #c0c0c0; text-decoration-color: #c0c0c0\"> </span><span style=\"color: #ff00ff; text-decoration-color: #ff00ff\">[</span><span style=\"color: #008000; text-decoration-color: #008000\">'prompt'</span><span style=\"color: #ff00ff; text-decoration-color: #ff00ff\">]</span>: <span style=\"color: #008000; text-decoration-color: #008000\">'What is an LLM?'</span>\n",
              "</pre>"
            ]
          }
        },
        {
          "output_type": "display_data",
          "metadata": {},
          "data": {
            "text/html": [
              "<pre style=\"white-space:pre;overflow-x:auto;line-height:normal;font-family:Menlo,'DejaVu Sans Mono',consolas,'Courier New',monospace\">[<span style=\"color: #7f7f7f; text-decoration-color: #7f7f7f\">2025-07-23 08:58:54,472523</span>][<span style=\"color: #008000; text-decoration-color: #008000\">I</span>][<span style=\"color: #008080; text-decoration-color: #008080; font-style: italic\">wordplay</span>/<span style=\"color: #000080; text-decoration-color: #000080\">trainer</span><span style=\"color: #0000ff; text-decoration-color: #0000ff\">:</span><span style=\"color: #800080; text-decoration-color: #800080\">794</span>]<span style=\"color: #c0c0c0; text-decoration-color: #c0c0c0\"> </span><span style=\"color: #ff00ff; text-decoration-color: #ff00ff\">[</span><span style=\"color: #008000; text-decoration-color: #008000\">'response'</span><span style=\"color: #ff00ff; text-decoration-color: #ff00ff\">]</span>:\n",
              "\n",
              "What is an LLM?.AvexhjjsAxx3AAAAffyyY'rr.AxZZpaff.yykfAqYEZ\n",
              "<span style=\"color: #008000; text-decoration-color: #008000\">'koBf''3YYo.hzA,aaqbbZ ttQhhxkeQU'</span>qhqqoqq!!<span style=\"color: #008000; text-decoration-color: #008000\">'ffor'</span>f.aZPeG'qW.ttvafA-b??fffvfvYrcL.bWtSS??qtLtQutohdyyppu'<span style=\"color: #008000; text-decoration-color: #008000\">'rrSqYqc'</span>KKye'<span style=\"color: #008000; text-decoration-color: #008000\">'''gjjQq'</span>fgJq;;.<span style=\"color: #008000; text-decoration-color: #008000\">'gYqrkssW'</span>tp;bqqf.qowqoMM'qQQSqqWssgyttu?qoo'ff''kkSSffAr.MggesgIIBBYeeWqqqqg\n",
              "</pre>"
            ]
          }
        },
        {
          "output_type": "display_data",
          "metadata": {},
          "data": {
            "text/html": [
              "<pre style=\"white-space:pre;overflow-x:auto;line-height:normal;font-family:Menlo,'DejaVu Sans Mono',consolas,'Courier New',monospace\">[<span style=\"color: #7f7f7f; text-decoration-color: #7f7f7f\">2025-07-23 08:58:58,221467</span>][<span style=\"color: #008000; text-decoration-color: #008000\">I</span>][<span style=\"color: #008080; text-decoration-color: #008080; font-style: italic\">wordplay</span>/<span style=\"color: #000080; text-decoration-color: #000080\">trainer</span><span style=\"color: #0000ff; text-decoration-color: #0000ff\">:</span><span style=\"color: #800080; text-decoration-color: #800080\">733</span>]<span style=\"color: #c0c0c0; text-decoration-color: #c0c0c0\"> </span>Saving checkpoint to: <span style=\"color: #800080; text-decoration-color: #800080\">/Users/samforeman/projects/saforem2/intro-hpc-bootcamp-2025/content/02-llms/</span><span style=\"color: #ff00ff; text-decoration-color: #ff00ff\">7-shakespeare-example</span>\n",
              "</pre>"
            ]
          }
        },
        {
          "output_type": "display_data",
          "metadata": {},
          "data": {
            "text/html": [
              "<pre style=\"white-space:pre;overflow-x:auto;line-height:normal;font-family:Menlo,'DejaVu Sans Mono',consolas,'Courier New',monospace\">[<span style=\"color: #7f7f7f; text-decoration-color: #7f7f7f\">2025-07-23 08:58:58,222403</span>][<span style=\"color: #008000; text-decoration-color: #008000\">I</span>][<span style=\"color: #008080; text-decoration-color: #008080; font-style: italic\">wordplay</span>/<span style=\"color: #000080; text-decoration-color: #000080\">trainer</span><span style=\"color: #0000ff; text-decoration-color: #0000ff\">:</span><span style=\"color: #800080; text-decoration-color: #800080\">734</span>]<span style=\"color: #c0c0c0; text-decoration-color: #c0c0c0\"> </span>Saving model to: <span style=\"color: #800080; text-decoration-color: #800080\">/Users/samforeman/projects/saforem2/intro-hpc-bootcamp-2025/content/02-llms/7-shakespeare-example/</span><span style=\"color: #ff00ff; text-decoration-color: #ff00ff\">model.pth</span>\n",
              "</pre>"
            ]
          }
        },
        {
          "output_type": "display_data",
          "metadata": {},
          "data": {
            "text/html": [
              "<pre style=\"white-space:pre;overflow-x:auto;line-height:normal;font-family:Menlo,'DejaVu Sans Mono',consolas,'Courier New',monospace\">[<span style=\"color: #7f7f7f; text-decoration-color: #7f7f7f\">2025-07-23 08:58:58,412671</span>][<span style=\"color: #008000; text-decoration-color: #008000\">I</span>][<span style=\"color: #008080; text-decoration-color: #008080; font-style: italic\">wordplay</span>/<span style=\"color: #000080; text-decoration-color: #000080\">configs</span><span style=\"color: #0000ff; text-decoration-color: #0000ff\">:</span><span style=\"color: #800080; text-decoration-color: #800080\">141</span>]<span style=\"color: #c0c0c0; text-decoration-color: #c0c0c0\"> </span>Appending <span style=\"color: #800080; text-decoration-color: #800080\">/Users/samforeman/projects/saforem2/intro-hpc-bootcamp-2025/content/02-llms/</span><span style=\"color: #ff00ff; text-decoration-color: #ff00ff\">7-shakespeare-example</span> to <span style=\"color: #800080; text-decoration-color: #800080\">/Users/samforeman/projects/saforem2/wordplay/src/ckpts/</span><span style=\"color: #ff00ff; text-decoration-color: #ff00ff\">checkpoints.log</span>\n",
              "</pre>"
            ]
          }
        },
        {
          "output_type": "display_data",
          "metadata": {},
          "data": {
            "text/html": [
              "<pre style=\"white-space:pre;overflow-x:auto;line-height:normal;font-family:Menlo,'DejaVu Sans Mono',consolas,'Courier New',monospace\">[<span style=\"color: #7f7f7f; text-decoration-color: #7f7f7f\">2025-07-23 08:58:58,642260</span>][<span style=\"color: #008000; text-decoration-color: #008000\">I</span>][<span style=\"color: #008080; text-decoration-color: #008080; font-style: italic\">wordplay</span>/<span style=\"color: #000080; text-decoration-color: #000080\">trainer</span><span style=\"color: #0000ff; text-decoration-color: #0000ff\">:</span><span style=\"color: #800080; text-decoration-color: #800080\">850</span>]<span style=\"color: #c0c0c0; text-decoration-color: #c0c0c0\"> </span><span style=\"color: #0000ff; text-decoration-color: #0000ff\">step</span>=<span style=\"color: #008080; text-decoration-color: #008080; font-weight: bold\">760</span> <span style=\"color: #0000ff; text-decoration-color: #0000ff\">loss</span>=<span style=\"color: #008080; text-decoration-color: #008080; font-weight: bold\">4.16349</span> <span style=\"color: #0000ff; text-decoration-color: #0000ff\">dt</span>=<span style=\"color: #008080; text-decoration-color: #008080; font-weight: bold\">0.0270981</span> <span style=\"color: #0000ff; text-decoration-color: #0000ff\">dtf</span>=<span style=\"color: #008080; text-decoration-color: #008080; font-weight: bold\">0.0260078</span> <span style=\"color: #0000ff; text-decoration-color: #0000ff\">dtb</span>=<span style=\"color: #008080; text-decoration-color: #008080; font-weight: bold\">0.000612333</span> <span style=\"color: #0000ff; text-decoration-color: #0000ff\">sps</span>=<span style=\"color: #008080; text-decoration-color: #008080; font-weight: bold\">36.903</span> <span style=\"color: #0000ff; text-decoration-color: #0000ff\">sps_per_gpu</span>=<span style=\"color: #008080; text-decoration-color: #008080; font-weight: bold\">36.903</span> <span style=\"color: #0000ff; text-decoration-color: #0000ff\">tps</span>=<span style=\"color: #008080; text-decoration-color: #008080; font-weight: bold\">4723.58</span> <span style=\"color: #0000ff; text-decoration-color: #0000ff\">tps_per_gpu</span>=<span style=\"color: #008080; text-decoration-color: #008080; font-weight: bold\">4723.58</span> <span style=\"color: #0000ff; text-decoration-color: #0000ff\">mfu</span>=<span style=\"color: #008080; text-decoration-color: #008080; font-weight: bold\">0.128727</span>\n",
              "</pre>"
            ]
          }
        },
        {
          "output_type": "display_data",
          "metadata": {},
          "data": {
            "text/html": [
              "<pre style=\"white-space:pre;overflow-x:auto;line-height:normal;font-family:Menlo,'DejaVu Sans Mono',consolas,'Courier New',monospace\">[<span style=\"color: #7f7f7f; text-decoration-color: #7f7f7f\">2025-07-23 08:58:58,875942</span>][<span style=\"color: #008000; text-decoration-color: #008000\">I</span>][<span style=\"color: #008080; text-decoration-color: #008080; font-style: italic\">wordplay</span>/<span style=\"color: #000080; text-decoration-color: #000080\">trainer</span><span style=\"color: #0000ff; text-decoration-color: #0000ff\">:</span><span style=\"color: #800080; text-decoration-color: #800080\">850</span>]<span style=\"color: #c0c0c0; text-decoration-color: #c0c0c0\"> </span><span style=\"color: #0000ff; text-decoration-color: #0000ff\">step</span>=<span style=\"color: #008080; text-decoration-color: #008080; font-weight: bold\">770</span> <span style=\"color: #0000ff; text-decoration-color: #0000ff\">loss</span>=<span style=\"color: #008080; text-decoration-color: #008080; font-weight: bold\">4.22062</span> <span style=\"color: #0000ff; text-decoration-color: #0000ff\">dt</span>=<span style=\"color: #008080; text-decoration-color: #008080; font-weight: bold\">0.0202306</span> <span style=\"color: #0000ff; text-decoration-color: #0000ff\">dtf</span>=<span style=\"color: #008080; text-decoration-color: #008080; font-weight: bold\">0.019834</span> <span style=\"color: #0000ff; text-decoration-color: #0000ff\">dtb</span>=<span style=\"color: #008080; text-decoration-color: #008080; font-weight: bold\">0.000146916</span> <span style=\"color: #0000ff; text-decoration-color: #0000ff\">sps</span>=<span style=\"color: #008080; text-decoration-color: #008080; font-weight: bold\">49.4301</span> <span style=\"color: #0000ff; text-decoration-color: #0000ff\">sps_per_gpu</span>=<span style=\"color: #008080; text-decoration-color: #008080; font-weight: bold\">49.4301</span> <span style=\"color: #0000ff; text-decoration-color: #0000ff\">tps</span>=<span style=\"color: #008080; text-decoration-color: #008080; font-weight: bold\">6327.05</span> <span style=\"color: #0000ff; text-decoration-color: #0000ff\">tps_per_gpu</span>=<span style=\"color: #008080; text-decoration-color: #008080; font-weight: bold\">6327.05</span> <span style=\"color: #0000ff; text-decoration-color: #0000ff\">mfu</span>=<span style=\"color: #008080; text-decoration-color: #008080; font-weight: bold\">0.129526</span>\n",
              "</pre>"
            ]
          }
        },
        {
          "output_type": "display_data",
          "metadata": {},
          "data": {
            "text/html": [
              "<pre style=\"white-space:pre;overflow-x:auto;line-height:normal;font-family:Menlo,'DejaVu Sans Mono',consolas,'Courier New',monospace\">[<span style=\"color: #7f7f7f; text-decoration-color: #7f7f7f\">2025-07-23 08:58:59,090769</span>][<span style=\"color: #008000; text-decoration-color: #008000\">I</span>][<span style=\"color: #008080; text-decoration-color: #008080; font-style: italic\">wordplay</span>/<span style=\"color: #000080; text-decoration-color: #000080\">trainer</span><span style=\"color: #0000ff; text-decoration-color: #0000ff\">:</span><span style=\"color: #800080; text-decoration-color: #800080\">850</span>]<span style=\"color: #c0c0c0; text-decoration-color: #c0c0c0\"> </span><span style=\"color: #0000ff; text-decoration-color: #0000ff\">step</span>=<span style=\"color: #008080; text-decoration-color: #008080; font-weight: bold\">780</span> <span style=\"color: #0000ff; text-decoration-color: #0000ff\">loss</span>=<span style=\"color: #008080; text-decoration-color: #008080; font-weight: bold\">4.16916</span> <span style=\"color: #0000ff; text-decoration-color: #0000ff\">dt</span>=<span style=\"color: #008080; text-decoration-color: #008080; font-weight: bold\">0.0215662</span> <span style=\"color: #0000ff; text-decoration-color: #0000ff\">dtf</span>=<span style=\"color: #008080; text-decoration-color: #008080; font-weight: bold\">0.0211463</span> <span style=\"color: #0000ff; text-decoration-color: #0000ff\">dtb</span>=<span style=\"color: #008080; text-decoration-color: #008080; font-weight: bold\">0.000193792</span> <span style=\"color: #0000ff; text-decoration-color: #0000ff\">sps</span>=<span style=\"color: #008080; text-decoration-color: #008080; font-weight: bold\">46.3689</span> <span style=\"color: #0000ff; text-decoration-color: #0000ff\">sps_per_gpu</span>=<span style=\"color: #008080; text-decoration-color: #008080; font-weight: bold\">46.3689</span> <span style=\"color: #0000ff; text-decoration-color: #0000ff\">tps</span>=<span style=\"color: #008080; text-decoration-color: #008080; font-weight: bold\">5935.22</span> <span style=\"color: #0000ff; text-decoration-color: #0000ff\">tps_per_gpu</span>=<span style=\"color: #008080; text-decoration-color: #008080; font-weight: bold\">5935.22</span> <span style=\"color: #0000ff; text-decoration-color: #0000ff\">mfu</span>=<span style=\"color: #008080; text-decoration-color: #008080; font-weight: bold\">0.129399</span>\n",
              "</pre>"
            ]
          }
        },
        {
          "output_type": "display_data",
          "metadata": {},
          "data": {
            "text/html": [
              "<pre style=\"white-space:pre;overflow-x:auto;line-height:normal;font-family:Menlo,'DejaVu Sans Mono',consolas,'Courier New',monospace\">[<span style=\"color: #7f7f7f; text-decoration-color: #7f7f7f\">2025-07-23 08:58:59,326115</span>][<span style=\"color: #008000; text-decoration-color: #008000\">I</span>][<span style=\"color: #008080; text-decoration-color: #008080; font-style: italic\">wordplay</span>/<span style=\"color: #000080; text-decoration-color: #000080\">trainer</span><span style=\"color: #0000ff; text-decoration-color: #0000ff\">:</span><span style=\"color: #800080; text-decoration-color: #800080\">850</span>]<span style=\"color: #c0c0c0; text-decoration-color: #c0c0c0\"> </span><span style=\"color: #0000ff; text-decoration-color: #0000ff\">step</span>=<span style=\"color: #008080; text-decoration-color: #008080; font-weight: bold\">790</span> <span style=\"color: #0000ff; text-decoration-color: #0000ff\">loss</span>=<span style=\"color: #008080; text-decoration-color: #008080; font-weight: bold\">4.21405</span> <span style=\"color: #0000ff; text-decoration-color: #0000ff\">dt</span>=<span style=\"color: #008080; text-decoration-color: #008080; font-weight: bold\">0.0211859</span> <span style=\"color: #0000ff; text-decoration-color: #0000ff\">dtf</span>=<span style=\"color: #008080; text-decoration-color: #008080; font-weight: bold\">0.0207783</span> <span style=\"color: #0000ff; text-decoration-color: #0000ff\">dtb</span>=<span style=\"color: #008080; text-decoration-color: #008080; font-weight: bold\">0.000133875</span> <span style=\"color: #0000ff; text-decoration-color: #0000ff\">sps</span>=<span style=\"color: #008080; text-decoration-color: #008080; font-weight: bold\">47.2013</span> <span style=\"color: #0000ff; text-decoration-color: #0000ff\">sps_per_gpu</span>=<span style=\"color: #008080; text-decoration-color: #008080; font-weight: bold\">47.2013</span> <span style=\"color: #0000ff; text-decoration-color: #0000ff\">tps</span>=<span style=\"color: #008080; text-decoration-color: #008080; font-weight: bold\">6041.76</span> <span style=\"color: #0000ff; text-decoration-color: #0000ff\">tps_per_gpu</span>=<span style=\"color: #008080; text-decoration-color: #008080; font-weight: bold\">6041.76</span> <span style=\"color: #0000ff; text-decoration-color: #0000ff\">mfu</span>=<span style=\"color: #008080; text-decoration-color: #008080; font-weight: bold\">0.129514</span>\n",
              "</pre>"
            ]
          }
        },
        {
          "output_type": "display_data",
          "metadata": {},
          "data": {
            "text/html": [
              "<pre style=\"white-space:pre;overflow-x:auto;line-height:normal;font-family:Menlo,'DejaVu Sans Mono',consolas,'Courier New',monospace\">[<span style=\"color: #7f7f7f; text-decoration-color: #7f7f7f\">2025-07-23 08:58:59,541182</span>][<span style=\"color: #008000; text-decoration-color: #008000\">I</span>][<span style=\"color: #008080; text-decoration-color: #008080; font-style: italic\">wordplay</span>/<span style=\"color: #000080; text-decoration-color: #000080\">trainer</span><span style=\"color: #0000ff; text-decoration-color: #0000ff\">:</span><span style=\"color: #800080; text-decoration-color: #800080\">850</span>]<span style=\"color: #c0c0c0; text-decoration-color: #c0c0c0\"> </span><span style=\"color: #0000ff; text-decoration-color: #0000ff\">step</span>=<span style=\"color: #008080; text-decoration-color: #008080; font-weight: bold\">800</span> <span style=\"color: #0000ff; text-decoration-color: #0000ff\">loss</span>=<span style=\"color: #008080; text-decoration-color: #008080; font-weight: bold\">4.23569</span> <span style=\"color: #0000ff; text-decoration-color: #0000ff\">dt</span>=<span style=\"color: #008080; text-decoration-color: #008080; font-weight: bold\">0.0207822</span> <span style=\"color: #0000ff; text-decoration-color: #0000ff\">dtf</span>=<span style=\"color: #008080; text-decoration-color: #008080; font-weight: bold\">0.0204404</span> <span style=\"color: #0000ff; text-decoration-color: #0000ff\">dtb</span>=<span style=\"color: #008080; text-decoration-color: #008080; font-weight: bold\">0.000128167</span> <span style=\"color: #0000ff; text-decoration-color: #0000ff\">sps</span>=<span style=\"color: #008080; text-decoration-color: #008080; font-weight: bold\">48.118</span> <span style=\"color: #0000ff; text-decoration-color: #0000ff\">sps_per_gpu</span>=<span style=\"color: #008080; text-decoration-color: #008080; font-weight: bold\">48.118</span> <span style=\"color: #0000ff; text-decoration-color: #0000ff\">tps</span>=<span style=\"color: #008080; text-decoration-color: #008080; font-weight: bold\">6159.1</span> <span style=\"color: #0000ff; text-decoration-color: #0000ff\">tps_per_gpu</span>=<span style=\"color: #008080; text-decoration-color: #008080; font-weight: bold\">6159.1</span> <span style=\"color: #0000ff; text-decoration-color: #0000ff\">mfu</span>=<span style=\"color: #008080; text-decoration-color: #008080; font-weight: bold\">0.129872</span>\n",
              "</pre>"
            ]
          }
        },
        {
          "output_type": "display_data",
          "metadata": {},
          "data": {
            "text/html": [
              "<pre style=\"white-space:pre;overflow-x:auto;line-height:normal;font-family:Menlo,'DejaVu Sans Mono',consolas,'Courier New',monospace\">[<span style=\"color: #7f7f7f; text-decoration-color: #7f7f7f\">2025-07-23 08:59:01,399864</span>][<span style=\"color: #008000; text-decoration-color: #008000\">I</span>][<span style=\"color: #008080; text-decoration-color: #008080; font-style: italic\">wordplay</span>/<span style=\"color: #000080; text-decoration-color: #000080\">trainer</span><span style=\"color: #0000ff; text-decoration-color: #0000ff\">:</span><span style=\"color: #800080; text-decoration-color: #800080\">790</span>]<span style=\"color: #c0c0c0; text-decoration-color: #c0c0c0\"> </span><span style=\"color: #ff00ff; text-decoration-color: #ff00ff\">[</span><span style=\"color: #008000; text-decoration-color: #008000\">'prompt'</span><span style=\"color: #ff00ff; text-decoration-color: #ff00ff\">]</span>: <span style=\"color: #008000; text-decoration-color: #008000\">'What is an LLM?'</span>\n",
              "</pre>"
            ]
          }
        },
        {
          "output_type": "display_data",
          "metadata": {},
          "data": {
            "text/html": [
              "<pre style=\"white-space:pre;overflow-x:auto;line-height:normal;font-family:Menlo,'DejaVu Sans Mono',consolas,'Courier New',monospace\">[<span style=\"color: #7f7f7f; text-decoration-color: #7f7f7f\">2025-07-23 08:59:01,400903</span>][<span style=\"color: #008000; text-decoration-color: #008000\">I</span>][<span style=\"color: #008080; text-decoration-color: #008080; font-style: italic\">wordplay</span>/<span style=\"color: #000080; text-decoration-color: #000080\">trainer</span><span style=\"color: #0000ff; text-decoration-color: #0000ff\">:</span><span style=\"color: #800080; text-decoration-color: #800080\">794</span>]<span style=\"color: #c0c0c0; text-decoration-color: #c0c0c0\"> </span><span style=\"color: #ff00ff; text-decoration-color: #ff00ff\">[</span><span style=\"color: #008000; text-decoration-color: #008000\">'response'</span><span style=\"color: #ff00ff; text-decoration-color: #ff00ff\">]</span>:\n",
              "\n",
              "What is an LLM??.ahoskZqeofpQe'v;.p..hqYwqaarswbbc.ahwbkkA'<span style=\"color: #008000; text-decoration-color: #008000\">'KyhvX.yp'</span>Vc3;oseo.xeeeaa'WQqfhKKfYqqqf.x33xx--;;;.egMcc-qaaovvKKOsvSpwesfgI;;wwerpMgtcgQsb;uQtggyyptokyy';QCy;;asoW,,Jr'<span style=\"color: #008000; text-decoration-color: #008000\">''''</span>,AkkfYoAAAAAS::::;;.bWttqeqcbA::gYJJbqgjoBhopwe;.s'<span style=\"color: #008000; text-decoration-color: #008000\">'ggkk'</span>qk.qkGWYYyqqe;<span style=\"color: #008000; text-decoration-color: #008000\">''</span>Sbs'MM;;.qqqqQ\n",
              "</pre>"
            ]
          }
        },
        {
          "output_type": "display_data",
          "metadata": {},
          "data": {
            "text/html": [
              "<pre style=\"white-space:pre;overflow-x:auto;line-height:normal;font-family:Menlo,'DejaVu Sans Mono',consolas,'Courier New',monospace\">[<span style=\"color: #7f7f7f; text-decoration-color: #7f7f7f\">2025-07-23 08:59:04,679883</span>][<span style=\"color: #008000; text-decoration-color: #008000\">I</span>][<span style=\"color: #008080; text-decoration-color: #008080; font-style: italic\">wordplay</span>/<span style=\"color: #000080; text-decoration-color: #000080\">trainer</span><span style=\"color: #0000ff; text-decoration-color: #0000ff\">:</span><span style=\"color: #800080; text-decoration-color: #800080\">733</span>]<span style=\"color: #c0c0c0; text-decoration-color: #c0c0c0\"> </span>Saving checkpoint to: <span style=\"color: #800080; text-decoration-color: #800080\">/Users/samforeman/projects/saforem2/intro-hpc-bootcamp-2025/content/02-llms/</span><span style=\"color: #ff00ff; text-decoration-color: #ff00ff\">7-shakespeare-example</span>\n",
              "</pre>"
            ]
          }
        },
        {
          "output_type": "display_data",
          "metadata": {},
          "data": {
            "text/html": [
              "<pre style=\"white-space:pre;overflow-x:auto;line-height:normal;font-family:Menlo,'DejaVu Sans Mono',consolas,'Courier New',monospace\">[<span style=\"color: #7f7f7f; text-decoration-color: #7f7f7f\">2025-07-23 08:59:04,681004</span>][<span style=\"color: #008000; text-decoration-color: #008000\">I</span>][<span style=\"color: #008080; text-decoration-color: #008080; font-style: italic\">wordplay</span>/<span style=\"color: #000080; text-decoration-color: #000080\">trainer</span><span style=\"color: #0000ff; text-decoration-color: #0000ff\">:</span><span style=\"color: #800080; text-decoration-color: #800080\">734</span>]<span style=\"color: #c0c0c0; text-decoration-color: #c0c0c0\"> </span>Saving model to: <span style=\"color: #800080; text-decoration-color: #800080\">/Users/samforeman/projects/saforem2/intro-hpc-bootcamp-2025/content/02-llms/7-shakespeare-example/</span><span style=\"color: #ff00ff; text-decoration-color: #ff00ff\">model.pth</span>\n",
              "</pre>"
            ]
          }
        },
        {
          "output_type": "display_data",
          "metadata": {},
          "data": {
            "text/html": [
              "<pre style=\"white-space:pre;overflow-x:auto;line-height:normal;font-family:Menlo,'DejaVu Sans Mono',consolas,'Courier New',monospace\">[<span style=\"color: #7f7f7f; text-decoration-color: #7f7f7f\">2025-07-23 08:59:04,768673</span>][<span style=\"color: #008000; text-decoration-color: #008000\">I</span>][<span style=\"color: #008080; text-decoration-color: #008080; font-style: italic\">wordplay</span>/<span style=\"color: #000080; text-decoration-color: #000080\">configs</span><span style=\"color: #0000ff; text-decoration-color: #0000ff\">:</span><span style=\"color: #800080; text-decoration-color: #800080\">141</span>]<span style=\"color: #c0c0c0; text-decoration-color: #c0c0c0\"> </span>Appending <span style=\"color: #800080; text-decoration-color: #800080\">/Users/samforeman/projects/saforem2/intro-hpc-bootcamp-2025/content/02-llms/</span><span style=\"color: #ff00ff; text-decoration-color: #ff00ff\">7-shakespeare-example</span> to <span style=\"color: #800080; text-decoration-color: #800080\">/Users/samforeman/projects/saforem2/wordplay/src/ckpts/</span><span style=\"color: #ff00ff; text-decoration-color: #ff00ff\">checkpoints.log</span>\n",
              "</pre>"
            ]
          }
        },
        {
          "output_type": "display_data",
          "metadata": {},
          "data": {
            "text/html": [
              "<pre style=\"white-space:pre;overflow-x:auto;line-height:normal;font-family:Menlo,'DejaVu Sans Mono',consolas,'Courier New',monospace\">[<span style=\"color: #7f7f7f; text-decoration-color: #7f7f7f\">2025-07-23 08:59:04,970800</span>][<span style=\"color: #008000; text-decoration-color: #008000\">I</span>][<span style=\"color: #008080; text-decoration-color: #008080; font-style: italic\">wordplay</span>/<span style=\"color: #000080; text-decoration-color: #000080\">trainer</span><span style=\"color: #0000ff; text-decoration-color: #0000ff\">:</span><span style=\"color: #800080; text-decoration-color: #800080\">850</span>]<span style=\"color: #c0c0c0; text-decoration-color: #c0c0c0\"> </span><span style=\"color: #0000ff; text-decoration-color: #0000ff\">step</span>=<span style=\"color: #008080; text-decoration-color: #008080; font-weight: bold\">810</span> <span style=\"color: #0000ff; text-decoration-color: #0000ff\">loss</span>=<span style=\"color: #008080; text-decoration-color: #008080; font-weight: bold\">4.22317</span> <span style=\"color: #0000ff; text-decoration-color: #0000ff\">dt</span>=<span style=\"color: #008080; text-decoration-color: #008080; font-weight: bold\">0.0213107</span> <span style=\"color: #0000ff; text-decoration-color: #0000ff\">dtf</span>=<span style=\"color: #008080; text-decoration-color: #008080; font-weight: bold\">0.0209796</span> <span style=\"color: #0000ff; text-decoration-color: #0000ff\">dtb</span>=<span style=\"color: #008080; text-decoration-color: #008080; font-weight: bold\">0.000123917</span> <span style=\"color: #0000ff; text-decoration-color: #0000ff\">sps</span>=<span style=\"color: #008080; text-decoration-color: #008080; font-weight: bold\">46.9249</span> <span style=\"color: #0000ff; text-decoration-color: #0000ff\">sps_per_gpu</span>=<span style=\"color: #008080; text-decoration-color: #008080; font-weight: bold\">46.9249</span> <span style=\"color: #0000ff; text-decoration-color: #0000ff\">tps</span>=<span style=\"color: #008080; text-decoration-color: #008080; font-weight: bold\">6006.38</span> <span style=\"color: #0000ff; text-decoration-color: #0000ff\">tps_per_gpu</span>=<span style=\"color: #008080; text-decoration-color: #008080; font-weight: bold\">6006.38</span> <span style=\"color: #0000ff; text-decoration-color: #0000ff\">mfu</span>=<span style=\"color: #008080; text-decoration-color: #008080; font-weight: bold\">0.129864</span>\n",
              "</pre>"
            ]
          }
        },
        {
          "output_type": "display_data",
          "metadata": {},
          "data": {
            "text/html": [
              "<pre style=\"white-space:pre;overflow-x:auto;line-height:normal;font-family:Menlo,'DejaVu Sans Mono',consolas,'Courier New',monospace\">[<span style=\"color: #7f7f7f; text-decoration-color: #7f7f7f\">2025-07-23 08:59:05,181003</span>][<span style=\"color: #008000; text-decoration-color: #008000\">I</span>][<span style=\"color: #008080; text-decoration-color: #008080; font-style: italic\">wordplay</span>/<span style=\"color: #000080; text-decoration-color: #000080\">trainer</span><span style=\"color: #0000ff; text-decoration-color: #0000ff\">:</span><span style=\"color: #800080; text-decoration-color: #800080\">850</span>]<span style=\"color: #c0c0c0; text-decoration-color: #c0c0c0\"> </span><span style=\"color: #0000ff; text-decoration-color: #0000ff\">step</span>=<span style=\"color: #008080; text-decoration-color: #008080; font-weight: bold\">820</span> <span style=\"color: #0000ff; text-decoration-color: #0000ff\">loss</span>=<span style=\"color: #008080; text-decoration-color: #008080; font-weight: bold\">4.24584</span> <span style=\"color: #0000ff; text-decoration-color: #0000ff\">dt</span>=<span style=\"color: #008080; text-decoration-color: #008080; font-weight: bold\">0.0201305</span> <span style=\"color: #0000ff; text-decoration-color: #0000ff\">dtf</span>=<span style=\"color: #008080; text-decoration-color: #008080; font-weight: bold\">0.0197398</span> <span style=\"color: #0000ff; text-decoration-color: #0000ff\">dtb</span>=<span style=\"color: #008080; text-decoration-color: #008080; font-weight: bold\">0.000142875</span> <span style=\"color: #0000ff; text-decoration-color: #0000ff\">sps</span>=<span style=\"color: #008080; text-decoration-color: #008080; font-weight: bold\">49.676</span> <span style=\"color: #0000ff; text-decoration-color: #0000ff\">sps_per_gpu</span>=<span style=\"color: #008080; text-decoration-color: #008080; font-weight: bold\">49.676</span> <span style=\"color: #0000ff; text-decoration-color: #0000ff\">tps</span>=<span style=\"color: #008080; text-decoration-color: #008080; font-weight: bold\">6358.52</span> <span style=\"color: #0000ff; text-decoration-color: #0000ff\">tps_per_gpu</span>=<span style=\"color: #008080; text-decoration-color: #008080; font-weight: bold\">6358.52</span> <span style=\"color: #0000ff; text-decoration-color: #0000ff\">mfu</span>=<span style=\"color: #008080; text-decoration-color: #008080; font-weight: bold\">0.130618</span>\n",
              "</pre>"
            ]
          }
        },
        {
          "output_type": "display_data",
          "metadata": {},
          "data": {
            "text/html": [
              "<pre style=\"white-space:pre;overflow-x:auto;line-height:normal;font-family:Menlo,'DejaVu Sans Mono',consolas,'Courier New',monospace\">[<span style=\"color: #7f7f7f; text-decoration-color: #7f7f7f\">2025-07-23 08:59:05,376030</span>][<span style=\"color: #008000; text-decoration-color: #008000\">I</span>][<span style=\"color: #008080; text-decoration-color: #008080; font-style: italic\">wordplay</span>/<span style=\"color: #000080; text-decoration-color: #000080\">trainer</span><span style=\"color: #0000ff; text-decoration-color: #0000ff\">:</span><span style=\"color: #800080; text-decoration-color: #800080\">850</span>]<span style=\"color: #c0c0c0; text-decoration-color: #c0c0c0\"> </span><span style=\"color: #0000ff; text-decoration-color: #0000ff\">step</span>=<span style=\"color: #008080; text-decoration-color: #008080; font-weight: bold\">830</span> <span style=\"color: #0000ff; text-decoration-color: #0000ff\">loss</span>=<span style=\"color: #008080; text-decoration-color: #008080; font-weight: bold\">4.1855</span> <span style=\"color: #0000ff; text-decoration-color: #0000ff\">dt</span>=<span style=\"color: #008080; text-decoration-color: #008080; font-weight: bold\">0.0196644</span> <span style=\"color: #0000ff; text-decoration-color: #0000ff\">dtf</span>=<span style=\"color: #008080; text-decoration-color: #008080; font-weight: bold\">0.0192299</span> <span style=\"color: #0000ff; text-decoration-color: #0000ff\">dtb</span>=<span style=\"color: #008080; text-decoration-color: #008080; font-weight: bold\">0.00014475</span> <span style=\"color: #0000ff; text-decoration-color: #0000ff\">sps</span>=<span style=\"color: #008080; text-decoration-color: #008080; font-weight: bold\">50.8534</span> <span style=\"color: #0000ff; text-decoration-color: #0000ff\">sps_per_gpu</span>=<span style=\"color: #008080; text-decoration-color: #008080; font-weight: bold\">50.8534</span> <span style=\"color: #0000ff; text-decoration-color: #0000ff\">tps</span>=<span style=\"color: #008080; text-decoration-color: #008080; font-weight: bold\">6509.23</span> <span style=\"color: #0000ff; text-decoration-color: #0000ff\">tps_per_gpu</span>=<span style=\"color: #008080; text-decoration-color: #008080; font-weight: bold\">6509.23</span> <span style=\"color: #0000ff; text-decoration-color: #0000ff\">mfu</span>=<span style=\"color: #008080; text-decoration-color: #008080; font-weight: bold\">0.131622</span>\n",
              "</pre>"
            ]
          }
        },
        {
          "output_type": "display_data",
          "metadata": {},
          "data": {
            "text/html": [
              "<pre style=\"white-space:pre;overflow-x:auto;line-height:normal;font-family:Menlo,'DejaVu Sans Mono',consolas,'Courier New',monospace\">[<span style=\"color: #7f7f7f; text-decoration-color: #7f7f7f\">2025-07-23 08:59:05,576990</span>][<span style=\"color: #008000; text-decoration-color: #008000\">I</span>][<span style=\"color: #008080; text-decoration-color: #008080; font-style: italic\">wordplay</span>/<span style=\"color: #000080; text-decoration-color: #000080\">trainer</span><span style=\"color: #0000ff; text-decoration-color: #0000ff\">:</span><span style=\"color: #800080; text-decoration-color: #800080\">850</span>]<span style=\"color: #c0c0c0; text-decoration-color: #c0c0c0\"> </span><span style=\"color: #0000ff; text-decoration-color: #0000ff\">step</span>=<span style=\"color: #008080; text-decoration-color: #008080; font-weight: bold\">840</span> <span style=\"color: #0000ff; text-decoration-color: #0000ff\">loss</span>=<span style=\"color: #008080; text-decoration-color: #008080; font-weight: bold\">4.24083</span> <span style=\"color: #0000ff; text-decoration-color: #0000ff\">dt</span>=<span style=\"color: #008080; text-decoration-color: #008080; font-weight: bold\">0.020351</span> <span style=\"color: #0000ff; text-decoration-color: #0000ff\">dtf</span>=<span style=\"color: #008080; text-decoration-color: #008080; font-weight: bold\">0.0200102</span> <span style=\"color: #0000ff; text-decoration-color: #0000ff\">dtb</span>=<span style=\"color: #008080; text-decoration-color: #008080; font-weight: bold\">0.000126375</span> <span style=\"color: #0000ff; text-decoration-color: #0000ff\">sps</span>=<span style=\"color: #008080; text-decoration-color: #008080; font-weight: bold\">49.1377</span> <span style=\"color: #0000ff; text-decoration-color: #0000ff\">sps_per_gpu</span>=<span style=\"color: #008080; text-decoration-color: #008080; font-weight: bold\">49.1377</span> <span style=\"color: #0000ff; text-decoration-color: #0000ff\">tps</span>=<span style=\"color: #008080; text-decoration-color: #008080; font-weight: bold\">6289.63</span> <span style=\"color: #0000ff; text-decoration-color: #0000ff\">tps_per_gpu</span>=<span style=\"color: #008080; text-decoration-color: #008080; font-weight: bold\">6289.63</span> <span style=\"color: #0000ff; text-decoration-color: #0000ff\">mfu</span>=<span style=\"color: #008080; text-decoration-color: #008080; font-weight: bold\">0.132051</span>\n",
              "</pre>"
            ]
          }
        },
        {
          "output_type": "display_data",
          "metadata": {},
          "data": {
            "text/html": [
              "<pre style=\"white-space:pre;overflow-x:auto;line-height:normal;font-family:Menlo,'DejaVu Sans Mono',consolas,'Courier New',monospace\">[<span style=\"color: #7f7f7f; text-decoration-color: #7f7f7f\">2025-07-23 08:59:05,776336</span>][<span style=\"color: #008000; text-decoration-color: #008000\">I</span>][<span style=\"color: #008080; text-decoration-color: #008080; font-style: italic\">wordplay</span>/<span style=\"color: #000080; text-decoration-color: #000080\">trainer</span><span style=\"color: #0000ff; text-decoration-color: #0000ff\">:</span><span style=\"color: #800080; text-decoration-color: #800080\">850</span>]<span style=\"color: #c0c0c0; text-decoration-color: #c0c0c0\"> </span><span style=\"color: #0000ff; text-decoration-color: #0000ff\">step</span>=<span style=\"color: #008080; text-decoration-color: #008080; font-weight: bold\">850</span> <span style=\"color: #0000ff; text-decoration-color: #0000ff\">loss</span>=<span style=\"color: #008080; text-decoration-color: #008080; font-weight: bold\">4.23785</span> <span style=\"color: #0000ff; text-decoration-color: #0000ff\">dt</span>=<span style=\"color: #008080; text-decoration-color: #008080; font-weight: bold\">0.0203045</span> <span style=\"color: #0000ff; text-decoration-color: #0000ff\">dtf</span>=<span style=\"color: #008080; text-decoration-color: #008080; font-weight: bold\">0.0198805</span> <span style=\"color: #0000ff; text-decoration-color: #0000ff\">dtb</span>=<span style=\"color: #008080; text-decoration-color: #008080; font-weight: bold\">0.000151458</span> <span style=\"color: #0000ff; text-decoration-color: #0000ff\">sps</span>=<span style=\"color: #008080; text-decoration-color: #008080; font-weight: bold\">49.2502</span> <span style=\"color: #0000ff; text-decoration-color: #0000ff\">sps_per_gpu</span>=<span style=\"color: #008080; text-decoration-color: #008080; font-weight: bold\">49.2502</span> <span style=\"color: #0000ff; text-decoration-color: #0000ff\">tps</span>=<span style=\"color: #008080; text-decoration-color: #008080; font-weight: bold\">6304.02</span> <span style=\"color: #0000ff; text-decoration-color: #0000ff\">tps_per_gpu</span>=<span style=\"color: #008080; text-decoration-color: #008080; font-weight: bold\">6304.02</span> <span style=\"color: #0000ff; text-decoration-color: #0000ff\">mfu</span>=<span style=\"color: #008080; text-decoration-color: #008080; font-weight: bold\">0.132468</span>\n",
              "</pre>"
            ]
          }
        },
        {
          "output_type": "display_data",
          "metadata": {},
          "data": {
            "text/html": [
              "<pre style=\"white-space:pre;overflow-x:auto;line-height:normal;font-family:Menlo,'DejaVu Sans Mono',consolas,'Courier New',monospace\">[<span style=\"color: #7f7f7f; text-decoration-color: #7f7f7f\">2025-07-23 08:59:07,725087</span>][<span style=\"color: #008000; text-decoration-color: #008000\">I</span>][<span style=\"color: #008080; text-decoration-color: #008080; font-style: italic\">wordplay</span>/<span style=\"color: #000080; text-decoration-color: #000080\">trainer</span><span style=\"color: #0000ff; text-decoration-color: #0000ff\">:</span><span style=\"color: #800080; text-decoration-color: #800080\">790</span>]<span style=\"color: #c0c0c0; text-decoration-color: #c0c0c0\"> </span><span style=\"color: #ff00ff; text-decoration-color: #ff00ff\">[</span><span style=\"color: #008000; text-decoration-color: #008000\">'prompt'</span><span style=\"color: #ff00ff; text-decoration-color: #ff00ff\">]</span>: <span style=\"color: #008000; text-decoration-color: #008000\">'What is an LLM?'</span>\n",
              "</pre>"
            ]
          }
        },
        {
          "output_type": "display_data",
          "metadata": {},
          "data": {
            "text/html": [
              "<pre style=\"white-space:pre;overflow-x:auto;line-height:normal;font-family:Menlo,'DejaVu Sans Mono',consolas,'Courier New',monospace\">[<span style=\"color: #7f7f7f; text-decoration-color: #7f7f7f\">2025-07-23 08:59:07,726050</span>][<span style=\"color: #008000; text-decoration-color: #008000\">I</span>][<span style=\"color: #008080; text-decoration-color: #008080; font-style: italic\">wordplay</span>/<span style=\"color: #000080; text-decoration-color: #000080\">trainer</span><span style=\"color: #0000ff; text-decoration-color: #0000ff\">:</span><span style=\"color: #800080; text-decoration-color: #800080\">794</span>]<span style=\"color: #c0c0c0; text-decoration-color: #c0c0c0\"> </span><span style=\"color: #ff00ff; text-decoration-color: #ff00ff\">[</span><span style=\"color: #008000; text-decoration-color: #008000\">'response'</span><span style=\"color: #ff00ff; text-decoration-color: #ff00ff\">]</span>:\n",
              "\n",
              "What is an LLM?A;QfqrqQ'xxx'aa.hh3vv'<span style=\"color: #008000; text-decoration-color: #008000\">'wwossqZse'</span>rxfQsseh'.evrpMq'<span style=\"color: #008000; text-decoration-color: #008000\">'.xxTUeQ'''</span>rqqaxfxtcbqcf3qq3jZbvcepwA,,,ff'hpqcpcA-A'rv::errrvbbZ:pc-qycSScWlbQYhhwwAA-SQCgl;bbrpbSrrrrqqqqq'<span style=\"color: #008000; text-decoration-color: #008000\">'rWqqtcAkYyqgYtxttttbkkqQWWqaqqqkkk,'</span>qqexrrWSSqyyYj'SyyQYQQ,q'<span style=\"color: #008000; text-decoration-color: #008000\">'p'</span>---p'<span style=\"color: #008000; text-decoration-color: #008000\">'tcqzhhhpqWfs.p'</span>foBqqQt::eu\n",
              "</pre>"
            ]
          }
        },
        {
          "output_type": "display_data",
          "metadata": {},
          "data": {
            "text/html": [
              "<pre style=\"white-space:pre;overflow-x:auto;line-height:normal;font-family:Menlo,'DejaVu Sans Mono',consolas,'Courier New',monospace\">[<span style=\"color: #7f7f7f; text-decoration-color: #7f7f7f\">2025-07-23 08:59:11,012246</span>][<span style=\"color: #008000; text-decoration-color: #008000\">I</span>][<span style=\"color: #008080; text-decoration-color: #008080; font-style: italic\">wordplay</span>/<span style=\"color: #000080; text-decoration-color: #000080\">trainer</span><span style=\"color: #0000ff; text-decoration-color: #0000ff\">:</span><span style=\"color: #800080; text-decoration-color: #800080\">733</span>]<span style=\"color: #c0c0c0; text-decoration-color: #c0c0c0\"> </span>Saving checkpoint to: <span style=\"color: #800080; text-decoration-color: #800080\">/Users/samforeman/projects/saforem2/intro-hpc-bootcamp-2025/content/02-llms/</span><span style=\"color: #ff00ff; text-decoration-color: #ff00ff\">7-shakespeare-example</span>\n",
              "</pre>"
            ]
          }
        },
        {
          "output_type": "display_data",
          "metadata": {},
          "data": {
            "text/html": [
              "<pre style=\"white-space:pre;overflow-x:auto;line-height:normal;font-family:Menlo,'DejaVu Sans Mono',consolas,'Courier New',monospace\">[<span style=\"color: #7f7f7f; text-decoration-color: #7f7f7f\">2025-07-23 08:59:11,013868</span>][<span style=\"color: #008000; text-decoration-color: #008000\">I</span>][<span style=\"color: #008080; text-decoration-color: #008080; font-style: italic\">wordplay</span>/<span style=\"color: #000080; text-decoration-color: #000080\">trainer</span><span style=\"color: #0000ff; text-decoration-color: #0000ff\">:</span><span style=\"color: #800080; text-decoration-color: #800080\">734</span>]<span style=\"color: #c0c0c0; text-decoration-color: #c0c0c0\"> </span>Saving model to: <span style=\"color: #800080; text-decoration-color: #800080\">/Users/samforeman/projects/saforem2/intro-hpc-bootcamp-2025/content/02-llms/7-shakespeare-example/</span><span style=\"color: #ff00ff; text-decoration-color: #ff00ff\">model.pth</span>\n",
              "</pre>"
            ]
          }
        },
        {
          "output_type": "display_data",
          "metadata": {},
          "data": {
            "text/html": [
              "<pre style=\"white-space:pre;overflow-x:auto;line-height:normal;font-family:Menlo,'DejaVu Sans Mono',consolas,'Courier New',monospace\">[<span style=\"color: #7f7f7f; text-decoration-color: #7f7f7f\">2025-07-23 08:59:11,231985</span>][<span style=\"color: #008000; text-decoration-color: #008000\">I</span>][<span style=\"color: #008080; text-decoration-color: #008080; font-style: italic\">wordplay</span>/<span style=\"color: #000080; text-decoration-color: #000080\">configs</span><span style=\"color: #0000ff; text-decoration-color: #0000ff\">:</span><span style=\"color: #800080; text-decoration-color: #800080\">141</span>]<span style=\"color: #c0c0c0; text-decoration-color: #c0c0c0\"> </span>Appending <span style=\"color: #800080; text-decoration-color: #800080\">/Users/samforeman/projects/saforem2/intro-hpc-bootcamp-2025/content/02-llms/</span><span style=\"color: #ff00ff; text-decoration-color: #ff00ff\">7-shakespeare-example</span> to <span style=\"color: #800080; text-decoration-color: #800080\">/Users/samforeman/projects/saforem2/wordplay/src/ckpts/</span><span style=\"color: #ff00ff; text-decoration-color: #ff00ff\">checkpoints.log</span>\n",
              "</pre>"
            ]
          }
        },
        {
          "output_type": "display_data",
          "metadata": {},
          "data": {
            "text/html": [
              "<pre style=\"white-space:pre;overflow-x:auto;line-height:normal;font-family:Menlo,'DejaVu Sans Mono',consolas,'Courier New',monospace\">[<span style=\"color: #7f7f7f; text-decoration-color: #7f7f7f\">2025-07-23 08:59:11,435033</span>][<span style=\"color: #008000; text-decoration-color: #008000\">I</span>][<span style=\"color: #008080; text-decoration-color: #008080; font-style: italic\">wordplay</span>/<span style=\"color: #000080; text-decoration-color: #000080\">trainer</span><span style=\"color: #0000ff; text-decoration-color: #0000ff\">:</span><span style=\"color: #800080; text-decoration-color: #800080\">850</span>]<span style=\"color: #c0c0c0; text-decoration-color: #c0c0c0\"> </span><span style=\"color: #0000ff; text-decoration-color: #0000ff\">step</span>=<span style=\"color: #008080; text-decoration-color: #008080; font-weight: bold\">860</span> <span style=\"color: #0000ff; text-decoration-color: #0000ff\">loss</span>=<span style=\"color: #008080; text-decoration-color: #008080; font-weight: bold\">4.20116</span> <span style=\"color: #0000ff; text-decoration-color: #0000ff\">dt</span>=<span style=\"color: #008080; text-decoration-color: #008080; font-weight: bold\">0.0199374</span> <span style=\"color: #0000ff; text-decoration-color: #0000ff\">dtf</span>=<span style=\"color: #008080; text-decoration-color: #008080; font-weight: bold\">0.0195708</span> <span style=\"color: #0000ff; text-decoration-color: #0000ff\">dtb</span>=<span style=\"color: #008080; text-decoration-color: #008080; font-weight: bold\">0.000159333</span> <span style=\"color: #0000ff; text-decoration-color: #0000ff\">sps</span>=<span style=\"color: #008080; text-decoration-color: #008080; font-weight: bold\">50.1571</span> <span style=\"color: #0000ff; text-decoration-color: #0000ff\">sps_per_gpu</span>=<span style=\"color: #008080; text-decoration-color: #008080; font-weight: bold\">50.1571</span> <span style=\"color: #0000ff; text-decoration-color: #0000ff\">tps</span>=<span style=\"color: #008080; text-decoration-color: #008080; font-weight: bold\">6420.1</span> <span style=\"color: #0000ff; text-decoration-color: #0000ff\">tps_per_gpu</span>=<span style=\"color: #008080; text-decoration-color: #008080; font-weight: bold\">6420.1</span> <span style=\"color: #0000ff; text-decoration-color: #0000ff\">mfu</span>=<span style=\"color: #008080; text-decoration-color: #008080; font-weight: bold\">0.133094</span>\n",
              "</pre>"
            ]
          }
        },
        {
          "output_type": "display_data",
          "metadata": {},
          "data": {
            "text/html": [
              "<pre style=\"white-space:pre;overflow-x:auto;line-height:normal;font-family:Menlo,'DejaVu Sans Mono',consolas,'Courier New',monospace\">[<span style=\"color: #7f7f7f; text-decoration-color: #7f7f7f\">2025-07-23 08:59:11,638160</span>][<span style=\"color: #008000; text-decoration-color: #008000\">I</span>][<span style=\"color: #008080; text-decoration-color: #008080; font-style: italic\">wordplay</span>/<span style=\"color: #000080; text-decoration-color: #000080\">trainer</span><span style=\"color: #0000ff; text-decoration-color: #0000ff\">:</span><span style=\"color: #800080; text-decoration-color: #800080\">850</span>]<span style=\"color: #c0c0c0; text-decoration-color: #c0c0c0\"> </span><span style=\"color: #0000ff; text-decoration-color: #0000ff\">step</span>=<span style=\"color: #008080; text-decoration-color: #008080; font-weight: bold\">870</span> <span style=\"color: #0000ff; text-decoration-color: #0000ff\">loss</span>=<span style=\"color: #008080; text-decoration-color: #008080; font-weight: bold\">4.22428</span> <span style=\"color: #0000ff; text-decoration-color: #0000ff\">dt</span>=<span style=\"color: #008080; text-decoration-color: #008080; font-weight: bold\">0.0196569</span> <span style=\"color: #0000ff; text-decoration-color: #0000ff\">dtf</span>=<span style=\"color: #008080; text-decoration-color: #008080; font-weight: bold\">0.0193219</span> <span style=\"color: #0000ff; text-decoration-color: #0000ff\">dtb</span>=<span style=\"color: #008080; text-decoration-color: #008080; font-weight: bold\">0.000125583</span> <span style=\"color: #0000ff; text-decoration-color: #0000ff\">sps</span>=<span style=\"color: #008080; text-decoration-color: #008080; font-weight: bold\">50.8727</span> <span style=\"color: #0000ff; text-decoration-color: #0000ff\">sps_per_gpu</span>=<span style=\"color: #008080; text-decoration-color: #008080; font-weight: bold\">50.8727</span> <span style=\"color: #0000ff; text-decoration-color: #0000ff\">tps</span>=<span style=\"color: #008080; text-decoration-color: #008080; font-weight: bold\">6511.7</span> <span style=\"color: #0000ff; text-decoration-color: #0000ff\">tps_per_gpu</span>=<span style=\"color: #008080; text-decoration-color: #008080; font-weight: bold\">6511.7</span> <span style=\"color: #0000ff; text-decoration-color: #0000ff\">mfu</span>=<span style=\"color: #008080; text-decoration-color: #008080; font-weight: bold\">0.133856</span>\n",
              "</pre>"
            ]
          }
        },
        {
          "output_type": "display_data",
          "metadata": {},
          "data": {
            "text/html": [
              "<pre style=\"white-space:pre;overflow-x:auto;line-height:normal;font-family:Menlo,'DejaVu Sans Mono',consolas,'Courier New',monospace\">[<span style=\"color: #7f7f7f; text-decoration-color: #7f7f7f\">2025-07-23 08:59:11,844190</span>][<span style=\"color: #008000; text-decoration-color: #008000\">I</span>][<span style=\"color: #008080; text-decoration-color: #008080; font-style: italic\">wordplay</span>/<span style=\"color: #000080; text-decoration-color: #000080\">trainer</span><span style=\"color: #0000ff; text-decoration-color: #0000ff\">:</span><span style=\"color: #800080; text-decoration-color: #800080\">850</span>]<span style=\"color: #c0c0c0; text-decoration-color: #c0c0c0\"> </span><span style=\"color: #0000ff; text-decoration-color: #0000ff\">step</span>=<span style=\"color: #008080; text-decoration-color: #008080; font-weight: bold\">880</span> <span style=\"color: #0000ff; text-decoration-color: #0000ff\">loss</span>=<span style=\"color: #008080; text-decoration-color: #008080; font-weight: bold\">4.22977</span> <span style=\"color: #0000ff; text-decoration-color: #0000ff\">dt</span>=<span style=\"color: #008080; text-decoration-color: #008080; font-weight: bold\">0.0190881</span> <span style=\"color: #0000ff; text-decoration-color: #0000ff\">dtf</span>=<span style=\"color: #008080; text-decoration-color: #008080; font-weight: bold\">0.0181568</span> <span style=\"color: #0000ff; text-decoration-color: #0000ff\">dtb</span>=<span style=\"color: #008080; text-decoration-color: #008080; font-weight: bold\">0.000190459</span> <span style=\"color: #0000ff; text-decoration-color: #0000ff\">sps</span>=<span style=\"color: #008080; text-decoration-color: #008080; font-weight: bold\">52.3886</span> <span style=\"color: #0000ff; text-decoration-color: #0000ff\">sps_per_gpu</span>=<span style=\"color: #008080; text-decoration-color: #008080; font-weight: bold\">52.3886</span> <span style=\"color: #0000ff; text-decoration-color: #0000ff\">tps</span>=<span style=\"color: #008080; text-decoration-color: #008080; font-weight: bold\">6705.74</span> <span style=\"color: #0000ff; text-decoration-color: #0000ff\">tps_per_gpu</span>=<span style=\"color: #008080; text-decoration-color: #008080; font-weight: bold\">6705.74</span> <span style=\"color: #0000ff; text-decoration-color: #0000ff\">mfu</span>=<span style=\"color: #008080; text-decoration-color: #008080; font-weight: bold\">0.134961</span>\n",
              "</pre>"
            ]
          }
        },
        {
          "output_type": "display_data",
          "metadata": {},
          "data": {
            "text/html": [
              "<pre style=\"white-space:pre;overflow-x:auto;line-height:normal;font-family:Menlo,'DejaVu Sans Mono',consolas,'Courier New',monospace\">[<span style=\"color: #7f7f7f; text-decoration-color: #7f7f7f\">2025-07-23 08:59:12,053585</span>][<span style=\"color: #008000; text-decoration-color: #008000\">I</span>][<span style=\"color: #008080; text-decoration-color: #008080; font-style: italic\">wordplay</span>/<span style=\"color: #000080; text-decoration-color: #000080\">trainer</span><span style=\"color: #0000ff; text-decoration-color: #0000ff\">:</span><span style=\"color: #800080; text-decoration-color: #800080\">850</span>]<span style=\"color: #c0c0c0; text-decoration-color: #c0c0c0\"> </span><span style=\"color: #0000ff; text-decoration-color: #0000ff\">step</span>=<span style=\"color: #008080; text-decoration-color: #008080; font-weight: bold\">890</span> <span style=\"color: #0000ff; text-decoration-color: #0000ff\">loss</span>=<span style=\"color: #008080; text-decoration-color: #008080; font-weight: bold\">4.22047</span> <span style=\"color: #0000ff; text-decoration-color: #0000ff\">dt</span>=<span style=\"color: #008080; text-decoration-color: #008080; font-weight: bold\">0.0227913</span> <span style=\"color: #0000ff; text-decoration-color: #0000ff\">dtf</span>=<span style=\"color: #008080; text-decoration-color: #008080; font-weight: bold\">0.0224062</span> <span style=\"color: #0000ff; text-decoration-color: #0000ff\">dtb</span>=<span style=\"color: #008080; text-decoration-color: #008080; font-weight: bold\">0.000148666</span> <span style=\"color: #0000ff; text-decoration-color: #0000ff\">sps</span>=<span style=\"color: #008080; text-decoration-color: #008080; font-weight: bold\">43.8764</span> <span style=\"color: #0000ff; text-decoration-color: #0000ff\">sps_per_gpu</span>=<span style=\"color: #008080; text-decoration-color: #008080; font-weight: bold\">43.8764</span> <span style=\"color: #0000ff; text-decoration-color: #0000ff\">tps</span>=<span style=\"color: #008080; text-decoration-color: #008080; font-weight: bold\">5616.18</span> <span style=\"color: #0000ff; text-decoration-color: #0000ff\">tps_per_gpu</span>=<span style=\"color: #008080; text-decoration-color: #008080; font-weight: bold\">5616.18</span> <span style=\"color: #0000ff; text-decoration-color: #0000ff\">mfu</span>=<span style=\"color: #008080; text-decoration-color: #008080; font-weight: bold\">0.1336</span>\n",
              "</pre>"
            ]
          }
        },
        {
          "output_type": "display_data",
          "metadata": {},
          "data": {
            "text/html": [
              "<pre style=\"white-space:pre;overflow-x:auto;line-height:normal;font-family:Menlo,'DejaVu Sans Mono',consolas,'Courier New',monospace\">[<span style=\"color: #7f7f7f; text-decoration-color: #7f7f7f\">2025-07-23 08:59:12,256667</span>][<span style=\"color: #008000; text-decoration-color: #008000\">I</span>][<span style=\"color: #008080; text-decoration-color: #008080; font-style: italic\">wordplay</span>/<span style=\"color: #000080; text-decoration-color: #000080\">trainer</span><span style=\"color: #0000ff; text-decoration-color: #0000ff\">:</span><span style=\"color: #800080; text-decoration-color: #800080\">850</span>]<span style=\"color: #c0c0c0; text-decoration-color: #c0c0c0\"> </span><span style=\"color: #0000ff; text-decoration-color: #0000ff\">step</span>=<span style=\"color: #008080; text-decoration-color: #008080; font-weight: bold\">900</span> <span style=\"color: #0000ff; text-decoration-color: #0000ff\">loss</span>=<span style=\"color: #008080; text-decoration-color: #008080; font-weight: bold\">4.35563</span> <span style=\"color: #0000ff; text-decoration-color: #0000ff\">dt</span>=<span style=\"color: #008080; text-decoration-color: #008080; font-weight: bold\">0.019698</span> <span style=\"color: #0000ff; text-decoration-color: #0000ff\">dtf</span>=<span style=\"color: #008080; text-decoration-color: #008080; font-weight: bold\">0.0193808</span> <span style=\"color: #0000ff; text-decoration-color: #0000ff\">dtb</span>=<span style=\"color: #008080; text-decoration-color: #008080; font-weight: bold\">0.000125875</span> <span style=\"color: #0000ff; text-decoration-color: #0000ff\">sps</span>=<span style=\"color: #008080; text-decoration-color: #008080; font-weight: bold\">50.7667</span> <span style=\"color: #0000ff; text-decoration-color: #0000ff\">sps_per_gpu</span>=<span style=\"color: #008080; text-decoration-color: #008080; font-weight: bold\">50.7667</span> <span style=\"color: #0000ff; text-decoration-color: #0000ff\">tps</span>=<span style=\"color: #008080; text-decoration-color: #008080; font-weight: bold\">6498.14</span> <span style=\"color: #0000ff; text-decoration-color: #0000ff\">tps_per_gpu</span>=<span style=\"color: #008080; text-decoration-color: #008080; font-weight: bold\">6498.14</span> <span style=\"color: #0000ff; text-decoration-color: #0000ff\">mfu</span>=<span style=\"color: #008080; text-decoration-color: #008080; font-weight: bold\">0.134282</span>\n",
              "</pre>"
            ]
          }
        },
        {
          "output_type": "display_data",
          "metadata": {},
          "data": {
            "text/html": [
              "<pre style=\"white-space:pre;overflow-x:auto;line-height:normal;font-family:Menlo,'DejaVu Sans Mono',consolas,'Courier New',monospace\">[<span style=\"color: #7f7f7f; text-decoration-color: #7f7f7f\">2025-07-23 08:59:14,192693</span>][<span style=\"color: #008000; text-decoration-color: #008000\">I</span>][<span style=\"color: #008080; text-decoration-color: #008080; font-style: italic\">wordplay</span>/<span style=\"color: #000080; text-decoration-color: #000080\">trainer</span><span style=\"color: #0000ff; text-decoration-color: #0000ff\">:</span><span style=\"color: #800080; text-decoration-color: #800080\">790</span>]<span style=\"color: #c0c0c0; text-decoration-color: #c0c0c0\"> </span><span style=\"color: #ff00ff; text-decoration-color: #ff00ff\">[</span><span style=\"color: #008000; text-decoration-color: #008000\">'prompt'</span><span style=\"color: #ff00ff; text-decoration-color: #ff00ff\">]</span>: <span style=\"color: #008000; text-decoration-color: #008000\">'What is an LLM?'</span>\n",
              "</pre>"
            ]
          }
        },
        {
          "output_type": "display_data",
          "metadata": {},
          "data": {
            "text/html": [
              "<pre style=\"white-space:pre;overflow-x:auto;line-height:normal;font-family:Menlo,'DejaVu Sans Mono',consolas,'Courier New',monospace\">[<span style=\"color: #7f7f7f; text-decoration-color: #7f7f7f\">2025-07-23 08:59:14,193607</span>][<span style=\"color: #008000; text-decoration-color: #008000\">I</span>][<span style=\"color: #008080; text-decoration-color: #008080; font-style: italic\">wordplay</span>/<span style=\"color: #000080; text-decoration-color: #000080\">trainer</span><span style=\"color: #0000ff; text-decoration-color: #0000ff\">:</span><span style=\"color: #800080; text-decoration-color: #800080\">794</span>]<span style=\"color: #c0c0c0; text-decoration-color: #c0c0c0\"> </span><span style=\"color: #ff00ff; text-decoration-color: #ff00ff\">[</span><span style=\"color: #008000; text-decoration-color: #008000\">'response'</span><span style=\"color: #ff00ff; text-decoration-color: #ff00ff\">]</span>:\n",
              "\n",
              "What is an LLM?wwPA'eeew-3ZAjRwqs33eafCq'ax..xcxc'<span style=\"color: #008000; text-decoration-color: #008000\">'awA'</span>,bsettcCvCqqq33A-.bsor.awQfJ$  3a-3b U' Zq3gQQf',,AqGZ fhhPwU.vfCC.xpqvr.SkkofxsyQrrs';<span style=\"color: #008000; text-decoration-color: #008000\">'kGs,rMse''rppb'</span>qqfoktM'qo,qqSqgW,etM'M??Z;auYfSSo??gg'sSvSQQqfftcb;;;;pWQSffttqgQSSSkllbrqqaw,<span style=\"color: #008000; text-decoration-color: #008000\">'SqqYQ;;;pqqtpBheW;;;.hn'</span>qYyMMesgl\n",
              "</pre>"
            ]
          }
        },
        {
          "output_type": "display_data",
          "metadata": {},
          "data": {
            "text/html": [
              "<pre style=\"white-space:pre;overflow-x:auto;line-height:normal;font-family:Menlo,'DejaVu Sans Mono',consolas,'Courier New',monospace\">[<span style=\"color: #7f7f7f; text-decoration-color: #7f7f7f\">2025-07-23 08:59:17,554639</span>][<span style=\"color: #008000; text-decoration-color: #008000\">I</span>][<span style=\"color: #008080; text-decoration-color: #008080; font-style: italic\">wordplay</span>/<span style=\"color: #000080; text-decoration-color: #000080\">trainer</span><span style=\"color: #0000ff; text-decoration-color: #0000ff\">:</span><span style=\"color: #800080; text-decoration-color: #800080\">733</span>]<span style=\"color: #c0c0c0; text-decoration-color: #c0c0c0\"> </span>Saving checkpoint to: <span style=\"color: #800080; text-decoration-color: #800080\">/Users/samforeman/projects/saforem2/intro-hpc-bootcamp-2025/content/02-llms/</span><span style=\"color: #ff00ff; text-decoration-color: #ff00ff\">7-shakespeare-example</span>\n",
              "</pre>"
            ]
          }
        },
        {
          "output_type": "display_data",
          "metadata": {},
          "data": {
            "text/html": [
              "<pre style=\"white-space:pre;overflow-x:auto;line-height:normal;font-family:Menlo,'DejaVu Sans Mono',consolas,'Courier New',monospace\">[<span style=\"color: #7f7f7f; text-decoration-color: #7f7f7f\">2025-07-23 08:59:17,555784</span>][<span style=\"color: #008000; text-decoration-color: #008000\">I</span>][<span style=\"color: #008080; text-decoration-color: #008080; font-style: italic\">wordplay</span>/<span style=\"color: #000080; text-decoration-color: #000080\">trainer</span><span style=\"color: #0000ff; text-decoration-color: #0000ff\">:</span><span style=\"color: #800080; text-decoration-color: #800080\">734</span>]<span style=\"color: #c0c0c0; text-decoration-color: #c0c0c0\"> </span>Saving model to: <span style=\"color: #800080; text-decoration-color: #800080\">/Users/samforeman/projects/saforem2/intro-hpc-bootcamp-2025/content/02-llms/7-shakespeare-example/</span><span style=\"color: #ff00ff; text-decoration-color: #ff00ff\">model.pth</span>\n",
              "</pre>"
            ]
          }
        },
        {
          "output_type": "display_data",
          "metadata": {},
          "data": {
            "text/html": [
              "<pre style=\"white-space:pre;overflow-x:auto;line-height:normal;font-family:Menlo,'DejaVu Sans Mono',consolas,'Courier New',monospace\">[<span style=\"color: #7f7f7f; text-decoration-color: #7f7f7f\">2025-07-23 08:59:17,666255</span>][<span style=\"color: #008000; text-decoration-color: #008000\">I</span>][<span style=\"color: #008080; text-decoration-color: #008080; font-style: italic\">wordplay</span>/<span style=\"color: #000080; text-decoration-color: #000080\">configs</span><span style=\"color: #0000ff; text-decoration-color: #0000ff\">:</span><span style=\"color: #800080; text-decoration-color: #800080\">141</span>]<span style=\"color: #c0c0c0; text-decoration-color: #c0c0c0\"> </span>Appending <span style=\"color: #800080; text-decoration-color: #800080\">/Users/samforeman/projects/saforem2/intro-hpc-bootcamp-2025/content/02-llms/</span><span style=\"color: #ff00ff; text-decoration-color: #ff00ff\">7-shakespeare-example</span> to <span style=\"color: #800080; text-decoration-color: #800080\">/Users/samforeman/projects/saforem2/wordplay/src/ckpts/</span><span style=\"color: #ff00ff; text-decoration-color: #ff00ff\">checkpoints.log</span>\n",
              "</pre>"
            ]
          }
        },
        {
          "output_type": "display_data",
          "metadata": {},
          "data": {
            "text/html": [
              "<pre style=\"white-space:pre;overflow-x:auto;line-height:normal;font-family:Menlo,'DejaVu Sans Mono',consolas,'Courier New',monospace\">[<span style=\"color: #7f7f7f; text-decoration-color: #7f7f7f\">2025-07-23 08:59:17,866924</span>][<span style=\"color: #008000; text-decoration-color: #008000\">I</span>][<span style=\"color: #008080; text-decoration-color: #008080; font-style: italic\">wordplay</span>/<span style=\"color: #000080; text-decoration-color: #000080\">trainer</span><span style=\"color: #0000ff; text-decoration-color: #0000ff\">:</span><span style=\"color: #800080; text-decoration-color: #800080\">850</span>]<span style=\"color: #c0c0c0; text-decoration-color: #c0c0c0\"> </span><span style=\"color: #0000ff; text-decoration-color: #0000ff\">step</span>=<span style=\"color: #008080; text-decoration-color: #008080; font-weight: bold\">910</span> <span style=\"color: #0000ff; text-decoration-color: #0000ff\">loss</span>=<span style=\"color: #008080; text-decoration-color: #008080; font-weight: bold\">4.19569</span> <span style=\"color: #0000ff; text-decoration-color: #0000ff\">dt</span>=<span style=\"color: #008080; text-decoration-color: #008080; font-weight: bold\">0.0190393</span> <span style=\"color: #0000ff; text-decoration-color: #0000ff\">dtf</span>=<span style=\"color: #008080; text-decoration-color: #008080; font-weight: bold\">0.0186371</span> <span style=\"color: #0000ff; text-decoration-color: #0000ff\">dtb</span>=<span style=\"color: #008080; text-decoration-color: #008080; font-weight: bold\">0.000153416</span> <span style=\"color: #0000ff; text-decoration-color: #0000ff\">sps</span>=<span style=\"color: #008080; text-decoration-color: #008080; font-weight: bold\">52.523</span> <span style=\"color: #0000ff; text-decoration-color: #0000ff\">sps_per_gpu</span>=<span style=\"color: #008080; text-decoration-color: #008080; font-weight: bold\">52.523</span> <span style=\"color: #0000ff; text-decoration-color: #0000ff\">tps</span>=<span style=\"color: #008080; text-decoration-color: #008080; font-weight: bold\">6722.94</span> <span style=\"color: #0000ff; text-decoration-color: #0000ff\">tps_per_gpu</span>=<span style=\"color: #008080; text-decoration-color: #008080; font-weight: bold\">6722.94</span> <span style=\"color: #0000ff; text-decoration-color: #0000ff\">mfu</span>=<span style=\"color: #008080; text-decoration-color: #008080; font-weight: bold\">0.135381</span>\n",
              "</pre>"
            ]
          }
        },
        {
          "output_type": "display_data",
          "metadata": {},
          "data": {
            "text/html": [
              "<pre style=\"white-space:pre;overflow-x:auto;line-height:normal;font-family:Menlo,'DejaVu Sans Mono',consolas,'Courier New',monospace\">[<span style=\"color: #7f7f7f; text-decoration-color: #7f7f7f\">2025-07-23 08:59:18,063442</span>][<span style=\"color: #008000; text-decoration-color: #008000\">I</span>][<span style=\"color: #008080; text-decoration-color: #008080; font-style: italic\">wordplay</span>/<span style=\"color: #000080; text-decoration-color: #000080\">trainer</span><span style=\"color: #0000ff; text-decoration-color: #0000ff\">:</span><span style=\"color: #800080; text-decoration-color: #800080\">850</span>]<span style=\"color: #c0c0c0; text-decoration-color: #c0c0c0\"> </span><span style=\"color: #0000ff; text-decoration-color: #0000ff\">step</span>=<span style=\"color: #008080; text-decoration-color: #008080; font-weight: bold\">920</span> <span style=\"color: #0000ff; text-decoration-color: #0000ff\">loss</span>=<span style=\"color: #008080; text-decoration-color: #008080; font-weight: bold\">4.23206</span> <span style=\"color: #0000ff; text-decoration-color: #0000ff\">dt</span>=<span style=\"color: #008080; text-decoration-color: #008080; font-weight: bold\">0.0209738</span> <span style=\"color: #0000ff; text-decoration-color: #0000ff\">dtf</span>=<span style=\"color: #008080; text-decoration-color: #008080; font-weight: bold\">0.0203224</span> <span style=\"color: #0000ff; text-decoration-color: #0000ff\">dtb</span>=<span style=\"color: #008080; text-decoration-color: #008080; font-weight: bold\">0.000168</span> <span style=\"color: #0000ff; text-decoration-color: #0000ff\">sps</span>=<span style=\"color: #008080; text-decoration-color: #008080; font-weight: bold\">47.6785</span> <span style=\"color: #0000ff; text-decoration-color: #0000ff\">sps_per_gpu</span>=<span style=\"color: #008080; text-decoration-color: #008080; font-weight: bold\">47.6785</span> <span style=\"color: #0000ff; text-decoration-color: #0000ff\">tps</span>=<span style=\"color: #008080; text-decoration-color: #008080; font-weight: bold\">6102.84</span> <span style=\"color: #0000ff; text-decoration-color: #0000ff\">tps_per_gpu</span>=<span style=\"color: #008080; text-decoration-color: #008080; font-weight: bold\">6102.84</span> <span style=\"color: #0000ff; text-decoration-color: #0000ff\">mfu</span>=<span style=\"color: #008080; text-decoration-color: #008080; font-weight: bold\">0.135031</span>\n",
              "</pre>"
            ]
          }
        },
        {
          "output_type": "display_data",
          "metadata": {},
          "data": {
            "text/html": [
              "<pre style=\"white-space:pre;overflow-x:auto;line-height:normal;font-family:Menlo,'DejaVu Sans Mono',consolas,'Courier New',monospace\">[<span style=\"color: #7f7f7f; text-decoration-color: #7f7f7f\">2025-07-23 08:59:18,260013</span>][<span style=\"color: #008000; text-decoration-color: #008000\">I</span>][<span style=\"color: #008080; text-decoration-color: #008080; font-style: italic\">wordplay</span>/<span style=\"color: #000080; text-decoration-color: #000080\">trainer</span><span style=\"color: #0000ff; text-decoration-color: #0000ff\">:</span><span style=\"color: #800080; text-decoration-color: #800080\">850</span>]<span style=\"color: #c0c0c0; text-decoration-color: #c0c0c0\"> </span><span style=\"color: #0000ff; text-decoration-color: #0000ff\">step</span>=<span style=\"color: #008080; text-decoration-color: #008080; font-weight: bold\">930</span> <span style=\"color: #0000ff; text-decoration-color: #0000ff\">loss</span>=<span style=\"color: #008080; text-decoration-color: #008080; font-weight: bold\">4.29058</span> <span style=\"color: #0000ff; text-decoration-color: #0000ff\">dt</span>=<span style=\"color: #008080; text-decoration-color: #008080; font-weight: bold\">0.0212561</span> <span style=\"color: #0000ff; text-decoration-color: #0000ff\">dtf</span>=<span style=\"color: #008080; text-decoration-color: #008080; font-weight: bold\">0.0205243</span> <span style=\"color: #0000ff; text-decoration-color: #0000ff\">dtb</span>=<span style=\"color: #008080; text-decoration-color: #008080; font-weight: bold\">0.000141666</span> <span style=\"color: #0000ff; text-decoration-color: #0000ff\">sps</span>=<span style=\"color: #008080; text-decoration-color: #008080; font-weight: bold\">47.0454</span> <span style=\"color: #0000ff; text-decoration-color: #0000ff\">sps_per_gpu</span>=<span style=\"color: #008080; text-decoration-color: #008080; font-weight: bold\">47.0454</span> <span style=\"color: #0000ff; text-decoration-color: #0000ff\">tps</span>=<span style=\"color: #008080; text-decoration-color: #008080; font-weight: bold\">6021.81</span> <span style=\"color: #0000ff; text-decoration-color: #0000ff\">tps_per_gpu</span>=<span style=\"color: #008080; text-decoration-color: #008080; font-weight: bold\">6021.81</span> <span style=\"color: #0000ff; text-decoration-color: #0000ff\">mfu</span>=<span style=\"color: #008080; text-decoration-color: #008080; font-weight: bold\">0.13454</span>\n",
              "</pre>"
            ]
          }
        },
        {
          "output_type": "display_data",
          "metadata": {},
          "data": {
            "text/html": [
              "<pre style=\"white-space:pre;overflow-x:auto;line-height:normal;font-family:Menlo,'DejaVu Sans Mono',consolas,'Courier New',monospace\">[<span style=\"color: #7f7f7f; text-decoration-color: #7f7f7f\">2025-07-23 08:59:18,474870</span>][<span style=\"color: #008000; text-decoration-color: #008000\">I</span>][<span style=\"color: #008080; text-decoration-color: #008080; font-style: italic\">wordplay</span>/<span style=\"color: #000080; text-decoration-color: #000080\">trainer</span><span style=\"color: #0000ff; text-decoration-color: #0000ff\">:</span><span style=\"color: #800080; text-decoration-color: #800080\">850</span>]<span style=\"color: #c0c0c0; text-decoration-color: #c0c0c0\"> </span><span style=\"color: #0000ff; text-decoration-color: #0000ff\">step</span>=<span style=\"color: #008080; text-decoration-color: #008080; font-weight: bold\">940</span> <span style=\"color: #0000ff; text-decoration-color: #0000ff\">loss</span>=<span style=\"color: #008080; text-decoration-color: #008080; font-weight: bold\">4.211</span> <span style=\"color: #0000ff; text-decoration-color: #0000ff\">dt</span>=<span style=\"color: #008080; text-decoration-color: #008080; font-weight: bold\">0.021138</span> <span style=\"color: #0000ff; text-decoration-color: #0000ff\">dtf</span>=<span style=\"color: #008080; text-decoration-color: #008080; font-weight: bold\">0.020739</span> <span style=\"color: #0000ff; text-decoration-color: #0000ff\">dtb</span>=<span style=\"color: #008080; text-decoration-color: #008080; font-weight: bold\">0.000146959</span> <span style=\"color: #0000ff; text-decoration-color: #0000ff\">sps</span>=<span style=\"color: #008080; text-decoration-color: #008080; font-weight: bold\">47.3083</span> <span style=\"color: #0000ff; text-decoration-color: #0000ff\">sps_per_gpu</span>=<span style=\"color: #008080; text-decoration-color: #008080; font-weight: bold\">47.3083</span> <span style=\"color: #0000ff; text-decoration-color: #0000ff\">tps</span>=<span style=\"color: #008080; text-decoration-color: #008080; font-weight: bold\">6055.46</span> <span style=\"color: #0000ff; text-decoration-color: #0000ff\">tps_per_gpu</span>=<span style=\"color: #008080; text-decoration-color: #008080; font-weight: bold\">6055.46</span> <span style=\"color: #0000ff; text-decoration-color: #0000ff\">mfu</span>=<span style=\"color: #008080; text-decoration-color: #008080; font-weight: bold\">0.134171</span>\n",
              "</pre>"
            ]
          }
        },
        {
          "output_type": "display_data",
          "metadata": {},
          "data": {
            "text/html": [
              "<pre style=\"white-space:pre;overflow-x:auto;line-height:normal;font-family:Menlo,'DejaVu Sans Mono',consolas,'Courier New',monospace\">[<span style=\"color: #7f7f7f; text-decoration-color: #7f7f7f\">2025-07-23 08:59:18,723165</span>][<span style=\"color: #008000; text-decoration-color: #008000\">I</span>][<span style=\"color: #008080; text-decoration-color: #008080; font-style: italic\">wordplay</span>/<span style=\"color: #000080; text-decoration-color: #000080\">trainer</span><span style=\"color: #0000ff; text-decoration-color: #0000ff\">:</span><span style=\"color: #800080; text-decoration-color: #800080\">850</span>]<span style=\"color: #c0c0c0; text-decoration-color: #c0c0c0\"> </span><span style=\"color: #0000ff; text-decoration-color: #0000ff\">step</span>=<span style=\"color: #008080; text-decoration-color: #008080; font-weight: bold\">950</span> <span style=\"color: #0000ff; text-decoration-color: #0000ff\">loss</span>=<span style=\"color: #008080; text-decoration-color: #008080; font-weight: bold\">4.18626</span> <span style=\"color: #0000ff; text-decoration-color: #0000ff\">dt</span>=<span style=\"color: #008080; text-decoration-color: #008080; font-weight: bold\">0.0404515</span> <span style=\"color: #0000ff; text-decoration-color: #0000ff\">dtf</span>=<span style=\"color: #008080; text-decoration-color: #008080; font-weight: bold\">0.0220188</span> <span style=\"color: #0000ff; text-decoration-color: #0000ff\">dtb</span>=<span style=\"color: #008080; text-decoration-color: #008080; font-weight: bold\">0.0001355</span> <span style=\"color: #0000ff; text-decoration-color: #0000ff\">sps</span>=<span style=\"color: #008080; text-decoration-color: #008080; font-weight: bold\">24.7209</span> <span style=\"color: #0000ff; text-decoration-color: #0000ff\">sps_per_gpu</span>=<span style=\"color: #008080; text-decoration-color: #008080; font-weight: bold\">24.7209</span> <span style=\"color: #0000ff; text-decoration-color: #0000ff\">tps</span>=<span style=\"color: #008080; text-decoration-color: #008080; font-weight: bold\">3164.28</span> <span style=\"color: #0000ff; text-decoration-color: #0000ff\">tps_per_gpu</span>=<span style=\"color: #008080; text-decoration-color: #008080; font-weight: bold\">3164.28</span> <span style=\"color: #0000ff; text-decoration-color: #0000ff\">mfu</span>=<span style=\"color: #008080; text-decoration-color: #008080; font-weight: bold\">0.127592</span>\n",
              "</pre>"
            ]
          }
        },
        {
          "output_type": "display_data",
          "metadata": {},
          "data": {
            "text/html": [
              "<pre style=\"white-space:pre;overflow-x:auto;line-height:normal;font-family:Menlo,'DejaVu Sans Mono',consolas,'Courier New',monospace\">[<span style=\"color: #7f7f7f; text-decoration-color: #7f7f7f\">2025-07-23 08:59:20,852013</span>][<span style=\"color: #008000; text-decoration-color: #008000\">I</span>][<span style=\"color: #008080; text-decoration-color: #008080; font-style: italic\">wordplay</span>/<span style=\"color: #000080; text-decoration-color: #000080\">trainer</span><span style=\"color: #0000ff; text-decoration-color: #0000ff\">:</span><span style=\"color: #800080; text-decoration-color: #800080\">790</span>]<span style=\"color: #c0c0c0; text-decoration-color: #c0c0c0\"> </span><span style=\"color: #ff00ff; text-decoration-color: #ff00ff\">[</span><span style=\"color: #008000; text-decoration-color: #008000\">'prompt'</span><span style=\"color: #ff00ff; text-decoration-color: #ff00ff\">]</span>: <span style=\"color: #008000; text-decoration-color: #008000\">'What is an LLM?'</span>\n",
              "</pre>"
            ]
          }
        },
        {
          "output_type": "display_data",
          "metadata": {},
          "data": {
            "text/html": [
              "<pre style=\"white-space:pre;overflow-x:auto;line-height:normal;font-family:Menlo,'DejaVu Sans Mono',consolas,'Courier New',monospace\">[<span style=\"color: #7f7f7f; text-decoration-color: #7f7f7f\">2025-07-23 08:59:20,860111</span>][<span style=\"color: #008000; text-decoration-color: #008000\">I</span>][<span style=\"color: #008080; text-decoration-color: #008080; font-style: italic\">wordplay</span>/<span style=\"color: #000080; text-decoration-color: #000080\">trainer</span><span style=\"color: #0000ff; text-decoration-color: #0000ff\">:</span><span style=\"color: #800080; text-decoration-color: #800080\">794</span>]<span style=\"color: #c0c0c0; text-decoration-color: #c0c0c0\"> </span><span style=\"color: #ff00ff; text-decoration-color: #ff00ff\">[</span><span style=\"color: #008000; text-decoration-color: #008000\">'response'</span><span style=\"color: #ff00ff; text-decoration-color: #ff00ff\">]</span>:\n",
              "\n",
              "What is an LLM?YfQooooRx3xccaHCvj3gllexpjGG,wUxe'oOf.smxxxrq-jj'kxxrkc3fkkeQZZe'<span style=\"color: #008000; text-decoration-color: #008000\">'YR'</span>JhrZZAcowccpqA,QUJZpcAkkGGGqp--.v'appbYYbeeqbbZrk'MBfq-srksqYee'QQt'J',qWqt;qkGWbrrtqJ-<span style=\"color: #008000; text-decoration-color: #008000\">'pa'</span>ggjJSq--<span style=\"color: #008000; text-decoration-color: #008000\">'sf'</span>..;<span style=\"color: #008000; text-decoration-color: #008000\">''</span>aqfpfx'Sbbq3tooMbb?<span style=\"color: #008000; text-decoration-color: #008000\">',AA-AW'</span>MqAAk;ccAGqQqaA;WQhMSq;cffho,eWohpWott3jj---s;?ggIIS\n",
              "</pre>"
            ]
          }
        },
        {
          "output_type": "display_data",
          "metadata": {},
          "data": {
            "text/html": [
              "<pre style=\"white-space:pre;overflow-x:auto;line-height:normal;font-family:Menlo,'DejaVu Sans Mono',consolas,'Courier New',monospace\">[<span style=\"color: #7f7f7f; text-decoration-color: #7f7f7f\">2025-07-23 08:59:24,109360</span>][<span style=\"color: #008000; text-decoration-color: #008000\">I</span>][<span style=\"color: #008080; text-decoration-color: #008080; font-style: italic\">wordplay</span>/<span style=\"color: #000080; text-decoration-color: #000080\">trainer</span><span style=\"color: #0000ff; text-decoration-color: #0000ff\">:</span><span style=\"color: #800080; text-decoration-color: #800080\">733</span>]<span style=\"color: #c0c0c0; text-decoration-color: #c0c0c0\"> </span>Saving checkpoint to: <span style=\"color: #800080; text-decoration-color: #800080\">/Users/samforeman/projects/saforem2/intro-hpc-bootcamp-2025/content/02-llms/</span><span style=\"color: #ff00ff; text-decoration-color: #ff00ff\">7-shakespeare-example</span>\n",
              "</pre>"
            ]
          }
        },
        {
          "output_type": "display_data",
          "metadata": {},
          "data": {
            "text/html": [
              "<pre style=\"white-space:pre;overflow-x:auto;line-height:normal;font-family:Menlo,'DejaVu Sans Mono',consolas,'Courier New',monospace\">[<span style=\"color: #7f7f7f; text-decoration-color: #7f7f7f\">2025-07-23 08:59:24,110524</span>][<span style=\"color: #008000; text-decoration-color: #008000\">I</span>][<span style=\"color: #008080; text-decoration-color: #008080; font-style: italic\">wordplay</span>/<span style=\"color: #000080; text-decoration-color: #000080\">trainer</span><span style=\"color: #0000ff; text-decoration-color: #0000ff\">:</span><span style=\"color: #800080; text-decoration-color: #800080\">734</span>]<span style=\"color: #c0c0c0; text-decoration-color: #c0c0c0\"> </span>Saving model to: <span style=\"color: #800080; text-decoration-color: #800080\">/Users/samforeman/projects/saforem2/intro-hpc-bootcamp-2025/content/02-llms/7-shakespeare-example/</span><span style=\"color: #ff00ff; text-decoration-color: #ff00ff\">model.pth</span>\n",
              "</pre>"
            ]
          }
        },
        {
          "output_type": "display_data",
          "metadata": {},
          "data": {
            "text/html": [
              "<pre style=\"white-space:pre;overflow-x:auto;line-height:normal;font-family:Menlo,'DejaVu Sans Mono',consolas,'Courier New',monospace\">[<span style=\"color: #7f7f7f; text-decoration-color: #7f7f7f\">2025-07-23 08:59:24,197735</span>][<span style=\"color: #008000; text-decoration-color: #008000\">I</span>][<span style=\"color: #008080; text-decoration-color: #008080; font-style: italic\">wordplay</span>/<span style=\"color: #000080; text-decoration-color: #000080\">configs</span><span style=\"color: #0000ff; text-decoration-color: #0000ff\">:</span><span style=\"color: #800080; text-decoration-color: #800080\">141</span>]<span style=\"color: #c0c0c0; text-decoration-color: #c0c0c0\"> </span>Appending <span style=\"color: #800080; text-decoration-color: #800080\">/Users/samforeman/projects/saforem2/intro-hpc-bootcamp-2025/content/02-llms/</span><span style=\"color: #ff00ff; text-decoration-color: #ff00ff\">7-shakespeare-example</span> to <span style=\"color: #800080; text-decoration-color: #800080\">/Users/samforeman/projects/saforem2/wordplay/src/ckpts/</span><span style=\"color: #ff00ff; text-decoration-color: #ff00ff\">checkpoints.log</span>\n",
              "</pre>"
            ]
          }
        },
        {
          "output_type": "display_data",
          "metadata": {},
          "data": {
            "text/html": [
              "<pre style=\"white-space:pre;overflow-x:auto;line-height:normal;font-family:Menlo,'DejaVu Sans Mono',consolas,'Courier New',monospace\">[<span style=\"color: #7f7f7f; text-decoration-color: #7f7f7f\">2025-07-23 08:59:24,391195</span>][<span style=\"color: #008000; text-decoration-color: #008000\">I</span>][<span style=\"color: #008080; text-decoration-color: #008080; font-style: italic\">wordplay</span>/<span style=\"color: #000080; text-decoration-color: #000080\">trainer</span><span style=\"color: #0000ff; text-decoration-color: #0000ff\">:</span><span style=\"color: #800080; text-decoration-color: #800080\">850</span>]<span style=\"color: #c0c0c0; text-decoration-color: #c0c0c0\"> </span><span style=\"color: #0000ff; text-decoration-color: #0000ff\">step</span>=<span style=\"color: #008080; text-decoration-color: #008080; font-weight: bold\">960</span> <span style=\"color: #0000ff; text-decoration-color: #0000ff\">loss</span>=<span style=\"color: #008080; text-decoration-color: #008080; font-weight: bold\">4.225</span> <span style=\"color: #0000ff; text-decoration-color: #0000ff\">dt</span>=<span style=\"color: #008080; text-decoration-color: #008080; font-weight: bold\">0.0204505</span> <span style=\"color: #0000ff; text-decoration-color: #0000ff\">dtf</span>=<span style=\"color: #008080; text-decoration-color: #008080; font-weight: bold\">0.0197843</span> <span style=\"color: #0000ff; text-decoration-color: #0000ff\">dtb</span>=<span style=\"color: #008080; text-decoration-color: #008080; font-weight: bold\">0.000154666</span> <span style=\"color: #0000ff; text-decoration-color: #0000ff\">sps</span>=<span style=\"color: #008080; text-decoration-color: #008080; font-weight: bold\">48.8985</span> <span style=\"color: #0000ff; text-decoration-color: #0000ff\">sps_per_gpu</span>=<span style=\"color: #008080; text-decoration-color: #008080; font-weight: bold\">48.8985</span> <span style=\"color: #0000ff; text-decoration-color: #0000ff\">tps</span>=<span style=\"color: #008080; text-decoration-color: #008080; font-weight: bold\">6259</span> <span style=\"color: #0000ff; text-decoration-color: #0000ff\">tps_per_gpu</span>=<span style=\"color: #008080; text-decoration-color: #008080; font-weight: bold\">6259</span> <span style=\"color: #0000ff; text-decoration-color: #0000ff\">mfu</span>=<span style=\"color: #008080; text-decoration-color: #008080; font-weight: bold\">0.128358</span>\n",
              "</pre>"
            ]
          }
        },
        {
          "output_type": "display_data",
          "metadata": {},
          "data": {
            "text/html": [
              "<pre style=\"white-space:pre;overflow-x:auto;line-height:normal;font-family:Menlo,'DejaVu Sans Mono',consolas,'Courier New',monospace\">[<span style=\"color: #7f7f7f; text-decoration-color: #7f7f7f\">2025-07-23 08:59:24,588273</span>][<span style=\"color: #008000; text-decoration-color: #008000\">I</span>][<span style=\"color: #008080; text-decoration-color: #008080; font-style: italic\">wordplay</span>/<span style=\"color: #000080; text-decoration-color: #000080\">trainer</span><span style=\"color: #0000ff; text-decoration-color: #0000ff\">:</span><span style=\"color: #800080; text-decoration-color: #800080\">850</span>]<span style=\"color: #c0c0c0; text-decoration-color: #c0c0c0\"> </span><span style=\"color: #0000ff; text-decoration-color: #0000ff\">step</span>=<span style=\"color: #008080; text-decoration-color: #008080; font-weight: bold\">970</span> <span style=\"color: #0000ff; text-decoration-color: #0000ff\">loss</span>=<span style=\"color: #008080; text-decoration-color: #008080; font-weight: bold\">4.17741</span> <span style=\"color: #0000ff; text-decoration-color: #0000ff\">dt</span>=<span style=\"color: #008080; text-decoration-color: #008080; font-weight: bold\">0.0188218</span> <span style=\"color: #0000ff; text-decoration-color: #0000ff\">dtf</span>=<span style=\"color: #008080; text-decoration-color: #008080; font-weight: bold\">0.018393</span> <span style=\"color: #0000ff; text-decoration-color: #0000ff\">dtb</span>=<span style=\"color: #008080; text-decoration-color: #008080; font-weight: bold\">0.000156083</span> <span style=\"color: #0000ff; text-decoration-color: #0000ff\">sps</span>=<span style=\"color: #008080; text-decoration-color: #008080; font-weight: bold\">53.1299</span> <span style=\"color: #0000ff; text-decoration-color: #0000ff\">sps_per_gpu</span>=<span style=\"color: #008080; text-decoration-color: #008080; font-weight: bold\">53.1299</span> <span style=\"color: #0000ff; text-decoration-color: #0000ff\">tps</span>=<span style=\"color: #008080; text-decoration-color: #008080; font-weight: bold\">6800.63</span> <span style=\"color: #0000ff; text-decoration-color: #0000ff\">tps_per_gpu</span>=<span style=\"color: #008080; text-decoration-color: #008080; font-weight: bold\">6800.63</span> <span style=\"color: #0000ff; text-decoration-color: #0000ff\">mfu</span>=<span style=\"color: #008080; text-decoration-color: #008080; font-weight: bold\">0.130217</span>\n",
              "</pre>"
            ]
          }
        },
        {
          "output_type": "display_data",
          "metadata": {},
          "data": {
            "text/html": [
              "<pre style=\"white-space:pre;overflow-x:auto;line-height:normal;font-family:Menlo,'DejaVu Sans Mono',consolas,'Courier New',monospace\">[<span style=\"color: #7f7f7f; text-decoration-color: #7f7f7f\">2025-07-23 08:59:24,786397</span>][<span style=\"color: #008000; text-decoration-color: #008000\">I</span>][<span style=\"color: #008080; text-decoration-color: #008080; font-style: italic\">wordplay</span>/<span style=\"color: #000080; text-decoration-color: #000080\">trainer</span><span style=\"color: #0000ff; text-decoration-color: #0000ff\">:</span><span style=\"color: #800080; text-decoration-color: #800080\">850</span>]<span style=\"color: #c0c0c0; text-decoration-color: #c0c0c0\"> </span><span style=\"color: #0000ff; text-decoration-color: #0000ff\">step</span>=<span style=\"color: #008080; text-decoration-color: #008080; font-weight: bold\">980</span> <span style=\"color: #0000ff; text-decoration-color: #0000ff\">loss</span>=<span style=\"color: #008080; text-decoration-color: #008080; font-weight: bold\">4.1707</span> <span style=\"color: #0000ff; text-decoration-color: #0000ff\">dt</span>=<span style=\"color: #008080; text-decoration-color: #008080; font-weight: bold\">0.0187595</span> <span style=\"color: #0000ff; text-decoration-color: #0000ff\">dtf</span>=<span style=\"color: #008080; text-decoration-color: #008080; font-weight: bold\">0.0184091</span> <span style=\"color: #0000ff; text-decoration-color: #0000ff\">dtb</span>=<span style=\"color: #008080; text-decoration-color: #008080; font-weight: bold\">0.000133</span> <span style=\"color: #0000ff; text-decoration-color: #0000ff\">sps</span>=<span style=\"color: #008080; text-decoration-color: #008080; font-weight: bold\">53.3063</span> <span style=\"color: #0000ff; text-decoration-color: #0000ff\">sps_per_gpu</span>=<span style=\"color: #008080; text-decoration-color: #008080; font-weight: bold\">53.3063</span> <span style=\"color: #0000ff; text-decoration-color: #0000ff\">tps</span>=<span style=\"color: #008080; text-decoration-color: #008080; font-weight: bold\">6823.21</span> <span style=\"color: #0000ff; text-decoration-color: #0000ff\">tps_per_gpu</span>=<span style=\"color: #008080; text-decoration-color: #008080; font-weight: bold\">6823.21</span> <span style=\"color: #0000ff; text-decoration-color: #0000ff\">mfu</span>=<span style=\"color: #008080; text-decoration-color: #008080; font-weight: bold\">0.13194</span>\n",
              "</pre>"
            ]
          }
        },
        {
          "output_type": "display_data",
          "metadata": {},
          "data": {
            "text/html": [
              "<pre style=\"white-space:pre;overflow-x:auto;line-height:normal;font-family:Menlo,'DejaVu Sans Mono',consolas,'Courier New',monospace\">[<span style=\"color: #7f7f7f; text-decoration-color: #7f7f7f\">2025-07-23 08:59:25,033484</span>][<span style=\"color: #008000; text-decoration-color: #008000\">I</span>][<span style=\"color: #008080; text-decoration-color: #008080; font-style: italic\">wordplay</span>/<span style=\"color: #000080; text-decoration-color: #000080\">trainer</span><span style=\"color: #0000ff; text-decoration-color: #0000ff\">:</span><span style=\"color: #800080; text-decoration-color: #800080\">850</span>]<span style=\"color: #c0c0c0; text-decoration-color: #c0c0c0\"> </span><span style=\"color: #0000ff; text-decoration-color: #0000ff\">step</span>=<span style=\"color: #008080; text-decoration-color: #008080; font-weight: bold\">990</span> <span style=\"color: #0000ff; text-decoration-color: #0000ff\">loss</span>=<span style=\"color: #008080; text-decoration-color: #008080; font-weight: bold\">4.1891</span> <span style=\"color: #0000ff; text-decoration-color: #0000ff\">dt</span>=<span style=\"color: #008080; text-decoration-color: #008080; font-weight: bold\">0.0312155</span> <span style=\"color: #0000ff; text-decoration-color: #0000ff\">dtf</span>=<span style=\"color: #008080; text-decoration-color: #008080; font-weight: bold\">0.0285192</span> <span style=\"color: #0000ff; text-decoration-color: #0000ff\">dtb</span>=<span style=\"color: #008080; text-decoration-color: #008080; font-weight: bold\">0.000297542</span> <span style=\"color: #0000ff; text-decoration-color: #0000ff\">sps</span>=<span style=\"color: #008080; text-decoration-color: #008080; font-weight: bold\">32.0354</span> <span style=\"color: #0000ff; text-decoration-color: #0000ff\">sps_per_gpu</span>=<span style=\"color: #008080; text-decoration-color: #008080; font-weight: bold\">32.0354</span> <span style=\"color: #0000ff; text-decoration-color: #0000ff\">tps</span>=<span style=\"color: #008080; text-decoration-color: #008080; font-weight: bold\">4100.53</span> <span style=\"color: #0000ff; text-decoration-color: #0000ff\">tps_per_gpu</span>=<span style=\"color: #008080; text-decoration-color: #008080; font-weight: bold\">4100.53</span> <span style=\"color: #0000ff; text-decoration-color: #0000ff\">mfu</span>=<span style=\"color: #008080; text-decoration-color: #008080; font-weight: bold\">0.127607</span>\n",
              "</pre>"
            ]
          }
        },
        {
          "output_type": "display_data",
          "metadata": {},
          "data": {
            "text/html": [
              "<pre style=\"white-space:pre;overflow-x:auto;line-height:normal;font-family:Menlo,'DejaVu Sans Mono',consolas,'Courier New',monospace\">[<span style=\"color: #7f7f7f; text-decoration-color: #7f7f7f\">2025-07-23 08:59:25,427635</span>][<span style=\"color: #008000; text-decoration-color: #008000\">I</span>][<span style=\"color: #008080; text-decoration-color: #008080; font-style: italic\">wordplay</span>/<span style=\"color: #000080; text-decoration-color: #000080\">trainer</span><span style=\"color: #0000ff; text-decoration-color: #0000ff\">:</span><span style=\"color: #800080; text-decoration-color: #800080\">850</span>]<span style=\"color: #c0c0c0; text-decoration-color: #c0c0c0\"> </span><span style=\"color: #0000ff; text-decoration-color: #0000ff\">step</span>=<span style=\"color: #008080; text-decoration-color: #008080; font-weight: bold\">1000</span> <span style=\"color: #0000ff; text-decoration-color: #0000ff\">loss</span>=<span style=\"color: #008080; text-decoration-color: #008080; font-weight: bold\">4.2423</span> <span style=\"color: #0000ff; text-decoration-color: #0000ff\">dt</span>=<span style=\"color: #008080; text-decoration-color: #008080; font-weight: bold\">0.0245103</span> <span style=\"color: #0000ff; text-decoration-color: #0000ff\">dtf</span>=<span style=\"color: #008080; text-decoration-color: #008080; font-weight: bold\">0.0234686</span> <span style=\"color: #0000ff; text-decoration-color: #0000ff\">dtb</span>=<span style=\"color: #008080; text-decoration-color: #008080; font-weight: bold\">0.000533542</span> <span style=\"color: #0000ff; text-decoration-color: #0000ff\">sps</span>=<span style=\"color: #008080; text-decoration-color: #008080; font-weight: bold\">40.7992</span> <span style=\"color: #0000ff; text-decoration-color: #0000ff\">sps_per_gpu</span>=<span style=\"color: #008080; text-decoration-color: #008080; font-weight: bold\">40.7992</span> <span style=\"color: #0000ff; text-decoration-color: #0000ff\">tps</span>=<span style=\"color: #008080; text-decoration-color: #008080; font-weight: bold\">5222.3</span> <span style=\"color: #0000ff; text-decoration-color: #0000ff\">tps_per_gpu</span>=<span style=\"color: #008080; text-decoration-color: #008080; font-weight: bold\">5222.3</span> <span style=\"color: #0000ff; text-decoration-color: #0000ff\">mfu</span>=<span style=\"color: #008080; text-decoration-color: #008080; font-weight: bold\">0.126131</span>\n",
              "</pre>"
            ]
          }
        }
      ],
      "source": [
        "trainer.train()"
      ],
      "id": "d28ce9bf"
    },
    {
      "cell_type": "markdown",
      "metadata": {},
      "source": [
        "## Evaluate Model"
      ],
      "id": "df74752a-fa0f-436a-ac9c-ce2493a8941b"
    },
    {
      "cell_type": "code",
      "execution_count": 12,
      "metadata": {
        "quarto-private-1": {
          "key": "jupyter",
          "value": {
            "outputs_hidden": false,
            "source_hidden": false
          }
        }
      },
      "outputs": [
        {
          "output_type": "display_data",
          "metadata": {},
          "data": {
            "text/html": [
              "<pre style=\"white-space:pre;overflow-x:auto;line-height:normal;font-family:Menlo,'DejaVu Sans Mono',consolas,'Courier New',monospace\">[<span style=\"color: #7f7f7f; text-decoration-color: #7f7f7f\">2025-07-23 08:59:27,718951</span>][<span style=\"color: #008000; text-decoration-color: #008000\">I</span>][<span style=\"color: #008080; text-decoration-color: #008080; font-style: italic\">ipykernel_34035</span>/<span style=\"color: #000080; text-decoration-color: #000080\">582817405</span><span style=\"color: #0000ff; text-decoration-color: #0000ff\">:</span><span style=\"color: #800080; text-decoration-color: #800080\">12</span><span style=\"color: #0000ff; text-decoration-color: #0000ff\">:</span><span style=\"color: #00ff00; text-decoration-color: #00ff00; font-style: italic\">ezpz.log</span>]<span style=\"color: #c0c0c0; text-decoration-color: #c0c0c0\"> </span>took: <span style=\"color: #008080; text-decoration-color: #008080; font-weight: bold\">1.</span>9260s\n",
              "</pre>"
            ]
          }
        },
        {
          "output_type": "display_data",
          "metadata": {},
          "data": {
            "text/html": [
              "<pre style=\"white-space:pre;overflow-x:auto;line-height:normal;font-family:Menlo,'DejaVu Sans Mono',consolas,'Courier New',monospace\">[<span style=\"color: #7f7f7f; text-decoration-color: #7f7f7f\">2025-07-23 08:59:27,724831</span>][<span style=\"color: #008000; text-decoration-color: #008000\">I</span>][<span style=\"color: #008080; text-decoration-color: #008080; font-style: italic\">ipykernel_34035</span>/<span style=\"color: #000080; text-decoration-color: #000080\">582817405</span><span style=\"color: #0000ff; text-decoration-color: #0000ff\">:</span><span style=\"color: #800080; text-decoration-color: #800080\">13</span><span style=\"color: #0000ff; text-decoration-color: #0000ff\">:</span><span style=\"color: #00ff00; text-decoration-color: #00ff00; font-style: italic\">ezpz.log</span>]<span style=\"color: #c0c0c0; text-decoration-color: #c0c0c0\"> </span><span style=\"color: #ff00ff; text-decoration-color: #ff00ff\">[</span><span style=\"color: #008000; text-decoration-color: #008000\">'prompt'</span><span style=\"color: #ff00ff; text-decoration-color: #ff00ff\">]</span>: <span style=\"color: #008000; text-decoration-color: #008000\">'What is an LLM?'</span>\n",
              "</pre>"
            ]
          }
        },
        {
          "output_type": "display_data",
          "metadata": {},
          "data": {
            "text/html": [
              "<pre style=\"white-space:pre;overflow-x:auto;line-height:normal;font-family:Menlo,'DejaVu Sans Mono',consolas,'Courier New',monospace\">[<span style=\"color: #7f7f7f; text-decoration-color: #7f7f7f\">2025-07-23 08:59:27,726479</span>][<span style=\"color: #008000; text-decoration-color: #008000\">I</span>][<span style=\"color: #008080; text-decoration-color: #008080; font-style: italic\">ipykernel_34035</span>/<span style=\"color: #000080; text-decoration-color: #000080\">582817405</span><span style=\"color: #0000ff; text-decoration-color: #0000ff\">:</span><span style=\"color: #800080; text-decoration-color: #800080\">14</span><span style=\"color: #0000ff; text-decoration-color: #0000ff\">:</span><span style=\"color: #00ff00; text-decoration-color: #00ff00; font-style: italic\">ezpz.log</span>]<span style=\"color: #c0c0c0; text-decoration-color: #c0c0c0\"> </span><span style=\"color: #ff00ff; text-decoration-color: #ff00ff\">[</span><span style=\"color: #008000; text-decoration-color: #008000\">'response'</span><span style=\"color: #ff00ff; text-decoration-color: #ff00ff\">]</span>:\n",
              "\n",
              "What is an LLM?ZxxA---<span style=\"color: #008000; text-decoration-color: #008000\">'aaaaeeewAAAAA'''</span>qqqqqqqqqqqqaeeqqqqqq'<span style=\"color: #008000; text-decoration-color: #008000\">'333qqAAA33akkk''qqqqqorrrrrrrrrrqqqqqqq.qe333aaaqqqqqf..qqqqqqq3333333-qqqqbbb''ggSSpMMMqqqqMMqqqqqqqqWW;?;?;?;???;;??MMMM;;;;;;??;;;;;;;;''''';??qqqqqqqW;;'''''''''''''</span>;;;;;;;;;;;;;;;;;;;;;;;;;;;;;;;;'tttttMM\n",
              "</pre>"
            ]
          }
        }
      ],
      "source": [
        "import time\n",
        "\n",
        "query = \"What is an LLM?\"\n",
        "t0 = time.perf_counter()\n",
        "outputs = trainer.evaluate(\n",
        "    query,\n",
        "    num_samples=1,\n",
        "    max_new_tokens=256,\n",
        "    top_k=2,\n",
        "    display=False\n",
        ")\n",
        "logger.info(f'took: {time.perf_counter() - t0:.4f}s')\n",
        "logger.info(f\"['prompt']: '{query}'\")\n",
        "logger.info(\"['response']:\\n\\n\" + fr\"{outputs['0']['raw']}\")"
      ],
      "id": "61855288"
    }
  ],
  "nbformat": 4,
  "nbformat_minor": 5,
  "metadata": {
    "kernelspec": {
      "name": "python3",
      "display_name": "Python 3 (ipykernel)",
      "language": "python",
      "path": "/Users/samforeman/projects/saforem2/intro-hpc-bootcamp-2025/.venv/share/jupyter/kernels/python3"
    },
    "language_info": {
      "name": "python",
      "codemirror_mode": {
        "name": "ipython",
        "version": "3"
      },
      "file_extension": ".py",
      "mimetype": "text/x-python",
      "nbconvert_exporter": "python",
      "pygments_lexer": "ipython3",
      "version": "3.13.1"
    }
  }
}