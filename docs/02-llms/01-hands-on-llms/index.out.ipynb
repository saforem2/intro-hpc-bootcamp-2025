{
  "cells": [
    {
      "cell_type": "markdown",
      "metadata": {},
      "source": [
        "# Hands On: Introduction to Large Language Models (LLMs)\n",
        "\n",
        "[Sam Foreman](https://samforeman.me)\n",
        "(\\[[ALCF](https://alcf.anl.gov/about/people/sam-foreman)\\](<https://alcf.anl.gov/about/people/sam-foreman>))  \n",
        "2025-07-23\n",
        "\n",
        "<a href=\"https://colab.research.google.com/github/saforem2/intro-hpc-bootcamp-2025/blob/main/02-llms/01-hands-on-llms/index.ipynb\" target=\"_parent\"><img src=\"https://colab.research.google.com/assets/colab-badge.svg\" alt=\"Open In Colab\"/></a>\n",
        "\n",
        "> **Authors**\n",
        ">\n",
        "> Content in this notebook is modified from content originally written\n",
        "> by:\n",
        ">\n",
        "> -   Archit Vasan, Huihuo Zheng, Marieme Ngom, Bethany Lusch, Taylor\n",
        ">     Childers, Venkat Vishwanath\n",
        ">\n",
        "> Inspiration from the blog posts “The Illustrated Transformer” and “The\n",
        "> Illustrated GPT2” by Jay Alammar, highly recommended reading.\n",
        "\n",
        "## Outline\n",
        "\n",
        "Although the name “language models” is derived from Natural Language\n",
        "Processing, the models used in these approaches can be applied to\n",
        "diverse scientific applications as illustrated below.\n",
        "\n",
        "During this session I will cover:\n",
        "\n",
        "1.  Scientific applications for language models\n",
        "2.  General overview of Transformers\n",
        "3.  Tokenization\n",
        "4.  Model Architecture\n",
        "5.  Pipeline using HuggingFace\n",
        "6.  Model loading\n",
        "\n",
        "## Modeling Sequential Data\n",
        "\n",
        "Sequences are variable-length lists with data in subsequent iterations\n",
        "that depends on previous iterations (or tokens).\n",
        "\n",
        "Mathematically:\n",
        "\n",
        "A sequence is a list of tokens:\n",
        "\n",
        "$$T = [T_1, T_2, T_3,...,T_N]$$\n",
        "\n",
        "where each token within the list depends on the others with a particular\n",
        "probability:\n",
        "\n",
        "$$P(t_N | t_{N-1}, ..., t_3, t_2, t_1)$$\n",
        "\n",
        "The purpose of sequential modeling is to learn these probabilities for\n",
        "possible tokens in a distribution to perform various tasks including:\n",
        "\n",
        "-   Sequence generation based on a prompt\n",
        "-   Language translation (e.g. English –\\> French)\n",
        "-   Property prediction (predicting a property based on an entire\n",
        "    sequence)\n",
        "-   Identifying mistakes or missing elements in sequential data\n",
        "\n",
        "## Scientific sequential data modeling examples\n",
        "\n",
        "### Nucleic acid sequences + genomic data\n",
        "\n",
        "<figure id=\"fig-RNA-codons\">\n",
        "<img\n",
        "src=\"https://github.com/architvasan/ai_science_local/blob/main/images/RNA-codons.svg.png?raw=1\" />\n",
        "<figcaption>Figure 1: RNA Codons</figcaption>\n",
        "</figure>\n",
        "\n",
        "Nucleic acid sequences can be used to predict translation of proteins,\n",
        "mutations, and gene expression levels.\n",
        "\n",
        "Here is an image of GenSLM. This is a language model developed by\n",
        "Argonne researchers that can model genomic information in a single\n",
        "model. It was shown to model the evolution of SARS-COV2 without\n",
        "expensive experiments.\n",
        "\n",
        "<figure id=\"fig-genslm\">\n",
        "<img\n",
        "src=\"https://github.com/architvasan/ai_science_local/blob/main/images/genslm.png?raw=1\" />\n",
        "<figcaption>Figure 2: Genomic Scale Language Models (GenSLM) <a\n",
        "href=\"https://www.biorxiv.org/content/10.1101/2022.10.10.511571v1\">Zvyagin\n",
        "et. al 2022. BioRXiv</a></figcaption>\n",
        "</figure>\n",
        "\n",
        "### Protein sequences\n",
        "\n",
        "Protein sequences can be used to predict folding structure,\n",
        "protein-protein interactions, chemical/binding properties, protein\n",
        "function and many more properties.\n",
        "\n",
        "<figure id=\"fig-protein-structure\">\n",
        "<img\n",
        "src=\"https://github.com/architvasan/ai_science_local/blob/main/images/Protein-Structure-06.png?raw=1\" />\n",
        "<figcaption>Figure 3: Protein Structure</figcaption>\n",
        "</figure>\n",
        "\n",
        "<figure id=\"fig-esmfold\">\n",
        "<img\n",
        "src=\"https://github.com/argonne-lcf/ai-science-training-series/blob/main/04_intro_to_llms/images/ESMFold.png?raw=1\" />\n",
        "<figcaption>Figure 4: ESMFold <a\n",
        "href=\"https://www.science.org/doi/10.1126/science.ade2574\">Lin et.\n",
        "al. 2023. Science</a></figcaption>\n",
        "</figure>\n",
        "\n",
        "### Other applications\n",
        "\n",
        "-   Biomedical text\n",
        "-   SMILES strings\n",
        "-   Weather predictions\n",
        "-   Interfacing with simulations such as molecular dynamics simulation\n",
        "\n",
        "## Overview of Language models\n",
        "\n",
        "We will now briefly talk about the progression of language models.\n",
        "\n",
        "### Transformers\n",
        "\n",
        "The most common LMs base their design on the Transformer architecture\n",
        "that was introduced in 2017 in the “Attention is all you need” paper.\n",
        "\n",
        "<figure id=\"fig-attention-is-all-you-need\">\n",
        "<img\n",
        "src=\"https://github.com/architvasan/ai_science_local/blob/main/images/attention_is_all_you_need.png?raw=1\" />\n",
        "<figcaption>Figure 5: Attention is all you need <a\n",
        "href=\"https://arxiv.org/pdf/1706.03762\">Vaswani 2017. Advances in Neural\n",
        "Information Processing Systems</a></figcaption>\n",
        "</figure>\n",
        "\n",
        "Since then a multitude of LLM architectures have been designed.\n",
        "\n",
        "<figure id=\"fig-ch1-transformers\">\n",
        "<img\n",
        "src=\"https://github.com/architvasan/ai_science_local/blob/main/images/en_chapter1_transformers_chrono.svg?raw=1\" />\n",
        "<figcaption>Figure 6: Transformers, chronologically</figcaption>\n",
        "</figure>\n",
        "\n",
        "[HuggingFace NLP\n",
        "Course](https://huggingface.co/learn/nlp-course/chapter1/4)\n",
        "\n",
        "## Coding example of LLMs in action!\n",
        "\n",
        "Let’s look at an example of running inference with a LLM as a block box\n",
        "to generate text given a prompt and we will also initiate a training\n",
        "loop for an LLM\n",
        "\n",
        "Here, we will use the `transformers` library which is as part of\n",
        "HuggingFace, a repository of different models, tokenizers and\n",
        "information on how to apply these models\n",
        "\n",
        "> **🦜 Stochastic Parrots**\n",
        ">\n",
        "> **Warning**: *Large Language Models are only as good as their training\n",
        "> data*.\n",
        ">\n",
        "> They have no ethics, judgement, or editing ability.\n",
        ">\n",
        "> We will be using some pretrained models from Hugging Face which used\n",
        "> wide samples of internet hosted text.\n",
        ">\n",
        "> The datasets have not been strictly filtered to restrict all malign\n",
        "> content so the generated text may be surprisingly dark or\n",
        "> questionable.\n",
        ">\n",
        "> They do not reflect our core values and are only used for\n",
        "> demonstration purposes."
      ],
      "id": "9578b0ae-1d45-46cf-97e4-1742e5554a0c"
    },
    {
      "cell_type": "raw",
      "metadata": {
        "raw_mimetype": "text/html"
      },
      "source": [
        "<details closed>"
      ],
      "id": "72990032-7fe8-451c-9fcb-6a41e65e3fba"
    },
    {
      "cell_type": "raw",
      "metadata": {
        "raw_mimetype": "text/html"
      },
      "source": [
        "<summary>"
      ],
      "id": "796996c8-a56a-4807-85ae-cce3094ba505"
    },
    {
      "cell_type": "raw",
      "metadata": {
        "raw_mimetype": "text/html"
      },
      "source": [
        "<h2>"
      ],
      "id": "cdd2db4a-c058-4d20-8f79-f6a7390364f5"
    },
    {
      "cell_type": "markdown",
      "metadata": {},
      "source": [
        "🏃‍♂️ Running @ ALCF"
      ],
      "id": "bf463699-0ec5-45c6-ab37-ff035ef40dab"
    },
    {
      "cell_type": "raw",
      "metadata": {
        "raw_mimetype": "text/html"
      },
      "source": [
        "</h2>"
      ],
      "id": "3b69e4c4-d0e0-4ea3-b777-c42c37ffa267"
    },
    {
      "cell_type": "raw",
      "metadata": {
        "raw_mimetype": "text/html"
      },
      "source": [
        "</summary>"
      ],
      "id": "36984701-c2d8-4500-a9fa-cd0bfc82ddae"
    },
    {
      "cell_type": "markdown",
      "metadata": {},
      "source": [
        "-   If running this notebook on any of the ALCF machines, be sure to:\n",
        "\n",
        "    ``` python\n",
        "    import os\n",
        "    os.environ[\"HTTP_PROXY\"]=\"proxy.alcf.anl.gov:3128\"\n",
        "    os.environ[\"HTTPS_PROXY\"]=\"proxy.alcf.anl.gov:3128\"\n",
        "    os.environ[\"http_proxy\"]=\"proxy.alcf.anl.gov:3128\"\n",
        "    os.environ[\"https_proxy\"]=\"proxy.alcf.anl.gov:3128\"\n",
        "    os.environ[\"ftp_proxy\"]=\"proxy.alcf.anl.gov:3128\"\n",
        "    ```"
      ],
      "id": "7d3e7c0a-b12a-4d61-ba1d-3be389f5e60e"
    },
    {
      "cell_type": "raw",
      "metadata": {
        "raw_mimetype": "text/html"
      },
      "source": [
        "</details>"
      ],
      "id": "c1aa078f-bfa0-49e7-bb0b-979e3571779a"
    },
    {
      "cell_type": "markdown",
      "metadata": {},
      "source": [
        "## 🧑‍💻 Hands On"
      ],
      "id": "a3f70430-2274-4f2f-9413-c5dc1181ba6c"
    },
    {
      "cell_type": "code",
      "execution_count": 1,
      "metadata": {
        "quarto-private-1": {
          "key": "execution",
          "value": {
            "iopub.execute_input": "2025-08-01T21:20:53.859224Z",
            "iopub.status.busy": "2025-08-01T21:20:53.858981Z",
            "iopub.status.idle": "2025-08-01T21:20:53.861469Z",
            "shell.execute_reply": "2025-08-01T21:20:53.860960Z",
            "shell.execute_reply.started": "2025-08-01T21:20:53.859210Z"
          }
        }
      },
      "outputs": [],
      "source": [
        "#!pip install transformers\n",
        "#!pip install pandas\n",
        "#!pip install torch"
      ],
      "id": "cell-1"
    },
    {
      "cell_type": "code",
      "execution_count": 2,
      "metadata": {
        "quarto-private-1": {
          "key": "execution",
          "value": {
            "iopub.execute_input": "2025-08-01T21:20:55.331034Z",
            "iopub.status.busy": "2025-08-01T21:20:55.330879Z",
            "iopub.status.idle": "2025-08-01T21:20:55.391288Z",
            "shell.execute_reply": "2025-08-01T21:20:55.390972Z",
            "shell.execute_reply.started": "2025-08-01T21:20:55.331023Z"
          }
        }
      },
      "outputs": [],
      "source": [
        "%load_ext autoreload\n",
        "%autoreload 2"
      ],
      "id": "cell-2"
    },
    {
      "cell_type": "code",
      "execution_count": 3,
      "metadata": {
        "quarto-private-1": {
          "key": "execution",
          "value": {
            "iopub.execute_input": "2025-08-01T21:21:03.917811Z",
            "iopub.status.busy": "2025-08-01T21:21:03.917545Z",
            "iopub.status.idle": "2025-08-01T21:21:08.369950Z",
            "shell.execute_reply": "2025-08-01T21:21:08.369757Z",
            "shell.execute_reply.started": "2025-08-01T21:21:03.917792Z"
          }
        }
      },
      "outputs": [],
      "source": [
        "import ezpz\n",
        "import ambivalent\n",
        "import matplotlib.pyplot as plt\n",
        "import seaborn as sns\n",
        "from rich import print\n",
        "\n",
        "plt.style.use(ambivalent.STYLES[\"ambivalent\"])\n",
        "sns.set_context(\"notebook\")\n",
        "plt.rcParams[\"figure.figsize\"] = [6.4, 4.8]"
      ],
      "id": "cell-3"
    },
    {
      "cell_type": "code",
      "execution_count": 4,
      "metadata": {
        "quarto-private-1": {
          "key": "execution",
          "value": {
            "iopub.execute_input": "2025-08-01T21:21:19.191490Z",
            "iopub.status.busy": "2025-08-01T21:21:19.190975Z",
            "iopub.status.idle": "2025-08-01T21:21:47.769024Z",
            "shell.execute_reply": "2025-08-01T21:21:47.768319Z",
            "shell.execute_reply.started": "2025-08-01T21:21:19.191474Z"
          }
        }
      },
      "outputs": [
        {
          "output_type": "display_data",
          "metadata": {},
          "data": {
            "application/vnd.jupyter.widget-view+json": {
              "model_id": "6ec6886a3c9147daaac7dc2b750bff3a",
              "version_major": 2,
              "version_minor": 0
            }
          }
        }
      ],
      "source": [
        "from transformers import AutoConfig, AutoModelForCausalLM, AutoTokenizer, pipeline\n",
        "\n",
        "input_text = \"What is the ALCF?\"\n",
        "generator = pipeline(\"text-generation\", model=\"gpt2\")\n",
        "\n",
        "pipe = pipeline(\"text-generation\", model=\"meta-llama/Llama-3.2-3B\")\n",
        "output = generator(input_text, max_length=20, num_return_sequences=2)"
      ],
      "id": "cell-4"
    },
    {
      "cell_type": "code",
      "execution_count": 5,
      "metadata": {
        "quarto-private-1": {
          "key": "execution",
          "value": {
            "iopub.execute_input": "2025-08-01T21:21:47.770212Z",
            "iopub.status.busy": "2025-08-01T21:21:47.770091Z",
            "iopub.status.idle": "2025-08-01T21:21:47.823357Z",
            "shell.execute_reply": "2025-08-01T21:21:47.823180Z",
            "shell.execute_reply.started": "2025-08-01T21:21:47.770200Z"
          }
        },
        "scrolled": true
      },
      "outputs": [
        {
          "output_type": "display_data",
          "metadata": {},
          "data": {
            "text/html": [
              "<pre style=\"white-space:pre;overflow-x:auto;line-height:normal;font-family:Menlo,'DejaVu Sans Mono',consolas,'Courier New',monospace\">Response <span style=\"color: #008080; text-decoration-color: #008080; font-weight: bold\">0</span>:\n",
              "        What is the ALCF?  The ALCF is a process to determine the level of calcium contained in the blood. This \n",
              "level is determined by measuring the amount of calcium present in the blood:  The amount of calcium present in the \n",
              "blood is measured in milligrams per deciliter <span style=\"font-weight: bold\">(</span>mg/dL<span style=\"font-weight: bold\">)</span> or milliliters per milliliter.  <span style=\"font-weight: bold\">(</span>mg/dL<span style=\"font-weight: bold\">)</span> or milliliters per \n",
              "milliliter. The number of milliliters per milliliter is determined by calculating the square root of the number of \n",
              "milliliters per milliliter.  is determined by calculating the square root of the number of milliliters per \n",
              "milliliter. The number of milliliters per milliliter is determined by calculating the square root of the number of \n",
              "milliliters per milliliter. The amount of calcium in the blood is measured in milligrams per liter <span style=\"font-weight: bold\">(</span>mg/dL<span style=\"font-weight: bold\">)</span> or \n",
              "milliliters per liter.  is measured in milligrams per liter <span style=\"font-weight: bold\">(</span>mg/dL<span style=\"font-weight: bold\">)</span> or milliliters per liter. The number of \n",
              "milliliters per milliliter is determined by calculating the square root of the number of milliliters per \n",
              "milliliter. The amount of calcium in the blood is measured in milligrams per\n",
              "</pre>"
            ]
          }
        },
        {
          "output_type": "display_data",
          "metadata": {},
          "data": {
            "text/html": [
              "<pre style=\"white-space:pre;overflow-x:auto;line-height:normal;font-family:Menlo,'DejaVu Sans Mono',consolas,'Courier New',monospace\">Response <span style=\"color: #008080; text-decoration-color: #008080; font-weight: bold\">1</span>:\n",
              "        What is the ALCF?  The ALCF is intended to help prevent a car's failure by preventing mechanical failure \n",
              "and by preventing excessive power loss.  The ALCF is developed by the ALCF Technology Division of the UCI, and the \n",
              "ALCF is currently used by the FIA.  How much does the ALCF cost?  The ALCF costs €<span style=\"color: #008080; text-decoration-color: #008080; font-weight: bold\">90</span>,<span style=\"color: #008080; text-decoration-color: #008080; font-weight: bold\">000</span>.  How much does the ALCF \n",
              "service an entire season?  The ALCF costs €<span style=\"color: #008080; text-decoration-color: #008080; font-weight: bold\">50</span>,<span style=\"color: #008080; text-decoration-color: #008080; font-weight: bold\">000</span>.  How much does the ALCF run in a race?  The ALCF runs in a race.\n",
              "What is the ALCF's fuel capacity?  The ALCF's fuel capacity is measured in BTUs.  What is the ALCF's road capacity?\n",
              "The ALCF's road capacity is measured in BTUs.  The ALCF's fuel efficiency will vary depending on the type of car.  \n",
              "What is the ALCF's fuel economy?  The ALCF's fuel economy will vary depending on the type of car.  What is the \n",
              "ALCF's fuel efficiency rating?  The ALCF's fuel efficiency\n",
              "</pre>"
            ]
          }
        }
      ],
      "source": [
        "import rich\n",
        "\n",
        "for i, response in enumerate([i[\"generated_text\"] for i in output]):\n",
        "    # print(f\"Response {i}:\\n\\t{' '.join(response.split('\\n'))}\")\n",
        "    # rich.print(f\"Response {i}:\\n\\t{' '.join(response.split('\\n'))}\")\n",
        "    print(f\"Response {i}:\\n\\t{' '.join(response.split('\\n'))}\")\n",
        "# print(\"\\n\".join([f\"Response {i}: {c}\"] for i, c in enumerate(outputs)))"
      ],
      "id": "cell-5"
    },
    {
      "cell_type": "markdown",
      "metadata": {},
      "source": [
        "## What’s going on under the hood?\n",
        "\n",
        "There are two components that are “black-boxes” here:\n",
        "\n",
        "1.  The method for tokenization\n",
        "2.  The model that generates novel text.\n",
        "\n",
        "## Tokenization and embedding of sequential data\n",
        "\n",
        "Humans can inherently understand language data because they previously\n",
        "learned phonetic sounds.\n",
        "\n",
        "Machines don’t have phonetic knowledge so they need to be told how to\n",
        "break text into standard units to process it.\n",
        "\n",
        "They use a system called “tokenization”, where sequences of text are\n",
        "broken into smaller parts, or “tokens”, and then fed as input.\n",
        "\n",
        "<figure id=\"fig-ai-science-local\">\n",
        "<img\n",
        "src=\"https://github.com/architvasan/ai_science_local/blob/main/images/text-processing---machines-vs-humans.png?raw=1\" />\n",
        "<figcaption>Figure 7</figcaption>\n",
        "</figure>\n",
        "\n",
        "Tokenization is a data preprocessing step which transforms the raw text\n",
        "data into a format suitable for machine learning models. Tokenizers\n",
        "break down raw text into smaller units called tokens. These tokens are\n",
        "what is fed into the language models. Based on the type and\n",
        "configuration of the tokenizer, these tokens can be words, subwords, or\n",
        "characters.\n",
        "\n",
        "Types of tokenizers:\n",
        "\n",
        "1.  Character Tokenizers: Split text into individual characters.\n",
        "2.  Word Tokenizers: Split text into words based on whitespace or\n",
        "    punctuation.\n",
        "3.  Subword Tokenizers: Split text into subword units, such as morphemes\n",
        "    or character n-grams. Common subword tokenization algorithms\n",
        "    include:\n",
        "    1.  Byte-Pair Encoding (BPE),\n",
        "    2.  SentencePiece,\n",
        "    3.  WordPiece.\n",
        "\n",
        "<figure id=\"fig-tokenization-image\">\n",
        "<img\n",
        "src=\"https://github.com/architvasan/ai_science_local/blob/main/images/tokenization_image.webp?raw=1\" />\n",
        "<figcaption>Figure 8</figcaption>\n",
        "</figure>\n",
        "\n",
        "[nlpiation](https://nlpiation.medium.com/how-to-use-huggingfaces-transformers-pre-trained-tokenizers-e029e8d6d1fa)\n",
        "\n",
        "### Example of tokenization\n",
        "\n",
        "Let’s look at an example of tokenization using byte-pair encoding."
      ],
      "id": "dc65506a-ee76-4f1d-bd89-1d11d8a291d2"
    },
    {
      "cell_type": "code",
      "execution_count": 6,
      "metadata": {
        "quarto-private-1": {
          "key": "execution",
          "value": {
            "iopub.execute_input": "2025-08-01T21:21:47.823893Z",
            "iopub.status.busy": "2025-08-01T21:21:47.823790Z",
            "iopub.status.idle": "2025-08-01T21:21:48.238281Z",
            "shell.execute_reply": "2025-08-01T21:21:48.238142Z",
            "shell.execute_reply.started": "2025-08-01T21:21:47.823885Z"
          }
        }
      },
      "outputs": [
        {
          "output_type": "display_data",
          "metadata": {},
          "data": {
            "text/html": [
              "<pre style=\"white-space:pre;overflow-x:auto;line-height:normal;font-family:Menlo,'DejaVu Sans Mono',consolas,'Courier New',monospace\">Subset of tokenizer.vocab:\n",
              "</pre>"
            ]
          }
        },
        {
          "output_type": "display_data",
          "metadata": {},
          "data": {
            "text/html": [
              "<pre style=\"white-space:pre;overflow-x:auto;line-height:normal;font-family:Menlo,'DejaVu Sans Mono',consolas,'Courier New',monospace\">ĠFestival: <span style=\"color: #008080; text-decoration-color: #008080; font-weight: bold\">11117</span>\n",
              "</pre>"
            ]
          }
        },
        {
          "output_type": "display_data",
          "metadata": {},
          "data": {
            "text/html": [
              "<pre style=\"white-space:pre;overflow-x:auto;line-height:normal;font-family:Menlo,'DejaVu Sans Mono',consolas,'Courier New',monospace\">Ġsubscribers: <span style=\"color: #008080; text-decoration-color: #008080; font-weight: bold\">18327</span>\n",
              "</pre>"
            ]
          }
        },
        {
          "output_type": "display_data",
          "metadata": {},
          "data": {
            "text/html": [
              "<pre style=\"white-space:pre;overflow-x:auto;line-height:normal;font-family:Menlo,'DejaVu Sans Mono',consolas,'Courier New',monospace\">Ġunused: <span style=\"color: #008080; text-decoration-color: #008080; font-weight: bold\">21958</span>\n",
              "</pre>"
            ]
          }
        },
        {
          "output_type": "display_data",
          "metadata": {},
          "data": {
            "text/html": [
              "<pre style=\"white-space:pre;overflow-x:auto;line-height:normal;font-family:Menlo,'DejaVu Sans Mono',consolas,'Courier New',monospace\">Ó: <span style=\"color: #008080; text-decoration-color: #008080; font-weight: bold\">143</span>\n",
              "</pre>"
            ]
          }
        },
        {
          "output_type": "display_data",
          "metadata": {},
          "data": {
            "text/html": [
              "<pre style=\"white-space:pre;overflow-x:auto;line-height:normal;font-family:Menlo,'DejaVu Sans Mono',consolas,'Courier New',monospace\">ouble: <span style=\"color: #008080; text-decoration-color: #008080; font-weight: bold\">15270</span>\n",
              "</pre>"
            ]
          }
        },
        {
          "output_type": "display_data",
          "metadata": {},
          "data": {
            "text/html": [
              "<pre style=\"white-space:pre;overflow-x:auto;line-height:normal;font-family:Menlo,'DejaVu Sans Mono',consolas,'Courier New',monospace\">APTER: <span style=\"color: #008080; text-decoration-color: #008080; font-weight: bold\">29485</span>\n",
              "</pre>"
            ]
          }
        },
        {
          "output_type": "display_data",
          "metadata": {},
          "data": {
            "text/html": [
              "<pre style=\"white-space:pre;overflow-x:auto;line-height:normal;font-family:Menlo,'DejaVu Sans Mono',consolas,'Courier New',monospace\">ĠMining: <span style=\"color: #008080; text-decoration-color: #008080; font-weight: bold\">29269</span>\n",
              "</pre>"
            ]
          }
        },
        {
          "output_type": "display_data",
          "metadata": {},
          "data": {
            "text/html": [
              "<pre style=\"white-space:pre;overflow-x:auto;line-height:normal;font-family:Menlo,'DejaVu Sans Mono',consolas,'Courier New',monospace\">ĠLip: <span style=\"color: #008080; text-decoration-color: #008080; font-weight: bold\">24701</span>\n",
              "</pre>"
            ]
          }
        },
        {
          "output_type": "display_data",
          "metadata": {},
          "data": {
            "text/html": [
              "<pre style=\"white-space:pre;overflow-x:auto;line-height:normal;font-family:Menlo,'DejaVu Sans Mono',consolas,'Courier New',monospace\">ĠWrestle: <span style=\"color: #008080; text-decoration-color: #008080; font-weight: bold\">41137</span>\n",
              "</pre>"
            ]
          }
        },
        {
          "output_type": "display_data",
          "metadata": {},
          "data": {
            "text/html": [
              "<pre style=\"white-space:pre;overflow-x:auto;line-height:normal;font-family:Menlo,'DejaVu Sans Mono',consolas,'Courier New',monospace\">ğ: <span style=\"color: #008080; text-decoration-color: #008080; font-weight: bold\">219</span>\n",
              "</pre>"
            ]
          }
        },
        {
          "output_type": "display_data",
          "metadata": {},
          "data": {
            "text/html": [
              "<pre style=\"white-space:pre;overflow-x:auto;line-height:normal;font-family:Menlo,'DejaVu Sans Mono',consolas,'Courier New',monospace\">Vocab size of the tokenizer = <span style=\"color: #008080; text-decoration-color: #008080; font-weight: bold\">50257</span>\n",
              "</pre>"
            ]
          }
        },
        {
          "output_type": "display_data",
          "metadata": {},
          "data": {
            "text/html": [
              "<pre style=\"white-space:pre;overflow-x:auto;line-height:normal;font-family:Menlo,'DejaVu Sans Mono',consolas,'Courier New',monospace\">------------------------------------------\n",
              "</pre>"
            ]
          }
        },
        {
          "output_type": "display_data",
          "metadata": {},
          "data": {
            "text/html": [
              "<pre style=\"white-space:pre;overflow-x:auto;line-height:normal;font-family:Menlo,'DejaVu Sans Mono',consolas,'Courier New',monospace\">Tokens : <span style=\"font-weight: bold\">[</span><span style=\"color: #008000; text-decoration-color: #008000\">'Coun'</span>, <span style=\"color: #008000; text-decoration-color: #008000\">'sel'</span>, <span style=\"color: #008000; text-decoration-color: #008000\">'or'</span>, <span style=\"color: #008000; text-decoration-color: #008000\">','</span>, <span style=\"color: #008000; text-decoration-color: #008000\">'Ġplease'</span>, <span style=\"color: #008000; text-decoration-color: #008000\">'Ġadjust'</span>, <span style=\"color: #008000; text-decoration-color: #008000\">'Ġyour'</span>, <span style=\"color: #008000; text-decoration-color: #008000\">'ĠZoom'</span>, <span style=\"color: #008000; text-decoration-color: #008000\">'Ġfilter'</span>, <span style=\"color: #008000; text-decoration-color: #008000\">'Ġto'</span>, <span style=\"color: #008000; text-decoration-color: #008000\">'Ġappear'</span>, <span style=\"color: #008000; text-decoration-color: #008000\">'Ġas'</span>, \n",
              "<span style=\"color: #008000; text-decoration-color: #008000\">'Ġa'</span>, <span style=\"color: #008000; text-decoration-color: #008000\">'Ġhuman'</span>, <span style=\"color: #008000; text-decoration-color: #008000\">','</span>, <span style=\"color: #008000; text-decoration-color: #008000\">'Ġrather'</span>, <span style=\"color: #008000; text-decoration-color: #008000\">'Ġthan'</span>, <span style=\"color: #008000; text-decoration-color: #008000\">'Ġas'</span>, <span style=\"color: #008000; text-decoration-color: #008000\">'Ġa'</span>, <span style=\"color: #008000; text-decoration-color: #008000\">'Ġcat'</span><span style=\"font-weight: bold\">]</span>\n",
              "</pre>"
            ]
          }
        },
        {
          "output_type": "display_data",
          "metadata": {},
          "data": {
            "text/html": [
              "<pre style=\"white-space:pre;overflow-x:auto;line-height:normal;font-family:Menlo,'DejaVu Sans Mono',consolas,'Courier New',monospace\">------------------------------------------\n",
              "</pre>"
            ]
          }
        },
        {
          "output_type": "display_data",
          "metadata": {},
          "data": {
            "text/html": [
              "<pre style=\"white-space:pre;overflow-x:auto;line-height:normal;font-family:Menlo,'DejaVu Sans Mono',consolas,'Courier New',monospace\">tokenized sequence : <span style=\"font-weight: bold\">[</span><span style=\"color: #008080; text-decoration-color: #008080; font-weight: bold\">31053</span>, <span style=\"color: #008080; text-decoration-color: #008080; font-weight: bold\">741</span>, <span style=\"color: #008080; text-decoration-color: #008080; font-weight: bold\">273</span>, <span style=\"color: #008080; text-decoration-color: #008080; font-weight: bold\">11</span>, <span style=\"color: #008080; text-decoration-color: #008080; font-weight: bold\">3387</span>, <span style=\"color: #008080; text-decoration-color: #008080; font-weight: bold\">4532</span>, <span style=\"color: #008080; text-decoration-color: #008080; font-weight: bold\">534</span>, <span style=\"color: #008080; text-decoration-color: #008080; font-weight: bold\">40305</span>, <span style=\"color: #008080; text-decoration-color: #008080; font-weight: bold\">8106</span>, <span style=\"color: #008080; text-decoration-color: #008080; font-weight: bold\">284</span>, <span style=\"color: #008080; text-decoration-color: #008080; font-weight: bold\">1656</span>, <span style=\"color: #008080; text-decoration-color: #008080; font-weight: bold\">355</span>, <span style=\"color: #008080; text-decoration-color: #008080; font-weight: bold\">257</span>, <span style=\"color: #008080; text-decoration-color: #008080; font-weight: bold\">1692</span>, <span style=\"color: #008080; text-decoration-color: #008080; font-weight: bold\">11</span>, <span style=\"color: #008080; text-decoration-color: #008080; font-weight: bold\">2138</span>, <span style=\"color: #008080; text-decoration-color: #008080; font-weight: bold\">621</span>, \n",
              "<span style=\"color: #008080; text-decoration-color: #008080; font-weight: bold\">355</span>, <span style=\"color: #008080; text-decoration-color: #008080; font-weight: bold\">257</span>, <span style=\"color: #008080; text-decoration-color: #008080; font-weight: bold\">3797</span><span style=\"font-weight: bold\">]</span>\n",
              "</pre>"
            ]
          }
        },
        {
          "output_type": "display_data",
          "metadata": {},
          "data": {
            "text/html": [
              "<pre style=\"white-space:pre;overflow-x:auto;line-height:normal;font-family:Menlo,'DejaVu Sans Mono',consolas,'Courier New',monospace\">Decode sequence Counselor, please adjust your Zoom filter to appear as a human, rather than as a cat\n",
              "</pre>"
            ]
          }
        }
      ],
      "source": [
        "from transformers import AutoTokenizer\n",
        "\n",
        "def tokenization_summary(tokenizer, sequence):\n",
        "    # get the vocabulary\n",
        "    vocab = tokenizer.vocab\n",
        "    # Number of entries to print\n",
        "    n = 10\n",
        "    # print subset of the vocabulary\n",
        "    print(\"Subset of tokenizer.vocab:\")\n",
        "    for i, (token, index) in enumerate(tokenizer.vocab.items()):\n",
        "        print(f\"{token}: {index}\")\n",
        "        if i >= n - 1:\n",
        "            break\n",
        "    print(f\"Vocab size of the tokenizer = {len(vocab)}\")\n",
        "    print(\"------------------------------------------\")\n",
        "    # .tokenize chunks the existing sequence into different tokens based on the rules and vocab of the tokenizer.\n",
        "    tokens = tokenizer.tokenize(sequence)\n",
        "    print(f\"Tokens : {tokens}\")\n",
        "    print(\"------------------------------------------\")\n",
        "\n",
        "    # .convert_tokens_to_ids or .encode or .tokenize converts the tokens to their corresponding numerical representation.\n",
        "    #  .convert_tokens_to_ids has a 1-1 mapping between tokens and numerical representation\n",
        "    # ids = tokenizer.convert_tokens_to_ids(tokens)\n",
        "    # print(\"encoded Ids: \", ids)\n",
        "\n",
        "    # .encode also adds additional information like Start of sequence tokens and End of sequene\n",
        "    print(f\"tokenized sequence : {tokenizer.encode(sequence)}\")\n",
        "\n",
        "    # .tokenizer has additional information about attention_mask.\n",
        "    # encode = tokenizer(sequence)\n",
        "    # print(\"Encode sequence : \", encode)\n",
        "    # print(\"------------------------------------------\")\n",
        "\n",
        "    # .decode decodes the ids to raw text\n",
        "    ids = tokenizer.convert_tokens_to_ids(tokens)\n",
        "    decode = tokenizer.decode(ids)\n",
        "    print(f\"Decode sequence {decode}\")\n",
        "\n",
        "\n",
        "tokenizer_1 = AutoTokenizer.from_pretrained(\n",
        "    \"gpt2\"\n",
        ")  # GPT-2 uses \"Byte-Pair Encoding (BPE)\"\n",
        "\n",
        "sequence = \"Counselor, please adjust your Zoom filter to appear as a human, rather than as a cat\"\n",
        "\n",
        "tokenization_summary(tokenizer_1, sequence)"
      ],
      "id": "cell-7"
    },
    {
      "cell_type": "markdown",
      "metadata": {},
      "source": [
        "### Token embedding:\n",
        "\n",
        "Words are turned into vectors based on their location within a\n",
        "vocabulary.\n",
        "\n",
        "The strategy of choice for learning language structure from tokenized\n",
        "text is to find a clever way to map each token into a moderate-dimension\n",
        "vector space, adjusting the mapping so that\n",
        "\n",
        "Similar, or associated tokens take up residence nearby each other, and\n",
        "different regions of the space correspond to different position in the\n",
        "sequence. Such a mapping from token ID to a point in a vector space is\n",
        "called a token embedding. The dimension of the vector space is often\n",
        "high (e.g. 1024-dimensional), but much smaller than the vocabulary size\n",
        "(30,000–500,000).\n",
        "\n",
        "Various approaches have been attempted for generating such embeddings,\n",
        "including static algorithms that operate on a corpus of tokenized data\n",
        "as preprocessors for NLP tasks. Transformers, however, adjust their\n",
        "embeddings during training.\n",
        "\n",
        "## Transformer Model Architecture\n",
        "\n",
        "Now let’s look at the base elements that make up a Transformer by\n",
        "dissecting the popular GPT2 model"
      ],
      "id": "a14bce7f-5cf5-4b29-8e2b-6ceaf371fa58"
    },
    {
      "cell_type": "code",
      "execution_count": 7,
      "metadata": {
        "quarto-private-1": {
          "key": "execution",
          "value": {
            "iopub.execute_input": "2025-08-01T21:21:48.239604Z",
            "iopub.status.busy": "2025-08-01T21:21:48.239523Z",
            "iopub.status.idle": "2025-08-01T21:21:48.780432Z",
            "shell.execute_reply": "2025-08-01T21:21:48.780279Z",
            "shell.execute_reply.started": "2025-08-01T21:21:48.239596Z"
          }
        }
      },
      "outputs": [
        {
          "output_type": "display_data",
          "metadata": {},
          "data": {
            "text/html": [
              "<pre style=\"white-space:pre;overflow-x:auto;line-height:normal;font-family:Menlo,'DejaVu Sans Mono',consolas,'Courier New',monospace\"><span style=\"color: #800080; text-decoration-color: #800080; font-weight: bold\">GPT2LMHeadModel</span><span style=\"font-weight: bold\">(</span>\n",
              "  <span style=\"font-weight: bold\">(</span>transformer<span style=\"font-weight: bold\">)</span>: <span style=\"color: #800080; text-decoration-color: #800080; font-weight: bold\">GPT2Model</span><span style=\"font-weight: bold\">(</span>\n",
              "    <span style=\"font-weight: bold\">(</span>wte<span style=\"font-weight: bold\">)</span>: <span style=\"color: #800080; text-decoration-color: #800080; font-weight: bold\">Embedding</span><span style=\"font-weight: bold\">(</span><span style=\"color: #008080; text-decoration-color: #008080; font-weight: bold\">50257</span>, <span style=\"color: #008080; text-decoration-color: #008080; font-weight: bold\">768</span><span style=\"font-weight: bold\">)</span>\n",
              "    <span style=\"font-weight: bold\">(</span>wpe<span style=\"font-weight: bold\">)</span>: <span style=\"color: #800080; text-decoration-color: #800080; font-weight: bold\">Embedding</span><span style=\"font-weight: bold\">(</span><span style=\"color: #008080; text-decoration-color: #008080; font-weight: bold\">1024</span>, <span style=\"color: #008080; text-decoration-color: #008080; font-weight: bold\">768</span><span style=\"font-weight: bold\">)</span>\n",
              "    <span style=\"font-weight: bold\">(</span>drop<span style=\"font-weight: bold\">)</span>: <span style=\"color: #800080; text-decoration-color: #800080; font-weight: bold\">Dropout</span><span style=\"font-weight: bold\">(</span><span style=\"color: #808000; text-decoration-color: #808000\">p</span>=<span style=\"color: #008080; text-decoration-color: #008080; font-weight: bold\">0.1</span>, <span style=\"color: #808000; text-decoration-color: #808000\">inplace</span>=<span style=\"color: #ff0000; text-decoration-color: #ff0000; font-style: italic\">False</span><span style=\"font-weight: bold\">)</span>\n",
              "    <span style=\"font-weight: bold\">(</span>h<span style=\"font-weight: bold\">)</span>: <span style=\"color: #800080; text-decoration-color: #800080; font-weight: bold\">ModuleList</span><span style=\"font-weight: bold\">(</span>\n",
              "      <span style=\"font-weight: bold\">(</span><span style=\"color: #008080; text-decoration-color: #008080; font-weight: bold\">0</span>-<span style=\"color: #008080; text-decoration-color: #008080; font-weight: bold\">11</span><span style=\"font-weight: bold\">)</span>: <span style=\"color: #008080; text-decoration-color: #008080; font-weight: bold\">12</span> x <span style=\"color: #800080; text-decoration-color: #800080; font-weight: bold\">GPT2Block</span><span style=\"font-weight: bold\">(</span>\n",
              "        <span style=\"font-weight: bold\">(</span>ln_1<span style=\"font-weight: bold\">)</span>: <span style=\"color: #800080; text-decoration-color: #800080; font-weight: bold\">LayerNorm</span><span style=\"font-weight: bold\">((</span><span style=\"color: #008080; text-decoration-color: #008080; font-weight: bold\">768</span>,<span style=\"font-weight: bold\">)</span>, <span style=\"color: #808000; text-decoration-color: #808000\">eps</span>=<span style=\"color: #008080; text-decoration-color: #008080; font-weight: bold\">1e-05</span>, <span style=\"color: #808000; text-decoration-color: #808000\">elementwise_affine</span>=<span style=\"color: #00ff00; text-decoration-color: #00ff00; font-style: italic\">True</span><span style=\"font-weight: bold\">)</span>\n",
              "        <span style=\"font-weight: bold\">(</span>attn<span style=\"font-weight: bold\">)</span>: <span style=\"color: #800080; text-decoration-color: #800080; font-weight: bold\">GPT2Attention</span><span style=\"font-weight: bold\">(</span>\n",
              "          <span style=\"font-weight: bold\">(</span>c_attn<span style=\"font-weight: bold\">)</span>: <span style=\"color: #800080; text-decoration-color: #800080; font-weight: bold\">Conv1D</span><span style=\"font-weight: bold\">(</span><span style=\"color: #808000; text-decoration-color: #808000\">nf</span>=<span style=\"color: #008080; text-decoration-color: #008080; font-weight: bold\">2304</span>, <span style=\"color: #808000; text-decoration-color: #808000\">nx</span>=<span style=\"color: #008080; text-decoration-color: #008080; font-weight: bold\">768</span><span style=\"font-weight: bold\">)</span>\n",
              "          <span style=\"font-weight: bold\">(</span>c_proj<span style=\"font-weight: bold\">)</span>: <span style=\"color: #800080; text-decoration-color: #800080; font-weight: bold\">Conv1D</span><span style=\"font-weight: bold\">(</span><span style=\"color: #808000; text-decoration-color: #808000\">nf</span>=<span style=\"color: #008080; text-decoration-color: #008080; font-weight: bold\">768</span>, <span style=\"color: #808000; text-decoration-color: #808000\">nx</span>=<span style=\"color: #008080; text-decoration-color: #008080; font-weight: bold\">768</span><span style=\"font-weight: bold\">)</span>\n",
              "          <span style=\"font-weight: bold\">(</span>attn_dropout<span style=\"font-weight: bold\">)</span>: <span style=\"color: #800080; text-decoration-color: #800080; font-weight: bold\">Dropout</span><span style=\"font-weight: bold\">(</span><span style=\"color: #808000; text-decoration-color: #808000\">p</span>=<span style=\"color: #008080; text-decoration-color: #008080; font-weight: bold\">0.1</span>, <span style=\"color: #808000; text-decoration-color: #808000\">inplace</span>=<span style=\"color: #ff0000; text-decoration-color: #ff0000; font-style: italic\">False</span><span style=\"font-weight: bold\">)</span>\n",
              "          <span style=\"font-weight: bold\">(</span>resid_dropout<span style=\"font-weight: bold\">)</span>: <span style=\"color: #800080; text-decoration-color: #800080; font-weight: bold\">Dropout</span><span style=\"font-weight: bold\">(</span><span style=\"color: #808000; text-decoration-color: #808000\">p</span>=<span style=\"color: #008080; text-decoration-color: #008080; font-weight: bold\">0.1</span>, <span style=\"color: #808000; text-decoration-color: #808000\">inplace</span>=<span style=\"color: #ff0000; text-decoration-color: #ff0000; font-style: italic\">False</span><span style=\"font-weight: bold\">)</span>\n",
              "        <span style=\"font-weight: bold\">)</span>\n",
              "        <span style=\"font-weight: bold\">(</span>ln_2<span style=\"font-weight: bold\">)</span>: <span style=\"color: #800080; text-decoration-color: #800080; font-weight: bold\">LayerNorm</span><span style=\"font-weight: bold\">((</span><span style=\"color: #008080; text-decoration-color: #008080; font-weight: bold\">768</span>,<span style=\"font-weight: bold\">)</span>, <span style=\"color: #808000; text-decoration-color: #808000\">eps</span>=<span style=\"color: #008080; text-decoration-color: #008080; font-weight: bold\">1e-05</span>, <span style=\"color: #808000; text-decoration-color: #808000\">elementwise_affine</span>=<span style=\"color: #00ff00; text-decoration-color: #00ff00; font-style: italic\">True</span><span style=\"font-weight: bold\">)</span>\n",
              "        <span style=\"font-weight: bold\">(</span>mlp<span style=\"font-weight: bold\">)</span>: <span style=\"color: #800080; text-decoration-color: #800080; font-weight: bold\">GPT2MLP</span><span style=\"font-weight: bold\">(</span>\n",
              "          <span style=\"font-weight: bold\">(</span>c_fc<span style=\"font-weight: bold\">)</span>: <span style=\"color: #800080; text-decoration-color: #800080; font-weight: bold\">Conv1D</span><span style=\"font-weight: bold\">(</span><span style=\"color: #808000; text-decoration-color: #808000\">nf</span>=<span style=\"color: #008080; text-decoration-color: #008080; font-weight: bold\">3072</span>, <span style=\"color: #808000; text-decoration-color: #808000\">nx</span>=<span style=\"color: #008080; text-decoration-color: #008080; font-weight: bold\">768</span><span style=\"font-weight: bold\">)</span>\n",
              "          <span style=\"font-weight: bold\">(</span>c_proj<span style=\"font-weight: bold\">)</span>: <span style=\"color: #800080; text-decoration-color: #800080; font-weight: bold\">Conv1D</span><span style=\"font-weight: bold\">(</span><span style=\"color: #808000; text-decoration-color: #808000\">nf</span>=<span style=\"color: #008080; text-decoration-color: #008080; font-weight: bold\">768</span>, <span style=\"color: #808000; text-decoration-color: #808000\">nx</span>=<span style=\"color: #008080; text-decoration-color: #008080; font-weight: bold\">3072</span><span style=\"font-weight: bold\">)</span>\n",
              "          <span style=\"font-weight: bold\">(</span>act<span style=\"font-weight: bold\">)</span>: <span style=\"color: #800080; text-decoration-color: #800080; font-weight: bold\">NewGELUActivation</span><span style=\"font-weight: bold\">()</span>\n",
              "          <span style=\"font-weight: bold\">(</span>dropout<span style=\"font-weight: bold\">)</span>: <span style=\"color: #800080; text-decoration-color: #800080; font-weight: bold\">Dropout</span><span style=\"font-weight: bold\">(</span><span style=\"color: #808000; text-decoration-color: #808000\">p</span>=<span style=\"color: #008080; text-decoration-color: #008080; font-weight: bold\">0.1</span>, <span style=\"color: #808000; text-decoration-color: #808000\">inplace</span>=<span style=\"color: #ff0000; text-decoration-color: #ff0000; font-style: italic\">False</span><span style=\"font-weight: bold\">)</span>\n",
              "        <span style=\"font-weight: bold\">)</span>\n",
              "      <span style=\"font-weight: bold\">)</span>\n",
              "    <span style=\"font-weight: bold\">)</span>\n",
              "    <span style=\"font-weight: bold\">(</span>ln_f<span style=\"font-weight: bold\">)</span>: <span style=\"color: #800080; text-decoration-color: #800080; font-weight: bold\">LayerNorm</span><span style=\"font-weight: bold\">((</span><span style=\"color: #008080; text-decoration-color: #008080; font-weight: bold\">768</span>,<span style=\"font-weight: bold\">)</span>, <span style=\"color: #808000; text-decoration-color: #808000\">eps</span>=<span style=\"color: #008080; text-decoration-color: #008080; font-weight: bold\">1e-05</span>, <span style=\"color: #808000; text-decoration-color: #808000\">elementwise_affine</span>=<span style=\"color: #00ff00; text-decoration-color: #00ff00; font-style: italic\">True</span><span style=\"font-weight: bold\">)</span>\n",
              "  <span style=\"font-weight: bold\">)</span>\n",
              "  <span style=\"font-weight: bold\">(</span>lm_head<span style=\"font-weight: bold\">)</span>: <span style=\"color: #800080; text-decoration-color: #800080; font-weight: bold\">Linear</span><span style=\"font-weight: bold\">(</span><span style=\"color: #808000; text-decoration-color: #808000\">in_features</span>=<span style=\"color: #008080; text-decoration-color: #008080; font-weight: bold\">768</span>, <span style=\"color: #808000; text-decoration-color: #808000\">out_features</span>=<span style=\"color: #008080; text-decoration-color: #008080; font-weight: bold\">50257</span>, <span style=\"color: #808000; text-decoration-color: #808000\">bias</span>=<span style=\"color: #ff0000; text-decoration-color: #ff0000; font-style: italic\">False</span><span style=\"font-weight: bold\">)</span>\n",
              "<span style=\"font-weight: bold\">)</span>\n",
              "</pre>"
            ]
          }
        }
      ],
      "source": [
        "from transformers import GPT2LMHeadModel, GPT2Tokenizer\n",
        "\n",
        "model = GPT2LMHeadModel.from_pretrained(\"gpt2\")\n",
        "print(model)"
      ],
      "id": "cell-9"
    },
    {
      "cell_type": "markdown",
      "metadata": {},
      "source": [
        "GPT2 is an example of a Transformer Decoder which is used to generate\n",
        "novel text.\n",
        "\n",
        "Decoder models use only the decoder of a Transformer model. At each\n",
        "stage, for a given word the attention layers can only access the words\n",
        "positioned before it in the sentence. These models are often called\n",
        "auto-regressive models. The pretraining of decoder models usually\n",
        "revolves around predicting the next word in the sentence.\n",
        "\n",
        "These models are best suited for tasks involving text generation.\n",
        "\n",
        "The architecture of GPT-2 is inspired by the paper: “Generating\n",
        "Wikipedia by Summarizing Long Sequences” which is another arrangement of\n",
        "the transformer block that can do language modeling. This model threw\n",
        "away the encoder and thus is known as the “Transformer-Decoder”.\n",
        "\n",
        "<img src=\"https://github.com/architvasan/ai_science_local/blob/main/images/transformer-decoder-intro.png?raw=1\" width=\"500\"/>\n",
        "\n",
        "[Illustrated GPT2](https://jalammar.github.io/illustrated-gpt2/)\n",
        "\n",
        "Key components of the transformer architecture include:\n",
        "\n",
        "-   Input Embeddings: Word embedding or word vectors help us represent\n",
        "    words or text as a numeric vector where words with similar meanings\n",
        "    have the similar representation.\n",
        "\n",
        "-   Positional Encoding: Injects information about the position of words\n",
        "    in a sequence, helping the model understand word order.\n",
        "\n",
        "-   Self-Attention Mechanism: Allows the model to weigh the importance\n",
        "    of different words in a sentence, enabling it to effectively capture\n",
        "    contextual information.\n",
        "\n",
        "-   Feedforward Neural Networks: Process information from self-attention\n",
        "    layers to generate output for each word/token.\n",
        "\n",
        "-   Layer Normalization and Residual Connections: Aid in stabilizing\n",
        "    training and mitigating the vanishing gradient problem.\n",
        "\n",
        "-   Transformer Blocks: Comprised of multiple layers of self-attention\n",
        "    and feedforward neural networks, stacked together to form the model.\n",
        "\n",
        "### Attention mechanisms\n",
        "\n",
        "Since attention mechanisms are arguably the most powerful component of\n",
        "the Transformer, let’s discuss this in a little more detail.\n",
        "\n",
        "Suppose the following sentence is an input sentence we want to translate\n",
        "using an LLM:\n",
        "\n",
        "`”The animal didn't cross the street because it was too tired”`\n",
        "\n",
        "To understand a full sentence, the model needs to understand what each\n",
        "word means in relation to other words.\n",
        "\n",
        "For example, when we read the sentence:\n",
        "`”The animal didn't cross the street because it was too tired”` we know\n",
        "intuitively that the word `\"it\"` refers to `\"animal\"`, the state for\n",
        "`\"it\"` is `\"tired\"`, and the associated action is `\"didn't cross\"`.\n",
        "\n",
        "However, the model needs a way to learn all of this information in a\n",
        "simple yet generalizable way. What makes Transformers particularly\n",
        "powerful compared to earlier sequential architectures is how it encodes\n",
        "context with the **self-attention mechanism**.\n",
        "\n",
        "As the model processes each word in the input sequence, attention looks\n",
        "at other positions in the input sequence for clues to a better\n",
        "understanding for this word.\n",
        "\n",
        "<img src=\"https://github.com/architvasan/ai_science_local/blob/main/images/transformer_self-attention_visualization.png?raw=1\" width=\"400\"/>\n",
        "\n",
        "[The Illustrated\n",
        "Transformer](https://jalammar.github.io/illustrated-transformer/)\n",
        "\n",
        "#### Multi-head attention\n",
        "\n",
        "In practice, multiple attention heads are used simultaneously.\n",
        "\n",
        "This: \\* Expands the model’s ability to focus on different positions. \\*\n",
        "Prevents the attention to be dominated by the word itself.\n",
        "\n",
        "#### Let’s see multi-head attention mechanisms in action!\n",
        "\n",
        "We are going to use the powerful visualization tool bertviz, which\n",
        "allows an interactive experience of the attention mechanisms. Normally\n",
        "these mechanisms are abstracted away but this will allow us to inspect\n",
        "our model in more detail."
      ],
      "id": "1b41df66-b80d-4ddd-9757-868a5545e7b6"
    },
    {
      "cell_type": "code",
      "execution_count": 8,
      "metadata": {
        "quarto-private-1": {
          "key": "execution",
          "value": {
            "iopub.execute_input": "2025-08-01T21:21:48.787770Z",
            "iopub.status.busy": "2025-08-01T21:21:48.787692Z",
            "iopub.status.idle": "2025-08-01T21:21:48.820848Z",
            "shell.execute_reply": "2025-08-01T21:21:48.820664Z",
            "shell.execute_reply.started": "2025-08-01T21:21:48.787756Z"
          }
        },
        "scrolled": true
      },
      "outputs": [],
      "source": [
        "# !pip install bertviz"
      ],
      "id": "cell-11"
    },
    {
      "cell_type": "markdown",
      "metadata": {},
      "source": [
        "Let’s load in the model, GPT2 and look at the attention mechanisms.\n",
        "\n",
        "**Hint… click on the different blocks in the visualization to see the\n",
        "attention**"
      ],
      "id": "973f16f3-9325-403b-a5a2-59f7a0a0a24d"
    },
    {
      "cell_type": "code",
      "execution_count": 9,
      "metadata": {
        "quarto-private-1": {
          "key": "execution",
          "value": {
            "iopub.execute_input": "2025-08-01T21:21:50.809762Z",
            "iopub.status.busy": "2025-08-01T21:21:50.809606Z",
            "iopub.status.idle": "2025-08-01T21:21:53.221988Z",
            "shell.execute_reply": "2025-08-01T21:21:53.221865Z",
            "shell.execute_reply.started": "2025-08-01T21:21:50.809752Z"
          }
        }
      },
      "outputs": [
        {
          "output_type": "display_data",
          "metadata": {},
          "data": {
            "text/html": [
              "<script src=\"https://cdnjs.cloudflare.com/ajax/libs/require.js/2.3.6/require.min.js\"></script>"
            ]
          }
        },
        {
          "output_type": "display_data",
          "metadata": {},
          "data": {
            "text/html": [
              "      \n",
              "        <div id=\"bertviz-6a1c612b6e9542749340c376e0e47472\" style=\"font-family:'Helvetica Neue', Helvetica, Arial, sans-serif;\">\n",
              "            <span style=\"user-select:none\">\n",
              "                \n",
              "            </span>\n",
              "            <div id='vis'></div>\n",
              "        </div>\n",
              "    "
            ]
          }
        },
        {
          "output_type": "display_data",
          "metadata": {},
          "data": {
            "text/html": [
              "<script type=\"application/javascript\">\n",
              "/**\n",
              " * @fileoverview Transformer Visualization D3 javascript code.\n",
              " *\n",
              " * Based on: https://github.com/tensorflow/tensor2tensor/blob/master/tensor2tensor/visualization/attention.js\n",
              " *\n",
              " * Change log:\n",
              " *\n",
              " * 02/01/19  Jesse Vig   Initial implementation\n",
              " * 12/31/20  Jesse Vig   Support multiple visualizations in single notebook.\n",
              " * 01/19/21  Jesse Vig   Support light/dark modes\n",
              " * 02/06/21  Jesse Vig   Move require config from separate jupyter notebook step\n",
              " * 05/03/21  Jesse Vig   Adjust visualization height dynamically\n",
              " * 03/23/22  Daniel SC   Update requirement URLs for d3 and jQuery (source of bug not allowing end result to be displayed on browsers)\n",
              " **/\n",
              "\n",
              "require.config({\n",
              "  paths: {\n",
              "      d3: 'https://cdnjs.cloudflare.com/ajax/libs/d3/5.7.0/d3.min',\n",
              "    jquery: 'https://cdnjs.cloudflare.com/ajax/libs/jquery/2.0.0/jquery.min',\n",
              "  }\n",
              "});\n",
              "\n",
              "requirejs(['jquery', 'd3'], function($, d3) {\n",
              "\n",
              "        const params = {\"attention\": [{\"name\": null, \"attn\": [[[[1.0, 0.0, 0.0, 0.0, 0.0, 0.0], [0.961219847202301, 0.038780126720666885, 0.0, 0.0, 0.0, 0.0], [0.7466979622840881, 0.11987314373254776, 0.1334289163351059, 0.0, 0.0, 0.0], [0.5885028839111328, 0.13792073726654053, 0.21213741600513458, 0.06143900379538536, 0.0, 0.0], [0.6570857167243958, 0.08996305614709854, 0.12751275300979614, 0.08361562341451645, 0.041822828352451324, 0.0], [0.27288734912872314, 0.11203354597091675, 0.16639846563339233, 0.08467115461826324, 0.16952739655971527, 0.19448213279247284]], [[1.0, 0.0, 0.0, 0.0, 0.0, 0.0], [0.010616553947329521, 0.9893833994865417, 0.0, 0.0, 0.0, 0.0], [0.0024677517358213663, 0.008448000065982342, 0.9890843033790588, 0.0, 0.0, 0.0], [0.00012328448065090925, 0.001873313682153821, 0.013126963749527931, 0.9848763942718506, 0.0, 0.0], [0.0010669559706002474, 0.001136627048254013, 0.003034998197108507, 0.0015735088381916285, 0.9931879043579102, 0.0], [0.00019792020611930639, 0.0010528132552281022, 0.0015437394613400102, 0.0009642784134484828, 3.492449832265265e-05, 0.9962062835693359]], [[1.0, 0.0, 0.0, 0.0, 0.0, 0.0], [0.4757845103740692, 0.5242154598236084, 0.0, 0.0, 0.0, 0.0], [0.5906044840812683, 0.2486610859632492, 0.1607344001531601, 0.0, 0.0, 0.0], [0.552929162979126, 0.18856704235076904, 0.14457565546035767, 0.11392819881439209, 0.0, 0.0], [0.45094069838523865, 0.16486795246601105, 0.17318040132522583, 0.11748011410236359, 0.09353082627058029, 0.0], [0.42572465538978577, 0.17328651249408722, 0.15651951730251312, 0.07022642344236374, 0.0808701142668724, 0.09337279945611954]], [[1.0, 0.0, 0.0, 0.0, 0.0, 0.0], [0.6133624315261841, 0.3866375684738159, 0.0, 0.0, 0.0, 0.0], [0.06098507344722748, 0.03253458812832832, 0.9064804315567017, 0.0, 0.0, 0.0], [0.006717091891914606, 0.0004012881254311651, 0.7572961449623108, 0.23558545112609863, 0.0, 0.0], [0.03722784295678139, 0.0029488641303032637, 0.10081139206886292, 0.041422780603170395, 0.8175891637802124, 0.0], [0.04989779368042946, 0.0003075827844440937, 0.002419829135760665, 0.0034334962256252766, 0.0006823891890235245, 0.9432588815689087]], [[1.0, 0.0, 0.0, 0.0, 0.0, 0.0], [0.9489555954933167, 0.05104440078139305, 0.0, 0.0, 0.0, 0.0], [0.6821408271789551, 0.1395242065191269, 0.17833493649959564, 0.0, 0.0, 0.0], [0.20366333425045013, 0.05641490966081619, 0.06399299949407578, 0.6759287118911743, 0.0, 0.0], [0.34195491671562195, 0.06725442409515381, 0.07926180213689804, 0.17836210131645203, 0.33316683769226074, 0.0], [0.09464015066623688, 0.007428212556988001, 0.006983965635299683, 0.007184378802776337, 0.018724262714385986, 0.8650389313697815]], [[1.0, 0.0, 0.0, 0.0, 0.0, 0.0], [0.33834579586982727, 0.6616541743278503, 0.0, 0.0, 0.0, 0.0], [0.0785597637295723, 0.006165453232824802, 0.9152747988700867, 0.0, 0.0, 0.0], [0.01677590422332287, 0.00040376908145844936, 0.0033404543064534664, 0.9794798493385315, 0.0, 0.0], [0.027600567787885666, 0.0004441539931576699, 0.0006541709881275892, 0.00022661943512503058, 0.9710745215415955, 0.0], [0.01024820376187563, 3.701564128277823e-05, 0.00016064087685663253, 2.7341924578649923e-05, 1.0187323823629413e-05, 0.98951655626297]], [[1.0, 0.0, 0.0, 0.0, 0.0, 0.0], [0.982503354549408, 0.017496641725301743, 0.0, 0.0, 0.0, 0.0], [0.8874198794364929, 0.05467931181192398, 0.05790078267455101, 0.0, 0.0, 0.0], [0.6849911212921143, 0.12280683219432831, 0.04972023144364357, 0.14248180389404297, 0.0, 0.0], [0.6015856266021729, 0.09881891310214996, 0.07070109993219376, 0.16652531921863556, 0.06236904859542847, 0.0], [0.3232504427433014, 0.12567415833473206, 0.04432179406285286, 0.0707697868347168, 0.06606657058000565, 0.3699173331260681]], [[1.0, 0.0, 0.0, 0.0, 0.0, 0.0], [0.9191647171974182, 0.0808352455496788, 0.0, 0.0, 0.0, 0.0], [0.45986422896385193, 0.3970310389995575, 0.1431046575307846, 0.0, 0.0, 0.0], [0.30038726329803467, 0.22181735932826996, 0.3816150426864624, 0.09618031233549118, 0.0, 0.0], [0.18963950872421265, 0.13763730227947235, 0.20173467695713043, 0.2363215535879135, 0.23466698825359344, 0.0], [0.15410441160202026, 0.09489507973194122, 0.11902560293674469, 0.10277969390153885, 0.431721955537796, 0.09747327119112015]], [[1.0, 0.0, 0.0, 0.0, 0.0, 0.0], [0.3650002181529999, 0.6349997520446777, 0.0, 0.0, 0.0, 0.0], [0.24595215916633606, 0.5519200563430786, 0.20212781429290771, 0.0, 0.0, 0.0], [0.27213600277900696, 0.4073861241340637, 0.25186216831207275, 0.06861580163240433, 0.0, 0.0], [0.10242559760808945, 0.16683609783649445, 0.5248048901557922, 0.05445466190576553, 0.15147875249385834, 0.0], [0.2502950131893158, 0.22198116779327393, 0.1889996975660324, 0.10677123814821243, 0.13032680749893188, 0.10162603110074997]], [[1.0, 0.0, 0.0, 0.0, 0.0, 0.0], [0.6990504264831543, 0.3009495735168457, 0.0, 0.0, 0.0, 0.0], [0.5107941031455994, 0.294864296913147, 0.19434157013893127, 0.0, 0.0, 0.0], [0.460470587015152, 0.2805192172527313, 0.19174805283546448, 0.06726215034723282, 0.0, 0.0], [0.37648412585258484, 0.21120671927928925, 0.20214536786079407, 0.1020701676607132, 0.10809355974197388, 0.0], [0.30138444900512695, 0.20456187427043915, 0.1825033575296402, 0.11019378900527954, 0.16291272640228271, 0.03844381496310234]], [[1.0, 0.0, 0.0, 0.0, 0.0, 0.0], [0.7131580114364624, 0.2868419587612152, 0.0, 0.0, 0.0, 0.0], [0.405879944562912, 0.18063302338123322, 0.4134870171546936, 0.0, 0.0, 0.0], [0.265546053647995, 0.1698586493730545, 0.33585938811302185, 0.22873595356941223, 0.0, 0.0], [0.31385400891304016, 0.18316704034805298, 0.14928361773490906, 0.05377671867609024, 0.29991868138313293, 0.0], [0.20466554164886475, 0.18731124699115753, 0.15959152579307556, 0.06381776928901672, 0.036423031240701675, 0.34819096326828003]], [[1.0, 0.0, 0.0, 0.0, 0.0, 0.0], [0.6586242914199829, 0.3413756787776947, 0.0, 0.0, 0.0, 0.0], [0.5917775630950928, 0.31600356101989746, 0.0922188088297844, 0.0, 0.0, 0.0], [0.5477150678634644, 0.23586955666542053, 0.06145602837204933, 0.1549593061208725, 0.0, 0.0], [0.4587060511112213, 0.22439995408058167, 0.07887425273656845, 0.0992034450173378, 0.13881632685661316, 0.0], [0.32743722200393677, 0.19600819051265717, 0.06805713474750519, 0.0892510786652565, 0.11618088185787201, 0.20306551456451416]]], [[[1.0, 0.0, 0.0, 0.0, 0.0, 0.0], [0.9961552023887634, 0.0038448444101959467, 0.0, 0.0, 0.0, 0.0], [0.8594855070114136, 0.06906120479106903, 0.07145323604345322, 0.0, 0.0, 0.0], [0.3800051808357239, 0.0412757508456707, 0.5496610999107361, 0.029057921841740608, 0.0, 0.0], [0.2144520878791809, 0.05088745057582855, 0.4317440092563629, 0.25869324803352356, 0.044223327189683914, 0.0], [0.11175242811441422, 0.017593061551451683, 0.027507437393069267, 0.040867775678634644, 0.7754672169685364, 0.026812128722667694]], [[1.0, 0.0, 0.0, 0.0, 0.0, 0.0], [0.9285966753959656, 0.07140329480171204, 0.0, 0.0, 0.0, 0.0], [0.6077283620834351, 0.3121430575847626, 0.08012863993644714, 0.0, 0.0, 0.0], [0.4942907392978668, 0.285037100315094, 0.11849302053451538, 0.10217911750078201, 0.0, 0.0], [0.41838762164115906, 0.23117919266223907, 0.0834062322974205, 0.11365960538387299, 0.15336737036705017, 0.0], [0.42215877771377563, 0.12917152047157288, 0.08740924298763275, 0.10163769125938416, 0.21230241656303406, 0.0473204180598259]], [[1.0, 0.0, 0.0, 0.0, 0.0, 0.0], [0.9786475896835327, 0.021352410316467285, 0.0, 0.0, 0.0, 0.0], [0.7749119400978088, 0.06510379910469055, 0.1599842607975006, 0.0, 0.0, 0.0], [0.6484918594360352, 0.07483147084712982, 0.1475161612033844, 0.12916044890880585, 0.0, 0.0], [0.5224637389183044, 0.06921815127134323, 0.13823407888412476, 0.11106600612401962, 0.15901802480220795, 0.0], [0.396451473236084, 0.07325827330350876, 0.12938156723976135, 0.10642445087432861, 0.14864006638526917, 0.14584414660930634]], [[1.0, 0.0, 0.0, 0.0, 0.0, 0.0], [0.5525909662246704, 0.447409063577652, 0.0, 0.0, 0.0, 0.0], [0.5585010051727295, 0.21762587130069733, 0.22387316823005676, 0.0, 0.0, 0.0], [0.5143133401870728, 0.15964657068252563, 0.1549195498228073, 0.17112062871456146, 0.0, 0.0], [0.5039961338043213, 0.11401885002851486, 0.11974025517702103, 0.12552587687969208, 0.13671891391277313, 0.0], [0.5061840415000916, 0.08567393571138382, 0.0890302062034607, 0.09759823232889175, 0.10275731235742569, 0.1187562569975853]], [[1.0, 0.0, 0.0, 0.0, 0.0, 0.0], [0.9242545962333679, 0.07574540376663208, 0.0, 0.0, 0.0, 0.0], [0.8257423043251038, 0.07932543754577637, 0.09493227303028107, 0.0, 0.0, 0.0], [0.7306382656097412, 0.08571825176477432, 0.08043920248746872, 0.10320423543453217, 0.0, 0.0], [0.6383239030838013, 0.07886391133069992, 0.07815028727054596, 0.08758103102445602, 0.11708080023527145, 0.0], [0.5552154183387756, 0.07409127801656723, 0.06834893673658371, 0.07778607308864594, 0.09999319911003113, 0.12456496804952621]], [[1.0, 0.0, 0.0, 0.0, 0.0, 0.0], [0.8578912019729614, 0.14210878312587738, 0.0, 0.0, 0.0, 0.0], [0.6423032879829407, 0.16629046201705933, 0.19140629470348358, 0.0, 0.0, 0.0], [0.5530969500541687, 0.10609286278486252, 0.07821279019117355, 0.26259738206863403, 0.0, 0.0], [0.40121644735336304, 0.12223614007234573, 0.19347335398197174, 0.14164642989635468, 0.1414276361465454, 0.0], [0.40212586522102356, 0.18450748920440674, 0.07516804337501526, 0.058490585535764694, 0.1444634348154068, 0.13524460792541504]], [[1.0, 0.0, 0.0, 0.0, 0.0, 0.0], [0.9791560173034668, 0.020844005048274994, 0.0, 0.0, 0.0, 0.0], [0.8829841613769531, 0.062332428991794586, 0.05468343570828438, 0.0, 0.0, 0.0], [0.8105451464653015, 0.08617085963487625, 0.07321798801422119, 0.03006598725914955, 0.0, 0.0], [0.6819810271263123, 0.049908194690942764, 0.08296558260917664, 0.08369531482458115, 0.10144990682601929, 0.0], [0.4056691825389862, 0.07337658852338791, 0.08601400256156921, 0.06170940399169922, 0.1322644203901291, 0.24096642434597015]], [[1.0, 0.0, 0.0, 0.0, 0.0, 0.0], [0.9670190811157227, 0.03298091143369675, 0.0, 0.0, 0.0, 0.0], [0.8449065089225769, 0.08514493703842163, 0.06994852423667908, 0.0, 0.0, 0.0], [0.7123570442199707, 0.07896050810813904, 0.05541075021028519, 0.15327171981334686, 0.0, 0.0], [0.6402614116668701, 0.07397546619176865, 0.04439306631684303, 0.1432214379310608, 0.09814866632223129, 0.0], [0.5073904991149902, 0.07523056864738464, 0.07754648476839066, 0.11362502723932266, 0.13947944343090057, 0.08672793954610825]], [[1.0, 0.0, 0.0, 0.0, 0.0, 0.0], [0.848756730556488, 0.15124329924583435, 0.0, 0.0, 0.0, 0.0], [0.8415652513504028, 0.12107212841510773, 0.037362683564424515, 0.0, 0.0, 0.0], [0.7505511045455933, 0.11348968744277954, 0.06179966405034065, 0.07415955513715744, 0.0, 0.0], [0.6614716053009033, 0.10242649912834167, 0.05293430760502815, 0.07529721409082413, 0.10787041485309601, 0.0], [0.6014202237129211, 0.11340387165546417, 0.05631927400827408, 0.07096721231937408, 0.1090628057718277, 0.04882660508155823]], [[1.0, 0.0, 0.0, 0.0, 0.0, 0.0], [0.9445481896400452, 0.05545181781053543, 0.0, 0.0, 0.0, 0.0], [0.8874567747116089, 0.054742202162742615, 0.05780098959803581, 0.0, 0.0, 0.0], [0.8281881213188171, 0.06895041465759277, 0.059034936130046844, 0.043826598674058914, 0.0, 0.0], [0.6429886221885681, 0.06747572124004364, 0.11629719287157059, 0.05417964980006218, 0.11905882507562637, 0.0], [0.7367817163467407, 0.056119244545698166, 0.0685729905962944, 0.0342196486890316, 0.07875392585992813, 0.025552459061145782]], [[1.0, 0.0, 0.0, 0.0, 0.0, 0.0], [0.0002913392090704292, 0.9997085928916931, 0.0, 0.0, 0.0, 0.0], [0.0007981215021573007, 0.5288335084915161, 0.47036832571029663, 0.0, 0.0, 0.0], [0.0007648495957255363, 0.34519800543785095, 0.3085266947746277, 0.3455105125904083, 0.0, 0.0], [0.0010283137671649456, 0.24135896563529968, 0.23320136964321136, 0.2555716633796692, 0.2688397169113159, 0.0], [0.0009746801806613803, 0.17789681255817413, 0.16743150353431702, 0.18587623536586761, 0.18734429776668549, 0.2804764211177826]], [[1.0, 0.0, 0.0, 0.0, 0.0, 0.0], [0.8244926333427429, 0.17550736665725708, 0.0, 0.0, 0.0, 0.0], [0.12386886030435562, 0.04450000822544098, 0.8316311240196228, 0.0, 0.0, 0.0], [0.07924386113882065, 0.012965965084731579, 0.001527726068161428, 0.9062625169754028, 0.0, 0.0], [0.08806377649307251, 0.021341020241379738, 0.0028886187355965376, 0.0028453918639570475, 0.8848611116409302, 0.0], [0.09983241558074951, 0.03363398462533951, 0.005499999970197678, 0.002433058572933078, 0.001508240820840001, 0.8570923805236816]]], [[[1.0, 0.0, 0.0, 0.0, 0.0, 0.0], [0.9646893739700317, 0.03531067073345184, 0.0, 0.0, 0.0, 0.0], [0.752915620803833, 0.0873347818851471, 0.1597496122121811, 0.0, 0.0, 0.0], [0.42022907733917236, 0.09195100516080856, 0.23549817502498627, 0.252321720123291, 0.0, 0.0], [0.3084893524646759, 0.05908145010471344, 0.38391321897506714, 0.15659162402153015, 0.09192444384098053, 0.0], [0.44790348410606384, 0.04329321160912514, 0.07969199120998383, 0.11081957072019577, 0.2212458997964859, 0.09704583883285522]], [[1.0, 0.0, 0.0, 0.0, 0.0, 0.0], [0.991096019744873, 0.00890398770570755, 0.0, 0.0, 0.0, 0.0], [0.9697675704956055, 0.026084454730153084, 0.0041479249484837055, 0.0, 0.0, 0.0], [0.9082900285720825, 0.033206015825271606, 0.009421179071068764, 0.04908282309770584, 0.0, 0.0], [0.8949136137962341, 0.055445361882448196, 0.005577626638114452, 0.03150685876607895, 0.012556513771414757, 0.0], [0.8497741222381592, 0.028890041634440422, 0.0036647941451519728, 0.0375199019908905, 0.03842775151133537, 0.041723500937223434]], [[1.0, 0.0, 0.0, 0.0, 0.0, 0.0], [0.9984525442123413, 0.0015474447282031178, 0.0, 0.0, 0.0, 0.0], [0.48947733640670776, 0.4812204837799072, 0.029302237555384636, 0.0, 0.0, 0.0], [0.1177220344543457, 0.131212055683136, 0.670230507850647, 0.08083536475896835, 0.0, 0.0], [0.13043680787086487, 0.040686700493097305, 0.2652038633823395, 0.41143620014190674, 0.15223641693592072, 0.0], [0.1266186386346817, 0.032751280814409256, 0.035678680986166, 0.06039194017648697, 0.6021823287010193, 0.14237718284130096]], [[1.0, 0.0, 0.0, 0.0, 0.0, 0.0], [0.9805176854133606, 0.019482361152768135, 0.0, 0.0, 0.0, 0.0], [0.7948845028877258, 0.12061940878629684, 0.08449607342481613, 0.0, 0.0, 0.0], [0.5612362623214722, 0.15743127465248108, 0.20339690148830414, 0.07793557643890381, 0.0, 0.0], [0.42583802342414856, 0.107420414686203, 0.15123680233955383, 0.08755015581846237, 0.2279546856880188, 0.0], [0.247526153922081, 0.024188315495848656, 0.030395271256566048, 0.0858696773648262, 0.5714337229728699, 0.04058678075671196]], [[1.0, 0.0, 0.0, 0.0, 0.0, 0.0], [0.9887767434120178, 0.011223193258047104, 0.0, 0.0, 0.0, 0.0], [0.7572689056396484, 0.22317391633987427, 0.01955711469054222, 0.0, 0.0, 0.0], [0.534188985824585, 0.22107531130313873, 0.17621807754039764, 0.06851760298013687, 0.0, 0.0], [0.1709531843662262, 0.08229412138462067, 0.5760221481323242, 0.11097586899995804, 0.05975470319390297, 0.0], [0.24871155619621277, 0.0888080894947052, 0.0898018553853035, 0.09729322791099548, 0.4413086771965027, 0.03407656028866768]], [[1.0, 0.0, 0.0, 0.0, 0.0, 0.0], [0.8422133326530457, 0.15778674185276031, 0.0, 0.0, 0.0, 0.0], [0.4684129059314728, 0.46105366945266724, 0.07053348422050476, 0.0, 0.0, 0.0], [0.25881505012512207, 0.4635883867740631, 0.18503470718860626, 0.09256187081336975, 0.0, 0.0], [0.1839958131313324, 0.2915419340133667, 0.17031101882457733, 0.27172985672950745, 0.08242136985063553, 0.0], [0.16469866037368774, 0.24726979434490204, 0.08770564198493958, 0.2257501780986786, 0.17745359241962433, 0.0971221849322319]], [[1.0, 0.0, 0.0, 0.0, 0.0, 0.0], [0.9919946193695068, 0.008005390875041485, 0.0, 0.0, 0.0, 0.0], [0.9068724513053894, 0.04406515136361122, 0.04906249791383743, 0.0, 0.0, 0.0], [0.8582221865653992, 0.055348340421915054, 0.04041949659585953, 0.04600999131798744, 0.0, 0.0], [0.7855252027511597, 0.04124243184924126, 0.08369303494691849, 0.04887612164020538, 0.04066324606537819, 0.0], [0.7856316566467285, 0.050146445631980896, 0.04751276969909668, 0.027365924790501595, 0.0561474971473217, 0.03319568186998367]], [[1.0, 0.0, 0.0, 0.0, 0.0, 0.0], [0.9041039347648621, 0.09589607268571854, 0.0, 0.0, 0.0, 0.0], [0.5862313508987427, 0.07199801504611969, 0.34177055954933167, 0.0, 0.0, 0.0], [0.38789603114128113, 0.04660792276263237, 0.20279011130332947, 0.36270591616630554, 0.0, 0.0], [0.266524076461792, 0.024533001706004143, 0.12211966514587402, 0.20041236281394958, 0.3864108622074127, 0.0], [0.2335742861032486, 0.02053731307387352, 0.09610352665185928, 0.13062262535095215, 0.22990448772907257, 0.2892577648162842]], [[1.0, 0.0, 0.0, 0.0, 0.0, 0.0], [0.9639912843704224, 0.03600866720080376, 0.0, 0.0, 0.0, 0.0], [0.7075554132461548, 0.25427746772766113, 0.03816713020205498, 0.0, 0.0, 0.0], [0.2566538155078888, 0.20589275658130646, 0.01665661484003067, 0.5207968354225159, 0.0, 0.0], [0.10379398614168167, 0.046390973031520844, 0.008698644116520882, 0.7866848707199097, 0.054431553930044174, 0.0], [0.22143355011940002, 0.033797506242990494, 0.02902393788099289, 0.5412923097610474, 0.15286099910736084, 0.021591614931821823]], [[1.0, 0.0, 0.0, 0.0, 0.0, 0.0], [0.9891703724861145, 0.010829598642885685, 0.0, 0.0, 0.0, 0.0], [0.7913159728050232, 0.1230960264801979, 0.0855880156159401, 0.0, 0.0, 0.0], [0.29546085000038147, 0.15808266401290894, 0.4217235743999481, 0.12473298609256744, 0.0, 0.0], [0.23441052436828613, 0.09886527806520462, 0.33160147070884705, 0.1971394270658493, 0.1379832923412323, 0.0], [0.19728443026542664, 0.057418256998062134, 0.06909003108739853, 0.16469796001911163, 0.2797275185585022, 0.2317817509174347]], [[1.0, 0.0, 0.0, 0.0, 0.0, 0.0], [0.9359127283096313, 0.06408724933862686, 0.0, 0.0, 0.0, 0.0], [0.7888627052307129, 0.086734838783741, 0.1244024783372879, 0.0, 0.0, 0.0], [0.6535118818283081, 0.07573550194501877, 0.09732561558485031, 0.17342697083950043, 0.0, 0.0], [0.5222765803337097, 0.058278873562812805, 0.09920476377010345, 0.17020854353904724, 0.15003123879432678, 0.0], [0.4108838140964508, 0.04730610176920891, 0.07265669107437134, 0.10560758411884308, 0.10550003498792648, 0.2580457329750061]], [[1.0, 0.0, 0.0, 0.0, 0.0, 0.0], [0.9683833122253418, 0.03161666914820671, 0.0, 0.0, 0.0, 0.0], [0.8965396881103516, 0.03887055069208145, 0.06458982080221176, 0.0, 0.0, 0.0], [0.8264954090118408, 0.03213459998369217, 0.051967158913612366, 0.08940287679433823, 0.0, 0.0], [0.771817147731781, 0.030402876436710358, 0.04582748934626579, 0.07118481397628784, 0.08076764643192291, 0.0], [0.7292332053184509, 0.021699808537960052, 0.033074751496315, 0.047200970351696014, 0.06474553793668747, 0.10404572635889053]]], [[[1.0, 0.0, 0.0, 0.0, 0.0, 0.0], [0.9979567527770996, 0.0020432781893759966, 0.0, 0.0, 0.0, 0.0], [0.9552940726280212, 0.00802531000226736, 0.03668056055903435, 0.0, 0.0, 0.0], [0.925471305847168, 0.0027555758133530617, 0.00206298497505486, 0.0697101429104805, 0.0, 0.0], [0.8660571575164795, 0.0038883730303496122, 0.000678599055390805, 0.0006981441983953118, 0.12867768108844757, 0.0], [0.8455925583839417, 0.0037804089952260256, 0.00025342273875139654, 6.027055496815592e-05, 0.0001182075502583757, 0.1501951515674591]], [[1.0, 0.0, 0.0, 0.0, 0.0, 0.0], [0.9262459874153137, 0.07375400513410568, 0.0, 0.0, 0.0, 0.0], [0.7717162370681763, 0.16241960227489471, 0.06586415320634842, 0.0, 0.0, 0.0], [0.8167640566825867, 0.0780717059969902, 0.06324010342359543, 0.041924092918634415, 0.0, 0.0], [0.6867192983627319, 0.0775517150759697, 0.10056842118501663, 0.059550508856773376, 0.07561004161834717, 0.0], [0.642117440700531, 0.11014864593744278, 0.0768813043832779, 0.054033227264881134, 0.10333622992038727, 0.01348315179347992]], [[1.0, 0.0, 0.0, 0.0, 0.0, 0.0], [0.9395954012870789, 0.06040458753705025, 0.0, 0.0, 0.0, 0.0], [0.23004719614982605, 0.6617377400398254, 0.10821503400802612, 0.0, 0.0, 0.0], [0.26702091097831726, 0.3607969880104065, 0.3249621093273163, 0.04721994698047638, 0.0, 0.0], [0.595203697681427, 0.12269200384616852, 0.06301991641521454, 0.08916746824979782, 0.1299169361591339, 0.0], [0.10284474492073059, 0.029379907995462418, 0.013739032670855522, 0.04586051404476166, 0.769851803779602, 0.03832397609949112]], [[1.0, 0.0, 0.0, 0.0, 0.0, 0.0], [0.904097855091095, 0.09590208530426025, 0.0, 0.0, 0.0, 0.0], [0.3572397530078888, 0.6274594664573669, 0.015300781466066837, 0.0, 0.0, 0.0], [0.5918020606040955, 0.27640295028686523, 0.10475941002368927, 0.02703559212386608, 0.0, 0.0], [0.7254431843757629, 0.049830954521894455, 0.01498264167457819, 0.17781217396259308, 0.03193102404475212, 0.0], [0.7612760663032532, 0.06158866360783577, 0.005942120216786861, 0.016426634043455124, 0.126780703663826, 0.027985917404294014]], [[1.0, 0.0, 0.0, 0.0, 0.0, 0.0], [0.9947587847709656, 0.005241225007921457, 0.0, 0.0, 0.0, 0.0], [0.963241696357727, 0.017816387116909027, 0.018941964954137802, 0.0, 0.0, 0.0], [0.9671077132225037, 0.00850958563387394, 0.008562212809920311, 0.015820462256669998, 0.0, 0.0], [0.9340999722480774, 0.01195237971842289, 0.0201801136136055, 0.026750775054097176, 0.007016872521489859, 0.0], [0.9587239027023315, 0.004657103214412928, 0.0033267680555582047, 0.006545295938849449, 0.010182415135204792, 0.0165645033121109]], [[1.0, 0.0, 0.0, 0.0, 0.0, 0.0], [0.9769991040229797, 0.023000944405794144, 0.0, 0.0, 0.0, 0.0], [0.7917606830596924, 0.17533230781555176, 0.03290707990527153, 0.0, 0.0, 0.0], [0.7949199080467224, 0.1053181067109108, 0.040218379348516464, 0.059543587267398834, 0.0, 0.0], [0.7097731232643127, 0.10552491247653961, 0.0659753829240799, 0.057655807584524155, 0.061070751398801804, 0.0], [0.7506603002548218, 0.026514416560530663, 0.02157599851489067, 0.03429661691188812, 0.08494441956281662, 0.08200817555189133]], [[1.0, 0.0, 0.0, 0.0, 0.0, 0.0], [0.9837515950202942, 0.016248442232608795, 0.0, 0.0, 0.0, 0.0], [0.5615504384040833, 0.08956819772720337, 0.3488813042640686, 0.0, 0.0, 0.0], [0.3292921185493469, 0.02411479502916336, 0.5428044199943542, 0.10378871113061905, 0.0, 0.0], [0.3433031141757965, 0.013086349703371525, 0.5121973156929016, 0.11146238446235657, 0.019950827583670616, 0.0], [0.47928208112716675, 0.017333462834358215, 0.11805327236652374, 0.061302702873945236, 0.20071855187416077, 0.12330997735261917]], [[1.0, 0.0, 0.0, 0.0, 0.0, 0.0], [0.9908847212791443, 0.009115338325500488, 0.0, 0.0, 0.0, 0.0], [0.5282697081565857, 0.329226553440094, 0.14250372350215912, 0.0, 0.0, 0.0], [0.4878896176815033, 0.23368458449840546, 0.17577968537807465, 0.10264609754085541, 0.0, 0.0], [0.314449667930603, 0.180649995803833, 0.16871333122253418, 0.09506484866142273, 0.24112209677696228, 0.0], [0.516875147819519, 0.03589686378836632, 0.02618817426264286, 0.04039689525961876, 0.18791928887367249, 0.19272355735301971]], [[1.0, 0.0, 0.0, 0.0, 0.0, 0.0], [0.8750306963920593, 0.12496932595968246, 0.0, 0.0, 0.0, 0.0], [0.45506006479263306, 0.49004384875297546, 0.054896049201488495, 0.0, 0.0, 0.0], [0.29337164759635925, 0.5449909567832947, 0.09444276243448257, 0.0671946257352829, 0.0, 0.0], [0.4897095561027527, 0.27209898829460144, 0.068619504570961, 0.14694790542125702, 0.022624004632234573, 0.0], [0.4729057848453522, 0.08103073388338089, 0.016052119433879852, 0.3067234754562378, 0.10120765119791031, 0.022080309689044952]], [[1.0, 0.0, 0.0, 0.0, 0.0, 0.0], [0.9630221724510193, 0.03697776421904564, 0.0, 0.0, 0.0, 0.0], [0.7557196021080017, 0.1643640547990799, 0.07991636544466019, 0.0, 0.0, 0.0], [0.694770872592926, 0.08409861475229263, 0.06382570415735245, 0.1573048233985901, 0.0, 0.0], [0.5821168422698975, 0.03297801688313484, 0.07936544716358185, 0.19441282749176025, 0.11112681776285172, 0.0], [0.597453236579895, 0.042611002922058105, 0.06919699907302856, 0.14563480019569397, 0.12481795251369476, 0.020285995677113533]], [[1.0, 0.0, 0.0, 0.0, 0.0, 0.0], [0.9957822561264038, 0.004217796493321657, 0.0, 0.0, 0.0, 0.0], [0.931283712387085, 0.010560186579823494, 0.05815601721405983, 0.0, 0.0, 0.0], [0.8435329794883728, 0.015694962814450264, 0.04575089365243912, 0.09502116590738297, 0.0, 0.0], [0.7724104523658752, 0.011981171555817127, 0.03504578396677971, 0.038767702877521515, 0.14179477095603943, 0.0], [0.7642908096313477, 0.009868745692074299, 0.008122707717120647, 0.013314425013959408, 0.04824399575591087, 0.1561594009399414]], [[1.0, 0.0, 0.0, 0.0, 0.0, 0.0], [0.9701175093650818, 0.029882533475756645, 0.0, 0.0, 0.0, 0.0], [0.6564013957977295, 0.2250615507364273, 0.11853699386119843, 0.0, 0.0, 0.0], [0.6958046555519104, 0.1470194011926651, 0.07146008312702179, 0.0857158824801445, 0.0, 0.0], [0.6353287100791931, 0.13460613787174225, 0.03099406138062477, 0.05691603198647499, 0.14215515553951263, 0.0], [0.6779382824897766, 0.05365435779094696, 0.01800640858709812, 0.0628453940153122, 0.11038312315940857, 0.07717251032590866]]], [[[1.0, 0.0, 0.0, 0.0, 0.0, 0.0], [0.9822334051132202, 0.017766587436199188, 0.0, 0.0, 0.0, 0.0], [0.9037660956382751, 0.06541557610034943, 0.03081827238202095, 0.0, 0.0, 0.0], [0.8119180202484131, 0.03679049760103226, 0.06056082993745804, 0.09073063731193542, 0.0, 0.0], [0.40546438097953796, 0.10383863002061844, 0.10211163759231567, 0.3543432950973511, 0.034242067486047745, 0.0], [0.2282433658838272, 0.01727871783077717, 0.05055440962314606, 0.6015747785568237, 0.09411729127168655, 0.008231495507061481]], [[1.0, 0.0, 0.0, 0.0, 0.0, 0.0], [0.9873148202896118, 0.012685106135904789, 0.0, 0.0, 0.0, 0.0], [0.3544553816318512, 0.5317620635032654, 0.11378253996372223, 0.0, 0.0, 0.0], [0.07823341339826584, 0.7221351861953735, 0.10936630517244339, 0.09026506543159485, 0.0, 0.0], [0.2196795493364334, 0.4048422873020172, 0.12358050793409348, 0.2001895010471344, 0.0517081692814827, 0.0], [0.3608974516391754, 0.10458994656801224, 0.06983785331249237, 0.2976486384868622, 0.1386992484331131, 0.028326794505119324]], [[1.0, 0.0, 0.0, 0.0, 0.0, 0.0], [0.9732162356376648, 0.02678375132381916, 0.0, 0.0, 0.0, 0.0], [0.9167549014091492, 0.06145293265581131, 0.021792078390717506, 0.0, 0.0, 0.0], [0.8543080687522888, 0.08049597591161728, 0.030335018411278725, 0.03486090898513794, 0.0, 0.0], [0.8919216394424438, 0.04280775412917137, 0.022045090794563293, 0.023470621556043625, 0.01975489780306816, 0.0], [0.8116760849952698, 0.0341353714466095, 0.03567682206630707, 0.04748590663075447, 0.02539718709886074, 0.045628681778907776]], [[1.0, 0.0, 0.0, 0.0, 0.0, 0.0], [0.9502761363983154, 0.049723926931619644, 0.0, 0.0, 0.0, 0.0], [0.7637450695037842, 0.20073653757572174, 0.035518333315849304, 0.0, 0.0, 0.0], [0.6279101967811584, 0.0376814566552639, 0.19945232570171356, 0.13495612144470215, 0.0, 0.0], [0.6397072672843933, 0.027007289230823517, 0.09081897139549255, 0.20653867721557617, 0.035927820950746536, 0.0], [0.4559415578842163, 0.021641148254275322, 0.12939520180225372, 0.21801024675369263, 0.10379895567893982, 0.07121287286281586]], [[1.0, 0.0, 0.0, 0.0, 0.0, 0.0], [0.949840784072876, 0.05015924200415611, 0.0, 0.0, 0.0, 0.0], [0.8688720464706421, 0.08722209185361862, 0.04390587657690048, 0.0, 0.0, 0.0], [0.6937950253486633, 0.06359221041202545, 0.09179061651229858, 0.15082214772701263, 0.0, 0.0], [0.726659893989563, 0.04389888793230057, 0.04683985933661461, 0.09851793199777603, 0.08408348262310028, 0.0], [0.7848988175392151, 0.037147946655750275, 0.012907883152365685, 0.010539398528635502, 0.12079229950904846, 0.03371357545256615]], [[1.0, 0.0, 0.0, 0.0, 0.0, 0.0], [0.9891054034233093, 0.01089461799710989, 0.0, 0.0, 0.0, 0.0], [0.8929510116577148, 0.087001271545887, 0.020047681406140327, 0.0, 0.0, 0.0], [0.7891110777854919, 0.09797301143407822, 0.0863330066204071, 0.026582954451441765, 0.0, 0.0], [0.8850634098052979, 0.03645016998052597, 0.05395463854074478, 0.012377261184155941, 0.012154542841017246, 0.0], [0.6861327290534973, 0.05720385164022446, 0.011636361479759216, 0.021660521626472473, 0.17488014698028564, 0.048486415296792984]], [[1.0, 0.0, 0.0, 0.0, 0.0, 0.0], [0.9396193623542786, 0.060380659997463226, 0.0, 0.0, 0.0, 0.0], [0.7851788997650146, 0.19751502573490143, 0.017306093126535416, 0.0, 0.0, 0.0], [0.7660511136054993, 0.15444667637348175, 0.03188285231590271, 0.04761938750743866, 0.0, 0.0], [0.7035228610038757, 0.05171423405408859, 0.07760986685752869, 0.15339063107967377, 0.013762437738478184, 0.0], [0.7121887803077698, 0.049942418932914734, 0.037725359201431274, 0.0864911898970604, 0.06541414558887482, 0.04823815077543259]], [[1.0, 0.0, 0.0, 0.0, 0.0, 0.0], [0.9740723967552185, 0.025927582755684853, 0.0, 0.0, 0.0, 0.0], [0.7925393581390381, 0.01171562448143959, 0.19574503600597382, 0.0, 0.0, 0.0], [0.5106777548789978, 0.007296778727322817, 0.03962007910013199, 0.4424054026603699, 0.0, 0.0], [0.5862482190132141, 0.012099675834178925, 0.024585217237472534, 0.06737817078828812, 0.3096887171268463, 0.0], [0.3019630014896393, 0.007723969407379627, 0.011518090032041073, 0.04694710671901703, 0.22146669030189514, 0.4103810787200928]], [[1.0, 0.0, 0.0, 0.0, 0.0, 0.0], [0.9744554758071899, 0.025544486939907074, 0.0, 0.0, 0.0, 0.0], [0.9769196510314941, 0.015048469416797161, 0.00803192239254713, 0.0, 0.0, 0.0], [0.9060620665550232, 0.025875359773635864, 0.025954803451895714, 0.04210779070854187, 0.0, 0.0], [0.9400083422660828, 0.005556613672524691, 0.005828283727169037, 0.031757839024066925, 0.01684902422130108, 0.0], [0.9105741381645203, 0.001975212013348937, 0.008646724745631218, 0.013360838405787945, 0.03543954715132713, 0.030003532767295837]], [[1.0, 0.0, 0.0, 0.0, 0.0, 0.0], [0.9791666865348816, 0.020833317190408707, 0.0, 0.0, 0.0, 0.0], [0.8444864153862, 0.13507819175720215, 0.020435353741049767, 0.0, 0.0, 0.0], [0.79030841588974, 0.1455916166305542, 0.037530187517404556, 0.026569800451397896, 0.0, 0.0], [0.729892373085022, 0.05649634823203087, 0.032735567539930344, 0.10400468111038208, 0.07687091082334518, 0.0], [0.568419337272644, 0.043888114392757416, 0.026293445378541946, 0.08117109537124634, 0.24314820766448975, 0.03707980737090111]], [[1.0, 0.0, 0.0, 0.0, 0.0, 0.0], [0.9499869346618652, 0.05001309886574745, 0.0, 0.0, 0.0, 0.0], [0.9336172342300415, 0.058488547801971436, 0.007894248701632023, 0.0, 0.0, 0.0], [0.789783775806427, 0.11071790754795074, 0.0536017119884491, 0.04589656740427017, 0.0, 0.0], [0.8859301805496216, 0.057529836893081665, 0.013743293471634388, 0.003387755248695612, 0.03940898925065994, 0.0], [0.9337608814239502, 0.026470575481653214, 0.004523397423326969, 0.006190492305904627, 0.014132915996015072, 0.014921690337359905]], [[1.0, 0.0, 0.0, 0.0, 0.0, 0.0], [1.0, 1.8521365552359725e-09, 0.0, 0.0, 0.0, 0.0], [6.676049906673143e-06, 0.9999804496765137, 1.2841427633247804e-05, 0.0, 0.0, 0.0], [2.2194576843048708e-08, 2.668524290427854e-09, 0.9999971389770508, 2.8137685603724094e-06, 0.0, 0.0], [1.014530539578118e-06, 4.4639637764021245e-08, 0.00035354969440959394, 0.9993677735328674, 0.00027762516401708126, 0.0], [9.436316172894976e-10, 1.3820019781340953e-11, 5.017615212210558e-10, 2.96517832509835e-09, 0.9999971389770508, 2.864343969122274e-06]]], [[[1.0, 0.0, 0.0, 0.0, 0.0, 0.0], [0.9948632121086121, 0.005136759020388126, 0.0, 0.0, 0.0, 0.0], [0.9274215698242188, 0.018323808908462524, 0.05425465852022171, 0.0, 0.0, 0.0], [0.9678992033004761, 0.004143428988754749, 0.004314454738050699, 0.023642895743250847, 0.0, 0.0], [0.899907648563385, 0.0014671545941382647, 0.0002913349017035216, 0.0025850010570138693, 0.09574876725673676, 0.0], [0.9386117458343506, 0.00022248072491493076, 0.0006146605010144413, 0.001549550681374967, 0.030689243227243423, 0.02831234224140644]], [[1.0, 0.0, 0.0, 0.0, 0.0, 0.0], [0.9999959468841553, 4.042674390802858e-06, 0.0, 0.0, 0.0, 0.0], [0.9982761144638062, 3.2613336315989727e-06, 0.0017206775955855846, 0.0, 0.0, 0.0], [0.9998809099197388, 5.328825736228282e-08, 6.376306487254624e-07, 0.0001184718421427533, 0.0, 0.0], [0.9996154308319092, 3.47315932458514e-07, 3.892111877235038e-08, 4.468437566629291e-07, 0.0003836959949694574, 0.0], [0.9994840621948242, 1.6550142589721872e-08, 2.871566806561532e-08, 1.0638365210979828e-06, 0.00021266820840537548, 0.00030212124693207443]], [[1.0, 0.0, 0.0, 0.0, 0.0, 0.0], [0.9514135122299194, 0.04858648031949997, 0.0, 0.0, 0.0, 0.0], [0.574993908405304, 0.3902817368507385, 0.03472433611750603, 0.0, 0.0, 0.0], [0.7442327737808228, 0.1752404421567917, 0.07564744353294373, 0.004879289772361517, 0.0, 0.0], [0.5232067108154297, 0.09429281949996948, 0.11381927132606506, 0.19979366660118103, 0.06888758391141891, 0.0], [0.4747253656387329, 0.056365687400102615, 0.04530392214655876, 0.06967338174581528, 0.30980202555656433, 0.04412958398461342]], [[1.0, 0.0, 0.0, 0.0, 0.0, 0.0], [0.8734649419784546, 0.1265350729227066, 0.0, 0.0, 0.0, 0.0], [0.6097922921180725, 0.35417166352272034, 0.036035966128110886, 0.0, 0.0, 0.0], [0.45984140038490295, 0.38697922229766846, 0.09960115700960159, 0.05357823148369789, 0.0, 0.0], [0.572220504283905, 0.23636272549629211, 0.08344549685716629, 0.06921910494565964, 0.038752175867557526, 0.0], [0.514357328414917, 0.16723060607910156, 0.09019400179386139, 0.07654452323913574, 0.10578082501888275, 0.04589270055294037]], [[1.0, 0.0, 0.0, 0.0, 0.0, 0.0], [0.981228768825531, 0.018771247938275337, 0.0, 0.0, 0.0, 0.0], [0.6142950057983398, 0.35039687156677246, 0.0353081114590168, 0.0, 0.0, 0.0], [0.5770686268806458, 0.3285844624042511, 0.05508274585008621, 0.03926417976617813, 0.0, 0.0], [0.17188261449337006, 0.011042488738894463, 0.054578930139541626, 0.7326573133468628, 0.029838675633072853, 0.0], [0.37830254435539246, 0.017070047557353973, 0.021754169836640358, 0.44096678495407104, 0.06093871220946312, 0.08096770942211151]], [[1.0, 0.0, 0.0, 0.0, 0.0, 0.0], [0.9923112988471985, 0.0076887100003659725, 0.0, 0.0, 0.0, 0.0], [0.9498788118362427, 0.01670972816646099, 0.03341144695878029, 0.0, 0.0, 0.0], [0.9961296319961548, 0.0008787262486293912, 0.0006868175696581602, 0.0023048429284244776, 0.0, 0.0], [0.9935756325721741, 0.0032634977251291275, 0.000999384792521596, 0.0002793250896502286, 0.0018820626428350806, 0.0], [0.9907532930374146, 0.00021344258857425302, 0.0004595253267325461, 0.0007905654492788017, 0.00442475313320756, 0.0033583587501198053]], [[1.0, 0.0, 0.0, 0.0, 0.0, 0.0], [0.9647741317749023, 0.03522586449980736, 0.0, 0.0, 0.0, 0.0], [0.8194136023521423, 0.13654311001300812, 0.04404330253601074, 0.0, 0.0, 0.0], [0.7584235668182373, 0.006878924090415239, 0.20653478801250458, 0.028162678703665733, 0.0, 0.0], [0.5298117995262146, 0.002678808057680726, 0.07857982069253922, 0.35983842611312866, 0.029091155156493187, 0.0], [0.754441499710083, 0.00036781918606720865, 0.0019713419023901224, 0.0032400439959019423, 0.19423416256904602, 0.045745160430669785]], [[1.0, 0.0, 0.0, 0.0, 0.0, 0.0], [0.9749132394790649, 0.02508677914738655, 0.0, 0.0, 0.0, 0.0], [0.9306473135948181, 0.05705645680427551, 0.012296212837100029, 0.0, 0.0, 0.0], [0.9305253624916077, 0.05277096852660179, 0.011119387112557888, 0.005584376864135265, 0.0, 0.0], [0.8863321542739868, 0.012924176640808582, 0.01772472821176052, 0.06150190532207489, 0.021517064422369003, 0.0], [0.7916851043701172, 0.015036048367619514, 0.031747814267873764, 0.03392194211483002, 0.03707972168922424, 0.09052935987710953]], [[1.0, 0.0, 0.0, 0.0, 0.0, 0.0], [0.9608504772186279, 0.03914956748485565, 0.0, 0.0, 0.0, 0.0], [0.9121270179748535, 0.0225764662027359, 0.06529650092124939, 0.0, 0.0, 0.0], [0.9364106059074402, 0.015584406442940235, 0.024545013904571533, 0.02345995232462883, 0.0, 0.0], [0.9454619288444519, 0.006762223318219185, 0.022026218473911285, 0.00913779903203249, 0.016611794009804726, 0.0], [0.8346170783042908, 0.0018816773081198335, 0.005609007552266121, 0.018873529508709908, 0.12449172884225845, 0.01452699489891529]], [[1.0, 0.0, 0.0, 0.0, 0.0, 0.0], [0.9964227080345154, 0.003577274037525058, 0.0, 0.0, 0.0, 0.0], [0.9713929891586304, 0.02445298247039318, 0.004154051188379526, 0.0, 0.0, 0.0], [0.9735793471336365, 0.019003307446837425, 0.0036644041538238525, 0.003752927528694272, 0.0, 0.0], [0.9586312174797058, 0.007116167340427637, 0.009218405932188034, 0.02272568643093109, 0.0023084785789251328, 0.0], [0.973607063293457, 0.008490562438964844, 0.003251239424571395, 0.003606440033763647, 0.0048774476163089275, 0.006167203187942505]], [[1.0, 0.0, 0.0, 0.0, 0.0, 0.0], [0.9759878516197205, 0.02401207946240902, 0.0, 0.0, 0.0, 0.0], [0.9460638165473938, 0.04211374744772911, 0.011822420172393322, 0.0, 0.0, 0.0], [0.8446815609931946, 0.042930979281663895, 0.052181802690029144, 0.06020564213395119, 0.0, 0.0], [0.9378370046615601, 0.03354860842227936, 0.008826478384435177, 0.0028792452067136765, 0.016908586025238037, 0.0], [0.8124936819076538, 0.0269674900919199, 0.05999195575714111, 0.03445734083652496, 0.011011873371899128, 0.05507773160934448]], [[1.0, 0.0, 0.0, 0.0, 0.0, 0.0], [0.9001209735870361, 0.09987906366586685, 0.0, 0.0, 0.0, 0.0], [0.6271924376487732, 0.07988706976175308, 0.29292047023773193, 0.0, 0.0, 0.0], [0.7624086141586304, 0.02734416350722313, 0.038679495453834534, 0.17156772315502167, 0.0, 0.0], [0.7995964288711548, 0.014336240477859974, 0.01437566988170147, 0.025438444688916206, 0.14625321328639984, 0.0], [0.7851970791816711, 0.04204041510820389, 0.0252536628395319, 0.029083900153636932, 0.02930637076497078, 0.08911861479282379]]], [[[1.0, 0.0, 0.0, 0.0, 0.0, 0.0], [0.9954467415809631, 0.004553188104182482, 0.0, 0.0, 0.0, 0.0], [0.9356000423431396, 0.044767431914806366, 0.019632453098893166, 0.0, 0.0, 0.0], [0.5605552196502686, 0.09861954301595688, 0.29983270168304443, 0.04099256917834282, 0.0, 0.0], [0.5893716812133789, 0.11000912636518478, 0.08033595234155655, 0.16754071414470673, 0.052742499858140945, 0.0], [0.22306011617183685, 0.05680781602859497, 0.05467957630753517, 0.24734029173851013, 0.31112343072891235, 0.10698885470628738]], [[1.0, 0.0, 0.0, 0.0, 0.0, 0.0], [0.9301450252532959, 0.0698549896478653, 0.0, 0.0, 0.0, 0.0], [0.8936473727226257, 0.08535744249820709, 0.02099512703716755, 0.0, 0.0, 0.0], [0.8404536247253418, 0.10619217902421951, 0.023636844009160995, 0.029717376455664635, 0.0, 0.0], [0.8927386403083801, 0.024784628301858902, 0.008319017477333546, 0.05165451765060425, 0.022503133863210678, 0.0], [0.8646613359451294, 0.009503128007054329, 0.0024329759180545807, 0.04796736314892769, 0.04273195192217827, 0.032703179866075516]], [[1.0, 0.0, 0.0, 0.0, 0.0, 0.0], [0.9859625697135925, 0.014037422835826874, 0.0, 0.0, 0.0, 0.0], [0.9702038764953613, 0.01680702343583107, 0.012989108450710773, 0.0, 0.0, 0.0], [0.9524770379066467, 0.01606440730392933, 0.013456220738589764, 0.018002288416028023, 0.0, 0.0], [0.9332927465438843, 0.018971994519233704, 0.020146913826465607, 0.017023799940943718, 0.010564584285020828, 0.0], [0.9113592505455017, 0.012528584338724613, 0.02209623157978058, 0.017518600448966026, 0.018517879769206047, 0.017979370430111885]], [[1.0, 0.0, 0.0, 0.0, 0.0, 0.0], [0.9681767821311951, 0.031823206692934036, 0.0, 0.0, 0.0, 0.0], [0.909641683101654, 0.07916704565286636, 0.011191285215318203, 0.0, 0.0, 0.0], [0.8379938006401062, 0.13078218698501587, 0.012140980921685696, 0.0190830510109663, 0.0, 0.0], [0.9116524457931519, 0.054519571363925934, 0.009499364532530308, 0.0074658701196312904, 0.016862764954566956, 0.0], [0.8510292172431946, 0.07338184863328934, 0.008022483438253403, 0.00908315647393465, 0.04261001572012901, 0.015873229131102562]], [[1.0, 0.0, 0.0, 0.0, 0.0, 0.0], [0.9799023866653442, 0.02009764313697815, 0.0, 0.0, 0.0, 0.0], [0.9558743238449097, 0.029063154011964798, 0.015062526799738407, 0.0, 0.0, 0.0], [0.7943134903907776, 0.060740746557712555, 0.06907663494348526, 0.07586921006441116, 0.0, 0.0], [0.5494319796562195, 0.03154705464839935, 0.05482025071978569, 0.0578809417784214, 0.30631980299949646, 0.0], [0.6453986763954163, 0.010770875960588455, 0.017528092488646507, 0.021579833701252937, 0.249582439661026, 0.05514010041952133]], [[1.0, 0.0, 0.0, 0.0, 0.0, 0.0], [0.9506809115409851, 0.0493190623819828, 0.0, 0.0, 0.0, 0.0], [0.8553215265274048, 0.09256266057491302, 0.05211571976542473, 0.0, 0.0, 0.0], [0.8508530855178833, 0.04734566807746887, 0.04417697712779045, 0.05762428790330887, 0.0, 0.0], [0.769712507724762, 0.027885742485523224, 0.031017223373055458, 0.06842542439699173, 0.10295906662940979, 0.0], [0.7931907773017883, 0.04052164778113365, 0.029241811484098434, 0.04478137567639351, 0.048946961760520935, 0.04331738129258156]], [[1.0, 0.0, 0.0, 0.0, 0.0, 0.0], [0.9770310521125793, 0.022968975827097893, 0.0, 0.0, 0.0, 0.0], [0.9429819583892822, 0.017321424558758736, 0.039696723222732544, 0.0, 0.0, 0.0], [0.9144344925880432, 0.008583568967878819, 0.013035798445343971, 0.06394603103399277, 0.0, 0.0], [0.9222429990768433, 0.0036440384574234486, 0.0037402792368084192, 0.010410374030470848, 0.059962350875139236, 0.0], [0.9198879599571228, 0.0030822583939880133, 0.0034827394410967827, 0.004206802695989609, 0.021254297345876694, 0.048085931688547134]], [[1.0, 0.0, 0.0, 0.0, 0.0, 0.0], [0.9774582386016846, 0.022541804239153862, 0.0, 0.0, 0.0, 0.0], [0.8929325342178345, 0.07475457340478897, 0.03231294825673103, 0.0, 0.0, 0.0], [0.8423509001731873, 0.059802666306495667, 0.03740093484520912, 0.060445431619882584, 0.0, 0.0], [0.7674630284309387, 0.035363294184207916, 0.04215523228049278, 0.06658652424812317, 0.08843188732862473, 0.0], [0.6182613968849182, 0.01611054502427578, 0.020167633891105652, 0.038688939064741135, 0.23146985471248627, 0.07530158758163452]], [[1.0, 0.0, 0.0, 0.0, 0.0, 0.0], [0.9634859561920166, 0.036514006555080414, 0.0, 0.0, 0.0, 0.0], [0.4363924264907837, 0.5226381421089172, 0.0409693717956543, 0.0, 0.0, 0.0], [0.36086317896842957, 0.35129547119140625, 0.26551011204719543, 0.02233118936419487, 0.0, 0.0], [0.3942912817001343, 0.021704476326704025, 0.07794322818517685, 0.3716898262500763, 0.13437117636203766, 0.0], [0.6310707926750183, 0.01698385737836361, 0.025941932573914528, 0.08615948259830475, 0.21832098066806793, 0.021522969007492065]], [[1.0, 0.0, 0.0, 0.0, 0.0, 0.0], [0.9988250136375427, 0.0011750120902433991, 0.0, 0.0, 0.0, 0.0], [0.9944871068000793, 0.0004826366784982383, 0.00503023574128747, 0.0, 0.0, 0.0], [0.9981209635734558, 2.7051681172451936e-05, 0.00011307386739645153, 0.0017389492131769657, 0.0, 0.0], [0.9982240796089172, 6.836546526756138e-05, 0.00010199946700595319, 6.0283709899522364e-05, 0.0015453151427209377, 0.0], [0.9982888102531433, 1.0552126923357719e-06, 3.278084477642551e-05, 0.0001303898898186162, 0.0006605913513340056, 0.000886370544321835]], [[1.0, 0.0, 0.0, 0.0, 0.0, 0.0], [0.9936710596084595, 0.006328925024718046, 0.0, 0.0, 0.0, 0.0], [0.9727686047554016, 0.0018561407923698425, 0.02537521719932556, 0.0, 0.0, 0.0], [0.9724299907684326, 0.0019586130511015654, 0.011192455887794495, 0.01441890373826027, 0.0, 0.0], [0.9782041311264038, 0.0009589171386323869, 0.0018706527771428227, 0.006326586939394474, 0.012639714404940605, 0.0], [0.9592596888542175, 0.0024555076379328966, 0.0016124167013913393, 0.005019662901759148, 0.006687106564640999, 0.024965673685073853]], [[1.0, 0.0, 0.0, 0.0, 0.0, 0.0], [0.9629000425338745, 0.03710000589489937, 0.0, 0.0, 0.0, 0.0], [0.368019700050354, 0.6152254939079285, 0.016754835844039917, 0.0, 0.0, 0.0], [0.3173525333404541, 0.6139997839927673, 0.05375159531831741, 0.014896123670041561, 0.0, 0.0], [0.48987340927124023, 0.2107142210006714, 0.04693015292286873, 0.20700448751449585, 0.04547775909304619, 0.0], [0.48774290084838867, 0.1769522726535797, 0.06915199756622314, 0.09849286824464798, 0.12091417610645294, 0.046745769679546356]]], [[[1.0, 0.0, 0.0, 0.0, 0.0, 0.0], [0.9794418811798096, 0.020558105781674385, 0.0, 0.0, 0.0, 0.0], [0.6677899956703186, 0.3103238642215729, 0.021886125206947327, 0.0, 0.0, 0.0], [0.7118754982948303, 0.11108537018299103, 0.14187413454055786, 0.035164978355169296, 0.0, 0.0], [0.4501444399356842, 0.04036037623882294, 0.04045833647251129, 0.38857150077819824, 0.08046536147594452, 0.0], [0.49346134066581726, 0.013696889393031597, 0.008126810193061829, 0.1307455599308014, 0.30861467123031616, 0.045354776084423065]], [[1.0, 0.0, 0.0, 0.0, 0.0, 0.0], [0.9846054315567017, 0.015394587069749832, 0.0, 0.0, 0.0, 0.0], [0.9806739091873169, 0.007713802624493837, 0.011612347327172756, 0.0, 0.0, 0.0], [0.9326629042625427, 0.019578414037823677, 0.024103600531816483, 0.02365502528846264, 0.0, 0.0], [0.9422017931938171, 0.000953898299485445, 0.0010898022446781397, 0.003193383105099201, 0.05256117507815361, 0.0], [0.9352929592132568, 0.0010279379785060883, 0.004444452468305826, 0.0016371518140658736, 0.010591037571430206, 0.04700646921992302]], [[1.0, 0.0, 0.0, 0.0, 0.0, 0.0], [0.9985783100128174, 0.0014216642593964934, 0.0, 0.0, 0.0, 0.0], [0.9893348813056946, 0.001117888605222106, 0.009547184221446514, 0.0, 0.0, 0.0], [0.9979978203773499, 7.997058128239587e-05, 0.0001321886375080794, 0.001790043548680842, 0.0, 0.0], [0.9986976385116577, 4.1044077079277486e-05, 3.868332441925304e-06, 2.367625893384684e-05, 0.0012337120715528727, 0.0], [0.9971563816070557, 1.852221612352878e-05, 1.8826470977728604e-06, 2.790033795463387e-05, 0.0006533504347316921, 0.0021419881377369165]], [[1.0, 0.0, 0.0, 0.0, 0.0, 0.0], [0.9768233299255371, 0.02317671850323677, 0.0, 0.0, 0.0, 0.0], [0.9194679856300354, 0.05088174715638161, 0.029650233685970306, 0.0, 0.0, 0.0], [0.8474555015563965, 0.06100161001086235, 0.0437236987054348, 0.04781917482614517, 0.0, 0.0], [0.801162600517273, 0.04186687245965004, 0.043757982552051544, 0.04189474880695343, 0.07131775468587875, 0.0], [0.8031873106956482, 0.0245048888027668, 0.017323536798357964, 0.04744400829076767, 0.06109917163848877, 0.046441033482551575]], [[1.0, 0.0, 0.0, 0.0, 0.0, 0.0], [0.9829427003860474, 0.017057321965694427, 0.0, 0.0, 0.0, 0.0], [0.886372983455658, 0.09492714703083038, 0.01869990862905979, 0.0, 0.0, 0.0], [0.9231082797050476, 0.03696348890662193, 0.03219844773411751, 0.007729684002697468, 0.0, 0.0], [0.9068528413772583, 0.016046611592173576, 0.014310491271317005, 0.04543787240982056, 0.01735224574804306, 0.0], [0.6555972695350647, 0.050910260528326035, 0.028384851291775703, 0.1256551593542099, 0.10546848177909851, 0.03398388996720314]], [[1.0, 0.0, 0.0, 0.0, 0.0, 0.0], [0.9502319693565369, 0.04976798966526985, 0.0, 0.0, 0.0, 0.0], [0.8829870223999023, 0.10009586066007614, 0.016917143017053604, 0.0, 0.0, 0.0], [0.80574631690979, 0.14463508129119873, 0.03018917515873909, 0.019429394975304604, 0.0, 0.0], [0.8706235885620117, 0.03244053199887276, 0.026951542124152184, 0.04410284012556076, 0.02588149905204773, 0.0], [0.6883642673492432, 0.009681438095867634, 0.016449328511953354, 0.09871133416891098, 0.08971213549375534, 0.09708155691623688]], [[1.0, 0.0, 0.0, 0.0, 0.0, 0.0], [0.9792683720588684, 0.020731620490550995, 0.0, 0.0, 0.0, 0.0], [0.9523285627365112, 0.02593371830880642, 0.021737750619649887, 0.0, 0.0, 0.0], [0.9144353866577148, 0.01767120137810707, 0.02235855720937252, 0.04553478583693504, 0.0, 0.0], [0.9448292851448059, 0.006467591505497694, 0.006386075634509325, 0.03263094648718834, 0.009686185047030449, 0.0], [0.9347903728485107, 0.007862498983740807, 0.007788185030221939, 0.02143281325697899, 0.008491134271025658, 0.019634833559393883]], [[1.0, 0.0, 0.0, 0.0, 0.0, 0.0], [0.983370304107666, 0.016629742458462715, 0.0, 0.0, 0.0, 0.0], [0.963111400604248, 0.009229922667145729, 0.027658650651574135, 0.0, 0.0, 0.0], [0.9706627130508423, 0.004149414133280516, 0.006813078187406063, 0.01837468333542347, 0.0, 0.0], [0.987951934337616, 0.002165879588574171, 0.0003490079543553293, 0.0015838086837902665, 0.00794939324259758, 0.0], [0.9457951188087463, 0.01458354014903307, 0.0003652939631137997, 0.0009569547255523503, 0.013621637597680092, 0.024677468463778496]], [[1.0, 0.0, 0.0, 0.0, 0.0, 0.0], [0.9878058433532715, 0.012194144539535046, 0.0, 0.0, 0.0, 0.0], [0.87103670835495, 0.09448167681694031, 0.03448163717985153, 0.0, 0.0, 0.0], [0.6309786438941956, 0.11090352386236191, 0.19230222702026367, 0.06581560522317886, 0.0, 0.0], [0.536048412322998, 0.04618947580456734, 0.1360531747341156, 0.26455560326576233, 0.017153318971395493, 0.0], [0.8287516832351685, 0.02373271808028221, 0.020080402493476868, 0.07245294004678726, 0.030431287363171577, 0.024550972506403923]], [[1.0, 0.0, 0.0, 0.0, 0.0, 0.0], [0.8995685577392578, 0.10043143481016159, 0.0, 0.0, 0.0, 0.0], [0.27034327387809753, 0.6504329442977905, 0.07922383397817612, 0.0, 0.0, 0.0], [0.20541630685329437, 0.5892508625984192, 0.18085940182209015, 0.02447350136935711, 0.0, 0.0], [0.5573862195014954, 0.177413210272789, 0.088068388402462, 0.09881831705570221, 0.07831386476755142, 0.0], [0.592290997505188, 0.08700627833604813, 0.05643303692340851, 0.056858859956264496, 0.12181548029184341, 0.08559539169073105]], [[1.0, 0.0, 0.0, 0.0, 0.0, 0.0], [0.931638777256012, 0.06836120039224625, 0.0, 0.0, 0.0, 0.0], [0.9572949409484863, 0.026243247091770172, 0.016461802646517754, 0.0, 0.0, 0.0], [0.9880545735359192, 0.004273299127817154, 0.002954578958451748, 0.004717648029327393, 0.0, 0.0], [0.99403977394104, 0.0009413357474841177, 0.00047398044262081385, 0.00011646909115370363, 0.004428436513990164, 0.0], [0.9806036353111267, 2.546862197050359e-05, 0.00016239289834629744, 0.00014764144725631922, 0.0013442367780953646, 0.017716728150844574]], [[1.0, 0.0, 0.0, 0.0, 0.0, 0.0], [0.993178129196167, 0.006821870803833008, 0.0, 0.0, 0.0, 0.0], [0.9756524562835693, 0.013184125535190105, 0.011163492687046528, 0.0, 0.0, 0.0], [0.9418964385986328, 0.004721764009445906, 0.0023818116169422865, 0.05099993944168091, 0.0, 0.0], [0.9905040860176086, 0.0022848148364573717, 6.198474875418469e-05, 0.0005984468152746558, 0.006550672464072704, 0.0], [0.9697660207748413, 0.0008878824883140624, 0.00023466601851396263, 0.0017040767706930637, 0.004128345753997564, 0.023278921842575073]]], [[[1.0, 0.0, 0.0, 0.0, 0.0, 0.0], [0.9716231822967529, 0.02837679162621498, 0.0, 0.0, 0.0, 0.0], [0.9223621487617493, 0.028907138854265213, 0.04873068258166313, 0.0, 0.0, 0.0], [0.8426313400268555, 0.023872144520282745, 0.047481436282396317, 0.08601505309343338, 0.0, 0.0], [0.85211181640625, 0.020744264125823975, 0.04494625702500343, 0.05765020102262497, 0.02454744279384613, 0.0], [0.8800727725028992, 0.022448452189564705, 0.018235687166452408, 0.019254818558692932, 0.015854254364967346, 0.04413411021232605]], [[1.0, 0.0, 0.0, 0.0, 0.0, 0.0], [0.9412726759910583, 0.058727364987134933, 0.0, 0.0, 0.0, 0.0], [0.9163140058517456, 0.05759183689951897, 0.026094170287251472, 0.0, 0.0, 0.0], [0.839242160320282, 0.0576905831694603, 0.013829091563820839, 0.08923812210559845, 0.0, 0.0], [0.8987159132957458, 0.013477819971740246, 0.0003456466947682202, 0.0032987503800541162, 0.0841619074344635, 0.0], [0.8701689839363098, 0.002700856886804104, 0.0014349964912980795, 0.005666173063218594, 0.08874330669641495, 0.03128569573163986]], [[1.0, 0.0, 0.0, 0.0, 0.0, 0.0], [0.9656726121902466, 0.03432736173272133, 0.0, 0.0, 0.0, 0.0], [0.9178615212440491, 0.06225801631808281, 0.019880563020706177, 0.0, 0.0, 0.0], [0.8233142495155334, 0.0628240779042244, 0.03670453652739525, 0.07715719193220139, 0.0, 0.0], [0.8501748442649841, 0.03816916421055794, 0.03196500241756439, 0.05160141363739967, 0.028089623898267746, 0.0], [0.6572404503822327, 0.05877385288476944, 0.04336012154817581, 0.09013212472200394, 0.08146592229604721, 0.06902746111154556]], [[1.0, 0.0, 0.0, 0.0, 0.0, 0.0], [0.9162060022354126, 0.083794005215168, 0.0, 0.0, 0.0, 0.0], [0.9451773762702942, 0.040992800146341324, 0.013829780742526054, 0.0, 0.0, 0.0], [0.8928354978561401, 0.053686901926994324, 0.017596911638975143, 0.035880785435438156, 0.0, 0.0], [0.8337052464485168, 0.04799613356590271, 0.03351316228508949, 0.04680856689810753, 0.037976887077093124, 0.0], [0.8167197704315186, 0.06337109208106995, 0.013286222703754902, 0.020469728857278824, 0.025292275473475456, 0.06086099520325661]], [[1.0, 0.0, 0.0, 0.0, 0.0, 0.0], [0.9525134563446045, 0.047486551105976105, 0.0, 0.0, 0.0, 0.0], [0.3019862174987793, 0.6520944237709045, 0.04591928794980049, 0.0, 0.0, 0.0], [0.2855839431285858, 0.5569514036178589, 0.14447414875030518, 0.012990470044314861, 0.0, 0.0], [0.8438048958778381, 0.03225119784474373, 0.03954283148050308, 0.06848110258579254, 0.015920016914606094, 0.0], [0.6664943695068359, 0.06095915660262108, 0.04064341261982918, 0.06804454326629639, 0.09186326712369919, 0.07199524343013763]], [[1.0, 0.0, 0.0, 0.0, 0.0, 0.0], [0.9682655334472656, 0.03173443675041199, 0.0, 0.0, 0.0, 0.0], [0.738522469997406, 0.22856806218624115, 0.03290953114628792, 0.0, 0.0, 0.0], [0.5946678519248962, 0.23033133149147034, 0.14867620170116425, 0.026324663311243057, 0.0, 0.0], [0.633925199508667, 0.058130376040935516, 0.09654313325881958, 0.14291979372501373, 0.06848157942295074, 0.0], [0.4037562310695648, 0.08945389837026596, 0.07635080814361572, 0.2558715045452118, 0.1433037519454956, 0.03126386180520058]], [[1.0, 0.0, 0.0, 0.0, 0.0, 0.0], [0.9869793653488159, 0.013020625337958336, 0.0, 0.0, 0.0, 0.0], [0.8631383776664734, 0.11056670546531677, 0.026294900104403496, 0.0, 0.0, 0.0], [0.9488076567649841, 0.028615130111575127, 0.0065356092527508736, 0.016041582450270653, 0.0, 0.0], [0.9672170877456665, 0.006604980677366257, 0.00045171534293331206, 0.0048444150015711784, 0.02088177390396595, 0.0], [0.9354620575904846, 0.02047809027135372, 0.0011700252071022987, 0.007056962698698044, 0.016318202018737793, 0.019514672458171844]], [[1.0, 0.0, 0.0, 0.0, 0.0, 0.0], [0.9846674203872681, 0.015332573093473911, 0.0, 0.0, 0.0, 0.0], [0.9052745699882507, 0.08373618870973587, 0.010989260859787464, 0.0, 0.0, 0.0], [0.8145952224731445, 0.04283708333969116, 0.10568203777074814, 0.03688560053706169, 0.0, 0.0], [0.2351973056793213, 0.012018326669931412, 0.05280076339840889, 0.6516193747520447, 0.048364195972681046, 0.0], [0.31818506121635437, 0.01863221451640129, 0.039481643587350845, 0.3755551874637604, 0.20787331461906433, 0.040272586047649384]], [[1.0, 0.0, 0.0, 0.0, 0.0, 0.0], [0.9811733365058899, 0.01882672682404518, 0.0, 0.0, 0.0, 0.0], [0.861893892288208, 0.06479160487651825, 0.07331453263759613, 0.0, 0.0, 0.0], [0.7664538025856018, 0.07330423593521118, 0.10353542119264603, 0.05670652166008949, 0.0, 0.0], [0.8128498196601868, 0.0321548730134964, 0.05900559946894646, 0.05416519567370415, 0.04182438552379608, 0.0], [0.8687861561775208, 0.026987716555595398, 0.02046993374824524, 0.016297345981001854, 0.03218373283743858, 0.035275135189294815]], [[1.0, 0.0, 0.0, 0.0, 0.0, 0.0], [0.9264581799507141, 0.07354187220335007, 0.0, 0.0, 0.0, 0.0], [0.8403536081314087, 0.06373773515224457, 0.09590869396924973, 0.0, 0.0, 0.0], [0.7330989837646484, 0.06451132148504257, 0.10380109399557114, 0.09858868271112442, 0.0, 0.0], [0.9143612384796143, 0.008257808163762093, 0.0073203956708312035, 0.017966309562325478, 0.05209435895085335, 0.0], [0.8971917033195496, 0.008555500768125057, 0.007019444834440947, 0.014860525727272034, 0.0339975580573082, 0.03837524726986885]], [[1.0, 0.0, 0.0, 0.0, 0.0, 0.0], [0.9180349111557007, 0.08196508139371872, 0.0, 0.0, 0.0, 0.0], [0.8328663110733032, 0.1219903975725174, 0.04514330253005028, 0.0, 0.0, 0.0], [0.7994157671928406, 0.08744129538536072, 0.03605783358216286, 0.07708507031202316, 0.0, 0.0], [0.8809850811958313, 0.02074955217540264, 0.020554589107632637, 0.01712079532444477, 0.060589853674173355, 0.0], [0.7453036904335022, 0.04433392733335495, 0.022549254819750786, 0.03315271809697151, 0.033570535480976105, 0.1210898905992508]], [[1.0, 0.0, 0.0, 0.0, 0.0, 0.0], [0.9867060780525208, 0.013293919153511524, 0.0, 0.0, 0.0, 0.0], [0.982177734375, 0.012414089404046535, 0.0054081035777926445, 0.0, 0.0, 0.0], [0.96304851770401, 0.015290765091776848, 0.010345722548663616, 0.011315010488033295, 0.0, 0.0], [0.921357274055481, 0.01413238886743784, 0.017639128491282463, 0.016567641869187355, 0.030303535982966423, 0.0], [0.9373326301574707, 0.009064320474863052, 0.007548393681645393, 0.006576480343937874, 0.011827622540295124, 0.0276504959911108]]], [[[1.0, 0.0, 0.0, 0.0, 0.0, 0.0], [0.9951003193855286, 0.004899636376649141, 0.0, 0.0, 0.0, 0.0], [0.9476009607315063, 0.0414077453315258, 0.010991236194968224, 0.0, 0.0, 0.0], [0.9142175316810608, 0.023523783311247826, 0.039145033806562424, 0.023113638162612915, 0.0, 0.0], [0.953473687171936, 0.008932948112487793, 0.01527277659624815, 0.007908261381089687, 0.01441231183707714, 0.0], [0.9427104592323303, 0.008233043365180492, 0.00465096440166235, 0.004178092814981937, 0.0054634977132081985, 0.03476399928331375]], [[1.0, 0.0, 0.0, 0.0, 0.0, 0.0], [0.9543376564979553, 0.045662373304367065, 0.0, 0.0, 0.0, 0.0], [0.9696041941642761, 0.01954755000770092, 0.01084830705076456, 0.0, 0.0, 0.0], [0.9710449576377869, 0.012425432913005352, 0.00806890707463026, 0.008460727520287037, 0.0, 0.0], [0.9726192951202393, 0.0026976638473570347, 0.0004483149677980691, 0.0013814783887937665, 0.022853175178170204, 0.0], [0.9675466418266296, 0.00961342267692089, 0.0032030262518674135, 0.0042488230392336845, 0.0074422284960746765, 0.007945878431200981]], [[1.0, 0.0, 0.0, 0.0, 0.0, 0.0], [0.9887008666992188, 0.011299073696136475, 0.0, 0.0, 0.0, 0.0], [0.9382636547088623, 0.042042046785354614, 0.019694261252880096, 0.0, 0.0, 0.0], [0.8351991176605225, 0.03487854823470116, 0.05134488269686699, 0.07857739180326462, 0.0, 0.0], [0.9042680263519287, 0.010541534051299095, 0.016426660120487213, 0.025921886786818504, 0.0428418405354023, 0.0], [0.891313910484314, 0.008912678807973862, 0.00501069612801075, 0.008175642229616642, 0.013514752499759197, 0.07307230681180954]], [[1.0, 0.0, 0.0, 0.0, 0.0, 0.0], [0.8693918585777283, 0.1306082010269165, 0.0, 0.0, 0.0, 0.0], [0.35080042481422424, 0.6063504219055176, 0.042849235236644745, 0.0, 0.0, 0.0], [0.3547583222389221, 0.3502003252506256, 0.24722403287887573, 0.04781735688447952, 0.0, 0.0], [0.35370761156082153, 0.03527713194489479, 0.09567099064588547, 0.449795126914978, 0.06554913520812988, 0.0], [0.41325968503952026, 0.09055472165346146, 0.052865613251924515, 0.1746797263622284, 0.1738494336605072, 0.09479081630706787]], [[1.0, 0.0, 0.0, 0.0, 0.0, 0.0], [0.9629756212234497, 0.037024397403001785, 0.0, 0.0, 0.0, 0.0], [0.9756426811218262, 0.019658580422401428, 0.004698706325143576, 0.0, 0.0, 0.0], [0.9775736331939697, 0.013286329805850983, 0.002559035550802946, 0.006581075489521027, 0.0, 0.0], [0.9870142936706543, 0.007388250902295113, 0.0009579145698808134, 0.0018318254733458161, 0.0028077505994588137, 0.0], [0.9409247040748596, 0.016633691266179085, 0.0022979003842920065, 0.005890632979571819, 0.005512909963726997, 0.02874019555747509]], [[1.0, 0.0, 0.0, 0.0, 0.0, 0.0], [0.9628273248672485, 0.03717269375920296, 0.0, 0.0, 0.0, 0.0], [0.9582238793373108, 0.024641714990139008, 0.017134323716163635, 0.0, 0.0, 0.0], [0.93513023853302, 0.01533149741590023, 0.014810922555625439, 0.0347273163497448, 0.0, 0.0], [0.9225173592567444, 0.010528713464736938, 0.011010120622813702, 0.019440004602074623, 0.036503810435533524, 0.0], [0.8420169949531555, 0.043571874499320984, 0.007488242816179991, 0.01496151927858591, 0.023852799087762833, 0.06810850650072098]], [[1.0, 0.0, 0.0, 0.0, 0.0, 0.0], [0.9926387071609497, 0.007361325901001692, 0.0, 0.0, 0.0, 0.0], [0.9957393407821655, 0.003346974030137062, 0.0009136885637417436, 0.0, 0.0, 0.0], [0.9869900345802307, 0.001974782906472683, 0.0015245474642142653, 0.009510640986263752, 0.0, 0.0], [0.9933527708053589, 0.0010203201090916991, 0.0003433709207456559, 0.0010291049256920815, 0.00425435695797205, 0.0], [0.9749016761779785, 0.00043480066233314574, 0.00043065325007773936, 0.0012364318827167153, 0.0015347633743658662, 0.02146158739924431]], [[1.0, 0.0, 0.0, 0.0, 0.0, 0.0], [0.9897475242614746, 0.010252462700009346, 0.0, 0.0, 0.0, 0.0], [0.9790638089179993, 0.01650909334421158, 0.0044271135702729225, 0.0, 0.0, 0.0], [0.9521436095237732, 0.029432358220219612, 0.008943170309066772, 0.009480937384068966, 0.0, 0.0], [0.9395942091941833, 0.021510882303118706, 0.010278509929776192, 0.004555223509669304, 0.024061109870672226, 0.0], [0.9205077886581421, 0.016153603792190552, 0.01081855595111847, 0.016644351184368134, 0.014566346071660519, 0.021309340372681618]], [[1.0, 0.0, 0.0, 0.0, 0.0, 0.0], [0.9898501634597778, 0.010149819776415825, 0.0, 0.0, 0.0, 0.0], [0.9820910096168518, 0.006907487753778696, 0.01100151427090168, 0.0, 0.0, 0.0], [0.9684998393058777, 0.008987552486360073, 0.015342521481215954, 0.007170091383159161, 0.0, 0.0], [0.9274123311042786, 0.00948520191013813, 0.0220660287886858, 0.03222888335585594, 0.008807597681879997, 0.0], [0.9006659388542175, 0.021623671054840088, 0.013808254152536392, 0.009843875654041767, 0.00852135755121708, 0.045536916702985764]], [[1.0, 0.0, 0.0, 0.0, 0.0, 0.0], [0.9954444169998169, 0.004555590450763702, 0.0, 0.0, 0.0, 0.0], [0.995254397392273, 0.0024602320045232773, 0.0022854781709611416, 0.0, 0.0, 0.0], [0.9862446188926697, 0.001516818767413497, 0.0040722922421991825, 0.0081663578748703, 0.0, 0.0], [0.9889963865280151, 0.0012260394869372249, 0.0007996344938874245, 0.0006774224457331002, 0.008300562389194965, 0.0], [0.9865204095840454, 0.0003942691837437451, 0.0009571714326739311, 0.0004954344476573169, 0.0009604907245375216, 0.010672236792743206]], [[1.0, 0.0, 0.0, 0.0, 0.0, 0.0], [0.9821295142173767, 0.017870459705591202, 0.0, 0.0, 0.0, 0.0], [0.7489436864852905, 0.2200269252061844, 0.03102932497859001, 0.0, 0.0, 0.0], [0.2854772210121155, 0.21125562489032745, 0.4787178933620453, 0.02454923279583454, 0.0, 0.0], [0.8056645393371582, 0.026974491775035858, 0.043028220534324646, 0.06993702799081802, 0.05439576134085655, 0.0], [0.33072200417518616, 0.022326502948999405, 0.01662714220583439, 0.08019431680440903, 0.4157475531101227, 0.1343824714422226]], [[1.0, 0.0, 0.0, 0.0, 0.0, 0.0], [0.9697749018669128, 0.030225154012441635, 0.0, 0.0, 0.0, 0.0], [0.9800567030906677, 0.015018866397440434, 0.004924519918859005, 0.0, 0.0, 0.0], [0.9237860441207886, 0.052764892578125, 0.0063024163246154785, 0.01714668609201908, 0.0, 0.0], [0.9451844096183777, 0.036180466413497925, 0.0019892053678631783, 0.00395871140062809, 0.012687263078987598, 0.0], [0.9633329510688782, 0.018662935122847557, 0.0030418343376368284, 0.007070871535688639, 0.00500940065830946, 0.0028820636216551065]]], [[[1.0, 0.0, 0.0, 0.0, 0.0, 0.0], [0.987324595451355, 0.012675370089709759, 0.0, 0.0, 0.0, 0.0], [0.9904569983482361, 0.005541915539652109, 0.004001101944595575, 0.0, 0.0, 0.0], [0.9814971685409546, 0.004653455223888159, 0.003725287737324834, 0.0101240836083889, 0.0, 0.0], [0.9744365811347961, 0.004632247146219015, 0.0023799941409379244, 0.006518087349832058, 0.012033028528094292, 0.0], [0.9624497294425964, 0.0033743558451533318, 0.0013198574306443334, 0.0017275019781664014, 0.0029446815606206656, 0.028183799237012863]], [[1.0, 0.0, 0.0, 0.0, 0.0, 0.0], [0.9807674288749695, 0.01923258975148201, 0.0, 0.0, 0.0, 0.0], [0.9664245843887329, 0.015413926914334297, 0.01816139742732048, 0.0, 0.0, 0.0], [0.9632682204246521, 0.004538126289844513, 0.0029253901448100805, 0.029268160462379456, 0.0, 0.0], [0.9562349319458008, 0.0012223595986142755, 0.0005304060177877545, 0.00867142528295517, 0.033340804278850555, 0.0], [0.9657101035118103, 0.0009808256290853024, 0.0016686187591403723, 0.002634819597005844, 0.005866350140422583, 0.023139353841543198]], [[1.0, 0.0, 0.0, 0.0, 0.0, 0.0], [0.9639713764190674, 0.03602859377861023, 0.0, 0.0, 0.0, 0.0], [0.9562800526618958, 0.033733122050762177, 0.009986846707761288, 0.0, 0.0, 0.0], [0.8539993166923523, 0.08073055744171143, 0.03334458917379379, 0.03192553296685219, 0.0, 0.0], [0.9547491073608398, 0.009605043567717075, 0.004146174993366003, 0.0020133228972554207, 0.029486412182450294, 0.0], [0.9331135749816895, 0.028699703514575958, 0.005477482918649912, 0.006368076894432306, 0.012613032944500446, 0.013728110119700432]], [[1.0, 0.0, 0.0, 0.0, 0.0, 0.0], [0.9392993450164795, 0.06070062145590782, 0.0, 0.0, 0.0, 0.0], [0.9298389554023743, 0.061895567923784256, 0.008265494368970394, 0.0, 0.0, 0.0], [0.8471819758415222, 0.0903506875038147, 0.017636122182011604, 0.04483122378587723, 0.0, 0.0], [0.885770320892334, 0.03918176144361496, 0.007867710664868355, 0.02276587300002575, 0.04441443085670471, 0.0], [0.8563281893730164, 0.10088986903429031, 0.006531456485390663, 0.008485931903123856, 0.007368435151875019, 0.020396223291754723]], [[1.0, 0.0, 0.0, 0.0, 0.0, 0.0], [0.8353266716003418, 0.1646733283996582, 0.0, 0.0, 0.0, 0.0], [0.616086483001709, 0.313764363527298, 0.07014919072389603, 0.0, 0.0, 0.0], [0.34316375851631165, 0.27584928274154663, 0.11966024339199066, 0.26132670044898987, 0.0, 0.0], [0.5908174514770508, 0.0502907820045948, 0.041665904223918915, 0.21994897723197937, 0.0972769483923912, 0.0], [0.8481414318084717, 0.06318086385726929, 0.014733674004673958, 0.05526731535792351, 0.009015018120408058, 0.009661629796028137]], [[1.0, 0.0, 0.0, 0.0, 0.0, 0.0], [0.9627320766448975, 0.037267882376909256, 0.0, 0.0, 0.0, 0.0], [0.7757525444030762, 0.17996230721473694, 0.044285181909799576, 0.0, 0.0, 0.0], [0.6317052245140076, 0.24380743503570557, 0.10925715416669846, 0.01523028127849102, 0.0, 0.0], [0.9539909958839417, 0.01818225346505642, 0.011601817794144154, 0.012299083173274994, 0.003925768658518791, 0.0], [0.4035692811012268, 0.1423754096031189, 0.05661242455244064, 0.19757378101348877, 0.09299232810735703, 0.10687679052352905]], [[1.0, 0.0, 0.0, 0.0, 0.0, 0.0], [0.9802618026733398, 0.01973816193640232, 0.0, 0.0, 0.0, 0.0], [0.98739093542099, 0.007800442166626453, 0.0048086862079799175, 0.0, 0.0, 0.0], [0.9283917546272278, 0.008301272988319397, 0.013305719941854477, 0.05000118911266327, 0.0, 0.0], [0.8981058597564697, 0.015591289848089218, 0.010177561081945896, 0.039986737072467804, 0.03613854944705963, 0.0], [0.9753499031066895, 0.00035433052107691765, 0.0005866037681698799, 0.0011877462966367602, 0.001075089443475008, 0.021446414291858673]], [[1.0, 0.0, 0.0, 0.0, 0.0, 0.0], [0.9295329451560974, 0.07046709209680557, 0.0, 0.0, 0.0, 0.0], [0.9361505508422852, 0.04116687551140785, 0.022682568058371544, 0.0, 0.0, 0.0], [0.8486817479133606, 0.05802813917398453, 0.0248562078922987, 0.06843385845422745, 0.0, 0.0], [0.8661177754402161, 0.022324735298752785, 0.010369136929512024, 0.02600197307765484, 0.07518628984689713, 0.0], [0.8074417114257812, 0.04438265413045883, 0.01849714107811451, 0.03357793390750885, 0.01856130361557007, 0.07753922790288925]], [[1.0, 0.0, 0.0, 0.0, 0.0, 0.0], [0.9680535197257996, 0.031946420669555664, 0.0, 0.0, 0.0, 0.0], [0.9693689942359924, 0.02568492479622364, 0.004946073051542044, 0.0, 0.0, 0.0], [0.9620568156242371, 0.022552471607923508, 0.005471337586641312, 0.009919446893036366, 0.0, 0.0], [0.9727528095245361, 0.010137113742530346, 0.0007573263137601316, 0.0028828817885369062, 0.01346979383379221, 0.0], [0.9624636769294739, 0.0031109012197703123, 0.0010007594246417284, 0.0019475924782454967, 0.00826623197644949, 0.02321087382733822]], [[1.0, 0.0, 0.0, 0.0, 0.0, 0.0], [0.8542509078979492, 0.1457490772008896, 0.0, 0.0, 0.0, 0.0], [0.9725967645645142, 0.014116342179477215, 0.013286887668073177, 0.0, 0.0, 0.0], [0.9257619976997375, 0.032572753727436066, 0.014612194150686264, 0.027053089812397957, 0.0, 0.0], [0.7923442721366882, 0.027304992079734802, 0.018806710839271545, 0.13854004442691803, 0.023003995418548584, 0.0], [0.6152051091194153, 0.026655351743102074, 0.029353095218539238, 0.05590879172086716, 0.11611329019069672, 0.1567644327878952]], [[1.0, 0.0, 0.0, 0.0, 0.0, 0.0], [0.9804654121398926, 0.019534548744559288, 0.0, 0.0, 0.0, 0.0], [0.9882452487945557, 0.007509480696171522, 0.004245338030159473, 0.0, 0.0, 0.0], [0.9584203958511353, 0.010963640175759792, 0.01045613270252943, 0.020159821957349777, 0.0, 0.0], [0.9604810476303101, 0.007182626519352198, 0.0030723433010280132, 0.006898912601172924, 0.022365078330039978, 0.0], [0.9668889045715332, 0.0032812952995300293, 0.00550055131316185, 0.004234095104038715, 0.005038043484091759, 0.01505721639841795]], [[1.0, 0.0, 0.0, 0.0, 0.0, 0.0], [0.9498194456100464, 0.05018055811524391, 0.0, 0.0, 0.0, 0.0], [0.9781363606452942, 0.01643003709614277, 0.00543356453999877, 0.0, 0.0, 0.0], [0.8618696928024292, 0.03609364852309227, 0.07555550336837769, 0.026481153443455696, 0.0, 0.0], [0.5449840426445007, 0.0154111972078681, 0.023516522720456123, 0.25743579864501953, 0.15865245461463928, 0.0], [0.9571872353553772, 0.003080392023548484, 0.001444687251932919, 0.006861586589366198, 0.014818808995187283, 0.01660732924938202]]], [[[1.0, 0.0, 0.0, 0.0, 0.0, 0.0], [0.6156567931175232, 0.3843432068824768, 0.0, 0.0, 0.0, 0.0], [0.36760643124580383, 0.4281637966632843, 0.20422977209091187, 0.0, 0.0, 0.0], [0.16471539437770844, 0.4136793613433838, 0.2509235441684723, 0.17068175971508026, 0.0, 0.0], [0.41844621300697327, 0.1524759978055954, 0.10305390506982803, 0.1107151210308075, 0.21530869603157043, 0.0], [0.19686952233314514, 0.2014622539281845, 0.1282723993062973, 0.09203261137008667, 0.09167557209730148, 0.2896876931190491]], [[1.0, 0.0, 0.0, 0.0, 0.0, 0.0], [0.9027363657951355, 0.09726360440254211, 0.0, 0.0, 0.0, 0.0], [0.973663330078125, 0.014004354365170002, 0.012332331389188766, 0.0, 0.0, 0.0], [0.8504455089569092, 0.05690591782331467, 0.03206094354391098, 0.06058768928050995, 0.0, 0.0], [0.766120433807373, 0.03530407324433327, 0.03433050960302353, 0.0967523530125618, 0.06749258935451508, 0.0], [0.8650373220443726, 0.020085325464606285, 0.01149807684123516, 0.018558409065008163, 0.018430322408676147, 0.06639060378074646]], [[1.0, 0.0, 0.0, 0.0, 0.0, 0.0], [0.9653082489967346, 0.03469177335500717, 0.0, 0.0, 0.0, 0.0], [0.9816323518753052, 0.014176106080412865, 0.004191514104604721, 0.0, 0.0, 0.0], [0.9275255799293518, 0.047372251749038696, 0.011528252623975277, 0.013573972508311272, 0.0, 0.0], [0.9293117523193359, 0.02583330124616623, 0.007227106485515833, 0.014300605282187462, 0.023327238857746124, 0.0], [0.8895061612129211, 0.04689629003405571, 0.004717099480330944, 0.006286595948040485, 0.0060901278629899025, 0.046503696590662]], [[1.0, 0.0, 0.0, 0.0, 0.0, 0.0], [0.8938028812408447, 0.10619710385799408, 0.0, 0.0, 0.0, 0.0], [0.8221707344055176, 0.06304486840963364, 0.11478440463542938, 0.0, 0.0, 0.0], [0.5047385692596436, 0.15375731885433197, 0.2277035266160965, 0.11380063742399216, 0.0, 0.0], [0.4082077145576477, 0.09066348522901535, 0.11696866899728775, 0.24553164839744568, 0.1386285275220871, 0.0], [0.7291039228439331, 0.06638886779546738, 0.023112820461392403, 0.03110307827591896, 0.05714328587055206, 0.09314810484647751]], [[1.0, 0.0, 0.0, 0.0, 0.0, 0.0], [0.9247531890869141, 0.07524681836366653, 0.0, 0.0, 0.0, 0.0], [0.8957375288009644, 0.0698956698179245, 0.03436674177646637, 0.0, 0.0, 0.0], [0.7924939393997192, 0.0960114598274231, 0.05509104207158089, 0.0564035065472126, 0.0, 0.0], [0.789150595664978, 0.07880311459302902, 0.038401514291763306, 0.05396990105509758, 0.03967490792274475, 0.0], [0.7807855606079102, 0.07993552833795547, 0.04253167659044266, 0.032342202961444855, 0.0178169384598732, 0.04658801108598709]], [[1.0, 0.0, 0.0, 0.0, 0.0, 0.0], [0.9480886459350586, 0.05191135033965111, 0.0, 0.0, 0.0, 0.0], [0.863694429397583, 0.04756231606006622, 0.0887431651353836, 0.0, 0.0, 0.0], [0.9341367483139038, 0.022224243730306625, 0.02262451872229576, 0.02101437933743, 0.0, 0.0], [0.9588143229484558, 0.008020943962037563, 0.00449007423594594, 0.005862299352884293, 0.022812390699982643, 0.0], [0.938591718673706, 0.021227749064564705, 0.004872452467679977, 0.010940167121589184, 0.009524567052721977, 0.014843398705124855]], [[1.0, 0.0, 0.0, 0.0, 0.0, 0.0], [0.9763734340667725, 0.023626619949936867, 0.0, 0.0, 0.0, 0.0], [0.9884802103042603, 0.005189398769289255, 0.0063303615897893906, 0.0, 0.0, 0.0], [0.9477092027664185, 0.017985178157687187, 0.0101566007360816, 0.02414904534816742, 0.0, 0.0], [0.9671926498413086, 0.006552821025252342, 0.003322785021737218, 0.005563333630561829, 0.017368415370583534, 0.0], [0.9584562182426453, 0.007502950727939606, 0.00513631384819746, 0.008071641437709332, 0.005997116211801767, 0.014835822395980358]], [[1.0, 0.0, 0.0, 0.0, 0.0, 0.0], [0.8840707540512085, 0.11592917889356613, 0.0, 0.0, 0.0, 0.0], [0.993125319480896, 0.005070820450782776, 0.0018038044217973948, 0.0, 0.0, 0.0], [0.9534158110618591, 0.023829098790884018, 0.007748990319669247, 0.01500610914081335, 0.0, 0.0], [0.9151289463043213, 0.010873105376958847, 0.013190964236855507, 0.011050431989133358, 0.04975655674934387, 0.0], [0.8769674301147461, 0.03385206311941147, 0.008486470207571983, 0.009969159960746765, 0.03468584269285202, 0.03603913262486458]], [[1.0, 0.0, 0.0, 0.0, 0.0, 0.0], [0.0003709544544108212, 0.999629020690918, 0.0, 0.0, 0.0, 0.0], [6.525075150420889e-05, 0.37378257513046265, 0.6261522173881531, 0.0, 0.0, 0.0], [4.606056972988881e-05, 0.21050865948200226, 0.411596417427063, 0.37784892320632935, 0.0, 0.0], [4.753119355882518e-05, 0.11616958677768707, 0.23264272511005402, 0.3985331058502197, 0.2526070475578308, 0.0], [1.2476451729526161e-06, 0.14819666743278503, 0.15813177824020386, 0.30074360966682434, 0.1193905919790268, 0.27353614568710327]], [[1.0, 0.0, 0.0, 0.0, 0.0, 0.0], [0.971555769443512, 0.028444228693842888, 0.0, 0.0, 0.0, 0.0], [0.9529062509536743, 0.03233089670538902, 0.014762827195227146, 0.0, 0.0, 0.0], [0.9343125820159912, 0.023513032123446465, 0.020498063415288925, 0.02167630009353161, 0.0, 0.0], [0.9529678225517273, 0.008551443926990032, 0.004359325394034386, 0.008064579218626022, 0.026056963950395584, 0.0], [0.9653592705726624, 0.008487657643854618, 0.0034992764703929424, 0.002721586264669895, 0.0032828878611326218, 0.016649404540657997]], [[1.0, 0.0, 0.0, 0.0, 0.0, 0.0], [0.8630780577659607, 0.1369219720363617, 0.0, 0.0, 0.0, 0.0], [0.7696154117584229, 0.08513359725475311, 0.14525099098682404, 0.0, 0.0, 0.0], [0.7133333683013916, 0.10170912742614746, 0.1193128377199173, 0.06564464420080185, 0.0, 0.0], [0.7186221480369568, 0.054442938417196274, 0.013868182897567749, 0.07808040082454681, 0.13498634099960327, 0.0], [0.7990152835845947, 0.05805584415793419, 0.009447015821933746, 0.01777045428752899, 0.0211385078728199, 0.0945729911327362]], [[1.0, 0.0, 0.0, 0.0, 0.0, 0.0], [0.9518988728523254, 0.04810105636715889, 0.0, 0.0, 0.0, 0.0], [0.8580657839775085, 0.029445689171552658, 0.11248862743377686, 0.0, 0.0, 0.0], [0.6577740907669067, 0.08513446152210236, 0.12613065540790558, 0.13096080720424652, 0.0, 0.0], [0.80873703956604, 0.03230154141783714, 0.018418151885271072, 0.06856143474578857, 0.07198182493448257, 0.0], [0.6683299541473389, 0.1328137218952179, 0.021880580112338066, 0.027877412736415863, 0.04923404008150101, 0.09986433386802673]]]], \"left_text\": [\"No\", \",\", \" I\", \" am\", \" your\", \" father\"], \"right_text\": [\"No\", \",\", \" I\", \" am\", \" your\", \" father\"]}], \"default_filter\": \"0\", \"display_mode\": \"dark\", \"root_div_id\": \"bertviz-6a1c612b6e9542749340c376e0e47472\", \"include_layers\": [0, 1, 2, 3, 4, 5, 6, 7, 8, 9, 10, 11], \"include_heads\": [0, 1, 2, 3, 4, 5, 6, 7, 8, 9, 10, 11], \"total_heads\": 12}; // HACK: {\"attention\": [{\"name\": null, \"attn\": [[[[1.0, 0.0, 0.0, 0.0, 0.0, 0.0], [0.961219847202301, 0.038780126720666885, 0.0, 0.0, 0.0, 0.0], [0.7466979622840881, 0.11987314373254776, 0.1334289163351059, 0.0, 0.0, 0.0], [0.5885028839111328, 0.13792073726654053, 0.21213741600513458, 0.06143900379538536, 0.0, 0.0], [0.6570857167243958, 0.08996305614709854, 0.12751275300979614, 0.08361562341451645, 0.041822828352451324, 0.0], [0.27288734912872314, 0.11203354597091675, 0.16639846563339233, 0.08467115461826324, 0.16952739655971527, 0.19448213279247284]], [[1.0, 0.0, 0.0, 0.0, 0.0, 0.0], [0.010616553947329521, 0.9893833994865417, 0.0, 0.0, 0.0, 0.0], [0.0024677517358213663, 0.008448000065982342, 0.9890843033790588, 0.0, 0.0, 0.0], [0.00012328448065090925, 0.001873313682153821, 0.013126963749527931, 0.9848763942718506, 0.0, 0.0], [0.0010669559706002474, 0.001136627048254013, 0.003034998197108507, 0.0015735088381916285, 0.9931879043579102, 0.0], [0.00019792020611930639, 0.0010528132552281022, 0.0015437394613400102, 0.0009642784134484828, 3.492449832265265e-05, 0.9962062835693359]], [[1.0, 0.0, 0.0, 0.0, 0.0, 0.0], [0.4757845103740692, 0.5242154598236084, 0.0, 0.0, 0.0, 0.0], [0.5906044840812683, 0.2486610859632492, 0.1607344001531601, 0.0, 0.0, 0.0], [0.552929162979126, 0.18856704235076904, 0.14457565546035767, 0.11392819881439209, 0.0, 0.0], [0.45094069838523865, 0.16486795246601105, 0.17318040132522583, 0.11748011410236359, 0.09353082627058029, 0.0], [0.42572465538978577, 0.17328651249408722, 0.15651951730251312, 0.07022642344236374, 0.0808701142668724, 0.09337279945611954]], [[1.0, 0.0, 0.0, 0.0, 0.0, 0.0], [0.6133624315261841, 0.3866375684738159, 0.0, 0.0, 0.0, 0.0], [0.06098507344722748, 0.03253458812832832, 0.9064804315567017, 0.0, 0.0, 0.0], [0.006717091891914606, 0.0004012881254311651, 0.7572961449623108, 0.23558545112609863, 0.0, 0.0], [0.03722784295678139, 0.0029488641303032637, 0.10081139206886292, 0.041422780603170395, 0.8175891637802124, 0.0], [0.04989779368042946, 0.0003075827844440937, 0.002419829135760665, 0.0034334962256252766, 0.0006823891890235245, 0.9432588815689087]], [[1.0, 0.0, 0.0, 0.0, 0.0, 0.0], [0.9489555954933167, 0.05104440078139305, 0.0, 0.0, 0.0, 0.0], [0.6821408271789551, 0.1395242065191269, 0.17833493649959564, 0.0, 0.0, 0.0], [0.20366333425045013, 0.05641490966081619, 0.06399299949407578, 0.6759287118911743, 0.0, 0.0], [0.34195491671562195, 0.06725442409515381, 0.07926180213689804, 0.17836210131645203, 0.33316683769226074, 0.0], [0.09464015066623688, 0.007428212556988001, 0.006983965635299683, 0.007184378802776337, 0.018724262714385986, 0.8650389313697815]], [[1.0, 0.0, 0.0, 0.0, 0.0, 0.0], [0.33834579586982727, 0.6616541743278503, 0.0, 0.0, 0.0, 0.0], [0.0785597637295723, 0.006165453232824802, 0.9152747988700867, 0.0, 0.0, 0.0], [0.01677590422332287, 0.00040376908145844936, 0.0033404543064534664, 0.9794798493385315, 0.0, 0.0], [0.027600567787885666, 0.0004441539931576699, 0.0006541709881275892, 0.00022661943512503058, 0.9710745215415955, 0.0], [0.01024820376187563, 3.701564128277823e-05, 0.00016064087685663253, 2.7341924578649923e-05, 1.0187323823629413e-05, 0.98951655626297]], [[1.0, 0.0, 0.0, 0.0, 0.0, 0.0], [0.982503354549408, 0.017496641725301743, 0.0, 0.0, 0.0, 0.0], [0.8874198794364929, 0.05467931181192398, 0.05790078267455101, 0.0, 0.0, 0.0], [0.6849911212921143, 0.12280683219432831, 0.04972023144364357, 0.14248180389404297, 0.0, 0.0], [0.6015856266021729, 0.09881891310214996, 0.07070109993219376, 0.16652531921863556, 0.06236904859542847, 0.0], [0.3232504427433014, 0.12567415833473206, 0.04432179406285286, 0.0707697868347168, 0.06606657058000565, 0.3699173331260681]], [[1.0, 0.0, 0.0, 0.0, 0.0, 0.0], [0.9191647171974182, 0.0808352455496788, 0.0, 0.0, 0.0, 0.0], [0.45986422896385193, 0.3970310389995575, 0.1431046575307846, 0.0, 0.0, 0.0], [0.30038726329803467, 0.22181735932826996, 0.3816150426864624, 0.09618031233549118, 0.0, 0.0], [0.18963950872421265, 0.13763730227947235, 0.20173467695713043, 0.2363215535879135, 0.23466698825359344, 0.0], [0.15410441160202026, 0.09489507973194122, 0.11902560293674469, 0.10277969390153885, 0.431721955537796, 0.09747327119112015]], [[1.0, 0.0, 0.0, 0.0, 0.0, 0.0], [0.3650002181529999, 0.6349997520446777, 0.0, 0.0, 0.0, 0.0], [0.24595215916633606, 0.5519200563430786, 0.20212781429290771, 0.0, 0.0, 0.0], [0.27213600277900696, 0.4073861241340637, 0.25186216831207275, 0.06861580163240433, 0.0, 0.0], [0.10242559760808945, 0.16683609783649445, 0.5248048901557922, 0.05445466190576553, 0.15147875249385834, 0.0], [0.2502950131893158, 0.22198116779327393, 0.1889996975660324, 0.10677123814821243, 0.13032680749893188, 0.10162603110074997]], [[1.0, 0.0, 0.0, 0.0, 0.0, 0.0], [0.6990504264831543, 0.3009495735168457, 0.0, 0.0, 0.0, 0.0], [0.5107941031455994, 0.294864296913147, 0.19434157013893127, 0.0, 0.0, 0.0], [0.460470587015152, 0.2805192172527313, 0.19174805283546448, 0.06726215034723282, 0.0, 0.0], [0.37648412585258484, 0.21120671927928925, 0.20214536786079407, 0.1020701676607132, 0.10809355974197388, 0.0], [0.30138444900512695, 0.20456187427043915, 0.1825033575296402, 0.11019378900527954, 0.16291272640228271, 0.03844381496310234]], [[1.0, 0.0, 0.0, 0.0, 0.0, 0.0], [0.7131580114364624, 0.2868419587612152, 0.0, 0.0, 0.0, 0.0], [0.405879944562912, 0.18063302338123322, 0.4134870171546936, 0.0, 0.0, 0.0], [0.265546053647995, 0.1698586493730545, 0.33585938811302185, 0.22873595356941223, 0.0, 0.0], [0.31385400891304016, 0.18316704034805298, 0.14928361773490906, 0.05377671867609024, 0.29991868138313293, 0.0], [0.20466554164886475, 0.18731124699115753, 0.15959152579307556, 0.06381776928901672, 0.036423031240701675, 0.34819096326828003]], [[1.0, 0.0, 0.0, 0.0, 0.0, 0.0], [0.6586242914199829, 0.3413756787776947, 0.0, 0.0, 0.0, 0.0], [0.5917775630950928, 0.31600356101989746, 0.0922188088297844, 0.0, 0.0, 0.0], [0.5477150678634644, 0.23586955666542053, 0.06145602837204933, 0.1549593061208725, 0.0, 0.0], [0.4587060511112213, 0.22439995408058167, 0.07887425273656845, 0.0992034450173378, 0.13881632685661316, 0.0], [0.32743722200393677, 0.19600819051265717, 0.06805713474750519, 0.0892510786652565, 0.11618088185787201, 0.20306551456451416]]], [[[1.0, 0.0, 0.0, 0.0, 0.0, 0.0], [0.9961552023887634, 0.0038448444101959467, 0.0, 0.0, 0.0, 0.0], [0.8594855070114136, 0.06906120479106903, 0.07145323604345322, 0.0, 0.0, 0.0], [0.3800051808357239, 0.0412757508456707, 0.5496610999107361, 0.029057921841740608, 0.0, 0.0], [0.2144520878791809, 0.05088745057582855, 0.4317440092563629, 0.25869324803352356, 0.044223327189683914, 0.0], [0.11175242811441422, 0.017593061551451683, 0.027507437393069267, 0.040867775678634644, 0.7754672169685364, 0.026812128722667694]], [[1.0, 0.0, 0.0, 0.0, 0.0, 0.0], [0.9285966753959656, 0.07140329480171204, 0.0, 0.0, 0.0, 0.0], [0.6077283620834351, 0.3121430575847626, 0.08012863993644714, 0.0, 0.0, 0.0], [0.4942907392978668, 0.285037100315094, 0.11849302053451538, 0.10217911750078201, 0.0, 0.0], [0.41838762164115906, 0.23117919266223907, 0.0834062322974205, 0.11365960538387299, 0.15336737036705017, 0.0], [0.42215877771377563, 0.12917152047157288, 0.08740924298763275, 0.10163769125938416, 0.21230241656303406, 0.0473204180598259]], [[1.0, 0.0, 0.0, 0.0, 0.0, 0.0], [0.9786475896835327, 0.021352410316467285, 0.0, 0.0, 0.0, 0.0], [0.7749119400978088, 0.06510379910469055, 0.1599842607975006, 0.0, 0.0, 0.0], [0.6484918594360352, 0.07483147084712982, 0.1475161612033844, 0.12916044890880585, 0.0, 0.0], [0.5224637389183044, 0.06921815127134323, 0.13823407888412476, 0.11106600612401962, 0.15901802480220795, 0.0], [0.396451473236084, 0.07325827330350876, 0.12938156723976135, 0.10642445087432861, 0.14864006638526917, 0.14584414660930634]], [[1.0, 0.0, 0.0, 0.0, 0.0, 0.0], [0.5525909662246704, 0.447409063577652, 0.0, 0.0, 0.0, 0.0], [0.5585010051727295, 0.21762587130069733, 0.22387316823005676, 0.0, 0.0, 0.0], [0.5143133401870728, 0.15964657068252563, 0.1549195498228073, 0.17112062871456146, 0.0, 0.0], [0.5039961338043213, 0.11401885002851486, 0.11974025517702103, 0.12552587687969208, 0.13671891391277313, 0.0], [0.5061840415000916, 0.08567393571138382, 0.0890302062034607, 0.09759823232889175, 0.10275731235742569, 0.1187562569975853]], [[1.0, 0.0, 0.0, 0.0, 0.0, 0.0], [0.9242545962333679, 0.07574540376663208, 0.0, 0.0, 0.0, 0.0], [0.8257423043251038, 0.07932543754577637, 0.09493227303028107, 0.0, 0.0, 0.0], [0.7306382656097412, 0.08571825176477432, 0.08043920248746872, 0.10320423543453217, 0.0, 0.0], [0.6383239030838013, 0.07886391133069992, 0.07815028727054596, 0.08758103102445602, 0.11708080023527145, 0.0], [0.5552154183387756, 0.07409127801656723, 0.06834893673658371, 0.07778607308864594, 0.09999319911003113, 0.12456496804952621]], [[1.0, 0.0, 0.0, 0.0, 0.0, 0.0], [0.8578912019729614, 0.14210878312587738, 0.0, 0.0, 0.0, 0.0], [0.6423032879829407, 0.16629046201705933, 0.19140629470348358, 0.0, 0.0, 0.0], [0.5530969500541687, 0.10609286278486252, 0.07821279019117355, 0.26259738206863403, 0.0, 0.0], [0.40121644735336304, 0.12223614007234573, 0.19347335398197174, 0.14164642989635468, 0.1414276361465454, 0.0], [0.40212586522102356, 0.18450748920440674, 0.07516804337501526, 0.058490585535764694, 0.1444634348154068, 0.13524460792541504]], [[1.0, 0.0, 0.0, 0.0, 0.0, 0.0], [0.9791560173034668, 0.020844005048274994, 0.0, 0.0, 0.0, 0.0], [0.8829841613769531, 0.062332428991794586, 0.05468343570828438, 0.0, 0.0, 0.0], [0.8105451464653015, 0.08617085963487625, 0.07321798801422119, 0.03006598725914955, 0.0, 0.0], [0.6819810271263123, 0.049908194690942764, 0.08296558260917664, 0.08369531482458115, 0.10144990682601929, 0.0], [0.4056691825389862, 0.07337658852338791, 0.08601400256156921, 0.06170940399169922, 0.1322644203901291, 0.24096642434597015]], [[1.0, 0.0, 0.0, 0.0, 0.0, 0.0], [0.9670190811157227, 0.03298091143369675, 0.0, 0.0, 0.0, 0.0], [0.8449065089225769, 0.08514493703842163, 0.06994852423667908, 0.0, 0.0, 0.0], [0.7123570442199707, 0.07896050810813904, 0.05541075021028519, 0.15327171981334686, 0.0, 0.0], [0.6402614116668701, 0.07397546619176865, 0.04439306631684303, 0.1432214379310608, 0.09814866632223129, 0.0], [0.5073904991149902, 0.07523056864738464, 0.07754648476839066, 0.11362502723932266, 0.13947944343090057, 0.08672793954610825]], [[1.0, 0.0, 0.0, 0.0, 0.0, 0.0], [0.848756730556488, 0.15124329924583435, 0.0, 0.0, 0.0, 0.0], [0.8415652513504028, 0.12107212841510773, 0.037362683564424515, 0.0, 0.0, 0.0], [0.7505511045455933, 0.11348968744277954, 0.06179966405034065, 0.07415955513715744, 0.0, 0.0], [0.6614716053009033, 0.10242649912834167, 0.05293430760502815, 0.07529721409082413, 0.10787041485309601, 0.0], [0.6014202237129211, 0.11340387165546417, 0.05631927400827408, 0.07096721231937408, 0.1090628057718277, 0.04882660508155823]], [[1.0, 0.0, 0.0, 0.0, 0.0, 0.0], [0.9445481896400452, 0.05545181781053543, 0.0, 0.0, 0.0, 0.0], [0.8874567747116089, 0.054742202162742615, 0.05780098959803581, 0.0, 0.0, 0.0], [0.8281881213188171, 0.06895041465759277, 0.059034936130046844, 0.043826598674058914, 0.0, 0.0], [0.6429886221885681, 0.06747572124004364, 0.11629719287157059, 0.05417964980006218, 0.11905882507562637, 0.0], [0.7367817163467407, 0.056119244545698166, 0.0685729905962944, 0.0342196486890316, 0.07875392585992813, 0.025552459061145782]], [[1.0, 0.0, 0.0, 0.0, 0.0, 0.0], [0.0002913392090704292, 0.9997085928916931, 0.0, 0.0, 0.0, 0.0], [0.0007981215021573007, 0.5288335084915161, 0.47036832571029663, 0.0, 0.0, 0.0], [0.0007648495957255363, 0.34519800543785095, 0.3085266947746277, 0.3455105125904083, 0.0, 0.0], [0.0010283137671649456, 0.24135896563529968, 0.23320136964321136, 0.2555716633796692, 0.2688397169113159, 0.0], [0.0009746801806613803, 0.17789681255817413, 0.16743150353431702, 0.18587623536586761, 0.18734429776668549, 0.2804764211177826]], [[1.0, 0.0, 0.0, 0.0, 0.0, 0.0], [0.8244926333427429, 0.17550736665725708, 0.0, 0.0, 0.0, 0.0], [0.12386886030435562, 0.04450000822544098, 0.8316311240196228, 0.0, 0.0, 0.0], [0.07924386113882065, 0.012965965084731579, 0.001527726068161428, 0.9062625169754028, 0.0, 0.0], [0.08806377649307251, 0.021341020241379738, 0.0028886187355965376, 0.0028453918639570475, 0.8848611116409302, 0.0], [0.09983241558074951, 0.03363398462533951, 0.005499999970197678, 0.002433058572933078, 0.001508240820840001, 0.8570923805236816]]], [[[1.0, 0.0, 0.0, 0.0, 0.0, 0.0], [0.9646893739700317, 0.03531067073345184, 0.0, 0.0, 0.0, 0.0], [0.752915620803833, 0.0873347818851471, 0.1597496122121811, 0.0, 0.0, 0.0], [0.42022907733917236, 0.09195100516080856, 0.23549817502498627, 0.252321720123291, 0.0, 0.0], [0.3084893524646759, 0.05908145010471344, 0.38391321897506714, 0.15659162402153015, 0.09192444384098053, 0.0], [0.44790348410606384, 0.04329321160912514, 0.07969199120998383, 0.11081957072019577, 0.2212458997964859, 0.09704583883285522]], [[1.0, 0.0, 0.0, 0.0, 0.0, 0.0], [0.991096019744873, 0.00890398770570755, 0.0, 0.0, 0.0, 0.0], [0.9697675704956055, 0.026084454730153084, 0.0041479249484837055, 0.0, 0.0, 0.0], [0.9082900285720825, 0.033206015825271606, 0.009421179071068764, 0.04908282309770584, 0.0, 0.0], [0.8949136137962341, 0.055445361882448196, 0.005577626638114452, 0.03150685876607895, 0.012556513771414757, 0.0], [0.8497741222381592, 0.028890041634440422, 0.0036647941451519728, 0.0375199019908905, 0.03842775151133537, 0.041723500937223434]], [[1.0, 0.0, 0.0, 0.0, 0.0, 0.0], [0.9984525442123413, 0.0015474447282031178, 0.0, 0.0, 0.0, 0.0], [0.48947733640670776, 0.4812204837799072, 0.029302237555384636, 0.0, 0.0, 0.0], [0.1177220344543457, 0.131212055683136, 0.670230507850647, 0.08083536475896835, 0.0, 0.0], [0.13043680787086487, 0.040686700493097305, 0.2652038633823395, 0.41143620014190674, 0.15223641693592072, 0.0], [0.1266186386346817, 0.032751280814409256, 0.035678680986166, 0.06039194017648697, 0.6021823287010193, 0.14237718284130096]], [[1.0, 0.0, 0.0, 0.0, 0.0, 0.0], [0.9805176854133606, 0.019482361152768135, 0.0, 0.0, 0.0, 0.0], [0.7948845028877258, 0.12061940878629684, 0.08449607342481613, 0.0, 0.0, 0.0], [0.5612362623214722, 0.15743127465248108, 0.20339690148830414, 0.07793557643890381, 0.0, 0.0], [0.42583802342414856, 0.107420414686203, 0.15123680233955383, 0.08755015581846237, 0.2279546856880188, 0.0], [0.247526153922081, 0.024188315495848656, 0.030395271256566048, 0.0858696773648262, 0.5714337229728699, 0.04058678075671196]], [[1.0, 0.0, 0.0, 0.0, 0.0, 0.0], [0.9887767434120178, 0.011223193258047104, 0.0, 0.0, 0.0, 0.0], [0.7572689056396484, 0.22317391633987427, 0.01955711469054222, 0.0, 0.0, 0.0], [0.534188985824585, 0.22107531130313873, 0.17621807754039764, 0.06851760298013687, 0.0, 0.0], [0.1709531843662262, 0.08229412138462067, 0.5760221481323242, 0.11097586899995804, 0.05975470319390297, 0.0], [0.24871155619621277, 0.0888080894947052, 0.0898018553853035, 0.09729322791099548, 0.4413086771965027, 0.03407656028866768]], [[1.0, 0.0, 0.0, 0.0, 0.0, 0.0], [0.8422133326530457, 0.15778674185276031, 0.0, 0.0, 0.0, 0.0], [0.4684129059314728, 0.46105366945266724, 0.07053348422050476, 0.0, 0.0, 0.0], [0.25881505012512207, 0.4635883867740631, 0.18503470718860626, 0.09256187081336975, 0.0, 0.0], [0.1839958131313324, 0.2915419340133667, 0.17031101882457733, 0.27172985672950745, 0.08242136985063553, 0.0], [0.16469866037368774, 0.24726979434490204, 0.08770564198493958, 0.2257501780986786, 0.17745359241962433, 0.0971221849322319]], [[1.0, 0.0, 0.0, 0.0, 0.0, 0.0], [0.9919946193695068, 0.008005390875041485, 0.0, 0.0, 0.0, 0.0], [0.9068724513053894, 0.04406515136361122, 0.04906249791383743, 0.0, 0.0, 0.0], [0.8582221865653992, 0.055348340421915054, 0.04041949659585953, 0.04600999131798744, 0.0, 0.0], [0.7855252027511597, 0.04124243184924126, 0.08369303494691849, 0.04887612164020538, 0.04066324606537819, 0.0], [0.7856316566467285, 0.050146445631980896, 0.04751276969909668, 0.027365924790501595, 0.0561474971473217, 0.03319568186998367]], [[1.0, 0.0, 0.0, 0.0, 0.0, 0.0], [0.9041039347648621, 0.09589607268571854, 0.0, 0.0, 0.0, 0.0], [0.5862313508987427, 0.07199801504611969, 0.34177055954933167, 0.0, 0.0, 0.0], [0.38789603114128113, 0.04660792276263237, 0.20279011130332947, 0.36270591616630554, 0.0, 0.0], [0.266524076461792, 0.024533001706004143, 0.12211966514587402, 0.20041236281394958, 0.3864108622074127, 0.0], [0.2335742861032486, 0.02053731307387352, 0.09610352665185928, 0.13062262535095215, 0.22990448772907257, 0.2892577648162842]], [[1.0, 0.0, 0.0, 0.0, 0.0, 0.0], [0.9639912843704224, 0.03600866720080376, 0.0, 0.0, 0.0, 0.0], [0.7075554132461548, 0.25427746772766113, 0.03816713020205498, 0.0, 0.0, 0.0], [0.2566538155078888, 0.20589275658130646, 0.01665661484003067, 0.5207968354225159, 0.0, 0.0], [0.10379398614168167, 0.046390973031520844, 0.008698644116520882, 0.7866848707199097, 0.054431553930044174, 0.0], [0.22143355011940002, 0.033797506242990494, 0.02902393788099289, 0.5412923097610474, 0.15286099910736084, 0.021591614931821823]], [[1.0, 0.0, 0.0, 0.0, 0.0, 0.0], [0.9891703724861145, 0.010829598642885685, 0.0, 0.0, 0.0, 0.0], [0.7913159728050232, 0.1230960264801979, 0.0855880156159401, 0.0, 0.0, 0.0], [0.29546085000038147, 0.15808266401290894, 0.4217235743999481, 0.12473298609256744, 0.0, 0.0], [0.23441052436828613, 0.09886527806520462, 0.33160147070884705, 0.1971394270658493, 0.1379832923412323, 0.0], [0.19728443026542664, 0.057418256998062134, 0.06909003108739853, 0.16469796001911163, 0.2797275185585022, 0.2317817509174347]], [[1.0, 0.0, 0.0, 0.0, 0.0, 0.0], [0.9359127283096313, 0.06408724933862686, 0.0, 0.0, 0.0, 0.0], [0.7888627052307129, 0.086734838783741, 0.1244024783372879, 0.0, 0.0, 0.0], [0.6535118818283081, 0.07573550194501877, 0.09732561558485031, 0.17342697083950043, 0.0, 0.0], [0.5222765803337097, 0.058278873562812805, 0.09920476377010345, 0.17020854353904724, 0.15003123879432678, 0.0], [0.4108838140964508, 0.04730610176920891, 0.07265669107437134, 0.10560758411884308, 0.10550003498792648, 0.2580457329750061]], [[1.0, 0.0, 0.0, 0.0, 0.0, 0.0], [0.9683833122253418, 0.03161666914820671, 0.0, 0.0, 0.0, 0.0], [0.8965396881103516, 0.03887055069208145, 0.06458982080221176, 0.0, 0.0, 0.0], [0.8264954090118408, 0.03213459998369217, 0.051967158913612366, 0.08940287679433823, 0.0, 0.0], [0.771817147731781, 0.030402876436710358, 0.04582748934626579, 0.07118481397628784, 0.08076764643192291, 0.0], [0.7292332053184509, 0.021699808537960052, 0.033074751496315, 0.047200970351696014, 0.06474553793668747, 0.10404572635889053]]], [[[1.0, 0.0, 0.0, 0.0, 0.0, 0.0], [0.9979567527770996, 0.0020432781893759966, 0.0, 0.0, 0.0, 0.0], [0.9552940726280212, 0.00802531000226736, 0.03668056055903435, 0.0, 0.0, 0.0], [0.925471305847168, 0.0027555758133530617, 0.00206298497505486, 0.0697101429104805, 0.0, 0.0], [0.8660571575164795, 0.0038883730303496122, 0.000678599055390805, 0.0006981441983953118, 0.12867768108844757, 0.0], [0.8455925583839417, 0.0037804089952260256, 0.00025342273875139654, 6.027055496815592e-05, 0.0001182075502583757, 0.1501951515674591]], [[1.0, 0.0, 0.0, 0.0, 0.0, 0.0], [0.9262459874153137, 0.07375400513410568, 0.0, 0.0, 0.0, 0.0], [0.7717162370681763, 0.16241960227489471, 0.06586415320634842, 0.0, 0.0, 0.0], [0.8167640566825867, 0.0780717059969902, 0.06324010342359543, 0.041924092918634415, 0.0, 0.0], [0.6867192983627319, 0.0775517150759697, 0.10056842118501663, 0.059550508856773376, 0.07561004161834717, 0.0], [0.642117440700531, 0.11014864593744278, 0.0768813043832779, 0.054033227264881134, 0.10333622992038727, 0.01348315179347992]], [[1.0, 0.0, 0.0, 0.0, 0.0, 0.0], [0.9395954012870789, 0.06040458753705025, 0.0, 0.0, 0.0, 0.0], [0.23004719614982605, 0.6617377400398254, 0.10821503400802612, 0.0, 0.0, 0.0], [0.26702091097831726, 0.3607969880104065, 0.3249621093273163, 0.04721994698047638, 0.0, 0.0], [0.595203697681427, 0.12269200384616852, 0.06301991641521454, 0.08916746824979782, 0.1299169361591339, 0.0], [0.10284474492073059, 0.029379907995462418, 0.013739032670855522, 0.04586051404476166, 0.769851803779602, 0.03832397609949112]], [[1.0, 0.0, 0.0, 0.0, 0.0, 0.0], [0.904097855091095, 0.09590208530426025, 0.0, 0.0, 0.0, 0.0], [0.3572397530078888, 0.6274594664573669, 0.015300781466066837, 0.0, 0.0, 0.0], [0.5918020606040955, 0.27640295028686523, 0.10475941002368927, 0.02703559212386608, 0.0, 0.0], [0.7254431843757629, 0.049830954521894455, 0.01498264167457819, 0.17781217396259308, 0.03193102404475212, 0.0], [0.7612760663032532, 0.06158866360783577, 0.005942120216786861, 0.016426634043455124, 0.126780703663826, 0.027985917404294014]], [[1.0, 0.0, 0.0, 0.0, 0.0, 0.0], [0.9947587847709656, 0.005241225007921457, 0.0, 0.0, 0.0, 0.0], [0.963241696357727, 0.017816387116909027, 0.018941964954137802, 0.0, 0.0, 0.0], [0.9671077132225037, 0.00850958563387394, 0.008562212809920311, 0.015820462256669998, 0.0, 0.0], [0.9340999722480774, 0.01195237971842289, 0.0201801136136055, 0.026750775054097176, 0.007016872521489859, 0.0], [0.9587239027023315, 0.004657103214412928, 0.0033267680555582047, 0.006545295938849449, 0.010182415135204792, 0.0165645033121109]], [[1.0, 0.0, 0.0, 0.0, 0.0, 0.0], [0.9769991040229797, 0.023000944405794144, 0.0, 0.0, 0.0, 0.0], [0.7917606830596924, 0.17533230781555176, 0.03290707990527153, 0.0, 0.0, 0.0], [0.7949199080467224, 0.1053181067109108, 0.040218379348516464, 0.059543587267398834, 0.0, 0.0], [0.7097731232643127, 0.10552491247653961, 0.0659753829240799, 0.057655807584524155, 0.061070751398801804, 0.0], [0.7506603002548218, 0.026514416560530663, 0.02157599851489067, 0.03429661691188812, 0.08494441956281662, 0.08200817555189133]], [[1.0, 0.0, 0.0, 0.0, 0.0, 0.0], [0.9837515950202942, 0.016248442232608795, 0.0, 0.0, 0.0, 0.0], [0.5615504384040833, 0.08956819772720337, 0.3488813042640686, 0.0, 0.0, 0.0], [0.3292921185493469, 0.02411479502916336, 0.5428044199943542, 0.10378871113061905, 0.0, 0.0], [0.3433031141757965, 0.013086349703371525, 0.5121973156929016, 0.11146238446235657, 0.019950827583670616, 0.0], [0.47928208112716675, 0.017333462834358215, 0.11805327236652374, 0.061302702873945236, 0.20071855187416077, 0.12330997735261917]], [[1.0, 0.0, 0.0, 0.0, 0.0, 0.0], [0.9908847212791443, 0.009115338325500488, 0.0, 0.0, 0.0, 0.0], [0.5282697081565857, 0.329226553440094, 0.14250372350215912, 0.0, 0.0, 0.0], [0.4878896176815033, 0.23368458449840546, 0.17577968537807465, 0.10264609754085541, 0.0, 0.0], [0.314449667930603, 0.180649995803833, 0.16871333122253418, 0.09506484866142273, 0.24112209677696228, 0.0], [0.516875147819519, 0.03589686378836632, 0.02618817426264286, 0.04039689525961876, 0.18791928887367249, 0.19272355735301971]], [[1.0, 0.0, 0.0, 0.0, 0.0, 0.0], [0.8750306963920593, 0.12496932595968246, 0.0, 0.0, 0.0, 0.0], [0.45506006479263306, 0.49004384875297546, 0.054896049201488495, 0.0, 0.0, 0.0], [0.29337164759635925, 0.5449909567832947, 0.09444276243448257, 0.0671946257352829, 0.0, 0.0], [0.4897095561027527, 0.27209898829460144, 0.068619504570961, 0.14694790542125702, 0.022624004632234573, 0.0], [0.4729057848453522, 0.08103073388338089, 0.016052119433879852, 0.3067234754562378, 0.10120765119791031, 0.022080309689044952]], [[1.0, 0.0, 0.0, 0.0, 0.0, 0.0], [0.9630221724510193, 0.03697776421904564, 0.0, 0.0, 0.0, 0.0], [0.7557196021080017, 0.1643640547990799, 0.07991636544466019, 0.0, 0.0, 0.0], [0.694770872592926, 0.08409861475229263, 0.06382570415735245, 0.1573048233985901, 0.0, 0.0], [0.5821168422698975, 0.03297801688313484, 0.07936544716358185, 0.19441282749176025, 0.11112681776285172, 0.0], [0.597453236579895, 0.042611002922058105, 0.06919699907302856, 0.14563480019569397, 0.12481795251369476, 0.020285995677113533]], [[1.0, 0.0, 0.0, 0.0, 0.0, 0.0], [0.9957822561264038, 0.004217796493321657, 0.0, 0.0, 0.0, 0.0], [0.931283712387085, 0.010560186579823494, 0.05815601721405983, 0.0, 0.0, 0.0], [0.8435329794883728, 0.015694962814450264, 0.04575089365243912, 0.09502116590738297, 0.0, 0.0], [0.7724104523658752, 0.011981171555817127, 0.03504578396677971, 0.038767702877521515, 0.14179477095603943, 0.0], [0.7642908096313477, 0.009868745692074299, 0.008122707717120647, 0.013314425013959408, 0.04824399575591087, 0.1561594009399414]], [[1.0, 0.0, 0.0, 0.0, 0.0, 0.0], [0.9701175093650818, 0.029882533475756645, 0.0, 0.0, 0.0, 0.0], [0.6564013957977295, 0.2250615507364273, 0.11853699386119843, 0.0, 0.0, 0.0], [0.6958046555519104, 0.1470194011926651, 0.07146008312702179, 0.0857158824801445, 0.0, 0.0], [0.6353287100791931, 0.13460613787174225, 0.03099406138062477, 0.05691603198647499, 0.14215515553951263, 0.0], [0.6779382824897766, 0.05365435779094696, 0.01800640858709812, 0.0628453940153122, 0.11038312315940857, 0.07717251032590866]]], [[[1.0, 0.0, 0.0, 0.0, 0.0, 0.0], [0.9822334051132202, 0.017766587436199188, 0.0, 0.0, 0.0, 0.0], [0.9037660956382751, 0.06541557610034943, 0.03081827238202095, 0.0, 0.0, 0.0], [0.8119180202484131, 0.03679049760103226, 0.06056082993745804, 0.09073063731193542, 0.0, 0.0], [0.40546438097953796, 0.10383863002061844, 0.10211163759231567, 0.3543432950973511, 0.034242067486047745, 0.0], [0.2282433658838272, 0.01727871783077717, 0.05055440962314606, 0.6015747785568237, 0.09411729127168655, 0.008231495507061481]], [[1.0, 0.0, 0.0, 0.0, 0.0, 0.0], [0.9873148202896118, 0.012685106135904789, 0.0, 0.0, 0.0, 0.0], [0.3544553816318512, 0.5317620635032654, 0.11378253996372223, 0.0, 0.0, 0.0], [0.07823341339826584, 0.7221351861953735, 0.10936630517244339, 0.09026506543159485, 0.0, 0.0], [0.2196795493364334, 0.4048422873020172, 0.12358050793409348, 0.2001895010471344, 0.0517081692814827, 0.0], [0.3608974516391754, 0.10458994656801224, 0.06983785331249237, 0.2976486384868622, 0.1386992484331131, 0.028326794505119324]], [[1.0, 0.0, 0.0, 0.0, 0.0, 0.0], [0.9732162356376648, 0.02678375132381916, 0.0, 0.0, 0.0, 0.0], [0.9167549014091492, 0.06145293265581131, 0.021792078390717506, 0.0, 0.0, 0.0], [0.8543080687522888, 0.08049597591161728, 0.030335018411278725, 0.03486090898513794, 0.0, 0.0], [0.8919216394424438, 0.04280775412917137, 0.022045090794563293, 0.023470621556043625, 0.01975489780306816, 0.0], [0.8116760849952698, 0.0341353714466095, 0.03567682206630707, 0.04748590663075447, 0.02539718709886074, 0.045628681778907776]], [[1.0, 0.0, 0.0, 0.0, 0.0, 0.0], [0.9502761363983154, 0.049723926931619644, 0.0, 0.0, 0.0, 0.0], [0.7637450695037842, 0.20073653757572174, 0.035518333315849304, 0.0, 0.0, 0.0], [0.6279101967811584, 0.0376814566552639, 0.19945232570171356, 0.13495612144470215, 0.0, 0.0], [0.6397072672843933, 0.027007289230823517, 0.09081897139549255, 0.20653867721557617, 0.035927820950746536, 0.0], [0.4559415578842163, 0.021641148254275322, 0.12939520180225372, 0.21801024675369263, 0.10379895567893982, 0.07121287286281586]], [[1.0, 0.0, 0.0, 0.0, 0.0, 0.0], [0.949840784072876, 0.05015924200415611, 0.0, 0.0, 0.0, 0.0], [0.8688720464706421, 0.08722209185361862, 0.04390587657690048, 0.0, 0.0, 0.0], [0.6937950253486633, 0.06359221041202545, 0.09179061651229858, 0.15082214772701263, 0.0, 0.0], [0.726659893989563, 0.04389888793230057, 0.04683985933661461, 0.09851793199777603, 0.08408348262310028, 0.0], [0.7848988175392151, 0.037147946655750275, 0.012907883152365685, 0.010539398528635502, 0.12079229950904846, 0.03371357545256615]], [[1.0, 0.0, 0.0, 0.0, 0.0, 0.0], [0.9891054034233093, 0.01089461799710989, 0.0, 0.0, 0.0, 0.0], [0.8929510116577148, 0.087001271545887, 0.020047681406140327, 0.0, 0.0, 0.0], [0.7891110777854919, 0.09797301143407822, 0.0863330066204071, 0.026582954451441765, 0.0, 0.0], [0.8850634098052979, 0.03645016998052597, 0.05395463854074478, 0.012377261184155941, 0.012154542841017246, 0.0], [0.6861327290534973, 0.05720385164022446, 0.011636361479759216, 0.021660521626472473, 0.17488014698028564, 0.048486415296792984]], [[1.0, 0.0, 0.0, 0.0, 0.0, 0.0], [0.9396193623542786, 0.060380659997463226, 0.0, 0.0, 0.0, 0.0], [0.7851788997650146, 0.19751502573490143, 0.017306093126535416, 0.0, 0.0, 0.0], [0.7660511136054993, 0.15444667637348175, 0.03188285231590271, 0.04761938750743866, 0.0, 0.0], [0.7035228610038757, 0.05171423405408859, 0.07760986685752869, 0.15339063107967377, 0.013762437738478184, 0.0], [0.7121887803077698, 0.049942418932914734, 0.037725359201431274, 0.0864911898970604, 0.06541414558887482, 0.04823815077543259]], [[1.0, 0.0, 0.0, 0.0, 0.0, 0.0], [0.9740723967552185, 0.025927582755684853, 0.0, 0.0, 0.0, 0.0], [0.7925393581390381, 0.01171562448143959, 0.19574503600597382, 0.0, 0.0, 0.0], [0.5106777548789978, 0.007296778727322817, 0.03962007910013199, 0.4424054026603699, 0.0, 0.0], [0.5862482190132141, 0.012099675834178925, 0.024585217237472534, 0.06737817078828812, 0.3096887171268463, 0.0], [0.3019630014896393, 0.007723969407379627, 0.011518090032041073, 0.04694710671901703, 0.22146669030189514, 0.4103810787200928]], [[1.0, 0.0, 0.0, 0.0, 0.0, 0.0], [0.9744554758071899, 0.025544486939907074, 0.0, 0.0, 0.0, 0.0], [0.9769196510314941, 0.015048469416797161, 0.00803192239254713, 0.0, 0.0, 0.0], [0.9060620665550232, 0.025875359773635864, 0.025954803451895714, 0.04210779070854187, 0.0, 0.0], [0.9400083422660828, 0.005556613672524691, 0.005828283727169037, 0.031757839024066925, 0.01684902422130108, 0.0], [0.9105741381645203, 0.001975212013348937, 0.008646724745631218, 0.013360838405787945, 0.03543954715132713, 0.030003532767295837]], [[1.0, 0.0, 0.0, 0.0, 0.0, 0.0], [0.9791666865348816, 0.020833317190408707, 0.0, 0.0, 0.0, 0.0], [0.8444864153862, 0.13507819175720215, 0.020435353741049767, 0.0, 0.0, 0.0], [0.79030841588974, 0.1455916166305542, 0.037530187517404556, 0.026569800451397896, 0.0, 0.0], [0.729892373085022, 0.05649634823203087, 0.032735567539930344, 0.10400468111038208, 0.07687091082334518, 0.0], [0.568419337272644, 0.043888114392757416, 0.026293445378541946, 0.08117109537124634, 0.24314820766448975, 0.03707980737090111]], [[1.0, 0.0, 0.0, 0.0, 0.0, 0.0], [0.9499869346618652, 0.05001309886574745, 0.0, 0.0, 0.0, 0.0], [0.9336172342300415, 0.058488547801971436, 0.007894248701632023, 0.0, 0.0, 0.0], [0.789783775806427, 0.11071790754795074, 0.0536017119884491, 0.04589656740427017, 0.0, 0.0], [0.8859301805496216, 0.057529836893081665, 0.013743293471634388, 0.003387755248695612, 0.03940898925065994, 0.0], [0.9337608814239502, 0.026470575481653214, 0.004523397423326969, 0.006190492305904627, 0.014132915996015072, 0.014921690337359905]], [[1.0, 0.0, 0.0, 0.0, 0.0, 0.0], [1.0, 1.8521365552359725e-09, 0.0, 0.0, 0.0, 0.0], [6.676049906673143e-06, 0.9999804496765137, 1.2841427633247804e-05, 0.0, 0.0, 0.0], [2.2194576843048708e-08, 2.668524290427854e-09, 0.9999971389770508, 2.8137685603724094e-06, 0.0, 0.0], [1.014530539578118e-06, 4.4639637764021245e-08, 0.00035354969440959394, 0.9993677735328674, 0.00027762516401708126, 0.0], [9.436316172894976e-10, 1.3820019781340953e-11, 5.017615212210558e-10, 2.96517832509835e-09, 0.9999971389770508, 2.864343969122274e-06]]], [[[1.0, 0.0, 0.0, 0.0, 0.0, 0.0], [0.9948632121086121, 0.005136759020388126, 0.0, 0.0, 0.0, 0.0], [0.9274215698242188, 0.018323808908462524, 0.05425465852022171, 0.0, 0.0, 0.0], [0.9678992033004761, 0.004143428988754749, 0.004314454738050699, 0.023642895743250847, 0.0, 0.0], [0.899907648563385, 0.0014671545941382647, 0.0002913349017035216, 0.0025850010570138693, 0.09574876725673676, 0.0], [0.9386117458343506, 0.00022248072491493076, 0.0006146605010144413, 0.001549550681374967, 0.030689243227243423, 0.02831234224140644]], [[1.0, 0.0, 0.0, 0.0, 0.0, 0.0], [0.9999959468841553, 4.042674390802858e-06, 0.0, 0.0, 0.0, 0.0], [0.9982761144638062, 3.2613336315989727e-06, 0.0017206775955855846, 0.0, 0.0, 0.0], [0.9998809099197388, 5.328825736228282e-08, 6.376306487254624e-07, 0.0001184718421427533, 0.0, 0.0], [0.9996154308319092, 3.47315932458514e-07, 3.892111877235038e-08, 4.468437566629291e-07, 0.0003836959949694574, 0.0], [0.9994840621948242, 1.6550142589721872e-08, 2.871566806561532e-08, 1.0638365210979828e-06, 0.00021266820840537548, 0.00030212124693207443]], [[1.0, 0.0, 0.0, 0.0, 0.0, 0.0], [0.9514135122299194, 0.04858648031949997, 0.0, 0.0, 0.0, 0.0], [0.574993908405304, 0.3902817368507385, 0.03472433611750603, 0.0, 0.0, 0.0], [0.7442327737808228, 0.1752404421567917, 0.07564744353294373, 0.004879289772361517, 0.0, 0.0], [0.5232067108154297, 0.09429281949996948, 0.11381927132606506, 0.19979366660118103, 0.06888758391141891, 0.0], [0.4747253656387329, 0.056365687400102615, 0.04530392214655876, 0.06967338174581528, 0.30980202555656433, 0.04412958398461342]], [[1.0, 0.0, 0.0, 0.0, 0.0, 0.0], [0.8734649419784546, 0.1265350729227066, 0.0, 0.0, 0.0, 0.0], [0.6097922921180725, 0.35417166352272034, 0.036035966128110886, 0.0, 0.0, 0.0], [0.45984140038490295, 0.38697922229766846, 0.09960115700960159, 0.05357823148369789, 0.0, 0.0], [0.572220504283905, 0.23636272549629211, 0.08344549685716629, 0.06921910494565964, 0.038752175867557526, 0.0], [0.514357328414917, 0.16723060607910156, 0.09019400179386139, 0.07654452323913574, 0.10578082501888275, 0.04589270055294037]], [[1.0, 0.0, 0.0, 0.0, 0.0, 0.0], [0.981228768825531, 0.018771247938275337, 0.0, 0.0, 0.0, 0.0], [0.6142950057983398, 0.35039687156677246, 0.0353081114590168, 0.0, 0.0, 0.0], [0.5770686268806458, 0.3285844624042511, 0.05508274585008621, 0.03926417976617813, 0.0, 0.0], [0.17188261449337006, 0.011042488738894463, 0.054578930139541626, 0.7326573133468628, 0.029838675633072853, 0.0], [0.37830254435539246, 0.017070047557353973, 0.021754169836640358, 0.44096678495407104, 0.06093871220946312, 0.08096770942211151]], [[1.0, 0.0, 0.0, 0.0, 0.0, 0.0], [0.9923112988471985, 0.0076887100003659725, 0.0, 0.0, 0.0, 0.0], [0.9498788118362427, 0.01670972816646099, 0.03341144695878029, 0.0, 0.0, 0.0], [0.9961296319961548, 0.0008787262486293912, 0.0006868175696581602, 0.0023048429284244776, 0.0, 0.0], [0.9935756325721741, 0.0032634977251291275, 0.000999384792521596, 0.0002793250896502286, 0.0018820626428350806, 0.0], [0.9907532930374146, 0.00021344258857425302, 0.0004595253267325461, 0.0007905654492788017, 0.00442475313320756, 0.0033583587501198053]], [[1.0, 0.0, 0.0, 0.0, 0.0, 0.0], [0.9647741317749023, 0.03522586449980736, 0.0, 0.0, 0.0, 0.0], [0.8194136023521423, 0.13654311001300812, 0.04404330253601074, 0.0, 0.0, 0.0], [0.7584235668182373, 0.006878924090415239, 0.20653478801250458, 0.028162678703665733, 0.0, 0.0], [0.5298117995262146, 0.002678808057680726, 0.07857982069253922, 0.35983842611312866, 0.029091155156493187, 0.0], [0.754441499710083, 0.00036781918606720865, 0.0019713419023901224, 0.0032400439959019423, 0.19423416256904602, 0.045745160430669785]], [[1.0, 0.0, 0.0, 0.0, 0.0, 0.0], [0.9749132394790649, 0.02508677914738655, 0.0, 0.0, 0.0, 0.0], [0.9306473135948181, 0.05705645680427551, 0.012296212837100029, 0.0, 0.0, 0.0], [0.9305253624916077, 0.05277096852660179, 0.011119387112557888, 0.005584376864135265, 0.0, 0.0], [0.8863321542739868, 0.012924176640808582, 0.01772472821176052, 0.06150190532207489, 0.021517064422369003, 0.0], [0.7916851043701172, 0.015036048367619514, 0.031747814267873764, 0.03392194211483002, 0.03707972168922424, 0.09052935987710953]], [[1.0, 0.0, 0.0, 0.0, 0.0, 0.0], [0.9608504772186279, 0.03914956748485565, 0.0, 0.0, 0.0, 0.0], [0.9121270179748535, 0.0225764662027359, 0.06529650092124939, 0.0, 0.0, 0.0], [0.9364106059074402, 0.015584406442940235, 0.024545013904571533, 0.02345995232462883, 0.0, 0.0], [0.9454619288444519, 0.006762223318219185, 0.022026218473911285, 0.00913779903203249, 0.016611794009804726, 0.0], [0.8346170783042908, 0.0018816773081198335, 0.005609007552266121, 0.018873529508709908, 0.12449172884225845, 0.01452699489891529]], [[1.0, 0.0, 0.0, 0.0, 0.0, 0.0], [0.9964227080345154, 0.003577274037525058, 0.0, 0.0, 0.0, 0.0], [0.9713929891586304, 0.02445298247039318, 0.004154051188379526, 0.0, 0.0, 0.0], [0.9735793471336365, 0.019003307446837425, 0.0036644041538238525, 0.003752927528694272, 0.0, 0.0], [0.9586312174797058, 0.007116167340427637, 0.009218405932188034, 0.02272568643093109, 0.0023084785789251328, 0.0], [0.973607063293457, 0.008490562438964844, 0.003251239424571395, 0.003606440033763647, 0.0048774476163089275, 0.006167203187942505]], [[1.0, 0.0, 0.0, 0.0, 0.0, 0.0], [0.9759878516197205, 0.02401207946240902, 0.0, 0.0, 0.0, 0.0], [0.9460638165473938, 0.04211374744772911, 0.011822420172393322, 0.0, 0.0, 0.0], [0.8446815609931946, 0.042930979281663895, 0.052181802690029144, 0.06020564213395119, 0.0, 0.0], [0.9378370046615601, 0.03354860842227936, 0.008826478384435177, 0.0028792452067136765, 0.016908586025238037, 0.0], [0.8124936819076538, 0.0269674900919199, 0.05999195575714111, 0.03445734083652496, 0.011011873371899128, 0.05507773160934448]], [[1.0, 0.0, 0.0, 0.0, 0.0, 0.0], [0.9001209735870361, 0.09987906366586685, 0.0, 0.0, 0.0, 0.0], [0.6271924376487732, 0.07988706976175308, 0.29292047023773193, 0.0, 0.0, 0.0], [0.7624086141586304, 0.02734416350722313, 0.038679495453834534, 0.17156772315502167, 0.0, 0.0], [0.7995964288711548, 0.014336240477859974, 0.01437566988170147, 0.025438444688916206, 0.14625321328639984, 0.0], [0.7851970791816711, 0.04204041510820389, 0.0252536628395319, 0.029083900153636932, 0.02930637076497078, 0.08911861479282379]]], [[[1.0, 0.0, 0.0, 0.0, 0.0, 0.0], [0.9954467415809631, 0.004553188104182482, 0.0, 0.0, 0.0, 0.0], [0.9356000423431396, 0.044767431914806366, 0.019632453098893166, 0.0, 0.0, 0.0], [0.5605552196502686, 0.09861954301595688, 0.29983270168304443, 0.04099256917834282, 0.0, 0.0], [0.5893716812133789, 0.11000912636518478, 0.08033595234155655, 0.16754071414470673, 0.052742499858140945, 0.0], [0.22306011617183685, 0.05680781602859497, 0.05467957630753517, 0.24734029173851013, 0.31112343072891235, 0.10698885470628738]], [[1.0, 0.0, 0.0, 0.0, 0.0, 0.0], [0.9301450252532959, 0.0698549896478653, 0.0, 0.0, 0.0, 0.0], [0.8936473727226257, 0.08535744249820709, 0.02099512703716755, 0.0, 0.0, 0.0], [0.8404536247253418, 0.10619217902421951, 0.023636844009160995, 0.029717376455664635, 0.0, 0.0], [0.8927386403083801, 0.024784628301858902, 0.008319017477333546, 0.05165451765060425, 0.022503133863210678, 0.0], [0.8646613359451294, 0.009503128007054329, 0.0024329759180545807, 0.04796736314892769, 0.04273195192217827, 0.032703179866075516]], [[1.0, 0.0, 0.0, 0.0, 0.0, 0.0], [0.9859625697135925, 0.014037422835826874, 0.0, 0.0, 0.0, 0.0], [0.9702038764953613, 0.01680702343583107, 0.012989108450710773, 0.0, 0.0, 0.0], [0.9524770379066467, 0.01606440730392933, 0.013456220738589764, 0.018002288416028023, 0.0, 0.0], [0.9332927465438843, 0.018971994519233704, 0.020146913826465607, 0.017023799940943718, 0.010564584285020828, 0.0], [0.9113592505455017, 0.012528584338724613, 0.02209623157978058, 0.017518600448966026, 0.018517879769206047, 0.017979370430111885]], [[1.0, 0.0, 0.0, 0.0, 0.0, 0.0], [0.9681767821311951, 0.031823206692934036, 0.0, 0.0, 0.0, 0.0], [0.909641683101654, 0.07916704565286636, 0.011191285215318203, 0.0, 0.0, 0.0], [0.8379938006401062, 0.13078218698501587, 0.012140980921685696, 0.0190830510109663, 0.0, 0.0], [0.9116524457931519, 0.054519571363925934, 0.009499364532530308, 0.0074658701196312904, 0.016862764954566956, 0.0], [0.8510292172431946, 0.07338184863328934, 0.008022483438253403, 0.00908315647393465, 0.04261001572012901, 0.015873229131102562]], [[1.0, 0.0, 0.0, 0.0, 0.0, 0.0], [0.9799023866653442, 0.02009764313697815, 0.0, 0.0, 0.0, 0.0], [0.9558743238449097, 0.029063154011964798, 0.015062526799738407, 0.0, 0.0, 0.0], [0.7943134903907776, 0.060740746557712555, 0.06907663494348526, 0.07586921006441116, 0.0, 0.0], [0.5494319796562195, 0.03154705464839935, 0.05482025071978569, 0.0578809417784214, 0.30631980299949646, 0.0], [0.6453986763954163, 0.010770875960588455, 0.017528092488646507, 0.021579833701252937, 0.249582439661026, 0.05514010041952133]], [[1.0, 0.0, 0.0, 0.0, 0.0, 0.0], [0.9506809115409851, 0.0493190623819828, 0.0, 0.0, 0.0, 0.0], [0.8553215265274048, 0.09256266057491302, 0.05211571976542473, 0.0, 0.0, 0.0], [0.8508530855178833, 0.04734566807746887, 0.04417697712779045, 0.05762428790330887, 0.0, 0.0], [0.769712507724762, 0.027885742485523224, 0.031017223373055458, 0.06842542439699173, 0.10295906662940979, 0.0], [0.7931907773017883, 0.04052164778113365, 0.029241811484098434, 0.04478137567639351, 0.048946961760520935, 0.04331738129258156]], [[1.0, 0.0, 0.0, 0.0, 0.0, 0.0], [0.9770310521125793, 0.022968975827097893, 0.0, 0.0, 0.0, 0.0], [0.9429819583892822, 0.017321424558758736, 0.039696723222732544, 0.0, 0.0, 0.0], [0.9144344925880432, 0.008583568967878819, 0.013035798445343971, 0.06394603103399277, 0.0, 0.0], [0.9222429990768433, 0.0036440384574234486, 0.0037402792368084192, 0.010410374030470848, 0.059962350875139236, 0.0], [0.9198879599571228, 0.0030822583939880133, 0.0034827394410967827, 0.004206802695989609, 0.021254297345876694, 0.048085931688547134]], [[1.0, 0.0, 0.0, 0.0, 0.0, 0.0], [0.9774582386016846, 0.022541804239153862, 0.0, 0.0, 0.0, 0.0], [0.8929325342178345, 0.07475457340478897, 0.03231294825673103, 0.0, 0.0, 0.0], [0.8423509001731873, 0.059802666306495667, 0.03740093484520912, 0.060445431619882584, 0.0, 0.0], [0.7674630284309387, 0.035363294184207916, 0.04215523228049278, 0.06658652424812317, 0.08843188732862473, 0.0], [0.6182613968849182, 0.01611054502427578, 0.020167633891105652, 0.038688939064741135, 0.23146985471248627, 0.07530158758163452]], [[1.0, 0.0, 0.0, 0.0, 0.0, 0.0], [0.9634859561920166, 0.036514006555080414, 0.0, 0.0, 0.0, 0.0], [0.4363924264907837, 0.5226381421089172, 0.0409693717956543, 0.0, 0.0, 0.0], [0.36086317896842957, 0.35129547119140625, 0.26551011204719543, 0.02233118936419487, 0.0, 0.0], [0.3942912817001343, 0.021704476326704025, 0.07794322818517685, 0.3716898262500763, 0.13437117636203766, 0.0], [0.6310707926750183, 0.01698385737836361, 0.025941932573914528, 0.08615948259830475, 0.21832098066806793, 0.021522969007492065]], [[1.0, 0.0, 0.0, 0.0, 0.0, 0.0], [0.9988250136375427, 0.0011750120902433991, 0.0, 0.0, 0.0, 0.0], [0.9944871068000793, 0.0004826366784982383, 0.00503023574128747, 0.0, 0.0, 0.0], [0.9981209635734558, 2.7051681172451936e-05, 0.00011307386739645153, 0.0017389492131769657, 0.0, 0.0], [0.9982240796089172, 6.836546526756138e-05, 0.00010199946700595319, 6.0283709899522364e-05, 0.0015453151427209377, 0.0], [0.9982888102531433, 1.0552126923357719e-06, 3.278084477642551e-05, 0.0001303898898186162, 0.0006605913513340056, 0.000886370544321835]], [[1.0, 0.0, 0.0, 0.0, 0.0, 0.0], [0.9936710596084595, 0.006328925024718046, 0.0, 0.0, 0.0, 0.0], [0.9727686047554016, 0.0018561407923698425, 0.02537521719932556, 0.0, 0.0, 0.0], [0.9724299907684326, 0.0019586130511015654, 0.011192455887794495, 0.01441890373826027, 0.0, 0.0], [0.9782041311264038, 0.0009589171386323869, 0.0018706527771428227, 0.006326586939394474, 0.012639714404940605, 0.0], [0.9592596888542175, 0.0024555076379328966, 0.0016124167013913393, 0.005019662901759148, 0.006687106564640999, 0.024965673685073853]], [[1.0, 0.0, 0.0, 0.0, 0.0, 0.0], [0.9629000425338745, 0.03710000589489937, 0.0, 0.0, 0.0, 0.0], [0.368019700050354, 0.6152254939079285, 0.016754835844039917, 0.0, 0.0, 0.0], [0.3173525333404541, 0.6139997839927673, 0.05375159531831741, 0.014896123670041561, 0.0, 0.0], [0.48987340927124023, 0.2107142210006714, 0.04693015292286873, 0.20700448751449585, 0.04547775909304619, 0.0], [0.48774290084838867, 0.1769522726535797, 0.06915199756622314, 0.09849286824464798, 0.12091417610645294, 0.046745769679546356]]], [[[1.0, 0.0, 0.0, 0.0, 0.0, 0.0], [0.9794418811798096, 0.020558105781674385, 0.0, 0.0, 0.0, 0.0], [0.6677899956703186, 0.3103238642215729, 0.021886125206947327, 0.0, 0.0, 0.0], [0.7118754982948303, 0.11108537018299103, 0.14187413454055786, 0.035164978355169296, 0.0, 0.0], [0.4501444399356842, 0.04036037623882294, 0.04045833647251129, 0.38857150077819824, 0.08046536147594452, 0.0], [0.49346134066581726, 0.013696889393031597, 0.008126810193061829, 0.1307455599308014, 0.30861467123031616, 0.045354776084423065]], [[1.0, 0.0, 0.0, 0.0, 0.0, 0.0], [0.9846054315567017, 0.015394587069749832, 0.0, 0.0, 0.0, 0.0], [0.9806739091873169, 0.007713802624493837, 0.011612347327172756, 0.0, 0.0, 0.0], [0.9326629042625427, 0.019578414037823677, 0.024103600531816483, 0.02365502528846264, 0.0, 0.0], [0.9422017931938171, 0.000953898299485445, 0.0010898022446781397, 0.003193383105099201, 0.05256117507815361, 0.0], [0.9352929592132568, 0.0010279379785060883, 0.004444452468305826, 0.0016371518140658736, 0.010591037571430206, 0.04700646921992302]], [[1.0, 0.0, 0.0, 0.0, 0.0, 0.0], [0.9985783100128174, 0.0014216642593964934, 0.0, 0.0, 0.0, 0.0], [0.9893348813056946, 0.001117888605222106, 0.009547184221446514, 0.0, 0.0, 0.0], [0.9979978203773499, 7.997058128239587e-05, 0.0001321886375080794, 0.001790043548680842, 0.0, 0.0], [0.9986976385116577, 4.1044077079277486e-05, 3.868332441925304e-06, 2.367625893384684e-05, 0.0012337120715528727, 0.0], [0.9971563816070557, 1.852221612352878e-05, 1.8826470977728604e-06, 2.790033795463387e-05, 0.0006533504347316921, 0.0021419881377369165]], [[1.0, 0.0, 0.0, 0.0, 0.0, 0.0], [0.9768233299255371, 0.02317671850323677, 0.0, 0.0, 0.0, 0.0], [0.9194679856300354, 0.05088174715638161, 0.029650233685970306, 0.0, 0.0, 0.0], [0.8474555015563965, 0.06100161001086235, 0.0437236987054348, 0.04781917482614517, 0.0, 0.0], [0.801162600517273, 0.04186687245965004, 0.043757982552051544, 0.04189474880695343, 0.07131775468587875, 0.0], [0.8031873106956482, 0.0245048888027668, 0.017323536798357964, 0.04744400829076767, 0.06109917163848877, 0.046441033482551575]], [[1.0, 0.0, 0.0, 0.0, 0.0, 0.0], [0.9829427003860474, 0.017057321965694427, 0.0, 0.0, 0.0, 0.0], [0.886372983455658, 0.09492714703083038, 0.01869990862905979, 0.0, 0.0, 0.0], [0.9231082797050476, 0.03696348890662193, 0.03219844773411751, 0.007729684002697468, 0.0, 0.0], [0.9068528413772583, 0.016046611592173576, 0.014310491271317005, 0.04543787240982056, 0.01735224574804306, 0.0], [0.6555972695350647, 0.050910260528326035, 0.028384851291775703, 0.1256551593542099, 0.10546848177909851, 0.03398388996720314]], [[1.0, 0.0, 0.0, 0.0, 0.0, 0.0], [0.9502319693565369, 0.04976798966526985, 0.0, 0.0, 0.0, 0.0], [0.8829870223999023, 0.10009586066007614, 0.016917143017053604, 0.0, 0.0, 0.0], [0.80574631690979, 0.14463508129119873, 0.03018917515873909, 0.019429394975304604, 0.0, 0.0], [0.8706235885620117, 0.03244053199887276, 0.026951542124152184, 0.04410284012556076, 0.02588149905204773, 0.0], [0.6883642673492432, 0.009681438095867634, 0.016449328511953354, 0.09871133416891098, 0.08971213549375534, 0.09708155691623688]], [[1.0, 0.0, 0.0, 0.0, 0.0, 0.0], [0.9792683720588684, 0.020731620490550995, 0.0, 0.0, 0.0, 0.0], [0.9523285627365112, 0.02593371830880642, 0.021737750619649887, 0.0, 0.0, 0.0], [0.9144353866577148, 0.01767120137810707, 0.02235855720937252, 0.04553478583693504, 0.0, 0.0], [0.9448292851448059, 0.006467591505497694, 0.006386075634509325, 0.03263094648718834, 0.009686185047030449, 0.0], [0.9347903728485107, 0.007862498983740807, 0.007788185030221939, 0.02143281325697899, 0.008491134271025658, 0.019634833559393883]], [[1.0, 0.0, 0.0, 0.0, 0.0, 0.0], [0.983370304107666, 0.016629742458462715, 0.0, 0.0, 0.0, 0.0], [0.963111400604248, 0.009229922667145729, 0.027658650651574135, 0.0, 0.0, 0.0], [0.9706627130508423, 0.004149414133280516, 0.006813078187406063, 0.01837468333542347, 0.0, 0.0], [0.987951934337616, 0.002165879588574171, 0.0003490079543553293, 0.0015838086837902665, 0.00794939324259758, 0.0], [0.9457951188087463, 0.01458354014903307, 0.0003652939631137997, 0.0009569547255523503, 0.013621637597680092, 0.024677468463778496]], [[1.0, 0.0, 0.0, 0.0, 0.0, 0.0], [0.9878058433532715, 0.012194144539535046, 0.0, 0.0, 0.0, 0.0], [0.87103670835495, 0.09448167681694031, 0.03448163717985153, 0.0, 0.0, 0.0], [0.6309786438941956, 0.11090352386236191, 0.19230222702026367, 0.06581560522317886, 0.0, 0.0], [0.536048412322998, 0.04618947580456734, 0.1360531747341156, 0.26455560326576233, 0.017153318971395493, 0.0], [0.8287516832351685, 0.02373271808028221, 0.020080402493476868, 0.07245294004678726, 0.030431287363171577, 0.024550972506403923]], [[1.0, 0.0, 0.0, 0.0, 0.0, 0.0], [0.8995685577392578, 0.10043143481016159, 0.0, 0.0, 0.0, 0.0], [0.27034327387809753, 0.6504329442977905, 0.07922383397817612, 0.0, 0.0, 0.0], [0.20541630685329437, 0.5892508625984192, 0.18085940182209015, 0.02447350136935711, 0.0, 0.0], [0.5573862195014954, 0.177413210272789, 0.088068388402462, 0.09881831705570221, 0.07831386476755142, 0.0], [0.592290997505188, 0.08700627833604813, 0.05643303692340851, 0.056858859956264496, 0.12181548029184341, 0.08559539169073105]], [[1.0, 0.0, 0.0, 0.0, 0.0, 0.0], [0.931638777256012, 0.06836120039224625, 0.0, 0.0, 0.0, 0.0], [0.9572949409484863, 0.026243247091770172, 0.016461802646517754, 0.0, 0.0, 0.0], [0.9880545735359192, 0.004273299127817154, 0.002954578958451748, 0.004717648029327393, 0.0, 0.0], [0.99403977394104, 0.0009413357474841177, 0.00047398044262081385, 0.00011646909115370363, 0.004428436513990164, 0.0], [0.9806036353111267, 2.546862197050359e-05, 0.00016239289834629744, 0.00014764144725631922, 0.0013442367780953646, 0.017716728150844574]], [[1.0, 0.0, 0.0, 0.0, 0.0, 0.0], [0.993178129196167, 0.006821870803833008, 0.0, 0.0, 0.0, 0.0], [0.9756524562835693, 0.013184125535190105, 0.011163492687046528, 0.0, 0.0, 0.0], [0.9418964385986328, 0.004721764009445906, 0.0023818116169422865, 0.05099993944168091, 0.0, 0.0], [0.9905040860176086, 0.0022848148364573717, 6.198474875418469e-05, 0.0005984468152746558, 0.006550672464072704, 0.0], [0.9697660207748413, 0.0008878824883140624, 0.00023466601851396263, 0.0017040767706930637, 0.004128345753997564, 0.023278921842575073]]], [[[1.0, 0.0, 0.0, 0.0, 0.0, 0.0], [0.9716231822967529, 0.02837679162621498, 0.0, 0.0, 0.0, 0.0], [0.9223621487617493, 0.028907138854265213, 0.04873068258166313, 0.0, 0.0, 0.0], [0.8426313400268555, 0.023872144520282745, 0.047481436282396317, 0.08601505309343338, 0.0, 0.0], [0.85211181640625, 0.020744264125823975, 0.04494625702500343, 0.05765020102262497, 0.02454744279384613, 0.0], [0.8800727725028992, 0.022448452189564705, 0.018235687166452408, 0.019254818558692932, 0.015854254364967346, 0.04413411021232605]], [[1.0, 0.0, 0.0, 0.0, 0.0, 0.0], [0.9412726759910583, 0.058727364987134933, 0.0, 0.0, 0.0, 0.0], [0.9163140058517456, 0.05759183689951897, 0.026094170287251472, 0.0, 0.0, 0.0], [0.839242160320282, 0.0576905831694603, 0.013829091563820839, 0.08923812210559845, 0.0, 0.0], [0.8987159132957458, 0.013477819971740246, 0.0003456466947682202, 0.0032987503800541162, 0.0841619074344635, 0.0], [0.8701689839363098, 0.002700856886804104, 0.0014349964912980795, 0.005666173063218594, 0.08874330669641495, 0.03128569573163986]], [[1.0, 0.0, 0.0, 0.0, 0.0, 0.0], [0.9656726121902466, 0.03432736173272133, 0.0, 0.0, 0.0, 0.0], [0.9178615212440491, 0.06225801631808281, 0.019880563020706177, 0.0, 0.0, 0.0], [0.8233142495155334, 0.0628240779042244, 0.03670453652739525, 0.07715719193220139, 0.0, 0.0], [0.8501748442649841, 0.03816916421055794, 0.03196500241756439, 0.05160141363739967, 0.028089623898267746, 0.0], [0.6572404503822327, 0.05877385288476944, 0.04336012154817581, 0.09013212472200394, 0.08146592229604721, 0.06902746111154556]], [[1.0, 0.0, 0.0, 0.0, 0.0, 0.0], [0.9162060022354126, 0.083794005215168, 0.0, 0.0, 0.0, 0.0], [0.9451773762702942, 0.040992800146341324, 0.013829780742526054, 0.0, 0.0, 0.0], [0.8928354978561401, 0.053686901926994324, 0.017596911638975143, 0.035880785435438156, 0.0, 0.0], [0.8337052464485168, 0.04799613356590271, 0.03351316228508949, 0.04680856689810753, 0.037976887077093124, 0.0], [0.8167197704315186, 0.06337109208106995, 0.013286222703754902, 0.020469728857278824, 0.025292275473475456, 0.06086099520325661]], [[1.0, 0.0, 0.0, 0.0, 0.0, 0.0], [0.9525134563446045, 0.047486551105976105, 0.0, 0.0, 0.0, 0.0], [0.3019862174987793, 0.6520944237709045, 0.04591928794980049, 0.0, 0.0, 0.0], [0.2855839431285858, 0.5569514036178589, 0.14447414875030518, 0.012990470044314861, 0.0, 0.0], [0.8438048958778381, 0.03225119784474373, 0.03954283148050308, 0.06848110258579254, 0.015920016914606094, 0.0], [0.6664943695068359, 0.06095915660262108, 0.04064341261982918, 0.06804454326629639, 0.09186326712369919, 0.07199524343013763]], [[1.0, 0.0, 0.0, 0.0, 0.0, 0.0], [0.9682655334472656, 0.03173443675041199, 0.0, 0.0, 0.0, 0.0], [0.738522469997406, 0.22856806218624115, 0.03290953114628792, 0.0, 0.0, 0.0], [0.5946678519248962, 0.23033133149147034, 0.14867620170116425, 0.026324663311243057, 0.0, 0.0], [0.633925199508667, 0.058130376040935516, 0.09654313325881958, 0.14291979372501373, 0.06848157942295074, 0.0], [0.4037562310695648, 0.08945389837026596, 0.07635080814361572, 0.2558715045452118, 0.1433037519454956, 0.03126386180520058]], [[1.0, 0.0, 0.0, 0.0, 0.0, 0.0], [0.9869793653488159, 0.013020625337958336, 0.0, 0.0, 0.0, 0.0], [0.8631383776664734, 0.11056670546531677, 0.026294900104403496, 0.0, 0.0, 0.0], [0.9488076567649841, 0.028615130111575127, 0.0065356092527508736, 0.016041582450270653, 0.0, 0.0], [0.9672170877456665, 0.006604980677366257, 0.00045171534293331206, 0.0048444150015711784, 0.02088177390396595, 0.0], [0.9354620575904846, 0.02047809027135372, 0.0011700252071022987, 0.007056962698698044, 0.016318202018737793, 0.019514672458171844]], [[1.0, 0.0, 0.0, 0.0, 0.0, 0.0], [0.9846674203872681, 0.015332573093473911, 0.0, 0.0, 0.0, 0.0], [0.9052745699882507, 0.08373618870973587, 0.010989260859787464, 0.0, 0.0, 0.0], [0.8145952224731445, 0.04283708333969116, 0.10568203777074814, 0.03688560053706169, 0.0, 0.0], [0.2351973056793213, 0.012018326669931412, 0.05280076339840889, 0.6516193747520447, 0.048364195972681046, 0.0], [0.31818506121635437, 0.01863221451640129, 0.039481643587350845, 0.3755551874637604, 0.20787331461906433, 0.040272586047649384]], [[1.0, 0.0, 0.0, 0.0, 0.0, 0.0], [0.9811733365058899, 0.01882672682404518, 0.0, 0.0, 0.0, 0.0], [0.861893892288208, 0.06479160487651825, 0.07331453263759613, 0.0, 0.0, 0.0], [0.7664538025856018, 0.07330423593521118, 0.10353542119264603, 0.05670652166008949, 0.0, 0.0], [0.8128498196601868, 0.0321548730134964, 0.05900559946894646, 0.05416519567370415, 0.04182438552379608, 0.0], [0.8687861561775208, 0.026987716555595398, 0.02046993374824524, 0.016297345981001854, 0.03218373283743858, 0.035275135189294815]], [[1.0, 0.0, 0.0, 0.0, 0.0, 0.0], [0.9264581799507141, 0.07354187220335007, 0.0, 0.0, 0.0, 0.0], [0.8403536081314087, 0.06373773515224457, 0.09590869396924973, 0.0, 0.0, 0.0], [0.7330989837646484, 0.06451132148504257, 0.10380109399557114, 0.09858868271112442, 0.0, 0.0], [0.9143612384796143, 0.008257808163762093, 0.0073203956708312035, 0.017966309562325478, 0.05209435895085335, 0.0], [0.8971917033195496, 0.008555500768125057, 0.007019444834440947, 0.014860525727272034, 0.0339975580573082, 0.03837524726986885]], [[1.0, 0.0, 0.0, 0.0, 0.0, 0.0], [0.9180349111557007, 0.08196508139371872, 0.0, 0.0, 0.0, 0.0], [0.8328663110733032, 0.1219903975725174, 0.04514330253005028, 0.0, 0.0, 0.0], [0.7994157671928406, 0.08744129538536072, 0.03605783358216286, 0.07708507031202316, 0.0, 0.0], [0.8809850811958313, 0.02074955217540264, 0.020554589107632637, 0.01712079532444477, 0.060589853674173355, 0.0], [0.7453036904335022, 0.04433392733335495, 0.022549254819750786, 0.03315271809697151, 0.033570535480976105, 0.1210898905992508]], [[1.0, 0.0, 0.0, 0.0, 0.0, 0.0], [0.9867060780525208, 0.013293919153511524, 0.0, 0.0, 0.0, 0.0], [0.982177734375, 0.012414089404046535, 0.0054081035777926445, 0.0, 0.0, 0.0], [0.96304851770401, 0.015290765091776848, 0.010345722548663616, 0.011315010488033295, 0.0, 0.0], [0.921357274055481, 0.01413238886743784, 0.017639128491282463, 0.016567641869187355, 0.030303535982966423, 0.0], [0.9373326301574707, 0.009064320474863052, 0.007548393681645393, 0.006576480343937874, 0.011827622540295124, 0.0276504959911108]]], [[[1.0, 0.0, 0.0, 0.0, 0.0, 0.0], [0.9951003193855286, 0.004899636376649141, 0.0, 0.0, 0.0, 0.0], [0.9476009607315063, 0.0414077453315258, 0.010991236194968224, 0.0, 0.0, 0.0], [0.9142175316810608, 0.023523783311247826, 0.039145033806562424, 0.023113638162612915, 0.0, 0.0], [0.953473687171936, 0.008932948112487793, 0.01527277659624815, 0.007908261381089687, 0.01441231183707714, 0.0], [0.9427104592323303, 0.008233043365180492, 0.00465096440166235, 0.004178092814981937, 0.0054634977132081985, 0.03476399928331375]], [[1.0, 0.0, 0.0, 0.0, 0.0, 0.0], [0.9543376564979553, 0.045662373304367065, 0.0, 0.0, 0.0, 0.0], [0.9696041941642761, 0.01954755000770092, 0.01084830705076456, 0.0, 0.0, 0.0], [0.9710449576377869, 0.012425432913005352, 0.00806890707463026, 0.008460727520287037, 0.0, 0.0], [0.9726192951202393, 0.0026976638473570347, 0.0004483149677980691, 0.0013814783887937665, 0.022853175178170204, 0.0], [0.9675466418266296, 0.00961342267692089, 0.0032030262518674135, 0.0042488230392336845, 0.0074422284960746765, 0.007945878431200981]], [[1.0, 0.0, 0.0, 0.0, 0.0, 0.0], [0.9887008666992188, 0.011299073696136475, 0.0, 0.0, 0.0, 0.0], [0.9382636547088623, 0.042042046785354614, 0.019694261252880096, 0.0, 0.0, 0.0], [0.8351991176605225, 0.03487854823470116, 0.05134488269686699, 0.07857739180326462, 0.0, 0.0], [0.9042680263519287, 0.010541534051299095, 0.016426660120487213, 0.025921886786818504, 0.0428418405354023, 0.0], [0.891313910484314, 0.008912678807973862, 0.00501069612801075, 0.008175642229616642, 0.013514752499759197, 0.07307230681180954]], [[1.0, 0.0, 0.0, 0.0, 0.0, 0.0], [0.8693918585777283, 0.1306082010269165, 0.0, 0.0, 0.0, 0.0], [0.35080042481422424, 0.6063504219055176, 0.042849235236644745, 0.0, 0.0, 0.0], [0.3547583222389221, 0.3502003252506256, 0.24722403287887573, 0.04781735688447952, 0.0, 0.0], [0.35370761156082153, 0.03527713194489479, 0.09567099064588547, 0.449795126914978, 0.06554913520812988, 0.0], [0.41325968503952026, 0.09055472165346146, 0.052865613251924515, 0.1746797263622284, 0.1738494336605072, 0.09479081630706787]], [[1.0, 0.0, 0.0, 0.0, 0.0, 0.0], [0.9629756212234497, 0.037024397403001785, 0.0, 0.0, 0.0, 0.0], [0.9756426811218262, 0.019658580422401428, 0.004698706325143576, 0.0, 0.0, 0.0], [0.9775736331939697, 0.013286329805850983, 0.002559035550802946, 0.006581075489521027, 0.0, 0.0], [0.9870142936706543, 0.007388250902295113, 0.0009579145698808134, 0.0018318254733458161, 0.0028077505994588137, 0.0], [0.9409247040748596, 0.016633691266179085, 0.0022979003842920065, 0.005890632979571819, 0.005512909963726997, 0.02874019555747509]], [[1.0, 0.0, 0.0, 0.0, 0.0, 0.0], [0.9628273248672485, 0.03717269375920296, 0.0, 0.0, 0.0, 0.0], [0.9582238793373108, 0.024641714990139008, 0.017134323716163635, 0.0, 0.0, 0.0], [0.93513023853302, 0.01533149741590023, 0.014810922555625439, 0.0347273163497448, 0.0, 0.0], [0.9225173592567444, 0.010528713464736938, 0.011010120622813702, 0.019440004602074623, 0.036503810435533524, 0.0], [0.8420169949531555, 0.043571874499320984, 0.007488242816179991, 0.01496151927858591, 0.023852799087762833, 0.06810850650072098]], [[1.0, 0.0, 0.0, 0.0, 0.0, 0.0], [0.9926387071609497, 0.007361325901001692, 0.0, 0.0, 0.0, 0.0], [0.9957393407821655, 0.003346974030137062, 0.0009136885637417436, 0.0, 0.0, 0.0], [0.9869900345802307, 0.001974782906472683, 0.0015245474642142653, 0.009510640986263752, 0.0, 0.0], [0.9933527708053589, 0.0010203201090916991, 0.0003433709207456559, 0.0010291049256920815, 0.00425435695797205, 0.0], [0.9749016761779785, 0.00043480066233314574, 0.00043065325007773936, 0.0012364318827167153, 0.0015347633743658662, 0.02146158739924431]], [[1.0, 0.0, 0.0, 0.0, 0.0, 0.0], [0.9897475242614746, 0.010252462700009346, 0.0, 0.0, 0.0, 0.0], [0.9790638089179993, 0.01650909334421158, 0.0044271135702729225, 0.0, 0.0, 0.0], [0.9521436095237732, 0.029432358220219612, 0.008943170309066772, 0.009480937384068966, 0.0, 0.0], [0.9395942091941833, 0.021510882303118706, 0.010278509929776192, 0.004555223509669304, 0.024061109870672226, 0.0], [0.9205077886581421, 0.016153603792190552, 0.01081855595111847, 0.016644351184368134, 0.014566346071660519, 0.021309340372681618]], [[1.0, 0.0, 0.0, 0.0, 0.0, 0.0], [0.9898501634597778, 0.010149819776415825, 0.0, 0.0, 0.0, 0.0], [0.9820910096168518, 0.006907487753778696, 0.01100151427090168, 0.0, 0.0, 0.0], [0.9684998393058777, 0.008987552486360073, 0.015342521481215954, 0.007170091383159161, 0.0, 0.0], [0.9274123311042786, 0.00948520191013813, 0.0220660287886858, 0.03222888335585594, 0.008807597681879997, 0.0], [0.9006659388542175, 0.021623671054840088, 0.013808254152536392, 0.009843875654041767, 0.00852135755121708, 0.045536916702985764]], [[1.0, 0.0, 0.0, 0.0, 0.0, 0.0], [0.9954444169998169, 0.004555590450763702, 0.0, 0.0, 0.0, 0.0], [0.995254397392273, 0.0024602320045232773, 0.0022854781709611416, 0.0, 0.0, 0.0], [0.9862446188926697, 0.001516818767413497, 0.0040722922421991825, 0.0081663578748703, 0.0, 0.0], [0.9889963865280151, 0.0012260394869372249, 0.0007996344938874245, 0.0006774224457331002, 0.008300562389194965, 0.0], [0.9865204095840454, 0.0003942691837437451, 0.0009571714326739311, 0.0004954344476573169, 0.0009604907245375216, 0.010672236792743206]], [[1.0, 0.0, 0.0, 0.0, 0.0, 0.0], [0.9821295142173767, 0.017870459705591202, 0.0, 0.0, 0.0, 0.0], [0.7489436864852905, 0.2200269252061844, 0.03102932497859001, 0.0, 0.0, 0.0], [0.2854772210121155, 0.21125562489032745, 0.4787178933620453, 0.02454923279583454, 0.0, 0.0], [0.8056645393371582, 0.026974491775035858, 0.043028220534324646, 0.06993702799081802, 0.05439576134085655, 0.0], [0.33072200417518616, 0.022326502948999405, 0.01662714220583439, 0.08019431680440903, 0.4157475531101227, 0.1343824714422226]], [[1.0, 0.0, 0.0, 0.0, 0.0, 0.0], [0.9697749018669128, 0.030225154012441635, 0.0, 0.0, 0.0, 0.0], [0.9800567030906677, 0.015018866397440434, 0.004924519918859005, 0.0, 0.0, 0.0], [0.9237860441207886, 0.052764892578125, 0.0063024163246154785, 0.01714668609201908, 0.0, 0.0], [0.9451844096183777, 0.036180466413497925, 0.0019892053678631783, 0.00395871140062809, 0.012687263078987598, 0.0], [0.9633329510688782, 0.018662935122847557, 0.0030418343376368284, 0.007070871535688639, 0.00500940065830946, 0.0028820636216551065]]], [[[1.0, 0.0, 0.0, 0.0, 0.0, 0.0], [0.987324595451355, 0.012675370089709759, 0.0, 0.0, 0.0, 0.0], [0.9904569983482361, 0.005541915539652109, 0.004001101944595575, 0.0, 0.0, 0.0], [0.9814971685409546, 0.004653455223888159, 0.003725287737324834, 0.0101240836083889, 0.0, 0.0], [0.9744365811347961, 0.004632247146219015, 0.0023799941409379244, 0.006518087349832058, 0.012033028528094292, 0.0], [0.9624497294425964, 0.0033743558451533318, 0.0013198574306443334, 0.0017275019781664014, 0.0029446815606206656, 0.028183799237012863]], [[1.0, 0.0, 0.0, 0.0, 0.0, 0.0], [0.9807674288749695, 0.01923258975148201, 0.0, 0.0, 0.0, 0.0], [0.9664245843887329, 0.015413926914334297, 0.01816139742732048, 0.0, 0.0, 0.0], [0.9632682204246521, 0.004538126289844513, 0.0029253901448100805, 0.029268160462379456, 0.0, 0.0], [0.9562349319458008, 0.0012223595986142755, 0.0005304060177877545, 0.00867142528295517, 0.033340804278850555, 0.0], [0.9657101035118103, 0.0009808256290853024, 0.0016686187591403723, 0.002634819597005844, 0.005866350140422583, 0.023139353841543198]], [[1.0, 0.0, 0.0, 0.0, 0.0, 0.0], [0.9639713764190674, 0.03602859377861023, 0.0, 0.0, 0.0, 0.0], [0.9562800526618958, 0.033733122050762177, 0.009986846707761288, 0.0, 0.0, 0.0], [0.8539993166923523, 0.08073055744171143, 0.03334458917379379, 0.03192553296685219, 0.0, 0.0], [0.9547491073608398, 0.009605043567717075, 0.004146174993366003, 0.0020133228972554207, 0.029486412182450294, 0.0], [0.9331135749816895, 0.028699703514575958, 0.005477482918649912, 0.006368076894432306, 0.012613032944500446, 0.013728110119700432]], [[1.0, 0.0, 0.0, 0.0, 0.0, 0.0], [0.9392993450164795, 0.06070062145590782, 0.0, 0.0, 0.0, 0.0], [0.9298389554023743, 0.061895567923784256, 0.008265494368970394, 0.0, 0.0, 0.0], [0.8471819758415222, 0.0903506875038147, 0.017636122182011604, 0.04483122378587723, 0.0, 0.0], [0.885770320892334, 0.03918176144361496, 0.007867710664868355, 0.02276587300002575, 0.04441443085670471, 0.0], [0.8563281893730164, 0.10088986903429031, 0.006531456485390663, 0.008485931903123856, 0.007368435151875019, 0.020396223291754723]], [[1.0, 0.0, 0.0, 0.0, 0.0, 0.0], [0.8353266716003418, 0.1646733283996582, 0.0, 0.0, 0.0, 0.0], [0.616086483001709, 0.313764363527298, 0.07014919072389603, 0.0, 0.0, 0.0], [0.34316375851631165, 0.27584928274154663, 0.11966024339199066, 0.26132670044898987, 0.0, 0.0], [0.5908174514770508, 0.0502907820045948, 0.041665904223918915, 0.21994897723197937, 0.0972769483923912, 0.0], [0.8481414318084717, 0.06318086385726929, 0.014733674004673958, 0.05526731535792351, 0.009015018120408058, 0.009661629796028137]], [[1.0, 0.0, 0.0, 0.0, 0.0, 0.0], [0.9627320766448975, 0.037267882376909256, 0.0, 0.0, 0.0, 0.0], [0.7757525444030762, 0.17996230721473694, 0.044285181909799576, 0.0, 0.0, 0.0], [0.6317052245140076, 0.24380743503570557, 0.10925715416669846, 0.01523028127849102, 0.0, 0.0], [0.9539909958839417, 0.01818225346505642, 0.011601817794144154, 0.012299083173274994, 0.003925768658518791, 0.0], [0.4035692811012268, 0.1423754096031189, 0.05661242455244064, 0.19757378101348877, 0.09299232810735703, 0.10687679052352905]], [[1.0, 0.0, 0.0, 0.0, 0.0, 0.0], [0.9802618026733398, 0.01973816193640232, 0.0, 0.0, 0.0, 0.0], [0.98739093542099, 0.007800442166626453, 0.0048086862079799175, 0.0, 0.0, 0.0], [0.9283917546272278, 0.008301272988319397, 0.013305719941854477, 0.05000118911266327, 0.0, 0.0], [0.8981058597564697, 0.015591289848089218, 0.010177561081945896, 0.039986737072467804, 0.03613854944705963, 0.0], [0.9753499031066895, 0.00035433052107691765, 0.0005866037681698799, 0.0011877462966367602, 0.001075089443475008, 0.021446414291858673]], [[1.0, 0.0, 0.0, 0.0, 0.0, 0.0], [0.9295329451560974, 0.07046709209680557, 0.0, 0.0, 0.0, 0.0], [0.9361505508422852, 0.04116687551140785, 0.022682568058371544, 0.0, 0.0, 0.0], [0.8486817479133606, 0.05802813917398453, 0.0248562078922987, 0.06843385845422745, 0.0, 0.0], [0.8661177754402161, 0.022324735298752785, 0.010369136929512024, 0.02600197307765484, 0.07518628984689713, 0.0], [0.8074417114257812, 0.04438265413045883, 0.01849714107811451, 0.03357793390750885, 0.01856130361557007, 0.07753922790288925]], [[1.0, 0.0, 0.0, 0.0, 0.0, 0.0], [0.9680535197257996, 0.031946420669555664, 0.0, 0.0, 0.0, 0.0], [0.9693689942359924, 0.02568492479622364, 0.004946073051542044, 0.0, 0.0, 0.0], [0.9620568156242371, 0.022552471607923508, 0.005471337586641312, 0.009919446893036366, 0.0, 0.0], [0.9727528095245361, 0.010137113742530346, 0.0007573263137601316, 0.0028828817885369062, 0.01346979383379221, 0.0], [0.9624636769294739, 0.0031109012197703123, 0.0010007594246417284, 0.0019475924782454967, 0.00826623197644949, 0.02321087382733822]], [[1.0, 0.0, 0.0, 0.0, 0.0, 0.0], [0.8542509078979492, 0.1457490772008896, 0.0, 0.0, 0.0, 0.0], [0.9725967645645142, 0.014116342179477215, 0.013286887668073177, 0.0, 0.0, 0.0], [0.9257619976997375, 0.032572753727436066, 0.014612194150686264, 0.027053089812397957, 0.0, 0.0], [0.7923442721366882, 0.027304992079734802, 0.018806710839271545, 0.13854004442691803, 0.023003995418548584, 0.0], [0.6152051091194153, 0.026655351743102074, 0.029353095218539238, 0.05590879172086716, 0.11611329019069672, 0.1567644327878952]], [[1.0, 0.0, 0.0, 0.0, 0.0, 0.0], [0.9804654121398926, 0.019534548744559288, 0.0, 0.0, 0.0, 0.0], [0.9882452487945557, 0.007509480696171522, 0.004245338030159473, 0.0, 0.0, 0.0], [0.9584203958511353, 0.010963640175759792, 0.01045613270252943, 0.020159821957349777, 0.0, 0.0], [0.9604810476303101, 0.007182626519352198, 0.0030723433010280132, 0.006898912601172924, 0.022365078330039978, 0.0], [0.9668889045715332, 0.0032812952995300293, 0.00550055131316185, 0.004234095104038715, 0.005038043484091759, 0.01505721639841795]], [[1.0, 0.0, 0.0, 0.0, 0.0, 0.0], [0.9498194456100464, 0.05018055811524391, 0.0, 0.0, 0.0, 0.0], [0.9781363606452942, 0.01643003709614277, 0.00543356453999877, 0.0, 0.0, 0.0], [0.8618696928024292, 0.03609364852309227, 0.07555550336837769, 0.026481153443455696, 0.0, 0.0], [0.5449840426445007, 0.0154111972078681, 0.023516522720456123, 0.25743579864501953, 0.15865245461463928, 0.0], [0.9571872353553772, 0.003080392023548484, 0.001444687251932919, 0.006861586589366198, 0.014818808995187283, 0.01660732924938202]]], [[[1.0, 0.0, 0.0, 0.0, 0.0, 0.0], [0.6156567931175232, 0.3843432068824768, 0.0, 0.0, 0.0, 0.0], [0.36760643124580383, 0.4281637966632843, 0.20422977209091187, 0.0, 0.0, 0.0], [0.16471539437770844, 0.4136793613433838, 0.2509235441684723, 0.17068175971508026, 0.0, 0.0], [0.41844621300697327, 0.1524759978055954, 0.10305390506982803, 0.1107151210308075, 0.21530869603157043, 0.0], [0.19686952233314514, 0.2014622539281845, 0.1282723993062973, 0.09203261137008667, 0.09167557209730148, 0.2896876931190491]], [[1.0, 0.0, 0.0, 0.0, 0.0, 0.0], [0.9027363657951355, 0.09726360440254211, 0.0, 0.0, 0.0, 0.0], [0.973663330078125, 0.014004354365170002, 0.012332331389188766, 0.0, 0.0, 0.0], [0.8504455089569092, 0.05690591782331467, 0.03206094354391098, 0.06058768928050995, 0.0, 0.0], [0.766120433807373, 0.03530407324433327, 0.03433050960302353, 0.0967523530125618, 0.06749258935451508, 0.0], [0.8650373220443726, 0.020085325464606285, 0.01149807684123516, 0.018558409065008163, 0.018430322408676147, 0.06639060378074646]], [[1.0, 0.0, 0.0, 0.0, 0.0, 0.0], [0.9653082489967346, 0.03469177335500717, 0.0, 0.0, 0.0, 0.0], [0.9816323518753052, 0.014176106080412865, 0.004191514104604721, 0.0, 0.0, 0.0], [0.9275255799293518, 0.047372251749038696, 0.011528252623975277, 0.013573972508311272, 0.0, 0.0], [0.9293117523193359, 0.02583330124616623, 0.007227106485515833, 0.014300605282187462, 0.023327238857746124, 0.0], [0.8895061612129211, 0.04689629003405571, 0.004717099480330944, 0.006286595948040485, 0.0060901278629899025, 0.046503696590662]], [[1.0, 0.0, 0.0, 0.0, 0.0, 0.0], [0.8938028812408447, 0.10619710385799408, 0.0, 0.0, 0.0, 0.0], [0.8221707344055176, 0.06304486840963364, 0.11478440463542938, 0.0, 0.0, 0.0], [0.5047385692596436, 0.15375731885433197, 0.2277035266160965, 0.11380063742399216, 0.0, 0.0], [0.4082077145576477, 0.09066348522901535, 0.11696866899728775, 0.24553164839744568, 0.1386285275220871, 0.0], [0.7291039228439331, 0.06638886779546738, 0.023112820461392403, 0.03110307827591896, 0.05714328587055206, 0.09314810484647751]], [[1.0, 0.0, 0.0, 0.0, 0.0, 0.0], [0.9247531890869141, 0.07524681836366653, 0.0, 0.0, 0.0, 0.0], [0.8957375288009644, 0.0698956698179245, 0.03436674177646637, 0.0, 0.0, 0.0], [0.7924939393997192, 0.0960114598274231, 0.05509104207158089, 0.0564035065472126, 0.0, 0.0], [0.789150595664978, 0.07880311459302902, 0.038401514291763306, 0.05396990105509758, 0.03967490792274475, 0.0], [0.7807855606079102, 0.07993552833795547, 0.04253167659044266, 0.032342202961444855, 0.0178169384598732, 0.04658801108598709]], [[1.0, 0.0, 0.0, 0.0, 0.0, 0.0], [0.9480886459350586, 0.05191135033965111, 0.0, 0.0, 0.0, 0.0], [0.863694429397583, 0.04756231606006622, 0.0887431651353836, 0.0, 0.0, 0.0], [0.9341367483139038, 0.022224243730306625, 0.02262451872229576, 0.02101437933743, 0.0, 0.0], [0.9588143229484558, 0.008020943962037563, 0.00449007423594594, 0.005862299352884293, 0.022812390699982643, 0.0], [0.938591718673706, 0.021227749064564705, 0.004872452467679977, 0.010940167121589184, 0.009524567052721977, 0.014843398705124855]], [[1.0, 0.0, 0.0, 0.0, 0.0, 0.0], [0.9763734340667725, 0.023626619949936867, 0.0, 0.0, 0.0, 0.0], [0.9884802103042603, 0.005189398769289255, 0.0063303615897893906, 0.0, 0.0, 0.0], [0.9477092027664185, 0.017985178157687187, 0.0101566007360816, 0.02414904534816742, 0.0, 0.0], [0.9671926498413086, 0.006552821025252342, 0.003322785021737218, 0.005563333630561829, 0.017368415370583534, 0.0], [0.9584562182426453, 0.007502950727939606, 0.00513631384819746, 0.008071641437709332, 0.005997116211801767, 0.014835822395980358]], [[1.0, 0.0, 0.0, 0.0, 0.0, 0.0], [0.8840707540512085, 0.11592917889356613, 0.0, 0.0, 0.0, 0.0], [0.993125319480896, 0.005070820450782776, 0.0018038044217973948, 0.0, 0.0, 0.0], [0.9534158110618591, 0.023829098790884018, 0.007748990319669247, 0.01500610914081335, 0.0, 0.0], [0.9151289463043213, 0.010873105376958847, 0.013190964236855507, 0.011050431989133358, 0.04975655674934387, 0.0], [0.8769674301147461, 0.03385206311941147, 0.008486470207571983, 0.009969159960746765, 0.03468584269285202, 0.03603913262486458]], [[1.0, 0.0, 0.0, 0.0, 0.0, 0.0], [0.0003709544544108212, 0.999629020690918, 0.0, 0.0, 0.0, 0.0], [6.525075150420889e-05, 0.37378257513046265, 0.6261522173881531, 0.0, 0.0, 0.0], [4.606056972988881e-05, 0.21050865948200226, 0.411596417427063, 0.37784892320632935, 0.0, 0.0], [4.753119355882518e-05, 0.11616958677768707, 0.23264272511005402, 0.3985331058502197, 0.2526070475578308, 0.0], [1.2476451729526161e-06, 0.14819666743278503, 0.15813177824020386, 0.30074360966682434, 0.1193905919790268, 0.27353614568710327]], [[1.0, 0.0, 0.0, 0.0, 0.0, 0.0], [0.971555769443512, 0.028444228693842888, 0.0, 0.0, 0.0, 0.0], [0.9529062509536743, 0.03233089670538902, 0.014762827195227146, 0.0, 0.0, 0.0], [0.9343125820159912, 0.023513032123446465, 0.020498063415288925, 0.02167630009353161, 0.0, 0.0], [0.9529678225517273, 0.008551443926990032, 0.004359325394034386, 0.008064579218626022, 0.026056963950395584, 0.0], [0.9653592705726624, 0.008487657643854618, 0.0034992764703929424, 0.002721586264669895, 0.0032828878611326218, 0.016649404540657997]], [[1.0, 0.0, 0.0, 0.0, 0.0, 0.0], [0.8630780577659607, 0.1369219720363617, 0.0, 0.0, 0.0, 0.0], [0.7696154117584229, 0.08513359725475311, 0.14525099098682404, 0.0, 0.0, 0.0], [0.7133333683013916, 0.10170912742614746, 0.1193128377199173, 0.06564464420080185, 0.0, 0.0], [0.7186221480369568, 0.054442938417196274, 0.013868182897567749, 0.07808040082454681, 0.13498634099960327, 0.0], [0.7990152835845947, 0.05805584415793419, 0.009447015821933746, 0.01777045428752899, 0.0211385078728199, 0.0945729911327362]], [[1.0, 0.0, 0.0, 0.0, 0.0, 0.0], [0.9518988728523254, 0.04810105636715889, 0.0, 0.0, 0.0, 0.0], [0.8580657839775085, 0.029445689171552658, 0.11248862743377686, 0.0, 0.0, 0.0], [0.6577740907669067, 0.08513446152210236, 0.12613065540790558, 0.13096080720424652, 0.0, 0.0], [0.80873703956604, 0.03230154141783714, 0.018418151885271072, 0.06856143474578857, 0.07198182493448257, 0.0], [0.6683299541473389, 0.1328137218952179, 0.021880580112338066, 0.027877412736415863, 0.04923404008150101, 0.09986433386802673]]]], \"left_text\": [\"No\", \",\", \" I\", \" am\", \" your\", \" father\"], \"right_text\": [\"No\", \",\", \" I\", \" am\", \" your\", \" father\"]}], \"default_filter\": \"0\", \"display_mode\": \"dark\", \"root_div_id\": \"bertviz-6a1c612b6e9542749340c376e0e47472\", \"include_layers\": [0, 1, 2, 3, 4, 5, 6, 7, 8, 9, 10, 11], \"include_heads\": [0, 1, 2, 3, 4, 5, 6, 7, 8, 9, 10, 11], \"total_heads\": 12} is a template marker that is replaced by actual params.\n",
              "        const config = {};\n",
              "\n",
              "        const MIN_X = 0;\n",
              "        const MIN_Y = 0;\n",
              "        const DIV_WIDTH = 970;\n",
              "        const THUMBNAIL_PADDING = 5;\n",
              "        const DETAIL_WIDTH = 300;\n",
              "        const DETAIL_ATTENTION_WIDTH = 140;\n",
              "        const DETAIL_BOX_WIDTH = 80;\n",
              "        const DETAIL_BOX_HEIGHT = 18;\n",
              "        const DETAIL_PADDING = 15;\n",
              "        const ATTN_PADDING = 0;\n",
              "        const DETAIL_HEADING_HEIGHT = 25;\n",
              "        const HEADING_TEXT_SIZE = 15;\n",
              "        const HEADING_PADDING = 5;\n",
              "        const TEXT_SIZE = 13;\n",
              "        const TEXT_PADDING = 5;\n",
              "        const LAYER_COLORS = d3.schemeCategory10;\n",
              "        const PALETTE = {\n",
              "            'light': {\n",
              "                'text': 'black',\n",
              "                'background': 'white',\n",
              "                'highlight': '#F5F5F5'\n",
              "            },\n",
              "            'dark': {\n",
              "                'text': '#ccc',\n",
              "                'background': 'black',\n",
              "                'highlight': '#222'\n",
              "            }\n",
              "        }\n",
              "\n",
              "        function render() {\n",
              "\n",
              "            // Set global state variables\n",
              "\n",
              "            var attData = config.attention[config.filter];\n",
              "            config.leftText = attData.left_text;\n",
              "            config.rightText = attData.right_text;\n",
              "            config.attn = attData.attn;\n",
              "            config.numLayers = config.attn.length;\n",
              "            config.numHeads = config.attn[0].length;\n",
              "            config.thumbnailBoxHeight = 7 * (12 / config.totalHeads);\n",
              "            const axisSize = HEADING_TEXT_SIZE + HEADING_PADDING + TEXT_SIZE + TEXT_PADDING;\n",
              "            config.thumbnailHeight = Math.max(config.leftText.length, config.rightText.length) * config.thumbnailBoxHeight + 2 * THUMBNAIL_PADDING;\n",
              "            config.thumbnailWidth = (DIV_WIDTH - axisSize) / config.totalHeads;\n",
              "            config.detailHeight = Math.max(config.leftText.length, config.rightText.length) * DETAIL_BOX_HEIGHT + 2 * DETAIL_PADDING + DETAIL_HEADING_HEIGHT;\n",
              "            config.divHeight = Math.max(config.numLayers * config.thumbnailHeight + axisSize, config.detailHeight);\n",
              "\n",
              "            const vis = $(`#${config.rootDivId} #vis`)\n",
              "            vis.empty();\n",
              "            vis.attr(\"height\", config.divHeight);\n",
              "            config.svg = d3.select(`#${config.rootDivId} #vis`)\n",
              "                .append('svg')\n",
              "                .attr(\"width\", DIV_WIDTH)\n",
              "                .attr(\"height\", config.divHeight)\n",
              "                .attr(\"fill\", getBackgroundColor());\n",
              "\n",
              "            renderAxisLabels();\n",
              "\n",
              "            var i;\n",
              "            var j;\n",
              "            for (i = 0; i < config.numLayers; i++) {\n",
              "                for (j = 0; j < config.numHeads; j++) {\n",
              "                    renderThumbnail(i, j);\n",
              "                }\n",
              "            }\n",
              "        }\n",
              "\n",
              "        function renderAxisLabels() {\n",
              "            const axisSize = HEADING_TEXT_SIZE + HEADING_PADDING + TEXT_SIZE + TEXT_PADDING;\n",
              "            const tableWidth = config.thumbnailWidth * config.heads.length;\n",
              "            config.svg.append(\"text\")\n",
              "                .text(\"Heads\")\n",
              "                .attr(\"fill\", \"black\")\n",
              "                .attr(\"font-weight\", \"bold\")\n",
              "                .attr(\"font-size\", HEADING_TEXT_SIZE + \"px\")\n",
              "                .attr(\"x\", axisSize + tableWidth / 2)\n",
              "                .attr(\"text-anchor\", \"middle\")\n",
              "                .attr(\"y\", 0)\n",
              "                .attr(\"dy\", HEADING_TEXT_SIZE);\n",
              "            for (let i = 0; i < config.numHeads; i++) {\n",
              "                config.svg.append(\"text\")\n",
              "                    .text(config.heads[i])\n",
              "                    .attr(\"fill\", \"black\")\n",
              "                    .attr(\"font-size\", TEXT_SIZE + \"px\")\n",
              "                    .attr(\"x\", axisSize + (i + .5) * config.thumbnailWidth)\n",
              "                    .attr(\"text-anchor\", \"middle\")\n",
              "                    .attr(\"y\", HEADING_TEXT_SIZE + HEADING_PADDING)\n",
              "                    .attr(\"dy\", TEXT_SIZE);\n",
              "            }\n",
              "            let x = 0;\n",
              "            let y = axisSize + config.thumbnailHeight * config.layers.length / 2;\n",
              "            console.log(\"x\", x, y)\n",
              "            config.svg.append(\"text\")\n",
              "                .text(\"Layers\")\n",
              "                .attr(\"fill\", \"black\")\n",
              "                .attr(\"font-weight\", \"bold\")\n",
              "                .attr(\"transform\", \"rotate(270, \" + x  + \", \" + y + \")\")\n",
              "                .attr(\"font-size\", HEADING_TEXT_SIZE + \"px\")\n",
              "                .attr(\"x\", x)\n",
              "                .attr(\"text-anchor\", \"middle\")\n",
              "                .attr(\"y\", y)\n",
              "                .attr(\"dy\", HEADING_TEXT_SIZE);\n",
              "            for (let i = 0; i < config.numLayers; i++) {\n",
              "                x = HEADING_TEXT_SIZE + HEADING_PADDING + TEXT_SIZE; // HACK\n",
              "                y = axisSize + (i + .5) * config.thumbnailHeight;\n",
              "                config.svg.append(\"text\")\n",
              "                    .text(config.layers[i])\n",
              "                    .attr(\"fill\", \"black\")\n",
              "                    .attr(\"font-size\", TEXT_SIZE + \"px\")\n",
              "                    .attr(\"x\", x)\n",
              "                    .attr(\"text-anchor\", \"end\")\n",
              "                    .attr(\"y\", y)\n",
              "                    .attr(\"dy\", TEXT_SIZE / 2);\n",
              "            }\n",
              "        }\n",
              "\n",
              "\n",
              "        function renderThumbnail(layerIndex, headIndex) {\n",
              "            const axisSize = HEADING_TEXT_SIZE + HEADING_PADDING + TEXT_SIZE + TEXT_PADDING\n",
              "            const x = headIndex * config.thumbnailWidth + axisSize;\n",
              "            const y = layerIndex * config.thumbnailHeight + axisSize;\n",
              "            renderThumbnailAttn(x, y, config.attn[layerIndex][headIndex], layerIndex, headIndex);\n",
              "        }\n",
              "\n",
              "        function renderDetail(att, layerIndex, headIndex) {\n",
              "            const axisSize = TEXT_SIZE + HEADING_PADDING + TEXT_SIZE + TEXT_PADDING;\n",
              "            var xOffset = .8 * config.thumbnailWidth;\n",
              "            var maxX = DIV_WIDTH;\n",
              "            var maxY = config.divHeight - 3;\n",
              "            var leftPos = axisSize + headIndex * config.thumbnailWidth;\n",
              "            var x = leftPos + THUMBNAIL_PADDING + xOffset;\n",
              "            if (x < MIN_X) {\n",
              "                x = MIN_X;\n",
              "            } else if (x + DETAIL_WIDTH > maxX) {\n",
              "                x = leftPos + THUMBNAIL_PADDING - DETAIL_WIDTH + 8;\n",
              "            }\n",
              "            var posLeftText = x;\n",
              "            var posAttention = posLeftText + DETAIL_BOX_WIDTH;\n",
              "            var posRightText = posAttention + DETAIL_ATTENTION_WIDTH;\n",
              "            var thumbnailHeight = Math.max(config.leftText.length, config.rightText.length) * config.thumbnailBoxHeight + 2 * THUMBNAIL_PADDING;\n",
              "            var yOffset = 20;\n",
              "            var y = layerIndex * thumbnailHeight + THUMBNAIL_PADDING + yOffset;\n",
              "            if (y < MIN_Y) {\n",
              "                y = MIN_Y;\n",
              "            } else if (y + config.detailHeight > maxY) {\n",
              "                y = maxY - config.detailHeight;\n",
              "            }\n",
              "            renderDetailFrame(x, y, layerIndex);\n",
              "            y = y + DETAIL_PADDING;\n",
              "            renderDetailHeading(x, y, layerIndex, headIndex);\n",
              "            y = y + DETAIL_HEADING_HEIGHT;\n",
              "            renderDetailText(config.leftText, \"leftText\", posLeftText, y , layerIndex);\n",
              "            renderDetailAttn(posAttention, y, att, layerIndex, headIndex);\n",
              "            renderDetailText(config.rightText, \"rightText\", posRightText, y, layerIndex);\n",
              "        }\n",
              "\n",
              "        function renderDetailHeading(x, y, layerIndex, headIndex) {\n",
              "            var fillColor = getTextColor();\n",
              "            config.svg.append(\"text\")\n",
              "                .classed(\"detail\", true)\n",
              "                .text('Layer ' + config.layers[layerIndex] + \", Head \" + config.heads[headIndex])\n",
              "                .attr(\"font-size\", TEXT_SIZE + \"px\")\n",
              "                .attr(\"font-weight\", \"bold\")\n",
              "                .style(\"cursor\", \"default\")\n",
              "                .style(\"-webkit-user-select\", \"none\")\n",
              "                .attr(\"fill\", fillColor)\n",
              "                .attr(\"x\", x + DETAIL_WIDTH / 2)\n",
              "                .attr(\"text-anchor\", \"middle\")\n",
              "                .attr(\"y\", y)\n",
              "                .attr(\"height\", DETAIL_HEADING_HEIGHT)\n",
              "                .attr(\"width\", DETAIL_WIDTH)\n",
              "                .attr(\"dy\", HEADING_TEXT_SIZE);\n",
              "        }\n",
              "\n",
              "        function renderDetailText(text, id, x, y, layerIndex) {\n",
              "            var tokenContainer = config.svg.append(\"svg:g\")\n",
              "                .classed(\"detail\", true)\n",
              "                .selectAll(\"g\")\n",
              "                .data(text)\n",
              "                .enter()\n",
              "                .append(\"g\");\n",
              "\n",
              "            var fillColor = getTextColor();\n",
              "\n",
              "            tokenContainer.append(\"rect\")\n",
              "                .classed(\"highlight\", true)\n",
              "                .attr(\"fill\", fillColor)\n",
              "                .style(\"opacity\", 0.0)\n",
              "                .attr(\"height\", DETAIL_BOX_HEIGHT)\n",
              "                .attr(\"width\", DETAIL_BOX_WIDTH)\n",
              "                .attr(\"x\", x)\n",
              "                .attr(\"y\", function (d, i) {\n",
              "                    return y + i * DETAIL_BOX_HEIGHT;\n",
              "                });\n",
              "\n",
              "            var textContainer = tokenContainer.append(\"text\")\n",
              "                .classed(\"token\", true)\n",
              "                .text(function (d) {\n",
              "                    return d;\n",
              "                })\n",
              "                .attr(\"font-size\", TEXT_SIZE + \"px\")\n",
              "                .style(\"cursor\", \"default\")\n",
              "                .style(\"-webkit-user-select\", \"none\")\n",
              "                .attr(\"fill\", fillColor)\n",
              "                .attr(\"x\", x)\n",
              "                .attr(\"y\", function (d, i) {\n",
              "                    return i * DETAIL_BOX_HEIGHT + y;\n",
              "                })\n",
              "                .attr(\"height\", DETAIL_BOX_HEIGHT)\n",
              "                .attr(\"width\", DETAIL_BOX_WIDTH)\n",
              "                .attr(\"dy\", TEXT_SIZE);\n",
              "\n",
              "            if (id == \"leftText\") {\n",
              "                textContainer.style(\"text-anchor\", \"end\")\n",
              "                    .attr(\"dx\", DETAIL_BOX_WIDTH - 2);\n",
              "                tokenContainer.on(\"mouseover\", function (d, index) {\n",
              "                    highlightSelection(index);\n",
              "                });\n",
              "                tokenContainer.on(\"mouseleave\", function () {\n",
              "                    unhighlightSelection();\n",
              "                });\n",
              "            }\n",
              "        }\n",
              "\n",
              "        function highlightSelection(index) {\n",
              "            config.svg.select(\"#leftText\")\n",
              "                .selectAll(\".highlight\")\n",
              "                .style(\"opacity\", function (d, i) {\n",
              "                    return i == index ? 1.0 : 0.0;\n",
              "                });\n",
              "            config.svg.selectAll(\".attn-line-group\")\n",
              "                .style(\"opacity\", function (d, i) {\n",
              "                    return i == index ? 1.0 : 0.0;\n",
              "                });\n",
              "        }\n",
              "\n",
              "        function unhighlightSelection() {\n",
              "            config.svg.select(\"#leftText\")\n",
              "                .selectAll(\".highlight\")\n",
              "                .style(\"opacity\", 0.0);\n",
              "            config.svg.selectAll(\".attn-line-group\")\n",
              "                .style(\"opacity\", 1);\n",
              "        }\n",
              "\n",
              "        function renderThumbnailAttn(x, y, att, layerIndex, headIndex) {\n",
              "\n",
              "            var attnContainer = config.svg.append(\"svg:g\");\n",
              "\n",
              "            var attnBackground = attnContainer.append(\"rect\")\n",
              "                .attr(\"id\", 'attn_background_' + layerIndex + \"_\" + headIndex)\n",
              "                .classed(\"attn_background\", true)\n",
              "                .attr(\"x\", x)\n",
              "                .attr(\"y\", y)\n",
              "                .attr(\"height\", config.thumbnailHeight)\n",
              "                .attr(\"width\", config.thumbnailWidth)\n",
              "                .attr(\"stroke-width\", 2)\n",
              "                .attr(\"stroke\", getLayerColor(layerIndex))\n",
              "                .attr(\"stroke-opacity\", 0)\n",
              "                .attr(\"fill\", getBackgroundColor());\n",
              "            var x1 = x + THUMBNAIL_PADDING;\n",
              "            var x2 = x1 + config.thumbnailWidth - 14;\n",
              "            var y1 = y + THUMBNAIL_PADDING;\n",
              "\n",
              "            attnContainer.selectAll(\"g\")\n",
              "                .data(att)\n",
              "                .enter()\n",
              "                .append(\"g\") // Add group for each source token\n",
              "                .attr(\"source-index\", function (d, i) { // Save index of source token\n",
              "                    return i;\n",
              "                })\n",
              "                .selectAll(\"line\")\n",
              "                .data(function (d) { // Loop over all target tokens\n",
              "                    return d;\n",
              "                })\n",
              "                .enter() // When entering\n",
              "                .append(\"line\")\n",
              "                .attr(\"x1\", x1)\n",
              "                .attr(\"y1\", function (d) {\n",
              "                    var sourceIndex = +this.parentNode.getAttribute(\"source-index\");\n",
              "                    return y1 + (sourceIndex + .5) * config.thumbnailBoxHeight;\n",
              "                })\n",
              "                .attr(\"x2\", x2)\n",
              "                .attr(\"y2\", function (d, targetIndex) {\n",
              "                    return y1 + (targetIndex + .5) * config.thumbnailBoxHeight;\n",
              "                })\n",
              "                .attr(\"stroke-width\", 2.2)\n",
              "                .attr(\"stroke\", getLayerColor(layerIndex))\n",
              "                .attr(\"stroke-opacity\", function (d) {\n",
              "                    return d;\n",
              "                });\n",
              "\n",
              "            var clickRegion = attnContainer.append(\"rect\")\n",
              "                .attr(\"x\", x)\n",
              "                .attr(\"y\", y)\n",
              "                .attr(\"height\", config.thumbnailHeight)\n",
              "                .attr(\"width\", config.thumbnailWidth)\n",
              "                .style(\"opacity\", 0);\n",
              "\n",
              "            clickRegion.on(\"click\", function (d, index) {\n",
              "                var attnBackgroundOther = config.svg.selectAll(\".attn_background\");\n",
              "                attnBackgroundOther.attr(\"fill\", getBackgroundColor());\n",
              "                attnBackgroundOther.attr(\"stroke-opacity\", 0);\n",
              "\n",
              "                config.svg.selectAll(\".detail\").remove();\n",
              "                if (config.detail_layer != layerIndex || config.detail_head != headIndex) {\n",
              "                    renderDetail(att, layerIndex, headIndex);\n",
              "                    config.detail_layer = layerIndex;\n",
              "                    config.detail_head = headIndex;\n",
              "                    attnBackground.attr(\"fill\", getHighlightColor());\n",
              "                    attnBackground.attr(\"stroke-opacity\", .8);\n",
              "                } else {\n",
              "                    config.detail_layer = null;\n",
              "                    config.detail_head = null;\n",
              "                    attnBackground.attr(\"fill\", getBackgroundColor());\n",
              "                    attnBackground.attr(\"stroke-opacity\", 0);\n",
              "                }\n",
              "            });\n",
              "\n",
              "            clickRegion.on(\"mouseover\", function (d) {\n",
              "                d3.select(this).style(\"cursor\", \"pointer\");\n",
              "            });\n",
              "        }\n",
              "\n",
              "        function renderDetailFrame(x, y, layerIndex) {\n",
              "            var detailFrame = config.svg.append(\"rect\")\n",
              "                .classed(\"detail\", true)\n",
              "                .attr(\"x\", x)\n",
              "                .attr(\"y\", y)\n",
              "                .attr(\"height\", config.detailHeight)\n",
              "                .attr(\"width\", DETAIL_WIDTH)\n",
              "                .style(\"opacity\", 1)\n",
              "                .attr(\"stroke-width\", 1.5)\n",
              "                .attr(\"stroke-opacity\", 0.7)\n",
              "                .attr(\"stroke\", getLayerColor(layerIndex));\n",
              "        }\n",
              "\n",
              "        function renderDetailAttn(x, y, att, layerIndex) {\n",
              "            var attnContainer = config.svg.append(\"svg:g\")\n",
              "                .classed(\"detail\", true)\n",
              "                .attr(\"pointer-events\", \"none\");\n",
              "            attnContainer.selectAll(\"g\")\n",
              "                .data(att)\n",
              "                .enter()\n",
              "                .append(\"g\") // Add group for each source token\n",
              "                .classed('attn-line-group', true)\n",
              "                .attr(\"source-index\", function (d, i) { // Save index of source token\n",
              "                    return i;\n",
              "                })\n",
              "                .selectAll(\"line\")\n",
              "                .data(function (d) { // Loop over all target tokens\n",
              "                    return d;\n",
              "                })\n",
              "                .enter()\n",
              "                .append(\"line\")\n",
              "                .attr(\"x1\", x + ATTN_PADDING)\n",
              "                .attr(\"y1\", function (d) {\n",
              "                    var sourceIndex = +this.parentNode.getAttribute(\"source-index\");\n",
              "                    return y + (sourceIndex + .5) * DETAIL_BOX_HEIGHT;\n",
              "                })\n",
              "                .attr(\"x2\", x + DETAIL_ATTENTION_WIDTH - ATTN_PADDING)\n",
              "                .attr(\"y2\", function (d, targetIndex) {\n",
              "                    return y + (targetIndex + .5) * DETAIL_BOX_HEIGHT;\n",
              "                })\n",
              "                .attr(\"stroke-width\", 2.2)\n",
              "                .attr(\"stroke\", getLayerColor(layerIndex))\n",
              "                .attr(\"stroke-opacity\", function (d) {\n",
              "                    return d;\n",
              "                });\n",
              "        }\n",
              "\n",
              "        function getLayerColor(layer) {\n",
              "          return LAYER_COLORS[config.layers[layer] % 10];\n",
              "        }\n",
              "\n",
              "        function getTextColor() {\n",
              "            return PALETTE[config.mode]['text']\n",
              "        }\n",
              "\n",
              "        function getBackgroundColor() {\n",
              "           return PALETTE[config.mode]['background']\n",
              "        }\n",
              "\n",
              "        function getHighlightColor() {\n",
              "           return PALETTE[config.mode]['highlight']\n",
              "        }\n",
              "\n",
              "        function initialize() {\n",
              "            config.attention = params['attention'];\n",
              "            config.filter = params['default_filter'];\n",
              "            config.mode = params['display_mode'];\n",
              "            config.layers = params['include_layers']\n",
              "            config.heads = params['include_heads']\n",
              "            config.totalHeads = params['total_heads']\n",
              "            config.rootDivId = params['root_div_id'];\n",
              "            $(`#${config.rootDivId} #filter`).on('change', function (e) {\n",
              "                config.filter = e.currentTarget.value;\n",
              "                render();\n",
              "            });\n",
              "        }\n",
              "\n",
              "        initialize();\n",
              "        render();\n",
              "\n",
              "    });\n",
              "</script>"
            ]
          }
        }
      ],
      "source": [
        "from bertviz import model_view\n",
        "from transformers import AutoModel, AutoModelForCausalLM, AutoTokenizer, utils\n",
        "\n",
        "utils.logging.set_verbosity_error()  # Suppress standard warnings\n",
        "\n",
        "model_name = \"openai-community/gpt2\"\n",
        "input_text = \"No, I am your father\"\n",
        "model = AutoModelForCausalLM.from_pretrained(model_name, output_attentions=True)\n",
        "tokenizer = AutoTokenizer.from_pretrained(model_name)\n",
        "inputs = tokenizer.encode(input_text, return_tensors=\"pt\")  # Tokenize input text\n",
        "outputs = model(inputs)  # Run model\n",
        "attention = outputs[-1]  # Retrieve attention from model outputs\n",
        "tokens = tokenizer.convert_ids_to_tokens(\n",
        "    inputs[0]\n",
        ")  # Convert input ids to token strings\n",
        "model_view(attention, tokens)  # Display model view"
      ],
      "id": "cell-13"
    },
    {
      "cell_type": "markdown",
      "metadata": {},
      "source": [
        "## Pipeline using HuggingFace\n",
        "\n",
        "Now, let’s see a practical application of LLMs using a HuggingFace\n",
        "pipeline for classification.\n",
        "\n",
        "This involves a few steps including: 1. Setting up a prompt 2. Loading\n",
        "in a pretrained model 3. Loading in the tokenizer and tokenizing input\n",
        "text 4. Performing model inference 5. Interpreting inference output"
      ],
      "id": "11bacd26-65c4-44ee-a249-1da638256851"
    },
    {
      "cell_type": "code",
      "execution_count": 10,
      "metadata": {
        "quarto-private-1": {
          "key": "execution",
          "value": {
            "iopub.execute_input": "2025-08-01T21:21:53.635709Z",
            "iopub.status.busy": "2025-08-01T21:21:53.635568Z",
            "iopub.status.idle": "2025-08-01T21:21:53.672325Z",
            "shell.execute_reply": "2025-08-01T21:21:53.672151Z",
            "shell.execute_reply.started": "2025-08-01T21:21:53.635699Z"
          }
        }
      },
      "outputs": [],
      "source": [
        "# STEP 0 : Installations and imports\n",
        "import torch\n",
        "import torch.nn.functional as F\n",
        "from transformers import AutoConfig, AutoModelForSequenceClassification, AutoTokenizer"
      ],
      "id": "cell-15"
    },
    {
      "cell_type": "markdown",
      "metadata": {},
      "source": [
        "### 1. Setting up a prompt\n",
        "\n",
        "A “prompt” refers to a specific input or query provided to a language\n",
        "model. They guide the text processing and generation by providing the\n",
        "context for the model to generate coherent and relevant text based on\n",
        "the given input.\n",
        "\n",
        "The choice and structure of the prompt depends on the specific task, the\n",
        "context and desired output. Prompts can be “discrete” or “instructive”\n",
        "where they are explicit instructions or questions directed to the\n",
        "language model. They can also be more nuanced by more providing\n",
        "suggestions, directions and contexts to the model.\n",
        "\n",
        "We will use very simple prompts in this tutorial section, but we will\n",
        "learn more about prompt engineering and how it helps in optimizing the\n",
        "performance of the model for a given use case in the following\n",
        "tutorials."
      ],
      "id": "067dbe26-32cb-49fd-b33a-92ec2f9a4069"
    },
    {
      "cell_type": "code",
      "execution_count": 11,
      "metadata": {
        "quarto-private-1": {
          "key": "execution",
          "value": {
            "iopub.execute_input": "2025-08-01T21:21:55.926394Z",
            "iopub.status.busy": "2025-08-01T21:21:55.925977Z",
            "iopub.status.idle": "2025-08-01T21:21:55.957987Z",
            "shell.execute_reply": "2025-08-01T21:21:55.957723Z",
            "shell.execute_reply.started": "2025-08-01T21:21:55.926383Z"
          }
        }
      },
      "outputs": [],
      "source": [
        "# STEP 1 : Set up the prompt\n",
        "input_text = \"The panoramic view of the ocean was breathtaking.\""
      ],
      "id": "cell-17"
    },
    {
      "cell_type": "markdown",
      "metadata": {},
      "source": [
        "### 2. Loading Pretrained Models\n",
        "\n",
        "The AutoModelForSequenceClassification from_pretrained() method\n",
        "instantiates a sequence classification model.\n",
        "\n",
        "Refer to\n",
        "https://huggingface.co/transformers/v3.0.2/model_doc/auto.html#automodels\n",
        "for the list of model classes supported.\n",
        "\n",
        "“from_pretrained” method downloads the pre-trained weights from the\n",
        "Hugging Face Model Hub or the specified URL if the model is not already\n",
        "cached locally. It then loads the weights into the instantiated model,\n",
        "initializing the model parameters with the pre-trained values.\n",
        "\n",
        "The model cache contains:\n",
        "\n",
        "-   model configuration (config.json)\n",
        "-   pretrained model weights (model.safetensors)\n",
        "-   tokenizer information (tokenizer.json, vocab.json, merges.txt,\n",
        "    tokenizer.model)"
      ],
      "id": "2a902d41-4651-49e4-aab1-6268233f0b85"
    },
    {
      "cell_type": "code",
      "execution_count": 12,
      "metadata": {
        "quarto-private-1": {
          "key": "execution",
          "value": {
            "iopub.execute_input": "2025-08-01T21:21:58.286281Z",
            "iopub.status.busy": "2025-08-01T21:21:58.286118Z",
            "iopub.status.idle": "2025-08-01T21:21:58.605104Z",
            "shell.execute_reply": "2025-08-01T21:21:58.604969Z",
            "shell.execute_reply.started": "2025-08-01T21:21:58.286270Z"
          }
        }
      },
      "outputs": [
        {
          "output_type": "display_data",
          "metadata": {},
          "data": {
            "text/html": [
              "<pre style=\"white-space:pre;overflow-x:auto;line-height:normal;font-family:Menlo,'DejaVu Sans Mono',consolas,'Courier New',monospace\">DistilBertConfig <span style=\"font-weight: bold\">{</span>\n",
              "  <span style=\"color: #008000; text-decoration-color: #008000\">\"activation\"</span>: <span style=\"color: #008000; text-decoration-color: #008000\">\"gelu\"</span>,\n",
              "  <span style=\"color: #008000; text-decoration-color: #008000\">\"architectures\"</span>: <span style=\"font-weight: bold\">[</span>\n",
              "    <span style=\"color: #008000; text-decoration-color: #008000\">\"DistilBertForSequenceClassification\"</span>\n",
              "  <span style=\"font-weight: bold\">]</span>,\n",
              "  <span style=\"color: #008000; text-decoration-color: #008000\">\"attention_dropout\"</span>: <span style=\"color: #008080; text-decoration-color: #008080; font-weight: bold\">0.1</span>,\n",
              "  <span style=\"color: #008000; text-decoration-color: #008000\">\"dim\"</span>: <span style=\"color: #008080; text-decoration-color: #008080; font-weight: bold\">768</span>,\n",
              "  <span style=\"color: #008000; text-decoration-color: #008000\">\"dropout\"</span>: <span style=\"color: #008080; text-decoration-color: #008080; font-weight: bold\">0.1</span>,\n",
              "  <span style=\"color: #008000; text-decoration-color: #008000\">\"finetuning_task\"</span>: <span style=\"color: #008000; text-decoration-color: #008000\">\"sst-2\"</span>,\n",
              "  <span style=\"color: #008000; text-decoration-color: #008000\">\"hidden_dim\"</span>: <span style=\"color: #008080; text-decoration-color: #008080; font-weight: bold\">3072</span>,\n",
              "  <span style=\"color: #008000; text-decoration-color: #008000\">\"id2label\"</span>: <span style=\"font-weight: bold\">{</span>\n",
              "    <span style=\"color: #008000; text-decoration-color: #008000\">\"0\"</span>: <span style=\"color: #008000; text-decoration-color: #008000\">\"NEGATIVE\"</span>,\n",
              "    <span style=\"color: #008000; text-decoration-color: #008000\">\"1\"</span>: <span style=\"color: #008000; text-decoration-color: #008000\">\"POSITIVE\"</span>\n",
              "  <span style=\"font-weight: bold\">}</span>,\n",
              "  <span style=\"color: #008000; text-decoration-color: #008000\">\"initializer_range\"</span>: <span style=\"color: #008080; text-decoration-color: #008080; font-weight: bold\">0.02</span>,\n",
              "  <span style=\"color: #008000; text-decoration-color: #008000\">\"label2id\"</span>: <span style=\"font-weight: bold\">{</span>\n",
              "    <span style=\"color: #008000; text-decoration-color: #008000\">\"NEGATIVE\"</span>: <span style=\"color: #008080; text-decoration-color: #008080; font-weight: bold\">0</span>,\n",
              "    <span style=\"color: #008000; text-decoration-color: #008000\">\"POSITIVE\"</span>: <span style=\"color: #008080; text-decoration-color: #008080; font-weight: bold\">1</span>\n",
              "  <span style=\"font-weight: bold\">}</span>,\n",
              "  <span style=\"color: #008000; text-decoration-color: #008000\">\"max_position_embeddings\"</span>: <span style=\"color: #008080; text-decoration-color: #008080; font-weight: bold\">512</span>,\n",
              "  <span style=\"color: #008000; text-decoration-color: #008000\">\"model_type\"</span>: <span style=\"color: #008000; text-decoration-color: #008000\">\"distilbert\"</span>,\n",
              "  <span style=\"color: #008000; text-decoration-color: #008000\">\"n_heads\"</span>: <span style=\"color: #008080; text-decoration-color: #008080; font-weight: bold\">12</span>,\n",
              "  <span style=\"color: #008000; text-decoration-color: #008000\">\"n_layers\"</span>: <span style=\"color: #008080; text-decoration-color: #008080; font-weight: bold\">6</span>,\n",
              "  <span style=\"color: #008000; text-decoration-color: #008000\">\"output_past\"</span>: true,\n",
              "  <span style=\"color: #008000; text-decoration-color: #008000\">\"pad_token_id\"</span>: <span style=\"color: #008080; text-decoration-color: #008080; font-weight: bold\">0</span>,\n",
              "  <span style=\"color: #008000; text-decoration-color: #008000\">\"qa_dropout\"</span>: <span style=\"color: #008080; text-decoration-color: #008080; font-weight: bold\">0.1</span>,\n",
              "  <span style=\"color: #008000; text-decoration-color: #008000\">\"seq_classif_dropout\"</span>: <span style=\"color: #008080; text-decoration-color: #008080; font-weight: bold\">0.2</span>,\n",
              "  <span style=\"color: #008000; text-decoration-color: #008000\">\"sinusoidal_pos_embds\"</span>: false,\n",
              "  <span style=\"color: #008000; text-decoration-color: #008000\">\"tie_weights_\"</span>: true,\n",
              "  <span style=\"color: #008000; text-decoration-color: #008000\">\"transformers_version\"</span>: <span style=\"color: #008000; text-decoration-color: #008000\">\"4.53.3\"</span>,\n",
              "  <span style=\"color: #008000; text-decoration-color: #008000\">\"vocab_size\"</span>: <span style=\"color: #008080; text-decoration-color: #008080; font-weight: bold\">30522</span>\n",
              "<span style=\"font-weight: bold\">}</span>\n",
              "\n",
              "</pre>"
            ]
          }
        }
      ],
      "source": [
        "# STEP 2 : Load the pretrained model.\n",
        "model_name = \"distilbert-base-uncased-finetuned-sst-2-english\"\n",
        "model = AutoModelForSequenceClassification.from_pretrained(model_name)\n",
        "config = AutoConfig.from_pretrained(model_name)\n",
        "print(config)"
      ],
      "id": "cell-19"
    },
    {
      "cell_type": "markdown",
      "metadata": {},
      "source": [
        "### 3. Loading in the tokenizer and tokenizing input text\n",
        "\n",
        "Here, we load in a pretrained tokenizer associated with this model."
      ],
      "id": "627f8155-b3d1-4a56-a066-7bc4eb8567b6"
    },
    {
      "cell_type": "code",
      "execution_count": 13,
      "metadata": {
        "quarto-private-1": {
          "key": "execution",
          "value": {
            "iopub.execute_input": "2025-08-01T21:22:01.070650Z",
            "iopub.status.busy": "2025-08-01T21:22:01.070501Z",
            "iopub.status.idle": "2025-08-01T21:22:01.592156Z",
            "shell.execute_reply": "2025-08-01T21:22:01.592038Z",
            "shell.execute_reply.started": "2025-08-01T21:22:01.070640Z"
          }
        }
      },
      "outputs": [
        {
          "output_type": "display_data",
          "metadata": {},
          "data": {
            "text/html": [
              "<pre style=\"white-space:pre;overflow-x:auto;line-height:normal;font-family:Menlo,'DejaVu Sans Mono',consolas,'Courier New',monospace\"><span style=\"color: #800080; text-decoration-color: #800080; font-weight: bold\">tensor</span><span style=\"font-weight: bold\">([[</span>  <span style=\"color: #008080; text-decoration-color: #008080; font-weight: bold\">101</span>,  <span style=\"color: #008080; text-decoration-color: #008080; font-weight: bold\">1996</span>,  <span style=\"color: #008080; text-decoration-color: #008080; font-weight: bold\">6090</span>,  <span style=\"color: #008080; text-decoration-color: #008080; font-weight: bold\">6525</span>,  <span style=\"color: #008080; text-decoration-color: #008080; font-weight: bold\">7712</span>,  <span style=\"color: #008080; text-decoration-color: #008080; font-weight: bold\">3193</span>,  <span style=\"color: #008080; text-decoration-color: #008080; font-weight: bold\">1997</span>,  <span style=\"color: #008080; text-decoration-color: #008080; font-weight: bold\">1996</span>,  <span style=\"color: #008080; text-decoration-color: #008080; font-weight: bold\">4153</span>,  <span style=\"color: #008080; text-decoration-color: #008080; font-weight: bold\">2001</span>,\n",
              "          <span style=\"color: #008080; text-decoration-color: #008080; font-weight: bold\">3052</span>, <span style=\"color: #008080; text-decoration-color: #008080; font-weight: bold\">17904</span>,  <span style=\"color: #008080; text-decoration-color: #008080; font-weight: bold\">1012</span>,   <span style=\"color: #008080; text-decoration-color: #008080; font-weight: bold\">102</span><span style=\"font-weight: bold\">]])</span>\n",
              "</pre>"
            ]
          }
        }
      ],
      "source": [
        "# STEP 3 : Load the tokenizer and tokenize the input text\n",
        "tokenizer = AutoTokenizer.from_pretrained(model_name)\n",
        "input_ids = tokenizer(input_text, return_tensors=\"pt\")[\"input_ids\"]\n",
        "print(input_ids)"
      ],
      "id": "cell-21"
    },
    {
      "cell_type": "markdown",
      "metadata": {},
      "source": [
        "### 4. Performing inference and interpreting\n",
        "\n",
        "Here, we: \\* load data into the model, \\* perform inference to obtain\n",
        "logits, \\* Convert logits into probabilities \\* According to\n",
        "probabilities assign label\n",
        "\n",
        "The end result is that we can predict whether the input phrase is\n",
        "positive or negative."
      ],
      "id": "5f097ee0-9394-4dc3-9441-a1b1342f1468"
    },
    {
      "cell_type": "code",
      "execution_count": 14,
      "metadata": {
        "quarto-private-1": {
          "key": "execution",
          "value": {
            "iopub.execute_input": "2025-08-01T21:22:06.630142Z",
            "iopub.status.busy": "2025-08-01T21:22:06.629910Z",
            "iopub.status.idle": "2025-08-01T21:22:07.058427Z",
            "shell.execute_reply": "2025-08-01T21:22:07.058302Z",
            "shell.execute_reply.started": "2025-08-01T21:22:06.630130Z"
          }
        }
      },
      "outputs": [
        {
          "output_type": "display_data",
          "metadata": {},
          "data": {
            "text/html": [
              "<pre style=\"white-space:pre;overflow-x:auto;line-height:normal;font-family:Menlo,'DejaVu Sans Mono',consolas,'Courier New',monospace\"><span style=\"color: #800080; text-decoration-color: #800080; font-weight: bold\">tensor</span><span style=\"font-weight: bold\">([[</span><span style=\"color: #008080; text-decoration-color: #008080; font-weight: bold\">-4.2767</span>,  <span style=\"color: #008080; text-decoration-color: #008080; font-weight: bold\">4.5486</span><span style=\"font-weight: bold\">]]</span>, <span style=\"color: #808000; text-decoration-color: #808000\">grad_fn</span>=<span style=\"font-weight: bold\">&lt;</span><span style=\"color: #ff00ff; text-decoration-color: #ff00ff; font-weight: bold\">AddmmBackward0</span><span style=\"font-weight: bold\">&gt;)</span>\n",
              "</pre>"
            ]
          }
        },
        {
          "output_type": "display_data",
          "metadata": {},
          "data": {
            "text/html": [
              "<pre style=\"white-space:pre;overflow-x:auto;line-height:normal;font-family:Menlo,'DejaVu Sans Mono',consolas,'Courier New',monospace\"><span style=\"color: #800080; text-decoration-color: #800080; font-weight: bold\">tensor</span><span style=\"font-weight: bold\">([[</span><span style=\"color: #008080; text-decoration-color: #008080; font-weight: bold\">1.4695e-04</span>, <span style=\"color: #008080; text-decoration-color: #008080; font-weight: bold\">9.9985e-01</span><span style=\"font-weight: bold\">]]</span>, <span style=\"color: #808000; text-decoration-color: #808000\">grad_fn</span>=<span style=\"font-weight: bold\">&lt;</span><span style=\"color: #ff00ff; text-decoration-color: #ff00ff; font-weight: bold\">SoftmaxBackward0</span><span style=\"font-weight: bold\">&gt;)</span>\n",
              "</pre>"
            ]
          }
        },
        {
          "output_type": "display_data",
          "metadata": {},
          "data": {
            "text/html": [
              "<pre style=\"white-space:pre;overflow-x:auto;line-height:normal;font-family:Menlo,'DejaVu Sans Mono',consolas,'Courier New',monospace\"><span style=\"font-weight: bold\">[{</span><span style=\"color: #008000; text-decoration-color: #008000\">'label'</span>: <span style=\"color: #008000; text-decoration-color: #008000\">'POSITIVE'</span>, <span style=\"color: #008000; text-decoration-color: #008000\">'score'</span>: <span style=\"color: #008080; text-decoration-color: #008080; font-weight: bold\">0.9998530149459839</span><span style=\"font-weight: bold\">}]</span>\n",
              "</pre>"
            ]
          }
        }
      ],
      "source": [
        "# STEP 5 : Perform inference\n",
        "outputs = model(input_ids)\n",
        "result = outputs.logits\n",
        "print(result)\n",
        "\n",
        "# STEP 6 :  Interpret the output.\n",
        "probabilities = F.softmax(result, dim=-1)\n",
        "print(probabilities)\n",
        "predicted_class = torch.argmax(probabilities, dim=-1).item()\n",
        "labels = [\"NEGATIVE\", \"POSITIVE\"]\n",
        "out_string = (\n",
        "    \"[{'label': '\"\n",
        "    + str(labels[predicted_class])\n",
        "    + \"', 'score': \"\n",
        "    + str(probabilities[0][predicted_class].tolist())\n",
        "    + \"}]\"\n",
        ")\n",
        "print(out_string)"
      ],
      "id": "cell-23"
    },
    {
      "cell_type": "markdown",
      "metadata": {},
      "source": [
        "### Saving and loading models\n",
        "\n",
        "Model can be saved and loaded to and from a local model directory."
      ],
      "id": "ad7370e4-46a2-4522-98c7-9e6c71a941a9"
    },
    {
      "cell_type": "code",
      "execution_count": 15,
      "metadata": {
        "quarto-private-1": {
          "key": "execution",
          "value": {
            "iopub.execute_input": "2025-08-01T21:22:12.798323Z",
            "iopub.status.busy": "2025-08-01T21:22:12.798179Z",
            "iopub.status.idle": "2025-08-01T21:22:16.652098Z",
            "shell.execute_reply": "2025-08-01T21:22:16.651872Z",
            "shell.execute_reply.started": "2025-08-01T21:22:12.798314Z"
          }
        }
      },
      "outputs": [
        {
          "output_type": "stream",
          "name": "stdout",
          "text": [
            "[2025-08-01 17:22:13,442] [INFO] [real_accelerator.py:254:get_accelerator] Setting ds_accelerator to mps (auto detect)"
          ]
        },
        {
          "output_type": "stream",
          "name": "stderr",
          "text": [
            "huggingface/tokenizers: The current process just got forked, after parallelism has already been used. Disabling parallelism to avoid deadlocks...\n",
            "To disable this warning, you can either:\n",
            "    - Avoid using `tokenizers` before the fork if possible\n",
            "    - Explicitly set the environment variable TOKENIZERS_PARALLELISM=(true | false)\n",
            "W0801 17:22:13.658000 89497 torch/distributed/elastic/multiprocessing/redirects.py:29] NOTE: Redirects are currently not supported in Windows or MacOs."
          ]
        },
        {
          "output_type": "stream",
          "name": "stdout",
          "text": [
            "[2025-08-01 17:22:14,230] [INFO] [logging.py:107:log_dist] [Rank -1] [TorchCheckpointEngine] Initialized with serialization = False"
          ]
        }
      ],
      "source": [
        "from transformers import AutoModel, AutoModelForCausalLM\n",
        "\n",
        "# Instantiate and train or fine-tune a model\n",
        "model = AutoModelForCausalLM.from_pretrained(\"bert-base-uncased\")\n",
        "\n",
        "# Train or fine-tune the model...\n",
        "\n",
        "# Save the model to a local directory\n",
        "directory = \"my_local_model\"\n",
        "model.save_pretrained(directory)\n",
        "\n",
        "# Load a pre-trained model from a local directory\n",
        "loaded_model = AutoModel.from_pretrained(directory)"
      ],
      "id": "cell-25"
    },
    {
      "cell_type": "markdown",
      "metadata": {},
      "source": [
        "## Model Hub\n",
        "\n",
        "The Model Hub is where the members of the Hugging Face community can\n",
        "host all of their model checkpoints for simple storage, discovery, and\n",
        "sharing.\n",
        "\n",
        "-   Download pre-trained models with the huggingface_hub client library,\n",
        "    with Transformers for fine-tuning.\n",
        "-   Make use of Inference API to use models in production settings.\n",
        "-   You can filter for different models for different tasks, frameworks\n",
        "    used, datasets used, and many more.\n",
        "-   You can select any model, that will show the model card.\n",
        "-   Model card contains information of the model, including the\n",
        "    description, usage, limitations etc. Some models also have inference\n",
        "    API’s that can be used directly.\n",
        "\n",
        "Model Hub Link : https://huggingface.co/docs/hub/en/models-the-hub\n",
        "\n",
        "Example of a model card :\n",
        "https://huggingface.co/bert-base-uncased/tree/main\n",
        "\n",
        "## Recommended reading\n",
        "\n",
        "-   [“The Illustrated Transformer” by Jay\n",
        "    Alammar](https://jalammar.github.io/illustrated-transformer/)\n",
        "-   [“Visualizing A Neural Machine Translation Model (Mechanics of\n",
        "    Seq2seq Models With Attention)” by Jay\n",
        "    Alammar](https://jalammar.github.io/visualizing-neural-machine-translation-mechanics-of-seq2seq-models-with-attention/)\n",
        "-   [“The Illustrated GPT-2 (Visualizing Transformer Language\n",
        "    Models)”](https://jalammar.github.io/illustrated-gpt2/)\n",
        "-   [“A gentle introduction to positional\n",
        "    encoding”](https://machinelearningmastery.com/a-gentle-introduction-to-positional-encoding-in-transformer-models-part-1/)\n",
        "-   [“LLM Tutorial Workshop (Argonne National\n",
        "    Laboratory)”](https://github.com/brettin/llm_tutorial)\n",
        "-   [“LLM Tutorial Workshop Part 2 (Argonne National\n",
        "    Laboratory)”](https://github.com/argonne-lcf/llm-workshop)\n",
        "\n",
        "## Homework\n",
        "\n",
        "1.  Load in a generative model using the HuggingFace pipeline and\n",
        "    generate text using a batch of prompts.\n",
        "\n",
        "-   Play with generative parameters such as temperature, max_new_tokens,\n",
        "    and the model itself and explain the effect on the legibility of the\n",
        "    model response. Try at least 4 different parameter/model\n",
        "    combinations.\n",
        "-   Models that can be used include:\n",
        "    -   `google/gemma-2-2b-it`\n",
        "    -   `microsoft/Phi-3-mini-4k-instruct`\n",
        "    -   `meta-llama/Llama-3.2-1B`\n",
        "    -   Any model from this list: [Text-generation\n",
        "        models](https://huggingface.co/models?pipeline_tag=text-generation)\n",
        "    -   `gpt2` if having trouble loading these models in\n",
        "-   This guide should help! [Text-generation\n",
        "    strategies](https://huggingface.co/docs/transformers/en/generation_strategies)\n",
        "\n",
        "1.  Load in 2 models of different parameter size (e.g. GPT2,\n",
        "    meta-llama/Llama-2-7b-chat-hf, or distilbert/distilgpt2) and analyze\n",
        "    the BertViz for each. How does the attention mechanisms change\n",
        "    depending on model size?"
      ],
      "id": "0fed89f0-d8aa-490d-bd5d-0f0a551f0a19"
    }
  ],
  "nbformat": 4,
  "nbformat_minor": 5,
  "metadata": {
    "kernelspec": {
      "name": "python3",
      "display_name": "Python 3 (ipykernel)",
      "language": "python"
    },
    "language_info": {
      "name": "python",
      "codemirror_mode": {
        "name": "ipython",
        "version": "3"
      },
      "file_extension": ".py",
      "mimetype": "text/x-python",
      "nbconvert_exporter": "python",
      "pygments_lexer": "ipython3",
      "version": "3.13.1"
    },
    "widgets": {
      "application/vnd.jupyter.widget-state+json": {
        "state": {
          "1a01376d27c3497b9a65ca104a94412b": {
            "model_module": "@jupyter-widgets/base",
            "model_module_version": "2.0.0",
            "model_name": "LayoutModel",
            "state": {}
          },
          "3875a9223576424181b8c015523010cd": {
            "model_module": "@jupyter-widgets/controls",
            "model_module_version": "2.0.0",
            "model_name": "HTMLModel",
            "state": {
              "layout": "IPY_MODEL_1a01376d27c3497b9a65ca104a94412b",
              "style": "IPY_MODEL_622d0dcbd865420885c58c9a29e2fe30",
              "value": " 2/2 [00:00&lt;00:00, 28.94it/s]"
            }
          },
          "622d0dcbd865420885c58c9a29e2fe30": {
            "model_module": "@jupyter-widgets/controls",
            "model_module_version": "2.0.0",
            "model_name": "HTMLStyleModel",
            "state": {
              "description_width": "",
              "font_size": null,
              "text_color": null
            }
          },
          "6a7d339d79ba4fea9b3a31ca986ddbab": {
            "model_module": "@jupyter-widgets/controls",
            "model_module_version": "2.0.0",
            "model_name": "ProgressStyleModel",
            "state": {
              "description_width": ""
            }
          },
          "6d79fb5305f64ab086b851a3bce643e7": {
            "model_module": "@jupyter-widgets/base",
            "model_module_version": "2.0.0",
            "model_name": "LayoutModel",
            "state": {}
          },
          "6ec6886a3c9147daaac7dc2b750bff3a": {
            "model_module": "@jupyter-widgets/controls",
            "model_module_version": "2.0.0",
            "model_name": "HBoxModel",
            "state": {
              "children": [
                "IPY_MODEL_dd9a1dc20e7648bd9f97ba18ccc91655",
                "IPY_MODEL_c42ed1f4e75041ce9d12044b858e709e",
                "IPY_MODEL_3875a9223576424181b8c015523010cd"
              ],
              "layout": "IPY_MODEL_89c9a410f4614b3abad0bae738e2f69c"
            }
          },
          "89c9a410f4614b3abad0bae738e2f69c": {
            "model_module": "@jupyter-widgets/base",
            "model_module_version": "2.0.0",
            "model_name": "LayoutModel",
            "state": {}
          },
          "b2b2f06b8be0440f83d1c694ba1c414a": {
            "model_module": "@jupyter-widgets/base",
            "model_module_version": "2.0.0",
            "model_name": "LayoutModel",
            "state": {}
          },
          "b8f874fb185749ac89c0f841203ed8d2": {
            "model_module": "@jupyter-widgets/controls",
            "model_module_version": "2.0.0",
            "model_name": "HTMLStyleModel",
            "state": {
              "description_width": "",
              "font_size": null,
              "text_color": null
            }
          },
          "c42ed1f4e75041ce9d12044b858e709e": {
            "model_module": "@jupyter-widgets/controls",
            "model_module_version": "2.0.0",
            "model_name": "FloatProgressModel",
            "state": {
              "bar_style": "success",
              "layout": "IPY_MODEL_6d79fb5305f64ab086b851a3bce643e7",
              "max": 2,
              "style": "IPY_MODEL_6a7d339d79ba4fea9b3a31ca986ddbab",
              "value": 2
            }
          },
          "dd9a1dc20e7648bd9f97ba18ccc91655": {
            "model_module": "@jupyter-widgets/controls",
            "model_module_version": "2.0.0",
            "model_name": "HTMLModel",
            "state": {
              "layout": "IPY_MODEL_b2b2f06b8be0440f83d1c694ba1c414a",
              "style": "IPY_MODEL_b8f874fb185749ac89c0f841203ed8d2",
              "value": "Loading checkpoint shards: 100%"
            }
          }
        },
        "version_major": 2,
        "version_minor": 0
      }
    }
  }
}