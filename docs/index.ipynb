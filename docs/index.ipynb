{
  "cells": [
    {
      "cell_type": "markdown",
      "metadata": {},
      "source": [
        "# Intro to HPC Bootcamp 2025\n",
        "\n",
        "[Sam Foreman](https://samforeman.me)\n",
        "(\\[[ALCF](https://alcf.anl.gov/about/people/sam-foreman)\\](<https://alcf.anl.gov/about/people/sam-foreman>))  \n",
        "2025-07-15\n",
        "\n",
        "## Contents\n",
        "\n",
        "-   🏡 [Intro to {AI, HPC} for Science](./index.html)\n",
        "\n",
        "    -   📂 [\\[00\\] Intro to AI and HPC](00-intro-AI-HPC/index.html)\n",
        "        -   📄 [\\[0\\] Compute\n",
        "            systems](./00-intro-AI-hpc/0-compute-systems/index.html)\n",
        "        -   📄 [\\[1\\]\n",
        "            Shared-resources](./00-intro-AI-HPC/1-shared-resources/index.html)\n",
        "        -   📗\n",
        "            [\\[2\\]-jupyter-notebooks](./00-intro-AI-hpc/2-jupyter-notebooks/index.html)\n",
        "        -   📄 [\\[3\\]-homework](./00-intro-AI-hpc/3-homework/index.html)\n",
        "        -   📄 [\\[4\\]-nersc](./00-intro-AI-hpc/4-nersc/index.html)\n",
        "        -   📗\n",
        "            [\\[5\\]-mcmc-example](./00-intro-AI-hpc/5-mcmc-example/index.html)\n",
        "        -   📗\n",
        "            [\\[6\\]-linear-regression](./00-intro-AI-hpc/6-linear-regression/index.html)\n",
        "        -   📗\n",
        "            [\\[7\\]-statistical-learning](./00-intro-AI-hpc/7-statistical-learning/index.html)\n",
        "    -   📂 [\\[01\\] Neural Networks/](./01-neural-networks/index.html)\n",
        "        -   📄 [0-intro](./01-neural-networks/0-intro/index.html)\n",
        "        -   📗 [1-mnist](./01-neural-networks/1-mnist/index.html)\n",
        "        -   📄 [2-advanced](./01-neural-networks/2-advanced/index.html)\n",
        "        -   📗\n",
        "            [3-conv-nets](./01-neural-networks/3-conv-nets/index.html)\n",
        "        -   📗\n",
        "            [4-representation-learning](./01-neural-networks/4-representation-learning/index.html)\n",
        "    -   📂 [02-llms/](./02-llms/index.html)\n",
        "        -   📄 [00-intro-to-llms](./02-llms/00-intro-to-llms/index.html)\n",
        "        -   📗\n",
        "            [01-hands-on-llms](./02-llms/01-hands-on-llms/index.ipynb)\n",
        "        -   📄\n",
        "            [02-prompt-engineering](./02-llms/02-prompt-engineering/index.html)\n",
        "        -   📗\n",
        "            [06-parallel-training](./02-llms/06-parallel-training/index.html)\n",
        "        -   📗\n",
        "            [07-shakespeare-example](./02-llms/07-shakespeare-example/index.html)\n",
        "        -   📗\n",
        "            [08-shakespeare-example-colab](./02-llms/08-shakespeare-example-colab/index.html)\n",
        "    -   📂 [03-ai-for-science/](./03-ai-for-science/index.html)"
      ],
      "id": "f5f6241a-da72-4c2b-8a22-b80bc34d7de6"
    }
  ],
  "nbformat": 4,
  "nbformat_minor": 5,
  "metadata": {
    "kernelspec": {
      "display_name": "Python 3",
      "language": "python",
      "name": "python3"
    }
  }
}