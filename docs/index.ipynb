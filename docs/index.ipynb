{
  "cells": [
    {
      "cell_type": "markdown",
      "metadata": {},
      "source": [
        "# Intro to HPC Bootcamp 2025\n",
        "\n",
        "[Sam Foreman](https://samforeman.me)\n",
        "(\\[[ALCF](https://alcf.anl.gov/about/people/sam-foreman)\\](<https://alcf.anl.gov/about/people/sam-foreman>))  \n",
        "2025-07-15\n",
        "\n",
        "## 🐣 Getting Started\n",
        "\n",
        "1.  Clone the repo:\n",
        "\n",
        "    ``` bash\n",
        "    git clone https://github.com/saforem2/intro-hpc-bootcamp-2025\n",
        "    cd intro-hpc-bootcamp-2025\n",
        "    ```\n",
        "\n",
        "## 📂 Project Contents\n",
        "\n",
        "-   🏡 [Intro to {AI, HPC} for Science/](./)\n",
        "\n",
        "    -   📂 [**\\[00\\] Intro to AI and HPC**/](00-intro-AI-HPC/)\n",
        "        -   📄 [\\[0\\] Compute\n",
        "            systems](./00-intro-AI-HPC/0-compute-systems/)\n",
        "        -   📄 [\\[1\\]\n",
        "            Shared-resources](./00-intro-AI-HPC/1-shared-resources/)\n",
        "        -   📄 [\\[2\\] Jupyter\n",
        "            Notebooks](./00-intro-AI-HPC/2-jupyter-notebooks/)\n",
        "        -   📄 [\\[3\\] Using Python](./00-intro-AI-HPC/3-python/)\n",
        "        -   📄 [\\[4\\] Working with Data](./00-intro-AI-HPC/4-data/)\n",
        "        -   📗 [\\[5\\] MCMC Example](./00-intro-AI-HPC/5-mcmc-example/)\n",
        "        -   📗 [\\[6\\] Linear\n",
        "            Regression](./00-intro-AI-HPC/6-linear-regression/)\n",
        "        -   📗 [\\[7\\] Statistical\n",
        "            Learning](./00-intro-AI-HPC/7-statistical-learning/)\n",
        "        -   📗 [\\[8\\] Clustering](./00-intro-AI-HPC/8-clustering/)\n",
        "    -   📂 [**\\[01\\] Neural Networks/**](./01-neural-networks/)\n",
        "        -   📄 [\\[0\\] Intro](./01-neural-networks/0-intro/)\n",
        "        -   📗 [\\[1\\] MNIST](./01-neural-networks/1-mnist/)\n",
        "        -   📗 [\\[1\\] MNIST\n",
        "            (ipynb)](./01-neural-networks/1-mnist-ipynb/)\n",
        "        -   📗 [\\[2\\] Advanced](./01-neural-networks/2-advanced/)\n",
        "        -   📗 [\\[3\\] Conv. Nets](./01-neural-networks/3-conv-nets/)\n",
        "        -   📗 [\\[4\\] Representation\n",
        "            Learning](./01-neural-networks/4-representation-learning/)\n",
        "        -   📄 [\\[5\\] Distributed\n",
        "            Training](./01-neural-networks/5-distributed-training/)\n",
        "    -   📂 [**\\[02\\] Large Language Models**](./02-llms/)\n",
        "        -   📗 [\\[00\\] Intro to LLMs](./02-llms/00-intro-to-llms/)\n",
        "        -   📗 [\\[01\\] Hands-on LLMs](./02-llms/01-hands-on-llms/)\n",
        "        -   📄 [\\[02\\] Prompt\n",
        "            Engineering](./02-llms/02-prompt-engineering/)\n",
        "        -   📗 [\\[06\\] Parallel\n",
        "            Training](./02-llms/06-parallel-training/)\n",
        "        -   📗 [\\[07\\] Shakespeare\n",
        "            Example](./02-llms/07-shakespeare-example/)\n",
        "        -   📗 [\\[08\\] Shakespeare Example\n",
        "            (colab)](./02-llms/08-shakespeare-example-colab/)\n",
        "\n",
        "``` python\n",
        "import datetime\n",
        "from rich import print\n",
        "now = datetime.datetime.now()\n",
        "print(' '.join([ \"[#838383]Last Updated[/]:\", f\"[#E599F7]{now.strftime(\"%Y-%m-%d\")}[/]\", \"[#838383]@[/]\", f\"[#00CCFF]{now.strftime(\"%H:%M:%S\")}[/]\", ]))\n",
        "```"
      ],
      "id": "ae9e6aaa-626d-4a84-b776-c1dd66612e2c"
    },
    {
      "cell_type": "raw",
      "metadata": {
        "raw_mimetype": "text/html"
      },
      "source": [
        "<pre style=\"white-space:pre;overflow-x:auto;line-height:normal;font-family:Menlo,'DejaVu Sans Mono',consolas,'Courier New',monospace\"><span style=\"color: #838383; text-decoration-color: #838383\">Last Updated</span>: <span style=\"color: #e599f7; text-decoration-color: #e599f7; font-weight: bold\">2025</span><span style=\"color: #e599f7; text-decoration-color: #e599f7\">-</span><span style=\"color: #e599f7; text-decoration-color: #e599f7; font-weight: bold\">08</span><span style=\"color: #e599f7; text-decoration-color: #e599f7\">-</span><span style=\"color: #e599f7; text-decoration-color: #e599f7; font-weight: bold\">12</span> <span style=\"color: #838383; text-decoration-color: #838383\">@</span> <span style=\"color: #00ccff; text-decoration-color: #00ccff; font-weight: bold\">16:53:50</span>\n",
        "</pre>"
      ],
      "id": "f33e32e8-6184-45b7-a06f-0058e06a89e8"
    }
  ],
  "nbformat": 4,
  "nbformat_minor": 5,
  "metadata": {
    "kernelspec": {
      "name": "python3",
      "display_name": "Python 3 (ipykernel)",
      "language": "python",
      "path": "/Users/samforeman/projects/saforem2/intro-hpc-bootcamp-2025/.venv/share/jupyter/kernels/python3"
    }
  }
}