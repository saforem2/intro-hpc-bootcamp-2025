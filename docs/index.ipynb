{
  "cells": [
    {
      "cell_type": "markdown",
      "metadata": {},
      "source": [
        "# Intro to HPC Bootcamp 2025\n",
        "\n",
        "[Sam Foreman](https://samforeman.me)\n",
        "(\\[[ALCF](https://alcf.anl.gov/about/people/sam-foreman)\\](<https://alcf.anl.gov/about/people/sam-foreman>))  \n",
        "2025-07-15\n",
        "\n",
        "## Contents\n",
        "\n",
        "-   📂 [00-intro-AI-hpc/](./00-intro-AI-HPC/index.html)\n",
        "    -   📄\n",
        "        [0-compute-systems](./00-intro-AI-hpc/0-compute-systems/index.html)\n",
        "    -   📄 [1-shared-resources](./00-intro-AI-HPC/1-shared-resources/)\n",
        "    -   📗\n",
        "        [2-jupyter-notebooks](./00-intro-AI-hpc/2-jupyter-notebooks/index.html)\n",
        "    -   📄 [3-homework](./00-intro-AI-hpc/3-homework/index.html)\n",
        "    -   📄 [4-nersc](./00-intro-AI-hpc/4-nersc/index.html)\n",
        "    -   📗 [5-mcmc-example](./00-intro-AI-hpc/5-mcmc-example/index.html)\n",
        "    -   📗\n",
        "        [6-linear-regression](./00-intro-AI-hpc/6-linear-regression/index.html)\n",
        "-   📂 [01-neural-networks/](./01-neural-networks/index.html)\n",
        "    -   📄 [0-intro](./01-neural-networks/0-intro/index.html)\n",
        "    -   📗 [1-mnist](./01-neural-networks/1-mnist/index.html)\n",
        "    -   📄 [2-advanced](./01-neural-networks/2-advanced/index.html)\n",
        "    -   📗 [3-conv-nets](./01-neural-networks/3-conv-nets/index.html)\n",
        "    -   📗\n",
        "        [4-representation-learning](./01-neural-networks/4-representation-learning/index.html)\n",
        "-   📂 [02-llms/](./02-llms/index.html)\n",
        "    -   📄 [0-intro-to-llms](./02-llms/0-intro-to-llms/index.html)\n",
        "    -   📗 [1-hands-on-llms](./02-llms/1-hands-on-llms/index.html)\n",
        "    -   📄\n",
        "        [2-prompt-engineering](./02-llms/2-prompt-engineering/index.html)\n",
        "    -   📄 [3-rag-tutorial](./02-llms/3-rag-tutorial/index.html)\n",
        "    -   📄 [4-evaluating-llms](./02-llms/4-evaluating-llms/index.html)\n",
        "    -   📄 [5-advanced-llms](./02-llms/5-advanced-llms/index.html)\n",
        "    -   📗\n",
        "        [6-parallel-training](./02-llms/6-parallel-training/index.html)\n",
        "    -   📗\n",
        "        [7-shakespeare-example](./02-llms/7-shakespeare-example/index.html)\n",
        "    -   📗\n",
        "        [8-shakespeare-example-colab](./02-llms/8-shakespeare-example-colab/index.ipynb)\n",
        "-   📂 [03-ai-for-science/](./03-ai-for-science/index.html)"
      ],
      "id": "50d470b2-3f0a-47b3-b3f2-4c7a9e1d6735"
    }
  ],
  "nbformat": 4,
  "nbformat_minor": 5,
  "metadata": {
    "kernelspec": {
      "display_name": "Python 3",
      "language": "python",
      "name": "python3"
    }
  }
}