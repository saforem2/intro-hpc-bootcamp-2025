{
  "cells": [
    {
      "cell_type": "markdown",
      "metadata": {},
      "source": [
        "# Intro to HPC Bootcamp 2025\n",
        "\n",
        "[Sam Foreman](https://samforeman.me)\n",
        "(\\[[ALCF](https://alcf.anl.gov/about/people/sam-foreman)\\](<https://alcf.anl.gov/about/people/sam-foreman>))  \n",
        "2025-07-15\n",
        "\n",
        "## Contents\n",
        "\n",
        "-   🏡 [Intro to {AI, HPC} for Science](./)\n",
        "\n",
        "    -   📂 [\\[00\\] Intro to AI and HPC](00-intro-AI-HPC/)\n",
        "        -   📄 [\\[0\\] Compute\n",
        "            systems](./00-intro-AI-hpc/0-compute-systems/)\n",
        "        -   📄 [\\[1\\]\n",
        "            Shared-resources](./00-intro-AI-HPC/1-shared-resources/)\n",
        "        -   📗\n",
        "            [\\[2\\]-jupyter-notebooks](./00-intro-AI-hpc/2-jupyter-notebooks/)\n",
        "        -   📄 [\\[3\\]-homework](./00-intro-AI-hpc/3-homework/)\n",
        "        -   📄 [\\[4\\]-nersc](./00-intro-AI-hpc/4-nersc/)\n",
        "        -   📗 [\\[5\\]-mcmc-example](./00-intro-AI-hpc/5-mcmc-example/)\n",
        "        -   📗\n",
        "            [\\[6\\]-linear-regression](./00-intro-AI-hpc/6-linear-regression/)\n",
        "        -   📗\n",
        "            [\\[7\\]-statistical-learning](./00-intro-AI-hpc/7-statistical-learning/)\n",
        "    -   📂 [\\[01\\] Neural Networks/](./01-neural-networks/)\n",
        "        -   📄 [0-intro](./01-neural-networks/0-intro/)\n",
        "        -   📗 [1-mnist](./01-neural-networks/1-mnist/)\n",
        "        -   📄 [2-advanced](./01-neural-networks/2-advanced/)\n",
        "        -   📗 [3-conv-nets](./01-neural-networks/3-conv-nets/)\n",
        "        -   📗\n",
        "            [4-representation-learning](./01-neural-networks/4-representation-learning/)\n",
        "    -   📂 [02-llms/](./02-llms/)\n",
        "        -   📄 [00-intro-to-llms](./02-llms/00-intro-to-llms/)\n",
        "        -   📗 [01-hands-on-llms](./02-llms/01-hands-on-llms/)\n",
        "        -   📄 [02-prompt-engineering](./02-llms/02-prompt-engineering/)\n",
        "        -   📗 [06-parallel-training](./02-llms/06-parallel-training/)\n",
        "        -   📗\n",
        "            [07-shakespeare-example](./02-llms/07-shakespeare-example/)\n",
        "        -   📗\n",
        "            [08-shakespeare-example-colab](./02-llms/08-shakespeare-example-colab/)\n",
        "    -   📂 [03-ai-for-science/](./03-ai-for-science/index.html)"
      ],
      "id": "1844afe9-6695-425c-9eb6-f6fe62a69710"
    }
  ],
  "nbformat": 4,
  "nbformat_minor": 5,
  "metadata": {
    "kernelspec": {
      "display_name": "Python 3",
      "language": "python",
      "name": "python3"
    }
  }
}